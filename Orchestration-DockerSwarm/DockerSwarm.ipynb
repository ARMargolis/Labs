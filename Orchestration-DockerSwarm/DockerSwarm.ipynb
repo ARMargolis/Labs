{
 "cells": [
  {
   "cell_type": "markdown",
   "metadata": {},
   "source": [
    "# Docker \"Swarm Mode\" Lab\n",
    "\n",
    "Based on Mario's gist here: https://gist.github.com/l0rd/5186cc80f8f26dc7e9490abca4405830"
   ]
  },
  {
   "cell_type": "markdown",
   "metadata": {},
   "source": [
    "# Requirements\n",
    "- Docker 1.12\n",
    "- Docker machine\n",
    "- Virtualbox\n",
    "\n",
    "# Create 3 nodes for your swarm cluster (one master and 2 slaves)\n",
    "\n",
    "We will create 3 nodes using docker-machine/virtualbox.\n",
    "\n",
    "#### NOTE:\n",
    "You may see errors as below, and an error reported by \"docker-machine ls\", leave some time for the swmaster1 to settle.\n",
    "\n",
    "In the meantime you can go ahead and create the 2 swnode's below."
   ]
  },
  {
   "cell_type": "code",
   "execution_count": 1,
   "metadata": {},
   "outputs": [
    {
     "name": "stdout",
     "output_type": "stream",
     "text": [
      "Notebook started at Wed May 17 18:59:05 CEST 2017   [1495040345]\n"
     ]
    }
   ],
   "source": [
    "MACHINE_DRIVER=virtualbox\n",
    "\n",
    "CLEANUP_VMS=1\n",
    "CLEANUP_VMS=0\n",
    "CLEANUP_VMS=1\n",
    "\n",
    ". ../NB_bash_functions.rc"
   ]
  },
  {
   "cell_type": "code",
   "execution_count": 2,
   "metadata": {},
   "outputs": [
    {
     "name": "stdout",
     "output_type": "stream",
     "text": [
      "Setting up alias/DOCKER_HOST for 17.05.0-ce [/home/mjb/DOCKER/docker-17.05.0-ce]\n"
     ]
    }
   ],
   "source": [
    "# Specific to my environment\n",
    "\n",
    "[ -f ~/.docker.rc ] && . ~/.docker.rc\n",
    "\n",
    "NB_continue"
   ]
  },
  {
   "cell_type": "code",
   "execution_count": 3,
   "metadata": {
    "collapsed": true
   },
   "outputs": [],
   "source": [
    "MACHINE_DRIVER=virtualbox\n",
    "\n",
    "#MACHINE_DRIVER=digitalocean\n",
    "#MACHINE_DRIVER=azure\n",
    "#MACHINE_DRIVER=google"
   ]
  },
  {
   "cell_type": "markdown",
   "metadata": {},
   "source": [
    "Let's cleanup any remaining machines, if they exist already .."
   ]
  },
  {
   "cell_type": "code",
   "execution_count": 4,
   "metadata": {},
   "outputs": [
    {
     "name": "stdout",
     "output_type": "stream",
     "text": [
      "\"\u001b[01;31m\u001b[Ksw\u001b[m\u001b[Kmaster1\" {ed891883-3fbf-4dd1-baee-338ec2582e66}\n",
      "\"\u001b[01;31m\u001b[Ksw\u001b[m\u001b[Knode1\" {a4174991-dea8-4444-bf75-03f763512558}\n",
      "\"\u001b[01;31m\u001b[Ksw\u001b[m\u001b[Knode2\" {1d030aec-82a5-4480-ae29-ab331501bdd0}\n",
      "\n",
      "NAME        ACTIVE   DRIVER       STATE     URL                         SWARM   DOCKER        ERRORS\n",
      "swmaster1   -        virtualbox   Running   tcp://192.168.99.100:2376           v17.05.0-ce   \n",
      "swnode1     -        virtualbox   Running   tcp://192.168.99.102:2376           v17.05.0-ce   \n",
      "swnode2     -        virtualbox   Running   tcp://192.168.99.103:2376           v17.05.0-ce   \n"
     ]
    }
   ],
   "source": [
    "VBoxManage list runningvms | grep sw\n",
    "\n",
    "echo\n",
    "docker-machine ls"
   ]
  },
  {
   "cell_type": "code",
   "execution_count": 5,
   "metadata": {},
   "outputs": [
    {
     "name": "stdout",
     "output_type": "stream",
     "text": [
      "swmaster1: virtualbox\n",
      "swnode1: virtualbox\n",
      "swnode2: virtualbox\n"
     ]
    }
   ],
   "source": [
    "docker-machine ls --filter name=sw --format \"{{.Name}}: {{.DriverName}}\""
   ]
  },
  {
   "cell_type": "code",
   "execution_count": 6,
   "metadata": {},
   "outputs": [
    {
     "name": "stdout",
     "output_type": "stream",
     "text": [
      "docker-machine rm -f swmaster1 swnode1 swnode2\n",
      "About to remove swmaster1, swnode1, swnode2\n",
      "WARNING: This action will delete both local reference and remote instance.\n",
      "Successfully removed swmaster1\n",
      "Successfully removed swnode1\n",
      "Successfully removed swnode2\n"
     ]
    }
   ],
   "source": [
    "[ $CLEANUP_VMS -ne 0 ] && NB_cleanup_swarm_machines\n",
    "\n",
    "NB_continue"
   ]
  },
  {
   "cell_type": "code",
   "execution_count": 7,
   "metadata": {},
   "outputs": [
    {
     "name": "stdout",
     "output_type": "stream",
     "text": [
      "\n",
      "NAME   ACTIVE   DRIVER   STATE   URL   SWARM   DOCKER   ERRORS\n"
     ]
    }
   ],
   "source": [
    "[ $CLEANUP_VMS -ne 0 ] &&  {\n",
    "    VBoxManage list runningvms | grep sw\n",
    "\n",
    "    echo\n",
    "    docker-machine ls\n",
    "}\n",
    "\n",
    "NB_continue"
   ]
  },
  {
   "cell_type": "markdown",
   "metadata": {},
   "source": [
    "Now let's create our new nodes\n",
    "\n",
    "**NOTE:** You may see some worrying messages from \"*docker-machine ls*\" but wait a minute or two until the node creation is complete"
   ]
  },
  {
   "cell_type": "code",
   "execution_count": 8,
   "metadata": {},
   "outputs": [
    {
     "name": "stdout",
     "output_type": "stream",
     "text": [
      "Running command <docker-machine create -d virtualbox swmaster1> ...\n",
      "Running pre-create checks...\n",
      "Creating machine...\n",
      "(swmaster1) Copying /home/mjb/.docker/machine/cache/boot2docker.iso to /home/mjb/.docker/machine/machines/swmaster1/boot2docker.iso...\n",
      "(swmaster1) Creating VirtualBox VM...\n",
      "(swmaster1) Creating SSH key...\n",
      "(swmaster1) Starting the VM...\n",
      "(swmaster1) Check network to re-create if needed...\n",
      "(swmaster1) Waiting for an IP...\n",
      "Waiting for machine to be running, this may take a few minutes...\n",
      "Detecting operating system of created instance...\n",
      "Waiting for SSH to be available...\n",
      "Detecting the provisioner...\n",
      "Provisioning with boot2docker...\n",
      "Copying certs to the local machine directory...\n",
      "Copying certs to the remote machine...\n",
      "Setting Docker configuration on the remote daemon...\n",
      "Checking connection to Docker...\n",
      "Docker is up and running!\n",
      "To see how to connect your Docker Client to the Docker Engine running on this virtual machine, run: docker-machine env swmaster1\n",
      "Took 67 secs [0h01m07]\n"
     ]
    }
   ],
   "source": [
    "NB_create_swarm_machine_m1"
   ]
  },
  {
   "cell_type": "markdown",
   "metadata": {},
   "source": [
    "#### NOTE: Temporary errors from \"*docker-machine ls*\"\n",
    "\n",
    "From the command-line you can see the progress of machine creation, using\n",
    "    ```$ docker-machine ls```\n",
    "    \n",
    "You may see errors during creation of machines before ssh connectivity is established and before docker host is started.\n",
    "\n",
    "![](images/docker-machine-errors.png)\n",
    "\n",
    "After creation of a node you should see something like the following from \"*docker-machine ls*\""
   ]
  },
  {
   "cell_type": "code",
   "execution_count": 9,
   "metadata": {},
   "outputs": [
    {
     "name": "stdout",
     "output_type": "stream",
     "text": [
      "NAME        ACTIVE   DRIVER       STATE     URL                         SWARM   DOCKER        ERRORS\n",
      "swmaster1   -        virtualbox   Running   tcp://192.168.99.104:2376           v17.05.0-ce   \n"
     ]
    }
   ],
   "source": [
    "docker-machine ls"
   ]
  },
  {
   "cell_type": "markdown",
   "metadata": {},
   "source": [
    "We can also see the VM from virtualbox point of view (if this is the driver we are using):"
   ]
  },
  {
   "cell_type": "code",
   "execution_count": 10,
   "metadata": {},
   "outputs": [
    {
     "name": "stdout",
     "output_type": "stream",
     "text": [
      "\"\u001b[01;31m\u001b[Ksw\u001b[m\u001b[Kmaster1\" {5f5ccbad-f087-4955-8c67-42693ae0d742}\n"
     ]
    }
   ],
   "source": [
    "VBoxManage list runningvms | grep sw"
   ]
  },
  {
   "cell_type": "code",
   "execution_count": 11,
   "metadata": {},
   "outputs": [
    {
     "name": "stdout",
     "output_type": "stream",
     "text": [
      "Running command <docker-machine create -d virtualbox swnode1> ...\n",
      "Running pre-create checks...\n",
      "Creating machine...\n",
      "(swnode1) Copying /home/mjb/.docker/machine/cache/boot2docker.iso to /home/mjb/.docker/machine/machines/swnode1/boot2docker.iso...\n",
      "(swnode1) Creating VirtualBox VM...\n",
      "(swnode1) Creating SSH key...\n",
      "(swnode1) Starting the VM...\n",
      "(swnode1) Check network to re-create if needed...\n",
      "(swnode1) Waiting for an IP...\n",
      "Waiting for machine to be running, this may take a few minutes...\n",
      "Detecting operating system of created instance...\n",
      "Waiting for SSH to be available...\n",
      "Detecting the provisioner...\n",
      "Provisioning with boot2docker...\n",
      "Copying certs to the local machine directory...\n",
      "Copying certs to the remote machine...\n",
      "Setting Docker configuration on the remote daemon...\n",
      "Checking connection to Docker...\n",
      "Docker is up and running!\n",
      "To see how to connect your Docker Client to the Docker Engine running on this virtual machine, run: docker-machine env swnode1\n",
      "Took 65 secs [0h01m05]\n"
     ]
    }
   ],
   "source": [
    "NB_create_swarm_machine_1"
   ]
  },
  {
   "cell_type": "code",
   "execution_count": 12,
   "metadata": {},
   "outputs": [
    {
     "name": "stdout",
     "output_type": "stream",
     "text": [
      "\"\u001b[01;31m\u001b[Ksw\u001b[m\u001b[Kmaster1\" {5f5ccbad-f087-4955-8c67-42693ae0d742}\n",
      "\"\u001b[01;31m\u001b[Ksw\u001b[m\u001b[Knode1\" {c149f283-ee67-48c6-a768-1be8ee7726ab}\n",
      "\n",
      "NAME        ACTIVE   DRIVER       STATE     URL                         SWARM   DOCKER        ERRORS\n",
      "swmaster1   -        virtualbox   Running   tcp://192.168.99.104:2376           v17.05.0-ce   \n",
      "swnode1     -        virtualbox   Running   tcp://192.168.99.105:2376           v17.05.0-ce   \n"
     ]
    }
   ],
   "source": [
    "VBoxManage list runningvms | grep sw\n",
    "\n",
    "echo\n",
    "docker-machine ls"
   ]
  },
  {
   "cell_type": "code",
   "execution_count": 13,
   "metadata": {},
   "outputs": [
    {
     "name": "stdout",
     "output_type": "stream",
     "text": [
      "Running command <docker-machine create -d virtualbox swnode2> ...\n",
      "Running pre-create checks...\n",
      "Creating machine...\n",
      "(swnode2) Unable to get the latest Boot2Docker ISO release version:  failure getting a version tag from the Github API response (are you getting rate limited by Github?)\n",
      "(swnode2) Copying /home/mjb/.docker/machine/cache/boot2docker.iso to /home/mjb/.docker/machine/machines/swnode2/boot2docker.iso...\n",
      "(swnode2) Creating VirtualBox VM...\n",
      "(swnode2) Creating SSH key...\n",
      "(swnode2) Starting the VM...\n",
      "(swnode2) Check network to re-create if needed...\n",
      "(swnode2) Waiting for an IP...\n",
      "Waiting for machine to be running, this may take a few minutes...\n",
      "Detecting operating system of created instance...\n",
      "Waiting for SSH to be available...\n",
      "Detecting the provisioner...\n",
      "Provisioning with boot2docker...\n",
      "Copying certs to the local machine directory...\n",
      "Copying certs to the remote machine...\n",
      "Setting Docker configuration on the remote daemon...\n",
      "Checking connection to Docker...\n",
      "Docker is up and running!\n",
      "To see how to connect your Docker Client to the Docker Engine running on this virtual machine, run: docker-machine env swnode2\n",
      "Took 67 secs [0h01m07]\n"
     ]
    }
   ],
   "source": [
    "NB_create_swarm_machine_2"
   ]
  },
  {
   "cell_type": "code",
   "execution_count": 14,
   "metadata": {},
   "outputs": [
    {
     "name": "stdout",
     "output_type": "stream",
     "text": [
      "\"\u001b[01;31m\u001b[Ksw\u001b[m\u001b[Kmaster1\" {5f5ccbad-f087-4955-8c67-42693ae0d742}\n",
      "\"\u001b[01;31m\u001b[Ksw\u001b[m\u001b[Knode1\" {c149f283-ee67-48c6-a768-1be8ee7726ab}\n",
      "\"\u001b[01;31m\u001b[Ksw\u001b[m\u001b[Knode2\" {35978041-1d3a-46ec-941e-8a9bbf4241c5}\n",
      "\n",
      "NAME        ACTIVE   DRIVER       STATE     URL                         SWARM   DOCKER        ERRORS\n",
      "swmaster1   -        virtualbox   Running   tcp://192.168.99.104:2376           v17.05.0-ce   \n",
      "swnode1     -        virtualbox   Running   tcp://192.168.99.105:2376           v17.05.0-ce   \n",
      "swnode2     -        virtualbox   Running   tcp://192.168.99.106:2376           v17.05.0-ce   \n"
     ]
    }
   ],
   "source": [
    "VBoxManage list runningvms | grep sw\n",
    "\n",
    "echo\n",
    "docker-machine ls"
   ]
  },
  {
   "cell_type": "code",
   "execution_count": 15,
   "metadata": {
    "collapsed": true
   },
   "outputs": [],
   "source": [
    "NB_check_3_machines_running"
   ]
  },
  {
   "cell_type": "markdown",
   "metadata": {},
   "source": [
    "# swarm init\n",
    "\n",
    "Now that we have 3 nodes available, we will initialize our Swarm Cluster with 1 master node.\n",
    "\n",
    "### Directing the docker client to a particular nodes' docker daemon\n",
    "**NOTE**: See that we precede all docker commands with $(docker-machine config NODE) where node is the name of the node to which we want our docker client to connect to.  This command returns the parameters to direct our client to the appropriate node.  Run alone this produces:"
   ]
  },
  {
   "cell_type": "code",
   "execution_count": 16,
   "metadata": {},
   "outputs": [
    {
     "name": "stdout",
     "output_type": "stream",
     "text": [
      "--tlsverify\n",
      "--tlscacert=\"/home/mjb/.docker/machine/machines/swmaster1/ca.pem\"\n",
      "--tlscert=\"/home/mjb/.docker/machine/machines/swmaster1/cert.pem\"\n",
      "--tlskey=\"/home/mjb/.docker/machine/machines/swmaster1/key.pem\"\n",
      "-H=tcp://192.168.99.104:2376\n"
     ]
    }
   ],
   "source": [
    "docker-machine config swmaster1"
   ]
  },
  {
   "cell_type": "markdown",
   "metadata": {},
   "source": [
    "We can also obtain these values as environment variables"
   ]
  },
  {
   "cell_type": "code",
   "execution_count": 17,
   "metadata": {},
   "outputs": [
    {
     "name": "stdout",
     "output_type": "stream",
     "text": [
      "export DOCKER_TLS_VERIFY=\"1\"\n",
      "export DOCKER_HOST=\"tcp://192.168.99.104:2376\"\n",
      "export DOCKER_CERT_PATH=\"/home/mjb/.docker/machine/machines/swmaster1\"\n",
      "export DOCKER_MACHINE_NAME=\"swmaster1\"\n",
      "# Run this command to configure your shell: \n",
      "# eval $(docker-machine env swmaster1)\n"
     ]
    }
   ],
   "source": [
    "docker-machine env swmaster1"
   ]
  },
  {
   "cell_type": "markdown",
   "metadata": {},
   "source": [
    "Including these parameters on the docker command line will connect the client to the docker daemon running on node '*swmaster1*'.\n",
    "\n",
    "### Networks before creation of swarm cluster\n",
    "Before going further let's look at the networks on your machine.\n",
    "\n",
    "Later, we'll see how a new network is created once the swarm cluster has been created."
   ]
  },
  {
   "cell_type": "code",
   "execution_count": 18,
   "metadata": {},
   "outputs": [
    {
     "name": "stdout",
     "output_type": "stream",
     "text": [
      "NETWORK ID          NAME                DRIVER              SCOPE\n",
      "acfce2527ff4        bridge              bridge              local\n",
      "ef8503682cac        host                host                local\n",
      "a28f2f5dee71        none                null                local\n"
     ]
    }
   ],
   "source": [
    "docker $(docker-machine config swmaster1) network ls"
   ]
  },
  {
   "cell_type": "markdown",
   "metadata": {},
   "source": [
    "Now let's identify the ip address of our master node.\n",
    "\n",
    "We can see this through config or ip commands of docker-machine as shown below."
   ]
  },
  {
   "cell_type": "code",
   "execution_count": 19,
   "metadata": {},
   "outputs": [
    {
     "name": "stdout",
     "output_type": "stream",
     "text": [
      "192.168.99.104\n"
     ]
    }
   ],
   "source": [
    "docker-machine ip swmaster1"
   ]
  },
  {
   "cell_type": "markdown",
   "metadata": {},
   "source": [
    "We could then provide the above ip address as parameter to --advertise-addr when initializing the swarm.\n",
    "\n",
    "However, it is quite convenient to run the above commands embedded, as below, as arguments to the swarm init command.\n",
    "\n",
    "docker-machine config swmaster1 provides the parameters to use when connecting to the appropriate docker engine for our machine \"swmaster1\".\n",
    "\n",
    "The following command will run swarm init to generate the cluster with 'swmaster1' as the Master node.\n",
    "You should see output similar to the below:"
   ]
  },
  {
   "cell_type": "code",
   "execution_count": 20,
   "metadata": {},
   "outputs": [
    {
     "name": "stdout",
     "output_type": "stream",
     "text": [
      "\u001b[01;31m\u001b[KSwarm\u001b[m\u001b[K: inactive\n"
     ]
    }
   ],
   "source": [
    "docker $(docker-machine config swmaster1) info | grep Swarm"
   ]
  },
  {
   "cell_type": "code",
   "execution_count": 21,
   "metadata": {},
   "outputs": [
    {
     "name": "stdout",
     "output_type": "stream",
     "text": [
      "alias docker='/home/mjb/DOCKER/docker-17.05.0-ce/docker'\n",
      "\t~/DOCKER/docker-17.05.0-ce/docker\n"
     ]
    }
   ],
   "source": [
    "which docker"
   ]
  },
  {
   "cell_type": "code",
   "execution_count": 22,
   "metadata": {},
   "outputs": [
    {
     "name": "stdout",
     "output_type": "stream",
     "text": [
      "Swarm initialized: current node (auzbedso37ndv6his2gimxopa) is now a manager.\n",
      "\n",
      "To add a worker to this swarm, run the following command:\n",
      "\n",
      "    docker swarm join \\\n",
      "    --token SWMTKN-1-01i03ariiut6svfmnscg4y8br43hss2sc8of2aavmku8j03opd-5rqu1004on1ypwdpm35f44k86 \\\n",
      "    192.168.99.104:2377\n",
      "\n",
      "To add a manager to this swarm, run 'docker swarm join-token manager' and follow the instructions.\n",
      "\n"
     ]
    }
   ],
   "source": [
    "docker $(docker-machine config swmaster1) swarm init --advertise-addr $(docker-machine ip swmaster1)"
   ]
  },
  {
   "cell_type": "markdown",
   "metadata": {},
   "source": [
    "A docker info should now show \"Swarm: active\" as below:"
   ]
  },
  {
   "cell_type": "code",
   "execution_count": 23,
   "metadata": {},
   "outputs": [
    {
     "name": "stdout",
     "output_type": "stream",
     "text": [
      "\u001b[01;31m\u001b[KSwarm:\u001b[m\u001b[K active\n"
     ]
    }
   ],
   "source": [
    "docker $(docker-machine config swmaster1) info | grep Swarm:"
   ]
  },
  {
   "cell_type": "code",
   "execution_count": 24,
   "metadata": {},
   "outputs": [
    {
     "name": "stdout",
     "output_type": "stream",
     "text": [
      "Containers: 0\n",
      " Running: 0\n",
      " Paused: 0\n",
      " Stopped: 0\n",
      "Images: 0\n",
      "Server Version: 17.05.0-ce\n",
      "Storage Driver: aufs\n",
      " Root Dir: /mnt/sda1/var/lib/docker/aufs\n",
      " Backing Filesystem: extfs\n",
      " Dirs: 0\n",
      " Dirperm1 Supported: true\n",
      "Logging Driver: json-file\n",
      "Cgroup Driver: cgroupfs\n",
      "Plugins: \n",
      " Volume: local\n",
      " Network: bridge host macvlan null overlay\n",
      "Swarm: active\n",
      " NodeID: auzbedso37ndv6his2gimxopa\n",
      " Is Manager: true\n",
      " ClusterID: rp5myydtvpe3w78fexzhml046\n",
      " Managers: 1\n",
      " Nodes: 1\n",
      " Orchestration:\n",
      "  Task History Retention Limit: 5\n",
      " Raft:\n",
      "  Snapshot Interval: 10000\n",
      "  Number of Old Snapshots to Retain: 0\n",
      "  Heartbeat Tick: 1\n",
      "  Election Tick: 3\n",
      " Dispatcher:\n",
      "  Heartbeat Period: 5 seconds\n",
      " CA Configuration:\n",
      "  Expiry Duration: 3 months\n",
      " Node Address: 192.168.99.104\n",
      " Manager Addresses:\n",
      "  192.168.99.104:2377\n",
      "Runtimes: runc\n",
      "Default Runtime: runc\n",
      "Init Binary: docker-init\n",
      "containerd version: 9048e5e50717ea4497b757314bad98ea3763c145\n",
      "runc version: 9c2d8d184e5da67c95d601382adf14862e4f2228\n",
      "init version: 949e6fa\n",
      "Security Options:\n",
      " seccomp\n",
      "  Profile: default\n",
      "Kernel Version: 4.4.66-boot2docker\n",
      "Operating System: Boot2Docker 17.05.0-ce (TCL 7.2); HEAD : 5ed2840 - Fri May  5 21:04:09 UTC 2017\n",
      "OSType: linux\n",
      "Architecture: x86_64\n",
      "CPUs: 1\n",
      "Total Memory: 995.8MiB\n",
      "Name: swmaster1\n",
      "ID: H726:SGJL:3TH3:CK2C:N7Q5:OCJJ:U3UR:OMTA:BQKK:Z52U:QJSV:JH5G\n",
      "Docker Root Dir: /mnt/sda1/var/lib/docker\n",
      "Debug Mode (client): false\n",
      "Debug Mode (server): true\n",
      " File Descriptors: 32\n",
      " Goroutines: 126\n",
      " System Time: 2017-05-17T17:02:41.901878645Z\n",
      " EventsListeners: 0\n",
      "Username: mjbright\n",
      "Registry: https://index.docker.io/v1/\n",
      "Labels:\n",
      " provider=virtualbox\n",
      "Experimental: false\n",
      "Insecure Registries:\n",
      " 127.0.0.0/8\n",
      "Live Restore Enabled: false\n",
      "\n"
     ]
    }
   ],
   "source": [
    "docker $(docker-machine config swmaster1) info"
   ]
  },
  {
   "cell_type": "markdown",
   "metadata": {},
   "source": [
    "If we look at the networks we should now see new networks such as '*ingress*' an overlay network and docker_gwbridge for the swarm cluster."
   ]
  },
  {
   "cell_type": "code",
   "execution_count": 25,
   "metadata": {},
   "outputs": [
    {
     "name": "stdout",
     "output_type": "stream",
     "text": [
      "NETWORK ID          NAME                DRIVER              SCOPE\n",
      "acfce2527ff4        bridge              bridge              local\n",
      "d613031008ea        docker_gwbridge     bridge              local\n",
      "ef8503682cac        host                host                local\n",
      "1a8ek2xs6bhv        ingress             overlay             swarm\n",
      "a28f2f5dee71        none                null                local\n"
     ]
    }
   ],
   "source": [
    "docker $(docker-machine config swmaster1) network ls"
   ]
  },
  {
   "cell_type": "markdown",
   "metadata": {},
   "source": [
    "# swarm join\n",
    "\n",
    "Now we wish to join Master and Worker nodes to our swarm cluster, to do this we need to obtain the token generated during the \"swarm init\".\n",
    "\n",
    "Let's save that token to an environment variable as follows:"
   ]
  },
  {
   "cell_type": "code",
   "execution_count": 26,
   "metadata": {
    "collapsed": true
   },
   "outputs": [],
   "source": [
    "worker_token=$(docker $(docker-machine config swmaster1) swarm join-token worker -q)"
   ]
  },
  {
   "cell_type": "code",
   "execution_count": 27,
   "metadata": {},
   "outputs": [
    {
     "name": "stdout",
     "output_type": "stream",
     "text": [
      "SWMTKN-1-01i03ariiut6svfmnscg4y8br43hss2sc8of2aavmku8j03opd-5rqu1004on1ypwdpm35f44k86\n"
     ]
    }
   ],
   "source": [
    "echo $worker_token"
   ]
  },
  {
   "cell_type": "markdown",
   "metadata": {},
   "source": [
    "Now we can use this token to join nodes as a worker to this cluster\n",
    "\n",
    "Note: we could also join nodes as Master, but we have only 3 nodes available.\n",
    "\n",
    "Let's join swnode1 as a worker node"
   ]
  },
  {
   "cell_type": "code",
   "execution_count": 28,
   "metadata": {},
   "outputs": [
    {
     "name": "stdout",
     "output_type": "stream",
     "text": [
      "This node joined a swarm as a worker.\n"
     ]
    }
   ],
   "source": [
    "docker $(docker-machine config swnode1) swarm join --token $worker_token $(docker-machine ip swmaster1):2377"
   ]
  },
  {
   "cell_type": "markdown",
   "metadata": {},
   "source": [
    "Now we can use the same token to join node swnode2 as a worker node\n"
   ]
  },
  {
   "cell_type": "code",
   "execution_count": 29,
   "metadata": {},
   "outputs": [
    {
     "name": "stdout",
     "output_type": "stream",
     "text": [
      "This node joined a swarm as a worker.\n"
     ]
    }
   ],
   "source": [
    "docker $(docker-machine config swnode2) swarm join --token $worker_token $(docker-machine ip swmaster1):2377"
   ]
  },
  {
   "cell_type": "code",
   "execution_count": 30,
   "metadata": {},
   "outputs": [
    {
     "name": "stdout",
     "output_type": "stream",
     "text": [
      "ID                            HOSTNAME            STATUS              AVAILABILITY        MANAGER STATUS\n",
      "63n56ml91pleofqteefs3lfyl     swnode2             Ready               Active              \n",
      "auzbedso37ndv6his2gimxopa *   swmaster1           Ready               Active              Leader\n",
      "elcdcst9ubchsrj1s3w9ig0i1     swnode1             Ready               Active              \n"
     ]
    }
   ],
   "source": [
    "docker $(docker-machine config swmaster1) node ls"
   ]
  },
  {
   "cell_type": "markdown",
   "metadata": {},
   "source": [
    "# start service\n",
    "\n",
    "First we check for any running services - there should be none in our newly initialized cluster:"
   ]
  },
  {
   "cell_type": "code",
   "execution_count": 31,
   "metadata": {},
   "outputs": [
    {
     "name": "stdout",
     "output_type": "stream",
     "text": [
      "ID                  NAME                MODE                REPLICAS            IMAGE               PORTS\n"
     ]
    }
   ],
   "source": [
    "docker $(docker-machine config swmaster1) service ls"
   ]
  },
  {
   "cell_type": "markdown",
   "metadata": {},
   "source": [
    "Now we will create a new service based on the docker image mjbright/docker-demo\n",
    "\n",
    "We will expose this service on port 8080\n"
   ]
  },
  {
   "cell_type": "code",
   "execution_count": 32,
   "metadata": {},
   "outputs": [
    {
     "name": "stdout",
     "output_type": "stream",
     "text": [
      "j6df1lpmiq5emi8fjlxec57zn\n",
      "Since --detach=false was not specified, tasks will be created in the background.\n",
      "In a future release, --detach=false will become the default.\n"
     ]
    }
   ],
   "source": [
    "docker $(docker-machine config swmaster1) service create --replicas 1 --name docker-demo -p 8080:8080 mjbright/docker-demo:20"
   ]
  },
  {
   "cell_type": "markdown",
   "metadata": {},
   "source": [
    "Now we list services again and we should see our newly added docker-demo service"
   ]
  },
  {
   "cell_type": "code",
   "execution_count": 33,
   "metadata": {},
   "outputs": [
    {
     "name": "stdout",
     "output_type": "stream",
     "text": [
      "ID                  NAME                MODE                REPLICAS            IMAGE                     PORTS\n",
      "j6df1lpmiq5e        docker-demo         replicated          0/1                 mjbright/docker-demo:20   *:8080->8080/tcp\n"
     ]
    }
   ],
   "source": [
    "docker $(docker-machine config swmaster1) service ls"
   ]
  },
  {
   "cell_type": "code",
   "execution_count": 34,
   "metadata": {},
   "outputs": [
    {
     "name": "stdout",
     "output_type": "stream",
     "text": [
      "ID                  NAME                MODE                REPLICAS            IMAGE                     PORTS\n",
      "j6df1lpmiq5e        docker-demo         replicated          0/1                 mjbright/docker-demo:20   *:8080->8080/tcp\n"
     ]
    }
   ],
   "source": [
    "docker $(docker-machine config swmaster1) service ls"
   ]
  },
  {
   "cell_type": "code",
   "execution_count": 35,
   "metadata": {},
   "outputs": [
    {
     "name": "stdout",
     "output_type": "stream",
     "text": [
      "... waiting for 'docker-demo' replicas to start\n",
      "j6df1lpmiq5e        \u001b[01;31m\u001b[Kdocker-demo\u001b[m\u001b[K         replicated          1/1                 mjbright/\u001b[01;31m\u001b[Kdocker-demo\u001b[m\u001b[K:20   *:8080->8080/tcp\n"
     ]
    }
   ],
   "source": [
    "NB_docker_loop_until_service_started docker-demo"
   ]
  },
  {
   "cell_type": "markdown",
   "metadata": {},
   "source": [
    "it may take a few seconds until the service has a running container (see REPLICAS column) especially if the container image has not yet been downloaded"
   ]
  },
  {
   "cell_type": "code",
   "execution_count": 36,
   "metadata": {},
   "outputs": [
    {
     "name": "stdout",
     "output_type": "stream",
     "text": [
      "ID                  NAME                MODE                REPLICAS            IMAGE                     PORTS\n",
      "j6df1lpmiq5e        docker-demo         replicated          1/1                 mjbright/docker-demo:20   *:8080->8080/tcp\n"
     ]
    }
   ],
   "source": [
    "docker $(docker-machine config swmaster1) service ls"
   ]
  },
  {
   "cell_type": "markdown",
   "metadata": {},
   "source": [
    "... and we can look at the service as seen by the cluster:"
   ]
  },
  {
   "cell_type": "code",
   "execution_count": 37,
   "metadata": {},
   "outputs": [
    {
     "name": "stdout",
     "output_type": "stream",
     "text": [
      "ID                  NAME                IMAGE                     NODE                DESIRED STATE       CURRENT STATE           ERROR               PORTS\n",
      "yqdbmwna39vb        docker-demo.1       mjbright/docker-demo:20   swmaster1           Running             Running 3 seconds ago                       \n"
     ]
    }
   ],
   "source": [
    "docker $(docker-machine config swmaster1) service ps docker-demo"
   ]
  },
  {
   "cell_type": "markdown",
   "metadata": {},
   "source": [
    "... and we can look at the service on the individual cluster nodes.\n",
    "\n",
    "Of course as we set replicas to 1 there is only 1 replica of the service for the moment, running on just 1 node of our cluster:"
   ]
  },
  {
   "cell_type": "code",
   "execution_count": 38,
   "metadata": {},
   "outputs": [
    {
     "name": "stdout",
     "output_type": "stream",
     "text": [
      "CONTAINER ID        IMAGE                     COMMAND                  CREATED             STATUS              PORTS               NAMES\n",
      "1c2b872891c1        mjbright/docker-demo:20   \"/bin/docker-demo ...\"   4 seconds ago       Up 4 seconds        8080/tcp            docker-demo.1.yqdbmwna39vb4j3rrhk9q853n\n"
     ]
    }
   ],
   "source": [
    "docker $(docker-machine config swmaster1) ps"
   ]
  },
  {
   "cell_type": "code",
   "execution_count": 39,
   "metadata": {},
   "outputs": [
    {
     "name": "stdout",
     "output_type": "stream",
     "text": [
      "CONTAINER ID        IMAGE               COMMAND             CREATED             STATUS              PORTS               NAMES\n"
     ]
    }
   ],
   "source": [
    "docker $(docker-machine config swnode1) ps"
   ]
  },
  {
   "cell_type": "code",
   "execution_count": 40,
   "metadata": {},
   "outputs": [
    {
     "name": "stdout",
     "output_type": "stream",
     "text": [
      "CONTAINER ID        IMAGE               COMMAND             CREATED             STATUS              PORTS               NAMES\n"
     ]
    }
   ],
   "source": [
    "docker $(docker-machine config swnode2) ps"
   ]
  },
  {
   "cell_type": "markdown",
   "metadata": {},
   "source": [
    "# Accessing the service\n",
    "\n",
    "As we are working remotely we need to create an ssh tunnel through to the swarm cluster to access our service, exposing the port 8080 on your local machine.\n",
    "\n",
    "We can obtain the ip address of the swarm master node as follows."
   ]
  },
  {
   "cell_type": "code",
   "execution_count": 41,
   "metadata": {},
   "outputs": [
    {
     "name": "stdout",
     "output_type": "stream",
     "text": [
      "192.168.99.104\n"
     ]
    }
   ],
   "source": [
    "docker-machine ip swmaster1"
   ]
  },
  {
   "cell_type": "markdown",
   "metadata": {},
   "source": [
    "Let's set an environment variable with that ip address"
   ]
  },
  {
   "cell_type": "code",
   "execution_count": 42,
   "metadata": {
    "collapsed": true
   },
   "outputs": [],
   "source": [
    "MASTERIP=$(docker-machine ip swmaster1)"
   ]
  },
  {
   "cell_type": "markdown",
   "metadata": {},
   "source": [
    "Then open your web browser at the page http://<MASTERIP>:8080 (replace <MASTERIP> with the appropriate value) and you should see a lovely blue whale, as below:\n",
    "\n",
    "![](images/docker.png)\n"
   ]
  },
  {
   "cell_type": "markdown",
   "metadata": {},
   "source": [
    "Alternatively we can connect using a command-line client (the web server detects if it's a wget or curl request and returns ASCII text instead of an image)."
   ]
  },
  {
   "cell_type": "code",
   "execution_count": 43,
   "metadata": {},
   "outputs": [
    {
     "name": "stdout",
     "output_type": "stream",
     "text": [
      "--2017-05-17 19:02:58--  http://192.168.99.104:8080/\n",
      "Connecting to 192.168.99.104:8080... connected.\n",
      "HTTP request sent, awaiting response... 200 OK\n",
      "Length: unspecified [text/txt]\n",
      "Saving to: ‘STDOUT’\n",
      "\n",
      "-                       [<=>                 ]       0  --.-KB/s               \n",
      "\n",
      "\u001b[1;36m\n",
      "                                                .---------.                                          \n",
      "                                               .///++++/:.                                          \n",
      "                                               .///+++//:.                                          \n",
      "                                               .///+++//:.                                          \n",
      "                             ``````````````````.:///////:.                       `                  \n",
      "                             .-///////:://+++//::///////-.                      .--.                \n",
      "                             .:::///:::///+++///:::///:::.                     .:ss+-`              \n",
      "                             .:::///:::///+++///:::///:::.                    `.ossss:.             \n",
      "                             .:///////:/+++oo++/:///////:.                    .-ssssss:.            \n",
      "                    .-:::::::--///////--:::::::--///////--:::::::-.           `-sssssso.........``  \n",
      "                    .::////:::://+++///:::///:::///+++//:/::////::.           `.+ssssss/++ooooo+/:.`\n",
      "                    .::////:::://+++///:::///:::///+++//:/::////::.            `.+sssooooooooooo/-` \n",
      "                    .::////:::://+++///:::///:::///+++//:/::////::.           ``.:osoooooooo+/:-.`  \n",
      "            ````````.-:::::::--///////--:::::::-:///////--:::::::-.``````...-:/+ssoo+:-----..``     \n",
      "            .-+++oooooooooooooooooooooooooooooooooooooooooooooooooooooooosssssssoooo-.              \n",
      "      `     .-ooossssssssssssssssssssssss+ssssssssssssssssossssssssssssssssssoooooo:.        `      \n",
      "    ``...```.-+++++/:--/+oosssssssoo++/:-.-:+oosssssso+/:..-:/+oossssssssoo+:--://-.`   ```...`     \n",
      " ````````````.-:::::::::::::::::::::::::::::::::::::::::::::::::::::::::::::::::-..```````````````  \n",
      "             .-////++++++++++++++++++++++++++++++++++++++++++++++++++//////////:.`                  \n",
      "             `.:////++++++++++++++++oss+++++++++++++++++++++++++++///////////:-.                    \n",
      "              `.:////++++++++++++++os.+h+++++++++++++++++++++++/////////////-.`                     \n",
      "               `.://///++++++++++//+soos+++++++++++++++++++///////////////-.`                       \n",
      "                `.--------:::://+o/+++++++++++++++++++/////////////////:-.`                         \n",
      "                  `-sdmmmmmmmNNNNNmo+++++++++++/////////////////////:-.``                           \n",
      "                    `-+hmmmmmmmmmmmms///////////////////////////::-.``                              \n",
      "                      ``-+ydmmmmmmmmmds////////////////////::--.``                                  \n",
      "                         ``.-/oshdmmmmmmho+////////::::--..```                                      \n",
      "                              ````..-:::///---.....````                                             \n",
      "\n",
      "\u001b[0m\n",
      "\n",
      "\u001b[1;33mServed from host 1c2b872891c1\u001b[0;0m\n",
      "-                       [ <=>                ]   2.82K  --.-KB/s    in 0s      \n",
      "\n",
      "2017-05-17 19:02:58 (32.8 MB/s) - written to stdout [2889]\n",
      "\n"
     ]
    }
   ],
   "source": [
    "wget -O - http://$MASTERIP:8080"
   ]
  },
  {
   "cell_type": "markdown",
   "metadata": {},
   "source": [
    "# scale service\n",
    "\n",
    "Now we can scale the service to 3 replicas:"
   ]
  },
  {
   "cell_type": "code",
   "execution_count": 44,
   "metadata": {},
   "outputs": [
    {
     "name": "stdout",
     "output_type": "stream",
     "text": [
      "docker-demo scaled to 3\n"
     ]
    }
   ],
   "source": [
    "docker $(docker-machine config swmaster1) service scale docker-demo=3"
   ]
  },
  {
   "cell_type": "code",
   "execution_count": 45,
   "metadata": {},
   "outputs": [
    {
     "name": "stdout",
     "output_type": "stream",
     "text": [
      "ID                  NAME                IMAGE                     NODE                DESIRED STATE       CURRENT STATE                      ERROR               PORTS\n",
      "yqdbmwna39vb        docker-demo.1       mjbright/docker-demo:20   swmaster1           Running             Running 7 seconds ago                                  \n",
      "iospcjmamp0i        docker-demo.2       mjbright/docker-demo:20   swnode2             Running             Preparing less than a second ago                       \n",
      "fu96643xoj4b        docker-demo.3       mjbright/docker-demo:20   swnode1             Running             Preparing less than a second ago                       \n"
     ]
    }
   ],
   "source": [
    "docker $(docker-machine config swmaster1) service ps docker-demo"
   ]
  },
  {
   "cell_type": "markdown",
   "metadata": {},
   "source": [
    "# rolling-update\n",
    "\n",
    "Now we will see how we can perform a rolling update.\n",
    "\n",
    "We initially deployed version 20 of the service, now we will upgrade our whole cluster to version 21\n"
   ]
  },
  {
   "cell_type": "code",
   "execution_count": 46,
   "metadata": {},
   "outputs": [
    {
     "name": "stdout",
     "output_type": "stream",
     "text": [
      "ID                  NAME                IMAGE                     NODE                DESIRED STATE       CURRENT STATE                      ERROR               PORTS\n",
      "yqdbmwna39vb        docker-demo.1       mjbright/docker-demo:20   swmaster1           Running             Running 7 seconds ago                                  \n",
      "iospcjmamp0i        docker-demo.2       mjbright/docker-demo:20   swnode2             Running             Preparing less than a second ago                       \n",
      "fu96643xoj4b        docker-demo.3       mjbright/docker-demo:20   swnode1             Running             Preparing less than a second ago                       \n"
     ]
    }
   ],
   "source": [
    "docker $(docker-machine config swmaster1) service ps docker-demo"
   ]
  },
  {
   "cell_type": "code",
   "execution_count": 47,
   "metadata": {},
   "outputs": [
    {
     "name": "stdout",
     "output_type": "stream",
     "text": [
      "docker-demo\n",
      "Since --detach=false was not specified, tasks will be updated in the background.\n",
      "In a future release, --detach=false will become the default.\n"
     ]
    }
   ],
   "source": [
    "docker $(docker-machine config swmaster1) service update --image mjbright/docker-demo:21 docker-demo"
   ]
  },
  {
   "cell_type": "code",
   "execution_count": 48,
   "metadata": {},
   "outputs": [
    {
     "name": "stdout",
     "output_type": "stream",
     "text": [
      "ID                  NAME                IMAGE                     NODE                DESIRED STATE       CURRENT STATE                      ERROR               PORTS\n",
      "yqdbmwna39vb        docker-demo.1       mjbright/docker-demo:20   swmaster1           Running             Running 12 seconds ago                                 \n",
      "iospcjmamp0i        docker-demo.2       mjbright/docker-demo:20   swnode2             Running             Running 1 second ago                                   \n",
      "g3cmw554164z        docker-demo.3       mjbright/docker-demo:21   swnode1             Ready               Preparing less than a second ago                       \n",
      "fu96643xoj4b         \\_ docker-demo.3   mjbright/docker-demo:20   swnode1             Shutdown            Preparing 5 seconds ago                                \n"
     ]
    }
   ],
   "source": [
    "docker $(docker-machine config swmaster1) service ps docker-demo"
   ]
  },
  {
   "cell_type": "markdown",
   "metadata": {
    "collapsed": true
   },
   "source": [
    "Again it may take a few moments until the new image is downloaded and operational on all nodes.\n",
    "\n",
    "Once the new image has been downloaded and started on all nodes you should see something like:"
   ]
  },
  {
   "cell_type": "code",
   "execution_count": 49,
   "metadata": {},
   "outputs": [
    {
     "name": "stdout",
     "output_type": "stream",
     "text": [
      "ID                  NAME                IMAGE                     NODE                DESIRED STATE       CURRENT STATE                      ERROR               PORTS\n",
      "yqdbmwna39vb        docker-demo.1       mjbright/docker-demo:20   swmaster1           Running             Running 13 seconds ago                                 \n",
      "iospcjmamp0i        docker-demo.2       mjbright/docker-demo:20   swnode2             Running             Running 1 second ago                                   \n",
      "g3cmw554164z        docker-demo.3       mjbright/docker-demo:21   swnode1             Ready               Preparing less than a second ago                       \n",
      "fu96643xoj4b         \\_ docker-demo.3   mjbright/docker-demo:20   swnode1             Shutdown            Preparing 6 seconds ago                                \n"
     ]
    }
   ],
   "source": [
    "docker $(docker-machine config swmaster1) service ps docker-demo"
   ]
  },
  {
   "cell_type": "markdown",
   "metadata": {},
   "source": [
    "### Verifying the service has been updated\n",
    "\n",
    "Then open your web browser at the page http://localhost:8080 and you should now see a lovely **red** whale.\n",
    "\n",
    "\n",
    "![](images/docker_red.png)"
   ]
  },
  {
   "cell_type": "markdown",
   "metadata": {},
   "source": [
    "of if you prefer the command-line .."
   ]
  },
  {
   "cell_type": "code",
   "execution_count": 50,
   "metadata": {},
   "outputs": [
    {
     "name": "stdout",
     "output_type": "stream",
     "text": [
      "2/3\n",
      "... waiting for 'docker-demo' 3 replicas to start\n",
      "2/3\n",
      "... waiting for 'docker-demo' 3 replicas to start\n",
      "2/3\n",
      "... waiting for 'docker-demo' 3 replicas to start\n",
      "2/3\n",
      "... waiting for 'docker-demo' 3 replicas to start\n",
      "2/3\n",
      "... waiting for 'docker-demo' 3 replicas to start\n",
      "2/3\n",
      "... waiting for 'docker-demo' 3 replicas to start\n",
      "2/3\n",
      "... waiting for 'docker-demo' 3 replicas to start\n",
      "2/3\n",
      "... waiting for 'docker-demo' 3 replicas to start\n",
      "2/3\n",
      "... waiting for 'docker-demo' 3 replicas to start\n",
      "j6df1lpmiq5e        \u001b[01;31m\u001b[Kdocker-demo\u001b[m\u001b[K         replicated          3/3                 mjbright/\u001b[01;31m\u001b[Kdocker-demo\u001b[m\u001b[K:21   *:8080->8080/tcp\n",
      "Took 95 secs [0h01m35]\n"
     ]
    }
   ],
   "source": [
    "NB_docker_loop_until_N_replicas_started docker-demo 3\n",
    "\n",
    "#NB_pause"
   ]
  },
  {
   "cell_type": "code",
   "execution_count": 51,
   "metadata": {},
   "outputs": [
    {
     "name": "stdout",
     "output_type": "stream",
     "text": [
      "ID                  NAME                MODE                REPLICAS            IMAGE                     PORTS\n",
      "j6df1lpmiq5e        docker-demo         replicated          3/3                 mjbright/docker-demo:21   *:8080->8080/tcp\n"
     ]
    }
   ],
   "source": [
    "docker $(docker-machine config swmaster1) service ls"
   ]
  },
  {
   "cell_type": "code",
   "execution_count": 52,
   "metadata": {},
   "outputs": [
    {
     "name": "stdout",
     "output_type": "stream",
     "text": [
      "j6df1lpmiq5e        \u001b[01;31m\u001b[Kdocker-demo\u001b[m\u001b[K         replicated          3/3                 mjbright/\u001b[01;31m\u001b[Kdocker-demo\u001b[m\u001b[K:21   *:8080->8080/tcp\n"
     ]
    }
   ],
   "source": [
    "NB_docker_loop_until_service_started docker-demo"
   ]
  },
  {
   "cell_type": "code",
   "execution_count": 53,
   "metadata": {},
   "outputs": [
    {
     "name": "stdout",
     "output_type": "stream",
     "text": [
      "--2017-05-17 19:04:42--  http://192.168.99.104:8080/\n",
      "Connecting to 192.168.99.104:8080... connected.\n",
      "HTTP request sent, awaiting response... 200 OK\n",
      "Length: unspecified [text/txt]\n",
      "Saving to: ‘STDOUT’\n",
      "\n",
      "-                       [<=>                 ]       0  --.-KB/s               \n",
      "\n",
      "\u001b[1;31m\n",
      "                                                .---------.                                          \n",
      "                                               .///++++/:.                                          \n",
      "                                               .///+++//:.                                          \n",
      "                                               .///+++//:.                                          \n",
      "                             ``````````````````.:///////:.                       `                  \n",
      "                             .-///////:://+++//::///////-.                      .--.                \n",
      "                             .:::///:::///+++///:::///:::.                     .:ss+-`              \n",
      "                             .:::///:::///+++///:::///:::.                    `.ossss:.             \n",
      "                             .:///////:/+++oo++/:///////:.                    .-ssssss:.            \n",
      "                    .-:::::::--///////--:::::::--///////--:::::::-.           `-sssssso.........``  \n",
      "                    .::////:::://+++///:::///:::///+++//:/::////::.           `.+ssssss/++ooooo+/:.`\n",
      "                    .::////:::://+++///:::///:::///+++//:/::////::.            `.+sssooooooooooo/-` \n",
      "                    .::////:::://+++///:::///:::///+++//:/::////::.           ``.:osoooooooo+/:-.`  \n",
      "            ````````.-:::::::--///////--:::::::-:///////--:::::::-.``````...-:/+ssoo+:-----..``     \n",
      "            .-+++oooooooooooooooooooooooooooooooooooooooooooooooooooooooosssssssoooo-.              \n",
      "      `     .-ooossssssssssssssssssssssss+ssssssssssssssssossssssssssssssssssoooooo:.        `      \n",
      "    ``...```.-+++++/:--/+oosssssssoo++/:-.-:+oosssssso+/:..-:/+oossssssssoo+:--://-.`   ```...`     \n",
      " ````````````.-:::::::::::::::::::::::::::::::::::::::::::::::::::::::::::::::::-..```````````````  \n",
      "             .-////++++++++++++++++++++++++++++++++++++++++++++++++++//////////:.`                  \n",
      "             `.:////++++++++++++++++oss+++++++++++++++++++++++++++///////////:-.                    \n",
      "              `.:////++++++++++++++os.+h+++++++++++++++++++++++/////////////-.`                     \n",
      "               `.://///++++++++++//+soos+++++++++++++++++++///////////////-.`                       \n",
      "                `.--------:::://+o/+++++++++++++++++++/////////////////:-.`                         \n",
      "                  `-sdmmmmmmmNNNNNmo+++++++++++/////////////////////:-.``                           \n",
      "                    `-+hmmmmmmmmmmmms///////////////////////////::-.``                              \n",
      "                      ``-+ydmmmmmmmmmds////////////////////::--.``                                  \n",
      "                         ``.-/oshdmmmmmmho+////////::::--..```                                      \n",
      "                              ````..-:::///---.....````                                             \n",
      "\n",
      "\u001b[0m\n",
      "\n",
      "\n",
      "\u001b[1;33mServed from f87655b58012\u001b[0;0m\n",
      "\n",
      "-                       [ <=>                ]   2.82K  --.-KB/s    in 0s      \n",
      "\n",
      "2017-05-17 19:04:42 (8.16 MB/s) - written to stdout [2886]\n",
      "\n"
     ]
    }
   ],
   "source": [
    "wget -O - http://$MASTERIP:8080"
   ]
  },
  {
   "cell_type": "markdown",
   "metadata": {},
   "source": [
    "# drain a node\n",
    "\n",
    "We can drain a node effectively placing it in 'maintenance mode'.\n",
    "\n",
    "Draining a node means that it no longer has running tasks on it."
   ]
  },
  {
   "cell_type": "code",
   "execution_count": 54,
   "metadata": {},
   "outputs": [
    {
     "name": "stdout",
     "output_type": "stream",
     "text": [
      "ID                            HOSTNAME            STATUS              AVAILABILITY        MANAGER STATUS\n",
      "63n56ml91pleofqteefs3lfyl     swnode2             Ready               Active              \n",
      "auzbedso37ndv6his2gimxopa *   swmaster1           Ready               Active              Leader\n",
      "elcdcst9ubchsrj1s3w9ig0i1     swnode1             Ready               Active              \n"
     ]
    }
   ],
   "source": [
    "docker $(docker-machine config swmaster1) node ls"
   ]
  },
  {
   "cell_type": "markdown",
   "metadata": {},
   "source": [
    "Let's drain swnode1"
   ]
  },
  {
   "cell_type": "code",
   "execution_count": 55,
   "metadata": {},
   "outputs": [
    {
     "name": "stdout",
     "output_type": "stream",
     "text": [
      "ID                  NAME                IMAGE                     NODE                DESIRED STATE       CURRENT STATE                 ERROR               PORTS\n",
      "ow1oor8icdnd        docker-demo.1       mjbright/docker-demo:21   swmaster1           Running             Running 6 seconds ago                             \n",
      "yqdbmwna39vb         \\_ docker-demo.1   mjbright/docker-demo:20   swmaster1           Shutdown            Shutdown 37 seconds ago                           \n",
      "tt9j3oiz6ayv        docker-demo.2       mjbright/docker-demo:21   swnode2             Running             Running 38 seconds ago                            \n",
      "iospcjmamp0i         \\_ docker-demo.2   mjbright/docker-demo:20   swnode2             Shutdown            Shutdown about a minute ago                       \n",
      "g3cmw554164z        docker-demo.3       mjbright/docker-demo:21   swnode1             Running             Running about a minute ago                        \n",
      "fu96643xoj4b         \\_ docker-demo.3   mjbright/docker-demo:20   swnode1             Shutdown            Shutdown about a minute ago                       \n"
     ]
    }
   ],
   "source": [
    "docker $(docker-machine config swmaster1) service ps docker-demo"
   ]
  },
  {
   "cell_type": "code",
   "execution_count": 56,
   "metadata": {},
   "outputs": [
    {
     "name": "stdout",
     "output_type": "stream",
     "text": [
      "swnode1\n"
     ]
    }
   ],
   "source": [
    "docker $(docker-machine config swmaster1) node update --availability drain swnode1"
   ]
  },
  {
   "cell_type": "markdown",
   "metadata": {},
   "source": [
    "and now we see that all services on swnode1 are shutdown"
   ]
  },
  {
   "cell_type": "code",
   "execution_count": 57,
   "metadata": {},
   "outputs": [
    {
     "name": "stdout",
     "output_type": "stream",
     "text": [
      "ID                  NAME                IMAGE                     NODE                DESIRED STATE       CURRENT STATE                    ERROR               PORTS\n",
      "ow1oor8icdnd        docker-demo.1       mjbright/docker-demo:21   swmaster1           Running             Running 8 seconds ago                                \n",
      "yqdbmwna39vb         \\_ docker-demo.1   mjbright/docker-demo:20   swmaster1           Shutdown            Shutdown 38 seconds ago                              \n",
      "tt9j3oiz6ayv        docker-demo.2       mjbright/docker-demo:21   swnode2             Running             Running 39 seconds ago                               \n",
      "iospcjmamp0i         \\_ docker-demo.2   mjbright/docker-demo:20   swnode2             Shutdown            Shutdown about a minute ago                          \n",
      "qcy4qgbb7cdd        docker-demo.3       mjbright/docker-demo:21   swnode2             Ready               Ready less than a second ago                         \n",
      "g3cmw554164z         \\_ docker-demo.3   mjbright/docker-demo:21   swnode1             Shutdown            Running less than a second ago                       \n",
      "fu96643xoj4b         \\_ docker-demo.3   mjbright/docker-demo:20   swnode1             Shutdown            Shutdown about a minute ago                          \n"
     ]
    }
   ],
   "source": [
    "docker $(docker-machine config swmaster1) service ps docker-demo"
   ]
  },
  {
   "cell_type": "markdown",
   "metadata": {},
   "source": [
    "But as we had request 3 replicas of our service the Swarm mode will take care to start extra instances on other nodes so that we still have 3 replicas of the service running.\n",
    "\n",
    "So after a few seconds we see that we once again have 3 replicas in the *Running* state, as shown below:"
   ]
  },
  {
   "cell_type": "code",
   "execution_count": 58,
   "metadata": {},
   "outputs": [
    {
     "name": "stdout",
     "output_type": "stream",
     "text": [
      "ID                  NAME                IMAGE                     NODE                DESIRED STATE       CURRENT STATE                    ERROR               PORTS\n",
      "ow1oor8icdnd        docker-demo.1       mjbright/docker-demo:21   swmaster1           Running             Running 8 seconds ago                                \n",
      "yqdbmwna39vb         \\_ docker-demo.1   mjbright/docker-demo:20   swmaster1           Shutdown            Shutdown 38 seconds ago                              \n",
      "tt9j3oiz6ayv        docker-demo.2       mjbright/docker-demo:21   swnode2             Running             Running 40 seconds ago                               \n",
      "iospcjmamp0i         \\_ docker-demo.2   mjbright/docker-demo:20   swnode2             Shutdown            Shutdown about a minute ago                          \n",
      "qcy4qgbb7cdd        docker-demo.3       mjbright/docker-demo:21   swnode2             Ready               Ready less than a second ago                         \n",
      "g3cmw554164z         \\_ docker-demo.3   mjbright/docker-demo:21   swnode1             Shutdown            Running less than a second ago                       \n",
      "fu96643xoj4b         \\_ docker-demo.3   mjbright/docker-demo:20   swnode1             Shutdown            Shutdown about a minute ago                          \n"
     ]
    }
   ],
   "source": [
    "docker $(docker-machine config swmaster1) service ps docker-demo"
   ]
  },
  {
   "cell_type": "markdown",
   "metadata": {},
   "source": [
    "# remove a service\n",
    "\n",
    "Now let's cleanup by removing our service"
   ]
  },
  {
   "cell_type": "code",
   "execution_count": 59,
   "metadata": {},
   "outputs": [
    {
     "name": "stdout",
     "output_type": "stream",
     "text": [
      "docker-demo\n"
     ]
    }
   ],
   "source": [
    "docker $(docker-machine config swmaster1) service rm docker-demo"
   ]
  },
  {
   "cell_type": "markdown",
   "metadata": {},
   "source": [
    "We can check that the service is no longer running:"
   ]
  },
  {
   "cell_type": "code",
   "execution_count": 60,
   "metadata": {},
   "outputs": [
    {
     "name": "stdout",
     "output_type": "stream",
     "text": [
      "no such services: docker-demo\n"
     ]
    }
   ],
   "source": [
    "docker $(docker-machine config swmaster1) service ps docker-demo\n",
    "\n",
    "NB_continue"
   ]
  },
  {
   "cell_type": "code",
   "execution_count": 61,
   "metadata": {},
   "outputs": [
    {
     "name": "stdout",
     "output_type": "stream",
     "text": [
      "CONTAINER ID        IMAGE                     COMMAND                  CREATED             STATUS              PORTS               NAMES\n",
      "f87655b58012        mjbright/docker-demo:21   \"/bin/sh -c 'pytho...\"   11 seconds ago      Up 10 seconds                           docker-demo.1.ow1oor8icdnd0ygp8guqeo9pi\n"
     ]
    }
   ],
   "source": [
    "docker $(docker-machine config swmaster1) ps"
   ]
  },
  {
   "cell_type": "markdown",
   "metadata": {},
   "source": [
    "# Deploying a stack\n",
    "\n",
    "Since Docker 1.12 there is the concept of a Docker Stack.\n",
    "\n",
    "Docker Stack, similar to Docker-compose allows to deploy a whole application made up of a group of components.  Stacks extend this concept providing more features such as scaling and node placement.\n",
    "\n",
    "Let's deploy a stack\n",
    "\n",
    "First let's clone Alex Ellis' FaaS (Function as a Service - a Docker implementation of \"Serverless Computing\").\n",
    "\n",
    "https://github.com/alexellis/faas\n",
    "\n",
    "There is a quick test drive document here:\n",
    "https://github.com/alexellis/faas/blob/master/TestDrive.md\n",
    "\n",
    "from which the following steps were taken:"
   ]
  },
  {
   "cell_type": "code",
   "execution_count": null,
   "metadata": {
    "collapsed": true
   },
   "outputs": [],
   "source": [
    "git clone https://github.com/alexellis/faas alexellis.faas\n",
    "cd alexellis.faas"
   ]
  },
  {
   "cell_type": "markdown",
   "metadata": {},
   "source": [
    "Take the time to look at the docker-compose.yml file.\n",
    "\n",
    "Note that this is the latest version 3 with extra stack capabilities such as deploy/placement tags."
   ]
  },
  {
   "cell_type": "code",
   "execution_count": 63,
   "metadata": {},
   "outputs": [
    {
     "name": "stdout",
     "output_type": "stream",
     "text": [
      "version: \"3\"\n",
      "services:\n",
      "\n",
      "# Core API services are pinned, HA is provided for functions.\n",
      "    gateway:\n",
      "        volumes:\n",
      "            - \"/var/run/docker.sock:/var/run/docker.sock\"\n",
      "        ports:\n",
      "            - 8080:8080\n",
      "        image: functions/gateway:0.5.5\n",
      "        networks:\n",
      "            - functions\n",
      "        environment:\n",
      "            dnsrr: \"true\"  # Temporarily use dnsrr in place of VIP while issue persists on PWD\n",
      "        deploy:\n",
      "            placement:\n",
      "                constraints: [node.role == manager]\n",
      " \n",
      "    prometheus:\n",
      "        image: functions/prometheus:1.5.2 # Mirrors version 1.5.2 of quay.io/prometheus/prometheus:latest\n",
      "        volumes:\n",
      "            - ./prometheus/prometheus.yml:/etc/prometheus/prometheus.yml\n",
      "            - ./prometheus/alert.rules:/etc/prometheus/alert.rules\n",
      "\n",
      "        command: \"-config.file=/etc/prometheus/prometheus.yml -storage.local.path=/prometheus -storage.local.memory-chunks=10000 --alertmanager.url=http://alertmanager:9093\"\n",
      "        ports:\n",
      "            - 9090:9090\n",
      "        depends_on:\n",
      "            - gateway\n",
      "            - alertmanager\n",
      "        environment:\n",
      "            no_proxy: \"gateway\"\n",
      "        networks:\n",
      "            - functions\n",
      "        deploy:\n",
      "            placement:\n",
      "                constraints: [node.role == manager]\n",
      "\n",
      "    alertmanager:\n",
      "        image: quay.io/prometheus/alertmanager\n",
      "        environment:\n",
      "            no_proxy: \"gateway\"\n",
      "        volumes:\n",
      "            - ./prometheus/alertmanager.yml:/alertmanager.yml\n",
      "        command:\n",
      "            - '-config.file=/alertmanager.yml'\n",
      "        networks:\n",
      "            - functions\n",
      "        ports:\n",
      "            - 9093:9093\n",
      "        deploy:\n",
      "            placement:\n",
      "                constraints: [node.role == manager]\n",
      "\n",
      "    # Sample functions go here.\n",
      "\n",
      "    # Service label of \"function\" allows functions to show up in UI on http://gateway:8080/\n",
      "    webhookstash:\n",
      "        image: functions/webhookstash:latest\n",
      "        labels:\n",
      "            function: \"true\"\n",
      "        depends_on:\n",
      "            - gateway\n",
      "        networks:\n",
      "            - functions\n",
      "        environment:\n",
      "            no_proxy: \"gateway\"\n",
      "            https_proxy: $https_proxy\n",
      "\n",
      "    # Pass a username as an argument to find how many images user has pushed to Docker Hub.\n",
      "    hubstats:\n",
      "        image: alexellis2/faas-dockerhubstats:latest\n",
      "        labels:\n",
      "            function: \"true\"\n",
      "        depends_on:\n",
      "            - gateway\n",
      "        networks:\n",
      "            - functions\n",
      "        environment:\n",
      "            no_proxy: \"gateway\"\n",
      "            https_proxy: $https_proxy\n",
      "\n",
      "    # Node.js gives OS info about the node (Host)\n",
      "    nodeinfo:\n",
      "        image: alexellis2/faas-nodeinfo:latest\n",
      "        labels:\n",
      "            function: \"true\"\n",
      "        depends_on:\n",
      "            - gateway\n",
      "        networks:\n",
      "            - functions\n",
      "        environment:\n",
      "            no_proxy: \"gateway\"\n",
      "            https_proxy: $https_proxy\n",
      "\n",
      "    # Uses `cat` to echo back response, fastest function to execute.\n",
      "    echoit:\n",
      "        image: functions/alpine:health\n",
      "        labels:\n",
      "            function: \"true\"\n",
      "        depends_on:\n",
      "            - gateway\n",
      "        networks:\n",
      "            - functions\n",
      "        environment:\n",
      "            fprocess: \"cat\"\n",
      "            no_proxy: \"gateway\"\n",
      "            https_proxy: $https_proxy\n",
      "\n",
      "    # Counts words in request with `wc` utility\n",
      "    wordcount:\n",
      "        image: functions/alpine:health\n",
      "        labels:\n",
      "            function: \"true\"\n",
      "            com.faas.max_replicas: \"10\"\n",
      "        depends_on:\n",
      "            - gateway\n",
      "        networks:\n",
      "            - functions\n",
      "        environment:\n",
      "            fprocess: \"wc\"\n",
      "            no_proxy: \"gateway\"\n",
      "            https_proxy: $https_proxy\n",
      "\n",
      "    # Calculates base64 representation of request body.\n",
      "    base64:\n",
      "        image: functions/alpine:health\n",
      "        labels:\n",
      "            function: \"true\"\n",
      "        depends_on:\n",
      "            - gateway\n",
      "        networks:\n",
      "            - functions\n",
      "        environment:\n",
      "            fprocess: \"base64\"\n",
      "            no_proxy: \"gateway\"\n",
      "            https_proxy: $https_proxy\n",
      "\n",
      "    # Decodes base64 representation of request body.\n",
      "    decodebase64:\n",
      "        image: functions/alpine:health\n",
      "        labels:\n",
      "            function: \"true\"\n",
      "        depends_on:\n",
      "            - gateway\n",
      "        networks:\n",
      "            - functions\n",
      "        environment:\n",
      "            fprocess: \"base64 -d\"\n",
      "            no_proxy: \"gateway\"\n",
      "            https_proxy: $https_proxy\n",
      "\n",
      "    # Converts body in (markdown format) -> (html)\n",
      "    markdown:\n",
      "        image: alexellis2/faas-markdownrender:latest\n",
      "        labels:\n",
      "            function: \"true\"\n",
      "        depends_on:\n",
      "            - gateway\n",
      "        networks:\n",
      "            - functions\n",
      "        environment:\n",
      "            no_proxy: \"gateway\"\n",
      "            https_proxy: $https_proxy\n",
      "\n",
      "networks:\n",
      "    functions:\n",
      "        driver: overlay\n",
      "        # Docker does not support this option yet - maybe create outside of the stack and reference as \"external\"?\n",
      "        #attachable: true\n"
     ]
    }
   ],
   "source": [
    "cat docker-compose.yml"
   ]
  },
  {
   "cell_type": "code",
   "execution_count": 64,
   "metadata": {},
   "outputs": [
    {
     "name": "stdout",
     "output_type": "stream",
     "text": [
      "#!/bin/sh\n",
      "\n",
      "echo \"Deploying stack\"\n",
      "docker stack deploy func --compose-file docker-compose.yml\n",
      "\n"
     ]
    }
   ],
   "source": [
    "cat deploy_stack.sh"
   ]
  },
  {
   "cell_type": "markdown",
   "metadata": {},
   "source": [
    "**Note: if running on play-with-docker.com**, copy-paste the following directly\n",
    "\n",
    "```\n",
    "      docker swarm init --advertise-addr eth0 && \\\n",
    "        git clone https://github.com/alexellis/faas && \\\n",
    "        cd faas && \\\n",
    "        ./deploy_stack.sh && \\\n",
    "        docker service ls\n",
    "```\n",
    "\n",
    "**Note**: Running under play-with-docker.com you will have access to Prometheus also"
   ]
  },
  {
   "cell_type": "code",
   "execution_count": 65,
   "metadata": {},
   "outputs": [
    {
     "name": "stdout",
     "output_type": "stream",
     "text": [
      "Deploying stack\n",
      "Creating network func_functions\n",
      "Creating service func_webhookstash\n",
      "Creating service func_echoit\n",
      "Creating service func_decodebase64\n",
      "Creating service func_gateway\n",
      "Creating service func_base64\n",
      "Creating service func_prometheus\n",
      "Creating service func_wordcount\n",
      "Creating service func_markdown\n",
      "Creating service func_alertmanager\n",
      "Creating service func_nodeinfo\n",
      "Creating service func_hubstats\n",
      "\n",
      "real\t0m26.382s\n",
      "user\t0m0.139s\n",
      "sys\t0m0.010s\n"
     ]
    }
   ],
   "source": [
    "eval $(docker-machine env swmaster1)\n",
    "\n",
    "time ./deploy_stack.sh"
   ]
  },
  {
   "cell_type": "markdown",
   "metadata": {},
   "source": [
    "If you are running on PWD, click on the link to port 8080 at the top of the page.\n",
    "\n",
    "If you are running via docker-machine open an ssh tunnel to forward this port locally\n",
    "    docker-machine ssh swmaster1 -L 8080:localhost:8080\n",
    "\n",
    "### Connect to FaaS dashboard\n",
    "Then connect to http://localhost:8080 to see the FaaS dashboard\n",
    "\n",
    "### Inspect your FaaS implementation\n",
    "\n",
    "From the command-line inspect the stack you've just deployed using\n",
    "- docker service ls\n",
    "- docker service ps &lt;service-name&gt;\n",
    "\n",
    "### Play with FaaS\n",
    "The point of this exercise was to demonstrate the deploying of the stack, but why not play with FaaS a bit now, you deserve it !\n",
    "\n",
    "But don't spend too long, you've a Docker-Python class to do next !!"
   ]
  },
  {
   "cell_type": "markdown",
   "metadata": {},
   "source": [
    "## Visualizing the stack\n",
    "\n",
    "We can use Mano Marks' visualizer application to view our deployed stack.\n",
    "\n",
    "Let's launch the visualizer on swmaster1, exposed on port 7070"
   ]
  },
  {
   "cell_type": "code",
   "execution_count": null,
   "metadata": {
    "collapsed": true
   },
   "outputs": [],
   "source": [
    "docker $(docker-machine config swmaster1) run -it -d -p 7070:8080 -v /var/run/docker.sock:/var/run/docker.sock dockersamples/visualizer"
   ]
  },
  {
   "cell_type": "markdown",
   "metadata": {},
   "source": [
    "we can now connect to the stack at swmaster1:7070"
   ]
  },
  {
   "cell_type": "code",
   "execution_count": 13,
   "metadata": {},
   "outputs": [
    {
     "name": "stdout",
     "output_type": "stream",
     "text": [
      "Connect to http://192.168.99.104:7070\n"
     ]
    }
   ],
   "source": [
    "MASTERIP=$(docker-machine ip swmaster1)\n",
    "\n",
    "echo \"Connect to http://$MASTERIP:7070\""
   ]
  },
  {
   "cell_type": "markdown",
   "metadata": {},
   "source": [
    "You should see something like this\n",
    "\n",
    "![](images/visualizer.png)"
   ]
  },
  {
   "cell_type": "code",
   "execution_count": 11,
   "metadata": {},
   "outputs": [
    {
     "name": "stdout",
     "output_type": "stream",
     "text": [
      "CONTAINER ID        IMAGE                                   COMMAND                CREATED              STATUS                       PORTS                    NAMES\n",
      "f77311108ad7        dockersamples/visualizer                \"npm start\"            About a minute ago   Up About a minute            0.0.0.0:7070->8080/tcp   distracted_torvalds\n",
      "b4f9c27a7e3e        alexellis2/faas-dockerhubstats:latest   \"/usr/bin/fwatchdog\"   About an hour ago    Up About an hour                                      func_hubstats.1.4tkp05zwc09tc5pi1fxn9p5cu\n",
      "baed0d33fa58        functions/alpine:health                 \"fwatchdog\"            About an hour ago    Up About an hour (healthy)                            func_base64.1.uxs77dkbigzhu4djpps3s14uc\n",
      "6448893b69ff        functions/gateway:0.5.5                 \"./gateway\"            About an hour ago    Up About an hour             8080/tcp                 func_gateway.1.kz56s05epbid8k3yi6m0z17wf\n",
      "ad508f86583a        functions/webhookstash:latest           \"fwatchdog\"            About an hour ago    Up About an hour             8080/tcp                 func_webhookstash.1.dqcd1og3nclcxhj39g59u8wyn\n"
     ]
    }
   ],
   "source": [
    "docker $(docker-machine config swmaster1) ps"
   ]
  },
  {
   "cell_type": "code",
   "execution_count": 66,
   "metadata": {},
   "outputs": [
    {
     "name": "stdout",
     "output_type": "stream",
     "text": [
      "Started at Wed May 17 19:05:14 CEST 2017   [1495040345]\n",
      "Ended   at Wed May 17 19:05:14 CEST 2017   [1495040714]\n",
      "Took 369 secs [0h06m09]\n"
     ]
    }
   ],
   "source": [
    "NB_time_taken"
   ]
  }
 ],
 "metadata": {
  "anaconda-cloud": {},
  "kernelspec": {
   "display_name": "Bash",
   "language": "bash",
   "name": "bash"
  },
  "language_info": {
   "codemirror_mode": "shell",
   "file_extension": ".sh",
   "mimetype": "text/x-sh",
   "name": "bash"
  }
 },
 "nbformat": 4,
 "nbformat_minor": 1
}
