{
 "cells": [
  {
   "cell_type": "markdown",
   "metadata": {},
   "source": [
    "# Docker \"Swarm Mode\" Lab\n",
    "\n",
    "Based on Mario's gist here: https://gist.github.com/l0rd/5186cc80f8f26dc7e9490abca4405830"
   ]
  },
  {
   "cell_type": "markdown",
   "metadata": {},
   "source": [
    "# Requirements\n",
    "- Docker 1.12\n",
    "- Docker machine\n",
    "- Virtualbox\n",
    "\n",
    "# Create 3 nodes for your swarm cluster (one master and 2 slaves)\n",
    "\n",
    "We will create 3 nodes using docker-machine/virtualbox.\n",
    "\n",
    "#### NOTE:\n",
    "You may see errors as below, and an error reported by \"docker-machine ls\", leave some time for the swmaster1 to settle.\n",
    "\n",
    "In the meantime you can go ahead and create the 2 swnode's below."
   ]
  },
  {
   "cell_type": "code",
   "execution_count": 1,
   "metadata": {},
   "outputs": [
    {
     "name": "stdout",
     "output_type": "stream",
     "text": [
      "Notebook started at Sat May 13 20:02:48 CEST 2017   [1494698568]\n"
     ]
    }
   ],
   "source": [
    "MACHINE_DRIVER=virtualbox\n",
    "\n",
    ". ../NB_bash_functions.rc"
   ]
  },
  {
   "cell_type": "code",
   "execution_count": 2,
   "metadata": {
    "collapsed": true
   },
   "outputs": [],
   "source": [
    "# . ~/.docker.rc"
   ]
  },
  {
   "cell_type": "code",
   "execution_count": 3,
   "metadata": {
    "collapsed": true
   },
   "outputs": [],
   "source": [
    "MACHINE_DRIVER=virtualbox\n",
    "\n",
    "#MACHINE_DRIVER=digitalocean\n",
    "#MACHINE_DRIVER=azure\n",
    "#MACHINE_DRIVER=google"
   ]
  },
  {
   "cell_type": "markdown",
   "metadata": {},
   "source": [
    "Let's cleanup any remaining machines, if they exist already .."
   ]
  },
  {
   "cell_type": "code",
   "execution_count": 4,
   "metadata": {},
   "outputs": [
    {
     "name": "stdout",
     "output_type": "stream",
     "text": [
      "\n",
      "NAME        ACTIVE   DRIVER       STATE     URL   SWARM   DOCKER    ERRORS\n",
      "swmaster1   -        virtualbox   Stopped                 Unknown   \n"
     ]
    }
   ],
   "source": [
    "VBoxManage list runningvms | grep sw\n",
    "\n",
    "echo\n",
    "docker-machine ls"
   ]
  },
  {
   "cell_type": "code",
   "execution_count": 5,
   "metadata": {},
   "outputs": [
    {
     "name": "stdout",
     "output_type": "stream",
     "text": [
      "swmaster1: virtualbox\n"
     ]
    }
   ],
   "source": [
    "docker-machine ls --filter name=sw --format \"{{.Name}}: {{.DriverName}}\""
   ]
  },
  {
   "cell_type": "code",
   "execution_count": 6,
   "metadata": {},
   "outputs": [
    {
     "name": "stdout",
     "output_type": "stream",
     "text": [
      "docker-machine rm -f swmaster1\n",
      "About to remove swmaster1\n",
      "WARNING: This action will delete both local reference and remote instance.\n",
      "Successfully removed swmaster1\n"
     ]
    }
   ],
   "source": [
    "NB_cleanup_swarm_machines;"
   ]
  },
  {
   "cell_type": "code",
   "execution_count": 7,
   "metadata": {},
   "outputs": [
    {
     "name": "stdout",
     "output_type": "stream",
     "text": [
      "\n",
      "NAME   ACTIVE   DRIVER   STATE   URL   SWARM   DOCKER   ERRORS\n"
     ]
    }
   ],
   "source": [
    "VBoxManage list runningvms | grep sw\n",
    "\n",
    "echo\n",
    "docker-machine ls"
   ]
  },
  {
   "cell_type": "markdown",
   "metadata": {},
   "source": [
    "Now let's create our new nodes\n",
    "\n",
    "**NOTE:** You may see some worrying messages from \"*docker-machine ls*\" but wait a minute or two until the node creation is complete"
   ]
  },
  {
   "cell_type": "code",
   "execution_count": 8,
   "metadata": {},
   "outputs": [
    {
     "name": "stdout",
     "output_type": "stream",
     "text": [
      "Running command <docker-machine create -d virtualbox swmaster1> ...\n",
      "Running pre-create checks...\n",
      "Creating machine...\n",
      "(swmaster1) Copying /home/mjb/.docker/machine/cache/boot2docker.iso to /home/mjb/.docker/machine/machines/swmaster1/boot2docker.iso...\n",
      "(swmaster1) Creating VirtualBox VM...\n",
      "(swmaster1) Creating SSH key...\n",
      "(swmaster1) Starting the VM...\n",
      "(swmaster1) Check network to re-create if needed...\n",
      "(swmaster1) Waiting for an IP...\n",
      "Waiting for machine to be running, this may take a few minutes...\n",
      "Detecting operating system of created instance...\n",
      "Waiting for SSH to be available...\n",
      "Detecting the provisioner...\n",
      "Provisioning with boot2docker...\n",
      "Copying certs to the local machine directory...\n",
      "Copying certs to the remote machine...\n",
      "Setting Docker configuration on the remote daemon...\n",
      "Checking connection to Docker...\n",
      "Docker is up and running!\n",
      "To see how to connect your Docker Client to the Docker Engine running on this virtual machine, run: docker-machine env swmaster1\n",
      "Took 106 secs [0h01m46]\n"
     ]
    }
   ],
   "source": [
    "NB_create_swarm_machine_m1"
   ]
  },
  {
   "cell_type": "markdown",
   "metadata": {},
   "source": [
    "#### NOTE: Temporary errors from \"*docker-machine ls*\"\n",
    "\n",
    "From the command-line you can see the progress of machine creation, using\n",
    "    ```$ docker-machine ls```\n",
    "    \n",
    "You may see errors during creation of machines before ssh connectivity is established and before docker host is started.\n",
    "\n",
    "![](images/docker-machine-errors.png)\n",
    "\n",
    "After creation of a node you should see something like the following from \"*docker-machine ls*\""
   ]
  },
  {
   "cell_type": "code",
   "execution_count": 9,
   "metadata": {},
   "outputs": [
    {
     "name": "stdout",
     "output_type": "stream",
     "text": [
      "NAME        ACTIVE   DRIVER       STATE     URL                         SWARM   DOCKER        ERRORS\n",
      "swmaster1   -        virtualbox   Running   tcp://192.168.99.114:2376           v17.05.0-ce   \n"
     ]
    }
   ],
   "source": [
    "docker-machine ls"
   ]
  },
  {
   "cell_type": "markdown",
   "metadata": {},
   "source": [
    "We can also see the VM from virtualbox point of view (if this is the driver we are using):"
   ]
  },
  {
   "cell_type": "code",
   "execution_count": 10,
   "metadata": {},
   "outputs": [
    {
     "name": "stdout",
     "output_type": "stream",
     "text": [
      "\"\u001b[01;31m\u001b[Ksw\u001b[m\u001b[Kmaster1\" {4e7024ab-4f9f-4dbe-879e-cead2545e8ca}\n"
     ]
    }
   ],
   "source": [
    "VBoxManage list runningvms | grep sw"
   ]
  },
  {
   "cell_type": "code",
   "execution_count": 11,
   "metadata": {},
   "outputs": [
    {
     "name": "stdout",
     "output_type": "stream",
     "text": [
      "Running command <docker-machine create -d virtualbox swnode1> ...\n",
      "Running pre-create checks...\n",
      "Creating machine...\n",
      "(swnode1) Copying /home/mjb/.docker/machine/cache/boot2docker.iso to /home/mjb/.docker/machine/machines/swnode1/boot2docker.iso...\n",
      "(swnode1) Creating VirtualBox VM...\n",
      "(swnode1) Creating SSH key...\n",
      "(swnode1) Starting the VM...\n",
      "(swnode1) Check network to re-create if needed...\n",
      "(swnode1) Waiting for an IP...\n",
      "Waiting for machine to be running, this may take a few minutes...\n",
      "Detecting operating system of created instance...\n",
      "Waiting for SSH to be available...\n",
      "Detecting the provisioner...\n",
      "Provisioning with boot2docker...\n",
      "Copying certs to the local machine directory...\n",
      "Copying certs to the remote machine...\n",
      "Setting Docker configuration on the remote daemon...\n",
      "Checking connection to Docker...\n",
      "Docker is up and running!\n",
      "To see how to connect your Docker Client to the Docker Engine running on this virtual machine, run: docker-machine env swnode1\n",
      "Took 123 secs [0h02m03]\n"
     ]
    }
   ],
   "source": [
    "NB_create_swarm_machine_1"
   ]
  },
  {
   "cell_type": "code",
   "execution_count": 12,
   "metadata": {},
   "outputs": [
    {
     "name": "stdout",
     "output_type": "stream",
     "text": [
      "\"\u001b[01;31m\u001b[Ksw\u001b[m\u001b[Kmaster1\" {4e7024ab-4f9f-4dbe-879e-cead2545e8ca}\n",
      "\"\u001b[01;31m\u001b[Ksw\u001b[m\u001b[Knode1\" {62ce063a-56ef-452f-8d65-4146a02dc469}\n",
      "\n",
      "NAME        ACTIVE   DRIVER       STATE     URL                         SWARM   DOCKER        ERRORS\n",
      "swmaster1   -        virtualbox   Running   tcp://192.168.99.114:2376           v17.05.0-ce   \n",
      "swnode1     -        virtualbox   Running   tcp://192.168.99.115:2376           v17.05.0-ce   \n"
     ]
    }
   ],
   "source": [
    "VBoxManage list runningvms | grep sw\n",
    "\n",
    "echo\n",
    "docker-machine ls"
   ]
  },
  {
   "cell_type": "code",
   "execution_count": 13,
   "metadata": {},
   "outputs": [
    {
     "name": "stdout",
     "output_type": "stream",
     "text": [
      "Running command <docker-machine create -d virtualbox swnode2> ...\n",
      "Running pre-create checks...\n",
      "Creating machine...\n",
      "(swnode2) Copying /home/mjb/.docker/machine/cache/boot2docker.iso to /home/mjb/.docker/machine/machines/swnode2/boot2docker.iso...\n",
      "(swnode2) Creating VirtualBox VM...\n",
      "(swnode2) Creating SSH key...\n",
      "(swnode2) Starting the VM...\n",
      "(swnode2) Check network to re-create if needed...\n",
      "(swnode2) Waiting for an IP...\n",
      "Waiting for machine to be running, this may take a few minutes...\n",
      "Detecting operating system of created instance...\n",
      "Waiting for SSH to be available...\n",
      "Detecting the provisioner...\n",
      "Provisioning with boot2docker...\n",
      "Copying certs to the local machine directory...\n",
      "Copying certs to the remote machine...\n",
      "Setting Docker configuration on the remote daemon...\n",
      "Checking connection to Docker...\n",
      "Docker is up and running!\n",
      "To see how to connect your Docker Client to the Docker Engine running on this virtual machine, run: docker-machine env swnode2\n",
      "Took 113 secs [0h01m53]\n"
     ]
    }
   ],
   "source": [
    "NB_create_swarm_machine_2"
   ]
  },
  {
   "cell_type": "code",
   "execution_count": 14,
   "metadata": {},
   "outputs": [
    {
     "name": "stdout",
     "output_type": "stream",
     "text": [
      "\"\u001b[01;31m\u001b[Ksw\u001b[m\u001b[Kmaster1\" {4e7024ab-4f9f-4dbe-879e-cead2545e8ca}\n",
      "\"\u001b[01;31m\u001b[Ksw\u001b[m\u001b[Knode1\" {62ce063a-56ef-452f-8d65-4146a02dc469}\n",
      "\"\u001b[01;31m\u001b[Ksw\u001b[m\u001b[Knode2\" {12e313bd-0d91-4b4e-98d2-32523757c759}\n",
      "\n",
      "NAME        ACTIVE   DRIVER       STATE     URL                         SWARM   DOCKER        ERRORS\n",
      "swmaster1   -        virtualbox   Running   tcp://192.168.99.114:2376           v17.05.0-ce   \n",
      "swnode1     -        virtualbox   Running   tcp://192.168.99.115:2376           v17.05.0-ce   \n",
      "swnode2     -        virtualbox   Running   tcp://192.168.99.116:2376           v17.05.0-ce   \n"
     ]
    }
   ],
   "source": [
    "VBoxManage list runningvms | grep sw\n",
    "\n",
    "echo\n",
    "docker-machine ls"
   ]
  },
  {
   "cell_type": "code",
   "execution_count": 15,
   "metadata": {},
   "outputs": [],
   "source": [
    "NB_check_3_machines_running"
   ]
  },
  {
   "cell_type": "markdown",
   "metadata": {},
   "source": [
    "# swarm init\n",
    "\n",
    "Now that we have 3 nodes available, we will initialize our Swarm Cluster with 1 master node.\n",
    "\n",
    "### Directing the docker client to a particular nodes' docker daemon\n",
    "**NOTE**: See that we precede all docker commands with $(docker-machine config NODE) where node is the name of the node to which we want our docker client to connect to.  This command returns the parameters to direct our client to the appropriate node.  Run alone this produces:"
   ]
  },
  {
   "cell_type": "code",
   "execution_count": 16,
   "metadata": {},
   "outputs": [
    {
     "name": "stdout",
     "output_type": "stream",
     "text": [
      "--tlsverify\n",
      "--tlscacert=\"/home/mjb/.docker/machine/machines/swmaster1/ca.pem\"\n",
      "--tlscert=\"/home/mjb/.docker/machine/machines/swmaster1/cert.pem\"\n",
      "--tlskey=\"/home/mjb/.docker/machine/machines/swmaster1/key.pem\"\n",
      "-H=tcp://192.168.99.114:2376\n"
     ]
    }
   ],
   "source": [
    "docker-machine config swmaster1"
   ]
  },
  {
   "cell_type": "markdown",
   "metadata": {},
   "source": [
    "We can also obtain these values as environment variables"
   ]
  },
  {
   "cell_type": "code",
   "execution_count": 17,
   "metadata": {},
   "outputs": [
    {
     "name": "stdout",
     "output_type": "stream",
     "text": [
      "export DOCKER_TLS_VERIFY=\"1\"\n",
      "export DOCKER_HOST=\"tcp://192.168.99.114:2376\"\n",
      "export DOCKER_CERT_PATH=\"/home/mjb/.docker/machine/machines/swmaster1\"\n",
      "export DOCKER_MACHINE_NAME=\"swmaster1\"\n",
      "# Run this command to configure your shell: \n",
      "# eval $(docker-machine env swmaster1)\n"
     ]
    }
   ],
   "source": [
    "docker-machine env swmaster1"
   ]
  },
  {
   "cell_type": "markdown",
   "metadata": {},
   "source": [
    "Including these parameters on the docker command line will connect the client to the docker daemon running on node '*swmaster1*'.\n",
    "\n",
    "### Networks before creation of swarm cluster\n",
    "Before going further let's look at the networks on your machine.\n",
    "\n",
    "Later, we'll see how a new network is created once the swarm cluster has been created."
   ]
  },
  {
   "cell_type": "code",
   "execution_count": 18,
   "metadata": {},
   "outputs": [
    {
     "name": "stdout",
     "output_type": "stream",
     "text": [
      "NETWORK ID          NAME                DRIVER              SCOPE\n",
      "4a285364bdf1        bridge              bridge              local\n",
      "f037776427e3        host                host                local\n",
      "dacef2ccdca4        none                null                local\n"
     ]
    }
   ],
   "source": [
    "docker $(docker-machine config swmaster1) network ls"
   ]
  },
  {
   "cell_type": "markdown",
   "metadata": {},
   "source": [
    "Now let's identify the ip address of our master node.\n",
    "\n",
    "We can see this through config or ip commands of docker-machine as shown below."
   ]
  },
  {
   "cell_type": "code",
   "execution_count": 19,
   "metadata": {},
   "outputs": [
    {
     "name": "stdout",
     "output_type": "stream",
     "text": [
      "192.168.99.114\n"
     ]
    }
   ],
   "source": [
    "docker-machine ip swmaster1"
   ]
  },
  {
   "cell_type": "markdown",
   "metadata": {},
   "source": [
    "We could then provide the above ip address as parameter to --advertise-addr when initializing the swarm.\n",
    "\n",
    "However, it is quite convenient to run the above commands embedded, as below, as arguments to the swarm init command.\n",
    "\n",
    "docker-machine config swmaster1 provides the parameters to use when connecting to the appropriate docker engine for our machine \"swmaster1\".\n",
    "\n",
    "The following command will run swarm init to generate the cluster with 'swmaster1' as the Master node.\n",
    "You should see output similar to the below:"
   ]
  },
  {
   "cell_type": "code",
   "execution_count": 20,
   "metadata": {},
   "outputs": [
    {
     "name": "stdout",
     "output_type": "stream",
     "text": [
      "\u001b[01;31m\u001b[KSwarm:\u001b[m\u001b[K inactive\n"
     ]
    }
   ],
   "source": [
    "docker $(docker-machine config swmaster1) info | grep Swarm:"
   ]
  },
  {
   "cell_type": "code",
   "execution_count": 21,
   "metadata": {},
   "outputs": [
    {
     "name": "stdout",
     "output_type": "stream",
     "text": [
      "Swarm initialized: current node (m5i0938m512yeqtj2vgwoss38) is now a manager.\n",
      "\n",
      "To add a worker to this swarm, run the following command:\n",
      "\n",
      "    docker swarm join \\\n",
      "    --token SWMTKN-1-1vpttsk2y0jsvnk7emlmm60a02ngiqz2vdje27smtwg0rmb6wr-12ctnevv31rcuezgjj50dupvf \\\n",
      "    192.168.99.114:2377\n",
      "\n",
      "To add a manager to this swarm, run 'docker swarm join-token manager' and follow the instructions.\n",
      "\n"
     ]
    }
   ],
   "source": [
    "docker $(docker-machine config swmaster1) swarm init --advertise-addr $(docker-machine ip swmaster1)"
   ]
  },
  {
   "cell_type": "markdown",
   "metadata": {},
   "source": [
    "A docker info should now show \"Swarm: active\" as below:"
   ]
  },
  {
   "cell_type": "code",
   "execution_count": 22,
   "metadata": {},
   "outputs": [
    {
     "name": "stdout",
     "output_type": "stream",
     "text": [
      "\u001b[01;31m\u001b[KSwarm:\u001b[m\u001b[K active\n"
     ]
    }
   ],
   "source": [
    "docker $(docker-machine config swmaster1) info | grep Swarm:"
   ]
  },
  {
   "cell_type": "code",
   "execution_count": 23,
   "metadata": {},
   "outputs": [
    {
     "name": "stdout",
     "output_type": "stream",
     "text": [
      "Containers: 0\n",
      " Running: 0\n",
      " Paused: 0\n",
      " Stopped: 0\n",
      "Images: 0\n",
      "Server Version: 17.05.0-ce\n",
      "Storage Driver: aufs\n",
      " Root Dir: /mnt/sda1/var/lib/docker/aufs\n",
      " Backing Filesystem: extfs\n",
      " Dirs: 0\n",
      " Dirperm1 Supported: true\n",
      "Logging Driver: json-file\n",
      "Cgroup Driver: cgroupfs\n",
      "Plugins: \n",
      " Volume: local\n",
      " Network: bridge host macvlan null overlay\n",
      "Swarm: active\n",
      " NodeID: m5i0938m512yeqtj2vgwoss38\n",
      " Is Manager: true\n",
      " ClusterID: d5saeqg118afxdm7n8h8w6qf6\n",
      " Managers: 1\n",
      " Nodes: 1\n",
      " Orchestration:\n",
      "  Task History Retention Limit: 5\n",
      " Raft:\n",
      "  Snapshot Interval: 10000\n",
      "  Number of Old Snapshots to Retain: 0\n",
      "  Heartbeat Tick: 1\n",
      "  Election Tick: 3\n",
      " Dispatcher:\n",
      "  Heartbeat Period: 5 seconds\n",
      " CA Configuration:\n",
      "  Expiry Duration: 3 months\n",
      " Node Address: 192.168.99.114\n",
      " Manager Addresses:\n",
      "  192.168.99.114:2377\n",
      "Runtimes: runc\n",
      "Default Runtime: runc\n",
      "Init Binary: docker-init\n",
      "containerd version: 9048e5e50717ea4497b757314bad98ea3763c145\n",
      "runc version: 9c2d8d184e5da67c95d601382adf14862e4f2228\n",
      "init version: 949e6fa\n",
      "Security Options:\n",
      " seccomp\n",
      "  Profile: default\n",
      "Kernel Version: 4.4.66-boot2docker\n",
      "Operating System: Boot2Docker 17.05.0-ce (TCL 7.2); HEAD : 5ed2840 - Fri May  5 21:04:09 UTC 2017\n",
      "OSType: linux\n",
      "Architecture: x86_64\n",
      "CPUs: 1\n",
      "Total Memory: 995.8MiB\n",
      "Name: swmaster1\n",
      "ID: ZERQ:3AXH:6C2M:T6WN:BTHP:7M6D:HP3D:UVUW:Z2NN:WXNH:WDFL:MWSA\n",
      "Docker Root Dir: /mnt/sda1/var/lib/docker\n",
      "Debug Mode (client): false\n",
      "Debug Mode (server): true\n",
      " File Descriptors: 32\n",
      " Goroutines: 126\n",
      " System Time: 2017-05-13T18:08:55.12588841Z\n",
      " EventsListeners: 0\n",
      "Username: mjbright\n",
      "Registry: https://index.docker.io/v1/\n",
      "Labels:\n",
      " provider=virtualbox\n",
      "Experimental: false\n",
      "Insecure Registries:\n",
      " 127.0.0.0/8\n",
      "Live Restore Enabled: false\n",
      "\n"
     ]
    }
   ],
   "source": [
    "docker $(docker-machine config swmaster1) info"
   ]
  },
  {
   "cell_type": "markdown",
   "metadata": {},
   "source": [
    "If we look at the networks we should now see new networks such as '*ingress*' an overlay network and docker_gwbridge for the swarm cluster."
   ]
  },
  {
   "cell_type": "code",
   "execution_count": 24,
   "metadata": {},
   "outputs": [
    {
     "name": "stdout",
     "output_type": "stream",
     "text": [
      "NETWORK ID          NAME                DRIVER              SCOPE\n",
      "4a285364bdf1        bridge              bridge              local\n",
      "1db031891ebd        docker_gwbridge     bridge              local\n",
      "f037776427e3        host                host                local\n",
      "37hr887vm6z7        ingress             overlay             swarm\n",
      "dacef2ccdca4        none                null                local\n"
     ]
    }
   ],
   "source": [
    "docker $(docker-machine config swmaster1) network ls"
   ]
  },
  {
   "cell_type": "markdown",
   "metadata": {},
   "source": [
    "# swarm join\n",
    "\n",
    "Now we wish to join Master and Worker nodes to our swarm cluster, to do this we need to obtain the token generated during the \"swarm init\".\n",
    "\n",
    "Let's save that token to an environment variable as follows:"
   ]
  },
  {
   "cell_type": "code",
   "execution_count": 25,
   "metadata": {
    "collapsed": true
   },
   "outputs": [],
   "source": [
    "worker_token=$(docker $(docker-machine config swmaster1) swarm join-token worker -q)"
   ]
  },
  {
   "cell_type": "code",
   "execution_count": 26,
   "metadata": {},
   "outputs": [
    {
     "name": "stdout",
     "output_type": "stream",
     "text": [
      "SWMTKN-1-1vpttsk2y0jsvnk7emlmm60a02ngiqz2vdje27smtwg0rmb6wr-12ctnevv31rcuezgjj50dupvf\n"
     ]
    }
   ],
   "source": [
    "echo $worker_token"
   ]
  },
  {
   "cell_type": "markdown",
   "metadata": {},
   "source": [
    "Now we can use this token to join nodes as a worker to this cluster\n",
    "\n",
    "Note: we could also join nodes as Master, but we have only 3 nodes available.\n",
    "\n",
    "Let's join swnode1 as a worker node"
   ]
  },
  {
   "cell_type": "code",
   "execution_count": 27,
   "metadata": {},
   "outputs": [
    {
     "name": "stdout",
     "output_type": "stream",
     "text": [
      "This node joined a swarm as a worker.\n"
     ]
    }
   ],
   "source": [
    "docker $(docker-machine config swnode1) swarm join --token $worker_token $(docker-machine ip swmaster1):2377"
   ]
  },
  {
   "cell_type": "markdown",
   "metadata": {},
   "source": [
    "Now we can use the same token to join node swnode2 as a worker node\n"
   ]
  },
  {
   "cell_type": "code",
   "execution_count": 28,
   "metadata": {},
   "outputs": [
    {
     "name": "stdout",
     "output_type": "stream",
     "text": [
      "This node joined a swarm as a worker.\n"
     ]
    }
   ],
   "source": [
    "docker $(docker-machine config swnode2) swarm join --token $worker_token $(docker-machine ip swmaster1):2377"
   ]
  },
  {
   "cell_type": "code",
   "execution_count": 29,
   "metadata": {},
   "outputs": [
    {
     "name": "stdout",
     "output_type": "stream",
     "text": [
      "ID                           HOSTNAME   STATUS  AVAILABILITY  MANAGER STATUS\n",
      "m5i0938m512yeqtj2vgwoss38 *  swmaster1  Ready   Active        Leader\n",
      "obms842spsey4of2hfp795pa0    swnode2    Ready   Active        \n",
      "s6eekxu2v21eyysjeelerkfrw    swnode1    Ready   Active        \n"
     ]
    }
   ],
   "source": [
    "docker $(docker-machine config swmaster1) node ls"
   ]
  },
  {
   "cell_type": "markdown",
   "metadata": {},
   "source": [
    "# start service\n",
    "\n",
    "First we check for any running services - there should be none in our newly initialized cluster:"
   ]
  },
  {
   "cell_type": "code",
   "execution_count": 30,
   "metadata": {},
   "outputs": [
    {
     "name": "stdout",
     "output_type": "stream",
     "text": [
      "ID                  NAME                MODE                REPLICAS            IMAGE\n"
     ]
    }
   ],
   "source": [
    "docker $(docker-machine config swmaster1) service ls"
   ]
  },
  {
   "cell_type": "markdown",
   "metadata": {},
   "source": [
    "Now we will create a new service based on the docker image mjbright/docker-demo\n",
    "\n",
    "We will expose this service on port 8080\n"
   ]
  },
  {
   "cell_type": "code",
   "execution_count": 31,
   "metadata": {},
   "outputs": [
    {
     "name": "stdout",
     "output_type": "stream",
     "text": [
      "jusq9inajzd118hqw801qf8t7\n"
     ]
    }
   ],
   "source": [
    "docker $(docker-machine config swmaster1) service create --replicas 1 --name docker-demo -p 8080:8080 mjbright/docker-demo:20"
   ]
  },
  {
   "cell_type": "markdown",
   "metadata": {},
   "source": [
    "Now we list services again and we should see our newly added docker-demo service"
   ]
  },
  {
   "cell_type": "code",
   "execution_count": 32,
   "metadata": {},
   "outputs": [
    {
     "name": "stdout",
     "output_type": "stream",
     "text": [
      "ID                  NAME                MODE                REPLICAS            IMAGE\n",
      "jusq9inajzd1        docker-demo         replicated          0/1                 mjbright/docker-demo:20\n"
     ]
    }
   ],
   "source": [
    "docker $(docker-machine config swmaster1) service ls"
   ]
  },
  {
   "cell_type": "code",
   "execution_count": 33,
   "metadata": {},
   "outputs": [
    {
     "name": "stdout",
     "output_type": "stream",
     "text": [
      "ID                  NAME                MODE                REPLICAS            IMAGE\n",
      "jusq9inajzd1        docker-demo         replicated          0/1                 mjbright/docker-demo:20\n"
     ]
    }
   ],
   "source": [
    "docker $(docker-machine config swmaster1) service ls"
   ]
  },
  {
   "cell_type": "code",
   "execution_count": 34,
   "metadata": {},
   "outputs": [
    {
     "name": "stdout",
     "output_type": "stream",
     "text": [
      "... waiting for 'docker-demo' replicas to start\n",
      "... waiting for 'docker-demo' replicas to start\n",
      "jusq9inajzd1        \u001b[01;31m\u001b[Kdocker-demo\u001b[m\u001b[K         replicated          1/1                 mjbright/\u001b[01;31m\u001b[Kdocker-demo\u001b[m\u001b[K:20\n"
     ]
    }
   ],
   "source": [
    "NB_docker_loop_until_service_started docker-demo"
   ]
  },
  {
   "cell_type": "markdown",
   "metadata": {},
   "source": [
    "it may take a few seconds until the service has a running container (see REPLICAS column) especially if the container image has not yet been downloaded"
   ]
  },
  {
   "cell_type": "code",
   "execution_count": 35,
   "metadata": {},
   "outputs": [
    {
     "name": "stdout",
     "output_type": "stream",
     "text": [
      "ID                  NAME                MODE                REPLICAS            IMAGE\n",
      "jusq9inajzd1        docker-demo         replicated          1/1                 mjbright/docker-demo:20\n"
     ]
    }
   ],
   "source": [
    "docker $(docker-machine config swmaster1) service ls"
   ]
  },
  {
   "cell_type": "markdown",
   "metadata": {},
   "source": [
    "... and we can look at the service as seen by the cluster:"
   ]
  },
  {
   "cell_type": "code",
   "execution_count": 36,
   "metadata": {},
   "outputs": [
    {
     "name": "stdout",
     "output_type": "stream",
     "text": [
      "ID                  NAME                IMAGE                     NODE                DESIRED STATE       CURRENT STATE           ERROR               PORTS\n",
      "vqet7sf9g2yr        docker-demo.1       mjbright/docker-demo:20   swmaster1           Running             Running 5 seconds ago                       \n"
     ]
    }
   ],
   "source": [
    "docker $(docker-machine config swmaster1) service ps docker-demo"
   ]
  },
  {
   "cell_type": "markdown",
   "metadata": {},
   "source": [
    "... and we can look at the service on the individual cluster nodes.\n",
    "\n",
    "Of course as we set replicas to 1 there is only 1 replica of the service for the moment, running on just 1 node of our cluster:"
   ]
  },
  {
   "cell_type": "code",
   "execution_count": 37,
   "metadata": {},
   "outputs": [
    {
     "name": "stdout",
     "output_type": "stream",
     "text": [
      "CONTAINER ID        IMAGE                     COMMAND                  CREATED             STATUS              PORTS               NAMES\n",
      "bc6e3dda061c        mjbright/docker-demo:20   \"/bin/docker-demo ...\"   8 seconds ago       Up 7 seconds        8080/tcp            docker-demo.1.vqet7sf9g2yrpwnyr0nr0s3ue\n"
     ]
    }
   ],
   "source": [
    "docker $(docker-machine config swmaster1) ps"
   ]
  },
  {
   "cell_type": "code",
   "execution_count": 38,
   "metadata": {},
   "outputs": [
    {
     "name": "stdout",
     "output_type": "stream",
     "text": [
      "CONTAINER ID        IMAGE               COMMAND             CREATED             STATUS              PORTS               NAMES\n"
     ]
    }
   ],
   "source": [
    "docker $(docker-machine config swnode1) ps"
   ]
  },
  {
   "cell_type": "code",
   "execution_count": 39,
   "metadata": {},
   "outputs": [
    {
     "name": "stdout",
     "output_type": "stream",
     "text": [
      "CONTAINER ID        IMAGE               COMMAND             CREATED             STATUS              PORTS               NAMES\n"
     ]
    }
   ],
   "source": [
    "docker $(docker-machine config swnode2) ps"
   ]
  },
  {
   "cell_type": "markdown",
   "metadata": {},
   "source": [
    "# Accessing the service\n",
    "\n",
    "As we are working remotely we need to create an ssh tunnel through to the swarm cluster to access our service, exposing the port 8080 on your local machine.\n",
    "\n",
    "We can obtain the ip address of the swarm master node as follows."
   ]
  },
  {
   "cell_type": "code",
   "execution_count": 40,
   "metadata": {},
   "outputs": [
    {
     "name": "stdout",
     "output_type": "stream",
     "text": [
      "192.168.99.114\n"
     ]
    }
   ],
   "source": [
    "docker-machine ip swmaster1"
   ]
  },
  {
   "cell_type": "markdown",
   "metadata": {},
   "source": [
    "Let's set an environment variable with that ip address"
   ]
  },
  {
   "cell_type": "code",
   "execution_count": 41,
   "metadata": {
    "collapsed": true
   },
   "outputs": [],
   "source": [
    "MASTERIP=$(docker-machine ip swmaster1)"
   ]
  },
  {
   "cell_type": "markdown",
   "metadata": {},
   "source": [
    "Then open your web browser at the page http://<MASTERIP>:8080 (replace <MASTERIP> with the appropriate value) and you should see a lovely blue whale, as below:\n",
    "\n",
    "![](images/docker.png)\n"
   ]
  },
  {
   "cell_type": "markdown",
   "metadata": {},
   "source": [
    "Alternatively we can connect using a command-line client (the web server detects if it's a wget or curl request and returns ASCII text instead of an image)."
   ]
  },
  {
   "cell_type": "code",
   "execution_count": 42,
   "metadata": {},
   "outputs": [
    {
     "name": "stdout",
     "output_type": "stream",
     "text": [
      "--2017-05-13 20:09:31--  http://192.168.99.114:8080/\n",
      "Connecting to 192.168.99.114:8080... connected.\n",
      "HTTP request sent, awaiting response... 200 OK\n",
      "Length: unspecified [text/txt]\n",
      "Saving to: ‘STDOUT’\n",
      "\n",
      "-                       [<=>                 ]       0  --.-KB/s               \n",
      "\n",
      "\u001b[1;36m\n",
      "                                                .---------.                                          \n",
      "                                               .///++++/:.                                          \n",
      "                                               .///+++//:.                                          \n",
      "                                               .///+++//:.                                          \n",
      "                             ``````````````````.:///////:.                       `                  \n",
      "                             .-///////:://+++//::///////-.                      .--.                \n",
      "                             .:::///:::///+++///:::///:::.                     .:ss+-`              \n",
      "                             .:::///:::///+++///:::///:::.                    `.ossss:.             \n",
      "                             .:///////:/+++oo++/:///////:.                    .-ssssss:.            \n",
      "                    .-:::::::--///////--:::::::--///////--:::::::-.           `-sssssso.........``  \n",
      "                    .::////:::://+++///:::///:::///+++//:/::////::.           `.+ssssss/++ooooo+/:.`\n",
      "                    .::////:::://+++///:::///:::///+++//:/::////::.            `.+sssooooooooooo/-` \n",
      "                    .::////:::://+++///:::///:::///+++//:/::////::.           ``.:osoooooooo+/:-.`  \n",
      "            ````````.-:::::::--///////--:::::::-:///////--:::::::-.``````...-:/+ssoo+:-----..``     \n",
      "            .-+++oooooooooooooooooooooooooooooooooooooooooooooooooooooooosssssssoooo-.              \n",
      "      `     .-ooossssssssssssssssssssssss+ssssssssssssssssossssssssssssssssssoooooo:.        `      \n",
      "    ``...```.-+++++/:--/+oosssssssoo++/:-.-:+oosssssso+/:..-:/+oossssssssoo+:--://-.`   ```...`     \n",
      " ````````````.-:::::::::::::::::::::::::::::::::::::::::::::::::::::::::::::::::-..```````````````  \n",
      "             .-////++++++++++++++++++++++++++++++++++++++++++++++++++//////////:.`                  \n",
      "             `.:////++++++++++++++++oss+++++++++++++++++++++++++++///////////:-.                    \n",
      "              `.:////++++++++++++++os.+h+++++++++++++++++++++++/////////////-.`                     \n",
      "               `.://///++++++++++//+soos+++++++++++++++++++///////////////-.`                       \n",
      "                `.--------:::://+o/+++++++++++++++++++/////////////////:-.`                         \n",
      "                  `-sdmmmmmmmNNNNNmo+++++++++++/////////////////////:-.``                           \n",
      "                    `-+hmmmmmmmmmmmms///////////////////////////::-.``                              \n",
      "                      ``-+ydmmmmmmmmmds////////////////////::--.``                                  \n",
      "                         ``.-/oshdmmmmmmho+////////::::--..```                                      \n",
      "                              ````..-:::///---.....````                                             \n",
      "\n",
      "\u001b[0m\n",
      "\n",
      "\u001b[1;33mServed from host bc6e3dda061c\u001b[0;0m\n",
      "-                       [ <=>                ]   2.82K  --.-KB/s    in 0s      \n",
      "\n",
      "2017-05-13 20:09:31 (7.05 MB/s) - written to stdout [2889]\n",
      "\n"
     ]
    }
   ],
   "source": [
    "wget -O - http://$MASTERIP:8080"
   ]
  },
  {
   "cell_type": "markdown",
   "metadata": {},
   "source": [
    "# scale service\n",
    "\n",
    "Now we can scale the service to 3 replicas:"
   ]
  },
  {
   "cell_type": "code",
   "execution_count": 43,
   "metadata": {},
   "outputs": [
    {
     "name": "stdout",
     "output_type": "stream",
     "text": [
      "docker-demo scaled to 3\n"
     ]
    }
   ],
   "source": [
    "docker $(docker-machine config swmaster1) service scale docker-demo=3"
   ]
  },
  {
   "cell_type": "code",
   "execution_count": 44,
   "metadata": {},
   "outputs": [
    {
     "name": "stdout",
     "output_type": "stream",
     "text": [
      "ID                  NAME                IMAGE                     NODE                DESIRED STATE       CURRENT STATE                      ERROR               PORTS\n",
      "vqet7sf9g2yr        docker-demo.1       mjbright/docker-demo:20   swmaster1           Running             Running 13 seconds ago                                 \n",
      "eqijlhjhrxd7        docker-demo.2       mjbright/docker-demo:20   swnode1             Running             Preparing less than a second ago                       \n",
      "hksw0wxtx4il        docker-demo.3       mjbright/docker-demo:20   swnode2             Running             Preparing less than a second ago                       \n"
     ]
    }
   ],
   "source": [
    "docker $(docker-machine config swmaster1) service ps docker-demo"
   ]
  },
  {
   "cell_type": "markdown",
   "metadata": {},
   "source": [
    "# rolling-update\n",
    "\n",
    "Now we will see how we can perform a rolling update.\n",
    "\n",
    "We initially deployed version 20 of the service, now we will upgrade our whole cluster to version 21\n"
   ]
  },
  {
   "cell_type": "code",
   "execution_count": 45,
   "metadata": {},
   "outputs": [
    {
     "name": "stdout",
     "output_type": "stream",
     "text": [
      "ID                  NAME                IMAGE                     NODE                DESIRED STATE       CURRENT STATE             ERROR               PORTS\n",
      "vqet7sf9g2yr        docker-demo.1       mjbright/docker-demo:20   swmaster1           Running             Running 14 seconds ago                        \n",
      "eqijlhjhrxd7        docker-demo.2       mjbright/docker-demo:20   swnode1             Running             Preparing 2 seconds ago                       \n",
      "hksw0wxtx4il        docker-demo.3       mjbright/docker-demo:20   swnode2             Running             Preparing 2 seconds ago                       \n"
     ]
    }
   ],
   "source": [
    "docker $(docker-machine config swmaster1) service ps docker-demo"
   ]
  },
  {
   "cell_type": "code",
   "execution_count": 46,
   "metadata": {},
   "outputs": [
    {
     "name": "stdout",
     "output_type": "stream",
     "text": [
      "docker-demo\n"
     ]
    }
   ],
   "source": [
    "docker $(docker-machine config swmaster1) service update --image mjbright/docker-demo:21 docker-demo"
   ]
  },
  {
   "cell_type": "code",
   "execution_count": 47,
   "metadata": {},
   "outputs": [
    {
     "name": "stdout",
     "output_type": "stream",
     "text": [
      "ID                  NAME                IMAGE                     NODE                DESIRED STATE       CURRENT STATE                     ERROR               PORTS\n",
      "vqet7sf9g2yr        docker-demo.1       mjbright/docker-demo:20   swmaster1           Running             Running 21 seconds ago                                \n",
      "9zxra8gie7yc        docker-demo.2       mjbright/docker-demo:21   swnode1             Running             Preparing 1 second ago                                \n",
      "eqijlhjhrxd7         \\_ docker-demo.2   mjbright/docker-demo:20   swnode1             Shutdown            Shutdown less than a second ago                       \n",
      "hksw0wxtx4il        docker-demo.3       mjbright/docker-demo:20   swnode2             Running             Preparing 8 seconds ago                               \n"
     ]
    }
   ],
   "source": [
    "docker $(docker-machine config swmaster1) service ps docker-demo"
   ]
  },
  {
   "cell_type": "markdown",
   "metadata": {
    "collapsed": true
   },
   "source": [
    "Again it may take a few moments until the new image is downloaded and operational on all nodes.\n",
    "\n",
    "Once the new image has been downloaded and started on all nodes you should see something like:"
   ]
  },
  {
   "cell_type": "code",
   "execution_count": 48,
   "metadata": {},
   "outputs": [
    {
     "name": "stdout",
     "output_type": "stream",
     "text": [
      "ID                  NAME                IMAGE                     NODE                DESIRED STATE       CURRENT STATE              ERROR               PORTS\n",
      "vqet7sf9g2yr        docker-demo.1       mjbright/docker-demo:20   swmaster1           Running             Running 22 seconds ago                         \n",
      "9zxra8gie7yc        docker-demo.2       mjbright/docker-demo:21   swnode1             Running             Preparing 2 seconds ago                        \n",
      "eqijlhjhrxd7         \\_ docker-demo.2   mjbright/docker-demo:20   swnode1             Shutdown            Shutdown 1 second ago                          \n",
      "hksw0wxtx4il        docker-demo.3       mjbright/docker-demo:20   swnode2             Running             Preparing 10 seconds ago                       \n"
     ]
    }
   ],
   "source": [
    "docker $(docker-machine config swmaster1) service ps docker-demo"
   ]
  },
  {
   "cell_type": "markdown",
   "metadata": {},
   "source": [
    "### Verifying the service has been updated\n",
    "\n",
    "Then open your web browser at the page http://localhost:8080 and you should now see a lovely **red** whale.\n",
    "\n",
    "\n",
    "![](images/docker_red.png)"
   ]
  },
  {
   "cell_type": "markdown",
   "metadata": {},
   "source": [
    "of if you prefer the command-line .."
   ]
  },
  {
   "cell_type": "code",
   "execution_count": 49,
   "metadata": {},
   "outputs": [
    {
     "name": "stdout",
     "output_type": "stream",
     "text": [
      "1/3\n",
      "... waiting for 'docker-demo' 3 replicas to start\n",
      "1/3\n",
      "... waiting for 'docker-demo' 3 replicas to start\n",
      "2/3\n",
      "... waiting for 'docker-demo' 3 replicas to start\n",
      "2/3\n",
      "... waiting for 'docker-demo' 3 replicas to start\n",
      "2/3\n",
      "... waiting for 'docker-demo' 3 replicas to start\n",
      "2/3\n",
      "... waiting for 'docker-demo' 3 replicas to start\n",
      "2/3\n",
      "... waiting for 'docker-demo' 3 replicas to start\n",
      "2/3\n",
      "... waiting for 'docker-demo' 3 replicas to start\n",
      "2/3\n",
      "... waiting for 'docker-demo' 3 replicas to start\n",
      "2/3\n",
      "... waiting for 'docker-demo' 3 replicas to start\n",
      "2/3\n",
      "... waiting for 'docker-demo' 3 replicas to start\n",
      "2/3\n",
      "... waiting for 'docker-demo' 3 replicas to start\n",
      "2/3\n",
      "... waiting for 'docker-demo' 3 replicas to start\n",
      "2/3\n",
      "... waiting for 'docker-demo' 3 replicas to start\n",
      "2/3\n",
      "... waiting for 'docker-demo' 3 replicas to start\n",
      "2/3\n",
      "... waiting for 'docker-demo' 3 replicas to start\n",
      "2/3\n",
      "... waiting for 'docker-demo' 3 replicas to start\n",
      "2/3\n",
      "... waiting for 'docker-demo' 3 replicas to start\n",
      "2/3\n",
      "... waiting for 'docker-demo' 3 replicas to start\n",
      "2/3\n",
      "... waiting for 'docker-demo' 3 replicas to start\n",
      "2/3\n",
      "... waiting for 'docker-demo' 3 replicas to start\n",
      "2/3\n",
      "... waiting for 'docker-demo' 3 replicas to start\n",
      "2/3\n",
      "... waiting for 'docker-demo' 3 replicas to start\n",
      "2/3\n",
      "... waiting for 'docker-demo' 3 replicas to start\n",
      "2/3\n",
      "... waiting for 'docker-demo' 3 replicas to start\n",
      "2/3\n",
      "... waiting for 'docker-demo' 3 replicas to start\n",
      "2/3\n",
      "... waiting for 'docker-demo' 3 replicas to start\n",
      "2/3\n",
      "... waiting for 'docker-demo' 3 replicas to start\n",
      "2/3\n",
      "... waiting for 'docker-demo' 3 replicas to start\n",
      "2/3\n",
      "... waiting for 'docker-demo' 3 replicas to start\n",
      "2/3\n",
      "... waiting for 'docker-demo' 3 replicas to start\n",
      "2/3\n",
      "... waiting for 'docker-demo' 3 replicas to start\n",
      "2/3\n",
      "... waiting for 'docker-demo' 3 replicas to start\n",
      "2/3\n",
      "... waiting for 'docker-demo' 3 replicas to start\n",
      "2/3\n",
      "... waiting for 'docker-demo' 3 replicas to start\n",
      "2/3\n",
      "... waiting for 'docker-demo' 3 replicas to start\n",
      "2/3\n",
      "... waiting for 'docker-demo' 3 replicas to start\n",
      "2/3\n",
      "... waiting for 'docker-demo' 3 replicas to start\n",
      "2/3\n",
      "... waiting for 'docker-demo' 3 replicas to start\n",
      "2/3\n",
      "... waiting for 'docker-demo' 3 replicas to start\n",
      "2/3\n",
      "... waiting for 'docker-demo' 3 replicas to start\n",
      "2/3\n",
      "... waiting for 'docker-demo' 3 replicas to start\n",
      "2/3\n",
      "... waiting for 'docker-demo' 3 replicas to start\n",
      "2/3\n",
      "... waiting for 'docker-demo' 3 replicas to start\n",
      "2/3\n",
      "... waiting for 'docker-demo' 3 replicas to start\n",
      "jusq9inajzd1        \u001b[01;31m\u001b[Kdocker-demo\u001b[m\u001b[K         replicated          3/3                 mjbright/\u001b[01;31m\u001b[Kdocker-demo\u001b[m\u001b[K:21\n"
     ]
    }
   ],
   "source": [
    "NB_docker_loop_until_N_replicas_started docker-demo 3\n",
    "\n",
    "#NB_pause"
   ]
  },
  {
   "cell_type": "code",
   "execution_count": 50,
   "metadata": {},
   "outputs": [
    {
     "name": "stdout",
     "output_type": "stream",
     "text": [
      "ID                  NAME                MODE                REPLICAS            IMAGE\n",
      "jusq9inajzd1        docker-demo         replicated          3/3                 mjbright/docker-demo:21\n"
     ]
    }
   ],
   "source": [
    "docker $(docker-machine config swmaster1) service ls"
   ]
  },
  {
   "cell_type": "code",
   "execution_count": 51,
   "metadata": {},
   "outputs": [
    {
     "name": "stdout",
     "output_type": "stream",
     "text": [
      "jusq9inajzd1        \u001b[01;31m\u001b[Kdocker-demo\u001b[m\u001b[K         replicated          3/3                 mjbright/\u001b[01;31m\u001b[Kdocker-demo\u001b[m\u001b[K:21\n"
     ]
    }
   ],
   "source": [
    "NB_docker_loop_until_service_started docker-demo"
   ]
  },
  {
   "cell_type": "code",
   "execution_count": 52,
   "metadata": {},
   "outputs": [
    {
     "name": "stdout",
     "output_type": "stream",
     "text": [
      "--2017-05-13 20:14:28--  http://192.168.99.114:8080/\n",
      "Connecting to 192.168.99.114:8080... connected.\n",
      "HTTP request sent, awaiting response... 200 OK\n",
      "Length: unspecified [text/txt]\n",
      "Saving to: ‘STDOUT’\n",
      "\n",
      "-                       [<=>                 ]       0  --.-KB/s               \n",
      "\n",
      "\u001b[1;31m\n",
      "                                                .---------.                                          \n",
      "                                               .///++++/:.                                          \n",
      "                                               .///+++//:.                                          \n",
      "                                               .///+++//:.                                          \n",
      "                             ``````````````````.:///////:.                       `                  \n",
      "                             .-///////:://+++//::///////-.                      .--.                \n",
      "                             .:::///:::///+++///:::///:::.                     .:ss+-`              \n",
      "                             .:::///:::///+++///:::///:::.                    `.ossss:.             \n",
      "                             .:///////:/+++oo++/:///////:.                    .-ssssss:.            \n",
      "                    .-:::::::--///////--:::::::--///////--:::::::-.           `-sssssso.........``  \n",
      "                    .::////:::://+++///:::///:::///+++//:/::////::.           `.+ssssss/++ooooo+/:.`\n",
      "                    .::////:::://+++///:::///:::///+++//:/::////::.            `.+sssooooooooooo/-` \n",
      "                    .::////:::://+++///:::///:::///+++//:/::////::.           ``.:osoooooooo+/:-.`  \n",
      "            ````````.-:::::::--///////--:::::::-:///////--:::::::-.``````...-:/+ssoo+:-----..``     \n",
      "            .-+++oooooooooooooooooooooooooooooooooooooooooooooooooooooooosssssssoooo-.              \n",
      "      `     .-ooossssssssssssssssssssssss+ssssssssssssssssossssssssssssssssssoooooo:.        `      \n",
      "    ``...```.-+++++/:--/+oosssssssoo++/:-.-:+oosssssso+/:..-:/+oossssssssoo+:--://-.`   ```...`     \n",
      " ````````````.-:::::::::::::::::::::::::::::::::::::::::::::::::::::::::::::::::-..```````````````  \n",
      "             .-////++++++++++++++++++++++++++++++++++++++++++++++++++//////////:.`                  \n",
      "             `.:////++++++++++++++++oss+++++++++++++++++++++++++++///////////:-.                    \n",
      "              `.:////++++++++++++++os.+h+++++++++++++++++++++++/////////////-.`                     \n",
      "               `.://///++++++++++//+soos+++++++++++++++++++///////////////-.`                       \n",
      "                `.--------:::://+o/+++++++++++++++++++/////////////////:-.`                         \n",
      "                  `-sdmmmmmmmNNNNNmo+++++++++++/////////////////////:-.``                           \n",
      "                    `-+hmmmmmmmmmmmms///////////////////////////::-.``                              \n",
      "                      ``-+ydmmmmmmmmmds////////////////////::--.``                                  \n",
      "                         ``.-/oshdmmmmmmho+////////::::--..```                                      \n",
      "                              ````..-:::///---.....````                                             \n",
      "\n",
      "\u001b[0m\n",
      "\n",
      "\n",
      "\u001b[1;33mServed from c6e072f0ce71\u001b[0;0m\n",
      "\n",
      "-                       [ <=>                ]   2.82K  --.-KB/s    in 0.001s  \n",
      "\n",
      "2017-05-13 20:14:28 (3.67 MB/s) - written to stdout [2886]\n",
      "\n"
     ]
    }
   ],
   "source": [
    "wget -O - http://$MASTERIP:8080"
   ]
  },
  {
   "cell_type": "markdown",
   "metadata": {},
   "source": [
    "# drain a node\n",
    "\n",
    "We can drain a node effectively placing it in 'maintenance mode'.\n",
    "\n",
    "Draining a node means that it no longer has running tasks on it."
   ]
  },
  {
   "cell_type": "code",
   "execution_count": 53,
   "metadata": {},
   "outputs": [
    {
     "name": "stdout",
     "output_type": "stream",
     "text": [
      "ID                           HOSTNAME   STATUS  AVAILABILITY  MANAGER STATUS\n",
      "m5i0938m512yeqtj2vgwoss38 *  swmaster1  Ready   Active        Leader\n",
      "obms842spsey4of2hfp795pa0    swnode2    Ready   Active        \n",
      "s6eekxu2v21eyysjeelerkfrw    swnode1    Ready   Active        \n"
     ]
    }
   ],
   "source": [
    "docker $(docker-machine config swmaster1) node ls"
   ]
  },
  {
   "cell_type": "markdown",
   "metadata": {},
   "source": [
    "Let's drain swnode1"
   ]
  },
  {
   "cell_type": "code",
   "execution_count": 54,
   "metadata": {},
   "outputs": [
    {
     "name": "stdout",
     "output_type": "stream",
     "text": [
      "ID                  NAME                IMAGE                     NODE                DESIRED STATE       CURRENT STATE                 ERROR               PORTS\n",
      "kh1k6uccp1kr        docker-demo.1       mjbright/docker-demo:21   swmaster1           Running             Running 11 seconds ago                            \n",
      "vqet7sf9g2yr         \\_ docker-demo.1   mjbright/docker-demo:20   swmaster1           Shutdown            Shutdown about a minute ago                       \n",
      "9zxra8gie7yc        docker-demo.2       mjbright/docker-demo:21   swnode1             Running             Running 3 minutes ago                             \n",
      "eqijlhjhrxd7         \\_ docker-demo.2   mjbright/docker-demo:20   swnode1             Shutdown            Shutdown 4 minutes ago                            \n",
      "hk5o4ruqtc3j        docker-demo.3       mjbright/docker-demo:21   swnode2             Running             Running about a minute ago                        \n",
      "hksw0wxtx4il         \\_ docker-demo.3   mjbright/docker-demo:20   swnode2             Shutdown            Shutdown 3 minutes ago                            \n"
     ]
    }
   ],
   "source": [
    "docker $(docker-machine config swmaster1) service ps docker-demo"
   ]
  },
  {
   "cell_type": "code",
   "execution_count": 55,
   "metadata": {},
   "outputs": [
    {
     "name": "stdout",
     "output_type": "stream",
     "text": [
      "swnode1\n"
     ]
    }
   ],
   "source": [
    "docker $(docker-machine config swmaster1) node update --availability drain swnode1"
   ]
  },
  {
   "cell_type": "markdown",
   "metadata": {},
   "source": [
    "and now we see that all services on swnode1 are shutdown"
   ]
  },
  {
   "cell_type": "code",
   "execution_count": 56,
   "metadata": {},
   "outputs": [
    {
     "name": "stdout",
     "output_type": "stream",
     "text": [
      "ID                  NAME                IMAGE                     NODE                DESIRED STATE       CURRENT STATE                  ERROR               PORTS\n",
      "kh1k6uccp1kr        docker-demo.1       mjbright/docker-demo:21   swmaster1           Running             Running 14 seconds ago                             \n",
      "vqet7sf9g2yr         \\_ docker-demo.1   mjbright/docker-demo:20   swmaster1           Shutdown            Shutdown about a minute ago                        \n",
      "zlqka7ebxj15        docker-demo.2       mjbright/docker-demo:21   swmaster1           Ready               Ready less than a second ago                       \n",
      "9zxra8gie7yc         \\_ docker-demo.2   mjbright/docker-demo:21   swnode1             Shutdown            Running 1 second ago                               \n",
      "eqijlhjhrxd7         \\_ docker-demo.2   mjbright/docker-demo:20   swnode1             Shutdown            Shutdown 4 minutes ago                             \n",
      "hk5o4ruqtc3j        docker-demo.3       mjbright/docker-demo:21   swnode2             Running             Running about a minute ago                         \n",
      "hksw0wxtx4il         \\_ docker-demo.3   mjbright/docker-demo:20   swnode2             Shutdown            Shutdown 3 minutes ago                             \n"
     ]
    }
   ],
   "source": [
    "docker $(docker-machine config swmaster1) service ps docker-demo"
   ]
  },
  {
   "cell_type": "markdown",
   "metadata": {},
   "source": [
    "But as we had request 3 replicas of our service the Swarm mode will take care to start extra instances on other nodes so that we still have 3 replicas of the service running.\n",
    "\n",
    "So after a few seconds we see that we once again have 3 replicas in the *Running* state, as shown below:"
   ]
  },
  {
   "cell_type": "code",
   "execution_count": 57,
   "metadata": {},
   "outputs": [
    {
     "name": "stdout",
     "output_type": "stream",
     "text": [
      "ID                  NAME                IMAGE                     NODE                DESIRED STATE       CURRENT STATE                 ERROR               PORTS\n",
      "kh1k6uccp1kr        docker-demo.1       mjbright/docker-demo:21   swmaster1           Running             Running 15 seconds ago                            \n",
      "vqet7sf9g2yr         \\_ docker-demo.1   mjbright/docker-demo:20   swmaster1           Shutdown            Shutdown about a minute ago                       \n",
      "zlqka7ebxj15        docker-demo.2       mjbright/docker-demo:21   swmaster1           Ready               Ready 2 seconds ago                               \n",
      "9zxra8gie7yc         \\_ docker-demo.2   mjbright/docker-demo:21   swnode1             Shutdown            Running 2 seconds ago                             \n",
      "eqijlhjhrxd7         \\_ docker-demo.2   mjbright/docker-demo:20   swnode1             Shutdown            Shutdown 4 minutes ago                            \n",
      "hk5o4ruqtc3j        docker-demo.3       mjbright/docker-demo:21   swnode2             Running             Running about a minute ago                        \n",
      "hksw0wxtx4il         \\_ docker-demo.3   mjbright/docker-demo:20   swnode2             Shutdown            Shutdown 3 minutes ago                            \n"
     ]
    }
   ],
   "source": [
    "docker $(docker-machine config swmaster1) service ps docker-demo"
   ]
  },
  {
   "cell_type": "markdown",
   "metadata": {},
   "source": [
    "# remove a service\n",
    "\n",
    "Now let's cleanup by removing our service"
   ]
  },
  {
   "cell_type": "code",
   "execution_count": 58,
   "metadata": {},
   "outputs": [
    {
     "name": "stdout",
     "output_type": "stream",
     "text": [
      "docker-demo\n"
     ]
    }
   ],
   "source": [
    "docker $(docker-machine config swmaster1) service rm docker-demo"
   ]
  },
  {
   "cell_type": "markdown",
   "metadata": {},
   "source": [
    "We can check that the service is no longer running:"
   ]
  },
  {
   "cell_type": "code",
   "execution_count": 59,
   "metadata": {},
   "outputs": [
    {
     "name": "stdout",
     "output_type": "stream",
     "text": [
      "no such services: docker-demo\n"
     ]
    }
   ],
   "source": [
    "docker $(docker-machine config swmaster1) service ps docker-demo\n",
    "\n",
    "NB_continue"
   ]
  },
  {
   "cell_type": "code",
   "execution_count": 60,
   "metadata": {},
   "outputs": [
    {
     "name": "stdout",
     "output_type": "stream",
     "text": [
      "CONTAINER ID        IMAGE                     COMMAND                  CREATED             STATUS              PORTS               NAMES\n",
      "c6e072f0ce71        mjbright/docker-demo:21   \"/bin/sh -c 'pytho...\"   21 seconds ago      Up 19 seconds                           docker-demo.1.kh1k6uccp1kr1hv6fee152xkx\n"
     ]
    }
   ],
   "source": [
    "docker $(docker-machine config swmaster1) ps"
   ]
  },
  {
   "cell_type": "code",
   "execution_count": 61,
   "metadata": {},
   "outputs": [
    {
     "name": "stdout",
     "output_type": "stream",
     "text": [
      "Started at Sat May 13 20:14:38 CEST 2017   [1494698568]\n",
      "Ended   at Sat May 13 20:14:38 CEST 2017   [1494699278]\n",
      "Took 710 secs [0h11m50]\n"
     ]
    }
   ],
   "source": [
    "NB_time_taken"
   ]
  }
 ],
 "metadata": {
  "anaconda-cloud": {},
  "kernelspec": {
   "display_name": "Bash",
   "language": "bash",
   "name": "bash"
  },
  "language_info": {
   "codemirror_mode": "shell",
   "file_extension": ".sh",
   "mimetype": "text/x-sh",
   "name": "bash"
  }
 },
 "nbformat": 4,
 "nbformat_minor": 1
}
