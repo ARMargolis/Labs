{
 "cells": [
  {
   "cell_type": "markdown",
   "metadata": {},
   "source": [
    "# Docker \"Swarm Mode\" Lab\n",
    "\n",
    "Based on Mario's gist here: https://gist.github.com/l0rd/5186cc80f8f26dc7e9490abca4405830"
   ]
  },
  {
   "cell_type": "markdown",
   "metadata": {},
   "source": [
    "# Requirements\n",
    "- Docker 1.12\n",
    "- Docker machine\n",
    "- Virtualbox\n",
    "\n",
    "# Create 3 nodes for your swarm cluster (one master and 2 slaves)\n",
    "\n",
    "We will create 3 nodes using docker-machine/virtualbox.\n",
    "\n",
    "#### NOTE:\n",
    "You may see errors as below, and an error reported by \"docker-machine ls\", leave some time for the swmaster to settle.\n",
    "\n",
    "In the meantime you can go ahead and create the 2 swnode's below."
   ]
  },
  {
   "cell_type": "code",
   "execution_count": 1,
   "metadata": {
    "collapsed": false
   },
   "outputs": [],
   "source": [
    ". ../docker1.13.0.rc"
   ]
  },
  {
   "cell_type": "markdown",
   "metadata": {},
   "source": [
    "Let's cleanup any remaining machines, if they exist already .."
   ]
  },
  {
   "cell_type": "code",
   "execution_count": 2,
   "metadata": {
    "collapsed": false
   },
   "outputs": [
    {
     "name": "stdout",
     "output_type": "stream",
     "text": [
      "About to remove swmaster, swnode1, swnode2\n",
      "Successfully removed swmaster\n",
      "Successfully removed swnode1\n",
      "Successfully removed swnode2\n"
     ]
    }
   ],
   "source": [
    "docker-machine rm -f swmaster swnode1 swnode2"
   ]
  },
  {
   "cell_type": "markdown",
   "metadata": {},
   "source": [
    "Now let's create our new nodes"
   ]
  },
  {
   "cell_type": "code",
   "execution_count": 3,
   "metadata": {
    "collapsed": false
   },
   "outputs": [
    {
     "name": "stdout",
     "output_type": "stream",
     "text": [
      "Running pre-create checks...\n",
      "Creating machine...\n",
      "(swmaster) Copying /home/mjb/.docker/machine/cache/boot2docker.iso to /home/mjb/.docker/machine/machines/swmaster/boot2docker.iso...\n",
      "(swmaster) Creating VirtualBox VM...\n",
      "(swmaster) Creating SSH key...\n",
      "(swmaster) Starting the VM...\n",
      "(swmaster) Check network to re-create if needed...\n",
      "(swmaster) Waiting for an IP...\n",
      "Waiting for machine to be running, this may take a few minutes...\n",
      "Detecting operating system of created instance...\n",
      "Waiting for SSH to be available...\n",
      "Detecting the provisioner...\n",
      "Provisioning with boot2docker...\n",
      "Copying certs to the local machine directory...\n",
      "Copying certs to the remote machine...\n",
      "Setting Docker configuration on the remote daemon...\n",
      "Checking connection to Docker...\n",
      "Docker is up and running!\n",
      "To see how to connect your Docker Client to the Docker Engine running on this virtual machine, run: docker-machine env swmaster\n"
     ]
    }
   ],
   "source": [
    "docker-machine create -d virtualbox swmaster"
   ]
  },
  {
   "cell_type": "code",
   "execution_count": 4,
   "metadata": {
    "collapsed": false
   },
   "outputs": [
    {
     "name": "stdout",
     "output_type": "stream",
     "text": [
      "NAME       ACTIVE   DRIVER       STATE     URL                         SWARM   DOCKER    ERRORS\n",
      "swmaster   -        virtualbox   Running   tcp://192.168.99.114:2376           v1.13.0   \n"
     ]
    }
   ],
   "source": [
    "docker-machine ls"
   ]
  },
  {
   "cell_type": "code",
   "execution_count": 5,
   "metadata": {
    "collapsed": false
   },
   "outputs": [
    {
     "name": "stdout",
     "output_type": "stream",
     "text": [
      "Running pre-create checks...\n",
      "Creating machine...\n",
      "(swnode1) Copying /home/mjb/.docker/machine/cache/boot2docker.iso to /home/mjb/.docker/machine/machines/swnode1/boot2docker.iso...\n",
      "(swnode1) Creating VirtualBox VM...\n",
      "(swnode1) Creating SSH key...\n",
      "(swnode1) Starting the VM...\n",
      "(swnode1) Check network to re-create if needed...\n",
      "(swnode1) Waiting for an IP...\n",
      "Waiting for machine to be running, this may take a few minutes...\n",
      "Detecting operating system of created instance...\n",
      "Waiting for SSH to be available...\n",
      "Detecting the provisioner...\n",
      "Provisioning with boot2docker...\n",
      "Copying certs to the local machine directory...\n",
      "Copying certs to the remote machine...\n",
      "Setting Docker configuration on the remote daemon...\n",
      "Checking connection to Docker...\n",
      "Docker is up and running!\n",
      "To see how to connect your Docker Client to the Docker Engine running on this virtual machine, run: docker-machine env swnode1\n"
     ]
    }
   ],
   "source": [
    "docker-machine create -d virtualbox swnode1"
   ]
  },
  {
   "cell_type": "code",
   "execution_count": 6,
   "metadata": {
    "collapsed": false
   },
   "outputs": [
    {
     "name": "stdout",
     "output_type": "stream",
     "text": [
      "NAME       ACTIVE   DRIVER       STATE     URL                         SWARM   DOCKER    ERRORS\n",
      "swmaster   -        virtualbox   Running   tcp://192.168.99.114:2376           v1.13.0   \n",
      "swnode1    -        virtualbox   Running   tcp://192.168.99.115:2376           v1.13.0   \n"
     ]
    }
   ],
   "source": [
    "docker-machine ls"
   ]
  },
  {
   "cell_type": "code",
   "execution_count": 7,
   "metadata": {
    "collapsed": false
   },
   "outputs": [
    {
     "name": "stdout",
     "output_type": "stream",
     "text": [
      "Running pre-create checks...\n",
      "Creating machine...\n",
      "(swnode2) Copying /home/mjb/.docker/machine/cache/boot2docker.iso to /home/mjb/.docker/machine/machines/swnode2/boot2docker.iso...\n",
      "(swnode2) Creating VirtualBox VM...\n",
      "(swnode2) Creating SSH key...\n",
      "(swnode2) Starting the VM...\n",
      "(swnode2) Check network to re-create if needed...\n",
      "(swnode2) Waiting for an IP...\n",
      "Waiting for machine to be running, this may take a few minutes...\n",
      "Detecting operating system of created instance...\n",
      "Waiting for SSH to be available...\n",
      "Detecting the provisioner...\n",
      "Provisioning with boot2docker...\n",
      "Copying certs to the local machine directory...\n",
      "Copying certs to the remote machine...\n",
      "Setting Docker configuration on the remote daemon...\n",
      "Checking connection to Docker...\n",
      "Docker is up and running!\n",
      "To see how to connect your Docker Client to the Docker Engine running on this virtual machine, run: docker-machine env swnode2\n",
      "\n",
      "real\t1m0.897s\n",
      "user\t0m0.670s\n",
      "sys\t0m0.053s\n"
     ]
    }
   ],
   "source": [
    "time docker-machine create -d virtualbox swnode2"
   ]
  },
  {
   "cell_type": "code",
   "execution_count": 8,
   "metadata": {
    "collapsed": false
   },
   "outputs": [
    {
     "name": "stdout",
     "output_type": "stream",
     "text": [
      "NAME       ACTIVE   DRIVER       STATE     URL                         SWARM   DOCKER    ERRORS\n",
      "swmaster   -        virtualbox   Running   tcp://192.168.99.114:2376           v1.13.0   \n",
      "swnode1    -        virtualbox   Running   tcp://192.168.99.115:2376           v1.13.0   \n",
      "swnode2    -        virtualbox   Running   tcp://192.168.99.116:2376           v1.13.0   \n"
     ]
    }
   ],
   "source": [
    "docker-machine ls"
   ]
  },
  {
   "cell_type": "markdown",
   "metadata": {},
   "source": [
    "# swarm init\n",
    "\n",
    "Now that we have 3 nodes available, we will initialize our Swarm Cluster with 1 master node.\n",
    "\n",
    "### Directing the docker client to a particular nodes' docker daemon\n",
    "**NOTE**: See that we precede all docker commands with $(docker-machine config NODE) where node is the name of the node to which we want our docker client to connect to.  This command returns the parameters to direct our client to the appropriate node.  Run alone this produces:"
   ]
  },
  {
   "cell_type": "code",
   "execution_count": 9,
   "metadata": {
    "collapsed": false
   },
   "outputs": [
    {
     "name": "stdout",
     "output_type": "stream",
     "text": [
      "--tlsverify\n",
      "--tlscacert=\"/home/mjb/.docker/machine/certs/ca.pem\"\n",
      "--tlscert=\"/home/mjb/.docker/machine/certs/cert.pem\"\n",
      "--tlskey=\"/home/mjb/.docker/machine/certs/key.pem\"\n",
      "-H=tcp://192.168.99.114:2376\n"
     ]
    }
   ],
   "source": [
    "docker-machine config swmaster"
   ]
  },
  {
   "cell_type": "markdown",
   "metadata": {},
   "source": [
    "Including these parameters on the docker command line will connect the client to the docker daemon running on node '*swmaster*'.\n",
    "\n",
    "### Networks before creation of swarm cluster\n",
    "Before going further let's look at the networks on your machine.\n",
    "\n",
    "Later, we'll see how a new network is created once the swarm cluster has been created."
   ]
  },
  {
   "cell_type": "code",
   "execution_count": 10,
   "metadata": {
    "collapsed": false
   },
   "outputs": [
    {
     "name": "stdout",
     "output_type": "stream",
     "text": [
      "NETWORK ID          NAME                DRIVER              SCOPE\n",
      "c7c01d8b70a3        bridge              bridge              local\n",
      "e16375837cfa        host                host                local\n",
      "f22f49175ae7        none                null                local\n"
     ]
    }
   ],
   "source": [
    "docker $(docker-machine config swmaster) network ls"
   ]
  },
  {
   "cell_type": "markdown",
   "metadata": {},
   "source": [
    "Now let's identify the ip address of our master node.\n",
    "\n",
    "We can see this through config or ip commands of docker-machine as shown below."
   ]
  },
  {
   "cell_type": "code",
   "execution_count": 11,
   "metadata": {
    "collapsed": false
   },
   "outputs": [
    {
     "name": "stdout",
     "output_type": "stream",
     "text": [
      "192.168.99.114\n"
     ]
    }
   ],
   "source": [
    "docker-machine ip swmaster"
   ]
  },
  {
   "cell_type": "markdown",
   "metadata": {},
   "source": [
    "We could then provide the above ip address as parameter to --advertise-addr when initializing the swarm.\n",
    "\n",
    "However, it is quite convenient to run the above commands embedded, as below, as arguments to the swarm init command.\n",
    "\n",
    "docker-machine config swmaster provides the parameters to use when connecting to the appropriate docker engine for our machine \"swmaster\".\n",
    "\n",
    "The following command will run swarm init to generate the cluster with 'swmaster' as the Master node.\n",
    "You should see output similar to the below:"
   ]
  },
  {
   "cell_type": "code",
   "execution_count": 12,
   "metadata": {
    "collapsed": false
   },
   "outputs": [
    {
     "name": "stdout",
     "output_type": "stream",
     "text": [
      "Swarm initialized: current node (r243hhgco052fasc7pen4v0ay) is now a manager.\n",
      "\n",
      "To add a worker to this swarm, run the following command:\n",
      "\n",
      "    docker swarm join \\\n",
      "    --token SWMTKN-1-41zu4a0mditg8v6fj5s5l0s596c1l34q5ifun0q3fotel5jbmr-7km3aswq6nx3coc3vq317wjak \\\n",
      "    192.168.99.114:2377\n",
      "\n",
      "To add a manager to this swarm, run 'docker swarm join-token manager' and follow the instructions.\n",
      "\n"
     ]
    }
   ],
   "source": [
    "docker $(docker-machine config swmaster) swarm init --advertise-addr $(docker-machine ip swmaster)"
   ]
  },
  {
   "cell_type": "markdown",
   "metadata": {},
   "source": [
    "A docker info should now show \"Swarm: active\" as below:"
   ]
  },
  {
   "cell_type": "code",
   "execution_count": 13,
   "metadata": {
    "collapsed": false
   },
   "outputs": [
    {
     "name": "stdout",
     "output_type": "stream",
     "text": [
      "Containers: 0\n",
      " Running: 0\n",
      " Paused: 0\n",
      " Stopped: 0\n",
      "Images: 0\n",
      "Server Version: 1.13.0\n",
      "Storage Driver: aufs\n",
      " Root Dir: /mnt/sda1/var/lib/docker/aufs\n",
      " Backing Filesystem: extfs\n",
      " Dirs: 0\n",
      " Dirperm1 Supported: true\n",
      "Logging Driver: json-file\n",
      "Cgroup Driver: cgroupfs\n",
      "Plugins: \n",
      " Volume: local\n",
      " Network: bridge host macvlan null overlay\n",
      "Swarm: active\n",
      " NodeID: r243hhgco052fasc7pen4v0ay\n",
      " Is Manager: true\n",
      " ClusterID: vmgj75qogu29e4xnfnno9n2n0\n",
      " Managers: 1\n",
      " Nodes: 1\n",
      " Orchestration:\n",
      "  Task History Retention Limit: 5\n",
      " Raft:\n",
      "  Snapshot Interval: 10000\n",
      "  Number of Old Snapshots to Retain: 0\n",
      "  Heartbeat Tick: 1\n",
      "  Election Tick: 3\n",
      " Dispatcher:\n",
      "  Heartbeat Period: 5 seconds\n",
      " CA Configuration:\n",
      "  Expiry Duration: 3 months\n",
      " Node Address: 192.168.99.114\n",
      " Manager Addresses:\n",
      "  192.168.99.114:2377\n",
      "Runtimes: runc\n",
      "Default Runtime: runc\n",
      "Init Binary: docker-init\n",
      "containerd version: 03e5862ec0d8d3b3f750e19fca3ee367e13c090e\n",
      "runc version: 2f7393a47307a16f8cee44a37b262e8b81021e3e\n",
      "init version: 949e6fa\n",
      "Security Options:\n",
      " seccomp\n",
      "  Profile: default\n",
      "Kernel Version: 4.4.43-boot2docker\n",
      "Operating System: Boot2Docker 1.13.0 (TCL 7.2); HEAD : 5b8d9cb - Wed Jan 18 18:50:40 UTC 2017\n",
      "OSType: linux\n",
      "Architecture: x86_64\n",
      "CPUs: 1\n",
      "Total Memory: 995.8 MiB\n",
      "Name: swmaster\n",
      "ID: A7MI:CIPN:M53F:W6UZ:FJKH:4P6H:SE2I:PSOE:SWOZ:I2EO:XGAX:UHW4\n",
      "Docker Root Dir: /mnt/sda1/var/lib/docker\n",
      "Debug Mode (client): false\n",
      "Debug Mode (server): true\n",
      " File Descriptors: 32\n",
      " Goroutines: 124\n",
      " System Time: 2017-01-25T20:22:05.60989371Z\n",
      " EventsListeners: 0\n",
      "Username: mjbright\n",
      "Registry: https://index.docker.io/v1/\n",
      "Labels:\n",
      " provider=virtualbox\n",
      "Experimental: false\n",
      "Insecure Registries:\n",
      " 127.0.0.0/8\n",
      "Live Restore Enabled: false\n"
     ]
    }
   ],
   "source": [
    "docker $(docker-machine config swmaster) info"
   ]
  },
  {
   "cell_type": "markdown",
   "metadata": {},
   "source": [
    "If we look at the networks we should now see new networks such as '*ingress*' an overlay network and docker_gwbridge for the swarm cluster."
   ]
  },
  {
   "cell_type": "code",
   "execution_count": 14,
   "metadata": {
    "collapsed": false
   },
   "outputs": [
    {
     "name": "stdout",
     "output_type": "stream",
     "text": [
      "NETWORK ID          NAME                DRIVER              SCOPE\n",
      "c7c01d8b70a3        bridge              bridge              local\n",
      "32597262f84d        docker_gwbridge     bridge              local\n",
      "e16375837cfa        host                host                local\n",
      "cysk2wkjtjca        ingress             overlay             swarm\n",
      "f22f49175ae7        none                null                local\n"
     ]
    }
   ],
   "source": [
    "docker $(docker-machine config swmaster) network ls"
   ]
  },
  {
   "cell_type": "markdown",
   "metadata": {},
   "source": [
    "# swarm join\n",
    "\n",
    "Now we wish to join Master and Worker nodes to our swarm cluster, to do this we need to obtain the token generated during the \"swarm init\".\n",
    "\n",
    "Let's save that token to an environment variable as follows:"
   ]
  },
  {
   "cell_type": "code",
   "execution_count": 15,
   "metadata": {
    "collapsed": false
   },
   "outputs": [],
   "source": [
    "token=$(docker $(docker-machine config swmaster) swarm join-token worker -q)"
   ]
  },
  {
   "cell_type": "code",
   "execution_count": 16,
   "metadata": {
    "collapsed": false
   },
   "outputs": [
    {
     "name": "stdout",
     "output_type": "stream",
     "text": [
      "SWMTKN-1-41zu4a0mditg8v6fj5s5l0s596c1l34q5ifun0q3fotel5jbmr-7km3aswq6nx3coc3vq317wjak\n"
     ]
    }
   ],
   "source": [
    "echo $token"
   ]
  },
  {
   "cell_type": "markdown",
   "metadata": {},
   "source": [
    "Now we can use this token to join nodes as a worker to this cluster\n",
    "\n",
    "Note: we could also join nodes as Master, but we have only 3 nodes available.\n",
    "\n",
    "Let's join swnode1 as a worker node"
   ]
  },
  {
   "cell_type": "code",
   "execution_count": 17,
   "metadata": {
    "collapsed": false
   },
   "outputs": [
    {
     "name": "stdout",
     "output_type": "stream",
     "text": [
      "This node joined a swarm as a worker.\n"
     ]
    }
   ],
   "source": [
    "docker $(docker-machine config swnode1) swarm join --token $token $(docker-machine ip swmaster):2377"
   ]
  },
  {
   "cell_type": "markdown",
   "metadata": {},
   "source": [
    "Now we can use the same token to join node swnode2 as a worker node\n"
   ]
  },
  {
   "cell_type": "code",
   "execution_count": 18,
   "metadata": {
    "collapsed": false
   },
   "outputs": [
    {
     "name": "stdout",
     "output_type": "stream",
     "text": [
      "This node joined a swarm as a worker.\n"
     ]
    }
   ],
   "source": [
    "docker $(docker-machine config swnode2) swarm join --token $token $(docker-machine ip swmaster):2377"
   ]
  },
  {
   "cell_type": "markdown",
   "metadata": {},
   "source": [
    "# start service\n",
    "\n",
    "First we check for any running services - there should be none in our newly initialized cluster:"
   ]
  },
  {
   "cell_type": "code",
   "execution_count": 19,
   "metadata": {
    "collapsed": false
   },
   "outputs": [
    {
     "name": "stdout",
     "output_type": "stream",
     "text": [
      "ID  NAME  MODE  REPLICAS  IMAGE\n"
     ]
    }
   ],
   "source": [
    "docker $(docker-machine config swmaster) service ls"
   ]
  },
  {
   "cell_type": "markdown",
   "metadata": {},
   "source": [
    "Now we will create a new service based on the docker image mariolet/docker-demo\n",
    "\n",
    "We will expose this service on port 8080\n"
   ]
  },
  {
   "cell_type": "code",
   "execution_count": 20,
   "metadata": {
    "collapsed": false
   },
   "outputs": [
    {
     "name": "stdout",
     "output_type": "stream",
     "text": [
      "z6yi30k1yqedhutcspzxisbkt\n"
     ]
    }
   ],
   "source": [
    "docker $(docker-machine config swmaster) service create --replicas 1 --name docker-demo -p 8080:8080 mariolet/docker-demo:20"
   ]
  },
  {
   "cell_type": "markdown",
   "metadata": {},
   "source": [
    "Now we list services again and we should see our newly added docker-demo service"
   ]
  },
  {
   "cell_type": "code",
   "execution_count": 21,
   "metadata": {
    "collapsed": false
   },
   "outputs": [
    {
     "name": "stdout",
     "output_type": "stream",
     "text": [
      "ID            NAME         MODE        REPLICAS  IMAGE\n",
      "z6yi30k1yqed  docker-demo  replicated  0/1       mariolet/docker-demo:20\n"
     ]
    }
   ],
   "source": [
    "docker $(docker-machine config swmaster) service ls"
   ]
  },
  {
   "cell_type": "markdown",
   "metadata": {},
   "source": [
    "... and we can look at the service as seen by the cluster:"
   ]
  },
  {
   "cell_type": "code",
   "execution_count": 22,
   "metadata": {
    "collapsed": false
   },
   "outputs": [
    {
     "name": "stdout",
     "output_type": "stream",
     "text": [
      "ID            NAME           IMAGE                    NODE     DESIRED STATE  CURRENT STATE            ERROR  PORTS\n",
      "sac0v5i5beuj  docker-demo.1  mariolet/docker-demo:20  swnode2  Running        Preparing 4 seconds ago         \n"
     ]
    }
   ],
   "source": [
    "docker $(docker-machine config swmaster) service ps docker-demo"
   ]
  },
  {
   "cell_type": "markdown",
   "metadata": {},
   "source": [
    "... and we can look at the service on the individual cluster nodes.\n",
    "\n",
    "Of course as we set replicas to 1 there is only 1 replica of the service for the moment, running on just 1 node of our cluster:"
   ]
  },
  {
   "cell_type": "code",
   "execution_count": 23,
   "metadata": {
    "collapsed": false
   },
   "outputs": [
    {
     "name": "stdout",
     "output_type": "stream",
     "text": [
      "CONTAINER ID        IMAGE               COMMAND             CREATED             STATUS              PORTS               NAMES\n"
     ]
    }
   ],
   "source": [
    "docker $(docker-machine config swmaster) ps"
   ]
  },
  {
   "cell_type": "code",
   "execution_count": 24,
   "metadata": {
    "collapsed": false
   },
   "outputs": [
    {
     "name": "stdout",
     "output_type": "stream",
     "text": [
      "CONTAINER ID        IMAGE               COMMAND             CREATED             STATUS              PORTS               NAMES\n"
     ]
    }
   ],
   "source": [
    "docker $(docker-machine config swnode1) ps"
   ]
  },
  {
   "cell_type": "code",
   "execution_count": 25,
   "metadata": {
    "collapsed": false
   },
   "outputs": [
    {
     "name": "stdout",
     "output_type": "stream",
     "text": [
      "CONTAINER ID        IMAGE                                                                                          COMMAND                  CREATED             STATUS              PORTS               NAMES\n",
      "ac7f4401b6fc        mariolet/docker-demo@sha256:4721f179882cd7a84c42893046be38da94b59dc4b8a3dae56277d7b7b04a96cb   \"/bin/docker-demo ...\"   3 seconds ago       Up 2 seconds        8080/tcp            docker-demo.1.sac0v5i5beujxbydzq6dsix35\n"
     ]
    }
   ],
   "source": [
    "docker $(docker-machine config swnode2) ps"
   ]
  },
  {
   "cell_type": "markdown",
   "metadata": {},
   "source": [
    "# Accessing the service\n",
    "\n",
    "As we are working remotely we need to create an ssh tunnel through to the swarm cluster to access our service, exposing the port 8080 on your local machine.\n",
    "\n",
    "We can obtain the ip address of the swarm master node as follows."
   ]
  },
  {
   "cell_type": "code",
   "execution_count": 26,
   "metadata": {
    "collapsed": false
   },
   "outputs": [
    {
     "name": "stdout",
     "output_type": "stream",
     "text": [
      "192.168.99.114\n"
     ]
    }
   ],
   "source": [
    "docker-machine ip swmaster"
   ]
  },
  {
   "cell_type": "markdown",
   "metadata": {},
   "source": [
    "So from a terminal on your laptop open the ssh tunnel to **YOUR USER@YOUR SERVER**"
   ]
  },
  {
   "cell_type": "markdown",
   "metadata": {},
   "source": [
    "MYSERVER=10.3.222.32\n",
    "MYUSER=group20\n",
    "\n",
    "e.g. ssh group20@10.3.222.32 -L 8080:192.168.99.114:8080 -Nv"
   ]
  },
  {
   "cell_type": "code",
   "execution_count": 27,
   "metadata": {
    "collapsed": false
   },
   "outputs": [
    {
     "name": "stdout",
     "output_type": "stream",
     "text": [
      "OpenSSH_7.2p2, OpenSSL 1.0.2j-fips  26 Sep 2016\n",
      "debug1: Reading configuration data /home/mjb/.ssh/config\n",
      "debug1: Reading configuration data /etc/ssh/ssh_config\n",
      "debug1: /etc/ssh/ssh_config line 58: Applying options for *\n",
      "debug1: Connecting to 10.3.222.32 [10.3.222.32] port 22.\n",
      "\n"
     ]
    }
   ],
   "source": [
    "MYSERVER=10.3.222.32\n",
    "MYUSER=group20\n",
    "ssh ${MYUSER}@${MYSERVER} -L 8080:$(docker-machine ip swmaster):8080 -Nv"
   ]
  },
  {
   "cell_type": "markdown",
   "metadata": {},
   "source": [
    "Then open your web browser at the page http://localhost:8080 and you should see a lovely blue whale, as below:\n",
    "\n",
    "![](images/docker.png)\n"
   ]
  },
  {
   "cell_type": "markdown",
   "metadata": {},
   "source": [
    "# scale service\n",
    "\n",
    "Now we can scale the service to 3 replicas:"
   ]
  },
  {
   "cell_type": "code",
   "execution_count": 28,
   "metadata": {
    "collapsed": false
   },
   "outputs": [
    {
     "name": "stdout",
     "output_type": "stream",
     "text": [
      "\u001b]2;ssh group20@10.3.222.32 -L 8080:192.168.99.114:8080 -Nv\u0007docker-demo scaled to 3\n"
     ]
    },
    {
     "ename": "",
     "evalue": "1",
     "output_type": "error",
     "traceback": []
    }
   ],
   "source": [
    "docker $(docker-machine config swmaster) service scale docker-demo=3"
   ]
  },
  {
   "cell_type": "code",
   "execution_count": 29,
   "metadata": {
    "collapsed": false
   },
   "outputs": [
    {
     "name": "stdout",
     "output_type": "stream",
     "text": [
      "\u001b]2;ssh group20@10.3.222.32 -L 8080:192.168.99.114:8080 -Nv\u0007ID            NAME           IMAGE                    NODE      DESIRED STATE  CURRENT STATE                     ERROR  PORTS\n",
      "sac0v5i5beuj  docker-demo.1  mariolet/docker-demo:20  swnode2   Running        Running 51 seconds ago                   \n",
      "bffp3nyo685u  docker-demo.2  mariolet/docker-demo:20  swmaster  Running        Preparing less than a second ago         \n",
      "de9h34g8oipr  docker-demo.3  mariolet/docker-demo:20  swnode1   Running        Preparing less than a second ago         \n"
     ]
    },
    {
     "ename": "",
     "evalue": "1",
     "output_type": "error",
     "traceback": []
    }
   ],
   "source": [
    "docker $(docker-machine config swmaster) service ps docker-demo"
   ]
  },
  {
   "cell_type": "markdown",
   "metadata": {},
   "source": [
    "# rolling-update\n",
    "\n",
    "Now we will see how we can perform a rolling update.\n",
    "\n",
    "We initially deployed version 20 of the service, now we will upgrade our whole cluster to version 20 \n"
   ]
  },
  {
   "cell_type": "code",
   "execution_count": 30,
   "metadata": {
    "collapsed": false
   },
   "outputs": [
    {
     "name": "stdout",
     "output_type": "stream",
     "text": [
      "\u001b]2;ssh group20@10.3.222.32 -L 8080:192.168.99.114:8080 -Nv\u0007ID            NAME           IMAGE                    NODE      DESIRED STATE  CURRENT STATE               ERROR  PORTS\n",
      "sac0v5i5beuj  docker-demo.1  mariolet/docker-demo:20  swnode2   Running        Running about a minute ago         \n",
      "bffp3nyo685u  docker-demo.2  mariolet/docker-demo:20  swmaster  Running        Running 11 seconds ago             \n",
      "de9h34g8oipr  docker-demo.3  mariolet/docker-demo:20  swnode1   Running        Running 9 seconds ago              \n"
     ]
    },
    {
     "ename": "",
     "evalue": "1",
     "output_type": "error",
     "traceback": []
    }
   ],
   "source": [
    "docker $(docker-machine config swmaster) service ps docker-demo"
   ]
  },
  {
   "cell_type": "code",
   "execution_count": 31,
   "metadata": {
    "collapsed": false
   },
   "outputs": [
    {
     "name": "stdout",
     "output_type": "stream",
     "text": [
      "\u001b]2;ssh group20@10.3.222.32 -L 8080:192.168.99.114:8080 -Nv\u0007docker-demo\n"
     ]
    },
    {
     "ename": "",
     "evalue": "1",
     "output_type": "error",
     "traceback": []
    }
   ],
   "source": [
    "docker $(docker-machine config swmaster) service update --image mariolet/docker-demo:21 docker-demo"
   ]
  },
  {
   "cell_type": "code",
   "execution_count": 32,
   "metadata": {
    "collapsed": false
   },
   "outputs": [
    {
     "name": "stdout",
     "output_type": "stream",
     "text": [
      "\u001b]2;ssh group20@10.3.222.32 -L 8080:192.168.99.114:8080 -Nv\u0007ID            NAME               IMAGE                    NODE      DESIRED STATE  CURRENT STATE                    ERROR  PORTS\n",
      "sac0v5i5beuj  docker-demo.1      mariolet/docker-demo:20  swnode2   Running        Running about a minute ago              \n",
      "camjztgdrvfw  docker-demo.2      mariolet/docker-demo:21  swmaster  Running        Preparing 1 second ago                  \n",
      "bffp3nyo685u   \\_ docker-demo.2  mariolet/docker-demo:20  swmaster  Shutdown       Shutdown less than a second ago         \n",
      "de9h34g8oipr  docker-demo.3      mariolet/docker-demo:20  swnode1   Running        Running 19 seconds ago                  \n"
     ]
    },
    {
     "ename": "",
     "evalue": "1",
     "output_type": "error",
     "traceback": []
    }
   ],
   "source": [
    "docker $(docker-machine config swmaster) service ps docker-demo"
   ]
  },
  {
   "cell_type": "code",
   "execution_count": 33,
   "metadata": {
    "collapsed": false
   },
   "outputs": [
    {
     "name": "stdout",
     "output_type": "stream",
     "text": [
      "\u001b]2;ssh group20@10.3.222.32 -L 8080:192.168.99.114:8080 -Nv\u0007ID            NAME               IMAGE                    NODE      DESIRED STATE  CURRENT STATE            ERROR  PORTS\n",
      "b53mbjpbq8ec  docker-demo.1      mariolet/docker-demo:21  swnode2   Running        Running 1 second ago            \n",
      "sac0v5i5beuj   \\_ docker-demo.1  mariolet/docker-demo:20  swnode2   Shutdown       Shutdown 4 seconds ago          \n",
      "camjztgdrvfw  docker-demo.2      mariolet/docker-demo:21  swmaster  Running        Running 9 seconds ago           \n",
      "bffp3nyo685u   \\_ docker-demo.2  mariolet/docker-demo:20  swmaster  Shutdown       Shutdown 11 seconds ago         \n",
      "y49fxa2bn10a  docker-demo.3      mariolet/docker-demo:21  swnode1   Running        Running 6 seconds ago           \n",
      "de9h34g8oipr   \\_ docker-demo.3  mariolet/docker-demo:20  swnode1   Shutdown       Shutdown 8 seconds ago          \n"
     ]
    },
    {
     "ename": "",
     "evalue": "1",
     "output_type": "error",
     "traceback": []
    }
   ],
   "source": [
    "docker $(docker-machine config swmaster) service ps docker-demo"
   ]
  },
  {
   "cell_type": "markdown",
   "metadata": {},
   "source": [
    "### Verifying the service has been updated\n",
    "\n",
    "Then open your web browser at the page http://localhost:8080 and you should now see a lovely **red** whale.\n",
    "\n",
    "\n",
    "![](images/docker_red.png)\n",
    "\n"
   ]
  },
  {
   "cell_type": "markdown",
   "metadata": {},
   "source": [
    "# drain a node\n",
    "\n",
    "We can drain a node effectively placing it in 'maintenance mode'.\n",
    "\n",
    "Draining a node means that it no longer has running tasks on it."
   ]
  },
  {
   "cell_type": "code",
   "execution_count": 34,
   "metadata": {
    "collapsed": false
   },
   "outputs": [
    {
     "name": "stdout",
     "output_type": "stream",
     "text": [
      "\u001b]2;ssh group20@10.3.222.32 -L 8080:192.168.99.114:8080 -Nv\u0007ID                           HOSTNAME  STATUS  AVAILABILITY  MANAGER STATUS\n",
      "2acz1rh2cogtd657qro9k71je    swnode1   Ready   Active        \n",
      "jvh0bcaevz9g9cgtm76hkamt0    swnode2   Ready   Active        \n",
      "r243hhgco052fasc7pen4v0ay *  swmaster  Ready   Active        Leader\n"
     ]
    },
    {
     "ename": "",
     "evalue": "1",
     "output_type": "error",
     "traceback": []
    }
   ],
   "source": [
    "docker $(docker-machine config swmaster) node ls"
   ]
  },
  {
   "cell_type": "markdown",
   "metadata": {},
   "source": [
    "Let's drain swnode1"
   ]
  },
  {
   "cell_type": "code",
   "execution_count": 35,
   "metadata": {
    "collapsed": false
   },
   "outputs": [
    {
     "name": "stdout",
     "output_type": "stream",
     "text": [
      "\u001b]2;ssh group20@10.3.222.32 -L 8080:192.168.99.114:8080 -Nv\u0007ID            NAME               IMAGE                    NODE      DESIRED STATE  CURRENT STATE            ERROR  PORTS\n",
      "b53mbjpbq8ec  docker-demo.1      mariolet/docker-demo:21  swnode2   Running        Running 12 seconds ago          \n",
      "sac0v5i5beuj   \\_ docker-demo.1  mariolet/docker-demo:20  swnode2   Shutdown       Shutdown 15 seconds ago         \n",
      "camjztgdrvfw  docker-demo.2      mariolet/docker-demo:21  swmaster  Running        Running 20 seconds ago          \n",
      "bffp3nyo685u   \\_ docker-demo.2  mariolet/docker-demo:20  swmaster  Shutdown       Shutdown 22 seconds ago         \n",
      "y49fxa2bn10a  docker-demo.3      mariolet/docker-demo:21  swnode1   Running        Running 16 seconds ago          \n",
      "de9h34g8oipr   \\_ docker-demo.3  mariolet/docker-demo:20  swnode1   Shutdown       Shutdown 19 seconds ago         \n"
     ]
    },
    {
     "ename": "",
     "evalue": "1",
     "output_type": "error",
     "traceback": []
    }
   ],
   "source": [
    "docker $(docker-machine config swmaster) service ps docker-demo"
   ]
  },
  {
   "cell_type": "code",
   "execution_count": 36,
   "metadata": {
    "collapsed": false
   },
   "outputs": [
    {
     "name": "stdout",
     "output_type": "stream",
     "text": [
      "\u001b]2;ssh group20@10.3.222.32 -L 8080:192.168.99.114:8080 -Nv\u0007swnode1\n"
     ]
    },
    {
     "ename": "",
     "evalue": "1",
     "output_type": "error",
     "traceback": []
    }
   ],
   "source": [
    "docker $(docker-machine config swmaster) node update --availability drain swnode1"
   ]
  },
  {
   "cell_type": "markdown",
   "metadata": {},
   "source": [
    "and now we see that all services on swnode1 are shutdown"
   ]
  },
  {
   "cell_type": "code",
   "execution_count": 37,
   "metadata": {
    "collapsed": false
   },
   "outputs": [
    {
     "name": "stdout",
     "output_type": "stream",
     "text": [
      "\u001b]2;ssh group20@10.3.222.32 -L 8080:192.168.99.114:8080 -Nv\u0007ID            NAME               IMAGE                    NODE      DESIRED STATE  CURRENT STATE                    ERROR  PORTS\n",
      "b53mbjpbq8ec  docker-demo.1      mariolet/docker-demo:21  swnode2   Running        Running 18 seconds ago                  \n",
      "sac0v5i5beuj   \\_ docker-demo.1  mariolet/docker-demo:20  swnode2   Shutdown       Shutdown 21 seconds ago                 \n",
      "camjztgdrvfw  docker-demo.2      mariolet/docker-demo:21  swmaster  Running        Running 26 seconds ago                  \n",
      "bffp3nyo685u   \\_ docker-demo.2  mariolet/docker-demo:20  swmaster  Shutdown       Shutdown 28 seconds ago                 \n",
      "hbk811izheg8  docker-demo.3      mariolet/docker-demo:21  swmaster  Running        Running less than a second ago          \n",
      "y49fxa2bn10a   \\_ docker-demo.3  mariolet/docker-demo:21  swnode1   Shutdown       Shutdown less than a second ago         \n",
      "de9h34g8oipr   \\_ docker-demo.3  mariolet/docker-demo:20  swnode1   Shutdown       Shutdown 24 seconds ago                 \n"
     ]
    },
    {
     "ename": "",
     "evalue": "1",
     "output_type": "error",
     "traceback": []
    }
   ],
   "source": [
    "docker $(docker-machine config swmaster) service ps docker-demo"
   ]
  },
  {
   "cell_type": "code",
   "execution_count": 38,
   "metadata": {
    "collapsed": false
   },
   "outputs": [
    {
     "name": "stdout",
     "output_type": "stream",
     "text": [
      "\u001b]2;ssh group20@10.3.222.32 -L 8080:192.168.99.114:8080 -Nv\u0007ID            NAME               IMAGE                    NODE      DESIRED STATE  CURRENT STATE            ERROR  PORTS\n",
      "b53mbjpbq8ec  docker-demo.1      mariolet/docker-demo:21  swnode2   Running        Running 20 seconds ago          \n",
      "sac0v5i5beuj   \\_ docker-demo.1  mariolet/docker-demo:20  swnode2   Shutdown       Shutdown 23 seconds ago         \n",
      "camjztgdrvfw  docker-demo.2      mariolet/docker-demo:21  swmaster  Running        Running 28 seconds ago          \n",
      "bffp3nyo685u   \\_ docker-demo.2  mariolet/docker-demo:20  swmaster  Shutdown       Shutdown 30 seconds ago         \n",
      "hbk811izheg8  docker-demo.3      mariolet/docker-demo:21  swmaster  Running        Running 3 seconds ago           \n",
      "y49fxa2bn10a   \\_ docker-demo.3  mariolet/docker-demo:21  swnode1   Shutdown       Shutdown 3 seconds ago          \n",
      "de9h34g8oipr   \\_ docker-demo.3  mariolet/docker-demo:20  swnode1   Shutdown       Shutdown 27 seconds ago         \n"
     ]
    },
    {
     "ename": "",
     "evalue": "1",
     "output_type": "error",
     "traceback": []
    }
   ],
   "source": [
    "docker $(docker-machine config swmaster) service ps docker-demo"
   ]
  },
  {
   "cell_type": "markdown",
   "metadata": {},
   "source": [
    "# remove a service\n",
    "\n",
    "Now let's cleanup by removing our service"
   ]
  },
  {
   "cell_type": "code",
   "execution_count": 39,
   "metadata": {
    "collapsed": false
   },
   "outputs": [
    {
     "name": "stdout",
     "output_type": "stream",
     "text": [
      "\u001b]2;ssh group20@10.3.222.32 -L 8080:192.168.99.114:8080 -Nv\u0007docker-demo\n"
     ]
    },
    {
     "ename": "",
     "evalue": "1",
     "output_type": "error",
     "traceback": []
    }
   ],
   "source": [
    "docker $(docker-machine config swmaster) service rm docker-demo"
   ]
  },
  {
   "cell_type": "markdown",
   "metadata": {},
   "source": [
    "We can check that the service is no longer running:"
   ]
  },
  {
   "cell_type": "code",
   "execution_count": 40,
   "metadata": {
    "collapsed": false
   },
   "outputs": [
    {
     "name": "stdout",
     "output_type": "stream",
     "text": [
      "\u001b]2;ssh group20@10.3.222.32 -L 8080:192.168.99.114:8080 -Nv\u0007Error: No such service: docker-demo\n"
     ]
    },
    {
     "ename": "",
     "evalue": "1",
     "output_type": "error",
     "traceback": []
    }
   ],
   "source": [
    "docker $(docker-machine config swmaster) service ps docker-demo"
   ]
  },
  {
   "cell_type": "code",
   "execution_count": 41,
   "metadata": {
    "collapsed": false
   },
   "outputs": [
    {
     "name": "stdout",
     "output_type": "stream",
     "text": [
      "\u001b]2;ssh group20@10.3.222.32 -L 8080:192.168.99.114:8080 -Nv\u0007CONTAINER ID        IMAGE               COMMAND             CREATED             STATUS              PORTS               NAMES\n"
     ]
    },
    {
     "ename": "",
     "evalue": "1",
     "output_type": "error",
     "traceback": []
    }
   ],
   "source": [
    "docker $(docker-machine config swmaster) ps"
   ]
  },
  {
   "cell_type": "code",
   "execution_count": null,
   "metadata": {
    "collapsed": true
   },
   "outputs": [],
   "source": []
  }
 ],
 "metadata": {
  "anaconda-cloud": {},
  "kernelspec": {
   "display_name": "Bash",
   "language": "bash",
   "name": "bash"
  },
  "language_info": {
   "codemirror_mode": "shell",
   "file_extension": ".sh",
   "mimetype": "text/x-sh",
   "name": "bash"
  }
 },
 "nbformat": 4,
 "nbformat_minor": 1
}
