{
 "cells": [
  {
   "cell_type": "markdown",
   "metadata": {},
   "source": [
    "# TP2 Creation de Conteneurs\n",
    "\n",
    "Commencons par demarrer quelques conteneurs de differents types.\n",
    "\n",
    "# 1. docker run\n",
    "\n",
    "## 1.1 hello-world\n",
    "\n",
    "D'abord **lancez un container en utilisant le hello-world image** avec la commande ```docker run hello-world```\n",
    "\n",
    "Ceci est un exemple d'une binaire statique de petite taille, nous verrons plutard de quoi il est constitue."
   ]
  },
  {
   "cell_type": "code",
   "execution_count": 4,
   "metadata": {},
   "outputs": [
    {
     "name": "stdout",
     "output_type": "stream",
     "text": [
      "Unable to find image 'hello-world:latest' locally\n",
      "latest: Pulling from library/hello-world\n",
      "\n",
      "\u001b[1BDigest: sha256:0add3ace90ecb4adbf7777e9aacf18357296e799f81cabc9fde470971e499788\n",
      "Status: Downloaded newer image for hello-world:latest\n",
      "\n",
      "Hello from Docker!\n",
      "This message shows that your installation appears to be working correctly.\n",
      "\n",
      "To generate this message, Docker took the following steps:\n",
      " 1. The Docker client contacted the Docker daemon.\n",
      " 2. The Docker daemon pulled the \"hello-world\" image from the Docker Hub.\n",
      "    (amd64)\n",
      " 3. The Docker daemon created a new container from that image which runs the\n",
      "    executable that produces the output you are currently reading.\n",
      " 4. The Docker daemon streamed that output to the Docker client, which sent it\n",
      "    to your terminal.\n",
      "\n",
      "To try something more ambitious, you can run an Ubuntu container with:\n",
      " $ docker run -it ubuntu bash\n",
      "\n",
      "Share images, automate workflows, and more with a free Docker ID:\n",
      " https://hub.docker.com/\n",
      "\n",
      "For more examples and ideas, visit:\n",
      " https://docs.docker.com/get-started/\n",
      "\n"
     ]
    }
   ],
   "source": [
    "docker run hello-world"
   ]
  },
  {
   "cell_type": "markdown",
   "metadata": {},
   "source": [
    "Vous voyez que le telechargement de l'image est rapide car l'image est petite, il a moins de 2ko"
   ]
  },
  {
   "cell_type": "code",
   "execution_count": 18,
   "metadata": {},
   "outputs": [
    {
     "name": "stdout",
     "output_type": "stream",
     "text": [
      "REPOSITORY          TAG                 IMAGE ID            CREATED             SIZE\n",
      "hello-world         latest              4ab4c602aa5e        7 weeks ago         1.84kB\n"
     ]
    }
   ],
   "source": [
    "docker images hello-world"
   ]
  },
  {
   "cell_type": "markdown",
   "metadata": {},
   "source": [
    "**Lancer le container une 2eme fois** ca devrait etre encore plus rapide car il n'y a plus besoin de telecharge l'image.\n",
    "\n",
    "Les images sont caches localement..\n",
    "\n",
    "## 1.2 docker-demo\n",
    "\n",
    "Cette fois-ci vous allez lancer un autre binaire statique.\n",
    "\n",
    "Cette fois-ci vous allez le lancer\n",
    "- en mode detache, en utilisant l'option -d ou --detach\n",
    "- en specifiant d'exposer le port 8080 sur le port 8080 de la hote\n"
   ]
  },
  {
   "cell_type": "code",
   "execution_count": 19,
   "metadata": {},
   "outputs": [
    {
     "name": "stdout",
     "output_type": "stream",
     "text": [
      "7026c5d0520e375f7e1378f88a87161601718e9567864a176c8bda80f7d5908c\n"
     ]
    }
   ],
   "source": [
    "docker run -d -p 8080:8080 mjbright/docker-demo:1"
   ]
  },
  {
   "cell_type": "markdown",
   "metadata": {},
   "source": [
    "Vouz avez lance le container en mode detache.\n",
    "\n",
    "Nous sommes informe du sha256 hash qui identifie notre container.\n",
    "\n",
    "Regardez les processus qui tournent:"
   ]
  },
  {
   "cell_type": "code",
   "execution_count": 22,
   "metadata": {},
   "outputs": [
    {
     "name": "stdout",
     "output_type": "stream",
     "text": [
      "CONTAINER ID        IMAGE                    COMMAND                  CREATED             STATUS              PORTS                    NAMES\n",
      "7026c5d0520e        mjbright/docker-demo:1   \"/app/docker-demo -l…\"   47 seconds ago      Up 45 seconds       0.0.0.0:8080->8080/tcp   stupefied_euclid\n",
     ]
    }
   ],
   "source": [
    "docker ps"
   ]
  },
  {
   "cell_type": "markdown",
   "metadata": {},
   "source": [
    "**Remarquez**:\n",
    "- le colonne 'CONTAINER ID' montre le meme sha256 hash en forme tronque\n",
    "- le dernier colonne 'NAMES' nous montre le nom auto-assigne par Docker\n",
    "- qu'un mapping a ete cree entre le port de la hote 0.0.0.0:8080 vers le container 8080\n",
    "\n",
    "**NOTE**: sans le port mapping on ne peut acceder au container qu'en connaissant son adresse IP (plutard)\n",
    "\n",
    "Essayez d'acceder au container:"
   ]
  },
  {
   "cell_type": "code",
   "execution_count": 23,
   "metadata": {},
   "outputs": [
    {
     "name": "stdout",
     "output_type": "stream",
     "text": [
      "\n",
      "\n",
      "\n",
      "\u001b[1;34m\n",
      "                                                .---------.                                          \n",
      "                                               .///++++/:.                                          \n",
      "                                               .///+++//:.                                          \n",
      "                                               .///+++//:.                                          \n",
      "                             ``````````````````.:///////:.                       `                  \n",
      "                             .-///////:://+++//::///////-.                      .--.                \n",
      "                             .:::///:::///+++///:::///:::.                     .:ss+-`              \n",
      "                             .:::///:::///+++///:::///:::.                    `.ossss:.             \n",
      "                             .:///////:/+++oo++/:///////:.                    .-ssssss:.            \n",
      "                    .-:::::::--///////--:::::::--///////--:::::::-.           `-sssssso.........``  \n",
      "                    .::////:::://+++///:::///:::///+++//:/::////::.           `.+ssssss/++ooooo+/:.`\n",
      "                    .::////:::://+++///:::///:::///+++//:/::////::.            `.+sssooooooooooo/-` \n",
      "                    .::////:::://+++///:::///:::///+++//:/::////::.           ``.:osoooooooo+/:-.`  \n",
      "            ````````.-:::::::--///////--:::::::-:///////--:::::::-.``````...-:/+ssoo+:-----..``     \n",
      "            .-+++oooooooooooooooooooooooooooooooooooooooooooooooooooooooosssssssoooo-.              \n",
      "      `     .-ooossssssssssssssssssssssss+ssssssssssssssssossssssssssssssssssoooooo:.        `      \n",
      "    ``...```.-+++++/:--/+oosssssssoo++/:-.-:+oosssssso+/:..-:/+oossssssssoo+:--://-.`   ```...`     \n",
      " ````````````.-:::::::::::::::::::::::::::::::::::::::::::::::::::::::::::::::::-..```````````````  \n",
      "             .-////++++++++++++++++++++++++++++++++++++++++++++++++++//////////:.`                  \n",
      "             `.:////++++++++++++++++oss+++++++++++++++++++++++++++///////////:-.                    \n",
      "              `.:////++++++++++++++os.+h+++++++++++++++++++++++/////////////-.`                     \n",
      "               `.://///++++++++++//+soos+++++++++++++++++++///////////////-.`                       \n",
      "                `.--------:::://+o/+++++++++++++++++++/////////////////:-.`                         \n",
      "                  `-sdmmmmmmmNNNNNmo+++++++++++/////////////////////:-.``                           \n",
      "                    `-+hmmmmmmmmmmmms///////////////////////////::-.``                              \n",
      "                      ``-+ydmmmmmmmmmds////////////////////::--.``                                  \n",
      "                         ``.-/oshdmmmmmmho+////////::::--..```                                      \n",
      "                              ````..-:::///---.....````                                             \n",
      "\n",
      "\u001b[0m\n",
      "\n",
      "Served from container \u001b[1;33m7026c5d0520e\u001b[0;0m\n",
      "Using image mjbright/docker-demo:1\n"
     ]
    }
   ],
   "source": [
    "curl -sL http://127.0.0.1:8080"
   ]
  },
  {
   "cell_type": "markdown",
   "metadata": {},
   "source": [
    "### 1.2.1 Acceder directement a l'adresse IP du container\n",
    "\n",
    "Avec la commande ```docker inspect <container>``` on peut determiner l'adresse IP du container meme et se connecter directement au port 8080.\n",
    "\n",
    "**NOTE**: C'est un exercise pour demontrer comment faire mais ce n'est pas reellement comme ca qu'on souhaite acceder aux applications.  Les containers sont ephemeres, ils peuvent mourir pour tant de raisons donc de s'adresser directement a un container par son adresse IP n'est pas une solution fiable.  Plutard nous regarderon l'utilisation de services comme solution fiable pour acceder a une groupe de containers qui peuvent tourner sur multiple hotes.\n",
    "\n",
    "Determinez d'abord que le dernier container lancer ```docker ps -l```"
   ]
  },
  {
   "cell_type": "code",
   "execution_count": 23,
   "metadata": {},
   "outputs": [
    {
     "name": "stdout",
     "output_type": "stream",
     "text": [
      "CONTAINER ID        IMAGE                    COMMAND                  CREATED             STATUS              PORTS                    NAMES\n",
      "c96abc4908a8        mjbright/docker-demo:1   \"/app/docker-demo -l…\"   13 seconds ago      Up 11 seconds       0.0.0.0:8080->8080/tcp   affectionate_darwin\n"
     ]
    }
   ],
   "source": [
    "docker ps -l"
   ]
  },
  {
   "cell_type": "markdown",
   "metadata": {},
   "source": [
    "On peut utiliser cette valeur pour inspecter le container et recuperer son adresse IP\n",
    "\n",
    "**Executez la commande** ```docker inspect $(docker ps -ql)``` et examinez les informations fournis.\n",
    "\n",
    "Maintenant on va recuperer explicitement l'adresse IP du container:"
   ]
  },
  {
   "cell_type": "code",
   "execution_count": null,
   "metadata": {},
   "outputs": [],
   "source": [
    "docker inspect $(docker ps -ql) | grep IPA"
   ]
  },
  {
   "cell_type": "code",
   "execution_count": 29,
   "metadata": {},
   "outputs": [
    {
     "name": "stdout",
     "output_type": "stream",
     "text": [
      "\n",
      "\n",
      "\n",
      "\u001b[1;34m\n",
      "                                                .---------.                                          \n",
      "                                               .///++++/:.                                          \n",
      "                                               .///+++//:.                                          \n",
      "                                               .///+++//:.                                          \n",
      "                             ``````````````````.:///////:.                       `                  \n",
      "                             .-///////:://+++//::///////-.                      .--.                \n",
      "                             .:::///:::///+++///:::///:::.                     .:ss+-`              \n",
      "                             .:::///:::///+++///:::///:::.                    `.ossss:.             \n",
      "                             .:///////:/+++oo++/:///////:.                    .-ssssss:.            \n",
      "                    .-:::::::--///////--:::::::--///////--:::::::-.           `-sssssso.........``  \n",
      "                    .::////:::://+++///:::///:::///+++//:/::////::.           `.+ssssss/++ooooo+/:.`\n",
      "                    .::////:::://+++///:::///:::///+++//:/::////::.            `.+sssooooooooooo/-` \n",
      "                    .::////:::://+++///:::///:::///+++//:/::////::.           ``.:osoooooooo+/:-.`  \n",
      "            ````````.-:::::::--///////--:::::::-:///////--:::::::-.``````...-:/+ssoo+:-----..``     \n",
      "            .-+++oooooooooooooooooooooooooooooooooooooooooooooooooooooooosssssssoooo-.              \n",
      "      `     .-ooossssssssssssssssssssssss+ssssssssssssssssossssssssssssssssssoooooo:.        `      \n",
      "    ``...```.-+++++/:--/+oosssssssoo++/:-.-:+oosssssso+/:..-:/+oossssssssoo+:--://-.`   ```...`     \n",
      " ````````````.-:::::::::::::::::::::::::::::::::::::::::::::::::::::::::::::::::-..```````````````  \n",
      "             .-////++++++++++++++++++++++++++++++++++++++++++++++++++//////////:.`                  \n",
      "             `.:////++++++++++++++++oss+++++++++++++++++++++++++++///////////:-.                    \n",
      "              `.:////++++++++++++++os.+h+++++++++++++++++++++++/////////////-.`                     \n",
      "               `.://///++++++++++//+soos+++++++++++++++++++///////////////-.`                       \n",
      "                `.--------:::://+o/+++++++++++++++++++/////////////////:-.`                         \n",
      "                  `-sdmmmmmmmNNNNNmo+++++++++++/////////////////////:-.``                           \n",
      "                    `-+hmmmmmmmmmmmms///////////////////////////::-.``                              \n",
      "                      ``-+ydmmmmmmmmmds////////////////////::--.``                                  \n",
      "                         ``.-/oshdmmmmmmho+////////::::--..```                                      \n",
      "                              ````..-:::///---.....````                                             \n",
      "\n",
      "\u001b[0m\n",
      "\n",
      "Served from container \u001b[1;33mc96abc4908a8\u001b[0;0m\n",
      "Using image mjbright/docker-demo:1\n"
     ]
    }
   ],
   "source": [
    "curl -sL 172.17.0.4:8080"
   ]
  },
  {
   "cell_type": "markdown",
   "metadata": {},
   "source": [
    "## 1.3 Alpine Linux dans un container\n",
    "\n",
    "Comme 3eme exemple lancer l'image '*officiel*' d'Alpine Linux avec la commande\n",
    "```docker run -it alpine uptime```"
   ]
  },
  {
   "cell_type": "code",
   "execution_count": 1,
   "metadata": {},
   "outputs": [
    {
     "name": "stdout",
     "output_type": "stream",
     "text": [
      "Unable to find image 'alpine:latest' locally\n",
      "latest: Pulling from library/alpine\n",
      "\n",
      "\u001b[1BDigest: sha256:621c2f39f8133acb8e64023a94dbdf0d5ca81896102b9e57c0dc184cadaf5528\n",
      "Status: Downloaded newer image for alpine:latest\n",
      " 09:59:11 up 1 day, 21:06,  load average: 0.40, 0.37, 0.39\n"
     ]
    }
   ],
   "source": [
    "docker run -it alpine uptime"
   ]
  },
  {
   "cell_type": "markdown",
   "metadata": {},
   "source": [
    "On peut **observer plusieurs choses**:\n",
    "- on tire un image, une petite image d'ailleurs de taille **4.41 Mo** - un Linux miniature (busybox)\n",
    "- nous specifions le mode interactive/tty avec options -i et -t (pas encore besoin pour uptime)\n",
    "- nous specifions la commande '*uptime*' a executer\n",
    "- L'uptime ne correspond pas a la vie de notre container qui viend d'etre lancer mais a la hote (CentOS).\n",
    "\n",
    "Maintenant **lancez la meme commande** sans specifier '*uptime*':\n",
    "```docker run -it alpine```\n",
    "\n",
    "Vous allez vous trouvez dans un shell Linux.\n",
    "\n",
    "*Essayez differentes commandes**:\n",
    "- pwd\n",
    "- ls\n",
    "- df\n",
    "- grep Free /proc/meminfo\n",
    "- ip a\n",
    "- hostname\n",
    "\n",
    "**Comparer les valeurs** avec les meme commandes execute sur la hote.\n",
    "\n",
    "**Vous en pensez quoi?**\n",
    "\n",
    "Et pour une grande finale, essayer la commande (**attention dans le container - pas sur la hote!!**)\n",
    "``` rm -rf /*```\n",
    "\n",
    "ensuite vous ne peut plus faire grande choses ... plus de ls ou quoi que ce soit ...\n",
    "\n",
    "### 1.3.1 Relancer Alpine Linux\n",
    "\n",
    "Maintenant **relancer un container alpine linux**.\n",
    "```docker run -it alpine```\n",
    "\n",
    "Tout va bien a nouveau, pourquoi?\n",
    "\n",
    "### 1.3.2 Le cycle de vie des containers\n",
    "\n",
    "Nous avons lance plusieurs containers sans souci.\n",
    "\n",
    "**Listez les containers qui tournent** avec ```docker ps```\n",
    "\n",
    "maintenant **listez tous les containers**, y compris ce qui sont a l'arret, avec ```docker ps -a```\n",
    "\n",
    "On voit que qu'on quitte un container, ou le container meurt il n'est que dans un etat \"Exited\".\n",
    "\n",
    "**Identifie** le container dans lequel vous avez fait ```rm``` et reconnecte avec\n",
    "    ```docker start <container>```\n",
    "ou '*&lt;container&gt;*' represent soit le container id (ou les premieres characteres), ou le container name (pas l'image name)."
   ]
  },
  {
   "cell_type": "markdown",
   "metadata": {},
   "source": [
    "# 2. Docker cli\n",
    "\n",
    "## 2.1 Docker run options\n",
    "\n",
    "On peut rajouter differents options aux containers.\n",
    "\n",
    "**Essayez** ```docker run --help```\n",
    "\n",
    "## 2.2 Ancien et nouveau style de commandes\n",
    "\n",
    "Jusqu'a present nous avons utilise les commandes ```docker run```, ```docker ps```, ```docker images``` mais c'est des anciennes formes de commandes - mais plus court.\n",
    "\n",
    "La nouvelle forme des commandes a ete introduit debut 2017 avec la sortie de Docker 1.13\n",
    "[Whats new in Docker 1.13](https://blog.docker.com/2017/01/whats-new-in-docker-1-13/)\n",
    "\n",
    "La nouvelle forme de ```docker run``` est ```docker container run```\n",
    "\n",
    "Ils ont les memes options.\n",
    "\n",
    "La nouvelle forme de ```docker ps``` est ```docker container list``` (ou ```docker container ls```)\n",
    "La nouvelle forme de ```docker images``` est ```docker image list``` (ou ```docker image ls```)\n",
    "\n",
    "**NOTE**: Ces changements sont au niveau du docker client, et n'affectent pas l'API.  Par contre la nouvelles forme\n",
    "\n",
    "### 2.2.1 Investiguer les commandes du docker client\n",
    "\n",
    "**Tapez la commande** ```docker help```"
   ]
  },
  {
   "cell_type": "code",
   "execution_count": 16,
   "metadata": {},
   "outputs": [
    {
     "name": "stdout",
     "output_type": "stream",
     "text": [
      "\n",
      "Usage:\tdocker [OPTIONS] COMMAND\n",
      "\n",
      "A self-sufficient runtime for containers\n",
      "\n",
      "Options:\n",
      "      --config string      Location of client config files (default\n",
      "                           \"/home/mjb/.docker\")\n",
      "  -D, --debug              Enable debug mode\n",
      "  -H, --host list          Daemon socket(s) to connect to\n",
      "  -l, --log-level string   Set the logging level\n",
      "                           (\"debug\"|\"info\"|\"warn\"|\"error\"|\"fatal\")\n",
      "                           (default \"info\")\n",
      "      --tls                Use TLS; implied by --tlsverify\n",
      "      --tlscacert string   Trust certs signed only by this CA (default\n",
      "                           \"/home/mjb/.docker/ca.pem\")\n",
      "      --tlscert string     Path to TLS certificate file (default\n",
      "                           \"/home/mjb/.docker/cert.pem\")\n",
      "      --tlskey string      Path to TLS key file (default\n",
      "                           \"/home/mjb/.docker/key.pem\")\n",
      "      --tlsverify          Use TLS and verify the remote\n",
      "  -v, --version            Print version information and quit\n",
      "\n",
      "Management Commands:\n",
      "  config      Manage Docker configs\n",
      "  container   Manage containers\n",
      "  image       Manage images\n",
      "  network     Manage networks\n",
      "  node        Manage Swarm nodes\n",
      "  plugin      Manage plugins\n",
      "  secret      Manage Docker secrets\n",
      "  service     Manage services\n",
      "  stack       Manage Docker stacks\n",
      "  swarm       Manage Swarm\n",
      "  system      Manage Docker\n",
      "  trust       Manage trust on Docker images\n",
      "  volume      Manage volumes\n",
      "\n",
      "Commands:\n",
      "  attach      Attach local standard input, output, and error streams to a running container\n",
      "  build       Build an image from a Dockerfile\n",
      "  commit      Create a new image from a container's changes\n",
      "  cp          Copy files/folders between a container and the local filesystem\n",
      "  create      Create a new container\n",
      "  diff        Inspect changes to files or directories on a container's filesystem\n",
      "  events      Get real time events from the server\n",
      "  exec        Run a command in a running container\n",
      "  export      Export a container's filesystem as a tar archive\n",
      "  history     Show the history of an image\n",
      "  images      List images\n",
      "  import      Import the contents from a tarball to create a filesystem image\n",
      "  info        Display system-wide information\n",
      "  inspect     Return low-level information on Docker objects\n",
      "  kill        Kill one or more running containers\n",
      "  load        Load an image from a tar archive or STDIN\n",
      "  login       Log in to a Docker registry\n",
      "  logout      Log out from a Docker registry\n",
      "  logs        Fetch the logs of a container\n",
      "  pause       Pause all processes within one or more containers\n",
      "  port        List port mappings or a specific mapping for the container\n",
      "  ps          List containers\n",
      "  pull        Pull an image or a repository from a registry\n",
      "  push        Push an image or a repository to a registry\n",
      "  rename      Rename a container\n",
      "  restart     Restart one or more containers\n",
      "  rm          Remove one or more containers\n",
      "  rmi         Remove one or more images\n",
      "  run         Run a command in a new container\n",
      "  save        Save one or more images to a tar archive (streamed to STDOUT by default)\n",
      "  search      Search the Docker Hub for images\n",
      "  start       Start one or more stopped containers\n",
      "  stats       Display a live stream of container(s) resource usage statistics\n",
      "  stop        Stop one or more running containers\n",
      "  tag         Create a tag TARGET_IMAGE that refers to SOURCE_IMAGE\n",
      "  top         Display the running processes of a container\n",
      "  unpause     Unpause all processes within one or more containers\n",
      "  update      Update configuration of one or more containers\n",
      "  version     Show the Docker version information\n",
      "  wait        Block until one or more containers stop, then print their exit codes\n",
      "\n",
      "Run 'docker COMMAND --help' for more information on a command.\n"
     ]
    }
   ],
   "source": [
    "docker help"
   ]
  },
  {
   "cell_type": "markdown",
   "metadata": {},
   "source": [
    "Choissisez un des management commandes est regarder le help, e.g."
   ]
  },
  {
   "cell_type": "code",
   "execution_count": 30,
   "metadata": {},
   "outputs": [
    {
     "name": "stdout",
     "output_type": "stream",
     "text": [
      "\n",
      "Usage:\tdocker container COMMAND\n",
      "\n",
      "Manage containers\n",
      "\n",
      "Commands:\n",
      "  attach      Attach local standard input, output, and error streams to a running container\n",
      "  commit      Create a new image from a container's changes\n",
      "  cp          Copy files/folders between a container and the local filesystem\n",
      "  create      Create a new container\n",
      "  diff        Inspect changes to files or directories on a container's filesystem\n",
      "  exec        Run a command in a running container\n",
      "  export      Export a container's filesystem as a tar archive\n",
      "  inspect     Display detailed information on one or more containers\n",
      "  kill        Kill one or more running containers\n",
      "  logs        Fetch the logs of a container\n",
      "  ls          List containers\n",
      "  pause       Pause all processes within one or more containers\n",
      "  port        List port mappings or a specific mapping for the container\n",
      "  prune       Remove all stopped containers\n",
      "  rename      Rename a container\n",
      "  restart     Restart one or more containers\n",
      "  rm          Remove one or more containers\n",
      "  run         Run a command in a new container\n",
      "  start       Start one or more stopped containers\n",
      "  stats       Display a live stream of container(s) resource usage statistics\n",
      "  stop        Stop one or more running containers\n",
      "  top         Display the running processes of a container\n",
      "  unpause     Unpause all processes within one or more containers\n",
      "  update      Update configuration of one or more containers\n",
      "  wait        Block until one or more containers stop, then print their exit codes\n",
      "\n",
      "Run 'docker container COMMAND --help' for more information on a command.\n"
     ]
    },
    {
     "ename": "",
     "evalue": "1",
     "output_type": "error",
     "traceback": []
    }
   ],
   "source": [
    "docker container help"
   ]
  },
  {
   "cell_type": "markdown",
   "metadata": {},
   "source": [
    "**Investiguer le *run* command** avec ```docker container run --help```"
   ]
  },
  {
   "cell_type": "code",
   "execution_count": 31,
   "metadata": {},
   "outputs": [
    {
     "name": "stdout",
     "output_type": "stream",
     "text": [
      "\n",
      "Usage:\tdocker container run [OPTIONS] IMAGE [COMMAND] [ARG...]\n",
      "\n",
      "Run a command in a new container\n",
      "\n",
      "Options:\n",
      "      --add-host list                  Add a custom host-to-IP mapping\n",
      "                                       (host:ip)\n",
      "  -a, --attach list                    Attach to STDIN, STDOUT or STDERR\n",
      "      --blkio-weight uint16            Block IO (relative weight),\n",
      "                                       between 10 and 1000, or 0 to\n",
      "                                       disable (default 0)\n",
      "      --blkio-weight-device list       Block IO weight (relative device\n",
      "                                       weight) (default [])\n",
      "      --cap-add list                   Add Linux capabilities\n",
      "      --cap-drop list                  Drop Linux capabilities\n",
      "      --cgroup-parent string           Optional parent cgroup for the\n",
      "                                       container\n",
      "      --cidfile string                 Write the container ID to the file\n",
      "      --cpu-period int                 Limit CPU CFS (Completely Fair\n",
      "                                       Scheduler) period\n",
      "      --cpu-quota int                  Limit CPU CFS (Completely Fair\n",
      "                                       Scheduler) quota\n",
      "      --cpu-rt-period int              Limit CPU real-time period in\n",
      "                                       microseconds\n",
      "      --cpu-rt-runtime int             Limit CPU real-time runtime in\n",
      "                                       microseconds\n",
      "  -c, --cpu-shares int                 CPU shares (relative weight)\n",
      "      --cpus decimal                   Number of CPUs\n",
      "      --cpuset-cpus string             CPUs in which to allow execution\n",
      "                                       (0-3, 0,1)\n",
      "      --cpuset-mems string             MEMs in which to allow execution\n",
      "                                       (0-3, 0,1)\n",
      "  -d, --detach                         Run container in background and\n",
      "                                       print container ID\n",
      "      --detach-keys string             Override the key sequence for\n",
      "                                       detaching a container\n",
      "      --device list                    Add a host device to the container\n",
      "      --device-cgroup-rule list        Add a rule to the cgroup allowed\n",
      "                                       devices list\n",
      "      --device-read-bps list           Limit read rate (bytes per second)\n",
      "                                       from a device (default [])\n",
      "      --device-read-iops list          Limit read rate (IO per second)\n",
      "                                       from a device (default [])\n",
      "      --device-write-bps list          Limit write rate (bytes per\n",
      "                                       second) to a device (default [])\n",
      "      --device-write-iops list         Limit write rate (IO per second)\n",
      "                                       to a device (default [])\n",
      "      --disable-content-trust          Skip image verification (default true)\n",
      "      --dns list                       Set custom DNS servers\n",
      "      --dns-option list                Set DNS options\n",
      "      --dns-search list                Set custom DNS search domains\n",
      "      --entrypoint string              Overwrite the default ENTRYPOINT\n",
      "                                       of the image\n",
      "  -e, --env list                       Set environment variables\n",
      "      --env-file list                  Read in a file of environment variables\n",
      "      --expose list                    Expose a port or a range of ports\n",
      "      --group-add list                 Add additional groups to join\n",
      "      --health-cmd string              Command to run to check health\n",
      "      --health-interval duration       Time between running the check\n",
      "                                       (ms|s|m|h) (default 0s)\n",
      "      --health-retries int             Consecutive failures needed to\n",
      "                                       report unhealthy\n",
      "      --health-start-period duration   Start period for the container to\n",
      "                                       initialize before starting\n",
      "                                       health-retries countdown\n",
      "                                       (ms|s|m|h) (default 0s)\n",
      "      --health-timeout duration        Maximum time to allow one check to\n",
      "                                       run (ms|s|m|h) (default 0s)\n",
      "      --help                           Print usage\n",
      "  -h, --hostname string                Container host name\n",
      "      --init                           Run an init inside the container\n",
      "                                       that forwards signals and reaps\n",
      "                                       processes\n",
      "  -i, --interactive                    Keep STDIN open even if not attached\n",
      "      --ip string                      IPv4 address (e.g., 172.30.100.104)\n",
      "      --ip6 string                     IPv6 address (e.g., 2001:db8::33)\n",
      "      --ipc string                     IPC mode to use\n",
      "      --isolation string               Container isolation technology\n",
      "      --kernel-memory bytes            Kernel memory limit\n",
      "  -l, --label list                     Set meta data on a container\n",
      "      --label-file list                Read in a line delimited file of labels\n",
      "      --link list                      Add link to another container\n",
      "      --link-local-ip list             Container IPv4/IPv6 link-local\n",
      "                                       addresses\n",
      "      --log-driver string              Logging driver for the container\n",
      "      --log-opt list                   Log driver options\n",
      "      --mac-address string             Container MAC address (e.g.,\n",
      "                                       92:d0:c6:0a:29:33)\n",
      "  -m, --memory bytes                   Memory limit\n",
      "      --memory-reservation bytes       Memory soft limit\n",
      "      --memory-swap bytes              Swap limit equal to memory plus\n",
      "                                       swap: '-1' to enable unlimited swap\n",
      "      --memory-swappiness int          Tune container memory swappiness\n",
      "                                       (0 to 100) (default -1)\n",
      "      --mount mount                    Attach a filesystem mount to the\n",
      "                                       container\n",
      "      --name string                    Assign a name to the container\n",
      "      --network string                 Connect a container to a network\n",
      "                                       (default \"default\")\n",
      "      --network-alias list             Add network-scoped alias for the\n",
      "                                       container\n",
      "      --no-healthcheck                 Disable any container-specified\n",
      "                                       HEALTHCHECK\n",
      "      --oom-kill-disable               Disable OOM Killer\n",
      "      --oom-score-adj int              Tune host's OOM preferences (-1000\n",
      "                                       to 1000)\n",
      "      --pid string                     PID namespace to use\n",
      "      --pids-limit int                 Tune container pids limit (set -1\n",
      "                                       for unlimited)\n",
      "      --privileged                     Give extended privileges to this\n",
      "                                       container\n",
      "  -p, --publish list                   Publish a container's port(s) to\n",
      "                                       the host\n",
      "  -P, --publish-all                    Publish all exposed ports to\n",
      "                                       random ports\n",
      "      --read-only                      Mount the container's root\n",
      "                                       filesystem as read only\n",
      "      --restart string                 Restart policy to apply when a\n",
      "                                       container exits (default \"no\")\n",
      "      --rm                             Automatically remove the container\n",
      "                                       when it exits\n",
      "      --runtime string                 Runtime to use for this container\n",
      "      --security-opt list              Security Options\n",
      "      --shm-size bytes                 Size of /dev/shm\n",
      "      --sig-proxy                      Proxy received signals to the\n",
      "                                       process (default true)\n",
      "      --stop-signal string             Signal to stop a container\n",
      "                                       (default \"SIGTERM\")\n",
      "      --stop-timeout int               Timeout (in seconds) to stop a\n",
      "                                       container\n",
      "      --storage-opt list               Storage driver options for the\n"
     ]
    },
    {
     "name": "stdout",
     "output_type": "stream",
     "text": [
      "                                       container\n",
      "      --sysctl map                     Sysctl options (default map[])\n",
      "      --tmpfs list                     Mount a tmpfs directory\n",
      "  -t, --tty                            Allocate a pseudo-TTY\n",
      "      --ulimit ulimit                  Ulimit options (default [])\n",
      "  -u, --user string                    Username or UID (format:\n",
      "                                       <name|uid>[:<group|gid>])\n",
      "      --userns string                  User namespace to use\n",
      "      --uts string                     UTS namespace to use\n",
      "  -v, --volume list                    Bind mount a volume\n",
      "      --volume-driver string           Optional volume driver for the\n",
      "                                       container\n",
      "      --volumes-from list              Mount volumes from the specified\n",
      "                                       container(s)\n",
      "  -w, --workdir string                 Working directory inside the container\n"
     ]
    }
   ],
   "source": [
    "docker container run --help"
   ]
  },
  {
   "cell_type": "markdown",
   "metadata": {},
   "source": [
    "**Experimentez*** avec la commande ```docker container run```\n",
    "\n",
    "Lance le container image mjbright/docker-demo:1 a nouveau mais avec l'option '*-P*' cette fois-ci.\n",
    "\n",
    "**Comment** acceder au container?"
   ]
  },
  {
   "cell_type": "markdown",
   "metadata": {},
   "source": [
    "# 3. Investiguer les processus\n",
    "\n",
    "Nous allons investiguer les processus dans un container et comment la vue des processus dans les containers, dans un namespaces PID propre et different.\n",
    "\n",
    "\n",
    "Vous auriez peut-etre besoin d'installer l'utilitaire pstree sur CentOS\n",
    "```yum install -y psmisc```\n",
    "\n",
    "d'abord **arreter tous les containers qui tournent**:\n",
    "```docker stop $(docker ps -q)```\n",
    "\n",
    "et **supprimer tous les (stopped) containers**:\n",
    "```docker rm $(docker ps -qa)```\n",
    "\n",
    "\n",
    "Lancer 2 containers alpine nomme alpine1 et alpine2 comme ci-bas.\n",
    "\n",
    "Ca va lancer 2 containers qui tourne en boucle."
   ]
  },
  {
   "cell_type": "code",
   "execution_count": 66,
   "metadata": {},
   "outputs": [
    {
     "name": "stdout",
     "output_type": "stream",
     "text": [
      "aaf16fc5bdb140269dd2d32a06168c94f5aa99a13b40b82115109a62d64dca9d\n"
     ]
    }
   ],
   "source": [
    "docker run -it -d --name alpine1 alpine sh -c 'while true; do echo \"alpine1: $(date)\"; sleep 5; done'"
   ]
  },
  {
   "cell_type": "code",
   "execution_count": 67,
   "metadata": {},
   "outputs": [
    {
     "name": "stdout",
     "output_type": "stream",
     "text": [
      "fc16fead341f85cef4d17f420a67f7353102bb5554f56401cec05361da29a77d\n"
     ]
    }
   ],
   "source": [
    "docker run -it -d --name alpine2 alpine sh -c 'while true; do echo \"alpine2: $(date)\"; sleep 5; done'"
   ]
  },
  {
   "cell_type": "code",
   "execution_count": 82,
   "metadata": {},
   "outputs": [
    {
     "name": "stdout",
     "output_type": "stream",
     "text": [
      "alpine1: Mon Oct 29 15:16:04 UTC 2018\n",
      "alpine1: Mon Oct 29 15:16:09 UTC 2018\n",
      "alpine1: Mon Oct 29 15:16:14 UTC 2018\n",
      "alpine1: Mon Oct 29 15:16:19 UTC 2018\n",
      "alpine1: Mon Oct 29 15:16:24 UTC 2018\n",
      "alpine1: Mon Oct 29 15:16:29 UTC 2018\n",
      "alpine1: Mon Oct 29 15:16:34 UTC 2018\n",
      "alpine1: Mon Oct 29 15:16:39 UTC 2018\n",
      "alpine1: Mon Oct 29 15:16:44 UTC 2018\n",
      "alpine1: Mon Oct 29 15:16:49 UTC 2018\n",
      "alpine1: Mon Oct 29 15:16:54 UTC 2018\n",
      "alpine1: Mon Oct 29 15:16:59 UTC 2018\n",
      "alpine1: Mon Oct 29 15:17:04 UTC 2018\n",
      "alpine1: Mon Oct 29 15:17:09 UTC 2018\n",
      "alpine1: Mon Oct 29 15:17:14 UTC 2018\n",
      "alpine1: Mon Oct 29 15:17:19 UTC 2018\n",
      "alpine1: Mon Oct 29 15:17:24 UTC 2018\n",
      "alpine1: Mon Oct 29 15:17:29 UTC 2018\n",
      "alpine1: Mon Oct 29 15:17:34 UTC 2018\n",
      "alpine1: Mon Oct 29 15:17:39 UTC 2018\n",
      "alpine1: Mon Oct 29 15:17:44 UTC 2018\n",
      "alpine1: Mon Oct 29 15:17:49 UTC 2018\n",
      "alpine1: Mon Oct 29 15:17:54 UTC 2018\n",
      "alpine1: Mon Oct 29 15:17:59 UTC 2018\n",
      "alpine1: Mon Oct 29 15:18:04 UTC 2018\n",
      "alpine1: Mon Oct 29 15:18:09 UTC 2018\n",
      "alpine1: Mon Oct 29 15:18:14 UTC 2018\n",
      "alpine1: Mon Oct 29 15:18:19 UTC 2018\n",
      "alpine1: Mon Oct 29 15:18:24 UTC 2018\n",
      "alpine1: Mon Oct 29 15:18:29 UTC 2018\n",
      "alpine1: Mon Oct 29 15:18:34 UTC 2018\n",
      "alpine1: Mon Oct 29 15:18:39 UTC 2018\n",
      "alpine1: Mon Oct 29 15:18:44 UTC 2018\n",
      "alpine1: Mon Oct 29 15:18:49 UTC 2018\n",
      "alpine1: Mon Oct 29 15:18:54 UTC 2018\n",
      "alpine1: Mon Oct 29 15:18:59 UTC 2018\n",
      "alpine1: Mon Oct 29 15:19:04 UTC 2018\n",
      "alpine1: Mon Oct 29 15:19:09 UTC 2018\n",
      "alpine1: Mon Oct 29 15:19:14 UTC 2018\n",
      "alpine1: Mon Oct 29 15:19:19 UTC 2018\n",
      "alpine1: Mon Oct 29 15:19:24 UTC 2018\n",
      "alpine1: Mon Oct 29 15:19:29 UTC 2018\n",
      "alpine1: Mon Oct 29 15:19:34 UTC 2018\n",
      "alpine1: Mon Oct 29 15:19:39 UTC 2018\n",
      "alpine1: Mon Oct 29 15:19:44 UTC 2018\n",
      "alpine1: Mon Oct 29 15:19:49 UTC 2018\n",
      "alpine1: Mon Oct 29 15:19:54 UTC 2018\n",
      "alpine1: Mon Oct 29 15:19:59 UTC 2018\n",
      "alpine1: Mon Oct 29 15:20:04 UTC 2018\n",
      "alpine1: Mon Oct 29 15:20:09 UTC 2018\n",
      "alpine1: Mon Oct 29 15:20:14 UTC 2018\n",
      "alpine1: Mon Oct 29 15:20:19 UTC 2018\n",
      "alpine1: Mon Oct 29 15:20:24 UTC 2018\n",
      "alpine1: Mon Oct 29 15:20:29 UTC 2018\n",
      "alpine1: Mon Oct 29 15:20:34 UTC 2018\n",
      "alpine1: Mon Oct 29 15:20:39 UTC 2018\n",
      "alpine1: Mon Oct 29 15:20:44 UTC 2018\n",
      "alpine1: Mon Oct 29 15:20:49 UTC 2018\n",
      "alpine1: Mon Oct 29 15:20:54 UTC 2018\n",
      "alpine1: Mon Oct 29 15:20:59 UTC 2018\n",
      "alpine1: Mon Oct 29 15:21:04 UTC 2018\n",
      "alpine1: Mon Oct 29 15:21:09 UTC 2018\n",
      "alpine1: Mon Oct 29 15:21:14 UTC 2018\n",
      "alpine1: Mon Oct 29 15:21:19 UTC 2018\n",
      "alpine1: Mon Oct 29 15:21:24 UTC 2018\n",
      "alpine1: Mon Oct 29 15:21:29 UTC 2018\n",
      "alpine1: Mon Oct 29 15:21:34 UTC 2018\n",
      "alpine1: Mon Oct 29 15:21:39 UTC 2018\n",
      "alpine1: Mon Oct 29 15:21:44 UTC 2018\n",
      "alpine1: Mon Oct 29 15:21:49 UTC 2018\n",
      "alpine1: Mon Oct 29 15:21:54 UTC 2018\n",
      "alpine1: Mon Oct 29 15:21:59 UTC 2018\n",
      "alpine1: Mon Oct 29 15:22:04 UTC 2018\n",
      "alpine1: Mon Oct 29 15:22:09 UTC 2018\n",
      "alpine1: Mon Oct 29 15:22:14 UTC 2018\n"
     ]
    }
   ],
   "source": [
    "docker logs alpine1"
   ]
  },
  {
   "cell_type": "markdown",
   "metadata": {},
   "source": [
    "Recuperons le PID du docker daemon:"
   ]
  },
  {
   "cell_type": "code",
   "execution_count": 80,
   "metadata": {},
   "outputs": [
    {
     "name": "stdout",
     "output_type": "stream",
     "text": [
      "root      1116     1  0 Oct27 ?        00:24:36 /usr/bin/dockerd\n",
      "PID of dockerd is 1116\n"
     ]
    }
   ],
   "source": [
    "ps -fade | grep dockerd | grep -v grep\n",
    "DOCKERD_PID=$(ps -fade | awk '!/grep/ && /dockerd/ { print $2; }')\n",
    "\n",
    "echo \"PID of dockerd is $DOCKERD_PID\""
   ]
  },
  {
   "cell_type": "markdown",
   "metadata": {},
   "source": [
    "Regardez le process tree vu depuis la hote:\n",
    "(nous eliminons les threads en excluant \"{\")"
   ]
  },
  {
   "cell_type": "code",
   "execution_count": 81,
   "metadata": {},
   "outputs": [
    {
     "name": "stdout",
     "output_type": "stream",
     "text": [
      "systemd,1 --system --deserialize 21\n",
      "  `-dockerd,1116\n",
      "      |-docker-containe,1255 --config /var/run/docker/containerd/containerd.toml\n",
      "      |   |-docker-containe,22766 -namespace moby -workdir...\n",
      "      |   |   |-sh,22784 -c while true; do echo \"alpine1: $(date)\"; sleep 5; done\n",
      "      |   |   |   `-sleep,23271 5\n",
      "      |   |-docker-containe,22839 -namespace moby -workdir...\n",
      "      |   |   |-sh,22859 -c while true; do echo \"alpine2: $(date)\"; sleep 5; done\n",
      "      |   |   |   `-sleep,23267 5\n"
     ]
    }
   ],
   "source": [
    "pstree -aps $DOCKERD_PID | grep -v \"{\""
   ]
  },
  {
   "cell_type": "markdown",
   "metadata": {},
   "source": [
    "Nous voyons clairement nos containers alpine1 / alpine2 avec leurs boucles '*while*' qui continuent a tourner\n",
    "\n",
    "On voit sur la hote les PIDs utilisaient pour ses processus, alors dans les containers on voit quoi?"
   ]
  },
  {
   "cell_type": "code",
   "execution_count": 83,
   "metadata": {},
   "outputs": [
    {
     "name": "stdout",
     "output_type": "stream",
     "text": [
      "PID   USER     TIME  COMMAND\n",
      "    1 root      0:00 sh -c while true; do echo \"alpine1: $(date)\"; sleep 5; don\n",
      "  233 root      0:00 sleep 5\n",
      "  234 root      0:00 ps -fade\n"
     ]
    }
   ],
   "source": [
    "docker exec -it alpine1 ps -fade"
   ]
  },
  {
   "cell_type": "code",
   "execution_count": 84,
   "metadata": {},
   "outputs": [
    {
     "name": "stdout",
     "output_type": "stream",
     "text": [
      "PID   USER     TIME  COMMAND\n",
      "    1 root      0:00 sh -c while true; do echo \"alpine1: $(date)\"; sleep 5; don\n",
      "  244 root      0:00 sleep 5\n",
      "  245 root      0:00 ps -fade\n"
     ]
    }
   ],
   "source": [
    "docker exec -it alpine1 ps -fade"
   ]
  },
  {
   "cell_type": "markdown",
   "metadata": {},
   "source": [
    "On voit tres clairement que le processus '*racine*' a un PID de '*1*'.\n",
    "\n",
    "Donc on voit bien nos processus depuis la hote mais dans chaque container on ne voit que ses propres PIDs dans un espace de nommage qui lui est propre."
   ]
  }
 ],
 "metadata": {
  "kernelspec": {
   "display_name": "Bash",
   "language": "bash",
   "name": "bash"
  },
  "language_info": {
   "codemirror_mode": "shell",
   "file_extension": ".sh",
   "mimetype": "text/x-sh",
   "name": "bash"
  }
 },
 "nbformat": 4,
 "nbformat_minor": 2
}
