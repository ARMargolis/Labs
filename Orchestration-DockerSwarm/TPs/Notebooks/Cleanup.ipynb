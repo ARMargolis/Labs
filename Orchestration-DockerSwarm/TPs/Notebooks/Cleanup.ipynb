{
 "cells": [
  {
   "cell_type": "markdown",
   "metadata": {},
   "source": [
    "# Cleanup"
   ]
  },
  {
   "cell_type": "code",
   "execution_count": 30,
   "metadata": {},
   "outputs": [
    {
     "name": "stdout",
     "output_type": "stream",
     "text": [
      "Defining CLEANUP_MACHINES ...\n",
      "Defining CLEANUP_CONTAINERS ...\n",
      "Defining CLEANUP_ALL_CONTAINERS ...\n",
      "Defining CLEANUP_IMAGES ...\n",
      "Defining CLEANUP_OS_PACKAGES ...\n",
      "... done.\n"
     ]
    }
   ],
   "source": [
    "echo \"Defining CLEANUP_MACHINES ...\"\n",
    "CLEANUP_MACHINES() {    \n",
    "    docker-machine ls\n",
    "\n",
    "    IDS=$(docker-machine ls -q)\n",
    "    [ -z \"$IDS\" ] && { echo \"No machines to cleanup\"; return 1; }\n",
    "    # docker-machine ls | grep -q tcp: || { echo \"No machines to cleanup\"; return 1; }\n",
    "    # BAD - docker-machine ls | grep -q tcp: || { echo NO }\n",
    "    \n",
    "    echo \"Deleting machines <$(echo $IDS)>\"\n",
    "    \n",
    "    docker-machine rm -f $ID\n",
    "}\n",
    "\n",
    "# Cleanup stopped containers:\n",
    "echo \"Defining CLEANUP_CONTAINERS ...\"\n",
    "CLEANUP_CONTAINERS() {\n",
    "    docker container ls -a | grep \" Exited \"\n",
    "    \n",
    "    docker container ls -a | grep -q \" Exited \" || { echo \"No stopped containers to cleanup\"; return 1; }\n",
    "\n",
    "    IDS=$(docker container ls -a | awk '/ Exited / { print $1;}')\n",
    "    [ -z \"$IDS\" ] && { echo \"No stopped containers to cleanup\"; return 1; }\n",
    "\n",
    "    echo \"Deleting containers <$(echo $IDS)>\"\n",
    "    docker container rm -f $IDS\n",
    "}\n",
    "\n",
    "\n",
    "# Cleanup **all** containers:\n",
    "echo \"Defining CLEANUP_ALL_CONTAINERS ...\"\n",
    "CLEANUP_ALL_CONTAINERS() {\n",
    "    docker container ls -a\n",
    "    IGNORE_CONTAINERS=\"janeczku/dropbox\"\n",
    "\n",
    "    RUNNING_IDS=$(docker container ls -a | grep -vE \"$IGNORE_CONTAINERS\" | awk '!/(^CONTAINER | Exited )/ { print $1;}')\n",
    "    while [ ! -z \"$RUNNING_IDS\" ]; do\n",
    "        echo \"Stopping running containers <$(echo $RUNNING_IDS)>\"\n",
    "\n",
    "        docker container stop $RUNNING_IDS\n",
    "        RUNNING_IDS=$(docker container ls -a | grep -vE \"$IGNORE_CONTAINERS\" | awk '!/(^CONTAINER | Exited )/ { print $1;}')\n",
    "        sleep 5;\n",
    "    done\n",
    "\n",
    "    IDS=$(docker container ls -a | grep -vE \"$IGNORE_CONTAINERS\" | awk '/ Exited / { print $1;}')\n",
    "    [ -z \"$IDS\" ] && { echo \"No stopped containers to cleanup\"; return 1; }\n",
    "\n",
    "    echo \"Deleting containers <$(echo $IDS)>\"\n",
    "    docker container rm -f $IDS\n",
    "    #docker container ls | grep -q tcp: || { echo \"No machines to cleanup\"; return 1; }\n",
    "}\n",
    "\n",
    "\n",
    "echo \"Defining CLEANUP_IMAGES ...\"\n",
    "CLEANUP_IMAGES() {\n",
    "    IDS=$(docker image ls -q)\n",
    "    [ -z \"$IDS\" ] && { echo \"No images to cleanup\"; return 1; }\n",
    "\n",
    "    echo \"Deleting images <$(echo $IDS)>\"\n",
    "    docker image rm $IDS\n",
    "}\n",
    "\n",
    "echo \"Defining CLEANUP_OS_PACKAGES ...\"\n",
    "CLEANUP_OS_PACKAGES() {\n",
    "    echo \"TODO ...\"\n",
    "}\n",
    "\n",
    "echo \"... done.\""
   ]
  },
  {
   "cell_type": "code",
   "execution_count": 31,
   "metadata": {},
   "outputs": [
    {
     "name": "stdout",
     "output_type": "stream",
     "text": [
      "CONTAINER ID        IMAGE               COMMAND             CREATED             STATUS              PORTS               NAMES\n",
      "5672528d93ee        janeczku/dropbox    \"/root/run\"         3 days ago          Up About a minute   17500/tcp           dropbox\n"
     ]
    }
   ],
   "source": [
    "docker ps"
   ]
  },
  {
   "cell_type": "code",
   "execution_count": 32,
   "metadata": {},
   "outputs": [
    {
     "name": "stdout",
     "output_type": "stream",
     "text": [
      "No stopped containers to cleanup\n"
     ]
    },
    {
     "ename": "",
     "evalue": "1",
     "output_type": "error",
     "traceback": []
    }
   ],
   "source": [
    "CLEANUP_CONTAINERS"
   ]
  },
  {
   "cell_type": "code",
   "execution_count": 33,
   "metadata": {},
   "outputs": [
    {
     "name": "stdout",
     "output_type": "stream",
     "text": [
      "CONTAINER ID        IMAGE               COMMAND             CREATED             STATUS              PORTS               NAMES\n",
      "5672528d93ee        janeczku/dropbox    \"/root/run\"         3 days ago          Up About a minute   17500/tcp           dropbox\n",
      "No stopped containers to cleanup\n"
     ]
    },
    {
     "ename": "",
     "evalue": "1",
     "output_type": "error",
     "traceback": []
    }
   ],
   "source": [
    "CLEANUP_ALL_CONTAINERS"
   ]
  },
  {
   "cell_type": "code",
   "execution_count": 34,
   "metadata": {},
   "outputs": [
    {
     "name": "stdout",
     "output_type": "stream",
     "text": [
      "Deleting images <a8964074d4f6>\n",
      "Error response from daemon: conflict: unable to delete a8964074d4f6 (cannot be forced) - image is being used by running container 5672528d93ee\n"
     ]
    },
    {
     "ename": "",
     "evalue": "1",
     "output_type": "error",
     "traceback": []
    }
   ],
   "source": [
    "CLEANUP_IMAGES"
   ]
  },
  {
   "cell_type": "code",
   "execution_count": 4,
   "metadata": {},
   "outputs": [
    {
     "name": "stdout",
     "output_type": "stream",
     "text": [
      "35e546fd31e1\n",
      "77d2ebae419d\n"
     ]
    }
   ],
   "source": [
    "docker container ls -a | awk '/ Exited / { print $1;}'"
   ]
  },
  {
   "cell_type": "code",
   "execution_count": 36,
   "metadata": {},
   "outputs": [
    {
     "name": "stdout",
     "output_type": "stream",
     "text": [
      "c7\n",
      "c7\n",
      "Untagged: mjbright/docker-demo:1\n",
      "Untagged: mjbright/docker-demo@sha256:eaeb6425ba54d4ee6e3cee08f707a007b8a9a4fda7562be8fb971c1c587d704c\n",
      "Deleted: sha256:3dfe557641e45e465c1afe311ccdef894d5e83ad2beeb98b50b773c761d807c7\n",
      "Deleted: sha256:5f381bb47fbc98a13866add320b0155ab3a38f234c366bf5bcd3e2a3dd2b5c99\n",
      "Deleted: sha256:6c6b48bb98b210be9a875337e04df0f7bc6b27839723ab9fcaff3c3eb96880ac\n",
      "Deleted: sha256:6e6d182767cbd59b1b32bf2fd545dafcb3c051f6436d822e77340115d0c9e2f6\n",
      "Deleted: sha256:cd7100a72410606589a54b932cabd804a17f9ae5b42a1882bd56d263e02b6215\n"
     ]
    }
   ],
   "source": [
    "docker stop c7; docker rm c7; docker rmi mjbright/docker-demo:1"
   ]
  },
  {
   "cell_type": "code",
   "execution_count": 5,
   "metadata": {},
   "outputs": [
    {
     "name": "stdout",
     "output_type": "stream",
     "text": [
      "REPOSITORY             TAG                 IMAGE ID            CREATED             SIZE\n",
      "hello-world            latest              4ab4c602aa5e        7 weeks ago         1.84kB\n",
      "mjbright/docker-demo   3                   8a20992db144        8 months ago        13.4MB\n",
      "mjbright/docker-demo   1                   3dfe557641e4        8 months ago        13.7MB\n",
      "janeczku/dropbox       latest              a8964074d4f6        2 years ago         601MB\n"
     ]
    }
   ],
   "source": [
    "docker images"
   ]
  },
  {
   "cell_type": "code",
   "execution_count": 7,
   "metadata": {},
   "outputs": [
    {
     "name": "stdout",
     "output_type": "stream",
     "text": [
      "\n",
      "Usage:\tdocker image ls [OPTIONS] [REPOSITORY[:TAG]]\n",
      "\n",
      "List images\n",
      "\n",
      "Aliases:\n",
      "  ls, images, list\n",
      "\n",
      "Options:\n",
      "  -a, --all             Show all images (default hides intermediate images)\n",
      "      --digests         Show digests\n",
      "  -f, --filter filter   Filter output based on conditions provided\n",
      "      --format string   Pretty-print images using a Go template\n",
      "      --no-trunc        Don't truncate output\n",
      "  -q, --quiet           Only show numeric IDs\n"
     ]
    }
   ],
   "source": [
    "docker image ls --help"
   ]
  },
  {
   "cell_type": "code",
   "execution_count": 34,
   "metadata": {},
   "outputs": [
    {
     "name": "stdout",
     "output_type": "stream",
     "text": [
      "\n",
      "Usage:\tdocker container ls [OPTIONS]\n",
      "\n",
      "List containers\n",
      "\n",
      "Aliases:\n",
      "  ls, ps, list\n",
      "\n",
      "Options:\n",
      "  -a, --all             Show all containers (default shows just running)\n",
      "  -f, --filter filter   Filter output based on conditions provided\n",
      "      --format string   Pretty-print containers using a Go template\n",
      "  -n, --last int        Show n last created containers (includes all\n",
      "                        states) (default -1)\n",
      "  -l, --latest          Show the latest created container (includes all\n",
      "                        states)\n",
      "      --no-trunc        Don't truncate output\n",
      "  -q, --quiet           Only display numeric IDs\n",
      "  -s, --size            Display total file sizes\n"
     ]
    }
   ],
   "source": [
    "docker container ls --help"
   ]
  },
  {
   "cell_type": "code",
   "execution_count": null,
   "metadata": {},
   "outputs": [],
   "source": [
    "docker ps"
   ]
  },
  {
   "cell_type": "code",
   "execution_count": 33,
   "metadata": {},
   "outputs": [
    {
     "name": "stdout",
     "output_type": "stream",
     "text": [
      "\n",
      "Usage:\tdocker run [OPTIONS] IMAGE [COMMAND] [ARG...]\n",
      "\n",
      "Run a command in a new container\n",
      "\n",
      "Options:\n",
      "      --add-host list                  Add a custom host-to-IP mapping\n",
      "                                       (host:ip)\n",
      "  -a, --attach list                    Attach to STDIN, STDOUT or STDERR\n",
      "      --blkio-weight uint16            Block IO (relative weight),\n",
      "                                       between 10 and 1000, or 0 to\n",
      "                                       disable (default 0)\n",
      "      --blkio-weight-device list       Block IO weight (relative device\n",
      "                                       weight) (default [])\n",
      "      --cap-add list                   Add Linux capabilities\n",
      "      --cap-drop list                  Drop Linux capabilities\n",
      "      --cgroup-parent string           Optional parent cgroup for the\n",
      "                                       container\n",
      "      --cidfile string                 Write the container ID to the file\n",
      "      --cpu-period int                 Limit CPU CFS (Completely Fair\n",
      "                                       Scheduler) period\n",
      "      --cpu-quota int                  Limit CPU CFS (Completely Fair\n",
      "                                       Scheduler) quota\n",
      "      --cpu-rt-period int              Limit CPU real-time period in\n",
      "                                       microseconds\n",
      "      --cpu-rt-runtime int             Limit CPU real-time runtime in\n",
      "                                       microseconds\n",
      "  -c, --cpu-shares int                 CPU shares (relative weight)\n",
      "      --cpus decimal                   Number of CPUs\n",
      "      --cpuset-cpus string             CPUs in which to allow execution\n",
      "                                       (0-3, 0,1)\n",
      "      --cpuset-mems string             MEMs in which to allow execution\n",
      "                                       (0-3, 0,1)\n",
      "  -d, --detach                         Run container in background and\n",
      "                                       print container ID\n",
      "      --detach-keys string             Override the key sequence for\n",
      "                                       detaching a container\n",
      "      --device list                    Add a host device to the container\n",
      "      --device-cgroup-rule list        Add a rule to the cgroup allowed\n",
      "                                       devices list\n",
      "      --device-read-bps list           Limit read rate (bytes per second)\n",
      "                                       from a device (default [])\n",
      "      --device-read-iops list          Limit read rate (IO per second)\n",
      "                                       from a device (default [])\n",
      "      --device-write-bps list          Limit write rate (bytes per\n",
      "                                       second) to a device (default [])\n",
      "      --device-write-iops list         Limit write rate (IO per second)\n",
      "                                       to a device (default [])\n",
      "      --disable-content-trust          Skip image verification (default true)\n",
      "      --dns list                       Set custom DNS servers\n",
      "      --dns-option list                Set DNS options\n",
      "      --dns-search list                Set custom DNS search domains\n",
      "      --entrypoint string              Overwrite the default ENTRYPOINT\n",
      "                                       of the image\n",
      "  -e, --env list                       Set environment variables\n",
      "      --env-file list                  Read in a file of environment variables\n",
      "      --expose list                    Expose a port or a range of ports\n",
      "      --group-add list                 Add additional groups to join\n",
      "      --health-cmd string              Command to run to check health\n",
      "      --health-interval duration       Time between running the check\n",
      "                                       (ms|s|m|h) (default 0s)\n",
      "      --health-retries int             Consecutive failures needed to\n",
      "                                       report unhealthy\n",
      "      --health-start-period duration   Start period for the container to\n",
      "                                       initialize before starting\n",
      "                                       health-retries countdown\n",
      "                                       (ms|s|m|h) (default 0s)\n",
      "      --health-timeout duration        Maximum time to allow one check to\n",
      "                                       run (ms|s|m|h) (default 0s)\n",
      "      --help                           Print usage\n",
      "  -h, --hostname string                Container host name\n",
      "      --init                           Run an init inside the container\n",
      "                                       that forwards signals and reaps\n",
      "                                       processes\n",
      "  -i, --interactive                    Keep STDIN open even if not attached\n",
      "      --ip string                      IPv4 address (e.g., 172.30.100.104)\n",
      "      --ip6 string                     IPv6 address (e.g., 2001:db8::33)\n",
      "      --ipc string                     IPC mode to use\n",
      "      --isolation string               Container isolation technology\n",
      "      --kernel-memory bytes            Kernel memory limit\n",
      "  -l, --label list                     Set meta data on a container\n",
      "      --label-file list                Read in a line delimited file of labels\n",
      "      --link list                      Add link to another container\n",
      "      --link-local-ip list             Container IPv4/IPv6 link-local\n",
      "                                       addresses\n",
      "      --log-driver string              Logging driver for the container\n",
      "      --log-opt list                   Log driver options\n",
      "      --mac-address string             Container MAC address (e.g.,\n",
      "                                       92:d0:c6:0a:29:33)\n",
      "  -m, --memory bytes                   Memory limit\n",
      "      --memory-reservation bytes       Memory soft limit\n",
      "      --memory-swap bytes              Swap limit equal to memory plus\n",
      "                                       swap: '-1' to enable unlimited swap\n",
      "      --memory-swappiness int          Tune container memory swappiness\n",
      "                                       (0 to 100) (default -1)\n",
      "      --mount mount                    Attach a filesystem mount to the\n",
      "                                       container\n",
      "      --name string                    Assign a name to the container\n",
      "      --network string                 Connect a container to a network\n",
      "                                       (default \"default\")\n",
      "      --network-alias list             Add network-scoped alias for the\n",
      "                                       container\n",
      "      --no-healthcheck                 Disable any container-specified\n",
      "                                       HEALTHCHECK\n",
      "      --oom-kill-disable               Disable OOM Killer\n",
      "      --oom-score-adj int              Tune host's OOM preferences (-1000\n",
      "                                       to 1000)\n",
      "      --pid string                     PID namespace to use\n",
      "      --pids-limit int                 Tune container pids limit (set -1\n",
      "                                       for unlimited)\n",
      "      --privileged                     Give extended privileges to this\n",
      "                                       container\n",
      "  -p, --publish list                   Publish a container's port(s) to\n",
      "                                       the host\n",
      "  -P, --publish-all                    Publish all exposed ports to\n",
      "                                       random ports\n",
      "      --read-only                      Mount the container's root\n",
      "                                       filesystem as read only\n",
      "      --restart string                 Restart policy to apply when a\n",
      "                                       container exits (default \"no\")\n",
      "      --rm                             Automatically remove the container\n",
      "                                       when it exits\n",
      "      --runtime string                 Runtime to use for this container\n",
      "      --security-opt list              Security Options\n",
      "      --shm-size bytes                 Size of /dev/shm\n",
      "      --sig-proxy                      Proxy received signals to the\n",
      "                                       process (default true)\n",
      "      --stop-signal string             Signal to stop a container\n",
      "                                       (default \"SIGTERM\")\n",
      "      --stop-timeout int               Timeout (in seconds) to stop a\n",
      "                                       container\n",
      "      --storage-opt list               Storage driver options for the\n"
     ]
    },
    {
     "name": "stdout",
     "output_type": "stream",
     "text": [
      "                                       container\n",
      "      --sysctl map                     Sysctl options (default map[])\n",
      "      --tmpfs list                     Mount a tmpfs directory\n",
      "  -t, --tty                            Allocate a pseudo-TTY\n",
      "      --ulimit ulimit                  Ulimit options (default [])\n",
      "  -u, --user string                    Username or UID (format:\n",
      "                                       <name|uid>[:<group|gid>])\n",
      "      --userns string                  User namespace to use\n",
      "      --uts string                     UTS namespace to use\n",
      "  -v, --volume list                    Bind mount a volume\n",
      "      --volume-driver string           Optional volume driver for the\n",
      "                                       container\n",
      "      --volumes-from list              Mount volumes from the specified\n",
      "                                       container(s)\n",
      "  -w, --workdir string                 Working directory inside the container\n"
     ]
    }
   ],
   "source": [
    "docker run --help"
   ]
  },
  {
   "cell_type": "code",
   "execution_count": 1,
   "metadata": {},
   "outputs": [
    {
     "name": "stdout",
     "output_type": "stream",
     "text": [
      "NAME     ACTIVE   DRIVER       STATE     URL                         SWARM   DOCKER        ERRORS\n",
      "master   -        virtualbox   Running   tcp://192.168.99.100:2376           v18.06.1-ce   \n",
      "About to remove master\n",
      "WARNING: This action will delete both local reference and remote instance.\n",
      "Successfully removed master\n"
     ]
    }
   ],
   "source": [
    "docker-machine ls\n",
    "\n",
    "docker-machine ls | grep -q tcp: && docker-machine rm -f $(docker-machine ls -q)"
   ]
  },
  {
   "cell_type": "code",
   "execution_count": 4,
   "metadata": {},
   "outputs": [
    {
     "name": "stdout",
     "output_type": "stream",
     "text": [
      "TODO ...\n",
      "NAME   ACTIVE   DRIVER   STATE   URL   SWARM   DOCKER   ERRORS\n"
     ]
    },
    {
     "ename": "",
     "evalue": "1",
     "output_type": "error",
     "traceback": []
    }
   ],
   "source": [
    "CLEANUP_MACHINES"
   ]
  },
  {
   "cell_type": "code",
   "execution_count": 15,
   "metadata": {},
   "outputs": [
    {
     "name": "stdout",
     "output_type": "stream",
     "text": [
      "TODO ...\n"
     ]
    }
   ],
   "source": [
    "CLEANUP_CONTAINERS"
   ]
  },
  {
   "cell_type": "code",
   "execution_count": 12,
   "metadata": {},
   "outputs": [
    {
     "name": "stdout",
     "output_type": "stream",
     "text": [
      "TODO ...\n"
     ]
    }
   ],
   "source": [
    "CLEANUP_IMAGES"
   ]
  },
  {
   "cell_type": "code",
   "execution_count": null,
   "metadata": {},
   "outputs": [],
   "source": []
  }
 ],
 "metadata": {
  "kernelspec": {
   "display_name": "Bash",
   "language": "bash",
   "name": "bash"
  },
  "language_info": {
   "codemirror_mode": "shell",
   "file_extension": ".sh",
   "mimetype": "text/x-sh",
   "name": "bash"
  }
 },
 "nbformat": 4,
 "nbformat_minor": 2
}
