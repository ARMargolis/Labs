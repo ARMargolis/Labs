{
 "cells": [
  {
   "cell_type": "markdown",
   "metadata": {},
   "source": [
    "# TP6: Docker Machine\n",
    "\n",
    "Docker-machine has official drivers for several hypervisors and Clouds (e.g. Hyoer-V, VirtualBox, Azure) and also some unofficial drivers (.e.g KVM).\n",
    "\n",
    "Problems were encountered using the KVM driver on CentOS https://github.com/dhiltgen/docker-machine-kvm so for this TP we will use\n",
    "- VirtualBox on CentOS 7\n",
    "- Hyper-V on Windows 10\n",
    "\n",
    "\n",
    "You can find the official documentation for '*Docker Machine*' here: [https://docs.docker.com/machine/](https://docs.docker.com/machine/)\n",
    "\n",
    "The source code for '*Docker Machine*' is available here: [https://github.com/docker/machine](https://github.com/docker/machine)\n",
    "\n",
    "If using '*Docker Desktop*' for Windows you already have *docker-machine*' installed, you can skip to <a href=\"#2-using-docker-machine\"> step 2</a> \"*Using docker-machine*\" below.\n",
    "\n",
    "## 1. Download docker-machine on CentOS 7\n",
    "\n",
    "Go to the page [https://github.com/docker/machine/releases](https://github.com/docker/machine/releases) and download the latest Linux binary, e.g. [docker-machine-Linux-x86_64](https://github.com/docker/machine/releases/download/v0.15.0/docker-machine-Linux-x86_64).\n",
    "\n",
    "```\n",
    "wget -O docker-machine https://github.com/docker/machine/releases/download/v0.15.0/docker-machine-Linux-x86_64\n",
    "```\n",
    "\n",
    "Copy the binary to /usr/local/bin and set execution rights:\n",
    "\n",
    "```\n",
    "sudo mv docker-machine /usr/local/bin\n",
    "sudo chmod +x /usr/local/bin/docker-machine\n",
    "```\n",
    "\n",
    "The VirtualBox driver is already included in the docker-machine binary.\n",
    "\n",
    "### 1.1 Install VirtualBox\n",
    "\n",
    "However we need to install VirtualBox.\n",
    "\n",
    "Perform the following steps:\n",
    "\n",
    "#### 1.1.1 Download and install the VirtualBox rpm:\n",
    "\n",
    "```bash\n",
    "  wget https://download.virtualbox.org/virtualbox/5.2.20/VirtualBox-5.2-5.2.20_125813\n",
    "_el7-1.x86_64.rpm\n",
    "  sudo yum install VirtualBox-5.2-5.2.20_125813_el7-1.x86_64.rpm\n",
    "```\n",
    "\n",
    "#### 1.1.2 Configure VirtualBox\n",
    "\n",
    "\n",
    "We likely need to install some packages.\n",
    "\n",
    "First try to run vboxconfig to see what it tells us.\n",
    "\n",
    "```bash\n",
    "  sudo /sbin/vboxconfig\n",
    "```\n",
    "\n",
    "We will probably be required to install some kernel development package and headers.\n",
    "\n",
    "\n",
    "We will first install gcc and make and then those kernel packages (other packages may also be needed):\n",
    "```bash\n",
    "  sudo yum install gcc make\n",
    "  sudo yum install kernel-devel kernel-devel-3.10.0-862.14.4.el7.x86_64\n",
    "```\n",
    "\n",
    "Check again with vboxconfig:\n",
    "```bash\n",
    "  sudo /sbin/vboxconfig\n",
    "```\n",
    "\n",
    "Check that we can list VMs (should produce no output so far):\n",
    "```bash\n",
    "    VBoxManage list vms\n",
    "```\n",
    "\n",
    "If no errors were seen then we're ready to use docker-machine with VirtualBox"
   ]
  },
  {
   "cell_type": "markdown",
   "metadata": {},
   "source": [
    "## 2. Using docker-machine\n",
    "\n",
    "To see what version you have installed\n",
    "```\n",
    "docker-machine version\n",
    "```\n",
    "\n",
    "you should see something similar to:"
   ]
  },
  {
   "cell_type": "code",
   "execution_count": 3,
   "metadata": {},
   "outputs": [
    {
     "name": "stdout",
     "output_type": "stream",
     "text": [
      "docker-machine version 0.15.0, build b48dc28d\n"
     ]
    }
   ],
   "source": [
    "docker-machine version"
   ]
  },
  {
   "cell_type": "markdown",
   "metadata": {},
   "source": [
    "### 2.1 Creating a machine:\n",
    "\n",
    "We can now create our first machine.\n",
    "\n",
    "#### On Windows:\n",
    "\n",
    "You will first need to create a new virtual switch.\n",
    "\n",
    "Open the \"*Hyper-V Manager*\" from the Windows task bar.\n",
    "\n",
    "Then in the right-hand Actions pane click on \"*Virtual Switch Manager*\".\n",
    "\n",
    "Create a new \"*virtual network switch*\" of type External and call it \"*ext*\".\n",
    "\n",
    "Now you can create a machine using the command:\n",
    "\n",
    "```\n",
    "docker-machine create -d hyperv --hyperv-virtual-switch ext test\n",
    "```\n",
    "\n",
    "In case of errors, use the --debug option to debug:\n",
    "\n",
    "```\n",
    "docker-machine --debug create -d hyperv --hyperv-virtual-switch ext test\n",
    "```\n",
    "\n",
    "\n",
    "#### On CentOS:\n",
    "\n",
    "Now you can create a machine using the command:\n",
    "\n",
    "```\n",
    "docker-machine create test\n",
    "```\n",
    "\n",
    "In case of errors, use the --debug option to debug:\n",
    "\n",
    "```\n",
    "docker-machine create --debug test\n",
    "```\n",
    "\n",
    "**NOTE**: That machine creation can take several minutes especially for the first time as it is necessary to download the \"*boot2docker.iso*\" which is roughly 48M Bytes.\n",
    "\n",
    "An example output on creating the machine on CentOS is:"
   ]
  },
  {
   "cell_type": "code",
   "execution_count": 5,
   "metadata": {},
   "outputs": [
    {
     "name": "stdout",
     "output_type": "stream",
     "text": [
      "Running pre-create checks...\n",
      "Creating machine...\n",
      "(test) Copying /home/mjb/.docker/machine/cache/boot2docker.iso to /home/mjb/.docker/machine/machines/test/boot2docker.iso...\n",
      "(test) Creating VirtualBox VM...\n",
      "(test) Creating SSH key...\n",
      "(test) Starting the VM...\n",
      "(test) Check network to re-create if needed...\n",
      "(test) Waiting for an IP...\n",
      "Waiting for machine to be running, this may take a few minutes...\n",
      "Detecting operating system of created instance...\n",
      "Waiting for SSH to be available...\n",
      "Detecting the provisioner...\n",
      "Provisioning with boot2docker...\n",
      "Copying certs to the local machine directory...\n",
      "Copying certs to the remote machine...\n",
      "Setting Docker configuration on the remote daemon...\n",
      "\n",
      "This machine has been allocated an IP address, but Docker Machine could not\n",
      "reach it successfully.\n",
      "\n",
      "SSH for the machine should still work, but connecting to exposed ports, such as\n",
      "the Docker daemon port (usually <ip>:2376), may not work properly.\n",
      "\n",
      "You may need to add the route manually, or use another related workaround.\n",
      "\n",
      "This could be due to a VPN, proxy, or host file configuration issue.\n",
      "\n",
      "You also might want to clear any VirtualBox host only interfaces you are not using.\n",
      "Checking connection to Docker...\n",
      "Docker is up and running!\n",
      "To see how to connect your Docker Client to the Docker Engine running on this virtual machine, run: docker-machine env test\n"
     ]
    }
   ],
   "source": [
    "docker-machine create test"
   ]
  },
  {
   "cell_type": "markdown",
   "metadata": {},
   "source": [
    "**NOTE**: If you run the \"*docker-machine ls*\" command whilst the creation is performing you may see errors such as shown below:\n",
    "\n",
    "```bash\n",
    "$ docker-machine ls\n",
    "NAME   ACTIVE   DRIVER       STATE     URL   SWARM   DOCKER    ERRORS\n",
    "test   *        virtualbox   Running                 Unknown   ssh command error:\n",
    "command : ip addr show\n",
    "err     : exit status 255\n",
    "output  :\n",
    "\n",
    "```\n",
    "\n",
    "**You may ignore those errors whilst the creation is incomplete.**\n"
   ]
  },
  {
   "cell_type": "code",
   "execution_count": null,
   "metadata": {},
   "outputs": [],
   "source": [
    "$ docker-machine ls\n",
    "NAME   ACTIVE   DRIVER       STATE     URL   SWARM   DOCKER    ERRORS\n",
    "test   *        virtualbox   Running                 Unknown   ssh command error:\n",
    "command : ip addr show\n",
    "err     : exit status 255\n",
    "output  :"
   ]
  },
  {
   "cell_type": "markdown",
   "metadata": {},
   "source": [
    "**Despite the reported error our machine was created successfully as we can see below:**"
   ]
  },
  {
   "cell_type": "code",
   "execution_count": 6,
   "metadata": {},
   "outputs": [
    {
     "name": "stdout",
     "output_type": "stream",
     "text": [
      "NAME   ACTIVE   DRIVER       STATE     URL                         SWARM   DOCKER        ERRORS\n",
      "test   -        virtualbox   Running   tcp://192.168.99.100:2376           v18.06.1-ce   \n"
     ]
    }
   ],
   "source": [
    "docker-machine ls"
   ]
  },
  {
   "cell_type": "markdown",
   "metadata": {},
   "source": [
    "However we will need to know more before we can connect to the daemon.\n",
    "\n",
    "Try running (replacing the tcp: address with your output from \"*docker-machine ls*\"):"
   ]
  },
  {
   "cell_type": "code",
   "execution_count": 7,
   "metadata": {},
   "outputs": [
    {
     "name": "stdout",
     "output_type": "stream",
     "text": [
      "Get http://192.168.99.100:2376/v1.38/containers/json: net/http: HTTP/1.x transport connection broken: malformed HTTP response \"\\x15\\x03\\x01\\x00\\x02\\x02\".\n",
      "* Are you trying to connect to a TLS-enabled daemon without TLS?\n"
     ]
    },
    {
     "ename": "",
     "evalue": "1",
     "output_type": "error",
     "traceback": []
    }
   ],
   "source": [
    "docker -H tcp://192.168.99.100:2376 ps"
   ]
  },
  {
   "cell_type": "markdown",
   "metadata": {},
   "source": [
    "and you see that we need certificates to access the daemon.\n",
    "\n",
    "### 2.3 Connecting to the docker daemon\n",
    "\n",
    "docker-machine provides 2 ways to connect to the daemon.\n",
    "\n",
    "We can provide the parameters to the docker client either through:\n",
    "- command-line parameters\n",
    "- shell environment variables\n",
    "\n",
    "#### Connecting to the docker daemon - Using command-line parameters\n",
    "\n",
    "We can use the *config* command to get the parameters we need to pass to the docker client:"
   ]
  },
  {
   "cell_type": "code",
   "execution_count": 8,
   "metadata": {},
   "outputs": [
    {
     "name": "stdout",
     "output_type": "stream",
     "text": [
      "--tlsverify\n",
      "--tlscacert=\"/home/mjb/.docker/machine/machines/test/ca.pem\"\n",
      "--tlscert=\"/home/mjb/.docker/machine/machines/test/cert.pem\"\n",
      "--tlskey=\"/home/mjb/.docker/machine/machines/test/key.pem\"\n",
      "-H=tcp://192.168.99.100:2376\n"
     ]
    }
   ],
   "source": [
    "docker-machine config test"
   ]
  },
  {
   "cell_type": "markdown",
   "metadata": {},
   "source": [
    "So we can pass these parameters to the docker client at each invocation as follows:"
   ]
  },
  {
   "cell_type": "code",
   "execution_count": 9,
   "metadata": {},
   "outputs": [
    {
     "name": "stdout",
     "output_type": "stream",
     "text": [
      "Client:\n",
      " Version:           18.06.1-ce\n",
      " API version:       1.38\n",
      " Go version:        go1.10.3\n",
      " Git commit:        e68fc7a\n",
      " Built:             Tue Aug 21 17:23:03 2018\n",
      " OS/Arch:           linux/amd64\n",
      " Experimental:      false\n",
      "\n",
      "Server:\n",
      " Engine:\n",
      "  Version:          18.06.1-ce\n",
      "  API version:      1.38 (minimum version 1.12)\n",
      "  Go version:       go1.10.3\n",
      "  Git commit:       e68fc7a\n",
      "  Built:            Tue Aug 21 17:28:38 2018\n",
      "  OS/Arch:          linux/amd64\n",
      "  Experimental:     false\n"
     ]
    }
   ],
   "source": [
    "docker $(docker-machine config test) version"
   ]
  },
  {
   "cell_type": "markdown",
   "metadata": {},
   "source": [
    "It may not be obvious that we are accessing a \"*remote*\" docker daemon.\n",
    "\n",
    "Try ```docker $(docker-machine config test) info```\n",
    "instead and in the output you should see the lines\n",
    "```\n",
    "Kernel Version: 4.9.93-boot2docker\n",
    "Operating System: Boot2Docker 18.06.1-ce (TCL 8.2.1); HEAD : c7e5c3e - Wed Aug 22 16:27:42 UTC 2018\n",
    "```"
   ]
  },
  {
   "cell_type": "code",
   "execution_count": 10,
   "metadata": {},
   "outputs": [
    {
     "name": "stdout",
     "output_type": "stream",
     "text": [
      "Containers: 0\n",
      " Running: 0\n",
      " Paused: 0\n",
      " Stopped: 0\n",
      "Images: 0\n",
      "Server Version: 18.06.1-ce\n",
      "Storage Driver: aufs\n",
      " Root Dir: /mnt/sda1/var/lib/docker/aufs\n",
      " Backing Filesystem: extfs\n",
      " Dirs: 0\n",
      " Dirperm1 Supported: true\n",
      "Logging Driver: json-file\n",
      "Cgroup Driver: cgroupfs\n",
      "Plugins:\n",
      " Volume: local\n",
      " Network: bridge host macvlan null overlay\n",
      " Log: awslogs fluentd gcplogs gelf journald json-file logentries splunk syslog\n",
      "Swarm: inactive\n",
      "Runtimes: runc\n",
      "Default Runtime: runc\n",
      "Init Binary: docker-init\n",
      "containerd version: 468a545b9edcd5932818eb9de8e72413e616e86e\n",
      "runc version: 69663f0bd4b60df09991c08812a60108003fa340\n",
      "init version: fec3683\n",
      "Security Options:\n",
      " seccomp\n",
      "  Profile: default\n",
      "Kernel Version: 4.9.93-boot2docker\n",
      "Operating System: Boot2Docker 18.06.1-ce (TCL 8.2.1); HEAD : c7e5c3e - Wed Aug 22 16:27:42 UTC 2018\n",
      "OSType: linux\n",
      "Architecture: x86_64\n",
      "CPUs: 1\n",
      "Total Memory: 995.6MiB\n",
      "Name: test\n",
      "ID: YQLX:TMSI:IRCB:FZHY:4BX7:B272:D7ON:AU4Q:FQJS:AZX4:FH3J:MXLD\n",
      "Docker Root Dir: /mnt/sda1/var/lib/docker\n",
      "Debug Mode (client): false\n",
      "Debug Mode (server): false\n",
      "Registry: https://index.docker.io/v1/\n",
      "Labels:\n",
      " provider=virtualbox\n",
      "Experimental: false\n",
      "Insecure Registries:\n",
      " 127.0.0.0/8\n",
      "Live Restore Enabled: false\n",
      "\n"
     ]
    }
   ],
   "source": [
    "docker $(docker-machine config test) info"
   ]
  },
  {
   "cell_type": "markdown",
   "metadata": {},
   "source": [
    "different from your Windows or CentOS host.\n",
    "\n",
    "This is very handy, by providing different parameters to the docker client we can switch between different environments.\n",
    "\n",
    "#### Connecting to the docker daemon - Using environment variables\n",
    "\n",
    "The other way to connect is by using the \"*env*\" sub-command:"
   ]
  },
  {
   "cell_type": "code",
   "execution_count": 11,
   "metadata": {},
   "outputs": [
    {
     "name": "stdout",
     "output_type": "stream",
     "text": [
      "export DOCKER_TLS_VERIFY=\"1\"\n",
      "export DOCKER_HOST=\"tcp://192.168.99.100:2376\"\n",
      "export DOCKER_CERT_PATH=\"/home/mjb/.docker/machine/machines/test\"\n",
      "export DOCKER_MACHINE_NAME=\"test\"\n",
      "# Run this command to configure your shell: \n",
      "# eval $(docker-machine env test)\n"
     ]
    }
   ],
   "source": [
    "docker-machine env test"
   ]
  },
  {
   "cell_type": "markdown",
   "metadata": {},
   "source": [
    "So run this command to configure your shell and the following commands will use those variables whic have been set/exported:"
   ]
  },
  {
   "cell_type": "code",
   "execution_count": 12,
   "metadata": {},
   "outputs": [
    {
     "name": "stdout",
     "output_type": "stream",
     "text": [
      "\u001b[01;31m\u001b[KDOCKER\u001b[m\u001b[K_HOST=tcp://192.168.99.100:2376\n",
      "\u001b[01;31m\u001b[KDOCKER\u001b[m\u001b[K_MACHINE_NAME=test\n",
      "\u001b[01;31m\u001b[KDOCKER\u001b[m\u001b[K_TLS_VERIFY=1\n",
      "\u001b[01;31m\u001b[KDOCKER\u001b[m\u001b[K_CERT_PATH=/home/mjb/.docker/machine/machines/test\n"
     ]
    }
   ],
   "source": [
    "eval $(docker-machine env test)\n",
    "\n",
    "env | grep DOCKER"
   ]
  },
  {
   "cell_type": "markdown",
   "metadata": {},
   "source": [
    "Now any docker command from *this shell* will access our docker-machine host until we unset those variables.\n",
    "\n",
    "Check this by running\n",
    "```\n",
    "docker info\n",
    "```\n",
    "\n",
    "to check that you see the same lines as before:\n",
    "```\n",
    "Kernel Version: 4.9.93-boot2docker\n",
    "Operating System: Boot2Docker 18.06.1-ce (TCL 8.2.1); HEAD : c7e5c3e - Wed Aug 22 16:27:42 UTC 2018"
   ]
  },
  {
   "cell_type": "markdown",
   "metadata": {},
   "source": [
    "## 2.4 docker-machine commands\n",
    "\n",
    "Now let's investigate more of the commands docker-machine provides us with.\n",
    "\n",
    "Enter the command ```docker-machine help```"
   ]
  },
  {
   "cell_type": "code",
   "execution_count": 13,
   "metadata": {},
   "outputs": [
    {
     "name": "stdout",
     "output_type": "stream",
     "text": [
      "Usage: docker-machine [OPTIONS] COMMAND [arg...]\n",
      "\n",
      "Create and manage machines running Docker.\n",
      "\n",
      "Version: 0.15.0, build b48dc28d\n",
      "\n",
      "Author:\n",
      "  Docker Machine Contributors - <https://github.com/docker/machine>\n",
      "\n",
      "Options:\n",
      "  --debug, -D\t\t\t\t\t\tEnable debug mode\n",
      "  --storage-path, -s \"/home/mjb/.docker/machine\"\tConfigures storage path [$MACHINE_STORAGE_PATH]\n",
      "  --tls-ca-cert \t\t\t\t\tCA to verify remotes against [$MACHINE_TLS_CA_CERT]\n",
      "  --tls-ca-key \t\t\t\t\t\tPrivate key to generate certificates [$MACHINE_TLS_CA_KEY]\n",
      "  --tls-client-cert \t\t\t\t\tClient cert to use for TLS [$MACHINE_TLS_CLIENT_CERT]\n",
      "  --tls-client-key \t\t\t\t\tPrivate key used in client TLS auth [$MACHINE_TLS_CLIENT_KEY]\n",
      "  --github-api-token \t\t\t\t\tToken to use for requests to the Github API [$MACHINE_GITHUB_API_TOKEN]\n",
      "  --native-ssh\t\t\t\t\t\tUse the native (Go-based) SSH implementation. [$MACHINE_NATIVE_SSH]\n",
      "  --bugsnag-api-token \t\t\t\t\tBugSnag API token for crash reporting [$MACHINE_BUGSNAG_API_TOKEN]\n",
      "  --help, -h\t\t\t\t\t\tshow help\n",
      "  --version, -v\t\t\t\t\t\tprint the version\n",
      "  \n",
      "Commands:\n",
      "  active\t\tPrint which machine is active\n",
      "  config\t\tPrint the connection config for machine\n",
      "  create\t\tCreate a machine\n",
      "  env\t\t\tDisplay the commands to set up the environment for the Docker client\n",
      "  inspect\t\tInspect information about a machine\n",
      "  ip\t\t\tGet the IP address of a machine\n",
      "  kill\t\t\tKill a machine\n",
      "  ls\t\t\tList machines\n",
      "  provision\t\tRe-provision existing machines\n",
      "  regenerate-certs\tRegenerate TLS Certificates for a machine\n",
      "  restart\t\tRestart a machine\n",
      "  rm\t\t\tRemove a machine\n",
      "  ssh\t\t\tLog into or run a command on a machine with SSH.\n",
      "  scp\t\t\tCopy files between machines\n",
      "  mount\t\t\tMount or unmount a directory from a machine with SSHFS.\n",
      "  start\t\t\tStart a machine\n",
      "  status\t\tGet the status of a machine\n",
      "  stop\t\t\tStop a machine\n",
      "  upgrade\t\tUpgrade a machine to the latest version of Docker\n",
      "  url\t\t\tGet the URL of a machine\n",
      "  version\t\tShow the Docker Machine version or a machine docker version\n",
      "  help\t\t\tShows a list of commands or help for one command\n",
      "  \n",
      "Run 'docker-machine COMMAND --help' for more information on a command.\n"
     ]
    }
   ],
   "source": [
    "docker-machine help"
   ]
  },
  {
   "cell_type": "markdown",
   "metadata": {},
   "source": [
    "#### Experiment\n",
    "\n",
    "Experiment with the following commands subset, try also adding the ```--debug``` flag for more information.\n",
    "\n",
    "```\n",
    "  active                Print which machine is active\n",
    "  config                Print the connection config for machine\n",
    "  create                Create a machine\n",
    "  env                   Display the commands to set up the environment for the Docker client\n",
    "  inspect               Inspect information about a machine\n",
    "  ip                    Get the IP address of a machine\n",
    "  ls                    List machines\n",
    "  ssh                   Log into or run a command on a machine with SSH.\n",
    "  scp                   Copy files between machines\n",
    "  status                Get the status of a machine\n",
    "  url                   Get the URL of a machine\n",
    "  version               Show the Docker Machine version or a machine docker version\n",
    "  help                  Shows a list of commands or help for one command\n",
    "  ```\n",
    "  \n",
    "  e.g. try\n",
    "  ``` docker-machine ssh test uptime```\n",
    "  \n",
    "  and\n",
    "  ``` docker-machine --debug ssh test uptime```\n",
    "\n",
    "Log into the machine with ```docker-machine ssh test``` and play with docker commands from there.\n",
    "\n",
    "e.g."
   ]
  },
  {
   "cell_type": "code",
   "execution_count": 14,
   "metadata": {},
   "outputs": [
    {
     "name": "stdout",
     "output_type": "stream",
     "text": [
      "\n",
      "Hello from Docker!\n",
      "This message shows that your installation appears to be working correctly.\n",
      "\n",
      "To generate this message, Docker took the following steps:\n",
      " 1. The Docker client contacted the Docker daemon.\n",
      " 2. The Docker daemon pulled the \"hello-world\" image from the Docker Hub.\n",
      "    (amd64)\n",
      " 3. The Docker daemon created a new container from that image which runs the\n",
      "    executable that produces the output you are currently reading.\n",
      " 4. The Docker daemon streamed that output to the Docker client, which sent it\n",
      "    to your terminal.\n",
      "\n",
      "To try something more ambitious, you can run an Ubuntu container with:\n",
      " $ docker run -it ubuntu bash\n",
      "\n",
      "Share images, automate workflows, and more with a free Docker ID:\n",
      " https://hub.docker.com/\n",
      "\n",
      "For more examples and ideas, visit:\n",
      " https://docs.docker.com/get-started/\n",
      "\n"
     ]
    }
   ],
   "source": [
    "docker-machine ssh test -- docker run hello-world"
   ]
  },
  {
   "cell_type": "markdown",
   "metadata": {},
   "source": [
    "which is equivalent to:"
   ]
  },
  {
   "cell_type": "code",
   "execution_count": 15,
   "metadata": {},
   "outputs": [
    {
     "name": "stdout",
     "output_type": "stream",
     "text": [
      "\n",
      "Hello from Docker!\n",
      "This message shows that your installation appears to be working correctly.\n",
      "\n",
      "To generate this message, Docker took the following steps:\n",
      " 1. The Docker client contacted the Docker daemon.\n",
      " 2. The Docker daemon pulled the \"hello-world\" image from the Docker Hub.\n",
      "    (amd64)\n",
      " 3. The Docker daemon created a new container from that image which runs the\n",
      "    executable that produces the output you are currently reading.\n",
      " 4. The Docker daemon streamed that output to the Docker client, which sent it\n",
      "    to your terminal.\n",
      "\n",
      "To try something more ambitious, you can run an Ubuntu container with:\n",
      " $ docker run -it ubuntu bash\n",
      "\n",
      "Share images, automate workflows, and more with a free Docker ID:\n",
      " https://hub.docker.com/\n",
      "\n",
      "For more examples and ideas, visit:\n",
      " https://docs.docker.com/get-started/\n",
      "\n"
     ]
    }
   ],
   "source": [
    "docker $(docker-machine config test) run hello-world"
   ]
  },
  {
   "cell_type": "markdown",
   "metadata": {},
   "source": [
    "### 2.5 Managing multiple machines\n",
    "\n",
    "Now let's try creating more machines.\n",
    "\n",
    "#### Create test2, test3, ...\n",
    "\n",
    "Now use the appropriate command for your Operating System to create some more machines.\n",
    "\n",
    "e.g. create test2 using the --debug option:"
   ]
  },
  {
   "cell_type": "markdown",
   "metadata": {},
   "source": [
    "Then use ```docker-machine ls``` to see those machines"
   ]
  },
  {
   "cell_type": "code",
   "execution_count": 17,
   "metadata": {},
   "outputs": [
    {
     "name": "stdout",
     "output_type": "stream",
     "text": [
      "NAME    ACTIVE   DRIVER       STATE     URL                         SWARM   DOCKER        ERRORS\n",
      "test    *        virtualbox   Running   tcp://192.168.99.100:2376           v18.06.1-ce   \n",
      "test2   -        virtualbox   Running   tcp://192.168.99.101:2376           v18.06.1-ce   \n",
      "test3   -        virtualbox   Running   tcp://192.168.99.102:2376           v18.06.1-ce   \n"
     ]
    }
   ],
   "source": [
    "docker-machine ls"
   ]
  },
  {
   "cell_type": "markdown",
   "metadata": {},
   "source": [
    "Now experiment.\n",
    "\n",
    "Note that *test* is the active machine (because environment variables are set for this machine.\n",
    "\n",
    "Run a container on the \"*test*\" machine and then verify that the container is running on test and not on test2 or test3."
   ]
  },
  {
   "cell_type": "markdown",
   "metadata": {},
   "source": [
    "## 2.6 Create machines in the Cloud\n",
    "\n",
    "Your instructor will provide you with credentials to connect to an account on the DigitalOcean cloud.\n",
    "\n",
    "Use these to create machines there as shown below.\n",
    "\n",
    "You will be using the same account so use unique names for your machines, e.g."
   ]
  },
  {
   "cell_type": "code",
   "execution_count": 18,
   "metadata": {},
   "outputs": [
    {
     "name": "stdout",
     "output_type": "stream",
     "text": [
      "Running pre-create checks...\n",
      "Creating machine...\n",
      "(mike1) Creating SSH key...\n",
      "(mike1) Creating Digital Ocean droplet...\n",
      "(mike1) Waiting for IP address to be assigned to the Droplet...\n",
      "Waiting for machine to be running, this may take a few minutes...\n",
      "Detecting operating system of created instance...\n",
      "Waiting for SSH to be available...\n",
      "Detecting the provisioner...\n",
      "Provisioning with ubuntu(systemd)...\n",
      "Installing Docker...\n",
      "Copying certs to the local machine directory...\n",
      "Copying certs to the remote machine...\n",
      "Setting Docker configuration on the remote daemon...\n",
      "Checking connection to Docker...\n",
      "Docker is up and running!\n",
      "To see how to connect your Docker Client to the Docker Engine running on this virtual machine, run: docker-machine env mike1\n"
     ]
    }
   ],
   "source": [
    "\n",
    ". ~/.digitaloceanrc\n",
    "\n",
    "docker-machine create -d digitalocean mike1"
   ]
  },
  {
   "cell_type": "code",
   "execution_count": 19,
   "metadata": {},
   "outputs": [
    {
     "name": "stdout",
     "output_type": "stream",
     "text": [
      "NAME    ACTIVE   DRIVER         STATE     URL                         SWARM   DOCKER        ERRORS\n",
      "mike1   -        digitalocean   Running   tcp://159.203.68.249:2376           v18.06.1-ce   \n",
      "test    *        virtualbox     Running   tcp://192.168.99.100:2376           v18.06.1-ce   \n",
      "test2   -        virtualbox     Running   tcp://192.168.99.101:2376           v18.06.1-ce   \n",
      "test3   -        virtualbox     Running   tcp://192.168.99.102:2376           v18.06.1-ce   \n"
     ]
    }
   ],
   "source": [
    "docker-machine ls"
   ]
  },
  {
   "cell_type": "markdown",
   "metadata": {},
   "source": [
    "So now we have several machines available to us, 3 locally and 1 in the cloud ..."
   ]
  },
  {
   "cell_type": "markdown",
   "metadata": {},
   "source": [
    "## 2.7 Destroy all the machines\n",
    "\n",
    "Finally let's clean up for now by destroying the machines we created.\n",
    "\n",
    "Use the docker-machine rm command for this.\n",
    "\n",
    "Lazy or super efficient ops people can do that with the following command:\n",
    "```\n",
    "docker-machine rm -f $(docker-machine ls -q)\n",
    "```\n",
    "\n",
    "**NOTE**: Try first ```bash docker-machine ls -q``` to see that it gives the list of just the machine names"
   ]
  },
  {
   "cell_type": "code",
   "execution_count": 20,
   "metadata": {},
   "outputs": [
    {
     "name": "stdout",
     "output_type": "stream",
     "text": [
      "About to remove mike1, test, test2, test3\n",
      "WARNING: This action will delete both local reference and remote instance.\n",
      "Successfully removed mike1\n",
      "Successfully removed test\n",
      "Successfully removed test2\n",
      "Successfully removed test3\n"
     ]
    }
   ],
   "source": [
    "docker-machine rm -f $(docker-machine ls -q)"
   ]
  },
  {
   "cell_type": "code",
   "execution_count": 21,
   "metadata": {},
   "outputs": [
    {
     "name": "stdout",
     "output_type": "stream",
     "text": [
      "NAME   ACTIVE   DRIVER   STATE   URL   SWARM   DOCKER   ERRORS\n"
     ]
    }
   ],
   "source": [
    "docker-machine ls"
   ]
  },
  {
   "cell_type": "code",
   "execution_count": null,
   "metadata": {},
   "outputs": [],
   "source": []
  }
 ],
 "metadata": {
  "kernelspec": {
   "display_name": "Bash",
   "language": "bash",
   "name": "bash"
  },
  "language_info": {
   "codemirror_mode": "shell",
   "file_extension": ".sh",
   "mimetype": "text/x-sh",
   "name": "bash"
  }
 },
 "nbformat": 4,
 "nbformat_minor": 2
}
