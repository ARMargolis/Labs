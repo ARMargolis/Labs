{
 "cells": [
  {
   "cell_type": "markdown",
   "metadata": {},
   "source": [
    "# Docker \"Swarm Mode\" Lab\n",
    "\n",
    "Based on Mario's gist here: https://gist.github.com/l0rd/5186cc80f8f26dc7e9490abca4405830"
   ]
  },
  {
   "cell_type": "markdown",
   "metadata": {},
   "source": [
    "# Requirements\n",
    "- Docker 1.12\n",
    "- Docker machine\n",
    "- Virtualbox\n",
    "\n",
    "# Create 3 nodes for your swarm cluster (one master and 2 slaves)\n",
    "\n",
    "We will create 3 nodes using docker-machine/virtualbox.\n",
    "\n",
    "![](images/SwarmNodes_3nodes.png)\n",
    "\n",
    "We will then join them to form a Swarm cluster:\n",
    "![](images/SwarmNodes_3nodes_1m_2w.png)\n",
    "\n",
    "\n",
    "\n",
    "\n",
    "#### NOTE:\n",
    "You may see errors as below, and an error reported by \"docker-machine ls\", leave some time for the swmaster1 to settle.\n",
    "\n",
    "In the meantime you can go ahead and create the 2 swnode's below."
   ]
  },
  {
   "cell_type": "code",
   "execution_count": 2,
   "metadata": {},
   "outputs": [
    {
     "data": {
      "text/plain": [
       "Notebook started at Wed Oct 25 07:26:59 CEST 2017   [1508909219]"
      ]
     },
     "execution_count": 2,
     "metadata": {},
     "output_type": "execute_result"
    }
   ],
   "source": [
    "MACHINE_DRIVER=virtualbox\n",
    "\n",
    "CLEANUP_VMS=1\n",
    "CLEANUP_VMS=0\n",
    "CLEANUP_VMS=1\n",
    "\n",
    ". ../NB_bash_functions.rc"
   ]
  },
  {
   "cell_type": "code",
   "execution_count": 3,
   "metadata": {},
   "outputs": [
    {
     "data": {
      "text/plain": [
       "Setting up alias/DOCKER_HOST for 17.09.0-ce [/home/mjb/DOCKER/docker-17.09.0-ce]"
      ]
     },
     "execution_count": 3,
     "metadata": {},
     "output_type": "execute_result"
    }
   ],
   "source": [
    "# Specific to my environment\n",
    "\n",
    "[ -f ~/.docker.rc ] && . ~/.docker.rc\n",
    "\n",
    "NB_continue"
   ]
  },
  {
   "cell_type": "code",
   "execution_count": 4,
   "metadata": {},
   "outputs": [
    {
     "data": {},
     "execution_count": 4,
     "metadata": {},
     "output_type": "execute_result"
    }
   ],
   "source": [
    "MACHINE_DRIVER=virtualbox\n",
    "\n",
    "#MACHINE_DRIVER=digitalocean\n",
    "#MACHINE_DRIVER=azure\n",
    "#MACHINE_DRIVER=google"
   ]
  },
  {
   "cell_type": "markdown",
   "metadata": {},
   "source": [
    "Let's cleanup any remaining machines, if they exist already .."
   ]
  },
  {
   "cell_type": "code",
   "execution_count": 5,
   "metadata": {},
   "outputs": [
    {
     "data": {
      "text/plain": [
       "NAME   ACTIVE   DRIVER   STATE   URL   SWARM   DOCKER   ERRORS"
      ]
     },
     "execution_count": 5,
     "metadata": {},
     "output_type": "execute_result"
    }
   ],
   "source": [
    "VBoxManage list runningvms | grep sw\n",
    "\n",
    "echo\n",
    "docker-machine ls"
   ]
  },
  {
   "cell_type": "code",
   "execution_count": 6,
   "metadata": {},
   "outputs": [
    {
     "data": {},
     "execution_count": 6,
     "metadata": {},
     "output_type": "execute_result"
    }
   ],
   "source": [
    "docker-machine ls --filter name=sw --format \"{{.Name}}: {{.DriverName}}\""
   ]
  },
  {
   "cell_type": "code",
   "execution_count": 7,
   "metadata": {},
   "outputs": [
    {
     "data": {},
     "execution_count": 7,
     "metadata": {},
     "output_type": "execute_result"
    }
   ],
   "source": [
    "[ $CLEANUP_VMS -ne 0 ] && NB_cleanup_swarm_machines\n",
    "\n",
    "NB_continue"
   ]
  },
  {
   "cell_type": "code",
   "execution_count": 8,
   "metadata": {},
   "outputs": [
    {
     "data": {
      "text/plain": [
       "NAME   ACTIVE   DRIVER   STATE   URL   SWARM   DOCKER   ERRORS"
      ]
     },
     "execution_count": 8,
     "metadata": {},
     "output_type": "execute_result"
    }
   ],
   "source": [
    "[ $CLEANUP_VMS -ne 0 ] &&  {\n",
    "    VBoxManage list runningvms | grep sw\n",
    "\n",
    "    echo\n",
    "    docker-machine ls\n",
    "}\n",
    "\n",
    "NB_continue"
   ]
  },
  {
   "cell_type": "markdown",
   "metadata": {},
   "source": [
    "Now let's create our new nodes\n",
    "\n",
    "**NOTE:** You may see some worrying messages from \"*docker-machine ls*\" but wait a minute or two until the node creation is complete"
   ]
  },
  {
   "cell_type": "code",
   "execution_count": 9,
   "metadata": {},
   "outputs": [
    {
     "data": {
      "text/plain": [
       "Running command <docker-machine create -d virtualbox swmaster1> ...\r\n",
       "Running pre-create checks...\r\n",
       "Creating machine...\r\n",
       "(swmaster1) Copying /home/mjb/.docker/machine/cache/boot2docker.iso to /home/mjb/.docker/machine/machines/swmaster1/boot2docker.iso...\r\n",
       "(swmaster1) Creating VirtualBox VM...\r\n",
       "(swmaster1) Creating SSH key...\r\n",
       "(swmaster1) Starting the VM...\r\n",
       "(swmaster1) Check network to re-create if needed...\r\n",
       "(swmaster1) Waiting for an IP...\r\n",
       "Waiting for machine to be running, this may take a few minutes...\r\n",
       "Detecting operating system of created instance...\r\n",
       "Waiting for SSH to be available...\r\n",
       "Detecting the provisioner...\r\n",
       "Provisioning with boot2docker...\r\n",
       "Copying certs to the local machine directory...\r\n",
       "Copying certs to the remote machine...\r\n",
       "Setting Docker configuration on the remote daemon...\r\n",
       "\r\n",
       "This machine has been allocated an IP address, but Docker Machine could not\r\n",
       "reach it successfully.\r\n",
       "\r\n",
       "SSH for the machine should still work, but connecting to exposed ports, such as\r\n",
       "the Docker daemon port (usually <ip>:2376), may not work properly.\r\n",
       "\r\n",
       "You may need to add the route manually, or use another related workaround.\r\n",
       "\r\n",
       "This could be due to a VPN, proxy, or host file configuration issue.\r\n",
       "\r\n",
       "You also might want to clear any VirtualBox host only interfaces you are not using.\r\n",
       "Checking connection to Docker...\r\n",
       "Docker is up and running!\r\n",
       "To see how to connect your Docker Client to the Docker Engine running on this virtual machine, run: docker-machine env swmaster1\r\n",
       "Took 74 secs [0h01m14]"
      ]
     },
     "execution_count": 9,
     "metadata": {},
     "output_type": "execute_result"
    }
   ],
   "source": [
    "NB_create_swarm_machine_m1"
   ]
  },
  {
   "cell_type": "markdown",
   "metadata": {},
   "source": [
    "#### NOTE: Temporary errors from \"*docker-machine ls*\"\n",
    "\n",
    "From the command-line you can see the progress of machine creation, using\n",
    "    ```$ docker-machine ls```\n",
    "    \n",
    "You may see errors during creation of machines before ssh connectivity is established and before docker host is started.\n",
    "\n",
    "![](images/docker-machine-errors.png)\n",
    "\n",
    "After creation of a node you should see something like the following from \"*docker-machine ls*\""
   ]
  },
  {
   "cell_type": "code",
   "execution_count": 10,
   "metadata": {},
   "outputs": [
    {
     "data": {
      "text/plain": [
       "NAME        ACTIVE   DRIVER       STATE     URL                         SWARM   DOCKER        ERRORS\r\n",
       "swmaster1   -        virtualbox   Running   tcp://192.168.99.100:2376           v17.10.0-ce"
      ]
     },
     "execution_count": 10,
     "metadata": {},
     "output_type": "execute_result"
    }
   ],
   "source": [
    "docker-machine ls"
   ]
  },
  {
   "cell_type": "markdown",
   "metadata": {},
   "source": [
    "We can also see the VM from virtualbox point of view (if this is the driver we are using):"
   ]
  },
  {
   "cell_type": "code",
   "execution_count": 11,
   "metadata": {},
   "outputs": [
    {
     "data": {
      "text/plain": [
       "\"\u001b[01;31m\u001b[Ksw\u001b[m\u001b[Kmaster1\" {881c5a3b-2fd8-4a2d-9a17-92b5746a12a7}"
      ]
     },
     "execution_count": 11,
     "metadata": {},
     "output_type": "execute_result"
    }
   ],
   "source": [
    "VBoxManage list runningvms | grep sw"
   ]
  },
  {
   "cell_type": "code",
   "execution_count": 12,
   "metadata": {},
   "outputs": [
    {
     "data": {
      "text/plain": [
       "Running command <docker-machine create -d virtualbox swnode1> ...\r\n",
       "Running pre-create checks...\r\n",
       "Creating machine...\r\n",
       "(swnode1) Copying /home/mjb/.docker/machine/cache/boot2docker.iso to /home/mjb/.docker/machine/machines/swnode1/boot2docker.iso...\r\n",
       "(swnode1) Creating VirtualBox VM...\r\n",
       "(swnode1) Creating SSH key...\r\n",
       "(swnode1) Starting the VM...\r\n",
       "(swnode1) Check network to re-create if needed...\r\n",
       "(swnode1) Waiting for an IP...\r\n",
       "Waiting for machine to be running, this may take a few minutes...\r\n",
       "Detecting operating system of created instance...\r\n",
       "Waiting for SSH to be available...\r\n",
       "Detecting the provisioner...\r\n",
       "Provisioning with boot2docker...\r\n",
       "Copying certs to the local machine directory...\r\n",
       "Copying certs to the remote machine...\r\n",
       "Setting Docker configuration on the remote daemon...\r\n",
       "Checking connection to Docker...\r\n",
       "Docker is up and running!\r\n",
       "To see how to connect your Docker Client to the Docker Engine running on this virtual machine, run: docker-machine env swnode1\r\n",
       "Took 62 secs [0h01m02]"
      ]
     },
     "execution_count": 12,
     "metadata": {},
     "output_type": "execute_result"
    }
   ],
   "source": [
    "NB_create_swarm_machine_1"
   ]
  },
  {
   "cell_type": "code",
   "execution_count": 13,
   "metadata": {},
   "outputs": [
    {
     "data": {
      "text/plain": [
       "\"\u001b[01;31m\u001b[Ksw\u001b[m\u001b[Kmaster1\" {881c5a3b-2fd8-4a2d-9a17-92b5746a12a7}\r\n",
       "\"\u001b[01;31m\u001b[Ksw\u001b[m\u001b[Knode1\" {e7f89252-a01d-4388-96a2-f058d3f53b73}\r\n",
       "\r\n",
       "NAME        ACTIVE   DRIVER       STATE     URL                         SWARM   DOCKER        ERRORS\r\n",
       "swmaster1   -        virtualbox   Running   tcp://192.168.99.100:2376           v17.10.0-ce   \r\n",
       "swnode1     -        virtualbox   Running   tcp://192.168.99.101:2376           v17.10.0-ce"
      ]
     },
     "execution_count": 13,
     "metadata": {},
     "output_type": "execute_result"
    }
   ],
   "source": [
    "VBoxManage list runningvms | grep sw\n",
    "\n",
    "echo\n",
    "docker-machine ls"
   ]
  },
  {
   "cell_type": "code",
   "execution_count": 14,
   "metadata": {},
   "outputs": [
    {
     "data": {
      "text/plain": [
       "Running command <docker-machine create -d virtualbox swnode2> ...\r\n",
       "Running pre-create checks...\r\n",
       "Creating machine...\r\n",
       "(swnode2) Copying /home/mjb/.docker/machine/cache/boot2docker.iso to /home/mjb/.docker/machine/machines/swnode2/boot2docker.iso...\r\n",
       "(swnode2) Creating VirtualBox VM...\r\n",
       "(swnode2) Creating SSH key...\r\n",
       "(swnode2) Starting the VM...\r\n",
       "(swnode2) Check network to re-create if needed...\r\n",
       "(swnode2) Waiting for an IP...\r\n",
       "Waiting for machine to be running, this may take a few minutes...\r\n",
       "Detecting operating system of created instance...\r\n",
       "Waiting for SSH to be available...\r\n",
       "Detecting the provisioner...\r\n",
       "Provisioning with boot2docker...\r\n",
       "Copying certs to the local machine directory...\r\n",
       "Copying certs to the remote machine...\r\n",
       "Setting Docker configuration on the remote daemon...\r\n",
       "Checking connection to Docker...\r\n",
       "Docker is up and running!\r\n",
       "To see how to connect your Docker Client to the Docker Engine running on this virtual machine, run: docker-machine env swnode2\r\n",
       "Took 62 secs [0h01m02]"
      ]
     },
     "execution_count": 14,
     "metadata": {},
     "output_type": "execute_result"
    }
   ],
   "source": [
    "NB_create_swarm_machine_2"
   ]
  },
  {
   "cell_type": "code",
   "execution_count": 15,
   "metadata": {},
   "outputs": [
    {
     "data": {
      "text/plain": [
       "\"\u001b[01;31m\u001b[Ksw\u001b[m\u001b[Kmaster1\" {881c5a3b-2fd8-4a2d-9a17-92b5746a12a7}\r\n",
       "\"\u001b[01;31m\u001b[Ksw\u001b[m\u001b[Knode1\" {e7f89252-a01d-4388-96a2-f058d3f53b73}\r\n",
       "\"\u001b[01;31m\u001b[Ksw\u001b[m\u001b[Knode2\" {78c1be50-ec93-4c76-b662-fded9d9efb00}\r\n",
       "\r\n",
       "NAME        ACTIVE   DRIVER       STATE     URL                         SWARM   DOCKER        ERRORS\r\n",
       "swmaster1   -        virtualbox   Running   tcp://192.168.99.100:2376           v17.10.0-ce   \r\n",
       "swnode1     -        virtualbox   Running   tcp://192.168.99.101:2376           v17.10.0-ce   \r\n",
       "swnode2     -        virtualbox   Running   tcp://192.168.99.102:2376           v17.10.0-ce"
      ]
     },
     "execution_count": 15,
     "metadata": {},
     "output_type": "execute_result"
    }
   ],
   "source": [
    "VBoxManage list runningvms | grep sw\n",
    "\n",
    "echo\n",
    "docker-machine ls"
   ]
  },
  {
   "cell_type": "code",
   "execution_count": 16,
   "metadata": {},
   "outputs": [
    {
     "data": {},
     "execution_count": 16,
     "metadata": {},
     "output_type": "execute_result"
    }
   ],
   "source": [
    "NB_check_3_machines_running"
   ]
  },
  {
   "cell_type": "markdown",
   "metadata": {},
   "source": [
    "### We have now created 3 docker hosts, which are operating independently for the moment:\n",
    "\n",
    "\n",
    "![](images/SwarmNodes_3nodes.png)\n",
    "\n",
    "\n",
    "\n",
    "### Directing the docker client to a particular nodes' docker daemon\n",
    "\n",
    "**NOTE**: See that we precede all docker commands with $(docker-machine config NODE) where node is the name of the node to which we want our docker client to connect to.  This command returns the parameters to direct our client to the appropriate node.  Run alone this produces:"
   ]
  },
  {
   "cell_type": "code",
   "execution_count": 17,
   "metadata": {},
   "outputs": [
    {
     "data": {
      "text/plain": [
       "--tlsverify\r\n",
       "--tlscacert=\"/home/mjb/.docker/machine/machines/swmaster1/ca.pem\"\r\n",
       "--tlscert=\"/home/mjb/.docker/machine/machines/swmaster1/cert.pem\"\r\n",
       "--tlskey=\"/home/mjb/.docker/machine/machines/swmaster1/key.pem\"\r\n",
       "-H=tcp://192.168.99.100:2376"
      ]
     },
     "execution_count": 17,
     "metadata": {},
     "output_type": "execute_result"
    }
   ],
   "source": [
    "docker-machine config swmaster1"
   ]
  },
  {
   "cell_type": "markdown",
   "metadata": {},
   "source": [
    "We can also obtain these values as environment variables"
   ]
  },
  {
   "cell_type": "code",
   "execution_count": 18,
   "metadata": {},
   "outputs": [
    {
     "data": {
      "text/plain": [
       "export DOCKER_TLS_VERIFY=\"1\"\r\n",
       "export DOCKER_HOST=\"tcp://192.168.99.100:2376\"\r\n",
       "export DOCKER_CERT_PATH=\"/home/mjb/.docker/machine/machines/swmaster1\"\r\n",
       "export DOCKER_MACHINE_NAME=\"swmaster1\"\r\n",
       "# Run this command to configure your shell: \r\n",
       "# eval $(docker-machine env swmaster1)"
      ]
     },
     "execution_count": 18,
     "metadata": {},
     "output_type": "execute_result"
    }
   ],
   "source": [
    "docker-machine env swmaster1"
   ]
  },
  {
   "cell_type": "markdown",
   "metadata": {},
   "source": [
    "Including these parameters on the docker command line will connect the client to the docker daemon running on node '*swmaster1*'."
   ]
  },
  {
   "cell_type": "markdown",
   "metadata": {},
   "source": [
    "# Creating the swarm cluster\n",
    "\n",
    "We now want to move our 3 nodes from being independent:\n",
    "![](images/SwarmNodes_3nodes.png)\n",
    "\n",
    "to being 1 Master and 2 Worker Swarm Nodes:\n",
    "![](images/SwarmNodes_3nodes_1m_2w.png)\n",
    "\n",
    "\n",
    "\n",
    "### Networks before creation of swarm cluster\n",
    "Before going further let's look at the networks on your machine.\n",
    "\n",
    "Later, we'll see how a new network is created once the swarm cluster has been created."
   ]
  },
  {
   "cell_type": "code",
   "execution_count": 19,
   "metadata": {},
   "outputs": [
    {
     "data": {
      "text/plain": [
       "NETWORK ID          NAME                DRIVER              SCOPE\r\n",
       "ef5c4f493b33        bridge              bridge              local\r\n",
       "83c8e3bcc515        host                host                local\r\n",
       "726ad7e23324        none                null                local"
      ]
     },
     "execution_count": 19,
     "metadata": {},
     "output_type": "execute_result"
    }
   ],
   "source": [
    "docker $(docker-machine config swmaster1) network ls"
   ]
  },
  {
   "cell_type": "markdown",
   "metadata": {},
   "source": [
    "Note that we already see **3 networks** each of a different **type**:\n",
    "- **host**: this is the network of your host machine (the network on your host swmaster1)\n",
    "- **bridge**: this is a separate network on which containers will have their own ip, separated from the host network\n",
    "- **none/null**:\n",
    "\n",
    "Now let's identify the ip address of our master node.\n",
    "\n",
    "We can see this through config or ip commands of docker-machine as shown below."
   ]
  },
  {
   "cell_type": "code",
   "execution_count": 20,
   "metadata": {},
   "outputs": [
    {
     "data": {
      "text/plain": [
       "192.168.99.100"
      ]
     },
     "execution_count": 20,
     "metadata": {},
     "output_type": "execute_result"
    }
   ],
   "source": [
    "docker-machine ip swmaster1"
   ]
  },
  {
   "cell_type": "markdown",
   "metadata": {},
   "source": [
    "We could then provide the above ip address as parameter to --advertise-addr when initializing the swarm.\n",
    "\n",
    "However, it is quite convenient to run the above commands embedded, as below, as arguments to the swarm init command.\n",
    "\n",
    "docker-machine config swmaster1 provides the parameters to use when connecting to the appropriate docker engine for our machine \"swmaster1\".\n",
    "\n",
    "The following command will run swarm init to generate the cluster with 'swmaster1' as the Master node.\n",
    "You should see output similar to the below:"
   ]
  },
  {
   "cell_type": "code",
   "execution_count": 21,
   "metadata": {},
   "outputs": [
    {
     "data": {
      "text/plain": [
       "\u001b[01;31m\u001b[KSwarm\u001b[m\u001b[K: inactive"
      ]
     },
     "execution_count": 21,
     "metadata": {},
     "output_type": "execute_result"
    }
   ],
   "source": [
    "docker $(docker-machine config swmaster1) info | grep Swarm"
   ]
  },
  {
   "cell_type": "markdown",
   "metadata": {},
   "source": [
    "# swarm init\n",
    "\n",
    "Now that we have 3 nodes available, we will initialize our Swarm Cluster with 1 master node."
   ]
  },
  {
   "cell_type": "code",
   "execution_count": 22,
   "metadata": {},
   "outputs": [
    {
     "data": {
      "text/plain": [
       "alias docker='/home/mjb/DOCKER/docker-17.09.0-ce/docker'\r\n",
       "\t~/DOCKER/docker-17.09.0-ce/docker"
      ]
     },
     "execution_count": 22,
     "metadata": {},
     "output_type": "execute_result"
    }
   ],
   "source": [
    "which docker"
   ]
  },
  {
   "cell_type": "code",
   "execution_count": 23,
   "metadata": {},
   "outputs": [
    {
     "data": {
      "text/plain": [
       "Swarm initialized: current node (2gfwhg91762xhx532ikjyfobi) is now a manager.\r\n",
       "\r\n",
       "To add a worker to this swarm, run the following command:\r\n",
       "\r\n",
       "    docker swarm join --token SWMTKN-1-0swaxpr36avccy1k4tvr0mnttl25vv5mh1c4uzrsgvu3l6xsso-f08vs0pxhq199utnef9lwyyws 192.168.99.100:2377\r\n",
       "\r\n",
       "To add a manager to this swarm, run 'docker swarm join-token manager' and follow the instructions."
      ]
     },
     "execution_count": 23,
     "metadata": {},
     "output_type": "execute_result"
    }
   ],
   "source": [
    "docker $(docker-machine config swmaster1) swarm init --advertise-addr $(docker-machine ip swmaster1)"
   ]
  },
  {
   "cell_type": "markdown",
   "metadata": {},
   "source": [
    "![](images/SwarmNodes_3nodes_1m.png)\n",
    "\n",
    "A docker info should now show \"Swarm: active\" as below:"
   ]
  },
  {
   "cell_type": "code",
   "execution_count": 24,
   "metadata": {},
   "outputs": [
    {
     "data": {
      "text/plain": [
       "\u001b[01;31m\u001b[KSwarm:\u001b[m\u001b[K active"
      ]
     },
     "execution_count": 24,
     "metadata": {},
     "output_type": "execute_result"
    }
   ],
   "source": [
    "docker $(docker-machine config swmaster1) info | grep Swarm:"
   ]
  },
  {
   "cell_type": "code",
   "execution_count": 25,
   "metadata": {},
   "outputs": [
    {
     "data": {
      "text/plain": [
       "Containers: 0\r\n",
       " Running: 0\r\n",
       " Paused: 0\r\n",
       " Stopped: 0\r\n",
       "Images: 0\r\n",
       "Server Version: 17.10.0-ce\r\n",
       "Storage Driver: aufs\r\n",
       " Root Dir: /mnt/sda1/var/lib/docker/aufs\r\n",
       " Backing Filesystem: extfs\r\n",
       " Dirs: 0\r\n",
       " Dirperm1 Supported: true\r\n",
       "Logging Driver: json-file\r\n",
       "Cgroup Driver: cgroupfs\r\n",
       "Plugins:\r\n",
       " Volume: local\r\n",
       " Network: bridge host macvlan null overlay\r\n",
       " Log: awslogs fluentd gcplogs gelf journald json-file logentries splunk syslog\r\n",
       "Swarm: active\r\n",
       " NodeID: 2gfwhg91762xhx532ikjyfobi\r\n",
       " Is Manager: true\r\n",
       " ClusterID: 54w1v9hafus9z0im67mqph98k\r\n",
       " Managers: 1\r\n",
       " Nodes: 1\r\n",
       " Orchestration:\r\n",
       "  Task History Retention Limit: 5\r\n",
       " Raft:\r\n",
       "  Snapshot Interval: 10000\r\n",
       "  Number of Old Snapshots to Retain: 0\r\n",
       "  Heartbeat Tick: 1\r\n",
       "  Election Tick: 3\r\n",
       " Dispatcher:\r\n",
       "  Heartbeat Period: 5 seconds\r\n",
       " CA Configuration:\r\n",
       "  Expiry Duration: 3 months\r\n",
       "  Force Rotate: 0\r\n",
       " Autolock Managers: false\r\n",
       " Root Rotation In Progress: false\r\n",
       " Node Address: 192.168.99.100\r\n",
       " Manager Addresses:\r\n",
       "  192.168.99.100:2377\r\n",
       "Runtimes: runc\r\n",
       "Default Runtime: runc\r\n",
       "Init Binary: docker-init\r\n",
       "containerd version: 06b9cb35161009dcb7123345749fef02f7cea8e0\r\n",
       "runc version: 0351df1c5a66838d0c392b4ac4cf9450de844e2d\r\n",
       "init version: 949e6fa\r\n",
       "Security Options:\r\n",
       " seccomp\r\n",
       "  Profile: default\r\n",
       "Kernel Version: 4.4.93-boot2docker\r\n",
       "Operating System: Boot2Docker 17.10.0-ce (TCL 7.2); HEAD : 34fe485 - Wed Oct 18 17:16:34 UTC 2017\r\n",
       "OSType: linux\r\n",
       "Architecture: x86_64\r\n",
       "CPUs: 1\r\n",
       "Total Memory: 995.8MiB\r\n",
       "Name: swmaster1\r\n",
       "ID: YX2J:QVFO:HQIE:7V45:OMWH:XTBH:HKHV:24Y3:T4YT:OXBI:B5KW:7KRP\r\n",
       "Docker Root Dir: /mnt/sda1/var/lib/docker\r\n",
       "Debug Mode (client): false\r\n",
       "Debug Mode (server): true\r\n",
       " File Descriptors: 34\r\n",
       " Goroutines: 137\r\n",
       " System Time: 2017-10-25T06:10:41.932928273Z\r\n",
       " EventsListeners: 0\r\n",
       "Username: mjbright\r\n",
       "Registry: https://index.docker.io/v1/\r\n",
       "Labels:\r\n",
       " provider=virtualbox\r\n",
       "Experimental: false\r\n",
       "Insecure Registries:\r\n",
       " 127.0.0.0/8\r\n",
       "Live Restore Enabled: false"
      ]
     },
     "execution_count": 25,
     "metadata": {},
     "output_type": "execute_result"
    }
   ],
   "source": [
    "docker $(docker-machine config swmaster1) info"
   ]
  },
  {
   "cell_type": "markdown",
   "metadata": {},
   "source": [
    "If we look at the networks we should now see new networks such as '*ingress*' an overlay network and docker_gwbridge for the swarm cluster."
   ]
  },
  {
   "cell_type": "code",
   "execution_count": 26,
   "metadata": {},
   "outputs": [
    {
     "data": {
      "text/plain": [
       "NETWORK ID          NAME                DRIVER              SCOPE\r\n",
       "ef5c4f493b33        bridge              bridge              local\r\n",
       "730be762c09b        docker_gwbridge     bridge              local\r\n",
       "83c8e3bcc515        host                host                local\r\n",
       "rkp0090958gl        ingress             overlay             swarm\r\n",
       "726ad7e23324        none                null                local"
      ]
     },
     "execution_count": 26,
     "metadata": {},
     "output_type": "execute_result"
    }
   ],
   "source": [
    "docker $(docker-machine config swmaster1) network ls"
   ]
  },
  {
   "cell_type": "markdown",
   "metadata": {},
   "source": [
    "We see that 2 new networks have been created of type bridge and overlay\n",
    "- The **ingress** network is a special overlay network that facilitates **load balancing** among a service’s nodes\n",
    "- The **docker_gwbridge** is a bridge network that connects the overlay networks (including the ingress network) to an individual Docker daemon’s physical network.\n",
    "\n",
    "By default, each container a service is running is connected to its local Docker daemon host’s docker_gwbridge network."
   ]
  },
  {
   "cell_type": "markdown",
   "metadata": {},
   "source": [
    "# swarm join\n",
    "\n",
    "Now we wish to join Master and Worker nodes to our swarm cluster, to do this we need to obtain the token generated during the \"swarm init\".\n",
    "\n",
    "Let's save that token to an environment variable as follows:"
   ]
  },
  {
   "cell_type": "code",
   "execution_count": 27,
   "metadata": {},
   "outputs": [
    {
     "data": {},
     "execution_count": 27,
     "metadata": {},
     "output_type": "execute_result"
    }
   ],
   "source": [
    "worker_token=$(docker $(docker-machine config swmaster1) swarm join-token worker -q)"
   ]
  },
  {
   "cell_type": "code",
   "execution_count": 28,
   "metadata": {},
   "outputs": [
    {
     "data": {
      "text/plain": [
       "SWMTKN-1-0swaxpr36avccy1k4tvr0mnttl25vv5mh1c4uzrsgvu3l6xsso-f08vs0pxhq199utnef9lwyyws"
      ]
     },
     "execution_count": 28,
     "metadata": {},
     "output_type": "execute_result"
    }
   ],
   "source": [
    "echo $worker_token"
   ]
  },
  {
   "cell_type": "markdown",
   "metadata": {},
   "source": [
    "Now we can use this token to join nodes as a worker to this cluster\n",
    "\n",
    "Note: we could also join nodes as Master, but we have only 3 nodes available.\n",
    "\n",
    "Let's join swnode1 as a worker node"
   ]
  },
  {
   "cell_type": "code",
   "execution_count": 29,
   "metadata": {},
   "outputs": [
    {
     "data": {
      "text/plain": [
       "This node joined a swarm as a worker."
      ]
     },
     "execution_count": 29,
     "metadata": {},
     "output_type": "execute_result"
    }
   ],
   "source": [
    "docker $(docker-machine config swnode1) swarm join --token $worker_token $(docker-machine ip swmaster1):2377"
   ]
  },
  {
   "cell_type": "markdown",
   "metadata": {},
   "source": [
    "![](images/SwarmNodes_3nodes_1m_1w.png)\n",
    "\n",
    "Now we can use the same token to join node swnode2 as a worker node\n"
   ]
  },
  {
   "cell_type": "code",
   "execution_count": 30,
   "metadata": {},
   "outputs": [
    {
     "data": {
      "text/plain": [
       "This node joined a swarm as a worker."
      ]
     },
     "execution_count": 30,
     "metadata": {},
     "output_type": "execute_result"
    }
   ],
   "source": [
    "docker $(docker-machine config swnode2) swarm join --token $worker_token $(docker-machine ip swmaster1):2377"
   ]
  },
  {
   "cell_type": "markdown",
   "metadata": {},
   "source": [
    "![](images/SwarmNodes_3nodes_1m_2w.png)\n"
   ]
  },
  {
   "cell_type": "code",
   "execution_count": 31,
   "metadata": {},
   "outputs": [
    {
     "data": {
      "text/plain": [
       "ID                            HOSTNAME            STATUS              AVAILABILITY        MANAGER STATUS\r\n",
       "2gfwhg91762xhx532ikjyfobi *   swmaster1           Ready               Active              Leader\r\n",
       "21m2hzus2bqe7y81hkstiyeo4     swnode1             Ready               Active              \r\n",
       "ps52jax88o8wd1d6v9heoswm4     swnode2             Ready               Active"
      ]
     },
     "execution_count": 31,
     "metadata": {},
     "output_type": "execute_result"
    }
   ],
   "source": [
    "docker $(docker-machine config swmaster1) node ls"
   ]
  },
  {
   "cell_type": "markdown",
   "metadata": {},
   "source": [
    "# start service\n",
    "\n",
    "First we check for any running services - there should be none in our newly initialized cluster:"
   ]
  },
  {
   "cell_type": "code",
   "execution_count": 32,
   "metadata": {},
   "outputs": [
    {
     "data": {
      "text/plain": [
       "ID                  NAME                MODE                REPLICAS            IMAGE               PORTS"
      ]
     },
     "execution_count": 32,
     "metadata": {},
     "output_type": "execute_result"
    }
   ],
   "source": [
    "docker $(docker-machine config swmaster1) service ls"
   ]
  },
  {
   "cell_type": "markdown",
   "metadata": {},
   "source": [
    "Now we will create a new service based on the docker image mjbright/docker-demo\n",
    "\n",
    "We will expose this service on port 8080\n"
   ]
  },
  {
   "cell_type": "code",
   "execution_count": 33,
   "metadata": {},
   "outputs": [
    {
     "data": {
      "text/plain": [
       "mjh3fk6bc1ish5cpxa2wmn1nw\r\n",
       "Since --detach=false was not specified, tasks will be created in the background.\r\n",
       "In a future release, --detach=false will become the default."
      ]
     },
     "execution_count": 33,
     "metadata": {},
     "output_type": "execute_result"
    }
   ],
   "source": [
    "docker $(docker-machine config swmaster1) service create --detach --replicas 1 --name docker-demo -p 8080:8080 mjbright/docker-demo:20"
   ]
  },
  {
   "cell_type": "markdown",
   "metadata": {},
   "source": [
    "Now we list services again and we should see our newly added docker-demo service"
   ]
  },
  {
   "cell_type": "code",
   "execution_count": 34,
   "metadata": {},
   "outputs": [
    {
     "data": {
      "text/plain": [
       "ID                  NAME                MODE                REPLICAS            IMAGE                     PORTS\r\n",
       "mjh3fk6bc1is        docker-demo         replicated          1/1                 mjbright/docker-demo:20   *:8080->8080/tcp"
      ]
     },
     "execution_count": 34,
     "metadata": {},
     "output_type": "execute_result"
    }
   ],
   "source": [
    "docker $(docker-machine config swmaster1) service ls"
   ]
  },
  {
   "cell_type": "code",
   "execution_count": 35,
   "metadata": {},
   "outputs": [
    {
     "data": {
      "text/plain": [
       "ID                  NAME                MODE                REPLICAS            IMAGE                     PORTS\r\n",
       "mjh3fk6bc1is        docker-demo         replicated          1/1                 mjbright/docker-demo:20   *:8080->8080/tcp"
      ]
     },
     "execution_count": 35,
     "metadata": {},
     "output_type": "execute_result"
    }
   ],
   "source": [
    "docker $(docker-machine config swmaster1) service ls"
   ]
  },
  {
   "cell_type": "code",
   "execution_count": 36,
   "metadata": {},
   "outputs": [
    {
     "data": {
      "text/plain": [
       "mjh3fk6bc1is        \u001b[01;31m\u001b[Kdocker-demo\u001b[m\u001b[K         replicated          1/1                 mjbright/\u001b[01;31m\u001b[Kdocker-demo\u001b[m\u001b[K:20   *:8080->8080/tcp"
      ]
     },
     "execution_count": 36,
     "metadata": {},
     "output_type": "execute_result"
    }
   ],
   "source": [
    "NB_docker_loop_until_service_started docker-demo"
   ]
  },
  {
   "cell_type": "markdown",
   "metadata": {},
   "source": [
    "it may take a few seconds until the service has a running container (see REPLICAS column) especially if the container image has not yet been downloaded"
   ]
  },
  {
   "cell_type": "code",
   "execution_count": 37,
   "metadata": {},
   "outputs": [
    {
     "data": {
      "text/plain": [
       "ID                  NAME                MODE                REPLICAS            IMAGE                     PORTS\r\n",
       "mjh3fk6bc1is        docker-demo         replicated          1/1                 mjbright/docker-demo:20   *:8080->8080/tcp"
      ]
     },
     "execution_count": 37,
     "metadata": {},
     "output_type": "execute_result"
    }
   ],
   "source": [
    "docker $(docker-machine config swmaster1) service ls"
   ]
  },
  {
   "cell_type": "markdown",
   "metadata": {},
   "source": [
    "... and we can look at the service as seen by the cluster:"
   ]
  },
  {
   "cell_type": "code",
   "execution_count": 38,
   "metadata": {},
   "outputs": [
    {
     "data": {
      "text/plain": [
       "ID                  NAME                IMAGE                     NODE                DESIRED STATE       CURRENT STATE            ERROR               PORTS\r\n",
       "qzj80y51tinx        docker-demo.1       mjbright/docker-demo:20   swnode1             Running             Running 39 seconds ago"
      ]
     },
     "execution_count": 38,
     "metadata": {},
     "output_type": "execute_result"
    }
   ],
   "source": [
    "docker $(docker-machine config swmaster1) service ps docker-demo"
   ]
  },
  {
   "cell_type": "markdown",
   "metadata": {},
   "source": [
    "... and we can look at the service on the individual cluster nodes.\n",
    "\n",
    "Of course as we set replicas to 1 there is only 1 replica of the service for the moment, running on just 1 node of our cluster:"
   ]
  },
  {
   "cell_type": "code",
   "execution_count": 39,
   "metadata": {},
   "outputs": [
    {
     "data": {
      "text/plain": [
       "CONTAINER ID        IMAGE               COMMAND             CREATED             STATUS              PORTS               NAMES"
      ]
     },
     "execution_count": 39,
     "metadata": {},
     "output_type": "execute_result"
    }
   ],
   "source": [
    "docker $(docker-machine config swmaster1) ps"
   ]
  },
  {
   "cell_type": "code",
   "execution_count": 40,
   "metadata": {},
   "outputs": [
    {
     "data": {
      "text/plain": [
       "CONTAINER ID        IMAGE                     COMMAND                  CREATED              STATUS              PORTS               NAMES\r\n",
       "c29fea36fe77        mjbright/docker-demo:20   \"/bin/docker-demo ...\"   About a minute ago   Up About a minute   8080/tcp            docker-demo.1.qzj80y51tinx8b5glq07rkiuz"
      ]
     },
     "execution_count": 40,
     "metadata": {},
     "output_type": "execute_result"
    }
   ],
   "source": [
    "docker $(docker-machine config swnode1) ps"
   ]
  },
  {
   "cell_type": "code",
   "execution_count": 41,
   "metadata": {},
   "outputs": [
    {
     "data": {
      "text/plain": [
       "CONTAINER ID        IMAGE               COMMAND             CREATED             STATUS              PORTS               NAMES"
      ]
     },
     "execution_count": 41,
     "metadata": {},
     "output_type": "execute_result"
    }
   ],
   "source": [
    "docker $(docker-machine config swnode2) ps"
   ]
  },
  {
   "cell_type": "markdown",
   "metadata": {},
   "source": [
    "# Accessing the service\n",
    "\n",
    "As we are working remotely we need to create an ssh tunnel through to the swarm cluster to access our service, exposing the port 8080 on your local machine.\n",
    "\n",
    "We can obtain the ip address of the swarm master node as follows."
   ]
  },
  {
   "cell_type": "code",
   "execution_count": 48,
   "metadata": {},
   "outputs": [
    {
     "data": {
      "text/plain": [
       "192.168.99.101\r\n",
       "Connect to http://192.168.99.101:8080"
      ]
     },
     "execution_count": 48,
     "metadata": {},
     "output_type": "execute_result"
    }
   ],
   "source": [
    "NODE=swnode1\n",
    "\n",
    "IP=$(docker-machine ip $NODE)\n",
    "\n",
    "echo $IP\n",
    "\n",
    "echo \"Connect to http://${IP}:8080\""
   ]
  },
  {
   "cell_type": "markdown",
   "metadata": {},
   "source": [
    "Let's set an environment variable with that ip address"
   ]
  },
  {
   "cell_type": "code",
   "execution_count": 47,
   "metadata": {},
   "outputs": [
    {
     "data": {},
     "execution_count": 47,
     "metadata": {},
     "output_type": "execute_result"
    }
   ],
   "source": [
    "MASTERIP=$(docker-machine ip swmaster1)"
   ]
  },
  {
   "cell_type": "markdown",
   "metadata": {},
   "source": [
    "Then open your web browser at the above page [http://IP:8080](http://${IP}:8080) (replace <IP> with the appropriate value) and you should see a lovely blue whale, as below:\n",
    "\n",
    "![](images/docker.png)\n"
   ]
  },
  {
   "cell_type": "markdown",
   "metadata": {},
   "source": [
    "Alternatively we can connect using a command-line client (the web server detects if it's a wget or curl request and returns ASCII text instead of an image)."
   ]
  },
  {
   "cell_type": "code",
   "execution_count": 49,
   "metadata": {},
   "outputs": [
    {
     "data": {
      "text/plain": [
       "--2017-10-25 09:40:00--  http://192.168.99.101:8080/\r\n",
       "Connecting to 192.168.99.101:8080... connected.\r\n",
       "HTTP request sent, awaiting response... 200 OK\r\n",
       "Length: unspecified [text/txt]\r\n",
       "Saving to: ‘STDOUT’\r\n",
       "\r\n",
       "\r",
       "-                       [<=>                 ]       0  --.-KB/s               \r\n",
       "\r\n",
       "\u001b[1;36m\r\n",
       "                                                .---------.                                          \r\n",
       "                                               .///++++/:.                                          \r\n",
       "                                               .///+++//:.                                          \r\n",
       "                                               .///+++//:.                                          \r\n",
       "                             ``````````````````.:///////:.                       `                  \r\n",
       "                             .-///////:://+++//::///////-.                      .--.                \r\n",
       "                             .:::///:::///+++///:::///:::.                     .:ss+-`              \r\n",
       "                             .:::///:::///+++///:::///:::.                    `.ossss:.             \r\n",
       "                             .:///////:/+++oo++/:///////:.                    .-ssssss:.            \r\n",
       "                    .-:::::::--///////--:::::::--///////--:::::::-.           `-sssssso.........``  \r\n",
       "                    .::////:::://+++///:::///:::///+++//:/::////::.           `.+ssssss/++ooooo+/:.`\r\n",
       "                    .::////:::://+++///:::///:::///+++//:/::////::.            `.+sssooooooooooo/-` \r\n",
       "                    .::////:::://+++///:::///:::///+++//:/::////::.           ``.:osoooooooo+/:-.`  \r\n",
       "            ````````.-:::::::--///////--:::::::-:///////--:::::::-.``````...-:/+ssoo+:-----..``     \r\n",
       "            .-+++oooooooooooooooooooooooooooooooooooooooooooooooooooooooosssssssoooo-.              \r\n",
       "      `     .-ooossssssssssssssssssssssss+ssssssssssssssssossssssssssssssssssoooooo:.        `      \r\n",
       "    ``...```.-+++++/:--/+oosssssssoo++/:-.-:+oosssssso+/:..-:/+oossssssssoo+:--://-.`   ```...`     \r\n",
       " ````````````.-:::::::::::::::::::::::::::::::::::::::::::::::::::::::::::::::::-..```````````````  \r\n",
       "             .-////++++++++++++++++++++++++++++++++++++++++++++++++++//////////:.`                  \r\n",
       "             `.:////++++++++++++++++oss+++++++++++++++++++++++++++///////////:-.                    \r\n",
       "              `.:////++++++++++++++os.+h+++++++++++++++++++++++/////////////-.`                     \r\n",
       "               `.://///++++++++++//+soos+++++++++++++++++++///////////////-.`                       \r\n",
       "                `.--------:::://+o/+++++++++++++++++++/////////////////:-.`                         \r\n",
       "                  `-sdmmmmmmmNNNNNmo+++++++++++/////////////////////:-.``                           \r\n",
       "                    `-+hmmmmmmmmmmmms///////////////////////////::-.``                              \r\n",
       "                      ``-+ydmmmmmmmmmds////////////////////::--.``                                  \r\n",
       "                         ``.-/oshdmmmmmmho+////////::::--..```                                      \r\n",
       "                              ````..-:::///---.....````                                             \r\n",
       "\r\n",
       "\u001b[0m\r\n",
       "\r\n",
       "\u001b[1;33mServed from host c29fea36fe77\u001b[0;0m\r\n",
       "\r",
       "-                       [ <=>                ]   2.82K  --.-KB/s    in 0s      \r\n",
       "\r\n",
       "2017-10-25 09:40:00 (77.2 MB/s) - written to stdout [2889]"
      ]
     },
     "execution_count": 49,
     "metadata": {},
     "output_type": "execute_result"
    }
   ],
   "source": [
    "wget -O - http://$IP:8080"
   ]
  },
  {
   "cell_type": "markdown",
   "metadata": {},
   "source": [
    "# scale service\n",
    "\n",
    "Now we can scale the service to 3 replicas:"
   ]
  },
  {
   "cell_type": "code",
   "execution_count": 50,
   "metadata": {},
   "outputs": [
    {
     "data": {
      "text/plain": [
       "docker-demo scaled to 3\r\n",
       "Since --detach=false was not specified, tasks will be scaled in the background.\r\n",
       "In a future release, --detach=false will become the default."
      ]
     },
     "execution_count": 50,
     "metadata": {},
     "output_type": "execute_result"
    }
   ],
   "source": [
    "docker $(docker-machine config swmaster1) service scale docker-demo=3"
   ]
  },
  {
   "cell_type": "code",
   "execution_count": 51,
   "metadata": {},
   "outputs": [
    {
     "data": {
      "text/plain": [
       "ID                  NAME                IMAGE                     NODE                DESIRED STATE       CURRENT STATE             ERROR               PORTS\r\n",
       "qzj80y51tinx        docker-demo.1       mjbright/docker-demo:20   swnode1             Running             Running 8 minutes ago                         \r\n",
       "xduwdjcfsrvv        docker-demo.2       mjbright/docker-demo:20   swmaster1           Running             Preparing 6 seconds ago                       \r\n",
       "wwac7sqcekq3        docker-demo.3       mjbright/docker-demo:20   swnode2             Running             Preparing 6 seconds ago"
      ]
     },
     "execution_count": 51,
     "metadata": {},
     "output_type": "execute_result"
    }
   ],
   "source": [
    "docker $(docker-machine config swmaster1) service ps docker-demo"
   ]
  },
  {
   "cell_type": "markdown",
   "metadata": {},
   "source": [
    "# rolling-update\n",
    "\n",
    "Now we will see how we can perform a rolling update.\n",
    "\n",
    "We initially deployed version 20 of the service, now we will upgrade our whole cluster to version 21\n"
   ]
  },
  {
   "cell_type": "code",
   "execution_count": 52,
   "metadata": {},
   "outputs": [
    {
     "data": {
      "text/plain": [
       "ID                  NAME                IMAGE                     NODE                DESIRED STATE       CURRENT STATE                    ERROR               PORTS\r\n",
       "qzj80y51tinx        docker-demo.1       mjbright/docker-demo:20   swnode1             Running             Running 8 minutes ago                                \r\n",
       "xduwdjcfsrvv        docker-demo.2       mjbright/docker-demo:20   swmaster1           Running             Running less than a second ago                       \r\n",
       "wwac7sqcekq3        docker-demo.3       mjbright/docker-demo:20   swnode2             Running             Running less than a second ago"
      ]
     },
     "execution_count": 52,
     "metadata": {},
     "output_type": "execute_result"
    }
   ],
   "source": [
    "docker $(docker-machine config swmaster1) service ps docker-demo"
   ]
  },
  {
   "cell_type": "code",
   "execution_count": 53,
   "metadata": {},
   "outputs": [
    {
     "data": {
      "text/plain": [
       "docker-demo\r\n",
       "Since --detach=false was not specified, tasks will be updated in the background.\r\n",
       "In a future release, --detach=false will become the default."
      ]
     },
     "execution_count": 53,
     "metadata": {},
     "output_type": "execute_result"
    }
   ],
   "source": [
    "docker $(docker-machine config swmaster1) service update --image mjbright/docker-demo:21 docker-demo"
   ]
  },
  {
   "cell_type": "code",
   "execution_count": null,
   "metadata": {
    "collapsed": true
   },
   "outputs": [],
   "source": [
    "docker $(docker-machine config swmaster1) pull mjbright/docker-demo:21"
   ]
  },
  {
   "cell_type": "code",
   "execution_count": 1,
   "metadata": {},
   "outputs": [
    {
     "data": {
      "text/plain": [
       "21: Pulling from mjbright/docker-demo\r\n",
       "Digest: sha256:dd88f9ba2795e3da1597005cdda902fa6d412cd1c435e3897e753c11f4cc902f\r\n",
       "Status: Downloaded newer image for mjbright/docker-demo:21"
      ]
     },
     "execution_count": 1,
     "metadata": {},
     "output_type": "execute_result"
    }
   ],
   "source": [
    "docker $(docker-machine config swnode1) pull mjbright/docker-demo:21"
   ]
  },
  {
   "cell_type": "code",
   "execution_count": 2,
   "metadata": {},
   "outputs": [
    {
     "data": {
      "text/plain": [
       "21: Pulling from mjbright/docker-demo\r\n",
       "Digest: sha256:dd88f9ba2795e3da1597005cdda902fa6d412cd1c435e3897e753c11f4cc902f\r\n",
       "Status: Downloaded newer image for mjbright/docker-demo:21"
      ]
     },
     "execution_count": 2,
     "metadata": {},
     "output_type": "execute_result"
    }
   ],
   "source": [
    "docker $(docker-machine config swnode2) pull mjbright/docker-demo:21"
   ]
  },
  {
   "cell_type": "code",
   "execution_count": 54,
   "metadata": {},
   "outputs": [
    {
     "data": {
      "text/plain": [
       "ID                  NAME                IMAGE                     NODE                DESIRED STATE       CURRENT STATE                      ERROR               PORTS\r\n",
       "i92770901fs7        docker-demo.1       mjbright/docker-demo:21   swnode1             Ready               Preparing less than a second ago                       \r\n",
       "qzj80y51tinx         \\_ docker-demo.1   mjbright/docker-demo:20   swnode1             Shutdown            Running less than a second ago                         \r\n",
       "xduwdjcfsrvv        docker-demo.2       mjbright/docker-demo:20   swmaster1           Running             Running 21 seconds ago                                 \r\n",
       "wwac7sqcekq3        docker-demo.3       mjbright/docker-demo:20   swnode2             Running             Running 21 seconds ago"
      ]
     },
     "execution_count": 54,
     "metadata": {},
     "output_type": "execute_result"
    }
   ],
   "source": [
    "docker $(docker-machine config swmaster1) service ps docker-demo"
   ]
  },
  {
   "cell_type": "markdown",
   "metadata": {
    "collapsed": true
   },
   "source": [
    "Again it may take a few moments until the new image is downloaded and operational on all nodes.\n",
    "\n",
    "Once the new image has been downloaded and started on all nodes you should see something like:"
   ]
  },
  {
   "cell_type": "code",
   "execution_count": 3,
   "metadata": {},
   "outputs": [
    {
     "data": {
      "text/plain": [
       "ID            NAME               IMAGE                    NODE       DESIRED STATE  CURRENT STATE                ERROR  PORTS\r\n",
       "i92770901fs7  docker-demo.1      mjbright/docker-demo:21  swnode1    Running        Running 3 minutes ago               \r\n",
       "qzj80y51tinx   \\_ docker-demo.1  mjbright/docker-demo:20  swnode1    Shutdown       Shutdown 4 minutes ago              \r\n",
       "ywlc765ichqk  docker-demo.2      mjbright/docker-demo:21  swmaster1  Running        Running 22 seconds ago              \r\n",
       "xduwdjcfsrvv   \\_ docker-demo.2  mjbright/docker-demo:20  swmaster1  Shutdown       Shutdown about a minute ago         \r\n",
       "f4sj0i4i7te2  docker-demo.3      mjbright/docker-demo:21  swnode2    Running        Running about a minute ago          \r\n",
       "wwac7sqcekq3   \\_ docker-demo.3  mjbright/docker-demo:20  swnode2    Shutdown       Shutdown 3 minutes ago"
      ]
     },
     "execution_count": 3,
     "metadata": {},
     "output_type": "execute_result"
    }
   ],
   "source": [
    "docker $(docker-machine config swmaster1) service ps docker-demo"
   ]
  },
  {
   "cell_type": "markdown",
   "metadata": {},
   "source": [
    "Now connect again to"
   ]
  },
  {
   "cell_type": "code",
   "execution_count": 6,
   "metadata": {},
   "outputs": [
    {
     "data": {
      "text/plain": [
       "http://192.168.99.100:8080"
      ]
     },
     "execution_count": 6,
     "metadata": {},
     "output_type": "execute_result"
    }
   ],
   "source": [
    "MASTERIP=$(docker-machine ip swmaster1)\n",
    "echo \"http://${MASTERIP}:8080\""
   ]
  },
  {
   "cell_type": "markdown",
   "metadata": {},
   "source": [
    "### Verifying the service has been updated\n",
    "\n",
    "Then open your web browser at the page http://MASTERIP:8080 and you should now see a lovely **red** whale.\n",
    "\n",
    "\n",
    "![](images/docker_red.png)"
   ]
  },
  {
   "cell_type": "markdown",
   "metadata": {},
   "source": [
    "of if you prefer the command-line .."
   ]
  },
  {
   "cell_type": "code",
   "execution_count": 10,
   "metadata": {},
   "outputs": [
    {
     "data": {
      "text/plain": [
       "Notebook started at Wed Oct 25 09:47:46 CEST 2017   [1508917666]\r\n",
       "mjh3fk6bc1is  \u001b[01;31m\u001b[Kdocker-demo\u001b[m\u001b[K  replicated  3/3       mjbright/\u001b[01;31m\u001b[Kdocker-demo\u001b[m\u001b[K:21\r\n",
       "Took 1 secs"
      ]
     },
     "execution_count": 10,
     "metadata": {},
     "output_type": "execute_result"
    }
   ],
   "source": [
    "#. ../NB_bash_functions.rc\n",
    "\n",
    "NB_docker_loop_until_N_replicas_started docker-demo 3\n",
    "\n",
    "#NB_pause"
   ]
  },
  {
   "cell_type": "code",
   "execution_count": 11,
   "metadata": {},
   "outputs": [
    {
     "data": {
      "text/plain": [
       "ID            NAME         MODE        REPLICAS  IMAGE\r\n",
       "mjh3fk6bc1is  docker-demo  replicated  3/3       mjbright/docker-demo:21"
      ]
     },
     "execution_count": 11,
     "metadata": {},
     "output_type": "execute_result"
    }
   ],
   "source": [
    "docker $(docker-machine config swmaster1) service ls"
   ]
  },
  {
   "cell_type": "code",
   "execution_count": 12,
   "metadata": {},
   "outputs": [
    {
     "data": {
      "text/plain": [
       "mjh3fk6bc1is  \u001b[01;31m\u001b[Kdocker-demo\u001b[m\u001b[K  replicated  3/3       mjbright/\u001b[01;31m\u001b[Kdocker-demo\u001b[m\u001b[K:21"
      ]
     },
     "execution_count": 12,
     "metadata": {},
     "output_type": "execute_result"
    }
   ],
   "source": [
    "NB_docker_loop_until_service_started docker-demo"
   ]
  },
  {
   "cell_type": "code",
   "execution_count": 13,
   "metadata": {},
   "outputs": [
    {
     "data": {
      "text/plain": [
       "--2017-10-25 09:48:11--  http://192.168.99.100:8080/\r\n",
       "Connecting to 192.168.99.100:8080... connected.\r\n",
       "HTTP request sent, awaiting response... 200 OK\r\n",
       "Length: unspecified [text/txt]\r\n",
       "Saving to: ‘STDOUT’\r\n",
       "\r\n",
       "\r",
       "-                       [<=>                 ]       0  --.-KB/s               \r\n",
       "\r\n",
       "\u001b[1;31m\r\n",
       "                                                .---------.                                          \r\n",
       "                                               .///++++/:.                                          \r\n",
       "                                               .///+++//:.                                          \r\n",
       "                                               .///+++//:.                                          \r\n",
       "                             ``````````````````.:///////:.                       `                  \r\n",
       "                             .-///////:://+++//::///////-.                      .--.                \r\n",
       "                             .:::///:::///+++///:::///:::.                     .:ss+-`              \r\n",
       "                             .:::///:::///+++///:::///:::.                    `.ossss:.             \r\n",
       "                             .:///////:/+++oo++/:///////:.                    .-ssssss:.            \r\n",
       "                    .-:::::::--///////--:::::::--///////--:::::::-.           `-sssssso.........``  \r\n",
       "                    .::////:::://+++///:::///:::///+++//:/::////::.           `.+ssssss/++ooooo+/:.`\r\n",
       "                    .::////:::://+++///:::///:::///+++//:/::////::.            `.+sssooooooooooo/-` \r\n",
       "                    .::////:::://+++///:::///:::///+++//:/::////::.           ``.:osoooooooo+/:-.`  \r\n",
       "            ````````.-:::::::--///////--:::::::-:///////--:::::::-.``````...-:/+ssoo+:-----..``     \r\n",
       "            .-+++oooooooooooooooooooooooooooooooooooooooooooooooooooooooosssssssoooo-.              \r\n",
       "      `     .-ooossssssssssssssssssssssss+ssssssssssssssssossssssssssssssssssoooooo:.        `      \r\n",
       "    ``...```.-+++++/:--/+oosssssssoo++/:-.-:+oosssssso+/:..-:/+oossssssssoo+:--://-.`   ```...`     \r\n",
       " ````````````.-:::::::::::::::::::::::::::::::::::::::::::::::::::::::::::::::::-..```````````````  \r\n",
       "             .-////++++++++++++++++++++++++++++++++++++++++++++++++++//////////:.`                  \r\n",
       "             `.:////++++++++++++++++oss+++++++++++++++++++++++++++///////////:-.                    \r\n",
       "              `.:////++++++++++++++os.+h+++++++++++++++++++++++/////////////-.`                     \r\n",
       "               `.://///++++++++++//+soos+++++++++++++++++++///////////////-.`                       \r\n",
       "                `.--------:::://+o/+++++++++++++++++++/////////////////:-.`                         \r\n",
       "                  `-sdmmmmmmmNNNNNmo+++++++++++/////////////////////:-.``                           \r\n",
       "                    `-+hmmmmmmmmmmmms///////////////////////////::-.``                              \r\n",
       "                      ``-+ydmmmmmmmmmds////////////////////::--.``                                  \r\n",
       "                         ``.-/oshdmmmmmmho+////////::::--..```                                      \r\n",
       "                              ````..-:::///---.....````                                             \r\n",
       "\r\n",
       "\u001b[0m\r\n",
       "\r\n",
       "\r\n",
       "\u001b[1;33mServed from 1d8bf1041863\u001b[0;0m\r\n",
       "\r\n",
       "\r",
       "-                       [ <=>                ]   2.82K  --.-KB/s    in 0s      \r\n",
       "\r\n",
       "2017-10-25 09:48:11 (6.45 MB/s) - written to stdout [2886]"
      ]
     },
     "execution_count": 13,
     "metadata": {},
     "output_type": "execute_result"
    }
   ],
   "source": [
    "wget -O - http://$MASTERIP:8080"
   ]
  },
  {
   "cell_type": "markdown",
   "metadata": {},
   "source": [
    "## Service rollback\n",
    "\n",
    "Revert changes to a service’s configuration\n",
    "\n",
    "#### API 1.31+\n",
    "The client and daemon API must both be at least 1.31 to use this command.\n",
    "\n",
    "Use the docker version command on the client to check your client and daemon API versions."
   ]
  },
  {
   "cell_type": "code",
   "execution_count": 17,
   "metadata": {},
   "outputs": [
    {
     "data": {
      "text/plain": [
       "Client:\r\n",
       " Version:         1.13.1\r\n",
       " API version:     1.26\r\n",
       " Package version: <unknown>\r\n",
       " Go version:      go1.8.3\r\n",
       " Git commit:      b5e3294/1.13.1\r\n",
       " Built:           Wed Aug 16 13:58:20 2017\r\n",
       " OS/Arch:         linux/amd64\r\n",
       "\r\n",
       "Server:\r\n",
       " Version:         1.13.1\r\n",
       " API version:     1.26 (minimum version 1.12)\r\n",
       " Package version: <unknown>\r\n",
       " Go version:      go1.8.3\r\n",
       " Git commit:      b5e3294/1.13.1\r\n",
       " Built:           Wed Aug 16 13:58:20 2017\r\n",
       " OS/Arch:         linux/amd64\r\n",
       " Experimental:    false"
      ]
     },
     "execution_count": 17,
     "metadata": {},
     "output_type": "execute_result"
    }
   ],
   "source": [
    "docker version"
   ]
  },
  {
   "cell_type": "code",
   "execution_count": 16,
   "metadata": {},
   "outputs": [
    {
     "data": {
      "text/plain": [
       "Usage:\tdocker service COMMAND\r\n",
       "\r\n",
       "Manage services\r\n",
       "\r\n",
       "Options:\r\n",
       "      --help   Print usage\r\n",
       "\r\n",
       "Commands:\r\n",
       "  create      Create a new service\r\n",
       "  inspect     Display detailed information on one or more services\r\n",
       "  logs        Fetch the logs of a service\r\n",
       "  ls          List services\r\n",
       "  ps          List the tasks of a service\r\n",
       "  rm          Remove one or more services\r\n",
       "  scale       Scale one or multiple replicated services\r\n",
       "  update      Update a service\r\n",
       "\r\n",
       "Run 'docker service COMMAND --help' for more information on a command."
      ]
     },
     "execution_count": 16,
     "metadata": {},
     "output_type": "execute_result"
    }
   ],
   "source": [
    "docker service rollback docker-demo"
   ]
  },
  {
   "cell_type": "markdown",
   "metadata": {},
   "source": [
    "# drain a node\n",
    "\n",
    "We can drain a node effectively placing it in 'maintenance mode'.\n",
    "\n",
    "Draining a node means that it no longer has running tasks on it."
   ]
  },
  {
   "cell_type": "code",
   "execution_count": 18,
   "metadata": {},
   "outputs": [
    {
     "data": {
      "text/plain": [
       "ID                           HOSTNAME   STATUS  AVAILABILITY  MANAGER STATUS\r\n",
       "21m2hzus2bqe7y81hkstiyeo4    swnode1    Ready   Active        \r\n",
       "2gfwhg91762xhx532ikjyfobi *  swmaster1  Ready   Active        Leader\r\n",
       "ps52jax88o8wd1d6v9heoswm4    swnode2    Ready   Active"
      ]
     },
     "execution_count": 18,
     "metadata": {},
     "output_type": "execute_result"
    }
   ],
   "source": [
    "docker $(docker-machine config swmaster1) node ls"
   ]
  },
  {
   "cell_type": "markdown",
   "metadata": {},
   "source": [
    "Let's drain swnode1"
   ]
  },
  {
   "cell_type": "code",
   "execution_count": 19,
   "metadata": {},
   "outputs": [
    {
     "data": {
      "text/plain": [
       "ID            NAME               IMAGE                    NODE       DESIRED STATE  CURRENT STATE            ERROR  PORTS\r\n",
       "i92770901fs7  docker-demo.1      mjbright/docker-demo:21  swnode1    Running        Running 10 minutes ago          \r\n",
       "qzj80y51tinx   \\_ docker-demo.1  mjbright/docker-demo:20  swnode1    Shutdown       Shutdown 11 minutes ago         \r\n",
       "ywlc765ichqk  docker-demo.2      mjbright/docker-demo:21  swmaster1  Running        Running 7 minutes ago           \r\n",
       "xduwdjcfsrvv   \\_ docker-demo.2  mjbright/docker-demo:20  swmaster1  Shutdown       Shutdown 8 minutes ago          \r\n",
       "f4sj0i4i7te2  docker-demo.3      mjbright/docker-demo:21  swnode2    Running        Running 8 minutes ago           \r\n",
       "wwac7sqcekq3   \\_ docker-demo.3  mjbright/docker-demo:20  swnode2    Shutdown       Shutdown 10 minutes ago"
      ]
     },
     "execution_count": 19,
     "metadata": {},
     "output_type": "execute_result"
    }
   ],
   "source": [
    "docker $(docker-machine config swmaster1) service ps docker-demo"
   ]
  },
  {
   "cell_type": "code",
   "execution_count": 20,
   "metadata": {},
   "outputs": [
    {
     "data": {
      "text/plain": [
       "swnode1"
      ]
     },
     "execution_count": 20,
     "metadata": {},
     "output_type": "execute_result"
    }
   ],
   "source": [
    "docker $(docker-machine config swmaster1) node update --availability drain swnode1"
   ]
  },
  {
   "cell_type": "markdown",
   "metadata": {},
   "source": [
    "and now we see that all services on swnode1 are shutdown"
   ]
  },
  {
   "cell_type": "code",
   "execution_count": 21,
   "metadata": {},
   "outputs": [
    {
     "data": {
      "text/plain": [
       "ID            NAME               IMAGE                    NODE       DESIRED STATE  CURRENT STATE            ERROR  PORTS\r\n",
       "p1x5e0s4ppip  docker-demo.1      mjbright/docker-demo:21  swmaster1  Ready          Ready 5 seconds ago             \r\n",
       "i92770901fs7   \\_ docker-demo.1  mjbright/docker-demo:21  swnode1    Shutdown       Running 5 seconds ago           \r\n",
       "qzj80y51tinx   \\_ docker-demo.1  mjbright/docker-demo:20  swnode1    Shutdown       Shutdown 11 minutes ago         \r\n",
       "ywlc765ichqk  docker-demo.2      mjbright/docker-demo:21  swmaster1  Running        Running 7 minutes ago           \r\n",
       "xduwdjcfsrvv   \\_ docker-demo.2  mjbright/docker-demo:20  swmaster1  Shutdown       Shutdown 8 minutes ago          \r\n",
       "f4sj0i4i7te2  docker-demo.3      mjbright/docker-demo:21  swnode2    Running        Running 9 minutes ago           \r\n",
       "wwac7sqcekq3   \\_ docker-demo.3  mjbright/docker-demo:20  swnode2    Shutdown       Shutdown 10 minutes ago"
      ]
     },
     "execution_count": 21,
     "metadata": {},
     "output_type": "execute_result"
    }
   ],
   "source": [
    "docker $(docker-machine config swmaster1) service ps docker-demo"
   ]
  },
  {
   "cell_type": "markdown",
   "metadata": {},
   "source": [
    "But as we had request 3 replicas of our service the Swarm mode will take care to start extra instances on other nodes so that we still have 3 replicas of the service running.\n",
    "\n",
    "So after a few seconds we see that we once again have 3 replicas in the *Running* state, as shown below:"
   ]
  },
  {
   "cell_type": "code",
   "execution_count": 22,
   "metadata": {},
   "outputs": [
    {
     "data": {
      "text/plain": [
       "ID            NAME               IMAGE                    NODE       DESIRED STATE  CURRENT STATE            ERROR  PORTS\r\n",
       "p1x5e0s4ppip  docker-demo.1      mjbright/docker-demo:21  swmaster1  Running        Running 17 seconds ago          \r\n",
       "i92770901fs7   \\_ docker-demo.1  mjbright/docker-demo:21  swnode1    Shutdown       Shutdown 18 seconds ago         \r\n",
       "qzj80y51tinx   \\_ docker-demo.1  mjbright/docker-demo:20  swnode1    Shutdown       Shutdown 12 minutes ago         \r\n",
       "ywlc765ichqk  docker-demo.2      mjbright/docker-demo:21  swmaster1  Running        Running 8 minutes ago           \r\n",
       "xduwdjcfsrvv   \\_ docker-demo.2  mjbright/docker-demo:20  swmaster1  Shutdown       Shutdown 9 minutes ago          \r\n",
       "f4sj0i4i7te2  docker-demo.3      mjbright/docker-demo:21  swnode2    Running        Running 9 minutes ago           \r\n",
       "wwac7sqcekq3   \\_ docker-demo.3  mjbright/docker-demo:20  swnode2    Shutdown       Shutdown 11 minutes ago"
      ]
     },
     "execution_count": 22,
     "metadata": {},
     "output_type": "execute_result"
    }
   ],
   "source": [
    "docker $(docker-machine config swmaster1) service ps docker-demo"
   ]
  },
  {
   "cell_type": "markdown",
   "metadata": {},
   "source": [
    "# remove a service\n",
    "\n",
    "Now let's cleanup by removing our service"
   ]
  },
  {
   "cell_type": "code",
   "execution_count": 23,
   "metadata": {},
   "outputs": [
    {
     "data": {
      "text/plain": [
       "docker-demo"
      ]
     },
     "execution_count": 23,
     "metadata": {},
     "output_type": "execute_result"
    }
   ],
   "source": [
    "docker $(docker-machine config swmaster1) service rm docker-demo"
   ]
  },
  {
   "cell_type": "markdown",
   "metadata": {},
   "source": [
    "We can check that the service is no longer running:"
   ]
  },
  {
   "cell_type": "code",
   "execution_count": 24,
   "metadata": {},
   "outputs": [
    {
     "data": {
      "text/plain": [
       "Error: No such service: docker-demo"
      ]
     },
     "execution_count": 24,
     "metadata": {},
     "output_type": "execute_result"
    }
   ],
   "source": [
    "docker $(docker-machine config swmaster1) service ps docker-demo\n",
    "\n",
    "NB_continue"
   ]
  },
  {
   "cell_type": "code",
   "execution_count": 25,
   "metadata": {},
   "outputs": [
    {
     "data": {
      "text/plain": [
       "CONTAINER ID        IMAGE               COMMAND             CREATED             STATUS              PORTS               NAMES"
      ]
     },
     "execution_count": 25,
     "metadata": {},
     "output_type": "execute_result"
    }
   ],
   "source": [
    "docker $(docker-machine config swmaster1) ps"
   ]
  },
  {
   "cell_type": "markdown",
   "metadata": {},
   "source": [
    "# Deploying a stack\n",
    "\n",
    "Since Docker 1.12 there is the concept of a Docker Stack.\n",
    "\n",
    "Docker Stack, similar to Docker-compose allows to deploy a whole application made up of a group of components and especially a group of services.\n",
    "\n",
    "Stacks extend this concept providing more features such as scaling and node placement.\n",
    "\n",
    "Let's deploy a stack\n",
    "\n",
    "First let's clone Alex Ellis' OpenFaaS\n",
    "\n",
    "(FaaS = Function as a Service - a Docker implementation of \"Serverless Computing\").\n",
    "\n",
    "https://github.com/alexellis/faas\n",
    "\n",
    "There is a quick test drive document here:\n",
    "https://github.com/alexellis/faas/blob/master/TestDrive.md\n",
    "\n",
    "from which the following steps were taken:"
   ]
  },
  {
   "cell_type": "code",
   "execution_count": 27,
   "metadata": {},
   "outputs": [
    {
     "data": {
      "text/plain": [
       "Cloning into 'alexellis.faas'...\r\n",
       "remote: Counting objects: 11824, done.\u001b[K\r\n",
       "remote: Compressing objects:   8% (1/12)   \u001b[K\r",
       "remote: Compressing objects:  16% (2/12)   \u001b[K\r",
       "remote: Compressing objects:  25% (3/12)   \u001b[K\r",
       "remote: Compressing objects:  33% (4/12)   \u001b[K\r",
       "remote: Compressing objects:  41% (5/12)   \u001b[K\r",
       "remote: Compressing objects:  50% (6/12)   \u001b[K\r",
       "remote: Compressing objects:  58% (7/12)   \u001b[K\r",
       "remote: Compressing objects:  66% (8/12)   \u001b[K\r",
       "remote: Compressing objects:  75% (9/12)   \u001b[K\r",
       "remote: Compressing objects:  83% (10/12)   \u001b[K\r",
       "remote: Compressing objects:  91% (11/12)   \u001b[K\r",
       "remote: Compressing objects: 100% (12/12)   \u001b[K\r",
       "remote: Compressing objects: 100% (12/12), done.\u001b[K\r\n",
       "Receiving objects:   0% (1/11824)   \r",
       "Receiving objects:   1% (119/11824)   \r",
       "Receiving objects:   2% (237/11824)   \r",
       "Receiving objects:   3% (355/11824)   \r",
       "Receiving objects:   4% (473/11824)   \r",
       "Receiving objects:   5% (592/11824)   \r",
       "Receiving objects:   6% (710/11824)   \r",
       "Receiving objects:   7% (828/11824), 172.01 KiB | 335.00 KiB/s   \r",
       "Receiving objects:   8% (946/11824), 172.01 KiB | 335.00 KiB/s   \r",
       "Receiving objects:   9% (1065/11824), 172.01 KiB | 335.00 KiB/s   \r",
       "Receiving objects:   9% (1136/11824), 412.01 KiB | 400.00 KiB/s   \r",
       "Receiving objects:  10% (1183/11824), 412.01 KiB | 400.00 KiB/s   \r",
       "Receiving objects:  11% (1301/11824), 412.01 KiB | 400.00 KiB/s   \r",
       "Receiving objects:  12% (1419/11824), 412.01 KiB | 400.00 KiB/s   \r",
       "Receiving objects:  13% (1538/11824), 652.01 KiB | 424.00 KiB/s   \r",
       "Receiving objects:  13% (1578/11824), 748.01 KiB | 280.00 KiB/s   \r",
       "Receiving objects:  14% (1656/11824), 748.01 KiB | 280.00 KiB/s   \r",
       "Receiving objects:  15% (1774/11824), 748.01 KiB | 280.00 KiB/s   \r",
       "Receiving objects:  16% (1892/11824), 748.01 KiB | 280.00 KiB/s   \r",
       "Receiving objects:  17% (2011/11824), 748.01 KiB | 280.00 KiB/s   \r",
       "Receiving objects:  17% (2012/11824), 748.01 KiB | 280.00 KiB/s   \r",
       "Receiving objects:  18% (2129/11824), 1.61 MiB | 447.00 KiB/s   \r",
       "Receiving objects:  18% (2156/11824), 1.61 MiB | 447.00 KiB/s   \r",
       "Receiving objects:  19% (2247/11824), 1.61 MiB | 447.00 KiB/s   \r",
       "Receiving objects:  20% (2365/11824), 1.61 MiB | 447.00 KiB/s   \r",
       "Receiving objects:  21% (2484/11824), 1.84 MiB | 449.00 KiB/s   \r",
       "Receiving objects:  22% (2602/11824), 2.07 MiB | 451.00 KiB/s   \r",
       "Receiving objects:  23% (2720/11824), 2.07 MiB | 451.00 KiB/s   \r",
       "Receiving objects:  24% (2838/11824), 2.07 MiB | 451.00 KiB/s   \r",
       "Receiving objects:  25% (2956/11824), 2.07 MiB | 451.00 KiB/s   \r",
       "Receiving objects:  25% (3047/11824), 2.07 MiB | 451.00 KiB/s   \r",
       "Receiving objects:  26% (3075/11824), 2.30 MiB | 451.00 KiB/s   \r",
       "Receiving objects:  27% (3193/11824), 2.30 MiB | 451.00 KiB/s   \r",
       "Receiving objects:  28% (3311/11824), 2.30 MiB | 451.00 KiB/s   \r",
       "Receiving objects:  29% (3429/11824), 2.30 MiB | 451.00 KiB/s   \r",
       "Receiving objects:  30% (3548/11824), 2.30 MiB | 451.00 KiB/s   \r",
       "Receiving objects:  31% (3666/11824), 2.30 MiB | 451.00 KiB/s   \r",
       "Receiving objects:  32% (3784/11824), 2.30 MiB | 451.00 KiB/s   \r",
       "Receiving objects:  32% (3894/11824), 2.55 MiB | 418.00 KiB/s   \r",
       "Receiving objects:  33% (3902/11824), 2.55 MiB | 418.00 KiB/s   \r",
       "Receiving objects:  34% (4021/11824), 2.55 MiB | 418.00 KiB/s   \r",
       "Receiving objects:  35% (4139/11824), 2.55 MiB | 418.00 KiB/s   \r",
       "Receiving objects:  36% (4257/11824), 3.03 MiB | 466.00 KiB/s   \r",
       "Receiving objects:  36% (4294/11824), 3.03 MiB | 466.00 KiB/s   \r",
       "Receiving objects:  37% (4375/11824), 3.03 MiB | 466.00 KiB/s   \r",
       "Receiving objects:  38% (4494/11824), 3.26 MiB | 555.00 KiB/s   \r",
       "Receiving objects:  39% (4612/11824), 3.50 MiB | 466.00 KiB/s   \r",
       "Receiving objects:  39% (4682/11824), 3.50 MiB | 466.00 KiB/s   \r",
       "Receiving objects:  40% (4730/11824), 3.74 MiB | 467.00 KiB/s   \r",
       "Receiving objects:  41% (4848/11824), 3.74 MiB | 467.00 KiB/s   \r",
       "Receiving objects:  41% (4900/11824), 3.97 MiB | 468.00 KiB/s   \r",
       "Receiving objects:  42% (4967/11824), 4.21 MiB | 468.00 KiB/s   \r",
       "Receiving objects:  43% (5085/11824), 4.21 MiB | 468.00 KiB/s   \r",
       "Receiving objects:  44% (5203/11824), 4.44 MiB | 470.00 KiB/s   \r",
       "Receiving objects:  44% (5266/11824), 4.44 MiB | 470.00 KiB/s   \r",
       "Receiving objects:  45% (5321/11824), 4.44 MiB | 470.00 KiB/s   \r",
       "Receiving objects:  46% (5440/11824), 4.44 MiB | 470.00 KiB/s   \r",
       "Receiving objects:  47% (5558/11824), 4.72 MiB | 477.00 KiB/s   \r",
       "Receiving objects:  48% (5676/11824), 4.72 MiB | 477.00 KiB/s   \r",
       "Receiving objects:  49% (5794/11824), 4.72 MiB | 477.00 KiB/s   \r",
       "Receiving objects:  50% (5912/11824), 4.72 MiB | 477.00 KiB/s   \r",
       "Receiving objects:  51% (6031/11824), 4.72 MiB | 477.00 KiB/s   \r",
       "Receiving objects:  52% (6149/11824), 5.15 MiB | 467.00 KiB/s   \r",
       "Receiving objects:  53% (6267/11824), 5.15 MiB | 467.00 KiB/s   \r",
       "Receiving objects:  53% (6330/11824), 5.39 MiB | 470.00 KiB/s   \r",
       "Receiving objects:  54% (6385/11824), 5.39 MiB | 470.00 KiB/s   \r",
       "Receiving objects:  54% (6481/11824), 5.85 MiB | 467.00 KiB/s   \r",
       "Receiving objects:  55% (6504/11824), 5.85 MiB | 467.00 KiB/s   \r",
       "Receiving objects:  56% (6622/11824), 6.07 MiB | 464.00 KiB/s   \r",
       "Receiving objects:  56% (6645/11824), 6.54 MiB | 466.00 KiB/s   \r",
       "Receiving objects:  56% (6645/11824), 6.78 MiB | 466.00 KiB/s   \r",
       "Receiving objects:  56% (6645/11824), 7.04 MiB | 420.00 KiB/s   \r",
       "Receiving objects:  57% (6740/11824), 7.04 MiB | 420.00 KiB/s   \r",
       "Receiving objects:  58% (6858/11824), 7.47 MiB | 466.00 KiB/s   \r",
       "Receiving objects:  59% (6977/11824), 7.47 MiB | 466.00 KiB/s   \r",
       "Receiving objects:  59% (6982/11824), 7.47 MiB | 466.00 KiB/s   \r",
       "Receiving objects:  60% (7095/11824), 7.71 MiB | 467.00 KiB/s   \r",
       "Receiving objects:  61% (7213/11824), 7.71 MiB | 467.00 KiB/s   \r",
       "Receiving objects:  62% (7331/11824), 7.94 MiB | 467.00 KiB/s   \r",
       "Receiving objects:  63% (7450/11824), 7.94 MiB | 467.00 KiB/s   \r",
       "Receiving objects:  63% (7536/11824), 7.94 MiB | 467.00 KiB/s   \r",
       "Receiving objects:  64% (7568/11824), 7.94 MiB | 467.00 KiB/s   \r",
       "Receiving objects:  65% (7686/11824), 8.17 MiB | 469.00 KiB/s   \r",
       "Receiving objects:  66% (7804/11824), 8.40 MiB | 467.00 KiB/s   \r",
       "Receiving objects:  66% (7907/11824), 8.40 MiB | 467.00 KiB/s   \r",
       "Receiving objects:  67% (7923/11824), 8.40 MiB | 467.00 KiB/s   \r",
       "Receiving objects:  68% (8041/11824), 8.64 MiB | 467.00 KiB/s   \r",
       "Receiving objects:  69% (8159/11824), 8.86 MiB | 465.00 KiB/s   \r",
       "Receiving objects:  70% (8277/11824), 8.86 MiB | 465.00 KiB/s   \r",
       "Receiving objects:  70% (8287/11824), 8.86 MiB | 465.00 KiB/s   \r",
       "Receiving objects:  71% (8396/11824), 9.10 MiB | 465.00 KiB/s   \r",
       "Receiving objects:  72% (8514/11824), 9.34 MiB | 513.00 KiB/s   \r",
       "Receiving objects:  72% (8562/11824), 9.34 MiB | 513.00 KiB/s   \r",
       "Receiving objects:  73% (8632/11824), 9.57 MiB | 467.00 KiB/s   \r",
       "Receiving objects:  74% (8750/11824), 9.57 MiB | 467.00 KiB/s   \r",
       "Receiving objects:  75% (8868/11824), 9.81 MiB | 467.00 KiB/s   \r",
       "Receiving objects:  75% (8903/11824), 9.81 MiB | 467.00 KiB/s   \r",
       "Receiving objects:  76% (8987/11824), 10.04 MiB | 466.00 KiB/s   \r",
       "Receiving objects:  77% (9105/11824), 10.04 MiB | 466.00 KiB/s   \r",
       "Receiving objects:  78% (9223/11824), 10.28 MiB | 467.00 KiB/s   \r",
       "Receiving objects:  78% (9308/11824), 10.28 MiB | 467.00 KiB/s   \r",
       "Receiving objects:  79% (9341/11824), 10.28 MiB | 467.00 KiB/s   \r",
       "Receiving objects:  80% (9460/11824), 10.51 MiB | 467.00 KiB/s   \r",
       "Receiving objects:  81% (9578/11824), 10.74 MiB | 467.00 KiB/s   \r",
       "Receiving objects:  81% (9614/11824), 10.74 MiB | 467.00 KiB/s   \r",
       "Receiving objects:  82% (9696/11824), 10.96 MiB | 466.00 KiB/s   \r",
       "Receiving objects:  83% (9814/11824), 10.96 MiB | 466.00 KiB/s   \r",
       "Receiving objects:  84% (9933/11824), 11.21 MiB | 468.00 KiB/s   \r",
       "Receiving objects:  84% (10044/11824), 11.21 MiB | 468.00 KiB/s   \r",
       "Receiving objects:  85% (10051/11824), 11.21 MiB | 468.00 KiB/s   \r",
       "Receiving objects:  85% (10146/11824), 11.55 MiB | 416.00 KiB/s   \r",
       "Receiving objects:  86% (10169/11824), 11.55 MiB | 416.00 KiB/s   \r",
       "Receiving objects:  87% (10287/11824), 11.55 MiB | 416.00 KiB/s   \r",
       "Receiving objects:  88% (10406/11824), 11.55 MiB | 416.00 KiB/s   \r",
       "Receiving objects:  89% (10524/11824), 12.02 MiB | 454.00 KiB/s   \r",
       "Receiving objects:  90% (10642/11824), 12.02 MiB | 454.00 KiB/s   \r",
       "Receiving objects:  90% (10671/11824), 12.29 MiB | 460.00 KiB/s   \r",
       "Receiving objects:  90% (10671/11824), 12.75 MiB | 457.00 KiB/s   \r",
       "Receiving objects:  90% (10671/11824), 13.25 MiB | 469.00 KiB/s   \r",
       "Receiving objects:  90% (10671/11824), 13.81 MiB | 467.00 KiB/s   \r",
       "Receiving objects:  90% (10671/11824), 14.28 MiB | 479.00 KiB/s   \r",
       "Receiving objects:  90% (10672/11824), 14.51 MiB | 472.00 KiB/s   \r",
       "Receiving objects:  91% (10760/11824), 14.51 MiB | 472.00 KiB/s   \r",
       "Receiving objects:  92% (10879/11824), 14.51 MiB | 472.00 KiB/s   \r",
       "Receiving objects:  92% (10879/11824), 14.99 MiB | 477.00 KiB/s   \r",
       "Receiving objects:  93% (10997/11824), 15.07 MiB | 433.00 KiB/s   \r",
       "Receiving objects:  94% (11115/11824), 15.07 MiB | 433.00 KiB/s   \r",
       "Receiving objects:  95% (11233/11824), 15.07 MiB | 433.00 KiB/s   \r",
       "Receiving objects:  96% (11352/11824), 15.07 MiB | 433.00 KiB/s   \r",
       "Receiving objects:  97% (11470/11824), 15.07 MiB | 433.00 KiB/s   \r",
       "Receiving objects:  98% (11588/11824), 15.07 MiB | 433.00 KiB/s   \r",
       "Receiving objects:  98% (11705/11824), 15.45 MiB | 464.00 KiB/s   \r",
       "Receiving objects:  98% (11705/11824), 15.93 MiB | 466.00 KiB/s   \r",
       "Receiving objects:  98% (11705/11824), 16.39 MiB | 466.00 KiB/s   \r",
       "Receiving objects:  99% (11706/11824), 16.63 MiB | 468.00 KiB/s   \r",
       "remote: Total 11824 (delta 4), reused 11 (delta 3), pack-reused 11808\u001b[K\r\n",
       "Receiving objects: 100% (11824/11824), 16.63 MiB | 468.00 KiB/s   \r",
       "Receiving objects: 100% (11824/11824), 16.70 MiB | 465.00 KiB/s, done.\r\n",
       "Resolving deltas:   0% (0/3504)   \r",
       "Resolving deltas:   1% (44/3504)   \r",
       "Resolving deltas:   2% (93/3504)   \r",
       "Resolving deltas:   3% (106/3504)   \r",
       "Resolving deltas:   4% (142/3504)   \r",
       "Resolving deltas:   5% (179/3504)   \r",
       "Resolving deltas:   6% (225/3504)   \r",
       "Resolving deltas:   7% (248/3504)   \r",
       "Resolving deltas:   8% (293/3504)   \r",
       "Resolving deltas:   9% (321/3504)   \r",
       "Resolving deltas:  10% (351/3504)   \r",
       "Resolving deltas:  11% (391/3504)   \r",
       "Resolving deltas:  12% (422/3504)   \r",
       "Resolving deltas:  13% (456/3504)   \r",
       "Resolving deltas:  14% (491/3504)   \r",
       "Resolving deltas:  15% (526/3504)   \r",
       "Resolving deltas:  16% (571/3504)   \r",
       "Resolving deltas:  17% (598/3504)   \r",
       "Resolving deltas:  18% (636/3504)   \r",
       "Resolving deltas:  19% (667/3504)   \r",
       "Resolving deltas:  20% (701/3504)   \r",
       "Resolving deltas:  21% (737/3504)   \r",
       "Resolving deltas:  22% (771/3504)   \r",
       "Resolving deltas:  23% (824/3504)   \r",
       "Resolving deltas:  24% (842/3504)   \r",
       "Resolving deltas:  25% (877/3504)   \r",
       "Resolving deltas:  26% (912/3504)   \r",
       "Resolving deltas:  27% (951/3504)   \r",
       "Resolving deltas:  28% (984/3504)   \r",
       "Resolving deltas:  29% (1017/3504)   \r",
       "Resolving deltas:  30% (1060/3504)   \r",
       "Resolving deltas:  31% (1087/3504)   \r",
       "Resolving deltas:  32% (1122/3504)   \r",
       "Resolving deltas:  33% (1157/3504)   \r",
       "Resolving deltas:  34% (1192/3504)   \r",
       "Resolving deltas:  35% (1227/3504)   \r",
       "Resolving deltas:  36% (1270/3504)   \r",
       "Resolving deltas:  37% (1298/3504)   \r",
       "Resolving deltas:  40% (1402/3504)   \r",
       "Resolving deltas:  41% (1443/3504)   \r",
       "Resolving deltas:  42% (1491/3504)   \r",
       "Resolving deltas:  43% (1515/3504)   \r",
       "Resolving deltas:  44% (1566/3504)   \r",
       "Resolving deltas:  45% (1577/3504)   \r",
       "Resolving deltas:  46% (1612/3504)   \r",
       "Resolving deltas:  47% (1652/3504)   \r",
       "Resolving deltas:  48% (1682/3504)   \r",
       "Resolving deltas:  49% (1724/3504)   \r",
       "Resolving deltas:  50% (1755/3504)   \r",
       "Resolving deltas:  51% (1791/3504)   \r",
       "Resolving deltas:  52% (1827/3504)   \r",
       "Resolving deltas:  53% (1873/3504)   \r",
       "Resolving deltas:  54% (1912/3504)   \r",
       "Resolving deltas:  55% (1930/3504)   \r",
       "Resolving deltas:  56% (1969/3504)   \r",
       "Resolving deltas:  57% (2007/3504)   \r",
       "Resolving deltas:  58% (2033/3504)   \r",
       "Resolving deltas:  59% (2068/3504)   \r",
       "Resolving deltas:  60% (2110/3504)   \r",
       "Resolving deltas:  61% (2148/3504)   \r",
       "Resolving deltas:  62% (2175/3504)   \r",
       "Resolving deltas:  63% (2214/3504)   \r",
       "Resolving deltas:  64% (2257/3504)   \r",
       "Resolving deltas:  65% (2278/3504)   \r",
       "Resolving deltas:  66% (2313/3504)   \r",
       "Resolving deltas:  67% (2348/3504)   \r",
       "Resolving deltas:  68% (2383/3504)   \r",
       "Resolving deltas:  69% (2418/3504)   \r",
       "Resolving deltas:  70% (2453/3504)   \r",
       "Resolving deltas:  71% (2489/3504)   \r",
       "Resolving deltas:  72% (2525/3504)   \r",
       "Resolving deltas:  73% (2558/3504)   \r",
       "Resolving deltas:  74% (2597/3504)   \r",
       "Resolving deltas:  75% (2628/3504)   \r",
       "Resolving deltas:  76% (2665/3504)   \r",
       "Resolving deltas:  77% (2699/3504)   \r",
       "Resolving deltas:  78% (2734/3504)   \r",
       "Resolving deltas:  79% (2769/3504)   \r",
       "Resolving deltas:  80% (2804/3504)   \r",
       "Resolving deltas:  81% (2839/3504)   \r",
       "Resolving deltas:  82% (2875/3504)   \r",
       "Resolving deltas:  83% (2909/3504)   \r",
       "Resolving deltas:  84% (2951/3504)   \r",
       "Resolving deltas:  85% (2980/3504)   \r",
       "Resolving deltas:  86% (3015/3504)   \r",
       "Resolving deltas:  87% (3050/3504)   \r",
       "Resolving deltas:  88% (3090/3504)   \r",
       "Resolving deltas:  89% (3120/3504)   \r",
       "Resolving deltas:  91% (3223/3504)   \r",
       "Resolving deltas:  92% (3226/3504)   \r",
       "Resolving deltas:  93% (3263/3504)   \r",
       "Resolving deltas:  94% (3325/3504)   \r",
       "Resolving deltas:  95% (3329/3504)   \r",
       "Resolving deltas:  96% (3365/3504)   \r",
       "Resolving deltas:  97% (3418/3504)   \r",
       "Resolving deltas:  98% (3437/3504)   \r",
       "Resolving deltas:  99% (3476/3504)   \r",
       "Resolving deltas: 100% (3504/3504)   \r",
       "Resolving deltas: 100% (3504/3504), done."
      ]
     },
     "execution_count": 27,
     "metadata": {},
     "output_type": "execute_result"
    }
   ],
   "source": [
    "git clone https://github.com/alexellis/faas alexellis.faas\n",
    "cd alexellis.faas"
   ]
  },
  {
   "cell_type": "markdown",
   "metadata": {},
   "source": [
    "Take the time to look at the docker-compose.yml file.\n",
    "\n",
    "Note that this is the latest version 3 with extra stack capabilities such as deploy/placement tags."
   ]
  },
  {
   "cell_type": "code",
   "execution_count": 28,
   "metadata": {},
   "outputs": [
    {
     "data": {
      "text/plain": [
       "version: \"3.3\"\r\n",
       "services:\r\n",
       "    gateway:\r\n",
       "        volumes:\r\n",
       "            - \"/var/run/docker.sock:/var/run/docker.sock\"\r\n",
       "        ports:\r\n",
       "            - 8080:8080\r\n",
       "        image: functions/gateway:0.6.7\r\n",
       "        networks:\r\n",
       "            - functions\r\n",
       "        environment:\r\n",
       "            dnsrr: \"true\"  # Temporarily use dnsrr in place of VIP while issue persists on PWD\r\n",
       "        deploy:\r\n",
       "            placement:\r\n",
       "                constraints:\r\n",
       "                    - 'node.role == manager'\r\n",
       "                    - 'node.platform.os == linux'\r\n",
       "    prometheus:\r\n",
       "        image: functions/prometheus:latest  # autobuild from Dockerfile in repo.\r\n",
       "        command: \"-config.file=/etc/prometheus/prometheus.yml -storage.local.path=/prometheus -storage.local.memory-chunks=10000 --alertmanager.url=http://alertmanager:9093\"\r\n",
       "        ports:\r\n",
       "            - 9090:9090\r\n",
       "        depends_on:\r\n",
       "            - gateway\r\n",
       "            - alertmanager\r\n",
       "        environment:\r\n",
       "            no_proxy: \"gateway\"\r\n",
       "        networks:\r\n",
       "            - functions\r\n",
       "        deploy:\r\n",
       "            placement:\r\n",
       "                constraints:\r\n",
       "                    - 'node.role == manager'\r\n",
       "                    - 'node.platform.os == linux'\r\n",
       "\r\n",
       "    alertmanager:\r\n",
       "        image: functions/alertmanager:latest    # autobuild from Dockerfile in repo.\r\n",
       "        environment:\r\n",
       "            no_proxy: \"gateway\"\r\n",
       "#        volumes:\r\n",
       "#            - ./prometheus/alertmanager.yml:/alertmanager.yml\r\n",
       "        command:\r\n",
       "            - '-config.file=/alertmanager.yml'\r\n",
       "        networks:\r\n",
       "            - functions\r\n",
       "        ports:\r\n",
       "            - 9093:9093\r\n",
       "        deploy:\r\n",
       "            placement:\r\n",
       "                constraints:\r\n",
       "                    - 'node.role == manager'\r\n",
       "                    - 'node.platform.os == linux'\r\n",
       "    # Sample functions go here.\r\n",
       "\r\n",
       "    # Service label of \"function\" allows functions to show up in UI on http://gateway:8080/\r\n",
       "    webhookstash:\r\n",
       "        image: functions/webhookstash:latest\r\n",
       "        labels:\r\n",
       "            function: \"true\"\r\n",
       "        depends_on:\r\n",
       "            - gateway\r\n",
       "        networks:\r\n",
       "            - functions\r\n",
       "        environment:\r\n",
       "            no_proxy: \"gateway\"\r\n",
       "            https_proxy: $https_proxy\r\n",
       "        deploy:\r\n",
       "            placement:\r\n",
       "                constraints:\r\n",
       "                    - 'node.platform.os == linux'\r\n",
       "\r\n",
       "    # Pass a username as an argument to find how many images user has pushed to Docker Hub.\r\n",
       "    hubstats:\r\n",
       "        image: functions/hubstats:latest\r\n",
       "        labels:\r\n",
       "            function: \"true\"\r\n",
       "        depends_on:\r\n",
       "            - gateway\r\n",
       "        networks:\r\n",
       "            - functions\r\n",
       "        environment:\r\n",
       "            no_proxy: \"gateway\"\r\n",
       "            https_proxy: $https_proxy\r\n",
       "        deploy:\r\n",
       "            placement:\r\n",
       "                constraints:\r\n",
       "                    - 'node.platform.os == linux'\r\n",
       "\r\n",
       "\r\n",
       "    # Node.js gives OS info about the node (Host)\r\n",
       "    nodeinfo:\r\n",
       "        image: functions/nodeinfo:latest\r\n",
       "        labels:\r\n",
       "            function: \"true\"\r\n",
       "        depends_on:\r\n",
       "            - gateway\r\n",
       "        networks:\r\n",
       "            - functions\r\n",
       "        environment:\r\n",
       "            no_proxy: \"gateway\"\r\n",
       "            https_proxy: $https_proxy\r\n",
       "        deploy:\r\n",
       "            placement:\r\n",
       "                constraints:\r\n",
       "                    - 'node.platform.os == linux'\r\n",
       "\r\n",
       "\r\n",
       "    # Uses `cat` to echo back response, fastest function to execute.\r\n",
       "    echoit:\r\n",
       "        image: functions/alpine:latest\r\n",
       "        labels:\r\n",
       "            function: \"true\"\r\n",
       "        depends_on:\r\n",
       "            - gateway\r\n",
       "        networks:\r\n",
       "            - functions\r\n",
       "        environment:\r\n",
       "            fprocess: \"cat\"\r\n",
       "            no_proxy: \"gateway\"\r\n",
       "            https_proxy: $https_proxy\r\n",
       "        deploy:\r\n",
       "            placement:\r\n",
       "                constraints:\r\n",
       "                    - 'node.platform.os == linux'\r\n",
       "\r\n",
       "\r\n",
       "    # Counts words in request with `wc` utility\r\n",
       "    wordcount:\r\n",
       "        image: functions/alpine:latest\r\n",
       "        labels:\r\n",
       "            function: \"true\"\r\n",
       "            com.faas.max_replicas: \"10\"\r\n",
       "        depends_on:\r\n",
       "            - gateway\r\n",
       "        networks:\r\n",
       "            - functions\r\n",
       "        environment:\r\n",
       "            fprocess: \"wc\"\r\n",
       "            no_proxy: \"gateway\"\r\n",
       "            https_proxy: $https_proxy\r\n",
       "        deploy:\r\n",
       "            placement:\r\n",
       "                constraints:\r\n",
       "                    - 'node.platform.os == linux'\r\n",
       "\r\n",
       "\r\n",
       "    # Calculates base64 representation of request body.\r\n",
       "    base64:\r\n",
       "        image: functions/alpine:latest\r\n",
       "        labels:\r\n",
       "            function: \"true\"\r\n",
       "        depends_on:\r\n",
       "            - gateway\r\n",
       "        networks:\r\n",
       "            - functions\r\n",
       "        environment:\r\n",
       "            fprocess: \"base64\"\r\n",
       "            no_proxy: \"gateway\"\r\n",
       "            https_proxy: $https_proxy\r\n",
       "        deploy:\r\n",
       "            placement:\r\n",
       "                constraints:\r\n",
       "                    - 'node.platform.os == linux'\r\n",
       "\r\n",
       "\r\n",
       "    # Decodes base64 representation of request body.\r\n",
       "    decodebase64:\r\n",
       "        image: functions/alpine:latest\r\n",
       "        labels:\r\n",
       "            function: \"true\"\r\n",
       "        depends_on:\r\n",
       "            - gateway\r\n",
       "        networks:\r\n",
       "            - functions\r\n",
       "        environment:\r\n",
       "            fprocess: \"base64 -d\"\r\n",
       "            no_proxy: \"gateway\"\r\n",
       "            https_proxy: $https_proxy\r\n",
       "        deploy:\r\n",
       "            placement:\r\n",
       "                constraints:\r\n",
       "                    - 'node.platform.os == linux'\r\n",
       "\r\n",
       "    # Converts body in (markdown format) -> (html)\r\n",
       "    markdown:\r\n",
       "        image: alexellis2/faas-markdownrender:latest\r\n",
       "        labels:\r\n",
       "            function: \"true\"\r\n",
       "        depends_on:\r\n",
       "            - gateway\r\n",
       "        networks:\r\n",
       "            - functions\r\n",
       "        environment:\r\n",
       "            no_proxy: \"gateway\"\r\n",
       "            https_proxy: $https_proxy\r\n",
       "        deploy:\r\n",
       "            placement:\r\n",
       "                constraints:\r\n",
       "                    - 'node.platform.os == linux'\r\n",
       "\r\n",
       "networks:\r\n",
       "    functions:\r\n",
       "        driver: overlay\r\n",
       "        attachable: true"
      ]
     },
     "execution_count": 28,
     "metadata": {},
     "output_type": "execute_result"
    }
   ],
   "source": [
    "cat docker-compose.yml"
   ]
  },
  {
   "cell_type": "code",
   "execution_count": 29,
   "metadata": {},
   "outputs": [
    {
     "data": {
      "text/plain": [
       "#!/bin/sh\r\n",
       "\r\n",
       "if ! [ -x \"$(command -v docker)\" ]; then\r\n",
       "  echo 'Unable to find docker command, please install Docker (https://www.docker.com/) and retry' >&2\r\n",
       "  exit 1\r\n",
       "fi\r\n",
       "\r\n",
       "echo \"Deploying stack\"\r\n",
       "docker stack deploy func --compose-file docker-compose.yml"
      ]
     },
     "execution_count": 29,
     "metadata": {},
     "output_type": "execute_result"
    }
   ],
   "source": [
    "cat deploy_stack.sh"
   ]
  },
  {
   "cell_type": "markdown",
   "metadata": {},
   "source": [
    "**Note: if running on play-with-docker.com**, copy-paste the following directly\n",
    "\n",
    "```\n",
    "      docker swarm init --advertise-addr eth0 && \\\n",
    "        git clone https://github.com/alexellis/faas && \\\n",
    "        cd faas && \\\n",
    "        ./deploy_stack.sh && \\\n",
    "        docker service ls\n",
    "```\n",
    "\n",
    "**Note**: Running under play-with-docker.com you will have access to Prometheus also"
   ]
  },
  {
   "cell_type": "code",
   "execution_count": 33,
   "metadata": {},
   "outputs": [
    {
     "data": {
      "text/plain": [
       "/usr/local/bin/docker-machine\r\n",
       "docker-machine version 0.13.0, build 9ba6da9"
      ]
     },
     "execution_count": 33,
     "metadata": {},
     "output_type": "execute_result"
    }
   ],
   "source": [
    "which docker-machine\n",
    "\n",
    "docker-machine version"
   ]
  },
  {
   "cell_type": "code",
   "execution_count": 32,
   "metadata": {},
   "outputs": [
    {
     "data": {
      "text/plain": [
       "Deploying stack\r\n",
       "unsupported Compose file version: 3.3\r\n",
       "\r\n",
       "real\t0m0.036s\r\n",
       "user\t0m0.025s\r\n",
       "sys\t0m0.012s"
      ]
     },
     "execution_count": 32,
     "metadata": {},
     "output_type": "execute_result"
    }
   ],
   "source": [
    "eval $(docker-machine env swmaster1)\n",
    "\n",
    "time ./deploy_stack.sh"
   ]
  },
  {
   "cell_type": "code",
   "execution_count": 40,
   "metadata": {},
   "outputs": [
    {
     "data": {
      "text/plain": [
       "Previous HEAD position was 58cbec9... Contribution ideas\r\n",
       "HEAD is now at 17cd3d8... Added syntax highlighting"
      ]
     },
     "execution_count": 40,
     "metadata": {},
     "output_type": "execute_result"
    }
   ],
   "source": [
    "git checkout 17cd3d8028f2096fdecc7ea9f5813af17c1bb1cb"
   ]
  },
  {
   "cell_type": "code",
   "execution_count": 41,
   "metadata": {},
   "outputs": [
    {
     "data": {
      "text/plain": [
       "Deploying stack\r\n",
       "Creating network func_functions\r\n",
       "Creating service func_webhookstash\r\n",
       "Creating service func_gateway\r\n",
       "Creating service func_nodeinfo\r\n",
       "Creating service func_hubstats\r\n",
       "Creating service func_markdown\r\n",
       "Creating service func_echoit\r\n",
       "Creating service func_base64\r\n",
       "Creating service func_alertmanager\r\n",
       "Creating service func_wordcount\r\n",
       "Creating service func_decodebase64\r\n",
       "Creating service func_prometheus\r\n",
       "\r\n",
       "real\t0m0.090s\r\n",
       "user\t0m0.040s\r\n",
       "sys\t0m0.015s"
      ]
     },
     "execution_count": 41,
     "metadata": {},
     "output_type": "execute_result"
    }
   ],
   "source": [
    "eval $(docker-machine env swmaster1)\n",
    "\n",
    "time ./deploy_stack.sh"
   ]
  },
  {
   "cell_type": "markdown",
   "metadata": {},
   "source": [
    "If you are running on PWD, click on the link to port 8080 at the top of the page.\n",
    "\n",
    "If you are running via docker-machine open an ssh tunnel to forward this port locally\n",
    "    docker-machine ssh swmaster1 -L 8080:localhost:8080\n",
    "\n",
    "### Connect to FaaS dashboard\n",
    "Then connect to http://localhost:8080 to see the FaaS dashboard"
   ]
  },
  {
   "cell_type": "code",
   "execution_count": 43,
   "metadata": {},
   "outputs": [
    {
     "data": {
      "text/plain": [
       "http://192.168.99.100:8080"
      ]
     },
     "execution_count": 43,
     "metadata": {},
     "output_type": "execute_result"
    }
   ],
   "source": [
    "echo \"http://${MASTERIP}:8080\""
   ]
  },
  {
   "cell_type": "markdown",
   "metadata": {},
   "source": [
    "### Inspect your FaaS implementation\n",
    "\n",
    "From the command-line inspect the stack you've just deployed using\n",
    "- docker service ls\n",
    "- docker service ps &lt;service-name&gt;\n",
    "\n",
    "### Play with FaaS\n",
    "The point of this exercise was to demonstrate the deploying of the stack, but why not play with FaaS a bit now, you deserve it !\n",
    "\n",
    "But don't spend too long, you've a Docker-Python class to do next !!"
   ]
  },
  {
   "cell_type": "markdown",
   "metadata": {},
   "source": [
    "## Visualizing the stack\n",
    "\n",
    "We can use Mano Marks' visualizer application to view our deployed stack.\n",
    "\n",
    "Let's launch the visualizer on swmaster1, exposed on port 7070"
   ]
  },
  {
   "cell_type": "code",
   "execution_count": 44,
   "metadata": {},
   "outputs": [
    {
     "data": {
      "text/plain": [
       "Unable to find image 'dockersamples/visualizer:latest' locally\r\n",
       "latest: Pulling from dockersamples/visualizer\r\n",
       "\r\n",
       "\u001b[1A\u001b[2K\r",
       "88286f41530e: Already exists \r",
       "\u001b[1B\r\n",
       "\u001b[1A\u001b[2K\r",
       "6a722742375f: Pulling fs layer \r",
       "\u001b[1B\r\n",
       "\u001b[1A\u001b[2K\r",
       "7e9d2f284de4: Pulling fs layer \r",
       "\u001b[1B\r\n",
       "\u001b[1A\u001b[2K\r",
       "a8a42e9e643e: Pulling fs layer \r",
       "\u001b[1B\r\n",
       "\u001b[1A\u001b[2K\r",
       "878a9d1427c8: Pulling fs layer \r",
       "\u001b[1B\r\n",
       "\u001b[1A\u001b[2K\r",
       "359b0ab8ecf6: Pulling fs layer \r",
       "\u001b[1B\r\n",
       "\u001b[1A\u001b[2K\r",
       "729f75167658: Pulling fs layer \r",
       "\u001b[1B\r\n",
       "\u001b[1A\u001b[2K\r",
       "79480eea7db6: Pulling fs layer \r",
       "\u001b[1B\r\n",
       "\u001b[1A\u001b[2K\r",
       "bf0619dda43d: Pulling fs layer \r",
       "\u001b[1B\r\n",
       "\u001b[1A\u001b[2K\r",
       "05c9186b144e: Pulling fs layer \r",
       "\u001b[1B\r\n",
       "\u001b[1A\u001b[2K\r",
       "2d60f6bedc5e: Pulling fs layer \r",
       "\u001b[1B\r\n",
       "\u001b[1A\u001b[2K\r",
       "9e0f566a8873: Pulling fs layer \r",
       "\u001b[1B\r\n",
       "\u001b[1A\u001b[2K\r",
       "6d68779a89a6: Pulling fs layer \r",
       "\u001b[1B\u001b[12A\u001b[2K\r",
       "6a722742375f: Waiting \r",
       "\u001b[12B\u001b[11A\u001b[2K\r",
       "7e9d2f284de4: Waiting \r",
       "\u001b[11B\u001b[10A\u001b[2K\r",
       "a8a42e9e643e: Waiting \r",
       "\u001b[10B\u001b[9A\u001b[2K\r",
       "878a9d1427c8: Waiting \r",
       "\u001b[9B\u001b[8A\u001b[2K\r",
       "359b0ab8ecf6: Waiting \r",
       "\u001b[8B\u001b[7A\u001b[2K\r",
       "729f75167658: Waiting \r",
       "\u001b[7B\u001b[6A\u001b[2K\r",
       "79480eea7db6: Waiting \r",
       "\u001b[6B\u001b[5A\u001b[2K\r",
       "bf0619dda43d: Waiting \r",
       "\u001b[5B\u001b[4A\u001b[2K\r",
       "05c9186b144e: Waiting \r",
       "\u001b[4B\u001b[3A\u001b[2K\r",
       "2d60f6bedc5e: Waiting \r",
       "\u001b[3B\u001b[2A\u001b[2K\r",
       "9e0f566a8873: Waiting \r",
       "\u001b[2B\u001b[1A\u001b[2K\r",
       "6d68779a89a6: Waiting \r",
       "\u001b[1B\u001b[12A\u001b[2K\r",
       "6a722742375f: Downloading 207.4 kB/19.19 MB\r",
       "\u001b[12B\u001b[12A\u001b[2K\r",
       "6a722742375f: Downloading   400 kB/19.19 MB\r",
       "\u001b[12B\u001b[12A\u001b[2K\r",
       "6a722742375f: Downloading 605.8 kB/19.19 MB\r",
       "\u001b[12B\u001b[12A\u001b[2K\r",
       "6a722742375f: Downloading 798.3 kB/19.19 MB\r",
       "\u001b[12B\u001b[12A\u001b[2K\r",
       "6a722742375f: Downloading 991.8 kB/19.19 MB\r",
       "\u001b[12B\u001b[12A\u001b[2K\r",
       "6a722742375f: Downloading 1.196 MB/19.19 MB\r",
       "\u001b[12B\u001b[12A\u001b[2K\r",
       "6a722742375f: Downloading 1.393 MB/19.19 MB\r",
       "\u001b[12B\u001b[11A\u001b[2K\r",
       "7e9d2f284de4: Downloading 16.38 kB/939.2 kB\r",
       "\u001b[11B\u001b[11A\u001b[2K\r",
       "7e9d2f284de4: Downloading 32.77 kB/939.2 kB\r",
       "\u001b[11B\u001b[11A\u001b[2K\r",
       "7e9d2f284de4: Downloading 49.15 kB/939.2 kB\r",
       "\u001b[11B\u001b[11A\u001b[2K\r",
       "7e9d2f284de4: Downloading 64.92 kB/939.2 kB\r",
       "\u001b[11B\u001b[11A\u001b[2K\r",
       "7e9d2f284de4: Downloading 98.68 kB/939.2 kB\r",
       "\u001b[11B\u001b[11A\u001b[2K\r",
       "7e9d2f284de4: Downloading 115.1 kB/939.2 kB\r",
       "\u001b[11B\u001b[11A\u001b[2K\r",
       "7e9d2f284de4: Downloading 174.4 kB/939.2 kB\r",
       "\u001b[11B\u001b[11A\u001b[2K\r",
       "7e9d2f284de4: Downloading 190.7 kB/939.2 kB\r",
       "\u001b[11B\u001b[12A\u001b[2K\r",
       "6a722742375f: Downloading  1.59 MB/19.19 MB\r",
       "\u001b[12B\u001b[11A\u001b[2K\r",
       "7e9d2f284de4: Downloading 212.4 kB/939.2 kB\r",
       "\u001b[11B\u001b[11A\u001b[2K\r",
       "7e9d2f284de4: Downloading 228.8 kB/939.2 kB\r",
       "\u001b[11B\u001b[11A\u001b[2K\r",
       "7e9d2f284de4: Downloading 245.1 kB/939.2 kB\r",
       "\u001b[11B\u001b[11A\u001b[2K\r",
       "7e9d2f284de4: Downloading 261.5 kB/939.2 kB\r",
       "\u001b[11B\u001b[11A\u001b[2K\r",
       "7e9d2f284de4: Downloading 277.9 kB/939.2 kB\r",
       "\u001b[11B\u001b[11A\u001b[2K\r",
       "7e9d2f284de4: Downloading 299.6 kB/939.2 kB\r",
       "\u001b[11B\u001b[11A\u001b[2K\r",
       "7e9d2f284de4: Downloading 359.8 kB/939.2 kB\r",
       "\u001b[11B\u001b[11A\u001b[2K\r",
       "7e9d2f284de4: Downloading 376.2 kB/939.2 kB\r",
       "\u001b[11B\u001b[12A\u001b[2K\r",
       "6a722742375f: Downloading 1.786 MB/19.19 MB\r",
       "\u001b[12B\u001b[11A\u001b[2K\r",
       "7e9d2f284de4: Downloading 401.3 kB/939.2 kB\r",
       "\u001b[11B\u001b[11A\u001b[2K\r",
       "7e9d2f284de4: Downloading 417.7 kB/939.2 kB\r",
       "\u001b[11B\u001b[11A\u001b[2K\r",
       "7e9d2f284de4: Downloading 434.1 kB/939.2 kB\r",
       "\u001b[11B\u001b[11A\u001b[2K\r",
       "7e9d2f284de4: Downloading 450.4 kB/939.2 kB\r",
       "\u001b[11B\u001b[11A\u001b[2K\r",
       "7e9d2f284de4: Downloading 474.5 kB/939.2 kB\r",
       "\u001b[11B\u001b[11A\u001b[2K\r",
       "7e9d2f284de4: Downloading 490.9 kB/939.2 kB\r",
       "\u001b[11B\u001b[11A\u001b[2K\r",
       "7e9d2f284de4: Downloading 505.9 kB/939.2 kB\r",
       "\u001b[11B\u001b[11A\u001b[2K\r",
       "7e9d2f284de4: Downloading 522.3 kB/939.2 kB\r",
       "\u001b[11B\u001b[11A\u001b[2K\r",
       "7e9d2f284de4: Downloading 535.3 kB/939.2 kB\r",
       "\u001b[11B\u001b[11A\u001b[2K\r",
       "7e9d2f284de4: Downloading 551.6 kB/939.2 kB\r",
       "\u001b[11B\u001b[11A\u001b[2K\r",
       "7e9d2f284de4: Downloading   568 kB/939.2 kB\r",
       "\u001b[11B\u001b[11A\u001b[2K\r",
       "7e9d2f284de4: Downloading 584.4 kB/939.2 kB\r",
       "\u001b[11B\u001b[12A\u001b[2K\r",
       "6a722742375f: Downloading 1.983 MB/19.19 MB\r",
       "\u001b[12B\u001b[11A\u001b[2K\r",
       "7e9d2f284de4: Downloading 602.2 kB/939.2 kB\r",
       "\u001b[11B\u001b[11A\u001b[2K\r",
       "7e9d2f284de4: Downloading 618.6 kB/939.2 kB\r",
       "\u001b[11B\u001b[11A\u001b[2K\r",
       "7e9d2f284de4: Downloading   635 kB/939.2 kB\r",
       "\u001b[11B\u001b[11A\u001b[2K\r",
       "7e9d2f284de4: Downloading 651.4 kB/939.2 kB\r",
       "\u001b[11B\u001b[11A\u001b[2K\r",
       "7e9d2f284de4: Downloading 664.9 kB/939.2 kB\r",
       "\u001b[11B\u001b[11A\u001b[2K\r",
       "7e9d2f284de4: Downloading 681.3 kB/939.2 kB\r",
       "\u001b[11B\u001b[11A\u001b[2K\r",
       "7e9d2f284de4: Downloading 697.7 kB/939.2 kB\r",
       "\u001b[11B\u001b[11A\u001b[2K\r",
       "7e9d2f284de4: Downloading   714 kB/939.2 kB\r",
       "\u001b[11B\u001b[11A\u001b[2K\r",
       "7e9d2f284de4: Downloading 730.4 kB/939.2 kB\r",
       "\u001b[11B\u001b[11A\u001b[2K\r",
       "7e9d2f284de4: Downloading 746.8 kB/939.2 kB\r",
       "\u001b[11B\u001b[11A\u001b[2K\r",
       "7e9d2f284de4: Downloading 763.2 kB/939.2 kB\r",
       "\u001b[11B\u001b[11A\u001b[2K\r",
       "7e9d2f284de4: Downloading 785.8 kB/939.2 kB\r",
       "\u001b[11B\u001b[12A\u001b[2K\r",
       "6a722742375f: Downloading 2.179 MB/19.19 MB\r",
       "\u001b[12B\u001b[11A\u001b[2K\r",
       "7e9d2f284de4: Downloading 801.7 kB/939.2 kB\r",
       "\u001b[11B\u001b[11A\u001b[2K\r",
       "7e9d2f284de4: Downloading 818.1 kB/939.2 kB\r",
       "\u001b[11B\u001b[11A\u001b[2K\r",
       "7e9d2f284de4: Downloading 834.5 kB/939.2 kB\r",
       "\u001b[11B\u001b[11A\u001b[2K\r",
       "7e9d2f284de4: Downloading 850.9 kB/939.2 kB\r",
       "\u001b[11B\u001b[11A\u001b[2K\r",
       "7e9d2f284de4: Downloading 867.7 kB/939.2 kB\r",
       "\u001b[11B\u001b[11A\u001b[2K\r",
       "7e9d2f284de4: Downloading 893.8 kB/939.2 kB\r",
       "\u001b[11B\u001b[11A\u001b[2K\r",
       "7e9d2f284de4: Downloading 910.2 kB/939.2 kB\r",
       "\u001b[11B\u001b[11A\u001b[2K\r",
       "7e9d2f284de4: Downloading 928.5 kB/939.2 kB\r",
       "\u001b[11B\u001b[11A\u001b[2K\r",
       "7e9d2f284de4: Downloading 939.2 kB/939.2 kB\r",
       "\u001b[11B\u001b[11A\u001b[2K\r",
       "7e9d2f284de4: Verifying Checksum \r",
       "\u001b[11B\u001b[11A\u001b[2K\r",
       "7e9d2f284de4: Download complete \r",
       "\u001b[11B\u001b[12A\u001b[2K\r",
       "6a722742375f: Downloading 2.376 MB/19.19 MB\r",
       "\u001b[12B\u001b[10A\u001b[2K\r",
       "a8a42e9e643e: Downloading     92 B/92 B\r",
       "\u001b[10B\u001b[10A\u001b[2K\r",
       "a8a42e9e643e: Verifying Checksum \r",
       "\u001b[10B\u001b[10A\u001b[2K\r",
       "a8a42e9e643e: Download complete \r",
       "\u001b[10B\u001b[12A\u001b[2K\r",
       "6a722742375f: Downloading 2.573 MB/19.19 MB\r",
       "\u001b[12B\u001b[9A\u001b[2K\r",
       "878a9d1427c8: Downloading 1.215 kB/1.215 kB\r",
       "\u001b[9B\u001b[9A\u001b[2K\r",
       "878a9d1427c8: Verifying Checksum \r",
       "\u001b[9B\u001b[9A\u001b[2K\r",
       "878a9d1427c8: Download complete \r",
       "\u001b[9B\u001b[12A\u001b[2K\r",
       "6a722742375f: Downloading 2.769 MB/19.19 MB\r",
       "\u001b[12B\u001b[12A\u001b[2K\r",
       "6a722742375f: Downloading 2.966 MB/19.19 MB\r",
       "\u001b[12B\u001b[8A\u001b[2K\r",
       "359b0ab8ecf6: Downloading 14.48 kB/344.3 kB\r",
       "\u001b[8B\u001b[8A\u001b[2K\r",
       "359b0ab8ecf6: Downloading 33.37 kB/344.3 kB\r",
       "\u001b[8B\u001b[8A\u001b[2K\r",
       "359b0ab8ecf6: Downloading 50.32 kB/344.3 kB\r",
       "\u001b[8B\u001b[8A\u001b[2K\r",
       "359b0ab8ecf6: Downloading  66.7 kB/344.3 kB\r",
       "\u001b[8B\u001b[8A\u001b[2K\r",
       "359b0ab8ecf6: Downloading 82.24 kB/344.3 kB\r",
       "\u001b[8B\u001b[8A\u001b[2K\r",
       "359b0ab8ecf6: Downloading   103 kB/344.3 kB\r",
       "\u001b[8B\u001b[8A\u001b[2K\r",
       "359b0ab8ecf6: Downloading 120.4 kB/344.3 kB\r",
       "\u001b[8B\u001b[8A\u001b[2K\r",
       "359b0ab8ecf6: Downloading 137.8 kB/344.3 kB\r",
       "\u001b[8B\u001b[8A\u001b[2K\r",
       "359b0ab8ecf6: Downloading 155.2 kB/344.3 kB\r",
       "\u001b[8B\u001b[8A\u001b[2K\r",
       "359b0ab8ecf6: Downloading 172.6 kB/344.3 kB\r",
       "\u001b[8B\u001b[12A\u001b[2K\r",
       "6a722742375f: Downloading 3.162 MB/19.19 MB\r",
       "\u001b[12B\u001b[8A\u001b[2K\r",
       "359b0ab8ecf6: Downloading   190 kB/344.3 kB\r",
       "\u001b[8B\u001b[8A\u001b[2K\r",
       "359b0ab8ecf6: Downloading 208.5 kB/344.3 kB\r",
       "\u001b[8B\u001b[8A\u001b[2K\r",
       "359b0ab8ecf6: Downloading 224.9 kB/344.3 kB\r",
       "\u001b[8B\u001b[8A\u001b[2K\r",
       "359b0ab8ecf6: Downloading 242.3 kB/344.3 kB\r",
       "\u001b[8B\u001b[8A\u001b[2K\r",
       "359b0ab8ecf6: Downloading 294.5 kB/344.3 kB\r",
       "\u001b[8B\u001b[8A\u001b[2K\r",
       "359b0ab8ecf6: Downloading 311.9 kB/344.3 kB\r",
       "\u001b[8B\u001b[8A\u001b[2K\r",
       "359b0ab8ecf6: Downloading 329.3 kB/344.3 kB\r",
       "\u001b[8B\u001b[8A\u001b[2K\r",
       "359b0ab8ecf6: Downloading 344.3 kB/344.3 kB\r",
       "\u001b[8B\u001b[8A\u001b[2K\r",
       "359b0ab8ecf6: Verifying Checksum \r",
       "\u001b[8B\u001b[8A\u001b[2K\r",
       "359b0ab8ecf6: Download complete \r",
       "\u001b[8B\u001b[12A\u001b[2K\r",
       "6a722742375f: Downloading 3.359 MB/19.19 MB\r",
       "\u001b[12B\u001b[7A\u001b[2K\r",
       "729f75167658: Downloading    268 B/268 B\r",
       "\u001b[7B\u001b[7A\u001b[2K\r",
       "729f75167658: Verifying Checksum \r",
       "\u001b[7B\u001b[7A\u001b[2K\r",
       "729f75167658: Download complete \r",
       "\u001b[7B\u001b[12A\u001b[2K\r",
       "6a722742375f: Downloading 3.556 MB/19.19 MB\r",
       "\u001b[12B\u001b[6A\u001b[2K\r",
       "79480eea7db6: Downloading 1.131 kB/1.131 kB\r",
       "\u001b[6B\u001b[6A\u001b[2K\r",
       "79480eea7db6: Verifying Checksum \r",
       "\u001b[6B\u001b[6A\u001b[2K\r",
       "79480eea7db6: Download complete \r",
       "\u001b[6B\u001b[12A\u001b[2K\r",
       "6a722742375f: Downloading 3.752 MB/19.19 MB\r",
       "\u001b[12B\u001b[5A\u001b[2K\r",
       "bf0619dda43d: Downloading 1.118 kB/1.118 kB\r",
       "\u001b[5B\u001b[5A\u001b[2K\r",
       "bf0619dda43d: Verifying Checksum \r",
       "\u001b[5B\u001b[5A\u001b[2K\r",
       "bf0619dda43d: Download complete \r",
       "\u001b[5B\u001b[12A\u001b[2K\r",
       "6a722742375f: Downloading 3.949 MB/19.19 MB\r",
       "\u001b[12B\u001b[12A\u001b[2K\r",
       "6a722742375f: Downloading 4.145 MB/19.19 MB\r",
       "\u001b[12B\u001b[12A\u001b[2K\r",
       "6a722742375f: Downloading 4.342 MB/19.19 MB\r",
       "\u001b[12B\u001b[12A\u001b[2K\r",
       "6a722742375f: Downloading 4.539 MB/19.19 MB\r",
       "\u001b[12B\u001b[4A\u001b[2K\r",
       "05c9186b144e: Downloading    226 B/226 B\r",
       "\u001b[4B\u001b[4A\u001b[2K\r",
       "05c9186b144e: Verifying Checksum \r",
       "\u001b[4B\u001b[4A\u001b[2K\r",
       "05c9186b144e: Download complete \r",
       "\u001b[4B\u001b[3A\u001b[2K\r",
       "2d60f6bedc5e: Downloading 16.38 kB/579.9 kB\r",
       "\u001b[3B\u001b[3A\u001b[2K\r",
       "2d60f6bedc5e: Downloading 50.73 kB/579.9 kB\r",
       "\u001b[3B\u001b[12A\u001b[2K\r",
       "6a722742375f: Downloading 4.735 MB/19.19 MB\r",
       "\u001b[12B\u001b[3A\u001b[2K\r",
       "2d60f6bedc5e: Downloading 81.02 kB/579.9 kB\r",
       "\u001b[3B\u001b[3A\u001b[2K\r",
       "2d60f6bedc5e: Downloading 97.41 kB/579.9 kB\r",
       "\u001b[3B\u001b[3A\u001b[2K\r",
       "2d60f6bedc5e: Downloading 130.2 kB/579.9 kB\r",
       "\u001b[3B\u001b[3A\u001b[2K\r",
       "2d60f6bedc5e: Downloading 155.2 kB/579.9 kB\r",
       "\u001b[3B\u001b[3A\u001b[2K\r",
       "2d60f6bedc5e: Downloading 171.6 kB/579.9 kB\r",
       "\u001b[3B\u001b[2A\u001b[2K\r",
       "9e0f566a8873: Downloading    889 B/889 B\r",
       "\u001b[2B\u001b[2A\u001b[2K\r",
       "9e0f566a8873: Verifying Checksum \r",
       "\u001b[2B\u001b[2A\u001b[2K\r",
       "9e0f566a8873: Download complete \r",
       "\u001b[2B\u001b[3A\u001b[2K\r",
       "2d60f6bedc5e: Downloading 186.6 kB/579.9 kB\r",
       "\u001b[3B\u001b[3A\u001b[2K\r",
       "2d60f6bedc5e: Downloading 212.1 kB/579.9 kB\r",
       "\u001b[3B\u001b[3A\u001b[2K\r",
       "2d60f6bedc5e: Downloading 233.8 kB/579.9 kB\r",
       "\u001b[3B\u001b[3A\u001b[2K\r",
       "2d60f6bedc5e: Downloading 250.2 kB/579.9 kB\r",
       "\u001b[3B\u001b[12A\u001b[2K\r",
       "6a722742375f: Downloading 4.932 MB/19.19 MB\r",
       "\u001b[12B\u001b[3A\u001b[2K\r",
       "2d60f6bedc5e: Downloading 277.6 kB/579.9 kB\r",
       "\u001b[3B\u001b[3A\u001b[2K\r",
       "2d60f6bedc5e: Downloading 299.4 kB/579.9 kB\r",
       "\u001b[3B\u001b[3A\u001b[2K\r",
       "2d60f6bedc5e: Downloading 326.8 kB/579.9 kB\r",
       "\u001b[3B\u001b[3A\u001b[2K\r",
       "2d60f6bedc5e: Downloading 364.9 kB/579.9 kB\r",
       "\u001b[3B\u001b[3A\u001b[2K\r",
       "2d60f6bedc5e: Downloading 381.3 kB/579.9 kB\r",
       "\u001b[3B\u001b[3A\u001b[2K\r",
       "2d60f6bedc5e: Downloading 408.7 kB/579.9 kB\r",
       "\u001b[3B\u001b[3A\u001b[2K\r",
       "2d60f6bedc5e: Downloading 418.4 kB/579.9 kB\r",
       "\u001b[3B\u001b[3A\u001b[2K\r",
       "2d60f6bedc5e: Downloading 434.8 kB/579.9 kB\r",
       "\u001b[3B\u001b[12A\u001b[2K\r",
       "6a722742375f: Downloading 5.129 MB/19.19 MB\r",
       "\u001b[12B\u001b[3A\u001b[2K\r",
       "2d60f6bedc5e: Downloading 490.6 kB/579.9 kB\r",
       "\u001b[3B\u001b[3A\u001b[2K\r",
       "2d60f6bedc5e: Downloading 523.4 kB/579.9 kB\r",
       "\u001b[3B\u001b[3A\u001b[2K\r",
       "2d60f6bedc5e: Downloading 539.8 kB/579.9 kB\r",
       "\u001b[3B\u001b[3A\u001b[2K\r",
       "2d60f6bedc5e: Downloading 564.4 kB/579.9 kB\r",
       "\u001b[3B\u001b[3A\u001b[2K\r",
       "2d60f6bedc5e: Downloading 579.9 kB/579.9 kB\r",
       "\u001b[3B\u001b[3A\u001b[2K\r",
       "2d60f6bedc5e: Verifying Checksum \r",
       "\u001b[3B\u001b[3A\u001b[2K\r",
       "2d60f6bedc5e: Download complete \r",
       "\u001b[3B\u001b[1A\u001b[2K\r",
       "6d68779a89a6: Downloading 293.1 kB/29.09 MB\r",
       "\u001b[1B\u001b[12A\u001b[2K\r",
       "6a722742375f: Downloading 5.325 MB/19.19 MB\r",
       "\u001b[12B\u001b[12A\u001b[2K\r",
       "6a722742375f: Downloading 5.522 MB/19.19 MB\r",
       "\u001b[12B\u001b[1A\u001b[2K\r",
       "6d68779a89a6: Downloading 588.5 kB/29.09 MB\r",
       "\u001b[1B\u001b[12A\u001b[2K\r",
       "6a722742375f: Downloading 5.718 MB/19.19 MB\r",
       "\u001b[12B\u001b[1A\u001b[2K\r",
       "6d68779a89a6: Downloading 883.8 kB/29.09 MB\r",
       "\u001b[1B\u001b[12A\u001b[2K\r",
       "6a722742375f: Downloading 5.915 MB/19.19 MB\r",
       "\u001b[12B\u001b[12A\u001b[2K\r",
       "6a722742375f: Downloading 6.112 MB/19.19 MB\r",
       "\u001b[12B\u001b[1A\u001b[2K\r",
       "6d68779a89a6: Downloading 1.179 MB/29.09 MB\r",
       "\u001b[1B\u001b[12A\u001b[2K\r",
       "6a722742375f: Downloading 6.308 MB/19.19 MB\r",
       "\u001b[12B\u001b[12A\u001b[2K\r",
       "6a722742375f: Downloading 6.505 MB/19.19 MB\r",
       "\u001b[12B\u001b[1A\u001b[2K\r",
       "6d68779a89a6: Downloading 1.474 MB/29.09 MB\r",
       "\u001b[1B\u001b[12A\u001b[2K\r",
       "6a722742375f: Downloading 6.701 MB/19.19 MB\r",
       "\u001b[12B\u001b[1A\u001b[2K\r",
       "6d68779a89a6: Downloading 1.769 MB/29.09 MB\r",
       "\u001b[1B\u001b[12A\u001b[2K\r",
       "6a722742375f: Downloading 6.898 MB/19.19 MB\r",
       "\u001b[12B\u001b[1A\u001b[2K\r",
       "6d68779a89a6: Downloading 2.063 MB/29.09 MB\r",
       "\u001b[1B\u001b[12A\u001b[2K\r",
       "6a722742375f: Downloading 7.095 MB/19.19 MB\r",
       "\u001b[12B\u001b[12A\u001b[2K\r",
       "6a722742375f: Downloading 7.291 MB/19.19 MB\r",
       "\u001b[12B\u001b[1A\u001b[2K\r",
       "6d68779a89a6: Downloading 2.358 MB/29.09 MB\r",
       "\u001b[1B\u001b[12A\u001b[2K\r",
       "6a722742375f: Downloading 7.488 MB/19.19 MB\r",
       "\u001b[12B\u001b[1A\u001b[2K\r",
       "6d68779a89a6: Downloading 2.653 MB/29.09 MB\r",
       "\u001b[1B\u001b[12A\u001b[2K\r",
       "6a722742375f: Downloading 7.684 MB/19.19 MB\r",
       "\u001b[12B\u001b[12A\u001b[2K\r",
       "6a722742375f: Downloading 7.881 MB/19.19 MB\r",
       "\u001b[12B\u001b[1A\u001b[2K\r",
       "6d68779a89a6: Downloading 2.948 MB/29.09 MB\r",
       "\u001b[1B\u001b[12A\u001b[2K\r",
       "6a722742375f: Downloading 8.078 MB/19.19 MB\r",
       "\u001b[12B\u001b[1A\u001b[2K\r",
       "6d68779a89a6: Downloading 3.243 MB/29.09 MB\r",
       "\u001b[1B\u001b[12A\u001b[2K\r",
       "6a722742375f: Downloading 8.274 MB/19.19 MB\r",
       "\u001b[12B\u001b[12A\u001b[2K\r",
       "6a722742375f: Downloading 8.471 MB/19.19 MB\r",
       "\u001b[12B\u001b[1A\u001b[2K\r",
       "6d68779a89a6: Downloading 3.538 MB/29.09 MB\r",
       "\u001b[1B\u001b[12A\u001b[2K\r",
       "6a722742375f: Downloading 8.667 MB/19.19 MB\r",
       "\u001b[12B\u001b[1A\u001b[2K\r",
       "6d68779a89a6: Downloading 3.833 MB/29.09 MB\r",
       "\u001b[1B\u001b[12A\u001b[2K\r",
       "6a722742375f: Downloading 8.864 MB/19.19 MB\r",
       "\u001b[12B\u001b[12A\u001b[2K\r",
       "6a722742375f: Downloading 9.061 MB/19.19 MB\r",
       "\u001b[12B\u001b[1A\u001b[2K\r",
       "6d68779a89a6: Downloading 4.128 MB/29.09 MB\r",
       "\u001b[1B\u001b[12A\u001b[2K\r",
       "6a722742375f: Downloading 9.257 MB/19.19 MB\r",
       "\u001b[12B\u001b[1A\u001b[2K\r",
       "6d68779a89a6: Downloading 4.423 MB/29.09 MB\r",
       "\u001b[1B\u001b[12A\u001b[2K\r",
       "6a722742375f: Downloading 9.454 MB/19.19 MB\r",
       "\u001b[12B\u001b[12A\u001b[2K\r",
       "6a722742375f: Downloading  9.65 MB/19.19 MB\r",
       "\u001b[12B\u001b[1A\u001b[2K\r",
       "6d68779a89a6: Downloading 4.718 MB/29.09 MB\r",
       "\u001b[1B\u001b[12A\u001b[2K\r",
       "6a722742375f: Downloading 9.847 MB/19.19 MB\r",
       "\u001b[12B\u001b[1A\u001b[2K\r",
       "6d68779a89a6: Downloading 5.013 MB/29.09 MB\r",
       "\u001b[1B\u001b[12A\u001b[2K\r",
       "6a722742375f: Downloading 10.04 MB/19.19 MB\r",
       "\u001b[12B\u001b[12A\u001b[2K\r",
       "6a722742375f: Downloading 10.24 MB/19.19 MB\r",
       "\u001b[12B\u001b[1A\u001b[2K\r",
       "6d68779a89a6: Downloading 5.308 MB/29.09 MB\r",
       "\u001b[1B\u001b[12A\u001b[2K\r",
       "6a722742375f: Downloading 10.44 MB/19.19 MB\r",
       "\u001b[12B\u001b[1A\u001b[2K\r",
       "6d68779a89a6: Downloading 5.602 MB/29.09 MB\r",
       "\u001b[1B\u001b[12A\u001b[2K\r",
       "6a722742375f: Downloading 10.63 MB/19.19 MB\r",
       "\u001b[12B\u001b[12A\u001b[2K\r",
       "6a722742375f: Downloading 10.83 MB/19.19 MB\r",
       "\u001b[12B\u001b[1A\u001b[2K\r",
       "6d68779a89a6: Downloading 5.897 MB/29.09 MB\r",
       "\u001b[1B\u001b[12A\u001b[2K\r",
       "6a722742375f: Downloading 11.03 MB/19.19 MB\r",
       "\u001b[12B\u001b[12A\u001b[2K\r",
       "6a722742375f: Downloading 11.22 MB/19.19 MB\r",
       "\u001b[12B\u001b[1A\u001b[2K\r",
       "6d68779a89a6: Downloading 6.192 MB/29.09 MB\r",
       "\u001b[1B\u001b[12A\u001b[2K\r",
       "6a722742375f: Downloading 11.42 MB/19.19 MB\r",
       "\u001b[12B\u001b[1A\u001b[2K\r",
       "6d68779a89a6: Downloading 6.487 MB/29.09 MB\r",
       "\u001b[1B\u001b[12A\u001b[2K\r",
       "6a722742375f: Downloading 11.62 MB/19.19 MB\r",
       "\u001b[12B\u001b[1A\u001b[2K\r",
       "6d68779a89a6: Downloading 6.782 MB/29.09 MB\r",
       "\u001b[1B\u001b[12A\u001b[2K\r",
       "6a722742375f: Downloading 11.81 MB/19.19 MB\r",
       "\u001b[12B\u001b[12A\u001b[2K\r",
       "6a722742375f: Downloading 12.01 MB/19.19 MB\r",
       "\u001b[12B\u001b[1A\u001b[2K\r",
       "6d68779a89a6: Downloading 7.077 MB/29.09 MB\r",
       "\u001b[1B\u001b[12A\u001b[2K\r",
       "6a722742375f: Downloading 12.21 MB/19.19 MB\r",
       "\u001b[12B\u001b[1A\u001b[2K\r",
       "6d68779a89a6: Downloading 7.372 MB/29.09 MB\r",
       "\u001b[1B\u001b[12A\u001b[2K\r",
       "6a722742375f: Downloading  12.4 MB/19.19 MB\r",
       "\u001b[12B\u001b[12A\u001b[2K\r",
       "6a722742375f: Downloading  12.6 MB/19.19 MB\r",
       "\u001b[12B\u001b[1A\u001b[2K\r",
       "6d68779a89a6: Downloading 7.667 MB/29.09 MB\r",
       "\u001b[1B\u001b[12A\u001b[2K\r",
       "6a722742375f: Downloading  12.8 MB/19.19 MB\r",
       "\u001b[12B\u001b[1A\u001b[2K\r",
       "6d68779a89a6: Downloading 7.962 MB/29.09 MB\r",
       "\u001b[1B\u001b[12A\u001b[2K\r",
       "6a722742375f: Downloading 12.99 MB/19.19 MB\r",
       "\u001b[12B\u001b[12A\u001b[2K\r",
       "6a722742375f: Downloading 13.19 MB/19.19 MB\r",
       "\u001b[12B\u001b[1A\u001b[2K\r",
       "6d68779a89a6: Downloading 8.257 MB/29.09 MB\r",
       "\u001b[1B\u001b[12A\u001b[2K\r",
       "6a722742375f: Downloading 13.39 MB/19.19 MB\r",
       "\u001b[12B\u001b[1A\u001b[2K\r",
       "6d68779a89a6: Downloading 8.552 MB/29.09 MB\r",
       "\u001b[1B\u001b[12A\u001b[2K\r",
       "6a722742375f: Downloading 13.58 MB/19.19 MB\r",
       "\u001b[12B\u001b[12A\u001b[2K\r",
       "6a722742375f: Downloading 13.78 MB/19.19 MB\r",
       "\u001b[12B\u001b[1A\u001b[2K\r",
       "6d68779a89a6: Downloading 8.846 MB/29.09 MB\r",
       "\u001b[1B\u001b[12A\u001b[2K\r",
       "6a722742375f: Downloading 13.98 MB/19.19 MB\r",
       "\u001b[12B\u001b[1A\u001b[2K\r",
       "6d68779a89a6: Downloading 9.141 MB/29.09 MB\r",
       "\u001b[1B\u001b[12A\u001b[2K\r",
       "6a722742375f: Downloading 14.17 MB/19.19 MB\r",
       "\u001b[12B\u001b[12A\u001b[2K\r",
       "6a722742375f: Downloading 14.37 MB/19.19 MB\r",
       "\u001b[12B\u001b[1A\u001b[2K\r",
       "6d68779a89a6: Downloading 9.436 MB/29.09 MB\r",
       "\u001b[1B\u001b[12A\u001b[2K\r",
       "6a722742375f: Downloading 14.57 MB/19.19 MB\r",
       "\u001b[12B\u001b[12A\u001b[2K\r",
       "6a722742375f: Downloading 14.76 MB/19.19 MB\r",
       "\u001b[12B\u001b[1A\u001b[2K\r",
       "6d68779a89a6: Downloading 9.731 MB/29.09 MB\r",
       "\u001b[1B\u001b[12A\u001b[2K\r",
       "6a722742375f: Downloading 14.96 MB/19.19 MB\r",
       "\u001b[12B\u001b[1A\u001b[2K\r",
       "6d68779a89a6: Downloading 10.03 MB/29.09 MB\r",
       "\u001b[1B\u001b[12A\u001b[2K\r",
       "6a722742375f: Downloading 15.16 MB/19.19 MB\r",
       "\u001b[12B\u001b[1A\u001b[2K\r",
       "6d68779a89a6: Downloading 10.32 MB/29.09 MB\r",
       "\u001b[1B\u001b[12A\u001b[2K\r",
       "6a722742375f: Downloading 15.35 MB/19.19 MB\r",
       "\u001b[12B\u001b[12A\u001b[2K\r",
       "6a722742375f: Downloading 15.55 MB/19.19 MB\r",
       "\u001b[12B\u001b[1A\u001b[2K\r",
       "6d68779a89a6: Downloading 10.62 MB/29.09 MB\r",
       "\u001b[1B\u001b[12A\u001b[2K\r",
       "6a722742375f: Downloading 15.75 MB/19.19 MB\r",
       "\u001b[12B\u001b[1A\u001b[2K\r",
       "6d68779a89a6: Downloading 10.91 MB/29.09 MB\r",
       "\u001b[1B\u001b[12A\u001b[2K\r",
       "6a722742375f: Downloading 15.94 MB/19.19 MB\r",
       "\u001b[12B\u001b[12A\u001b[2K\r",
       "6a722742375f: Downloading 16.14 MB/19.19 MB\r",
       "\u001b[12B\u001b[1A\u001b[2K\r",
       "6d68779a89a6: Downloading 11.21 MB/29.09 MB\r",
       "\u001b[1B\u001b[12A\u001b[2K\r",
       "6a722742375f: Downloading 16.34 MB/19.19 MB\r",
       "\u001b[12B\u001b[1A\u001b[2K\r",
       "6d68779a89a6: Downloading  11.5 MB/29.09 MB\r",
       "\u001b[1B\u001b[12A\u001b[2K\r",
       "6a722742375f: Downloading 16.53 MB/19.19 MB\r",
       "\u001b[12B\u001b[12A\u001b[2K\r",
       "6a722742375f: Downloading 16.73 MB/19.19 MB\r",
       "\u001b[12B\u001b[1A\u001b[2K\r",
       "6d68779a89a6: Downloading  11.8 MB/29.09 MB\r",
       "\u001b[1B\u001b[12A\u001b[2K\r",
       "6a722742375f: Downloading 16.92 MB/19.19 MB\r",
       "\u001b[12B\u001b[1A\u001b[2K\r",
       "6d68779a89a6: Downloading 12.09 MB/29.09 MB\r",
       "\u001b[1B\u001b[12A\u001b[2K\r",
       "6a722742375f: Downloading 17.12 MB/19.19 MB\r",
       "\u001b[12B\u001b[12A\u001b[2K\r",
       "6a722742375f: Downloading 17.32 MB/19.19 MB\r",
       "\u001b[12B\u001b[1A\u001b[2K\r",
       "6d68779a89a6: Downloading 12.39 MB/29.09 MB\r",
       "\u001b[1B\u001b[12A\u001b[2K\r",
       "6a722742375f: Downloading 17.51 MB/19.19 MB\r",
       "\u001b[12B\u001b[1A\u001b[2K\r",
       "6d68779a89a6: Downloading 12.68 MB/29.09 MB\r",
       "\u001b[1B\u001b[12A\u001b[2K\r",
       "6a722742375f: Downloading 17.71 MB/19.19 MB\r",
       "\u001b[12B\u001b[12A\u001b[2K\r",
       "6a722742375f: Downloading 17.91 MB/19.19 MB\r",
       "\u001b[12B\u001b[1A\u001b[2K\r",
       "6d68779a89a6: Downloading 12.98 MB/29.09 MB\r",
       "\u001b[1B\u001b[12A\u001b[2K\r",
       "6a722742375f: Downloading  18.1 MB/19.19 MB\r",
       "\u001b[12B\u001b[1A\u001b[2K\r",
       "6d68779a89a6: Downloading 13.27 MB/29.09 MB\r",
       "\u001b[1B\u001b[12A\u001b[2K\r",
       "6a722742375f: Downloading  18.3 MB/19.19 MB\r",
       "\u001b[12B\u001b[12A\u001b[2K\r",
       "6a722742375f: Downloading  18.5 MB/19.19 MB\r",
       "\u001b[12B\u001b[1A\u001b[2K\r",
       "6d68779a89a6: Downloading 13.57 MB/29.09 MB\r",
       "\u001b[1B\u001b[12A\u001b[2K\r",
       "6a722742375f: Downloading 18.69 MB/19.19 MB\r",
       "\u001b[12B\u001b[1A\u001b[2K\r",
       "6d68779a89a6: Downloading 13.86 MB/29.09 MB\r",
       "\u001b[1B\u001b[12A\u001b[2K\r",
       "6a722742375f: Downloading 18.89 MB/19.19 MB\r",
       "\u001b[12B\u001b[12A\u001b[2K\r",
       "6a722742375f: Downloading 19.09 MB/19.19 MB\r",
       "\u001b[12B\u001b[1A\u001b[2K\r",
       "6d68779a89a6: Downloading 14.15 MB/29.09 MB\r",
       "\u001b[1B\u001b[12A\u001b[2K\r",
       "6a722742375f: Verifying Checksum \r",
       "\u001b[12B\u001b[12A\u001b[2K\r",
       "6a722742375f: Download complete \r",
       "\u001b[12B\u001b[12A\u001b[2K\r",
       "6a722742375f: Extracting 196.6 kB/19.19 MB\r",
       "\u001b[12B\u001b[12A\u001b[2K\r",
       "6a722742375f: Extracting 2.359 MB/19.19 MB\r",
       "\u001b[12B\u001b[12A\u001b[2K\r",
       "6a722742375f: Extracting 4.522 MB/19.19 MB\r",
       "\u001b[12B\u001b[12A\u001b[2K\r",
       "6a722742375f: Extracting 6.685 MB/19.19 MB\r",
       "\u001b[12B\u001b[12A\u001b[2K\r",
       "6a722742375f: Extracting 8.651 MB/19.19 MB\r",
       "\u001b[12B\u001b[12A\u001b[2K\r",
       "6a722742375f: Extracting 10.81 MB/19.19 MB\r",
       "\u001b[12B\u001b[12A\u001b[2K\r",
       "6a722742375f: Extracting 12.98 MB/19.19 MB\r",
       "\u001b[12B\u001b[12A\u001b[2K\r",
       "6a722742375f: Extracting 14.55 MB/19.19 MB\r",
       "\u001b[12B\u001b[12A\u001b[2K\r",
       "6a722742375f: Extracting 15.53 MB/19.19 MB\r",
       "\u001b[12B\u001b[12A\u001b[2K\r",
       "6a722742375f: Extracting 16.12 MB/19.19 MB\r",
       "\u001b[12B\u001b[12A\u001b[2K\r",
       "6a722742375f: Extracting 16.52 MB/19.19 MB\r",
       "\u001b[12B\u001b[12A\u001b[2K\r",
       "6a722742375f: Extracting  17.3 MB/19.19 MB\r",
       "\u001b[12B\u001b[12A\u001b[2K\r",
       "6a722742375f: Extracting 18.09 MB/19.19 MB\r",
       "\u001b[12B\u001b[1A\u001b[2K\r",
       "6d68779a89a6: Downloading 14.45 MB/29.09 MB\r",
       "\u001b[1B\u001b[12A\u001b[2K\r",
       "6a722742375f: Extracting 18.87 MB/19.19 MB\r",
       "\u001b[12B\u001b[12A\u001b[2K\r",
       "6a722742375f: Extracting 19.19 MB/19.19 MB\r",
       "\u001b[12B\u001b[12A\u001b[2K\r",
       "6a722742375f: Pull complete \r",
       "\u001b[12B\u001b[11A\u001b[2K\r",
       "7e9d2f284de4: Extracting 32.77 kB/939.2 kB\r",
       "\u001b[11B\u001b[11A\u001b[2K\r",
       "7e9d2f284de4: Extracting 786.4 kB/939.2 kB\r",
       "\u001b[11B\u001b[11A\u001b[2K\r",
       "7e9d2f284de4: Extracting 939.2 kB/939.2 kB\r",
       "\u001b[11B\u001b[11A\u001b[2K\r",
       "7e9d2f284de4: Extracting 939.2 kB/939.2 kB\r",
       "\u001b[11B\u001b[11A\u001b[2K\r",
       "7e9d2f284de4: Pull complete \r",
       "\u001b[11B\u001b[10A\u001b[2K\r",
       "a8a42e9e643e: Extracting     92 B/92 B\r",
       "\u001b[10B\u001b[10A\u001b[2K\r",
       "a8a42e9e643e: Extracting     92 B/92 B\r",
       "\u001b[10B\u001b[10A\u001b[2K\r",
       "a8a42e9e643e: Pull complete \r",
       "\u001b[10B\u001b[9A\u001b[2K\r",
       "878a9d1427c8: Extracting 1.215 kB/1.215 kB\r",
       "\u001b[9B\u001b[9A\u001b[2K\r",
       "878a9d1427c8: Extracting 1.215 kB/1.215 kB\r",
       "\u001b[9B\u001b[9A\u001b[2K\r",
       "878a9d1427c8: Pull complete \r",
       "\u001b[9B\u001b[8A\u001b[2K\r",
       "359b0ab8ecf6: Extracting 32.77 kB/344.3 kB\r",
       "\u001b[8B\u001b[8A\u001b[2K\r",
       "359b0ab8ecf6: Extracting 344.3 kB/344.3 kB\r",
       "\u001b[8B\u001b[8A\u001b[2K\r",
       "359b0ab8ecf6: Extracting 344.3 kB/344.3 kB\r",
       "\u001b[8B\u001b[8A\u001b[2K\r",
       "359b0ab8ecf6: Pull complete \r",
       "\u001b[8B\u001b[7A\u001b[2K\r",
       "729f75167658: Extracting    268 B/268 B\r",
       "\u001b[7B\u001b[7A\u001b[2K\r",
       "729f75167658: Extracting    268 B/268 B\r",
       "\u001b[7B\u001b[7A\u001b[2K\r",
       "729f75167658: Pull complete \r",
       "\u001b[7B\u001b[6A\u001b[2K\r",
       "79480eea7db6: Extracting 1.131 kB/1.131 kB\r",
       "\u001b[6B\u001b[6A\u001b[2K\r",
       "79480eea7db6: Extracting 1.131 kB/1.131 kB\r",
       "\u001b[6B\u001b[6A\u001b[2K\r",
       "79480eea7db6: Pull complete \r",
       "\u001b[6B\u001b[5A\u001b[2K\r",
       "bf0619dda43d: Extracting 1.118 kB/1.118 kB\r",
       "\u001b[5B\u001b[5A\u001b[2K\r",
       "bf0619dda43d: Extracting 1.118 kB/1.118 kB\r",
       "\u001b[5B\u001b[5A\u001b[2K\r",
       "bf0619dda43d: Pull complete \r",
       "\u001b[5B\u001b[4A\u001b[2K\r",
       "05c9186b144e: Extracting    226 B/226 B\r",
       "\u001b[4B\u001b[4A\u001b[2K\r",
       "05c9186b144e: Extracting    226 B/226 B\r",
       "\u001b[4B\u001b[4A\u001b[2K\r",
       "05c9186b144e: Pull complete \r",
       "\u001b[4B\u001b[3A\u001b[2K\r",
       "2d60f6bedc5e: Extracting 32.77 kB/579.9 kB\r",
       "\u001b[3B\u001b[3A\u001b[2K\r",
       "2d60f6bedc5e: Extracting 579.9 kB/579.9 kB\r",
       "\u001b[3B\u001b[3A\u001b[2K\r",
       "2d60f6bedc5e: Extracting 579.9 kB/579.9 kB\r",
       "\u001b[3B\u001b[3A\u001b[2K\r",
       "2d60f6bedc5e: Pull complete \r",
       "\u001b[3B\u001b[2A\u001b[2K\r",
       "9e0f566a8873: Extracting    889 B/889 B\r",
       "\u001b[2B\u001b[2A\u001b[2K\r",
       "9e0f566a8873: Extracting    889 B/889 B\r",
       "\u001b[2B\u001b[2A\u001b[2K\r",
       "9e0f566a8873: Pull complete \r",
       "\u001b[2B\u001b[1A\u001b[2K\r",
       "6d68779a89a6: Downloading 14.74 MB/29.09 MB\r",
       "\u001b[1B\u001b[1A\u001b[2K\r",
       "6d68779a89a6: Downloading 15.04 MB/29.09 MB\r",
       "\u001b[1B\u001b[1A\u001b[2K\r",
       "6d68779a89a6: Downloading 15.33 MB/29.09 MB\r",
       "\u001b[1B\u001b[1A\u001b[2K\r",
       "6d68779a89a6: Downloading 15.63 MB/29.09 MB\r",
       "\u001b[1B\u001b[1A\u001b[2K\r",
       "6d68779a89a6: Downloading 15.92 MB/29.09 MB\r",
       "\u001b[1B\u001b[1A\u001b[2K\r",
       "6d68779a89a6: Downloading 16.22 MB/29.09 MB\r",
       "\u001b[1B\u001b[1A\u001b[2K\r",
       "6d68779a89a6: Downloading 16.51 MB/29.09 MB\r",
       "\u001b[1B\u001b[1A\u001b[2K\r",
       "6d68779a89a6: Downloading 16.81 MB/29.09 MB\r",
       "\u001b[1B\u001b[1A\u001b[2K\r",
       "6d68779a89a6: Downloading  17.1 MB/29.09 MB\r",
       "\u001b[1B\u001b[1A\u001b[2K\r",
       "6d68779a89a6: Downloading  17.4 MB/29.09 MB\r",
       "\u001b[1B\u001b[1A\u001b[2K\r",
       "6d68779a89a6: Downloading 17.69 MB/29.09 MB\r",
       "\u001b[1B\u001b[1A\u001b[2K\r",
       "6d68779a89a6: Downloading 17.99 MB/29.09 MB\r",
       "\u001b[1B\u001b[1A\u001b[2K\r",
       "6d68779a89a6: Downloading 18.28 MB/29.09 MB\r",
       "\u001b[1B\u001b[1A\u001b[2K\r",
       "6d68779a89a6: Downloading 18.58 MB/29.09 MB\r",
       "\u001b[1B\u001b[1A\u001b[2K\r",
       "6d68779a89a6: Downloading 18.87 MB/29.09 MB\r",
       "\u001b[1B\u001b[1A\u001b[2K\r",
       "6d68779a89a6: Downloading 19.17 MB/29.09 MB\r",
       "\u001b[1B\u001b[1A\u001b[2K\r",
       "6d68779a89a6: Downloading 19.46 MB/29.09 MB\r",
       "\u001b[1B\u001b[1A\u001b[2K\r",
       "6d68779a89a6: Downloading 19.76 MB/29.09 MB\r",
       "\u001b[1B\u001b[1A\u001b[2K\r",
       "6d68779a89a6: Downloading 20.05 MB/29.09 MB\r",
       "\u001b[1B\u001b[1A\u001b[2K\r",
       "6d68779a89a6: Downloading 20.35 MB/29.09 MB\r",
       "\u001b[1B\u001b[1A\u001b[2K\r",
       "6d68779a89a6: Downloading 20.64 MB/29.09 MB\r",
       "\u001b[1B\u001b[1A\u001b[2K\r",
       "6d68779a89a6: Downloading 20.94 MB/29.09 MB\r",
       "\u001b[1B\u001b[1A\u001b[2K\r",
       "6d68779a89a6: Downloading 21.23 MB/29.09 MB\r",
       "\u001b[1B\u001b[1A\u001b[2K\r",
       "6d68779a89a6: Downloading 21.53 MB/29.09 MB\r",
       "\u001b[1B\u001b[1A\u001b[2K\r",
       "6d68779a89a6: Downloading 21.82 MB/29.09 MB\r",
       "\u001b[1B\u001b[1A\u001b[2K\r",
       "6d68779a89a6: Downloading 22.12 MB/29.09 MB\r",
       "\u001b[1B\u001b[1A\u001b[2K\r",
       "6d68779a89a6: Downloading 22.41 MB/29.09 MB\r",
       "\u001b[1B\u001b[1A\u001b[2K\r",
       "6d68779a89a6: Downloading 22.71 MB/29.09 MB\r",
       "\u001b[1B\u001b[1A\u001b[2K\r",
       "6d68779a89a6: Downloading    23 MB/29.09 MB\r",
       "\u001b[1B\u001b[1A\u001b[2K\r",
       "6d68779a89a6: Downloading  23.3 MB/29.09 MB\r",
       "\u001b[1B\u001b[1A\u001b[2K\r",
       "6d68779a89a6: Downloading 23.59 MB/29.09 MB\r",
       "\u001b[1B\u001b[1A\u001b[2K\r",
       "6d68779a89a6: Downloading 23.89 MB/29.09 MB\r",
       "\u001b[1B\u001b[1A\u001b[2K\r",
       "6d68779a89a6: Downloading 24.18 MB/29.09 MB\r",
       "\u001b[1B\u001b[1A\u001b[2K\r",
       "6d68779a89a6: Downloading 24.48 MB/29.09 MB\r",
       "\u001b[1B\u001b[1A\u001b[2K\r",
       "6d68779a89a6: Downloading 24.77 MB/29.09 MB\r",
       "\u001b[1B\u001b[1A\u001b[2K\r",
       "6d68779a89a6: Downloading 25.07 MB/29.09 MB\r",
       "\u001b[1B\u001b[1A\u001b[2K\r",
       "6d68779a89a6: Downloading 25.36 MB/29.09 MB\r",
       "\u001b[1B\u001b[1A\u001b[2K\r",
       "6d68779a89a6: Downloading 25.66 MB/29.09 MB\r",
       "\u001b[1B\u001b[1A\u001b[2K\r",
       "6d68779a89a6: Downloading 25.95 MB/29.09 MB\r",
       "\u001b[1B\u001b[1A\u001b[2K\r",
       "6d68779a89a6: Downloading 26.25 MB/29.09 MB\r",
       "\u001b[1B\u001b[1A\u001b[2K\r",
       "6d68779a89a6: Downloading 26.54 MB/29.09 MB\r",
       "\u001b[1B\u001b[1A\u001b[2K\r",
       "6d68779a89a6: Downloading 26.84 MB/29.09 MB\r",
       "\u001b[1B\u001b[1A\u001b[2K\r",
       "6d68779a89a6: Downloading 27.13 MB/29.09 MB\r",
       "\u001b[1B\u001b[1A\u001b[2K\r",
       "6d68779a89a6: Downloading 27.43 MB/29.09 MB\r",
       "\u001b[1B\u001b[1A\u001b[2K\r",
       "6d68779a89a6: Downloading 27.72 MB/29.09 MB\r",
       "\u001b[1B\u001b[1A\u001b[2K\r",
       "6d68779a89a6: Downloading 28.02 MB/29.09 MB\r",
       "\u001b[1B\u001b[1A\u001b[2K\r",
       "6d68779a89a6: Downloading 28.31 MB/29.09 MB\r",
       "\u001b[1B\u001b[1A\u001b[2K\r",
       "6d68779a89a6: Downloading 28.61 MB/29.09 MB\r",
       "\u001b[1B\u001b[1A\u001b[2K\r",
       "6d68779a89a6: Downloading  28.9 MB/29.09 MB\r",
       "\u001b[1B\u001b[1A\u001b[2K\r",
       "6d68779a89a6: Verifying Checksum \r",
       "\u001b[1B\u001b[1A\u001b[2K\r",
       "6d68779a89a6: Download complete \r",
       "\u001b[1B\u001b[1A\u001b[2K\r",
       "6d68779a89a6: Extracting 294.9 kB/29.09 MB\r",
       "\u001b[1B\u001b[1A\u001b[2K\r",
       "6d68779a89a6: Extracting 884.7 kB/29.09 MB\r",
       "\u001b[1B\u001b[1A\u001b[2K\r",
       "6d68779a89a6: Extracting 2.064 MB/29.09 MB\r",
       "\u001b[1B\u001b[1A\u001b[2K\r",
       "6d68779a89a6: Extracting 2.949 MB/29.09 MB\r",
       "\u001b[1B\u001b[1A\u001b[2K\r",
       "6d68779a89a6: Extracting 3.834 MB/29.09 MB\r",
       "\u001b[1B\u001b[1A\u001b[2K\r",
       "6d68779a89a6: Extracting 4.424 MB/29.09 MB\r",
       "\u001b[1B\u001b[1A\u001b[2K\r",
       "6d68779a89a6: Extracting 5.014 MB/29.09 MB\r",
       "\u001b[1B\u001b[1A\u001b[2K\r",
       "6d68779a89a6: Extracting 5.308 MB/29.09 MB\r",
       "\u001b[1B\u001b[1A\u001b[2K\r",
       "6d68779a89a6: Extracting 5.898 MB/29.09 MB\r",
       "\u001b[1B\u001b[1A\u001b[2K\r",
       "6d68779a89a6: Extracting 6.783 MB/29.09 MB\r",
       "\u001b[1B\u001b[1A\u001b[2K\r",
       "6d68779a89a6: Extracting 7.373 MB/29.09 MB\r",
       "\u001b[1B\u001b[1A\u001b[2K\r",
       "6d68779a89a6: Extracting 8.258 MB/29.09 MB\r",
       "\u001b[1B\u001b[1A\u001b[2K\r",
       "6d68779a89a6: Extracting 8.552 MB/29.09 MB\r",
       "\u001b[1B\u001b[1A\u001b[2K\r",
       "6d68779a89a6: Extracting 9.142 MB/29.09 MB\r",
       "\u001b[1B\u001b[1A\u001b[2K\r",
       "6d68779a89a6: Extracting 9.732 MB/29.09 MB\r",
       "\u001b[1B\u001b[1A\u001b[2K\r",
       "6d68779a89a6: Extracting 10.32 MB/29.09 MB\r",
       "\u001b[1B\u001b[1A\u001b[2K\r",
       "6d68779a89a6: Extracting 11.21 MB/29.09 MB\r",
       "\u001b[1B\u001b[1A\u001b[2K\r",
       "6d68779a89a6: Extracting 12.09 MB/29.09 MB\r",
       "\u001b[1B\u001b[1A\u001b[2K\r",
       "6d68779a89a6: Extracting 12.68 MB/29.09 MB\r",
       "\u001b[1B\u001b[1A\u001b[2K\r",
       "6d68779a89a6: Extracting 13.86 MB/29.09 MB\r",
       "\u001b[1B\u001b[1A\u001b[2K\r",
       "6d68779a89a6: Extracting 18.58 MB/29.09 MB\r",
       "\u001b[1B\u001b[1A\u001b[2K\r",
       "6d68779a89a6: Extracting 21.82 MB/29.09 MB\r",
       "\u001b[1B\u001b[1A\u001b[2K\r",
       "6d68779a89a6: Extracting 24.48 MB/29.09 MB\r",
       "\u001b[1B\u001b[1A\u001b[2K\r",
       "6d68779a89a6: Extracting 26.25 MB/29.09 MB\r",
       "\u001b[1B\u001b[1A\u001b[2K\r",
       "6d68779a89a6: Extracting 28.02 MB/29.09 MB\r",
       "\u001b[1B\u001b[1A\u001b[2K\r",
       "6d68779a89a6: Extracting  28.9 MB/29.09 MB\r",
       "\u001b[1B\u001b[1A\u001b[2K\r",
       "6d68779a89a6: Extracting 29.09 MB/29.09 MB\r",
       "\u001b[1B\u001b[1A\u001b[2K\r",
       "6d68779a89a6: Pull complete \r",
       "\u001b[1BDigest: sha256:3136807ad7b92fddc5eb45689df93c45907bb9047b52f5f5960a9605ed7536d1\r\n",
       "Status: Downloaded newer image for dockersamples/visualizer:latest\r\n",
       "cae2e21a6ff9489ff507a45db82d236324b899c54149799234def72e61f3d0dd"
      ]
     },
     "execution_count": 44,
     "metadata": {},
     "output_type": "execute_result"
    }
   ],
   "source": [
    "docker $(docker-machine config swmaster1) run -it -d -p 7070:8080 -v /var/run/docker.sock:/var/run/docker.sock dockersamples/visualizer"
   ]
  },
  {
   "cell_type": "markdown",
   "metadata": {},
   "source": [
    "we can now connect to the stack at swmaster1:7070"
   ]
  },
  {
   "cell_type": "code",
   "execution_count": 45,
   "metadata": {},
   "outputs": [
    {
     "data": {
      "text/plain": [
       "Connect to http://192.168.99.100:7070"
      ]
     },
     "execution_count": 45,
     "metadata": {},
     "output_type": "execute_result"
    }
   ],
   "source": [
    "MASTERIP=$(docker-machine ip swmaster1)\n",
    "\n",
    "echo \"Connect to http://$MASTERIP:7070\""
   ]
  },
  {
   "cell_type": "markdown",
   "metadata": {},
   "source": [
    "You should see something like this\n",
    "\n",
    "![](images/visualizer.png)"
   ]
  },
  {
   "cell_type": "code",
   "execution_count": 51,
   "metadata": {},
   "outputs": [
    {
     "data": {
      "text/plain": [
       "CONTAINER ID        IMAGE                           COMMAND                  CREATED             STATUS                   PORTS                    NAMES\r\n",
       "cae2e21a6ff9        dockersamples/visualizer        \"npm start\"              5 minutes ago       Up 5 minutes (healthy)   0.0.0.0:7070->8080/tcp   goofy_fermi\r\n",
       "12c3253112b9        functions/nodeinfo:latest       \"fwatchdog\"              8 minutes ago       Up 8 minutes (healthy)                            func_nodeinfo.1.k427lc7b38vgx9nqy7mnyafxv\r\n",
       "3b980dabbabb        functions/alpine:health         \"fwatchdog\"              8 minutes ago       Up 8 minutes (healthy)                            func_base64.1.utuqkr6vm69jmvqhhz046fp3r\r\n",
       "3347b5eaa594        functions/prometheus:latest     \"/bin/prometheus -...\"   9 minutes ago       Up 9 minutes             9090/tcp                 func_prometheus.1.r1xft54pyq3j5cdg1qy3vuq7c\r\n",
       "8cfc6e3371cd        functions/webhookstash:latest   \"fwatchdog\"              9 minutes ago       Up 9 minutes (healthy)   8080/tcp                 func_webhookstash.1.i2v9d09pxki9qmba0kz613tbj\r\n",
       "3929200e8c6a        functions/alertmanager:latest   \"/bin/alertmanager...\"   9 minutes ago       Up 9 minutes             9093/tcp                 func_alertmanager.1.ratkx0jj7ycxruko96arb1hk0\r\n",
       "53ba1dbe122c        functions/gateway:0.6.1         \"./gateway\"              11 minutes ago      Up 11 minutes            8080/tcp                 func_gateway.1.04bodba2for1xw1lbwzpuzl50"
      ]
     },
     "execution_count": 51,
     "metadata": {},
     "output_type": "execute_result"
    }
   ],
   "source": [
    "docker $(docker-machine config swmaster1) ps"
   ]
  },
  {
   "cell_type": "code",
   "execution_count": null,
   "metadata": {
    "collapsed": true
   },
   "outputs": [],
   "source": [
    "docker $(docker-machine config swnode1) ps"
   ]
  },
  {
   "cell_type": "code",
   "execution_count": 53,
   "metadata": {},
   "outputs": [
    {
     "data": {
      "text/plain": [
       "CONTAINER ID        IMAGE                                   COMMAND                CREATED             STATUS                    PORTS               NAMES\r\n",
       "aca89e7c16bb        alexellis2/faas-dockerhubstats:latest   \"/usr/bin/fwatchdog\"   5 minutes ago       Up 5 minutes                                  func_hubstats.1.3q4f3en9pytsqb84xsixkmko0\r\n",
       "dccd9d7bb8a9        alexellis2/faas-markdownrender:latest   \"fwatchdog\"            11 minutes ago      Up 11 minutes             8080/tcp            func_markdown.1.o6mb49suwzpb4dwioqxi0akl9\r\n",
       "32b48783aa8d        functions/alpine:health                 \"fwatchdog\"            11 minutes ago      Up 11 minutes (healthy)                       func_decodebase64.1.hrtugjv0j6wi0r50w9j0bishl\r\n",
       "52e917b6ed55        functions/alpine:health                 \"fwatchdog\"            11 minutes ago      Up 11 minutes (healthy)                       func_echoit.1.or0dk7g02swe37q3kfudap2xb\r\n",
       "21e0ae962efe        functions/alpine:health                 \"fwatchdog\"            11 minutes ago      Up 11 minutes (healthy)                       func_wordcount.1.j2w6pumygv9hf07jh358nbvc2"
      ]
     },
     "execution_count": 53,
     "metadata": {},
     "output_type": "execute_result"
    }
   ],
   "source": [
    "docker $(docker-machine config swnode2) ps"
   ]
  },
  {
   "cell_type": "code",
   "execution_count": 47,
   "metadata": {},
   "outputs": [
    {
     "data": {
      "text/plain": [
       "ID:\t\t\t21m2hzus2bqe7y81hkstiyeo4\r\n",
       "Labels:\r\n",
       "Hostname:\t\tswnode1\r\n",
       "Joined at:\t\t2017-10-25 07:30:51.61060573 +0000 utc\r\n",
       "Status:\r\n",
       " State:\t\t\tReady\r\n",
       " Availability:\t\tDrain\r\n",
       " Address:\t\t192.168.99.101\r\n",
       "Platform:\r\n",
       " Operating System:\tlinux\r\n",
       " Architecture:\t\tx86_64\r\n",
       "Resources:\r\n",
       " CPUs:\t\t\t1\r\n",
       " Memory:\t\t995.8 MiB\r\n",
       "Plugins:\r\n",
       "  Log:\t\tawslogs, fluentd, gcplogs, gelf, journald, json-file, logentries, splunk, syslog\r\n",
       "  Network:\t\tbridge, host, macvlan, null, overlay\r\n",
       "  Volume:\t\tlocal\r\n",
       "Engine Version:\t\t17.10.0-ce\r\n",
       "Engine Labels:\r\n",
       " - provider = virtualbox"
      ]
     },
     "execution_count": 47,
     "metadata": {},
     "output_type": "execute_result"
    }
   ],
   "source": [
    "docker node inspect --pretty swnode1\n"
   ]
  },
  {
   "cell_type": "code",
   "execution_count": 48,
   "metadata": {},
   "outputs": [
    {
     "data": {
      "text/plain": [
       "swnode1"
      ]
     },
     "execution_count": 48,
     "metadata": {},
     "output_type": "execute_result"
    }
   ],
   "source": [
    "docker node update --availability active swnode1"
   ]
  },
  {
   "cell_type": "code",
   "execution_count": 49,
   "metadata": {},
   "outputs": [
    {
     "data": {
      "text/plain": [
       "ID:\t\t\t21m2hzus2bqe7y81hkstiyeo4\r\n",
       "Labels:\r\n",
       "Hostname:\t\tswnode1\r\n",
       "Joined at:\t\t2017-10-25 07:30:51.61060573 +0000 utc\r\n",
       "Status:\r\n",
       " State:\t\t\tReady\r\n",
       " Availability:\t\tActive\r\n",
       " Address:\t\t192.168.99.101\r\n",
       "Platform:\r\n",
       " Operating System:\tlinux\r\n",
       " Architecture:\t\tx86_64\r\n",
       "Resources:\r\n",
       " CPUs:\t\t\t1\r\n",
       " Memory:\t\t995.8 MiB\r\n",
       "Plugins:\r\n",
       "  Log:\t\tawslogs, fluentd, gcplogs, gelf, journald, json-file, logentries, splunk, syslog\r\n",
       "  Network:\t\tbridge, host, macvlan, null, overlay\r\n",
       "  Volume:\t\tlocal\r\n",
       "Engine Version:\t\t17.10.0-ce\r\n",
       "Engine Labels:\r\n",
       " - provider = virtualbox"
      ]
     },
     "execution_count": 49,
     "metadata": {},
     "output_type": "execute_result"
    }
   ],
   "source": [
    "docker node inspect --pretty swnode1\n"
   ]
  },
  {
   "cell_type": "code",
   "execution_count": 50,
   "metadata": {},
   "outputs": [
    {
     "data": {
      "text/plain": [
       "CONTAINER ID        IMAGE               COMMAND             CREATED             STATUS              PORTS               NAMES"
      ]
     },
     "execution_count": 50,
     "metadata": {},
     "output_type": "execute_result"
    }
   ],
   "source": [
    "docker $(docker-machine config swnode1) ps"
   ]
  },
  {
   "cell_type": "code",
   "execution_count": 66,
   "metadata": {},
   "outputs": [
    {
     "name": "stdout",
     "output_type": "stream",
     "text": [
      "Started at Wed May 17 19:05:14 CEST 2017   [1495040345]\n",
      "Ended   at Wed May 17 19:05:14 CEST 2017   [1495040714]\n",
      "Took 369 secs [0h06m09]\n"
     ]
    }
   ],
   "source": [
    "NB_time_taken"
   ]
  }
 ],
 "metadata": {
  "anaconda-cloud": {},
  "kernelspec": {
   "display_name": "Bash",
   "language": "bash",
   "name": "bash"
  },
  "language_info": {
   "codemirror_mode": "shell",
   "file_extension": ".sh",
   "mimetype": "text/x-sh",
   "name": "bash"
  }
 },
 "nbformat": 4,
 "nbformat_minor": 1
}
