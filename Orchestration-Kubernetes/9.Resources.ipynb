{
 "cells": [
  {
   "cell_type": "markdown",
   "metadata": {
    "slideshow": {
     "slide_type": "skip"
    }
   },
   "source": [
    "[INDEX](Kubernetes.ipynb)      \"This is the end, my only friend the end ....\""
   ]
  },
  {
   "cell_type": "markdown",
   "metadata": {
    "slideshow": {
     "slide_type": "slide"
    }
   },
   "source": [
    "<img align=\"left\" src=\"https://avatars1.githubusercontent.com/u/13629408?s=400&v=4\" width=\"60\" />\n",
    "## 9. Resources\n",
    "<!-- <br/><br/> There are many amazing resources available to learn about using Kubernetes -->\n",
    "## Documentation\n",
    "- [kubernetes.io](https://kubernetes.io)\n",
    "- [Awesome-Kubernetes](https://github.com/ramitsurana/awesome-kubernetes)\n",
    "- [Wikipedia](https://en.wikipedia.org/wiki/Kubernetes)\n",
    "- [2016 ACM Paper on Borg, Omega and Kubernetes](https://cacm.acm.org/magazines/2016/5/201605-borg-omega-and-kubernetes/fulltext)\"\n",
    "\n",
    "<br/><table align=\"right\" style='font-family:\"Courier New\", Courier, monospace; font-size:100%; bottom:0px;'>\n",
    "    <tr><td bgcolor=\"#ffffff\" color=\"#ffffff\"></td><td bgcolor=\"#ffffff\" color=\"#ffffff\"> <img src=\"http://www.icon100.com/up/3011/128/Twitter-alt.png\" width=\"40\"> </td><td bgcolor=\"#ffffff\" color=\"#ffffff\" > @containous </td></tr></table>"
   ]
  },
  {
   "cell_type": "markdown",
   "metadata": {
    "slideshow": {
     "slide_type": "slide"
    }
   },
   "source": [
    "## Tutorials\n",
    "- [Referenced Tutorials](https://kubernetes.io/docs/tutorials/)\n",
    "- [Kubernetes Basics Tutorial](https://kubernetes.io/docs/tutorials/kubernetes-basics/): Easy interactive tutorial\n",
    "- [Kubernetes by Example](http://kubernetesbyexample.com/): Examples of main Kubernetes concepts\n",
    "- [Kubernetes the Hard Way](https://github.com/kelseyhightower/kubernetes-the-hard-way): Advanced, manual cluster creation\n",
    "\n",
    "<br/><table align=\"right\" style='font-family:\"Courier New\", Courier, monospace; font-size:100%; bottom:0px;'>\n",
    "    <tr><td bgcolor=\"#ffffff\" color=\"#ffffff\"></td><td bgcolor=\"#ffffff\" color=\"#ffffff\"> <img src=\"http://www.icon100.com/up/3011/128/Twitter-alt.png\" width=\"40\"> </td><td bgcolor=\"#ffffff\" color=\"#ffffff\" > @containous </td></tr></table>\n",
    "    \n",
    "    \n",
    "    \n",
    "    \n",
    "    \n",
    "    "
   ]
  },
  {
   "cell_type": "markdown",
   "metadata": {
    "slideshow": {
     "slide_type": "slide"
    }
   },
   "source": [
    "## Blogs / Posts\n",
    "- [Kubernetes Blog](http://blog.kubernetes.io/)\n",
    "- [NodePort vs LoadBalancer vs Ingress](https://medium.com/google-cloud/kubernetes-nodeport-vs-loadbalancer-vs-ingress-when-should-i-use-what-922f010849e0)\n",
    "\n",
    "\n",
    "\n",
    "<br/><table align=\"right\" style='font-family:\"Courier New\", Courier, monospace; font-size:100%; bottom:0px;'>\n",
    "    <tr><td bgcolor=\"#ffffff\" color=\"#ffffff\"></td><td bgcolor=\"#ffffff\" color=\"#ffffff\"> <img src=\"http://www.icon100.com/up/3011/128/Twitter-alt.png\" width=\"40\"> </td><td bgcolor=\"#ffffff\" color=\"#ffffff\" > @containous </td></tr></table>\n",
    "    \n",
    "    \n",
    "    \n",
    "    \n",
    "    \n",
    "    "
   ]
  },
  {
   "cell_type": "markdown",
   "metadata": {
    "slideshow": {
     "slide_type": "slide"
    }
   },
   "source": [
    "## News\n",
    "- TO ADD: Michael Hausenblas' newsletter\n",
    "- TO ADD: Kube Weekly?\n",
    "\n",
    "\n",
    "\n",
    "<br/><table align=\"right\" style='font-family:\"Courier New\", Courier, monospace; font-size:100%; bottom:0px;'>\n",
    "    <tr><td bgcolor=\"#ffffff\" color=\"#ffffff\"></td><td bgcolor=\"#ffffff\" color=\"#ffffff\"> <img src=\"http://www.icon100.com/up/3011/128/Twitter-alt.png\" width=\"40\"> </td><td bgcolor=\"#ffffff\" color=\"#ffffff\" > @containous </td></tr></table>\n",
    "    \n",
    "    \n",
    "    \n",
    "    \n",
    "    \n",
    "    "
   ]
  },
  {
   "cell_type": "markdown",
   "metadata": {
    "slideshow": {
     "slide_type": "slide"
    }
   },
   "source": [
    "## Tutorials\n",
    "- [Referenced Tutorials](https://kubernetes.io/docs/tutorials/)\n",
    "- [Kubernetes Basics Tutorial](https://kubernetes.io/docs/tutorials/kubernetes-basics/): Easy interactive tutorial\n",
    "- [Kubernetes by Example](http://kubernetesbyexample.com/): Examples of main Kubernetes concepts\n",
    "- [Kubernetes the Hard Way](https://github.com/kelseyhightower/kubernetes-the-hard-way): Advanced, manual cluster creation\n",
    "- [NodePort vs LoadBalancer vs Ingress](https://medium.com/google-cloud/kubernetes-nodeport-vs-loadbalancer-vs-ingress-when-should-i-use-what-922f010849e0)\n",
    "\n",
    "<br/><table align=\"right\" style='font-family:\"Courier New\", Courier, monospace; font-size:100%; bottom:0px;'>\n",
    "    <tr><td bgcolor=\"#ffffff\" color=\"#ffffff\"></td><td bgcolor=\"#ffffff\" color=\"#ffffff\"> <img src=\"http://www.icon100.com/up/3011/128/Twitter-alt.png\" width=\"40\"> </td><td bgcolor=\"#ffffff\" color=\"#ffffff\" > @containous </td></tr></table>\n",
    "    \n",
    "    \n",
    "    \n",
    "    \n",
    "    \n",
    "    "
   ]
  },
  {
   "cell_type": "markdown",
   "metadata": {
    "slideshow": {
     "slide_type": "slide"
    }
   },
   "source": [
    "## Books\n",
    "- Manning: [Kubernetes in Action](https://www.manning.com/books/kubernetes-in-action) - excellent book by Marko Lukša\n",
    "- O'Reilly: [Kubernetes Cookbook](http://shop.oreilly.com/product/0636920064947.do) - Michael Hausenblas, Sébastien Goasguen\n",
    "- O'Reilly: [Kubernetes Up & Running](http://shop.oreilly.com/product/0636920043874.do) - Brendan Burns, Kelsey Hightower, Joe Beda\n",
    "- LeanPub: [The DevOps 2.3 Toolkit: Kubernetes](https://leanpub.com/the-devops-2-3-toolkit) - Viktor Farcic\n",
    "\n",
    "\n",
    "## Social Networking\n",
    "- Kubernetes Slack Channel [slack.k8s.io](http://slack.k8s.io/)\n",
    "\n",
    "<br/><table align=\"right\" style='font-family:\"Courier New\", Courier, monospace; font-size:100%; bottom:0px;'>\n",
    "    <tr><td bgcolor=\"#ffffff\" color=\"#ffffff\"></td><td bgcolor=\"#ffffff\" color=\"#ffffff\"> <img src=\"http://www.icon100.com/up/3011/128/Twitter-alt.png\" width=\"40\"> </td><td bgcolor=\"#ffffff\" color=\"#ffffff\" > @containous </td></tr></table>"
   ]
  },
  {
   "cell_type": "markdown",
   "metadata": {
    "slideshow": {
     "slide_type": "slide"
    }
   },
   "source": [
    "## Tools\n",
    "- Kubectl [Install](https://kubernetes.io/docs/tasks/tools/install-kubectl/) - official command-line client\n",
    "- Kubeadm [Install](https://kubernetes.io/docs/setup/independent/install-kubeadm/) - Command-line tool for building Kubernetes clusters\n",
    "- Minikube [Download](https://github.com/kubernetes/minikube/releases) - Creates a single-node Kubernetes cluster as a VM\n",
    "- Minishift [Download](https://github.com/minishift/minishift/releases) - Similar to Minikube, creates an OpenShift node\n",
    "\n",
    "## Source Code\n",
    "- Kubernetes [github repo](https://github.com/kubernetes/kubernetes)\n",
    "\n",
    "<br/><table align=\"right\" style='font-family:\"Courier New\", Courier, monospace; font-size:100%; bottom:0px;'>\n",
    "    <tr><td bgcolor=\"#ffffff\" color=\"#ffffff\"></td><td bgcolor=\"#ffffff\" color=\"#ffffff\"> <img src=\"http://www.icon100.com/up/3011/128/Twitter-alt.png\" width=\"40\"> </td><td bgcolor=\"#ffffff\" color=\"#ffffff\" > @containous </td></tr></table>"
   ]
  },
  {
   "cell_type": "markdown",
   "metadata": {
    "slideshow": {
     "slide_type": "slide"
    }
   },
   "source": [
    "[INDEX](Kubernetes.ipynb)       \"This is the end, my only friend the end ....\""
   ]
  }
 ],
 "metadata": {
  "anaconda-cloud": {},
  "celltoolbar": "Slideshow",
  "kernelspec": {
   "display_name": "Bash",
   "language": "bash",
   "name": "bash"
  },
  "language_info": {
   "codemirror_mode": "shell",
   "file_extension": ".sh",
   "mimetype": "text/x-sh",
   "name": "bash"
  }
 },
 "nbformat": 4,
 "nbformat_minor": 1
}
