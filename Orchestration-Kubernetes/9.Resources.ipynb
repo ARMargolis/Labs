{
 "cells": [
  {
   "cell_type": "markdown",
   "metadata": {},
   "source": [
    "\n",
    "# Kubernetes Resources\n",
    "\n",
    "There are many amazing resources available to learn about using Kubernetes\n",
    "\n",
    "## Documentation\n",
    "- [kubernetes.io](https://kubernetes.io)\n",
    "- [Kubernetes Blog](http://blog.kubernetes.io/)\n",
    "- [Awesome-Kubernetes](https://github.com/ramitsurana/awesome-kubernetes)\n",
    "- [Wikipedia](https://en.wikipedia.org/wiki/Kubernetes)\n",
    "- [2016 ACM Paper on Borg, Omega and Kubernetes](https://cacm.acm.org/magazines/2016/5/201605-borg-omega-and-kubernetes/fulltext)\n",
    "\n",
    "## Tutorials\n",
    "- [Referenced Tutorials](https://kubernetes.io/docs/tutorials/)\n",
    "- [Kubernetes Basics Tutorial](https://kubernetes.io/docs/tutorials/kubernetes-basics/): Easy interactive tutorial\n",
    "- [Kubernetes by Example](http://kubernetesbyexample.com/): Examples of main Kubernetes concepts\n",
    "- [Kubernetes the Hard Way](https://github.com/kelseyhightower/kubernetes-the-hard-way): Advanced, manual cluster creation\n",
    "\n",
    "## Books\n",
    "- Manning: [Kubernetes in Action](https://www.manning.com/books/kubernetes-in-action) - excellent book by Marko Lukša\n",
    "- O'Reilly: [Kubernetes Cookbook](http://shop.oreilly.com/product/0636920064947.do) - Michael Hausenblas, Sébastien Goasguen\n",
    "- O'Reilly: [Kubernetes Up & Running](http://shop.oreilly.com/product/0636920043874.do) - Brendan Burns, Kelsey Hightower, Joe Beda\n",
    "\n",
    "\n",
    "## Social Networking\n",
    "- Kubernetes Slack Channel [slack.k8s.io](http://slack.k8s.io/)\n",
    "\n",
    "## Tools\n",
    "- Kubectl [Install](https://kubernetes.io/docs/tasks/tools/install-kubectl/) - official command-line client\n",
    "- Kubeadm [Install](https://kubernetes.io/docs/setup/independent/install-kubeadm/) - Command-line tool for building Kubernetes clusters\n",
    "- Minikube [Download](https://github.com/kubernetes/minikube/releases) - Creates a single-node Kubernetes cluster as a VM\n",
    "- Minishift [Download](https://github.com/minishift/minishift/releases) - Similar to Minikube, creates an OpenShift node\n",
    "\n",
    "## Source Code\n",
    "- Kubernetes [github repo](https://github.com/kubernetes/kubernetes)\n"
   ]
  },
  {
   "cell_type": "code",
   "execution_count": null,
   "metadata": {},
   "outputs": [],
   "source": []
  }
 ],
 "metadata": {
  "anaconda-cloud": {},
  "kernelspec": {
   "display_name": "Bash",
   "language": "bash",
   "name": "bash"
  },
  "language_info": {
   "codemirror_mode": "shell",
   "file_extension": ".sh",
   "mimetype": "text/x-sh",
   "name": "bash"
  }
 },
 "nbformat": 4,
 "nbformat_minor": 1
}
