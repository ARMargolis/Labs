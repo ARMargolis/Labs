{
 "cells": [
  {
   "cell_type": "markdown",
   "metadata": {},
   "source": [
    "# Kubernetes Maintenance Operations\n",
    "\n",
    "## Rolling upgrade of our deployment\n",
    "\n",
    "What happens when we need to provide a new version of our application?\n",
    "\n",
    "We need the platform to handle such upgrades cluster wide automatically.\n",
    "\n",
    "For this we use the rolling upgrade capability\n",
    "\n",
    "#### Let's first review our current deployment '*k8s-demo*'"
   ]
  },
  {
   "cell_type": "code",
   "execution_count": 6,
   "metadata": {},
   "outputs": [
    {
     "name": "stdout",
     "output_type": "stream",
     "text": [
      "NAME       DESIRED   CURRENT   UP-TO-DATE   AVAILABLE   AGE\n",
      "k8s-demo   2         2         2            2           10h\n"
     ]
    }
   ],
   "source": [
    "kubectl get deploy k8s-demo"
   ]
  },
  {
   "cell_type": "code",
   "execution_count": 7,
   "metadata": {},
   "outputs": [
    {
     "name": "stdout",
     "output_type": "stream",
     "text": [
      "Name:                   k8s-demo\n",
      "Namespace:              default\n",
      "CreationTimestamp:      Thu, 18 Jan 2018 21:00:50 +0000\n",
      "Labels:                 app=k8s-demo\n",
      "Annotations:            deployment.kubernetes.io/revision=1\n",
      "Selector:               app=k8s-demo\n",
      "Replicas:               2 desired | 2 updated | 2 total | 2 available | 0 unavailable\n",
      "StrategyType:           RollingUpdate\n",
      "MinReadySeconds:        0\n",
      "RollingUpdateStrategy:  1 max unavailable, 1 max surge\n",
      "Pod Template:\n",
      "  Labels:  app=k8s-demo\n",
      "  Containers:\n",
      "   k8s-demo:\n",
      "    Image:        mjbright/k8s-demo:1\n",
      "    Port:         8080/TCP\n",
      "    Environment:  <none>\n",
      "    Mounts:       <none>\n",
      "  Volumes:        <none>\n",
      "Conditions:\n",
      "  Type           Status  Reason\n",
      "  ----           ------  ------\n",
      "  Available      True    MinimumReplicasAvailable\n",
      "OldReplicaSets:  <none>\n",
      "NewReplicaSet:   k8s-demo-7bc74f7946 (2/2 replicas created)\n",
      "Events:          <none>\n"
     ]
    }
   ],
   "source": [
    "kubectl describe deploy k8s-demo"
   ]
  },
  {
   "cell_type": "markdown",
   "metadata": {},
   "source": [
    "We see above that we are running version 1 of our service."
   ]
  },
  {
   "cell_type": "code",
   "execution_count": 8,
   "metadata": {},
   "outputs": [
    {
     "name": "stdout",
     "output_type": "stream",
     "text": [
      "    Image:        mjbright/k8s-demo:1\n"
     ]
    }
   ],
   "source": [
    "kubectl describe deploy k8s-demo | grep Image:"
   ]
  },
  {
   "cell_type": "markdown",
   "metadata": {},
   "source": [
    "Once a new version is available to deploy we perform a rolling upgrade to roll out this new version:\n",
    "\n",
    "We set the image attribute of our deployment.\n",
    "\n",
    "We can perform a '*rollout status*' to see the upgrade as it processes"
   ]
  },
  {
   "cell_type": "code",
   "execution_count": 9,
   "metadata": {},
   "outputs": [
    {
     "name": "stdout",
     "output_type": "stream",
     "text": [
      "deployment \"k8s-demo\" image updated\n",
      "Waiting for rollout to finish: 1 old replicas are pending termination...\n",
      "Waiting for rollout to finish: 1 old replicas are pending termination...\n",
      "Waiting for rollout to finish: 1 old replicas are pending termination...\n",
      "Waiting for rollout to finish: 1 old replicas are pending termination...\n",
      "deployment \"k8s-demo\" successfully rolled out\n"
     ]
    }
   ],
   "source": [
    "kubectl set image deployment k8s-demo k8s-demo=mjbright/k8s-demo:2 --record\n",
    "\n",
    "\n",
    "kubectl rollout status deploy k8s-demo"
   ]
  },
  {
   "cell_type": "markdown",
   "metadata": {},
   "source": [
    "#### Get new pods info"
   ]
  },
  {
   "cell_type": "code",
   "execution_count": 11,
   "metadata": {},
   "outputs": [
    {
     "name": "stdout",
     "output_type": "stream",
     "text": [
      "NAME                       READY     STATUS    RESTARTS   AGE       IP           NODE\n",
      "k8s-demo-88b6b8dbf-245pk   1/1       Running   0          4m        10.192.3.2   kube-node-2\n",
      "k8s-demo-88b6b8dbf-fxmc6   1/1       Running   0          4m        10.192.2.2   kube-node-1\n",
      "POD1_IP=10.192.3.2\n",
      "POD2_IP=10.192.2.2\n"
     ]
    }
   ],
   "source": [
    "kubectl get pods -o wide\n",
    "\n",
    "POD1=$(kubectl get pods -o wide --no-headers=true | head -1 | awk '{print $1;}')\n",
    "POD2=$(kubectl get pods -o wide --no-headers=true | tail -1 | awk '{print $1;}')\n",
    "POD1_IP=$(kubectl get pods -o wide --no-headers=true | head -1 | awk '{print $6;}')\n",
    "POD2_IP=$(kubectl get pods -o wide --no-headers=true | tail -1 | awk '{print $6;}')\n",
    "\n",
    "echo POD1_IP=$POD1_IP\n",
    "echo POD2_IP=$POD2_IP"
   ]
  },
  {
   "cell_type": "markdown",
   "metadata": {},
   "source": [
    "### Observing the new version\n",
    "\n",
    "We can now access our application to verify that the deployment has been upgraded."
   ]
  },
  {
   "cell_type": "code",
   "execution_count": 14,
   "metadata": {},
   "outputs": [
    {
     "name": "stdout",
     "output_type": "stream",
     "text": [
      "\u001b[1;31m\n",
      "                ./shhs:`                \n",
      "            .+ymmdyosydNms/`            \n",
      "        -+yNmhs+++++++++oydNmy/.        \n",
      "    .+hNmhs++++++++yy+++++++oydNmy+.    \n",
      "   +Mds++++++++++++md++++++++++++smM/   \n",
      "  `MN++++++++++oshhNNhys+++++++++++Nm   \n",
      "  oMy++++mmsohNMNddMMhdNMmy+ymm++++yM/  \n",
      "  NN++++++omMMmo++sMM+++sNMMdo++++++Nd  \n",
      " /Mh++++++yMNdMNhsyMMssdMMdNMs++++++hM- \n",
      " mMo++++++NMo+ohMMMNNMMNh++sMm++++++oMy \n",
      ":Md++++++oMNosydNMm++NMNhysoMM+++++++hM.\n",
      "hMo+++shhdMMNNmddMMNNMNddmNMMMdhyo+++oMs\n",
      "mMo+++syo+sMmo++sMMhdMNo++oNMy+oss+++oMh\n",
      "-mMy+++++++sNNysMMy++hMNohMNs+++++++yNh`\n",
      "  oMmo+++++++ymMMmhyyhNMMmy+++++++omm:  \n",
      "   .hMh+++++++hNyyhddhyymh+++++++hMo`   \n",
      "     /NNs++++yNo++++++++oNy++++sNd.     \n",
      "      `sMdo++++++++++++++++++odN/       \n",
      "        -dMhsssssssssssssssshNy`        \n",
      "          :shhhhhhhhhhhhhhhyo.          \n",
      "\u001b[0m\n",
      "\n",
      "Served from container \u001b[1;33mk8s-demo-88b6b8dbf-245pk\u001b[0;0m\n"
     ]
    }
   ],
   "source": [
    "curl $POD1_IP:8080"
   ]
  },
  {
   "cell_type": "code",
   "execution_count": 15,
   "metadata": {},
   "outputs": [
    {
     "name": "stdout",
     "output_type": "stream",
     "text": [
      "\u001b[1;31m\n",
      "                ./shhs:`                \n",
      "            .+ymmdyosydNms/`            \n",
      "        -+yNmhs+++++++++oydNmy/.        \n",
      "    .+hNmhs++++++++yy+++++++oydNmy+.    \n",
      "   +Mds++++++++++++md++++++++++++smM/   \n",
      "  `MN++++++++++oshhNNhys+++++++++++Nm   \n",
      "  oMy++++mmsohNMNddMMhdNMmy+ymm++++yM/  \n",
      "  NN++++++omMMmo++sMM+++sNMMdo++++++Nd  \n",
      " /Mh++++++yMNdMNhsyMMssdMMdNMs++++++hM- \n",
      " mMo++++++NMo+ohMMMNNMMNh++sMm++++++oMy \n",
      ":Md++++++oMNosydNMm++NMNhysoMM+++++++hM.\n",
      "hMo+++shhdMMNNmddMMNNMNddmNMMMdhyo+++oMs\n",
      "mMo+++syo+sMmo++sMMhdMNo++oNMy+oss+++oMh\n",
      "-mMy+++++++sNNysMMy++hMNohMNs+++++++yNh`\n",
      "  oMmo+++++++ymMMmhyyhNMMmy+++++++omm:  \n",
      "   .hMh+++++++hNyyhddhyymh+++++++hMo`   \n",
      "     /NNs++++yNo++++++++oNy++++sNd.     \n",
      "      `sMdo++++++++++++++++++odN/       \n",
      "        -dMhsssssssssssssssshNy`        \n",
      "          :shhhhhhhhhhhhhhhyo.          \n",
      "\u001b[0m\n",
      "\n",
      "Served from container \u001b[1;33mk8s-demo-88b6b8dbf-fxmc6\u001b[0;0m\n"
     ]
    }
   ],
   "source": [
    "curl $POD2_IP:8080"
   ]
  },
  {
   "cell_type": "markdown",
   "metadata": {},
   "source": [
    "#### Blue-green upgrades\n",
    "\n",
    "Note that if we performed these tests during the upgrade we might see the old \"blue\" icon and the new \"red\" icon whilst some pods have been upgraded and others not.\n",
    "\n",
    "## TO ADD\n",
    "\n",
    "- Readystatus and health checks\n",
    "- Rollback\n",
    "- Node cordoning"
   ]
  }
 ],
 "metadata": {
  "kernelspec": {
   "display_name": "Bash",
   "language": "bash",
   "name": "bash"
  },
  "language_info": {
   "codemirror_mode": "shell",
   "file_extension": ".sh",
   "mimetype": "text/x-sh",
   "name": "bash"
  }
 },
 "nbformat": 4,
 "nbformat_minor": 2
}
