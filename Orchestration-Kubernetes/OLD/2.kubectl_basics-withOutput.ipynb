{
 "cells": [
  {
   "cell_type": "markdown",
   "metadata": {
    "slideshow": {
     "slide_type": "slide"
    }
   },
   "source": [
    "<img align=\"left\" src=\"https://avatars1.githubusercontent.com/u/13629408?s=400&v=4\" width=\"60\" />\n",
    "## 2. Kubectl Basics\n",
    "\n",
    "#### [LINK to [2.1 Kubectl Basics - DETAILED](2.1.kubectl_basics_DETAILED.ipynb)]\n",
    "<b><hr/></b>\n",
    "\n",
    "<pre style=\"align:center\" >\n",
    "For this section of the lab we will be working with a 3-node cluster comprised of 1 Master and 2 Workers.\n",
    "</pre>\n",
    "<img src=\"images/KubeNodes_1m_2w.svg.png\" width=\"400\" />\n",
    "    \n",
    "<br/><table align=\"right\" style='font-family:\"Courier New\", Courier, monospace; font-size:100%; bottom:0px;'>\n",
    "    <tr><td bgcolor=\"#ffffff\" color=\"#ffffff\"></td><td bgcolor=\"#ffffff\" color=\"#ffffff\"> <img src=\"http://www.icon100.com/up/3011/128/Twitter-alt.png\" width=\"40\"> </td><td bgcolor=\"#ffffff\" color=\"#ffffff\" > @mjbright </td></tr></table>"
   ]
  },
  {
   "cell_type": "markdown",
   "metadata": {
    "slideshow": {
     "slide_type": "slide"
    }
   },
   "source": [
    "# 2. Kubectl Basics - Inspecting the cluster\n",
    "\n",
    "<pre style=\"align:center\" >\n",
    "Kubectl is the standard CLI tool for working with a Kubernetes cluster.\n",
    "\n",
    "It connects to the cluster using the standard APIs.\n",
    "\n",
    "We will see how we can interrogate different cluster resources (nodes, pods, deployments, ...) using actions (set, describe) and the different output choices available (text, json, yaml) for some commands.\n",
    "</pre>\n",
    "\n",
    "<br/><table align=\"right\" style='font-family:\"Courier New\", Courier, monospace; font-size:100%; bottom:0px;'>\n",
    "    <tr><td bgcolor=\"#ffffff\" color=\"#ffffff\"></td><td bgcolor=\"#ffffff\" color=\"#ffffff\"> <img src=\"http://www.icon100.com/up/3011/128/Twitter-alt.png\" width=\"40\"> </td><td bgcolor=\"#ffffff\" color=\"#ffffff\" > @mjbright </td></tr></table>"
   ]
  },
  {
   "cell_type": "markdown",
   "metadata": {
    "slideshow": {
     "slide_type": "slide"
    }
   },
   "source": [
    "Refer to the official Kubectl documentation, [Overview](https://kubernetes.io/docs/reference/kubectl/overview/) and [Cheat Sheet](https://kubernetes.io/docs/reference/kubectl/cheatsheet/)\n",
    "\n",
    "Kubectl commands are of the form\n",
    "\n",
    "```kubectl [command] [TYPE] [NAME] [flags]```\n",
    "\n",
    "For example\n",
    "\n",
    "#### ```kubectl version```\n",
    "will return the version of the kubectl client as well as the kubernetes API server to which it connects.\n",
    "\n",
    "<br/><table align=\"right\" style='font-family:\"Courier New\", Courier, monospace; font-size:100%; bottom:0px;'>\n",
    "    <tr><td bgcolor=\"#ffffff\" color=\"#ffffff\"></td><td bgcolor=\"#ffffff\" color=\"#ffffff\"> <img src=\"http://www.icon100.com/up/3011/128/Twitter-alt.png\" width=\"40\"> </td><td bgcolor=\"#ffffff\" color=\"#ffffff\" > @mjbright </td></tr></table>"
   ]
  },
  {
   "cell_type": "code",
   "execution_count": null,
   "metadata": {
    "slideshow": {
     "slide_type": "slide"
    }
   },
   "outputs": [],
   "source": [
    "kubectl version"
   ]
  },
  {
   "cell_type": "markdown",
   "metadata": {
    "slideshow": {
     "slide_type": "fragment"
    }
   },
   "source": [
    "However, this is not so readable.\n",
    "\n",
    "Note that we can also use the '-o' or '--output' option to specify the output format as 'json' or 'yaml':\n",
    "\n",
    "<br/><table align=\"right\" style='font-family:\"Courier New\", Courier, monospace; font-size:100%; bottom:0px;'>\n",
    "    <tr><td bgcolor=\"#ffffff\" color=\"#ffffff\"></td><td bgcolor=\"#ffffff\" color=\"#ffffff\"> <img src=\"http://www.icon100.com/up/3011/128/Twitter-alt.png\" width=\"40\"> </td><td bgcolor=\"#ffffff\" color=\"#ffffff\" > @mjbright </td></tr></table>"
   ]
  },
  {
   "cell_type": "code",
   "execution_count": null,
   "metadata": {},
   "outputs": [],
   "source": [
    "kubectl version -o json"
   ]
  },
  {
   "cell_type": "markdown",
   "metadata": {},
   "source": [
    "The '-o' option can be applied to some other kubectl commands to obtain output in a '*parseable*' format.\n",
    "\n",
    "This will often provide much more detail than the same command without '-o'.\n",
    "\n",
    "Try it yourself on the following '*get*' commands.\n",
    "\n",
    "\n",
    "#### ```kubectl get nodes```\n",
    "will return a list of nodes in the current cluster"
   ]
  },
  {
   "cell_type": "code",
   "execution_count": null,
   "metadata": {},
   "outputs": [],
   "source": [
    "kubectl get nodes"
   ]
  },
  {
   "cell_type": "markdown",
   "metadata": {},
   "source": [
    "#### ```kubectl describe nodes```\n",
    "will describe the nodes in the current cluster, or we can select a specific node.\n",
    "\n",
    "Describe gives us much information about the current state of an object, including status and running pods.\n",
    "\n",
    "Let's examine our Master node 'kube-master':"
   ]
  },
  {
   "cell_type": "code",
   "execution_count": null,
   "metadata": {},
   "outputs": [],
   "source": [
    "kubectl describe nodes kube-master "
   ]
  },
  {
   "cell_type": "markdown",
   "metadata": {},
   "source": [
    "#### ```kubectl describe pod <POD>```\n",
    "\n",
    "will describe a specific pod instance '<POD>'.\n",
    "\n",
    "But as we have not yet created any pods within the default namespace we will select one of the system pods in the 'kube-system' namespace."
   ]
  },
  {
   "cell_type": "code",
   "execution_count": null,
   "metadata": {},
   "outputs": [],
   "source": [
    "kubectl get namespaces"
   ]
  },
  {
   "cell_type": "markdown",
   "metadata": {},
   "source": [
    "We first stock the name of that pod in variable $POD1.\n",
    "\n",
    "First, here is a list of all pods running in all namespaces on our cluster:"
   ]
  },
  {
   "cell_type": "code",
   "execution_count": null,
   "metadata": {},
   "outputs": [],
   "source": [
    "kubectl get pods --all-namespaces"
   ]
  },
  {
   "cell_type": "code",
   "execution_count": null,
   "metadata": {},
   "outputs": [],
   "source": [
    "POD1=$(kubectl get pods --namespace kube-system --no-headers | awk '{print $1}' | head -1)\n",
    "\n",
    "echo; echo \"Let's investigate the first pod in the list: '$POD1'\"\n",
    "\n",
    "kubectl describe pod $POD1 --namespace kube-system"
   ]
  },
  {
   "cell_type": "markdown",
   "metadata": {},
   "source": [
    "## Kubectl help\n",
    "\n",
    "Typing partial commands will allow kubectl to propose potential completions, e.g. typing"
   ]
  },
  {
   "cell_type": "code",
   "execution_count": null,
   "metadata": {},
   "outputs": [],
   "source": [
    "kubectl"
   ]
  },
  {
   "cell_type": "markdown",
   "metadata": {},
   "source": [
    "#### kubectl get\n",
    "\n",
    "or to see what items we can apply get to:"
   ]
  },
  {
   "cell_type": "code",
   "execution_count": null,
   "metadata": {},
   "outputs": [],
   "source": [
    "kubectl get"
   ]
  },
  {
   "cell_type": "markdown",
   "metadata": {},
   "source": [
    "## Abbreviations\n",
    "\n",
    "Some resource nouns such as pods can also be abbreviated, e.g. as po, and combined with the actual resource.\n",
    "\n",
    "The following are all requivalent:\n",
    "\n",
    "kubectl get pods mypod\n",
    "\n",
    "kubectl get pod mypod\n",
    "\n",
    "kubectl get po mypod\n",
    "\n",
    "kubectl get po/mypod"
   ]
  },
  {
   "cell_type": "markdown",
   "metadata": {},
   "source": [
    "## kubectl get all\n",
    "\n",
    "get all is handy as it will show a list of the most common resources, below we see\n",
    "- daemon sets\n",
    "- deployments\n",
    "- replica sets\n",
    "- pods"
   ]
  },
  {
   "cell_type": "code",
   "execution_count": null,
   "metadata": {},
   "outputs": [],
   "source": [
    "kubectl get all --all-namespaces"
   ]
  },
  {
   "cell_type": "markdown",
   "metadata": {},
   "source": [
    "In the above list we can see ds/kube-proxy, indicating that there is a **DaemonSet** called **kube-proxy** so that kube-proxy runs on every node - there are 3 instances (in general, there could be less if label constraints were used).\n",
    "\n",
    "We also see a list of **3 kube-proxy** pods which are the pods making up our DaemonSet.\n",
    "\n",
    "We see also **2 Deployments** which are **kube-dns** and **dashboard**, each having an associated **ReplicaSet**.\n",
    "\n",
    "\n",
    "\n",
    "There are many options to kubectl, you're invited to play with different options or to refer to the cheat sheet.\n",
    "\n",
    "#### kubectl get all -o wide\n",
    "\n",
    "The wide option allows to display extra information all in one 'wide' line per pod.\n",
    "\n",
    "Here we see the **ip address and the cluster node** on which the pod is running."
   ]
  },
  {
   "cell_type": "code",
   "execution_count": null,
   "metadata": {
    "scrolled": true
   },
   "outputs": [],
   "source": [
    "kubectl get pods --namespace kube-system $POD1\n",
    "\n",
    "kubectl get pods --namespace kube-system $POD1 -o wide"
   ]
  },
  {
   "cell_type": "markdown",
   "metadata": {},
   "source": [
    "<b><hr/></b>\n",
    "#### [LINK to [2.1 Kubectl Basics - DETAILED](2.1.kubectl_basics_DETAILED.ipynb)]"
   ]
  }
 ],
 "metadata": {
  "celltoolbar": "Slideshow",
  "kernelspec": {
   "display_name": "Bash",
   "language": "bash",
   "name": "bash"
  },
  "language_info": {
   "codemirror_mode": "shell",
   "file_extension": ".sh",
   "mimetype": "text/x-sh",
   "name": "bash"
  }
 },
 "nbformat": 4,
 "nbformat_minor": 2
}
