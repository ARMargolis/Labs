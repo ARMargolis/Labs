{
 "cells": [
  {
   "cell_type": "markdown",
   "metadata": {},
   "source": [
    "# Kubectl Basics\n",
    "\n",
    "\n",
    "Refer to the official Kubectl documentation, [Overview](https://kubernetes.io/docs/reference/kubectl/overview/) and [Cheat Sheet](https://kubernetes.io/docs/reference/kubectl/cheatsheet/)\n",
    "\n",
    "Kubectl commands are of the form\n",
    "\n",
    "```kubectl [command] [TYPE] [NAME] [flags]```\n",
    "\n",
    "For example\n",
    "\n",
    "#### ```kubectl version```\n",
    "will return the version of the kubectl client as well as the kubernetes API server to which it connects."
   ]
  },
  {
   "cell_type": "code",
   "execution_count": 1,
   "metadata": {},
   "outputs": [
    {
     "name": "stdout",
     "output_type": "stream",
     "text": [
      "Client Version: version.Info{Major:\"1\", Minor:\"9\", GitVersion:\"v1.9.2\", GitCommit:\"5fa2db2bd46ac79e5e00a4e6ed24191080aa463b\", GitTreeState:\"clean\", BuildDate:\"2018-01-18T10:09:24Z\", GoVersion:\"go1.9.2\", Compiler:\"gc\", Platform:\"linux/amd64\"}\n",
      "Server Version: version.Info{Major:\"1\", Minor:\"7\", GitVersion:\"v1.7.12\", GitCommit:\"3bda299a6414b4866f179921610d6738206a18fe\", GitTreeState:\"clean\", BuildDate:\"2017-12-29T08:39:49Z\", GoVersion:\"go1.8.3\", Compiler:\"gc\", Platform:\"linux/amd64\"}\n"
     ]
    }
   ],
   "source": [
    "kubectl version"
   ]
  },
  {
   "cell_type": "markdown",
   "metadata": {},
   "source": [
    "#### ```kubectl get nodes```\n",
    "will return a list of nodes in the current cluster"
   ]
  },
  {
   "cell_type": "code",
   "execution_count": 2,
   "metadata": {},
   "outputs": [
    {
     "name": "stdout",
     "output_type": "stream",
     "text": [
      "NAME          STATUS    ROLES     AGE       VERSION\n",
      "kube-master   Ready     master    56m       v1.7.12\n",
      "kube-node-1   Ready     <none>    55m       v1.7.12\n",
      "kube-node-2   Ready     <none>    55m       v1.7.12\n"
     ]
    }
   ],
   "source": [
    "kubectl get nodes"
   ]
  },
  {
   "cell_type": "markdown",
   "metadata": {},
   "source": [
    "#### ```kubectl describe nodes```\n",
    "will describe the nodes in the current cluster, or we can select a specific node:"
   ]
  },
  {
   "cell_type": "code",
   "execution_count": 3,
   "metadata": {},
   "outputs": [
    {
     "name": "stdout",
     "output_type": "stream",
     "text": [
      "Name:               kube-master\n",
      "Roles:              master\n",
      "Labels:             beta.kubernetes.io/arch=amd64\n",
      "                    beta.kubernetes.io/os=linux\n",
      "                    kubernetes.io/hostname=kube-master\n",
      "                    node-role.kubernetes.io/master=\n",
      "Annotations:        node.alpha.kubernetes.io/ttl=0\n",
      "                    volumes.kubernetes.io/controller-managed-attach-detach=true\n",
      "Taints:             node-role.kubernetes.io/master:NoSchedule\n",
      "CreationTimestamp:  Fri, 19 Jan 2018 15:20:19 +0000\n",
      "Conditions:\n",
      "  Type             Status  LastHeartbeatTime                 LastTransitionTime                Reason                       Message\n",
      "  ----             ------  -----------------                 ------------------                ------                       -------\n",
      "  OutOfDisk        False   Fri, 19 Jan 2018 16:17:20 +0000   Fri, 19 Jan 2018 15:20:15 +0000   KubeletHasSufficientDisk     kubelet has sufficient disk space available\n",
      "  MemoryPressure   False   Fri, 19 Jan 2018 16:17:20 +0000   Fri, 19 Jan 2018 15:20:15 +0000   KubeletHasSufficientMemory   kubelet has sufficient memory available\n",
      "  DiskPressure     False   Fri, 19 Jan 2018 16:17:20 +0000   Fri, 19 Jan 2018 15:20:15 +0000   KubeletHasNoDiskPressure     kubelet has no disk pressure\n",
      "  Ready            True    Fri, 19 Jan 2018 16:17:20 +0000   Fri, 19 Jan 2018 15:20:15 +0000   KubeletReady                 kubelet is posting ready status. AppArmor enabled\n",
      "Addresses:\n",
      "  InternalIP:  10.192.0.2\n",
      "  Hostname:    kube-master\n",
      "Capacity:\n",
      " cpu:     2\n",
      " memory:  2048160Ki\n",
      " pods:    110\n",
      "Allocatable:\n",
      " cpu:     2\n",
      " memory:  1945760Ki\n",
      " pods:    110\n",
      "System Info:\n",
      " Machine ID:                 aadd52f3a23048aa9028e0c47d18d9e4\n",
      " System UUID:                58B256C3-FA3D-402C-9798-C43654A0B431\n",
      " Boot ID:                    b94e8f71-3362-4e7f-96c8-2295663f47e7\n",
      " Kernel Version:             4.4.0-109-generic\n",
      " OS Image:                   Ubuntu 16.04.3 LTS\n",
      " Operating System:           linux\n",
      " Architecture:               amd64\n",
      " Container Runtime Version:  docker://1.12.6\n",
      " Kubelet Version:            v1.7.12\n",
      " Kube-Proxy Version:         v1.7.12\n",
      "PodCIDR:                     10.244.0.0/24\n",
      "ExternalID:                  kube-master\n",
      "Non-terminated Pods:         (5 in total)\n",
      "  Namespace                  Name                                   CPU Requests  CPU Limits  Memory Requests  Memory Limits\n",
      "  ---------                  ----                                   ------------  ----------  ---------------  -------------\n",
      "  kube-system                etcd-kube-master                       0 (0%)        0 (0%)      0 (0%)           0 (0%)\n",
      "  kube-system                kube-apiserver-kube-master             250m (12%)    0 (0%)      0 (0%)           0 (0%)\n",
      "  kube-system                kube-controller-manager-kube-master    200m (10%)    0 (0%)      0 (0%)           0 (0%)\n",
      "  kube-system                kube-proxy-cmz3c                       0 (0%)        0 (0%)      0 (0%)           0 (0%)\n",
      "  kube-system                kube-scheduler-kube-master             100m (5%)     0 (0%)      0 (0%)           0 (0%)\n",
      "Allocated resources:\n",
      "  (Total limits may be over 100 percent, i.e., overcommitted.)\n",
      "  CPU Requests  CPU Limits  Memory Requests  Memory Limits\n",
      "  ------------  ----------  ---------------  -------------\n",
      "  550m (27%)    0 (0%)      0 (0%)           0 (0%)\n",
      "Events:\n",
      "  Type    Reason                   Age                 From                     Message\n",
      "  ----    ------                   ----                ----                     -------\n",
      "  Normal  Starting                 57m                 kubelet, kube-master     Starting kubelet.\n",
      "  Normal  NodeAllocatableEnforced  57m                 kubelet, kube-master     Updated Node Allocatable limit across pods\n",
      "  Normal  NodeHasSufficientDisk    57m (x24 over 57m)  kubelet, kube-master     Node kube-master status is now: NodeHasSufficientDisk\n",
      "  Normal  NodeHasSufficientMemory  57m (x24 over 57m)  kubelet, kube-master     Node kube-master status is now: NodeHasSufficientMemory\n",
      "  Normal  NodeHasNoDiskPressure    57m (x24 over 57m)  kubelet, kube-master     Node kube-master status is now: NodeHasNoDiskPressure\n",
      "  Normal  Starting                 56m                 kube-proxy, kube-master  Starting kube-proxy.\n",
      "  Normal  Starting                 55m                 kubelet, kube-master     Starting kubelet.\n",
      "  Normal  NodeAllocatableEnforced  55m                 kubelet, kube-master     Updated Node Allocatable limit across pods\n",
      "  Normal  NodeHasSufficientDisk    55m (x30 over 55m)  kubelet, kube-master     Node kube-master status is now: NodeHasSufficientDisk\n",
      "  Normal  NodeHasSufficientMemory  55m (x30 over 55m)  kubelet, kube-master     Node kube-master status is now: NodeHasSufficientMemory\n",
      "  Normal  NodeHasNoDiskPressure    55m (x30 over 55m)  kubelet, kube-master     Node kube-master status is now: NodeHasNoDiskPressure\n",
      "  Normal  Starting                 55m                 kube-proxy, kube-master  Starting kube-proxy.\n"
     ]
    }
   ],
   "source": [
    "kubectl describe nodes kube-master"
   ]
  },
  {
   "cell_type": "markdown",
   "metadata": {},
   "source": [
    "#### ```kubectl describe pod <POD>```\n",
    "\n",
    "will describe a specific pod instance '<POD>'.\n",
    "\n",
    "But as we have not yet created any pods within the default namespace we will select one of the system pods in the 'kube-system' namespace."
   ]
  },
  {
   "cell_type": "code",
   "execution_count": 11,
   "metadata": {},
   "outputs": [
    {
     "name": "stdout",
     "output_type": "stream",
     "text": [
      "NAME          STATUS    AGE\n",
      "default       Active    1h\n",
      "kube-public   Active    1h\n",
      "kube-system   Active    1h\n"
     ]
    }
   ],
   "source": [
    "kubectl get namespaces"
   ]
  },
  {
   "cell_type": "markdown",
   "metadata": {},
   "source": [
    "We first stock the name of that pod in variable $POD1."
   ]
  },
  {
   "cell_type": "code",
   "execution_count": 5,
   "metadata": {},
   "outputs": [
    {
     "name": "stdout",
     "output_type": "stream",
     "text": [
      "\n",
      "First, here is a list of all pods running in all namespaces on our cluster:\n",
      "NAMESPACE     NAME                                    READY     STATUS    RESTARTS   AGE\n",
      "kube-system   etcd-kube-master                        1/1       Running   1          57m\n",
      "kube-system   kube-apiserver-kube-master              1/1       Running   1          55m\n",
      "kube-system   kube-controller-manager-kube-master     1/1       Running   1          55m\n",
      "kube-system   kube-dns-3976841905-312l5               3/3       Running   0          56m\n",
      "kube-system   kube-proxy-cmz3c                        1/1       Running   0          56m\n",
      "kube-system   kube-proxy-tvhd5                        1/1       Running   0          56m\n",
      "kube-system   kube-proxy-xxlpw                        1/1       Running   0          56m\n",
      "kube-system   kube-scheduler-kube-master              1/1       Running   1          55m\n",
      "kube-system   kubernetes-dashboard-1136505239-klj0r   1/1       Running   0          56m\n"
     ]
    }
   ],
   "source": [
    "echo; echo \"First, here is a list of all pods running in all namespaces on our cluster:\"\n",
    "\n",
    "kubectl get pods --all-namespaces"
   ]
  },
  {
   "cell_type": "code",
   "execution_count": 6,
   "metadata": {},
   "outputs": [
    {
     "name": "stdout",
     "output_type": "stream",
     "text": [
      "\n",
      "Let's investigate the first pod in the list: 'etcd-kube-master'\n",
      "Name:         etcd-kube-master\n",
      "Namespace:    kube-system\n",
      "Node:         kube-master/10.192.0.2\n",
      "Start Time:   Fri, 19 Jan 2018 15:21:42 +0000\n",
      "Labels:       component=etcd\n",
      "              tier=control-plane\n",
      "Annotations:  kubernetes.io/config.hash=9ef6d25e21bb4befeabe4d0e4f72d1ca\n",
      "              kubernetes.io/config.mirror=9ef6d25e21bb4befeabe4d0e4f72d1ca\n",
      "              kubernetes.io/config.seen=2018-01-19T15:20:02.329073881Z\n",
      "              kubernetes.io/config.source=file\n",
      "              scheduler.alpha.kubernetes.io/critical-pod=\n",
      "Status:       Running\n",
      "IP:           10.192.0.2\n",
      "Containers:\n",
      "  etcd:\n",
      "    Container ID:  docker://1d280e3d03e59b5ee0019302f8f694554f38aae081f1805a7bc30a5bedb35a59\n",
      "    Image:         gcr.io/google_containers/etcd-amd64:3.0.17\n",
      "    Image ID:      docker://sha256:243830dae7dd6ff78859fa1d66098a89e2951a9e95af4ef4d4d2c03d97975771\n",
      "    Port:          <none>\n",
      "    Command:\n",
      "      etcd\n",
      "      --listen-client-urls=http://127.0.0.1:2379\n",
      "      --advertise-client-urls=http://127.0.0.1:2379\n",
      "      --data-dir=/var/lib/etcd\n",
      "    State:          Running\n",
      "      Started:      Fri, 19 Jan 2018 15:21:44 +0000\n",
      "    Last State:     Terminated\n",
      "      Reason:       Completed\n",
      "      Exit Code:    0\n",
      "      Started:      Fri, 19 Jan 2018 15:20:08 +0000\n",
      "      Finished:     Fri, 19 Jan 2018 15:21:24 +0000\n",
      "    Ready:          True\n",
      "    Restart Count:  1\n",
      "    Liveness:       http-get http://127.0.0.1:2379/health delay=15s timeout=15s period=10s #success=1 #failure=8\n",
      "    Environment:    <none>\n",
      "    Mounts:\n",
      "      /etc/kubernetes from k8s (ro)\n",
      "      /etc/ssl/certs from certs (rw)\n",
      "      /var/lib/etcd from etcd (rw)\n",
      "Conditions:\n",
      "  Type           Status\n",
      "  Initialized    True \n",
      "  Ready          True \n",
      "  PodScheduled   True \n",
      "Volumes:\n",
      "  certs:\n",
      "    Type:          HostPath (bare host directory volume)\n",
      "    Path:          /etc/ssl/certs\n",
      "    HostPathType:  \n",
      "  etcd:\n",
      "    Type:          HostPath (bare host directory volume)\n",
      "    Path:          /var/lib/etcd\n",
      "    HostPathType:  \n",
      "  k8s:\n",
      "    Type:          HostPath (bare host directory volume)\n",
      "    Path:          /etc/kubernetes\n",
      "    HostPathType:  \n",
      "QoS Class:         BestEffort\n",
      "Node-Selectors:    <none>\n",
      "Tolerations:       :NoExecute\n",
      "Events:            <none>\n"
     ]
    }
   ],
   "source": [
    "POD1=$(kubectl get pods --namespace kube-system --no-headers | awk '{print $1}' | head -1)\n",
    "\n",
    "echo; echo \"Let's investigate the first pod in the list: '$POD1'\"\n",
    "\n",
    "kubectl describe pod $POD1 --namespace kube-system"
   ]
  },
  {
   "cell_type": "markdown",
   "metadata": {},
   "source": [
    "## Kubectl help\n",
    "\n",
    "Typing partial commands will allow kubectl to propose potential completions, e.g. typing"
   ]
  },
  {
   "cell_type": "code",
   "execution_count": 7,
   "metadata": {},
   "outputs": [
    {
     "name": "stdout",
     "output_type": "stream",
     "text": [
      "kubectl controls the Kubernetes cluster manager. \n",
      "\n",
      "Find more information at https://github.com/kubernetes/kubernetes.\n",
      "\n",
      "Basic Commands (Beginner):\n",
      "  create         Create a resource from a file or from stdin.\n",
      "  expose         Take a replication controller, service, deployment or pod and\n",
      "expose it as a new Kubernetes Service\n",
      "  run            Run a particular image on the cluster\n",
      "  set            Set specific features on objects\n",
      "  run-container  Run a particular image on the cluster. This command is\n",
      "deprecated, use \"run\" instead\n",
      "\n",
      "Basic Commands (Intermediate):\n",
      "  get            Display one or many resources\n",
      "  explain        Documentation of resources\n",
      "  edit           Edit a resource on the server\n",
      "  delete         Delete resources by filenames, stdin, resources and names, or\n",
      "by resources and label selector\n",
      "\n",
      "Deploy Commands:\n",
      "  rollout        Manage the rollout of a resource\n",
      "  rolling-update Perform a rolling update of the given ReplicationController\n",
      "  scale          Set a new size for a Deployment, ReplicaSet, Replication\n",
      "Controller, or Job\n",
      "  autoscale      Auto-scale a Deployment, ReplicaSet, or ReplicationController\n",
      "\n",
      "Cluster Management Commands:\n",
      "  certificate    Modify certificate resources.\n",
      "  cluster-info   Display cluster info\n",
      "  top            Display Resource (CPU/Memory/Storage) usage.\n",
      "  cordon         Mark node as unschedulable\n",
      "  uncordon       Mark node as schedulable\n",
      "  drain          Drain node in preparation for maintenance\n",
      "  taint          Update the taints on one or more nodes\n",
      "\n",
      "Troubleshooting and Debugging Commands:\n",
      "  describe       Show details of a specific resource or group of resources\n",
      "  logs           Print the logs for a container in a pod\n",
      "  attach         Attach to a running container\n",
      "  exec           Execute a command in a container\n",
      "  port-forward   Forward one or more local ports to a pod\n",
      "  proxy          Run a proxy to the Kubernetes API server\n",
      "  cp             Copy files and directories to and from containers.\n",
      "  auth           Inspect authorization\n",
      "\n",
      "Advanced Commands:\n",
      "  apply          Apply a configuration to a resource by filename or stdin\n",
      "  patch          Update field(s) of a resource using strategic merge patch\n",
      "  replace        Replace a resource by filename or stdin\n",
      "  convert        Convert config files between different API versions\n",
      "\n",
      "Settings Commands:\n",
      "  label          Update the labels on a resource\n",
      "  annotate       Update the annotations on a resource\n",
      "  completion     Output shell completion code for the specified shell (bash or\n",
      "zsh)\n",
      "\n",
      "Other Commands:\n",
      "  api-versions   Print the supported API versions on the server, in the form of\n",
      "\"group/version\"\n",
      "  config         Modify kubeconfig files\n",
      "  help           Help about any command\n",
      "  plugin         Runs a command-line plugin\n",
      "  version        Print the client and server version information\n",
      "\n",
      "Use \"kubectl <command> --help\" for more information about a given command.\n",
      "Use \"kubectl options\" for a list of global command-line options (applies to all\n",
      "commands).\n"
     ]
    }
   ],
   "source": [
    "kubectl"
   ]
  },
  {
   "cell_type": "markdown",
   "metadata": {},
   "source": [
    "#### kubectl get\n",
    "\n",
    "or to see what items we can apply get to:"
   ]
  },
  {
   "cell_type": "code",
   "execution_count": 8,
   "metadata": {},
   "outputs": [
    {
     "name": "stdout",
     "output_type": "stream",
     "text": [
      "You must specify the type of resource to get. Valid resource types include: \n",
      "\n",
      "  * all  \n",
      "  * certificatesigningrequests (aka 'csr')  \n",
      "  * clusterrolebindings  \n",
      "  * clusterroles  \n",
      "  * componentstatuses (aka 'cs')  \n",
      "  * configmaps (aka 'cm')  \n",
      "  * controllerrevisions  \n",
      "  * cronjobs  \n",
      "  * customresourcedefinition (aka 'crd')  \n",
      "  * daemonsets (aka 'ds')  \n",
      "  * deployments (aka 'deploy')  \n",
      "  * endpoints (aka 'ep')  \n",
      "  * events (aka 'ev')  \n",
      "  * horizontalpodautoscalers (aka 'hpa')  \n",
      "  * ingresses (aka 'ing')  \n",
      "  * jobs  \n",
      "  * limitranges (aka 'limits')  \n",
      "  * namespaces (aka 'ns')  \n",
      "  * networkpolicies (aka 'netpol')  \n",
      "  * nodes (aka 'no')  \n",
      "  * persistentvolumeclaims (aka 'pvc')  \n",
      "  * persistentvolumes (aka 'pv')  \n",
      "  * poddisruptionbudgets (aka 'pdb')  \n",
      "  * podpreset  \n",
      "  * pods (aka 'po')  \n",
      "  * podsecuritypolicies (aka 'psp')  \n",
      "  * podtemplates  \n",
      "  * replicasets (aka 'rs')  \n",
      "  * replicationcontrollers (aka 'rc')  \n",
      "  * resourcequotas (aka 'quota')  \n",
      "  * rolebindings  \n",
      "  * roles  \n",
      "  * secrets  \n",
      "  * serviceaccounts (aka 'sa')  \n",
      "  * services (aka 'svc')  \n",
      "  * statefulsets (aka 'sts')  \n",
      "  * storageclasses (aka 'sc')error: Required resource not specified.\n",
      "Use \"kubectl explain <resource>\" for a detailed description of that resource (e.g. kubectl explain pods).\n",
      "See 'kubectl get -h' for help and examples.\n"
     ]
    },
    {
     "ename": "",
     "evalue": "1",
     "output_type": "error",
     "traceback": []
    }
   ],
   "source": [
    "kubectl get"
   ]
  },
  {
   "cell_type": "markdown",
   "metadata": {},
   "source": [
    "## Abbreviations\n",
    "\n",
    "Some resource nouns such as pods can also be abbreviated, e.g. as po, and combined with the actual resource.\n",
    "\n",
    "The following are all requivalent:\n",
    "\n",
    "kubectl get pods mypod\n",
    "\n",
    "kubectl get pod mypod\n",
    "\n",
    "kubectl get po mypod\n",
    "\n",
    "kubectl get po/mypod"
   ]
  },
  {
   "cell_type": "code",
   "execution_count": 9,
   "metadata": {},
   "outputs": [
    {
     "name": "stdout",
     "output_type": "stream",
     "text": [
      "NAME               READY     STATUS    RESTARTS   AGE\n",
      "etcd-kube-master   1/1       Running   1          58m\n",
      "NAME               READY     STATUS    RESTARTS   AGE\n",
      "etcd-kube-master   1/1       Running   1          58m\n",
      "NAME               READY     STATUS    RESTARTS   AGE\n",
      "etcd-kube-master   1/1       Running   1          58m\n",
      "NAME               READY     STATUS    RESTARTS   AGE\n",
      "etcd-kube-master   1/1       Running   1          58m\n"
     ]
    }
   ],
   "source": [
    "kubectl get --namespace kube-system pods etcd-kube-master\n",
    "\n",
    "kubectl get --namespace kube-system pod etcd-kube-master\n",
    "\n",
    "kubectl get --namespace kube-system po etcd-kube-master\n",
    "\n",
    "kubectl get --namespace kube-system po/etcd-kube-master"
   ]
  },
  {
   "cell_type": "markdown",
   "metadata": {},
   "source": [
    "## kubectl get all\n",
    "\n",
    "get all is handy as it will show a list of the most common resources, below we see\n",
    "- daemon sets\n",
    "- deployments\n",
    "- replica sets\n",
    "- pods"
   ]
  },
  {
   "cell_type": "code",
   "execution_count": 10,
   "metadata": {},
   "outputs": [
    {
     "name": "stdout",
     "output_type": "stream",
     "text": [
      "NAMESPACE     NAME                          DESIRED   CURRENT   UP-TO-DATE   AVAILABLE   AGE\n",
      "kube-system   deploy/kube-dns               1         1         1            1           58m\n",
      "kube-system   deploy/kubernetes-dashboard   1         1         1            1           58m\n",
      "\n",
      "NAMESPACE     NAME                                 DESIRED   CURRENT   READY     AGE\n",
      "kube-system   rs/kube-dns-3976841905               1         1         1         58m\n",
      "kube-system   rs/kubernetes-dashboard-1136505239   1         1         1         58m\n",
      "\n",
      "NAMESPACE     NAME                          DESIRED   CURRENT   UP-TO-DATE   AVAILABLE   AGE\n",
      "kube-system   deploy/kube-dns               1         1         1            1           58m\n",
      "kube-system   deploy/kubernetes-dashboard   1         1         1            1           58m\n",
      "\n",
      "NAMESPACE     NAME                                       READY     STATUS    RESTARTS   AGE\n",
      "kube-system   po/etcd-kube-master                        1/1       Running   1          58m\n",
      "kube-system   po/kube-apiserver-kube-master              1/1       Running   1          56m\n",
      "kube-system   po/kube-controller-manager-kube-master     1/1       Running   1          56m\n",
      "kube-system   po/kube-dns-3976841905-312l5               3/3       Running   0          57m\n",
      "kube-system   po/kube-proxy-cmz3c                        1/1       Running   0          57m\n",
      "kube-system   po/kube-proxy-tvhd5                        1/1       Running   0          57m\n",
      "kube-system   po/kube-proxy-xxlpw                        1/1       Running   0          57m\n",
      "kube-system   po/kube-scheduler-kube-master              1/1       Running   1          56m\n",
      "kube-system   po/kubernetes-dashboard-1136505239-klj0r   1/1       Running   0          57m\n"
     ]
    }
   ],
   "source": [
    "kubectl get all --all-namespaces"
   ]
  },
  {
   "cell_type": "markdown",
   "metadata": {},
   "source": [
    "There are many options to kubectl, you're invited to play with different options or to refer to the cheat sheet.\n",
    "\n",
    "#### kubectl get all -o wide\n",
    "\n",
    "The wide option allows to display extra information all in one 'wide' line per pod.\n",
    "\n",
    "Here we see the ip address of the pod and the cluster node on which the pod is running."
   ]
  },
  {
   "cell_type": "code",
   "execution_count": 12,
   "metadata": {},
   "outputs": [
    {
     "name": "stdout",
     "output_type": "stream",
     "text": [
      "NAME               READY     STATUS    RESTARTS   AGE\n",
      "etcd-kube-master   1/1       Running   1          59m\n",
      "NAME               READY     STATUS    RESTARTS   AGE       IP           NODE\n",
      "etcd-kube-master   1/1       Running   1          59m       10.192.0.2   kube-master\n"
     ]
    }
   ],
   "source": [
    "kubectl get pods --namespace kube-system $POD1\n",
    "\n",
    "kubectl get pods --namespace kube-system $POD1 -o wide"
   ]
  }
 ],
 "metadata": {
  "kernelspec": {
   "display_name": "Bash",
   "language": "bash",
   "name": "bash"
  },
  "language_info": {
   "codemirror_mode": "shell",
   "file_extension": ".sh",
   "mimetype": "text/x-sh",
   "name": "bash"
  }
 },
 "nbformat": 4,
 "nbformat_minor": 2
}
