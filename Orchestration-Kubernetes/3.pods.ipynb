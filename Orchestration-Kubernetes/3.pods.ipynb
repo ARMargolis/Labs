{
 "cells": [
  {
   "cell_type": "markdown",
   "metadata": {
    "slideshow": {
     "slide_type": "skip"
    }
   },
   "source": [
    "[INDEX](Kubernetes.ipynb)  [NEXT](3.pods.ipynb)"
   ]
  },
  {
   "cell_type": "markdown",
   "metadata": {
    "slideshow": {
     "slide_type": "slide"
    }
   },
   "source": [
    "<img align=\"left\" src=\"https://avatars1.githubusercontent.com/u/13629408?s=400&v=4\" width=\"60\" />\n",
    "\n",
    "## 3. Running Pods, Deployments\n",
    "\n",
    "<pre style=\"align:center\" >\n",
    "For this section of the lab we will continue to work with our N worker-node cluster.\n",
    "</pre>\n",
    "<img src=\"images/KubeNodes_1m_2w.svg.png\" width=\"400\" />\n",
    "    \n",
    "<br/><table align=\"right\" style='font-family:\"Courier New\", Courier, monospace; font-size:100%; bottom:0px;'>\n",
    "    <tr><td bgcolor=\"#ffffff\" color=\"#ffffff\"></td><td bgcolor=\"#ffffff\" color=\"#ffffff\"> <img src=\"http://www.icon100.com/up/3011/128/Twitter-alt.png\" width=\"40\"> </td><td bgcolor=\"#ffffff\" color=\"#ffffff\" > @mjbright </td></tr></table>"
   ]
  },
  {
   "cell_type": "markdown",
   "metadata": {
    "slideshow": {
     "slide_type": "slide"
    }
   },
   "source": [
    "# 3. Running Pods, Deployments\n",
    "\n",
    "<pre style=\"align:center\" >\n",
    "\n",
    "**In this section** we will see how we can launch pods directly from the command-line using 'kubectl run' and how it creates several resources.\n",
    "\n",
    "This is useful for experimentation but it is not declarative.\n",
    "We will also see how we can create resources from a yaml file using the 'kubectl create' command, and how we can create several containers in a Pod.\n",
    "\n",
    "We will look at how to scale Pods, and what happens when a Pod fails\n",
    "</pre>\n",
    "    \n",
    "<br/><table align=\"right\" style='font-family:\"Courier New\", Courier, monospace; font-size:100%; bottom:0px;'>\n",
    "    <tr><td bgcolor=\"#ffffff\" color=\"#ffffff\"></td><td bgcolor=\"#ffffff\" color=\"#ffffff\"> <img src=\"http://www.icon100.com/up/3011/128/Twitter-alt.png\" width=\"40\"> </td><td bgcolor=\"#ffffff\" color=\"#ffffff\" > @mjbright </td></tr></table>"
   ]
  },
  {
   "cell_type": "markdown",
   "metadata": {
    "slideshow": {
     "slide_type": "slide"
    }
   },
   "source": [
    "    \n",
    "# Kubernetes Pods\n",
    "\n",
    "## Useful functions\n",
    "\n",
    "Here we define some useful functions to be able to run this notebook in isolation:"
   ]
  },
  {
   "cell_type": "code",
   "execution_count": 2,
   "metadata": {
    "slideshow": {
     "slide_type": "skip"
    }
   },
   "outputs": [
    {
     "name": "stdout",
     "output_type": "stream",
     "text": [
      "NAME                 TYPE        CLUSTER-IP   EXTERNAL-IP   PORT(S)   AGE\n",
      "service/kubernetes   ClusterIP   10.0.0.1     <none>        443/TCP   15h\n"
     ]
    }
   ],
   "source": [
    "kubectl get all"
   ]
  },
  {
   "cell_type": "markdown",
   "metadata": {
    "slideshow": {
     "slide_type": "slide"
    }
   },
   "source": [
    "## Deploying Pods via 'kubectl run'\n",
    "\n",
    "<pre style=\"align:center\" >\n",
    "We've seen how we can interrogate our cluster server using the kubectl tool, obtaining information about Resources such as Pods, Nodes in the system.\n",
    "\n",
    "Now let's create our own pods using 'kubectl run'.  We will see that this actually creates a Deployment and a ReplicaSet, as the example below:\n",
    "\n",
    "<img src=\"images/KubernetesArchi_Deploy.svg.png\" width=\"600\" />\n",
    "\n",
    "<br/><table align=\"right\" style='font-family:\"Courier New\", Courier, monospace; font-size:100%; bottom:0px;'>\n",
    "    <tr><td bgcolor=\"#ffffff\" color=\"#ffffff\"></td><td bgcolor=\"#ffffff\" color=\"#ffffff\"> <img src=\"http://www.icon100.com/up/3011/128/Twitter-alt.png\" width=\"40\"> </td><td bgcolor=\"#ffffff\" color=\"#ffffff\" > @mjbright </td></tr></table>"
   ]
  },
  {
   "cell_type": "markdown",
   "metadata": {
    "slideshow": {
     "slide_type": "skip"
    }
   },
   "source": [
    "Normally we would not create pods directly using command-line arguments, as we will do here.\n",
    "\n",
    "We would create objects in a repeatable, declarative way from yaml files, but we will do that later.\n",
    "\n",
    "The below ```kubectl run``` command will create 2 pods (replicas), each running just 1 container from the k8s-demo image.\n",
    "\n",
    "Note that we can specify labels on any kubernetes objects, using the -l option followd by key=value pairs, e.g.\n",
    "    -l \"key1=val1,key2=val2\"\n",
    "     \n",
    "These labels are extremely useful allowing us to select a group of objects using a label selector.\n",
    "\n",
    "Labels might be used to mark components of the cluster as dev, test or production for example.\n",
    "\n",
    "Or they might be used to signal hardware specifics of a node, to distinguish physical nodes with SSD disks, or GPU which could then be prioritized for particular types of processing which might be disk i/o or CPU intensive.\n",
    "\n",
    "k8sdemo is a small Docker image of 6MBy on the Docker hub [HERE](https://hub.docker.com/r/mjbright/k8s-demo/tags/)\n",
    "\n",
    "<br/><table align=\"right\" style='font-family:\"Courier New\", Courier, monospace; font-size:100%; bottom:0px;'>\n",
    "    <tr><td bgcolor=\"#ffffff\" color=\"#ffffff\"></td><td bgcolor=\"#ffffff\" color=\"#ffffff\"> <img src=\"http://www.icon100.com/up/3011/128/Twitter-alt.png\" width=\"40\"> </td><td bgcolor=\"#ffffff\" color=\"#ffffff\" > @mjbright </td></tr></table>"
   ]
  },
  {
   "cell_type": "markdown",
   "metadata": {
    "slideshow": {
     "slide_type": "slide"
    }
   },
   "source": [
    "\n",
    "We want to see what Resources are created, so let's just check again what exists already ... by running 'kubectl get all'\n"
   ]
  },
  {
   "cell_type": "code",
   "execution_count": 3,
   "metadata": {
    "slideshow": {
     "slide_type": "fragment"
    }
   },
   "outputs": [
    {
     "name": "stdout",
     "output_type": "stream",
     "text": [
      "NAME                 TYPE        CLUSTER-IP   EXTERNAL-IP   PORT(S)   AGE\n",
      "service/kubernetes   ClusterIP   10.0.0.1     <none>        443/TCP   15h\n"
     ]
    }
   ],
   "source": [
    "kubectl get all"
   ]
  },
  {
   "cell_type": "markdown",
   "metadata": {
    "slideshow": {
     "slide_type": "fragment"
    }
   },
   "source": [
    "Next we will run 'kubectl run' and immediately run 'kubectl get all' again."
   ]
  },
  {
   "cell_type": "code",
   "execution_count": 4,
   "metadata": {
    "slideshow": {
     "slide_type": "slide"
    }
   },
   "outputs": [
    {
     "name": "stdout",
     "output_type": "stream",
     "text": [
      "deployment.apps \"k8s-demo\" created\n",
      "NAME                            READY     STATUS              RESTARTS   AGE\n",
      "pod/k8s-demo-6b76bd84d7-47b2q   0/1       ContainerCreating   0          3s\n",
      "pod/k8s-demo-6b76bd84d7-6ss2r   0/1       ContainerCreating   0          3s\n",
      "\n",
      "NAME                 TYPE        CLUSTER-IP   EXTERNAL-IP   PORT(S)   AGE\n",
      "service/kubernetes   ClusterIP   10.0.0.1     <none>        443/TCP   15h\n",
      "\n",
      "NAME                             DESIRED   CURRENT   UP-TO-DATE   AVAILABLE   AGE\n",
      "deployment.extensions/k8s-demo   2         2         2            0           3s\n",
      "\n",
      "NAME                                        DESIRED   CURRENT   READY     AGE\n",
      "replicaset.extensions/k8s-demo-6b76bd84d7   2         2         0         3s\n",
      "\n",
      "NAME                       DESIRED   CURRENT   UP-TO-DATE   AVAILABLE   AGE\n",
      "deployment.apps/k8s-demo   2         2         2            0           3s\n",
      "\n",
      "NAME                                  DESIRED   CURRENT   READY     AGE\n",
      "replicaset.apps/k8s-demo-6b76bd84d7   2         2         0         3s\n"
     ]
    }
   ],
   "source": [
    "kubectl run k8s-demo -l \"app=k8s-demo\" --image=mjbright/k8s-demo:1 --replicas=2 --port=8080\n",
    "kubectl get all"
   ]
  },
  {
   "cell_type": "markdown",
   "metadata": {
    "slideshow": {
     "slide_type": "skip"
    }
   },
   "source": [
    "In the above output we see that the only running resource initially was an internal service.\n",
    "\n",
    "Once we perform '''kubectl run'' this spawns a **deployment** called *k8s-demo*, which creates a corrsponding **replicaset** which in turn spawns 2 **pods**.\n",
    "\n",
    "As we performed the '''kubectl get all''' immediately after the run, we see the status before the pod containers have been created ... in fact there is a delay whilst the images are downloaded (for a first run) and pods instantiated.\n",
    "\n",
    "Re-running '''kubectl get all''' shows the pods as *running* now."
   ]
  },
  {
   "cell_type": "code",
   "execution_count": 5,
   "metadata": {
    "slideshow": {
     "slide_type": "slide"
    }
   },
   "outputs": [
    {
     "name": "stdout",
     "output_type": "stream",
     "text": [
      "NAME                            READY     STATUS    RESTARTS   AGE\n",
      "pod/k8s-demo-6b76bd84d7-47b2q   1/1       Running   0          50s\n",
      "pod/k8s-demo-6b76bd84d7-6ss2r   1/1       Running   0          50s\n",
      "\n",
      "NAME                 TYPE        CLUSTER-IP   EXTERNAL-IP   PORT(S)   AGE\n",
      "service/kubernetes   ClusterIP   10.0.0.1     <none>        443/TCP   15h\n",
      "\n",
      "NAME                             DESIRED   CURRENT   UP-TO-DATE   AVAILABLE   AGE\n",
      "deployment.extensions/k8s-demo   2         2         2            2           50s\n",
      "\n",
      "NAME                                        DESIRED   CURRENT   READY     AGE\n",
      "replicaset.extensions/k8s-demo-6b76bd84d7   2         2         2         50s\n",
      "\n",
      "NAME                       DESIRED   CURRENT   UP-TO-DATE   AVAILABLE   AGE\n",
      "deployment.apps/k8s-demo   2         2         2            2           50s\n",
      "\n",
      "NAME                                  DESIRED   CURRENT   READY     AGE\n",
      "replicaset.apps/k8s-demo-6b76bd84d7   2         2         2         50s\n"
     ]
    }
   ],
   "source": [
    "kubectl get all"
   ]
  },
  {
   "cell_type": "markdown",
   "metadata": {
    "slideshow": {
     "slide_type": "slide"
    }
   },
   "source": [
    "... with more information, using option '*-o wide*'"
   ]
  },
  {
   "cell_type": "code",
   "execution_count": 6,
   "metadata": {
    "slideshow": {
     "slide_type": "slide"
    }
   },
   "outputs": [
    {
     "name": "stdout",
     "output_type": "stream",
     "text": [
      "NAME                            READY     STATUS    RESTARTS   AGE       IP           NODE\n",
      "pod/k8s-demo-6b76bd84d7-47b2q   1/1       Running   0          57s       10.244.8.5   aks-nodepool1-35637019-1\n",
      "pod/k8s-demo-6b76bd84d7-6ss2r   1/1       Running   0          57s       10.244.4.5   aks-nodepool1-35637019-9\n",
      "\n",
      "NAME                 TYPE        CLUSTER-IP   EXTERNAL-IP   PORT(S)   AGE       SELECTOR\n",
      "service/kubernetes   ClusterIP   10.0.0.1     <none>        443/TCP   15h       <none>\n",
      "\n",
      "NAME                             DESIRED   CURRENT   UP-TO-DATE   AVAILABLE   AGE       CONTAINERS   IMAGES                SELECTOR\n",
      "deployment.extensions/k8s-demo   2         2         2            2           57s       k8s-demo     mjbright/k8s-demo:1   app=k8s-demo\n",
      "\n",
      "NAME                                        DESIRED   CURRENT   READY     AGE       CONTAINERS   IMAGES                SELECTOR\n",
      "replicaset.extensions/k8s-demo-6b76bd84d7   2         2         2         57s       k8s-demo     mjbright/k8s-demo:1   app=k8s-demo,pod-template-hash=2632684083\n",
      "\n",
      "NAME                       DESIRED   CURRENT   UP-TO-DATE   AVAILABLE   AGE       CONTAINERS   IMAGES                SELECTOR\n",
      "deployment.apps/k8s-demo   2         2         2            2           57s       k8s-demo     mjbright/k8s-demo:1   app=k8s-demo\n",
      "\n",
      "NAME                                  DESIRED   CURRENT   READY     AGE       CONTAINERS   IMAGES                SELECTOR\n",
      "replicaset.apps/k8s-demo-6b76bd84d7   2         2         2         57s       k8s-demo     mjbright/k8s-demo:1   app=k8s-demo,pod-template-hash=2632684083\n"
     ]
    }
   ],
   "source": [
    "kubectl get all -o wide"
   ]
  },
  {
   "cell_type": "markdown",
   "metadata": {
    "slideshow": {
     "slide_type": "slide"
    }
   },
   "source": [
    "\n",
    "Note in the above output we can see that our k8s-demo pods are running on kube-node-1 and kube-node-2.\n",
    "\n",
    "## Creating resources using yaml specifications\n",
    "\n",
    "### Obtaining yaml as output\n",
    "\n",
    "Using the option '-o yaml' to any 'kubectl get' command we can obtain a yaml definition, so instead of"
   ]
  },
  {
   "cell_type": "code",
   "execution_count": 7,
   "metadata": {
    "slideshow": {
     "slide_type": "fragment"
    }
   },
   "outputs": [
    {
     "name": "stdout",
     "output_type": "stream",
     "text": [
      "NAME       DESIRED   CURRENT   UP-TO-DATE   AVAILABLE   AGE       CONTAINERS   IMAGES                SELECTOR\n",
      "k8s-demo   2         2         2            2           1m        k8s-demo     mjbright/k8s-demo:1   app=k8s-demo\n"
     ]
    }
   ],
   "source": [
    "kubectl get deploy/k8s-demo -o wide"
   ]
  },
  {
   "cell_type": "markdown",
   "metadata": {
    "slideshow": {
     "slide_type": "fragment"
    }
   },
   "source": [
    "we get ..."
   ]
  },
  {
   "cell_type": "code",
   "execution_count": 8,
   "metadata": {
    "slideshow": {
     "slide_type": "slide"
    }
   },
   "outputs": [
    {
     "name": "stdout",
     "output_type": "stream",
     "text": [
      "apiVersion: extensions/v1beta1\n",
      "kind: Deployment\n",
      "metadata:\n",
      "  annotations:\n",
      "    deployment.kubernetes.io/revision: \"1\"\n",
      "  creationTimestamp: 2018-10-06T09:52:45Z\n",
      "  generation: 1\n",
      "  labels:\n",
      "    app: k8s-demo\n",
      "  name: k8s-demo\n",
      "  namespace: default\n",
      "  resourceVersion: \"115387\"\n",
      "  selfLink: /apis/extensions/v1beta1/namespaces/default/deployments/k8s-demo\n",
      "  uid: 934c6208-c94d-11e8-a432-6ad902cee12c\n",
      "spec:\n",
      "  replicas: 2\n",
      "  selector:\n",
      "    matchLabels:\n",
      "      app: k8s-demo\n",
      "  strategy:\n",
      "    rollingUpdate:\n",
      "      maxSurge: 1\n",
      "      maxUnavailable: 1\n",
      "    type: RollingUpdate\n",
      "  template:\n",
      "    metadata:\n",
      "      creationTimestamp: null\n",
      "      labels:\n",
      "        app: k8s-demo\n",
      "    spec:\n",
      "      containers:\n",
      "      - image: mjbright/k8s-demo:1\n",
      "        imagePullPolicy: IfNotPresent\n",
      "        name: k8s-demo\n",
      "        ports:\n",
      "        - containerPort: 8080\n",
      "          protocol: TCP\n",
      "        resources: {}\n",
      "        terminationMessagePath: /dev/termination-log\n",
      "        terminationMessagePolicy: File\n",
      "      dnsPolicy: ClusterFirst\n",
      "      restartPolicy: Always\n",
      "      schedulerName: default-scheduler\n",
      "      securityContext: {}\n",
      "      terminationGracePeriodSeconds: 30\n",
      "status:\n",
      "  availableReplicas: 2\n",
      "  conditions:\n",
      "  - lastTransitionTime: 2018-10-06T09:52:51Z\n",
      "    lastUpdateTime: 2018-10-06T09:52:51Z\n",
      "    message: Deployment has minimum availability.\n",
      "    reason: MinimumReplicasAvailable\n",
      "    status: \"True\"\n",
      "    type: Available\n",
      "  observedGeneration: 1\n",
      "  readyReplicas: 2\n",
      "  replicas: 2\n",
      "  updatedReplicas: 2\n"
     ]
    }
   ],
   "source": [
    "kubectl get deploy/k8s-demo -o yaml"
   ]
  },
  {
   "cell_type": "markdown",
   "metadata": {
    "slideshow": {
     "slide_type": "slide"
    }
   },
   "source": [
    "## Creating resources from a yaml file\n",
    "\n",
    "This is the usual way in which we would create Resources on our cluster as it is declarative and repeatable."
   ]
  },
  {
   "cell_type": "markdown",
   "metadata": {
    "slideshow": {
     "slide_type": "slide"
    }
   },
   "source": [
    "## Obtaining the example yaml\n",
    "\n",
    "If you are using one of the VMS created for this lab then the example code will have been placed under:\n",
    "~/src/git/ContainerOrchestration.Labs/Orchestration-Kubernetes/\n",
    "\n",
    "If you are running in your own environment, or under play-with-kubernetes.com, you will first need to clone the repository:\n",
    "\n",
    "```git clone https://github.com/ContainerOrchestration/Labs```\n",
    "\n",
    "**NOTE**: You may also need to checkout the current branch, e.g.:FOSSAsia2018\n",
    "\n",
    "```git checkout FOSSAsia2018```\n",
    "\n",
    "## Inspecting the example\n",
    "\n",
    "In the example yaml below, we see that we specify a Pod to be created (this is the smallest unit of execution in a Kubernetes cluster) which will contains 2 containers.\n",
    "\n",
    "The yaml specifies which Kubernetes api version to use, the \"*kind*\" of object to be managed, and it's name."
   ]
  },
  {
   "cell_type": "code",
   "execution_count": 9,
   "metadata": {
    "slideshow": {
     "slide_type": "slide"
    }
   },
   "outputs": [
    {
     "name": "stdout",
     "output_type": "stream",
     "text": [
      "\n",
      "apiVersion: v1\n",
      "kind: Pod\n",
      "metadata:\n",
      "  name: 2-containers-in-a-pod\n",
      "spec:\n",
      "  containers:\n",
      "  - name: k8s-demo\n",
      "    image: mjbright/k8s-demo:1\n",
      "    ports:\n",
      "    - containerPort: 9876\n",
      "  - name: shell\n",
      "    image: alpine\n",
      "    command:\n",
      "      - \"bin/sh\"\n",
      "      - \"-c\"\n",
      "      - \"while true; do date; sleep 1; done\"\n",
      "\n"
     ]
    }
   ],
   "source": [
    "cat examples/3.pod_example.yaml"
   ]
  },
  {
   "cell_type": "markdown",
   "metadata": {
    "slideshow": {
     "slide_type": "slide"
    }
   },
   "source": [
    "Now we can create our pod as follows:"
   ]
  },
  {
   "cell_type": "code",
   "execution_count": 11,
   "metadata": {
    "slideshow": {
     "slide_type": "fragment"
    }
   },
   "outputs": [
    {
     "name": "stdout",
     "output_type": "stream",
     "text": [
      "pod \"2-containers-in-a-pod\" created\n"
     ]
    }
   ],
   "source": [
    "kubectl create -f examples/3.pod_example.yaml"
   ]
  },
  {
   "cell_type": "code",
   "execution_count": 16,
   "metadata": {
    "slideshow": {
     "slide_type": "slide"
    }
   },
   "outputs": [
    {
     "name": "stdout",
     "output_type": "stream",
     "text": [
      "NAME                    READY     STATUS              RESTARTS   AGE\n",
      "2-containers-in-a-pod   0/2       ContainerCreating   0          0s\n"
     ]
    }
   ],
   "source": [
    "kubectl get po/2-containers-in-a-pod"
   ]
  },
  {
   "cell_type": "code",
   "execution_count": 12,
   "metadata": {
    "slideshow": {
     "slide_type": "fragment"
    }
   },
   "outputs": [
    {
     "name": "stdout",
     "output_type": "stream",
     "text": [
      "NAME                    READY     STATUS    RESTARTS   AGE\n",
      "2-containers-in-a-pod   2/2       Running   0          15s\n"
     ]
    }
   ],
   "source": [
    "kubectl get po/2-containers-in-a-pod"
   ]
  },
  {
   "cell_type": "code",
   "execution_count": 13,
   "metadata": {
    "slideshow": {
     "slide_type": "slide"
    }
   },
   "outputs": [
    {
     "name": "stdout",
     "output_type": "stream",
     "text": [
      "Name:         2-containers-in-a-pod\n",
      "Namespace:    default\n",
      "Node:         aks-nodepool1-35637019-6/10.240.0.12\n",
      "Start Time:   Sat, 06 Oct 2018 11:55:02 +0200\n",
      "Labels:       <none>\n",
      "Annotations:  <none>\n",
      "Status:       Running\n",
      "IP:           10.244.6.5\n",
      "Containers:\n",
      "  k8s-demo:\n",
      "    Container ID:   docker://0b97523dd301794c807a8ae8a4d61876e8d0e9d4f0e81041053e0ed695d21e44\n",
      "    Image:          mjbright/k8s-demo:1\n",
      "    Image ID:       docker-pullable://mjbright/k8s-demo@sha256:6d84d697796e0a529028808ba76e92482c4ca0c408e9f9eae8aba6f23c173264\n",
      "    Port:           9876/TCP\n",
      "    Host Port:      0/TCP\n",
      "    State:          Running\n",
      "      Started:      Sat, 06 Oct 2018 11:55:07 +0200\n",
      "    Ready:          True\n",
      "    Restart Count:  0\n",
      "    Environment:    <none>\n",
      "    Mounts:\n",
      "      /var/run/secrets/kubernetes.io/serviceaccount from default-token-mk5wp (ro)\n",
      "  shell:\n",
      "    Container ID:  docker://e5308a54edac8a798e35bde7c77b2f27f85439c75706e15fdffb73adb035254b\n",
      "    Image:         alpine\n",
      "    Image ID:      docker-pullable://alpine@sha256:621c2f39f8133acb8e64023a94dbdf0d5ca81896102b9e57c0dc184cadaf5528\n",
      "    Port:          <none>\n",
      "    Host Port:     <none>\n",
      "    Command:\n",
      "      bin/sh\n",
      "      -c\n",
      "      while true; do date; sleep 1; done\n",
      "    State:          Running\n",
      "      Started:      Sat, 06 Oct 2018 11:55:10 +0200\n",
      "    Ready:          True\n",
      "    Restart Count:  0\n",
      "    Environment:    <none>\n",
      "    Mounts:\n",
      "      /var/run/secrets/kubernetes.io/serviceaccount from default-token-mk5wp (ro)\n",
      "Conditions:\n",
      "  Type           Status\n",
      "  Initialized    True \n",
      "  Ready          True \n",
      "  PodScheduled   True \n",
      "Volumes:\n",
      "  default-token-mk5wp:\n",
      "    Type:        Secret (a volume populated by a Secret)\n",
      "    SecretName:  default-token-mk5wp\n",
      "    Optional:    false\n",
      "QoS Class:       BestEffort\n",
      "Node-Selectors:  <none>\n",
      "Tolerations:     node.kubernetes.io/not-ready:NoExecute for 300s\n",
      "                 node.kubernetes.io/unreachable:NoExecute for 300s\n",
      "Events:\n",
      "  Type    Reason                 Age   From                               Message\n",
      "  ----    ------                 ----  ----                               -------\n",
      "  Normal  Scheduled              20s   default-scheduler                  Successfully assigned 2-containers-in-a-pod to aks-nodepool1-35637019-6\n",
      "  Normal  SuccessfulMountVolume  19s   kubelet, aks-nodepool1-35637019-6  MountVolume.SetUp succeeded for volume \"default-token-mk5wp\"\n",
      "  Normal  Pulling                19s   kubelet, aks-nodepool1-35637019-6  pulling image \"mjbright/k8s-demo:1\"\n",
      "  Normal  Pulled                 16s   kubelet, aks-nodepool1-35637019-6  Successfully pulled image \"mjbright/k8s-demo:1\"\n",
      "  Normal  Created                15s   kubelet, aks-nodepool1-35637019-6  Created container\n",
      "  Normal  Started                15s   kubelet, aks-nodepool1-35637019-6  Started container\n",
      "  Normal  Pulling                15s   kubelet, aks-nodepool1-35637019-6  pulling image \"alpine\"\n",
      "  Normal  Pulled                 12s   kubelet, aks-nodepool1-35637019-6  Successfully pulled image \"alpine\"\n",
      "  Normal  Created                12s   kubelet, aks-nodepool1-35637019-6  Created container\n",
      "  Normal  Started                12s   kubelet, aks-nodepool1-35637019-6  Started container\n"
     ]
    }
   ],
   "source": [
    "kubectl describe po/2-containers-in-a-pod"
   ]
  },
  {
   "cell_type": "code",
   "execution_count": 19,
   "metadata": {
    "slideshow": {
     "slide_type": "slide"
    }
   },
   "outputs": [
    {
     "name": "stdout",
     "output_type": "stream",
     "text": [
      "Defaulting container name to k8s-demo.\n",
      "Use 'kubectl describe pod/2-containers-in-a-pod -n default' to see all of the containers in this pod.\n",
      "hello world\n"
     ]
    }
   ],
   "source": [
    "kubectl exec -it 2-containers-in-a-pod -n default echo hello world"
   ]
  },
  {
   "cell_type": "code",
   "execution_count": 14,
   "metadata": {
    "slideshow": {
     "slide_type": "fragment"
    }
   },
   "outputs": [
    {
     "name": "stdout",
     "output_type": "stream",
     "text": [
      "Sat Oct  6 09:55:10 UTC 2018\n",
      "Sat Oct  6 09:55:11 UTC 2018\n",
      "Sat Oct  6 09:55:12 UTC 2018\n"
     ]
    }
   ],
   "source": [
    "kubectl logs 2-containers-in-a-pod shell | head -3"
   ]
  },
  {
   "cell_type": "markdown",
   "metadata": {
    "slideshow": {
     "slide_type": "slide"
    }
   },
   "source": [
    "It would be interesting to get the sidecar container to update the main k8s-demo container output (kubernetes icon in text format).  This could be done by changing the exec arguments in the yaml file used to create the deployment ... next time ;-)"
   ]
  },
  {
   "cell_type": "code",
   "execution_count": 15,
   "metadata": {
    "slideshow": {
     "slide_type": "slide"
    }
   },
   "outputs": [
    {
     "name": "stdout",
     "output_type": "stream",
     "text": [
      "pod \"2-containers-in-a-pod\" deleted\n"
     ]
    }
   ],
   "source": [
    "kubectl delete po/2-containers-in-a-pod"
   ]
  },
  {
   "cell_type": "code",
   "execution_count": 16,
   "metadata": {
    "slideshow": {
     "slide_type": "fragment"
    }
   },
   "outputs": [
    {
     "name": "stdout",
     "output_type": "stream",
     "text": [
      "NAME                        READY     STATUS        RESTARTS   AGE\n",
      "2-containers-in-a-pod       2/2       Terminating   0          7m\n",
      "k8s-demo-6b76bd84d7-47b2q   1/1       Running       0          9m\n",
      "k8s-demo-6b76bd84d7-6ss2r   1/1       Running       0          9m\n"
     ]
    }
   ],
   "source": [
    "kubectl get pods"
   ]
  },
  {
   "cell_type": "markdown",
   "metadata": {
    "slideshow": {
     "slide_type": "slide"
    }
   },
   "source": [
    "## What happens if a pod dies?"
   ]
  },
  {
   "cell_type": "code",
   "execution_count": 17,
   "metadata": {
    "slideshow": {
     "slide_type": "fragment"
    }
   },
   "outputs": [
    {
     "name": "stdout",
     "output_type": "stream",
     "text": [
      "NAME                        READY     STATUS        RESTARTS   AGE       IP           NODE\n",
      "2-containers-in-a-pod       2/2       Terminating   0          7m        10.244.6.5   aks-nodepool1-35637019-6\n",
      "k8s-demo-6b76bd84d7-47b2q   1/1       Running       0          9m        10.244.8.5   aks-nodepool1-35637019-1\n",
      "k8s-demo-6b76bd84d7-6ss2r   1/1       Running       0          9m        10.244.4.5   aks-nodepool1-35637019-9\n"
     ]
    }
   ],
   "source": [
    "kubectl get pods -o wide"
   ]
  },
  {
   "cell_type": "markdown",
   "metadata": {
    "slideshow": {
     "slide_type": "slide"
    }
   },
   "source": [
    "When we deleted the 2-containers-in-a-pod Pod it just died.\n",
    "\n",
    "If we delete one of our k8s-demo Pods we will see that a new Pod is created automatically, this is because it is managed by a ReplicaSet.\n",
    "\n",
    "Running a Pod via \"kubectl run\" creates a Deployment which then creates a ReplicaSet.\n",
    "\n",
    "Let's kill one of our Pods and see what happens\n"
   ]
  },
  {
   "cell_type": "code",
   "execution_count": 24,
   "metadata": {
    "slideshow": {
     "slide_type": "fragment"
    }
   },
   "outputs": [
    {
     "name": "stdout",
     "output_type": "stream",
     "text": [
      "k8s-demo-6b76bd84d7-6ss2r\n"
     ]
    }
   ],
   "source": [
    "kubectl get pod | grep k8s-demo | head -1 | awk '{ print $1;}'\n",
    "\n",
    "POD1=$(kubectl get pod | grep k8s-demo | head -1 | awk '{ print $1;}')"
   ]
  },
  {
   "cell_type": "code",
   "execution_count": 25,
   "metadata": {
    "slideshow": {
     "slide_type": "slide"
    }
   },
   "outputs": [
    {
     "name": "stdout",
     "output_type": "stream",
     "text": [
      "pod \"k8s-demo-6b76bd84d7-6ss2r\" deleted\n"
     ]
    }
   ],
   "source": [
    "kubectl delete pod $POD1"
   ]
  },
  {
   "cell_type": "code",
   "execution_count": 26,
   "metadata": {
    "slideshow": {
     "slide_type": "fragment"
    }
   },
   "outputs": [
    {
     "name": "stdout",
     "output_type": "stream",
     "text": [
      "NAME                        READY     STATUS              RESTARTS   AGE       IP           NODE\n",
      "k8s-demo-6b76bd84d7-6ss2r   0/1       Terminating         0          11m       10.244.4.5   aks-nodepool1-35637019-9\n",
      "k8s-demo-6b76bd84d7-v4v2c   1/1       Running             0          1m        10.244.3.5   aks-nodepool1-35637019-5\n",
      "k8s-demo-6b76bd84d7-vsnj9   0/1       ContainerCreating   0          5s        <none>       aks-nodepool1-35637019-7\n"
     ]
    }
   ],
   "source": [
    "kubectl get pods -o wide"
   ]
  },
  {
   "cell_type": "code",
   "execution_count": 27,
   "metadata": {
    "slideshow": {
     "slide_type": "fragment"
    }
   },
   "outputs": [
    {
     "name": "stdout",
     "output_type": "stream",
     "text": [
      "NAME                        READY     STATUS    RESTARTS   AGE       IP           NODE\n",
      "k8s-demo-6b76bd84d7-v4v2c   1/1       Running   0          2m        10.244.3.5   aks-nodepool1-35637019-5\n",
      "k8s-demo-6b76bd84d7-vsnj9   1/1       Running   0          19s       10.244.9.4   aks-nodepool1-35637019-7\n"
     ]
    }
   ],
   "source": [
    "sleep 10; kubectl get pods -o wide"
   ]
  },
  {
   "cell_type": "markdown",
   "metadata": {
    "slideshow": {
     "slide_type": "slide"
    }
   },
   "source": [
    "We see that our Pod was deleted but that a new one was created, this is what we expect when our Pod is managed by a ReplicaSet."
   ]
  },
  {
   "cell_type": "markdown",
   "metadata": {
    "slideshow": {
     "slide_type": "slide"
    }
   },
   "source": [
    "# Labels and Selectors\n",
    "\n",
    "Labels can be applied to any Kubernetes generated objects and this can be useful to be able to apply operations to only selected objects based on their labels.\n",
    "\n",
    "We can see that our k8s-demo Deployment earlier had labels automatically assigned to it.\n",
    "\n",
    "We can create other Deployments, or Pods with a specific label."
   ]
  },
  {
   "cell_type": "code",
   "execution_count": 28,
   "metadata": {
    "slideshow": {
     "slide_type": "slide"
    }
   },
   "outputs": [
    {
     "name": "stdout",
     "output_type": "stream",
     "text": [
      "Name:                   k8s-demo\n",
      "Namespace:              default\n",
      "CreationTimestamp:      Sat, 06 Oct 2018 11:52:45 +0200\n",
      "Labels:                 app=k8s-demo\n",
      "Annotations:            deployment.kubernetes.io/revision=1\n",
      "Selector:               app=k8s-demo\n",
      "Replicas:               2 desired | 2 updated | 2 total | 2 available | 0 unavailable\n",
      "StrategyType:           RollingUpdate\n",
      "MinReadySeconds:        0\n",
      "RollingUpdateStrategy:  1 max unavailable, 1 max surge\n",
      "Pod Template:\n",
      "  Labels:  app=k8s-demo\n",
      "  Containers:\n",
      "   k8s-demo:\n",
      "    Image:        mjbright/k8s-demo:1\n",
      "    Port:         8080/TCP\n",
      "    Host Port:    0/TCP\n",
      "    Environment:  <none>\n",
      "    Mounts:       <none>\n",
      "  Volumes:        <none>\n",
      "Conditions:\n",
      "  Type           Status  Reason\n",
      "  ----           ------  ------\n",
      "  Available      True    MinimumReplicasAvailable\n",
      "OldReplicaSets:  <none>\n",
      "NewReplicaSet:   k8s-demo-6b76bd84d7 (2/2 replicas created)\n",
      "Events:\n",
      "  Type    Reason             Age   From                   Message\n",
      "  ----    ------             ----  ----                   -------\n",
      "  Normal  ScalingReplicaSet  12m   deployment-controller  Scaled up replica set k8s-demo-6b76bd84d7 to 2\n"
     ]
    }
   ],
   "source": [
    "kubectl describe deploy k8s-demo #| grep Labels:"
   ]
  },
  {
   "cell_type": "markdown",
   "metadata": {
    "slideshow": {
     "slide_type": "slide"
    }
   },
   "source": [
    "Now let's create a 2nd deployment with a label we assign:"
   ]
  },
  {
   "cell_type": "code",
   "execution_count": 29,
   "metadata": {
    "slideshow": {
     "slide_type": "slide"
    }
   },
   "outputs": [
    {
     "name": "stdout",
     "output_type": "stream",
     "text": [
      "deployment.apps \"k8s-demo-test\" created\n"
     ]
    }
   ],
   "source": [
    "kubectl run k8s-demo-test -l \"mylabel=testing-v3\" --image=mjbright/k8s-demo:3"
   ]
  },
  {
   "cell_type": "code",
   "execution_count": 30,
   "metadata": {
    "slideshow": {
     "slide_type": "fragment"
    }
   },
   "outputs": [
    {
     "name": "stdout",
     "output_type": "stream",
     "text": [
      "\u001b[01;31m\u001b[Kk8s-demo\u001b[m\u001b[K-6b76bd84d7-v4v2c       1/1       Running             0          2m\n",
      "\u001b[01;31m\u001b[Kk8s-demo\u001b[m\u001b[K-6b76bd84d7-vsnj9       1/1       Running             0          39s\n",
      "\u001b[01;31m\u001b[Kk8s-demo\u001b[m\u001b[K-test-c5d55945b-gdvz2   0/1       ContainerCreating   0          4s\n"
     ]
    }
   ],
   "source": [
    "kubectl get po | grep k8s-demo"
   ]
  },
  {
   "cell_type": "markdown",
   "metadata": {
    "slideshow": {
     "slide_type": "subslide"
    }
   },
   "source": [
    "Now we can choose to operate on, e.g. delete, only objects matching a label - note we must delete the Deployment itself no the Pods else they will be recreated."
   ]
  },
  {
   "cell_type": "code",
   "execution_count": 31,
   "metadata": {
    "slideshow": {
     "slide_type": "fragment"
    }
   },
   "outputs": [
    {
     "name": "stdout",
     "output_type": "stream",
     "text": [
      "deployment.extensions \"k8s-demo-test\" deleted\n"
     ]
    }
   ],
   "source": [
    "kubectl delete deploy -l \"mylabel=testing-v3\""
   ]
  },
  {
   "cell_type": "code",
   "execution_count": 32,
   "metadata": {
    "slideshow": {
     "slide_type": "fragment"
    }
   },
   "outputs": [
    {
     "name": "stdout",
     "output_type": "stream",
     "text": [
      "\u001b[01;31m\u001b[Kk8s-demo\u001b[m\u001b[K-6b76bd84d7-v4v2c       1/1       Running       0          2m\n",
      "\u001b[01;31m\u001b[Kk8s-demo\u001b[m\u001b[K-6b76bd84d7-vsnj9       1/1       Running       0          1m\n",
      "\u001b[01;31m\u001b[Kk8s-demo\u001b[m\u001b[K-test-c5d55945b-gdvz2   0/1       Terminating   0          25s\n",
      "You have new mail in /var/mail/mjb\n"
     ]
    }
   ],
   "source": [
    "kubectl get po | grep k8s-demo"
   ]
  },
  {
   "cell_type": "markdown",
   "metadata": {
    "slideshow": {
     "slide_type": "fragment"
    }
   },
   "source": [
    "This is an extremely important concept in Kubernetes allowing a loose coupling of elements, where Controllers can keep track of elements of the cluster and request resources based on their labels."
   ]
  },
  {
   "cell_type": "markdown",
   "metadata": {
    "slideshow": {
     "slide_type": "slide"
    }
   },
   "source": [
    "## Changing a label\n",
    "\n",
    "We can also try removing a label from a Pod which was assigned by it's Controller (ReplicaSet)."
   ]
  },
  {
   "cell_type": "code",
   "execution_count": 34,
   "metadata": {
    "slideshow": {
     "slide_type": "slide"
    }
   },
   "outputs": [
    {
     "name": "stdout",
     "output_type": "stream",
     "text": [
      "NAME                        READY     STATUS    RESTARTS   AGE       LABELS\n",
      "k8s-demo-6b76bd84d7-v4v2c   1/1       Running   0          6m        app=k8s-demo,pod-template-hash=2632684083\n",
      "k8s-demo-6b76bd84d7-vsnj9   1/1       Running   0          4m        app=k8s-demo,pod-template-hash=2632684083\n"
     ]
    }
   ],
   "source": [
    "kubectl get pods --show-labels"
   ]
  },
  {
   "cell_type": "markdown",
   "metadata": {
    "slideshow": {
     "slide_type": "slide"
    }
   },
   "source": [
    "Let's use the\n",
    "\n",
    "```kubectl label pod <pod> app-```\n",
    "\n",
    "command to remove the app label which the ReplicaSet uses:\n",
    "    "
   ]
  },
  {
   "cell_type": "code",
   "execution_count": 37,
   "metadata": {
    "slideshow": {
     "slide_type": "slide"
    }
   },
   "outputs": [
    {
     "name": "stdout",
     "output_type": "stream",
     "text": [
      "pod \"k8s-demo-6b76bd84d7-v4v2c\" labeled\n"
     ]
    }
   ],
   "source": [
    "kubectl label pod $(kubectl get pods --no-headers | awk '{ print $1; exit(0); }') app-"
   ]
  },
  {
   "cell_type": "markdown",
   "metadata": {
    "slideshow": {
     "slide_type": "slide"
    }
   },
   "source": [
    "## Can you explain what happened? - see below"
   ]
  },
  {
   "cell_type": "code",
   "execution_count": 38,
   "metadata": {
    "slideshow": {
     "slide_type": "slide"
    }
   },
   "outputs": [
    {
     "name": "stdout",
     "output_type": "stream",
     "text": [
      "NAME                        READY     STATUS    RESTARTS   AGE       LABELS\n",
      "k8s-demo-6b76bd84d7-qmzrl   1/1       Running   0          15s       app=k8s-demo,pod-template-hash=2632684083\n",
      "k8s-demo-6b76bd84d7-v4v2c   1/1       Running   0          10m       pod-template-hash=2632684083\n",
      "k8s-demo-6b76bd84d7-vsnj9   1/1       Running   0          8m        app=k8s-demo,pod-template-hash=2632684083\n"
     ]
    }
   ],
   "source": [
    "kubectl get pods --show-labels"
   ]
  },
  {
   "cell_type": "markdown",
   "metadata": {
    "slideshow": {
     "slide_type": "slide"
    }
   },
   "source": [
    "What happened is that the replicaSet created Pods with label app=k8s-demo and it uses this to know which Pods to manage.  As we removed the label, that Pod was no longer managed by the ReplicaSet, which then launched a new instance so that it manages the same 2 replicas."
   ]
  },
  {
   "cell_type": "markdown",
   "metadata": {
    "slideshow": {
     "slide_type": "slide"
    }
   },
   "source": [
    "Now let's delete the unmanaged instance before proceeding"
   ]
  },
  {
   "cell_type": "code",
   "execution_count": 46,
   "metadata": {
    "slideshow": {
     "slide_type": "slide"
    }
   },
   "outputs": [
    {
     "name": "stdout",
     "output_type": "stream",
     "text": [
      "pod \"k8s-demo-6b76bd84d7-v4v2c\" deleted\n"
     ]
    }
   ],
   "source": [
    "kubectl delete pod $(kubectl get pods --show-labels | grep k8s-demo | grep -v app= | awk '{ print $1; }')"
   ]
  },
  {
   "cell_type": "markdown",
   "metadata": {
    "slideshow": {
     "slide_type": "slide"
    }
   },
   "source": [
    "# Scaling our application\n",
    "\n",
    "As our Pods are managed by a **ReplicaSet** we can scale the number of replicas by using the scale command on the **Deployment**:"
   ]
  },
  {
   "cell_type": "code",
   "execution_count": 47,
   "metadata": {
    "slideshow": {
     "slide_type": "fragment"
    }
   },
   "outputs": [
    {
     "name": "stdout",
     "output_type": "stream",
     "text": [
      "deployment.extensions \"k8s-demo\" scaled\n"
     ]
    }
   ],
   "source": [
    "kubectl scale --replicas=3 deploy/k8s-demo"
   ]
  },
  {
   "cell_type": "code",
   "execution_count": 48,
   "metadata": {
    "slideshow": {
     "slide_type": "slide"
    }
   },
   "outputs": [
    {
     "name": "stdout",
     "output_type": "stream",
     "text": [
      "NAME                            READY     STATUS    RESTARTS   AGE\n",
      "pod/k8s-demo-6b76bd84d7-nt4bd   1/1       Running   0          5s\n",
      "pod/k8s-demo-6b76bd84d7-qmzrl   1/1       Running   0          4m\n",
      "pod/k8s-demo-6b76bd84d7-vsnj9   1/1       Running   0          12m\n",
      "\n",
      "NAME                 TYPE        CLUSTER-IP   EXTERNAL-IP   PORT(S)   AGE\n",
      "service/kubernetes   ClusterIP   10.0.0.1     <none>        443/TCP   16h\n",
      "\n",
      "NAME                             DESIRED   CURRENT   UP-TO-DATE   AVAILABLE   AGE\n",
      "deployment.extensions/k8s-demo   3         3         3            3           24m\n",
      "\n",
      "NAME                                        DESIRED   CURRENT   READY     AGE\n",
      "replicaset.extensions/k8s-demo-6b76bd84d7   3         3         3         24m\n",
      "\n",
      "NAME                       DESIRED   CURRENT   UP-TO-DATE   AVAILABLE   AGE\n",
      "deployment.apps/k8s-demo   3         3         3            3           24m\n",
      "\n",
      "NAME                                  DESIRED   CURRENT   READY     AGE\n",
      "replicaset.apps/k8s-demo-6b76bd84d7   3         3         3         24m\n"
     ]
    }
   ],
   "source": [
    "kubectl get all"
   ]
  },
  {
   "cell_type": "code",
   "execution_count": 49,
   "metadata": {
    "slideshow": {
     "slide_type": "slide"
    }
   },
   "outputs": [
    {
     "name": "stdout",
     "output_type": "stream",
     "text": [
      "NAME                        READY     STATUS    RESTARTS   AGE       IP           NODE\n",
      "k8s-demo-6b76bd84d7-nt4bd   1/1       Running   0          8s        10.244.4.6   aks-nodepool1-35637019-9\n",
      "k8s-demo-6b76bd84d7-qmzrl   1/1       Running   0          4m        10.244.6.7   aks-nodepool1-35637019-6\n",
      "k8s-demo-6b76bd84d7-vsnj9   1/1       Running   0          12m       10.244.9.4   aks-nodepool1-35637019-7\n"
     ]
    }
   ],
   "source": [
    "kubectl get pods -o wide"
   ]
  },
  {
   "cell_type": "markdown",
   "metadata": {
    "slideshow": {
     "slide_type": "slide"
    }
   },
   "source": [
    "### Scaling down\n",
    "\n",
    "We can of course scale back down:"
   ]
  },
  {
   "cell_type": "code",
   "execution_count": 50,
   "metadata": {
    "slideshow": {
     "slide_type": "fragment"
    }
   },
   "outputs": [
    {
     "name": "stdout",
     "output_type": "stream",
     "text": [
      "deployment.extensions \"k8s-demo\" scaled\n"
     ]
    }
   ],
   "source": [
    "kubectl scale --replicas=2 deploy/k8s-demo"
   ]
  },
  {
   "cell_type": "code",
   "execution_count": 51,
   "metadata": {
    "slideshow": {
     "slide_type": "slide"
    }
   },
   "outputs": [
    {
     "name": "stdout",
     "output_type": "stream",
     "text": [
      "NAME                        READY     STATUS        RESTARTS   AGE       IP           NODE\n",
      "k8s-demo-6b76bd84d7-nt4bd   0/1       Terminating   0          31s       10.244.4.6   aks-nodepool1-35637019-9\n",
      "k8s-demo-6b76bd84d7-qmzrl   1/1       Running       0          5m        10.244.6.7   aks-nodepool1-35637019-6\n",
      "k8s-demo-6b76bd84d7-vsnj9   1/1       Running       0          13m       10.244.9.4   aks-nodepool1-35637019-7\n"
     ]
    }
   ],
   "source": [
    "kubectl get pods -o wide"
   ]
  },
  {
   "cell_type": "markdown",
   "metadata": {
    "slideshow": {
     "slide_type": "slide"
    }
   },
   "source": [
    "## Accessing our application\n",
    "\n",
    "To access our application pods we should expose them as a service.\n",
    "This would have the advantage of being able to address a virtual ip address for our service as pods themselves come and go (so we don't need to determine their address), and also allows load balancing between pods.\n",
    "\n",
    "### Accessing our application - directly accessing Pods\n",
    "\n",
    "But there are other more basic ways that we will investigate first.\n",
    "\n",
    "If we perform '''kubectl get pods -o wide''' we will see the cluster ip of our pods, enabling us to access directly to the pods."
   ]
  },
  {
   "cell_type": "code",
   "execution_count": 52,
   "metadata": {
    "slideshow": {
     "slide_type": "fragment"
    }
   },
   "outputs": [
    {
     "name": "stdout",
     "output_type": "stream",
     "text": [
      "NAME                        READY     STATUS    RESTARTS   AGE       IP           NODE\n",
      "k8s-demo-6b76bd84d7-qmzrl   1/1       Running   0          5m        10.244.6.7   aks-nodepool1-35637019-6\n",
      "k8s-demo-6b76bd84d7-vsnj9   1/1       Running   0          13m       10.244.9.4   aks-nodepool1-35637019-7\n"
     ]
    }
   ],
   "source": [
    "kubectl get pods -o wide "
   ]
  },
  {
   "cell_type": "code",
   "execution_count": 53,
   "metadata": {
    "slideshow": {
     "slide_type": "slide"
    }
   },
   "outputs": [
    {
     "name": "stdout",
     "output_type": "stream",
     "text": [
      "POD1=k8s-demo-6b76bd84d7-qmzrl POD1_IP=10.244.6.7\n",
      "POD2=k8s-demo-6b76bd84d7-vsnj9 POD2_IP=10.244.9.4\n"
     ]
    }
   ],
   "source": [
    "POD1=$(kubectl get pod -o wide --no-headers | grep k8s-demo | head -1 | awk '{print $1;}')\n",
    "POD2=$(kubectl get pod -o wide --no-headers | grep k8s-demo | tail -1 | awk '{print $1;}')\n",
    "POD1_IP=$(kubectl get pod -o wide --no-headers | grep k8s-demo | head -1 | awk '{print $6;}')\n",
    "POD2_IP=$(kubectl get pod -o wide --no-headers | grep k8s-demo | tail -1 | awk '{print $6;}')\n",
    "\n",
    "echo POD1=$POD1 POD1_IP=$POD1_IP\n",
    "echo POD2=$POD2 POD2_IP=$POD2_IP"
   ]
  },
  {
   "cell_type": "markdown",
   "metadata": {
    "slideshow": {
     "slide_type": "fragment"
    }
   },
   "source": [
    "Let's look at the yaml information for POD1:"
   ]
  },
  {
   "cell_type": "code",
   "execution_count": 54,
   "metadata": {
    "slideshow": {
     "slide_type": "slide"
    }
   },
   "outputs": [
    {
     "name": "stdout",
     "output_type": "stream",
     "text": [
      "apiVersion: v1\n",
      "kind: Pod\n",
      "metadata:\n",
      "  creationTimestamp: 2018-10-06T10:12:35Z\n",
      "  generateName: k8s-demo-6b76bd84d7-\n",
      "  labels:\n",
      "    app: k8s-demo\n",
      "    pod-template-hash: \"2632684083\"\n",
      "  name: k8s-demo-6b76bd84d7-qmzrl\n",
      "  namespace: default\n",
      "  ownerReferences:\n",
      "  - apiVersion: extensions/v1beta1\n",
      "    blockOwnerDeletion: true\n",
      "    controller: true\n",
      "    kind: ReplicaSet\n",
      "    name: k8s-demo-6b76bd84d7\n",
      "    uid: 93552f2a-c94d-11e8-a432-6ad902cee12c\n",
      "  resourceVersion: \"117847\"\n",
      "  selfLink: /api/v1/namespaces/default/pods/k8s-demo-6b76bd84d7-qmzrl\n",
      "  uid: 5880d2b7-c950-11e8-a432-6ad902cee12c\n",
      "spec:\n",
      "  containers:\n",
      "  - image: mjbright/k8s-demo:1\n",
      "    imagePullPolicy: IfNotPresent\n",
      "    name: k8s-demo\n",
      "    ports:\n",
      "    - containerPort: 8080\n",
      "      protocol: TCP\n",
      "    resources: {}\n",
      "    terminationMessagePath: /dev/termination-log\n",
      "    terminationMessagePolicy: File\n",
      "    volumeMounts:\n",
      "    - mountPath: /var/run/secrets/kubernetes.io/serviceaccount\n",
      "      name: default-token-mk5wp\n",
      "      readOnly: true\n",
      "  dnsPolicy: ClusterFirst\n",
      "  nodeName: aks-nodepool1-35637019-6\n",
      "  restartPolicy: Always\n",
      "  schedulerName: default-scheduler\n",
      "  securityContext: {}\n",
      "  serviceAccount: default\n",
      "  serviceAccountName: default\n",
      "  terminationGracePeriodSeconds: 30\n",
      "  tolerations:\n",
      "  - effect: NoExecute\n",
      "    key: node.kubernetes.io/not-ready\n",
      "    operator: Exists\n",
      "    tolerationSeconds: 300\n",
      "  - effect: NoExecute\n",
      "    key: node.kubernetes.io/unreachable\n",
      "    operator: Exists\n",
      "    tolerationSeconds: 300\n",
      "  volumes:\n",
      "  - name: default-token-mk5wp\n",
      "    secret:\n",
      "      defaultMode: 420\n",
      "      secretName: default-token-mk5wp\n",
      "status:\n",
      "  conditions:\n",
      "  - lastProbeTime: null\n",
      "    lastTransitionTime: 2018-10-06T10:12:35Z\n",
      "    status: \"True\"\n",
      "    type: Initialized\n",
      "  - lastProbeTime: null\n",
      "    lastTransitionTime: 2018-10-06T10:12:36Z\n",
      "    status: \"True\"\n",
      "    type: Ready\n",
      "  - lastProbeTime: null\n",
      "    lastTransitionTime: 2018-10-06T10:12:35Z\n",
      "    status: \"True\"\n",
      "    type: PodScheduled\n",
      "  containerStatuses:\n",
      "  - containerID: docker://bf03a0649e22dc6f76d6d3ce82e17c10dfbb3c2a54883f1800a7159c27156804\n",
      "    image: mjbright/k8s-demo:1\n",
      "    imageID: docker-pullable://mjbright/k8s-demo@sha256:6d84d697796e0a529028808ba76e92482c4ca0c408e9f9eae8aba6f23c173264\n",
      "    lastState: {}\n",
      "    name: k8s-demo\n",
      "    ready: true\n",
      "    restartCount: 0\n",
      "    state:\n",
      "      running:\n",
      "        startedAt: 2018-10-06T10:12:36Z\n",
      "  hostIP: 10.240.0.12\n",
      "  phase: Running\n",
      "  podIP: 10.244.6.7\n",
      "  qosClass: BestEffort\n",
      "  startTime: 2018-10-06T10:12:35Z\n"
     ]
    }
   ],
   "source": [
    "kubectl get pod $POD1 -o yaml"
   ]
  },
  {
   "cell_type": "markdown",
   "metadata": {
    "slideshow": {
     "slide_type": "slide"
    }
   },
   "source": [
    "We can see that the containerPort 8080/TCP is exposed (as we specified on our initial '*kubectl run*' command).\n",
    "\n",
    "So now we can access to the pods directly on their port 8080.\n",
    "\n",
    "## To be updated (we cannot directly access pod IPs on AKS Cluster)"
   ]
  },
  {
   "cell_type": "code",
   "execution_count": 55,
   "metadata": {
    "slideshow": {
     "slide_type": "slide"
    }
   },
   "outputs": [
    {
     "name": "stdout",
     "output_type": "stream",
     "text": [
      "\r\n"
     ]
    }
   ],
   "source": [
    "curl http://$POD1_IP:8080"
   ]
  },
  {
   "cell_type": "code",
   "execution_count": 43,
   "metadata": {
    "slideshow": {
     "slide_type": "slide"
    }
   },
   "outputs": [
    {
     "name": "stdout",
     "output_type": "stream",
     "text": [
      "\n",
      "\u001b[1;34m\n",
      "\n",
      "                               \n",
      "                    (((((((((                  \n",
      "               .(((((((((((((((((.             \n",
      "           .((((((((((((&((((((((((((.         \n",
      "       /((((((((((((((((@((((((((((((((((/     \n",
      "      ((((((((((((((((((@((((((((((((((((((    \n",
      "     *(((((##((((((@@@@@@@@@@@((((((%#(((((*   \n",
      "     (((((((@@@(@@@@#((@@@((#@@@@(@@@(((((((   \n",
      "    *(((((((((@@@@(((((@@@(((((@@@@(((((((((,  \n",
      "    (((((((((@@@%@@@@((@@@((@@@@%@@@(((((((((  \n",
      "   .(((((((((@@((((@@@@@@@@@@@((((@@(((((((((. \n",
      "   (((((((((&@@(((((@@@(((@@@(((((@@&((((((((( \n",
      "   (((((((((&@@@@@@@@@@#(#@@@@@@@@@@&((((((((( \n",
      "  ((((((@@@@@@@@(((((@@@@@@@(((((&@@@@@@@((((((\n",
      "  (((((((((((%@@((((%@@@(@@@%((((@@&(((((((((((\n",
      "   ((((((((((((@@@((@@%(((%@@((@@@(((((((((((( \n",
      "     (((((((((((#@@@@%(((((&@@@@#(((((((((((   \n",
      "      /(((((((((((@@@@@@@@@@@@@(((((((((((/    \n",
      "        (((((((((@@(((((((((((@@(((((((((      \n",
      "          (((((((&(((((((((((((&(((((((        \n",
      "           /(((((((((((((((((((((((((/         \n",
      "             (((((((((((((((((((((((           \n",
      "\n",
      "\u001b[0m\n",
      "\n",
      "Served from container \u001b[1;33mk8s-demo-6b76bd84d7-bvsxh\u001b[0;0m\n",
      "Using image mjbright/k8s-demo:1\n"
     ]
    }
   ],
   "source": [
    "curl http://$POD2_IP:8080"
   ]
  },
  {
   "cell_type": "markdown",
   "metadata": {
    "slideshow": {
     "slide_type": "slide"
    }
   },
   "source": [
    "**Note:** In a real deployment of course the actual Pod ips would not be externally accessible so we would want some way of making the nodes available on a well known address."
   ]
  }
 ],
 "metadata": {
  "celltoolbar": "Slideshow",
  "kernelspec": {
   "display_name": "Bash",
   "language": "bash",
   "name": "bash"
  },
  "language_info": {
   "codemirror_mode": "shell",
   "file_extension": ".sh",
   "mimetype": "text/x-sh",
   "name": "bash"
  }
 },
 "nbformat": 4,
 "nbformat_minor": 2
}
