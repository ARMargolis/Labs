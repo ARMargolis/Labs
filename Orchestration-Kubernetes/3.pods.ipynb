{
 "cells": [
  {
   "cell_type": "markdown",
   "metadata": {},
   "source": [
    "# Kubernetes Pods\n",
    "\n",
    "## Useful functions\n",
    "\n",
    "Here we defined some useful functions to be able to run this notebook in isolation:"
   ]
  },
  {
   "cell_type": "code",
   "execution_count": 1,
   "metadata": {},
   "outputs": [],
   "source": [
    "#\n",
    "# checkState TYPE NAME DESIRED\n",
    "#\n",
    "# description: Used to check state of kubernetes entity (useful to wait for conditions)\n",
    "#\n",
    "# example:\n",
    "#    checkState pod k8s-demo Running\n",
    "#\n",
    "# returns:\n",
    "#    0: If in desired state\n",
    "#    1: If not\n",
    "#\n",
    "checkState() {\n",
    "    TYPE=$1; shift\n",
    "    NAME=$1; shift\n",
    "    DESIRED=$1; shift\n",
    "    \n",
    "    QUIET=\"-q\"\n",
    "    [ ! -z \"$1\" ] && QUIET=\"\"\n",
    "    \n",
    "    kubectl get $TYPE | grep $NAME | grep $QUIET $DESIRED && return 0\n",
    "    \n",
    "    return 1\n",
    "}\n",
    "# set -x; checkState pod k8s-demo Running ; echo $?\n",
    "\n",
    "#\n",
    "# checkPresent TYPE NAME DESIRED\n",
    "#\n",
    "# description: Used to check presence of kubernetes entity (useful to wait for conditions)\n",
    "#\n",
    "# example:\n",
    "#    checkPresent pod k8s-demo\n",
    "#\n",
    "# returns:\n",
    "#    0: If present\n",
    "#    1: If not\n",
    "#\n",
    "checkPresent() {\n",
    "    TYPE=$1; shift\n",
    "    NAME=$1; shift\n",
    "    \n",
    "    QUIET=\"-q\"\n",
    "    [ ! -z \"$1\" ] && QUIET=\"\"\n",
    "    \n",
    "    kubectl get $TYPE | grep $NAME && return 0\n",
    "    \n",
    "    return 1\n",
    "}\n",
    "# set -x; checkPresent pod k8s-demo ; echo $?\n",
    "\n",
    "untilState() {\n",
    "    TYPE=$1; shift\n",
    "    NAME=$1; shift\n",
    "    DESIRED=$1; shift\n",
    "    \n",
    "    QUIET=\"-q\"\n",
    "    [ ! -z \"$1\" ] && QUIET=\"-v\"\n",
    "    \n",
    "    SLEEP=4\n",
    "    while ! checkState $TYPE $NAME $DESIRED $QUIET; do\n",
    "        sleep $SLEEP\n",
    "    done\n",
    "}\n",
    "# set -x; untilstate pod k8s-demo Running\n",
    "\n",
    "untilNotState() {\n",
    "    TYPE=$1; shift\n",
    "    NAME=$1; shift\n",
    "    DESIRED=$1; shift\n",
    "    \n",
    "    QUIET=\"-q\"\n",
    "    [ ! -z \"$1\" ] && QUIET=\"-v\"\n",
    "    \n",
    "    SLEEP=4\n",
    "    while checkState $TYPE $NAME $DESIRED $QUIET; do\n",
    "        sleep $SLEEP\n",
    "    done\n",
    "}\n",
    "# set -x; untilNotState pod k8s-demo Terminating\n",
    "\n",
    "untilPresent() {\n",
    "    TYPE=$1; shift\n",
    "    NAME=$1; shift\n",
    "    \n",
    "    QUIET=\"-q\"\n",
    "    [ ! -z \"$1\" ] && QUIET=\"-v\"\n",
    "    \n",
    "    SLEEP=4\n",
    "    while ! checkPresent $TYPE $NAME $QUIET; do\n",
    "        sleep $SLEEP\n",
    "    done\n",
    "}\n",
    "# set -x; untilPresent pod k8s-demo\n",
    "\n",
    "untilNotPresent() {\n",
    "    TYPE=$1; shift\n",
    "    NAME=$1; shift\n",
    "    \n",
    "    QUIET=\"-q\"\n",
    "    [ ! -z \"$1\" ] && QUIET=\"-v\"\n",
    "    \n",
    "    SLEEP=4\n",
    "    while checkPresent $TYPE $NAME $QUIET; do\n",
    "        sleep $SLEEP\n",
    "    done\n",
    "}\n",
    "# set -x; untilNotPresent pod k8s-demo\n",
    "\n",
    "#\n",
    "# cont\n",
    "#\n",
    "# description: Used to continue notebook execution despite non-zero return code of previous command\n",
    "#\n",
    "cont() {\n",
    "    return 0\n",
    "}\n",
    "\n",
    "set +x"
   ]
  },
  {
   "cell_type": "code",
   "execution_count": 2,
   "metadata": {},
   "outputs": [
    {
     "name": "stdout",
     "output_type": "stream",
     "text": [
      "NAME              DESIRED   CURRENT   UP-TO-DATE   AVAILABLE   AGE\n",
      "deploy/k8s-demo   2         2         2            2           4m\n",
      "\n",
      "NAME                     DESIRED   CURRENT   READY     AGE\n",
      "rs/k8s-demo-6b76bd84d7   2         2         2         4m\n",
      "\n",
      "NAME              DESIRED   CURRENT   UP-TO-DATE   AVAILABLE   AGE\n",
      "deploy/k8s-demo   2         2         2            2           4m\n",
      "\n",
      "NAME                     DESIRED   CURRENT   READY     AGE\n",
      "rs/k8s-demo-6b76bd84d7   2         2         2         4m\n",
      "\n",
      "NAME                           READY     STATUS    RESTARTS   AGE\n",
      "po/k8s-demo-6b76bd84d7-mzmkz   1/1       Running   0          4m\n",
      "po/k8s-demo-6b76bd84d7-w8s8x   1/1       Running   0          4m\n",
      "\n",
      "NAME             TYPE        CLUSTER-IP   EXTERNAL-IP   PORT(S)   AGE\n",
      "svc/kubernetes   ClusterIP   10.96.0.1    <none>        443/TCP   2d\n"
     ]
    }
   ],
   "source": [
    "kubectl get all"
   ]
  },
  {
   "cell_type": "markdown",
   "metadata": {},
   "source": [
    "## Cleanup\n",
    "\n",
    "Let's first verify that we have no Pods, Deployments, Services running in the default namespace by running the '*kubectl get all' command\n",
    "\n",
    "Then delete any running items (except '*svc/kubernetes*') if necessary"
   ]
  },
  {
   "cell_type": "code",
   "execution_count": 3,
   "metadata": {},
   "outputs": [
    {
     "name": "stdout",
     "output_type": "stream",
     "text": [
      "NAME              DESIRED   CURRENT   UP-TO-DATE   AVAILABLE   AGE\n",
      "deploy/k8s-demo   2         2         2            2           4m\n",
      "\n",
      "NAME                     DESIRED   CURRENT   READY     AGE\n",
      "rs/k8s-demo-6b76bd84d7   2         2         2         4m\n",
      "\n",
      "NAME              DESIRED   CURRENT   UP-TO-DATE   AVAILABLE   AGE\n",
      "deploy/k8s-demo   2         2         2            2           4m\n",
      "\n",
      "NAME                     DESIRED   CURRENT   READY     AGE\n",
      "rs/k8s-demo-6b76bd84d7   2         2         2         4m\n",
      "\n",
      "NAME                           READY     STATUS    RESTARTS   AGE\n",
      "po/k8s-demo-6b76bd84d7-mzmkz   1/1       Running   0          4m\n",
      "po/k8s-demo-6b76bd84d7-w8s8x   1/1       Running   0          4m\n",
      "\n",
      "NAME             TYPE        CLUSTER-IP   EXTERNAL-IP   PORT(S)   AGE\n",
      "svc/kubernetes   ClusterIP   10.96.0.1    <none>        443/TCP   2d\n"
     ]
    }
   ],
   "source": [
    "kubectl get all"
   ]
  },
  {
   "cell_type": "code",
   "execution_count": 4,
   "metadata": {},
   "outputs": [
    {
     "name": "stdout",
     "output_type": "stream",
     "text": [
      "k8s-demo   2         2         2            2           4m\n",
      "deployment \"k8s-demo\" deleted\n"
     ]
    }
   ],
   "source": [
    "checkPresent pod    2-containers-in-a-pod &&\n",
    "    kubectl delete po/2-containers-in-a-pod\n",
    "checkPresent deploy k8s-demo              &&\n",
    "    kubectl delete deploy k8s-demo\n",
    "checkPresent svc    k8s-demo              &&\n",
    "    kubectl delete service k8s-demo-service\n",
    "cont"
   ]
  },
  {
   "cell_type": "code",
   "execution_count": 5,
   "metadata": {},
   "outputs": [
    {
     "name": "stdout",
     "output_type": "stream",
     "text": [
      "NAME             TYPE        CLUSTER-IP   EXTERNAL-IP   PORT(S)   AGE\n",
      "svc/kubernetes   ClusterIP   10.96.0.1    <none>        443/TCP   2d\n"
     ]
    }
   ],
   "source": [
    "kubectl get all"
   ]
  },
  {
   "cell_type": "markdown",
   "metadata": {},
   "source": [
    "We've seen already how we can interrogate our cluster server using the kubectl tool, obtaining information about objects such as some system pods, in the system.\n",
    "\n",
    "Now let's create our own pods using kubectl.\n",
    "\n",
    "Normally we would not create pods directly using command-line arguments, as we will do here.\n",
    "\n",
    "We would create objects in a repeatable, declarative way from yaml files, but we will do that later.\n",
    "\n",
    "The below ```kubectl run``` command will create 2 pods (replicas), each running just 1 container from the k8s-demo image.\n",
    "\n",
    "Note that we can specify labels on any kubernetes objects, using the -l option followd by key=value pairs, e.g.\n",
    "    -l \"key1=val1,key2=val2\"\n",
    "    \n",
    "These labels are extremely useful allowing us to select a group of objects using a label selector.\n",
    "\n",
    "Labels might be used to mark components of the cluster as dev, test or production for example.\n",
    "\n",
    "Or they might be used to signal hardware specifics of a node, to distinguish physical nodes with SSD disks, or GPU which could then be prioritized for particular types of processing which might be disk i/o or CPU intensive.\n",
    "\n",
    "k8sdemo is a small Docker image of 6MBy on the Docker hub [HERE](https://hub.docker.com/r/mjbright/k8s-demo/tags/)"
   ]
  },
  {
   "cell_type": "code",
   "execution_count": 6,
   "metadata": {},
   "outputs": [
    {
     "name": "stdout",
     "output_type": "stream",
     "text": [
      "NAME             TYPE        CLUSTER-IP   EXTERNAL-IP   PORT(S)   AGE\n",
      "svc/kubernetes   ClusterIP   10.96.0.1    <none>        443/TCP   2d\n"
     ]
    }
   ],
   "source": [
    "kubectl get all"
   ]
  },
  {
   "cell_type": "code",
   "execution_count": 7,
   "metadata": {},
   "outputs": [
    {
     "name": "stdout",
     "output_type": "stream",
     "text": [
      "deployment \"k8s-demo\" created\n"
     ]
    }
   ],
   "source": [
    "kubectl run k8s-demo -l \"app=k8s-demo\" --image=mjbright/k8s-demo:1 --replicas=2 --port=8080"
   ]
  },
  {
   "cell_type": "code",
   "execution_count": 8,
   "metadata": {},
   "outputs": [
    {
     "name": "stdout",
     "output_type": "stream",
     "text": [
      "NAME              DESIRED   CURRENT   UP-TO-DATE   AVAILABLE   AGE\n",
      "deploy/k8s-demo   2         2         2            0           1s\n",
      "\n",
      "NAME                     DESIRED   CURRENT   READY     AGE\n",
      "rs/k8s-demo-6b76bd84d7   2         2         0         1s\n",
      "\n",
      "NAME              DESIRED   CURRENT   UP-TO-DATE   AVAILABLE   AGE\n",
      "deploy/k8s-demo   2         2         2            0           1s\n",
      "\n",
      "NAME                     DESIRED   CURRENT   READY     AGE\n",
      "rs/k8s-demo-6b76bd84d7   2         2         0         1s\n",
      "\n",
      "NAME                           READY     STATUS              RESTARTS   AGE\n",
      "po/k8s-demo-6b76bd84d7-c95nv   0/1       ContainerCreating   0          0s\n",
      "po/k8s-demo-6b76bd84d7-kfrnb   0/1       ContainerCreating   0          1s\n",
      "\n",
      "NAME             TYPE        CLUSTER-IP   EXTERNAL-IP   PORT(S)   AGE\n",
      "svc/kubernetes   ClusterIP   10.96.0.1    <none>        443/TCP   2d\n"
     ]
    }
   ],
   "source": [
    "kubectl get all"
   ]
  },
  {
   "cell_type": "markdown",
   "metadata": {},
   "source": [
    "In the above output we see that the only running resource initially was an internal service.\n",
    "\n",
    "Once we perform '''kubectl run'' this spawns a **deployment** called *k8s-demo*, which creates a corrsponding **replicaset** which in turn spawns 2 **pods**.\n",
    "\n",
    "As we performed the '''kubectl get all''' immediately after the run, we see the status before the pod containers have been created ... in fact there is a delay whilst the images are downloaded (for a first run) and pods instantiated.\n",
    "\n",
    "Re-running '''kubectl get all''' shows the pods as *running* now."
   ]
  },
  {
   "cell_type": "code",
   "execution_count": 9,
   "metadata": {},
   "outputs": [
    {
     "name": "stdout",
     "output_type": "stream",
     "text": [
      "k8s-demo-6b76bd84d7-c95nv   1/1       Running   0          4s\n",
      "k8s-demo-6b76bd84d7-kfrnb   1/1       Running   0          5s\n",
      "NAME              DESIRED   CURRENT   UP-TO-DATE   AVAILABLE   AGE\n",
      "deploy/k8s-demo   2         2         2            2           5s\n",
      "\n",
      "NAME                     DESIRED   CURRENT   READY     AGE\n",
      "rs/k8s-demo-6b76bd84d7   2         2         2         5s\n",
      "\n",
      "NAME              DESIRED   CURRENT   UP-TO-DATE   AVAILABLE   AGE\n",
      "deploy/k8s-demo   2         2         2            2           5s\n",
      "\n",
      "NAME                     DESIRED   CURRENT   READY     AGE\n",
      "rs/k8s-demo-6b76bd84d7   2         2         2         5s\n",
      "\n",
      "NAME                           READY     STATUS    RESTARTS   AGE\n",
      "po/k8s-demo-6b76bd84d7-c95nv   1/1       Running   0          4s\n",
      "po/k8s-demo-6b76bd84d7-kfrnb   1/1       Running   0          5s\n",
      "\n",
      "NAME             TYPE        CLUSTER-IP   EXTERNAL-IP   PORT(S)   AGE\n",
      "svc/kubernetes   ClusterIP   10.96.0.1    <none>        443/TCP   2d\n"
     ]
    }
   ],
   "source": [
    "untilState pod k8s-demo Running -q &&\n",
    "    kubectl get all"
   ]
  },
  {
   "cell_type": "markdown",
   "metadata": {},
   "source": [
    "... with more information, using option '*-o wide*'"
   ]
  },
  {
   "cell_type": "code",
   "execution_count": 10,
   "metadata": {},
   "outputs": [
    {
     "name": "stdout",
     "output_type": "stream",
     "text": [
      "NAME              DESIRED   CURRENT   UP-TO-DATE   AVAILABLE   AGE       CONTAINERS   IMAGES                SELECTOR\n",
      "deploy/k8s-demo   2         2         2            2           6s        k8s-demo     mjbright/k8s-demo:1   app=k8s-demo\n",
      "\n",
      "NAME                     DESIRED   CURRENT   READY     AGE       CONTAINERS   IMAGES                SELECTOR\n",
      "rs/k8s-demo-6b76bd84d7   2         2         2         6s        k8s-demo     mjbright/k8s-demo:1   app=k8s-demo,pod-template-hash=2632684083\n",
      "\n",
      "NAME              DESIRED   CURRENT   UP-TO-DATE   AVAILABLE   AGE       CONTAINERS   IMAGES                SELECTOR\n",
      "deploy/k8s-demo   2         2         2            2           6s        k8s-demo     mjbright/k8s-demo:1   app=k8s-demo\n",
      "\n",
      "NAME                     DESIRED   CURRENT   READY     AGE       CONTAINERS   IMAGES                SELECTOR\n",
      "rs/k8s-demo-6b76bd84d7   2         2         2         6s        k8s-demo     mjbright/k8s-demo:1   app=k8s-demo,pod-template-hash=2632684083\n",
      "\n",
      "NAME                           READY     STATUS    RESTARTS   AGE       IP            NODE\n",
      "po/k8s-demo-6b76bd84d7-c95nv   1/1       Running   0          5s        10.192.2.13   kube-node-1\n",
      "po/k8s-demo-6b76bd84d7-kfrnb   1/1       Running   0          6s        10.192.3.18   kube-node-2\n",
      "\n",
      "NAME             TYPE        CLUSTER-IP   EXTERNAL-IP   PORT(S)   AGE       SELECTOR\n",
      "svc/kubernetes   ClusterIP   10.96.0.1    <none>        443/TCP   2d        <none>\n"
     ]
    }
   ],
   "source": [
    "kubectl get all -o wide"
   ]
  },
  {
   "cell_type": "markdown",
   "metadata": {},
   "source": [
    "\n",
    "Note in the above output we can see that our k8s-demo pods are running on kube-node-1 and kube-node-2.\n",
    "\n",
    "## Creating resources using yaml specifications\n",
    "\n",
    "### Obtaining yaml as output\n",
    "\n",
    "Using the option '-o yaml' to any 'kubectl get' command we can obtain a yaml definition, so instead of"
   ]
  },
  {
   "cell_type": "code",
   "execution_count": 11,
   "metadata": {},
   "outputs": [
    {
     "name": "stdout",
     "output_type": "stream",
     "text": [
      "NAME       DESIRED   CURRENT   UP-TO-DATE   AVAILABLE   AGE       CONTAINERS   IMAGES                SELECTOR\n",
      "k8s-demo   2         2         2            2           6s        k8s-demo     mjbright/k8s-demo:1   app=k8s-demo\n"
     ]
    }
   ],
   "source": [
    "kubectl get deploy/k8s-demo -o wide"
   ]
  },
  {
   "cell_type": "markdown",
   "metadata": {},
   "source": [
    "we get ..."
   ]
  },
  {
   "cell_type": "code",
   "execution_count": 12,
   "metadata": {},
   "outputs": [
    {
     "name": "stdout",
     "output_type": "stream",
     "text": [
      "apiVersion: extensions/v1beta1\n",
      "kind: Deployment\n",
      "metadata:\n",
      "  annotations:\n",
      "    deployment.kubernetes.io/revision: \"1\"\n",
      "  creationTimestamp: 2018-03-12T10:47:37Z\n",
      "  generation: 1\n",
      "  labels:\n",
      "    app: k8s-demo\n",
      "  name: k8s-demo\n",
      "  namespace: default\n",
      "  resourceVersion: \"289358\"\n",
      "  selfLink: /apis/extensions/v1beta1/namespaces/default/deployments/k8s-demo\n",
      "  uid: c7c7c1cc-25e2-11e8-a061-02420ac00002\n",
      "spec:\n",
      "  replicas: 2\n",
      "  selector:\n",
      "    matchLabels:\n",
      "      app: k8s-demo\n",
      "  strategy:\n",
      "    rollingUpdate:\n",
      "      maxSurge: 1\n",
      "      maxUnavailable: 1\n",
      "    type: RollingUpdate\n",
      "  template:\n",
      "    metadata:\n",
      "      creationTimestamp: null\n",
      "      labels:\n",
      "        app: k8s-demo\n",
      "    spec:\n",
      "      containers:\n",
      "      - image: mjbright/k8s-demo:1\n",
      "        imagePullPolicy: IfNotPresent\n",
      "        name: k8s-demo\n",
      "        ports:\n",
      "        - containerPort: 8080\n",
      "          protocol: TCP\n",
      "        resources: {}\n",
      "        terminationMessagePath: /dev/termination-log\n",
      "        terminationMessagePolicy: File\n",
      "      dnsPolicy: ClusterFirst\n",
      "      restartPolicy: Always\n",
      "      schedulerName: default-scheduler\n",
      "      securityContext: {}\n",
      "      terminationGracePeriodSeconds: 30\n",
      "status:\n",
      "  availableReplicas: 2\n",
      "  conditions:\n",
      "  - lastTransitionTime: 2018-03-12T10:47:41Z\n",
      "    lastUpdateTime: 2018-03-12T10:47:41Z\n",
      "    message: Deployment has minimum availability.\n",
      "    reason: MinimumReplicasAvailable\n",
      "    status: \"True\"\n",
      "    type: Available\n",
      "  observedGeneration: 1\n",
      "  readyReplicas: 2\n",
      "  replicas: 2\n",
      "  updatedReplicas: 2\n"
     ]
    }
   ],
   "source": [
    "kubectl get deploy/k8s-demo -o yaml"
   ]
  },
  {
   "cell_type": "markdown",
   "metadata": {},
   "source": [
    "## Obtaining the example yaml\n",
    "\n",
    "If you are using one of the VMS created for this lab then the example code will have been placed under:\n",
    "~/src/git/ContainerOrchestration.Labs/Orchestration-Kubernetes/\n",
    "\n",
    "If you are running in your own environment, or under play-with-kubernetes.com, you will first need to clone the repository:\n",
    "\n",
    "```git clone https://github.com/ContainerOrchestration/Labs```\n",
    "\n",
    "**NOTE**: You may also need to checkout the current branch, e.g.:FOSSAsia2018\n",
    "\n",
    "```git checkout FOSSAsia2018```\n",
    "\n",
    "## Inspecting the example\n",
    "\n",
    "In the example yaml below, we see that we specify a Pod to be created (this is the smallest unit of execution in a Kubernetes cluster) which will contains 2 containers.\n",
    "\n",
    "The yaml specifies which Kubernetes api version to use, the \"*kind*\" of object to be managed, and it's name."
   ]
  },
  {
   "cell_type": "code",
   "execution_count": 13,
   "metadata": {},
   "outputs": [
    {
     "name": "stdout",
     "output_type": "stream",
     "text": [
      "\n",
      "apiVersion: v1\n",
      "kind: Pod\n",
      "metadata:\n",
      "  name: 2-containers-in-a-pod\n",
      "spec:\n",
      "  containers:\n",
      "  - name: k8s-demo\n",
      "    image: mjbright/k8s-demo:1\n",
      "    ports:\n",
      "    - containerPort: 9876\n",
      "  - name: shell\n",
      "    image: alpine\n",
      "    command:\n",
      "      - \"bin/sh\"\n",
      "      - \"-c\"\n",
      "      - \"while true; do date; sleep 1; done\"\n",
      "\n"
     ]
    }
   ],
   "source": [
    "cat examples/3.pod_example.yaml"
   ]
  },
  {
   "cell_type": "markdown",
   "metadata": {},
   "source": [
    "Let's first cleanup by verifying that this pod isn't already running.\n",
    "\n",
    "We can use our yaml definition to delete any instances which may be running:"
   ]
  },
  {
   "cell_type": "code",
   "execution_count": 14,
   "metadata": {},
   "outputs": [],
   "source": [
    "checkPresent pod 2-containers-in-a-pod && {\n",
    "    echo; echo \"-- Deleting pod:\"\n",
    "    kubectl delete -f examples/3.pod_example.yaml\n",
    "\n",
    "    echo; echo \"-- Waiting for pod to terminate:\"\n",
    "    untilNotPresent pod 2-containers-in-a-pod \n",
    "    }\n",
    "cont"
   ]
  },
  {
   "cell_type": "markdown",
   "metadata": {},
   "source": [
    "If we deleted any instances of \"*2-containers-in-a-pod*\" we need to wait for them to have terminated:\n"
   ]
  },
  {
   "cell_type": "code",
   "execution_count": 15,
   "metadata": {},
   "outputs": [
    {
     "name": "stdout",
     "output_type": "stream",
     "text": [
      "NAME              DESIRED   CURRENT   UP-TO-DATE   AVAILABLE   AGE\n",
      "deploy/k8s-demo   2         2         2            2           8s\n",
      "\n",
      "NAME                     DESIRED   CURRENT   READY     AGE\n",
      "rs/k8s-demo-6b76bd84d7   2         2         2         8s\n",
      "\n",
      "NAME              DESIRED   CURRENT   UP-TO-DATE   AVAILABLE   AGE\n",
      "deploy/k8s-demo   2         2         2            2           8s\n",
      "\n",
      "NAME                     DESIRED   CURRENT   READY     AGE\n",
      "rs/k8s-demo-6b76bd84d7   2         2         2         8s\n",
      "\n",
      "NAME                           READY     STATUS    RESTARTS   AGE\n",
      "po/k8s-demo-6b76bd84d7-c95nv   1/1       Running   0          7s\n",
      "po/k8s-demo-6b76bd84d7-kfrnb   1/1       Running   0          8s\n",
      "\n",
      "NAME             TYPE        CLUSTER-IP   EXTERNAL-IP   PORT(S)   AGE\n",
      "svc/kubernetes   ClusterIP   10.96.0.1    <none>        443/TCP   2d\n"
     ]
    }
   ],
   "source": [
    "kubectl get all"
   ]
  },
  {
   "cell_type": "markdown",
   "metadata": {},
   "source": [
    "Now we can create our pod as follows:"
   ]
  },
  {
   "cell_type": "code",
   "execution_count": 16,
   "metadata": {},
   "outputs": [
    {
     "name": "stdout",
     "output_type": "stream",
     "text": [
      "pod \"2-containers-in-a-pod\" created\n"
     ]
    }
   ],
   "source": [
    "kubectl create -f examples/3.pod_example.yaml"
   ]
  },
  {
   "cell_type": "code",
   "execution_count": 17,
   "metadata": {},
   "outputs": [
    {
     "name": "stdout",
     "output_type": "stream",
     "text": [
      "NAME                    READY     STATUS              RESTARTS   AGE\n",
      "2-containers-in-a-pod   0/2       ContainerCreating   0          0s\n"
     ]
    }
   ],
   "source": [
    "kubectl get po/2-containers-in-a-pod"
   ]
  },
  {
   "cell_type": "code",
   "execution_count": 18,
   "metadata": {},
   "outputs": [
    {
     "name": "stdout",
     "output_type": "stream",
     "text": [
      "NAME                    READY     STATUS    RESTARTS   AGE\n",
      "2-containers-in-a-pod   2/2       Running   0          5s\n"
     ]
    }
   ],
   "source": [
    "untilState pod 2-containers-in-a-pod Running &&\n",
    "    kubectl get po/2-containers-in-a-pod"
   ]
  },
  {
   "cell_type": "code",
   "execution_count": 19,
   "metadata": {},
   "outputs": [
    {
     "name": "stdout",
     "output_type": "stream",
     "text": [
      "Name:         2-containers-in-a-pod\n",
      "Namespace:    default\n",
      "Node:         kube-node-2/10.192.0.4\n",
      "Start Time:   Mon, 12 Mar 2018 10:47:46 +0000\n",
      "Labels:       <none>\n",
      "Annotations:  <none>\n",
      "Status:       Running\n",
      "IP:           10.192.3.19\n",
      "Containers:\n",
      "  k8s-demo:\n",
      "    Container ID:   docker://b6b2b87540dc4d518da737d35363db050ee7d72c13546736a332f6cedaeca826\n",
      "    Image:          mjbright/k8s-demo:1\n",
      "    Image ID:       docker-pullable://mjbright/k8s-demo@sha256:6d84d697796e0a529028808ba76e92482c4ca0c408e9f9eae8aba6f23c173264\n",
      "    Port:           9876/TCP\n",
      "    State:          Running\n",
      "      Started:      Mon, 12 Mar 2018 10:47:48 +0000\n",
      "    Ready:          True\n",
      "    Restart Count:  0\n",
      "    Environment:    <none>\n",
      "    Mounts:\n",
      "      /var/run/secrets/kubernetes.io/serviceaccount from default-token-xdvkn (ro)\n",
      "  shell:\n",
      "    Container ID:  docker://7210f7127f8eee2f8a4a80d6c2f5ae3f43c2d5f78b862f5f30d77d55d3d71f7e\n",
      "    Image:         alpine\n",
      "    Image ID:      docker-pullable://alpine@sha256:7b848083f93822dd21b0a2f14a110bd99f6efb4b838d499df6d04a49d0debf8b\n",
      "    Port:          <none>\n",
      "    Command:\n",
      "      bin/sh\n",
      "      -c\n",
      "      while true; do date; sleep 1; done\n",
      "    State:          Running\n",
      "      Started:      Mon, 12 Mar 2018 10:47:49 +0000\n",
      "    Ready:          True\n",
      "    Restart Count:  0\n",
      "    Environment:    <none>\n",
      "    Mounts:\n",
      "      /var/run/secrets/kubernetes.io/serviceaccount from default-token-xdvkn (ro)\n",
      "Conditions:\n",
      "  Type           Status\n",
      "  Initialized    True \n",
      "  Ready          True \n",
      "  PodScheduled   True \n",
      "Volumes:\n",
      "  default-token-xdvkn:\n",
      "    Type:        Secret (a volume populated by a Secret)\n",
      "    SecretName:  default-token-xdvkn\n",
      "    Optional:    false\n",
      "QoS Class:       BestEffort\n",
      "Node-Selectors:  <none>\n",
      "Tolerations:     node.kubernetes.io/not-ready:NoExecute for 300s\n",
      "                 node.kubernetes.io/unreachable:NoExecute for 300s\n",
      "Events:\n",
      "  Type    Reason                 Age   From                  Message\n",
      "  ----    ------                 ----  ----                  -------\n",
      "  Normal  Scheduled              6s    default-scheduler     Successfully assigned 2-containers-in-a-pod to kube-node-2\n",
      "  Normal  SuccessfulMountVolume  6s    kubelet, kube-node-2  MountVolume.SetUp succeeded for volume \"default-token-xdvkn\"\n",
      "  Normal  Pulled                 4s    kubelet, kube-node-2  Container image \"mjbright/k8s-demo:1\" already present on machine\n",
      "  Normal  Created                4s    kubelet, kube-node-2  Created container\n",
      "  Normal  Started                4s    kubelet, kube-node-2  Started container\n",
      "  Normal  Pulling                4s    kubelet, kube-node-2  pulling image \"alpine\"\n",
      "  Normal  Pulled                 4s    kubelet, kube-node-2  Successfully pulled image \"alpine\"\n",
      "  Normal  Created                3s    kubelet, kube-node-2  Created container\n",
      "  Normal  Started                3s    kubelet, kube-node-2  Started container\n"
     ]
    }
   ],
   "source": [
    "kubectl describe po/2-containers-in-a-pod"
   ]
  },
  {
   "cell_type": "code",
   "execution_count": 20,
   "metadata": {},
   "outputs": [
    {
     "name": "stdout",
     "output_type": "stream",
     "text": [
      "Defaulting container name to k8s-demo.\n",
      "Use 'kubectl describe pod/2-containers-in-a-pod -n default' to see all of the containers in this pod.\n",
      "hello world\n"
     ]
    }
   ],
   "source": [
    "kubectl exec -it 2-containers-in-a-pod -n default echo hello world"
   ]
  },
  {
   "cell_type": "code",
   "execution_count": 21,
   "metadata": {},
   "outputs": [
    {
     "name": "stdout",
     "output_type": "stream",
     "text": [
      "Mon Mar 12 10:47:49 UTC 2018\n",
      "Mon Mar 12 10:47:50 UTC 2018\n",
      "Mon Mar 12 10:47:51 UTC 2018\n"
     ]
    }
   ],
   "source": [
    "kubectl logs 2-containers-in-a-pod shell | head -3"
   ]
  },
  {
   "cell_type": "code",
   "execution_count": 22,
   "metadata": {},
   "outputs": [
    {
     "name": "stdout",
     "output_type": "stream",
     "text": [
      "pod \"2-containers-in-a-pod\" deleted\n"
     ]
    }
   ],
   "source": [
    "kubectl delete po/2-containers-in-a-pod"
   ]
  },
  {
   "cell_type": "code",
   "execution_count": 23,
   "metadata": {},
   "outputs": [
    {
     "name": "stdout",
     "output_type": "stream",
     "text": [
      "NAME                        READY     STATUS        RESTARTS   AGE\n",
      "2-containers-in-a-pod       2/2       Terminating   0          8s\n",
      "k8s-demo-6b76bd84d7-c95nv   1/1       Running       0          16s\n",
      "k8s-demo-6b76bd84d7-kfrnb   1/1       Running       0          17s\n"
     ]
    }
   ],
   "source": [
    "kubectl get pods"
   ]
  },
  {
   "cell_type": "markdown",
   "metadata": {},
   "source": [
    "## What happens if a pod dies?"
   ]
  },
  {
   "cell_type": "code",
   "execution_count": 24,
   "metadata": {},
   "outputs": [
    {
     "name": "stdout",
     "output_type": "stream",
     "text": [
      "NAME                        READY     STATUS        RESTARTS   AGE       IP            NODE\n",
      "2-containers-in-a-pod       2/2       Terminating   0          8s        10.192.3.19   kube-node-2\n",
      "k8s-demo-6b76bd84d7-c95nv   1/1       Running       0          16s       10.192.2.13   kube-node-1\n",
      "k8s-demo-6b76bd84d7-kfrnb   1/1       Running       0          17s       10.192.3.18   kube-node-2\n"
     ]
    }
   ],
   "source": [
    "kubectl get pods -o wide"
   ]
  },
  {
   "cell_type": "markdown",
   "metadata": {},
   "source": [
    "When we deleted the 2-containers-in-a-pod Pod it just died.\n",
    "\n",
    "If we delete one of our k8s-demo Pods we will see that a new Pod is created automatically, this is because it is managed by a ReplicaSet.\n",
    "\n",
    "Running a Pod via \"kubectl run\" creates a Deployment which then creates a ReplicaSet.\n",
    "\n",
    "Let's kill one of our Pods and see what happens\n"
   ]
  },
  {
   "cell_type": "code",
   "execution_count": 25,
   "metadata": {},
   "outputs": [
    {
     "name": "stdout",
     "output_type": "stream",
     "text": [
      "k8s-demo-6b76bd84d7-c95nv\n"
     ]
    }
   ],
   "source": [
    "kubectl get pod | grep k8s-demo | head -1 | awk '{ print $1;}'\n",
    "\n",
    "POD1=$(kubectl get pod | grep k8s-demo | head -1 | awk '{ print $1;}')"
   ]
  },
  {
   "cell_type": "code",
   "execution_count": 26,
   "metadata": {},
   "outputs": [
    {
     "name": "stdout",
     "output_type": "stream",
     "text": [
      "pod \"k8s-demo-6b76bd84d7-c95nv\" deleted\n"
     ]
    }
   ],
   "source": [
    "kubectl delete pod $POD1"
   ]
  },
  {
   "cell_type": "code",
   "execution_count": 27,
   "metadata": {},
   "outputs": [
    {
     "name": "stdout",
     "output_type": "stream",
     "text": [
      "NAME                        READY     STATUS              RESTARTS   AGE       IP            NODE\n",
      "2-containers-in-a-pod       2/2       Terminating         0          10s       10.192.3.19   kube-node-2\n",
      "k8s-demo-6b76bd84d7-c95nv   1/1       Terminating         0          18s       10.192.2.13   kube-node-1\n",
      "k8s-demo-6b76bd84d7-kfrnb   1/1       Running             0          19s       10.192.3.18   kube-node-2\n",
      "k8s-demo-6b76bd84d7-qcml8   0/1       ContainerCreating   0          0s        <none>        kube-node-1\n"
     ]
    }
   ],
   "source": [
    "kubectl get pods -o wide"
   ]
  },
  {
   "cell_type": "code",
   "execution_count": 28,
   "metadata": {},
   "outputs": [
    {
     "name": "stdout",
     "output_type": "stream",
     "text": [
      "NAME                        READY     STATUS        RESTARTS   AGE       IP            NODE\n",
      "2-containers-in-a-pod       2/2       Terminating   0          20s       10.192.3.19   kube-node-2\n",
      "k8s-demo-6b76bd84d7-kfrnb   1/1       Running       0          29s       10.192.3.18   kube-node-2\n",
      "k8s-demo-6b76bd84d7-qcml8   1/1       Running       0          10s       10.192.2.14   kube-node-1\n"
     ]
    }
   ],
   "source": [
    "sleep 10; kubectl get pods -o wide"
   ]
  },
  {
   "cell_type": "markdown",
   "metadata": {},
   "source": [
    "We see that our Pod was deleted but that a new one was created, this is what we expect when our Pod is managed by a ReplicaSet.\n",
    "\n",
    "## What happens if a node dies?\n",
    "We should see similar behaviour is a Node dies.\n",
    "\n",
    "Anyone want to try this?"
   ]
  },
  {
   "cell_type": "markdown",
   "metadata": {},
   "source": [
    "# Scaling our application\n",
    "\n",
    "As our Pods are managed by a **ReplicaSet** we can scale the number of replicas by using the scale command on the **Deployment**:"
   ]
  },
  {
   "cell_type": "code",
   "execution_count": 29,
   "metadata": {},
   "outputs": [
    {
     "name": "stdout",
     "output_type": "stream",
     "text": [
      "deployment \"k8s-demo\" scaled\n"
     ]
    }
   ],
   "source": [
    "kubectl scale --replicas=3 deploy/k8s-demo"
   ]
  },
  {
   "cell_type": "code",
   "execution_count": 30,
   "metadata": {},
   "outputs": [
    {
     "name": "stdout",
     "output_type": "stream",
     "text": [
      "NAME              DESIRED   CURRENT   UP-TO-DATE   AVAILABLE   AGE\n",
      "deploy/k8s-demo   3         2         2            2           32s\n",
      "\n",
      "NAME                     DESIRED   CURRENT   READY     AGE\n",
      "rs/k8s-demo-6b76bd84d7   3         2         2         32s\n",
      "\n",
      "NAME              DESIRED   CURRENT   UP-TO-DATE   AVAILABLE   AGE\n",
      "deploy/k8s-demo   3         3         3            2           32s\n",
      "\n",
      "NAME                     DESIRED   CURRENT   READY     AGE\n",
      "rs/k8s-demo-6b76bd84d7   3         3         2         32s\n",
      "\n",
      "NAME                           READY     STATUS              RESTARTS   AGE\n",
      "po/2-containers-in-a-pod       2/2       Terminating         0          23s\n",
      "po/k8s-demo-6b76bd84d7-f2x7c   0/1       ContainerCreating   0          0s\n",
      "po/k8s-demo-6b76bd84d7-kfrnb   1/1       Running             0          32s\n",
      "po/k8s-demo-6b76bd84d7-qcml8   1/1       Running             0          13s\n",
      "\n",
      "NAME             TYPE        CLUSTER-IP   EXTERNAL-IP   PORT(S)   AGE\n",
      "svc/kubernetes   ClusterIP   10.96.0.1    <none>        443/TCP   2d\n"
     ]
    }
   ],
   "source": [
    "kubectl get all"
   ]
  },
  {
   "cell_type": "code",
   "execution_count": 31,
   "metadata": {},
   "outputs": [
    {
     "name": "stdout",
     "output_type": "stream",
     "text": [
      "NAME                        READY     STATUS              RESTARTS   AGE       IP            NODE\n",
      "2-containers-in-a-pod       2/2       Terminating         0          24s       10.192.3.19   kube-node-2\n",
      "k8s-demo-6b76bd84d7-f2x7c   0/1       ContainerCreating   0          1s        <none>        kube-node-1\n",
      "k8s-demo-6b76bd84d7-kfrnb   1/1       Running             0          33s       10.192.3.18   kube-node-2\n",
      "k8s-demo-6b76bd84d7-qcml8   1/1       Running             0          14s       10.192.2.14   kube-node-1\n"
     ]
    }
   ],
   "source": [
    "kubectl get pods -o wide"
   ]
  },
  {
   "cell_type": "markdown",
   "metadata": {},
   "source": [
    "### Scaling down\n",
    "\n",
    "We can of course scale back down:"
   ]
  },
  {
   "cell_type": "code",
   "execution_count": 32,
   "metadata": {},
   "outputs": [
    {
     "name": "stdout",
     "output_type": "stream",
     "text": [
      "deployment \"k8s-demo\" scaled\n"
     ]
    }
   ],
   "source": [
    "kubectl scale --replicas=2 deploy/k8s-demo"
   ]
  },
  {
   "cell_type": "code",
   "execution_count": 33,
   "metadata": {},
   "outputs": [
    {
     "name": "stdout",
     "output_type": "stream",
     "text": [
      "k8s-demo-6b76bd84d7-f2x7c   0/1       Terminating   0          3s\n",
      "k8s-demo-6b76bd84d7-f2x7c   1/1       Terminating   0          6s\n",
      "k8s-demo-6b76bd84d7-f2x7c   1/1       Terminating   0          8s\n",
      "k8s-demo-6b76bd84d7-f2x7c   1/1       Terminating   0          11s\n",
      "k8s-demo-6b76bd84d7-f2x7c   1/1       Terminating   0          14s\n",
      "k8s-demo-6b76bd84d7-f2x7c   1/1       Terminating   0          17s\n",
      "k8s-demo-6b76bd84d7-f2x7c   1/1       Terminating   0          20s\n",
      "k8s-demo-6b76bd84d7-f2x7c   1/1       Terminating   0          22s\n",
      "k8s-demo-6b76bd84d7-f2x7c   1/1       Terminating   0          25s\n",
      "k8s-demo-6b76bd84d7-f2x7c   1/1       Terminating   0          28s\n",
      "k8s-demo-6b76bd84d7-f2x7c   1/1       Terminating   0          31s\n",
      "k8s-demo-6b76bd84d7-f2x7c   1/1       Terminating   0          33s\n",
      "k8s-demo-6b76bd84d7-f2x7c   1/1       Terminating   0          36s\n",
      "k8s-demo-6b76bd84d7-f2x7c   1/1       Terminating   0          39s\n",
      "k8s-demo-6b76bd84d7-f2x7c   1/1       Terminating   0          42s\n",
      "k8s-demo-6b76bd84d7-f2x7c   1/1       Terminating   0          45s\n",
      "k8s-demo-6b76bd84d7-f2x7c   1/1       Terminating   0          47s\n",
      "k8s-demo-6b76bd84d7-f2x7c   1/1       Terminating   0          50s\n",
      "k8s-demo-6b76bd84d7-f2x7c   1/1       Terminating   0          53s\n",
      "k8s-demo-6b76bd84d7-f2x7c   1/1       Terminating   0          56s\n",
      "k8s-demo-6b76bd84d7-f2x7c   1/1       Terminating   0          59s\n",
      "k8s-demo-6b76bd84d7-f2x7c   1/1       Terminating   0          1m\n",
      "k8s-demo-6b76bd84d7-f2x7c   1/1       Terminating   0          1m\n",
      "k8s-demo-6b76bd84d7-f2x7c   1/1       Terminating   0          1m\n",
      "k8s-demo-6b76bd84d7-f2x7c   1/1       Terminating   0          1m\n",
      "k8s-demo-6b76bd84d7-f2x7c   1/1       Terminating   0          1m\n",
      "k8s-demo-6b76bd84d7-f2x7c   0/1       Terminating   0          1m\n"
     ]
    }
   ],
   "source": [
    "untilNotState pod k8s-demo Terminating"
   ]
  },
  {
   "cell_type": "code",
   "execution_count": 34,
   "metadata": {},
   "outputs": [
    {
     "name": "stdout",
     "output_type": "stream",
     "text": [
      "NAME                        READY     STATUS        RESTARTS   AGE       IP            NODE\n",
      "2-containers-in-a-pod       0/2       Terminating   0          1m        10.192.3.19   kube-node-2\n",
      "k8s-demo-6b76bd84d7-kfrnb   1/1       Running       0          1m        10.192.3.18   kube-node-2\n",
      "k8s-demo-6b76bd84d7-qcml8   1/1       Running       0          1m        10.192.2.14   kube-node-1\n"
     ]
    }
   ],
   "source": [
    "kubectl get pods -o wide"
   ]
  },
  {
   "cell_type": "markdown",
   "metadata": {},
   "source": [
    "## Accessing our application\n",
    "\n",
    "To access our application pods we should expose them as a service.\n",
    "This would have the advantage of being able to address a virtual ip address for our service as pods themselves come and go (so we don't need to determine their address), and also allows load balancing between pods.\n",
    "\n",
    "### Accessing our application - directly accessing Pods\n",
    "\n",
    "But there are other more basic ways that we will investigate first.\n",
    "\n",
    "If we perform '''kubectl get pods -o wide''' we will see the cluster ip of our pods, enabling us to access directly to the pods."
   ]
  },
  {
   "cell_type": "code",
   "execution_count": 41,
   "metadata": {},
   "outputs": [
    {
     "name": "stdout",
     "output_type": "stream",
     "text": [
      "NAME                        READY     STATUS    RESTARTS   AGE       IP            NODE\n",
      "k8s-demo-6b76bd84d7-kfrnb   1/1       Running   0          5m        10.192.3.18   kube-node-2\n",
      "k8s-demo-6b76bd84d7-qcml8   1/1       Running   0          5m        10.192.2.14   kube-node-1\n"
     ]
    }
   ],
   "source": [
    "kubectl get pods -o wide "
   ]
  },
  {
   "cell_type": "code",
   "execution_count": 42,
   "metadata": {},
   "outputs": [
    {
     "name": "stdout",
     "output_type": "stream",
     "text": [
      "POD1=k8s-demo-6b76bd84d7-kfrnb POD1_IP=10.192.3.18\n",
      "POD2=k8s-demo-6b76bd84d7-qcml8 POD2_IP=10.192.2.14\n"
     ]
    }
   ],
   "source": [
    "POD1=$(kubectl get pod -o wide --no-headers | head -1 | awk \"/k8s-demo/ {print \\$1;}\")\n",
    "POD2=$(kubectl get pod -o wide --no-headers | tail -1 | awk \"/k8s-demo/ {print \\$1;}\")\n",
    "POD1_IP=$(kubectl get pod -o wide --no-headers | head -1 | awk \"/k8s-demo/ {print \\$6;}\")\n",
    "POD2_IP=$(kubectl get pod -o wide --no-headers | tail -1 | awk \"/k8s-demo/ {print \\$6;}\")\n",
    "\n",
    "echo POD1=$POD1 POD1_IP=$POD1_IP\n",
    "echo POD2=$POD2 POD2_IP=$POD2_IP"
   ]
  },
  {
   "cell_type": "markdown",
   "metadata": {},
   "source": [
    "Let's look at the yaml information for POD1:"
   ]
  },
  {
   "cell_type": "code",
   "execution_count": 43,
   "metadata": {},
   "outputs": [
    {
     "name": "stdout",
     "output_type": "stream",
     "text": [
      "apiVersion: v1\n",
      "kind: Pod\n",
      "metadata:\n",
      "  creationTimestamp: 2018-03-12T10:47:37Z\n",
      "  generateName: k8s-demo-6b76bd84d7-\n",
      "  labels:\n",
      "    app: k8s-demo\n",
      "    pod-template-hash: \"2632684083\"\n",
      "  name: k8s-demo-6b76bd84d7-kfrnb\n",
      "  namespace: default\n",
      "  ownerReferences:\n",
      "  - apiVersion: extensions/v1beta1\n",
      "    blockOwnerDeletion: true\n",
      "    controller: true\n",
      "    kind: ReplicaSet\n",
      "    name: k8s-demo-6b76bd84d7\n",
      "    uid: c7c8e078-25e2-11e8-a061-02420ac00002\n",
      "  resourceVersion: \"289356\"\n",
      "  selfLink: /api/v1/namespaces/default/pods/k8s-demo-6b76bd84d7-kfrnb\n",
      "  uid: c7cb73e1-25e2-11e8-a061-02420ac00002\n",
      "spec:\n",
      "  containers:\n",
      "  - image: mjbright/k8s-demo:1\n",
      "    imagePullPolicy: IfNotPresent\n",
      "    name: k8s-demo\n",
      "    ports:\n",
      "    - containerPort: 8080\n",
      "      protocol: TCP\n",
      "    resources: {}\n",
      "    terminationMessagePath: /dev/termination-log\n",
      "    terminationMessagePolicy: File\n",
      "    volumeMounts:\n",
      "    - mountPath: /var/run/secrets/kubernetes.io/serviceaccount\n",
      "      name: default-token-xdvkn\n",
      "      readOnly: true\n",
      "  dnsPolicy: ClusterFirst\n",
      "  nodeName: kube-node-2\n",
      "  restartPolicy: Always\n",
      "  schedulerName: default-scheduler\n",
      "  securityContext: {}\n",
      "  serviceAccount: default\n",
      "  serviceAccountName: default\n",
      "  terminationGracePeriodSeconds: 30\n",
      "  tolerations:\n",
      "  - effect: NoExecute\n",
      "    key: node.kubernetes.io/not-ready\n",
      "    operator: Exists\n",
      "    tolerationSeconds: 300\n",
      "  - effect: NoExecute\n",
      "    key: node.kubernetes.io/unreachable\n",
      "    operator: Exists\n",
      "    tolerationSeconds: 300\n",
      "  volumes:\n",
      "  - name: default-token-xdvkn\n",
      "    secret:\n",
      "      defaultMode: 420\n",
      "      secretName: default-token-xdvkn\n",
      "status:\n",
      "  conditions:\n",
      "  - lastProbeTime: null\n",
      "    lastTransitionTime: 2018-03-12T10:47:38Z\n",
      "    status: \"True\"\n",
      "    type: Initialized\n",
      "  - lastProbeTime: null\n",
      "    lastTransitionTime: 2018-03-12T10:47:41Z\n",
      "    status: \"True\"\n",
      "    type: Ready\n",
      "  - lastProbeTime: null\n",
      "    lastTransitionTime: 2018-03-12T10:47:38Z\n",
      "    status: \"True\"\n",
      "    type: PodScheduled\n",
      "  containerStatuses:\n",
      "  - containerID: docker://0f46abc49c0a3a635e2e5ef9eacca459d96e26be2463137c48bc510a133a964e\n",
      "    image: mjbright/k8s-demo:1\n",
      "    imageID: docker-pullable://mjbright/k8s-demo@sha256:6d84d697796e0a529028808ba76e92482c4ca0c408e9f9eae8aba6f23c173264\n",
      "    lastState: {}\n",
      "    name: k8s-demo\n",
      "    ready: true\n",
      "    restartCount: 0\n",
      "    state:\n",
      "      running:\n",
      "        startedAt: 2018-03-12T10:47:40Z\n",
      "  hostIP: 10.192.0.4\n",
      "  phase: Running\n",
      "  podIP: 10.192.3.18\n",
      "  qosClass: BestEffort\n",
      "  startTime: 2018-03-12T10:47:38Z\n"
     ]
    }
   ],
   "source": [
    "kubectl get pod $POD1 -o yaml"
   ]
  },
  {
   "cell_type": "markdown",
   "metadata": {},
   "source": [
    "We can see that the containerPort 8080/TCP is exposed (as we specified on our initial '*kubectl run*' command).\n",
    "\n",
    "So now we can access to the pods directly on their port 8080."
   ]
  },
  {
   "cell_type": "code",
   "execution_count": 44,
   "metadata": {},
   "outputs": [
    {
     "name": "stdout",
     "output_type": "stream",
     "text": [
      "\n",
      "\u001b[1;34m\n",
      "\n",
      "                               \n",
      "                    (((((((((                  \n",
      "               .(((((((((((((((((.             \n",
      "           .((((((((((((&((((((((((((.         \n",
      "       /((((((((((((((((@((((((((((((((((/     \n",
      "      ((((((((((((((((((@((((((((((((((((((    \n",
      "     *(((((##((((((@@@@@@@@@@@((((((%#(((((*   \n",
      "     (((((((@@@(@@@@#((@@@((#@@@@(@@@(((((((   \n",
      "    *(((((((((@@@@(((((@@@(((((@@@@(((((((((,  \n",
      "    (((((((((@@@%@@@@((@@@((@@@@%@@@(((((((((  \n",
      "   .(((((((((@@((((@@@@@@@@@@@((((@@(((((((((. \n",
      "   (((((((((&@@(((((@@@(((@@@(((((@@&((((((((( \n",
      "   (((((((((&@@@@@@@@@@#(#@@@@@@@@@@&((((((((( \n",
      "  ((((((@@@@@@@@(((((@@@@@@@(((((&@@@@@@@((((((\n",
      "  (((((((((((%@@((((%@@@(@@@%((((@@&(((((((((((\n",
      "   ((((((((((((@@@((@@%(((%@@((@@@(((((((((((( \n",
      "     (((((((((((#@@@@%(((((&@@@@#(((((((((((   \n",
      "      /(((((((((((@@@@@@@@@@@@@(((((((((((/    \n",
      "        (((((((((@@(((((((((((@@(((((((((      \n",
      "          (((((((&(((((((((((((&(((((((        \n",
      "           /(((((((((((((((((((((((((/         \n",
      "             (((((((((((((((((((((((           \n",
      "\n",
      "\u001b[0m\n",
      "\n",
      "Served from container \u001b[1;33mk8s-demo-6b76bd84d7-kfrnb\u001b[0;0m\n",
      "Using image mjbright/k8s-demo:1\n"
     ]
    }
   ],
   "source": [
    "curl http://$POD1_IP:8080"
   ]
  },
  {
   "cell_type": "code",
   "execution_count": 45,
   "metadata": {},
   "outputs": [
    {
     "name": "stdout",
     "output_type": "stream",
     "text": [
      "\n",
      "\u001b[1;34m\n",
      "\n",
      "                               \n",
      "                    (((((((((                  \n",
      "               .(((((((((((((((((.             \n",
      "           .((((((((((((&((((((((((((.         \n",
      "       /((((((((((((((((@((((((((((((((((/     \n",
      "      ((((((((((((((((((@((((((((((((((((((    \n",
      "     *(((((##((((((@@@@@@@@@@@((((((%#(((((*   \n",
      "     (((((((@@@(@@@@#((@@@((#@@@@(@@@(((((((   \n",
      "    *(((((((((@@@@(((((@@@(((((@@@@(((((((((,  \n",
      "    (((((((((@@@%@@@@((@@@((@@@@%@@@(((((((((  \n",
      "   .(((((((((@@((((@@@@@@@@@@@((((@@(((((((((. \n",
      "   (((((((((&@@(((((@@@(((@@@(((((@@&((((((((( \n",
      "   (((((((((&@@@@@@@@@@#(#@@@@@@@@@@&((((((((( \n",
      "  ((((((@@@@@@@@(((((@@@@@@@(((((&@@@@@@@((((((\n",
      "  (((((((((((%@@((((%@@@(@@@%((((@@&(((((((((((\n",
      "   ((((((((((((@@@((@@%(((%@@((@@@(((((((((((( \n",
      "     (((((((((((#@@@@%(((((&@@@@#(((((((((((   \n",
      "      /(((((((((((@@@@@@@@@@@@@(((((((((((/    \n",
      "        (((((((((@@(((((((((((@@(((((((((      \n",
      "          (((((((&(((((((((((((&(((((((        \n",
      "           /(((((((((((((((((((((((((/         \n",
      "             (((((((((((((((((((((((           \n",
      "\n",
      "\u001b[0m\n",
      "\n",
      "Served from container \u001b[1;33mk8s-demo-6b76bd84d7-qcml8\u001b[0;0m\n",
      "Using image mjbright/k8s-demo:1\n"
     ]
    }
   ],
   "source": [
    "curl http://$POD2_IP:8080"
   ]
  },
  {
   "cell_type": "markdown",
   "metadata": {},
   "source": [
    "**Note:** In a real deployment of course the actual Pod ips would not be externally accessible so we would want some way of making the nodes available on a well known address."
   ]
  }
 ],
 "metadata": {
  "kernelspec": {
   "display_name": "Bash",
   "language": "bash",
   "name": "bash"
  },
  "language_info": {
   "codemirror_mode": "shell",
   "file_extension": ".sh",
   "mimetype": "text/x-sh",
   "name": "bash"
  }
 },
 "nbformat": 4,
 "nbformat_minor": 2
}
