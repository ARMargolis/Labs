{
 "cells": [
  {
   "cell_type": "markdown",
   "metadata": {
    "slideshow": {
     "slide_type": "skip"
    }
   },
   "source": [
    "[INDEX](Kubernetes.ipynb)  [NEXT](3.pods.ipynb)\n",
    "\n",
    "<br/><table align=\"right\" style='font-family:\"Courier New\", Courier, monospace; font-size:100%; bottom:0px;'>\n",
    "    <tr><td bgcolor=\"#ffffff\" color=\"#ffffff\"></td><td bgcolor=\"#ffffff\" color=\"#ffffff\"> <img src=\"images/containous.logo.png\" width=\"100\" /> </td></tr></table>"
   ]
  },
  {
   "cell_type": "markdown",
   "metadata": {
    "slideshow": {
     "slide_type": "slide"
    }
   },
   "source": [
    "<img align=\"left\" src=\"https://avatars1.githubusercontent.com/u/13629408?s=400&v=4\" width=\"60\" />\n",
    "## 3. Running Pods, Deployments\n",
    "\n",
    "<pre style=\"align:center\" >\n",
    "In this section we will work with a 3-node cluster comprised of 1 Master and 2 Workers.\n",
    "</pre>\n",
    "<center><img src=\"images/KubeNodes_1m_2w.svg.png\" width=\"600\" /></center>\n",
    "    \n",
    "<br/><table align=\"right\" style='font-family:\"Courier New\", Courier, monospace; font-size:100%; bottom:0px;'>\n",
    "    <tr><td bgcolor=\"#ffffff\" color=\"#ffffff\"></td><td bgcolor=\"#ffffff\" color=\"#ffffff\"> <img src=\"images/containous.logo.png\" width=\"100\" /> </td></tr></table>"
   ]
  },
  {
   "cell_type": "markdown",
   "metadata": {
    "slideshow": {
     "slide_type": "slide"
    }
   },
   "source": [
    "\n",
    "    \n",
    "<br/><table align=\"right\" style='font-family:\"Courier New\", Courier, monospace; font-size:100%; bottom:0px;'>\n",
    "    <tr><td bgcolor=\"#ffffff\" color=\"#ffffff\"></td><td bgcolor=\"#ffffff\" color=\"#ffffff\"> <img src=\"images/containous.logo.png\" width=\"100\" /> </td></tr></table>"
   ]
  },
  {
   "cell_type": "markdown",
   "metadata": {
    "slideshow": {
     "slide_type": "skip"
    }
   },
   "source": [
    "# 3. Running Pods, Deployments\n",
    "\n",
    "<pre style=\"align:center\" >\n",
    "\n",
    "**In this section** we will see how we can launch pods directly from the command-line\n",
    "using 'kubectl run' and the resources this creates.\n",
    "\n",
    "This is useful for experimentation but it is not declarative.\n",
    "\n",
    "We will also see how we can create resources from a yaml file using the\n",
    "'kubectl create' command, and how we can create several containers in a Pod.\n",
    "\n",
    "We will look at how to scale Pods, and what happens when a Pod fails\n",
    "</pre>\n",
    "    \n",
    "<br/><table align=\"right\" style='font-family:\"Courier New\", Courier, monospace; font-size:100%; bottom:0px;'>\n",
    "    <tr><td bgcolor=\"#ffffff\" color=\"#ffffff\"></td><td bgcolor=\"#ffffff\" color=\"#ffffff\"> <img src=\"images/containous.logo.png\" width=\"100\" /> </td></tr></table>"
   ]
  },
  {
   "cell_type": "markdown",
   "metadata": {
    "slideshow": {
     "slide_type": "slide"
    }
   },
   "source": [
    "    \n",
    "# Kubernetes Pods\n",
    "\n",
    "## Useful functions\n",
    "\n",
    "Here we define some useful functions to be able to run this notebook in isolation:"
   ]
  },
  {
   "cell_type": "code",
   "execution_count": 1,
   "metadata": {
    "slideshow": {
     "slide_type": "fragment"
    }
   },
   "outputs": [],
   "source": [
    ". ./.shell.functions\n",
    "CLEANUP"
   ]
  },
  {
   "cell_type": "code",
   "execution_count": 2,
   "metadata": {
    "slideshow": {
     "slide_type": "skip"
    }
   },
   "outputs": [
    {
     "name": "stdout",
     "output_type": "stream",
     "text": [
      "NAME             TYPE        CLUSTER-IP   EXTERNAL-IP   PORT(S)   AGE\n",
      "svc/kubernetes   ClusterIP   10.96.0.1    <none>        443/TCP   2d\n"
     ]
    }
   ],
   "source": [
    "kubectl get all"
   ]
  },
  {
   "cell_type": "markdown",
   "metadata": {
    "slideshow": {
     "slide_type": "skip"
    }
   },
   "source": [
    "## Cleanup\n",
    "\n",
    "Let's first verify that we have no Pods, Deployments, Services running in the default namespace by running the '*kubectl get all' command\n",
    "\n",
    "Then delete any running items (except '*svc/kubernetes*') if necessary"
   ]
  },
  {
   "cell_type": "code",
   "execution_count": 3,
   "metadata": {
    "slideshow": {
     "slide_type": "skip"
    }
   },
   "outputs": [
    {
     "name": "stdout",
     "output_type": "stream",
     "text": [
      "NAME             TYPE        CLUSTER-IP   EXTERNAL-IP   PORT(S)   AGE\n",
      "svc/kubernetes   ClusterIP   10.96.0.1    <none>        443/TCP   2d\n"
     ]
    }
   ],
   "source": [
    "kubectl get all"
   ]
  },
  {
   "cell_type": "code",
   "execution_count": 4,
   "metadata": {
    "slideshow": {
     "slide_type": "slide"
    }
   },
   "outputs": [
    {
     "name": "stdout",
     "output_type": "stream",
     "text": [
      "NAME             TYPE        CLUSTER-IP   EXTERNAL-IP   PORT(S)   AGE\n",
      "svc/kubernetes   ClusterIP   10.96.0.1    <none>        443/TCP   2d\n"
     ]
    }
   ],
   "source": [
    "kubectl get all"
   ]
  },
  {
   "cell_type": "markdown",
   "metadata": {
    "slideshow": {
     "slide_type": "slide"
    }
   },
   "source": [
    "## Deploying Pods via 'kubectl run'\n",
    "<!--We've seen how we can interrogate our cluster server using the kubectl tool, obtaining information about Resources such as Pods, Nodes in the system.-->\n",
    "<pre style=\"align:center\" >\n",
    "Now let's create our own pods using 'kubectl run'.\n",
    "We will see that this actually creates a Deployment and a ReplicaSet, as the example below:\n",
    "<img src=\"images/KubernetesArchi_Deploy.svg.png\" width=\"800\" />\n",
    "\n",
    "<br/><table align=\"right\" style='font-family:\"Courier New\", Courier, monospace; font-size:100%; bottom:0px;'>\n",
    "    <tr><td bgcolor=\"#ffffff\" color=\"#ffffff\"></td><td bgcolor=\"#ffffff\" color=\"#ffffff\"> <img src=\"images/containous.logo.png\" width=\"100\" /> </td></tr></table>"
   ]
  },
  {
   "cell_type": "markdown",
   "metadata": {
    "slideshow": {
     "slide_type": "skip"
    }
   },
   "source": [
    "Normally we would not create pods directly using command-line arguments, as we will do here.\n",
    "\n",
    "We would create objects in a repeatable, declarative way from yaml files, but we will do that later.\n",
    "\n",
    "The below ```kubectl run``` command will create 2 pods (replicas), each running just 1 container from the k8s-demo image.\n",
    "\n",
    "Note that we can specify labels on any kubernetes objects, using the -l option followd by key=value pairs, e.g.\n",
    "    -l \"key1=val1,key2=val2\"\n",
    "     \n",
    "These labels are extremely useful allowing us to select a group of objects using a label selector.\n",
    "\n",
    "Labels might be used to mark components of the cluster as dev, test or production for example.\n",
    "\n",
    "Or they might be used to signal hardware specifics of a node, to distinguish physical nodes with SSD disks, or GPU which could then be prioritized for particular types of processing which might be disk i/o or CPU intensive.\n",
    "\n",
    "k8sdemo is a small Docker image of 6MBy on the Docker hub [HERE](https://hub.docker.com/r/mjbright/k8s-demo/tags/)\n",
    "\n",
    "<br/><table align=\"right\" style='font-family:\"Courier New\", Courier, monospace; font-size:100%; bottom:0px;'>\n",
    "    <tr><td bgcolor=\"#ffffff\" color=\"#ffffff\"></td><td bgcolor=\"#ffffff\" color=\"#ffffff\"> <img src=\"images/containous.logo.png\" width=\"100\" /> </td></tr></table>"
   ]
  },
  {
   "cell_type": "markdown",
   "metadata": {
    "slideshow": {
     "slide_type": "skip"
    }
   },
   "source": [
    "\n",
    "We want to see what Resources are created, so let's just check again what exists already ... by running 'kubectl get all'\n",
    "\n",
    "<br/><table align=\"right\" style='font-family:\"Courier New\", Courier, monospace; font-size:100%; bottom:0px;'>\n",
    "    <tr><td bgcolor=\"#ffffff\" color=\"#ffffff\"></td><td bgcolor=\"#ffffff\" color=\"#ffffff\"> <img src=\"images/containous.logo.png\" width=\"100\" /> </td></tr></table>\n"
   ]
  },
  {
   "cell_type": "code",
   "execution_count": 5,
   "metadata": {
    "slideshow": {
     "slide_type": "skip"
    }
   },
   "outputs": [
    {
     "name": "stdout",
     "output_type": "stream",
     "text": [
      "NAME             TYPE        CLUSTER-IP   EXTERNAL-IP   PORT(S)   AGE\n",
      "svc/kubernetes   ClusterIP   10.96.0.1    <none>        443/TCP   2d\n"
     ]
    }
   ],
   "source": [
    "kubectl get all"
   ]
  },
  {
   "cell_type": "markdown",
   "metadata": {
    "slideshow": {
     "slide_type": "slide"
    }
   },
   "source": [
    "Next we will run 'kubectl run' and immediately run 'kubectl get all' again."
   ]
  },
  {
   "cell_type": "code",
   "execution_count": 6,
   "metadata": {
    "slideshow": {
     "slide_type": "slide"
    }
   },
   "outputs": [
    {
     "name": "stdout",
     "output_type": "stream",
     "text": [
      "deployment \"k8s-demo\" created\n",
      "NAME              DESIRED   CURRENT   UP-TO-DATE   AVAILABLE   AGE\n",
      "deploy/k8s-demo   2         2         2            0           1s\n",
      "\n",
      "NAME                     DESIRED   CURRENT   READY     AGE\n",
      "rs/k8s-demo-6b76bd84d7   2         2         0         1s\n",
      "\n",
      "NAME              DESIRED   CURRENT   UP-TO-DATE   AVAILABLE   AGE\n",
      "deploy/k8s-demo   2         2         2            0           1s\n",
      "\n",
      "NAME                     DESIRED   CURRENT   READY     AGE\n",
      "rs/k8s-demo-6b76bd84d7   2         2         0         1s\n",
      "\n",
      "NAME                           READY     STATUS              RESTARTS   AGE\n",
      "po/k8s-demo-6b76bd84d7-fpt4k   0/1       ContainerCreating   0          1s\n",
      "po/k8s-demo-6b76bd84d7-s5t2p   0/1       ContainerCreating   0          1s\n",
      "\n",
      "NAME             TYPE        CLUSTER-IP   EXTERNAL-IP   PORT(S)   AGE\n",
      "svc/kubernetes   ClusterIP   10.96.0.1    <none>        443/TCP   2d\n"
     ]
    }
   ],
   "source": [
    "kubectl run k8s-demo -l \"app=k8s-demo\" --image=mjbright/k8s-demo:1 --replicas=2 --port=8080\n",
    "kubectl get all"
   ]
  },
  {
   "cell_type": "markdown",
   "metadata": {
    "slideshow": {
     "slide_type": "skip"
    }
   },
   "source": [
    "In the above output we see that the only running resource initially was an internal service.\n",
    "\n",
    "Once we perform '''kubectl run'' this spawns a **deployment** called *k8s-demo*, which creates a corrsponding **replicaset** which in turn spawns 2 **pods**.\n",
    "\n",
    "As we performed the '''kubectl get all''' immediately after the run, we see the status before the pod containers have been created ... in fact there is a delay whilst the images are downloaded (for a first run) and pods instantiated.\n",
    "\n",
    "Re-running '''kubectl get all''' shows the pods as *running* now."
   ]
  },
  {
   "cell_type": "markdown",
   "metadata": {
    "slideshow": {
     "slide_type": "skip"
    }
   },
   "source": [
    "So our 'kubectl run' has created several resources as shown below:\n",
    "![](images/KubernetesArchi_Deploy_k8sdemo1.svg.png)"
   ]
  },
  {
   "cell_type": "code",
   "execution_count": 7,
   "metadata": {
    "slideshow": {
     "slide_type": "slide"
    }
   },
   "outputs": [
    {
     "name": "stdout",
     "output_type": "stream",
     "text": [
      "NAME                        READY     STATUS    RESTARTS   AGE\n",
      "k8s-demo-6b76bd84d7-fpt4k   1/1       Running   0          6s\n",
      "k8s-demo-6b76bd84d7-s5t2p   1/1       Running   0          6s\n"
     ]
    }
   ],
   "source": [
    "untilState pod k8s-demo Running -q &&\n",
    "    kubectl get pods"
   ]
  },
  {
   "cell_type": "markdown",
   "metadata": {
    "slideshow": {
     "slide_type": "slide"
    }
   },
   "source": [
    "... with more information, using option '*-o wide*'"
   ]
  },
  {
   "cell_type": "code",
   "execution_count": 8,
   "metadata": {
    "slideshow": {
     "slide_type": "slide"
    }
   },
   "outputs": [
    {
     "name": "stdout",
     "output_type": "stream",
     "text": [
      "NAME                        READY     STATUS    RESTARTS   AGE       IP           NODE\n",
      "k8s-demo-6b76bd84d7-fpt4k   1/1       Running   0          6s        10.192.2.6   kube-node-1\n",
      "k8s-demo-6b76bd84d7-s5t2p   1/1       Running   0          6s        10.192.3.6   kube-node-2\n"
     ]
    }
   ],
   "source": [
    "kubectl get pods -o wide"
   ]
  },
  {
   "cell_type": "markdown",
   "metadata": {
    "slideshow": {
     "slide_type": "slide"
    }
   },
   "source": [
    "## Accessing our application\n",
    "\n",
    "To access our application pods we should expose them as a service.\n",
    "This would have the advantage of being able to address a virtual ip address for our service as pods themselves come and go (so we don't need to determine their address), and also allows load balancing between pods.\n",
    "\n",
    "### Accessing our application - directly accessing Pods\n",
    "\n",
    "But there are other more basic ways that we will investigate first.\n",
    "\n",
    "If we perform '''kubectl get pods -o wide''' we will see the cluster ip of our pods, enabling us to access directly to the pods."
   ]
  },
  {
   "cell_type": "code",
   "execution_count": 9,
   "metadata": {
    "slideshow": {
     "slide_type": "fragment"
    }
   },
   "outputs": [
    {
     "name": "stdout",
     "output_type": "stream",
     "text": [
      "NAME                        READY     STATUS    RESTARTS   AGE       IP           NODE\n",
      "k8s-demo-6b76bd84d7-fpt4k   1/1       Running   0          7s        10.192.2.6   kube-node-1\n",
      "k8s-demo-6b76bd84d7-s5t2p   1/1       Running   0          7s        10.192.3.6   kube-node-2\n"
     ]
    }
   ],
   "source": [
    "kubectl get pods -o wide "
   ]
  },
  {
   "cell_type": "code",
   "execution_count": 10,
   "metadata": {
    "slideshow": {
     "slide_type": "slide"
    }
   },
   "outputs": [
    {
     "name": "stdout",
     "output_type": "stream",
     "text": [
      "POD1=k8s-demo-6b76bd84d7-fpt4k POD1_IP=10.192.2.6\n",
      "POD2=k8s-demo-6b76bd84d7-s5t2p POD2_IP=10.192.3.6\n"
     ]
    }
   ],
   "source": [
    "POD1=$(kubectl get pod -o wide --no-headers | grep k8s-demo | head -1 | awk '{print $1;}')\n",
    "POD2=$(kubectl get pod -o wide --no-headers | grep k8s-demo | tail -1 | awk '{print $1;}')\n",
    "POD1_IP=$(kubectl get pod -o wide --no-headers | grep k8s-demo | head -1 | awk '{print $6;}')\n",
    "POD2_IP=$(kubectl get pod -o wide --no-headers | grep k8s-demo | tail -1 | awk '{print $6;}')\n",
    "\n",
    "echo POD1=$POD1 POD1_IP=$POD1_IP\n",
    "echo POD2=$POD2 POD2_IP=$POD2_IP"
   ]
  },
  {
   "cell_type": "markdown",
   "metadata": {
    "slideshow": {
     "slide_type": "fragment"
    }
   },
   "source": [
    "Let's look at the yaml information for POD1:"
   ]
  },
  {
   "cell_type": "code",
   "execution_count": 11,
   "metadata": {
    "slideshow": {
     "slide_type": "slide"
    }
   },
   "outputs": [
    {
     "name": "stdout",
     "output_type": "stream",
     "text": [
      "apiVersion: v1\n",
      "kind: Pod\n",
      "metadata:\n",
      "  creationTimestamp: 2018-03-22T09:52:14Z\n",
      "  generateName: k8s-demo-6b76bd84d7-\n",
      "  labels:\n",
      "    app: k8s-demo\n",
      "    pod-template-hash: \"2632684083\"\n",
      "  name: k8s-demo-6b76bd84d7-fpt4k\n",
      "  namespace: default\n",
      "  ownerReferences:\n",
      "  - apiVersion: extensions/v1beta1\n",
      "    blockOwnerDeletion: true\n",
      "    controller: true\n",
      "    kind: ReplicaSet\n",
      "    name: k8s-demo-6b76bd84d7\n",
      "    uid: b30eb5f3-2db6-11e8-ad88-02420ac00002\n",
      "  resourceVersion: \"281435\"\n",
      "  selfLink: /api/v1/namespaces/default/pods/k8s-demo-6b76bd84d7-fpt4k\n",
      "  uid: b3109c58-2db6-11e8-ad88-02420ac00002\n",
      "spec:\n",
      "  containers:\n",
      "  - image: mjbright/k8s-demo:1\n",
      "    imagePullPolicy: IfNotPresent\n",
      "    name: k8s-demo\n",
      "    ports:\n",
      "    - containerPort: 8080\n",
      "      protocol: TCP\n",
      "    resources: {}\n",
      "    terminationMessagePath: /dev/termination-log\n",
      "    terminationMessagePolicy: File\n",
      "    volumeMounts:\n",
      "    - mountPath: /var/run/secrets/kubernetes.io/serviceaccount\n",
      "      name: default-token-797bq\n",
      "      readOnly: true\n",
      "  dnsPolicy: ClusterFirst\n",
      "  nodeName: kube-node-1\n",
      "  restartPolicy: Always\n",
      "  schedulerName: default-scheduler\n",
      "  securityContext: {}\n",
      "  serviceAccount: default\n",
      "  serviceAccountName: default\n",
      "  terminationGracePeriodSeconds: 30\n",
      "  tolerations:\n",
      "  - effect: NoExecute\n",
      "    key: node.kubernetes.io/not-ready\n",
      "    operator: Exists\n",
      "    tolerationSeconds: 300\n",
      "  - effect: NoExecute\n",
      "    key: node.kubernetes.io/unreachable\n",
      "    operator: Exists\n",
      "    tolerationSeconds: 300\n",
      "  volumes:\n",
      "  - name: default-token-797bq\n",
      "    secret:\n",
      "      defaultMode: 420\n",
      "      secretName: default-token-797bq\n",
      "status:\n",
      "  conditions:\n",
      "  - lastProbeTime: null\n",
      "    lastTransitionTime: 2018-03-22T09:52:14Z\n",
      "    status: \"True\"\n",
      "    type: Initialized\n",
      "  - lastProbeTime: null\n",
      "    lastTransitionTime: 2018-03-22T09:52:17Z\n",
      "    status: \"True\"\n",
      "    type: Ready\n",
      "  - lastProbeTime: null\n",
      "    lastTransitionTime: 2018-03-22T09:52:14Z\n",
      "    status: \"True\"\n",
      "    type: PodScheduled\n",
      "  containerStatuses:\n",
      "  - containerID: docker://86f9035cacb317501bad8b8863e4097aecca25f137647b61f013193f62eb2439\n",
      "    image: mjbright/k8s-demo:1\n",
      "    imageID: docker-pullable://mjbright/k8s-demo@sha256:6d84d697796e0a529028808ba76e92482c4ca0c408e9f9eae8aba6f23c173264\n",
      "    lastState: {}\n",
      "    name: k8s-demo\n",
      "    ready: true\n",
      "    restartCount: 0\n",
      "    state:\n",
      "      running:\n",
      "        startedAt: 2018-03-22T09:52:17Z\n",
      "  hostIP: 10.192.0.3\n",
      "  phase: Running\n",
      "  podIP: 10.192.2.6\n",
      "  qosClass: BestEffort\n",
      "  startTime: 2018-03-22T09:52:14Z\n"
     ]
    }
   ],
   "source": [
    "kubectl get pod $POD1 -o yaml"
   ]
  },
  {
   "cell_type": "markdown",
   "metadata": {
    "slideshow": {
     "slide_type": "slide"
    }
   },
   "source": [
    "We can see that the containerPort 8080/TCP is exposed (as we specified on our initial '*kubectl run*' command).\n",
    "\n",
    "So now we can access to the pods directly on their port 8080."
   ]
  },
  {
   "cell_type": "code",
   "execution_count": 12,
   "metadata": {
    "slideshow": {
     "slide_type": "slide"
    }
   },
   "outputs": [
    {
     "name": "stdout",
     "output_type": "stream",
     "text": [
      "\n",
      "\u001b[1;34m\n",
      "\n",
      "                               \n",
      "                    (((((((((                  \n",
      "               .(((((((((((((((((.             \n",
      "           .((((((((((((&((((((((((((.         \n",
      "       /((((((((((((((((@((((((((((((((((/     \n",
      "      ((((((((((((((((((@((((((((((((((((((    \n",
      "     *(((((##((((((@@@@@@@@@@@((((((%#(((((*   \n",
      "     (((((((@@@(@@@@#((@@@((#@@@@(@@@(((((((   \n",
      "    *(((((((((@@@@(((((@@@(((((@@@@(((((((((,  \n",
      "    (((((((((@@@%@@@@((@@@((@@@@%@@@(((((((((  \n",
      "   .(((((((((@@((((@@@@@@@@@@@((((@@(((((((((. \n",
      "   (((((((((&@@(((((@@@(((@@@(((((@@&((((((((( \n",
      "   (((((((((&@@@@@@@@@@#(#@@@@@@@@@@&((((((((( \n",
      "  ((((((@@@@@@@@(((((@@@@@@@(((((&@@@@@@@((((((\n",
      "  (((((((((((%@@((((%@@@(@@@%((((@@&(((((((((((\n",
      "   ((((((((((((@@@((@@%(((%@@((@@@(((((((((((( \n",
      "     (((((((((((#@@@@%(((((&@@@@#(((((((((((   \n",
      "      /(((((((((((@@@@@@@@@@@@@(((((((((((/    \n",
      "        (((((((((@@(((((((((((@@(((((((((      \n",
      "          (((((((&(((((((((((((&(((((((        \n",
      "           /(((((((((((((((((((((((((/         \n",
      "             (((((((((((((((((((((((           \n",
      "\n",
      "\u001b[0m\n",
      "\n",
      "Served from container \u001b[1;33mk8s-demo-6b76bd84d7-fpt4k\u001b[0;0m\n",
      "Using image mjbright/k8s-demo:1\n"
     ]
    }
   ],
   "source": [
    "curl http://$POD1_IP:8080"
   ]
  },
  {
   "cell_type": "code",
   "execution_count": 13,
   "metadata": {
    "slideshow": {
     "slide_type": "slide"
    }
   },
   "outputs": [
    {
     "name": "stdout",
     "output_type": "stream",
     "text": [
      "\n",
      "\u001b[1;34m\n",
      "\n",
      "                               \n",
      "                    (((((((((                  \n",
      "               .(((((((((((((((((.             \n",
      "           .((((((((((((&((((((((((((.         \n",
      "       /((((((((((((((((@((((((((((((((((/     \n",
      "      ((((((((((((((((((@((((((((((((((((((    \n",
      "     *(((((##((((((@@@@@@@@@@@((((((%#(((((*   \n",
      "     (((((((@@@(@@@@#((@@@((#@@@@(@@@(((((((   \n",
      "    *(((((((((@@@@(((((@@@(((((@@@@(((((((((,  \n",
      "    (((((((((@@@%@@@@((@@@((@@@@%@@@(((((((((  \n",
      "   .(((((((((@@((((@@@@@@@@@@@((((@@(((((((((. \n",
      "   (((((((((&@@(((((@@@(((@@@(((((@@&((((((((( \n",
      "   (((((((((&@@@@@@@@@@#(#@@@@@@@@@@&((((((((( \n",
      "  ((((((@@@@@@@@(((((@@@@@@@(((((&@@@@@@@((((((\n",
      "  (((((((((((%@@((((%@@@(@@@%((((@@&(((((((((((\n",
      "   ((((((((((((@@@((@@%(((%@@((@@@(((((((((((( \n",
      "     (((((((((((#@@@@%(((((&@@@@#(((((((((((   \n",
      "      /(((((((((((@@@@@@@@@@@@@(((((((((((/    \n",
      "        (((((((((@@(((((((((((@@(((((((((      \n",
      "          (((((((&(((((((((((((&(((((((        \n",
      "           /(((((((((((((((((((((((((/         \n",
      "             (((((((((((((((((((((((           \n",
      "\n",
      "\u001b[0m\n",
      "\n",
      "Served from container \u001b[1;33mk8s-demo-6b76bd84d7-s5t2p\u001b[0;0m\n",
      "Using image mjbright/k8s-demo:1\n"
     ]
    }
   ],
   "source": [
    "curl http://$POD2_IP:8080"
   ]
  },
  {
   "cell_type": "markdown",
   "metadata": {
    "slideshow": {
     "slide_type": "slide"
    }
   },
   "source": [
    "## What happens if a pod dies?"
   ]
  },
  {
   "cell_type": "code",
   "execution_count": 14,
   "metadata": {
    "slideshow": {
     "slide_type": "fragment"
    }
   },
   "outputs": [
    {
     "name": "stdout",
     "output_type": "stream",
     "text": [
      "NAME                        READY     STATUS    RESTARTS   AGE       IP           NODE\n",
      "k8s-demo-6b76bd84d7-fpt4k   1/1       Running   0          9s        10.192.2.6   kube-node-1\n",
      "k8s-demo-6b76bd84d7-s5t2p   1/1       Running   0          9s        10.192.3.6   kube-node-2\n"
     ]
    }
   ],
   "source": [
    "kubectl get pods -o wide"
   ]
  },
  {
   "cell_type": "markdown",
   "metadata": {
    "slideshow": {
     "slide_type": "slide"
    }
   },
   "source": [
    "<!-- When we deleted the 2-containers-in-a-pod Pod it just died. -->\n",
    "\n",
    "If we delete one of our k8s-demo Pods we will see that a new Pod is created automatically, this is because it is managed by a ReplicaSet.\n",
    "\n",
    "Running a Pod via \"kubectl run\" creates a Deployment which then creates a ReplicaSet.\n",
    "\n",
    "Let's kill one of our Pods and see what happens\n"
   ]
  },
  {
   "cell_type": "code",
   "execution_count": 15,
   "metadata": {
    "slideshow": {
     "slide_type": "fragment"
    }
   },
   "outputs": [
    {
     "name": "stdout",
     "output_type": "stream",
     "text": [
      "k8s-demo-6b76bd84d7-fpt4k\n"
     ]
    }
   ],
   "source": [
    "kubectl get pod | grep k8s-demo | head -1 | awk '{ print $1;}'\n",
    "\n",
    "POD1=$(kubectl get pod | grep k8s-demo | head -1 | awk '{ print $1;}')"
   ]
  },
  {
   "cell_type": "code",
   "execution_count": 16,
   "metadata": {
    "slideshow": {
     "slide_type": "slide"
    }
   },
   "outputs": [
    {
     "name": "stdout",
     "output_type": "stream",
     "text": [
      "pod \"k8s-demo-6b76bd84d7-fpt4k\" deleted\n"
     ]
    }
   ],
   "source": [
    "kubectl delete pod $POD1"
   ]
  },
  {
   "cell_type": "code",
   "execution_count": 17,
   "metadata": {
    "slideshow": {
     "slide_type": "fragment"
    }
   },
   "outputs": [
    {
     "name": "stdout",
     "output_type": "stream",
     "text": [
      "NAME                        READY     STATUS              RESTARTS   AGE       IP           NODE\n",
      "k8s-demo-6b76bd84d7-4z7mm   0/1       ContainerCreating   0          0s        <none>       kube-node-1\n",
      "k8s-demo-6b76bd84d7-fpt4k   1/1       Terminating         0          10s       10.192.2.6   kube-node-1\n",
      "k8s-demo-6b76bd84d7-s5t2p   1/1       Running             0          10s       10.192.3.6   kube-node-2\n"
     ]
    }
   ],
   "source": [
    "kubectl get pods -o wide"
   ]
  },
  {
   "cell_type": "code",
   "execution_count": 18,
   "metadata": {
    "slideshow": {
     "slide_type": "fragment"
    }
   },
   "outputs": [
    {
     "name": "stdout",
     "output_type": "stream",
     "text": [
      "NAME                        READY     STATUS    RESTARTS   AGE       IP           NODE\n",
      "k8s-demo-6b76bd84d7-4z7mm   1/1       Running   0          11s       10.192.2.7   kube-node-1\n",
      "k8s-demo-6b76bd84d7-s5t2p   1/1       Running   0          21s       10.192.3.6   kube-node-2\n"
     ]
    }
   ],
   "source": [
    "sleep 10; kubectl get pods -o wide"
   ]
  },
  {
   "cell_type": "markdown",
   "metadata": {
    "slideshow": {
     "slide_type": "slide"
    }
   },
   "source": [
    "We see that our Pod was deleted but that a new one was created, this is what we expect when our Pod is managed by a ReplicaSet."
   ]
  },
  {
   "cell_type": "markdown",
   "metadata": {
    "slideshow": {
     "slide_type": "fragment"
    }
   },
   "source": [
    "[INDEX](Kubernetes.ipynb)  [NEXT](3.pods.ipynb)\n",
    "\n",
    "**Note:** In a real deployment of course the actual Pod ips would not be externally accessible so we would want some way of making the nodes available on a well known address.\n",
    "\n",
    "\n",
    "<br/><table align=\"right\" style='font-family:\"Courier New\", Courier, monospace; font-size:100%; bottom:0px;'>\n",
    "    <tr><td bgcolor=\"#ffffff\" color=\"#ffffff\"></td><td bgcolor=\"#ffffff\" color=\"#ffffff\"> <img src=\"images/containous.logo.png\" width=\"100\" /> </td></tr></table>"
   ]
  }
 ],
 "metadata": {
  "celltoolbar": "Slideshow",
  "kernelspec": {
   "display_name": "Bash",
   "language": "bash",
   "name": "bash"
  },
  "language_info": {
   "codemirror_mode": "shell",
   "file_extension": ".sh",
   "mimetype": "text/x-sh",
   "name": "bash"
  }
 },
 "nbformat": 4,
 "nbformat_minor": 2
}
