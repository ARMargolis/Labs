{
 "cells": [
  {
   "cell_type": "markdown",
   "metadata": {
    "slideshow": {
     "slide_type": "skip"
    }
   },
   "source": [
    "[INDEX](Kubernetes.ipynb)  [NEXT](3.pods.ipynb)\n",
    "\n",
    "<br/><table align=\"right\" style='font-family:\"Courier New\", Courier, monospace; font-size:100%; bottom:0px;'>\n",
    "    <tr><td bgcolor=\"#ffffff\" color=\"#ffffff\"></td><td bgcolor=\"#ffffff\" color=\"#ffffff\"> <img src=\"images/containous.logo.png\" width=\"100\" /> </td></tr></table>"
   ]
  },
  {
   "cell_type": "markdown",
   "metadata": {
    "slideshow": {
     "slide_type": "slide"
    }
   },
   "source": [
    "<img align=\"left\" src=\"https://avatars1.githubusercontent.com/u/13629408?s=400&v=4\" width=\"60\" />\n",
    "## 3. Running Pods, Deployments\n",
    "\n",
    "<pre style=\"align:center\" >\n",
    "For this section of the lab we will continue to work with our 3-node cluster comprised of 1 Master and 2 Workers.\n",
    "</pre>\n",
    "<img src=\"images/KubeNodes_1m_2w.svg.png\" width=\"400\" />\n",
    "    \n",
    "<br/><table align=\"right\" style='font-family:\"Courier New\", Courier, monospace; font-size:100%; bottom:0px;'>\n",
    "    <tr><td bgcolor=\"#ffffff\" color=\"#ffffff\"></td><td bgcolor=\"#ffffff\" color=\"#ffffff\"> <img src=\"images/containous.logo.png\" width=\"100\" /> </td></tr></table>"
   ]
  },
  {
   "cell_type": "markdown",
   "metadata": {
    "slideshow": {
     "slide_type": "slide"
    }
   },
   "source": [
    "# 3. Running Pods, Deployments\n",
    "\n",
    "<pre style=\"align:center\" >\n",
    "\n",
    "**In this section** we will see how we can launch pods directly from the command-line using 'kubectl run' and how it creates several resources.\n",
    "\n",
    "This is useful for experimentation but it is not declarative.\n",
    "We will also see how we can create resources from a yaml file using the 'kubectl create' command, and how we can create several containers in a Pod.\n",
    "\n",
    "We will look at how to scale Pods, and what happens when a Pod fails\n",
    "</pre>\n",
    "    \n",
    "<br/><table align=\"right\" style='font-family:\"Courier New\", Courier, monospace; font-size:100%; bottom:0px;'>\n",
    "    <tr><td bgcolor=\"#ffffff\" color=\"#ffffff\"></td><td bgcolor=\"#ffffff\" color=\"#ffffff\"> <img src=\"images/containous.logo.png\" width=\"100\" /> </td></tr></table>"
   ]
  },
  {
   "cell_type": "markdown",
   "metadata": {
    "slideshow": {
     "slide_type": "slide"
    }
   },
   "source": [
    "    \n",
    "# Kubernetes Pods\n",
    "\n",
    "## Useful functions\n",
    "\n",
    "Here we define some useful functions to be able to run this notebook in isolation:"
   ]
  },
  {
   "cell_type": "code",
   "execution_count": 1,
   "metadata": {
    "slideshow": {
     "slide_type": "fragment"
    }
   },
   "outputs": [
    {
     "name": "stdout",
     "output_type": "stream",
     "text": [
      "Loading bash helper functions, new functions added:\n",
      "-- checkPresent \n",
      "-- checkState \n",
      "-- cont \n",
      "-- untilNotPresent \n",
      "-- untilNotState \n",
      "-- untilPresent \n",
      "-- untilState \n"
     ]
    }
   ],
   "source": [
    ". ./.shell.functions"
   ]
  },
  {
   "cell_type": "code",
   "execution_count": 2,
   "metadata": {
    "slideshow": {
     "slide_type": "skip"
    }
   },
   "outputs": [
    {
     "name": "stdout",
     "output_type": "stream",
     "text": [
      "NAME             TYPE        CLUSTER-IP   EXTERNAL-IP   PORT(S)   AGE\n",
      "svc/kubernetes   ClusterIP   10.96.0.1    <none>        443/TCP   1h\n"
     ]
    }
   ],
   "source": [
    "kubectl get all"
   ]
  },
  {
   "cell_type": "markdown",
   "metadata": {
    "slideshow": {
     "slide_type": "skip"
    }
   },
   "source": [
    "## Cleanup\n",
    "\n",
    "Let's first verify that we have no Pods, Deployments, Services running in the default namespace by running the '*kubectl get all' command\n",
    "\n",
    "Then delete any running items (except '*svc/kubernetes*') if necessary"
   ]
  },
  {
   "cell_type": "code",
   "execution_count": 3,
   "metadata": {
    "slideshow": {
     "slide_type": "skip"
    }
   },
   "outputs": [
    {
     "name": "stdout",
     "output_type": "stream",
     "text": [
      "NAME             TYPE        CLUSTER-IP   EXTERNAL-IP   PORT(S)   AGE\n",
      "svc/kubernetes   ClusterIP   10.96.0.1    <none>        443/TCP   1h\n"
     ]
    }
   ],
   "source": [
    "kubectl get all"
   ]
  },
  {
   "cell_type": "code",
   "execution_count": 4,
   "metadata": {
    "slideshow": {
     "slide_type": "slide"
    }
   },
   "outputs": [
    {
     "name": "stdout",
     "output_type": "stream",
     "text": [
      "No resources found.\n",
      "No resources found.\n"
     ]
    }
   ],
   "source": [
    "checkPresent pod    2-containers-in-a-pod &&\n",
    "    kubectl delete po/2-containers-in-a-pod\n",
    "checkPresent deploy k8s-demo              &&\n",
    "    kubectl delete deploy k8s-demo\n",
    "checkPresent svc    k8s-demo              &&\n",
    "    kubectl delete service k8s-demo-service\n",
    "cont"
   ]
  },
  {
   "cell_type": "code",
   "execution_count": 5,
   "metadata": {
    "slideshow": {
     "slide_type": "slide"
    }
   },
   "outputs": [
    {
     "name": "stdout",
     "output_type": "stream",
     "text": [
      "NAME             TYPE        CLUSTER-IP   EXTERNAL-IP   PORT(S)   AGE\n",
      "svc/kubernetes   ClusterIP   10.96.0.1    <none>        443/TCP   1h\n"
     ]
    }
   ],
   "source": [
    "kubectl get all"
   ]
  },
  {
   "cell_type": "markdown",
   "metadata": {
    "slideshow": {
     "slide_type": "slide"
    }
   },
   "source": [
    "## Deploying Pods via 'kubectl run'\n",
    "\n",
    "<pre style=\"align:center\" >\n",
    "We've seen how we can interrogate our cluster server using the kubectl tool, obtaining information about Resources such as Pods, Nodes in the system.\n",
    "\n",
    "Now let's create our own pods using 'kubectl run'.  We will see that this actually creates a Deployment and a ReplicaSet, as the example below:\n",
    "\n",
    "<img src=\"images/KubernetesArchi_Deploy.svg.png\" width=\"600\" />\n",
    "\n",
    "<br/><table align=\"right\" style='font-family:\"Courier New\", Courier, monospace; font-size:100%; bottom:0px;'>\n",
    "    <tr><td bgcolor=\"#ffffff\" color=\"#ffffff\"></td><td bgcolor=\"#ffffff\" color=\"#ffffff\"> <img src=\"http://www.icon100.com/up/3011/128/Twitter-alt.png\" width=\"40\"> </td><td bgcolor=\"#ffffff\" color=\"#ffffff\" > @containous </td></tr></table>"
   ]
  },
  {
   "cell_type": "markdown",
   "metadata": {
    "slideshow": {
     "slide_type": "skip"
    }
   },
   "source": [
    "Normally we would not create pods directly using command-line arguments, as we will do here.\n",
    "\n",
    "We would create objects in a repeatable, declarative way from yaml files, but we will do that later.\n",
    "\n",
    "The below ```kubectl run``` command will create 2 pods (replicas), each running just 1 container from the k8s-demo image.\n",
    "\n",
    "Note that we can specify labels on any kubernetes objects, using the -l option followd by key=value pairs, e.g.\n",
    "    -l \"key1=val1,key2=val2\"\n",
    "     \n",
    "These labels are extremely useful allowing us to select a group of objects using a label selector.\n",
    "\n",
    "Labels might be used to mark components of the cluster as dev, test or production for example.\n",
    "\n",
    "Or they might be used to signal hardware specifics of a node, to distinguish physical nodes with SSD disks, or GPU which could then be prioritized for particular types of processing which might be disk i/o or CPU intensive.\n",
    "\n",
    "k8sdemo is a small Docker image of 6MBy on the Docker hub [HERE](https://hub.docker.com/r/mjbright/k8s-demo/tags/)\n",
    "\n",
    "<br/><table align=\"right\" style='font-family:\"Courier New\", Courier, monospace; font-size:100%; bottom:0px;'>\n",
    "    <tr><td bgcolor=\"#ffffff\" color=\"#ffffff\"></td><td bgcolor=\"#ffffff\" color=\"#ffffff\"> <img src=\"http://www.icon100.com/up/3011/128/Twitter-alt.png\" width=\"40\"> </td><td bgcolor=\"#ffffff\" color=\"#ffffff\" > @containous </td></tr></table>"
   ]
  },
  {
   "cell_type": "markdown",
   "metadata": {
    "slideshow": {
     "slide_type": "slide"
    }
   },
   "source": [
    "\n",
    "We want to see what Resources are created, so let's just check again what exists already ... by running 'kubectl get all'\n"
   ]
  },
  {
   "cell_type": "code",
   "execution_count": 6,
   "metadata": {
    "slideshow": {
     "slide_type": "fragment"
    }
   },
   "outputs": [
    {
     "name": "stdout",
     "output_type": "stream",
     "text": [
      "NAME             TYPE        CLUSTER-IP   EXTERNAL-IP   PORT(S)   AGE\n",
      "svc/kubernetes   ClusterIP   10.96.0.1    <none>        443/TCP   1h\n"
     ]
    }
   ],
   "source": [
    "kubectl get all"
   ]
  },
  {
   "cell_type": "markdown",
   "metadata": {
    "slideshow": {
     "slide_type": "fragment"
    }
   },
   "source": [
    "Next we will run 'kubectl run' and immediately run 'kubectl get all' again."
   ]
  },
  {
   "cell_type": "code",
   "execution_count": 7,
   "metadata": {
    "slideshow": {
     "slide_type": "slide"
    }
   },
   "outputs": [
    {
     "name": "stdout",
     "output_type": "stream",
     "text": [
      "deployment \"k8s-demo\" created\n",
      "NAME              DESIRED   CURRENT   UP-TO-DATE   AVAILABLE   AGE\n",
      "deploy/k8s-demo   2         2         2            0           1s\n",
      "\n",
      "NAME                     DESIRED   CURRENT   READY     AGE\n",
      "rs/k8s-demo-6b76bd84d7   2         2         0         1s\n",
      "\n",
      "NAME              DESIRED   CURRENT   UP-TO-DATE   AVAILABLE   AGE\n",
      "deploy/k8s-demo   2         2         2            0           1s\n",
      "\n",
      "NAME                     DESIRED   CURRENT   READY     AGE\n",
      "rs/k8s-demo-6b76bd84d7   2         2         0         1s\n",
      "\n",
      "NAME                           READY     STATUS              RESTARTS   AGE\n",
      "po/k8s-demo-6b76bd84d7-56b49   0/1       ContainerCreating   0          1s\n",
      "po/k8s-demo-6b76bd84d7-9rfnw   0/1       ContainerCreating   0          1s\n",
      "\n",
      "NAME             TYPE        CLUSTER-IP   EXTERNAL-IP   PORT(S)   AGE\n",
      "svc/kubernetes   ClusterIP   10.96.0.1    <none>        443/TCP   1h\n"
     ]
    }
   ],
   "source": [
    "kubectl run k8s-demo -l \"app=k8s-demo\" --image=mjbright/k8s-demo:1 --replicas=2 --port=8080\n",
    "kubectl get all"
   ]
  },
  {
   "cell_type": "markdown",
   "metadata": {
    "slideshow": {
     "slide_type": "skip"
    }
   },
   "source": [
    "In the above output we see that the only running resource initially was an internal service.\n",
    "\n",
    "Once we perform '''kubectl run'' this spawns a **deployment** called *k8s-demo*, which creates a corrsponding **replicaset** which in turn spawns 2 **pods**.\n",
    "\n",
    "As we performed the '''kubectl get all''' immediately after the run, we see the status before the pod containers have been created ... in fact there is a delay whilst the images are downloaded (for a first run) and pods instantiated.\n",
    "\n",
    "Re-running '''kubectl get all''' shows the pods as *running* now."
   ]
  },
  {
   "cell_type": "markdown",
   "metadata": {
    "slideshow": {
     "slide_type": "skip"
    }
   },
   "source": [
    "So our 'kubectl run' has created several resources as shown below:\n",
    "![](images/KubernetesArchi_Deploy_k8sdemo1.svg.png)"
   ]
  },
  {
   "cell_type": "code",
   "execution_count": 8,
   "metadata": {
    "slideshow": {
     "slide_type": "slide"
    }
   },
   "outputs": [
    {
     "name": "stdout",
     "output_type": "stream",
     "text": [
      "NAME              DESIRED   CURRENT   UP-TO-DATE   AVAILABLE   AGE\n",
      "deploy/k8s-demo   2         2         2            2           6s\n",
      "\n",
      "NAME                     DESIRED   CURRENT   READY     AGE\n",
      "rs/k8s-demo-6b76bd84d7   2         2         2         6s\n",
      "\n",
      "NAME              DESIRED   CURRENT   UP-TO-DATE   AVAILABLE   AGE\n",
      "deploy/k8s-demo   2         2         2            2           6s\n",
      "\n",
      "NAME                     DESIRED   CURRENT   READY     AGE\n",
      "rs/k8s-demo-6b76bd84d7   2         2         2         6s\n",
      "\n",
      "NAME                           READY     STATUS    RESTARTS   AGE\n",
      "po/k8s-demo-6b76bd84d7-56b49   1/1       Running   0          6s\n",
      "po/k8s-demo-6b76bd84d7-9rfnw   1/1       Running   0          6s\n",
      "\n",
      "NAME             TYPE        CLUSTER-IP   EXTERNAL-IP   PORT(S)   AGE\n",
      "svc/kubernetes   ClusterIP   10.96.0.1    <none>        443/TCP   1h\n"
     ]
    }
   ],
   "source": [
    "untilState pod k8s-demo Running -q &&\n",
    "    kubectl get all"
   ]
  },
  {
   "cell_type": "markdown",
   "metadata": {
    "slideshow": {
     "slide_type": "slide"
    }
   },
   "source": [
    "... with more information, using option '*-o wide*'"
   ]
  },
  {
   "cell_type": "code",
   "execution_count": 9,
   "metadata": {
    "slideshow": {
     "slide_type": "slide"
    }
   },
   "outputs": [
    {
     "name": "stdout",
     "output_type": "stream",
     "text": [
      "NAME              DESIRED   CURRENT   UP-TO-DATE   AVAILABLE   AGE       CONTAINERS   IMAGES                SELECTOR\n",
      "deploy/k8s-demo   2         2         2            2           6s        k8s-demo     mjbright/k8s-demo:1   app=k8s-demo\n",
      "\n",
      "NAME                     DESIRED   CURRENT   READY     AGE       CONTAINERS   IMAGES                SELECTOR\n",
      "rs/k8s-demo-6b76bd84d7   2         2         2         6s        k8s-demo     mjbright/k8s-demo:1   app=k8s-demo,pod-template-hash=2632684083\n",
      "\n",
      "NAME              DESIRED   CURRENT   UP-TO-DATE   AVAILABLE   AGE       CONTAINERS   IMAGES                SELECTOR\n",
      "deploy/k8s-demo   2         2         2            2           6s        k8s-demo     mjbright/k8s-demo:1   app=k8s-demo\n",
      "\n",
      "NAME                     DESIRED   CURRENT   READY     AGE       CONTAINERS   IMAGES                SELECTOR\n",
      "rs/k8s-demo-6b76bd84d7   2         2         2         6s        k8s-demo     mjbright/k8s-demo:1   app=k8s-demo,pod-template-hash=2632684083\n",
      "\n",
      "NAME                           READY     STATUS    RESTARTS   AGE       IP           NODE\n",
      "po/k8s-demo-6b76bd84d7-56b49   1/1       Running   0          6s        10.192.2.1   kube-node-1\n",
      "po/k8s-demo-6b76bd84d7-9rfnw   1/1       Running   0          6s        10.192.3.1   kube-node-2\n",
      "\n",
      "NAME             TYPE        CLUSTER-IP   EXTERNAL-IP   PORT(S)   AGE       SELECTOR\n",
      "svc/kubernetes   ClusterIP   10.96.0.1    <none>        443/TCP   1h        <none>\n"
     ]
    }
   ],
   "source": [
    "kubectl get all -o wide"
   ]
  },
  {
   "cell_type": "markdown",
   "metadata": {
    "slideshow": {
     "slide_type": "slide"
    }
   },
   "source": [
    "\n",
    "Note in the above output we can see that our k8s-demo pods are running on kube-node-1 and kube-node-2.\n",
    "\n",
    "## Creating resources using yaml specifications\n",
    "\n",
    "### Obtaining yaml as output\n",
    "\n",
    "Using the option '-o yaml' to any 'kubectl get' command we can obtain a yaml definition, so instead of"
   ]
  },
  {
   "cell_type": "code",
   "execution_count": 10,
   "metadata": {
    "slideshow": {
     "slide_type": "fragment"
    }
   },
   "outputs": [
    {
     "name": "stdout",
     "output_type": "stream",
     "text": [
      "NAME       DESIRED   CURRENT   UP-TO-DATE   AVAILABLE   AGE       CONTAINERS   IMAGES                SELECTOR\n",
      "k8s-demo   2         2         2            2           6s        k8s-demo     mjbright/k8s-demo:1   app=k8s-demo\n"
     ]
    }
   ],
   "source": [
    "kubectl get deploy/k8s-demo -o wide"
   ]
  },
  {
   "cell_type": "markdown",
   "metadata": {
    "slideshow": {
     "slide_type": "fragment"
    }
   },
   "source": [
    "we get ..."
   ]
  },
  {
   "cell_type": "code",
   "execution_count": 11,
   "metadata": {
    "slideshow": {
     "slide_type": "slide"
    }
   },
   "outputs": [
    {
     "name": "stdout",
     "output_type": "stream",
     "text": [
      "apiVersion: extensions/v1beta1\n",
      "kind: Deployment\n",
      "metadata:\n",
      "  annotations:\n",
      "    deployment.kubernetes.io/revision: \"1\"\n",
      "  creationTimestamp: 2018-03-18T19:58:49Z\n",
      "  generation: 1\n",
      "  labels:\n",
      "    app: k8s-demo\n",
      "  name: k8s-demo\n",
      "  namespace: default\n",
      "  resourceVersion: \"4154\"\n",
      "  selfLink: /apis/extensions/v1beta1/namespaces/default/deployments/k8s-demo\n",
      "  uid: c68cfe52-2ae6-11e8-acfc-02420ac00002\n",
      "spec:\n",
      "  replicas: 2\n",
      "  selector:\n",
      "    matchLabels:\n",
      "      app: k8s-demo\n",
      "  strategy:\n",
      "    rollingUpdate:\n",
      "      maxSurge: 1\n",
      "      maxUnavailable: 1\n",
      "    type: RollingUpdate\n",
      "  template:\n",
      "    metadata:\n",
      "      creationTimestamp: null\n",
      "      labels:\n",
      "        app: k8s-demo\n",
      "    spec:\n",
      "      containers:\n",
      "      - image: mjbright/k8s-demo:1\n",
      "        imagePullPolicy: IfNotPresent\n",
      "        name: k8s-demo\n",
      "        ports:\n",
      "        - containerPort: 8080\n",
      "          protocol: TCP\n",
      "        resources: {}\n",
      "        terminationMessagePath: /dev/termination-log\n",
      "        terminationMessagePolicy: File\n",
      "      dnsPolicy: ClusterFirst\n",
      "      restartPolicy: Always\n",
      "      schedulerName: default-scheduler\n",
      "      securityContext: {}\n",
      "      terminationGracePeriodSeconds: 30\n",
      "status:\n",
      "  availableReplicas: 2\n",
      "  conditions:\n",
      "  - lastTransitionTime: 2018-03-18T19:58:54Z\n",
      "    lastUpdateTime: 2018-03-18T19:58:54Z\n",
      "    message: Deployment has minimum availability.\n",
      "    reason: MinimumReplicasAvailable\n",
      "    status: \"True\"\n",
      "    type: Available\n",
      "  observedGeneration: 1\n",
      "  readyReplicas: 2\n",
      "  replicas: 2\n",
      "  updatedReplicas: 2\n"
     ]
    }
   ],
   "source": [
    "kubectl get deploy/k8s-demo -o yaml"
   ]
  },
  {
   "cell_type": "markdown",
   "metadata": {
    "slideshow": {
     "slide_type": "slide"
    }
   },
   "source": [
    "## Creating resources from a yaml file\n",
    "\n",
    "This is the usual way in which we would create Resources on our cluster as it is declarative and repeatable."
   ]
  },
  {
   "cell_type": "markdown",
   "metadata": {
    "slideshow": {
     "slide_type": "slide"
    }
   },
   "source": [
    "## Obtaining the example yaml\n",
    "\n",
    "If you are using one of the VMS created for this lab then the example code will have been placed under:\n",
    "~/src/git/ContainerOrchestration.Labs/Orchestration-Kubernetes/\n",
    "\n",
    "If you are running in your own environment, or under play-with-kubernetes.com, you will first need to clone the repository:\n",
    "\n",
    "```git clone https://github.com/ContainerOrchestration/Labs```\n",
    "\n",
    "**NOTE**: You may also need to checkout the current branch, e.g.:FOSSAsia2018\n",
    "\n",
    "```git checkout FOSSAsia2018```\n",
    "\n",
    "## Inspecting the example\n",
    "\n",
    "In the example yaml below, we see that we specify a Pod to be created (this is the smallest unit of execution in a Kubernetes cluster) which will contains 2 containers.\n",
    "\n",
    "The yaml specifies which Kubernetes api version to use, the \"*kind*\" of object to be managed, and it's name."
   ]
  },
  {
   "cell_type": "code",
   "execution_count": 12,
   "metadata": {
    "slideshow": {
     "slide_type": "slide"
    }
   },
   "outputs": [
    {
     "name": "stdout",
     "output_type": "stream",
     "text": [
      "\n",
      "apiVersion: v1\n",
      "kind: Pod\n",
      "metadata:\n",
      "  name: 2-containers-in-a-pod\n",
      "spec:\n",
      "  containers:\n",
      "  - name: k8s-demo\n",
      "    image: mjbright/k8s-demo:1\n",
      "    ports:\n",
      "    - containerPort: 9876\n",
      "  - name: shell\n",
      "    image: alpine\n",
      "    command:\n",
      "      - \"bin/sh\"\n",
      "      - \"-c\"\n",
      "      - \"while true; do date; sleep 1; done\"\n",
      "\n"
     ]
    }
   ],
   "source": [
    "cat examples/3.pod_example.yaml"
   ]
  },
  {
   "cell_type": "markdown",
   "metadata": {
    "slideshow": {
     "slide_type": "slide"
    }
   },
   "source": [
    "Let's first cleanup by verifying that this pod isn't already running.\n",
    "\n",
    "We can use our yaml definition to delete any instances which may be running:"
   ]
  },
  {
   "cell_type": "code",
   "execution_count": 13,
   "metadata": {
    "slideshow": {
     "slide_type": "fragment"
    }
   },
   "outputs": [],
   "source": [
    "checkPresent pod 2-containers-in-a-pod && {\n",
    "    echo; echo \"-- Deleting pod:\"\n",
    "    kubectl delete -f examples/3.pod_example.yaml\n",
    "\n",
    "    echo; echo \"-- Waiting for pod to terminate:\"\n",
    "    untilNotPresent pod 2-containers-in-a-pod \n",
    "    }\n",
    "cont"
   ]
  },
  {
   "cell_type": "markdown",
   "metadata": {
    "slideshow": {
     "slide_type": "slide"
    }
   },
   "source": [
    "If we deleted any instances of \"*2-containers-in-a-pod*\" we need to wait for them to have terminated:\n"
   ]
  },
  {
   "cell_type": "code",
   "execution_count": 14,
   "metadata": {
    "slideshow": {
     "slide_type": "slide"
    }
   },
   "outputs": [
    {
     "name": "stdout",
     "output_type": "stream",
     "text": [
      "NAME              DESIRED   CURRENT   UP-TO-DATE   AVAILABLE   AGE\n",
      "deploy/k8s-demo   2         2         2            2           8s\n",
      "\n",
      "NAME                     DESIRED   CURRENT   READY     AGE\n",
      "rs/k8s-demo-6b76bd84d7   2         2         2         8s\n",
      "\n",
      "NAME              DESIRED   CURRENT   UP-TO-DATE   AVAILABLE   AGE\n",
      "deploy/k8s-demo   2         2         2            2           8s\n",
      "\n",
      "NAME                     DESIRED   CURRENT   READY     AGE\n",
      "rs/k8s-demo-6b76bd84d7   2         2         2         8s\n",
      "\n",
      "NAME                           READY     STATUS    RESTARTS   AGE\n",
      "po/k8s-demo-6b76bd84d7-56b49   1/1       Running   0          8s\n",
      "po/k8s-demo-6b76bd84d7-9rfnw   1/1       Running   0          8s\n",
      "\n",
      "NAME             TYPE        CLUSTER-IP   EXTERNAL-IP   PORT(S)   AGE\n",
      "svc/kubernetes   ClusterIP   10.96.0.1    <none>        443/TCP   1h\n"
     ]
    }
   ],
   "source": [
    "kubectl get all"
   ]
  },
  {
   "cell_type": "markdown",
   "metadata": {
    "slideshow": {
     "slide_type": "slide"
    }
   },
   "source": [
    "Now we can create our pod as follows:"
   ]
  },
  {
   "cell_type": "code",
   "execution_count": 15,
   "metadata": {
    "slideshow": {
     "slide_type": "fragment"
    }
   },
   "outputs": [
    {
     "name": "stdout",
     "output_type": "stream",
     "text": [
      "pod \"2-containers-in-a-pod\" created\n"
     ]
    }
   ],
   "source": [
    "kubectl create -f examples/3.pod_example.yaml"
   ]
  },
  {
   "cell_type": "code",
   "execution_count": 16,
   "metadata": {
    "slideshow": {
     "slide_type": "slide"
    }
   },
   "outputs": [
    {
     "name": "stdout",
     "output_type": "stream",
     "text": [
      "NAME                    READY     STATUS              RESTARTS   AGE\n",
      "2-containers-in-a-pod   0/2       ContainerCreating   0          0s\n"
     ]
    }
   ],
   "source": [
    "kubectl get po/2-containers-in-a-pod"
   ]
  },
  {
   "cell_type": "code",
   "execution_count": 17,
   "metadata": {
    "slideshow": {
     "slide_type": "fragment"
    }
   },
   "outputs": [
    {
     "name": "stdout",
     "output_type": "stream",
     "text": [
      "NAME                    READY     STATUS    RESTARTS   AGE\n",
      "2-containers-in-a-pod   2/2       Running   0          5s\n"
     ]
    }
   ],
   "source": [
    "untilState pod 2-containers-in-a-pod Running &&\n",
    "    kubectl get po/2-containers-in-a-pod"
   ]
  },
  {
   "cell_type": "code",
   "execution_count": 18,
   "metadata": {
    "slideshow": {
     "slide_type": "slide"
    }
   },
   "outputs": [
    {
     "name": "stdout",
     "output_type": "stream",
     "text": [
      "Name:         2-containers-in-a-pod\n",
      "Namespace:    default\n",
      "Node:         kube-node-2/10.192.0.4\n",
      "Start Time:   Sun, 18 Mar 2018 19:58:57 +0000\n",
      "Labels:       <none>\n",
      "Annotations:  <none>\n",
      "Status:       Running\n",
      "IP:           10.192.3.2\n",
      "Containers:\n",
      "  k8s-demo:\n",
      "    Container ID:   docker://d7cbed7e43c39529dcd3378ce8967530e643738c40bd7253438d62c741fbf546\n",
      "    Image:          mjbright/k8s-demo:1\n",
      "    Image ID:       docker-pullable://mjbright/k8s-demo@sha256:6d84d697796e0a529028808ba76e92482c4ca0c408e9f9eae8aba6f23c173264\n",
      "    Port:           9876/TCP\n",
      "    State:          Running\n",
      "      Started:      Sun, 18 Mar 2018 19:58:59 +0000\n",
      "    Ready:          True\n",
      "    Restart Count:  0\n",
      "    Environment:    <none>\n",
      "    Mounts:\n",
      "      /var/run/secrets/kubernetes.io/serviceaccount from default-token-6qqm4 (ro)\n",
      "  shell:\n",
      "    Container ID:  docker://18395509dbf6941d9d62a2368ad48509dc4f3fb5d9dcf103c79eb5fb96544422\n",
      "    Image:         alpine\n",
      "    Image ID:      docker-pullable://alpine@sha256:7b848083f93822dd21b0a2f14a110bd99f6efb4b838d499df6d04a49d0debf8b\n",
      "    Port:          <none>\n",
      "    Command:\n",
      "      bin/sh\n",
      "      -c\n",
      "      while true; do date; sleep 1; done\n",
      "    State:          Running\n",
      "      Started:      Sun, 18 Mar 2018 19:59:00 +0000\n",
      "    Ready:          True\n",
      "    Restart Count:  0\n",
      "    Environment:    <none>\n",
      "    Mounts:\n",
      "      /var/run/secrets/kubernetes.io/serviceaccount from default-token-6qqm4 (ro)\n",
      "Conditions:\n",
      "  Type           Status\n",
      "  Initialized    True \n",
      "  Ready          True \n",
      "  PodScheduled   True \n",
      "Volumes:\n",
      "  default-token-6qqm4:\n",
      "    Type:        Secret (a volume populated by a Secret)\n",
      "    SecretName:  default-token-6qqm4\n",
      "    Optional:    false\n",
      "QoS Class:       BestEffort\n",
      "Node-Selectors:  <none>\n",
      "Tolerations:     node.kubernetes.io/not-ready:NoExecute for 300s\n",
      "                 node.kubernetes.io/unreachable:NoExecute for 300s\n",
      "Events:\n",
      "  Type    Reason                 Age   From                  Message\n",
      "  ----    ------                 ----  ----                  -------\n",
      "  Normal  Scheduled              6s    default-scheduler     Successfully assigned 2-containers-in-a-pod to kube-node-2\n",
      "  Normal  SuccessfulMountVolume  6s    kubelet, kube-node-2  MountVolume.SetUp succeeded for volume \"default-token-6qqm4\"\n",
      "  Normal  Pulled                 4s    kubelet, kube-node-2  Container image \"mjbright/k8s-demo:1\" already present on machine\n",
      "  Normal  Created                4s    kubelet, kube-node-2  Created container\n",
      "  Normal  Started                4s    kubelet, kube-node-2  Started container\n",
      "  Normal  Pulling                4s    kubelet, kube-node-2  pulling image \"alpine\"\n",
      "  Normal  Pulled                 3s    kubelet, kube-node-2  Successfully pulled image \"alpine\"\n",
      "  Normal  Created                3s    kubelet, kube-node-2  Created container\n",
      "  Normal  Started                3s    kubelet, kube-node-2  Started container\n"
     ]
    }
   ],
   "source": [
    "kubectl describe po/2-containers-in-a-pod"
   ]
  },
  {
   "cell_type": "code",
   "execution_count": 19,
   "metadata": {
    "slideshow": {
     "slide_type": "slide"
    }
   },
   "outputs": [
    {
     "name": "stdout",
     "output_type": "stream",
     "text": [
      "Defaulting container name to k8s-demo.\n",
      "Use 'kubectl describe pod/2-containers-in-a-pod -n default' to see all of the containers in this pod.\n",
      "hello world\n"
     ]
    }
   ],
   "source": [
    "kubectl exec -it 2-containers-in-a-pod -n default echo hello world"
   ]
  },
  {
   "cell_type": "code",
   "execution_count": 20,
   "metadata": {
    "slideshow": {
     "slide_type": "fragment"
    }
   },
   "outputs": [
    {
     "name": "stdout",
     "output_type": "stream",
     "text": [
      "Sun Mar 18 19:59:00 UTC 2018\n",
      "Sun Mar 18 19:59:01 UTC 2018\n",
      "Sun Mar 18 19:59:02 UTC 2018\n"
     ]
    }
   ],
   "source": [
    "kubectl logs 2-containers-in-a-pod shell | head -3"
   ]
  },
  {
   "cell_type": "code",
   "execution_count": 21,
   "metadata": {
    "slideshow": {
     "slide_type": "slide"
    }
   },
   "outputs": [
    {
     "name": "stdout",
     "output_type": "stream",
     "text": [
      "pod \"2-containers-in-a-pod\" deleted\n"
     ]
    }
   ],
   "source": [
    "kubectl delete po/2-containers-in-a-pod"
   ]
  },
  {
   "cell_type": "code",
   "execution_count": 22,
   "metadata": {
    "slideshow": {
     "slide_type": "fragment"
    }
   },
   "outputs": [
    {
     "name": "stdout",
     "output_type": "stream",
     "text": [
      "NAME                        READY     STATUS        RESTARTS   AGE\n",
      "2-containers-in-a-pod       2/2       Terminating   0          7s\n",
      "k8s-demo-6b76bd84d7-56b49   1/1       Running       0          15s\n",
      "k8s-demo-6b76bd84d7-9rfnw   1/1       Running       0          15s\n"
     ]
    }
   ],
   "source": [
    "kubectl get pods"
   ]
  },
  {
   "cell_type": "markdown",
   "metadata": {
    "slideshow": {
     "slide_type": "slide"
    }
   },
   "source": [
    "## What happens if a pod dies?"
   ]
  },
  {
   "cell_type": "code",
   "execution_count": 23,
   "metadata": {
    "slideshow": {
     "slide_type": "fragment"
    }
   },
   "outputs": [
    {
     "name": "stdout",
     "output_type": "stream",
     "text": [
      "NAME                        READY     STATUS        RESTARTS   AGE       IP           NODE\n",
      "2-containers-in-a-pod       2/2       Terminating   0          7s        10.192.3.2   kube-node-2\n",
      "k8s-demo-6b76bd84d7-56b49   1/1       Running       0          15s       10.192.2.1   kube-node-1\n",
      "k8s-demo-6b76bd84d7-9rfnw   1/1       Running       0          15s       10.192.3.1   kube-node-2\n"
     ]
    }
   ],
   "source": [
    "kubectl get pods -o wide"
   ]
  },
  {
   "cell_type": "markdown",
   "metadata": {
    "slideshow": {
     "slide_type": "slide"
    }
   },
   "source": [
    "When we deleted the 2-containers-in-a-pod Pod it just died.\n",
    "\n",
    "If we delete one of our k8s-demo Pods we will see that a new Pod is created automatically, this is because it is managed by a ReplicaSet.\n",
    "\n",
    "Running a Pod via \"kubectl run\" creates a Deployment which then creates a ReplicaSet.\n",
    "\n",
    "Let's kill one of our Pods and see what happens\n"
   ]
  },
  {
   "cell_type": "code",
   "execution_count": 24,
   "metadata": {
    "slideshow": {
     "slide_type": "fragment"
    }
   },
   "outputs": [
    {
     "name": "stdout",
     "output_type": "stream",
     "text": [
      "k8s-demo-6b76bd84d7-56b49\n"
     ]
    }
   ],
   "source": [
    "kubectl get pod | grep k8s-demo | head -1 | awk '{ print $1;}'\n",
    "\n",
    "POD1=$(kubectl get pod | grep k8s-demo | head -1 | awk '{ print $1;}')"
   ]
  },
  {
   "cell_type": "code",
   "execution_count": 25,
   "metadata": {
    "slideshow": {
     "slide_type": "slide"
    }
   },
   "outputs": [
    {
     "name": "stdout",
     "output_type": "stream",
     "text": [
      "pod \"k8s-demo-6b76bd84d7-56b49\" deleted\n"
     ]
    }
   ],
   "source": [
    "kubectl delete pod $POD1"
   ]
  },
  {
   "cell_type": "code",
   "execution_count": 26,
   "metadata": {
    "slideshow": {
     "slide_type": "fragment"
    }
   },
   "outputs": [
    {
     "name": "stdout",
     "output_type": "stream",
     "text": [
      "NAME                        READY     STATUS              RESTARTS   AGE       IP           NODE\n",
      "2-containers-in-a-pod       2/2       Terminating         0          9s        10.192.3.2   kube-node-2\n",
      "k8s-demo-6b76bd84d7-56b49   0/1       Terminating         0          17s       10.192.2.1   kube-node-1\n",
      "k8s-demo-6b76bd84d7-9rfnw   1/1       Running             0          17s       10.192.3.1   kube-node-2\n",
      "k8s-demo-6b76bd84d7-zp4vk   0/1       ContainerCreating   0          1s        <none>       kube-node-1\n"
     ]
    }
   ],
   "source": [
    "kubectl get pods -o wide"
   ]
  },
  {
   "cell_type": "code",
   "execution_count": 27,
   "metadata": {
    "slideshow": {
     "slide_type": "fragment"
    }
   },
   "outputs": [
    {
     "name": "stdout",
     "output_type": "stream",
     "text": [
      "NAME                        READY     STATUS        RESTARTS   AGE       IP           NODE\n",
      "2-containers-in-a-pod       2/2       Terminating   0          19s       10.192.3.2   kube-node-2\n",
      "k8s-demo-6b76bd84d7-9rfnw   1/1       Running       0          27s       10.192.3.1   kube-node-2\n",
      "k8s-demo-6b76bd84d7-zp4vk   1/1       Running       0          11s       10.192.2.2   kube-node-1\n"
     ]
    }
   ],
   "source": [
    "sleep 10; kubectl get pods -o wide"
   ]
  },
  {
   "cell_type": "markdown",
   "metadata": {
    "slideshow": {
     "slide_type": "slide"
    }
   },
   "source": [
    "We see that our Pod was deleted but that a new one was created, this is what we expect when our Pod is managed by a ReplicaSet."
   ]
  },
  {
   "cell_type": "markdown",
   "metadata": {
    "slideshow": {
     "slide_type": "slide"
    }
   },
   "source": [
    "# Labels and Selectors\n",
    "\n",
    "Labels can be applied to any Kubernetes generated objects and this can be useful to be able to apply operations to only selected objects based on their labels.\n",
    "\n",
    "We can see that our k8s-demo Deployment earlier had labels automatically assigned to it.\n",
    "\n",
    "We can create other Deployments, or Pods with a specific label."
   ]
  },
  {
   "cell_type": "code",
   "execution_count": 28,
   "metadata": {
    "slideshow": {
     "slide_type": "slide"
    }
   },
   "outputs": [
    {
     "name": "stdout",
     "output_type": "stream",
     "text": [
      "Name:                   k8s-demo\n",
      "Namespace:              default\n",
      "CreationTimestamp:      Sun, 18 Mar 2018 19:58:49 +0000\n",
      "Labels:                 app=k8s-demo\n",
      "Annotations:            deployment.kubernetes.io/revision=1\n",
      "Selector:               app=k8s-demo\n",
      "Replicas:               2 desired | 2 updated | 2 total | 2 available | 0 unavailable\n",
      "StrategyType:           RollingUpdate\n",
      "MinReadySeconds:        0\n",
      "RollingUpdateStrategy:  1 max unavailable, 1 max surge\n",
      "Pod Template:\n",
      "  Labels:  app=k8s-demo\n",
      "  Containers:\n",
      "   k8s-demo:\n",
      "    Image:        mjbright/k8s-demo:1\n",
      "    Port:         8080/TCP\n",
      "    Environment:  <none>\n",
      "    Mounts:       <none>\n",
      "  Volumes:        <none>\n",
      "Conditions:\n",
      "  Type           Status  Reason\n",
      "  ----           ------  ------\n",
      "  Available      True    MinimumReplicasAvailable\n",
      "OldReplicaSets:  <none>\n",
      "NewReplicaSet:   k8s-demo-6b76bd84d7 (2/2 replicas created)\n",
      "Events:\n",
      "  Type    Reason             Age   From                   Message\n",
      "  ----    ------             ----  ----                   -------\n",
      "  Normal  ScalingReplicaSet  27s   deployment-controller  Scaled up replica set k8s-demo-6b76bd84d7 to 2\n"
     ]
    }
   ],
   "source": [
    "kubectl describe deploy k8s-demo #| grep Labels:"
   ]
  },
  {
   "cell_type": "markdown",
   "metadata": {
    "slideshow": {
     "slide_type": "slide"
    }
   },
   "source": [
    "Now let's create a 2nd deployment with a label we assign:"
   ]
  },
  {
   "cell_type": "code",
   "execution_count": 29,
   "metadata": {
    "slideshow": {
     "slide_type": "slide"
    }
   },
   "outputs": [
    {
     "name": "stdout",
     "output_type": "stream",
     "text": [
      "deployment \"k8s-demo-test\" created\n"
     ]
    }
   ],
   "source": [
    "kubectl run k8s-demo-test -l \"mylabel=testing-v3\" --image=mjbright/k8s-demo:3"
   ]
  },
  {
   "cell_type": "code",
   "execution_count": 30,
   "metadata": {
    "slideshow": {
     "slide_type": "fragment"
    }
   },
   "outputs": [
    {
     "name": "stdout",
     "output_type": "stream",
     "text": [
      "k8s-demo-6b76bd84d7-9rfnw       1/1       Running             0          28s\n",
      "k8s-demo-6b76bd84d7-zp4vk       1/1       Running             0          12s\n",
      "k8s-demo-test-c5d55945b-wzfnl   0/1       ContainerCreating   0          1s\n"
     ]
    }
   ],
   "source": [
    "kubectl get po | grep k8s-demo"
   ]
  },
  {
   "cell_type": "markdown",
   "metadata": {
    "slideshow": {
     "slide_type": "subslide"
    }
   },
   "source": [
    "Now we can choose to operate on, e.g. delete, only objects matching a label - note we must delete the Deployment itself no the Pods else they will be recreated."
   ]
  },
  {
   "cell_type": "code",
   "execution_count": 31,
   "metadata": {
    "slideshow": {
     "slide_type": "fragment"
    }
   },
   "outputs": [
    {
     "name": "stdout",
     "output_type": "stream",
     "text": [
      "deployment \"k8s-demo-test\" deleted\n"
     ]
    }
   ],
   "source": [
    "kubectl delete deploy -l \"mylabel=testing-v3\""
   ]
  },
  {
   "cell_type": "code",
   "execution_count": 32,
   "metadata": {
    "slideshow": {
     "slide_type": "fragment"
    }
   },
   "outputs": [
    {
     "name": "stdout",
     "output_type": "stream",
     "text": [
      "k8s-demo-6b76bd84d7-9rfnw   1/1       Running       0          31s\n",
      "k8s-demo-6b76bd84d7-zp4vk   1/1       Running       0          15s\n"
     ]
    }
   ],
   "source": [
    "kubectl get po | grep k8s-demo"
   ]
  },
  {
   "cell_type": "markdown",
   "metadata": {
    "slideshow": {
     "slide_type": "fragment"
    }
   },
   "source": [
    "This is an extremely important concept in Kubernetes allowing a loose coupling of elements, where Controllers can keep track of elements of the cluster and request resources based on their labels."
   ]
  },
  {
   "cell_type": "markdown",
   "metadata": {
    "slideshow": {
     "slide_type": "slide"
    }
   },
   "source": [
    "## What happens if a node dies?\n",
    "We should see similar behaviour is a Node dies.\n",
    "\n",
    "Anyone want to try this?"
   ]
  },
  {
   "cell_type": "markdown",
   "metadata": {
    "slideshow": {
     "slide_type": "slide"
    }
   },
   "source": [
    "# Scaling our application\n",
    "\n",
    "As our Pods are managed by a **ReplicaSet** we can scale the number of replicas by using the scale command on the **Deployment**:"
   ]
  },
  {
   "cell_type": "code",
   "execution_count": 33,
   "metadata": {
    "slideshow": {
     "slide_type": "fragment"
    }
   },
   "outputs": [
    {
     "name": "stdout",
     "output_type": "stream",
     "text": [
      "deployment \"k8s-demo\" scaled\n"
     ]
    }
   ],
   "source": [
    "kubectl scale --replicas=3 deploy/k8s-demo"
   ]
  },
  {
   "cell_type": "code",
   "execution_count": 34,
   "metadata": {
    "slideshow": {
     "slide_type": "slide"
    }
   },
   "outputs": [
    {
     "name": "stdout",
     "output_type": "stream",
     "text": [
      "NAME              DESIRED   CURRENT   UP-TO-DATE   AVAILABLE   AGE\n",
      "deploy/k8s-demo   3         3         3            2           33s\n",
      "\n",
      "NAME                     DESIRED   CURRENT   READY     AGE\n",
      "rs/k8s-demo-6b76bd84d7   3         3         2         33s\n",
      "\n",
      "NAME              DESIRED   CURRENT   UP-TO-DATE   AVAILABLE   AGE\n",
      "deploy/k8s-demo   3         3         3            2           33s\n",
      "\n",
      "NAME                     DESIRED   CURRENT   READY     AGE\n",
      "rs/k8s-demo-6b76bd84d7   3         3         2         33s\n",
      "\n",
      "NAME                           READY     STATUS              RESTARTS   AGE\n",
      "po/2-containers-in-a-pod       2/2       Terminating         0          25s\n",
      "po/k8s-demo-6b76bd84d7-9rfnw   1/1       Running             0          33s\n",
      "po/k8s-demo-6b76bd84d7-qg982   0/1       ContainerCreating   0          0s\n",
      "po/k8s-demo-6b76bd84d7-zp4vk   1/1       Running             0          17s\n",
      "\n",
      "NAME             TYPE        CLUSTER-IP   EXTERNAL-IP   PORT(S)   AGE\n",
      "svc/kubernetes   ClusterIP   10.96.0.1    <none>        443/TCP   1h\n"
     ]
    }
   ],
   "source": [
    "kubectl get all"
   ]
  },
  {
   "cell_type": "code",
   "execution_count": 35,
   "metadata": {
    "slideshow": {
     "slide_type": "slide"
    }
   },
   "outputs": [
    {
     "name": "stdout",
     "output_type": "stream",
     "text": [
      "NAME                        READY     STATUS              RESTARTS   AGE       IP           NODE\n",
      "2-containers-in-a-pod       2/2       Terminating         0          26s       10.192.3.2   kube-node-2\n",
      "k8s-demo-6b76bd84d7-9rfnw   1/1       Running             0          34s       10.192.3.1   kube-node-2\n",
      "k8s-demo-6b76bd84d7-qg982   0/1       ContainerCreating   0          1s        <none>       kube-node-1\n",
      "k8s-demo-6b76bd84d7-zp4vk   1/1       Running             0          18s       10.192.2.2   kube-node-1\n"
     ]
    }
   ],
   "source": [
    "kubectl get pods -o wide"
   ]
  },
  {
   "cell_type": "markdown",
   "metadata": {
    "slideshow": {
     "slide_type": "slide"
    }
   },
   "source": [
    "### Scaling down\n",
    "\n",
    "We can of course scale back down:"
   ]
  },
  {
   "cell_type": "code",
   "execution_count": 36,
   "metadata": {
    "slideshow": {
     "slide_type": "fragment"
    }
   },
   "outputs": [
    {
     "name": "stdout",
     "output_type": "stream",
     "text": [
      "deployment \"k8s-demo\" scaled\n"
     ]
    }
   ],
   "source": [
    "kubectl scale --replicas=2 deploy/k8s-demo"
   ]
  },
  {
   "cell_type": "code",
   "execution_count": 37,
   "metadata": {
    "slideshow": {
     "slide_type": "slide"
    }
   },
   "outputs": [
    {
     "name": "stdout",
     "output_type": "stream",
     "text": [
      "k8s-demo-6b76bd84d7-qg982   0/1       Terminating   0          2s\n",
      "k8s-demo-6b76bd84d7-qg982   0/1       Terminating   0          11s\n"
     ]
    }
   ],
   "source": [
    "untilNotState pod k8s-demo Terminating"
   ]
  },
  {
   "cell_type": "code",
   "execution_count": 38,
   "metadata": {
    "slideshow": {
     "slide_type": "slide"
    }
   },
   "outputs": [
    {
     "name": "stdout",
     "output_type": "stream",
     "text": [
      "NAME                        READY     STATUS        RESTARTS   AGE       IP           NODE\n",
      "2-containers-in-a-pod       0/2       Terminating   0          44s       10.192.3.2   kube-node-2\n",
      "k8s-demo-6b76bd84d7-9rfnw   1/1       Running       0          52s       10.192.3.1   kube-node-2\n",
      "k8s-demo-6b76bd84d7-zp4vk   1/1       Running       0          36s       10.192.2.2   kube-node-1\n"
     ]
    }
   ],
   "source": [
    "kubectl get pods -o wide"
   ]
  },
  {
   "cell_type": "markdown",
   "metadata": {
    "slideshow": {
     "slide_type": "slide"
    }
   },
   "source": [
    "## Accessing our application\n",
    "\n",
    "To access our application pods we should expose them as a service.\n",
    "This would have the advantage of being able to address a virtual ip address for our service as pods themselves come and go (so we don't need to determine their address), and also allows load balancing between pods.\n",
    "\n",
    "### Accessing our application - directly accessing Pods\n",
    "\n",
    "But there are other more basic ways that we will investigate first.\n",
    "\n",
    "If we perform '''kubectl get pods -o wide''' we will see the cluster ip of our pods, enabling us to access directly to the pods."
   ]
  },
  {
   "cell_type": "code",
   "execution_count": 39,
   "metadata": {
    "slideshow": {
     "slide_type": "fragment"
    }
   },
   "outputs": [
    {
     "name": "stdout",
     "output_type": "stream",
     "text": [
      "NAME                        READY     STATUS        RESTARTS   AGE       IP           NODE\n",
      "2-containers-in-a-pod       0/2       Terminating   0          45s       10.192.3.2   kube-node-2\n",
      "k8s-demo-6b76bd84d7-9rfnw   1/1       Running       0          53s       10.192.3.1   kube-node-2\n",
      "k8s-demo-6b76bd84d7-zp4vk   1/1       Running       0          37s       10.192.2.2   kube-node-1\n"
     ]
    }
   ],
   "source": [
    "kubectl get pods -o wide "
   ]
  },
  {
   "cell_type": "code",
   "execution_count": 40,
   "metadata": {
    "slideshow": {
     "slide_type": "slide"
    }
   },
   "outputs": [
    {
     "name": "stdout",
     "output_type": "stream",
     "text": [
      "POD1=k8s-demo-6b76bd84d7-9rfnw POD1_IP=10.192.3.1\n",
      "POD2=k8s-demo-6b76bd84d7-zp4vk POD2_IP=10.192.2.2\n"
     ]
    }
   ],
   "source": [
    "POD1=$(kubectl get pod -o wide --no-headers | grep k8s-demo | head -1 | awk '{print $1;}')\n",
    "POD2=$(kubectl get pod -o wide --no-headers | grep k8s-demo | tail -1 | awk '{print $1;}')\n",
    "POD1_IP=$(kubectl get pod -o wide --no-headers | grep k8s-demo | head -1 | awk '{print $6;}')\n",
    "POD2_IP=$(kubectl get pod -o wide --no-headers | grep k8s-demo | tail -1 | awk '{print $6;}')\n",
    "\n",
    "echo POD1=$POD1 POD1_IP=$POD1_IP\n",
    "echo POD2=$POD2 POD2_IP=$POD2_IP"
   ]
  },
  {
   "cell_type": "markdown",
   "metadata": {
    "slideshow": {
     "slide_type": "fragment"
    }
   },
   "source": [
    "Let's look at the yaml information for POD1:"
   ]
  },
  {
   "cell_type": "code",
   "execution_count": 41,
   "metadata": {
    "slideshow": {
     "slide_type": "slide"
    }
   },
   "outputs": [
    {
     "name": "stdout",
     "output_type": "stream",
     "text": [
      "apiVersion: v1\n",
      "kind: Pod\n",
      "metadata:\n",
      "  creationTimestamp: 2018-03-18T19:58:49Z\n",
      "  generateName: k8s-demo-6b76bd84d7-\n",
      "  labels:\n",
      "    app: k8s-demo\n",
      "    pod-template-hash: \"2632684083\"\n",
      "  name: k8s-demo-6b76bd84d7-9rfnw\n",
      "  namespace: default\n",
      "  ownerReferences:\n",
      "  - apiVersion: extensions/v1beta1\n",
      "    blockOwnerDeletion: true\n",
      "    controller: true\n",
      "    kind: ReplicaSet\n",
      "    name: k8s-demo-6b76bd84d7\n",
      "    uid: c68ec24a-2ae6-11e8-acfc-02420ac00002\n",
      "  resourceVersion: \"4146\"\n",
      "  selfLink: /api/v1/namespaces/default/pods/k8s-demo-6b76bd84d7-9rfnw\n",
      "  uid: c69250c2-2ae6-11e8-acfc-02420ac00002\n",
      "spec:\n",
      "  containers:\n",
      "  - image: mjbright/k8s-demo:1\n",
      "    imagePullPolicy: IfNotPresent\n",
      "    name: k8s-demo\n",
      "    ports:\n",
      "    - containerPort: 8080\n",
      "      protocol: TCP\n",
      "    resources: {}\n",
      "    terminationMessagePath: /dev/termination-log\n",
      "    terminationMessagePolicy: File\n",
      "    volumeMounts:\n",
      "    - mountPath: /var/run/secrets/kubernetes.io/serviceaccount\n",
      "      name: default-token-6qqm4\n",
      "      readOnly: true\n",
      "  dnsPolicy: ClusterFirst\n",
      "  nodeName: kube-node-2\n",
      "  restartPolicy: Always\n",
      "  schedulerName: default-scheduler\n",
      "  securityContext: {}\n",
      "  serviceAccount: default\n",
      "  serviceAccountName: default\n",
      "  terminationGracePeriodSeconds: 30\n",
      "  tolerations:\n",
      "  - effect: NoExecute\n",
      "    key: node.kubernetes.io/not-ready\n",
      "    operator: Exists\n",
      "    tolerationSeconds: 300\n",
      "  - effect: NoExecute\n",
      "    key: node.kubernetes.io/unreachable\n",
      "    operator: Exists\n",
      "    tolerationSeconds: 300\n",
      "  volumes:\n",
      "  - name: default-token-6qqm4\n",
      "    secret:\n",
      "      defaultMode: 420\n",
      "      secretName: default-token-6qqm4\n",
      "status:\n",
      "  conditions:\n",
      "  - lastProbeTime: null\n",
      "    lastTransitionTime: 2018-03-18T19:58:49Z\n",
      "    status: \"True\"\n",
      "    type: Initialized\n",
      "  - lastProbeTime: null\n",
      "    lastTransitionTime: 2018-03-18T19:58:54Z\n",
      "    status: \"True\"\n",
      "    type: Ready\n",
      "  - lastProbeTime: null\n",
      "    lastTransitionTime: 2018-03-18T19:58:49Z\n",
      "    status: \"True\"\n",
      "    type: PodScheduled\n",
      "  containerStatuses:\n",
      "  - containerID: docker://98378b591abafa7f608aeb463198c546131c31b470d2d0689f7c346c93f19a74\n",
      "    image: mjbright/k8s-demo:1\n",
      "    imageID: docker-pullable://mjbright/k8s-demo@sha256:6d84d697796e0a529028808ba76e92482c4ca0c408e9f9eae8aba6f23c173264\n",
      "    lastState: {}\n",
      "    name: k8s-demo\n",
      "    ready: true\n",
      "    restartCount: 0\n",
      "    state:\n",
      "      running:\n",
      "        startedAt: 2018-03-18T19:58:54Z\n",
      "  hostIP: 10.192.0.4\n",
      "  phase: Running\n",
      "  podIP: 10.192.3.1\n",
      "  qosClass: BestEffort\n",
      "  startTime: 2018-03-18T19:58:49Z\n"
     ]
    }
   ],
   "source": [
    "kubectl get pod $POD1 -o yaml"
   ]
  },
  {
   "cell_type": "markdown",
   "metadata": {
    "slideshow": {
     "slide_type": "slide"
    }
   },
   "source": [
    "We can see that the containerPort 8080/TCP is exposed (as we specified on our initial '*kubectl run*' command).\n",
    "\n",
    "So now we can access to the pods directly on their port 8080."
   ]
  },
  {
   "cell_type": "code",
   "execution_count": 42,
   "metadata": {
    "slideshow": {
     "slide_type": "slide"
    }
   },
   "outputs": [
    {
     "name": "stdout",
     "output_type": "stream",
     "text": [
      "\n",
      "\u001b[1;34m\n",
      "\n",
      "                               \n",
      "                    (((((((((                  \n",
      "               .(((((((((((((((((.             \n",
      "           .((((((((((((&((((((((((((.         \n",
      "       /((((((((((((((((@((((((((((((((((/     \n",
      "      ((((((((((((((((((@((((((((((((((((((    \n",
      "     *(((((##((((((@@@@@@@@@@@((((((%#(((((*   \n",
      "     (((((((@@@(@@@@#((@@@((#@@@@(@@@(((((((   \n",
      "    *(((((((((@@@@(((((@@@(((((@@@@(((((((((,  \n",
      "    (((((((((@@@%@@@@((@@@((@@@@%@@@(((((((((  \n",
      "   .(((((((((@@((((@@@@@@@@@@@((((@@(((((((((. \n",
      "   (((((((((&@@(((((@@@(((@@@(((((@@&((((((((( \n",
      "   (((((((((&@@@@@@@@@@#(#@@@@@@@@@@&((((((((( \n",
      "  ((((((@@@@@@@@(((((@@@@@@@(((((&@@@@@@@((((((\n",
      "  (((((((((((%@@((((%@@@(@@@%((((@@&(((((((((((\n",
      "   ((((((((((((@@@((@@%(((%@@((@@@(((((((((((( \n",
      "     (((((((((((#@@@@%(((((&@@@@#(((((((((((   \n",
      "      /(((((((((((@@@@@@@@@@@@@(((((((((((/    \n",
      "        (((((((((@@(((((((((((@@(((((((((      \n",
      "          (((((((&(((((((((((((&(((((((        \n",
      "           /(((((((((((((((((((((((((/         \n",
      "             (((((((((((((((((((((((           \n",
      "\n",
      "\u001b[0m\n",
      "\n",
      "Served from container \u001b[1;33mk8s-demo-6b76bd84d7-9rfnw\u001b[0;0m\n",
      "Using image mjbright/k8s-demo:1\n"
     ]
    }
   ],
   "source": [
    "curl http://$POD1_IP:8080"
   ]
  },
  {
   "cell_type": "code",
   "execution_count": 43,
   "metadata": {
    "slideshow": {
     "slide_type": "slide"
    }
   },
   "outputs": [
    {
     "name": "stdout",
     "output_type": "stream",
     "text": [
      "\n",
      "\u001b[1;34m\n",
      "\n",
      "                               \n",
      "                    (((((((((                  \n",
      "               .(((((((((((((((((.             \n",
      "           .((((((((((((&((((((((((((.         \n",
      "       /((((((((((((((((@((((((((((((((((/     \n",
      "      ((((((((((((((((((@((((((((((((((((((    \n",
      "     *(((((##((((((@@@@@@@@@@@((((((%#(((((*   \n",
      "     (((((((@@@(@@@@#((@@@((#@@@@(@@@(((((((   \n",
      "    *(((((((((@@@@(((((@@@(((((@@@@(((((((((,  \n",
      "    (((((((((@@@%@@@@((@@@((@@@@%@@@(((((((((  \n",
      "   .(((((((((@@((((@@@@@@@@@@@((((@@(((((((((. \n",
      "   (((((((((&@@(((((@@@(((@@@(((((@@&((((((((( \n",
      "   (((((((((&@@@@@@@@@@#(#@@@@@@@@@@&((((((((( \n",
      "  ((((((@@@@@@@@(((((@@@@@@@(((((&@@@@@@@((((((\n",
      "  (((((((((((%@@((((%@@@(@@@%((((@@&(((((((((((\n",
      "   ((((((((((((@@@((@@%(((%@@((@@@(((((((((((( \n",
      "     (((((((((((#@@@@%(((((&@@@@#(((((((((((   \n",
      "      /(((((((((((@@@@@@@@@@@@@(((((((((((/    \n",
      "        (((((((((@@(((((((((((@@(((((((((      \n",
      "          (((((((&(((((((((((((&(((((((        \n",
      "           /(((((((((((((((((((((((((/         \n",
      "             (((((((((((((((((((((((           \n",
      "\n",
      "\u001b[0m\n",
      "\n",
      "Served from container \u001b[1;33mk8s-demo-6b76bd84d7-zp4vk\u001b[0;0m\n",
      "Using image mjbright/k8s-demo:1\n"
     ]
    }
   ],
   "source": [
    "curl http://$POD2_IP:8080"
   ]
  },
  {
   "cell_type": "markdown",
   "metadata": {
    "slideshow": {
     "slide_type": "slide"
    }
   },
   "source": [
    "**Note:** In a real deployment of course the actual Pod ips would not be externally accessible so we would want some way of making the nodes available on a well known address."
   ]
  }
 ],
 "metadata": {
  "celltoolbar": "Slideshow",
  "kernelspec": {
   "display_name": "Bash",
   "language": "bash",
   "name": "bash"
  },
  "language_info": {
   "codemirror_mode": "shell",
   "file_extension": ".sh",
   "mimetype": "text/x-sh",
   "name": "bash"
  }
 },
 "nbformat": 4,
 "nbformat_minor": 2
}
