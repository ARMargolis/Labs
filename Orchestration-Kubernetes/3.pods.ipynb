{
 "cells": [
  {
   "cell_type": "markdown",
   "metadata": {},
   "source": [
    "# Kubernetes Pods\n",
    "\n",
    "We've seen already how we can interrogate our cluster server using the kubectl tool, obtaining information about objects such as some system pods, in the system.\n",
    "\n",
    "Now let's create our own pods using kubectl.\n",
    "\n",
    "Normally we would not create pods directly using command-line arguments, as we will do here.\n",
    "\n",
    "We would create objects in a repeatable, declarative way from yaml files, but we will do that later.\n",
    "\n",
    "The below ```kubectl run``` command will create 2 pods (replicas), each running just 1 container from the k8s-demo image.\n",
    "\n",
    "Note that we can specify labels on any kubernetes objects, using the -l option followd by key=value pairs, e.g.\n",
    "    -l \"key1=val1,key2=val2\"\n",
    "    \n",
    "These labels are extremely useful allowing us to select a group of objects using a label selector.\n",
    "\n",
    "Labels might be used to mark components of the cluster as dev, test or production for example.\n",
    "\n",
    "Or they might be used to signal hardware specifics of a node, to distinguish physical nodes with SSD disks, or GPU which could then be prioritized for particular types of processing which might be disk i/o or CPU intensive.\n"
   ]
  },
  {
   "cell_type": "code",
   "execution_count": 1,
   "metadata": {},
   "outputs": [
    {
     "name": "stdout",
     "output_type": "stream",
     "text": [
      "NAME             TYPE        CLUSTER-IP   EXTERNAL-IP   PORT(S)   AGE\n",
      "svc/kubernetes   ClusterIP   10.96.0.1    <none>        443/TCP   5h\n",
      "deployment \"k8s-demo\" created\n",
      "NAME              DESIRED   CURRENT   UP-TO-DATE   AVAILABLE   AGE\n",
      "deploy/k8s-demo   2         2         2            0           1s\n",
      "\n",
      "NAME                     DESIRED   CURRENT   READY     AGE\n",
      "rs/k8s-demo-7bc74f7946   2         2         0         1s\n",
      "\n",
      "NAME              DESIRED   CURRENT   UP-TO-DATE   AVAILABLE   AGE\n",
      "deploy/k8s-demo   2         2         2            0           1s\n",
      "\n",
      "NAME                     DESIRED   CURRENT   READY     AGE\n",
      "rs/k8s-demo-7bc74f7946   2         2         0         1s\n",
      "\n",
      "NAME                           READY     STATUS              RESTARTS   AGE\n",
      "po/k8s-demo-7bc74f7946-8nmlb   0/1       ContainerCreating   0          1s\n",
      "po/k8s-demo-7bc74f7946-mmc98   0/1       ContainerCreating   0          1s\n",
      "\n",
      "NAME             TYPE        CLUSTER-IP   EXTERNAL-IP   PORT(S)   AGE\n",
      "svc/kubernetes   ClusterIP   10.96.0.1    <none>        443/TCP   5h\n"
     ]
    }
   ],
   "source": [
    "echo; echo \"-- initial kubectl get all\"\n",
    "kubectl get all\n",
    "\n",
    "echo; echo \"-- kubectl run k8s0demo\"\n",
    "kubectl run k8s-demo -l \"app=k8s-demo\" --image=mjbright/k8s-demo:1 --replicas=2 --port=8080\n",
    "\n",
    "echo; echo \"-- second kubectl get all\"\n",
    "kubectl get all"
   ]
  },
  {
   "cell_type": "markdown",
   "metadata": {},
   "source": [
    "In the above output we see that the only running resource initially was an internal service.\n",
    "\n",
    "Once we perform '''kubectl run'' this spawns a **deployment** called *k8s-demo*, which creates a corrsponding **replicaset** which in turn spawns 2 **pods**.\n",
    "\n",
    "As we performed the '''kubectl get all''' immediately after the run, we see the status before the pod containers have been created ... in fact there is a delay whilst the images are downloaded (for a first run) and pods instantiated.\n",
    "\n",
    "Re-running '''kubectl get all''' shows the pods as *running* now."
   ]
  },
  {
   "cell_type": "code",
   "execution_count": 64,
   "metadata": {},
   "outputs": [
    {
     "name": "stdout",
     "output_type": "stream",
     "text": [
      "NAME              DESIRED   CURRENT   UP-TO-DATE   AVAILABLE   AGE\n",
      "deploy/k8s-demo   2         2         2            2           9h\n",
      "\n",
      "NAME                     DESIRED   CURRENT   READY     AGE\n",
      "rs/k8s-demo-7bc74f7946   2         2         2         9h\n",
      "\n",
      "NAME              DESIRED   CURRENT   UP-TO-DATE   AVAILABLE   AGE\n",
      "deploy/k8s-demo   2         2         2            2           9h\n",
      "\n",
      "NAME                     DESIRED   CURRENT   READY     AGE\n",
      "rs/k8s-demo-7bc74f7946   2         2         2         9h\n",
      "\n",
      "NAME                           READY     STATUS    RESTARTS   AGE\n",
      "po/k8s-demo-7bc74f7946-8nmlb   1/1       Running   0          9h\n",
      "po/k8s-demo-7bc74f7946-mmc98   1/1       Running   0          9h\n",
      "\n",
      "NAME                   TYPE        CLUSTER-IP      EXTERNAL-IP   PORT(S)          AGE\n",
      "svc/k8s-demo-service   NodePort    10.101.31.125   <none>        8080:31991/TCP   8m\n",
      "svc/kubernetes         ClusterIP   10.96.0.1       <none>        443/TCP          14h\n"
     ]
    }
   ],
   "source": [
    "kubectl get all"
   ]
  },
  {
   "cell_type": "markdown",
   "metadata": {},
   "source": [
    "... with more information, using option '*-o wide*'"
   ]
  },
  {
   "cell_type": "code",
   "execution_count": 63,
   "metadata": {},
   "outputs": [
    {
     "name": "stdout",
     "output_type": "stream",
     "text": [
      "NAME              DESIRED   CURRENT   UP-TO-DATE   AVAILABLE   AGE       CONTAINERS   IMAGES                SELECTOR\n",
      "deploy/k8s-demo   2         2         2            2           9h        k8s-demo     mjbright/k8s-demo:1   app=k8s-demo\n",
      "\n",
      "NAME                     DESIRED   CURRENT   READY     AGE       CONTAINERS   IMAGES                SELECTOR\n",
      "rs/k8s-demo-7bc74f7946   2         2         2         9h        k8s-demo     mjbright/k8s-demo:1   app=k8s-demo,pod-template-hash=3673093502\n",
      "\n",
      "NAME              DESIRED   CURRENT   UP-TO-DATE   AVAILABLE   AGE       CONTAINERS   IMAGES                SELECTOR\n",
      "deploy/k8s-demo   2         2         2            2           9h        k8s-demo     mjbright/k8s-demo:1   app=k8s-demo\n",
      "\n",
      "NAME                     DESIRED   CURRENT   READY     AGE       CONTAINERS   IMAGES                SELECTOR\n",
      "rs/k8s-demo-7bc74f7946   2         2         2         9h        k8s-demo     mjbright/k8s-demo:1   app=k8s-demo,pod-template-hash=3673093502\n",
      "\n",
      "NAME                           READY     STATUS    RESTARTS   AGE       IP           NODE\n",
      "po/k8s-demo-7bc74f7946-8nmlb   1/1       Running   0          9h        10.192.3.1   kube-node-2\n",
      "po/k8s-demo-7bc74f7946-mmc98   1/1       Running   0          9h        10.192.2.1   kube-node-1\n",
      "\n",
      "NAME                   TYPE        CLUSTER-IP      EXTERNAL-IP   PORT(S)          AGE       SELECTOR\n",
      "svc/k8s-demo-service   NodePort    10.101.31.125   <none>        8080:31991/TCP   7m        app=k8s-demo\n",
      "svc/kubernetes         ClusterIP   10.96.0.1       <none>        443/TCP          14h       <none>\n"
     ]
    }
   ],
   "source": [
    "kubectl get all -o wide"
   ]
  },
  {
   "cell_type": "markdown",
   "metadata": {},
   "source": [
    "## Creating resources using yaml specifications\n",
    "\n",
    "### Obtaining yaml as output\n",
    "\n",
    "Using the option '-o yaml' to any 'kubectl get' command we can obtain a yaml definition, so instead of"
   ]
  },
  {
   "cell_type": "code",
   "execution_count": 65,
   "metadata": {},
   "outputs": [
    {
     "name": "stdout",
     "output_type": "stream",
     "text": [
      "NAME       DESIRED   CURRENT   UP-TO-DATE   AVAILABLE   AGE       CONTAINERS   IMAGES                SELECTOR\n",
      "k8s-demo   2         2         2            2           9h        k8s-demo     mjbright/k8s-demo:1   app=k8s-demo\n"
     ]
    }
   ],
   "source": [
    "kubectl get deploy/k8s-demo -o wide"
   ]
  },
  {
   "cell_type": "markdown",
   "metadata": {},
   "source": [
    "we get ..."
   ]
  },
  {
   "cell_type": "code",
   "execution_count": 66,
   "metadata": {},
   "outputs": [
    {
     "name": "stdout",
     "output_type": "stream",
     "text": [
      "apiVersion: extensions/v1beta1\n",
      "kind: Deployment\n",
      "metadata:\n",
      "  annotations:\n",
      "    deployment.kubernetes.io/revision: \"1\"\n",
      "  creationTimestamp: 2018-01-18T21:00:50Z\n",
      "  generation: 1\n",
      "  labels:\n",
      "    app: k8s-demo\n",
      "  name: k8s-demo\n",
      "  namespace: default\n",
      "  resourceVersion: \"27338\"\n",
      "  selfLink: /apis/extensions/v1beta1/namespaces/default/deployments/k8s-demo\n",
      "  uid: aa003146-fc92-11e7-8b3e-02420ac00002\n",
      "spec:\n",
      "  replicas: 2\n",
      "  selector:\n",
      "    matchLabels:\n",
      "      app: k8s-demo\n",
      "  strategy:\n",
      "    rollingUpdate:\n",
      "      maxSurge: 1\n",
      "      maxUnavailable: 1\n",
      "    type: RollingUpdate\n",
      "  template:\n",
      "    metadata:\n",
      "      creationTimestamp: null\n",
      "      labels:\n",
      "        app: k8s-demo\n",
      "    spec:\n",
      "      containers:\n",
      "      - image: mjbright/k8s-demo:1\n",
      "        imagePullPolicy: IfNotPresent\n",
      "        name: k8s-demo\n",
      "        ports:\n",
      "        - containerPort: 8080\n",
      "          protocol: TCP\n",
      "        resources: {}\n",
      "        terminationMessagePath: /dev/termination-log\n",
      "        terminationMessagePolicy: File\n",
      "      dnsPolicy: ClusterFirst\n",
      "      restartPolicy: Always\n",
      "      schedulerName: default-scheduler\n",
      "      securityContext: {}\n",
      "      terminationGracePeriodSeconds: 30\n",
      "status:\n",
      "  availableReplicas: 2\n",
      "  conditions:\n",
      "  - lastTransitionTime: 2018-01-18T21:00:54Z\n",
      "    lastUpdateTime: 2018-01-18T21:00:54Z\n",
      "    message: Deployment has minimum availability.\n",
      "    reason: MinimumReplicasAvailable\n",
      "    status: \"True\"\n",
      "    type: Available\n",
      "  observedGeneration: 1\n",
      "  readyReplicas: 2\n",
      "  replicas: 2\n",
      "  updatedReplicas: 2\n"
     ]
    }
   ],
   "source": [
    "kubectl get deploy/k8s-demo -o yaml"
   ]
  },
  {
   "cell_type": "markdown",
   "metadata": {},
   "source": [
    "## Accessing our application\n",
    "\n",
    "To access our application pods we should expose them as a service.\n",
    "This would have the advantage of being able to address a virtual ip address for our service as pods themselves come and go (so we don't need to determine their address), and also allows load balancing between pods.\n",
    "\n",
    "### Accessing our application - directly accessing Pods\n",
    "\n",
    "But there are other more basic ways that we will investigate first.\n",
    "\n",
    "If we perform '''kubectl get pods -o wide''' we will see the cluster ip of our pods, enabling us to access directly to the pods."
   ]
  },
  {
   "cell_type": "code",
   "execution_count": 67,
   "metadata": {},
   "outputs": [
    {
     "name": "stdout",
     "output_type": "stream",
     "text": [
      "NAME                        READY     STATUS    RESTARTS   AGE       IP           NODE\n",
      "k8s-demo-7bc74f7946-8nmlb   1/1       Running   0          9h        10.192.3.1   kube-node-2\n",
      "k8s-demo-7bc74f7946-mmc98   1/1       Running   0          9h        10.192.2.1   kube-node-1\n"
     ]
    }
   ],
   "source": [
    "kubectl get pods -o wide"
   ]
  },
  {
   "cell_type": "code",
   "execution_count": 68,
   "metadata": {},
   "outputs": [
    {
     "name": "stdout",
     "output_type": "stream",
     "text": [
      "POD1_IP=10.192.3.1\n",
      "POD2_IP=10.192.2.1\n"
     ]
    }
   ],
   "source": [
    "POD1=$(kubectl get pods -o wide --no-headers=true | head -1 | awk '{print $1;}')\n",
    "POD2=$(kubectl get pods -o wide --no-headers=true | tail -1 | awk '{print $1;}')\n",
    "POD1_IP=$(kubectl get pods -o wide --no-headers=true | head -1 | awk '{print $6;}')\n",
    "POD2_IP=$(kubectl get pods -o wide --no-headers=true | tail -1 | awk '{print $6;}')\n",
    "\n",
    "echo POD1=$POD1 POD1_IP=$POD1_IP\n",
    "echo POD2=$POD2 POD2_IP=$POD2_IP"
   ]
  },
  {
   "cell_type": "markdown",
   "metadata": {},
   "source": [
    "Let's look at the yaml information for POD1:"
   ]
  },
  {
   "cell_type": "code",
   "execution_count": 69,
   "metadata": {},
   "outputs": [
    {
     "name": "stdout",
     "output_type": "stream",
     "text": [
      "apiVersion: v1\n",
      "items:\n",
      "- apiVersion: v1\n",
      "  kind: Pod\n",
      "  metadata:\n",
      "    annotations:\n",
      "      kubernetes.io/created-by: |\n",
      "        {\"kind\":\"SerializedReference\",\"apiVersion\":\"v1\",\"reference\":{\"kind\":\"ReplicaSet\",\"namespace\":\"default\",\"name\":\"k8s-demo-7bc74f7946\",\"uid\":\"aa02aead-fc92-11e7-8b3e-02420ac00002\",\"apiVersion\":\"extensions\",\"resourceVersion\":\"27297\"}}\n",
      "    creationTimestamp: 2018-01-18T21:00:50Z\n",
      "    generateName: k8s-demo-7bc74f7946-\n",
      "    labels:\n",
      "      app: k8s-demo\n",
      "      pod-template-hash: \"3673093502\"\n",
      "    name: k8s-demo-7bc74f7946-8nmlb\n",
      "    namespace: default\n",
      "    ownerReferences:\n",
      "    - apiVersion: extensions/v1beta1\n",
      "      blockOwnerDeletion: true\n",
      "      controller: true\n",
      "      kind: ReplicaSet\n",
      "      name: k8s-demo-7bc74f7946\n",
      "      uid: aa02aead-fc92-11e7-8b3e-02420ac00002\n",
      "    resourceVersion: \"27331\"\n",
      "    selfLink: /api/v1/namespaces/default/pods/k8s-demo-7bc74f7946-8nmlb\n",
      "    uid: aa0683e6-fc92-11e7-8b3e-02420ac00002\n",
      "  spec:\n",
      "    containers:\n",
      "    - image: mjbright/k8s-demo:1\n",
      "      imagePullPolicy: IfNotPresent\n",
      "      name: k8s-demo\n",
      "      ports:\n",
      "      - containerPort: 8080\n",
      "        protocol: TCP\n",
      "      resources: {}\n",
      "      terminationMessagePath: /dev/termination-log\n",
      "      terminationMessagePolicy: File\n",
      "      volumeMounts:\n",
      "      - mountPath: /var/run/secrets/kubernetes.io/serviceaccount\n",
      "        name: default-token-lpmff\n",
      "        readOnly: true\n",
      "    dnsPolicy: ClusterFirst\n",
      "    nodeName: kube-node-2\n",
      "    restartPolicy: Always\n",
      "    schedulerName: default-scheduler\n",
      "    securityContext: {}\n",
      "    serviceAccount: default\n",
      "    serviceAccountName: default\n",
      "    terminationGracePeriodSeconds: 30\n",
      "    tolerations:\n",
      "    - effect: NoExecute\n",
      "      key: node.alpha.kubernetes.io/notReady\n",
      "      operator: Exists\n",
      "      tolerationSeconds: 300\n",
      "    - effect: NoExecute\n",
      "      key: node.alpha.kubernetes.io/unreachable\n",
      "      operator: Exists\n",
      "      tolerationSeconds: 300\n",
      "    volumes:\n",
      "    - name: default-token-lpmff\n",
      "      secret:\n",
      "        defaultMode: 420\n",
      "        secretName: default-token-lpmff\n",
      "  status:\n",
      "    conditions:\n",
      "    - lastProbeTime: null\n",
      "      lastTransitionTime: 2018-01-18T21:00:50Z\n",
      "      status: \"True\"\n",
      "      type: Initialized\n",
      "    - lastProbeTime: null\n",
      "      lastTransitionTime: 2018-01-18T21:00:54Z\n",
      "      status: \"True\"\n",
      "      type: Ready\n",
      "    - lastProbeTime: null\n",
      "      lastTransitionTime: 2018-01-18T21:00:50Z\n",
      "      status: \"True\"\n",
      "      type: PodScheduled\n",
      "    containerStatuses:\n",
      "    - containerID: docker://0ce6aad5b8c43272d81ae5df01c966409529ca7d58145c7ddfc4854cea063e07\n",
      "      image: mjbright/k8s-demo:1\n",
      "      imageID: docker-pullable://mjbright/k8s-demo@sha256:c5790558dfb46014b1d3eae68d33998b411a4f3f3ed476dd169f3f00491d923b\n",
      "      lastState: {}\n",
      "      name: k8s-demo\n",
      "      ready: true\n",
      "      restartCount: 0\n",
      "      state:\n",
      "        running:\n",
      "          startedAt: 2018-01-18T21:00:54Z\n",
      "    hostIP: 10.192.0.4\n",
      "    phase: Running\n",
      "    podIP: 10.192.3.1\n",
      "    qosClass: BestEffort\n",
      "    startTime: 2018-01-18T21:00:50Z\n",
      "- apiVersion: v1\n",
      "  kind: Pod\n",
      "  metadata:\n",
      "    annotations:\n",
      "      kubernetes.io/created-by: |\n",
      "        {\"kind\":\"SerializedReference\",\"apiVersion\":\"v1\",\"reference\":{\"kind\":\"ReplicaSet\",\"namespace\":\"default\",\"name\":\"k8s-demo-7bc74f7946\",\"uid\":\"aa02aead-fc92-11e7-8b3e-02420ac00002\",\"apiVersion\":\"extensions\",\"resourceVersion\":\"27297\"}}\n",
      "    creationTimestamp: 2018-01-18T21:00:50Z\n",
      "    generateName: k8s-demo-7bc74f7946-\n",
      "    labels:\n",
      "      app: k8s-demo\n",
      "      pod-template-hash: \"3673093502\"\n",
      "    name: k8s-demo-7bc74f7946-mmc98\n",
      "    namespace: default\n",
      "    ownerReferences:\n",
      "    - apiVersion: extensions/v1beta1\n",
      "      blockOwnerDeletion: true\n",
      "      controller: true\n",
      "      kind: ReplicaSet\n",
      "      name: k8s-demo-7bc74f7946\n",
      "      uid: aa02aead-fc92-11e7-8b3e-02420ac00002\n",
      "    resourceVersion: \"27336\"\n",
      "    selfLink: /api/v1/namespaces/default/pods/k8s-demo-7bc74f7946-mmc98\n",
      "    uid: aa093c43-fc92-11e7-8b3e-02420ac00002\n",
      "  spec:\n",
      "    containers:\n",
      "    - image: mjbright/k8s-demo:1\n",
      "      imagePullPolicy: IfNotPresent\n",
      "      name: k8s-demo\n",
      "      ports:\n",
      "      - containerPort: 8080\n",
      "        protocol: TCP\n",
      "      resources: {}\n",
      "      terminationMessagePath: /dev/termination-log\n",
      "      terminationMessagePolicy: File\n",
      "      volumeMounts:\n",
      "      - mountPath: /var/run/secrets/kubernetes.io/serviceaccount\n",
      "        name: default-token-lpmff\n",
      "        readOnly: true\n",
      "    dnsPolicy: ClusterFirst\n",
      "    nodeName: kube-node-1\n",
      "    restartPolicy: Always\n",
      "    schedulerName: default-scheduler\n",
      "    securityContext: {}\n",
      "    serviceAccount: default\n",
      "    serviceAccountName: default\n",
      "    terminationGracePeriodSeconds: 30\n",
      "    tolerations:\n",
      "    - effect: NoExecute\n",
      "      key: node.alpha.kubernetes.io/notReady\n",
      "      operator: Exists\n",
      "      tolerationSeconds: 300\n",
      "    - effect: NoExecute\n",
      "      key: node.alpha.kubernetes.io/unreachable\n",
      "      operator: Exists\n",
      "      tolerationSeconds: 300\n",
      "    volumes:\n",
      "    - name: default-token-lpmff\n",
      "      secret:\n",
      "        defaultMode: 420\n",
      "        secretName: default-token-lpmff\n",
      "  status:\n",
      "    conditions:\n",
      "    - lastProbeTime: null\n",
      "      lastTransitionTime: 2018-01-18T21:00:50Z\n",
      "      status: \"True\"\n",
      "      type: Initialized\n",
      "    - lastProbeTime: null\n",
      "      lastTransitionTime: 2018-01-18T21:00:55Z\n",
      "      status: \"True\"\n",
      "      type: Ready\n",
      "    - lastProbeTime: null\n",
      "      lastTransitionTime: 2018-01-18T21:00:50Z\n",
      "      status: \"True\"\n",
      "      type: PodScheduled\n",
      "    containerStatuses:\n",
      "    - containerID: docker://e6288f1796a2ba013f442fa5ad31e224b6cb19bda5fd2e5fa2dc340bb7f0ae17\n",
      "      image: mjbright/k8s-demo:1\n",
      "      imageID: docker-pullable://mjbright/k8s-demo@sha256:c5790558dfb46014b1d3eae68d33998b411a4f3f3ed476dd169f3f00491d923b\n",
      "      lastState: {}\n",
      "      name: k8s-demo\n",
      "      ready: true\n",
      "      restartCount: 0\n",
      "      state:\n",
      "        running:\n",
      "          startedAt: 2018-01-18T21:00:54Z\n",
      "    hostIP: 10.192.0.3\n",
      "    phase: Running\n",
      "    podIP: 10.192.2.1\n",
      "    qosClass: BestEffort\n",
      "    startTime: 2018-01-18T21:00:50Z\n",
      "kind: List\n",
      "metadata:\n",
      "  resourceVersion: \"\"\n",
      "  selfLink: \"\"\n"
     ]
    }
   ],
   "source": [
    "kubectl get pod $POD1 -o yaml"
   ]
  },
  {
   "cell_type": "markdown",
   "metadata": {},
   "source": [
    "So now we can access to the pods directly on their port 8080:"
   ]
  },
  {
   "cell_type": "code",
   "execution_count": 10,
   "metadata": {},
   "outputs": [
    {
     "name": "stdout",
     "output_type": "stream",
     "text": [
      "\u001b[1;36m\n",
      "                ./shhs:`                \n",
      "            .+ymmdyosydNms/`            \n",
      "        -+yNmhs+++++++++oydNmy/.        \n",
      "    .+hNmhs++++++++yy+++++++oydNmy+.    \n",
      "   +Mds++++++++++++md++++++++++++smM/   \n",
      "  `MN++++++++++oshhNNhys+++++++++++Nm   \n",
      "  oMy++++mmsohNMNddMMhdNMmy+ymm++++yM/  \n",
      "  NN++++++omMMmo++sMM+++sNMMdo++++++Nd  \n",
      " /Mh++++++yMNdMNhsyMMssdMMdNMs++++++hM- \n",
      " mMo++++++NMo+ohMMMNNMMNh++sMm++++++oMy \n",
      ":Md++++++oMNosydNMm++NMNhysoMM+++++++hM.\n",
      "hMo+++shhdMMNNmddMMNNMNddmNMMMdhyo+++oMs\n",
      "mMo+++syo+sMmo++sMMhdMNo++oNMy+oss+++oMh\n",
      "-mMy+++++++sNNysMMy++hMNohMNs+++++++yNh`\n",
      "  oMmo+++++++ymMMmhyyhNMMmy+++++++omm:  \n",
      "   .hMh+++++++hNyyhddhyymh+++++++hMo`   \n",
      "     /NNs++++yNo++++++++oNy++++sNd.     \n",
      "      `sMdo++++++++++++++++++odN/       \n",
      "        -dMhsssssssssssssssshNy`        \n",
      "          :shhhhhhhhhhhhhhhyo.          \n",
      "\u001b[0m\n",
      "\n",
      "Served from container \u001b[1;33mk8s-demo-7bc74f7946-8nmlb\u001b[0;0m\n"
     ]
    }
   ],
   "source": [
    "curl http://$POD1_IP:8080"
   ]
  },
  {
   "cell_type": "code",
   "execution_count": 11,
   "metadata": {},
   "outputs": [
    {
     "name": "stdout",
     "output_type": "stream",
     "text": [
      "\u001b[1;36m\n",
      "                ./shhs:`                \n",
      "            .+ymmdyosydNms/`            \n",
      "        -+yNmhs+++++++++oydNmy/.        \n",
      "    .+hNmhs++++++++yy+++++++oydNmy+.    \n",
      "   +Mds++++++++++++md++++++++++++smM/   \n",
      "  `MN++++++++++oshhNNhys+++++++++++Nm   \n",
      "  oMy++++mmsohNMNddMMhdNMmy+ymm++++yM/  \n",
      "  NN++++++omMMmo++sMM+++sNMMdo++++++Nd  \n",
      " /Mh++++++yMNdMNhsyMMssdMMdNMs++++++hM- \n",
      " mMo++++++NMo+ohMMMNNMMNh++sMm++++++oMy \n",
      ":Md++++++oMNosydNMm++NMNhysoMM+++++++hM.\n",
      "hMo+++shhdMMNNmddMMNNMNddmNMMMdhyo+++oMs\n",
      "mMo+++syo+sMmo++sMMhdMNo++oNMy+oss+++oMh\n",
      "-mMy+++++++sNNysMMy++hMNohMNs+++++++yNh`\n",
      "  oMmo+++++++ymMMmhyyhNMMmy+++++++omm:  \n",
      "   .hMh+++++++hNyyhddhyymh+++++++hMo`   \n",
      "     /NNs++++yNo++++++++oNy++++sNd.     \n",
      "      `sMdo++++++++++++++++++odN/       \n",
      "        -dMhsssssssssssssssshNy`        \n",
      "          :shhhhhhhhhhhhhhhyo.          \n",
      "\u001b[0m\n",
      "\n",
      "Served from container \u001b[1;33mk8s-demo-7bc74f7946-mmc98\u001b[0;0m\n"
     ]
    }
   ],
   "source": [
    "curl http://$POD2_IP:8080"
   ]
  },
  {
   "cell_type": "markdown",
   "metadata": {},
   "source": [
    "# Kube-proxy\n",
    "\n",
    "## TODO: Accessing our application - accessing via kube-proxy\n",
    "\n",
    "<hr/>"
   ]
  }
 ],
 "metadata": {
  "kernelspec": {
   "display_name": "Bash",
   "language": "bash",
   "name": "bash"
  },
  "language_info": {
   "codemirror_mode": "shell",
   "file_extension": ".sh",
   "mimetype": "text/x-sh",
   "name": "bash"
  }
 },
 "nbformat": 4,
 "nbformat_minor": 2
}
