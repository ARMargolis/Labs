{
 "cells": [
  {
   "cell_type": "markdown",
   "metadata": {},
   "source": [
    "\n",
    "\n",
    "## - Kubernetes Lab\n",
    "\n"
   ]
  },
  {
   "cell_type": "code",
   "execution_count": 1,
   "metadata": {
    "collapsed": false
   },
   "outputs": [],
   "source": [
    "cd /home/mjb/MINIKUBE\n",
    "#ls -altr"
   ]
  },
  {
   "cell_type": "code",
   "execution_count": 2,
   "metadata": {
    "collapsed": false
   },
   "outputs": [
    {
     "name": "stdout",
     "output_type": "stream",
     "text": [
      "minikubeVM: \u001b[01;31m\u001b[KStopped\u001b[m\u001b[K\n",
      "minikube is not running, docker-env not set\n"
     ]
    }
   ],
   "source": [
    ". minikube.rc"
   ]
  },
  {
   "cell_type": "code",
   "execution_count": 3,
   "metadata": {
    "collapsed": false
   },
   "outputs": [
    {
     "name": "stdout",
     "output_type": "stream",
     "text": [
      "~/MINIKUBE/bin_0.14.0/docker\n",
      "Client:\n",
      " Version:      1.12.1\n",
      " API version:  1.24\n",
      " Go version:   go1.6.3\n",
      " Git commit:   23cf638\n",
      " Built:        Thu Aug 18 17:52:38 2016\n",
      " OS/Arch:      linux/amd64\n",
      "Error response from daemon: client is newer than server (client API version: 1.24, server API version: 1.22)\n"
     ]
    },
    {
     "ename": "",
     "evalue": "1",
     "output_type": "error",
     "traceback": []
    }
   ],
   "source": [
    "which docker; docker version"
   ]
  },
  {
   "cell_type": "code",
   "execution_count": 4,
   "metadata": {
    "collapsed": false
   },
   "outputs": [
    {
     "name": "stdout",
     "output_type": "stream",
     "text": [
      "~/MINIKUBE/bin_0.14.0/minikube\n",
      "minikube version: v0.14.0\n"
     ]
    }
   ],
   "source": [
    "which minikube; minikube version"
   ]
  },
  {
   "cell_type": "code",
   "execution_count": 5,
   "metadata": {
    "collapsed": false
   },
   "outputs": [
    {
     "name": "stdout",
     "output_type": "stream",
     "text": [
      "~/MINIKUBE/bin_0.14.0/kubectl\n",
      "Client Version: version.Info{Major:\"1\", Minor:\"5\", GitVersion:\"v1.5.1\", GitCommit:\"82450d03cb057bab0950214ef122b67c83fb11df\", GitTreeState:\"clean\", BuildDate:\"2016-12-14T00:57:05Z\", GoVersion:\"go1.7.4\", Compiler:\"gc\", Platform:\"linux/amd64\"}\n",
      "Unable to connect to the server: dial tcp 192.168.99.101:8443: i/o timeout\n"
     ]
    },
    {
     "ename": "",
     "evalue": "1",
     "output_type": "error",
     "traceback": []
    }
   ],
   "source": [
    "which kubectl; kubectl version"
   ]
  },
  {
   "cell_type": "code",
   "execution_count": 6,
   "metadata": {
    "collapsed": false
   },
   "outputs": [
    {
     "name": "stdout",
     "output_type": "stream",
     "text": [
      "minikubeVM: Stopped\n",
      "localkube: N/A\n"
     ]
    }
   ],
   "source": [
    "minikube status"
   ]
  },
  {
   "cell_type": "code",
   "execution_count": 7,
   "metadata": {
    "collapsed": false
   },
   "outputs": [
    {
     "name": "stdout",
     "output_type": "stream",
     "text": [
      "Deleting local Kubernetes cluster...\n",
      "Machine deleted.\n"
     ]
    }
   ],
   "source": [
    "minikube delete"
   ]
  },
  {
   "cell_type": "code",
   "execution_count": 9,
   "metadata": {
    "collapsed": false,
    "scrolled": true
   },
   "outputs": [],
   "source": [
    "#. minikube.rc"
   ]
  },
  {
   "cell_type": "markdown",
   "metadata": {},
   "source": [
    "# 0. Kubernetes Cluster Creation\n",
    "\n",
    "Using the minikube tool we can create a single-node Kubernetes cluster.\n",
    "\n",
    "The cluster runs within a VirtualBox VM running the boot2docker.iso image.\n",
    "\n",
    "To use this cluster we need just 3 executables:\n",
    "- minikube itself\n",
    "- the docker client\n",
    "- the kubectl client"
   ]
  },
  {
   "cell_type": "code",
   "execution_count": 10,
   "metadata": {
    "collapsed": false
   },
   "outputs": [
    {
     "name": "stdout",
     "output_type": "stream",
     "text": [
      "~/MINIKUBE/bin_0.14.0/minikube\n",
      "~/MINIKUBE/bin_0.14.0/docker\n",
      "~/MINIKUBE/bin_0.14.0/kubectl\n",
      "-rwxrwxr-x. 1 mjb mjb 83M Dec 19 19:09 \u001b[0m\u001b[38;5;40m/home/mjb/MINIKUBE/bin_0.14.0/minikube\u001b[0m\n"
     ]
    }
   ],
   "source": [
    "which minikube; which docker; which kubectl\n",
    "ls -altrh $(which minikube)"
   ]
  },
  {
   "cell_type": "code",
   "execution_count": 11,
   "metadata": {
    "collapsed": false
   },
   "outputs": [
    {
     "name": "stdout",
     "output_type": "stream",
     "text": [
      "Client:\n",
      " Version:      1.12.1\n",
      " API version:  1.24\n",
      " Go version:   go1.6.3\n",
      " Git commit:   23cf638\n",
      " Built:        Thu Aug 18 17:52:38 2016\n",
      " OS/Arch:      linux/amd64\n",
      "Error response from daemon: client is newer than server (client API version: 1.24, server API version: 1.22)\n",
      "minikube version: v0.14.0\n",
      "Client Version: version.Info{Major:\"1\", Minor:\"5\", GitVersion:\"v1.5.1\", GitCommit:\"82450d03cb057bab0950214ef122b67c83fb11df\", GitTreeState:\"clean\", BuildDate:\"2016-12-14T00:57:05Z\", GoVersion:\"go1.7.4\", Compiler:\"gc\", Platform:\"linux/amd64\"}\n",
      "Unable to connect to the server: dial tcp 192.168.99.101:8443: i/o timeout\n"
     ]
    },
    {
     "ename": "",
     "evalue": "1",
     "output_type": "error",
     "traceback": []
    }
   ],
   "source": [
    "docker version; minikube version; kubectl version"
   ]
  },
  {
   "cell_type": "markdown",
   "metadata": {},
   "source": [
    "minikube should not be already running:"
   ]
  },
  {
   "cell_type": "code",
   "execution_count": 12,
   "metadata": {
    "collapsed": false
   },
   "outputs": [
    {
     "name": "stdout",
     "output_type": "stream",
     "text": [
      "minikubeVM: Does Not Exist\n",
      "localkube: N/A\n"
     ]
    }
   ],
   "source": [
    "minikube status"
   ]
  },
  {
   "cell_type": "code",
   "execution_count": 13,
   "metadata": {
    "collapsed": false
   },
   "outputs": [
    {
     "name": "stdout",
     "output_type": "stream",
     "text": [
      "Starting local Kubernetes cluster...\n",
      "Kubectl is now configured to use the cluster.\n"
     ]
    }
   ],
   "source": [
    "minikube start"
   ]
  },
  {
   "cell_type": "markdown",
   "metadata": {},
   "source": [
    "Once the cluster is started we can obtain the environment variables needed to allow our docker client to communicate with the cluster."
   ]
  },
  {
   "cell_type": "code",
   "execution_count": 14,
   "metadata": {
    "collapsed": false
   },
   "outputs": [
    {
     "name": "stdout",
     "output_type": "stream",
     "text": [
      "export DOCKER_TLS_VERIFY=\"1\"\n",
      "export DOCKER_HOST=\"tcp://192.168.99.100:2376\"\n",
      "export DOCKER_CERT_PATH=\"/home/mjb/.minikube/certs\"\n",
      "export DOCKER_API_VERSION=\"1.23\"\n",
      "# Run this command to configure your shell: \n",
      "# eval $(minikube docker-env)\n"
     ]
    }
   ],
   "source": [
    "minikube docker-env"
   ]
  },
  {
   "cell_type": "code",
   "execution_count": 15,
   "metadata": {
    "collapsed": false
   },
   "outputs": [],
   "source": [
    "eval $(minikube docker-env)"
   ]
  },
  {
   "cell_type": "markdown",
   "metadata": {},
   "source": [
    "Running ```docker ps``` we can see the containers used to implement the cluster."
   ]
  },
  {
   "cell_type": "code",
   "execution_count": 16,
   "metadata": {
    "collapsed": false
   },
   "outputs": [
    {
     "name": "stdout",
     "output_type": "stream",
     "text": [
      "CONTAINER ID        IMAGE                                              COMMAND                 CREATED             STATUS              PORTS               NAMES\n",
      "adf455d7a7b8        gcr.io/google-containers/kube-addon-manager:v6.1   \"/opt/kube-addons.sh\"   34 seconds ago      Up 33 seconds                           k8s_kube-addon-manager.96c28b3c_kube-addon-manager-minikube_kube-system_014fb8f91f3d52450a942179a984bc15_063a7c3c\n",
      "ea4fae0bfdef        gcr.io/google_containers/pause-amd64:3.0           \"/pause\"                47 seconds ago      Up 47 seconds                           k8s_POD.d8dbe16c_kube-addon-manager-minikube_kube-system_014fb8f91f3d52450a942179a984bc15_b8dd070a\n"
     ]
    }
   ],
   "source": [
    "docker ps "
   ]
  },
  {
   "cell_type": "markdown",
   "metadata": {
    "collapsed": false
   },
   "source": [
    "We can also connect to the node (VM) on which the cluster is running by using the command\n",
    "\n",
    "```minikube ssh```"
   ]
  },
  {
   "cell_type": "code",
   "execution_count": 17,
   "metadata": {
    "collapsed": false
   },
   "outputs": [
    {
     "name": "stdout",
     "output_type": "stream",
     "text": [
      " 20:40:37 up 1 min,  1 users,  load average: 0.80, 0.64, 0.26\n"
     ]
    }
   ],
   "source": [
    "minikube ssh uptime"
   ]
  },
  {
   "cell_type": "code",
   "execution_count": 18,
   "metadata": {
    "collapsed": false
   },
   "outputs": [
    {
     "name": "stdout",
     "output_type": "stream",
     "text": [
      "minikube\n"
     ]
    }
   ],
   "source": [
    "minikube ssh hostname"
   ]
  },
  {
   "cell_type": "markdown",
   "metadata": {
    "collapsed": false
   },
   "source": [
    "Let's first cleanup any Pods, Services, Deployments whch may be running\n",
    "\n",
    "(there should be none if we just started the cluster)."
   ]
  },
  {
   "cell_type": "code",
   "execution_count": 20,
   "metadata": {
    "collapsed": false
   },
   "outputs": [
    {
     "name": "stdout",
     "output_type": "stream",
     "text": [
      "++ kubectl get deploy\n",
      "++ tail -n +2\n",
      "++ awk '{ print $1; }'\n",
      "No resources found.\n",
      "+ DEPLOYMENTS=\n",
      "++ kubectl get svc\n",
      "++ tail -n +2\n",
      "++ awk '{ print $1; }'\n",
      "++ grep -v kubernetes\n",
      "+ SERVICES=\n",
      "++ kubectl get pods\n",
      "++ tail -n +2\n",
      "++ awk '{ print $1; }'\n",
      "No resources found.\n",
      "+ PODS=\n",
      "+ DELETE=0\n",
      "+ DELETE=1\n",
      "+ '[' '!' -z '' ']'\n",
      "+ '[' '!' -z '' ']'\n",
      "+ '[' '!' -z '' ']'\n",
      "+ exit 0\n"
     ]
    }
   ],
   "source": [
    "bash -x ./cleanup.sh"
   ]
  },
  {
   "cell_type": "code",
   "execution_count": 21,
   "metadata": {
    "collapsed": false
   },
   "outputs": [
    {
     "name": "stdout",
     "output_type": "stream",
     "text": [
      "NAME       STATUS    AGE\n",
      "minikube   Ready     2m\n"
     ]
    }
   ],
   "source": [
    "kubectl get nodes"
   ]
  },
  {
   "cell_type": "code",
   "execution_count": 22,
   "metadata": {
    "collapsed": false
   },
   "outputs": [
    {
     "name": "stdout",
     "output_type": "stream",
     "text": [
      "No resources found.\n"
     ]
    }
   ],
   "source": [
    "kubectl get pods"
   ]
  },
  {
   "cell_type": "code",
   "execution_count": 23,
   "metadata": {
    "collapsed": false
   },
   "outputs": [
    {
     "name": "stdout",
     "output_type": "stream",
     "text": [
      "NAME         CLUSTER-IP   EXTERNAL-IP   PORT(S)   AGE\n",
      "kubernetes   10.0.0.1     <none>        443/TCP   2m\n"
     ]
    }
   ],
   "source": [
    "kubectl get service"
   ]
  },
  {
   "cell_type": "code",
   "execution_count": 24,
   "metadata": {
    "collapsed": false
   },
   "outputs": [
    {
     "name": "stdout",
     "output_type": "stream",
     "text": [
      "No resources found.\n"
     ]
    }
   ],
   "source": [
    "kubectl get deployments"
   ]
  },
  {
   "cell_type": "markdown",
   "metadata": {},
   "source": [
    "# Demo start\n",
    "\n",
    "# 1. Creating a Cluster with minikube\n",
    "\n",
    "The minikube executable is a tool created by the kubernetes project for performing demos/tutorials of a single-node kubernetes cluster."
   ]
  },
  {
   "cell_type": "markdown",
   "metadata": {},
   "source": [
    "# kubectl\n",
    "\n",
    "kubectl is the kubernetes tool used for managing a cluster from the command-line.\n",
    "It is based on the kubernetes API.\n",
    "\n",
    "kubectl commands are of the form:\n",
    "\n",
    "    kubectl <verb> <noun>\n",
    "    \n",
    "e.g.\n",
    "\n",
    "    kubectl get nodes\n",
    "\n",
    "to see what nodes exist in the cluster."
   ]
  },
  {
   "cell_type": "code",
   "execution_count": 25,
   "metadata": {
    "collapsed": false
   },
   "outputs": [
    {
     "name": "stdout",
     "output_type": "stream",
     "text": [
      "NAME       STATUS    AGE\n",
      "minikube   Ready     2m\n"
     ]
    }
   ],
   "source": [
    "kubectl get nodes"
   ]
  },
  {
   "cell_type": "markdown",
   "metadata": {},
   "source": [
    "Note that abbreviations exist, e.g. no for nodes"
   ]
  },
  {
   "cell_type": "markdown",
   "metadata": {},
   "source": [
    "## 1. kubectl commands\n",
    "\n",
    "We can get a list of available kubectl commands (verbs) just by typing kubectl"
   ]
  },
  {
   "cell_type": "code",
   "execution_count": 26,
   "metadata": {
    "collapsed": false
   },
   "outputs": [
    {
     "name": "stdout",
     "output_type": "stream",
     "text": [
      "kubectl controls the Kubernetes cluster manager. \n",
      "\n",
      "Find more information at https://github.com/kubernetes/kubernetes.\n",
      "\n",
      "Basic Commands (Beginner):\n",
      "  create         Create a resource by filename or stdin\n",
      "  expose         Take a replication controller, service, deployment or pod and\n",
      "expose it as a new Kubernetes Service\n",
      "  run            Run a particular image on the cluster\n",
      "  set            Set specific features on objects\n",
      "\n",
      "Basic Commands (Intermediate):\n",
      "  get            Display one or many resources\n",
      "  explain        Documentation of resources\n",
      "  edit           Edit a resource on the server\n",
      "  delete         Delete resources by filenames, stdin, resources and names, or\n",
      "by resources and label selector\n",
      "\n",
      "Deploy Commands:\n",
      "  rollout        Manage a deployment rollout\n",
      "  rolling-update Perform a rolling update of the given ReplicationController\n",
      "  scale          Set a new size for a Deployment, ReplicaSet, Replication\n",
      "Controller, or Job\n",
      "  autoscale      Auto-scale a Deployment, ReplicaSet, or ReplicationController\n",
      "\n",
      "Cluster Management Commands:\n",
      "  certificate    Modify certificate resources.\n",
      "  cluster-info   Display cluster info\n",
      "  top            Display Resource (CPU/Memory/Storage) usage\n",
      "  cordon         Mark node as unschedulable\n",
      "  uncordon       Mark node as schedulable\n",
      "  drain          Drain node in preparation for maintenance\n",
      "  taint          Update the taints on one or more nodes\n",
      "\n",
      "Troubleshooting and Debugging Commands:\n",
      "  describe       Show details of a specific resource or group of resources\n",
      "  logs           Print the logs for a container in a pod\n",
      "  attach         Attach to a running container\n",
      "  exec           Execute a command in a container\n",
      "  port-forward   Forward one or more local ports to a pod\n",
      "  proxy          Run a proxy to the Kubernetes API server\n",
      "  cp             Copy files and directories to and from containers.\n",
      "\n",
      "Advanced Commands:\n",
      "  apply          Apply a configuration to a resource by filename or stdin\n",
      "  patch          Update field(s) of a resource using strategic merge patch\n",
      "  replace        Replace a resource by filename or stdin\n",
      "  convert        Convert config files between different API versions\n",
      "\n",
      "Settings Commands:\n",
      "  label          Update the labels on a resource\n",
      "  annotate       Update the annotations on a resource\n",
      "  completion     Output shell completion code for the given shell (bash or zsh)\n",
      "\n",
      "Other Commands:\n",
      "  api-versions   Print the supported API versions on the server, in the form of\n",
      "\"group/version\"\n",
      "  config         Modify kubeconfig files\n",
      "  help           Help about any command\n",
      "  version        Print the client and server version information\n",
      "\n",
      "Use \"kubectl <command> --help\" for more information about a given command.\n",
      "Use \"kubectl options\" for a list of global command-line options (applies to all\n",
      "commands).\n"
     ]
    }
   ],
   "source": [
    "kubectl"
   ]
  },
  {
   "cell_type": "markdown",
   "metadata": {},
   "source": [
    "Similarly we can get a list of subcommands (nouns) to which they can be applied.\n",
    "\n",
    "```kubectl get```\n",
    "\n",
    "will show us what items we can 'get':"
   ]
  },
  {
   "cell_type": "code",
   "execution_count": 27,
   "metadata": {
    "collapsed": false
   },
   "outputs": [
    {
     "name": "stdout",
     "output_type": "stream",
     "text": [
      "You must specify the type of resource to get. Valid resource types include:\n",
      "\n",
      "    * clusters (valid only for federation apiservers)\n",
      "    * componentstatuses (aka 'cs')\n",
      "    * configmaps (aka 'cm')\n",
      "    * daemonsets (aka 'ds')\n",
      "    * deployments (aka 'deploy')\n",
      "    * endpoints (aka 'ep')\n",
      "    * events (aka 'ev')\n",
      "    * horizontalpodautoscalers (aka 'hpa')\n",
      "    * ingresses (aka 'ing')\n",
      "    * jobs\n",
      "    * limitranges (aka 'limits')\n",
      "    * namespaces (aka 'ns')\n",
      "    * networkpolicies\n",
      "    * nodes (aka 'no')\n",
      "    * persistentvolumeclaims (aka 'pvc')\n",
      "    * persistentvolumes (aka 'pv')\n",
      "    * pods (aka 'po')\n",
      "    * podsecuritypolicies (aka 'psp')\n",
      "    * podtemplates\n",
      "    * replicasets (aka 'rs')\n",
      "    * replicationcontrollers (aka 'rc')\n",
      "    * resourcequotas (aka 'quota')\n",
      "    * secrets\n",
      "    * serviceaccounts (aka 'sa')\n",
      "    * services (aka 'svc')\n",
      "    * statefulsets\n",
      "    * storageclasses\n",
      "    * thirdpartyresources\n",
      "    error: Required resource not specified.\n",
      "Use \"kubectl explain <resource>\" for a detailed description of that resource (e.g. kubectl explain pods).\n",
      "See 'kubectl get -h' for help and examples.\n"
     ]
    },
    {
     "ename": "",
     "evalue": "1",
     "output_type": "error",
     "traceback": []
    }
   ],
   "source": [
    "kubectl get"
   ]
  },
  {
   "cell_type": "code",
   "execution_count": 28,
   "metadata": {
    "collapsed": false
   },
   "outputs": [
    {
     "name": "stdout",
     "output_type": "stream",
     "text": [
      "You must specify the type of resource to describe. Valid resource types include:\n",
      "\n",
      "    * clusters (valid only for federation apiservers)\n",
      "    * componentstatuses (aka 'cs')\n",
      "    * configmaps (aka 'cm')\n",
      "    * daemonsets (aka 'ds')\n",
      "    * deployments (aka 'deploy')\n",
      "    * endpoints (aka 'ep')\n",
      "    * events (aka 'ev')\n",
      "    * horizontalpodautoscalers (aka 'hpa')\n",
      "    * ingresses (aka 'ing')\n",
      "    * jobs\n",
      "    * limitranges (aka 'limits')\n",
      "    * namespaces (aka 'ns')\n",
      "    * networkpolicies\n",
      "    * nodes (aka 'no')\n",
      "    * persistentvolumeclaims (aka 'pvc')\n",
      "    * persistentvolumes (aka 'pv')\n",
      "    * pods (aka 'po')\n",
      "    * podsecuritypolicies (aka 'psp')\n",
      "    * podtemplates\n",
      "    * replicasets (aka 'rs')\n",
      "    * replicationcontrollers (aka 'rc')\n",
      "    * resourcequotas (aka 'quota')\n",
      "    * secrets\n",
      "    * serviceaccounts (aka 'sa')\n",
      "    * services (aka 'svc')\n",
      "    * statefulsets\n",
      "    * storageclasses\n",
      "    * thirdpartyresources\n",
      "    error: Required resource not specified.\n",
      "See 'kubectl describe -h' for help and examples.\n"
     ]
    },
    {
     "ename": "",
     "evalue": "1",
     "output_type": "error",
     "traceback": []
    }
   ],
   "source": [
    "kubectl describe"
   ]
  },
  {
   "cell_type": "code",
   "execution_count": 29,
   "metadata": {
    "collapsed": false
   },
   "outputs": [
    {
     "name": "stdout",
     "output_type": "stream",
     "text": [
      "NAME       STATUS    AGE\n",
      "minikube   Ready     3m\n"
     ]
    }
   ],
   "source": [
    "kubectl get nodes"
   ]
  },
  {
   "cell_type": "code",
   "execution_count": 30,
   "metadata": {
    "collapsed": false
   },
   "outputs": [
    {
     "name": "stdout",
     "output_type": "stream",
     "text": [
      "Name:\t\t\tminikube\n",
      "Role:\t\t\t\n",
      "Labels:\t\t\tbeta.kubernetes.io/arch=amd64\n",
      "\t\t\tbeta.kubernetes.io/os=linux\n",
      "\t\t\tkubernetes.io/hostname=minikube\n",
      "Taints:\t\t\t<none>\n",
      "CreationTimestamp:\tThu, 26 Jan 2017 21:39:37 +0100\n",
      "Phase:\t\t\t\n",
      "Conditions:\n",
      "  Type\t\t\tStatus\tLastHeartbeatTime\t\t\tLastTransitionTime\t\t\tReason\t\t\t\tMessage\n",
      "  ----\t\t\t------\t-----------------\t\t\t------------------\t\t\t------\t\t\t\t-------\n",
      "  OutOfDisk \t\tFalse \tThu, 26 Jan 2017 21:42:48 +0100 \tThu, 26 Jan 2017 21:39:37 +0100 \tKubeletHasSufficientDisk \tkubelet has sufficient disk space available\n",
      "  MemoryPressure \tFalse \tThu, 26 Jan 2017 21:42:48 +0100 \tThu, 26 Jan 2017 21:39:37 +0100 \tKubeletHasSufficientMemory \tkubelet has sufficient memory available\n",
      "  DiskPressure \t\tFalse \tThu, 26 Jan 2017 21:42:48 +0100 \tThu, 26 Jan 2017 21:39:37 +0100 \tKubeletHasNoDiskPressure \tkubelet has no disk pressure\n",
      "  Ready \t\tTrue \tThu, 26 Jan 2017 21:42:48 +0100 \tThu, 26 Jan 2017 21:39:37 +0100 \tKubeletReady \t\t\tkubelet is posting ready status\n",
      "Addresses:\t\t192.168.99.100,192.168.99.100,minikube\n",
      "Capacity:\n",
      " alpha.kubernetes.io/nvidia-gpu:\t0\n",
      " cpu:\t\t\t\t\t2\n",
      " memory:\t\t\t\t2050272Ki\n",
      " pods:\t\t\t\t\t110\n",
      "Allocatable:\n",
      " alpha.kubernetes.io/nvidia-gpu:\t0\n",
      " cpu:\t\t\t\t\t2\n",
      " memory:\t\t\t\t2050272Ki\n",
      " pods:\t\t\t\t\t110\n",
      "System Info:\n",
      " Machine ID:\t\t\t\n",
      " System UUID:\t\t\t62940803-5658-462C-9E13-7BE6808A294E\n",
      " Boot ID:\t\t\te1b410fb-f669-45a4-a58c-a419ce09aff1\n",
      " Kernel Version:\t\t4.4.14-boot2docker\n",
      " OS Image:\t\t\tBoot2Docker 1.11.1 (TCL 7.1); master : 901340f - Fri Jul  1 22:52:19 UTC 2016\n",
      " Operating System:\t\tlinux\n",
      " Architecture:\t\t\tamd64\n",
      " Container Runtime Version:\tdocker://1.11.1\n",
      " Kubelet Version:\t\tv1.5.1\n",
      " Kube-Proxy Version:\t\tv1.5.1\n",
      "ExternalID:\t\t\tminikube\n",
      "Non-terminated Pods:\t\t(5 in total)\n",
      "  Namespace\t\t\tName\t\t\t\t\tCPU Requests\tCPU Limits\tMemory Requests\tMemory Limits\n",
      "  ---------\t\t\t----\t\t\t\t\t------------\t----------\t---------------\t-------------\n",
      "  kube-system\t\t\theapster-zw4jl\t\t\t\t0 (0%)\t\t0 (0%)\t\t0 (0%)\t\t0 (0%)\n",
      "  kube-system\t\t\tinfluxdb-grafana-nmrrs\t\t\t0 (0%)\t\t0 (0%)\t\t0 (0%)\t\t0 (0%)\n",
      "  kube-system\t\t\tkube-addon-manager-minikube\t\t5m (0%)\t\t0 (0%)\t\t50Mi (2%)\t0 (0%)\n",
      "  kube-system\t\t\tkube-dns-v20-64cp0\t\t\t110m (5%)\t0 (0%)\t\t120Mi (5%)\t220Mi (10%)\n",
      "  kube-system\t\t\tkubernetes-dashboard-6gjbr\t\t0 (0%)\t\t0 (0%)\t\t0 (0%)\t\t0 (0%)\n",
      "Allocated resources:\n",
      "  (Total limits may be over 100 percent, i.e., overcommitted.\n",
      "  CPU Requests\tCPU Limits\tMemory Requests\tMemory Limits\n",
      "  ------------\t----------\t---------------\t-------------\n",
      "  115m (5%)\t0 (0%)\t\t170Mi (8%)\t220Mi (10%)\n",
      "Events:\n",
      "  FirstSeen\tLastSeen\tCount\tFrom\t\t\tSubObjectPath\tType\t\tReason\t\t\tMessage\n",
      "  ---------\t--------\t-----\t----\t\t\t-------------\t--------\t------\t\t\t-------\n",
      "  3m\t\t3m\t\t1\t{kube-proxy minikube}\t\t\tNormal\t\tStarting\t\tStarting kube-proxy.\n",
      "  3m\t\t3m\t\t1\t{kubelet minikube}\t\t\tNormal\t\tStarting\t\tStarting kubelet.\n",
      "  3m\t\t3m\t\t1\t{kubelet minikube}\t\t\tWarning\t\tImageGCFailed\t\tunable to find data for container /\n",
      "  3m\t\t3m\t\t2\t{kubelet minikube}\t\t\tNormal\t\tNodeHasSufficientDisk\tNode minikube status is now: NodeHasSufficientDisk\n",
      "  3m\t\t3m\t\t2\t{kubelet minikube}\t\t\tNormal\t\tNodeHasSufficientMemory\tNode minikube status is now: NodeHasSufficientMemory\n",
      "  3m\t\t3m\t\t2\t{kubelet minikube}\t\t\tNormal\t\tNodeHasNoDiskPressure\tNode minikube status is now: NodeHasNoDiskPressure\n"
     ]
    }
   ],
   "source": [
    "kubectl describe nodes"
   ]
  },
  {
   "cell_type": "code",
   "execution_count": 31,
   "metadata": {
    "collapsed": false
   },
   "outputs": [
    {
     "name": "stdout",
     "output_type": "stream",
     "text": [
      "No resources found.\n"
     ]
    }
   ],
   "source": [
    "kubectl get pods"
   ]
  },
  {
   "cell_type": "code",
   "execution_count": 32,
   "metadata": {
    "collapsed": false
   },
   "outputs": [],
   "source": [
    "kubectl describe pods"
   ]
  },
  {
   "cell_type": "markdown",
   "metadata": {},
   "source": [
    "We can get detailed help on the \"get\" command:"
   ]
  },
  {
   "cell_type": "code",
   "execution_count": 33,
   "metadata": {
    "collapsed": false
   },
   "outputs": [
    {
     "name": "stdout",
     "output_type": "stream",
     "text": [
      "Display one or many resources. \n",
      "\n",
      "Valid resource types include: \n",
      "\n",
      "  * clusters (valid only for federation apiservers)  \n",
      "  * componentstatuses (aka 'cs')  \n",
      "  * configmaps (aka 'cm')  \n",
      "  * daemonsets (aka 'ds')  \n",
      "  * deployments (aka 'deploy')  \n",
      "  * endpoints (aka 'ep')  \n",
      "  * events (aka 'ev')  \n",
      "  * horizontalpodautoscalers (aka 'hpa')  \n",
      "  * ingresses (aka 'ing')  \n",
      "  * jobs  \n",
      "  * limitranges (aka 'limits')  \n",
      "  * namespaces (aka 'ns')  \n",
      "  * networkpolicies  \n",
      "  * nodes (aka 'no')  \n",
      "  * persistentvolumeclaims (aka 'pvc')  \n",
      "  * persistentvolumes (aka 'pv')  \n",
      "  * pods (aka 'po')  \n",
      "  * podsecuritypolicies (aka 'psp')  \n",
      "  * podtemplates  \n",
      "  * replicasets (aka 'rs')  \n",
      "  * replicationcontrollers (aka 'rc')  \n",
      "  * resourcequotas (aka 'quota')  \n",
      "  * secrets  \n",
      "  * serviceaccounts (aka 'sa')  \n",
      "  * services (aka 'svc')  \n",
      "  * statefulsets  \n",
      "  * storageclasses  \n",
      "  * thirdpartyresources  \n",
      "\n",
      "This command will hide resources that have completed. For instance, pods that\n",
      "are in the Succeeded or Failed phases. You can see the full results for any\n",
      "resource by providing the '--show-all' flag. \n",
      "\n",
      "By specifying the output as 'template' and providing a Go template as the value\n",
      "of the --template flag, you can filter the attributes of the fetched\n",
      "resource(s).\n",
      "\n",
      "Examples:\n",
      "  # List all pods in ps output format.\n",
      "  kubectl get pods\n",
      "  \n",
      "  # List all pods in ps output format with more information (such as node name).\n",
      "  kubectl get pods -o wide\n",
      "  \n",
      "  # List a single replication controller with specified NAME in ps output\n",
      "format.\n",
      "  kubectl get replicationcontroller web\n",
      "  \n",
      "  # List a single pod in JSON output format.\n",
      "  kubectl get -o json pod web-pod-13je7\n",
      "  \n",
      "  # List a pod identified by type and name specified in \"pod.yaml\" in JSON\n",
      "output format.\n",
      "  kubectl get -f pod.yaml -o json\n",
      "  \n",
      "  # Return only the phase value of the specified pod.\n",
      "  kubectl get -o template pod/web-pod-13je7 --template={{.status.phase}}\n",
      "  \n",
      "  # List all replication controllers and services together in ps output format.\n",
      "  kubectl get rc,services\n",
      "  \n",
      "  # List one or more resources by their type and names.\n",
      "  kubectl get rc/web service/frontend pods/web-pod-13je7\n",
      "\n",
      "Options:\n",
      "      --all-namespaces=false: If present, list the requested object(s) across\n",
      "all namespaces. Namespace in current context is ignored even if specified with\n",
      "--namespace.\n",
      "      --export=false: If true, use 'export' for the resources.  Exported\n",
      "resources are stripped of cluster-specific information.\n",
      "  -f, --filename=[]: Filename, directory, or URL to files identifying the\n",
      "resource to get from a server.\n",
      "      --include-extended-apis=true: If true, include definitions of new APIs via\n",
      "calls to the API server. [default true]\n",
      "  -L, --label-columns=[]: Accepts a comma separated list of labels that are\n",
      "going to be presented as columns. Names are case-sensitive. You can also use\n",
      "multiple flag options like -L label1 -L label2...\n",
      "      --no-headers=false: When using the default or custom-column output format,\n",
      "don't print headers.\n",
      "  -o, --output='': Output format. One of:\n",
      "json|yaml|wide|name|custom-columns=...|custom-columns-file=...|go-template=...|go-template-file=...|jsonpath=...|jsonpath-file=...\n",
      "See custom columns\n",
      "[http://kubernetes.io/docs/user-guide/kubectl-overview/#custom-columns], golang\n",
      "template [http://golang.org/pkg/text/template/#pkg-overview] and jsonpath\n",
      "template [http://kubernetes.io/docs/user-guide/jsonpath].\n",
      "      --output-version='': Output the formatted object with the given group\n",
      "version (for ex: 'extensions/v1beta1').\n",
      "      --raw='': Raw URI to request from the server.  Uses the transport\n",
      "specified by the kubeconfig file.\n",
      "  -R, --recursive=false: Process the directory used in -f, --filename\n",
      "recursively. Useful when you want to manage related manifests organized within\n",
      "the same directory.\n",
      "  -l, --selector='': Selector (label query) to filter on\n",
      "  -a, --show-all=false: When printing, show all resources (default hide\n",
      "terminated pods.)\n",
      "      --show-kind=false: If present, list the resource type for the requested\n",
      "object(s).\n",
      "      --show-labels=false: When printing, show all labels as the last column\n",
      "(default hide labels column)\n",
      "      --sort-by='': If non-empty, sort list types using this field\n",
      "specification.  The field specification is expressed as a JSONPath expression\n",
      "(e.g. '{.metadata.name}'). The field in the API resource specified by this\n",
      "JSONPath expression must be an integer or a string.\n",
      "      --template='': Template string or path to template file to use when\n",
      "-o=go-template, -o=go-template-file. The template format is golang templates\n",
      "[http://golang.org/pkg/text/template/#pkg-overview].\n",
      "  -w, --watch=false: After listing/getting the requested object, watch for\n",
      "changes.\n",
      "      --watch-only=false: Watch for changes to the requested object(s), without\n",
      "listing/getting first.\n",
      "\n",
      "Usage:\n",
      "  kubectl get\n",
      "[(-o|--output=)json|yaml|wide|custom-columns=...|custom-columns-file=...|go-template=...|go-template-file=...|jsonpath=...|jsonpath-file=...]\n",
      "(TYPE [NAME | -l label] | TYPE/NAME ...) [flags] [options]\n",
      "\n",
      "Use \"kubectl options\" for a list of global command-line options (applies to all\n",
      "commands).\n"
     ]
    }
   ],
   "source": [
    "kubectl get --help"
   ]
  },
  {
   "cell_type": "code",
   "execution_count": 34,
   "metadata": {
    "collapsed": false
   },
   "outputs": [
    {
     "name": "stdout",
     "output_type": "stream",
     "text": [
      "Client Version: version.Info{Major:\"1\", Minor:\"5\", GitVersion:\"v1.5.1\", GitCommit:\"82450d03cb057bab0950214ef122b67c83fb11df\", GitTreeState:\"clean\", BuildDate:\"2016-12-14T00:57:05Z\", GoVersion:\"go1.7.4\", Compiler:\"gc\", Platform:\"linux/amd64\"}\n",
      "Server Version: version.Info{Major:\"1\", Minor:\"5\", GitVersion:\"v1.5.1\", GitCommit:\"82450d03cb057bab0950214ef122b67c83fb11df\", GitTreeState:\"clean\", BuildDate:\"1970-01-01T00:00:00Z\", GoVersion:\"go1.7.1\", Compiler:\"gc\", Platform:\"linux/amd64\"}\n"
     ]
    }
   ],
   "source": [
    "kubectl version"
   ]
  },
  {
   "cell_type": "code",
   "execution_count": 35,
   "metadata": {
    "collapsed": false
   },
   "outputs": [
    {
     "name": "stdout",
     "output_type": "stream",
     "text": [
      "\u001b[0;32mKubernetes master\u001b[0m is running at \u001b[0;33mhttps://192.168.99.100:8443\u001b[0m\n",
      "\u001b[0;32mheapster\u001b[0m is running at \u001b[0;33mhttps://192.168.99.100:8443/api/v1/proxy/namespaces/kube-system/services/heapster\u001b[0m\n",
      "\u001b[0;32mKubeDNS\u001b[0m is running at \u001b[0;33mhttps://192.168.99.100:8443/api/v1/proxy/namespaces/kube-system/services/kube-dns\u001b[0m\n",
      "\u001b[0;32mkubernetes-dashboard\u001b[0m is running at \u001b[0;33mhttps://192.168.99.100:8443/api/v1/proxy/namespaces/kube-system/services/kubernetes-dashboard\u001b[0m\n",
      "\u001b[0;32mmonitoring-grafana\u001b[0m is running at \u001b[0;33mhttps://192.168.99.100:8443/api/v1/proxy/namespaces/kube-system/services/monitoring-grafana\u001b[0m\n",
      "\u001b[0;32mmonitoring-influxdb\u001b[0m is running at \u001b[0;33mhttps://192.168.99.100:8443/api/v1/proxy/namespaces/kube-system/services/monitoring-influxdb\u001b[0m\n",
      "\n",
      "To further debug and diagnose cluster problems, use 'kubectl cluster-info dump'.\n"
     ]
    }
   ],
   "source": [
    "kubectl cluster-info"
   ]
  },
  {
   "cell_type": "markdown",
   "metadata": {},
   "source": [
    "## Opening the kubernetes dashboard"
   ]
  },
  {
   "cell_type": "code",
   "execution_count": 36,
   "metadata": {
    "collapsed": false
   },
   "outputs": [
    {
     "name": "stdout",
     "output_type": "stream",
     "text": [
      "Opening kubernetes dashboard in default browser...\n"
     ]
    }
   ],
   "source": [
    "minikube dashboard"
   ]
  },
  {
   "cell_type": "markdown",
   "metadata": {},
   "source": [
    "# 2. Creating a Pod/Service/Deployment\n"
   ]
  },
  {
   "cell_type": "markdown",
   "metadata": {},
   "source": [
    "### Kubernetes Deployments\n",
    "Once you have a running Kubernetes cluster, you can deploy your containerized applications on top of it. To do so, you create a Kubernetes Deployment. The Deployment is responsible for creating and updating instances of your application. Once you've created a Deployment, the Kubernetes master schedules the application instances that the Deployment creates onto individual Nodes in the cluster.\n",
    "\n",
    "Once the application instances are created, a Kubernetes Deployment Controller continuously monitors those instances. The Deployment controller replaces an instance if the Node hosting it goes down or it is deleted. This provides a self-healing mechanism to address machine failure or maintenance.\n",
    "\n",
    "In a pre-orchestration world, installation scripts would often be used to start applications, but they did not allow recovery from machine failure. By both creating your application instances and keeping them running across Nodes, Kubernetes Deployments provide a fundamentally different approach to application management.\n",
    "\n",
    "\n",
    "You can create and manage a Deployment by using the Kubernetes command line interface, Kubectl. Kubectl uses the Kubernetes API to interact with the cluster. In this module, you'll learn the most common Kubectl commands needed to create Deployments that run your applications on a Kubernetes cluster.\n",
    "\n",
    "When you create a Deployment, you'll need to specify the container image for your application and the number of replicas that you want to run. You can change that information later by updating your Deployment; Modules 5 and 6 of the bootcamp discuss how you can scale and update your Deployments.\n",
    "\n",
    "Applications need to be packaged into one of the supported container formats in order to be deployed on Kubernetes\n",
    "\n",
    "For our first Deployment, we'll use a Node.js application packaged in a Docker container. The source code and the Dockerfile are available in the GitHub repository for the Kubernetes Bootcamp.\n",
    "\n",
    "Now that you know what Deployments are, let's go to the online tutorial and deploy our first app!\n",
    "\n",
    "\n",
    "\n",
    "Inspired by https://media-glass.es/launching-a-local-kubernetes-lab-using-minikube-39560f792889#.3h0n2dh3f\n",
    "\n",
    "## 2.1 Deploying an app\n"
   ]
  },
  {
   "cell_type": "code",
   "execution_count": 38,
   "metadata": {
    "collapsed": false
   },
   "outputs": [
    {
     "name": "stdout",
     "output_type": "stream",
     "text": [
      "deployment \"my-nginx\" created\n"
     ]
    }
   ],
   "source": [
    "kubectl run my-nginx --image=nginx --replicas=2 --port=80"
   ]
  },
  {
   "cell_type": "markdown",
   "metadata": {},
   "source": [
    "It may take some time for the pods to start as the node downloads the nginx image for the first time"
   ]
  },
  {
   "cell_type": "code",
   "execution_count": 39,
   "metadata": {
    "collapsed": false
   },
   "outputs": [
    {
     "name": "stdout",
     "output_type": "stream",
     "text": [
      "NAME                       READY     STATUS              RESTARTS   AGE\n",
      "my-nginx-379829228-bb8kr   0/1       ContainerCreating   0          2s\n",
      "my-nginx-379829228-qjtbt   0/1       ContainerCreating   0          2s\n"
     ]
    }
   ],
   "source": [
    "kubectl get pods"
   ]
  },
  {
   "cell_type": "code",
   "execution_count": 44,
   "metadata": {
    "collapsed": false
   },
   "outputs": [
    {
     "name": "stdout",
     "output_type": "stream",
     "text": [
      "NAME                       READY     STATUS    RESTARTS   AGE\n",
      "my-nginx-379829228-bb8kr   1/1       Running   0          1m\n",
      "my-nginx-379829228-qjtbt   1/1       Running   0          1m\n"
     ]
    }
   ],
   "source": [
    "kubectl get pods"
   ]
  },
  {
   "cell_type": "code",
   "execution_count": 93,
   "metadata": {
    "collapsed": false
   },
   "outputs": [
    {
     "name": "stdout",
     "output_type": "stream",
     "text": [
      "Name:\t\t\tmy-nginx\n",
      "Namespace:\t\tdefault\n",
      "CreationTimestamp:\tThu, 26 Jan 2017 21:58:01 +0100\n",
      "Labels:\t\t\trun=my-nginx\n",
      "Selector:\t\trun=my-nginx\n",
      "Replicas:\t\t2 updated | 2 total | 2 available | 0 unavailable\n",
      "StrategyType:\t\tRollingUpdate\n",
      "MinReadySeconds:\t0\n",
      "RollingUpdateStrategy:\t1 max unavailable, 1 max surge\n",
      "Conditions:\n",
      "  Type\t\tStatus\tReason\n",
      "  ----\t\t------\t------\n",
      "  Available \tTrue\tMinimumReplicasAvailable\n",
      "OldReplicaSets:\t<none>\n",
      "NewReplicaSet:\tmy-nginx-379829228 (2/2 replicas created)\n",
      "Events:\n",
      "  FirstSeen\tLastSeen\tCount\tFrom\t\t\t\tSubObjectPath\tType\t\tReason\t\t\tMessage\n",
      "  ---------\t--------\t-----\t----\t\t\t\t-------------\t--------\t------\t\t\t-------\n",
      "  37m\t\t37m\t\t1\t{deployment-controller }\t\t\tNormal\t\tScalingReplicaSet\tScaled up replica set my-nginx-379829228 to 2\n"
     ]
    }
   ],
   "source": [
    "kubectl describe deploy my-nginx"
   ]
  },
  {
   "cell_type": "markdown",
   "metadata": {},
   "source": [
    "## 2.2 Accessing the app via kube-proxy\n",
    "\n",
    "By default deployed applications are visible only inside the Kubernetes cluster. Exposing our application externally will be covered in Module 4. To view the application output without exposing it externally, we’ll create a route between our terminal and the Kubernetes cluster using a proxy:\n",
    "\n",
    "By default deployed applications are visible only inside the Kubernetes cluster. Exposing our application externally will be covered in Module 4. To view the application output without exposing it externally, we’ll create a route between our terminal and the Kubernetes cluster using a proxy:\n",
    "\n",
    "**In another terminal window launch**:\n",
    "```\n",
    "    kubectl proxy```\n",
    "    \n",
    "We now have a connection between our host (the online terminal) and the Kubernetes cluster. The started proxy enables direct access to the API. The app runs inside a Pod (we'll cover the Pod concept in next module). Get the name of the Pod and store it in the POD_NAME environment variable:\n"
   ]
  },
  {
   "cell_type": "code",
   "execution_count": 63,
   "metadata": {
    "collapsed": false
   },
   "outputs": [
    {
     "name": "stdout",
     "output_type": "stream",
     "text": [
      "Names of the Pods: my-nginx-379829228-bb8kr my-nginx-379829228-qjtbt\n"
     ]
    }
   ],
   "source": [
    "# In another windowkubectl proxy\n",
    "\n",
    "export POD_NAMES=$(kubectl get pods -o go-template --template '{{range .items}}{{.metadata.name}}{{\"\\n\"}}{{end}}')\n",
    "echo Names of the Pods: $POD_NAMES"
   ]
  },
  {
   "cell_type": "code",
   "execution_count": 65,
   "metadata": {
    "collapsed": false
   },
   "outputs": [
    {
     "name": "stdout",
     "output_type": "stream",
     "text": [
      "<!DOCTYPE html>\n",
      "<html>\n",
      "<head>\n",
      "<title>Welcome to nginx!</title>\n",
      "<style>\n",
      "    body {\n",
      "        width: 35em;\n",
      "        margin: 0 auto;\n",
      "        font-family: Tahoma, Verdana, Arial, sans-serif;\n",
      "    }\n",
      "</style>\n",
      "</head>\n",
      "<body>\n",
      "<h1>Welcome to nginx!</h1>\n",
      "<p>If you see this page, the nginx web server is successfully installed and\n",
      "working. Further configuration is required.</p>\n",
      "\n",
      "<p>For online documentation and support please refer to\n",
      "<a href=\"http://nginx.org/\">nginx.org</a>.<br/>\n",
      "Commercial support is available at\n",
      "<a href=\"http://nginx.com/\">nginx.com</a>.</p>\n",
      "\n",
      "<p><em>Thank you for using nginx.</em></p>\n",
      "</body>\n",
      "</html>\n"
     ]
    }
   ],
   "source": [
    "for POD_NAME in $POD_NAMES; do\n",
    "    curl http://localhost:8001/api/v1/proxy/namespaces/default/pods/$POD_NAME/\n",
    "    break\n",
    "done"
   ]
  },
  {
   "cell_type": "markdown",
   "metadata": {},
   "source": [
    "## 2.3 Service creation from kubectl\n"
   ]
  },
  {
   "cell_type": "markdown",
   "metadata": {},
   "source": [
    "Exposing our deployment with type NodePort to make it available as a service on each cluster node"
   ]
  },
  {
   "cell_type": "code",
   "execution_count": 45,
   "metadata": {
    "collapsed": false
   },
   "outputs": [
    {
     "name": "stdout",
     "output_type": "stream",
     "text": [
      "service \"my-nginx\" exposed\n"
     ]
    }
   ],
   "source": [
    "kubectl expose deployment my-nginx --type=NodePort"
   ]
  },
  {
   "cell_type": "code",
   "execution_count": 46,
   "metadata": {
    "collapsed": false
   },
   "outputs": [
    {
     "name": "stdout",
     "output_type": "stream",
     "text": [
      "NAME                       READY     STATUS    RESTARTS   AGE\n",
      "my-nginx-379829228-bb8kr   1/1       Running   0          2m\n",
      "my-nginx-379829228-qjtbt   1/1       Running   0          2m\n"
     ]
    }
   ],
   "source": [
    "kubectl get pods"
   ]
  },
  {
   "cell_type": "code",
   "execution_count": 47,
   "metadata": {
    "collapsed": false
   },
   "outputs": [
    {
     "name": "stdout",
     "output_type": "stream",
     "text": [
      "NAME       DESIRED   CURRENT   UP-TO-DATE   AVAILABLE   AGE\n",
      "my-nginx   2         2         2            2           3m\n"
     ]
    }
   ],
   "source": [
    "kubectl get deploy"
   ]
  },
  {
   "cell_type": "markdown",
   "metadata": {},
   "source": [
    "Now let's obtain the url of our 'my-nginx' service"
   ]
  },
  {
   "cell_type": "code",
   "execution_count": 48,
   "metadata": {
    "collapsed": false
   },
   "outputs": [
    {
     "name": "stdout",
     "output_type": "stream",
     "text": [
      "http://192.168.99.100:31155\n"
     ]
    }
   ],
   "source": [
    "minikube service my-nginx --url"
   ]
  },
  {
   "cell_type": "markdown",
   "metadata": {
    "collapsed": true
   },
   "source": [
    "#open $(minikube service my-nginx --url)\n",
    "\n",
    "We can now access this url from our host, using curl or a web-browser:"
   ]
  },
  {
   "cell_type": "code",
   "execution_count": 49,
   "metadata": {
    "collapsed": false
   },
   "outputs": [
    {
     "name": "stdout",
     "output_type": "stream",
     "text": [
      "<!DOCTYPE html>\n",
      "<html>\n",
      "<head>\n",
      "<title>Welcome to nginx!</title>\n",
      "<style>\n",
      "    body {\n",
      "        width: 35em;\n",
      "        margin: 0 auto;\n",
      "        font-family: Tahoma, Verdana, Arial, sans-serif;\n",
      "    }\n",
      "</style>\n",
      "</head>\n",
      "<body>\n",
      "<h1>Welcome to nginx!</h1>\n",
      "<p>If you see this page, the nginx web server is successfully installed and\n",
      "working. Further configuration is required.</p>\n",
      "\n",
      "<p>For online documentation and support please refer to\n",
      "<a href=\"http://nginx.org/\">nginx.org</a>.<br/>\n",
      "Commercial support is available at\n",
      "<a href=\"http://nginx.com/\">nginx.com</a>.</p>\n",
      "\n",
      "<p><em>Thank you for using nginx.</em></p>\n",
      "</body>\n",
      "</html>\n"
     ]
    }
   ],
   "source": [
    "curl $(minikube service my-nginx --url)"
   ]
  },
  {
   "cell_type": "markdown",
   "metadata": {},
   "source": [
    "# 3. Viewing Pods"
   ]
  },
  {
   "cell_type": "code",
   "execution_count": 51,
   "metadata": {
    "collapsed": false
   },
   "outputs": [
    {
     "name": "stdout",
     "output_type": "stream",
     "text": [
      "NAME                       READY     STATUS    RESTARTS   AGE\n",
      "my-nginx-379829228-bb8kr   1/1       Running   0          21m\n",
      "my-nginx-379829228-qjtbt   1/1       Running   0          21m\n"
     ]
    }
   ],
   "source": [
    "kubectl get pods"
   ]
  },
  {
   "cell_type": "code",
   "execution_count": 52,
   "metadata": {
    "collapsed": false
   },
   "outputs": [
    {
     "name": "stdout",
     "output_type": "stream",
     "text": [
      "Name:\t\tmy-nginx-379829228-bb8kr\n",
      "Namespace:\tdefault\n",
      "Node:\t\tminikube/192.168.99.100\n",
      "Start Time:\tThu, 26 Jan 2017 21:58:01 +0100\n",
      "Labels:\t\tpod-template-hash=379829228\n",
      "\t\trun=my-nginx\n",
      "Status:\t\tRunning\n",
      "IP:\t\t172.17.0.7\n",
      "Controllers:\tReplicaSet/my-nginx-379829228\n",
      "Containers:\n",
      "  my-nginx:\n",
      "    Container ID:\tdocker://89e863b1d2d68b032d41bd7066e4a0216b0c75accccc4f0c2459a4ee241f705b\n",
      "    Image:\t\tnginx\n",
      "    Image ID:\t\tdocker://sha256:cc1b614067128cd2f5cdafb258b0a4dd25760f14562bcce516c13f760c3b79c4\n",
      "    Port:\t\t80/TCP\n",
      "    State:\t\tRunning\n",
      "      Started:\t\tThu, 26 Jan 2017 21:59:30 +0100\n",
      "    Ready:\t\tTrue\n",
      "    Restart Count:\t0\n",
      "    Volume Mounts:\n",
      "      /var/run/secrets/kubernetes.io/serviceaccount from default-token-rklxb (ro)\n",
      "    Environment Variables:\t<none>\n",
      "Conditions:\n",
      "  Type\t\tStatus\n",
      "  Initialized \tTrue \n",
      "  Ready \tTrue \n",
      "  PodScheduled \tTrue \n",
      "Volumes:\n",
      "  default-token-rklxb:\n",
      "    Type:\tSecret (a volume populated by a Secret)\n",
      "    SecretName:\tdefault-token-rklxb\n",
      "QoS Class:\tBestEffort\n",
      "Tolerations:\t<none>\n",
      "Events:\n",
      "  FirstSeen\tLastSeen\tCount\tFrom\t\t\tSubObjectPath\t\t\tType\t\tReason\t\tMessage\n",
      "  ---------\t--------\t-----\t----\t\t\t-------------\t\t\t--------\t------\t\t-------\n",
      "  21m\t\t21m\t\t1\t{default-scheduler }\t\t\t\t\tNormal\t\tScheduled\tSuccessfully assigned my-nginx-379829228-bb8kr to minikube\n",
      "  21m\t\t21m\t\t1\t{kubelet minikube}\tspec.containers{my-nginx}\tNormal\t\tPulling\t\tpulling image \"nginx\"\n",
      "  20m\t\t20m\t\t1\t{kubelet minikube}\tspec.containers{my-nginx}\tNormal\t\tPulled\t\tSuccessfully pulled image \"nginx\"\n",
      "  20m\t\t20m\t\t1\t{kubelet minikube}\tspec.containers{my-nginx}\tNormal\t\tCreated\t\tCreated container with docker id 89e863b1d2d6; Security:[seccomp=unconfined]\n",
      "  20m\t\t20m\t\t1\t{kubelet minikube}\tspec.containers{my-nginx}\tNormal\t\tStarted\t\tStarted container with docker id 89e863b1d2d6\n",
      "\n",
      "\n",
      "Name:\t\tmy-nginx-379829228-qjtbt\n",
      "Namespace:\tdefault\n",
      "Node:\t\tminikube/192.168.99.100\n",
      "Start Time:\tThu, 26 Jan 2017 21:58:01 +0100\n",
      "Labels:\t\tpod-template-hash=379829228\n",
      "\t\trun=my-nginx\n",
      "Status:\t\tRunning\n",
      "IP:\t\t172.17.0.6\n",
      "Controllers:\tReplicaSet/my-nginx-379829228\n",
      "Containers:\n",
      "  my-nginx:\n",
      "    Container ID:\tdocker://3603cf070044df1bff255c1b36ea75119d0337dade08f244b1ab15a391f83959\n",
      "    Image:\t\tnginx\n",
      "    Image ID:\t\tdocker://sha256:cc1b614067128cd2f5cdafb258b0a4dd25760f14562bcce516c13f760c3b79c4\n",
      "    Port:\t\t80/TCP\n",
      "    State:\t\tRunning\n",
      "      Started:\t\tThu, 26 Jan 2017 21:59:28 +0100\n",
      "    Ready:\t\tTrue\n",
      "    Restart Count:\t0\n",
      "    Volume Mounts:\n",
      "      /var/run/secrets/kubernetes.io/serviceaccount from default-token-rklxb (ro)\n",
      "    Environment Variables:\t<none>\n",
      "Conditions:\n",
      "  Type\t\tStatus\n",
      "  Initialized \tTrue \n",
      "  Ready \tTrue \n",
      "  PodScheduled \tTrue \n",
      "Volumes:\n",
      "  default-token-rklxb:\n",
      "    Type:\tSecret (a volume populated by a Secret)\n",
      "    SecretName:\tdefault-token-rklxb\n",
      "QoS Class:\tBestEffort\n",
      "Tolerations:\t<none>\n",
      "Events:\n",
      "  FirstSeen\tLastSeen\tCount\tFrom\t\t\tSubObjectPath\t\t\tType\t\tReason\t\tMessage\n",
      "  ---------\t--------\t-----\t----\t\t\t-------------\t\t\t--------\t------\t\t-------\n",
      "  21m\t\t21m\t\t1\t{default-scheduler }\t\t\t\t\tNormal\t\tScheduled\tSuccessfully assigned my-nginx-379829228-qjtbt to minikube\n",
      "  21m\t\t21m\t\t1\t{kubelet minikube}\tspec.containers{my-nginx}\tNormal\t\tPulling\t\tpulling image \"nginx\"\n",
      "  20m\t\t20m\t\t1\t{kubelet minikube}\tspec.containers{my-nginx}\tNormal\t\tPulled\t\tSuccessfully pulled image \"nginx\"\n",
      "  20m\t\t20m\t\t1\t{kubelet minikube}\tspec.containers{my-nginx}\tNormal\t\tCreated\t\tCreated container with docker id 3603cf070044; Security:[seccomp=unconfined]\n",
      "  20m\t\t20m\t\t1\t{kubelet minikube}\tspec.containers{my-nginx}\tNormal\t\tStarted\t\tStarted container with docker id 3603cf070044\n"
     ]
    }
   ],
   "source": [
    "kubectl describe pods"
   ]
  },
  {
   "cell_type": "code",
   "execution_count": 66,
   "metadata": {
    "collapsed": false
   },
   "outputs": [
    {
     "name": "stdout",
     "output_type": "stream",
     "text": [
      "172.17.0.1 - - [26/Jan/2017:21:24:23 +0000] \"GET / HTTP/1.1\" 200 612 \"-\" \"curl/7.49.0\" \"127.0.0.1\"\n"
     ]
    }
   ],
   "source": [
    "kubectl logs $POD_NAME"
   ]
  },
  {
   "cell_type": "code",
   "execution_count": 67,
   "metadata": {
    "collapsed": false
   },
   "outputs": [
    {
     "name": "stdout",
     "output_type": "stream",
     "text": [
      "PATH=/usr/local/sbin:/usr/local/bin:/usr/sbin:/usr/bin:/sbin:/bin\n",
      "HOSTNAME=my-nginx-379829228-bb8kr\n",
      "KUBERNETES_PORT_443_TCP_PROTO=tcp\n",
      "KUBERNETES_PORT_443_TCP_PORT=443\n",
      "KUBERNETES_PORT_443_TCP_ADDR=10.0.0.1\n",
      "KUBERNETES_SERVICE_HOST=10.0.0.1\n",
      "KUBERNETES_SERVICE_PORT=443\n",
      "KUBERNETES_SERVICE_PORT_HTTPS=443\n",
      "KUBERNETES_PORT=tcp://10.0.0.1:443\n",
      "KUBERNETES_PORT_443_TCP=tcp://10.0.0.1:443\n",
      "NGINX_VERSION=1.11.9-1~jessie\n",
      "HOME=/root\n"
     ]
    }
   ],
   "source": [
    "kubectl exec $POD_NAME env"
   ]
  },
  {
   "cell_type": "code",
   "execution_count": 78,
   "metadata": {
    "collapsed": false
   },
   "outputs": [
    {
     "name": "stdout",
     "output_type": "stream",
     "text": [
      "my-nginx-379829228-bb8kr\n"
     ]
    }
   ],
   "source": [
    "kubectl exec $POD_NAME hostname"
   ]
  },
  {
   "cell_type": "markdown",
   "metadata": {},
   "source": [
    "We can see the ip address of a pod (same ip address for all containers in that pod):"
   ]
  },
  {
   "cell_type": "code",
   "execution_count": 79,
   "metadata": {
    "collapsed": false
   },
   "outputs": [
    {
     "name": "stdout",
     "output_type": "stream",
     "text": [
      "1: lo: <LOOPBACK,UP,LOWER_UP> mtu 65536 qdisc noqueue state UNKNOWN group default qlen 1\n",
      "    link/loopback 00:00:00:00:00:00 brd 00:00:00:00:00:00\n",
      "    inet 127.0.0.1/8 scope host lo\n",
      "       valid_lft forever preferred_lft forever\n",
      "    inet6 ::1/128 scope host \n",
      "       valid_lft forever preferred_lft forever\n",
      "17: eth0@if18: <BROADCAST,MULTICAST,UP,LOWER_UP> mtu 1500 qdisc noqueue state UP group default \n",
      "    link/ether 02:42:ac:11:00:07 brd ff:ff:ff:ff:ff:ff\n",
      "    inet 172.17.0.7/16 scope global eth0\n",
      "       valid_lft forever preferred_lft forever\n",
      "    inet6 fe80::42:acff:fe11:7/64 scope link tentative dadfailed \n",
      "       valid_lft forever preferred_lft forever\n"
     ]
    }
   ],
   "source": [
    "kubectl exec $POD_NAME ip a"
   ]
  },
  {
   "cell_type": "markdown",
   "metadata": {},
   "source": [
    "# 4. Inspecting our service\n",
    "\n",
    "A Service provides load balancing of traffic across the contained set of Pods. This is useful when a service is created to group all Pods from a specific Deployment (our application will make use of this in the next module, when we'll have multiple instances running).\n",
    "\n",
    "Services are also responsible for service-discovery within the cluster (covered in Accessing the Service). This will for example allow a frontend service (like a web server) to receive traffic from a backend service (like a database) without worrying about Pods.\n",
    "\n",
    "Services match a set of Pods using Label Selectors, a grouping primitive that allows logical operation on Labels.\n",
    "\n",
    "Labels are key/value pairs that are attached to objects, such as Pods and you can think of them as hashtags from social media. They are used to organize related objects in a way meaningful to the users like:\n",
    "\n",
    "Production environment (production, test, dev)\n",
    "Application version (beta, v1.3)\n",
    "Type of service/server (frontend, backend, database)\n",
    "Labels are key/value pairs that are attached to objects\n"
   ]
  },
  {
   "cell_type": "markdown",
   "metadata": {},
   "source": [
    "We have a Service called kubernetes that is created by default when minikube starts the cluster. To create a new service and expose it to external traffic we’ll use the expose command with NodePort as parameter (minikube does not support the LoadBalancer option yet)"
   ]
  },
  {
   "cell_type": "code",
   "execution_count": 101,
   "metadata": {
    "collapsed": false
   },
   "outputs": [
    {
     "name": "stdout",
     "output_type": "stream",
     "text": [
      "NAME         CLUSTER-IP   EXTERNAL-IP   PORT(S)        AGE\n",
      "kubernetes   10.0.0.1     <none>        443/TCP        1h\n",
      "my-nginx     10.0.0.134   <nodes>       80:31155/TCP   38m\n"
     ]
    }
   ],
   "source": [
    "kubectl get svc"
   ]
  },
  {
   "cell_type": "code",
   "execution_count": 102,
   "metadata": {
    "collapsed": false
   },
   "outputs": [
    {
     "name": "stdout",
     "output_type": "stream",
     "text": [
      "NAME       CLUSTER-IP   EXTERNAL-IP   PORT(S)        AGE\n",
      "my-nginx   10.0.0.134   <nodes>       80:31155/TCP   38m\n"
     ]
    }
   ],
   "source": [
    "kubectl get services/my-nginx"
   ]
  },
  {
   "cell_type": "markdown",
   "metadata": {},
   "source": [
    "We can ssh into our minikube node to find it's eth1 ip address.\n",
    "This is the address we will use to access our service (the address used for $DOCKER_HOST):"
   ]
  },
  {
   "cell_type": "code",
   "execution_count": 97,
   "metadata": {
    "collapsed": false
   },
   "outputs": [
    {
     "name": "stdout",
     "output_type": "stream",
     "text": [
      "4: eth1: <BROADCAST,MULTICAST,UP,LOWER_UP> mtu 1500 qdisc pfifo_fast state UP group default qlen 1000\n",
      "    link/ether 08:00:27:20:27:96 brd ff:ff:ff:ff:ff:ff\n",
      "    inet 192.168.99.100/24 brd 192.168.99.255 scope global eth1\n",
      "       valid_lft forever preferred_lft forever\n",
      "    inet6 fe80::a00:27ff:fe20:2796/64 scope link \n",
      "       valid_lft forever preferred_lft forever\n"
     ]
    }
   ],
   "source": [
    "minikube ssh ip a show dev eth1"
   ]
  },
  {
   "cell_type": "code",
   "execution_count": 98,
   "metadata": {
    "collapsed": false
   },
   "outputs": [
    {
     "name": "stdout",
     "output_type": "stream",
     "text": [
      "tcp://192.168.99.100:2376\n"
     ]
    }
   ],
   "source": [
    "echo $DOCKER_HOST"
   ]
  },
  {
   "cell_type": "code",
   "execution_count": 99,
   "metadata": {
    "collapsed": false
   },
   "outputs": [
    {
     "name": "stdout",
     "output_type": "stream",
     "text": [
      "HOST_IP=192.168.99.100\n"
     ]
    }
   ],
   "source": [
    "HOST_IP=$(echo $DOCKER_HOST | sed -e 's/.*:\\/\\///' -e 's/:.*//')\n",
    "echo HOST_IP=$HOST_IP"
   ]
  },
  {
   "cell_type": "markdown",
   "metadata": {},
   "source": [
    "We can then use the describe service command to see which port (NodePort) is to be used:"
   ]
  },
  {
   "cell_type": "code",
   "execution_count": 100,
   "metadata": {
    "collapsed": false
   },
   "outputs": [
    {
     "name": "stdout",
     "output_type": "stream",
     "text": [
      "Name:\t\t\tmy-nginx\n",
      "Namespace:\t\tdefault\n",
      "Labels:\t\t\trun=my-nginx\n",
      "Selector:\t\trun=my-nginx\n",
      "Type:\t\t\tNodePort\n",
      "IP:\t\t\t10.0.0.134\n",
      "Port:\t\t\t<unset>\t80/TCP\n",
      "NodePort:\t\t<unset>\t31155/TCP\n",
      "Endpoints:\t\t172.17.0.6:80,172.17.0.7:80\n",
      "Session Affinity:\tNone\n",
      "No events.\n"
     ]
    }
   ],
   "source": [
    "kubectl describe svc my-nginx"
   ]
  },
  {
   "cell_type": "markdown",
   "metadata": {},
   "source": [
    "So now we know on which port of our node we can access our service:\n",
    "\n",
    "Let's access the port automatically"
   ]
  },
  {
   "cell_type": "code",
   "execution_count": 103,
   "metadata": {
    "collapsed": false
   },
   "outputs": [
    {
     "name": "stdout",
     "output_type": "stream",
     "text": [
      "NODE_PORT=31155\n"
     ]
    }
   ],
   "source": [
    "export NODE_PORT=$(kubectl get services/my-nginx -o go-template='{{(index .spec.ports 0).nodePort}}')\n",
    "echo NODE_PORT=$NODE_PORT\n",
    "\n",
    "#export NODE_IP=$(kubectl get services/my-nginx -o go-template='{{(index .spec.clusterIP)}}')\n",
    "#echo NODE_IP=$NODE_IP"
   ]
  },
  {
   "cell_type": "code",
   "execution_count": 104,
   "metadata": {
    "collapsed": false
   },
   "outputs": [
    {
     "name": "stdout",
     "output_type": "stream",
     "text": [
      "curl http://192.168.99.100:31155\n",
      "<!DOCTYPE html>\n",
      "<html>\n",
      "<head>\n",
      "<title>Welcome to nginx!</title>\n",
      "<style>\n",
      "    body {\n",
      "        width: 35em;\n",
      "        margin: 0 auto;\n",
      "        font-family: Tahoma, Verdana, Arial, sans-serif;\n",
      "    }\n",
      "</style>\n",
      "</head>\n",
      "<body>\n",
      "<h1>Welcome to nginx!</h1>\n",
      "<p>If you see this page, the nginx web server is successfully installed and\n",
      "working. Further configuration is required.</p>\n",
      "\n",
      "<p>For online documentation and support please refer to\n",
      "<a href=\"http://nginx.org/\">nginx.org</a>.<br/>\n",
      "Commercial support is available at\n",
      "<a href=\"http://nginx.com/\">nginx.com</a>.</p>\n",
      "\n",
      "<p><em>Thank you for using nginx.</em></p>\n",
      "</body>\n",
      "</html>\n"
     ]
    }
   ],
   "source": [
    "echo curl http://${HOST_IP}:${NODE_PORT}\n",
    "curl http://${HOST_IP}:${NODE_PORT}"
   ]
  },
  {
   "cell_type": "code",
   "execution_count": 105,
   "metadata": {
    "collapsed": false
   },
   "outputs": [
    {
     "name": "stdout",
     "output_type": "stream",
     "text": [
      "Name:\t\t\tmy-nginx\n",
      "Namespace:\t\tdefault\n",
      "CreationTimestamp:\tThu, 26 Jan 2017 21:58:01 +0100\n",
      "Labels:\t\t\trun=my-nginx\n",
      "Selector:\t\trun=my-nginx\n",
      "Replicas:\t\t2 updated | 2 total | 2 available | 0 unavailable\n",
      "StrategyType:\t\tRollingUpdate\n",
      "MinReadySeconds:\t0\n",
      "RollingUpdateStrategy:\t1 max unavailable, 1 max surge\n",
      "Conditions:\n",
      "  Type\t\tStatus\tReason\n",
      "  ----\t\t------\t------\n",
      "  Available \tTrue\tMinimumReplicasAvailable\n",
      "OldReplicaSets:\t<none>\n",
      "NewReplicaSet:\tmy-nginx-379829228 (2/2 replicas created)\n",
      "Events:\n",
      "  FirstSeen\tLastSeen\tCount\tFrom\t\t\t\tSubObjectPath\tType\t\tReason\t\t\tMessage\n",
      "  ---------\t--------\t-----\t----\t\t\t\t-------------\t--------\t------\t\t\t-------\n",
      "  42m\t\t42m\t\t1\t{deployment-controller }\t\t\tNormal\t\tScalingReplicaSet\tScaled up replica set my-nginx-379829228 to 2\n"
     ]
    }
   ],
   "source": [
    "kubectl describe deploy"
   ]
  },
  {
   "cell_type": "markdown",
   "metadata": {},
   "source": [
    "# 5. Accessing objects using label selectors\n",
    "\n",
    "We saw above that all my-nginx pods have the label run=my-nginx.\n",
    "\n",
    "We can use this to select only those pods:"
   ]
  },
  {
   "cell_type": "code",
   "execution_count": 107,
   "metadata": {
    "collapsed": false
   },
   "outputs": [
    {
     "name": "stdout",
     "output_type": "stream",
     "text": [
      "NAME                       READY     STATUS    RESTARTS   AGE\n",
      "my-nginx-379829228-bb8kr   1/1       Running   0          43m\n",
      "my-nginx-379829228-qjtbt   1/1       Running   0          43m\n"
     ]
    }
   ],
   "source": [
    "kubectl get pods -l run=my-nginx"
   ]
  },
  {
   "cell_type": "markdown",
   "metadata": {
    "collapsed": false
   },
   "source": [
    "#### Setting labels\n",
    "\n",
    "We can also set labels on any object.\n",
    "\n",
    "Let's set a label '*app=v1*' on just one of our nginx pods:\n"
   ]
  },
  {
   "cell_type": "code",
   "execution_count": 108,
   "metadata": {
    "collapsed": false
   },
   "outputs": [
    {
     "name": "stdout",
     "output_type": "stream",
     "text": [
      "pod \"my-nginx-379829228-bb8kr\" labeled\n"
     ]
    }
   ],
   "source": [
    "kubectl label pod $POD_NAME app=v1"
   ]
  },
  {
   "cell_type": "markdown",
   "metadata": {},
   "source": [
    "Now running describe pod, we see both pods but only one of them has the '*app=v1*' label:"
   ]
  },
  {
   "cell_type": "code",
   "execution_count": 109,
   "metadata": {
    "collapsed": false
   },
   "outputs": [
    {
     "name": "stdout",
     "output_type": "stream",
     "text": [
      "Name:\t\tmy-nginx-379829228-bb8kr\n",
      "Namespace:\tdefault\n",
      "Node:\t\tminikube/192.168.99.100\n",
      "Start Time:\tThu, 26 Jan 2017 21:58:01 +0100\n",
      "Labels:\t\tapp=v1\n",
      "\t\tpod-template-hash=379829228\n",
      "\t\trun=my-nginx\n",
      "Status:\t\tRunning\n",
      "IP:\t\t172.17.0.7\n",
      "Controllers:\tReplicaSet/my-nginx-379829228\n",
      "Containers:\n",
      "  my-nginx:\n",
      "    Container ID:\tdocker://89e863b1d2d68b032d41bd7066e4a0216b0c75accccc4f0c2459a4ee241f705b\n",
      "    Image:\t\tnginx\n",
      "    Image ID:\t\tdocker://sha256:cc1b614067128cd2f5cdafb258b0a4dd25760f14562bcce516c13f760c3b79c4\n",
      "    Port:\t\t80/TCP\n",
      "    State:\t\tRunning\n",
      "      Started:\t\tThu, 26 Jan 2017 21:59:30 +0100\n",
      "    Ready:\t\tTrue\n",
      "    Restart Count:\t0\n",
      "    Volume Mounts:\n",
      "      /var/run/secrets/kubernetes.io/serviceaccount from default-token-rklxb (ro)\n",
      "    Environment Variables:\t<none>\n",
      "Conditions:\n",
      "  Type\t\tStatus\n",
      "  Initialized \tTrue \n",
      "  Ready \tTrue \n",
      "  PodScheduled \tTrue \n",
      "Volumes:\n",
      "  default-token-rklxb:\n",
      "    Type:\tSecret (a volume populated by a Secret)\n",
      "    SecretName:\tdefault-token-rklxb\n",
      "QoS Class:\tBestEffort\n",
      "Tolerations:\t<none>\n",
      "Events:\n",
      "  FirstSeen\tLastSeen\tCount\tFrom\t\t\tSubObjectPath\t\t\tType\t\tReason\t\tMessage\n",
      "  ---------\t--------\t-----\t----\t\t\t-------------\t\t\t--------\t------\t\t-------\n",
      "  45m\t\t45m\t\t1\t{default-scheduler }\t\t\t\t\tNormal\t\tScheduled\tSuccessfully assigned my-nginx-379829228-bb8kr to minikube\n",
      "  45m\t\t45m\t\t1\t{kubelet minikube}\tspec.containers{my-nginx}\tNormal\t\tPulling\t\tpulling image \"nginx\"\n",
      "  43m\t\t43m\t\t1\t{kubelet minikube}\tspec.containers{my-nginx}\tNormal\t\tPulled\t\tSuccessfully pulled image \"nginx\"\n",
      "  43m\t\t43m\t\t1\t{kubelet minikube}\tspec.containers{my-nginx}\tNormal\t\tCreated\t\tCreated container with docker id 89e863b1d2d6; Security:[seccomp=unconfined]\n",
      "  43m\t\t43m\t\t1\t{kubelet minikube}\tspec.containers{my-nginx}\tNormal\t\tStarted\t\tStarted container with docker id 89e863b1d2d6\n",
      "\n",
      "\n",
      "Name:\t\tmy-nginx-379829228-qjtbt\n",
      "Namespace:\tdefault\n",
      "Node:\t\tminikube/192.168.99.100\n",
      "Start Time:\tThu, 26 Jan 2017 21:58:01 +0100\n",
      "Labels:\t\tpod-template-hash=379829228\n",
      "\t\trun=my-nginx\n",
      "Status:\t\tRunning\n",
      "IP:\t\t172.17.0.6\n",
      "Controllers:\tReplicaSet/my-nginx-379829228\n",
      "Containers:\n",
      "  my-nginx:\n",
      "    Container ID:\tdocker://3603cf070044df1bff255c1b36ea75119d0337dade08f244b1ab15a391f83959\n",
      "    Image:\t\tnginx\n",
      "    Image ID:\t\tdocker://sha256:cc1b614067128cd2f5cdafb258b0a4dd25760f14562bcce516c13f760c3b79c4\n",
      "    Port:\t\t80/TCP\n",
      "    State:\t\tRunning\n",
      "      Started:\t\tThu, 26 Jan 2017 21:59:28 +0100\n",
      "    Ready:\t\tTrue\n",
      "    Restart Count:\t0\n",
      "    Volume Mounts:\n",
      "      /var/run/secrets/kubernetes.io/serviceaccount from default-token-rklxb (ro)\n",
      "    Environment Variables:\t<none>\n",
      "Conditions:\n",
      "  Type\t\tStatus\n",
      "  Initialized \tTrue \n",
      "  Ready \tTrue \n",
      "  PodScheduled \tTrue \n",
      "Volumes:\n",
      "  default-token-rklxb:\n",
      "    Type:\tSecret (a volume populated by a Secret)\n",
      "    SecretName:\tdefault-token-rklxb\n",
      "QoS Class:\tBestEffort\n",
      "Tolerations:\t<none>\n",
      "Events:\n",
      "  FirstSeen\tLastSeen\tCount\tFrom\t\t\tSubObjectPath\t\t\tType\t\tReason\t\tMessage\n",
      "  ---------\t--------\t-----\t----\t\t\t-------------\t\t\t--------\t------\t\t-------\n",
      "  45m\t\t45m\t\t1\t{default-scheduler }\t\t\t\t\tNormal\t\tScheduled\tSuccessfully assigned my-nginx-379829228-qjtbt to minikube\n",
      "  45m\t\t45m\t\t1\t{kubelet minikube}\tspec.containers{my-nginx}\tNormal\t\tPulling\t\tpulling image \"nginx\"\n",
      "  43m\t\t43m\t\t1\t{kubelet minikube}\tspec.containers{my-nginx}\tNormal\t\tPulled\t\tSuccessfully pulled image \"nginx\"\n",
      "  43m\t\t43m\t\t1\t{kubelet minikube}\tspec.containers{my-nginx}\tNormal\t\tCreated\t\tCreated container with docker id 3603cf070044; Security:[seccomp=unconfined]\n",
      "  43m\t\t43m\t\t1\t{kubelet minikube}\tspec.containers{my-nginx}\tNormal\t\tStarted\t\tStarted container with docker id 3603cf070044\n"
     ]
    }
   ],
   "source": [
    "kubectl describe pod"
   ]
  },
  {
   "cell_type": "markdown",
   "metadata": {},
   "source": [
    "Now we can select just pods with '*app=v1*':"
   ]
  },
  {
   "cell_type": "code",
   "execution_count": 111,
   "metadata": {
    "collapsed": false
   },
   "outputs": [
    {
     "name": "stdout",
     "output_type": "stream",
     "text": [
      "NAME                       READY     STATUS    RESTARTS   AGE\n",
      "my-nginx-379829228-bb8kr   1/1       Running   0          46m\n"
     ]
    }
   ],
   "source": [
    "kubectl get pod -l app=v1"
   ]
  },
  {
   "cell_type": "code",
   "execution_count": 130,
   "metadata": {
    "collapsed": false
   },
   "outputs": [
    {
     "name": "stdout",
     "output_type": "stream",
     "text": [
      "No resources found\n"
     ]
    }
   ],
   "source": [
    "kubectl delete service -l run=my-nginx"
   ]
  },
  {
   "cell_type": "code",
   "execution_count": 131,
   "metadata": {
    "collapsed": false
   },
   "outputs": [
    {
     "name": "stdout",
     "output_type": "stream",
     "text": [
      "NAME         CLUSTER-IP   EXTERNAL-IP   PORT(S)   AGE\n",
      "kubernetes   10.0.0.1     <none>        443/TCP   1h\n"
     ]
    }
   ],
   "source": [
    "kubectl get service"
   ]
  },
  {
   "cell_type": "markdown",
   "metadata": {},
   "source": [
    "# 4. Scaling an app"
   ]
  },
  {
   "cell_type": "code",
   "execution_count": 148,
   "metadata": {
    "collapsed": false
   },
   "outputs": [
    {
     "name": "stdout",
     "output_type": "stream",
     "text": [
      "deployment \"my-nginx\" scaled\n"
     ]
    }
   ],
   "source": [
    "kubectl scale deployments/my-nginx --replicas=4"
   ]
  },
  {
   "cell_type": "code",
   "execution_count": 115,
   "metadata": {
    "collapsed": false
   },
   "outputs": [
    {
     "name": "stdout",
     "output_type": "stream",
     "text": [
      "NAME       DESIRED   CURRENT   UP-TO-DATE   AVAILABLE   AGE\n",
      "my-nginx   4         4         4            2           46m\n"
     ]
    }
   ],
   "source": [
    "kubectl get deploy"
   ]
  },
  {
   "cell_type": "code",
   "execution_count": 156,
   "metadata": {
    "collapsed": false
   },
   "outputs": [
    {
     "name": "stdout",
     "output_type": "stream",
     "text": [
      "NAME       DESIRED   CURRENT   UP-TO-DATE   AVAILABLE   AGE\n",
      "my-nginx   4         4         4            4           50m\n"
     ]
    }
   ],
   "source": [
    "kubectl get deploy"
   ]
  },
  {
   "cell_type": "code",
   "execution_count": 155,
   "metadata": {
    "collapsed": false
   },
   "outputs": [
    {
     "name": "stdout",
     "output_type": "stream",
     "text": [
      "NAME                       READY     STATUS    RESTARTS   AGE       IP           NODE\n",
      "my-nginx-379829228-32kd8   1/1       Running   0          3m        172.17.0.9   minikube\n",
      "my-nginx-379829228-bb8kr   1/1       Running   0          50m       172.17.0.7   minikube\n",
      "my-nginx-379829228-qjtbt   1/1       Running   0          50m       172.17.0.6   minikube\n",
      "my-nginx-379829228-w5h0c   1/1       Running   0          3m        172.17.0.8   minikube\n"
     ]
    }
   ],
   "source": [
    "kubectl get pods -o wide"
   ]
  },
  {
   "cell_type": "code",
   "execution_count": 157,
   "metadata": {
    "collapsed": false
   },
   "outputs": [
    {
     "name": "stdout",
     "output_type": "stream",
     "text": [
      "Name:\t\t\tmy-nginx\n",
      "Namespace:\t\tdefault\n",
      "CreationTimestamp:\tThu, 26 Jan 2017 21:58:01 +0100\n",
      "Labels:\t\t\trun=my-nginx\n",
      "Selector:\t\trun=my-nginx\n",
      "Replicas:\t\t4 updated | 4 total | 4 available | 0 unavailable\n",
      "StrategyType:\t\tRollingUpdate\n",
      "MinReadySeconds:\t0\n",
      "RollingUpdateStrategy:\t1 max unavailable, 1 max surge\n",
      "Conditions:\n",
      "  Type\t\tStatus\tReason\n",
      "  ----\t\t------\t------\n",
      "  Available \tTrue\tMinimumReplicasAvailable\n",
      "OldReplicaSets:\t<none>\n",
      "NewReplicaSet:\tmy-nginx-379829228 (4/4 replicas created)\n",
      "Events:\n",
      "  FirstSeen\tLastSeen\tCount\tFrom\t\t\t\tSubObjectPath\tType\t\tReason\t\t\tMessage\n",
      "  ---------\t--------\t-----\t----\t\t\t\t-------------\t--------\t------\t\t\t-------\n",
      "  52m\t\t52m\t\t1\t{deployment-controller }\t\t\tNormal\t\tScalingReplicaSet\tScaled up replica set my-nginx-379829228 to 2\n",
      "  5m\t\t5m\t\t1\t{deployment-controller }\t\t\tNormal\t\tScalingReplicaSet\tScaled up replica set my-nginx-379829228 to 4\n"
     ]
    }
   ],
   "source": [
    "kubectl describe deploy/my-nginx"
   ]
  },
  {
   "cell_type": "code",
   "execution_count": 158,
   "metadata": {
    "collapsed": false
   },
   "outputs": [
    {
     "name": "stdout",
     "output_type": "stream",
     "text": [
      "Error from server (NotFound): services \"my-nginx\" not found\n"
     ]
    },
    {
     "ename": "",
     "evalue": "1",
     "output_type": "error",
     "traceback": []
    }
   ],
   "source": [
    "kubectl describe services/my-nginx"
   ]
  },
  {
   "cell_type": "code",
   "execution_count": 159,
   "metadata": {
    "collapsed": false
   },
   "outputs": [
    {
     "name": "stdout",
     "output_type": "stream",
     "text": [
      "service \"my-nginx\" exposed\n"
     ]
    }
   ],
   "source": [
    "kubectl expose deployment my-nginx --type=NodePort"
   ]
  },
  {
   "cell_type": "code",
   "execution_count": 160,
   "metadata": {
    "collapsed": false
   },
   "outputs": [
    {
     "name": "stdout",
     "output_type": "stream",
     "text": [
      "Name:\t\t\tmy-nginx\n",
      "Namespace:\t\tdefault\n",
      "Labels:\t\t\trun=my-nginx\n",
      "Selector:\t\trun=my-nginx\n",
      "Type:\t\t\tNodePort\n",
      "IP:\t\t\t10.0.0.54\n",
      "Port:\t\t\t<unset>\t80/TCP\n",
      "NodePort:\t\t<unset>\t31715/TCP\n",
      "Endpoints:\t\t172.17.0.6:80,172.17.0.7:80,172.17.0.8:80 + 1 more...\n",
      "Session Affinity:\tNone\n",
      "No events.\n"
     ]
    }
   ],
   "source": [
    "kubectl describe services/my-nginx"
   ]
  },
  {
   "cell_type": "code",
   "execution_count": 161,
   "metadata": {
    "collapsed": false
   },
   "outputs": [
    {
     "name": "stdout",
     "output_type": "stream",
     "text": [
      "NODE_PORT=31715\n"
     ]
    }
   ],
   "source": [
    "export NODE_PORT=$(kubectl get services/my-nginx -o go-template='{{(index .spec.ports 0).nodePort}}')\n",
    "echo NODE_PORT=$NODE_PORT\n",
    "\n",
    "HOST_IP=$(echo $DOCKER_HOST | sed -e 's/.*:\\/\\///' -e 's/:.*//')"
   ]
  },
  {
   "cell_type": "code",
   "execution_count": 162,
   "metadata": {
    "collapsed": false
   },
   "outputs": [
    {
     "name": "stdout",
     "output_type": "stream",
     "text": [
      "<!DOCTYPE html>\n",
      "<html>\n",
      "<head>\n",
      "<title>Welcome to nginx!</title>\n",
      "<style>\n",
      "    body {\n",
      "        width: 35em;\n",
      "        margin: 0 auto;\n",
      "        font-family: Tahoma, Verdana, Arial, sans-serif;\n",
      "    }\n",
      "</style>\n",
      "</head>\n",
      "<body>\n",
      "<h1>Welcome to nginx!</h1>\n",
      "<p>If you see this page, the nginx web server is successfully installed and\n",
      "working. Further configuration is required.</p>\n",
      "\n",
      "<p>For online documentation and support please refer to\n",
      "<a href=\"http://nginx.org/\">nginx.org</a>.<br/>\n",
      "Commercial support is available at\n",
      "<a href=\"http://nginx.com/\">nginx.com</a>.</p>\n",
      "\n",
      "<p><em>Thank you for using nginx.</em></p>\n",
      "</body>\n",
      "</html>\n"
     ]
    }
   ],
   "source": [
    "curl $HOST_IP:$NODE_PORT"
   ]
  },
  {
   "cell_type": "code",
   "execution_count": 163,
   "metadata": {
    "collapsed": false
   },
   "outputs": [
    {
     "name": "stdout",
     "output_type": "stream",
     "text": [
      "deployment \"my-nginx\" scaled\n"
     ]
    }
   ],
   "source": [
    "kubectl scale deployments/my-nginx --replicas=2"
   ]
  },
  {
   "cell_type": "code",
   "execution_count": 164,
   "metadata": {
    "collapsed": false
   },
   "outputs": [
    {
     "name": "stdout",
     "output_type": "stream",
     "text": [
      "NAME                       READY     STATUS    RESTARTS   AGE       IP           NODE\n",
      "my-nginx-379829228-bb8kr   1/1       Running   0          53m       172.17.0.7   minikube\n",
      "my-nginx-379829228-qjtbt   1/1       Running   0          53m       172.17.0.6   minikube\n"
     ]
    }
   ],
   "source": [
    "kubectl get pods -o wide"
   ]
  },
  {
   "cell_type": "code",
   "execution_count": 165,
   "metadata": {
    "collapsed": false
   },
   "outputs": [
    {
     "name": "stdout",
     "output_type": "stream",
     "text": [
      "NAME       DESIRED   CURRENT   UP-TO-DATE   AVAILABLE   AGE\n",
      "my-nginx   2         2         2            2           53m\n"
     ]
    }
   ],
   "source": [
    "kubectl get deploy"
   ]
  },
  {
   "cell_type": "markdown",
   "metadata": {},
   "source": [
    "# 5. Performing a Rolling Update\n",
    "\n",
    "Updating an application\n",
    "Users expect applications to be available all the time and developers are expected to deploy new versions of them several times a day. In Kubernetes this is done with rolling updates. Rolling updates allow Deployments' update to take place with zero downtime by incrementally updating Pods instances with new ones. The new Pods will be scheduled on Nodes with available resources.\n",
    "\n",
    "In the previous module we scaled our application to run multiple instances. This is a requirement for performing updates without affecting application availability. By default, the maximum number of Pods that can be unavailable during the update and the maximum number of new Pods that can be created, is one. Both options can be configured to either numbers or percentages (of Pods). In Kubernetes, updates are versioned and any Deployment update can be reverted to previous (stable) version.\n",
    "\n",
    "Similar to application Scaling, If a Deployment is exposed publicly, the Service will load-balance the traffic only to available Pods during the update. An available Pod is an instance that is available to the users of the application.\n",
    "\n",
    "Rolling updates allow the following actions:\n",
    "\n",
    "- Promote an application from one environment to another (via container image updates)\n",
    "- Rollback to previous versions\n",
    "- Continuous Integration and Continuous Delivery of applications with zero downtime\n"
   ]
  },
  {
   "cell_type": "code",
   "execution_count": 166,
   "metadata": {
    "collapsed": false
   },
   "outputs": [
    {
     "name": "stdout",
     "output_type": "stream",
     "text": [
      "deployment \"kubernetes-bootcamp\" created\n",
      "NAME                  DESIRED   CURRENT   UP-TO-DATE   AVAILABLE   AGE\n",
      "kubernetes-bootcamp   1         1         1            0           0s\n",
      "my-nginx              2         2         2            2           53m\n"
     ]
    }
   ],
   "source": [
    "kubectl run kubernetes-bootcamp --image=docker.io/jocatalin/kubernetes-bootcamp:v1 --port=8080\n",
    "kubectl get deployments"
   ]
  },
  {
   "cell_type": "markdown",
   "metadata": {},
   "source": [
    "Wait until the pod is deployed - may need to download the *kubernetes-bootcamp* image:"
   ]
  },
  {
   "cell_type": "code",
   "execution_count": 167,
   "metadata": {
    "collapsed": false
   },
   "outputs": [
    {
     "name": "stdout",
     "output_type": "stream",
     "text": [
      "NAME                                  READY     STATUS              RESTARTS   AGE\n",
      "kubernetes-bootcamp-390780338-ch32m   0/1       ContainerCreating   0          3s\n",
      "my-nginx-379829228-bb8kr              1/1       Running             0          53m\n",
      "my-nginx-379829228-qjtbt              1/1       Running             0          53m\n"
     ]
    }
   ],
   "source": [
    "kubectl get pods"
   ]
  },
  {
   "cell_type": "code",
   "execution_count": 174,
   "metadata": {
    "collapsed": false
   },
   "outputs": [
    {
     "name": "stdout",
     "output_type": "stream",
     "text": [
      "NAME                                  READY     STATUS    RESTARTS   AGE\n",
      "kubernetes-bootcamp-390780338-ch32m   1/1       Running   0          6m\n",
      "my-nginx-379829228-bb8kr              1/1       Running   0          59m\n",
      "my-nginx-379829228-qjtbt              1/1       Running   0          59m\n"
     ]
    }
   ],
   "source": [
    "kubectl get pods"
   ]
  },
  {
   "cell_type": "markdown",
   "metadata": {},
   "source": [
    "Now we can expose our deployment as a service"
   ]
  },
  {
   "cell_type": "code",
   "execution_count": 181,
   "metadata": {
    "collapsed": false
   },
   "outputs": [
    {
     "name": "stdout",
     "output_type": "stream",
     "text": [
      "Error from server (AlreadyExists): services \"kubernetes-bootcamp\" already exists\n"
     ]
    },
    {
     "ename": "",
     "evalue": "1",
     "output_type": "error",
     "traceback": []
    }
   ],
   "source": [
    "kubectl expose deployment kubernetes-bootcamp --type=NodePort --port=8080"
   ]
  },
  {
   "cell_type": "code",
   "execution_count": 176,
   "metadata": {
    "collapsed": false
   },
   "outputs": [
    {
     "name": "stdout",
     "output_type": "stream",
     "text": [
      "Name:\t\t\tkubernetes-bootcamp\n",
      "Namespace:\t\tdefault\n",
      "Labels:\t\t\trun=kubernetes-bootcamp\n",
      "Selector:\t\trun=kubernetes-bootcamp\n",
      "Type:\t\t\tNodePort\n",
      "IP:\t\t\t10.0.0.159\n",
      "Port:\t\t\t<unset>\t8080/TCP\n",
      "NodePort:\t\t<unset>\t30882/TCP\n",
      "Endpoints:\t\t172.17.0.8:8080\n",
      "Session Affinity:\tNone\n",
      "No events.\n"
     ]
    }
   ],
   "source": [
    "kubectl describe services/kubernetes-bootcamp"
   ]
  },
  {
   "cell_type": "markdown",
   "metadata": {},
   "source": [
    "Let's obtain the NODE_PORT so we can access the new '*bootcamp*' service:"
   ]
  },
  {
   "cell_type": "code",
   "execution_count": 177,
   "metadata": {
    "collapsed": false
   },
   "outputs": [
    {
     "name": "stdout",
     "output_type": "stream",
     "text": [
      "NODE_PORT=30882\n"
     ]
    }
   ],
   "source": [
    "export NODE_PORT=$(kubectl get services/kubernetes-bootcamp -o go-template='{{(index .spec.ports 0).nodePort}}')\n",
    "echo NODE_PORT=$NODE_PORT"
   ]
  },
  {
   "cell_type": "code",
   "execution_count": 178,
   "metadata": {
    "collapsed": false
   },
   "outputs": [
    {
     "name": "stdout",
     "output_type": "stream",
     "text": [
      "Hello Kubernetes bootcamp! | Running on: kubernetes-bootcamp-390780338-ch32m | v=1\n"
     ]
    }
   ],
   "source": [
    "curl $HOST_IP:$NODE_PORT"
   ]
  },
  {
   "cell_type": "markdown",
   "metadata": {},
   "source": [
    "### Perform the rolling update from v1 to v2"
   ]
  },
  {
   "cell_type": "code",
   "execution_count": 179,
   "metadata": {
    "collapsed": false
   },
   "outputs": [
    {
     "name": "stdout",
     "output_type": "stream",
     "text": [
      "deployment \"kubernetes-bootcamp\" image updated\n"
     ]
    }
   ],
   "source": [
    "kubectl set image deployments/kubernetes-bootcamp kubernetes-bootcamp=jocatalin/kubernetes-bootcamp:v2"
   ]
  },
  {
   "cell_type": "code",
   "execution_count": 180,
   "metadata": {
    "collapsed": false
   },
   "outputs": [
    {
     "name": "stdout",
     "output_type": "stream",
     "text": [
      "Waiting for rollout to finish: 0 of 1 updated replicas are available...\n",
      "deployment \"kubernetes-bootcamp\" successfully rolled out\n"
     ]
    }
   ],
   "source": [
    "kubectl rollout status deployments/kubernetes-bootcamp"
   ]
  },
  {
   "cell_type": "markdown",
   "metadata": {},
   "source": [
    "Using '*kubectl describe*' we can see that initially when we created the deployment (1st event below) that version of '*kubernetes-bootcamp*' was scaled to 1.\n",
    "\n",
    "Then when we performed the rollout we see the new version of '*kubernetes-bootcamp*' was scaled to 1 and once this was achieved, the old version was scaled back to 0, disabling the old version."
   ]
  },
  {
   "cell_type": "code",
   "execution_count": 182,
   "metadata": {
    "collapsed": false
   },
   "outputs": [
    {
     "name": "stdout",
     "output_type": "stream",
     "text": [
      "Name:\t\t\tkubernetes-bootcamp\n",
      "Namespace:\t\tdefault\n",
      "CreationTimestamp:\tThu, 26 Jan 2017 22:51:28 +0100\n",
      "Labels:\t\t\trun=kubernetes-bootcamp\n",
      "Selector:\t\trun=kubernetes-bootcamp\n",
      "Replicas:\t\t1 updated | 1 total | 1 available | 0 unavailable\n",
      "StrategyType:\t\tRollingUpdate\n",
      "MinReadySeconds:\t0\n",
      "RollingUpdateStrategy:\t1 max unavailable, 1 max surge\n",
      "Conditions:\n",
      "  Type\t\tStatus\tReason\n",
      "  ----\t\t------\t------\n",
      "  Available \tTrue\tMinimumReplicasAvailable\n",
      "OldReplicaSets:\t<none>\n",
      "NewReplicaSet:\tkubernetes-bootcamp-2100875782 (1/1 replicas created)\n",
      "Events:\n",
      "  FirstSeen\tLastSeen\tCount\tFrom\t\t\t\tSubObjectPath\tType\t\tReason\t\t\tMessage\n",
      "  ---------\t--------\t-----\t----\t\t\t\t-------------\t--------\t------\t\t\t-------\n",
      "  9m\t\t9m\t\t1\t{deployment-controller }\t\t\tNormal\t\tScalingReplicaSet\tScaled up replica set kubernetes-bootcamp-390780338 to 1\n",
      "  2m\t\t2m\t\t1\t{deployment-controller }\t\t\tNormal\t\tScalingReplicaSet\tScaled up replica set kubernetes-bootcamp-2100875782 to 1\n",
      "  2m\t\t2m\t\t1\t{deployment-controller }\t\t\tNormal\t\tScalingReplicaSet\tScaled down replica set kubernetes-bootcamp-390780338 to 0\n"
     ]
    }
   ],
   "source": [
    "kubectl describe deployments/kubernetes-bootcamp"
   ]
  },
  {
   "cell_type": "code",
   "execution_count": 183,
   "metadata": {
    "collapsed": false
   },
   "outputs": [
    {
     "name": "stdout",
     "output_type": "stream",
     "text": [
      "deployment \"kubernetes-bootcamp\" successfully rolled out\n"
     ]
    }
   ],
   "source": [
    "kubectl rollout status deployments/kubernetes-bootcamp"
   ]
  }
 ],
 "metadata": {
  "anaconda-cloud": {},
  "kernelspec": {
   "display_name": "Bash",
   "language": "bash",
   "name": "bash"
  },
  "language_info": {
   "codemirror_mode": "shell",
   "file_extension": ".sh",
   "mimetype": "text/x-sh",
   "name": "bash"
  }
 },
 "nbformat": 4,
 "nbformat_minor": 1
}
