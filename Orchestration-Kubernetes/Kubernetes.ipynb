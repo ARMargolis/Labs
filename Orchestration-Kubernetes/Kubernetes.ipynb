{
 "cells": [
  {
   "cell_type": "markdown",
   "metadata": {
    "slideshow": {
     "slide_type": "slide"
    }
   },
   "source": [
    "<img align=\"left\" src=\"https://avatars1.githubusercontent.com/u/13629408?s=400&v=4\" width=100 />\n",
    "## Kubernetes Tutorial - FOSS Asia, 23 March 2018\n",
    "\n",
    "<center>\n",
    "    <h3>Michael Bright, Developer Advocate @ Containous</h3>\n",
    "    <h3>[Containous](https://containo.us/) - the creators of [Traefik](https://traefik.io/)</h3>\n",
    "\n",
    "<table><tr>\n",
    "    <td bgcolor=\"#ffffff\" color=\"#ffffff\" width=\"18%\" ></td>\n",
    "    <td bgcolor=\"#ffffff\" color=\"#ffffff\" style=\"float:middle\"><img src=\"https://d33wubrfki0l68.cloudfront.net/4ddc6f5d033b47d641c29accc0dd7aae7725bc44/c4240/containous.logo.png\" width=\"150\" /></td>\n",
    "    <td bgcolor=\"#ffffff\" color=\"#ffffff\" width=\"12%\" ></td>\n",
    "    <td bgcolor=\"#ffffff\" color=\"#ffffff\" style=\"float:middle\" ><img src=\"https://d33wubrfki0l68.cloudfront.net/e29410f43273a18d40e1bd6e41641f5afdfc8057/eb7ca/traefik.logo.png\" width=\"100\" style=\"float:left\" /></td>\n",
    "    <td  bgcolor=\"#ffffff\" color=\"#ffffff\" width=\"20%\" ></td>\n",
    "</tr></table>\n",
    "</center>\n",
    "\n",
    "<!--\n",
    "<table><tr>\n",
    "    <td bgcolor=\"#ffffff\" color=\"#ffffff\" width=\"50%\"></td>\n",
    "    <td bgcolor=\"#ffffff\" color=\"#ffffff\" ><img src=\"https://d33wubrfki0l68.cloudfront.net/4ddc6f5d033b47d641c29accc0dd7aae7725bc44/c4240/containous.logo.png\" width=\"200\" style=\"float: middle\" /></td>\n",
    "    <td bgcolor=\"#ffffff\" color=\"#ffffff\" ><img src=\"https://d33wubrfki0l68.cloudfront.net/e29410f43273a18d40e1bd6e41641f5afdfc8057/eb7ca/traefik.logo.png\" width=\"100\" style=\"float: right\" /></td>\n",
    "    <td bgcolor=\"#ffffff\" color=\"#ffffff\" width=\"10%\"></td>\n",
    "</tr></table>\n",
    "-->\n",
    "\n",
    "<table align=\"right\" style='font-family:\"Courier New\", Courier, monospace; font-size:100%; bottom:0px;'>\n",
    "    <tr><td bgcolor=\"#ffffff\" color=\"#ffffff\"></td><td bgcolor=\"#ffffff\" color=\"#ffffff\"> <img src=\"http://www.icon100.com/up/3011/128/Twitter-alt.png\" width=\"40\"> </td><td bgcolor=\"#ffffff\" color=\"#ffffff\" > @containous </td></tr>\n",
    "</table>\n",
    "<table align=\"right\" style='font-family:\"Courier New\", Courier, monospace; font-size:100%; bottom:0px;'>\n",
    "    <tr><td bgcolor=\"#ffffff\" color=\"#ffffff\"></td><td bgcolor=\"#ffffff\" color=\"#ffffff\"> <img src=\"http://www.icon100.com/up/3011/128/Twitter-alt.png\" width=\"40\"> </td><td bgcolor=\"#ffffff\" color=\"#ffffff\" > @traefikproxy </td></tr>\n",
    "</table>\n",
    "<table align=\"right\" style='font-family:\"Courier New\", Courier, monospace; font-size:100%; bottom:0px;'>\n",
    "    <tr><td bgcolor=\"#ffffff\" color=\"#ffffff\"></td><td bgcolor=\"#ffffff\" color=\"#ffffff\"> <img src=\"http://www.icon100.com/up/3011/128/Twitter-alt.png\" width=\"40\"> </td><td bgcolor=\"#ffffff\" color=\"#ffffff\" > @mjbright </td></tr>"
   ]
  },
  {
   "cell_type": "markdown",
   "metadata": {
    "slideshow": {
     "slide_type": "slide"
    }
   },
   "source": [
    "<img align=\"left\" src=\"https://avatars1.githubusercontent.com/u/13629408?s=400&v=4\" width=80 />\n",
    "## Pre-requisites\n",
    "The tutorial is aimed at those new to Kubernetes but familiar with the notion of containers (experience with Docker for example).  You can either:\n",
    "- watch the speaker\n",
    "- follow along (Using your laptop to connect)\n",
    "- run at home (with your own minikube)\n",
    "\n",
    "<br/>\n",
    "<table align=\"right\" style='font-family:\"Courier New\", Courier, monospace; font-size:100%; bottom:0px;'>\n",
    "    <tr><td bgcolor=\"#ffffff\" color=\"#ffffff\"></td><td bgcolor=\"#ffffff\" color=\"#ffffff\"> <img src=\"http://www.icon100.com/up/3011/128/Twitter-alt.png\" width=\"40\"> </td><td bgcolor=\"#ffffff\" color=\"#ffffff\" > @containous </td></tr>\n",
    "</table>"
   ]
  },
  {
   "cell_type": "markdown",
   "metadata": {
    "slideshow": {
     "slide_type": "slide"
    }
   },
   "source": [
    "<img align=\"left\" src=\"https://avatars1.githubusercontent.com/u/13629408?s=400&v=4\" width=100 />\n",
    "# Show of Hands\n",
    "What is your experience with Kubernetes?\n",
    "- I've know about containers, e.g. Docker\n",
    "- I've used Kubernetes a little\n",
    "- I'm familiar\n",
    "- I'm expert\n",
    "\n",
    "<br/>\n",
    "<table align=\"right\" style='font-family:\"Courier New\", Courier, monospace; font-size:100%; bottom:0px;'>\n",
    "    <tr><td bgcolor=\"#ffffff\" color=\"#ffffff\"></td><td bgcolor=\"#ffffff\" color=\"#ffffff\"> <img src=\"http://www.icon100.com/up/3011/128/Twitter-alt.png\" width=\"40\"> </td><td bgcolor=\"#ffffff\" color=\"#ffffff\" > @containous </td></tr>\n",
    "</table>"
   ]
  },
  {
   "cell_type": "markdown",
   "metadata": {
    "slideshow": {
     "slide_type": "slide"
    }
   },
   "source": [
    "\n",
    "<img align=\"left\" src=\"https://avatars1.githubusercontent.com/u/13629408?s=400&v=4\" width=100 />\n",
    "# Contributions\n",
    "Of course this tutorial is open source, and so any community contributions are welcome, either by:\n",
    "- Opening issues on github at [ContainerOrchestration/Labs](https://github.com/ContainerOrchestration/Labs)\n",
    "- Submitting PRs\n",
    "- tweets to @mjbright\n",
    "\n",
    "The source is available at [github.com/ContainerOrchestration](https://github.com/ContainerOrchestration/Labs/Orchestration-Kubernetes)\n",
    "<br/>\n",
    "<table align=\"right\" style='font-family:\"Courier New\", Courier, monospace; font-size:100%; bottom:0px;'>\n",
    "    <tr><td bgcolor=\"#ffffff\" color=\"#ffffff\"></td><td bgcolor=\"#ffffff\" color=\"#ffffff\"> <img src=\"http://www.icon100.com/up/3011/128/Twitter-alt.png\" width=\"40\"> </td><td bgcolor=\"#ffffff\" color=\"#ffffff\" > @containous </td></tr>\n",
    "</table>"
   ]
  },
  {
   "cell_type": "markdown",
   "metadata": {
    "slideshow": {
     "slide_type": "slide"
    }
   },
   "source": [
    "\n",
    "<img align=\"left\" src=\"https://avatars1.githubusercontent.com/u/13629408?s=400&v=4\" width=100 />\n",
    "# Kubernetes Tutorial - Sections\n",
    "- 1.[Kubernetes Concepts](1.Concepts.ipynb)\n",
    "- 2.Basics: [The dashboard UI](2.5.KubernetesDashboard.ipynb), [The kubectl CLI](2.kubectl_basics.ipynb)\n",
    "- 3.[Running pods, deployments](3.pods.ipynb)\n",
    "- 4.Exposing Services: [NodePort](4.services.ipynb), [LoadBalancer](4.services.ipynb#LoadBalancer), [**Traefik** as Ingress Controller](4.5.Traefik.ipynb)\n",
    "- 5.[Maintenance Operations - Rolling Upgrades](5.maintenance.ipynb)\n",
    "- 6.[Tools, e.g. Helm](6.tools.ipynb)\n",
    "- [Resources](9.Resources.ipynb)\n",
    "<br/>\n",
    "<table align=\"right\" style='font-family:\"Courier New\", Courier, monospace; font-size:100%; bottom:0px;'>\n",
    "    <tr><td bgcolor=\"#ffffff\" color=\"#ffffff\"></td><td bgcolor=\"#ffffff\" color=\"#ffffff\"> <img src=\"http://www.icon100.com/up/3011/128/Twitter-alt.png\" width=\"40\"> </td><td bgcolor=\"#ffffff\" color=\"#ffffff\" > @containous </td></tr>\n",
    "</table>"
   ]
  },
  {
   "cell_type": "markdown",
   "metadata": {
    "slideshow": {
     "slide_type": "slide"
    }
   },
   "source": [
    "\n",
    "<img align=\"left\" src=\"https://avatars1.githubusercontent.com/u/13629408?s=400&v=4\" width=100 />\n",
    "# Questions\n",
    "<br/>\n",
    "<center>Any questions before we start?</center>\n",
    "<br/>\n",
    "<table align=\"right\" style='font-family:\"Courier New\", Courier, monospace; font-size:100%; bottom:0px;'>\n",
    "    <tr><td bgcolor=\"#ffffff\" color=\"#ffffff\"></td><td bgcolor=\"#ffffff\" color=\"#ffffff\"> <img src=\"http://www.icon100.com/up/3011/128/Twitter-alt.png\" width=\"40\"> </td><td bgcolor=\"#ffffff\" color=\"#ffffff\" > @containous </td></tr>\n",
    "</table>"
   ]
  },
  {
   "cell_type": "markdown",
   "metadata": {
    "slideshow": {
     "slide_type": "slide"
    }
   },
   "source": [
    "\n",
    "<img align=\"left\" src=\"https://avatars1.githubusercontent.com/u/13629408?s=400&v=4\" width=100 />\n",
    "# Groups\n",
    "<center>\n",
    "    I will distribute cards, and USB keys.\n",
    "<br/><br/>\n",
    "    Take a card to know your <u>Group number</u>, e.g. 13\n",
    "<br/><br/>\n",
    "    Copy your group <u>zip file</u>, e.g. kubelab-v19-G13.zip\n",
    "</center>\n",
    "<br/>\n",
    "<table align=\"right\" style='font-family:\"Courier New\", Courier, monospace; font-size:100%; bottom:0px;'>\n",
    "    <tr><td bgcolor=\"#ffffff\" color=\"#ffffff\"></td><td bgcolor=\"#ffffff\" color=\"#ffffff\"> <img src=\"http://www.icon100.com/up/3011/128/Twitter-alt.png\" width=\"40\"> </td><td bgcolor=\"#ffffff\" color=\"#ffffff\" > @containous </td></tr>\n",
    "</table>"
   ]
  },
  {
   "cell_type": "markdown",
   "metadata": {
    "slideshow": {
     "slide_type": "slide"
    }
   },
   "source": [
    "<img align=\"left\" src=\"https://avatars1.githubusercontent.com/u/13629408?s=400&v=4\" width=80 />\n",
    "### Connecting to your machine\n",
    "#### Under Linux or MacOS:\n",
    "Unzip your zip file, e.g. kubelab-v19-G13.zip for group 13.\n",
    "<br/>Change directory to the created folder, e.g. kubelab-v19-G13\n",
    "<br/>Check that you can connect to your machine using:\n",
    "     ./ssh.sh\n",
    "\n",
    "#### Under Windows: Create a connection using Putty\n",
    "See [Using SSH Keys with Putty on Windows](https://devops.profitbricks.com/tutorials/use-ssh-keys-with-putty-on-windows/#use-existing-public-and-private-keys)\n",
    "<!-- <pre style='font-family:\"Courier New\", Courier, monospace; font-size:100%;' > </pre> --><br/>\n",
    "<table align=\"right\" style='font-family:\"Courier New\", Courier, monospace; font-size:100%; bottom:0px;'>\n",
    "    <tr><td bgcolor=\"#ffffff\" color=\"#ffffff\"></td><td bgcolor=\"#ffffff\" color=\"#ffffff\"> <img src=\"http://www.icon100.com/up/3011/128/Twitter-alt.png\" width=\"40\"> </td><td bgcolor=\"#ffffff\" color=\"#ffffff\" > @containous </td></tr>\n",
    "</table>"
   ]
  },
  {
   "cell_type": "markdown",
   "metadata": {
    "slideshow": {
     "slide_type": "slide"
    }
   },
   "source": [
    "\n",
    "<img align=\"left\" src=\"https://avatars1.githubusercontent.com/u/13629408?s=400&v=4\" width=100 />\n",
    "# Kubernetes Tutorial - Other Setup options\n",
    "\n",
    "Outside of this class you can also run this tutorial\n",
    "<br/><br/>\n",
    "Please refer to [Lab Setup Options](0.SETUP.ipynb) for that\n",
    " \n",
    "<br/>\n",
    "<table align=\"right\" style='font-family:\"Courier New\", Courier, monospace; font-size:100%; bottom:0px;'>\n",
    "    <tr><td bgcolor=\"#ffffff\" color=\"#ffffff\"></td><td bgcolor=\"#ffffff\" color=\"#ffffff\"> <img src=\"http://www.icon100.com/up/3011/128/Twitter-alt.png\" width=\"40\"> </td><td bgcolor=\"#ffffff\" color=\"#ffffff\" > @containous </td></tr>\n",
    "</table>"
   ]
  },
  {
   "cell_type": "markdown",
   "metadata": {
    "slideshow": {
     "slide_type": "slide"
    }
   },
   "source": [
    "<img align=\"left\" src=\"https://avatars1.githubusercontent.com/u/13629408?s=400&v=4\" width=100 />\n",
    "## For more information about\n",
    "<br/>\n",
    "\n",
    "<table style=\"font-family:Arial, Verdana, sans-serif; font-size: 20px;\">\n",
    "<tr>\n",
    "   <td bgcolor=\"#ffffff\" color=\"#ffffff\" style=\"float:left \"><img src=\"https://d33wubrfki0l68.cloudfront.net/e29410f43273a18d40e1bd6e41641f5afdfc8057/eb7ca/traefik.logo.png\" width=\"100\" /></td>\n",
    "    <td bgcolor=\"#ffffff\" color=\"#ffffff\" style='float:middle;font-family:\"Courier New\", Courier, monospace; font-size:100%;' ><b>Traefik</b> see [https://traefik.io](https://traefik.io/)</td>\n",
    "    </tr><tr>\n",
    "    <td bgcolor=\"#ffffff\" color=\"#ffffff\" style='float:middle;font-family:\"Courier New\", Courier, monospace; font-size:100%;' ><img src=\"https://d33wubrfki0l68.cloudfront.net/4ddc6f5d033b47d641c29accc0dd7aae7725bc44/c4240/containous.logo.png\" width=\"100\" style=\"float:left\" /></td>\n",
    "    <td bgcolor=\"#ffffff\" color=\"#ffffff\" style=\"float:left\" ><b>Containous</b>, the creators of Traefik, see [https://containo.us](https://containo.us)</td>\n",
    "  </tr>\n",
    "</table>\n",
    "\n",
    "<br/>\n",
    "\n",
    "<table align=\"right\" style='font-family:\"Courier New\", Courier, monospace; font-size:100%; bottom:0px;'>\n",
    "    <tr><td bgcolor=\"#ffffff\" color=\"#ffffff\"></td><td bgcolor=\"#ffffff\" color=\"#ffffff\"> <img src=\"http://www.icon100.com/up/3011/128/Twitter-alt.png\" width=\"40\"> </td><td bgcolor=\"#ffffff\" color=\"#ffffff\" > @containous </td></tr>\n",
    "</table>\n",
    "<table align=\"right\" style='font-family:\"Courier New\", Courier, monospace; font-size:100%; bottom:0px;'>\n",
    "    <tr><td bgcolor=\"#ffffff\" color=\"#ffffff\"></td><td bgcolor=\"#ffffff\" color=\"#ffffff\"> <img src=\"http://www.icon100.com/up/3011/128/Twitter-alt.png\" width=\"40\"> </td><td bgcolor=\"#ffffff\" color=\"#ffffff\" > @traefikproxy </td></tr>\n",
    "</table>\n"
   ]
  }
 ],
 "metadata": {
  "anaconda-cloud": {},
  "celltoolbar": "Slideshow",
  "kernelspec": {
   "display_name": "Bash",
   "language": "bash",
   "name": "bash"
  },
  "language_info": {
   "codemirror_mode": "shell",
   "file_extension": ".sh",
   "mimetype": "text/x-sh",
   "name": "bash"
  }
 },
 "nbformat": 4,
 "nbformat_minor": 1
}
