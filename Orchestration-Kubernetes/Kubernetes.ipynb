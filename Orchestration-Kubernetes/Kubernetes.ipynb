{
 "cells": [
  {
   "cell_type": "markdown",
   "metadata": {
    "slideshow": {
     "slide_type": "slide"
    }
   },
   "source": [
    "<img align=\"left\" src=\"https://avatars1.githubusercontent.com/u/13629408?s=400&v=4\" width=100 />\n",
    "## Kubernetes Tutorial - FOSS Asia, 23 March 2018\n",
    "\n",
    "<center>\n",
    "    <h3>Michael Bright, Trainer @ mjbright Consulting</h3>\n",
    "\n",
    "<table><tr>\n",
    "    <td bgcolor=\"#ffffff\" color=\"#ffffff\" width=\"18%\" ></td>\n",
    "    \n",
    "    <td bgcolor=\"#ffffff\" color=\"#ffffff\" width=\"12%\" ></td>\n",
    "    \n",
    "    <td  bgcolor=\"#ffffff\" color=\"#ffffff\" width=\"20%\" ></td>\n",
    "</tr></table>\n",
    "</center>\n",
    "\n",
    "<!--\n",
    "<table><tr>\n",
    "    <td bgcolor=\"#ffffff\" color=\"#ffffff\" width=\"50%\"></td>\n",
    "    <td bgcolor=\"#ffffff\" color=\"#ffffff\" width=\"10%\"></td>\n",
    "</tr></table>\n",
    "-->\n",
    "\n",
    "<table align=\"right\" style='font-family:\"Courier New\", Courier, monospace; font-size:100%; bottom:0px;'>\n",
    "    <tr><td bgcolor=\"#ffffff\" color=\"#ffffff\"></td><td bgcolor=\"#ffffff\" color=\"#ffffff\"> <img src=\"http://www.icon100.com/up/3011/128/Twitter-alt.png\" width=\"40\"> </td><td bgcolor=\"#ffffff\" color=\"#ffffff\" > @mjbright </td></tr>"
   ]
  },
  {
   "cell_type": "markdown",
   "metadata": {
    "slideshow": {
     "slide_type": "slide"
    }
   },
   "source": [
    "<img align=\"left\" src=\"https://avatars1.githubusercontent.com/u/13629408?s=400&v=4\" width=80 />\n",
    "## Pre-requisites\n",
    "The tutorial is aimed at those new to Kubernetes but familiar with the notion of containers (experience with Docker for example).  You can either:\n",
    "- watch the speaker\n",
    "- follow along (Using your laptop to connect)\n",
    "- run at home (with your own minikube)\n",
    "\n",
    "<br/>\n"
   ]
  },
  {
   "cell_type": "markdown",
   "metadata": {
    "slideshow": {
     "slide_type": "slide"
    }
   },
   "source": [
    "<img align=\"left\" src=\"https://avatars1.githubusercontent.com/u/13629408?s=400&v=4\" width=100 />\n",
    "# Show of Hands\n",
    "What is your experience with Kubernetes?\n",
    "- I've know about containers, e.g. Docker\n",
    "- I've used Kubernetes a little\n",
    "- I'm familiar\n",
    "- I'm expert\n",
    "\n",
    "<br/>\n"
   ]
  },
  {
   "cell_type": "markdown",
   "metadata": {
    "slideshow": {
     "slide_type": "slide"
    }
   },
   "source": [
    "\n",
    "<img align=\"left\" src=\"https://avatars1.githubusercontent.com/u/13629408?s=400&v=4\" width=100 />\n",
    "# Contributions\n",
    "Of course this tutorial is open source, and so any community contributions are welcome, either by:\n",
    "- Opening issues on github at [ContainerOrchestration/Labs](https://github.com/ContainerOrchestration/Labs)\n",
    "- Submitting PRs\n",
    "- tweets to @mjbright\n",
    "\n",
    "The source is available at [github.com/ContainerOrchestration](https://github.com/ContainerOrchestration/Labs/Orchestration-Kubernetes)\n"
   ]
  },
  {
   "cell_type": "markdown",
   "metadata": {
    "slideshow": {
     "slide_type": "slide"
    }
   },
   "source": [
    "\n",
    "<img align=\"left\" src=\"https://avatars1.githubusercontent.com/u/13629408?s=400&v=4\" width=100 />\n",
    "# Kubernetes Tutorial - Sections\n",
    "- 1.[Kubernetes Concepts](1.Concepts.ipynb)\n",
    "- 2.Basics: [The dashboard UI](2.5.KubernetesDashboard.ipynb), [The kubectl CLI](2.kubectl_basics.ipynb)\n",
    "- 3.[Running pods, deployments](3.pods.ipynb)\n",
    "- 4.Exposing Services: [NodePort](4.services.ipynb), [LoadBalancer](4.services.ipynb#LoadBalancer), [**Traefik** as Ingress Controller](4.5.Traefik.ipynb)\n",
    "- 5.[Maintenance Operations - Rolling Upgrades](5.maintenance.ipynb)\n",
    "- 6.[Tools, e.g. Helm](6.tools.ipynb)\n",
    "- [Resources](9.Resources.ipynb)\n",
    "<br/>\n"
   ]
  },
  {
   "cell_type": "markdown",
   "metadata": {
    "slideshow": {
     "slide_type": "slide"
    }
   },
   "source": [
    "\n",
    "<img align=\"left\" src=\"https://avatars1.githubusercontent.com/u/13629408?s=400&v=4\" width=100 />\n",
    "# Questions\n",
    "<br/>\n",
    "<center>Any questions before we start?</center>\n",
    "<br/>\n"
   ]
  },
  {
   "cell_type": "markdown",
   "metadata": {
    "slideshow": {
     "slide_type": "slide"
    }
   },
   "source": [
    "\n",
    "<img align=\"left\" src=\"https://avatars1.githubusercontent.com/u/13629408?s=400&v=4\" width=100 />\n",
    "# Kubernetes Tutorial - Other Setup options\n",
    "\n",
    "Outside of this class you can also run this tutorial\n",
    "<br/><br/>\n",
    "Please refer to [Lab Setup Options](0.SETUP.ipynb) for that\n",
    " \n"
   ]
  }
 ],
 "metadata": {
  "anaconda-cloud": {},
  "celltoolbar": "Slideshow",
  "kernelspec": {
   "display_name": "Bash",
   "language": "bash",
   "name": "bash"
  },
  "language_info": {
   "codemirror_mode": "shell",
   "file_extension": ".sh",
   "mimetype": "text/x-sh",
   "name": "bash"
  }
 },
 "nbformat": 4,
 "nbformat_minor": 1
}
