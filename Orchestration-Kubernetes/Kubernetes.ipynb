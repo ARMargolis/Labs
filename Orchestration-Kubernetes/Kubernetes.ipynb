{
 "cells": [
  {
   "cell_type": "markdown",
   "metadata": {
    "slideshow": {
     "slide_type": "slide"
    }
   },
   "source": [
    "<img align=\"left\" src=\"https://avatars1.githubusercontent.com/u/13629408?s=400&v=4\" width=100 />\n",
    "\n",
    "## Kubernetes Tutorial - PyParis Nov 2018\n",
    "\n",
    "<br/><br/><br/><br/>\n",
    "<center>\n",
    "    <h4>Michael Bright, Trainer @ mjbright Consulting</h4>\n",
    "</center>\n",
    "\n",
    "\n",
    "<table align=\"right\" style='font-family:\"Courier New\", Courier, monospace; font-size:100%; bottom:0px;'>\n",
    "    <tr><td bgcolor=\"#ffffff\" color=\"#ffffff\"></td><td bgcolor=\"#ffffff\" color=\"#ffffff\"> <img src=\"http://www.icon100.com/up/3011/128/Twitter-alt.png\" width=\"40\"> </td><td bgcolor=\"#ffffff\" color=\"#ffffff\" > @mjbright </td></tr>"
   ]
  },
  {
   "cell_type": "markdown",
   "metadata": {
    "slideshow": {
     "slide_type": "slide"
    }
   },
   "source": [
    "<img align=\"left\" src=\"https://avatars1.githubusercontent.com/u/13629408?s=400&v=4\" width=80 />\n",
    "\n",
    "## Pre-requisites\n",
    "\n",
    "<br/><br/>\n",
    "The tutorial is aimed at those new to Kubernetes but familiar with the notion of containers (experience with Docker for example)."
   ]
  },
  {
   "cell_type": "markdown",
   "metadata": {
    "slideshow": {
     "slide_type": "slide"
    }
   },
   "source": [
    "<img align=\"left\" src=\"https://avatars1.githubusercontent.com/u/13629408?s=400&v=4\" width=80 />\n",
    "\n",
    "## You can:\n",
    "- just watch\n",
    "- follow along (Using your PC to connect to provided cluster)\n",
    "- **on your own** cluster ... (please don't hammer the Wi-Fi)\n",
    "- run at home (with your own minikube, or in the Cloud)\n",
    "\n",
    "**Please don't download** minikube or docker or **startup** your own cluster for the first time ... it'll kill the **Wi-Fi !!**\n",
    "\n",
    "<br/>"
   ]
  },
  {
   "cell_type": "markdown",
   "metadata": {
    "slideshow": {
     "slide_type": "slide"
    }
   },
   "source": [
    "<img align=\"left\" src=\"https://avatars1.githubusercontent.com/u/13629408?s=400&v=4\" width=80 />\n",
    "\n",
    "## SETUP\n",
    "<br/>\n",
    "\n",
    "I need to distribute some credentials, so please sign up as a user here: [https://goo.gl/Qcm6t2](https://goo.gl/Qcm6t2)\n",
    "or I can reserve you a slot.\n",
    "\n",
    "Spreadsheet will be deleted after the session!\n",
    "<br/><br/>\n",
    "\n",
    "### The main notebook (this pres)\n",
    "This notebook is available at [https://bit.ly/2olEOH4](https://bit.ly/2olEOH4)\n",
    "\n",
    "https://github.com/ContainerOrchestration/Labs/blob/master/Orchestration-Kubernetes/Kubernetes.ipynb   \n"
   ]
  },
  {
   "cell_type": "markdown",
   "metadata": {
    "slideshow": {
     "slide_type": "slide"
    }
   },
   "source": [
    "<img align=\"left\" src=\"https://avatars1.githubusercontent.com/u/13629408?s=400&v=4\" width=100 />\n",
    "\n",
    "# Show of Hands\n",
    "What is your experience with Kubernetes?\n",
    "- I've know about containers, e.g. Docker\n",
    "- I've used Kubernetes a little\n",
    "- I'm familiar\n",
    "- I'm expert\n",
    "\n",
    "<br/>\n"
   ]
  },
  {
   "cell_type": "markdown",
   "metadata": {
    "slideshow": {
     "slide_type": "slide"
    }
   },
   "source": [
    "\n",
    "<img align=\"left\" src=\"https://avatars1.githubusercontent.com/u/13629408?s=400&v=4\" width=100 />\n",
    "\n",
    "# Contributions\n",
    "Of course this tutorial is open source, and so any community contributions are welcome, either by:\n",
    "- Opening issues on github at [ContainerOrchestration/Labs](https://github.com/ContainerOrchestration/Labs)\n",
    "- Submitting PRs\n",
    "- tweets to @mjbright\n",
    "\n",
    "The source is available at [github.com/ContainerOrchestration](https://github.com/ContainerOrchestration/Labs/Orchestration-Kubernetes)\n"
   ]
  },
  {
   "cell_type": "markdown",
   "metadata": {
    "slideshow": {
     "slide_type": "slide"
    }
   },
   "source": [
    "\n",
    "<img align=\"left\" src=\"https://avatars1.githubusercontent.com/u/13629408?s=400&v=4\" width=100 />\n",
    "\n",
    "# Kubernetes Tutorial - Sections\n",
    "\n",
    "<br/>\n",
    "I'll run through the concepts first\n",
    "\n",
    "- 1.[Kubernetes Concepts](1.Concepts.ipynb)\n",
    "- 2.Basics: [The dashboard UI](2.5.KubernetesDashboard.ipynb)\n",
    "\n",
    "Then I'll distribute credentials & make sure everyone is ready to go"
   ]
  },
  {
   "cell_type": "markdown",
   "metadata": {
    "slideshow": {
     "slide_type": "slide"
    }
   },
   "source": [
    "\n",
    "<img align=\"left\" src=\"https://avatars1.githubusercontent.com/u/13629408?s=400&v=4\" width=100 />\n",
    "\n",
    "# Kubernetes Tutorial - Sections\n",
    "\n",
    "During the tutorial we will perform some parts from the command-line using the kubectl tool.\n",
    "\n",
    "Those parts are from the ContainerOrchestration/Labs repo\n",
    "\n",
    "The Python parts are from the ContainerOrchestration/kubernetes-client-python repo.\n",
    "\n",
    "\n",
    "We have 2 types of environment: (not planned !)\n",
    "- Azure AKS for users user1, user10 ... user18 \n",
    "- Digital Ocean for users user2 ... user9\n",
    "\n"
   ]
  },
  {
   "cell_type": "markdown",
   "metadata": {
    "slideshow": {
     "slide_type": "slide"
    }
   },
   "source": [
    "\n",
    "<img align=\"left\" src=\"https://avatars1.githubusercontent.com/u/13629408?s=400&v=4\" width=100 />\n",
    "\n",
    "\n",
    "## Environment1 - Azure AKS Cluster\n",
    "\n",
    "There are 10 worker nodes shared equally across 10 user accounts, each with a running Jupyter instance.\n",
    "\n",
    "Users user1, user10 ... user18 will use this cluster.\n",
    "\n",
    "You can connect to your Jupyter environment at the URL given by *kubelab_user<N>.token.url*.\n",
    "    \n",
    "You can use kubectl on your machine using the provided *kubeconfig* file.\n",
    "\n",
    "Pull the latest repos using *./bin/setup.sh* from within the Jupyter environment.\n",
    "\n"
   ]
  },
  {
   "cell_type": "markdown",
   "metadata": {
    "slideshow": {
     "slide_type": "slide"
    }
   },
   "source": [
    "\n",
    "<img align=\"left\" src=\"https://avatars1.githubusercontent.com/u/13629408?s=400&v=4\" width=100 />\n",
    "\n",
    "\n",
    "## Environment2 - DigitalOcean Cluster\n",
    "\n",
    "<br/><br/>\n",
    "There are 1 Master and 5 Worker nodes, shared amongst 8 user accounts which you will use from the command-line\n",
    "\n",
    "(no Python client ... a priori ...).\n",
    "\n",
    "Users user2 ... user9 will use this cluster.\n",
    "\n",
    "\n",
    "\n"
   ]
  },
  {
   "cell_type": "markdown",
   "metadata": {
    "slideshow": {
     "slide_type": "slide"
    }
   },
   "source": [
    "\n",
    "<img align=\"left\" src=\"https://avatars1.githubusercontent.com/u/13629408?s=400&v=4\" width=100 />\n",
    "\n",
    "# Kubernetes Tutorial - Sections\n",
    "- 1.[Kubernetes Concepts](1.Concepts.ipynb)\n",
    "- 2.Basics: [The dashboard UI](2.5.KubernetesDashboard.ipynb), [The kubectl CLI](2.kubectl_basics.ipynb)\n",
    "- 3.[Running pods, deployments](3.pods.ipynb)\n",
    "- 4.Exposing Services: [NodePort](4.services.ipynb), [LoadBalancer](4.services.ipynb#LoadBalancer)\n",
    "- 5.[Maintenance Operations - Rolling Upgrades](5.maintenance.ipynb)\n",
    "- 6.[Tools, e.g. Helm](6.tools.ipynb)\n",
    "- [Resources](9.Resources.ipynb)\n",
    "<br/>\n"
   ]
  },
  {
   "cell_type": "markdown",
   "metadata": {
    "slideshow": {
     "slide_type": "slide"
    }
   },
   "source": [
    "\n",
    "<img align=\"left\" src=\"https://avatars1.githubusercontent.com/u/13629408?s=400&v=4\" width=100 />\n",
    "\n",
    "# Questions\n",
    "\n",
    "<br/><br/><br/>\n",
    "<center>Any questions before we start?</center>\n"
   ]
  },
  {
   "cell_type": "markdown",
   "metadata": {
    "slideshow": {
     "slide_type": "slide"
    }
   },
   "source": [
    "\n",
    "<img align=\"left\" src=\"https://avatars1.githubusercontent.com/u/13629408?s=400&v=4\" width=100 />\n",
    "\n",
    "# Kubernetes Tutorial\n",
    "\n",
    "<br/><br/>\n",
    "## Other Setup options\n",
    "\n",
    "Outside of this class you can also run this tutorial\n",
    "<br/><br/>\n",
    "Please refer to [Lab Setup Options](0.SETUP.ipynb) for that\n",
    " \n"
   ]
  }
 ],
 "metadata": {
  "anaconda-cloud": {},
  "celltoolbar": "Slideshow",
  "kernelspec": {
   "display_name": "MetaKernel Bash",
   "language": "bash",
   "name": "metakernel_bash"
  },
  "language_info": {
   "file_extension": ".sh",
   "help_links": [
    {
     "text": "MetaKernel Magics",
     "url": "https://github.com/calysto/metakernel/blob/master/metakernel/magics/README.md"
    }
   ],
   "mimetype": "text/x-bash",
   "name": "bash"
  }
 },
 "nbformat": 4,
 "nbformat_minor": 1
}
