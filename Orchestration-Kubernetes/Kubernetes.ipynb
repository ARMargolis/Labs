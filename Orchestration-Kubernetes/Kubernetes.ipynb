{
 "cells": [
  {
   "cell_type": "markdown",
   "metadata": {},
   "source": [
    "\n",
    "\n",
    "## Kubernetes Lab\n",
    "\n"
   ]
  },
  {
   "cell_type": "code",
   "execution_count": 1,
   "metadata": {},
   "outputs": [
    {
     "name": "stdout",
     "output_type": "stream",
     "text": [
      "Notebook started at Sat May 13 16:37:15 CEST 2017   [1494686235]\n"
     ]
    }
   ],
   "source": [
    ". ../NB_bash_functions.rc"
   ]
  },
  {
   "cell_type": "code",
   "execution_count": 2,
   "metadata": {
    "collapsed": true
   },
   "outputs": [],
   "source": [
    "cd /home/mjb/MINIKUBE\n",
    "#ls -altr"
   ]
  },
  {
   "cell_type": "code",
   "execution_count": 3,
   "metadata": {
    "collapsed": true
   },
   "outputs": [],
   "source": [
    ". minikube.rc"
   ]
  },
  {
   "cell_type": "code",
   "execution_count": 4,
   "metadata": {},
   "outputs": [
    {
     "name": "stdout",
     "output_type": "stream",
     "text": [
      "/usr/bin/docker\n",
      "Client:\n",
      " Version:      17.04.0-ce\n",
      " API version:  1.28\n",
      " Go version:   go1.7.5\n",
      " Git commit:   4845c56\n",
      " Built:        Mon Apr  3 18:07:42 2017\n",
      " OS/Arch:      linux/amd64\n",
      "\n",
      "Server:\n",
      " Version:      17.04.0-ce\n",
      " API version:  1.28 (minimum version 1.12)\n",
      " Go version:   go1.7.5\n",
      " Git commit:   4845c56\n",
      " Built:        Mon Apr  3 18:07:42 2017\n",
      " OS/Arch:      linux/amd64\n",
      " Experimental: false\n"
     ]
    }
   ],
   "source": [
    "which docker; docker version"
   ]
  },
  {
   "cell_type": "code",
   "execution_count": 5,
   "metadata": {},
   "outputs": [
    {
     "name": "stdout",
     "output_type": "stream",
     "text": [
      "/home/mjb/MINIKUBE/bin/minikube\n",
      "minikube version: v0.19.0\n"
     ]
    }
   ],
   "source": [
    "which minikube; minikube version"
   ]
  },
  {
   "cell_type": "code",
   "execution_count": 6,
   "metadata": {},
   "outputs": [
    {
     "name": "stdout",
     "output_type": "stream",
     "text": [
      "/home/mjb/MINIKUBE/bin/kubectl\n",
      "Client Version: version.Info{Major:\"1\", Minor:\"6\", GitVersion:\"v1.6.2\", GitCommit:\"477efc3cbe6a7effca06bd1452fa356e2201e1ee\", GitTreeState:\"clean\", BuildDate:\"2017-04-19T20:33:11Z\", GoVersion:\"go1.7.5\", Compiler:\"gc\", Platform:\"linux/amd64\"}\n",
      "Server Version: version.Info{Major:\"1\", Minor:\"6\", GitVersion:\"v1.6.0\", GitCommit:\"fff5156092b56e6bd60fff75aad4dc9de6b6ef37\", GitTreeState:\"clean\", BuildDate:\"2017-05-09T23:22:45Z\", GoVersion:\"go1.7.3\", Compiler:\"gc\", Platform:\"linux/amd64\"}\n"
     ]
    }
   ],
   "source": [
    "which kubectl; kubectl version"
   ]
  },
  {
   "cell_type": "code",
   "execution_count": 7,
   "metadata": {},
   "outputs": [
    {
     "name": "stdout",
     "output_type": "stream",
     "text": [
      "minikubeVM: Running\n",
      "localkube: Running\n"
     ]
    }
   ],
   "source": [
    "minikube status"
   ]
  },
  {
   "cell_type": "code",
   "execution_count": 8,
   "metadata": {},
   "outputs": [
    {
     "name": "stdout",
     "output_type": "stream",
     "text": [
      "Deleting local Kubernetes cluster...\n",
      "Machine deleted.\n"
     ]
    }
   ],
   "source": [
    "minikube delete"
   ]
  },
  {
   "cell_type": "code",
   "execution_count": 9,
   "metadata": {
    "collapsed": true,
    "scrolled": true
   },
   "outputs": [],
   "source": [
    "#. minikube.rc"
   ]
  },
  {
   "cell_type": "markdown",
   "metadata": {},
   "source": [
    "# 0. Kubernetes Cluster Creation\n",
    "\n",
    "Using the minikube tool we can create a single-node Kubernetes cluster.\n",
    "\n",
    "The cluster runs within a VirtualBox VM running the boot2docker.iso image.\n",
    "\n",
    "To use this cluster we need just 3 executables:\n",
    "- minikube itself\n",
    "- the docker client\n",
    "- the kubectl client"
   ]
  },
  {
   "cell_type": "code",
   "execution_count": 10,
   "metadata": {},
   "outputs": [
    {
     "name": "stdout",
     "output_type": "stream",
     "text": [
      "/home/mjb/MINIKUBE/bin/minikube\n",
      "/usr/bin/docker\n",
      "/home/mjb/MINIKUBE/bin/kubectl\n",
      "lrwxrwxrwx 1 mjb mjb 47 May 11 18:32 \u001b[0m\u001b[01;36m/home/mjb/MINIKUBE/bin/minikube\u001b[0m -> \u001b[01;32m/home/mjb/MINIKUBE/minikube-v0.19.0-linux-amd64\u001b[0m\u001b[K\n"
     ]
    }
   ],
   "source": [
    "which minikube; which docker; which kubectl\n",
    "ls -altrh $(which minikube)"
   ]
  },
  {
   "cell_type": "code",
   "execution_count": 11,
   "metadata": {},
   "outputs": [
    {
     "name": "stdout",
     "output_type": "stream",
     "text": [
      "Client:\n",
      " Version:      17.04.0-ce\n",
      " API version:  1.28\n",
      " Go version:   go1.7.5\n",
      " Git commit:   4845c56\n",
      " Built:        Mon Apr  3 18:07:42 2017\n",
      " OS/Arch:      linux/amd64\n",
      "\n",
      "Server:\n",
      " Version:      17.04.0-ce\n",
      " API version:  1.28 (minimum version 1.12)\n",
      " Go version:   go1.7.5\n",
      " Git commit:   4845c56\n",
      " Built:        Mon Apr  3 18:07:42 2017\n",
      " OS/Arch:      linux/amd64\n",
      " Experimental: false\n",
      "minikube version: v0.19.0\n"
     ]
    }
   ],
   "source": [
    "docker version; minikube version"
   ]
  },
  {
   "cell_type": "markdown",
   "metadata": {},
   "source": [
    "minikube should not be already running:"
   ]
  },
  {
   "cell_type": "code",
   "execution_count": 12,
   "metadata": {},
   "outputs": [
    {
     "name": "stdout",
     "output_type": "stream",
     "text": [
      "minikubeVM: Does Not Exist\n",
      "localkube: N/A\n"
     ]
    }
   ],
   "source": [
    "minikube status"
   ]
  },
  {
   "cell_type": "code",
   "execution_count": 13,
   "metadata": {},
   "outputs": [
    {
     "name": "stdout",
     "output_type": "stream",
     "text": [
      "Starting local Kubernetes v1.6.0 cluster...\n",
      "Starting VM...\n",
      "SSH-ing files into VM...\n",
      "Setting up certs...\n",
      "Starting cluster components...\n",
      "Connecting to cluster...\n",
      "Setting up kubeconfig...\n",
      "Kubectl is now configured to use the cluster.\n",
      "\n",
      "real\t2m2.643s\n",
      "user\t0m19.708s\n",
      "sys\t0m38.300s\n",
      "Client Version: version.Info{Major:\"1\", Minor:\"6\", GitVersion:\"v1.6.2\", GitCommit:\"477efc3cbe6a7effca06bd1452fa356e2201e1ee\", GitTreeState:\"clean\", BuildDate:\"2017-04-19T20:33:11Z\", GoVersion:\"go1.7.5\", Compiler:\"gc\", Platform:\"linux/amd64\"}\n",
      "Server Version: version.Info{Major:\"1\", Minor:\"6\", GitVersion:\"v1.6.0\", GitCommit:\"fff5156092b56e6bd60fff75aad4dc9de6b6ef37\", GitTreeState:\"clean\", BuildDate:\"2017-05-09T23:22:45Z\", GoVersion:\"go1.7.3\", Compiler:\"gc\", Platform:\"linux/amd64\"}\n"
     ]
    }
   ],
   "source": [
    "time minikube start\n",
    "\n",
    "kubectl version"
   ]
  },
  {
   "cell_type": "markdown",
   "metadata": {},
   "source": [
    "Once the cluster is started we can obtain the environment variables needed to allow our docker client to communicate with the cluster."
   ]
  },
  {
   "cell_type": "code",
   "execution_count": 14,
   "metadata": {},
   "outputs": [
    {
     "name": "stdout",
     "output_type": "stream",
     "text": [
      "export DOCKER_TLS_VERIFY=\"1\"\n",
      "export DOCKER_HOST=\"tcp://192.168.99.100:2376\"\n",
      "export DOCKER_CERT_PATH=\"/home/mjb/.minikube/certs\"\n",
      "export DOCKER_API_VERSION=\"1.23\"\n",
      "# Run this command to configure your shell:\n",
      "# eval $(minikube docker-env)\n"
     ]
    }
   ],
   "source": [
    "minikube docker-env"
   ]
  },
  {
   "cell_type": "code",
   "execution_count": 15,
   "metadata": {
    "collapsed": true
   },
   "outputs": [],
   "source": [
    "eval $(minikube docker-env)"
   ]
  },
  {
   "cell_type": "markdown",
   "metadata": {},
   "source": [
    "Running ```docker ps``` we can see the containers used to implement the cluster.\n",
    "\n",
    "It may take a minute or so for all 4 containers to be running:"
   ]
  },
  {
   "cell_type": "code",
   "execution_count": 16,
   "metadata": {},
   "outputs": [
    {
     "name": "stdout",
     "output_type": "stream",
     "text": [
      "CONTAINER ID        IMAGE               COMMAND             CREATED             STATUS              PORTS               NAMES\n"
     ]
    }
   ],
   "source": [
    "docker ps "
   ]
  },
  {
   "cell_type": "markdown",
   "metadata": {},
   "source": [
    "We can also connect to the node (VM) on which the cluster is running by using the command\n",
    "\n",
    "```minikube ssh```"
   ]
  },
  {
   "cell_type": "code",
   "execution_count": 17,
   "metadata": {},
   "outputs": [
    {
     "name": "stdout",
     "output_type": "stream",
     "text": [
      " 14:39:30 up 1 min,  0 users,  load average: 2.00, 0.73, 0.26\n"
     ]
    }
   ],
   "source": [
    "minikube ssh uptime"
   ]
  },
  {
   "cell_type": "code",
   "execution_count": 18,
   "metadata": {},
   "outputs": [
    {
     "name": "stdout",
     "output_type": "stream",
     "text": [
      "minikube\n"
     ]
    }
   ],
   "source": [
    "minikube ssh hostname"
   ]
  },
  {
   "cell_type": "markdown",
   "metadata": {},
   "source": [
    "Let's first cleanup any Pods, Services, Deployments whch may be running\n",
    "\n",
    "(there should be none if we just started the cluster)."
   ]
  },
  {
   "cell_type": "code",
   "execution_count": 19,
   "metadata": {},
   "outputs": [],
   "source": [
    "#bash -x ./cleanup.sh"
   ]
  },
  {
   "cell_type": "code",
   "execution_count": 20,
   "metadata": {},
   "outputs": [
    {
     "name": "stdout",
     "output_type": "stream",
     "text": [
      "NAME       STATUS     AGE       VERSION\n",
      "minikube   NotReady   0s        v1.6.0\n"
     ]
    }
   ],
   "source": [
    "kubectl get nodes"
   ]
  },
  {
   "cell_type": "code",
   "execution_count": 21,
   "metadata": {},
   "outputs": [
    {
     "name": "stdout",
     "output_type": "stream",
     "text": [
      "No resources found.\n"
     ]
    }
   ],
   "source": [
    "kubectl get pods"
   ]
  },
  {
   "cell_type": "code",
   "execution_count": 22,
   "metadata": {},
   "outputs": [
    {
     "name": "stdout",
     "output_type": "stream",
     "text": [
      "NAME         CLUSTER-IP   EXTERNAL-IP   PORT(S)   AGE\n",
      "kubernetes   10.0.0.1     <none>        443/TCP   8s\n"
     ]
    }
   ],
   "source": [
    "kubectl get service"
   ]
  },
  {
   "cell_type": "code",
   "execution_count": 23,
   "metadata": {},
   "outputs": [
    {
     "name": "stdout",
     "output_type": "stream",
     "text": [
      "No resources found.\n"
     ]
    }
   ],
   "source": [
    "kubectl get deployments"
   ]
  },
  {
   "cell_type": "markdown",
   "metadata": {},
   "source": [
    "# Demo start\n",
    "\n",
    "# 1. Creating a Cluster with minikube\n",
    "\n",
    "The minikube executable is a tool created by the kubernetes project for performing demos/tutorials of a single-node kubernetes cluster."
   ]
  },
  {
   "cell_type": "markdown",
   "metadata": {},
   "source": [
    "# kubectl\n",
    "\n",
    "kubectl is the kubernetes tool used for managing a cluster from the command-line.\n",
    "It is based on the kubernetes API.\n",
    "\n",
    "kubectl commands are of the form:\n",
    "\n",
    "    kubectl <verb> <noun>\n",
    "    \n",
    "e.g.\n",
    "\n",
    "    kubectl get nodes\n",
    "\n",
    "to see what nodes exist in the cluster."
   ]
  },
  {
   "cell_type": "code",
   "execution_count": 24,
   "metadata": {},
   "outputs": [
    {
     "name": "stdout",
     "output_type": "stream",
     "text": [
      "NAME       STATUS     AGE       VERSION\n",
      "minikube   NotReady   2s        v1.6.0\n"
     ]
    }
   ],
   "source": [
    "kubectl get nodes"
   ]
  },
  {
   "cell_type": "markdown",
   "metadata": {},
   "source": [
    "Note that abbreviations exist, e.g. no for nodes"
   ]
  },
  {
   "cell_type": "markdown",
   "metadata": {},
   "source": [
    "## 1. kubectl commands\n",
    "\n",
    "We can get a list of available kubectl commands (verbs) just by typing kubectl"
   ]
  },
  {
   "cell_type": "code",
   "execution_count": 25,
   "metadata": {},
   "outputs": [
    {
     "name": "stdout",
     "output_type": "stream",
     "text": [
      "kubectl controls the Kubernetes cluster manager. \n",
      "\n",
      "Find more information at https://github.com/kubernetes/kubernetes.\n",
      "\n",
      "Basic Commands (Beginner):\n",
      "  create         Create a resource by filename or stdin\n",
      "  expose         Take a replication controller, service, deployment or pod and\n",
      "expose it as a new Kubernetes Service\n",
      "  run            Run a particular image on the cluster\n",
      "  set            Set specific features on objects\n",
      "\n",
      "Basic Commands (Intermediate):\n",
      "  get            Display one or many resources\n",
      "  explain        Documentation of resources\n",
      "  edit           Edit a resource on the server\n",
      "  delete         Delete resources by filenames, stdin, resources and names, or\n",
      "by resources and label selector\n",
      "\n",
      "Deploy Commands:\n",
      "  rollout        Manage a deployment rollout\n",
      "  rolling-update Perform a rolling update of the given ReplicationController\n",
      "  scale          Set a new size for a Deployment, ReplicaSet, Replication\n",
      "Controller, or Job\n",
      "  autoscale      Auto-scale a Deployment, ReplicaSet, or ReplicationController\n",
      "\n",
      "Cluster Management Commands:\n",
      "  certificate    Modify certificate resources.\n",
      "  cluster-info   Display cluster info\n",
      "  top            Display Resource (CPU/Memory/Storage) usage.\n",
      "  cordon         Mark node as unschedulable\n",
      "  uncordon       Mark node as schedulable\n",
      "  drain          Drain node in preparation for maintenance\n",
      "  taint          Update the taints on one or more nodes\n",
      "\n",
      "Troubleshooting and Debugging Commands:\n",
      "  describe       Show details of a specific resource or group of resources\n",
      "  logs           Print the logs for a container in a pod\n",
      "  attach         Attach to a running container\n",
      "  exec           Execute a command in a container\n",
      "  port-forward   Forward one or more local ports to a pod\n",
      "  proxy          Run a proxy to the Kubernetes API server\n",
      "  cp             Copy files and directories to and from containers.\n",
      "  auth           Inspect authorization\n",
      "\n",
      "Advanced Commands:\n",
      "  apply          Apply a configuration to a resource by filename or stdin\n",
      "  patch          Update field(s) of a resource using strategic merge patch\n",
      "  replace        Replace a resource by filename or stdin\n",
      "  convert        Convert config files between different API versions\n",
      "\n",
      "Settings Commands:\n",
      "  label          Update the labels on a resource\n",
      "  annotate       Update the annotations on a resource\n",
      "  completion     Output shell completion code for the specified shell (bash or\n",
      "zsh)\n",
      "\n",
      "Other Commands:\n",
      "  api-versions   Print the supported API versions on the server, in the form of\n",
      "\"group/version\"\n",
      "  config         Modify kubeconfig files\n",
      "  help           Help about any command\n",
      "  version        Print the client and server version information\n",
      "\n",
      "Use \"kubectl <command> --help\" for more information about a given command.\n",
      "Use \"kubectl options\" for a list of global command-line options (applies to all\n",
      "commands).\n"
     ]
    }
   ],
   "source": [
    "kubectl"
   ]
  },
  {
   "cell_type": "markdown",
   "metadata": {},
   "source": [
    "Similarly we can get a list of subcommands (nouns) to which they can be applied.\n",
    "\n",
    "```kubectl get```\n",
    "\n",
    "will show us what items we can 'get':"
   ]
  },
  {
   "cell_type": "code",
   "execution_count": 26,
   "metadata": {},
   "outputs": [
    {
     "name": "stdout",
     "output_type": "stream",
     "text": [
      "You must specify the type of resource to get. Valid resource types include:\n",
      "\n",
      "    * all\n",
      "    * certificatesigningrequests (aka 'csr')\n",
      "    * clusters (valid only for federation apiservers)\n",
      "    * clusterrolebindings\n",
      "    * clusterroles\n",
      "    * componentstatuses (aka 'cs')\n",
      "    * configmaps (aka 'cm')\n",
      "    * daemonsets (aka 'ds')\n",
      "    * deployments (aka 'deploy')\n",
      "    * endpoints (aka 'ep')\n",
      "    * events (aka 'ev')\n",
      "    * horizontalpodautoscalers (aka 'hpa')\n",
      "    * ingresses (aka 'ing')\n",
      "    * jobs\n",
      "    * limitranges (aka 'limits')\n",
      "    * namespaces (aka 'ns')\n",
      "    * networkpolicies\n",
      "    * nodes (aka 'no')\n",
      "    * persistentvolumeclaims (aka 'pvc')\n",
      "    * persistentvolumes (aka 'pv')\n",
      "    * pods (aka 'po')\n",
      "    * poddisruptionbudgets (aka 'pdb')\n",
      "    * podsecuritypolicies (aka 'psp')\n",
      "    * podtemplates\n",
      "    * replicasets (aka 'rs')\n",
      "    * replicationcontrollers (aka 'rc')\n",
      "    * resourcequotas (aka 'quota')\n",
      "    * rolebindings\n",
      "    * roles\n",
      "    * secrets\n",
      "    * serviceaccounts (aka 'sa')\n",
      "    * services (aka 'svc')\n",
      "    * statefulsets\n",
      "    * storageclasses\n",
      "    * thirdpartyresources\n",
      "    error: Required resource not specified.\n",
      "Use \"kubectl explain <resource>\" for a detailed description of that resource (e.g. kubectl explain pods).\n",
      "See 'kubectl get -h' for help and examples.\n"
     ]
    }
   ],
   "source": [
    "kubectl get\n",
    "\n",
    "NB_continue"
   ]
  },
  {
   "cell_type": "code",
   "execution_count": 27,
   "metadata": {},
   "outputs": [
    {
     "name": "stdout",
     "output_type": "stream",
     "text": [
      "You must specify the type of resource to describe. Valid resource types include:\n",
      "\n",
      "    * all\n",
      "    * certificatesigningrequests (aka 'csr')\n",
      "    * clusters (valid only for federation apiservers)\n",
      "    * clusterrolebindings\n",
      "    * clusterroles\n",
      "    * componentstatuses (aka 'cs')\n",
      "    * configmaps (aka 'cm')\n",
      "    * daemonsets (aka 'ds')\n",
      "    * deployments (aka 'deploy')\n",
      "    * endpoints (aka 'ep')\n",
      "    * events (aka 'ev')\n",
      "    * horizontalpodautoscalers (aka 'hpa')\n",
      "    * ingresses (aka 'ing')\n",
      "    * jobs\n",
      "    * limitranges (aka 'limits')\n",
      "    * namespaces (aka 'ns')\n",
      "    * networkpolicies\n",
      "    * nodes (aka 'no')\n",
      "    * persistentvolumeclaims (aka 'pvc')\n",
      "    * persistentvolumes (aka 'pv')\n",
      "    * pods (aka 'po')\n",
      "    * poddisruptionbudgets (aka 'pdb')\n",
      "    * podsecuritypolicies (aka 'psp')\n",
      "    * podtemplates\n",
      "    * replicasets (aka 'rs')\n",
      "    * replicationcontrollers (aka 'rc')\n",
      "    * resourcequotas (aka 'quota')\n",
      "    * rolebindings\n",
      "    * roles\n",
      "    * secrets\n",
      "    * serviceaccounts (aka 'sa')\n",
      "    * services (aka 'svc')\n",
      "    * statefulsets\n",
      "    * storageclasses\n",
      "    * thirdpartyresources\n",
      "    error: Required resource not specified.\n",
      "See 'kubectl describe -h' for help and examples.\n"
     ]
    }
   ],
   "source": [
    "kubectl describe\n",
    "\n",
    "NB_continue"
   ]
  },
  {
   "cell_type": "code",
   "execution_count": 28,
   "metadata": {},
   "outputs": [
    {
     "name": "stdout",
     "output_type": "stream",
     "text": [
      "NAME       STATUS     AGE       VERSION\n",
      "minikube   NotReady   4s        v1.6.0\n"
     ]
    }
   ],
   "source": [
    "kubectl get nodes"
   ]
  },
  {
   "cell_type": "code",
   "execution_count": 29,
   "metadata": {},
   "outputs": [
    {
     "name": "stdout",
     "output_type": "stream",
     "text": [
      "Name:\t\t\tminikube\n",
      "Role:\t\t\t\n",
      "Labels:\t\t\tbeta.kubernetes.io/arch=amd64\n",
      "\t\t\tbeta.kubernetes.io/os=linux\n",
      "\t\t\tkubernetes.io/hostname=minikube\n",
      "Annotations:\t\tnode.alpha.kubernetes.io/ttl=0\n",
      "\t\t\tvolumes.kubernetes.io/controller-managed-attach-detach=true\n",
      "Taints:\t\t\t<none>\n",
      "CreationTimestamp:\tSat, 13 May 2017 16:39:32 +0200\n",
      "Phase:\t\t\t\n",
      "Conditions:\n",
      "  Type\t\t\tStatus\tLastHeartbeatTime\t\t\tLastTransitionTime\t\t\tReason\t\t\t\tMessage\n",
      "  ----\t\t\t------\t-----------------\t\t\t------------------\t\t\t------\t\t\t\t-------\n",
      "  OutOfDisk \t\tFalse \tSat, 13 May 2017 16:39:32 +0200 \tSat, 13 May 2017 16:39:32 +0200 \tKubeletHasSufficientDisk \tkubelet has sufficient disk space available\n",
      "  MemoryPressure \tFalse \tSat, 13 May 2017 16:39:32 +0200 \tSat, 13 May 2017 16:39:32 +0200 \tKubeletHasSufficientMemory \tkubelet has sufficient memory available\n",
      "  DiskPressure \t\tFalse \tSat, 13 May 2017 16:39:32 +0200 \tSat, 13 May 2017 16:39:32 +0200 \tKubeletHasNoDiskPressure \tkubelet has no disk pressure\n",
      "  Ready \t\tFalse \tSat, 13 May 2017 16:39:32 +0200 \tSat, 13 May 2017 16:39:32 +0200 \tKubeletNotReady \t\tcontainer runtime is down\n",
      "Addresses:\t\t192.168.99.100,192.168.99.100,minikube\n",
      "Capacity:\n",
      " cpu:\t\t2\n",
      " memory:\t2048484Ki\n",
      " pods:\t\t110\n",
      "Allocatable:\n",
      " cpu:\t\t2\n",
      " memory:\t1946084Ki\n",
      " pods:\t\t110\n",
      "System Info:\n",
      " Machine ID:\t\t\tebad33cdf0b340368a2e17bf84957f7b\n",
      " System UUID:\t\t\t84790301-A876-43E7-8483-E2B82F33D0CB\n",
      " Boot ID:\t\t\tcc2c30fb-d2af-4d37-9308-6c39e4298d2f\n",
      " Kernel Version:\t\t4.7.2\n",
      " OS Image:\t\t\tBuildroot 2016.08\n",
      " Operating System:\t\tlinux\n",
      " Architecture:\t\t\tamd64\n",
      " Container Runtime Version:\tdocker://1.11.1\n",
      " Kubelet Version:\t\tv1.6.0\n",
      " Kube-Proxy Version:\t\tv1.6.0\n",
      "ExternalID:\t\t\tminikube\n",
      "Non-terminated Pods:\t\t(1 in total)\n",
      "  Namespace\t\t\tName\t\t\t\t\tCPU Requests\tCPU Limits\tMemory Requests\tMemory Limits\n",
      "  ---------\t\t\t----\t\t\t\t\t------------\t----------\t---------------\t-------------\n",
      "  kube-system\t\t\tkube-addon-manager-minikube\t\t5m (0%)\t\t0 (0%)\t\t50Mi (2%)\t0 (0%)\n",
      "Allocated resources:\n",
      "  (Total limits may be over 100 percent, i.e., overcommitted.)\n",
      "  CPU Requests\tCPU Limits\tMemory Requests\tMemory Limits\n",
      "  ------------\t----------\t---------------\t-------------\n",
      "  5m (0%)\t0 (0%)\t\t50Mi (2%)\t0 (0%)\n",
      "Events:\n",
      "  FirstSeen\tLastSeen\tCount\tFrom\t\t\tSubObjectPath\tType\t\tReason\t\t\tMessage\n",
      "  ---------\t--------\t-----\t----\t\t\t-------------\t--------\t------\t\t\t-------\n",
      "  6s\t\t6s\t\t1\tkube-proxy, minikube\t\t\tNormal\t\tStarting\t\tStarting kube-proxy.\n",
      "  4s\t\t4s\t\t1\tkubelet, minikube\t\t\tNormal\t\tStarting\t\tStarting kubelet.\n",
      "  4s\t\t4s\t\t1\tkubelet, minikube\t\t\tWarning\t\tImageGCFailed\t\tunable to find data for container /\n",
      "  4s\t\t4s\t\t2\tkubelet, minikube\t\t\tNormal\t\tNodeHasSufficientDisk\tNode minikube status is now: NodeHasSufficientDisk\n",
      "  4s\t\t4s\t\t2\tkubelet, minikube\t\t\tNormal\t\tNodeHasSufficientMemory\tNode minikube status is now: NodeHasSufficientMemory\n",
      "  4s\t\t4s\t\t2\tkubelet, minikube\t\t\tNormal\t\tNodeHasNoDiskPressure\tNode minikube status is now: NodeHasNoDiskPressure\n"
     ]
    }
   ],
   "source": [
    "kubectl describe nodes"
   ]
  },
  {
   "cell_type": "code",
   "execution_count": 30,
   "metadata": {},
   "outputs": [
    {
     "name": "stdout",
     "output_type": "stream",
     "text": [
      "No resources found.\n"
     ]
    }
   ],
   "source": [
    "kubectl get pods"
   ]
  },
  {
   "cell_type": "code",
   "execution_count": 31,
   "metadata": {
    "collapsed": true
   },
   "outputs": [],
   "source": [
    "kubectl describe pods"
   ]
  },
  {
   "cell_type": "markdown",
   "metadata": {},
   "source": [
    "We can get detailed help on the \"get\" command:"
   ]
  },
  {
   "cell_type": "code",
   "execution_count": 32,
   "metadata": {},
   "outputs": [
    {
     "name": "stdout",
     "output_type": "stream",
     "text": [
      "Display one or many resources. \n",
      "\n",
      "Valid resource types include: \n",
      "\n",
      "  * all  \n",
      "  * certificatesigningrequests (aka 'csr')  \n",
      "  * clusters (valid only for federation apiservers)  \n",
      "  * clusterrolebindings  \n",
      "  * clusterroles  \n",
      "  * componentstatuses (aka 'cs')  \n",
      "  * configmaps (aka 'cm')  \n",
      "  * daemonsets (aka 'ds')  \n",
      "  * deployments (aka 'deploy')  \n",
      "  * endpoints (aka 'ep')  \n",
      "  * events (aka 'ev')  \n",
      "  * horizontalpodautoscalers (aka 'hpa')  \n",
      "  * ingresses (aka 'ing')  \n",
      "  * jobs  \n",
      "  * limitranges (aka 'limits')  \n",
      "  * namespaces (aka 'ns')  \n",
      "  * networkpolicies  \n",
      "  * nodes (aka 'no')  \n",
      "  * persistentvolumeclaims (aka 'pvc')  \n",
      "  * persistentvolumes (aka 'pv')  \n",
      "  * pods (aka 'po')  \n",
      "  * poddisruptionbudgets (aka 'pdb')  \n",
      "  * podsecuritypolicies (aka 'psp')  \n",
      "  * podtemplates  \n",
      "  * replicasets (aka 'rs')  \n",
      "  * replicationcontrollers (aka 'rc')  \n",
      "  * resourcequotas (aka 'quota')  \n",
      "  * rolebindings  \n",
      "  * roles  \n",
      "  * secrets  \n",
      "  * serviceaccounts (aka 'sa')  \n",
      "  * services (aka 'svc')  \n",
      "  * statefulsets  \n",
      "  * storageclasses  \n",
      "  * thirdpartyresources  \n",
      "\n",
      "This command will hide resources that have completed, such as pods that are in\n",
      "the Succeeded or Failed phases. You can see the full results for any resource by\n",
      "providing the '--show-all' flag. \n",
      "\n",
      "By specifying the output as 'template' and providing a Go template as the value\n",
      "of the --template flag, you can filter the attributes of the fetched resources.\n",
      "\n",
      "Examples:\n",
      "  # List all pods in ps output format.\n",
      "  kubectl get pods\n",
      "  \n",
      "  # List all pods in ps output format with more information (such as node name).\n",
      "  kubectl get pods -o wide\n",
      "  \n",
      "  # List a single replication controller with specified NAME in ps output\n",
      "format.\n",
      "  kubectl get replicationcontroller web\n",
      "  \n",
      "  # List a single pod in JSON output format.\n",
      "  kubectl get -o json pod web-pod-13je7\n",
      "  \n",
      "  # List a pod identified by type and name specified in \"pod.yaml\" in JSON\n",
      "output format.\n",
      "  kubectl get -f pod.yaml -o json\n",
      "  \n",
      "  # Return only the phase value of the specified pod.\n",
      "  kubectl get -o template pod/web-pod-13je7 --template={{.status.phase}}\n",
      "  \n",
      "  # List all replication controllers and services together in ps output format.\n",
      "  kubectl get rc,services\n",
      "  \n",
      "  # List one or more resources by their type and names.\n",
      "  kubectl get rc/web service/frontend pods/web-pod-13je7\n",
      "  \n",
      "  # List all resources with different types.\n",
      "  kubectl get all\n",
      "\n",
      "Options:\n",
      "      --all-namespaces=false: If present, list the requested object(s) across\n",
      "all namespaces. Namespace in current context is ignored even if specified with\n",
      "--namespace.\n",
      "      --allow-missing-template-keys=true: If true, ignore any errors in\n",
      "templates when a field or map key is missing in the template. Only applies to\n",
      "golang and jsonpath output formats.\n",
      "      --export=false: If true, use 'export' for the resources.  Exported\n",
      "resources are stripped of cluster-specific information.\n",
      "  -f, --filename=[]: Filename, directory, or URL to files identifying the\n",
      "resource to get from a server.\n",
      "      --ignore-not-found=false: Treat \"resource not found\" as a successful\n",
      "retrieval.\n",
      "      --include-extended-apis=true: If true, include definitions of new APIs via\n",
      "calls to the API server. [default true]\n",
      "  -L, --label-columns=[]: Accepts a comma separated list of labels that are\n",
      "going to be presented as columns. Names are case-sensitive. You can also use\n",
      "multiple flag options like -L label1 -L label2...\n",
      "      --no-headers=false: When using the default or custom-column output format,\n",
      "don't print headers (default print headers).\n",
      "  -o, --output='': Output format. One of:\n",
      "json|yaml|wide|name|custom-columns=...|custom-columns-file=...|go-template=...|go-template-file=...|jsonpath=...|jsonpath-file=...\n",
      "See custom columns\n",
      "[http://kubernetes.io/docs/user-guide/kubectl-overview/#custom-columns], golang\n",
      "template [http://golang.org/pkg/text/template/#pkg-overview] and jsonpath\n",
      "template [http://kubernetes.io/docs/user-guide/jsonpath].\n",
      "      --raw='': Raw URI to request from the server.  Uses the transport\n",
      "specified by the kubeconfig file.\n",
      "  -R, --recursive=false: Process the directory used in -f, --filename\n",
      "recursively. Useful when you want to manage related manifests organized within\n",
      "the same directory.\n",
      "  -l, --selector='': Selector (label query) to filter on, supports '=', '==',\n",
      "and '!='.\n",
      "  -a, --show-all=false: When printing, show all resources (default hide\n",
      "terminated pods.)\n",
      "      --show-kind=false: If present, list the resource type for the requested\n",
      "object(s).\n",
      "      --show-labels=false: When printing, show all labels as the last column\n",
      "(default hide labels column)\n",
      "      --sort-by='': If non-empty, sort list types using this field\n",
      "specification.  The field specification is expressed as a JSONPath expression\n",
      "(e.g. '{.metadata.name}'). The field in the API resource specified by this\n",
      "JSONPath expression must be an integer or a string.\n",
      "      --template='': Template string or path to template file to use when\n",
      "-o=go-template, -o=go-template-file. The template format is golang templates\n",
      "[http://golang.org/pkg/text/template/#pkg-overview].\n",
      "  -w, --watch=false: After listing/getting the requested object, watch for\n",
      "changes.\n",
      "      --watch-only=false: Watch for changes to the requested object(s), without\n",
      "listing/getting first.\n",
      "\n",
      "Usage:\n",
      "  kubectl get\n",
      "[(-o|--output=)json|yaml|wide|custom-columns=...|custom-columns-file=...|go-template=...|go-template-file=...|jsonpath=...|jsonpath-file=...]\n",
      "(TYPE [NAME | -l label] | TYPE/NAME ...) [flags] [options]\n",
      "\n",
      "Use \"kubectl options\" for a list of global command-line options (applies to all\n",
      "commands).\n"
     ]
    }
   ],
   "source": [
    "kubectl get --help"
   ]
  },
  {
   "cell_type": "code",
   "execution_count": 33,
   "metadata": {},
   "outputs": [
    {
     "name": "stdout",
     "output_type": "stream",
     "text": [
      "Client Version: version.Info{Major:\"1\", Minor:\"6\", GitVersion:\"v1.6.2\", GitCommit:\"477efc3cbe6a7effca06bd1452fa356e2201e1ee\", GitTreeState:\"clean\", BuildDate:\"2017-04-19T20:33:11Z\", GoVersion:\"go1.7.5\", Compiler:\"gc\", Platform:\"linux/amd64\"}\n",
      "Server Version: version.Info{Major:\"1\", Minor:\"6\", GitVersion:\"v1.6.0\", GitCommit:\"fff5156092b56e6bd60fff75aad4dc9de6b6ef37\", GitTreeState:\"clean\", BuildDate:\"2017-05-09T23:22:45Z\", GoVersion:\"go1.7.3\", Compiler:\"gc\", Platform:\"linux/amd64\"}\n"
     ]
    }
   ],
   "source": [
    "kubectl version"
   ]
  },
  {
   "cell_type": "code",
   "execution_count": 34,
   "metadata": {},
   "outputs": [
    {
     "name": "stdout",
     "output_type": "stream",
     "text": [
      "\u001b[0;32mKubernetes master\u001b[0m is running at \u001b[0;33mhttps://192.168.99.100:8443\u001b[0m\n",
      "\n",
      "To further debug and diagnose cluster problems, use 'kubectl cluster-info dump'.\n"
     ]
    }
   ],
   "source": [
    "kubectl cluster-info"
   ]
  },
  {
   "cell_type": "markdown",
   "metadata": {},
   "source": [
    "## Opening the kubernetes dashboard"
   ]
  },
  {
   "cell_type": "code",
   "execution_count": 35,
   "metadata": {
    "collapsed": true
   },
   "outputs": [],
   "source": [
    "# minikube dashboard"
   ]
  },
  {
   "cell_type": "code",
   "execution_count": 36,
   "metadata": {},
   "outputs": [
    {
     "name": "stdout",
     "output_type": "stream",
     "text": [
      "Could not find finalized endpoint being pointed to by kubernetes-dashboard: Error validating service: Error getting service kubernetes-dashboard: services \"kubernetes-dashboard\" not found\n",
      "Retrying ...\n",
      "Could not find finalized endpoint being pointed to by kubernetes-dashboard: Error validating service: Error getting service kubernetes-dashboard: services \"kubernetes-dashboard\" not found\n",
      "Retrying ...\n",
      "Could not find finalized endpoint being pointed to by kubernetes-dashboard: Error validating service: Error getting service kubernetes-dashboard: services \"kubernetes-dashboard\" not found\n",
      "Retrying ...\n",
      "Could not find finalized endpoint being pointed to by kubernetes-dashboard: Error validating service: Error getting service kubernetes-dashboard: services \"kubernetes-dashboard\" not found\n",
      "Retrying ...\n",
      "Could not find finalized endpoint being pointed to by kubernetes-dashboard: Error validating service: Error getting service kubernetes-dashboard: services \"kubernetes-dashboard\" not found\n",
      "Retrying ...\n",
      "Could not find finalized endpoint being pointed to by kubernetes-dashboard: Error validating service: Error getting service kubernetes-dashboard: services \"kubernetes-dashboard\" not found\n",
      "Retrying ...\n",
      "Could not find finalized endpoint being pointed to by kubernetes-dashboard: Error validating service: Error getting service kubernetes-dashboard: services \"kubernetes-dashboard\" not found\n",
      "Retrying ...\n",
      "Could not find finalized endpoint being pointed to by kubernetes-dashboard: Error validating service: Error getting service kubernetes-dashboard: services \"kubernetes-dashboard\" not found\n",
      "Retrying ...\n",
      "Could not find finalized endpoint being pointed to by kubernetes-dashboard: Error validating service: Error getting service kubernetes-dashboard: services \"kubernetes-dashboard\" not found\n",
      "Retrying ...\n",
      "Waiting, endpoint for service is not ready yet...\n",
      "Waiting, endpoint for service is not ready yet...\n",
      "Waiting, endpoint for service is not ready yet...\n",
      "Waiting, endpoint for service is not ready yet...\n",
      "Waiting, endpoint for service is not ready yet...\n",
      "Waiting, endpoint for service is not ready yet...\n",
      "Waiting, endpoint for service is not ready yet...\n",
      "Waiting, endpoint for service is not ready yet...\n",
      "http://192.168.99.100:30000\n"
     ]
    }
   ],
   "source": [
    "NB_kube_loop_until_dashboard_url_available"
   ]
  },
  {
   "cell_type": "markdown",
   "metadata": {},
   "source": [
    "# 2. Creating a Pod/Service/Deployment\n"
   ]
  },
  {
   "cell_type": "markdown",
   "metadata": {},
   "source": [
    "### Kubernetes Deployments\n",
    "Once you have a running Kubernetes cluster, you can deploy your containerized applications on top of it. To do so, you create a Kubernetes Deployment. The Deployment is responsible for creating and updating instances of your application. Once you've created a Deployment, the Kubernetes master schedules the application instances that the Deployment creates onto individual Nodes in the cluster.\n",
    "\n",
    "Once the application instances are created, a Kubernetes Deployment Controller continuously monitors those instances. The Deployment controller replaces an instance if the Node hosting it goes down or it is deleted. This provides a self-healing mechanism to address machine failure or maintenance.\n",
    "\n",
    "In a pre-orchestration world, installation scripts would often be used to start applications, but they did not allow recovery from machine failure. By both creating your application instances and keeping them running across Nodes, Kubernetes Deployments provide a fundamentally different approach to application management.\n",
    "\n",
    "\n",
    "You can create and manage a Deployment by using the Kubernetes command line interface, Kubectl. Kubectl uses the Kubernetes API to interact with the cluster. In this module, you'll learn the most common Kubectl commands needed to create Deployments that run your applications on a Kubernetes cluster.\n",
    "\n",
    "When you create a Deployment, you'll need to specify the container image for your application and the number of replicas that you want to run. You can change that information later by updating your Deployment; Modules 5 and 6 of the bootcamp discuss how you can scale and update your Deployments.\n",
    "\n",
    "Applications need to be packaged into one of the supported container formats in order to be deployed on Kubernetes\n",
    "\n",
    "For our first Deployment, we'll use a Node.js application packaged in a Docker container. The source code and the Dockerfile are available in the GitHub repository for the Kubernetes Bootcamp.\n",
    "\n",
    "Now that you know what Deployments are, let's go to the online tutorial and deploy our first app!\n",
    "\n",
    "\n",
    "\n",
    "Inspired by https://media-glass.es/launching-a-local-kubernetes-lab-using-minikube-39560f792889#.3h0n2dh3f\n",
    "\n",
    "## 2.1 Deploying an app\n"
   ]
  },
  {
   "cell_type": "code",
   "execution_count": 37,
   "metadata": {},
   "outputs": [
    {
     "name": "stdout",
     "output_type": "stream",
     "text": [
      "deployment \"my-nginx\" created\n"
     ]
    }
   ],
   "source": [
    "kubectl run my-nginx --image=nginx --replicas=2 --port=80"
   ]
  },
  {
   "cell_type": "markdown",
   "metadata": {},
   "source": [
    "It may take some time for the pods to start as the node downloads the nginx image for the first time"
   ]
  },
  {
   "cell_type": "code",
   "execution_count": 38,
   "metadata": {},
   "outputs": [
    {
     "name": "stdout",
     "output_type": "stream",
     "text": [
      "NAME                       READY     \u001b[31mSTATUS\u001b[0m              RESTARTS   AGE\n",
      "my-nginx-858393261-d1634   0/1       ContainerCreating   0          0s\n",
      "my-nginx-858393261-d383f   0/1       ContainerCreating   0          0s\n",
      "Waiting for pods to be created ... (downloading images)\n",
      "Waiting for pods to be created ... (downloading images)\n",
      "Waiting for pods to be created ... (downloading images)\n",
      "Waiting for pods to be created ... (downloading images)\n",
      "Waiting for pods to be created ... (downloading images)\n",
      "Waiting for pods to be created ... (downloading images)\n",
      "Waiting for pods to be created ... (downloading images)\n",
      "Waiting for pods to be created ... (downloading images)\n",
      "Waiting for pods to be created ... (downloading images)\n",
      "NAME                       READY     \u001b[31mSTATUS\u001b[0m    RESTARTS   AGE\n",
      "my-nginx-858393261-d1634   1/1       Running   0          1m\n",
      "my-nginx-858393261-d383f   1/1       Running   0          1m\n"
     ]
    }
   ],
   "source": [
    "kubectl get pods | NB_highlight STATUS\n",
    "\n",
    "NB_kube_loop_while_pods_creating"
   ]
  },
  {
   "cell_type": "markdown",
   "metadata": {},
   "source": [
    "After a few minutes the pods are \"READY\":"
   ]
  },
  {
   "cell_type": "code",
   "execution_count": 39,
   "metadata": {},
   "outputs": [
    {
     "name": "stdout",
     "output_type": "stream",
     "text": [
      "NAME                       READY     \u001b[31mSTATUS\u001b[0m    RESTARTS   AGE\n",
      "my-nginx-858393261-d1634   1/1       Running   0          1m\n",
      "my-nginx-858393261-d383f   1/1       Running   0          1m\n"
     ]
    }
   ],
   "source": [
    "kubectl get pods | NB_highlight STATUS"
   ]
  },
  {
   "cell_type": "code",
   "execution_count": 40,
   "metadata": {},
   "outputs": [
    {
     "name": "stdout",
     "output_type": "stream",
     "text": [
      "Name:\t\t\tmy-nginx\n",
      "Namespace:\t\tdefault\n",
      "CreationTimestamp:\tSat, 13 May 2017 16:41:26 +0200\n",
      "Labels:\t\t\trun=my-nginx\n",
      "Annotations:\t\tdeployment.kubernetes.io/revision=1\n",
      "Selector:\t\trun=my-nginx\n",
      "Replicas:\t\t2 desired | 2 updated | 2 total | 2 \u001b[31mavailable\u001b[0m | 0 un\u001b[31mavailable\u001b[0m\n",
      "StrategyType:\t\tRollingUpdate\n",
      "MinReadySeconds:\t0\n",
      "RollingUpdateStrategy:\t1 max un\u001b[31mavailable\u001b[0m, 1 max surge\n",
      "Pod Template:\n",
      "  Labels:\trun=my-nginx\n",
      "  Containers:\n",
      "   my-nginx:\n",
      "    Image:\t\tnginx\n",
      "    Port:\t\t80/TCP\n",
      "    Environment:\t<none>\n",
      "    Mounts:\t\t<none>\n",
      "  Volumes:\t\t<none>\n",
      "Conditions:\n",
      "  Type\t\tStatus\tReason\n",
      "  ----\t\t------\t------\n",
      "  \u001b[31mAvailable\u001b[0m \tTrue\tMinimumReplicas\u001b[31mAvailable\u001b[0m\n",
      "OldReplicaSets:\t<none>\n",
      "NewReplicaSet:\tmy-nginx-858393261 (2/2 replicas created)\n",
      "Events:\n",
      "  FirstSeen\tLastSeen\tCount\tFrom\t\t\tSubObjectPath\tType\t\tReason\t\t\tMessage\n",
      "  ---------\t--------\t-----\t----\t\t\t-------------\t--------\t------\t\t\t-------\n",
      "  1m\t\t1m\t\t1\tdeployment-controller\t\t\tNormal\t\tScalingReplicaSet\tScaled up replica set my-nginx-858393261 to 2\n"
     ]
    }
   ],
   "source": [
    "kubectl describe deploy my-nginx | NB_highlight available"
   ]
  },
  {
   "cell_type": "code",
   "execution_count": 41,
   "metadata": {},
   "outputs": [
    {
     "name": "stdout",
     "output_type": "stream",
     "text": [
      "Looping until deploy my-nginx becomes available ...\n",
      "kubectl get deploy my-nginx\n",
      "NAME       DESIRED   CURRENT   UP-TO-DATE   \u001b[31mAVAILABLE\u001b[0m   AGE\n",
      "my-nginx   2         2         2            2           1m\n",
      "Took 1 secs\n"
     ]
    }
   ],
   "source": [
    "NB_kube_loop_until_available deploy my-nginx"
   ]
  },
  {
   "cell_type": "markdown",
   "metadata": {},
   "source": [
    "## 2.2 Accessing the app via kube-proxy\n",
    "\n",
    "By default deployed applications are visible only inside the Kubernetes cluster. Exposing our application externally will be covered in Module 4. To view the application output without exposing it externally, we’ll create a route between our terminal and the Kubernetes cluster using a proxy:\n",
    "\n",
    "By default deployed applications are visible only inside the Kubernetes cluster. Exposing our application externally will be covered in Module 4. To view the application output without exposing it externally, we’ll create a route between our terminal and the Kubernetes cluster using a proxy:\n",
    "\n",
    "**In another terminal window launch**:\n",
    "```\n",
    "    kubectl proxy```\n",
    "    \n",
    "We now have a connection between our host (the online terminal) and the Kubernetes cluster. The started proxy enables direct access to the API. The app runs inside a Pod (we'll cover the Pod concept in next module). Get the name of the Pod and store it in the POD_NAME environment variable:\n"
   ]
  },
  {
   "cell_type": "code",
   "execution_count": 42,
   "metadata": {},
   "outputs": [
    {
     "name": "stdout",
     "output_type": "stream",
     "text": [
      "Names of the Pods: my-nginx-858393261-d1634 my-nginx-858393261-d383f\n"
     ]
    }
   ],
   "source": [
    "# In another window run\n",
    "#    kubectl proxy\n",
    "\n",
    "export POD_NAMES=$(kubectl get pods -o go-template --template '{{range .items}}{{.metadata.name}}{{\"\\n\"}}{{end}}')\n",
    "echo Names of the Pods: $POD_NAMES"
   ]
  },
  {
   "cell_type": "code",
   "execution_count": 43,
   "metadata": {},
   "outputs": [
    {
     "name": "stdout",
     "output_type": "stream",
     "text": [
      "-- POD my-nginx-858393261-d1634: ------\n",
      "<!DOCTYPE html>\n",
      "<html>\n",
      "<head>\n",
      "<title>Welcome to nginx!</title>\n",
      "<style>\n",
      "    body {\n",
      "        width: 35em;\n",
      "        margin: 0 auto;\n",
      "        font-family: Tahoma, Verdana, Arial, sans-serif;\n",
      "    }\n",
      "</style>\n",
      "</head>\n",
      "<body>\n",
      "<h1>Welcome to nginx!</h1>\n",
      "<p>If you see this page, the nginx web server is successfully installed and\n",
      "working. Further configuration is required.</p>\n",
      "\n",
      "<p>For online documentation and support please refer to\n",
      "<a href=\"http://nginx.org/\">nginx.org</a>.<br/>\n",
      "Commercial support is available at\n",
      "<a href=\"http://nginx.com/\">nginx.com</a>.</p>\n",
      "\n",
      "<p><em>Thank you for using nginx.</em></p>\n",
      "</body>\n",
      "</html>\n",
      "-- POD my-nginx-858393261-d383f: ------\n",
      "<!DOCTYPE html>\n",
      "<html>\n",
      "<head>\n",
      "<title>Welcome to nginx!</title>\n",
      "<style>\n",
      "    body {\n",
      "        width: 35em;\n",
      "        margin: 0 auto;\n",
      "        font-family: Tahoma, Verdana, Arial, sans-serif;\n",
      "    }\n",
      "</style>\n",
      "</head>\n",
      "<body>\n",
      "<h1>Welcome to nginx!</h1>\n",
      "<p>If you see this page, the nginx web server is successfully installed and\n",
      "working. Further configuration is required.</p>\n",
      "\n",
      "<p>For online documentation and support please refer to\n",
      "<a href=\"http://nginx.org/\">nginx.org</a>.<br/>\n",
      "Commercial support is available at\n",
      "<a href=\"http://nginx.com/\">nginx.com</a>.</p>\n",
      "\n",
      "<p><em>Thank you for using nginx.</em></p>\n",
      "</body>\n",
      "</html>\n"
     ]
    }
   ],
   "source": [
    "for POD_NAME in $POD_NAMES; do\n",
    "    echo \"-- POD $POD_NAME: ------\"\n",
    "    curl http://localhost:8001/api/v1/proxy/namespaces/default/pods/$POD_NAME/\n",
    "    #break\n",
    "done"
   ]
  },
  {
   "cell_type": "markdown",
   "metadata": {},
   "source": [
    "## 2.3 Service creation from kubectl\n"
   ]
  },
  {
   "cell_type": "markdown",
   "metadata": {},
   "source": [
    "Exposing our deployment with type NodePort to make it available as a service on each cluster node"
   ]
  },
  {
   "cell_type": "code",
   "execution_count": 44,
   "metadata": {},
   "outputs": [
    {
     "name": "stdout",
     "output_type": "stream",
     "text": [
      "service \"my-nginx\" exposed\n"
     ]
    }
   ],
   "source": [
    "kubectl expose deployment my-nginx --type=NodePort"
   ]
  },
  {
   "cell_type": "code",
   "execution_count": 45,
   "metadata": {},
   "outputs": [
    {
     "name": "stdout",
     "output_type": "stream",
     "text": [
      "NAME                       READY     STATUS    RESTARTS   AGE\n",
      "my-nginx-858393261-d1634   1/1       Running   0          1m\n",
      "my-nginx-858393261-d383f   1/1       Running   0          1m\n"
     ]
    }
   ],
   "source": [
    "kubectl get pods"
   ]
  },
  {
   "cell_type": "code",
   "execution_count": 46,
   "metadata": {},
   "outputs": [
    {
     "name": "stdout",
     "output_type": "stream",
     "text": [
      "NAME       DESIRED   CURRENT   UP-TO-DATE   AVAILABLE   AGE\n",
      "my-nginx   2         2         2            2           1m\n"
     ]
    }
   ],
   "source": [
    "kubectl get deploy"
   ]
  },
  {
   "cell_type": "code",
   "execution_count": 47,
   "metadata": {},
   "outputs": [
    {
     "name": "stdout",
     "output_type": "stream",
     "text": [
      "Name:\t\t\tmy-nginx\n",
      "Namespace:\t\tdefault\n",
      "CreationTimestamp:\tSat, 13 May 2017 16:41:26 +0200\n",
      "Labels:\t\t\trun=my-nginx\n",
      "Annotations:\t\tdeployment.kubernetes.io/revision=1\n",
      "Selector:\t\trun=my-nginx\n",
      "Replicas:\t\t2 desired | 2 updated | 2 total | 2 available | 0 unavailable\n",
      "StrategyType:\t\tRollingUpdate\n",
      "MinReadySeconds:\t0\n",
      "RollingUpdateStrategy:\t1 max unavailable, 1 max surge\n",
      "Pod Template:\n",
      "  Labels:\trun=my-nginx\n",
      "  Containers:\n",
      "   my-nginx:\n",
      "    Image:\t\tnginx\n",
      "    Port:\t\t80/TCP\n",
      "    Environment:\t<none>\n",
      "    Mounts:\t\t<none>\n",
      "  Volumes:\t\t<none>\n",
      "Conditions:\n",
      "  Type\t\tStatus\tReason\n",
      "  ----\t\t------\t------\n",
      "  Available \tTrue\tMinimumReplicasAvailable\n",
      "OldReplicaSets:\t<none>\n",
      "NewReplicaSet:\tmy-nginx-858393261 (2/2 replicas created)\n",
      "Events:\n",
      "  FirstSeen\tLastSeen\tCount\tFrom\t\t\tSubObjectPath\tType\t\tReason\t\t\tMessage\n",
      "  ---------\t--------\t-----\t----\t\t\t-------------\t--------\t------\t\t\t-------\n",
      "  1m\t\t1m\t\t1\tdeployment-controller\t\t\tNormal\t\tScalingReplicaSet\tScaled up replica set my-nginx-858393261 to 2\n"
     ]
    }
   ],
   "source": [
    "kubectl describe deploy"
   ]
  },
  {
   "cell_type": "markdown",
   "metadata": {},
   "source": [
    "Now let's obtain the url of our 'my-nginx' service"
   ]
  },
  {
   "cell_type": "code",
   "execution_count": 48,
   "metadata": {},
   "outputs": [
    {
     "name": "stdout",
     "output_type": "stream",
     "text": [
      "http://192.168.99.100:32701\n"
     ]
    }
   ],
   "source": [
    "minikube service my-nginx --url"
   ]
  },
  {
   "cell_type": "code",
   "execution_count": 49,
   "metadata": {},
   "outputs": [
    {
     "name": "stdout",
     "output_type": "stream",
     "text": [
      "Name:\t\t\tmy-nginx\n",
      "Namespace:\t\tdefault\n",
      "CreationTimestamp:\tSat, 13 May 2017 16:41:26 +0200\n",
      "Labels:\t\t\trun=my-nginx\n",
      "Annotations:\t\tdeployment.kubernetes.io/revision=1\n",
      "Selector:\t\trun=my-nginx\n",
      "Replicas:\t\t2 desired | 2 updated | 2 total | 2 \u001b[31mavailable\u001b[0m | 0 un\u001b[31mavailable\u001b[0m\n",
      "StrategyType:\t\tRollingUpdate\n",
      "MinReadySeconds:\t0\n",
      "RollingUpdateStrategy:\t1 max un\u001b[31mavailable\u001b[0m, 1 max surge\n",
      "Pod Template:\n",
      "  Labels:\trun=my-nginx\n",
      "  Containers:\n",
      "   my-nginx:\n",
      "    Image:\t\tnginx\n",
      "    Port:\t\t80/TCP\n",
      "    Environment:\t<none>\n",
      "    Mounts:\t\t<none>\n",
      "  Volumes:\t\t<none>\n",
      "Conditions:\n",
      "  Type\t\tStatus\tReason\n",
      "  ----\t\t------\t------\n",
      "  \u001b[31mAvailable\u001b[0m \tTrue\tMinimumReplicas\u001b[31mAvailable\u001b[0m\n",
      "OldReplicaSets:\t<none>\n",
      "NewReplicaSet:\tmy-nginx-858393261 (2/2 replicas created)\n",
      "Events:\n",
      "  FirstSeen\tLastSeen\tCount\tFrom\t\t\tSubObjectPath\tType\t\tReason\t\t\tMessage\n",
      "  ---------\t--------\t-----\t----\t\t\t-------------\t--------\t------\t\t\t-------\n",
      "  1m\t\t1m\t\t1\tdeployment-controller\t\t\tNormal\t\tScalingReplicaSet\tScaled up replica set my-nginx-858393261 to 2\n"
     ]
    }
   ],
   "source": [
    "kubectl describe deploy | NB_highlight available"
   ]
  },
  {
   "cell_type": "code",
   "execution_count": 50,
   "metadata": {},
   "outputs": [
    {
     "name": "stdout",
     "output_type": "stream",
     "text": [
      "http://192.168.99.100:32701\n"
     ]
    }
   ],
   "source": [
    "minikube service my-nginx --url"
   ]
  },
  {
   "cell_type": "markdown",
   "metadata": {
    "collapsed": true
   },
   "source": [
    "#open $(minikube service my-nginx --url)\n",
    "\n",
    "We can now access this url from our host, using curl or a web-browser:"
   ]
  },
  {
   "cell_type": "code",
   "execution_count": 51,
   "metadata": {},
   "outputs": [
    {
     "name": "stdout",
     "output_type": "stream",
     "text": [
      "<!DOCTYPE html>\n",
      "<html>\n",
      "<head>\n",
      "<title>Welcome to nginx!</title>\n",
      "<style>\n",
      "    body {\n",
      "        width: 35em;\n",
      "        margin: 0 auto;\n",
      "        font-family: Tahoma, Verdana, Arial, sans-serif;\n",
      "    }\n",
      "</style>\n",
      "</head>\n",
      "<body>\n",
      "<h1>Welcome to nginx!</h1>\n",
      "<p>If you see this page, the nginx web server is successfully installed and\n",
      "working. Further configuration is required.</p>\n",
      "\n",
      "<p>For online documentation and support please refer to\n",
      "<a href=\"http://nginx.org/\">nginx.org</a>.<br/>\n",
      "Commercial support is available at\n",
      "<a href=\"http://nginx.com/\">nginx.com</a>.</p>\n",
      "\n",
      "<p><em>Thank you for using nginx.</em></p>\n",
      "</body>\n",
      "</html>\n"
     ]
    }
   ],
   "source": [
    "curl $(minikube service my-nginx --url)"
   ]
  },
  {
   "cell_type": "markdown",
   "metadata": {},
   "source": [
    "# 3. Viewing Pods"
   ]
  },
  {
   "cell_type": "code",
   "execution_count": 52,
   "metadata": {},
   "outputs": [
    {
     "name": "stdout",
     "output_type": "stream",
     "text": [
      "NAME                       READY     STATUS    RESTARTS   AGE\n",
      "my-nginx-858393261-d1634   1/1       Running   0          1m\n",
      "my-nginx-858393261-d383f   1/1       Running   0          1m\n"
     ]
    }
   ],
   "source": [
    "kubectl get pods"
   ]
  },
  {
   "cell_type": "code",
   "execution_count": 53,
   "metadata": {},
   "outputs": [
    {
     "name": "stdout",
     "output_type": "stream",
     "text": [
      "Name:\t\tmy-nginx-858393261-d1634\n",
      "Namespace:\tdefault\n",
      "Node:\t\tminikube/192.168.99.100\n",
      "Start Time:\tSat, 13 May 2017 16:41:26 +0200\n",
      "Labels:\t\tpod-template-hash=858393261\n",
      "\t\trun=my-nginx\n",
      "Annotations:\tkubernetes.io/created-by={\"kind\":\"SerializedReference\",\"apiVersion\":\"v1\",\"reference\":{\"kind\":\"ReplicaSet\",\"namespace\":\"default\",\"name\":\"my-nginx-858393261\",\"uid\":\"3e6fa6c6-37ea-11e7-92a1-080027b04ee4\"...\n",
      "Status:\t\tRunning\n",
      "IP:\t\t172.17.0.4\n",
      "Controllers:\tReplicaSet/my-nginx-858393261\n",
      "Containers:\n",
      "  my-nginx:\n",
      "    Container ID:\tdocker://2ba4ba7a1de33b4b1c07648a8646ae4acdebfb67530d371a74a5799b30810d01\n",
      "    Image:\t\tnginx\n",
      "    Image ID:\t\tdocker://sha256:3448f27c273f3122fc554d7acf33796efb4df2ad9886efc092c3bfe716e897b7\n",
      "    Port:\t\t80/TCP\n",
      "    State:\t\tRunning\n",
      "      Started:\t\tSat, 13 May 2017 16:42:49 +0200\n",
      "    Ready:\t\tTrue\n",
      "    Restart Count:\t0\n",
      "    Environment:\t<none>\n",
      "    Mounts:\n",
      "      /var/run/secrets/kubernetes.io/serviceaccount from default-token-9lq72 (ro)\n",
      "Conditions:\n",
      "  Type\t\tStatus\n",
      "  Initialized \tTrue \n",
      "  Ready \tTrue \n",
      "  PodScheduled \tTrue \n",
      "Volumes:\n",
      "  default-token-9lq72:\n",
      "    Type:\tSecret (a volume populated by a Secret)\n",
      "    SecretName:\tdefault-token-9lq72\n",
      "    Optional:\tfalse\n",
      "QoS Class:\tBestEffort\n",
      "Node-Selectors:\t<none>\n",
      "Tolerations:\t<none>\n",
      "Events:\n",
      "  FirstSeen\tLastSeen\tCount\tFrom\t\t\tSubObjectPath\t\t\tType\t\tReason\t\tMessage\n",
      "  ---------\t--------\t-----\t----\t\t\t-------------\t\t\t--------\t------\t\t-------\n",
      "  1m\t\t1m\t\t1\tdefault-scheduler\t\t\t\t\tNormal\t\tScheduled\tSuccessfully assigned my-nginx-858393261-d1634 to minikube\n",
      "  1m\t\t1m\t\t1\tkubelet, minikube\tspec.containers{my-nginx}\tNormal\t\tPulling\t\tpulling image \"nginx\"\n",
      "  27s\t\t27s\t\t1\tkubelet, minikube\tspec.containers{my-nginx}\tNormal\t\tPulled\t\tSuccessfully pulled image \"nginx\"\n",
      "  27s\t\t27s\t\t1\tkubelet, minikube\tspec.containers{my-nginx}\tNormal\t\tCreated\t\tCreated container with id 2ba4ba7a1de33b4b1c07648a8646ae4acdebfb67530d371a74a5799b30810d01\n",
      "  27s\t\t27s\t\t1\tkubelet, minikube\tspec.containers{my-nginx}\tNormal\t\tStarted\t\tStarted container with id 2ba4ba7a1de33b4b1c07648a8646ae4acdebfb67530d371a74a5799b30810d01\n",
      "\n",
      "\n",
      "Name:\t\tmy-nginx-858393261-d383f\n",
      "Namespace:\tdefault\n",
      "Node:\t\tminikube/192.168.99.100\n",
      "Start Time:\tSat, 13 May 2017 16:41:27 +0200\n",
      "Labels:\t\tpod-template-hash=858393261\n",
      "\t\trun=my-nginx\n",
      "Annotations:\tkubernetes.io/created-by={\"kind\":\"SerializedReference\",\"apiVersion\":\"v1\",\"reference\":{\"kind\":\"ReplicaSet\",\"namespace\":\"default\",\"name\":\"my-nginx-858393261\",\"uid\":\"3e6fa6c6-37ea-11e7-92a1-080027b04ee4\"...\n",
      "Status:\t\tRunning\n",
      "IP:\t\t172.17.0.5\n",
      "Controllers:\tReplicaSet/my-nginx-858393261\n",
      "Containers:\n",
      "  my-nginx:\n",
      "    Container ID:\tdocker://387da07b4a90d94b776f8b61b7dbb10c0d2b8d2dea22de0f7152dd5de082ba60\n",
      "    Image:\t\tnginx\n",
      "    Image ID:\t\tdocker://sha256:3448f27c273f3122fc554d7acf33796efb4df2ad9886efc092c3bfe716e897b7\n",
      "    Port:\t\t80/TCP\n",
      "    State:\t\tRunning\n",
      "      Started:\t\tSat, 13 May 2017 16:42:52 +0200\n",
      "    Ready:\t\tTrue\n",
      "    Restart Count:\t0\n",
      "    Environment:\t<none>\n",
      "    Mounts:\n",
      "      /var/run/secrets/kubernetes.io/serviceaccount from default-token-9lq72 (ro)\n",
      "Conditions:\n",
      "  Type\t\tStatus\n",
      "  Initialized \tTrue \n",
      "  Ready \tTrue \n",
      "  PodScheduled \tTrue \n",
      "Volumes:\n",
      "  default-token-9lq72:\n",
      "    Type:\tSecret (a volume populated by a Secret)\n",
      "    SecretName:\tdefault-token-9lq72\n",
      "    Optional:\tfalse\n",
      "QoS Class:\tBestEffort\n",
      "Node-Selectors:\t<none>\n",
      "Tolerations:\t<none>\n",
      "Events:\n",
      "  FirstSeen\tLastSeen\tCount\tFrom\t\t\tSubObjectPath\t\t\tType\t\tReason\t\tMessage\n",
      "  ---------\t--------\t-----\t----\t\t\t-------------\t\t\t--------\t------\t\t-------\n",
      "  1m\t\t1m\t\t1\tdefault-scheduler\t\t\t\t\tNormal\t\tScheduled\tSuccessfully assigned my-nginx-858393261-d383f to minikube\n",
      "  1m\t\t1m\t\t1\tkubelet, minikube\tspec.containers{my-nginx}\tNormal\t\tPulling\t\tpulling image \"nginx\"\n",
      "  24s\t\t24s\t\t1\tkubelet, minikube\tspec.containers{my-nginx}\tNormal\t\tPulled\t\tSuccessfully pulled image \"nginx\"\n",
      "  24s\t\t24s\t\t1\tkubelet, minikube\tspec.containers{my-nginx}\tNormal\t\tCreated\t\tCreated container with id 387da07b4a90d94b776f8b61b7dbb10c0d2b8d2dea22de0f7152dd5de082ba60\n",
      "  24s\t\t24s\t\t1\tkubelet, minikube\tspec.containers{my-nginx}\tNormal\t\tStarted\t\tStarted container with id 387da07b4a90d94b776f8b61b7dbb10c0d2b8d2dea22de0f7152dd5de082ba60\n"
     ]
    }
   ],
   "source": [
    "kubectl describe pods"
   ]
  },
  {
   "cell_type": "code",
   "execution_count": 54,
   "metadata": {},
   "outputs": [
    {
     "name": "stdout",
     "output_type": "stream",
     "text": [
      "172.17.0.1 - - [13/May/2017:14:43:05 +0000] \"GET / HTTP/1.1\" 200 612 \"-\" \"curl/7.52.1\" \"127.0.0.1\"\n",
      "172.17.0.1 - - [13/May/2017:14:43:15 +0000] \"GET / HTTP/1.1\" 200 612 \"-\" \"curl/7.52.1\" \"-\"\n"
     ]
    }
   ],
   "source": [
    "kubectl logs $POD_NAME"
   ]
  },
  {
   "cell_type": "code",
   "execution_count": 55,
   "metadata": {},
   "outputs": [
    {
     "name": "stdout",
     "output_type": "stream",
     "text": [
      "PATH=/usr/local/sbin:/usr/local/bin:/usr/sbin:/usr/bin:/sbin:/bin\n",
      "HOSTNAME=my-nginx-858393261-d383f\n",
      "KUBERNETES_PORT_443_TCP_PROTO=tcp\n",
      "KUBERNETES_PORT_443_TCP_PORT=443\n",
      "KUBERNETES_PORT_443_TCP_ADDR=10.0.0.1\n",
      "KUBERNETES_SERVICE_HOST=10.0.0.1\n",
      "KUBERNETES_SERVICE_PORT=443\n",
      "KUBERNETES_SERVICE_PORT_HTTPS=443\n",
      "KUBERNETES_PORT=tcp://10.0.0.1:443\n",
      "KUBERNETES_PORT_443_TCP=tcp://10.0.0.1:443\n",
      "NGINX_VERSION=1.13.0-1~stretch\n",
      "NJS_VERSION=1.13.0.0.1.10-1~stretch\n",
      "HOME=/root\n"
     ]
    }
   ],
   "source": [
    "kubectl exec $POD_NAME env"
   ]
  },
  {
   "cell_type": "code",
   "execution_count": 56,
   "metadata": {},
   "outputs": [
    {
     "name": "stdout",
     "output_type": "stream",
     "text": [
      "my-nginx-858393261-d383f\n"
     ]
    }
   ],
   "source": [
    "kubectl exec $POD_NAME hostname"
   ]
  },
  {
   "cell_type": "markdown",
   "metadata": {},
   "source": [
    "We can see the ip address of a pod (same ip address for all containers in that pod):"
   ]
  },
  {
   "cell_type": "code",
   "execution_count": 57,
   "metadata": {},
   "outputs": [
    {
     "name": "stdout",
     "output_type": "stream",
     "text": [
      "1: lo: <LOOPBACK,UP,LOWER_UP> mtu 65536 qdisc noqueue state UNKNOWN group default qlen 1\n",
      "    link/loopback 00:00:00:00:00:00 brd 00:00:00:00:00:00\n",
      "    inet 127.0.0.1/8 scope host lo\n",
      "       valid_lft forever preferred_lft forever\n",
      "    inet6 ::1/128 scope host \n",
      "       valid_lft forever preferred_lft forever\n",
      "2: sit0@NONE: <NOARP> mtu 1480 qdisc noop state DOWN group default qlen 1\n",
      "    link/sit 0.0.0.0 brd 0.0.0.0\n",
      "13: eth0@if14: <BROADCAST,MULTICAST,UP,LOWER_UP> mtu 1500 qdisc noqueue state UP group default \n",
      "    link/ether 02:42:ac:11:00:05 brd ff:ff:ff:ff:ff:ff link-netnsid 0\n",
      "    inet 172.17.0.5/16 scope global eth0\n",
      "       valid_lft forever preferred_lft forever\n",
      "    inet6 fe80::42:acff:fe11:5/64 scope link \n",
      "       valid_lft forever preferred_lft forever\n"
     ]
    }
   ],
   "source": [
    "kubectl exec $POD_NAME ip a"
   ]
  },
  {
   "cell_type": "markdown",
   "metadata": {},
   "source": [
    "# 4. Inspecting our service\n",
    "\n",
    "A Service provides load balancing of traffic across the contained set of Pods. This is useful when a service is created to group all Pods from a specific Deployment (our application will make use of this in the next module, when we'll have multiple instances running).\n",
    "\n",
    "Services are also responsible for service-discovery within the cluster (covered in Accessing the Service). This will for example allow a frontend service (like a web server) to receive traffic from a backend service (like a database) without worrying about Pods.\n",
    "\n",
    "Services match a set of Pods using Label Selectors, a grouping primitive that allows logical operation on Labels.\n",
    "\n",
    "Labels are key/value pairs that are attached to objects, such as Pods and you can think of them as hashtags from social media. They are used to organize related objects in a way meaningful to the users like:\n",
    "\n",
    "Production environment (production, test, dev)\n",
    "Application version (beta, v1.3)\n",
    "Type of service/server (frontend, backend, database)\n",
    "Labels are key/value pairs that are attached to objects\n"
   ]
  },
  {
   "cell_type": "markdown",
   "metadata": {},
   "source": [
    "We have a Service called kubernetes that is created by default when minikube starts the cluster. To create a new service and expose it to external traffic we’ll use the expose command with NodePort as parameter (minikube does not support the LoadBalancer option yet)"
   ]
  },
  {
   "cell_type": "code",
   "execution_count": 58,
   "metadata": {},
   "outputs": [
    {
     "name": "stdout",
     "output_type": "stream",
     "text": [
      "NAME         CLUSTER-IP   EXTERNAL-IP   PORT(S)        AGE\n",
      "kubernetes   10.0.0.1     <none>        443/TCP        3m\n",
      "my-nginx     10.0.0.235   <nodes>       80:32701/TCP   14s\n"
     ]
    }
   ],
   "source": [
    "kubectl get svc"
   ]
  },
  {
   "cell_type": "code",
   "execution_count": 59,
   "metadata": {},
   "outputs": [
    {
     "name": "stdout",
     "output_type": "stream",
     "text": [
      "NAME       CLUSTER-IP   EXTERNAL-IP   PORT(S)        AGE\n",
      "my-nginx   10.0.0.235   <nodes>       80:32701/TCP   14s\n"
     ]
    }
   ],
   "source": [
    "kubectl get services/my-nginx"
   ]
  },
  {
   "cell_type": "markdown",
   "metadata": {},
   "source": [
    "We can ssh into our minikube node to find it's eth1 ip address.\n",
    "This is the address we will use to access our service (the address used for $DOCKER_HOST):"
   ]
  },
  {
   "cell_type": "code",
   "execution_count": 60,
   "metadata": {},
   "outputs": [
    {
     "name": "stdout",
     "output_type": "stream",
     "text": [
      "3: eth1: <BROADCAST,MULTICAST,UP,LOWER_UP> mtu 1500 qdisc pfifo_fast state UP group default qlen 1000\n",
      "    link/ether 08:00:27:cb:6c:31 brd ff:ff:ff:ff:ff:ff\n",
      "    inet 192.168.99.100/24 brd 192.168.99.255 scope global dynamic eth1\n",
      "       valid_lft 922sec preferred_lft 922sec\n",
      "    inet6 fe80::a00:27ff:fecb:6c31/64 scope link \n",
      "       valid_lft forever preferred_lft forever\n"
     ]
    }
   ],
   "source": [
    "minikube ssh ip a show dev eth1"
   ]
  },
  {
   "cell_type": "code",
   "execution_count": 61,
   "metadata": {},
   "outputs": [
    {
     "name": "stdout",
     "output_type": "stream",
     "text": [
      "tcp://192.168.99.100:2376\n"
     ]
    }
   ],
   "source": [
    "echo $DOCKER_HOST"
   ]
  },
  {
   "cell_type": "code",
   "execution_count": 62,
   "metadata": {},
   "outputs": [
    {
     "name": "stdout",
     "output_type": "stream",
     "text": [
      "HOST_IP=192.168.99.100\n"
     ]
    }
   ],
   "source": [
    "HOST_IP=$(echo $DOCKER_HOST | sed -e 's/.*:\\/\\///' -e 's/:.*//')\n",
    "echo HOST_IP=$HOST_IP"
   ]
  },
  {
   "cell_type": "markdown",
   "metadata": {},
   "source": [
    "We can then use the describe service command to see which port (NodePort) is to be used:"
   ]
  },
  {
   "cell_type": "code",
   "execution_count": 63,
   "metadata": {},
   "outputs": [
    {
     "name": "stdout",
     "output_type": "stream",
     "text": [
      "Name:\t\t\tmy-nginx\n",
      "Namespace:\t\tdefault\n",
      "Labels:\t\t\trun=my-nginx\n",
      "Annotations:\t\t<none>\n",
      "Selector:\t\trun=my-nginx\n",
      "Type:\t\t\tNodePort\n",
      "IP:\t\t\t10.0.0.235\n",
      "Port:\t\t\t<unset>\t80/TCP\n",
      "NodePort:\t\t<unset>\t32701/TCP\n",
      "Endpoints:\t\t172.17.0.4:80,172.17.0.5:80\n",
      "Session Affinity:\tNone\n",
      "Events:\t\t\t<none>\n"
     ]
    }
   ],
   "source": [
    "kubectl describe svc my-nginx"
   ]
  },
  {
   "cell_type": "markdown",
   "metadata": {},
   "source": [
    "So now we know on which port of our node we can access our service:\n",
    "\n",
    "Let's access the port automatically"
   ]
  },
  {
   "cell_type": "code",
   "execution_count": 64,
   "metadata": {},
   "outputs": [
    {
     "name": "stdout",
     "output_type": "stream",
     "text": [
      "NODE_PORT=32701\n"
     ]
    }
   ],
   "source": [
    "export NODE_PORT=$(kubectl get services/my-nginx -o go-template='{{(index .spec.ports 0).nodePort}}')\n",
    "echo NODE_PORT=$NODE_PORT\n",
    "\n",
    "#export NODE_IP=$(kubectl get services/my-nginx -o go-template='{{(index .spec.clusterIP)}}')\n",
    "#echo NODE_IP=$NODE_IP"
   ]
  },
  {
   "cell_type": "code",
   "execution_count": 65,
   "metadata": {},
   "outputs": [
    {
     "name": "stdout",
     "output_type": "stream",
     "text": [
      "curl http://192.168.99.100:32701\n",
      "<!DOCTYPE html>\n",
      "<html>\n",
      "<head>\n",
      "<title>Welcome to nginx!</title>\n",
      "<style>\n",
      "    body {\n",
      "        width: 35em;\n",
      "        margin: 0 auto;\n",
      "        font-family: Tahoma, Verdana, Arial, sans-serif;\n",
      "    }\n",
      "</style>\n",
      "</head>\n",
      "<body>\n",
      "<h1>Welcome to nginx!</h1>\n",
      "<p>If you see this page, the nginx web server is successfully installed and\n",
      "working. Further configuration is required.</p>\n",
      "\n",
      "<p>For online documentation and support please refer to\n",
      "<a href=\"http://nginx.org/\">nginx.org</a>.<br/>\n",
      "Commercial support is available at\n",
      "<a href=\"http://nginx.com/\">nginx.com</a>.</p>\n",
      "\n",
      "<p><em>Thank you for using nginx.</em></p>\n",
      "</body>\n",
      "</html>\n"
     ]
    }
   ],
   "source": [
    "echo curl http://${HOST_IP}:${NODE_PORT}\n",
    "curl http://${HOST_IP}:${NODE_PORT}"
   ]
  },
  {
   "cell_type": "code",
   "execution_count": 66,
   "metadata": {},
   "outputs": [
    {
     "name": "stdout",
     "output_type": "stream",
     "text": [
      "Name:\t\t\tmy-nginx\n",
      "Namespace:\t\tdefault\n",
      "CreationTimestamp:\tSat, 13 May 2017 16:41:26 +0200\n",
      "Labels:\t\t\trun=my-nginx\n",
      "Annotations:\t\tdeployment.kubernetes.io/revision=1\n",
      "Selector:\t\trun=my-nginx\n",
      "Replicas:\t\t2 desired | 2 updated | 2 total | 2 available | 0 unavailable\n",
      "StrategyType:\t\tRollingUpdate\n",
      "MinReadySeconds:\t0\n",
      "RollingUpdateStrategy:\t1 max unavailable, 1 max surge\n",
      "Pod Template:\n",
      "  Labels:\trun=my-nginx\n",
      "  Containers:\n",
      "   my-nginx:\n",
      "    Image:\t\tnginx\n",
      "    Port:\t\t80/TCP\n",
      "    Environment:\t<none>\n",
      "    Mounts:\t\t<none>\n",
      "  Volumes:\t\t<none>\n",
      "Conditions:\n",
      "  Type\t\tStatus\tReason\n",
      "  ----\t\t------\t------\n",
      "  Available \tTrue\tMinimumReplicasAvailable\n",
      "OldReplicaSets:\t<none>\n",
      "NewReplicaSet:\tmy-nginx-858393261 (2/2 replicas created)\n",
      "Events:\n",
      "  FirstSeen\tLastSeen\tCount\tFrom\t\t\tSubObjectPath\tType\t\tReason\t\t\tMessage\n",
      "  ---------\t--------\t-----\t----\t\t\t-------------\t--------\t------\t\t\t-------\n",
      "  1m\t\t1m\t\t1\tdeployment-controller\t\t\tNormal\t\tScalingReplicaSet\tScaled up replica set my-nginx-858393261 to 2\n"
     ]
    }
   ],
   "source": [
    "kubectl describe deploy"
   ]
  },
  {
   "cell_type": "markdown",
   "metadata": {},
   "source": [
    "# 5. Accessing objects using label selectors\n",
    "\n",
    "We saw above that all my-nginx pods have the label run=my-nginx.\n",
    "\n",
    "We can use this to select only those pods:"
   ]
  },
  {
   "cell_type": "code",
   "execution_count": 67,
   "metadata": {},
   "outputs": [
    {
     "name": "stdout",
     "output_type": "stream",
     "text": [
      "NAME                       READY     STATUS    RESTARTS   AGE\n",
      "my-nginx-858393261-d1634   1/1       Running   0          1m\n",
      "my-nginx-858393261-d383f   1/1       Running   0          1m\n"
     ]
    }
   ],
   "source": [
    "kubectl get pods -l run=my-nginx"
   ]
  },
  {
   "cell_type": "markdown",
   "metadata": {},
   "source": [
    "#### Setting labels\n",
    "\n",
    "We can also set labels on any object.\n",
    "\n",
    "Let's set a label '*app=v1*' on just one of our nginx pods:\n"
   ]
  },
  {
   "cell_type": "code",
   "execution_count": 68,
   "metadata": {},
   "outputs": [
    {
     "name": "stdout",
     "output_type": "stream",
     "text": [
      "pod \"my-nginx-858393261-d383f\" labeled\n"
     ]
    }
   ],
   "source": [
    "kubectl label pod $POD_NAME app=v1"
   ]
  },
  {
   "cell_type": "markdown",
   "metadata": {},
   "source": [
    "Now running describe pod, we see both pods but only one of them has the '*app=v1*' label:"
   ]
  },
  {
   "cell_type": "code",
   "execution_count": 69,
   "metadata": {},
   "outputs": [
    {
     "name": "stdout",
     "output_type": "stream",
     "text": [
      "Name:\t\tmy-nginx-858393261-d1634\n",
      "Namespace:\tdefault\n",
      "Node:\t\tminikube/192.168.99.100\n",
      "Start Time:\tSat, 13 May 2017 16:41:26 +0200\n",
      "Labels:\t\tpod-template-hash=858393261\n",
      "\t\trun=my-nginx\n",
      "Annotations:\tkubernetes.io/created-by={\"kind\":\"SerializedReference\",\"apiVersion\":\"v1\",\"reference\":{\"kind\":\"ReplicaSet\",\"namespace\":\"default\",\"name\":\"my-nginx-858393261\",\"uid\":\"3e6fa6c6-37ea-11e7-92a1-080027b04ee4\"...\n",
      "Status:\t\tRunning\n",
      "IP:\t\t172.17.0.4\n",
      "Controllers:\tReplicaSet/my-nginx-858393261\n",
      "Containers:\n",
      "  my-nginx:\n",
      "    Container ID:\tdocker://2ba4ba7a1de33b4b1c07648a8646ae4acdebfb67530d371a74a5799b30810d01\n",
      "    Image:\t\tnginx\n",
      "    Image ID:\t\tdocker://sha256:3448f27c273f3122fc554d7acf33796efb4df2ad9886efc092c3bfe716e897b7\n",
      "    Port:\t\t80/TCP\n",
      "    State:\t\tRunning\n",
      "      Started:\t\tSat, 13 May 2017 16:42:49 +0200\n",
      "    Ready:\t\tTrue\n",
      "    Restart Count:\t0\n",
      "    Environment:\t<none>\n",
      "    Mounts:\n",
      "      /var/run/secrets/kubernetes.io/serviceaccount from default-token-9lq72 (ro)\n",
      "Conditions:\n",
      "  Type\t\tStatus\n",
      "  Initialized \tTrue \n",
      "  Ready \tTrue \n",
      "  PodScheduled \tTrue \n",
      "Volumes:\n",
      "  default-token-9lq72:\n",
      "    Type:\tSecret (a volume populated by a Secret)\n",
      "    SecretName:\tdefault-token-9lq72\n",
      "    Optional:\tfalse\n",
      "QoS Class:\tBestEffort\n",
      "Node-Selectors:\t<none>\n",
      "Tolerations:\t<none>\n",
      "Events:\n",
      "  FirstSeen\tLastSeen\tCount\tFrom\t\t\tSubObjectPath\t\t\tType\t\tReason\t\tMessage\n",
      "  ---------\t--------\t-----\t----\t\t\t-------------\t\t\t--------\t------\t\t-------\n",
      "  2m\t\t2m\t\t1\tdefault-scheduler\t\t\t\t\tNormal\t\tScheduled\tSuccessfully assigned my-nginx-858393261-d1634 to minikube\n",
      "  1m\t\t1m\t\t1\tkubelet, minikube\tspec.containers{my-nginx}\tNormal\t\tPulling\t\tpulling image \"nginx\"\n",
      "  37s\t\t37s\t\t1\tkubelet, minikube\tspec.containers{my-nginx}\tNormal\t\tPulled\t\tSuccessfully pulled image \"nginx\"\n",
      "  37s\t\t37s\t\t1\tkubelet, minikube\tspec.containers{my-nginx}\tNormal\t\tCreated\t\tCreated container with id 2ba4ba7a1de33b4b1c07648a8646ae4acdebfb67530d371a74a5799b30810d01\n",
      "  37s\t\t37s\t\t1\tkubelet, minikube\tspec.containers{my-nginx}\tNormal\t\tStarted\t\tStarted container with id 2ba4ba7a1de33b4b1c07648a8646ae4acdebfb67530d371a74a5799b30810d01\n",
      "\n",
      "\n",
      "Name:\t\tmy-nginx-858393261-d383f\n",
      "Namespace:\tdefault\n",
      "Node:\t\tminikube/192.168.99.100\n",
      "Start Time:\tSat, 13 May 2017 16:41:27 +0200\n",
      "Labels:\t\tapp=v1\n",
      "\t\tpod-template-hash=858393261\n",
      "\t\trun=my-nginx\n",
      "Annotations:\tkubernetes.io/created-by={\"kind\":\"SerializedReference\",\"apiVersion\":\"v1\",\"reference\":{\"kind\":\"ReplicaSet\",\"namespace\":\"default\",\"name\":\"my-nginx-858393261\",\"uid\":\"3e6fa6c6-37ea-11e7-92a1-080027b04ee4\"...\n",
      "Status:\t\tRunning\n",
      "IP:\t\t172.17.0.5\n",
      "Controllers:\tReplicaSet/my-nginx-858393261\n",
      "Containers:\n",
      "  my-nginx:\n",
      "    Container ID:\tdocker://387da07b4a90d94b776f8b61b7dbb10c0d2b8d2dea22de0f7152dd5de082ba60\n",
      "    Image:\t\tnginx\n",
      "    Image ID:\t\tdocker://sha256:3448f27c273f3122fc554d7acf33796efb4df2ad9886efc092c3bfe716e897b7\n",
      "    Port:\t\t80/TCP\n",
      "    State:\t\tRunning\n",
      "      Started:\t\tSat, 13 May 2017 16:42:52 +0200\n",
      "    Ready:\t\tTrue\n",
      "    Restart Count:\t0\n",
      "    Environment:\t<none>\n",
      "    Mounts:\n",
      "      /var/run/secrets/kubernetes.io/serviceaccount from default-token-9lq72 (ro)\n",
      "Conditions:\n",
      "  Type\t\tStatus\n",
      "  Initialized \tTrue \n",
      "  Ready \tTrue \n",
      "  PodScheduled \tTrue \n",
      "Volumes:\n",
      "  default-token-9lq72:\n",
      "    Type:\tSecret (a volume populated by a Secret)\n",
      "    SecretName:\tdefault-token-9lq72\n",
      "    Optional:\tfalse\n",
      "QoS Class:\tBestEffort\n",
      "Node-Selectors:\t<none>\n",
      "Tolerations:\t<none>\n",
      "Events:\n",
      "  FirstSeen\tLastSeen\tCount\tFrom\t\t\tSubObjectPath\t\t\tType\t\tReason\t\tMessage\n",
      "  ---------\t--------\t-----\t----\t\t\t-------------\t\t\t--------\t------\t\t-------\n",
      "  1m\t\t1m\t\t1\tdefault-scheduler\t\t\t\t\tNormal\t\tScheduled\tSuccessfully assigned my-nginx-858393261-d383f to minikube\n",
      "  1m\t\t1m\t\t1\tkubelet, minikube\tspec.containers{my-nginx}\tNormal\t\tPulling\t\tpulling image \"nginx\"\n",
      "  34s\t\t34s\t\t1\tkubelet, minikube\tspec.containers{my-nginx}\tNormal\t\tPulled\t\tSuccessfully pulled image \"nginx\"\n",
      "  34s\t\t34s\t\t1\tkubelet, minikube\tspec.containers{my-nginx}\tNormal\t\tCreated\t\tCreated container with id 387da07b4a90d94b776f8b61b7dbb10c0d2b8d2dea22de0f7152dd5de082ba60\n",
      "  34s\t\t34s\t\t1\tkubelet, minikube\tspec.containers{my-nginx}\tNormal\t\tStarted\t\tStarted container with id 387da07b4a90d94b776f8b61b7dbb10c0d2b8d2dea22de0f7152dd5de082ba60\n"
     ]
    }
   ],
   "source": [
    "kubectl describe pod"
   ]
  },
  {
   "cell_type": "markdown",
   "metadata": {},
   "source": [
    "Now we can select just pods with '*app=v1*':"
   ]
  },
  {
   "cell_type": "code",
   "execution_count": 70,
   "metadata": {},
   "outputs": [
    {
     "name": "stdout",
     "output_type": "stream",
     "text": [
      "NAME                       READY     STATUS    RESTARTS   AGE\n",
      "my-nginx-858393261-d383f   1/1       Running   0          2m\n"
     ]
    }
   ],
   "source": [
    "kubectl get pod -l app=v1"
   ]
  },
  {
   "cell_type": "code",
   "execution_count": 71,
   "metadata": {},
   "outputs": [
    {
     "name": "stdout",
     "output_type": "stream",
     "text": [
      "service \"my-nginx\" deleted\n"
     ]
    }
   ],
   "source": [
    "kubectl delete service -l run=my-nginx"
   ]
  },
  {
   "cell_type": "code",
   "execution_count": 72,
   "metadata": {},
   "outputs": [
    {
     "name": "stdout",
     "output_type": "stream",
     "text": [
      "NAME         CLUSTER-IP   EXTERNAL-IP   PORT(S)   AGE\n",
      "kubernetes   10.0.0.1     <none>        443/TCP   4m\n"
     ]
    }
   ],
   "source": [
    "kubectl get service"
   ]
  },
  {
   "cell_type": "markdown",
   "metadata": {},
   "source": [
    "# 4. Scaling an app"
   ]
  },
  {
   "cell_type": "code",
   "execution_count": 73,
   "metadata": {},
   "outputs": [
    {
     "name": "stdout",
     "output_type": "stream",
     "text": [
      "deployment \"my-nginx\" scaled\n"
     ]
    }
   ],
   "source": [
    "kubectl scale deployments/my-nginx --replicas=4"
   ]
  },
  {
   "cell_type": "code",
   "execution_count": 74,
   "metadata": {},
   "outputs": [
    {
     "name": "stdout",
     "output_type": "stream",
     "text": [
      "NAME       DESIRED   CURRENT   UP-TO-DATE   AVAILABLE   AGE\n",
      "my-nginx   4         4         4            2           2m\n"
     ]
    }
   ],
   "source": [
    "kubectl get deploy"
   ]
  },
  {
   "cell_type": "code",
   "execution_count": 75,
   "metadata": {},
   "outputs": [
    {
     "name": "stdout",
     "output_type": "stream",
     "text": [
      "NAME       DESIRED   CURRENT   UP-TO-DATE   AVAILABLE   AGE\n",
      "my-nginx   4         4         4            2           2m\n"
     ]
    }
   ],
   "source": [
    "kubectl get deploy"
   ]
  },
  {
   "cell_type": "code",
   "execution_count": 76,
   "metadata": {},
   "outputs": [
    {
     "name": "stdout",
     "output_type": "stream",
     "text": [
      "NAME                       READY     STATUS              RESTARTS   AGE       IP           NODE\n",
      "my-nginx-858393261-d1634   1/1       Running             0          2m        172.17.0.4   minikube\n",
      "my-nginx-858393261-d383f   1/1       Running             0          2m        172.17.0.5   minikube\n",
      "my-nginx-858393261-gt4pw   0/1       ContainerCreating   0          1s        <none>       minikube\n",
      "my-nginx-858393261-n5n86   0/1       ContainerCreating   0          1s        <none>       minikube\n"
     ]
    }
   ],
   "source": [
    "kubectl get pods -o wide"
   ]
  },
  {
   "cell_type": "code",
   "execution_count": 77,
   "metadata": {},
   "outputs": [
    {
     "name": "stdout",
     "output_type": "stream",
     "text": [
      "Name:\t\t\tmy-nginx\n",
      "Namespace:\t\tdefault\n",
      "CreationTimestamp:\tSat, 13 May 2017 16:41:26 +0200\n",
      "Labels:\t\t\trun=my-nginx\n",
      "Annotations:\t\tdeployment.kubernetes.io/revision=1\n",
      "Selector:\t\trun=my-nginx\n",
      "Replicas:\t\t4 desired | 4 updated | 4 total | 2 available | 2 unavailable\n",
      "StrategyType:\t\tRollingUpdate\n",
      "MinReadySeconds:\t0\n",
      "RollingUpdateStrategy:\t1 max unavailable, 1 max surge\n",
      "Pod Template:\n",
      "  Labels:\trun=my-nginx\n",
      "  Containers:\n",
      "   my-nginx:\n",
      "    Image:\t\tnginx\n",
      "    Port:\t\t80/TCP\n",
      "    Environment:\t<none>\n",
      "    Mounts:\t\t<none>\n",
      "  Volumes:\t\t<none>\n",
      "Conditions:\n",
      "  Type\t\tStatus\tReason\n",
      "  ----\t\t------\t------\n",
      "  Available \tFalse\tMinimumReplicasUnavailable\n",
      "OldReplicaSets:\t<none>\n",
      "NewReplicaSet:\tmy-nginx-858393261 (4/4 replicas created)\n",
      "Events:\n",
      "  FirstSeen\tLastSeen\tCount\tFrom\t\t\tSubObjectPath\tType\t\tReason\t\t\tMessage\n",
      "  ---------\t--------\t-----\t----\t\t\t-------------\t--------\t------\t\t\t-------\n",
      "  2m\t\t2m\t\t1\tdeployment-controller\t\t\tNormal\t\tScalingReplicaSet\tScaled up replica set my-nginx-858393261 to 2\n",
      "  2s\t\t2s\t\t1\tdeployment-controller\t\t\tNormal\t\tScalingReplicaSet\tScaled up replica set my-nginx-858393261 to 4\n"
     ]
    }
   ],
   "source": [
    "kubectl describe deploy/my-nginx"
   ]
  },
  {
   "cell_type": "code",
   "execution_count": 78,
   "metadata": {},
   "outputs": [
    {
     "name": "stdout",
     "output_type": "stream",
     "text": [
      "Error from server (NotFound): services \"my-nginx\" not found\n"
     ]
    }
   ],
   "source": [
    "kubectl describe services/my-nginx;\n",
    "\n",
    "NB_continue"
   ]
  },
  {
   "cell_type": "code",
   "execution_count": 79,
   "metadata": {},
   "outputs": [
    {
     "name": "stdout",
     "output_type": "stream",
     "text": [
      "service \"my-nginx\" exposed\n"
     ]
    }
   ],
   "source": [
    "kubectl expose deployment my-nginx --type=NodePort"
   ]
  },
  {
   "cell_type": "code",
   "execution_count": 80,
   "metadata": {},
   "outputs": [
    {
     "name": "stdout",
     "output_type": "stream",
     "text": [
      "Name:\t\t\tmy-nginx\n",
      "Namespace:\t\tdefault\n",
      "Labels:\t\t\trun=my-nginx\n",
      "Annotations:\t\t<none>\n",
      "Selector:\t\trun=my-nginx\n",
      "Type:\t\t\tNodePort\n",
      "IP:\t\t\t10.0.0.212\n",
      "Port:\t\t\t<unset>\t80/TCP\n",
      "NodePort:\t\t<unset>\t32331/TCP\n",
      "Endpoints:\t\t172.17.0.4:80,172.17.0.5:80\n",
      "Session Affinity:\tNone\n",
      "Events:\t\t\t<none>\n"
     ]
    }
   ],
   "source": [
    "kubectl describe services/my-nginx"
   ]
  },
  {
   "cell_type": "code",
   "execution_count": 81,
   "metadata": {},
   "outputs": [
    {
     "name": "stdout",
     "output_type": "stream",
     "text": [
      "NODE_PORT=32331\n"
     ]
    }
   ],
   "source": [
    "export NODE_PORT=$(kubectl get services/my-nginx -o go-template='{{(index .spec.ports 0).nodePort}}')\n",
    "echo NODE_PORT=$NODE_PORT\n",
    "\n",
    "HOST_IP=$(echo $DOCKER_HOST | sed -e 's/.*:\\/\\///' -e 's/:.*//')"
   ]
  },
  {
   "cell_type": "code",
   "execution_count": 82,
   "metadata": {},
   "outputs": [
    {
     "name": "stdout",
     "output_type": "stream",
     "text": [
      "<!DOCTYPE html>\n",
      "<html>\n",
      "<head>\n",
      "<title>Welcome to nginx!</title>\n",
      "<style>\n",
      "    body {\n",
      "        width: 35em;\n",
      "        margin: 0 auto;\n",
      "        font-family: Tahoma, Verdana, Arial, sans-serif;\n",
      "    }\n",
      "</style>\n",
      "</head>\n",
      "<body>\n",
      "<h1>Welcome to nginx!</h1>\n",
      "<p>If you see this page, the nginx web server is successfully installed and\n",
      "working. Further configuration is required.</p>\n",
      "\n",
      "<p>For online documentation and support please refer to\n",
      "<a href=\"http://nginx.org/\">nginx.org</a>.<br/>\n",
      "Commercial support is available at\n",
      "<a href=\"http://nginx.com/\">nginx.com</a>.</p>\n",
      "\n",
      "<p><em>Thank you for using nginx.</em></p>\n",
      "</body>\n",
      "</html>\n"
     ]
    }
   ],
   "source": [
    "curl $HOST_IP:$NODE_PORT"
   ]
  },
  {
   "cell_type": "code",
   "execution_count": 83,
   "metadata": {},
   "outputs": [
    {
     "name": "stdout",
     "output_type": "stream",
     "text": [
      "deployment \"my-nginx\" scaled\n"
     ]
    }
   ],
   "source": [
    "kubectl scale deployments/my-nginx --replicas=2"
   ]
  },
  {
   "cell_type": "code",
   "execution_count": 84,
   "metadata": {},
   "outputs": [
    {
     "name": "stdout",
     "output_type": "stream",
     "text": [
      "NAME                       READY     STATUS        RESTARTS   AGE       IP           NODE\n",
      "my-nginx-858393261-d1634   1/1       Running       0          2m        172.17.0.4   minikube\n",
      "my-nginx-858393261-d383f   1/1       Running       0          2m        172.17.0.5   minikube\n",
      "my-nginx-858393261-gt4pw   1/1       Terminating   0          7s        172.17.0.7   minikube\n",
      "my-nginx-858393261-n5n86   1/1       Terminating   0          7s        172.17.0.6   minikube\n"
     ]
    }
   ],
   "source": [
    "kubectl get pods -o wide"
   ]
  },
  {
   "cell_type": "code",
   "execution_count": 85,
   "metadata": {},
   "outputs": [
    {
     "name": "stdout",
     "output_type": "stream",
     "text": [
      "NAME                       READY     STATUS        RESTARTS   AGE       IP           NODE\n",
      "my-nginx-858393261-d1634   1/1       Running       0          2m        172.17.0.4   minikube\n",
      "my-nginx-858393261-d383f   1/1       Running       0          2m        172.17.0.5   minikube\n",
      "my-nginx-858393261-gt4pw   0/1       Terminating   0          18s       <none>       minikube\n"
     ]
    }
   ],
   "source": [
    "sleep 10; kubectl get pods -o wide"
   ]
  },
  {
   "cell_type": "code",
   "execution_count": 86,
   "metadata": {},
   "outputs": [
    {
     "name": "stdout",
     "output_type": "stream",
     "text": [
      "NAME       DESIRED   CURRENT   UP-TO-DATE   AVAILABLE   AGE\n",
      "my-nginx   2         2         2            2           2m\n"
     ]
    }
   ],
   "source": [
    "kubectl get deploy"
   ]
  },
  {
   "cell_type": "markdown",
   "metadata": {},
   "source": [
    "# 5. Performing a Rolling Update\n",
    "\n",
    "Updating an application\n",
    "Users expect applications to be available all the time and developers are expected to deploy new versions of them several times a day. In Kubernetes this is done with rolling updates. Rolling updates allow Deployments' update to take place with zero downtime by incrementally updating Pods instances with new ones. The new Pods will be scheduled on Nodes with available resources.\n",
    "\n",
    "In the previous module we scaled our application to run multiple instances. This is a requirement for performing updates without affecting application availability. By default, the maximum number of Pods that can be unavailable during the update and the maximum number of new Pods that can be created, is one. Both options can be configured to either numbers or percentages (of Pods). In Kubernetes, updates are versioned and any Deployment update can be reverted to previous (stable) version.\n",
    "\n",
    "Similar to application Scaling, If a Deployment is exposed publicly, the Service will load-balance the traffic only to available Pods during the update. An available Pod is an instance that is available to the users of the application.\n",
    "\n",
    "Rolling updates allow the following actions:\n",
    "\n",
    "- Promote an application from one environment to another (via container image updates)\n",
    "- Rollback to previous versions\n",
    "- Continuous Integration and Continuous Delivery of applications with zero downtime\n"
   ]
  },
  {
   "cell_type": "code",
   "execution_count": 87,
   "metadata": {},
   "outputs": [
    {
     "name": "stdout",
     "output_type": "stream",
     "text": [
      "deployment \"kubernetes-docker-demo\" created\n",
      "\n",
      "NAME                     DESIRED   CURRENT   UP-TO-DATE   AVAILABLE   AGE\n",
      "kubernetes-docker-demo   1         1         1            0           0s\n",
      "my-nginx                 2         2         2            2           2m\n"
     ]
    }
   ],
   "source": [
    "kubectl run kubernetes-docker-demo --image=docker.io/mjbright/docker-demo:20 --port=8080\n",
    "\n",
    "echo;\n",
    "kubectl get deployments"
   ]
  },
  {
   "cell_type": "markdown",
   "metadata": {},
   "source": [
    "Wait until the pod is deployed - may need to download the *kubernetes-docker-demo* image:"
   ]
  },
  {
   "cell_type": "code",
   "execution_count": 88,
   "metadata": {},
   "outputs": [
    {
     "name": "stdout",
     "output_type": "stream",
     "text": [
      "NAME                                      READY     STATUS              RESTARTS   AGE\n",
      "kubernetes-docker-demo-3317113418-z09q3   0/1       ContainerCreating   0          0s\n",
      "my-nginx-858393261-d1634                  1/1       Running             0          2m\n",
      "my-nginx-858393261-d383f                  1/1       Running             0          2m\n",
      "my-nginx-858393261-gt4pw                  0/1       Terminating         0          20s\n"
     ]
    }
   ],
   "source": [
    "kubectl get pods"
   ]
  },
  {
   "cell_type": "code",
   "execution_count": 89,
   "metadata": {},
   "outputs": [
    {
     "name": "stdout",
     "output_type": "stream",
     "text": [
      "Waiting for pods to be created ... (downloading images)\n",
      "NAME                                      READY     \u001b[31mSTATUS\u001b[0m    RESTARTS   AGE\n",
      "kubernetes-docker-demo-3317113418-z09q3   1/1       Running   0          12s\n",
      "my-nginx-858393261-d1634                  1/1       Running   0          2m\n",
      "my-nginx-858393261-d383f                  1/1       Running   0          2m\n"
     ]
    }
   ],
   "source": [
    "NB_kube_loop_while_pods_creating"
   ]
  },
  {
   "cell_type": "code",
   "execution_count": 90,
   "metadata": {},
   "outputs": [
    {
     "name": "stdout",
     "output_type": "stream",
     "text": [
      "NAME                                      READY     STATUS    RESTARTS   AGE\n",
      "kubernetes-docker-demo-3317113418-z09q3   1/1       Running   0          12s\n",
      "my-nginx-858393261-d1634                  1/1       Running   0          2m\n",
      "my-nginx-858393261-d383f                  1/1       Running   0          2m\n"
     ]
    }
   ],
   "source": [
    "kubectl get pods"
   ]
  },
  {
   "cell_type": "markdown",
   "metadata": {},
   "source": [
    "Now we can expose our deployment as a service"
   ]
  },
  {
   "cell_type": "code",
   "execution_count": 91,
   "metadata": {},
   "outputs": [
    {
     "name": "stdout",
     "output_type": "stream",
     "text": [
      "service \"kubernetes-docker-demo\" exposed\n"
     ]
    }
   ],
   "source": [
    "kubectl expose deployment kubernetes-docker-demo --type=NodePort --port=8080"
   ]
  },
  {
   "cell_type": "code",
   "execution_count": 92,
   "metadata": {},
   "outputs": [
    {
     "name": "stdout",
     "output_type": "stream",
     "text": [
      "Name:\t\t\tkubernetes-docker-demo\n",
      "Namespace:\t\tdefault\n",
      "Labels:\t\t\trun=kubernetes-docker-demo\n",
      "Annotations:\t\t<none>\n",
      "Selector:\t\trun=kubernetes-docker-demo\n",
      "Type:\t\t\tNodePort\n",
      "IP:\t\t\t10.0.0.109\n",
      "Port:\t\t\t<unset>\t8080/TCP\n",
      "NodePort:\t\t<unset>\t31601/TCP\n",
      "Endpoints:\t\t172.17.0.6:8080\n",
      "Session Affinity:\tNone\n",
      "Events:\t\t\t<none>\n"
     ]
    }
   ],
   "source": [
    "kubectl describe services/kubernetes-docker-demo"
   ]
  },
  {
   "cell_type": "markdown",
   "metadata": {},
   "source": [
    "Let's obtain the NODE_PORT so we can access the new '*docker-demo*' service:"
   ]
  },
  {
   "cell_type": "code",
   "execution_count": 93,
   "metadata": {},
   "outputs": [
    {
     "name": "stdout",
     "output_type": "stream",
     "text": [
      "31601"
     ]
    }
   ],
   "source": [
    "kubectl get services/kubernetes-docker-demo -o go-template='{{(index .spec.ports 0).nodePort}}'\n",
    "\n",
    "#NB_pause"
   ]
  },
  {
   "cell_type": "code",
   "execution_count": 94,
   "metadata": {},
   "outputs": [
    {
     "name": "stdout",
     "output_type": "stream",
     "text": [
      "Looping until deploy kubernetes-docker-demo becomes available ...\n",
      "kubectl get deploy kubernetes-docker-demo\n",
      "NAME                     DESIRED   CURRENT   UP-TO-DATE   \u001b[31mAVAILABLE\u001b[0m   AGE\n",
      "kubernetes-docker-demo   1         1         1            1           15s\n",
      "Took 1 secs\n"
     ]
    }
   ],
   "source": [
    "NB_kube_loop_until_available deploy kubernetes-docker-demo"
   ]
  },
  {
   "cell_type": "code",
   "execution_count": 95,
   "metadata": {},
   "outputs": [
    {
     "name": "stdout",
     "output_type": "stream",
     "text": [
      "Looping until services kubernetes-docker-demo becomes available ...\n",
      "kubectl get services kubernetes-docker-demo\n",
      "NAME                     CLUSTER-IP   EXTERNAL-IP   PORT(S)          AGE\n",
      "kubernetes-docker-demo   10.0.0.109   <nodes>       8080:31601/TCP   2s\n",
      "Took 1 secs\n"
     ]
    }
   ],
   "source": [
    "NB_kube_loop_until_available services kubernetes-docker-demo"
   ]
  },
  {
   "cell_type": "code",
   "execution_count": 96,
   "metadata": {},
   "outputs": [
    {
     "name": "stdout",
     "output_type": "stream",
     "text": [
      "NODE_PORT=31601\n",
      "HOST_IP=192.168.99.100\n"
     ]
    }
   ],
   "source": [
    "export NODE_PORT=$(kubectl get services/kubernetes-docker-demo -o go-template='{{(index .spec.ports 0).nodePort}}')\n",
    "echo NODE_PORT=$NODE_PORT\n",
    "\n",
    "HOST_IP=$(echo $DOCKER_HOST | sed -e 's/.*:\\/\\///' -e 's/:.*//')\n",
    "echo HOST_IP=$HOST_IP"
   ]
  },
  {
   "cell_type": "code",
   "execution_count": 97,
   "metadata": {},
   "outputs": [
    {
     "name": "stdout",
     "output_type": "stream",
     "text": [
      "curl http://192.168.99.100:31601\n",
      "\n",
      "\n",
      "\u001b[1;36m\n",
      "                                                .---------.                                          \n",
      "                                               .///++++/:.                                          \n",
      "                                               .///+++//:.                                          \n",
      "                                               .///+++//:.                                          \n",
      "                             ``````````````````.:///////:.                       `                  \n",
      "                             .-///////:://+++//::///////-.                      .--.                \n",
      "                             .:::///:::///+++///:::///:::.                     .:ss+-`              \n",
      "                             .:::///:::///+++///:::///:::.                    `.ossss:.             \n",
      "                             .:///////:/+++oo++/:///////:.                    .-ssssss:.            \n",
      "                    .-:::::::--///////--:::::::--///////--:::::::-.           `-sssssso.........``  \n",
      "                    .::////:::://+++///:::///:::///+++//:/::////::.           `.+ssssss/++ooooo+/:.`\n",
      "                    .::////:::://+++///:::///:::///+++//:/::////::.            `.+sssooooooooooo/-` \n",
      "                    .::////:::://+++///:::///:::///+++//:/::////::.           ``.:osoooooooo+/:-.`  \n",
      "            ````````.-:::::::--///////--:::::::-:///////--:::::::-.``````...-:/+ssoo+:-----..``     \n",
      "            .-+++oooooooooooooooooooooooooooooooooooooooooooooooooooooooosssssssoooo-.              \n",
      "      `     .-ooossssssssssssssssssssssss+ssssssssssssssssossssssssssssssssssoooooo:.        `      \n",
      "    ``...```.-+++++/:--/+oosssssssoo++/:-.-:+oosssssso+/:..-:/+oossssssssoo+:--://-.`   ```...`     \n",
      " ````````````.-:::::::::::::::::::::::::::::::::::::::::::::::::::::::::::::::::-..```````````````  \n",
      "             .-////++++++++++++++++++++++++++++++++++++++++++++++++++//////////:.`                  \n",
      "             `.:////++++++++++++++++oss+++++++++++++++++++++++++++///////////:-.                    \n",
      "              `.:////++++++++++++++os.+h+++++++++++++++++++++++/////////////-.`                     \n",
      "               `.://///++++++++++//+soos+++++++++++++++++++///////////////-.`                       \n",
      "                `.--------:::://+o/+++++++++++++++++++/////////////////:-.`                         \n",
      "                  `-sdmmmmmmmNNNNNmo+++++++++++/////////////////////:-.``                           \n",
      "                    `-+hmmmmmmmmmmmms///////////////////////////::-.``                              \n",
      "                      ``-+ydmmmmmmmmmds////////////////////::--.``                                  \n",
      "                         ``.-/oshdmmmmmmho+////////::::--..```                                      \n",
      "                              ````..-:::///---.....````                                             \n",
      "\n",
      "\u001b[0m\n",
      "\n",
      "\u001b[1;33mServed from host kubernetes-docker-demo-3317113418-z09q3\u001b[0;0m\n"
     ]
    }
   ],
   "source": [
    "echo curl http://${HOST_IP}:${NODE_PORT}\n",
    "curl $HOST_IP:$NODE_PORT\n",
    "\n",
    "#echo \"STOP HERE we have a bug ... why a red whale on v20?\"\n",
    "#exit 1"
   ]
  },
  {
   "cell_type": "markdown",
   "metadata": {},
   "source": [
    "### Perform the rolling update from v20 to v21"
   ]
  },
  {
   "cell_type": "code",
   "execution_count": 98,
   "metadata": {},
   "outputs": [
    {
     "name": "stdout",
     "output_type": "stream",
     "text": [
      "deployment \"kubernetes-docker-demo\" image updated\n"
     ]
    }
   ],
   "source": [
    "kubectl set image deployments/kubernetes-docker-demo kubernetes-docker-demo=mjbright/docker-demo:21"
   ]
  },
  {
   "cell_type": "code",
   "execution_count": 99,
   "metadata": {},
   "outputs": [
    {
     "name": "stdout",
     "output_type": "stream",
     "text": [
      "deployment \"kubernetes-docker-demo\" successfully rolled out\n"
     ]
    }
   ],
   "source": [
    "kubectl rollout status deployments/kubernetes-docker-demo"
   ]
  },
  {
   "cell_type": "markdown",
   "metadata": {},
   "source": [
    "Using '*kubectl describe*' we can see that initially when we created the deployment (1st event below) that version of '*kubernetes-docker-demo*' was scaled to 1.\n",
    "\n",
    "Then when we performed the rollout we see the new version of '*kubernetes-docker-demo*' was scaled to 1 and once this was achieved, the old version was scaled back to 0, disabling the old version."
   ]
  },
  {
   "cell_type": "code",
   "execution_count": 100,
   "metadata": {},
   "outputs": [
    {
     "name": "stdout",
     "output_type": "stream",
     "text": [
      "Name:\t\t\tkubernetes-docker-demo\n",
      "Namespace:\t\tdefault\n",
      "CreationTimestamp:\tSat, 13 May 2017 16:43:50 +0200\n",
      "Labels:\t\t\trun=kubernetes-docker-demo\n",
      "Annotations:\t\tdeployment.kubernetes.io/revision=2\n",
      "Selector:\t\trun=kubernetes-docker-demo\n",
      "Replicas:\t\t1 desired | 1 updated | 1 total | 0 available | 1 unavailable\n",
      "StrategyType:\t\tRollingUpdate\n",
      "MinReadySeconds:\t0\n",
      "RollingUpdateStrategy:\t1 max unavailable, 1 max surge\n",
      "Pod Template:\n",
      "  Labels:\trun=kubernetes-docker-demo\n",
      "  Containers:\n",
      "   kubernetes-docker-demo:\n",
      "    Image:\t\tmjbright/docker-demo:21\n",
      "    Port:\t\t8080/TCP\n",
      "    Environment:\t<none>\n",
      "    Mounts:\t\t<none>\n",
      "  Volumes:\t\t<none>\n",
      "Conditions:\n",
      "  Type\t\tStatus\tReason\n",
      "  ----\t\t------\t------\n",
      "  Available \tTrue\tMinimumReplicasAvailable\n",
      "OldReplicaSets:\tkubernetes-docker-demo-3317113418 (0/0 replicas created)\n",
      "NewReplicaSet:\tkubernetes-docker-demo-109452958 (1/1 replicas created)\n",
      "Events:\n",
      "  FirstSeen\tLastSeen\tCount\tFrom\t\t\tSubObjectPath\tType\t\tReason\t\t\tMessage\n",
      "  ---------\t--------\t-----\t----\t\t\t-------------\t--------\t------\t\t\t-------\n",
      "  19s\t\t19s\t\t1\tdeployment-controller\t\t\tNormal\t\tScalingReplicaSet\tScaled up replica set kubernetes-docker-demo-3317113418 to 1\n",
      "  1s\t\t1s\t\t1\tdeployment-controller\t\t\tNormal\t\tScalingReplicaSet\tScaled up replica set kubernetes-docker-demo-109452958 to 1\n",
      "  1s\t\t1s\t\t1\tdeployment-controller\t\t\tNormal\t\tScalingReplicaSet\tScaled down replica set kubernetes-docker-demo-3317113418 to 0\n"
     ]
    }
   ],
   "source": [
    "kubectl describe deployments/kubernetes-docker-demo"
   ]
  },
  {
   "cell_type": "code",
   "execution_count": 101,
   "metadata": {},
   "outputs": [
    {
     "name": "stdout",
     "output_type": "stream",
     "text": [
      "deployment \"kubernetes-docker-demo\" successfully rolled out\n"
     ]
    }
   ],
   "source": [
    "kubectl rollout status deployments/kubernetes-docker-demo"
   ]
  },
  {
   "cell_type": "code",
   "execution_count": 102,
   "metadata": {},
   "outputs": [
    {
     "name": "stdout",
     "output_type": "stream",
     "text": [
      "Name:\t\t\tkubernetes-docker-demo\n",
      "Namespace:\t\tdefault\n",
      "CreationTimestamp:\tSat, 13 May 2017 16:43:50 +0200\n",
      "Labels:\t\t\trun=kubernetes-docker-demo\n",
      "Annotations:\t\tdeployment.kubernetes.io/revision=2\n",
      "Selector:\t\trun=kubernetes-docker-demo\n",
      "Replicas:\t\t1 desired | 1 updated | 1 total | 0 available | 1 unavailable\n",
      "StrategyType:\t\tRollingUpdate\n",
      "MinReadySeconds:\t0\n",
      "RollingUpdateStrategy:\t1 max unavailable, 1 max surge\n",
      "Pod Template:\n",
      "  Labels:\trun=kubernetes-docker-demo\n",
      "  Containers:\n",
      "   kubernetes-docker-demo:\n",
      "    Image:\t\tmjbright/docker-demo:21\n",
      "    Port:\t\t8080/TCP\n",
      "    Environment:\t<none>\n",
      "    Mounts:\t\t<none>\n",
      "  Volumes:\t\t<none>\n",
      "Conditions:\n",
      "  Type\t\tStatus\tReason\n",
      "  ----\t\t------\t------\n",
      "  Available \tTrue\tMinimumReplicasAvailable\n",
      "OldReplicaSets:\tkubernetes-docker-demo-3317113418 (0/0 replicas created)\n",
      "NewReplicaSet:\tkubernetes-docker-demo-109452958 (1/1 replicas created)\n",
      "Events:\n",
      "  FirstSeen\tLastSeen\tCount\tFrom\t\t\tSubObjectPath\tType\t\tReason\t\t\tMessage\n",
      "  ---------\t--------\t-----\t----\t\t\t-------------\t--------\t------\t\t\t-------\n",
      "  20s\t\t20s\t\t1\tdeployment-controller\t\t\tNormal\t\tScalingReplicaSet\tScaled up replica set kubernetes-docker-demo-3317113418 to 1\n",
      "  2s\t\t2s\t\t1\tdeployment-controller\t\t\tNormal\t\tScalingReplicaSet\tScaled up replica set kubernetes-docker-demo-109452958 to 1\n",
      "  2s\t\t2s\t\t1\tdeployment-controller\t\t\tNormal\t\tScalingReplicaSet\tScaled down replica set kubernetes-docker-demo-3317113418 to 0\n"
     ]
    }
   ],
   "source": [
    "kubectl describe deployments/kubernetes-docker-demo"
   ]
  },
  {
   "cell_type": "markdown",
   "metadata": {},
   "source": [
    "... now accessing the service we can see that the version (v=2) has changed"
   ]
  },
  {
   "cell_type": "code",
   "execution_count": 103,
   "metadata": {},
   "outputs": [
    {
     "name": "stdout",
     "output_type": "stream",
     "text": [
      "Looping until deploy kubernetes-docker-demo becomes available ...\n",
      "[6 secs] Retrying ...\n",
      "[11 secs] Retrying ...\n",
      "[17 secs] Retrying ...\n",
      "[22 secs] Retrying ...\n",
      "[28 secs] Retrying ...\n",
      "[33 secs] Retrying ...\n",
      "[39 secs] Retrying ...\n",
      "[44 secs] Retrying ...\n",
      "[50 secs] Retrying ...\n",
      "[55 secs] Retrying ...\n",
      "kubectl get deploy kubernetes-docker-demo\n",
      "NAME                     DESIRED   CURRENT   UP-TO-DATE   \u001b[31mAVAILABLE\u001b[0m   AGE\n",
      "kubernetes-docker-demo   1         1         1            1           1m\n",
      "Took 56 secs\n"
     ]
    }
   ],
   "source": [
    "NB_kube_loop_until_available deploy kubernetes-docker-demo"
   ]
  },
  {
   "cell_type": "code",
   "execution_count": 104,
   "metadata": {},
   "outputs": [
    {
     "name": "stdout",
     "output_type": "stream",
     "text": [
      "curl http://192.168.99.100:31601\n",
      "\n",
      "\n",
      "\u001b[1;31m\n",
      "                                                .---------.                                          \n",
      "                                               .///++++/:.                                          \n",
      "                                               .///+++//:.                                          \n",
      "                                               .///+++//:.                                          \n",
      "                             ``````````````````.:///////:.                       `                  \n",
      "                             .-///////:://+++//::///////-.                      .--.                \n",
      "                             .:::///:::///+++///:::///:::.                     .:ss+-`              \n",
      "                             .:::///:::///+++///:::///:::.                    `.ossss:.             \n",
      "                             .:///////:/+++oo++/:///////:.                    .-ssssss:.            \n",
      "                    .-:::::::--///////--:::::::--///////--:::::::-.           `-sssssso.........``  \n",
      "                    .::////:::://+++///:::///:::///+++//:/::////::.           `.+ssssss/++ooooo+/:.`\n",
      "                    .::////:::://+++///:::///:::///+++//:/::////::.            `.+sssooooooooooo/-` \n",
      "                    .::////:::://+++///:::///:::///+++//:/::////::.           ``.:osoooooooo+/:-.`  \n",
      "            ````````.-:::::::--///////--:::::::-:///////--:::::::-.``````...-:/+ssoo+:-----..``     \n",
      "            .-+++oooooooooooooooooooooooooooooooooooooooooooooooooooooooosssssssoooo-.              \n",
      "      `     .-ooossssssssssssssssssssssss+ssssssssssssssssossssssssssssssssssoooooo:.        `      \n",
      "    ``...```.-+++++/:--/+oosssssssoo++/:-.-:+oosssssso+/:..-:/+oossssssssoo+:--://-.`   ```...`     \n",
      " ````````````.-:::::::::::::::::::::::::::::::::::::::::::::::::::::::::::::::::-..```````````````  \n",
      "             .-////++++++++++++++++++++++++++++++++++++++++++++++++++//////////:.`                  \n",
      "             `.:////++++++++++++++++oss+++++++++++++++++++++++++++///////////:-.                    \n",
      "              `.:////++++++++++++++os.+h+++++++++++++++++++++++/////////////-.`                     \n",
      "               `.://///++++++++++//+soos+++++++++++++++++++///////////////-.`                       \n",
      "                `.--------:::://+o/+++++++++++++++++++/////////////////:-.`                         \n",
      "                  `-sdmmmmmmmNNNNNmo+++++++++++/////////////////////:-.``                           \n",
      "                    `-+hmmmmmmmmmmmms///////////////////////////::-.``                              \n",
      "                      ``-+ydmmmmmmmmmds////////////////////::--.``                                  \n",
      "                         ``.-/oshdmmmmmmho+////////::::--..```                                      \n",
      "                              ````..-:::///---.....````                                             \n",
      "\n",
      "\u001b[0m\n",
      "\n",
      "\n",
      "\u001b[1;33mServed from kubernetes-docker-demo-109452958-bf0cm\u001b[0;0m\n",
      "\n"
     ]
    }
   ],
   "source": [
    "\n",
    "NB_curl_until_OK http://$HOST_IP:$NODE_PORT"
   ]
  },
  {
   "cell_type": "code",
   "execution_count": 105,
   "metadata": {},
   "outputs": [
    {
     "name": "stdout",
     "output_type": "stream",
     "text": [
      "Started at Sat May 13 16:45:06 CEST 2017   [1494686235]\n",
      "Ended   at Sat May 13 16:45:06 CEST 2017   [1494686706]\n",
      "Took 471 secs [0h07m51]\n"
     ]
    }
   ],
   "source": [
    "NB_time_taken"
   ]
  }
 ],
 "metadata": {
  "anaconda-cloud": {},
  "kernelspec": {
   "display_name": "Bash",
   "language": "bash",
   "name": "bash"
  },
  "language_info": {
   "codemirror_mode": "shell",
   "file_extension": ".sh",
   "mimetype": "text/x-sh",
   "name": "bash"
  }
 },
 "nbformat": 4,
 "nbformat_minor": 1
}
