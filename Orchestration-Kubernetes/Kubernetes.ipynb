{
 "cells": [
  {
   "cell_type": "markdown",
   "metadata": {},
   "source": [
    "\n",
    "# Kubernetes Lab\n",
    "\n",
    "This lab is presented in several sections\n",
    "\n",
    "0. [Setup](0.SETUP.ipynb)\n",
    "1. [Concepts](1.Concepts.ipynb)\n",
    "2. [Kubectl Basics](2.kubectl_basics.ipynb)\n",
    "3. [Running pods, deployments](3.pods.ipynb)\n",
    "4. [Exposing Services](4.services.ipynb)\n",
    "5. [Maintenance Operations](5.maintenance.ipynb)\n",
    "6. [Tools](6.tools.ipynb)\n",
    "\n",
    "## Contributions\n",
    "\n",
    "Your contributions to this tutorial are welcome, either via\n",
    "\n",
    "- Opening issues on github at [ContainerOrchestration/Labs](https://github.com/ContainerOrchestration/Labs)\n",
    "- Submitting PRs\n",
    "- tweets to @mjbright\n"
   ]
  },
  {
   "cell_type": "code",
   "execution_count": null,
   "metadata": {
    "collapsed": true
   },
   "outputs": [],
   "source": []
  }
 ],
 "metadata": {
  "anaconda-cloud": {},
  "kernelspec": {
   "display_name": "Bash",
   "language": "bash",
   "name": "bash"
  },
  "language_info": {
   "codemirror_mode": "shell",
   "file_extension": ".sh",
   "mimetype": "text/x-sh",
   "name": "bash"
  }
 },
 "nbformat": 4,
 "nbformat_minor": 1
}
