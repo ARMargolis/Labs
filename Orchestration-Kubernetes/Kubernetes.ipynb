{
 "cells": [
  {
   "cell_type": "markdown",
   "metadata": {},
   "source": [
    "\n",
    "# Kubernetes Lab\n",
    "\n",
    "<img align=\"left\" src=\"https://avatars1.githubusercontent.com/u/13629408?s=400&v=4\" width=100 />\n",
    "<br/>\n",
    "<br/>\n",
    "<br/>\n",
    "<br/>\n",
    "<br/>\n",
    "<br/>\n",
    "\n",
    "This lab is presented in several sections\n",
    "\n",
    "- [Setup](0.SETUP.ipynb)\n",
    "\n",
    "\n",
    "\n",
    "- 1.[Concepts](1.Concepts.ipynb)\n",
    "- 2.Basics\n",
    "  - 2  [The kubectl CLI](2.kubectl_basics.ipynb)\n",
    "  - 2.5[The dashboard UI](2.5.KubernetesDashboard.ipynb)\n",
    "- 3.[Running pods, deployments](3.pods.ipynb)\n",
    "- 4.[Exposing Services](4.services.ipynb)\n",
    "- 5.[Maintenance Operations](5.maintenance.ipynb)\n",
    "- 6.[Tools](6.tools.ipynb)\n",
    "\n",
    "\n",
    "\n",
    "- [Resources](9.Resources.ipynb)\n",
    "\n",
    "## Contributions\n",
    "\n",
    "Your contributions to this tutorial are welcome, either via\n",
    "\n",
    "- Opening issues on github at [ContainerOrchestration/Labs](https://github.com/ContainerOrchestration/Labs)\n",
    "- Submitting PRs\n",
    "- tweets to @mjbright\n"
   ]
  },
  {
   "cell_type": "code",
   "execution_count": null,
   "metadata": {},
   "outputs": [],
   "source": []
  }
 ],
 "metadata": {
  "anaconda-cloud": {},
  "kernelspec": {
   "display_name": "Bash",
   "language": "bash",
   "name": "bash"
  },
  "language_info": {
   "codemirror_mode": "shell",
   "file_extension": ".sh",
   "mimetype": "text/x-sh",
   "name": "bash"
  }
 },
 "nbformat": 4,
 "nbformat_minor": 1
}
