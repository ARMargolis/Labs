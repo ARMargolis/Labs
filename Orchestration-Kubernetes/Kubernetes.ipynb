{
 "cells": [
  {
   "cell_type": "markdown",
   "metadata": {
    "slideshow": {
     "slide_type": "slide"
    }
   },
   "source": [
    "<img align=\"left\" src=\"https://avatars1.githubusercontent.com/u/13629408?s=400&v=4\" width=100 />\n",
    "# Kubernetes Tutorial - FOSS Asia, 23 March 2018\n",
    "\n",
    "### Michael Bright, Developer Advocate @ Containous    \n",
    "### Containous are the creators of Traefik\n",
    "<table><tr>\n",
    "    <td bgcolor=\"#ffffff\" color=\"#ffffff\" style=\"float:left\"><img src=\"https://d33wubrfki0l68.cloudfront.net/4ddc6f5d033b47d641c29accc0dd7aae7725bc44/c4240/containous.logo.png\" width=\"200\" /></td>\n",
    "    <td  bgcolor=\"#ffffff\" color=\"#ffffff\" width=\"20%\" ></td>\n",
    "    <td bgcolor=\"#ffffff\" color=\"#ffffff\" style=\"float:left\" ><img src=\"https://d33wubrfki0l68.cloudfront.net/e29410f43273a18d40e1bd6e41641f5afdfc8057/eb7ca/traefik.logo.png\" width=\"100\" style=\"float:left\" /></td>\n",
    "    <td  bgcolor=\"#ffffff\" color=\"#ffffff\" width=\"60%\" ></td>\n",
    "</tr></table>\n",
    "\n",
    "<!--\n",
    "<table><tr>\n",
    "    <td bgcolor=\"#ffffff\" color=\"#ffffff\" width=\"50%\"></td>\n",
    "    <td bgcolor=\"#ffffff\" color=\"#ffffff\" ><img src=\"https://d33wubrfki0l68.cloudfront.net/4ddc6f5d033b47d641c29accc0dd7aae7725bc44/c4240/containous.logo.png\" width=\"200\" style=\"float: middle\" /></td>\n",
    "    <td bgcolor=\"#ffffff\" color=\"#ffffff\" ><img src=\"https://d33wubrfki0l68.cloudfront.net/e29410f43273a18d40e1bd6e41641f5afdfc8057/eb7ca/traefik.logo.png\" width=\"100\" style=\"float: right\" /></td>\n",
    "    <td bgcolor=\"#ffffff\" color=\"#ffffff\" width=\"10%\"></td>\n",
    "</tr></table>\n",
    "-->\n",
    "\n",
    "<table align=\"right\" style='font-family:\"Courier New\", Courier, monospace; font-size:100%; bottom:0px;'>\n",
    "    <tr><td bgcolor=\"#ffffff\" color=\"#ffffff\"></td><td bgcolor=\"#ffffff\" color=\"#ffffff\"> <img src=\"http://www.icon100.com/up/3011/128/Twitter-alt.png\" width=\"40\"> </td><td bgcolor=\"#ffffff\" color=\"#ffffff\" > @containous </td></tr>\n",
    "</table>\n",
    "<table align=\"right\" style='font-family:\"Courier New\", Courier, monospace; font-size:100%; bottom:0px;'>\n",
    "    <tr><td bgcolor=\"#ffffff\" color=\"#ffffff\"></td><td bgcolor=\"#ffffff\" color=\"#ffffff\"> <img src=\"http://www.icon100.com/up/3011/128/Twitter-alt.png\" width=\"40\"> </td><td bgcolor=\"#ffffff\" color=\"#ffffff\" > @traefikproxy </td></tr>\n",
    "</table>\n",
    "<table align=\"right\" style='font-family:\"Courier New\", Courier, monospace; font-size:100%; bottom:0px;'>\n",
    "    <tr><td bgcolor=\"#ffffff\" color=\"#ffffff\"></td><td bgcolor=\"#ffffff\" color=\"#ffffff\"> <img src=\"http://www.icon100.com/up/3011/128/Twitter-alt.png\" width=\"40\"> </td><td bgcolor=\"#ffffff\" color=\"#ffffff\" > @mjbright </td></tr>"
   ]
  },
  {
   "cell_type": "markdown",
   "metadata": {
    "slideshow": {
     "slide_type": "slide"
    }
   },
   "source": [
    "<img align=\"left\" src=\"https://avatars1.githubusercontent.com/u/13629408?s=400&v=4\" width=100 />\n",
    "# Kubernetes Tutorial - Pre-requisites\n",
    "\n",
    "The tutorial is aimed at those new to Kubernetes but familiar with the notion of containers<br/>(experience with Docker for example).\n",
    "\n",
    "This is a tutorial so you can choose to either\n",
    "- watch the speaker\n",
    "- follow along\n",
    "- run at home (with your own minikube)\n",
    "\n",
    "To follow along you will need your own laptop with the ability to connect via ssh to an external machine.   Connectivity details will be provided.\n",
    "\n",
    "<table align=\"right\" style='font-family:\"Courier New\", Courier, monospace; font-size:100%; bottom:0px;'>\n",
    "    <tr><td bgcolor=\"#ffffff\" color=\"#ffffff\"></td><td bgcolor=\"#ffffff\" color=\"#ffffff\"> <img src=\"http://www.icon100.com/up/3011/128/Twitter-alt.png\" width=\"40\"> </td><td bgcolor=\"#ffffff\" color=\"#ffffff\" > @containous </td></tr>\n",
    "</table>"
   ]
  },
  {
   "cell_type": "markdown",
   "metadata": {
    "slideshow": {
     "slide_type": "slide"
    }
   },
   "source": [
    "<img align=\"left\" src=\"https://avatars1.githubusercontent.com/u/13629408?s=400&v=4\" width=100 />\n",
    "# Kubernetes Tutorial - Show of Hands\n",
    "\n",
    "<br/>\n",
    "What is your experience with Kubernetes?\n",
    "- I've know about containers, e.g. Docker\n",
    "- I've used Kubernetes a little\n",
    "- I'm familiar\n",
    "- I'm expert\n",
    "\n",
    "<br/>\n",
    "<table align=\"right\" style='font-family:\"Courier New\", Courier, monospace; font-size:100%; bottom:0px;'>\n",
    "    <tr><td bgcolor=\"#ffffff\" color=\"#ffffff\"></td><td bgcolor=\"#ffffff\" color=\"#ffffff\"> <img src=\"http://www.icon100.com/up/3011/128/Twitter-alt.png\" width=\"40\"> </td><td bgcolor=\"#ffffff\" color=\"#ffffff\" > @containous </td></tr>\n",
    "</table>"
   ]
  },
  {
   "cell_type": "markdown",
   "metadata": {
    "slideshow": {
     "slide_type": "slide"
    }
   },
   "source": [
    "\n",
    "<img align=\"left\" src=\"https://avatars1.githubusercontent.com/u/13629408?s=400&v=4\" width=100 />\n",
    "# Kubernetes Tutorial - Contributions\n",
    "\n",
    "Of course this tutorial is open source, and so any community contributions are welcome, either via:\n",
    "\n",
    "- Opening issues on github at [ContainerOrchestration/Labs](https://github.com/ContainerOrchestration/Labs)\n",
    "- Submitting PRs\n",
    "- tweets to @mjbright\n",
    "\n",
    "The source is available on github at https://github.com/ContainerOrchestration/Labs/Orchestration-Kubernetes\n",
    "\n",
    "<br/>\n",
    "<table align=\"right\" style='font-family:\"Courier New\", Courier, monospace; font-size:100%; bottom:0px;'>\n",
    "    <tr><td bgcolor=\"#ffffff\" color=\"#ffffff\"></td><td bgcolor=\"#ffffff\" color=\"#ffffff\"> <img src=\"http://www.icon100.com/up/3011/128/Twitter-alt.png\" width=\"40\"> </td><td bgcolor=\"#ffffff\" color=\"#ffffff\" > @containous </td></tr>\n",
    "</table>"
   ]
  },
  {
   "cell_type": "markdown",
   "metadata": {
    "slideshow": {
     "slide_type": "slide"
    }
   },
   "source": [
    "\n",
    "<img align=\"left\" src=\"https://avatars1.githubusercontent.com/u/13629408?s=400&v=4\" width=100 />\n",
    "# Kubernetes Tutorial - Sections\n",
    "\n",
    "- [Lab Setup](0.SETUP.ipynb)\n",
    "- 1.[Kubernetes Concepts](1.Concepts.ipynb)\n",
    "- 2.Basics\n",
    "  - 2  [The kubectl CLI](2.kubectl_basics.ipynb)\n",
    "  - 2.5[The dashboard UI](2.5.KubernetesDashboard.ipynb)\n",
    "- 3.[Running pods, deployments](3.pods.ipynb)\n",
    "- 4.[Exposing Services](4.services.ipynb)\n",
    "- 5.[Maintenance Operations - Rolling Upgrades](5.maintenance.ipynb)\n",
    "- 6.[Tools, e.g. Helm](6.tools.ipynb)\n",
    "- [Resources](9.Resources.ipynb)\n",
    "\n",
    "<br/>\n",
    "<table align=\"right\" style='font-family:\"Courier New\", Courier, monospace; font-size:100%; bottom:0px;'>\n",
    "    <tr><td bgcolor=\"#ffffff\" color=\"#ffffff\"></td><td bgcolor=\"#ffffff\" color=\"#ffffff\"> <img src=\"http://www.icon100.com/up/3011/128/Twitter-alt.png\" width=\"40\"> </td><td bgcolor=\"#ffffff\" color=\"#ffffff\" > @containous </td></tr>\n",
    "</table>"
   ]
  },
  {
   "cell_type": "markdown",
   "metadata": {
    "slideshow": {
     "slide_type": "slide"
    }
   },
   "source": [
    "\n",
    "<img align=\"left\" src=\"https://avatars1.githubusercontent.com/u/13629408?s=400&v=4\" width=100 />\n",
    "# Kubernetes Tutorial - Questions\n",
    "\n",
    "<br/>\n",
    "<center><h1>\n",
    "Any questions before we start?\n",
    "    </h1></center>\n",
    "\n",
    "<br/>\n",
    "<table align=\"right\" style='font-family:\"Courier New\", Courier, monospace; font-size:100%; bottom:0px;'>\n",
    "    <tr><td bgcolor=\"#ffffff\" color=\"#ffffff\"></td><td bgcolor=\"#ffffff\" color=\"#ffffff\"> <img src=\"http://www.icon100.com/up/3011/128/Twitter-alt.png\" width=\"40\"> </td><td bgcolor=\"#ffffff\" color=\"#ffffff\" > @containous </td></tr>\n",
    "</table>"
   ]
  },
  {
   "cell_type": "markdown",
   "metadata": {
    "slideshow": {
     "slide_type": "slide"
    }
   },
   "source": [
    "\n",
    "<img align=\"left\" src=\"https://avatars1.githubusercontent.com/u/13629408?s=400&v=4\" width=100 />\n",
    "# Kubernetes Tutorial - Groups\n",
    "\n",
    "<br/>\n",
    "<center><h1>\n",
    "I will pass around a set of cards, and USB keys.\n",
    "    </h1></center>\n",
    "    \n",
    "    \n",
    "## Take a card which will tell you your <u>Group number</u>, e.g. 13\n",
    "## Copy the appropiate <u>zip file</u> for your group, e.g. kubelab-v19-G13.zip\n",
    "\n",
    "<br/>\n",
    "<table align=\"right\" style='font-family:\"Courier New\", Courier, monospace; font-size:100%; bottom:0px;'>\n",
    "    <tr><td bgcolor=\"#ffffff\" color=\"#ffffff\"></td><td bgcolor=\"#ffffff\" color=\"#ffffff\"> <img src=\"http://www.icon100.com/up/3011/128/Twitter-alt.png\" width=\"40\"> </td><td bgcolor=\"#ffffff\" color=\"#ffffff\" > @containous </td></tr>\n",
    "</table>"
   ]
  },
  {
   "cell_type": "markdown",
   "metadata": {
    "slideshow": {
     "slide_type": "slide"
    }
   },
   "source": [
    "\n",
    "<img align=\"left\" src=\"https://avatars1.githubusercontent.com/u/13629408?s=400&v=4\" width=100 />\n",
    "# Kubernetes Tutorial - Connecting to your machine\n",
    "\n",
    "<br/>\n",
    "\n",
    "## Under Linux or MacOS:\n",
    "    \n",
    "<pre style=\"style='font-family:\"Courier New\", Courier, monospace; font-size:100%;\" >\n",
    " Unzip your zip file, e.g. kubelab-v19-G13.zip for group 13.\n",
    " Change directory to the created folder, e..g  kubelab-v19-G13\n",
    " Check that you can connect to your machine using:\n",
    "     ./ssh.sh\n",
    "</pre>\n",
    "\n",
    "## Under Windows: Create a connection using Putty\n",
    "\n",
    "<pre style=\"style='font-family:\"Courier New\", Courier, monospace; font-size:100%;\" >\n",
    "</pre>\n",
    "\n",
    "<br/>\n",
    "<table align=\"right\" style='font-family:\"Courier New\", Courier, monospace; font-size:100%; bottom:0px;'>\n",
    "    <tr><td bgcolor=\"#ffffff\" color=\"#ffffff\"></td><td bgcolor=\"#ffffff\" color=\"#ffffff\"> <img src=\"http://www.icon100.com/up/3011/128/Twitter-alt.png\" width=\"40\"> </td><td bgcolor=\"#ffffff\" color=\"#ffffff\" > @containous </td></tr>\n",
    "</table>"
   ]
  }
 ],
 "metadata": {
  "anaconda-cloud": {},
  "celltoolbar": "Slideshow",
  "kernelspec": {
   "display_name": "Bash",
   "language": "bash",
   "name": "bash"
  },
  "language_info": {
   "codemirror_mode": "shell",
   "file_extension": ".sh",
   "mimetype": "text/x-sh",
   "name": "bash"
  }
 },
 "nbformat": 4,
 "nbformat_minor": 1
}
