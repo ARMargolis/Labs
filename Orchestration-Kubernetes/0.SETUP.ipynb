{
 "cells": [
  {
   "cell_type": "markdown",
   "metadata": {
    "slideshow": {
     "slide_type": "slide"
    }
   },
   "source": [
    "<img align=\"left\" src=\"https://avatars1.githubusercontent.com/u/13629408?s=400&v=4\" width=\"60\" />\n",
    "## Kubernetes Lab Setup Instructions\n",
    "\n",
    "This lab can be run in various ways.\n",
    "The basic requirement is to have\n",
    "- 1 or more Kubernetes Master nodes and\n",
    "- 1 or more Worker nodes (or a 'tainted' master can serve as a worker).\n",
    "\n",
    "![](images/KubeNodes_1m_2w.png)\n",
    "\n",
    "This document describes the provided environment based on VMs already provisioned.\n",
    "\n",
    "If you want to run this lab in your own environment prior to the event, or after wards please refer to the alternative setup document [HERE](0.1.SETUP.ipynb).  Those instructions should not be performed at the event itself as they will delay the class and likely block the network.\n",
    "\n",
    "<br/><table align=\"right\" style='font-family:\"Courier New\", Courier, monospace; font-size:100%; bottom:0px;'>\n",
    "    <tr><td bgcolor=\"#ffffff\" color=\"#ffffff\"></td><td bgcolor=\"#ffffff\" color=\"#ffffff\"> <img src=\"http://www.icon100.com/up/3011/128/Twitter-alt.png\" width=\"40\"> </td><td bgcolor=\"#ffffff\" color=\"#ffffff\" > @containous </td></tr></table>"
   ]
  },
  {
   "cell_type": "markdown",
   "metadata": {
    "slideshow": {
     "slide_type": "slide"
    }
   },
   "source": [
    "<img align=\"left\" src=\"https://avatars1.githubusercontent.com/u/13629408?s=400&v=4\" width=\"60\" />\n",
    "## Setup at the event\n",
    "\n",
    "Please do not try to download minikube or start it for the first time during the lab as this will involve downloading executables, an iso file and container images blocking the network for everyone.\n",
    "\n",
    "- Use \"[Play with Kubernetes](https://labs.play-with-k8s.com/)\" - unsure if this will scale to many users\n",
    "- Use your own Cloud account - but you will lose time to setup a Kubernetes cluster (see guide [HERE](https://www.mirantis.com/blog/how-install-kubernetes-kubeadm/))\n",
    "\n",
    "<br/><table align=\"right\" style='font-family:\"Courier New\", Courier, monospace; font-size:100%; bottom:0px;'>\n",
    "    <tr><td bgcolor=\"#ffffff\" color=\"#ffffff\"></td><td bgcolor=\"#ffffff\" color=\"#ffffff\"> <img src=\"http://www.icon100.com/up/3011/128/Twitter-alt.png\" width=\"40\"> </td><td bgcolor=\"#ffffff\" color=\"#ffffff\" > @containous </td></tr></table>"
   ]
  },
  {
   "cell_type": "markdown",
   "metadata": {
    "slideshow": {
     "slide_type": "slide"
    }
   },
   "source": [
    "<img align=\"left\" src=\"https://avatars1.githubusercontent.com/u/13629408?s=400&v=4\" width=\"60\" />\n",
    "<font color=#ff0000>\n",
    "<a name=\"RECOMMENDED\" > </a>\n",
    "<h2> 1. Recommended/Easiest setup at the event</h2>\n",
    "</font>\n",
    "\n",
    "Virtual machines have been pre-created on DigitalOcean and a 3 node Kubernetes cluster installed.\n",
    "\n",
    "If you choose to later create your own DigitalOcean account please use my <font color=#ff0000> <i>DigitalOcean Referral Link</i> </font>\n",
    "[HERE](https://m.do.co/c/9f145f368eec)\n",
    "which will provide you with 10\\$ free credit.\n",
    "<br/>\n",
    "I will also receive credit which will help to offset the cost of the machines provisioned for this lab.\n",
    "\n",
    "<br/><table align=\"right\" style='font-family:\"Courier New\", Courier, monospace; font-size:100%; bottom:0px;'>\n",
    "    <tr><td bgcolor=\"#ffffff\" color=\"#ffffff\"></td><td bgcolor=\"#ffffff\" color=\"#ffffff\"> <img src=\"http://www.icon100.com/up/3011/128/Twitter-alt.png\" width=\"40\"> </td><td bgcolor=\"#ffffff\" color=\"#ffffff\" > @containous </td></tr></table>"
   ]
  },
  {
   "cell_type": "markdown",
   "metadata": {
    "slideshow": {
     "slide_type": "slide"
    }
   },
   "source": [
    "<img align=\"left\" src=\"https://avatars1.githubusercontent.com/u/13629408?s=400&v=4\" width=\"60\" />\n",
    "## 1.1 Using one of the available Kubernetes clusters on DigitalOcean.\n",
    "\n",
    "Virtual machines have been created on DigitalOcean, with 1 VM-* per group, representing 3 Kubernetes nodes.\n",
    "\n",
    "These will be used to demonstrate a cluster of 1 Master and 2 Worker nodes.\n",
    "\n",
    "<!-- * NOTE: Normally 3 VMs would be required for this, this has been avoided through the use of [Mirantis/kubeadm-dind-cluster](https://github.com/Mirantis/kubeadm-dind-cluster).\n",
    "This should be transparent to you when running the lab - kuebctl will show 3 nodes: 1 Master and 2 Worker nodes.-->\n",
    "\n",
    "For later steps we will use a single-node cluster based on Minikube to demonstrate Ingress Controller features using **Traefik**\n",
    "<br/>\n",
    "<img src=\"https://d33wubrfki0l68.cloudfront.net/e29410f43273a18d40e1bd6e41641f5afdfc8057/eb7ca/traefik.logo.png\" width=\"100\" style=\"float:left\" />\n",
    "\n",
    "<br/>\n",
    "<br/><table align=\"right\" style='font-family:\"Courier New\", Courier, monospace; font-size:100%; bottom:0px;'>\n",
    "    <tr><td bgcolor=\"#ffffff\" color=\"#ffffff\"></td><td bgcolor=\"#ffffff\" color=\"#ffffff\"> <img src=\"http://www.icon100.com/up/3011/128/Twitter-alt.png\" width=\"40\"> </td><td bgcolor=\"#ffffff\" color=\"#ffffff\" > @containous </td></tr></table>"
   ]
  },
  {
   "cell_type": "markdown",
   "metadata": {
    "slideshow": {
     "slide_type": "slide"
    }
   },
   "source": [
    "<img align=\"left\" src=\"https://avatars1.githubusercontent.com/u/13629408?s=400&v=4\" width=\"60\" />\n",
    "### 1.1.1 SSH credentials to connect to your group VM\n",
    "\n",
    "Credentials for connecting to your groups' VM, will be provided to you on a USB key as a zip file.\n",
    "\n",
    "Please make sure that you know your group number, e.g. group 2, and use the corresponding zip file, kubelab-v1.9-G<N>, e.g. kubelab-v1.9-G2.zip for group 2.\n",
    "\n",
    "You will find within the doceanlabs_rsa, doceanlabs_rsa.pub, doceanlabs_rsa.pem files allowing you to connect to your VM using openssh.\n",
    "\n",
    "You will also find the ip address of your VM in the ssh.sh or ssh_config files within the zip file.\n",
    "Connect to the VM as user root.\n",
    "\n",
    "\n",
    "<br/><table align=\"right\" style='font-family:\"Courier New\", Courier, monospace; font-size:100%; bottom:0px;'>\n",
    "    <tr><td bgcolor=\"#ffffff\" color=\"#ffffff\"></td><td bgcolor=\"#ffffff\" color=\"#ffffff\"> <img src=\"http://www.icon100.com/up/3011/128/Twitter-alt.png\" width=\"40\"> </td><td bgcolor=\"#ffffff\" color=\"#ffffff\" > @containous </td></tr></table>"
   ]
  },
  {
   "cell_type": "markdown",
   "metadata": {
    "slideshow": {
     "slide_type": "slide"
    }
   },
   "source": [
    "<img align=\"left\" src=\"https://avatars1.githubusercontent.com/u/13629408?s=400&v=4\" width=\"60\" />\n",
    "### 1.1.2 Connecting to your groups' Virtual Machine\n",
    "\n",
    "If you are in group 2, unzip the kubelab-v1.9-G2.zip file, then cd to kubelab-v1.9-G2.\n",
    "From there you can connect to your VM by typing:\n",
    "\n",
    "```./ssh.sh ```\n",
    "\n",
    "<br/><table align=\"right\" style='font-family:\"Courier New\", Courier, monospace; font-size:100%; bottom:0px;'>\n",
    "    <tr><td bgcolor=\"#ffffff\" color=\"#ffffff\"></td><td bgcolor=\"#ffffff\" color=\"#ffffff\"> <img src=\"http://www.icon100.com/up/3011/128/Twitter-alt.png\" width=\"40\"> </td><td bgcolor=\"#ffffff\" color=\"#ffffff\" > @containous </td></tr></table>"
   ]
  },
  {
   "cell_type": "markdown",
   "metadata": {
    "slideshow": {
     "slide_type": "slide"
    }
   },
   "source": [
    "<img align=\"left\" src=\"https://avatars1.githubusercontent.com/u/13629408?s=400&v=4\" width=\"60\" />\n",
    "### 1.1.3 Using Putty on Windows? - Generating .ppk keys for Putty\n",
    "\n",
    "#### **TODO:** Update now that ppk file is present in the zip file.\n",
    "## Explain how to setup Putty to connect to VMs and how to setup port forwarding.\n",
    "\n",
    "If you are using Putty, you will be required to use PuttyGen to generate a .ppk file from doceanlabs_rsa.pem.\n",
    "\n",
    "This can be done with the puttygen tool.\n",
    "\n",
    "Please refer to this guide\n",
    "[\"Convert PEM to PPK file format\"](https://stackoverflow.com/questions/3190667/convert-pem-to-ppk-file-format)\n",
    "\n",
    "<br/><table align=\"right\" style='font-family:\"Courier New\", Courier, monospace; font-size:100%; bottom:0px;'>\n",
    "    <tr><td bgcolor=\"#ffffff\" color=\"#ffffff\"></td><td bgcolor=\"#ffffff\" color=\"#ffffff\"> <img src=\"http://www.icon100.com/up/3011/128/Twitter-alt.png\" width=\"40\"> </td><td bgcolor=\"#ffffff\" color=\"#ffffff\" > @containous </td></tr></table>"
   ]
  }
 ],
 "metadata": {
  "celltoolbar": "Slideshow",
  "kernelspec": {
   "display_name": "Python 3",
   "language": "python",
   "name": "python3"
  },
  "language_info": {
   "codemirror_mode": {
    "name": "ipython",
    "version": 3
   },
   "file_extension": ".py",
   "mimetype": "text/x-python",
   "name": "python",
   "nbconvert_exporter": "python",
   "pygments_lexer": "ipython3",
   "version": "3.6.4"
  }
 },
 "nbformat": 4,
 "nbformat_minor": 2
}
