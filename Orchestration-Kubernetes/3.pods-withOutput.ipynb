{
 "cells": [
  {
   "cell_type": "markdown",
   "metadata": {},
   "source": [
    "# Kubernetes Pods"
   ]
  },
  {
   "cell_type": "code",
   "execution_count": 57,
   "metadata": {},
   "outputs": [
    {
     "name": "stdout",
     "output_type": "stream",
     "text": [
      "NAME             TYPE        CLUSTER-IP   EXTERNAL-IP   PORT(S)   AGE\n",
      "svc/kubernetes   ClusterIP   10.96.0.1    <none>        443/TCP   22h\n"
     ]
    }
   ],
   "source": [
    "# Cleanup\n",
    "\n",
    "kubectl get all\n",
    "#kubectl delete po/2-containers-in-a-pod\n",
    "#kubectl delete deploy k8s-demo\n",
    "#kubectl delete service k8s-demo-service"
   ]
  },
  {
   "cell_type": "markdown",
   "metadata": {},
   "source": [
    "We've seen already how we can interrogate our cluster server using the kubectl tool, obtaining information about objects such as some system pods, in the system.\n",
    "\n",
    "Now let's create our own pods using kubectl.\n",
    "\n",
    "Normally we would not create pods directly using command-line arguments, as we will do here.\n",
    "\n",
    "We would create objects in a repeatable, declarative way from yaml files, but we will do that later.\n",
    "\n",
    "The below ```kubectl run``` command will create 2 pods (replicas), each running just 1 container from the k8s-demo image.\n",
    "\n",
    "Note that we can specify labels on any kubernetes objects, using the -l option followd by key=value pairs, e.g.\n",
    "    -l \"key1=val1,key2=val2\"\n",
    "    \n",
    "These labels are extremely useful allowing us to select a group of objects using a label selector.\n",
    "\n",
    "Labels might be used to mark components of the cluster as dev, test or production for example.\n",
    "\n",
    "Or they might be used to signal hardware specifics of a node, to distinguish physical nodes with SSD disks, or GPU which could then be prioritized for particular types of processing which might be disk i/o or CPU intensive.\n",
    "\n",
    "k8sdemo is a small Docker image of 6MBy on the Docker hub [HERE](https://hub.docker.com/r/mjbright/k8s-demo/tags/)"
   ]
  },
  {
   "cell_type": "code",
   "execution_count": 58,
   "metadata": {},
   "outputs": [
    {
     "name": "stdout",
     "output_type": "stream",
     "text": [
      "\n",
      "-- initial kubectl get all\n",
      "NAME             TYPE        CLUSTER-IP   EXTERNAL-IP   PORT(S)   AGE\n",
      "svc/kubernetes   ClusterIP   10.96.0.1    <none>        443/TCP   22h\n",
      "\n",
      "-- kubectl run k8s0demo\n",
      "deployment \"k8s-demo\" created\n",
      "\n",
      "-- second kubectl get all\n",
      "NAME              DESIRED   CURRENT   UP-TO-DATE   AVAILABLE   AGE\n",
      "deploy/k8s-demo   2         2         2            0           1s\n",
      "\n",
      "NAME                     DESIRED   CURRENT   READY     AGE\n",
      "rs/k8s-demo-7bc74f7946   2         2         0         1s\n",
      "\n",
      "NAME              DESIRED   CURRENT   UP-TO-DATE   AVAILABLE   AGE\n",
      "deploy/k8s-demo   2         2         2            0           1s\n",
      "\n",
      "NAME                     DESIRED   CURRENT   READY     AGE\n",
      "rs/k8s-demo-7bc74f7946   2         2         0         1s\n",
      "\n",
      "NAME                           READY     STATUS              RESTARTS   AGE\n",
      "po/k8s-demo-7bc74f7946-6bst7   0/1       ContainerCreating   0          1s\n",
      "po/k8s-demo-7bc74f7946-bkfhk   0/1       ContainerCreating   0          1s\n",
      "\n",
      "NAME             TYPE        CLUSTER-IP   EXTERNAL-IP   PORT(S)   AGE\n",
      "svc/kubernetes   ClusterIP   10.96.0.1    <none>        443/TCP   22h\n"
     ]
    }
   ],
   "source": [
    "echo; echo \"-- initial kubectl get all\"\n",
    "kubectl get all\n",
    "\n",
    "echo; echo \"-- kubectl run k8s0demo\"\n",
    "kubectl run k8s-demo -l \"app=k8s-demo\" --image=mjbright/k8s-demo:1 --replicas=2 --port=8080\n",
    "\n",
    "echo; echo \"-- second kubectl get all\"\n",
    "kubectl get all"
   ]
  },
  {
   "cell_type": "markdown",
   "metadata": {},
   "source": [
    "In the above output we see that the only running resource initially was an internal service.\n",
    "\n",
    "Once we perform '''kubectl run'' this spawns a **deployment** called *k8s-demo*, which creates a corrsponding **replicaset** which in turn spawns 2 **pods**.\n",
    "\n",
    "As we performed the '''kubectl get all''' immediately after the run, we see the status before the pod containers have been created ... in fact there is a delay whilst the images are downloaded (for a first run) and pods instantiated.\n",
    "\n",
    "Re-running '''kubectl get all''' shows the pods as *running* now."
   ]
  },
  {
   "cell_type": "code",
   "execution_count": 59,
   "metadata": {},
   "outputs": [
    {
     "name": "stdout",
     "output_type": "stream",
     "text": [
      "NAME              DESIRED   CURRENT   UP-TO-DATE   AVAILABLE   AGE\n",
      "deploy/k8s-demo   2         2         2            2           14s\n",
      "\n",
      "NAME                     DESIRED   CURRENT   READY     AGE\n",
      "rs/k8s-demo-7bc74f7946   2         2         2         14s\n",
      "\n",
      "NAME              DESIRED   CURRENT   UP-TO-DATE   AVAILABLE   AGE\n",
      "deploy/k8s-demo   2         2         2            2           14s\n",
      "\n",
      "NAME                     DESIRED   CURRENT   READY     AGE\n",
      "rs/k8s-demo-7bc74f7946   2         2         2         14s\n",
      "\n",
      "NAME                           READY     STATUS    RESTARTS   AGE\n",
      "po/k8s-demo-7bc74f7946-6bst7   1/1       Running   0          14s\n",
      "po/k8s-demo-7bc74f7946-bkfhk   1/1       Running   0          14s\n",
      "\n",
      "NAME             TYPE        CLUSTER-IP   EXTERNAL-IP   PORT(S)   AGE\n",
      "svc/kubernetes   ClusterIP   10.96.0.1    <none>        443/TCP   22h\n"
     ]
    }
   ],
   "source": [
    "kubectl get all"
   ]
  },
  {
   "cell_type": "markdown",
   "metadata": {},
   "source": [
    "... with more information, using option '*-o wide*'"
   ]
  },
  {
   "cell_type": "code",
   "execution_count": 60,
   "metadata": {},
   "outputs": [
    {
     "name": "stdout",
     "output_type": "stream",
     "text": [
      "NAME              DESIRED   CURRENT   UP-TO-DATE   AVAILABLE   AGE       CONTAINERS   IMAGES                SELECTOR\n",
      "deploy/k8s-demo   2         2         2            2           26s       k8s-demo     mjbright/k8s-demo:1   app=k8s-demo\n",
      "\n",
      "NAME                     DESIRED   CURRENT   READY     AGE       CONTAINERS   IMAGES                SELECTOR\n",
      "rs/k8s-demo-7bc74f7946   2         2         2         26s       k8s-demo     mjbright/k8s-demo:1   app=k8s-demo,pod-template-hash=3673093502\n",
      "\n",
      "NAME              DESIRED   CURRENT   UP-TO-DATE   AVAILABLE   AGE       CONTAINERS   IMAGES                SELECTOR\n",
      "deploy/k8s-demo   2         2         2            2           26s       k8s-demo     mjbright/k8s-demo:1   app=k8s-demo\n",
      "\n",
      "NAME                     DESIRED   CURRENT   READY     AGE       CONTAINERS   IMAGES                SELECTOR\n",
      "rs/k8s-demo-7bc74f7946   2         2         2         26s       k8s-demo     mjbright/k8s-demo:1   app=k8s-demo,pod-template-hash=3673093502\n",
      "\n",
      "NAME                           READY     STATUS    RESTARTS   AGE       IP           NODE\n",
      "po/k8s-demo-7bc74f7946-6bst7   1/1       Running   0          26s       10.192.3.5   kube-node-2\n",
      "po/k8s-demo-7bc74f7946-bkfhk   1/1       Running   0          26s       10.192.2.4   kube-node-1\n",
      "\n",
      "NAME             TYPE        CLUSTER-IP   EXTERNAL-IP   PORT(S)   AGE       SELECTOR\n",
      "svc/kubernetes   ClusterIP   10.96.0.1    <none>        443/TCP   22h       <none>\n"
     ]
    }
   ],
   "source": [
    "kubectl get all -o wide"
   ]
  },
  {
   "cell_type": "markdown",
   "metadata": {},
   "source": [
    "## Creating resources using yaml specifications\n",
    "\n",
    "### Obtaining yaml as output\n",
    "\n",
    "Using the option '-o yaml' to any 'kubectl get' command we can obtain a yaml definition, so instead of"
   ]
  },
  {
   "cell_type": "code",
   "execution_count": 61,
   "metadata": {},
   "outputs": [
    {
     "name": "stdout",
     "output_type": "stream",
     "text": [
      "NAME       DESIRED   CURRENT   UP-TO-DATE   AVAILABLE   AGE       CONTAINERS   IMAGES                SELECTOR\n",
      "k8s-demo   2         2         2            2           33s       k8s-demo     mjbright/k8s-demo:1   app=k8s-demo\n"
     ]
    }
   ],
   "source": [
    "kubectl get deploy/k8s-demo -o wide"
   ]
  },
  {
   "cell_type": "markdown",
   "metadata": {},
   "source": [
    "we get ..."
   ]
  },
  {
   "cell_type": "code",
   "execution_count": 62,
   "metadata": {},
   "outputs": [
    {
     "name": "stdout",
     "output_type": "stream",
     "text": [
      "apiVersion: extensions/v1beta1\n",
      "kind: Deployment\n",
      "metadata:\n",
      "  annotations:\n",
      "    deployment.kubernetes.io/revision: \"1\"\n",
      "  creationTimestamp: 2018-01-19T14:16:37Z\n",
      "  generation: 1\n",
      "  labels:\n",
      "    app: k8s-demo\n",
      "  name: k8s-demo\n",
      "  namespace: default\n",
      "  resourceVersion: \"111146\"\n",
      "  selfLink: /apis/extensions/v1beta1/namespaces/default/deployments/k8s-demo\n",
      "  uid: 5c7a908c-fd23-11e7-8b3e-02420ac00002\n",
      "spec:\n",
      "  replicas: 2\n",
      "  selector:\n",
      "    matchLabels:\n",
      "      app: k8s-demo\n",
      "  strategy:\n",
      "    rollingUpdate:\n",
      "      maxSurge: 1\n",
      "      maxUnavailable: 1\n",
      "    type: RollingUpdate\n",
      "  template:\n",
      "    metadata:\n",
      "      creationTimestamp: null\n",
      "      labels:\n",
      "        app: k8s-demo\n",
      "    spec:\n",
      "      containers:\n",
      "      - image: mjbright/k8s-demo:1\n",
      "        imagePullPolicy: IfNotPresent\n",
      "        name: k8s-demo\n",
      "        ports:\n",
      "        - containerPort: 8080\n",
      "          protocol: TCP\n",
      "        resources: {}\n",
      "        terminationMessagePath: /dev/termination-log\n",
      "        terminationMessagePolicy: File\n",
      "      dnsPolicy: ClusterFirst\n",
      "      restartPolicy: Always\n",
      "      schedulerName: default-scheduler\n",
      "      securityContext: {}\n",
      "      terminationGracePeriodSeconds: 30\n",
      "status:\n",
      "  availableReplicas: 2\n",
      "  conditions:\n",
      "  - lastTransitionTime: 2018-01-19T14:16:40Z\n",
      "    lastUpdateTime: 2018-01-19T14:16:40Z\n",
      "    message: Deployment has minimum availability.\n",
      "    reason: MinimumReplicasAvailable\n",
      "    status: \"True\"\n",
      "    type: Available\n",
      "  observedGeneration: 1\n",
      "  readyReplicas: 2\n",
      "  replicas: 2\n",
      "  updatedReplicas: 2\n"
     ]
    }
   ],
   "source": [
    "kubectl get deploy/k8s-demo -o yaml"
   ]
  },
  {
   "cell_type": "code",
   "execution_count": 72,
   "metadata": {},
   "outputs": [
    {
     "name": "stdout",
     "output_type": "stream",
     "text": [
      "\n",
      "apiVersion: v1\n",
      "kind: Pod\n",
      "metadata:\n",
      "  name: 2-containers-in-a-pod\n",
      "spec:\n",
      "  containers:\n",
      "  - name: k8s-demo\n",
      "    image: mjbright/k8s-demo:1\n",
      "    ports:\n",
      "    - containerPort: 9876\n",
      "  - name: shell\n",
      "    image: alpine\n",
      "    command:\n",
      "      - \"bin/sh\"\n",
      "      - \"-c\"\n",
      "      - \"while true; do date; sleep 1; done\"\n",
      "\n"
     ]
    }
   ],
   "source": [
    "cat examples/3.pod_example.yaml"
   ]
  },
  {
   "cell_type": "code",
   "execution_count": 73,
   "metadata": {},
   "outputs": [
    {
     "name": "stdout",
     "output_type": "stream",
     "text": [
      "NAME              DESIRED   CURRENT   UP-TO-DATE   AVAILABLE   AGE\n",
      "deploy/k8s-demo   2         2         2            2           3m\n",
      "\n",
      "NAME                     DESIRED   CURRENT   READY     AGE\n",
      "rs/k8s-demo-7bc74f7946   2         2         2         3m\n",
      "\n",
      "NAME              DESIRED   CURRENT   UP-TO-DATE   AVAILABLE   AGE\n",
      "deploy/k8s-demo   2         2         2            2           3m\n",
      "\n",
      "NAME                     DESIRED   CURRENT   READY     AGE\n",
      "rs/k8s-demo-7bc74f7946   2         2         2         3m\n",
      "\n",
      "NAME                           READY     STATUS    RESTARTS   AGE\n",
      "po/2-containers-in-a-pod       2/2       Running   0          1m\n",
      "po/k8s-demo-7bc74f7946-6bst7   1/1       Running   0          3m\n",
      "po/k8s-demo-7bc74f7946-bkfhk   1/1       Running   0          3m\n",
      "\n",
      "NAME             TYPE        CLUSTER-IP   EXTERNAL-IP   PORT(S)   AGE\n",
      "svc/kubernetes   ClusterIP   10.96.0.1    <none>        443/TCP   22h\n"
     ]
    }
   ],
   "source": [
    "kubectl get all"
   ]
  },
  {
   "cell_type": "code",
   "execution_count": 76,
   "metadata": {},
   "outputs": [
    {
     "name": "stdout",
     "output_type": "stream",
     "text": [
      "NAME                        READY     STATUS        RESTARTS   AGE\n",
      "2-containers-in-a-pod       2/2       Terminating   0          2m\n",
      "k8s-demo-7bc74f7946-6bst7   1/1       Running       0          3m\n",
      "k8s-demo-7bc74f7946-bkfhk   1/1       Running       0          3m\n"
     ]
    }
   ],
   "source": [
    "#kubectl delete po/2-containers-in-a-pod\n",
    "#kubectl get pods"
   ]
  },
  {
   "cell_type": "code",
   "execution_count": 77,
   "metadata": {},
   "outputs": [
    {
     "name": "stdout",
     "output_type": "stream",
     "text": [
      "pod \"2-containers-in-a-pod\" created\n"
     ]
    }
   ],
   "source": [
    "kubectl create -f examples/3.pod_example.yaml"
   ]
  },
  {
   "cell_type": "code",
   "execution_count": 78,
   "metadata": {},
   "outputs": [
    {
     "name": "stdout",
     "output_type": "stream",
     "text": [
      "NAME              DESIRED   CURRENT   UP-TO-DATE   AVAILABLE   AGE\n",
      "deploy/k8s-demo   2         2         2            2           7m\n",
      "\n",
      "NAME                     DESIRED   CURRENT   READY     AGE\n",
      "rs/k8s-demo-7bc74f7946   2         2         2         7m\n",
      "\n",
      "NAME              DESIRED   CURRENT   UP-TO-DATE   AVAILABLE   AGE\n",
      "deploy/k8s-demo   2         2         2            2           7m\n",
      "\n",
      "NAME                     DESIRED   CURRENT   READY     AGE\n",
      "rs/k8s-demo-7bc74f7946   2         2         2         7m\n",
      "\n",
      "NAME                           READY     STATUS    RESTARTS   AGE\n",
      "po/2-containers-in-a-pod       2/2       Running   0          8s\n",
      "po/k8s-demo-7bc74f7946-6bst7   1/1       Running   0          7m\n",
      "po/k8s-demo-7bc74f7946-bkfhk   1/1       Running   0          7m\n",
      "\n",
      "NAME             TYPE        CLUSTER-IP   EXTERNAL-IP   PORT(S)   AGE\n",
      "svc/kubernetes   ClusterIP   10.96.0.1    <none>        443/TCP   22h\n"
     ]
    }
   ],
   "source": [
    "kubectl get all"
   ]
  },
  {
   "cell_type": "code",
   "execution_count": 79,
   "metadata": {},
   "outputs": [
    {
     "name": "stdout",
     "output_type": "stream",
     "text": [
      "NAME              DESIRED   CURRENT   UP-TO-DATE   AVAILABLE   AGE\n",
      "deploy/k8s-demo   2         2         2            2           7m\n",
      "\n",
      "NAME                     DESIRED   CURRENT   READY     AGE\n",
      "rs/k8s-demo-7bc74f7946   2         2         2         7m\n",
      "\n",
      "NAME              DESIRED   CURRENT   UP-TO-DATE   AVAILABLE   AGE\n",
      "deploy/k8s-demo   2         2         2            2           7m\n",
      "\n",
      "NAME                     DESIRED   CURRENT   READY     AGE\n",
      "rs/k8s-demo-7bc74f7946   2         2         2         7m\n",
      "\n",
      "NAME                           READY     STATUS    RESTARTS   AGE\n",
      "po/2-containers-in-a-pod       2/2       Running   0          11s\n",
      "po/k8s-demo-7bc74f7946-6bst7   1/1       Running   0          7m\n",
      "po/k8s-demo-7bc74f7946-bkfhk   1/1       Running   0          7m\n",
      "\n",
      "NAME             TYPE        CLUSTER-IP   EXTERNAL-IP   PORT(S)   AGE\n",
      "svc/kubernetes   ClusterIP   10.96.0.1    <none>        443/TCP   22h\n"
     ]
    }
   ],
   "source": [
    "kubectl get all"
   ]
  },
  {
   "cell_type": "code",
   "execution_count": 80,
   "metadata": {},
   "outputs": [
    {
     "name": "stdout",
     "output_type": "stream",
     "text": [
      "Name:         2-containers-in-a-pod\n",
      "Namespace:    default\n",
      "Node:         kube-node-2/10.192.0.4\n",
      "Start Time:   Fri, 19 Jan 2018 14:23:36 +0000\n",
      "Labels:       <none>\n",
      "Annotations:  <none>\n",
      "Status:       Running\n",
      "IP:           10.192.3.6\n",
      "Containers:\n",
      "  k8s-demo:\n",
      "    Container ID:   docker://9c2a62ca441b6863facafb429456d56e923cd264e31544633ab2b0d354cd5210\n",
      "    Image:          mjbright/k8s-demo:1\n",
      "    Image ID:       docker-pullable://mjbright/k8s-demo@sha256:c5790558dfb46014b1d3eae68d33998b411a4f3f3ed476dd169f3f00491d923b\n",
      "    Port:           9876/TCP\n",
      "    State:          Running\n",
      "      Started:      Fri, 19 Jan 2018 14:23:38 +0000\n",
      "    Ready:          True\n",
      "    Restart Count:  0\n",
      "    Environment:    <none>\n",
      "    Mounts:\n",
      "      /var/run/secrets/kubernetes.io/serviceaccount from default-token-lpmff (ro)\n",
      "  shell:\n",
      "    Container ID:  docker://6fe0f0b1d622691e4d209b0c77e02c5deec780d40368487c28fa26e67f9a907e\n",
      "    Image:         alpine\n",
      "    Image ID:      docker-pullable://alpine@sha256:7df6db5aa61ae9480f52f0b3a06a140ab98d427f86d8d5de0bedab9b8df6b1c0\n",
      "    Port:          <none>\n",
      "    Command:\n",
      "      bin/sh\n",
      "      -c\n",
      "      while true; do date; sleep 1; done\n",
      "    State:          Running\n",
      "      Started:      Fri, 19 Jan 2018 14:23:39 +0000\n",
      "    Ready:          True\n",
      "    Restart Count:  0\n",
      "    Environment:    <none>\n",
      "    Mounts:\n",
      "      /var/run/secrets/kubernetes.io/serviceaccount from default-token-lpmff (ro)\n",
      "Conditions:\n",
      "  Type           Status\n",
      "  Initialized    True \n",
      "  Ready          True \n",
      "  PodScheduled   True \n",
      "Volumes:\n",
      "  default-token-lpmff:\n",
      "    Type:        Secret (a volume populated by a Secret)\n",
      "    SecretName:  default-token-lpmff\n",
      "    Optional:    false\n",
      "QoS Class:       BestEffort\n",
      "Node-Selectors:  <none>\n",
      "Tolerations:     node.alpha.kubernetes.io/notReady:NoExecute for 300s\n",
      "                 node.alpha.kubernetes.io/unreachable:NoExecute for 300s\n",
      "Events:\n",
      "  Type    Reason                 Age   From                  Message\n",
      "  ----    ------                 ----  ----                  -------\n",
      "  Normal  Scheduled              14s   default-scheduler     Successfully assigned 2-containers-in-a-pod to kube-node-2\n",
      "  Normal  SuccessfulMountVolume  14s   kubelet, kube-node-2  MountVolume.SetUp succeeded for volume \"default-token-lpmff\"\n",
      "  Normal  Pulled                 12s   kubelet, kube-node-2  Container image \"mjbright/k8s-demo:1\" already present on machine\n",
      "  Normal  Created                12s   kubelet, kube-node-2  Created container\n",
      "  Normal  Started                12s   kubelet, kube-node-2  Started container\n",
      "  Normal  Pulling                12s   kubelet, kube-node-2  pulling image \"alpine\"\n",
      "  Normal  Pulled                 11s   kubelet, kube-node-2  Successfully pulled image \"alpine\"\n",
      "  Normal  Created                11s   kubelet, kube-node-2  Created container\n",
      "  Normal  Started                11s   kubelet, kube-node-2  Started container\n"
     ]
    }
   ],
   "source": [
    "kubectl describe po/2-containers-in-a-pod"
   ]
  },
  {
   "cell_type": "code",
   "execution_count": 86,
   "metadata": {},
   "outputs": [
    {
     "name": "stdout",
     "output_type": "stream",
     "text": [
      "Defaulting container name to k8s-demo.\n",
      "Use 'kubectl describe pod/2-containers-in-a-pod -n default' to see all of the containers in this pod.\n",
      "hello world\n"
     ]
    }
   ],
   "source": [
    "kubectl exec -it 2-containers-in-a-pod -n default echo hello world"
   ]
  },
  {
   "cell_type": "code",
   "execution_count": 90,
   "metadata": {},
   "outputs": [
    {
     "name": "stdout",
     "output_type": "stream",
     "text": [
      "Fri Jan 19 14:23:39 UTC 2018\n",
      "Fri Jan 19 14:23:40 UTC 2018\n",
      "Fri Jan 19 14:23:41 UTC 2018\n"
     ]
    }
   ],
   "source": [
    "kubectl logs 2-containers-in-a-pod shell | head -3"
   ]
  },
  {
   "cell_type": "code",
   "execution_count": 89,
   "metadata": {},
   "outputs": [
    {
     "name": "stdout",
     "output_type": "stream",
     "text": [
      "pod \"2-containers-in-a-pod\" deleted\n"
     ]
    }
   ],
   "source": [
    "kubectl delete po/2-containers-in-a-pod"
   ]
  },
  {
   "cell_type": "code",
   "execution_count": 92,
   "metadata": {},
   "outputs": [
    {
     "name": "stdout",
     "output_type": "stream",
     "text": [
      "NAME                        READY     STATUS    RESTARTS   AGE\n",
      "k8s-demo-7bc74f7946-6bst7   1/1       Running   0          10m\n",
      "k8s-demo-7bc74f7946-bkfhk   1/1       Running   0          10m\n"
     ]
    }
   ],
   "source": [
    "kubectl get pods"
   ]
  },
  {
   "cell_type": "markdown",
   "metadata": {},
   "source": [
    "## Accessing our application\n",
    "\n",
    "To access our application pods we should expose them as a service.\n",
    "This would have the advantage of being able to address a virtual ip address for our service as pods themselves come and go (so we don't need to determine their address), and also allows load balancing between pods.\n",
    "\n",
    "### Accessing our application - directly accessing Pods\n",
    "\n",
    "But there are other more basic ways that we will investigate first.\n",
    "\n",
    "If we perform '''kubectl get pods -o wide''' we will see the cluster ip of our pods, enabling us to access directly to the pods."
   ]
  },
  {
   "cell_type": "code",
   "execution_count": 93,
   "metadata": {},
   "outputs": [
    {
     "name": "stdout",
     "output_type": "stream",
     "text": [
      "NAME                        READY     STATUS    RESTARTS   AGE       IP           NODE\n",
      "k8s-demo-7bc74f7946-6bst7   1/1       Running   0          10m       10.192.3.5   kube-node-2\n",
      "k8s-demo-7bc74f7946-bkfhk   1/1       Running   0          10m       10.192.2.4   kube-node-1\n"
     ]
    }
   ],
   "source": [
    "kubectl get pods -o wide"
   ]
  },
  {
   "cell_type": "code",
   "execution_count": 94,
   "metadata": {},
   "outputs": [
    {
     "name": "stdout",
     "output_type": "stream",
     "text": [
      "POD1=k8s-demo-7bc74f7946-6bst7 POD1_IP=10.192.3.5\n",
      "POD2=k8s-demo-7bc74f7946-bkfhk POD2_IP=10.192.2.4\n"
     ]
    }
   ],
   "source": [
    "POD1=$(kubectl get pods -o wide --no-headers=true | head -1 | awk '{print $1;}')\n",
    "POD2=$(kubectl get pods -o wide --no-headers=true | tail -1 | awk '{print $1;}')\n",
    "POD1_IP=$(kubectl get pods -o wide --no-headers=true | head -1 | awk '{print $6;}')\n",
    "POD2_IP=$(kubectl get pods -o wide --no-headers=true | tail -1 | awk '{print $6;}')\n",
    "\n",
    "echo POD1=$POD1 POD1_IP=$POD1_IP\n",
    "echo POD2=$POD2 POD2_IP=$POD2_IP"
   ]
  },
  {
   "cell_type": "markdown",
   "metadata": {},
   "source": [
    "Let's look at the yaml information for POD1:"
   ]
  },
  {
   "cell_type": "code",
   "execution_count": 95,
   "metadata": {},
   "outputs": [
    {
     "name": "stdout",
     "output_type": "stream",
     "text": [
      "apiVersion: v1\n",
      "kind: Pod\n",
      "metadata:\n",
      "  annotations:\n",
      "    kubernetes.io/created-by: |\n",
      "      {\"kind\":\"SerializedReference\",\"apiVersion\":\"v1\",\"reference\":{\"kind\":\"ReplicaSet\",\"namespace\":\"default\",\"name\":\"k8s-demo-7bc74f7946\",\"uid\":\"5c7be8fb-fd23-11e7-8b3e-02420ac00002\",\"apiVersion\":\"extensions\",\"resourceVersion\":\"111110\"}}\n",
      "  creationTimestamp: 2018-01-19T14:16:37Z\n",
      "  generateName: k8s-demo-7bc74f7946-\n",
      "  labels:\n",
      "    app: k8s-demo\n",
      "    pod-template-hash: \"3673093502\"\n",
      "  name: k8s-demo-7bc74f7946-6bst7\n",
      "  namespace: default\n",
      "  ownerReferences:\n",
      "  - apiVersion: extensions/v1beta1\n",
      "    blockOwnerDeletion: true\n",
      "    controller: true\n",
      "    kind: ReplicaSet\n",
      "    name: k8s-demo-7bc74f7946\n",
      "    uid: 5c7be8fb-fd23-11e7-8b3e-02420ac00002\n",
      "  resourceVersion: \"111140\"\n",
      "  selfLink: /api/v1/namespaces/default/pods/k8s-demo-7bc74f7946-6bst7\n",
      "  uid: 5c84120e-fd23-11e7-8b3e-02420ac00002\n",
      "spec:\n",
      "  containers:\n",
      "  - image: mjbright/k8s-demo:1\n",
      "    imagePullPolicy: IfNotPresent\n",
      "    name: k8s-demo\n",
      "    ports:\n",
      "    - containerPort: 8080\n",
      "      protocol: TCP\n",
      "    resources: {}\n",
      "    terminationMessagePath: /dev/termination-log\n",
      "    terminationMessagePolicy: File\n",
      "    volumeMounts:\n",
      "    - mountPath: /var/run/secrets/kubernetes.io/serviceaccount\n",
      "      name: default-token-lpmff\n",
      "      readOnly: true\n",
      "  dnsPolicy: ClusterFirst\n",
      "  nodeName: kube-node-2\n",
      "  restartPolicy: Always\n",
      "  schedulerName: default-scheduler\n",
      "  securityContext: {}\n",
      "  serviceAccount: default\n",
      "  serviceAccountName: default\n",
      "  terminationGracePeriodSeconds: 30\n",
      "  tolerations:\n",
      "  - effect: NoExecute\n",
      "    key: node.alpha.kubernetes.io/notReady\n",
      "    operator: Exists\n",
      "    tolerationSeconds: 300\n",
      "  - effect: NoExecute\n",
      "    key: node.alpha.kubernetes.io/unreachable\n",
      "    operator: Exists\n",
      "    tolerationSeconds: 300\n",
      "  volumes:\n",
      "  - name: default-token-lpmff\n",
      "    secret:\n",
      "      defaultMode: 420\n",
      "      secretName: default-token-lpmff\n",
      "status:\n",
      "  conditions:\n",
      "  - lastProbeTime: null\n",
      "    lastTransitionTime: 2018-01-19T14:16:37Z\n",
      "    status: \"True\"\n",
      "    type: Initialized\n",
      "  - lastProbeTime: null\n",
      "    lastTransitionTime: 2018-01-19T14:16:40Z\n",
      "    status: \"True\"\n",
      "    type: Ready\n",
      "  - lastProbeTime: null\n",
      "    lastTransitionTime: 2018-01-19T14:16:37Z\n",
      "    status: \"True\"\n",
      "    type: PodScheduled\n",
      "  containerStatuses:\n",
      "  - containerID: docker://8abdb3c4d9b3a1561a0e738ae4528d5f62e8d41792d9c8356bdec305c0780042\n",
      "    image: mjbright/k8s-demo:1\n",
      "    imageID: docker-pullable://mjbright/k8s-demo@sha256:c5790558dfb46014b1d3eae68d33998b411a4f3f3ed476dd169f3f00491d923b\n",
      "    lastState: {}\n",
      "    name: k8s-demo\n",
      "    ready: true\n",
      "    restartCount: 0\n",
      "    state:\n",
      "      running:\n",
      "        startedAt: 2018-01-19T14:16:40Z\n",
      "  hostIP: 10.192.0.4\n",
      "  phase: Running\n",
      "  podIP: 10.192.3.5\n",
      "  qosClass: BestEffort\n",
      "  startTime: 2018-01-19T14:16:37Z\n"
     ]
    }
   ],
   "source": [
    "kubectl get pod $POD1 -o yaml"
   ]
  },
  {
   "cell_type": "markdown",
   "metadata": {},
   "source": [
    "So now we can access to the pods directly on their port 8080:"
   ]
  },
  {
   "cell_type": "code",
   "execution_count": 96,
   "metadata": {},
   "outputs": [
    {
     "name": "stdout",
     "output_type": "stream",
     "text": [
      "\u001b[1;36m\n",
      "                ./shhs:`                \n",
      "            .+ymmdyosydNms/`            \n",
      "        -+yNmhs+++++++++oydNmy/.        \n",
      "    .+hNmhs++++++++yy+++++++oydNmy+.    \n",
      "   +Mds++++++++++++md++++++++++++smM/   \n",
      "  `MN++++++++++oshhNNhys+++++++++++Nm   \n",
      "  oMy++++mmsohNMNddMMhdNMmy+ymm++++yM/  \n",
      "  NN++++++omMMmo++sMM+++sNMMdo++++++Nd  \n",
      " /Mh++++++yMNdMNhsyMMssdMMdNMs++++++hM- \n",
      " mMo++++++NMo+ohMMMNNMMNh++sMm++++++oMy \n",
      ":Md++++++oMNosydNMm++NMNhysoMM+++++++hM.\n",
      "hMo+++shhdMMNNmddMMNNMNddmNMMMdhyo+++oMs\n",
      "mMo+++syo+sMmo++sMMhdMNo++oNMy+oss+++oMh\n",
      "-mMy+++++++sNNysMMy++hMNohMNs+++++++yNh`\n",
      "  oMmo+++++++ymMMmhyyhNMMmy+++++++omm:  \n",
      "   .hMh+++++++hNyyhddhyymh+++++++hMo`   \n",
      "     /NNs++++yNo++++++++oNy++++sNd.     \n",
      "      `sMdo++++++++++++++++++odN/       \n",
      "        -dMhsssssssssssssssshNy`        \n",
      "          :shhhhhhhhhhhhhhhyo.          \n",
      "\u001b[0m\n",
      "\n",
      "Served from container \u001b[1;33mk8s-demo-7bc74f7946-6bst7\u001b[0;0m\n"
     ]
    }
   ],
   "source": [
    "curl http://$POD1_IP:8080"
   ]
  },
  {
   "cell_type": "code",
   "execution_count": 97,
   "metadata": {},
   "outputs": [
    {
     "name": "stdout",
     "output_type": "stream",
     "text": [
      "\u001b[1;36m\n",
      "                ./shhs:`                \n",
      "            .+ymmdyosydNms/`            \n",
      "        -+yNmhs+++++++++oydNmy/.        \n",
      "    .+hNmhs++++++++yy+++++++oydNmy+.    \n",
      "   +Mds++++++++++++md++++++++++++smM/   \n",
      "  `MN++++++++++oshhNNhys+++++++++++Nm   \n",
      "  oMy++++mmsohNMNddMMhdNMmy+ymm++++yM/  \n",
      "  NN++++++omMMmo++sMM+++sNMMdo++++++Nd  \n",
      " /Mh++++++yMNdMNhsyMMssdMMdNMs++++++hM- \n",
      " mMo++++++NMo+ohMMMNNMMNh++sMm++++++oMy \n",
      ":Md++++++oMNosydNMm++NMNhysoMM+++++++hM.\n",
      "hMo+++shhdMMNNmddMMNNMNddmNMMMdhyo+++oMs\n",
      "mMo+++syo+sMmo++sMMhdMNo++oNMy+oss+++oMh\n",
      "-mMy+++++++sNNysMMy++hMNohMNs+++++++yNh`\n",
      "  oMmo+++++++ymMMmhyyhNMMmy+++++++omm:  \n",
      "   .hMh+++++++hNyyhddhyymh+++++++hMo`   \n",
      "     /NNs++++yNo++++++++oNy++++sNd.     \n",
      "      `sMdo++++++++++++++++++odN/       \n",
      "        -dMhsssssssssssssssshNy`        \n",
      "          :shhhhhhhhhhhhhhhyo.          \n",
      "\u001b[0m\n",
      "\n",
      "Served from container \u001b[1;33mk8s-demo-7bc74f7946-bkfhk\u001b[0;0m\n"
     ]
    }
   ],
   "source": [
    "curl http://$POD2_IP:8080"
   ]
  },
  {
   "cell_type": "markdown",
   "metadata": {},
   "source": [
    "# Kube-proxy\n",
    "\n",
    "## TODO: Accessing our application - accessing via kube-proxy\n",
    "\n",
    "<hr/>"
   ]
  }
 ],
 "metadata": {
  "kernelspec": {
   "display_name": "Bash",
   "language": "bash",
   "name": "bash"
  },
  "language_info": {
   "codemirror_mode": "shell",
   "file_extension": ".sh",
   "mimetype": "text/x-sh",
   "name": "bash"
  }
 },
 "nbformat": 4,
 "nbformat_minor": 2
}
