{
 "cells": [
  {
   "cell_type": "markdown",
   "metadata": {},
   "source": [
    "# Kubernetes Pods"
   ]
  },
  {
   "cell_type": "code",
   "execution_count": null,
   "metadata": {
    "collapsed": true
   },
   "outputs": [],
   "source": [
    "# Cleanup\n",
    "\n",
    "kubectl get all\n",
    "#kubectl delete po/2-containers-in-a-pod\n",
    "#kubectl delete deploy k8s-demo\n",
    "#kubectl delete service k8s-demo-service"
   ]
  },
  {
   "cell_type": "markdown",
   "metadata": {},
   "source": [
    "We've seen already how we can interrogate our cluster server using the kubectl tool, obtaining information about objects such as some system pods, in the system.\n",
    "\n",
    "Now let's create our own pods using kubectl.\n",
    "\n",
    "Normally we would not create pods directly using command-line arguments, as we will do here.\n",
    "\n",
    "We would create objects in a repeatable, declarative way from yaml files, but we will do that later.\n",
    "\n",
    "The below ```kubectl run``` command will create 2 pods (replicas), each running just 1 container from the k8s-demo image.\n",
    "\n",
    "Note that we can specify labels on any kubernetes objects, using the -l option followd by key=value pairs, e.g.\n",
    "    -l \"key1=val1,key2=val2\"\n",
    "    \n",
    "These labels are extremely useful allowing us to select a group of objects using a label selector.\n",
    "\n",
    "Labels might be used to mark components of the cluster as dev, test or production for example.\n",
    "\n",
    "Or they might be used to signal hardware specifics of a node, to distinguish physical nodes with SSD disks, or GPU which could then be prioritized for particular types of processing which might be disk i/o or CPU intensive.\n",
    "\n",
    "k8sdemo is a small Docker image of 6MBy on the Docker hub [HERE](https://hub.docker.com/r/mjbright/k8s-demo/tags/)"
   ]
  },
  {
   "cell_type": "code",
   "execution_count": null,
   "metadata": {
    "collapsed": true
   },
   "outputs": [],
   "source": [
    "echo; echo \"-- initial kubectl get all\"\n",
    "kubectl get all\n",
    "\n",
    "echo; echo \"-- kubectl run k8s0demo\"\n",
    "kubectl run k8s-demo -l \"app=k8s-demo\" --image=mjbright/k8s-demo:1 --replicas=2 --port=8080\n",
    "\n",
    "echo; echo \"-- second kubectl get all\"\n",
    "kubectl get all"
   ]
  },
  {
   "cell_type": "markdown",
   "metadata": {},
   "source": [
    "In the above output we see that the only running resource initially was an internal service.\n",
    "\n",
    "Once we perform '''kubectl run'' this spawns a **deployment** called *k8s-demo*, which creates a corrsponding **replicaset** which in turn spawns 2 **pods**.\n",
    "\n",
    "As we performed the '''kubectl get all''' immediately after the run, we see the status before the pod containers have been created ... in fact there is a delay whilst the images are downloaded (for a first run) and pods instantiated.\n",
    "\n",
    "Re-running '''kubectl get all''' shows the pods as *running* now."
   ]
  },
  {
   "cell_type": "code",
   "execution_count": null,
   "metadata": {
    "collapsed": true
   },
   "outputs": [],
   "source": [
    "kubectl get all"
   ]
  },
  {
   "cell_type": "markdown",
   "metadata": {},
   "source": [
    "... with more information, using option '*-o wide*'"
   ]
  },
  {
   "cell_type": "code",
   "execution_count": null,
   "metadata": {
    "collapsed": true
   },
   "outputs": [],
   "source": [
    "kubectl get all -o wide"
   ]
  },
  {
   "cell_type": "markdown",
   "metadata": {},
   "source": [
    "## Creating resources using yaml specifications\n",
    "\n",
    "### Obtaining yaml as output\n",
    "\n",
    "Using the option '-o yaml' to any 'kubectl get' command we can obtain a yaml definition, so instead of"
   ]
  },
  {
   "cell_type": "code",
   "execution_count": null,
   "metadata": {
    "collapsed": true
   },
   "outputs": [],
   "source": [
    "kubectl get deploy/k8s-demo -o wide"
   ]
  },
  {
   "cell_type": "markdown",
   "metadata": {},
   "source": [
    "we get ..."
   ]
  },
  {
   "cell_type": "code",
   "execution_count": null,
   "metadata": {
    "collapsed": true
   },
   "outputs": [],
   "source": [
    "kubectl get deploy/k8s-demo -o yaml"
   ]
  },
  {
   "cell_type": "code",
   "execution_count": null,
   "metadata": {
    "collapsed": true
   },
   "outputs": [],
   "source": [
    "cat examples/3.pod_example.yaml"
   ]
  },
  {
   "cell_type": "code",
   "execution_count": null,
   "metadata": {
    "collapsed": true
   },
   "outputs": [],
   "source": [
    "kubectl get all"
   ]
  },
  {
   "cell_type": "code",
   "execution_count": null,
   "metadata": {
    "collapsed": true
   },
   "outputs": [],
   "source": [
    "#kubectl delete po/2-containers-in-a-pod\n",
    "#kubectl get pods"
   ]
  },
  {
   "cell_type": "code",
   "execution_count": null,
   "metadata": {
    "collapsed": true
   },
   "outputs": [],
   "source": [
    "kubectl create -f examples/3.pod_example.yaml"
   ]
  },
  {
   "cell_type": "code",
   "execution_count": null,
   "metadata": {
    "collapsed": true
   },
   "outputs": [],
   "source": [
    "kubectl get all"
   ]
  },
  {
   "cell_type": "code",
   "execution_count": null,
   "metadata": {
    "collapsed": true
   },
   "outputs": [],
   "source": [
    "kubectl get all"
   ]
  },
  {
   "cell_type": "code",
   "execution_count": null,
   "metadata": {
    "collapsed": true
   },
   "outputs": [],
   "source": [
    "kubectl describe po/2-containers-in-a-pod"
   ]
  },
  {
   "cell_type": "code",
   "execution_count": null,
   "metadata": {
    "collapsed": true
   },
   "outputs": [],
   "source": [
    "kubectl exec -it 2-containers-in-a-pod -n default echo hello world"
   ]
  },
  {
   "cell_type": "code",
   "execution_count": null,
   "metadata": {
    "collapsed": true
   },
   "outputs": [],
   "source": [
    "kubectl logs 2-containers-in-a-pod shell | head -3"
   ]
  },
  {
   "cell_type": "code",
   "execution_count": null,
   "metadata": {
    "collapsed": true
   },
   "outputs": [],
   "source": [
    "kubectl delete po/2-containers-in-a-pod"
   ]
  },
  {
   "cell_type": "code",
   "execution_count": null,
   "metadata": {
    "collapsed": true
   },
   "outputs": [],
   "source": [
    "kubectl get pods"
   ]
  },
  {
   "cell_type": "markdown",
   "metadata": {},
   "source": [
    "## What happens if a pod dies?"
   ]
  },
  {
   "cell_type": "code",
   "execution_count": null,
   "metadata": {
    "collapsed": true
   },
   "outputs": [],
   "source": [
    "kubectl get pods -o wide\n",
    "kubectl scale --replicas=3 rs/xxxx\n",
    "kubectl get pods -o wide"
   ]
  },
  {
   "cell_type": "code",
   "execution_count": null,
   "metadata": {
    "collapsed": true
   },
   "outputs": [],
   "source": [
    "kubectl delete pod newpod"
   ]
  },
  {
   "cell_type": "code",
   "execution_count": null,
   "metadata": {
    "collapsed": true
   },
   "outputs": [],
   "source": [
    "kubectl get pods -o wide"
   ]
  },
  {
   "cell_type": "code",
   "execution_count": null,
   "metadata": {
    "collapsed": true
   },
   "outputs": [],
   "source": [
    "kubectl scale --replicas=3 rs/xxxx"
   ]
  },
  {
   "cell_type": "markdown",
   "metadata": {},
   "source": [
    "## What happens if a node dies?"
   ]
  },
  {
   "cell_type": "markdown",
   "metadata": {},
   "source": [
    "Do we really want to try this?"
   ]
  },
  {
   "cell_type": "markdown",
   "metadata": {},
   "source": [
    "## Accessing our application\n",
    "\n",
    "To access our application pods we should expose them as a service.\n",
    "This would have the advantage of being able to address a virtual ip address for our service as pods themselves come and go (so we don't need to determine their address), and also allows load balancing between pods.\n",
    "\n",
    "### Accessing our application - directly accessing Pods\n",
    "\n",
    "But there are other more basic ways that we will investigate first.\n",
    "\n",
    "If we perform '''kubectl get pods -o wide''' we will see the cluster ip of our pods, enabling us to access directly to the pods."
   ]
  },
  {
   "cell_type": "code",
   "execution_count": null,
   "metadata": {
    "collapsed": true
   },
   "outputs": [],
   "source": [
    "kubectl get pods -o wide"
   ]
  },
  {
   "cell_type": "code",
   "execution_count": null,
   "metadata": {
    "collapsed": true
   },
   "outputs": [],
   "source": [
    "POD1=$(kubectl get pods -o wide --no-headers=true | head -1 | awk '{print $1;}')\n",
    "POD2=$(kubectl get pods -o wide --no-headers=true | tail -1 | awk '{print $1;}')\n",
    "POD1_IP=$(kubectl get pods -o wide --no-headers=true | head -1 | awk '{print $6;}')\n",
    "POD2_IP=$(kubectl get pods -o wide --no-headers=true | tail -1 | awk '{print $6;}')\n",
    "\n",
    "echo POD1=$POD1 POD1_IP=$POD1_IP\n",
    "echo POD2=$POD2 POD2_IP=$POD2_IP"
   ]
  },
  {
   "cell_type": "markdown",
   "metadata": {},
   "source": [
    "Let's look at the yaml information for POD1:"
   ]
  },
  {
   "cell_type": "code",
   "execution_count": null,
   "metadata": {
    "collapsed": true
   },
   "outputs": [],
   "source": [
    "kubectl get pod $POD1 -o yaml"
   ]
  },
  {
   "cell_type": "markdown",
   "metadata": {},
   "source": [
    "So now we can access to the pods directly on their port 8080:"
   ]
  },
  {
   "cell_type": "code",
   "execution_count": null,
   "metadata": {
    "collapsed": true
   },
   "outputs": [],
   "source": [
    "curl http://$POD1_IP:8080"
   ]
  },
  {
   "cell_type": "code",
   "execution_count": null,
   "metadata": {
    "collapsed": true
   },
   "outputs": [],
   "source": [
    "curl http://$POD2_IP:8080"
   ]
  },
  {
   "cell_type": "markdown",
   "metadata": {},
   "source": [
    "# Kube-proxy\n",
    "\n",
    "## TODO: Accessing our application - accessing via kube-proxy\n",
    "\n",
    "<hr/>"
   ]
  }
 ],
 "metadata": {
  "kernelspec": {
   "display_name": "Bash",
   "language": "bash",
   "name": "bash"
  },
  "language_info": {
   "codemirror_mode": "shell",
   "file_extension": ".sh",
   "mimetype": "text/x-sh",
   "name": "bash"
  }
 },
 "nbformat": 4,
 "nbformat_minor": 2
}
