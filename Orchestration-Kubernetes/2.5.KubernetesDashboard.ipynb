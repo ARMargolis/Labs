{
 "cells": [
  {
   "cell_type": "markdown",
   "metadata": {
    "slideshow": {
     "slide_type": "skip"
    }
   },
   "source": [
    "[INDEX](Kubernetes.ipynb)  [NEXT](2.kubectl_basics.ipynb)"
   ]
  },
  {
   "cell_type": "markdown",
   "metadata": {
    "slideshow": {
     "slide_type": "slide"
    }
   },
   "source": [
    "<img align=\"left\" src=\"https://avatars1.githubusercontent.com/u/13629408?s=400&v=4\" width=\"60\" />\n",
    "\n",
    "\n",
    "## 2.5 The Kubernetes Dashboard UI\n",
    "\n",
    "The dashboard service provides a UI to examine the status of cluster & components or launch new Pods, Deployments etc.\n",
    "\n",
    "<img src=\"images/k8s-dashboard.png\" width=\"1000\" />\n",
    "\n",
    "<br/><table align=\"right\" style='font-family:\"Courier New\", Courier, monospace; font-size:100%; bottom:0px;'>\n",
    "    <tr><td bgcolor=\"#ffffff\" color=\"#ffffff\"></td><td bgcolor=\"#ffffff\" color=\"#ffffff\"> <img src=\"http://www.icon100.com/up/3011/128/Twitter-alt.png\" width=\"40\"> </td><td bgcolor=\"#ffffff\" color=\"#ffffff\" > @mjbright </td></tr></table>"
   ]
  },
  {
   "cell_type": "markdown",
   "metadata": {
    "slideshow": {
     "slide_type": "slide"
    }
   },
   "source": [
    "<img align=\"left\" src=\"https://avatars1.githubusercontent.com/u/13629408?s=400&v=4\" width=\"60\" />\n",
    "\n",
    "## 2.5 The Kubernetes Dashboard UI\n",
    "\n",
    "You should see that several namespaces are available, but only kube-system currently contains any running pods and other entities.\n",
    "\n",
    "Later we will create pods and other entities within the default namespace, but for now we will just investigate the kube-system namespace.\n",
    "\n",
    "To do this select kube-system in the namespace drop-down box:\n",
    "\n",
    "<img align=\"left\" src=\"images/k8s-dashboard-namespace.png\" width=\"200\" >\n",
    "\n",
    "<br/><br/><br/><br/><br/><br/><br/><br/>\n",
    "<br/><br/><br/><br/><br/><br/><br/><br/>\n",
    "\n",
    "\n",
    "Now investigate by looking at Workloads, Services, Storage and Config elements.\n",
    "\n",
    "<br/><table align=\"right\" style='font-family:\"Courier New\", Courier, monospace; font-size:100%; bottom:0px;'>\n",
    "    <tr><td bgcolor=\"#ffffff\" color=\"#ffffff\"></td><td bgcolor=\"#ffffff\" color=\"#ffffff\"> <img src=\"http://www.icon100.com/up/3011/128/Twitter-alt.png\" width=\"40\"> </td><td bgcolor=\"#ffffff\" color=\"#ffffff\" > @mjbright </td></tr></table>"
   ]
  },
  {
   "cell_type": "markdown",
   "metadata": {
    "slideshow": {
     "slide_type": "slide"
    }
   },
   "source": [
    "<img align=\"left\" src=\"https://avatars1.githubusercontent.com/u/13629408?s=400&v=4\" width=\"60\" />\n",
    "\n",
    "## 2.5 The Kubernetes Dashboard UI\n",
    "\n",
    "[LINK via Proxy on port 8004](http://localhost:8004/api/v1/namespaces/kube-system/services/http:kubernetes-dashboard:/proxy/#!/overview?namespace=default)\n",
    "\n",
    "Using the kubectl command-line tool, validated by local credentials we can connect to the Kubernetes Dashboard.\n",
    "\n",
    "I have configured my ~/.kube/config (or exported KUBECONFIG to another location), then run kubectl as:\n",
    "\n",
    "    ```kubectl proxy```\n",
    "    \n",
    "I can now connect to the dashboard at\n",
    "http://localhost:8001/api/v1/namespaces/kube-system/services/http:kubernetes-dashboard:/proxy/#!/overview?namespace=default\n",
    "\n",
    "\n",
    "<br/><table align=\"right\" style='font-family:\"Courier New\", Courier, monospace; font-size:100%; bottom:0px;'>\n",
    "    <tr><td bgcolor=\"#ffffff\" color=\"#ffffff\"></td><td bgcolor=\"#ffffff\" color=\"#ffffff\"> <img src=\"http://www.icon100.com/up/3011/128/Twitter-alt.png\" width=\"40\"> </td><td bgcolor=\"#ffffff\" color=\"#ffffff\" > @mjbright </td></tr></table>"
   ]
  },
  {
   "cell_type": "markdown",
   "metadata": {
    "slideshow": {
     "slide_type": "skip"
    }
   },
   "source": [
    "<img align=\"left\" src=\"https://avatars1.githubusercontent.com/u/13629408?s=400&v=4\" width=\"60\" />\n",
    "\n",
    "## 2.5 The Kubernetes Dashboard UI\n",
    "\n",
    "### Accessing the dashboard\n",
    "\n",
    "In this lab a script is provided to connect to your cluster via ssh, as described earlier.\n",
    "\n",
    "We will now run this script with option '-pf' to setup port forwarding to be able to access your dashboard running in a VM in the cloud.\n",
    "\n",
    "If you are using group2 machine, for example, then run ssh.sh as follows\n",
    "\n",
    "    kubelab-v19-G1/ssh.sh -pf\n",
    "    \n",
    "Whilst you keep this script running, the dashboard port will be tunneled over your local port 7777.\n",
    "\n",
    "You can now access the dashboard at:\n",
    "\n",
    "http://localhost:7777/api/v1/namespaces/kube-system/services/kubernetes-dashboard/proxy/#!/namespace?namespace=default\n",
    "\n",
    "<br/><table align=\"right\" style='font-family:\"Courier New\", Courier, monospace; font-size:100%; bottom:0px;'>\n",
    "    <tr><td bgcolor=\"#ffffff\" color=\"#ffffff\"></td><td bgcolor=\"#ffffff\" color=\"#ffffff\"> <img src=\"http://www.icon100.com/up/3011/128/Twitter-alt.png\" width=\"40\"> </td><td bgcolor=\"#ffffff\" color=\"#ffffff\" > @mjbright </td></tr></table>"
   ]
  },
  {
   "cell_type": "markdown",
   "metadata": {
    "slideshow": {
     "slide_type": "slide"
    }
   },
   "source": [
    "# Dashboard documentation\n",
    "\n",
    "You can read more about the Dashboard [HERE](https://kubernetes.io/docs/tasks/access-application-cluster/web-ui-dashboard/)\n",
    "\n",
    "<br/><table align=\"right\" style='font-family:\"Courier New\", Courier, monospace; font-size:100%; bottom:0px;'>\n",
    "    <tr><td bgcolor=\"#ffffff\" color=\"#ffffff\"></td><td bgcolor=\"#ffffff\" color=\"#ffffff\"> <img src=\"http://www.icon100.com/up/3011/128/Twitter-alt.png\" width=\"40\"> </td><td bgcolor=\"#ffffff\" color=\"#ffffff\" > @mjbright </td></tr></table>"
   ]
  },
  {
   "cell_type": "markdown",
   "metadata": {
    "slideshow": {
     "slide_type": "slide"
    }
   },
   "source": [
    "[INDEX](Kubernetes.ipynb)  [NEXT](2.kubectl_basics.ipynb)"
   ]
  }
 ],
 "metadata": {
  "celltoolbar": "Slideshow",
  "kernelspec": {
   "display_name": "Bash",
   "language": "bash",
   "name": "bash"
  },
  "language_info": {
   "codemirror_mode": "shell",
   "file_extension": ".sh",
   "mimetype": "text/x-sh",
   "name": "bash"
  }
 },
 "nbformat": 4,
 "nbformat_minor": 2
}
