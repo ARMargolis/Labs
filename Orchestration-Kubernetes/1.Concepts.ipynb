{
 "cells": [
  {
   "cell_type": "markdown",
   "metadata": {
    "slideshow": {
     "slide_type": "skip"
    }
   },
   "source": [
    "[INDEX](Kubernetes.ipynb)  [NEXT](2.5.KubernetesDashboard.ipynb)"
   ]
  },
  {
   "cell_type": "markdown",
   "metadata": {
    "slideshow": {
     "slide_type": "slide"
    }
   },
   "source": [
    "<img align=\"left\" src=\"https://avatars1.githubusercontent.com/u/13629408?s=400&v=4\" width=100 />\n",
    "# Kubernetes History\n",
    "<br/><br/>\n",
    "Kubernetes - Greek for Helmsman - is an Open Source project gouverned by the Cloud Native Computing Foundation.\n",
    "\n",
    "Kubernetes was originally a Google-led project created from scratch as an Open Source project.  Built upon the principles of the internal Borg and Omega projects which Google uses to manage containers in it's internal infrastructure.\n",
    "\n",
    "Kubernetes was announced in 2014, and v1.0 released in July 2015.\n",
    "\n",
    "Kubernetes is currently at it's 1.9 release.\n",
    "\n",
    "<br/><table align=\"right\" style='font-family:\"Courier New\", Courier, monospace; font-size:100%; bottom:0px;'>\n",
    "    <tr><td bgcolor=\"#ffffff\" color=\"#ffffff\"></td><td bgcolor=\"#ffffff\" color=\"#ffffff\"> <img src=\"http://www.icon100.com/up/3011/128/Twitter-alt.png\" width=\"40\"> </td><td bgcolor=\"#ffffff\" color=\"#ffffff\" > @containous </td></tr></table>"
   ]
  },
  {
   "cell_type": "markdown",
   "metadata": {
    "slideshow": {
     "slide_type": "slide"
    }
   },
   "source": [
    "<img align=\"left\" src=\"https://avatars1.githubusercontent.com/u/13629408?s=400&v=4\" width=100 />\n",
    "# Kubernetes Concepts - Container Orchestration Trends\n",
    "\n",
    "<script type=\"text/javascript\" src=\"https://ssl.gstatic.com/trends_nrtr/1328_RC04/embed_loader.js\"></script> <script type=\"text/javascript\"> trends.embed.renderExploreWidget(\"TIMESERIES\", {\"comparisonItem\":[{\"keyword\":\"kubernetes\",\"geo\":\"\",\"time\":\"today 5-y\"},{\"keyword\":\"docker swarm\",\"geo\":\"\",\"time\":\"today 5-y\"},{\"keyword\":\"mesos\",\"geo\":\"\",\"time\":\"today 5-y\"}],\"category\":0,\"property\":\"\"}, {\"exploreQuery\":\"date=today%205-y&q=kubernetes,docker%20swarm,mesos\",\"guestPath\":\"https://trends.google.fr:443/trends/embed/\"}); </script> \n",
    "<img src=\"images/TRENDS_Containers_2018.png\" width=\"1200\" />\n",
    "\n",
    "The above chart attempts to show the popularity of some of the major *Container Orchestrators*: Docker Swarm, Apache Mesos and Kubernetes over the last few years.\n",
    "\n",
    "Guess which colour represents <font color=\"#0000ff\"> Kubernetes </font> !!\n",
    "<br/><table align=\"right\" style='font-family:\"Courier New\", Courier, monospace; font-size:100%; bottom:0px;'>\n",
    "    <tr><td bgcolor=\"#ffffff\" color=\"#ffffff\"></td><td bgcolor=\"#ffffff\" color=\"#ffffff\"> <img src=\"http://www.icon100.com/up/3011/128/Twitter-alt.png\" width=\"40\"> </td><td bgcolor=\"#ffffff\" color=\"#ffffff\" > @containous </td></tr></table>"
   ]
  },
  {
   "cell_type": "markdown",
   "metadata": {
    "slideshow": {
     "slide_type": "slide"
    }
   },
   "source": [
    "<img align=\"left\" src=\"https://avatars1.githubusercontent.com/u/13629408?s=400&v=4\" width=100 />\n",
    "# Trends - 2017:\n",
    "- Adoption of Kubernetes by\n",
    "  - AWS (EKS, Fargate), Docker\n",
    "- new Managed Kubernetes services from\n",
    "  - Microsoft (AKS), HPE (OneSphere), RedHat (OpenShift dedicated), ...\n",
    "- Progression of other Kubernetes distributions\n",
    "  - OpenShift (RedHat PaaS), Tectonic (CoreOS), Canonical ...\n",
    "- New tools (becoming prominent)\n",
    "  - Helm, Brigade, Sonobuoy, Prometheus 2.0, ...\n",
    "  - CLI tools: kubectx, ...\n",
    "- Serverless platforms on Kubernetes\n",
    "  - Kubenetes, OpenFaaS (faas-netes), Fission, Nuclio, ...\n",
    "\n",
    "<!-- \n",
    "- AWS finally adopting Kubernetes, proposing EKS (and Fargate)\n",
    "- Microsoft pushing ACS (Azure Container Services - supporting Kubernetes, as well as Docker Swarm and Apache Mesos) and AKS (Managed Kubernetes Service)\n",
    "- Docker Inc. adopting Kubernetes as an alternative to Docker Swarm\n",
    "- RedHat OpenShift, Kubernetes-based PaaS reached it's 3.x release\n",
    "- OpenStack distributions over Kubernetes (e.g. RHOSP12, Mirantis)\n",
    "\n",
    "alongside the latest Kubernetes distribution releases from\n",
    "- Canonical\n",
    "- CoreOS Tectonic (and CoreOS has just been bought by RedHat)\n",
    "- VMWare/Pivotal/Google\n",
    "\n",
    "and Managed Kubernetes distributions from\n",
    "- HPE\n",
    "- Microsoft AKS\n",
    "- Stackpoint.io\n",
    "- OpenShift dedicated\n",
    "- Giant Swarm\n",
    "- Kubermatic\n",
    "- Pivotal Container Servic\n",
    "\n",
    "(Not at all exhaustive)\n",
    "\n",
    "- Installers: Kubespray, Kubeadm, Kops, ...\n",
    "- Serverless platforms targetting Kubernetes - Fission, Kubeless, ...\n",
    "- Monitoring: Prometheus, Heapster, ...\n",
    "- Cmd-line: kubectx, ...\n",
    "- Application installers: Helm\n",
    "- Brigade\n",
    "-->\n",
    "\n",
    "<br/><table align=\"right\" style='font-family:\"Courier New\", Courier, monospace; font-size:100%; bottom:0px;'>\n",
    "    <tr><td bgcolor=\"#ffffff\" color=\"#ffffff\"></td><td bgcolor=\"#ffffff\" color=\"#ffffff\"> <img src=\"http://www.icon100.com/up/3011/128/Twitter-alt.png\" width=\"40\"> </td><td bgcolor=\"#ffffff\" color=\"#ffffff\" > @containous </td></tr></table>"
   ]
  },
  {
   "cell_type": "markdown",
   "metadata": {
    "slideshow": {
     "slide_type": "slide"
    }
   },
   "source": [
    "<img align=\"left\" src=\"https://avatars1.githubusercontent.com/u/13629408?s=400&v=4\" width=100 />\n",
    "## 2. Kubernetes Architecture\n",
    "\n",
    "<!-- ![](images/KubernetesArchi.svg) -->\n",
    "\n",
    "![](images/KubernetesArchitecture_CommonsMedia.png)\n",
    "\n",
    "<!-- <a title=\"By Khtan66 (Own work) [CC BY-SA 4.0 (https://creativecommons.org/licenses/by-sa/4.0)], via Wikimedia Commons\" href=\"https://commons.wikimedia.org/wiki/File%3AKubernetes.png\"><img width=\"512\" alt=\"Kubernetes\" src=\"https://upload.wikimedia.org/wikipedia/commons/thumb/b/be/Kubernetes.png/512px-Kubernetes.png\"/></a>\n",
    "-->\n",
    "\n",
    "<!-- The overall architecture consists of a cluster of nodes comprised of\n",
    "- a quorum of Master nodes (2N+1) controlling\n",
    "- a set of Worker nodes.\n",
    "\n",
    "This is common to most Container Orchestration solutions.-->\n",
    "\n",
    "Tasks are scheduled to Worker nodes\n",
    "(\"tainting\" a Master node allows it to run tasks also - for small/test configurations).\n",
    "\n",
    "<br/><table align=\"right\" style='font-family:\"Courier New\", Courier, monospace; font-size:100%; bottom:0px;'>\n",
    "    <tr><td bgcolor=\"#ffffff\" color=\"#ffffff\"></td><td bgcolor=\"#ffffff\" color=\"#ffffff\"> <img src=\"http://www.icon100.com/up/3011/128/Twitter-alt.png\" width=\"40\"> </td><td bgcolor=\"#ffffff\" color=\"#ffffff\" > @containous </td></tr></table>"
   ]
  },
  {
   "cell_type": "markdown",
   "metadata": {
    "slideshow": {
     "slide_type": "slide"
    }
   },
   "source": [
    "## 2.1 Kubernetes Architecture - Master Nodes\n",
    "\n",
    "<img src=\"images/KubernetesArchi_MasterNodes.svg\" height=\"200\" width=\"800\" />\n",
    "\n",
    "Kubernetes works on the principle of declaring 'desired state' for the cluster.\n",
    "\n",
    "The **Controller** (~ 50 Controller *Loops*) is responsible to verify any state discrepancies and to instruct the Scheduler to make any changes.  The **Scheduler** determines on which node to schedule resources.\n",
    "<br/><table align=\"right\" style='font-family:\"Courier New\", Courier, monospace; font-size:100%; bottom:0px;'>\n",
    "    <tr><td bgcolor=\"#ffffff\" color=\"#ffffff\"></td><td bgcolor=\"#ffffff\" color=\"#ffffff\"> <img src=\"http://www.icon100.com/up/3011/128/Twitter-alt.png\" width=\"40\"> </td><td bgcolor=\"#ffffff\" color=\"#ffffff\" > @containous </td></tr></table>\n",
    "    \n",
    "<!-- ### etcd\n",
    "The lead Master node is determined by the etcd (2N+1 node) cluster, which maintains a distributed (replicated) configuration data store for the cluster.\n",
    "\n",
    "Typically the etcd processes are distributed across the Master nodes themselves.\n",
    "\n",
    "### API Server\n",
    "Communication from applications outside the cluster, is via the Kubernetes API server running on the Master nodes.\n",
    "\n",
    "The official CLI tool, kubectl, and the web-based GUI dashboard interface both interface to the cluster using that API.\n",
    "\n",
    "### Scheduler\n",
    "The scheduler is responsible to schedule tasks across the worker nodes.\n",
    "\n",
    "### Controller\n",
    "Kubernetes is based on the principle of declarative state.\n",
    "\n",
    "We tell Kubernetes that we want N replicas of a particular container (pod in fact) to run possibly with constraints on where those pods can run.  Kubernetes will use this declaration of *desired state* to decide where to place those pods.\n",
    "\n",
    "The controller is responsible to monitor the state of the cluster and request changes from the scheduler if needed.\n",
    "\n",
    "For example, if we must have 5 web servers running, but only 4 are currently running (this could happen if a container fails, or if the Worker node fails) then the Controller will detect this and instruct the Scheduler to schedule a new instance on a Worker node.\n",
    "\n",
    "There are many software controller loops implemented to guarantee that all specified constraints are met.\n",
    "-->"
   ]
  },
  {
   "cell_type": "markdown",
   "metadata": {
    "slideshow": {
     "slide_type": "slide"
    }
   },
   "source": [
    "## 2.2 Kubernetes Architecture - Worker Nodes\n",
    "\n",
    "<img src=\"images/KubernetesArchi_SlaveNodes.svg\" width=\"1000\" />\n",
    "<br/><table align=\"right\" style='font-family:\"Courier New\", Courier, monospace; font-size:100%; bottom:0px;'>\n",
    "    <tr><td bgcolor=\"#ffffff\" color=\"#ffffff\"></td><td bgcolor=\"#ffffff\" color=\"#ffffff\"> <img src=\"http://www.icon100.com/up/3011/128/Twitter-alt.png\" width=\"40\"> </td><td bgcolor=\"#ffffff\" color=\"#ffffff\" > @containous </td></tr></table>\n",
    "    \n",
    "<!-- \n",
    "### Kubelet\n",
    "The Kubelet process listens on the internal API used by the Master nodes to control the Worker nodes.  It manages all communication between Master and Worker nodes.\n",
    "\n",
    "### Container Engine\n",
    "Today Docker is still the default container engine used by Kubernetes, but alternatives exist such as rkt (‘rocket’) from CoreOS and more recently CRI-O from RedHat.  In the future it is likely that CRI-O will be the default engine.\n",
    "\n",
    "Note: other engines such as Virtlet/Kubevirt exist which allow to spawn virtual machines rather than containers.\n",
    "\n",
    "### Fluentd\n",
    "Fluentd is used for distributed logging across the cluster\n",
    "\n",
    "### Kube-proxy\n",
    "Kube-proxy provides network access, where appropriate, between external networks in services provided on the internal networks to which Pods are attached.\n",
    "-->"
   ]
  },
  {
   "cell_type": "markdown",
   "metadata": {
    "slideshow": {
     "slide_type": "slide"
    }
   },
   "source": [
    "## 2.3 Kubernetes Architecture - Pods\n",
    "\n",
    "<img src=\"images/KubernetesArchi_Pod.svg\" width=\"800\" />\n",
    "\n",
    "<br/><table align=\"right\" style='font-family:\"Courier New\", Courier, monospace; font-size:100%; bottom:0px;'>\n",
    "    <tr><td bgcolor=\"#ffffff\" color=\"#ffffff\"></td><td bgcolor=\"#ffffff\" color=\"#ffffff\"> <img src=\"http://www.icon100.com/up/3011/128/Twitter-alt.png\" width=\"40\"> </td><td bgcolor=\"#ffffff\" color=\"#ffffff\" > @containous </td></tr></table>\n",
    "    \n",
    "<!--\n",
    "The pod is the basic scheduling unit in a Kubernetes cluster.  It is made of 1 or more containers where the first container provides the main functionality and any extra ‘*sidecar*’ containers are present to provide support functions to that container.\n",
    "\n",
    "A sidecar container might perform some specific cleanup, or logging operations.\n",
    "\n",
    "Note that all containers in a pod share the same ip address and must not use conflicting ports.  Thus a pod provides something like a node abstraction where all processes (/containers) on a node share the same ip address.\n",
    "-->"
   ]
  },
  {
   "cell_type": "markdown",
   "metadata": {
    "slideshow": {
     "slide_type": "slide"
    }
   },
   "source": [
    "## 3.  Kubernetes Components\n",
    "\n",
    "Refer to the Wikipedia Kubernetes [#design](https://en.wikipedia.org/wiki/Kubernetes#Design) page for more information.\n",
    "\n",
    "### Cluster\n",
    "\n",
    "The Kubernetes cluster is made up of a set of Master nodes which schedule tasks to the Worker nodes\n",
    "\n",
    "### Namespace\n",
    "\n",
    "Kubernetes objects are associated with a namespace.\n",
    "\n",
    "There is a '*default*' namespace for user containers, or new namespaces can be created and used.\n",
    "\n",
    "Kubernetes system services run within the '*kube-system*' namespace.\n",
    "\n",
    "<br/><table align=\"right\" style='font-family:\"Courier New\", Courier, monospace; font-size:100%; bottom:0px;'>\n",
    "    <tr><td bgcolor=\"#ffffff\" color=\"#ffffff\"></td><td bgcolor=\"#ffffff\" color=\"#ffffff\"> <img src=\"http://www.icon100.com/up/3011/128/Twitter-alt.png\" width=\"40\"> </td><td bgcolor=\"#ffffff\" color=\"#ffffff\" > @containous </td></tr></table>\n"
   ]
  },
  {
   "cell_type": "markdown",
   "metadata": {
    "slideshow": {
     "slide_type": "slide"
    }
   },
   "source": [
    "## 3.  Kubernetes Components\n",
    "\n",
    "### Deployment\n",
    "Declaratively manage ReplicaSets, allows to perform rolling upgrades.\n",
    "\n",
    "\n",
    "### ReplicaSet\n",
    "Ensures that a given number of pods are running even if pods or nodes fail.\n",
    "(replaces older Replication Controller)\n",
    "\n",
    "### Pod\n",
    "smallest unit: 1 or more containers on the same IP\n",
    "\n",
    "<br/><table align=\"right\" style='font-family:\"Courier New\", Courier, monospace; font-size:100%; bottom:0px;'>\n",
    "    <tr><td bgcolor=\"#ffffff\" color=\"#ffffff\"></td><td bgcolor=\"#ffffff\" color=\"#ffffff\"> <img src=\"http://www.icon100.com/up/3011/128/Twitter-alt.png\" width=\"40\"> </td><td bgcolor=\"#ffffff\" color=\"#ffffff\" > @containous </td></tr></table>\n"
   ]
  },
  {
   "cell_type": "markdown",
   "metadata": {
    "slideshow": {
     "slide_type": "slide"
    }
   },
   "source": [
    "## 3.  Kubernetes Components\n",
    "\n",
    "![](images/KubernetesArchi_Deploy.svg)\n",
    "\n",
    "<br/><table align=\"right\" style='font-family:\"Courier New\", Courier, monospace; font-size:100%; bottom:0px;'>\n",
    "    <tr><td bgcolor=\"#ffffff\" color=\"#ffffff\"></td><td bgcolor=\"#ffffff\" color=\"#ffffff\"> <img src=\"http://www.icon100.com/up/3011/128/Twitter-alt.png\" width=\"40\"> </td><td bgcolor=\"#ffffff\" color=\"#ffffff\" > @containous </td></tr></table>\n"
   ]
  },
  {
   "cell_type": "markdown",
   "metadata": {
    "slideshow": {
     "slide_type": "slide"
    }
   },
   "source": [
    "## 3.  Kubernetes Components - Workload API\n",
    "\n",
    "[Workloads Documentation](https://kubernetes.io/docs/reference/generated/kubernetes-api/v1.9/#-strong-workloads-strong-)\n",
    "\n",
    "### Deployment\n",
    "Declaratively manage ReplicaSets, allows to perform rolling upgrades.\n",
    "\n",
    "### DaemonSet\n",
    "Ensures that a pod runs on all (or subset of) nodes\n",
    "\n",
    "### StatefulSet\n",
    "Used to manage stateful applications - similar to a deployment but pod identifiers are maintained across any rescheduling.\n",
    "\n",
    "<br/><table align=\"right\" style='font-family:\"Courier New\", Courier, monospace; font-size:100%; bottom:0px;'>\n",
    "    <tr><td bgcolor=\"#ffffff\" color=\"#ffffff\"></td><td bgcolor=\"#ffffff\" color=\"#ffffff\"> <img src=\"http://www.icon100.com/up/3011/128/Twitter-alt.png\" width=\"40\"> </td><td bgcolor=\"#ffffff\" color=\"#ffffff\" > @containous </td></tr></table>\n",
    "\n"
   ]
  },
  {
   "cell_type": "markdown",
   "metadata": {
    "slideshow": {
     "slide_type": "slide"
    }
   },
   "source": [
    "## 3.  Kubernetes Components - Batch Workload API\n",
    "\n",
    "\n",
    "### Job\n",
    "Short-lived pods, e.g. for batch jobs. ['Job' Documentation](https://kubernetes.io/docs/reference/generated/kubernetes-api/v1.9/#cronjob-v1beta1-batch)\n",
    "\n",
    "### CronJob\n",
    "Scheduled jobs. ['CronJob' Documentation](https://kubernetes.io/docs/reference/generated/kubernetes-api/v1.9/#job-v1-batch)\n",
    "\n",
    "\n",
    "<br/><table align=\"right\" style='font-family:\"Courier New\", Courier, monospace; font-size:100%; bottom:0px;'>\n",
    "    <tr><td bgcolor=\"#ffffff\" color=\"#ffffff\"></td><td bgcolor=\"#ffffff\" color=\"#ffffff\"> <img src=\"http://www.icon100.com/up/3011/128/Twitter-alt.png\" width=\"40\"> </td><td bgcolor=\"#ffffff\" color=\"#ffffff\" > @containous </td></tr></table>\n"
   ]
  },
  {
   "cell_type": "markdown",
   "metadata": {
    "slideshow": {
     "slide_type": "slide"
    }
   },
   "source": [
    "### Service\n",
    "addressable IP, load-balancing\n",
    "\n",
    "### Endpoints\n",
    "\n",
    "### Ingress\n",
    "\n",
    "### Secret\n",
    "Small amounts of sensitive info (certs., keys, ..)\n",
    "\n",
    "### ConfigMap\n",
    "Dynamically loadable config (k-v pairs, or json)\n",
    "\n",
    "<br/><table align=\"right\" style='font-family:\"Courier New\", Courier, monospace; font-size:100%; bottom:0px;'>\n",
    "    <tr><td bgcolor=\"#ffffff\" color=\"#ffffff\"></td><td bgcolor=\"#ffffff\" color=\"#ffffff\"> <img src=\"http://www.icon100.com/up/3011/128/Twitter-alt.png\" width=\"40\"> </td><td bgcolor=\"#ffffff\" color=\"#ffffff\" > @containous </td></tr></table>\n"
   ]
  },
  {
   "cell_type": "markdown",
   "metadata": {
    "slideshow": {
     "slide_type": "slide"
    }
   },
   "source": [
    "### Labels\n",
    "Key/value pairs which can be attached to objects\n",
    "\n",
    "### Selectors\n",
    "Used to select a group of objects by label\n",
    "\n",
    "<br/><table align=\"right\" style='font-family:\"Courier New\", Courier, monospace; font-size:100%; bottom:0px;'>\n",
    "    <tr><td bgcolor=\"#ffffff\" color=\"#ffffff\"></td><td bgcolor=\"#ffffff\" color=\"#ffffff\"> <img src=\"http://www.icon100.com/up/3011/128/Twitter-alt.png\" width=\"40\"> </td><td bgcolor=\"#ffffff\" color=\"#ffffff\" > @containous </td></tr></table>"
   ]
  },
  {
   "cell_type": "markdown",
   "metadata": {
    "slideshow": {
     "slide_type": "slide"
    }
   },
   "source": [
    "[INDEX](Kubernetes.ipynb)  [NEXT](2.5.KubernetesDashboard.ipynb)"
   ]
  },
  {
   "cell_type": "markdown",
   "metadata": {
    "slideshow": {
     "slide_type": "skip"
    }
   },
   "source": [
    "### PersistentVolume\n",
    "\n",
    "### PersistentVolumeClaim\n",
    "\n",
    "### StorageClass\n",
    "\n",
    "<br/><table align=\"right\" style='font-family:\"Courier New\", Courier, monospace; font-size:100%; bottom:0px;'>\n",
    "    <tr><td bgcolor=\"#ffffff\" color=\"#ffffff\"></td><td bgcolor=\"#ffffff\" color=\"#ffffff\"> <img src=\"http://www.icon100.com/up/3011/128/Twitter-alt.png\" width=\"40\"> </td><td bgcolor=\"#ffffff\" color=\"#ffffff\" > @containous </td></tr></table>"
   ]
  }
 ],
 "metadata": {
  "celltoolbar": "Slideshow",
  "kernelspec": {
   "display_name": "Python 3",
   "language": "python",
   "name": "python3"
  },
  "language_info": {
   "codemirror_mode": {
    "name": "ipython",
    "version": 3
   },
   "file_extension": ".py",
   "mimetype": "text/x-python",
   "name": "python",
   "nbconvert_exporter": "python",
   "pygments_lexer": "ipython3",
   "version": "3.6.4"
  }
 },
 "nbformat": 4,
 "nbformat_minor": 2
}
