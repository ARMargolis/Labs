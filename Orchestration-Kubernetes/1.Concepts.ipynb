{
 "cells": [
  {
   "cell_type": "markdown",
   "metadata": {
    "slideshow": {
     "slide_type": "skip"
    }
   },
   "source": [
    "[INDEX](Kubernetes.ipynb)  [NEXT](2.5.KubernetesDashboard.ipynb)"
   ]
  },
  {
   "cell_type": "markdown",
   "metadata": {
    "slideshow": {
     "slide_type": "slide"
    }
   },
   "source": [
    "<img align=\"left\" src=\"https://avatars1.githubusercontent.com/u/13629408?s=400&v=4\" width=\"60\" />\n",
    "\n",
    "## What Is Kubernetes ?\n",
    "<br/><br/>\n",
    "A Container Orchestration Engine which allows to manage a Data Center ... or more ... of containers abstracting away the details of the hardware.\n",
    "\n",
    "With Kubernetes you tell the system **what you want** and Kubernetes figures out **how to do it**."
   ]
  },
  {
   "cell_type": "markdown",
   "metadata": {
    "slideshow": {
     "slide_type": "slide"
    }
   },
   "source": [
    "<img align=\"left\" src=\"https://avatars1.githubusercontent.com/u/13629408?s=400&v=4\" width=\"60\" />\n",
    "\n",
    "## What Is Kubernetes ?\n",
    "<br/><br/>\n",
    "\n",
    "<center>  <b>I want 3 Apache web servers</b> (specifying the appropriate image) </center>\n",
    "    \n",
    "Kubernetes takes care of  placing those servers according to the resources available and various constraints which may exist.\n",
    "\n",
    "As Pods/Containers live and die Kubernetes will continue to ensure that **what we want** is respected.\n",
    "\n",
    "<br/><table align=\"right\" style='font-family:\"Courier New\", Courier, monospace; font-size:100%; bottom:0px;'>\n",
    "    <tr><td bgcolor=\"#ffffff\" color=\"#ffffff\"></td><td bgcolor=\"#ffffff\" color=\"#ffffff\"> <img src=\"http://www.icon100.com/up/3011/128/Twitter-alt.png\" width=\"40\"> </td><td bgcolor=\"#ffffff\" color=\"#ffffff\" > @mjbright </td></tr></table>"
   ]
  },
  {
   "cell_type": "markdown",
   "metadata": {
    "slideshow": {
     "slide_type": "slide"
    }
   },
   "source": [
    "<img align=\"left\" src=\"https://avatars1.githubusercontent.com/u/13629408?s=400&v=4\" width=\"60\" />\n",
    "\n",
    "## Kubernetes History\n",
    "<br/><br/>\n",
    "Kubernetes - Greek for Helmsman - is an Open Source project gouverned by the Cloud Native Computing Foundation.\n",
    "\n",
    "Kubernetes was originally a Google-led project created from scratch as an Open Source project.  Built upon the principles of the internal Borg and Omega projects which Google uses to manage containers in it's internal infrastructure.\n",
    "\n",
    "Kubernetes was announced in 2014, and v1.0 released in July 2015.\n",
    "\n",
    "Kubernetes is currently [Oct 2018] at it's 1.12 release.\n",
    "\n",
    "<br/><table align=\"right\" style='font-family:\"Courier New\", Courier, monospace; font-size:100%; bottom:0px;'>\n",
    "    <tr><td bgcolor=\"#ffffff\" color=\"#ffffff\"></td><td bgcolor=\"#ffffff\" color=\"#ffffff\"> <img src=\"http://www.icon100.com/up/3011/128/Twitter-alt.png\" width=\"40\"> </td><td bgcolor=\"#ffffff\" color=\"#ffffff\" > @mjbright </td></tr></table>"
   ]
  },
  {
   "cell_type": "markdown",
   "metadata": {
    "slideshow": {
     "slide_type": "slide"
    }
   },
   "source": [
    "<img align=\"left\" src=\"https://avatars1.githubusercontent.com/u/13629408?s=400&v=4\" width=\"60\" />\n",
    "\n",
    "## Kubernetes Concepts - Container Orchestration Trends [Search](https://trends.google.com/trends/explore?cat=5&date=today%205-y&q=kubernetes,Docker%20Swarm,Apache%20Mesos)\n",
    "\n",
    "<script type=\"text/javascript\" src=\"https://ssl.gstatic.com/trends_nrtr/1328_RC04/embed_loader.js\"></script> <script type=\"text/javascript\"> trends.embed.renderExploreWidget(\"TIMESERIES\", {\"comparisonItem\":[{\"keyword\":\"kubernetes\",\"geo\":\"\",\"time\":\"today 5-y\"},{\"keyword\":\"docker swarm\",\"geo\":\"\",\"time\":\"today 5-y\"},{\"keyword\":\"mesos\",\"geo\":\"\",\"time\":\"today 5-y\"}],\"category\":0,\"property\":\"\"}, {\"exploreQuery\":\"date=today%205-y&q=kubernetes,docker%20swarm,mesos\",\"guestPath\":\"https://trends.google.fr:443/trends/embed/\"}); </script> \n",
    "<img src=\"images/TRENDS_Containers_2018.png\" width=\"1200\" />\n",
    "\n",
    "The above chart attempts to show the popularity of some of the major *Container Orchestrators*: Docker Swarm, Apache Mesos and Kubernetes over the last few years.\n",
    "\n",
    "Guess which colour represents <font color=\"#0000ff\"> Kubernetes </font> !!\n",
    "<br/><table align=\"right\" style='font-family:\"Courier New\", Courier, monospace; font-size:100%; bottom:0px;'>\n",
    "    <tr><td bgcolor=\"#ffffff\" color=\"#ffffff\"></td><td bgcolor=\"#ffffff\" color=\"#ffffff\"> <img src=\"http://www.icon100.com/up/3011/128/Twitter-alt.png\" width=\"40\"> </td><td bgcolor=\"#ffffff\" color=\"#ffffff\" > @mjbright </td></tr></table>"
   ]
  },
  {
   "cell_type": "markdown",
   "metadata": {
    "slideshow": {
     "slide_type": "slide"
    }
   },
   "source": [
    "<img align=\"left\" src=\"https://avatars1.githubusercontent.com/u/13629408?s=400&v=4\" width=\"60\" />\n",
    "\n",
    "## Trends - 2018:\n",
    "- Adoption of Kubernetes by\n",
    "  - AWS (EKS, Fargate), Docker (Enterprise, Desktop)\n",
    "- new Managed Kubernetes services from\n",
    "  - Google (GKE), Microsoft (AKS), HPE (OneSphere), RedHat (OpenShift dedicated), ...\n",
    "- Progression of other Kubernetes distributions\n",
    "  - OpenShift (RedHat PaaS), Tectonic (CoreOS), Canonical ...\n",
    "- New tools (becoming prominent)\n",
    "  - Helm, Brigade, Sonobuoy, Prometheus 2.0, Ark, ...\n",
    "  - CLI tools: kubectx, ...\n",
    "- Serverless platforms on Kubernetes\n",
    "  - Kubenetes, OpenFaaS (faas-netes), Fission, Nuclio, ...\n",
    "\n",
    "<!-- \n",
    "- AWS finally adopting Kubernetes, proposing EKS (and Fargate)\n",
    "- Microsoft pushing ACS (Azure Container Services - supporting Kubernetes, as well as Docker Swarm and Apache Mesos) and AKS (Managed Kubernetes Service)\n",
    "- Docker Inc. adopting Kubernetes as an alternative to Docker Swarm\n",
    "- RedHat OpenShift, Kubernetes-based PaaS reached it's 3.x release\n",
    "- OpenStack distributions over Kubernetes (e.g. RHOSP12, Mirantis)\n",
    "\n",
    "alongside the latest Kubernetes distribution releases from\n",
    "- Canonical\n",
    "- CoreOS Tectonic (and CoreOS has just been bought by RedHat)\n",
    "- VMWare/Pivotal/Google\n",
    "\n",
    "and Managed Kubernetes distributions from\n",
    "- HPE\n",
    "- Microsoft AKS\n",
    "- Stackpoint.io\n",
    "- OpenShift dedicated\n",
    "- Giant Swarm\n",
    "- Kubermatic\n",
    "- Pivotal Container Servic\n",
    "\n",
    "(Not at all exhaustive)\n",
    "\n",
    "- Installers: Kubespray, Kubeadm, Kops, ...\n",
    "- Serverless platforms targetting Kubernetes - Fission, Kubeless, ...\n",
    "- Monitoring: Prometheus, Heapster, ...\n",
    "- Cmd-line: kubectx, ...\n",
    "- Application installers: Helm\n",
    "- Brigade\n",
    "-->\n",
    "\n",
    "<br/><table align=\"right\" style='font-family:\"Courier New\", Courier, monospace; font-size:100%; bottom:0px;'>\n",
    "    <tr><td bgcolor=\"#ffffff\" color=\"#ffffff\"></td><td bgcolor=\"#ffffff\" color=\"#ffffff\"> <img src=\"http://www.icon100.com/up/3011/128/Twitter-alt.png\" width=\"40\"> </td><td bgcolor=\"#ffffff\" color=\"#ffffff\" > @mjbright </td></tr></table>"
   ]
  },
  {
   "cell_type": "markdown",
   "metadata": {
    "slideshow": {
     "slide_type": "slide"
    }
   },
   "source": [
    "<img align=\"left\" src=\"https://avatars1.githubusercontent.com/u/13629408?s=400&v=4\" width=\"60\" />\n",
    "\n",
    "## 2. Kubernetes Architecture\n",
    "Tasks are scheduled to Worker nodes\n",
    "(\"tainting\" a Master node allows it to run tasks also - for small/test configurations).\n",
    "<!-- ![](images/KubernetesArchi.svg.png) -->\n",
    "\n",
    "![](images/KubernetesArchitecture_CommonsMedia.png)\n",
    "\n",
    "<!-- <a title=\"By Khtan66 (Own work) [CC BY-SA 4.0 (https://creativecommons.org/licenses/by-sa/4.0)], via Wikimedia Commons\" href=\"https://commons.wikimedia.org/wiki/File%3AKubernetes.png\"><img width=\"512\" alt=\"Kubernetes\" src=\"https://upload.wikimedia.org/wikipedia/commons/thumb/b/be/Kubernetes.png/512px-Kubernetes.png\"/></a>\n",
    "-->\n",
    "\n",
    "<!-- The overall architecture consists of a cluster of nodes comprised of\n",
    "- a quorum of Master nodes (2N+1) controlling\n",
    "- a set of Worker nodes.\n",
    "\n",
    "This is common to most Container Orchestration solutions.-->\n",
    "\n",
    "\n",
    "\n",
    "<br/><table align=\"right\" style='font-family:\"Courier New\", Courier, monospace; font-size:100%; bottom:0px;'>\n",
    "    <tr><td bgcolor=\"#ffffff\" color=\"#ffffff\"></td><td bgcolor=\"#ffffff\" color=\"#ffffff\"> <img src=\"http://www.icon100.com/up/3011/128/Twitter-alt.png\" width=\"40\"> </td><td bgcolor=\"#ffffff\" color=\"#ffffff\" > @mjbright </td></tr></table>"
   ]
  },
  {
   "cell_type": "markdown",
   "metadata": {
    "slideshow": {
     "slide_type": "slide"
    }
   },
   "source": [
    "## 2.1 Kubernetes Architecture - Master Nodes\n",
    "\n",
    "<img src=\"images/KubernetesArchi_MasterNodes.svg.png\" height=\"200\" width=\"800\" />\n",
    "\n",
    "Declare the 'desired state' for the cluster.\n",
    "\n",
    "The **Controller** (~ 50 Controller *Loops*) is responsible to verify any state discrepancies and to instruct the Scheduler to make any changes.\n",
    "\n",
    "The **Scheduler** determines on which node to schedule resources.\n",
    "<br/><table align=\"right\" style='font-family:\"Courier New\", Courier, monospace; font-size:100%; bottom:0px;'>\n",
    "    <tr><td bgcolor=\"#ffffff\" color=\"#ffffff\"></td><td bgcolor=\"#ffffff\" color=\"#ffffff\"> <img src=\"http://www.icon100.com/up/3011/128/Twitter-alt.png\" width=\"40\"> </td><td bgcolor=\"#ffffff\" color=\"#ffffff\" > @mjbright </td></tr></table>\n",
    "    \n",
    "<!-- ### etcd\n",
    "The lead Master node is determined by the etcd (2N+1 node) cluster, which maintains a distributed (replicated) configuration data store for the cluster.\n",
    "\n",
    "Typically the etcd processes are distributed across the Master nodes themselves.\n",
    "\n",
    "### API Server\n",
    "Communication from applications outside the cluster, is via the Kubernetes API server running on the Master nodes.\n",
    "\n",
    "The official CLI tool, kubectl, and the web-based GUI dashboard interface both interface to the cluster using that API.\n",
    "\n",
    "### Scheduler\n",
    "The scheduler is responsible to schedule tasks across the worker nodes.\n",
    "\n",
    "### Controller\n",
    "Kubernetes is based on the principle of declarative state.\n",
    "\n",
    "We tell Kubernetes that we want N replicas of a particular container (pod in fact) to run possibly with constraints on where those pods can run.  Kubernetes will use this declaration of *desired state* to decide where to place those pods.\n",
    "\n",
    "The controller is responsible to monitor the state of the cluster and request changes from the scheduler if needed.\n",
    "\n",
    "For example, if we must have 5 web servers running, but only 4 are currently running (this could happen if a container fails, or if the Worker node fails) then the Controller will detect this and instruct the Scheduler to schedule a new instance on a Worker node.\n",
    "\n",
    "There are many software controller loops implemented to guarantee that all specified constraints are met.\n",
    "-->"
   ]
  },
  {
   "cell_type": "markdown",
   "metadata": {
    "slideshow": {
     "slide_type": "slide"
    }
   },
   "source": [
    "## 2.1 Kubernetes Architecture - Master Nodes"
   ]
  },
  {
   "cell_type": "code",
   "execution_count": 2,
   "metadata": {
    "slideshow": {
     "slide_type": "fragment"
    }
   },
   "outputs": [
    {
     "data": {
      "text/plain": [
       "NAME                       STATUS    ROLES     AGE       VERSION\n",
       "aks-nodepool1-35637019-0   Ready     agent     11h       v1.9.9\n",
       "aks-nodepool1-35637019-1   Ready     agent     11h       v1.9.9\n",
       "aks-nodepool1-35637019-2   Ready     agent     11h       v1.9.9\n",
       "aks-nodepool1-35637019-3   Ready     agent     11h       v1.9.9\n",
       "aks-nodepool1-35637019-4   Ready     agent     11h       v1.9.9"
      ]
     },
     "execution_count": 2,
     "metadata": {},
     "output_type": "execute_result"
    }
   ],
   "source": [
    "kubectl get nodes"
   ]
  },
  {
   "cell_type": "markdown",
   "metadata": {
    "slideshow": {
     "slide_type": "slide"
    }
   },
   "source": [
    "## 2.1 Kubernetes Architecture - Master Nodes"
   ]
  },
  {
   "cell_type": "code",
   "execution_count": 16,
   "metadata": {
    "slideshow": {
     "slide_type": "fragment"
    }
   },
   "outputs": [
    {
     "data": {
      "text/plain": [
       "Name:               aks-nodepool1-35637019-0\n",
       "Roles:              agent\n",
       "Labels:             agentpool=nodepool1\n",
       "                    beta.kubernetes.io/arch=amd64\n",
       "                    beta.kubernetes.io/instance-type=Standard_DS1_v2\n",
       "                    beta.kubernetes.io/os=linux\n",
       "                    failure-domain.beta.kubernetes.io/region=westeurope\n",
       "                    failure-domain.beta.kubernetes.io/zone=1\n",
       "                    kubernetes.azure.com/cluster=MC_aks-mjbright_aks-cluster1_westeurope\n",
       "                    kubernetes.io/hostname=aks-nodepool1-35637019-0\n",
       "                    kubernetes.io/role=agent\n",
       "                    storageprofile=managed\n",
       "                    storagetier=Premium_LRS\n",
       "Annotations:        node.alpha.kubernetes.io/ttl=0\n",
       "                    volumes.kubernetes.io/controller-managed-attach-detach=true\n",
       "CreationTimestamp:  Thu, 04 Oct 2018 09:24:06 +0200\n",
       "Taints:             <none>\n",
       "Unschedulable:      false\n",
       "Conditions:\n",
       "  Type                 Status  LastHeartbeatTime                 LastTransitionTime                Reason                       Message\n",
       "  ----                 ------  -----------------                 ------------------                ------                       -------\n",
       "  NetworkUnavailable   False   Thu, 04 Oct 2018 09:24:52 +0200   Thu, 04 Oct 2018 09:24:52 +0200   RouteCreated                 RouteController created a route\n",
       "  OutOfDisk            False   Thu, 04 Oct 2018 21:41:17 +0200   Thu, 04 Oct 2018 09:24:06 +0200   KubeletHasSufficientDisk     kubelet has sufficient disk space available\n",
       "  MemoryPressure       False   Thu, 04 Oct 2018 21:41:17 +0200   Thu, 04 Oct 2018 09:24:06 +0200   KubeletHasSufficientMemory   kubelet has sufficient memory available\n",
       "  DiskPressure         False   Thu, 04 Oct 2018 21:41:17 +0200   Thu, 04 Oct 2018 09:24:06 +0200   KubeletHasNoDiskPressure     kubelet has no disk pressure\n",
       "  Ready                True    Thu, 04 Oct 2018 21:41:17 +0200   Thu, 04 Oct 2018 09:24:47 +0200   KubeletReady                 kubelet is posting ready status. AppArmor enabled\n",
       "Addresses:\n",
       "  InternalIP:  10.240.0.5\n",
       "  Hostname:    aks-nodepool1-35637019-0\n",
       "Capacity:\n",
       " cpu:     1\n",
       " memory:  3524676Ki\n",
       " pods:    110\n",
       "Allocatable:\n",
       " cpu:     940m\n",
       " memory:  2689092Ki\n",
       " pods:    110\n",
       "System Info:\n",
       " Machine ID:                 9d30099731f54ca5b4948c64aa04800f\n",
       " System UUID:                2ED9C00B-754A-6F42-9E8B-83CEC062DB7C\n",
       " Boot ID:                    aefcc58c-7b1b-4918-86a3-97a9d8682cb9\n",
       " Kernel Version:             4.15.0-1021-azure\n",
       " OS Image:                   Ubuntu 16.04.5 LTS\n",
       " Operating System:           linux\n",
       " Architecture:               amd64\n",
       " Container Runtime Version:  docker://1.13.1\n",
       " Kubelet Version:            v1.9.9\n",
       " Kube-Proxy Version:         v1.9.9\n",
       "PodCIDR:                     10.244.2.0/24\n",
       "ProviderID:                  azure:///subscriptions/5e1e1c38-3ea9-4c46-87c1-fc56b1d0000c/resourceGroups/MC_aks-mjbright_aks-cluster1_westeurope/providers/Microsoft.Compute/virtualMachines/aks-nodepool1-35637019-0\n",
       "Non-terminated Pods:         (5 in total)\n",
       "  Namespace                  Name                             CPU Requests  CPU Limits  Memory Requests  Memory Limits\n",
       "  ---------                  ----                             ------------  ----------  ---------------  -------------\n",
       "  kube-system                heapster-6f4d8b48bc-55492        130m (13%)    130m (13%)  230Mi (8%)       230Mi (8%)\n",
       "  kube-system                kube-dns-v20-7d874cb9b6-btqr8    110m (11%)    0 (0%)      120Mi (4%)       220Mi (8%)\n",
       "  kube-system                kube-dns-v20-7d874cb9b6-zzghm    110m (11%)    0 (0%)      120Mi (4%)       220Mi (8%)\n",
       "  kube-system                kube-proxy-nqn96                 100m (10%)    0 (0%)      0 (0%)           0 (0%)\n",
       "  kube-system                kube-svc-redirect-mkzxl          10m (1%)      0 (0%)      34Mi (1%)        0 (0%)\n",
       "Allocated resources:\n",
       "  (Total limits may be over 100 percent, i.e., overcommitted.)\n",
       "  Resource  Requests     Limits\n",
       "  --------  --------     ------\n",
       "  cpu       460m (48%)   130m (13%)\n",
       "  memory    504Mi (19%)  670Mi (25%)\n",
       "Events:     <none>"
      ]
     },
     "execution_count": 16,
     "metadata": {},
     "output_type": "execute_result"
    }
   ],
   "source": [
    "kubectl describe node aks-nodepool1-35637019-0"
   ]
  },
  {
   "cell_type": "markdown",
   "metadata": {
    "slideshow": {
     "slide_type": "slide"
    }
   },
   "source": [
    "## 2.2 Kubernetes Architecture - Worker Nodes\n",
    "\n",
    "<img src=\"images/KubernetesArchi_SlaveNodes.svg.png\" width=\"1000\" />\n",
    "<br/><table align=\"right\" style='font-family:\"Courier New\", Courier, monospace; font-size:100%; bottom:0px;'>\n",
    "    <tr><td bgcolor=\"#ffffff\" color=\"#ffffff\"></td><td bgcolor=\"#ffffff\" color=\"#ffffff\"> <img src=\"http://www.icon100.com/up/3011/128/Twitter-alt.png\" width=\"40\"> </td><td bgcolor=\"#ffffff\" color=\"#ffffff\" > @mjbright </td></tr></table>\n",
    "    \n",
    "<!-- \n",
    "### Kubelet\n",
    "The Kubelet process listens on the internal API used by the Master nodes to control the Worker nodes.  It manages all communication between Master and Worker nodes.\n",
    "\n",
    "### Container Engine\n",
    "Today Docker is still the default container engine used by Kubernetes, but alternatives exist such as rkt (‘rocket’) from CoreOS and more recently CRI-O from RedHat.  In the future it is likely that CRI-O will be the default engine.\n",
    "\n",
    "Note: other engines such as Virtlet/Kubevirt exist which allow to spawn virtual machines rather than containers.\n",
    "\n",
    "### Fluentd\n",
    "Fluentd is used for distributed logging across the cluster\n",
    "\n",
    "### Kube-proxy\n",
    "Kube-proxy provides network access, where appropriate, between external networks in services provided on the internal networks to which Pods are attached.\n",
    "-->"
   ]
  },
  {
   "cell_type": "markdown",
   "metadata": {
    "slideshow": {
     "slide_type": "slide"
    }
   },
   "source": [
    "## 2.3 Kubernetes Architecture - Pods\n",
    "\n",
    "<img src=\"images/KubernetesArchi_Pod.svg.png\" width=\"800\" />\n",
    "\n",
    "<br/><table align=\"right\" style='font-family:\"Courier New\", Courier, monospace; font-size:100%; bottom:0px;'>\n",
    "    <tr><td bgcolor=\"#ffffff\" color=\"#ffffff\"></td><td bgcolor=\"#ffffff\" color=\"#ffffff\"> <img src=\"http://www.icon100.com/up/3011/128/Twitter-alt.png\" width=\"40\"> </td><td bgcolor=\"#ffffff\" color=\"#ffffff\" > @mjbright </td></tr></table>\n",
    "    \n",
    "<!--\n",
    "The pod is the basic scheduling unit in a Kubernetes cluster.  It is made of 1 or more containers where the first container provides the main functionality and any extra ‘*sidecar*’ containers are present to provide support functions to that container.\n",
    "\n",
    "A sidecar container might perform some specific cleanup, or logging operations.\n",
    "\n",
    "Note that all containers in a pod share the same ip address and must not use conflicting ports.  Thus a pod provides something like a node abstraction where all processes (/containers) on a node share the same ip address.\n",
    "-->"
   ]
  },
  {
   "cell_type": "markdown",
   "metadata": {
    "slideshow": {
     "slide_type": "slide"
    }
   },
   "source": [
    "## 2.3 Kubernetes Architecture - Pods\n",
    "\n"
   ]
  },
  {
   "cell_type": "code",
   "execution_count": 1,
   "metadata": {
    "slideshow": {
     "slide_type": "fragment"
    }
   },
   "outputs": [
    {
     "data": {
      "text/plain": [
       "NAME                                    READY     STATUS    RESTARTS   AGE       IP            NODE\r\n",
       "heapster-6f4d8b48bc-p8vms               2/2       Running   0          14h       10.244.9.2    aks-nodepool1-35637019-7\r\n",
       "kube-dns-v20-7d874cb9b6-4d2w4           3/3       Running   0          14h       10.244.3.2    aks-nodepool1-35637019-5\r\n",
       "kube-dns-v20-7d874cb9b6-c6tmh           3/3       Running   0          14h       10.244.2.2    aks-nodepool1-35637019-2\r\n",
       "kube-proxy-86pm7                        1/1       Running   0          14h       10.240.0.7    aks-nodepool1-35637019-3\r\n",
       "kube-proxy-dqnfs                        1/1       Running   0          14h       10.240.0.12   aks-nodepool1-35637019-6\r\n",
       "kube-proxy-dvxbr                        1/1       Running   0          14h       10.240.0.10   aks-nodepool1-35637019-9\r\n",
       "kube-proxy-gq6r4                        1/1       Running   0          14h       10.240.0.11   aks-nodepool1-35637019-2\r\n",
       "kube-proxy-kktx9                        1/1       Running   0          14h       10.240.0.8    aks-nodepool1-35637019-1\r\n",
       "kube-proxy-kmvrd                        1/1       Running   0          14h       10.240.0.5    aks-nodepool1-35637019-8\r\n",
       "kube-proxy-lsdps                        1/1       Running   0          14h       10.240.0.13   aks-nodepool1-35637019-4\r\n",
       "kube-proxy-n5zk2                        1/1       Running   0          14h       10.240.0.9    aks-nodepool1-35637019-5\r\n",
       "kube-proxy-p8f2d                        1/1       Running   0          14h       10.240.0.6    aks-nodepool1-35637019-0\r\n",
       "kube-proxy-zqw4p                        1/1       Running   0          14h       10.240.0.4    aks-nodepool1-35637019-7\r\n",
       "kube-svc-redirect-5w545                 2/2       Running   0          14h       10.240.0.11   aks-nodepool1-35637019-2\r\n",
       "kube-svc-redirect-7x9p2                 2/2       Running   0          14h       10.240.0.9    aks-nodepool1-35637019-5\r\n",
       "kube-svc-redirect-bztmz                 2/2       Running   0          14h       10.240.0.5    aks-nodepool1-35637019-8\r\n",
       "kube-svc-redirect-g5kr9                 2/2       Running   0          14h       10.240.0.13   aks-nodepool1-35637019-4\r\n",
       "kube-svc-redirect-nxcps                 2/2       Running   0          14h       10.240.0.4    aks-nodepool1-35637019-7\r\n",
       "kube-svc-redirect-pxdtq                 2/2       Running   0          14h       10.240.0.7    aks-nodepool1-35637019-3\r\n",
       "kube-svc-redirect-q5srq                 2/2       Running   0          14h       10.240.0.8    aks-nodepool1-35637019-1\r\n",
       "kube-svc-redirect-qtftw                 2/2       Running   0          14h       10.240.0.12   aks-nodepool1-35637019-6\r\n",
       "kube-svc-redirect-rq7jd                 2/2       Running   0          14h       10.240.0.10   aks-nodepool1-35637019-9\r\n",
       "kube-svc-redirect-s6hk2                 2/2       Running   0          14h       10.240.0.6    aks-nodepool1-35637019-0\r\n",
       "kubernetes-dashboard-68f8cc4d8c-wf9jm   1/1       Running   2          14h       10.244.6.2    aks-nodepool1-35637019-6\r\n",
       "tunnelfront-7fdd485494-bpnng            1/1       Running   0          14h       10.244.1.2    aks-nodepool1-35637019-3"
      ]
     },
     "execution_count": 1,
     "metadata": {},
     "output_type": "execute_result"
    }
   ],
   "source": [
    "kubectl -n kube-system get pods -o wide"
   ]
  },
  {
   "cell_type": "markdown",
   "metadata": {
    "slideshow": {
     "slide_type": "slide"
    }
   },
   "source": [
    "## 3.  Kubernetes Components\n",
    "\n",
    "Refer to the Wikipedia Kubernetes [#design](https://en.wikipedia.org/wiki/Kubernetes#Design) page for more information.\n",
    "\n",
    "### Cluster\n",
    "\n",
    "The Kubernetes cluster is made up of a set of Master nodes which schedule tasks to the Worker nodes\n",
    "\n",
    "### Namespace\n",
    "\n",
    "Kubernetes objects are associated with a namespace.\n",
    "\n",
    "There is a '*default*' namespace for user containers, or new namespaces can be created and used.\n",
    "\n",
    "Kubernetes system services run within the '*kube-system*' namespace.\n",
    "\n",
    "<br/><table align=\"right\" style='font-family:\"Courier New\", Courier, monospace; font-size:100%; bottom:0px;'>\n",
    "    <tr><td bgcolor=\"#ffffff\" color=\"#ffffff\"></td><td bgcolor=\"#ffffff\" color=\"#ffffff\"> <img src=\"http://www.icon100.com/up/3011/128/Twitter-alt.png\" width=\"40\"> </td><td bgcolor=\"#ffffff\" color=\"#ffffff\" > @mjbright </td></tr></table>\n"
   ]
  },
  {
   "cell_type": "markdown",
   "metadata": {
    "slideshow": {
     "slide_type": "slide"
    }
   },
   "source": [
    "## 3.  Kubernetes Components\n",
    "\n",
    "\n",
    "### Cluster"
   ]
  },
  {
   "cell_type": "code",
   "execution_count": 21,
   "metadata": {
    "slideshow": {
     "slide_type": "fragment"
    }
   },
   "outputs": [
    {
     "data": {
      "text/plain": [
       "CURRENT   NAME                      CLUSTER                      AUTHINFO                                NAMESPACE\n",
       "*         aks-cluster1              aks-cluster1                 clusterUser_aks-mjbright_aks-cluster1   \n",
       "          aks-cluster1-user1-user   aks-cluster1                 aks-cluster1-user1-user                 user1\n",
       "          aks-cluster1-user2-user   aks-cluster1                 aks-cluster1-user2-user                 user2\n",
       "          aks-cluster1-user3-user   aks-cluster1                 aks-cluster1-user3-user                 user3\n",
       "          aks-cluster1-user4-user   aks-cluster1                 aks-cluster1-user4-user                 user4\n",
       "          docker-for-desktop        docker-for-desktop-cluster   docker-for-desktop"
      ]
     },
     "execution_count": 21,
     "metadata": {},
     "output_type": "execute_result"
    }
   ],
   "source": [
    "kubectl config get-contexts"
   ]
  },
  {
   "cell_type": "markdown",
   "metadata": {
    "slideshow": {
     "slide_type": "slide"
    }
   },
   "source": [
    "## 3.  Kubernetes Components\n",
    "\n",
    "\n",
    "### Namespace"
   ]
  },
  {
   "cell_type": "code",
   "execution_count": 22,
   "metadata": {
    "slideshow": {
     "slide_type": "fragment"
    }
   },
   "outputs": [
    {
     "data": {
      "text/plain": [
       "NAME          STATUS    AGE\n",
       "default       Active    12h\n",
       "kube-public   Active    12h\n",
       "kube-system   Active    12h\n",
       "user1         Active    12h\n",
       "user2         Active    12h\n",
       "user3         Active    12h\n",
       "user4         Active    12h"
      ]
     },
     "execution_count": 22,
     "metadata": {},
     "output_type": "execute_result"
    }
   ],
   "source": [
    "kubectl get namespaces"
   ]
  },
  {
   "cell_type": "markdown",
   "metadata": {
    "slideshow": {
     "slide_type": "slide"
    }
   },
   "source": [
    "## 3.  Kubernetes Components\n",
    "\n",
    "### Deployment\n",
    "Declaratively manages versioning of an application.  It controls a ReplicaSet for each version to be managed, allowing to perform rolling upgrades.\n",
    "\n",
    "\n",
    "### ReplicaSet\n",
    "Ensures that a given number of pods are running even if pods or nodes fail.\n",
    "(replaces older Replication Controller)\n",
    "\n",
    "### Pod\n",
    "smallest unit: 1 or more containers on the same IP\n",
    "\n",
    "<br/><table align=\"right\" style='font-family:\"Courier New\", Courier, monospace; font-size:100%; bottom:0px;'>\n",
    "    <tr><td bgcolor=\"#ffffff\" color=\"#ffffff\"></td><td bgcolor=\"#ffffff\" color=\"#ffffff\"> <img src=\"http://www.icon100.com/up/3011/128/Twitter-alt.png\" width=\"40\"> </td><td bgcolor=\"#ffffff\" color=\"#ffffff\" > @mjbright </td></tr></table>\n"
   ]
  },
  {
   "cell_type": "markdown",
   "metadata": {
    "slideshow": {
     "slide_type": "slide"
    }
   },
   "source": [
    "## 3.  Kubernetes Components\n",
    "\n",
    "![](images/KubernetesArchi_Deploy.svg.png)\n",
    "\n",
    "<br/><table align=\"right\" style='font-family:\"Courier New\", Courier, monospace; font-size:100%; bottom:0px;'>\n",
    "    <tr><td bgcolor=\"#ffffff\" color=\"#ffffff\"></td><td bgcolor=\"#ffffff\" color=\"#ffffff\"> <img src=\"http://www.icon100.com/up/3011/128/Twitter-alt.png\" width=\"40\"> </td><td bgcolor=\"#ffffff\" color=\"#ffffff\" > @mjbright </td></tr></table>\n"
   ]
  },
  {
   "cell_type": "markdown",
   "metadata": {
    "slideshow": {
     "slide_type": "slide"
    }
   },
   "source": [
    "## 3.  Kubernetes Components - Workload API\n",
    "\n",
    "[Workloads Documentation](https://kubernetes.io/docs/reference/generated/kubernetes-api/v1.9/#-strong-workloads-strong-)\n",
    "\n",
    "### Deployment\n",
    "Declaratively manage ReplicaSets, allows to perform rolling upgrades.\n",
    "\n",
    "### DaemonSet\n",
    "Ensures that a pod runs on all (or subset of) nodes\n",
    "\n",
    "### StatefulSet\n",
    "Used to manage stateful applications - similar to a deployment but pod identifiers are maintained across any rescheduling.\n",
    "\n",
    "<br/><table align=\"right\" style='font-family:\"Courier New\", Courier, monospace; font-size:100%; bottom:0px;'>\n",
    "    <tr><td bgcolor=\"#ffffff\" color=\"#ffffff\"></td><td bgcolor=\"#ffffff\" color=\"#ffffff\"> <img src=\"http://www.icon100.com/up/3011/128/Twitter-alt.png\" width=\"40\"> </td><td bgcolor=\"#ffffff\" color=\"#ffffff\" > @mjbright </td></tr></table>\n",
    "\n"
   ]
  },
  {
   "cell_type": "markdown",
   "metadata": {
    "slideshow": {
     "slide_type": "slide"
    }
   },
   "source": [
    "## 3.  Kubernetes Components - Batch Workload API\n",
    "\n",
    "\n",
    "### Job\n",
    "Short-lived pods, e.g. for batch jobs. ['Job' Documentation](https://kubernetes.io/docs/reference/generated/kubernetes-api/v1.9/#cronjob-v1beta1-batch)\n",
    "\n",
    "### CronJob\n",
    "Scheduled jobs. ['CronJob' Documentation](https://kubernetes.io/docs/reference/generated/kubernetes-api/v1.9/#job-v1-batch)\n",
    "\n",
    "\n",
    "<br/><table align=\"right\" style='font-family:\"Courier New\", Courier, monospace; font-size:100%; bottom:0px;'>\n",
    "    <tr><td bgcolor=\"#ffffff\" color=\"#ffffff\"></td><td bgcolor=\"#ffffff\" color=\"#ffffff\"> <img src=\"http://www.icon100.com/up/3011/128/Twitter-alt.png\" width=\"40\"> </td><td bgcolor=\"#ffffff\" color=\"#ffffff\" > @mjbright </td></tr></table>\n"
   ]
  },
  {
   "cell_type": "markdown",
   "metadata": {
    "slideshow": {
     "slide_type": "slide"
    }
   },
   "source": [
    "### Service\n",
    "\n",
    "Services allow access to your application Pods without connecting to the Pod directly (!!).\n",
    "\n",
    "As Pods live and die the Service allow access to the current Pods."
   ]
  },
  {
   "cell_type": "code",
   "execution_count": 20,
   "metadata": {
    "slideshow": {
     "slide_type": "fragment"
    }
   },
   "outputs": [
    {
     "data": {
      "text/plain": [
       "NAME                   TYPE        CLUSTER-IP     EXTERNAL-IP   PORT(S)         AGE       SELECTOR\n",
       "heapster               ClusterIP   10.0.192.133   <none>        80/TCP          12h       k8s-app=heapster\n",
       "kube-dns               ClusterIP   10.0.0.10      <none>        53/UDP,53/TCP   12h       k8s-app=kube-dns\n",
       "kubernetes-dashboard   ClusterIP   10.0.185.58    <none>        80/TCP          12h       k8s-app=kubernetes-dashboard"
      ]
     },
     "execution_count": 20,
     "metadata": {},
     "output_type": "execute_result"
    }
   ],
   "source": [
    "kubectl -n kube-system get -o wide"
   ]
  },
  {
   "cell_type": "markdown",
   "metadata": {
    "slideshow": {
     "slide_type": "slide"
    }
   },
   "source": [
    "### Service\n",
    "\n",
    "Different types of Service exist:\n",
    "- ClusterIP: used for internal access so Pod can access internal services\n",
    "- NodePort: Exposes a port on each Worker node, forwards to ClusterIP\n",
    "- HostPort\n",
    "- LoadBalancer: Forwards requests to one of the NodePorts.\n",
    "\n",
    "The LoadBalancer is provided externally to the cluster, e.g. by the Cloud Provider, and provides an EXTERNAL-IP\n",
    "\n",
    "\n",
    "\n",
    "\n",
    "\n",
    "<!-- ### Endpoints -->"
   ]
  },
  {
   "cell_type": "code",
   "execution_count": 20,
   "metadata": {
    "slideshow": {
     "slide_type": "fragment"
    }
   },
   "outputs": [
    {
     "data": {
      "text/plain": [
       "NAME                   TYPE        CLUSTER-IP     EXTERNAL-IP   PORT(S)         AGE       SELECTOR\n",
       "heapster               ClusterIP   10.0.192.133   <none>        80/TCP          12h       k8s-app=heapster\n",
       "kube-dns               ClusterIP   10.0.0.10      <none>        53/UDP,53/TCP   12h       k8s-app=kube-dns\n",
       "kubernetes-dashboard   ClusterIP   10.0.185.58    <none>        80/TCP          12h       k8s-app=kubernetes-dashboard"
      ]
     },
     "execution_count": 20,
     "metadata": {},
     "output_type": "execute_result"
    }
   ],
   "source": [
    "kubectl -n kube-system get svc -o wide"
   ]
  },
  {
   "cell_type": "markdown",
   "metadata": {
    "slideshow": {
     "slide_type": "slide"
    }
   },
   "source": [
    "### Ingress\n",
    "\n",
    "Provide reverse-proxy capabilities through NGinx, HA-Proxy, Traefik or others ...\n",
    "\n",
    "Can allow host/path-based routing and other capabilities.\n",
    "\n",
    "\n",
    "### ConfigMap\n",
    "Dynamically loadable config (k-v pairs, or json) which is mounted in Pods like a volume\n",
    "\n",
    "### Secret\n",
    "Similar to ConfigMap but for small amounts of sensitive info (certs., keys, ..)\n",
    "\n",
    "<br/><table align=\"right\" style='font-family:\"Courier New\", Courier, monospace; font-size:100%; bottom:0px;'>\n",
    "    <tr><td bgcolor=\"#ffffff\" color=\"#ffffff\"></td><td bgcolor=\"#ffffff\" color=\"#ffffff\"> <img src=\"http://www.icon100.com/up/3011/128/Twitter-alt.png\" width=\"40\"> </td><td bgcolor=\"#ffffff\" color=\"#ffffff\" > @mjbright </td></tr></table>"
   ]
  },
  {
   "cell_type": "markdown",
   "metadata": {
    "slideshow": {
     "slide_type": "slide"
    }
   },
   "source": [
    "### Labels\n",
    "Key/value pairs which can be attached to objects\n",
    "\n",
    "### Selectors\n",
    "Used to select a group of objects by label\n",
    "\n",
    "Used by ReplicaSets and other controllers to control their \"*offspring*\" (Pods) in a decoupled-manner.\n",
    "\n",
    "<br/><table align=\"right\" style='font-family:\"Courier New\", Courier, monospace; font-size:100%; bottom:0px;'>\n",
    "    <tr><td bgcolor=\"#ffffff\" color=\"#ffffff\"></td><td bgcolor=\"#ffffff\" color=\"#ffffff\"> <img src=\"http://www.icon100.com/up/3011/128/Twitter-alt.png\" width=\"40\"> </td><td bgcolor=\"#ffffff\" color=\"#ffffff\" > @mjbright </td></tr></table>"
   ]
  },
  {
   "cell_type": "markdown",
   "metadata": {
    "slideshow": {
     "slide_type": "slide"
    }
   },
   "source": [
    "[INDEX](Kubernetes.ipynb)  [NEXT](2.5.KubernetesDashboard.ipynb)"
   ]
  },
  {
   "cell_type": "markdown",
   "metadata": {
    "slideshow": {
     "slide_type": "skip"
    }
   },
   "source": [
    "### PersistentVolume\n",
    "\n",
    "Volumes outside the Pod to allow Persistence as Pods live and die.  Requires some storage class such as NFS, iSCSI, S3 driver, AzureFile, ...\n",
    "\n",
    "### PersistentVolumeClaim\n",
    "\n",
    "A PV is first defined and then claimed by the Pod using the PVC.\n",
    "\n",
    "<!-- ### StorageClass -->\n",
    "\n",
    "<br/><table align=\"right\" style='font-family:\"Courier New\", Courier, monospace; font-size:100%; bottom:0px;'>\n",
    "    <tr><td bgcolor=\"#ffffff\" color=\"#ffffff\"></td><td bgcolor=\"#ffffff\" color=\"#ffffff\"> <img src=\"http://www.icon100.com/up/3011/128/Twitter-alt.png\" width=\"40\"> </td><td bgcolor=\"#ffffff\" color=\"#ffffff\" > @mjbright </td></tr></table>"
   ]
  }
 ],
 "metadata": {
  "celltoolbar": "Slideshow",
  "kernelspec": {
   "display_name": "MetaKernel Bash",
   "language": "bash",
   "name": "metakernel_bash"
  },
  "language_info": {
   "file_extension": ".sh",
   "help_links": [
    {
     "text": "MetaKernel Magics",
     "url": "https://github.com/calysto/metakernel/blob/master/metakernel/magics/README.md"
    }
   ],
   "mimetype": "text/x-bash",
   "name": "bash"
  }
 },
 "nbformat": 4,
 "nbformat_minor": 2
}
