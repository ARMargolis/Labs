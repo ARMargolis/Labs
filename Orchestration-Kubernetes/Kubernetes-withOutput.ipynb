{
 "cells": [
  {
   "cell_type": "markdown",
   "metadata": {},
   "source": [
    "\n",
    "\n",
    "## Kubernetes Lab\n",
    "\n"
   ]
  },
  {
   "cell_type": "code",
   "execution_count": 1,
   "metadata": {},
   "outputs": [
    {
     "name": "stdout",
     "output_type": "stream",
     "text": [
      "Notebook started at Wed Oct 25 09:58:37 CEST 2017   [1508918317]\n"
     ]
    }
   ],
   "source": [
    ". ../NB_bash_functions.rc"
   ]
  },
  {
   "cell_type": "code",
   "execution_count": 4,
   "metadata": {
    "collapsed": true
   },
   "outputs": [],
   "source": [
    "cd /home/mjb/MINIKUBE\n",
    "#ls -altr"
   ]
  },
  {
   "cell_type": "code",
   "execution_count": 8,
   "metadata": {},
   "outputs": [
    {
     "name": "stdout",
     "output_type": "stream",
     "text": [
      "minikube is running, setting docker-env vars\n",
      "\n",
      "Minikube version [for /home/mjb/MINIKUBE/bin_0.22.3/minikube]:\n",
      "Error getting host: Machine does not exist for api.Exists(minikube)\n",
      "minikube version: v0.22.3\n",
      "\n",
      "Docker version [for /usr/bin/docker]:\n",
      "Client:\n",
      " Version:         1.13.1\n",
      " API version:     1.26\n",
      " Package version: <unknown>\n",
      " Go version:      go1.8.3\n",
      " Git commit:      b5e3294/1.13.1\n",
      " Built:           Wed Aug 16 13:58:20 2017\n",
      " OS/Arch:         linux/amd64\n",
      "\n",
      "Server:\n",
      " Version:         1.13.1\n",
      " API version:     1.26 (minimum version 1.12)\n",
      " Package version: <unknown>\n",
      " Go version:      go1.8.3\n",
      " Git commit:      b5e3294/1.13.1\n",
      " Built:           Wed Aug 16 13:58:20 2017\n",
      " OS/Arch:         linux/amd64\n",
      " Experimental:    false\n",
      "bash: /usr/bin/bash/kubectl.rc: Not a directory\n"
     ]
    },
    {
     "ename": "",
     "evalue": "1",
     "output_type": "error",
     "traceback": []
    }
   ],
   "source": [
    ". minikube.rc"
   ]
  },
  {
   "cell_type": "code",
   "execution_count": 9,
   "metadata": {},
   "outputs": [
    {
     "name": "stdout",
     "output_type": "stream",
     "text": [
      "/usr/bin/docker\n",
      "Client:\n",
      " Version:         1.13.1\n",
      " API version:     1.26\n",
      " Package version: <unknown>\n",
      " Go version:      go1.8.3\n",
      " Git commit:      b5e3294/1.13.1\n",
      " Built:           Wed Aug 16 13:58:20 2017\n",
      " OS/Arch:         linux/amd64\n",
      "\n",
      "Server:\n",
      " Version:         1.13.1\n",
      " API version:     1.26 (minimum version 1.12)\n",
      " Package version: <unknown>\n",
      " Go version:      go1.8.3\n",
      " Git commit:      b5e3294/1.13.1\n",
      " Built:           Wed Aug 16 13:58:20 2017\n",
      " OS/Arch:         linux/amd64\n",
      " Experimental:    false\n"
     ]
    }
   ],
   "source": [
    "which docker; docker version"
   ]
  },
  {
   "cell_type": "code",
   "execution_count": 10,
   "metadata": {},
   "outputs": [
    {
     "name": "stdout",
     "output_type": "stream",
     "text": [
      "~/MINIKUBE/bin_0.22.3/minikube\n",
      "minikube version: v0.22.3\n"
     ]
    }
   ],
   "source": [
    "which minikube; minikube version"
   ]
  },
  {
   "cell_type": "code",
   "execution_count": 11,
   "metadata": {},
   "outputs": [
    {
     "name": "stdout",
     "output_type": "stream",
     "text": [
      "~/MINIKUBE/bin_0.18.0/kubectl\n",
      "Client Version: version.Info{Major:\"1\", Minor:\"6\", GitVersion:\"v1.6.0\", GitCommit:\"fff5156092b56e6bd60fff75aad4dc9de6b6ef37\", GitTreeState:\"clean\", BuildDate:\"2017-03-28T16:36:33Z\", GoVersion:\"go1.7.5\", Compiler:\"gc\", Platform:\"linux/amd64\"}\n",
      "The connection to the server 192.168.99.100:8443 was refused - did you specify the right host or port?\n"
     ]
    },
    {
     "ename": "",
     "evalue": "1",
     "output_type": "error",
     "traceback": []
    }
   ],
   "source": [
    "which kubectl; kubectl version"
   ]
  },
  {
   "cell_type": "code",
   "execution_count": 12,
   "metadata": {},
   "outputs": [
    {
     "name": "stdout",
     "output_type": "stream",
     "text": [
      "minikube: \n",
      "cluster: \n",
      "kubectl: \n"
     ]
    }
   ],
   "source": [
    "minikube status"
   ]
  },
  {
   "cell_type": "code",
   "execution_count": 19,
   "metadata": {},
   "outputs": [
    {
     "name": "stdout",
     "output_type": "stream",
     "text": [
      "Deleting local Kubernetes cluster...\n",
      "Machine deleted.\n"
     ]
    }
   ],
   "source": [
    "minikube delete"
   ]
  },
  {
   "cell_type": "code",
   "execution_count": 14,
   "metadata": {
    "collapsed": true,
    "scrolled": true
   },
   "outputs": [],
   "source": [
    "#. minikube.rc"
   ]
  },
  {
   "cell_type": "markdown",
   "metadata": {},
   "source": [
    "# 0. Kubernetes Cluster Creation\n",
    "\n",
    "Using the minikube tool we can create a single-node Kubernetes cluster.\n",
    "\n",
    "The cluster runs within a VirtualBox VM running the boot2docker.iso image.\n",
    "\n",
    "To use this cluster we need just 3 executables:\n",
    "- minikube itself\n",
    "- the docker client\n",
    "- the kubectl client"
   ]
  },
  {
   "cell_type": "code",
   "execution_count": 22,
   "metadata": {},
   "outputs": [
    {
     "name": "stdout",
     "output_type": "stream",
     "text": [
      "~/MINIKUBE/bin_0.22.3/minikube\n",
      "/usr/bin/docker\n",
      "~/MINIKUBE/bin_0.22.3/kubectl\n",
      "-rwxrwxr-x. 1 mjb mjb 86M Oct  7 06:50 \u001b[0m\u001b[38;5;40m/home/mjb/MINIKUBE/bin_0.22.3/minikube\u001b[0m\n"
     ]
    }
   ],
   "source": [
    "which minikube; which docker; which kubectl\n",
    "ls -altrh $(which minikube)\n",
    "#echo $PATH"
   ]
  },
  {
   "cell_type": "code",
   "execution_count": 23,
   "metadata": {},
   "outputs": [
    {
     "name": "stdout",
     "output_type": "stream",
     "text": [
      "Client:\n",
      " Version:         1.13.1\n",
      " API version:     1.26\n",
      " Package version: <unknown>\n",
      " Go version:      go1.8.3\n",
      " Git commit:      b5e3294/1.13.1\n",
      " Built:           Wed Aug 16 13:58:20 2017\n",
      " OS/Arch:         linux/amd64\n",
      "\n",
      "Server:\n",
      " Version:         1.13.1\n",
      " API version:     1.26 (minimum version 1.12)\n",
      " Package version: <unknown>\n",
      " Go version:      go1.8.3\n",
      " Git commit:      b5e3294/1.13.1\n",
      " Built:           Wed Aug 16 13:58:20 2017\n",
      " OS/Arch:         linux/amd64\n",
      " Experimental:    false\n",
      "minikube version: v0.22.3\n"
     ]
    }
   ],
   "source": [
    "docker version; minikube version"
   ]
  },
  {
   "cell_type": "markdown",
   "metadata": {},
   "source": [
    "minikube should not be already running:"
   ]
  },
  {
   "cell_type": "code",
   "execution_count": 24,
   "metadata": {},
   "outputs": [
    {
     "name": "stdout",
     "output_type": "stream",
     "text": [
      "minikube: \n",
      "cluster: \n",
      "kubectl: \n"
     ]
    }
   ],
   "source": [
    "minikube status"
   ]
  },
  {
   "cell_type": "code",
   "execution_count": 25,
   "metadata": {},
   "outputs": [
    {
     "name": "stdout",
     "output_type": "stream",
     "text": [
      "Starting local Kubernetes v1.7.5 cluster...\n",
      "Starting VM...\n",
      "Getting VM IP address...\n",
      "Moving files into cluster...\n",
      "Setting up certs...\n",
      "Connecting to cluster...\n",
      "Setting up kubeconfig...\n",
      "Starting cluster components...\n",
      "Kubectl is now configured to use the cluster.\n",
      "\n",
      "real\t0m53.235s\n",
      "user\t0m6.508s\n",
      "sys\t0m7.574s\n",
      "Client Version: version.Info{Major:\"1\", Minor:\"6\", GitVersion:\"v1.6.0\", GitCommit:\"fff5156092b56e6bd60fff75aad4dc9de6b6ef37\", GitTreeState:\"clean\", BuildDate:\"2017-03-28T16:36:33Z\", GoVersion:\"go1.7.5\", Compiler:\"gc\", Platform:\"linux/amd64\"}\n",
      "Server Version: version.Info{Major:\"1\", Minor:\"7\", GitVersion:\"v1.7.5\", GitCommit:\"17d7182a7ccbb167074be7a87f0a68bd00d58d97\", GitTreeState:\"clean\", BuildDate:\"2017-10-06T20:53:14Z\", GoVersion:\"go1.8.3\", Compiler:\"gc\", Platform:\"linux/amd64\"}\n"
     ]
    }
   ],
   "source": [
    "time minikube start\n",
    "\n",
    "kubectl version"
   ]
  },
  {
   "cell_type": "markdown",
   "metadata": {},
   "source": [
    "Once the cluster is started we can obtain the environment variables needed to allow our docker client to communicate with the cluster."
   ]
  },
  {
   "cell_type": "code",
   "execution_count": 26,
   "metadata": {},
   "outputs": [
    {
     "name": "stdout",
     "output_type": "stream",
     "text": [
      "export DOCKER_TLS_VERIFY=\"1\"\n",
      "export DOCKER_HOST=\"tcp://192.168.99.103:2376\"\n",
      "export DOCKER_CERT_PATH=\"/home/mjb/.minikube/certs\"\n",
      "export DOCKER_API_VERSION=\"1.23\"\n",
      "# Run this command to configure your shell:\n",
      "# eval $(minikube docker-env)\n"
     ]
    }
   ],
   "source": [
    "minikube docker-env"
   ]
  },
  {
   "cell_type": "code",
   "execution_count": 28,
   "metadata": {},
   "outputs": [
    {
     "name": "stdout",
     "output_type": "stream",
     "text": [
      "Client:\n",
      " Version:         1.13.1\n",
      " API version:     1.23\n",
      " Package version: \n",
      " Go version:      go1.8.3\n",
      " Git commit:      b5e3294/1.13.1\n",
      " Built:           Wed Aug 16 13:58:20 2017\n",
      " OS/Arch:         linux/amd64\n",
      "\n",
      "Server:\n",
      " Version:         1.12.6\n",
      " API version:     1.24 (minimum version )\n",
      " Package version: \n",
      " Go version:      go1.6.4\n",
      " Git commit:      78d1802\n",
      " Built:           Wed Jan 11 00:23:16 2017\n",
      " OS/Arch:         linux/amd64\n",
      " Experimental:    false\n"
     ]
    }
   ],
   "source": [
    "eval $(minikube docker-env); docker version"
   ]
  },
  {
   "cell_type": "markdown",
   "metadata": {},
   "source": [
    "Running ```docker ps``` we can see the containers used to implement the cluster.\n",
    "\n",
    "It may take a minute or so for all 4 containers to be running:"
   ]
  },
  {
   "cell_type": "code",
   "execution_count": 29,
   "metadata": {},
   "outputs": [
    {
     "name": "stdout",
     "output_type": "stream",
     "text": [
      "CONTAINER ID        IMAGE                                                                                                                          COMMAND                  CREATED              STATUS              PORTS               NAMES\n",
      "eeddb3732ac4        gcr.io/google_containers/k8s-dns-dnsmasq-nanny-amd64@sha256:46b933bb70270c8a02fa6b6f87d440f6f1fce1a5a2a719e164f83f7b109f7544   \"/dnsmasq-nanny -v...\"   About a minute ago   Up About a minute                       k8s_dnsmasq_kube-dns-1326421443-w05nh_kube-system_ccaf82b4-b967-11e7-bca7-080027969089_0\n",
      "e7b3cfa0d579        gcr.io/google_containers/k8s-dns-kube-dns-amd64@sha256:1a3fc069de481ae690188f6f1ba4664b5cc7760af37120f70c86505c79eea61d        \"/kube-dns --domai...\"   2 minutes ago        Up 2 minutes                            k8s_kubedns_kube-dns-1326421443-w05nh_kube-system_ccaf82b4-b967-11e7-bca7-080027969089_0\n",
      "033445a3ff97        gcr.io/google_containers/k8s-dns-sidecar-amd64@sha256:9aab42bf6a2a068b797fe7d91a5d8d915b10dbbc3d6f2b10492848debfba6044         \"/sidecar --v=2 --...\"   2 minutes ago        Up 2 minutes                            k8s_sidecar_kube-dns-1326421443-w05nh_kube-system_ccaf82b4-b967-11e7-bca7-080027969089_0\n",
      "667bcf6efa90        gcr.io/google_containers/pause-amd64:3.0                                                                                       \"/pause\"                 2 minutes ago        Up 2 minutes                            k8s_POD_kube-dns-1326421443-w05nh_kube-system_ccaf82b4-b967-11e7-bca7-080027969089_0\n",
      "6d520db8b0c5        691a82db1ecd                                                                                                                   \"/dashboard --inse...\"   2 minutes ago        Up 2 minutes                            k8s_kubernetes-dashboard_kubernetes-dashboard-j2m4n_kube-system_cc95dd5d-b967-11e7-bca7-080027969089_0\n",
      "ef157070e89b        gcr.io/google_containers/pause-amd64:3.0                                                                                       \"/pause\"                 2 minutes ago        Up 2 minutes                            k8s_POD_kubernetes-dashboard-j2m4n_kube-system_cc95dd5d-b967-11e7-bca7-080027969089_0\n",
      "803c9d51fefd        0a951668696f                                                                                                                   \"/opt/kube-addons.sh\"    3 minutes ago        Up 2 minutes                            k8s_kube-addon-manager_kube-addon-manager-minikube_kube-system_5b0c47ee629af3668fe115f798f73437_0\n",
      "ffd0f006216c        gcr.io/google_containers/pause-amd64:3.0                                                                                       \"/pause\"                 3 minutes ago        Up 2 minutes                            k8s_POD_kube-addon-manager-minikube_kube-system_5b0c47ee629af3668fe115f798f73437_0\n"
     ]
    }
   ],
   "source": [
    "docker ps "
   ]
  },
  {
   "cell_type": "markdown",
   "metadata": {},
   "source": [
    "We can also connect to the node (VM) on which the cluster is running by using the command\n",
    "\n",
    "```minikube ssh```"
   ]
  },
  {
   "cell_type": "code",
   "execution_count": 35,
   "metadata": {},
   "outputs": [
    {
     "name": "stdout",
     "output_type": "stream",
     "text": [
      " 09:39:08 up 4 min,  1 user,  load average: 0.13, 0.43, 0.25\n",
      "\n",
      "Client:\n",
      " Version:      1.12.6\n",
      " API version:  1.24\n",
      " Go version:   go1.6.4\n",
      " Git commit:   78d1802\n",
      " Built:        Wed Jan 11 00:23:16 2017\n",
      " OS/Arch:      linux/amd64\n",
      "\n",
      "Server:\n",
      " Version:      1.12.6\n",
      " API version:  1.24\n",
      " Go version:   go1.6.4\n",
      " Git commit:   78d1802\n",
      " Built:        Wed Jan 11 00:23:16 2017\n",
      " OS/Arch:      linux/amd64\n",
      "\n",
      "minikube\n"
     ]
    }
   ],
   "source": [
    "minikube ssh \"uptime; echo; docker version; echo; hostname\""
   ]
  },
  {
   "cell_type": "markdown",
   "metadata": {},
   "source": [
    "Let's first cleanup any Pods, Services, Deployments whch may be running\n",
    "\n",
    "(there should be none if we just started the cluster)."
   ]
  },
  {
   "cell_type": "code",
   "execution_count": 36,
   "metadata": {
    "collapsed": true
   },
   "outputs": [],
   "source": [
    "#bash -x ./cleanup.sh"
   ]
  },
  {
   "cell_type": "code",
   "execution_count": 37,
   "metadata": {},
   "outputs": [
    {
     "name": "stdout",
     "output_type": "stream",
     "text": [
      "NAME       STATUS    AGE       VERSION\n",
      "minikube   Ready     4m        v1.7.5\n"
     ]
    }
   ],
   "source": [
    "kubectl get nodes"
   ]
  },
  {
   "cell_type": "code",
   "execution_count": 38,
   "metadata": {},
   "outputs": [
    {
     "name": "stdout",
     "output_type": "stream",
     "text": [
      "No resources found.\n"
     ]
    }
   ],
   "source": [
    "kubectl get pods"
   ]
  },
  {
   "cell_type": "code",
   "execution_count": 39,
   "metadata": {},
   "outputs": [
    {
     "name": "stdout",
     "output_type": "stream",
     "text": [
      "NAME         CLUSTER-IP   EXTERNAL-IP   PORT(S)   AGE\n",
      "kubernetes   10.0.0.1     <none>        443/TCP   4m\n"
     ]
    }
   ],
   "source": [
    "kubectl get service"
   ]
  },
  {
   "cell_type": "code",
   "execution_count": null,
   "metadata": {
    "collapsed": true
   },
   "outputs": [],
   "source": [
    "kubectl get deployments"
   ]
  },
  {
   "cell_type": "code",
   "execution_count": 41,
   "metadata": {},
   "outputs": [
    {
     "name": "stdout",
     "output_type": "stream",
     "text": [
      "NAME          STATUS    AGE\n",
      "default       Active    4m\n",
      "kube-public   Active    4m\n",
      "kube-system   Active    4m\n"
     ]
    }
   ],
   "source": [
    "kubectl get namespaces"
   ]
  },
  {
   "cell_type": "markdown",
   "metadata": {},
   "source": [
    "# Demo start\n",
    "\n",
    "# 1. Creating a Cluster with minikube\n",
    "\n",
    "The minikube executable is a tool created by the kubernetes project for performing demos/tutorials of a single-node kubernetes cluster."
   ]
  },
  {
   "cell_type": "markdown",
   "metadata": {},
   "source": [
    "# kubectl\n",
    "\n",
    "kubectl is the kubernetes tool used for managing a cluster from the command-line.\n",
    "It is based on the kubernetes API.\n",
    "\n",
    "kubectl commands are of the form:\n",
    "\n",
    "    kubectl <verb> <noun>\n",
    "    \n",
    "e.g.\n",
    "\n",
    "    kubectl get nodes\n",
    "\n",
    "to see what nodes exist in the cluster."
   ]
  },
  {
   "cell_type": "code",
   "execution_count": 24,
   "metadata": {},
   "outputs": [
    {
     "name": "stdout",
     "output_type": "stream",
     "text": [
      "NAME       STATUS     AGE       VERSION\n",
      "minikube   NotReady   2s        v1.6.0\n"
     ]
    }
   ],
   "source": [
    "kubectl get nodes"
   ]
  },
  {
   "cell_type": "markdown",
   "metadata": {},
   "source": [
    "Note that abbreviations exist, e.g. no for nodes"
   ]
  },
  {
   "cell_type": "markdown",
   "metadata": {},
   "source": [
    "## 1. kubectl commands\n",
    "\n",
    "We can get a list of available kubectl commands (verbs) just by typing kubectl"
   ]
  },
  {
   "cell_type": "code",
   "execution_count": 42,
   "metadata": {},
   "outputs": [
    {
     "name": "stdout",
     "output_type": "stream",
     "text": [
      "kubectl controls the Kubernetes cluster manager. \n",
      "\n",
      "Find more information at https://github.com/kubernetes/kubernetes.\n",
      "\n",
      "Basic Commands (Beginner):\n",
      "  create         Create a resource by filename or stdin\n",
      "  expose         Take a replication controller, service, deployment or pod and\n",
      "expose it as a new Kubernetes Service\n",
      "  run            Run a particular image on the cluster\n",
      "  set            Set specific features on objects\n",
      "\n",
      "Basic Commands (Intermediate):\n",
      "  get            Display one or many resources\n",
      "  explain        Documentation of resources\n",
      "  edit           Edit a resource on the server\n",
      "  delete         Delete resources by filenames, stdin, resources and names, or\n",
      "by resources and label selector\n",
      "\n",
      "Deploy Commands:\n",
      "  rollout        Manage a deployment rollout\n",
      "  rolling-update Perform a rolling update of the given ReplicationController\n",
      "  scale          Set a new size for a Deployment, ReplicaSet, Replication\n",
      "Controller, or Job\n",
      "  autoscale      Auto-scale a Deployment, ReplicaSet, or ReplicationController\n",
      "\n",
      "Cluster Management Commands:\n",
      "  certificate    Modify certificate resources.\n",
      "  cluster-info   Display cluster info\n",
      "  top            Display Resource (CPU/Memory/Storage) usage.\n",
      "  cordon         Mark node as unschedulable\n",
      "  uncordon       Mark node as schedulable\n",
      "  drain          Drain node in preparation for maintenance\n",
      "  taint          Update the taints on one or more nodes\n",
      "\n",
      "Troubleshooting and Debugging Commands:\n",
      "  describe       Show details of a specific resource or group of resources\n",
      "  logs           Print the logs for a container in a pod\n",
      "  attach         Attach to a running container\n",
      "  exec           Execute a command in a container\n",
      "  port-forward   Forward one or more local ports to a pod\n",
      "  proxy          Run a proxy to the Kubernetes API server\n",
      "  cp             Copy files and directories to and from containers.\n",
      "  auth           Inspect authorization\n",
      "\n",
      "Advanced Commands:\n",
      "  apply          Apply a configuration to a resource by filename or stdin\n",
      "  patch          Update field(s) of a resource using strategic merge patch\n",
      "  replace        Replace a resource by filename or stdin\n",
      "  convert        Convert config files between different API versions\n",
      "\n",
      "Settings Commands:\n",
      "  label          Update the labels on a resource\n",
      "  annotate       Update the annotations on a resource\n",
      "  completion     Output shell completion code for the specified shell (bash or\n",
      "zsh)\n",
      "\n",
      "Other Commands:\n",
      "  api-versions   Print the supported API versions on the server, in the form of\n",
      "\"group/version\"\n",
      "  config         Modify kubeconfig files\n",
      "  help           Help about any command\n",
      "  version        Print the client and server version information\n",
      "\n",
      "Use \"kubectl <command> --help\" for more information about a given command.\n",
      "Use \"kubectl options\" for a list of global command-line options (applies to all\n",
      "commands).\n"
     ]
    }
   ],
   "source": [
    "kubectl"
   ]
  },
  {
   "cell_type": "markdown",
   "metadata": {},
   "source": [
    "Similarly we can get a list of subcommands (nouns) to which they can be applied.\n",
    "\n",
    "```kubectl get```\n",
    "\n",
    "will show us what items we can 'get':"
   ]
  },
  {
   "cell_type": "code",
   "execution_count": 43,
   "metadata": {},
   "outputs": [
    {
     "name": "stdout",
     "output_type": "stream",
     "text": [
      "You must specify the type of resource to get. Valid resource types include:\n",
      "\n",
      "    * all\n",
      "    * certificatesigningrequests (aka 'csr')\n",
      "    * clusters (valid only for federation apiservers)\n",
      "    * clusterrolebindings\n",
      "    * clusterroles\n",
      "    * componentstatuses (aka 'cs')\n",
      "    * configmaps (aka 'cm')\n",
      "    * daemonsets (aka 'ds')\n",
      "    * deployments (aka 'deploy')\n",
      "    * endpoints (aka 'ep')\n",
      "    * events (aka 'ev')\n",
      "    * horizontalpodautoscalers (aka 'hpa')\n",
      "    * ingresses (aka 'ing')\n",
      "    * jobs\n",
      "    * limitranges (aka 'limits')\n",
      "    * namespaces (aka 'ns')\n",
      "    * networkpolicies\n",
      "    * nodes (aka 'no')\n",
      "    * persistentvolumeclaims (aka 'pvc')\n",
      "    * persistentvolumes (aka 'pv')\n",
      "    * pods (aka 'po')\n",
      "    * poddisruptionbudgets (aka 'pdb')\n",
      "    * podsecuritypolicies (aka 'psp')\n",
      "    * podtemplates\n",
      "    * replicasets (aka 'rs')\n",
      "    * replicationcontrollers (aka 'rc')\n",
      "    * resourcequotas (aka 'quota')\n",
      "    * rolebindings\n",
      "    * roles\n",
      "    * secrets\n",
      "    * serviceaccounts (aka 'sa')\n",
      "    * services (aka 'svc')\n",
      "    * statefulsets\n",
      "    * storageclasses\n",
      "    * thirdpartyresources\n",
      "    error: Required resource not specified.\n",
      "Use \"kubectl explain <resource>\" for a detailed description of that resource (e.g. kubectl explain pods).\n",
      "See 'kubectl get -h' for help and examples.\n"
     ]
    }
   ],
   "source": [
    "kubectl get\n",
    "\n",
    "NB_continue"
   ]
  },
  {
   "cell_type": "code",
   "execution_count": 27,
   "metadata": {},
   "outputs": [
    {
     "name": "stdout",
     "output_type": "stream",
     "text": [
      "You must specify the type of resource to describe. Valid resource types include:\n",
      "\n",
      "    * all\n",
      "    * certificatesigningrequests (aka 'csr')\n",
      "    * clusters (valid only for federation apiservers)\n",
      "    * clusterrolebindings\n",
      "    * clusterroles\n",
      "    * componentstatuses (aka 'cs')\n",
      "    * configmaps (aka 'cm')\n",
      "    * daemonsets (aka 'ds')\n",
      "    * deployments (aka 'deploy')\n",
      "    * endpoints (aka 'ep')\n",
      "    * events (aka 'ev')\n",
      "    * horizontalpodautoscalers (aka 'hpa')\n",
      "    * ingresses (aka 'ing')\n",
      "    * jobs\n",
      "    * limitranges (aka 'limits')\n",
      "    * namespaces (aka 'ns')\n",
      "    * networkpolicies\n",
      "    * nodes (aka 'no')\n",
      "    * persistentvolumeclaims (aka 'pvc')\n",
      "    * persistentvolumes (aka 'pv')\n",
      "    * pods (aka 'po')\n",
      "    * poddisruptionbudgets (aka 'pdb')\n",
      "    * podsecuritypolicies (aka 'psp')\n",
      "    * podtemplates\n",
      "    * replicasets (aka 'rs')\n",
      "    * replicationcontrollers (aka 'rc')\n",
      "    * resourcequotas (aka 'quota')\n",
      "    * rolebindings\n",
      "    * roles\n",
      "    * secrets\n",
      "    * serviceaccounts (aka 'sa')\n",
      "    * services (aka 'svc')\n",
      "    * statefulsets\n",
      "    * storageclasses\n",
      "    * thirdpartyresources\n",
      "    error: Required resource not specified.\n",
      "See 'kubectl describe -h' for help and examples.\n"
     ]
    }
   ],
   "source": [
    "kubectl describe\n",
    "\n",
    "NB_continue"
   ]
  },
  {
   "cell_type": "code",
   "execution_count": 45,
   "metadata": {},
   "outputs": [
    {
     "name": "stdout",
     "output_type": "stream",
     "text": [
      "NAME       STATUS    AGE       VERSION\n",
      "minikube   Ready     5m        v1.7.5\n"
     ]
    }
   ],
   "source": [
    "kubectl get nodes"
   ]
  },
  {
   "cell_type": "code",
   "execution_count": 46,
   "metadata": {},
   "outputs": [
    {
     "name": "stdout",
     "output_type": "stream",
     "text": [
      "Name:\t\t\tminikube\n",
      "Role:\t\t\t\n",
      "Labels:\t\t\tbeta.kubernetes.io/arch=amd64\n",
      "\t\t\tbeta.kubernetes.io/os=linux\n",
      "\t\t\tkubernetes.io/hostname=minikube\n",
      "Annotations:\t\talpha.kubernetes.io/provided-node-ip=192.168.99.103\n",
      "\t\t\tnode.alpha.kubernetes.io/ttl=0\n",
      "\t\t\tvolumes.kubernetes.io/controller-managed-attach-detach=true\n",
      "Taints:\t\t\t<none>\n",
      "CreationTimestamp:\tWed, 25 Oct 2017 11:35:00 +0200\n",
      "Phase:\t\t\t\n",
      "Conditions:\n",
      "  Type\t\t\tStatus\tLastHeartbeatTime\t\t\tLastTransitionTime\t\t\tReason\t\t\t\tMessage\n",
      "  ----\t\t\t------\t-----------------\t\t\t------------------\t\t\t------\t\t\t\t-------\n",
      "  OutOfDisk \t\tFalse \tWed, 25 Oct 2017 11:40:21 +0200 \tWed, 25 Oct 2017 11:35:00 +0200 \tKubeletHasSufficientDisk \tkubelet has sufficient disk space available\n",
      "  MemoryPressure \tFalse \tWed, 25 Oct 2017 11:40:21 +0200 \tWed, 25 Oct 2017 11:35:00 +0200 \tKubeletHasSufficientMemory \tkubelet has sufficient memory available\n",
      "  DiskPressure \t\tFalse \tWed, 25 Oct 2017 11:40:21 +0200 \tWed, 25 Oct 2017 11:35:00 +0200 \tKubeletHasNoDiskPressure \tkubelet has no disk pressure\n",
      "  Ready \t\tTrue \tWed, 25 Oct 2017 11:40:21 +0200 \tWed, 25 Oct 2017 11:35:10 +0200 \tKubeletReady \t\t\tkubelet is posting ready status\n",
      "Addresses:\t\t192.168.99.103,minikube\n",
      "Capacity:\n",
      " cpu:\t\t2\n",
      " memory:\t2048076Ki\n",
      " pods:\t\t110\n",
      "Allocatable:\n",
      " cpu:\t\t2\n",
      " memory:\t1945676Ki\n",
      " pods:\t\t110\n",
      "System Info:\n",
      " Machine ID:\t\t\t4229c2aa6a1c4de7bcf008ffd3d734d9\n",
      " System UUID:\t\t\t252B7BA1-04D0-489F-9397-0188CF967BB9\n",
      " Boot ID:\t\t\t6f37f399-cfd0-4a15-ae9b-92458d2ee7cb\n",
      " Kernel Version:\t\t4.9.13\n",
      " OS Image:\t\t\tBuildroot 2017.02\n",
      " Operating System:\t\tlinux\n",
      " Architecture:\t\t\tamd64\n",
      " Container Runtime Version:\tdocker://1.12.6\n",
      " Kubelet Version:\t\tv1.7.5\n",
      " Kube-Proxy Version:\t\tv1.7.5\n",
      "ExternalID:\t\t\tminikube\n",
      "Non-terminated Pods:\t\t(3 in total)\n",
      "  Namespace\t\t\tName\t\t\t\t\tCPU Requests\tCPU Limits\tMemory Requests\tMemory Limits\n",
      "  ---------\t\t\t----\t\t\t\t\t------------\t----------\t---------------\t-------------\n",
      "  kube-system\t\t\tkube-addon-manager-minikube\t\t5m (0%)\t\t0 (0%)\t\t50Mi (2%)\t0 (0%)\n",
      "  kube-system\t\t\tkube-dns-1326421443-w05nh\t\t260m (13%)\t0 (0%)\t\t110Mi (5%)\t170Mi (8%)\n",
      "  kube-system\t\t\tkubernetes-dashboard-j2m4n\t\t0 (0%)\t\t0 (0%)\t\t0 (0%)\t\t0 (0%)\n",
      "Allocated resources:\n",
      "  (Total limits may be over 100 percent, i.e., overcommitted.)\n",
      "  CPU Requests\tCPU Limits\tMemory Requests\tMemory Limits\n",
      "  ------------\t----------\t---------------\t-------------\n",
      "  265m (13%)\t0 (0%)\t\t160Mi (8%)\t170Mi (8%)\n",
      "Events:\n",
      "  FirstSeen\tLastSeen\tCount\tFrom\t\t\tSubObjectPath\tType\t\tReason\t\t\tMessage\n",
      "  ---------\t--------\t-----\t----\t\t\t-------------\t--------\t------\t\t\t-------\n",
      "  5m\t\t5m\t\t1\tkubelet, minikube\t\t\tNormal\t\tStarting\t\tStarting kubelet.\n",
      "  5m\t\t5m\t\t2\tkubelet, minikube\t\t\tNormal\t\tNodeHasSufficientDisk\tNode minikube status is now: NodeHasSufficientDisk\n",
      "  5m\t\t5m\t\t2\tkubelet, minikube\t\t\tNormal\t\tNodeHasSufficientMemory\tNode minikube status is now: NodeHasSufficientMemory\n",
      "  5m\t\t5m\t\t2\tkubelet, minikube\t\t\tNormal\t\tNodeHasNoDiskPressure\tNode minikube status is now: NodeHasNoDiskPressure\n",
      "  5m\t\t5m\t\t1\tkubelet, minikube\t\t\tNormal\t\tNodeAllocatableEnforced\tUpdated Node Allocatable limit across pods\n",
      "  5m\t\t5m\t\t1\tkube-proxy, minikube\t\t\tNormal\t\tStarting\t\tStarting kube-proxy.\n",
      "  5m\t\t5m\t\t1\tkubelet, minikube\t\t\tNormal\t\tNodeReady\t\tNode minikube status is now: NodeReady\n"
     ]
    }
   ],
   "source": [
    "kubectl describe nodes"
   ]
  },
  {
   "cell_type": "code",
   "execution_count": 47,
   "metadata": {},
   "outputs": [
    {
     "name": "stdout",
     "output_type": "stream",
     "text": [
      "No resources found.\n"
     ]
    }
   ],
   "source": [
    "kubectl get pods"
   ]
  },
  {
   "cell_type": "code",
   "execution_count": 48,
   "metadata": {
    "collapsed": true
   },
   "outputs": [],
   "source": [
    "kubectl describe pods"
   ]
  },
  {
   "cell_type": "markdown",
   "metadata": {},
   "source": [
    "We can get detailed help on the \"get\" command:"
   ]
  },
  {
   "cell_type": "code",
   "execution_count": 53,
   "metadata": {},
   "outputs": [
    {
     "name": "stdout",
     "output_type": "stream",
     "text": [
      "~/MINIKUBE/bin_0.22.3/kubectl\n",
      "~/MINIKUBE/bin_0.22.3/minikube\n"
     ]
    }
   ],
   "source": [
    "which kubectl; which minikube"
   ]
  },
  {
   "cell_type": "code",
   "execution_count": 50,
   "metadata": {},
   "outputs": [
    {
     "name": "stdout",
     "output_type": "stream",
     "text": [
      "Client Version: version.Info{Major:\"1\", Minor:\"6\", GitVersion:\"v1.6.0\", GitCommit:\"fff5156092b56e6bd60fff75aad4dc9de6b6ef37\", GitTreeState:\"clean\", BuildDate:\"2017-03-28T16:36:33Z\", GoVersion:\"go1.7.5\", Compiler:\"gc\", Platform:\"linux/amd64\"}\n",
      "Server Version: version.Info{Major:\"1\", Minor:\"7\", GitVersion:\"v1.7.5\", GitCommit:\"17d7182a7ccbb167074be7a87f0a68bd00d58d97\", GitTreeState:\"clean\", BuildDate:\"2017-10-06T20:53:14Z\", GoVersion:\"go1.8.3\", Compiler:\"gc\", Platform:\"linux/amd64\"}\n"
     ]
    }
   ],
   "source": [
    "kubectl version"
   ]
  },
  {
   "cell_type": "code",
   "execution_count": 54,
   "metadata": {},
   "outputs": [
    {
     "name": "stdout",
     "output_type": "stream",
     "text": [
      "\u001b[0;32mKubernetes master\u001b[0m is running at \u001b[0;33mhttps://192.168.99.103:8443\u001b[0m\n",
      "\n",
      "To further debug and diagnose cluster problems, use 'kubectl cluster-info dump'.\n"
     ]
    }
   ],
   "source": [
    "kubectl cluster-info"
   ]
  },
  {
   "cell_type": "markdown",
   "metadata": {},
   "source": [
    "## Opening the kubernetes dashboard\n",
    "\n",
    "From the command-line type the command:\n",
    "\n",
    "```minikube dashboard```"
   ]
  },
  {
   "cell_type": "code",
   "execution_count": 35,
   "metadata": {
    "collapsed": true
   },
   "outputs": [],
   "source": [
    "# minikube dashboard"
   ]
  },
  {
   "cell_type": "code",
   "execution_count": 55,
   "metadata": {},
   "outputs": [
    {
     "name": "stdout",
     "output_type": "stream",
     "text": [
      "http://192.168.99.103:30000\n"
     ]
    }
   ],
   "source": [
    "NB_kube_loop_until_dashboard_url_available"
   ]
  },
  {
   "cell_type": "markdown",
   "metadata": {},
   "source": [
    "# 2. Creating a Pod/Service/Deployment\n"
   ]
  },
  {
   "cell_type": "markdown",
   "metadata": {},
   "source": [
    "### Kubernetes Deployments\n",
    "Once you have a running Kubernetes cluster, you can deploy your containerized applications on top of it. To do so, you create a Kubernetes Deployment. The Deployment is responsible for creating and updating instances of your application. Once you've created a Deployment, the Kubernetes master schedules the application instances that the Deployment creates onto individual Nodes in the cluster.\n",
    "\n",
    "Once the application instances are created, a Kubernetes Deployment Controller continuously monitors those instances. The Deployment controller replaces an instance if the Node hosting it goes down or it is deleted. This provides a self-healing mechanism to address machine failure or maintenance.\n",
    "\n",
    "In a pre-orchestration world, installation scripts would often be used to start applications, but they did not allow recovery from machine failure. By both creating your application instances and keeping them running across Nodes, Kubernetes Deployments provide a fundamentally different approach to application management.\n",
    "\n",
    "\n",
    "You can create and manage a Deployment by using the Kubernetes command line interface, Kubectl. Kubectl uses the Kubernetes API to interact with the cluster. In this module, you'll learn the most common Kubectl commands needed to create Deployments that run your applications on a Kubernetes cluster.\n",
    "\n",
    "When you create a Deployment, you'll need to specify the container image for your application and the number of replicas that you want to run. You can change that information later by updating your Deployment; Modules 5 and 6 of the bootcamp discuss how you can scale and update your Deployments.\n",
    "\n",
    "Applications need to be packaged into one of the supported container formats in order to be deployed on Kubernetes\n",
    "\n",
    "For our first Deployment, we'll use a Node.js application packaged in a Docker container. The source code and the Dockerfile are available in the GitHub repository for the Kubernetes Bootcamp.\n",
    "\n",
    "Now that you know what Deployments are, let's go to the online tutorial and deploy our first app!\n",
    "\n",
    "\n",
    "\n",
    "Inspired by https://media-glass.es/launching-a-local-kubernetes-lab-using-minikube-39560f792889#.3h0n2dh3f\n",
    "\n",
    "## 2.1 Deploying an app\n"
   ]
  },
  {
   "cell_type": "code",
   "execution_count": 56,
   "metadata": {},
   "outputs": [
    {
     "name": "stdout",
     "output_type": "stream",
     "text": [
      "deployment \"my-nginx\" created\n"
     ]
    }
   ],
   "source": [
    "kubectl run my-nginx --image=nginx --replicas=2 --port=80"
   ]
  },
  {
   "cell_type": "markdown",
   "metadata": {},
   "source": [
    "It may take some time for the pods to start as the node downloads the nginx image for the first time"
   ]
  },
  {
   "cell_type": "code",
   "execution_count": 57,
   "metadata": {},
   "outputs": [
    {
     "name": "stdout",
     "output_type": "stream",
     "text": [
      "NAME                        READY     \u001b[31mSTATUS\u001b[0m              RESTARTS   AGE\n",
      "my-nginx-4293833666-35b6s   0/1       ContainerCreating   0          3s\n",
      "my-nginx-4293833666-vjwfm   0/1       ContainerCreating   0          3s\n",
      "Waiting for pods to be created ... (downloading images)\n",
      "Waiting for pods to be created ... (downloading images)\n",
      "Waiting for pods to be created ... (downloading images)\n",
      "Waiting for pods to be created ... (downloading images)\n",
      "Waiting for pods to be created ... (downloading images)\n",
      "Waiting for pods to be created ... (downloading images)\n",
      "Waiting for pods to be created ... (downloading images)\n",
      "Waiting for pods to be created ... (downloading images)\n",
      "Waiting for pods to be created ... (downloading images)\n",
      "Waiting for pods to be created ... (downloading images)\n",
      "Waiting for pods to be created ... (downloading images)\n",
      "NAME                        READY     \u001b[31mSTATUS\u001b[0m    RESTARTS   AGE\n",
      "my-nginx-4293833666-35b6s   1/1       Running   0          1m\n",
      "my-nginx-4293833666-vjwfm   1/1       Running   0          1m\n"
     ]
    }
   ],
   "source": [
    "date; echo\n",
    "kubectl get pods | NB_highlight STATUS\n",
    "\n",
    "NB_kube_loop_while_pods_creating\n",
    "echo; date"
   ]
  },
  {
   "cell_type": "markdown",
   "metadata": {},
   "source": [
    "After a few minutes the pods are \"READY\":"
   ]
  },
  {
   "cell_type": "code",
   "execution_count": 58,
   "metadata": {},
   "outputs": [
    {
     "name": "stdout",
     "output_type": "stream",
     "text": [
      "NAME                        READY     \u001b[31mSTATUS\u001b[0m    RESTARTS   AGE\n",
      "my-nginx-4293833666-35b6s   1/1       Running   0          6m\n",
      "my-nginx-4293833666-vjwfm   1/1       Running   0          6m\n"
     ]
    }
   ],
   "source": [
    "kubectl get pods | NB_highlight STATUS"
   ]
  },
  {
   "cell_type": "code",
   "execution_count": 61,
   "metadata": {},
   "outputs": [
    {
     "name": "stdout",
     "output_type": "stream",
     "text": [
      "Name:\t\t\tmy-nginx\n",
      "Namespace:\t\tdefault\n",
      "CreationTimestamp:\tWed, 25 Oct 2017 11:47:51 +0200\n",
      "Labels:\t\t\trun=my-nginx\n",
      "Annotations:\t\tdeployment.kubernetes.io/revision=1\n",
      "Selector:\t\trun=my-nginx\n",
      "Replicas:\t\t2 desired | 2 updated | 2 total | 2 \u001b[31mavailable\u001b[0m | 0 un\u001b[31mavailable\u001b[0m\n",
      "StrategyType:\t\tRollingUpdate\n",
      "MinReadySeconds:\t0\n",
      "RollingUpdateStrategy:\t1 max un\u001b[31mavailable\u001b[0m, 1 max surge\n",
      "Pod Template:\n",
      "  Labels:\trun=my-nginx\n",
      "  Containers:\n",
      "   my-nginx:\n",
      "    Image:\t\tnginx\n",
      "    Port:\t\t80/TCP\n",
      "    Environment:\t<none>\n",
      "    Mounts:\t\t<none>\n",
      "  Volumes:\t\t<none>\n",
      "Conditions:\n",
      "  Type\t\tStatus\tReason\n",
      "  ----\t\t------\t------\n",
      "  \u001b[31mAvailable\u001b[0m \tTrue\tMinimumReplicas\u001b[31mAvailable\u001b[0m\n",
      "OldReplicaSets:\t<none>\n",
      "NewReplicaSet:\tmy-nginx-4293833666 (2/2 replicas created)\n",
      "Events:\n",
      "  FirstSeen\tLastSeen\tCount\tFrom\t\t\tSubObjectPath\tType\t\tReason\t\t\tMessage\n",
      "  ---------\t--------\t-----\t----\t\t\t-------------\t--------\t------\t\t\t-------\n",
      "  7m\t\t7m\t\t1\tdeployment-controller\t\t\tNormal\t\tScalingReplicaSet\tScaled up replica set my-nginx-4293833666 to 2\n"
     ]
    }
   ],
   "source": [
    "kubectl describe deploy my-nginx | NB_highlight available"
   ]
  },
  {
   "cell_type": "code",
   "execution_count": 62,
   "metadata": {},
   "outputs": [
    {
     "name": "stdout",
     "output_type": "stream",
     "text": [
      "Looping until deploy my-nginx becomes available ...\n",
      "kubectl get deploy my-nginx\n",
      "NAME       DESIRED   CURRENT   UP-TO-DATE   \u001b[31mAVAILABLE\u001b[0m   AGE\n",
      "my-nginx   2         2         2            2           7m\n",
      "Took 1 secs\n"
     ]
    }
   ],
   "source": [
    "NB_kube_loop_until_available deploy my-nginx"
   ]
  },
  {
   "cell_type": "markdown",
   "metadata": {},
   "source": [
    "## 2.2 Accessing the app via kube-proxy\n",
    "\n",
    "By default deployed applications are visible only inside the Kubernetes cluster. Exposing our application externally will be covered in Module 4. To view the application output without exposing it externally, we’ll create a route between our terminal and the Kubernetes cluster using a proxy:\n",
    "\n",
    "By default deployed applications are visible only inside the Kubernetes cluster. Exposing our application externally will be covered in Module 4. To view the application output without exposing it externally, we’ll create a route between our terminal and the Kubernetes cluster using a proxy:\n",
    "\n",
    "**In another terminal window launch**:\n",
    "```\n",
    "    kubectl proxy```\n",
    "    \n",
    "We now have a connection between our host (the online terminal) and the Kubernetes cluster. The started proxy enables direct access to the API. The app runs inside a Pod (we'll cover the Pod concept in next module). Get the name of the Pod and store it in the POD_NAME environment variable:\n"
   ]
  },
  {
   "cell_type": "code",
   "execution_count": 65,
   "metadata": {},
   "outputs": [
    {
     "name": "stdout",
     "output_type": "stream",
     "text": [
      "Names of the Pods: my-nginx-4293833666-35b6s my-nginx-4293833666-vjwfm\n"
     ]
    }
   ],
   "source": [
    "# In another window run\n",
    "#    kubectl proxy\n",
    "\n",
    "export POD_NAMES=$(kubectl get pods -o go-template --template '{{range .items}}{{.metadata.name}}{{\"\\n\"}}{{end}}')\n",
    "echo Names of the Pods: $POD_NAMES"
   ]
  },
  {
   "cell_type": "code",
   "execution_count": 69,
   "metadata": {},
   "outputs": [
    {
     "name": "stdout",
     "output_type": "stream",
     "text": [
      "\n",
      "-- POD my-nginx-4293833666-35b6s: ------\n",
      "curl http://localhost:8001/api/v1/proxy/namespaces/default/pods/my-nginx-4293833666-35b6s/\n",
      "curl: (7) Failed to connect to localhost port 8001: Connection refused\n",
      "\n",
      "-- POD my-nginx-4293833666-vjwfm: ------\n",
      "curl http://localhost:8001/api/v1/proxy/namespaces/default/pods/my-nginx-4293833666-vjwfm/\n",
      "curl: (7) Failed to connect to localhost port 8001: Connection refused\n"
     ]
    },
    {
     "ename": "",
     "evalue": "7",
     "output_type": "error",
     "traceback": []
    }
   ],
   "source": [
    "for POD_NAME in $POD_NAMES; do\n",
    "    echo; echo \"-- POD $POD_NAME: ------\"\n",
    "    echo \"curl http://localhost:8001/api/v1/proxy/namespaces/default/pods/$POD_NAME/\"\n",
    "    \n",
    "    curl http://localhost:8001/api/v1/proxy/namespaces/default/pods/$POD_NAME/\n",
    "    #break\n",
    "done"
   ]
  },
  {
   "cell_type": "markdown",
   "metadata": {},
   "source": [
    "## 2.3 Service creation from kubectl\n"
   ]
  },
  {
   "cell_type": "markdown",
   "metadata": {},
   "source": [
    "Exposing our deployment with type NodePort to make it available as a service on each cluster node"
   ]
  },
  {
   "cell_type": "code",
   "execution_count": 70,
   "metadata": {},
   "outputs": [
    {
     "name": "stdout",
     "output_type": "stream",
     "text": [
      "service \"my-nginx\" exposed\n"
     ]
    }
   ],
   "source": [
    "kubectl expose deployment my-nginx --type=NodePort"
   ]
  },
  {
   "cell_type": "code",
   "execution_count": 71,
   "metadata": {},
   "outputs": [
    {
     "name": "stdout",
     "output_type": "stream",
     "text": [
      "NAME                        READY     STATUS    RESTARTS   AGE\n",
      "my-nginx-4293833666-35b6s   1/1       Running   0          9m\n",
      "my-nginx-4293833666-vjwfm   1/1       Running   0          9m\n"
     ]
    }
   ],
   "source": [
    "kubectl get pods"
   ]
  },
  {
   "cell_type": "code",
   "execution_count": 72,
   "metadata": {},
   "outputs": [
    {
     "name": "stdout",
     "output_type": "stream",
     "text": [
      "NAME       DESIRED   CURRENT   UP-TO-DATE   AVAILABLE   AGE\n",
      "my-nginx   2         2         2            2           10m\n"
     ]
    }
   ],
   "source": [
    "kubectl get deploy"
   ]
  },
  {
   "cell_type": "code",
   "execution_count": 81,
   "metadata": {},
   "outputs": [
    {
     "name": "stdout",
     "output_type": "stream",
     "text": [
      "NAME                           READY     STATUS    RESTARTS   AGE\n",
      "po/my-nginx-4293833666-35b6s   1/1       Running   0          12m\n",
      "po/my-nginx-4293833666-vjwfm   1/1       Running   0          12m\n",
      "\n",
      "NAME             CLUSTER-IP   EXTERNAL-IP   PORT(S)        AGE\n",
      "svc/kubernetes   10.0.0.1     <none>        443/TCP        24m\n",
      "svc/my-nginx     10.0.0.64    <nodes>       80:32468/TCP   2m\n",
      "\n",
      "NAME              DESIRED   CURRENT   UP-TO-DATE   AVAILABLE   AGE\n",
      "deploy/my-nginx   2         2         2            2           12m\n",
      "\n",
      "NAME                     DESIRED   CURRENT   READY     AGE\n",
      "rs/my-nginx-4293833666   2         2         2         12m\n"
     ]
    }
   ],
   "source": [
    "kubectl get all #--all-namespaces"
   ]
  },
  {
   "cell_type": "code",
   "execution_count": 73,
   "metadata": {},
   "outputs": [
    {
     "name": "stdout",
     "output_type": "stream",
     "text": [
      "Name:\t\t\tmy-nginx\n",
      "Namespace:\t\tdefault\n",
      "CreationTimestamp:\tWed, 25 Oct 2017 11:47:51 +0200\n",
      "Labels:\t\t\trun=my-nginx\n",
      "Annotations:\t\tdeployment.kubernetes.io/revision=1\n",
      "Selector:\t\trun=my-nginx\n",
      "Replicas:\t\t2 desired | 2 updated | 2 total | 2 available | 0 unavailable\n",
      "StrategyType:\t\tRollingUpdate\n",
      "MinReadySeconds:\t0\n",
      "RollingUpdateStrategy:\t1 max unavailable, 1 max surge\n",
      "Pod Template:\n",
      "  Labels:\trun=my-nginx\n",
      "  Containers:\n",
      "   my-nginx:\n",
      "    Image:\t\tnginx\n",
      "    Port:\t\t80/TCP\n",
      "    Environment:\t<none>\n",
      "    Mounts:\t\t<none>\n",
      "  Volumes:\t\t<none>\n",
      "Conditions:\n",
      "  Type\t\tStatus\tReason\n",
      "  ----\t\t------\t------\n",
      "  Available \tTrue\tMinimumReplicasAvailable\n",
      "OldReplicaSets:\t<none>\n",
      "NewReplicaSet:\tmy-nginx-4293833666 (2/2 replicas created)\n",
      "Events:\n",
      "  FirstSeen\tLastSeen\tCount\tFrom\t\t\tSubObjectPath\tType\t\tReason\t\t\tMessage\n",
      "  ---------\t--------\t-----\t----\t\t\t-------------\t--------\t------\t\t\t-------\n",
      "  10m\t\t10m\t\t1\tdeployment-controller\t\t\tNormal\t\tScalingReplicaSet\tScaled up replica set my-nginx-4293833666 to 2\n"
     ]
    }
   ],
   "source": [
    "kubectl describe deploy"
   ]
  },
  {
   "cell_type": "markdown",
   "metadata": {},
   "source": [
    "Now let's obtain the url of our 'my-nginx' service"
   ]
  },
  {
   "cell_type": "code",
   "execution_count": 82,
   "metadata": {},
   "outputs": [
    {
     "name": "stdout",
     "output_type": "stream",
     "text": [
      "http://192.168.99.103:32468\n"
     ]
    }
   ],
   "source": [
    "minikube service my-nginx --url"
   ]
  },
  {
   "cell_type": "code",
   "execution_count": 76,
   "metadata": {},
   "outputs": [
    {
     "name": "stdout",
     "output_type": "stream",
     "text": [
      "Name:\t\t\tmy-nginx\n",
      "Namespace:\t\tdefault\n",
      "CreationTimestamp:\tWed, 25 Oct 2017 11:47:51 +0200\n",
      "Labels:\t\t\trun=my-nginx\n",
      "Annotations:\t\tdeployment.kubernetes.io/revision=1\n",
      "Selector:\t\trun=my-nginx\n",
      "Replicas:\t\t2 desired | 2 updated | 2 total | 2 \u001b[31mavailable\u001b[0m | 0 un\u001b[31mavailable\u001b[0m\n",
      "StrategyType:\t\tRollingUpdate\n",
      "MinReadySeconds:\t0\n",
      "RollingUpdateStrategy:\t1 max un\u001b[31mavailable\u001b[0m, 1 max surge\n",
      "Pod Template:\n",
      "  Labels:\trun=my-nginx\n",
      "  Containers:\n",
      "   my-nginx:\n",
      "    Image:\t\tnginx\n",
      "    Port:\t\t80/TCP\n",
      "    Environment:\t<none>\n",
      "    Mounts:\t\t<none>\n",
      "  Volumes:\t\t<none>\n",
      "Conditions:\n",
      "  Type\t\tStatus\tReason\n",
      "  ----\t\t------\t------\n",
      "  \u001b[31mAvailable\u001b[0m \tTrue\tMinimumReplicas\u001b[31mAvailable\u001b[0m\n",
      "OldReplicaSets:\t<none>\n",
      "NewReplicaSet:\tmy-nginx-4293833666 (2/2 replicas created)\n",
      "Events:\n",
      "  FirstSeen\tLastSeen\tCount\tFrom\t\t\tSubObjectPath\tType\t\tReason\t\t\tMessage\n",
      "  ---------\t--------\t-----\t----\t\t\t-------------\t--------\t------\t\t\t-------\n",
      "  11m\t\t11m\t\t1\tdeployment-controller\t\t\tNormal\t\tScalingReplicaSet\tScaled up replica set my-nginx-4293833666 to 2\n"
     ]
    }
   ],
   "source": [
    "kubectl describe deploy | NB_highlight available"
   ]
  },
  {
   "cell_type": "code",
   "execution_count": 83,
   "metadata": {},
   "outputs": [
    {
     "name": "stdout",
     "output_type": "stream",
     "text": [
      "http://192.168.99.103:32468\n"
     ]
    }
   ],
   "source": [
    "minikube service my-nginx --url"
   ]
  },
  {
   "cell_type": "markdown",
   "metadata": {
    "collapsed": true
   },
   "source": [
    "#open $(minikube service my-nginx --url)\n",
    "\n",
    "We can now access this url from our host, using curl or a web-browser:"
   ]
  },
  {
   "cell_type": "code",
   "execution_count": 84,
   "metadata": {},
   "outputs": [
    {
     "name": "stdout",
     "output_type": "stream",
     "text": [
      "<!DOCTYPE html>\n",
      "<html>\n",
      "<head>\n",
      "<title>Welcome to nginx!</title>\n",
      "<style>\n",
      "    body {\n",
      "        width: 35em;\n",
      "        margin: 0 auto;\n",
      "        font-family: Tahoma, Verdana, Arial, sans-serif;\n",
      "    }\n",
      "</style>\n",
      "</head>\n",
      "<body>\n",
      "<h1>Welcome to nginx!</h1>\n",
      "<p>If you see this page, the nginx web server is successfully installed and\n",
      "working. Further configuration is required.</p>\n",
      "\n",
      "<p>For online documentation and support please refer to\n",
      "<a href=\"http://nginx.org/\">nginx.org</a>.<br/>\n",
      "Commercial support is available at\n",
      "<a href=\"http://nginx.com/\">nginx.com</a>.</p>\n",
      "\n",
      "<p><em>Thank you for using nginx.</em></p>\n",
      "</body>\n",
      "</html>\n"
     ]
    }
   ],
   "source": [
    "curl $(minikube service my-nginx --url)"
   ]
  },
  {
   "cell_type": "markdown",
   "metadata": {},
   "source": [
    "# 2.4 Rolling upgrade of a service\n",
    "\n",
    "In this example we will create a new service and show how we can easily perform a rolling upgrade to a new version of the service.\n",
    "\n",
    "We will also see how we can roll back to the previous service version.\n"
   ]
  },
  {
   "cell_type": "code",
   "execution_count": 207,
   "metadata": {},
   "outputs": [
    {
     "name": "stdout",
     "output_type": "stream",
     "text": [
      "NAME                           READY     STATUS    RESTARTS   AGE\n",
      "po/my-nginx-4293833666-35b6s   1/1       Running   0          54m\n",
      "po/my-nginx-4293833666-vjwfm   1/1       Running   0          54m\n",
      "\n",
      "NAME             CLUSTER-IP   EXTERNAL-IP   PORT(S)        AGE\n",
      "svc/kubernetes   10.0.0.1     <none>        443/TCP        1h\n",
      "svc/my-nginx     10.0.0.64    <nodes>       80:32468/TCP   44m\n",
      "\n",
      "NAME              DESIRED   CURRENT   UP-TO-DATE   AVAILABLE   AGE\n",
      "deploy/my-nginx   2         2         2            2           54m\n",
      "\n",
      "NAME                     DESIRED   CURRENT   READY     AGE\n",
      "rs/my-nginx-4293833666   2         2         2         54m\n"
     ]
    }
   ],
   "source": [
    "kubectl get --namespace default all"
   ]
  },
  {
   "cell_type": "code",
   "execution_count": 208,
   "metadata": {
    "collapsed": true
   },
   "outputs": [],
   "source": [
    "#kubectl  delete deploy k8s-demo\n",
    "#kubectl delete service k8s-demo-service"
   ]
  },
  {
   "cell_type": "code",
   "execution_count": 209,
   "metadata": {},
   "outputs": [
    {
     "name": "stdout",
     "output_type": "stream",
     "text": [
      "deployment \"k8s-demo\" created\n"
     ]
    }
   ],
   "source": [
    "kubectl run k8s-demo --labels=\"owner=mike\" --port 8080 --replicas=3 --image mjbright/k8s-demo:1"
   ]
  },
  {
   "cell_type": "markdown",
   "metadata": {},
   "source": [
    "\n",
    "\n"
   ]
  },
  {
   "cell_type": "code",
   "execution_count": 210,
   "metadata": {},
   "outputs": [
    {
     "name": "stdout",
     "output_type": "stream",
     "text": [
      "NAME                           READY     STATUS    RESTARTS   AGE\n",
      "po/k8s-demo-2293962343-656qn   1/1       Running   0          18s\n",
      "po/k8s-demo-2293962343-7t14f   1/1       Running   0          18s\n",
      "po/k8s-demo-2293962343-mr13x   1/1       Running   0          18s\n",
      "po/my-nginx-4293833666-35b6s   1/1       Running   0          54m\n",
      "po/my-nginx-4293833666-vjwfm   1/1       Running   0          54m\n",
      "\n",
      "NAME             CLUSTER-IP   EXTERNAL-IP   PORT(S)        AGE\n",
      "svc/kubernetes   10.0.0.1     <none>        443/TCP        1h\n",
      "svc/my-nginx     10.0.0.64    <nodes>       80:32468/TCP   44m\n",
      "\n",
      "NAME              DESIRED   CURRENT   UP-TO-DATE   AVAILABLE   AGE\n",
      "deploy/k8s-demo   3         3         3            3           18s\n",
      "deploy/my-nginx   2         2         2            2           54m\n",
      "\n",
      "NAME                     DESIRED   CURRENT   READY     AGE\n",
      "rs/k8s-demo-2293962343   3         3         3         18s\n",
      "rs/my-nginx-4293833666   2         2         2         54m\n"
     ]
    }
   ],
   "source": [
    "kubectl get --namespace default all"
   ]
  },
  {
   "cell_type": "markdown",
   "metadata": {},
   "source": [
    "\n",
    "\n"
   ]
  },
  {
   "cell_type": "code",
   "execution_count": 211,
   "metadata": {},
   "outputs": [
    {
     "name": "stdout",
     "output_type": "stream",
     "text": [
      "Name:\t\t\tk8s-demo\n",
      "Namespace:\t\tdefault\n",
      "CreationTimestamp:\tWed, 25 Oct 2017 12:42:29 +0200\n",
      "Labels:\t\t\towner=mike\n",
      "Annotations:\t\tdeployment.kubernetes.io/revision=1\n",
      "Selector:\t\towner=mike\n",
      "Replicas:\t\t3 desired | 3 updated | 3 total | 3 available | 0 unavailable\n",
      "StrategyType:\t\tRollingUpdate\n",
      "MinReadySeconds:\t0\n",
      "RollingUpdateStrategy:\t1 max unavailable, 1 max surge\n",
      "Pod Template:\n",
      "  Labels:\towner=mike\n",
      "  Containers:\n",
      "   k8s-demo:\n",
      "    Image:\t\tmjbright/k8s-demo:1\n",
      "    Port:\t\t8080/TCP\n",
      "    Environment:\t<none>\n",
      "    Mounts:\t\t<none>\n",
      "  Volumes:\t\t<none>\n",
      "Conditions:\n",
      "  Type\t\tStatus\tReason\n",
      "  ----\t\t------\t------\n",
      "  Available \tTrue\tMinimumReplicasAvailable\n",
      "OldReplicaSets:\t<none>\n",
      "NewReplicaSet:\tk8s-demo-2293962343 (3/3 replicas created)\n",
      "Events:\n",
      "  FirstSeen\tLastSeen\tCount\tFrom\t\t\tSubObjectPath\tType\t\tReason\t\t\tMessage\n",
      "  ---------\t--------\t-----\t----\t\t\t-------------\t--------\t------\t\t\t-------\n",
      "  26s\t\t26s\t\t1\tdeployment-controller\t\t\tNormal\t\tScalingReplicaSet\tScaled up replica set k8s-demo-2293962343 to 3\n"
     ]
    }
   ],
   "source": [
    "kubectl describe deploy k8s-demo"
   ]
  },
  {
   "cell_type": "markdown",
   "metadata": {},
   "source": [
    "\n",
    "\n"
   ]
  },
  {
   "cell_type": "code",
   "execution_count": 212,
   "metadata": {},
   "outputs": [
    {
     "name": "stdout",
     "output_type": "stream",
     "text": [
      "Name:\t\tk8s-demo-2293962343\n",
      "Namespace:\tdefault\n",
      "Selector:\towner=mike,pod-template-hash=2293962343\n",
      "Labels:\t\towner=mike\n",
      "\t\tpod-template-hash=2293962343\n",
      "Annotations:\tdeployment.kubernetes.io/desired-replicas=3\n",
      "\t\tdeployment.kubernetes.io/max-replicas=4\n",
      "\t\tdeployment.kubernetes.io/revision=1\n",
      "Replicas:\t3 current / 3 desired\n",
      "Pods Status:\t3 Running / 0 Waiting / 0 Succeeded / 0 Failed\n",
      "Pod Template:\n",
      "  Labels:\towner=mike\n",
      "\t\tpod-template-hash=2293962343\n",
      "  Containers:\n",
      "   k8s-demo:\n",
      "    Image:\t\tmjbright/k8s-demo:1\n",
      "    Port:\t\t8080/TCP\n",
      "    Environment:\t<none>\n",
      "    Mounts:\t\t<none>\n",
      "  Volumes:\t\t<none>\n",
      "Events:\n",
      "  FirstSeen\tLastSeen\tCount\tFrom\t\t\tSubObjectPath\tType\t\tReason\t\t\tMessage\n",
      "  ---------\t--------\t-----\t----\t\t\t-------------\t--------\t------\t\t\t-------\n",
      "  40s\t\t40s\t\t1\treplicaset-controller\t\t\tNormal\t\tSuccessfulCreate\tCreated pod: k8s-demo-2293962343-mr13x\n",
      "  40s\t\t40s\t\t1\treplicaset-controller\t\t\tNormal\t\tSuccessfulCreate\tCreated pod: k8s-demo-2293962343-7t14f\n",
      "  40s\t\t40s\t\t1\treplicaset-controller\t\t\tNormal\t\tSuccessfulCreate\tCreated pod: k8s-demo-2293962343-656qn\n",
      "\n"
     ]
    }
   ],
   "source": [
    "kubectl describe replicaset k8s-demo"
   ]
  },
  {
   "cell_type": "code",
   "execution_count": 213,
   "metadata": {},
   "outputs": [
    {
     "name": "stdout",
     "output_type": "stream",
     "text": [
      "service \"k8s-demo-service\" exposed\n"
     ]
    }
   ],
   "source": [
    "EXPOSE_TYPE=LoadBalancer\n",
    "#EXPOSE_TYPE=NodePort\n",
    "EPORT=8080\n",
    "\n",
    "kubectl expose deploy k8s-demo --type=$EXPOSE_TYPE --name=k8s-demo-service --port $EPORT"
   ]
  },
  {
   "cell_type": "code",
   "execution_count": 214,
   "metadata": {},
   "outputs": [
    {
     "name": "stdout",
     "output_type": "stream",
     "text": [
      "\u001b[01;31m\u001b[KAddresses:\u001b[m\u001b[K\t\t192.168.99.103,minikube\n",
      "192.168.99.103\n"
     ]
    }
   ],
   "source": [
    "kubectl describe nodes | grep Addresses:\n",
    "\n",
    "kubectl describe nodes | awk '/Addresses:/ { FS=\",\"; $0=$2; print $1; }'\n",
    "\n",
    "NODEIP=$(kubectl describe nodes | awk '/Addresses:/ { FS=\",\"; $0=$2; print $1; }')"
   ]
  },
  {
   "cell_type": "code",
   "execution_count": 215,
   "metadata": {},
   "outputs": [
    {
     "name": "stdout",
     "output_type": "stream",
     "text": [
      "NAME               CLUSTER-IP   EXTERNAL-IP   PORT(S)          AGE\n",
      "k8s-demo-service   10.0.0.110   <pending>     8080:30404/TCP   7s\n",
      "kubernetes         10.0.0.1     <none>        443/TCP          1h\n",
      "my-nginx           10.0.0.64    <nodes>       80:32468/TCP     45m\n"
     ]
    }
   ],
   "source": [
    "kubectl get            service"
   ]
  },
  {
   "cell_type": "code",
   "execution_count": 216,
   "metadata": {},
   "outputs": [
    {
     "name": "stdout",
     "output_type": "stream",
     "text": [
      "30404\n"
     ]
    }
   ],
   "source": [
    "kubectl get service | awk '/k8s-demo-service/ { FS=\":\"; $0=$4; FS=\"/\"; $0=$2; print $1; }'\n",
    "\n",
    "PORT=$(kubectl get service | awk '/k8s-demo-service/ { FS=\":\"; $0=$4; FS=\"/\"; $0=$2; print $1; }')\n",
    "\n",
    "SERVICE_URL=\"http://${NODEIP}:${PORT}\""
   ]
  },
  {
   "cell_type": "code",
   "execution_count": 217,
   "metadata": {},
   "outputs": [
    {
     "name": "stdout",
     "output_type": "stream",
     "text": [
      "--2017-10-25 12:43:47--  http://192.168.99.103:30404/\n",
      "Connecting to 192.168.99.103:30404... connected.\n",
      "HTTP request sent, awaiting response... 200 OK\n",
      "Length: 895 [text/txt]\n",
      "Saving to: ‘STDOUT’\n",
      "\n",
      "-                     0%[                    ]       0  --.-KB/s               \u001b[1;36m\n",
      "                ./shhs:`                \n",
      "            .+ymmdyosydNms/`            \n",
      "        -+yNmhs+++++++++oydNmy/.        \n",
      "    .+hNmhs++++++++yy+++++++oydNmy+.    \n",
      "   +Mds++++++++++++md++++++++++++smM/   \n",
      "  `MN++++++++++oshhNNhys+++++++++++Nm   \n",
      "  oMy++++mmsohNMNddMMhdNMmy+ymm++++yM/  \n",
      "  NN++++++omMMmo++sMM+++sNMMdo++++++Nd  \n",
      " /Mh++++++yMNdMNhsyMMssdMMdNMs++++++hM- \n",
      " mMo++++++NMo+ohMMMNNMMNh++sMm++++++oMy \n",
      ":Md++++++oMNosydNMm++NMNhysoMM+++++++hM.\n",
      "hMo+++shhdMMNNmddMMNNMNddmNMMMdhyo+++oMs\n",
      "mMo+++syo+sMmo++sMMhdMNo++oNMy+oss+++oMh\n",
      "-mMy+++++++sNNysMMy++hMNohMNs+++++++yNh`\n",
      "  oMmo+++++++ymMMmhyyhNMMmy+++++++omm:  \n",
      "   .hMh+++++++hNyyhddhyymh+++++++hMo`   \n",
      "     /NNs++++yNo++++++++oNy++++sNd.     \n",
      "      `sMdo++++++++++++++++++odN/       \n",
      "        -dMhsssssssssssssssshNy`        \n",
      "          :shhhhhhhhhhhhhhhyo.          \n",
      "\u001b[0m\n",
      "\n",
      "Served from container \u001b[1;33mk8s-demo-2293962343-7t14f\u001b[0;0m\n",
      "-                   100%[===================>]     895  --.-KB/s    in 0s      \n",
      "\n",
      "2017-10-25 12:43:47 (189 MB/s) - written to stdout [895/895]\n",
      "\n"
     ]
    }
   ],
   "source": [
    "wget -O - http://${NODEIP}:${PORT}"
   ]
  },
  {
   "cell_type": "code",
   "execution_count": 219,
   "metadata": {},
   "outputs": [
    {
     "name": "stdout",
     "output_type": "stream",
     "text": [
      "http://192.168.99.103:30404\n"
     ]
    }
   ],
   "source": [
    "echo $SERVICE_URL"
   ]
  },
  {
   "cell_type": "code",
   "execution_count": 220,
   "metadata": {},
   "outputs": [
    {
     "name": "stdout",
     "output_type": "stream",
     "text": [
      "------------------------------------------------\n",
      "Access to pods directly using:\n",
      "minikube ssh curl 172.17.0.6:8080\n",
      "minikube ssh curl 172.17.0.7:8080\n",
      "minikube ssh curl 172.17.0.8:8080\n",
      "minikube ssh curl 172.17.0.4:8080\n",
      "minikube ssh curl 172.17.0.5:8080\n",
      "\n",
      "Access service by running command:\n",
      "    curl http://192.168.99.103:30404\n"
     ]
    }
   ],
   "source": [
    "show_access_ports() {\n",
    "    echo \"------------------------------------------------\"                                                              \n",
    "    echo \"Access to pods directly using:\"                                                                                \n",
    "    kubectl describe pods | awk '/IP:/ { print \"minikube ssh curl \"$2\":8080\"; }'                                                      \n",
    "                                                                                                                         \n",
    "    echo                                                                                                                 \n",
    "    echo \"Access service by running command:\"                                                                            \n",
    "    echo \"    curl $SERVICE_URL\"                                                                                         \n",
    "}\n",
    "\n",
    "show_access_ports"
   ]
  },
  {
   "cell_type": "code",
   "execution_count": 221,
   "metadata": {},
   "outputs": [
    {
     "name": "stdout",
     "output_type": "stream",
     "text": [
      "Name:\t\tk8s-demo-2293962343-656qn\n",
      "Namespace:\tdefault\n",
      "Node:\t\tminikube/192.168.99.103\n",
      "Start Time:\tWed, 25 Oct 2017 12:42:29 +0200\n",
      "Labels:\t\towner=mike\n",
      "\t\tpod-template-hash=2293962343\n",
      "Annotations:\tkubernetes.io/created-by={\"kind\":\"SerializedReference\",\"apiVersion\":\"v1\",\"reference\":{\"kind\":\"ReplicaSet\",\"namespace\":\"default\",\"name\":\"k8s-demo-2293962343\",\"uid\":\"32ce083d-b971-11e7-bca7-080027969089...\n",
      "Status:\t\tRunning\n",
      "IP:\t\t172.17.0.6\n",
      "Controllers:\tReplicaSet/k8s-demo-2293962343\n",
      "Containers:\n",
      "  k8s-demo:\n",
      "    Container ID:\tdocker://211614e30088517a27f764b032b6355691d4ef1e59a3bf1c78632b5b0ff69b19\n",
      "    Image:\t\tmjbright/k8s-demo:1\n",
      "    Image ID:\t\tdocker-pullable://mjbright/k8s-demo@sha256:c5790558dfb46014b1d3eae68d33998b411a4f3f3ed476dd169f3f00491d923b\n",
      "    Port:\t\t8080/TCP\n",
      "    State:\t\tRunning\n",
      "      Started:\t\tWed, 25 Oct 2017 12:42:29 +0200\n",
      "    Ready:\t\tTrue\n",
      "    Restart Count:\t0\n",
      "    Environment:\t<none>\n",
      "    Mounts:\n",
      "      /var/run/secrets/kubernetes.io/serviceaccount from default-token-lrngt (ro)\n",
      "Conditions:\n",
      "  Type\t\tStatus\n",
      "  Initialized \tTrue \n",
      "  Ready \tTrue \n",
      "  PodScheduled \tTrue \n",
      "Volumes:\n",
      "  default-token-lrngt:\n",
      "    Type:\tSecret (a volume populated by a Secret)\n",
      "    SecretName:\tdefault-token-lrngt\n",
      "    Optional:\tfalse\n",
      "QoS Class:\tBestEffort\n",
      "Node-Selectors:\t<none>\n",
      "Tolerations:\t<none>\n",
      "Events:\n",
      "  FirstSeen\tLastSeen\tCount\tFrom\t\t\tSubObjectPath\t\t\tType\t\tReason\t\t\tMessage\n",
      "  ---------\t--------\t-----\t----\t\t\t-------------\t\t\t--------\t------\t\t\t-------\n",
      "  1m\t\t1m\t\t1\tdefault-scheduler\t\t\t\t\tNormal\t\tScheduled\t\tSuccessfully assigned k8s-demo-2293962343-656qn to minikube\n",
      "  1m\t\t1m\t\t1\tkubelet, minikube\t\t\t\t\tNormal\t\tSuccessfulMountVolume\tMountVolume.SetUp succeeded for volume \"default-token-lrngt\" \n",
      "  1m\t\t1m\t\t1\tkubelet, minikube\tspec.containers{k8s-demo}\tNormal\t\tPulled\t\t\tContainer image \"mjbright/k8s-demo:1\" already present on machine\n",
      "  1m\t\t1m\t\t1\tkubelet, minikube\tspec.containers{k8s-demo}\tNormal\t\tCreated\t\t\tCreated container\n",
      "  1m\t\t1m\t\t1\tkubelet, minikube\tspec.containers{k8s-demo}\tNormal\t\tStarted\t\t\tStarted container\n",
      "\n",
      "\n",
      "Name:\t\tk8s-demo-2293962343-7t14f\n",
      "Namespace:\tdefault\n",
      "Node:\t\tminikube/192.168.99.103\n",
      "Start Time:\tWed, 25 Oct 2017 12:42:29 +0200\n",
      "Labels:\t\towner=mike\n",
      "\t\tpod-template-hash=2293962343\n",
      "Annotations:\tkubernetes.io/created-by={\"kind\":\"SerializedReference\",\"apiVersion\":\"v1\",\"reference\":{\"kind\":\"ReplicaSet\",\"namespace\":\"default\",\"name\":\"k8s-demo-2293962343\",\"uid\":\"32ce083d-b971-11e7-bca7-080027969089...\n",
      "Status:\t\tRunning\n",
      "IP:\t\t172.17.0.7\n",
      "Controllers:\tReplicaSet/k8s-demo-2293962343\n",
      "Containers:\n",
      "  k8s-demo:\n",
      "    Container ID:\tdocker://2e3c16842b5b8c34280c4c553f042024c19682dc753efc7e70e916e3b2be2b76\n",
      "    Image:\t\tmjbright/k8s-demo:1\n",
      "    Image ID:\t\tdocker-pullable://mjbright/k8s-demo@sha256:c5790558dfb46014b1d3eae68d33998b411a4f3f3ed476dd169f3f00491d923b\n",
      "    Port:\t\t8080/TCP\n",
      "    State:\t\tRunning\n",
      "      Started:\t\tWed, 25 Oct 2017 12:42:30 +0200\n",
      "    Ready:\t\tTrue\n",
      "    Restart Count:\t0\n",
      "    Environment:\t<none>\n",
      "    Mounts:\n",
      "      /var/run/secrets/kubernetes.io/serviceaccount from default-token-lrngt (ro)\n",
      "Conditions:\n",
      "  Type\t\tStatus\n",
      "  Initialized \tTrue \n",
      "  Ready \tTrue \n",
      "  PodScheduled \tTrue \n",
      "Volumes:\n",
      "  default-token-lrngt:\n",
      "    Type:\tSecret (a volume populated by a Secret)\n",
      "    SecretName:\tdefault-token-lrngt\n",
      "    Optional:\tfalse\n",
      "QoS Class:\tBestEffort\n",
      "Node-Selectors:\t<none>\n",
      "Tolerations:\t<none>\n",
      "Events:\n",
      "  FirstSeen\tLastSeen\tCount\tFrom\t\t\tSubObjectPath\t\t\tType\t\tReason\t\t\tMessage\n",
      "  ---------\t--------\t-----\t----\t\t\t-------------\t\t\t--------\t------\t\t\t-------\n",
      "  1m\t\t1m\t\t1\tdefault-scheduler\t\t\t\t\tNormal\t\tScheduled\t\tSuccessfully assigned k8s-demo-2293962343-7t14f to minikube\n",
      "  1m\t\t1m\t\t1\tkubelet, minikube\t\t\t\t\tNormal\t\tSuccessfulMountVolume\tMountVolume.SetUp succeeded for volume \"default-token-lrngt\" \n",
      "  1m\t\t1m\t\t1\tkubelet, minikube\tspec.containers{k8s-demo}\tNormal\t\tPulled\t\t\tContainer image \"mjbright/k8s-demo:1\" already present on machine\n",
      "  1m\t\t1m\t\t1\tkubelet, minikube\tspec.containers{k8s-demo}\tNormal\t\tCreated\t\t\tCreated container\n",
      "  1m\t\t1m\t\t1\tkubelet, minikube\tspec.containers{k8s-demo}\tNormal\t\tStarted\t\t\tStarted container\n",
      "\n",
      "\n",
      "Name:\t\tk8s-demo-2293962343-mr13x\n",
      "Namespace:\tdefault\n",
      "Node:\t\tminikube/192.168.99.103\n",
      "Start Time:\tWed, 25 Oct 2017 12:42:29 +0200\n",
      "Labels:\t\towner=mike\n",
      "\t\tpod-template-hash=2293962343\n",
      "Annotations:\tkubernetes.io/created-by={\"kind\":\"SerializedReference\",\"apiVersion\":\"v1\",\"reference\":{\"kind\":\"ReplicaSet\",\"namespace\":\"default\",\"name\":\"k8s-demo-2293962343\",\"uid\":\"32ce083d-b971-11e7-bca7-080027969089...\n",
      "Status:\t\tRunning\n",
      "IP:\t\t172.17.0.8\n",
      "Controllers:\tReplicaSet/k8s-demo-2293962343\n",
      "Containers:\n",
      "  k8s-demo:\n",
      "    Container ID:\tdocker://f95cf4d0a51471564d160da2f5f9603e3d445bc95978be22a8016fab5e20c52a\n",
      "    Image:\t\tmjbright/k8s-demo:1\n",
      "    Image ID:\t\tdocker-pullable://mjbright/k8s-demo@sha256:c5790558dfb46014b1d3eae68d33998b411a4f3f3ed476dd169f3f00491d923b\n",
      "    Port:\t\t8080/TCP\n",
      "    State:\t\tRunning\n",
      "      Started:\t\tWed, 25 Oct 2017 12:42:29 +0200\n",
      "    Ready:\t\tTrue\n",
      "    Restart Count:\t0\n",
      "    Environment:\t<none>\n",
      "    Mounts:\n",
      "      /var/run/secrets/kubernetes.io/serviceaccount from default-token-lrngt (ro)\n",
      "Conditions:\n",
      "  Type\t\tStatus\n",
      "  Initialized \tTrue \n",
      "  Ready \tTrue \n",
      "  PodScheduled \tTrue \n",
      "Volumes:\n",
      "  default-token-lrngt:\n",
      "    Type:\tSecret (a volume populated by a Secret)\n",
      "    SecretName:\tdefault-token-lrngt\n",
      "    Optional:\tfalse\n",
      "QoS Class:\tBestEffort\n",
      "Node-Selectors:\t<none>\n",
      "Tolerations:\t<none>\n",
      "Events:\n",
      "  FirstSeen\tLastSeen\tCount\tFrom\t\t\tSubObjectPath\t\t\tType\t\tReason\t\t\tMessage\n",
      "  ---------\t--------\t-----\t----\t\t\t-------------\t\t\t--------\t------\t\t\t-------\n",
      "  1m\t\t1m\t\t1\tdefault-scheduler\t\t\t\t\tNormal\t\tScheduled\t\tSuccessfully assigned k8s-demo-2293962343-mr13x to minikube\n",
      "  1m\t\t1m\t\t1\tkubelet, minikube\t\t\t\t\tNormal\t\tSuccessfulMountVolume\tMountVolume.SetUp succeeded for volume \"default-token-lrngt\" \n",
      "  1m\t\t1m\t\t1\tkubelet, minikube\tspec.containers{k8s-demo}\tNormal\t\tPulled\t\t\tContainer image \"mjbright/k8s-demo:1\" already present on machine\n",
      "  1m\t\t1m\t\t1\tkubelet, minikube\tspec.containers{k8s-demo}\tNormal\t\tCreated\t\t\tCreated container\n",
      "  1m\t\t1m\t\t1\tkubelet, minikube\tspec.containers{k8s-demo}\tNormal\t\tStarted\t\t\tStarted container\n",
      "\n",
      "\n",
      "Name:\t\tmy-nginx-4293833666-35b6s\n",
      "Namespace:\tdefault\n",
      "Node:\t\tminikube/192.168.99.103\n",
      "Start Time:\tWed, 25 Oct 2017 11:47:51 +0200\n",
      "Labels:\t\tpod-template-hash=4293833666\n",
      "\t\trun=my-nginx\n",
      "Annotations:\tkubernetes.io/created-by={\"kind\":\"SerializedReference\",\"apiVersion\":\"v1\",\"reference\":{\"kind\":\"ReplicaSet\",\"namespace\":\"default\",\"name\":\"my-nginx-4293833666\",\"uid\":\"90e1a4dd-b969-11e7-bca7-080027969089...\n",
      "Status:\t\tRunning\n",
      "IP:\t\t172.17.0.4\n",
      "Controllers:\tReplicaSet/my-nginx-4293833666\n",
      "Containers:\n",
      "  my-nginx:\n",
      "    Container ID:\tdocker://c040d8570e6ee05c9a500f653e8fdf077ecf6de4337965279bf133705c3fa773\n",
      "    Image:\t\tnginx\n",
      "    Image ID:\t\tdocker-pullable://nginx@sha256:004ac1d5e791e705f12a17c80d7bb1e8f7f01aa7dca7deee6e65a03465392072\n",
      "    Port:\t\t80/TCP\n",
      "    State:\t\tRunning\n",
      "      Started:\t\tWed, 25 Oct 2017 11:49:45 +0200\n",
      "    Ready:\t\tTrue\n",
      "    Restart Count:\t0\n",
      "    Environment:\t<none>\n",
      "    Mounts:\n",
      "      /var/run/secrets/kubernetes.io/serviceaccount from default-token-lrngt (ro)\n",
      "Conditions:\n",
      "  Type\t\tStatus\n",
      "  Initialized \tTrue \n",
      "  Ready \tTrue \n",
      "  PodScheduled \tTrue \n",
      "Volumes:\n",
      "  default-token-lrngt:\n",
      "    Type:\tSecret (a volume populated by a Secret)\n",
      "    SecretName:\tdefault-token-lrngt\n",
      "    Optional:\tfalse\n",
      "QoS Class:\tBestEffort\n",
      "Node-Selectors:\t<none>\n",
      "Tolerations:\t<none>\n",
      "Events:\n",
      "  FirstSeen\tLastSeen\tCount\tFrom\t\t\tSubObjectPath\t\t\tType\t\tReason\t\t\tMessage\n",
      "  ---------\t--------\t-----\t----\t\t\t-------------\t\t\t--------\t------\t\t\t-------\n",
      "  56m\t\t56m\t\t1\tdefault-scheduler\t\t\t\t\tNormal\t\tScheduled\t\tSuccessfully assigned my-nginx-4293833666-35b6s to minikube\n",
      "  56m\t\t56m\t\t1\tkubelet, minikube\t\t\t\t\tNormal\t\tSuccessfulMountVolume\tMountVolume.SetUp succeeded for volume \"default-token-lrngt\" \n",
      "  56m\t\t56m\t\t1\tkubelet, minikube\tspec.containers{my-nginx}\tNormal\t\tPulling\t\t\tpulling image \"nginx\"\n",
      "  54m\t\t54m\t\t1\tkubelet, minikube\tspec.containers{my-nginx}\tNormal\t\tPulled\t\t\tSuccessfully pulled image \"nginx\"\n",
      "  54m\t\t54m\t\t1\tkubelet, minikube\tspec.containers{my-nginx}\tNormal\t\tCreated\t\t\tCreated container\n",
      "  54m\t\t54m\t\t1\tkubelet, minikube\tspec.containers{my-nginx}\tNormal\t\tStarted\t\t\tStarted container\n",
      "\n",
      "\n",
      "Name:\t\tmy-nginx-4293833666-vjwfm\n",
      "Namespace:\tdefault\n",
      "Node:\t\tminikube/192.168.99.103\n",
      "Start Time:\tWed, 25 Oct 2017 11:47:51 +0200\n",
      "Labels:\t\tpod-template-hash=4293833666\n"
     ]
    },
    {
     "name": "stdout",
     "output_type": "stream",
     "text": [
      "\t\trun=my-nginx\n",
      "Annotations:\tkubernetes.io/created-by={\"kind\":\"SerializedReference\",\"apiVersion\":\"v1\",\"reference\":{\"kind\":\"ReplicaSet\",\"namespace\":\"default\",\"name\":\"my-nginx-4293833666\",\"uid\":\"90e1a4dd-b969-11e7-bca7-080027969089...\n",
      "Status:\t\tRunning\n",
      "IP:\t\t172.17.0.5\n",
      "Controllers:\tReplicaSet/my-nginx-4293833666\n",
      "Containers:\n",
      "  my-nginx:\n",
      "    Container ID:\tdocker://eba9986e2dc37161e85b486b9797e80875cf919824d3cd14a01a93c9705ab863\n",
      "    Image:\t\tnginx\n",
      "    Image ID:\t\tdocker-pullable://nginx@sha256:004ac1d5e791e705f12a17c80d7bb1e8f7f01aa7dca7deee6e65a03465392072\n",
      "    Port:\t\t80/TCP\n",
      "    State:\t\tRunning\n",
      "      Started:\t\tWed, 25 Oct 2017 11:49:41 +0200\n",
      "    Ready:\t\tTrue\n",
      "    Restart Count:\t0\n",
      "    Environment:\t<none>\n",
      "    Mounts:\n",
      "      /var/run/secrets/kubernetes.io/serviceaccount from default-token-lrngt (ro)\n",
      "Conditions:\n",
      "  Type\t\tStatus\n",
      "  Initialized \tTrue \n",
      "  Ready \tTrue \n",
      "  PodScheduled \tTrue \n",
      "Volumes:\n",
      "  default-token-lrngt:\n",
      "    Type:\tSecret (a volume populated by a Secret)\n",
      "    SecretName:\tdefault-token-lrngt\n",
      "    Optional:\tfalse\n",
      "QoS Class:\tBestEffort\n",
      "Node-Selectors:\t<none>\n",
      "Tolerations:\t<none>\n",
      "Events:\n",
      "  FirstSeen\tLastSeen\tCount\tFrom\t\t\tSubObjectPath\t\t\tType\t\tReason\t\t\tMessage\n",
      "  ---------\t--------\t-----\t----\t\t\t-------------\t\t\t--------\t------\t\t\t-------\n",
      "  56m\t\t56m\t\t1\tdefault-scheduler\t\t\t\t\tNormal\t\tScheduled\t\tSuccessfully assigned my-nginx-4293833666-vjwfm to minikube\n",
      "  56m\t\t56m\t\t1\tkubelet, minikube\t\t\t\t\tNormal\t\tSuccessfulMountVolume\tMountVolume.SetUp succeeded for volume \"default-token-lrngt\" \n",
      "  56m\t\t56m\t\t1\tkubelet, minikube\tspec.containers{my-nginx}\tNormal\t\tPulling\t\t\tpulling image \"nginx\"\n",
      "  54m\t\t54m\t\t1\tkubelet, minikube\tspec.containers{my-nginx}\tNormal\t\tPulled\t\t\tSuccessfully pulled image \"nginx\"\n",
      "  54m\t\t54m\t\t1\tkubelet, minikube\tspec.containers{my-nginx}\tNormal\t\tCreated\t\t\tCreated container\n",
      "  54m\t\t54m\t\t1\tkubelet, minikube\tspec.containers{my-nginx}\tNormal\t\tStarted\t\t\tStarted container\n"
     ]
    }
   ],
   "source": [
    "kubectl describe pods"
   ]
  },
  {
   "cell_type": "code",
   "execution_count": 224,
   "metadata": {},
   "outputs": [
    {
     "name": "stdout",
     "output_type": "stream",
     "text": [
      "\u001b[1;36m\n",
      "                ./shhs:`                \n",
      "            .+ymmdyosydNms/`            \n",
      "        -+yNmhs+++++++++oydNmy/.        \n",
      "    .+hNmhs++++++++yy+++++++oydNmy+.    \n",
      "   +Mds++++++++++++md++++++++++++smM/   \n",
      "  `MN++++++++++oshhNNhys+++++++++++Nm   \n",
      "  oMy++++mmsohNMNddMMhdNMmy+ymm++++yM/  \n",
      "  NN++++++omMMmo++sMM+++sNMMdo++++++Nd  \n",
      " /Mh++++++yMNdMNhsyMMssdMMdNMs++++++hM- \n",
      " mMo++++++NMo+ohMMMNNMMNh++sMm++++++oMy \n",
      ":Md++++++oMNosydNMm++NMNhysoMM+++++++hM.\n",
      "hMo+++shhdMMNNmddMMNNMNddmNMMMdhyo+++oMs\n",
      "mMo+++syo+sMmo++sMMhdMNo++oNMy+oss+++oMh\n",
      "-mMy+++++++sNNysMMy++hMNohMNs+++++++yNh`\n",
      "  oMmo+++++++ymMMmhyyhNMMmy+++++++omm:  \n",
      "   .hMh+++++++hNyyhddhyymh+++++++hMo`   \n",
      "     /NNs++++yNo++++++++oNy++++sNd.     \n",
      "      `sMdo++++++++++++++++++odN/       \n",
      "        -dMhsssssssssssssssshNy`        \n",
      "          :shhhhhhhhhhhhhhhyo.          \n",
      "\u001b[0m\n",
      "\n",
      "Served from container \u001b[1;33mk8s-demo-2293962343-656qn\u001b[0;0m\n"
     ]
    }
   ],
   "source": [
    "~/MINIKUBE/bin_0.22.3/minikube ssh curl 172.17.0.6:8080"
   ]
  },
  {
   "cell_type": "code",
   "execution_count": 225,
   "metadata": {},
   "outputs": [
    {
     "name": "stdout",
     "output_type": "stream",
     "text": [
      "\u001b[1;36m\n",
      "                ./shhs:`                \n",
      "            .+ymmdyosydNms/`            \n",
      "        -+yNmhs+++++++++oydNmy/.        \n",
      "    .+hNmhs++++++++yy+++++++oydNmy+.    \n",
      "   +Mds++++++++++++md++++++++++++smM/   \n",
      "  `MN++++++++++oshhNNhys+++++++++++Nm   \n",
      "  oMy++++mmsohNMNddMMhdNMmy+ymm++++yM/  \n",
      "  NN++++++omMMmo++sMM+++sNMMdo++++++Nd  \n",
      " /Mh++++++yMNdMNhsyMMssdMMdNMs++++++hM- \n",
      " mMo++++++NMo+ohMMMNNMMNh++sMm++++++oMy \n",
      ":Md++++++oMNosydNMm++NMNhysoMM+++++++hM.\n",
      "hMo+++shhdMMNNmddMMNNMNddmNMMMdhyo+++oMs\n",
      "mMo+++syo+sMmo++sMMhdMNo++oNMy+oss+++oMh\n",
      "-mMy+++++++sNNysMMy++hMNohMNs+++++++yNh`\n",
      "  oMmo+++++++ymMMmhyyhNMMmy+++++++omm:  \n",
      "   .hMh+++++++hNyyhddhyymh+++++++hMo`   \n",
      "     /NNs++++yNo++++++++oNy++++sNd.     \n",
      "      `sMdo++++++++++++++++++odN/       \n",
      "        -dMhsssssssssssssssshNy`        \n",
      "          :shhhhhhhhhhhhhhhyo.          \n",
      "\u001b[0m\n",
      "\n",
      "Served from container \u001b[1;33mk8s-demo-2293962343-7t14f\u001b[0;0m\n"
     ]
    }
   ],
   "source": [
    "~/MINIKUBE/bin_0.22.3/minikube ssh curl 172.17.0.7:8080"
   ]
  },
  {
   "cell_type": "markdown",
   "metadata": {},
   "source": [
    "### Now let us perform a rolling upgrade of our service\n",
    "\n",
    "We will now upgrade to version 2 of our application.\n",
    "\n",
    "Note that it is the 'deploy' object which corresponds to the version of an application"
   ]
  },
  {
   "cell_type": "code",
   "execution_count": 226,
   "metadata": {},
   "outputs": [
    {
     "name": "stdout",
     "output_type": "stream",
     "text": [
      "deployment \"k8s-demo\" image updated\n"
     ]
    }
   ],
   "source": [
    "kubectl set image deployment k8s-demo k8s-demo=mjbright/k8s-demo:2 --record"
   ]
  },
  {
   "cell_type": "markdown",
   "metadata": {},
   "source": [
    "Now let us observe the rollout as it happens:"
   ]
  },
  {
   "cell_type": "code",
   "execution_count": 227,
   "metadata": {},
   "outputs": [
    {
     "name": "stdout",
     "output_type": "stream",
     "text": [
      "deployment \"k8s-demo\" successfully rolled out\n"
     ]
    }
   ],
   "source": [
    "kubectl rollout status deploy k8s-demo"
   ]
  },
  {
   "cell_type": "markdown",
   "metadata": {},
   "source": []
  },
  {
   "cell_type": "code",
   "execution_count": 228,
   "metadata": {},
   "outputs": [
    {
     "name": "stdout",
     "output_type": "stream",
     "text": [
      "NAME                           READY     STATUS    RESTARTS   AGE\n",
      "po/k8s-demo-469129740-4xwv1    1/1       Running   0          9s\n",
      "po/k8s-demo-469129740-lbg6h    1/1       Running   0          10s\n",
      "po/k8s-demo-469129740-xfslt    1/1       Running   0          10s\n",
      "po/my-nginx-4293833666-35b6s   1/1       Running   0          58m\n",
      "po/my-nginx-4293833666-vjwfm   1/1       Running   0          58m\n",
      "\n",
      "NAME                   CLUSTER-IP   EXTERNAL-IP   PORT(S)          AGE\n",
      "svc/k8s-demo-service   10.0.0.110   <pending>     8080:30404/TCP   2m\n",
      "svc/kubernetes         10.0.0.1     <none>        443/TCP          1h\n",
      "svc/my-nginx           10.0.0.64    <nodes>       80:32468/TCP     48m\n",
      "\n",
      "NAME              DESIRED   CURRENT   UP-TO-DATE   AVAILABLE   AGE\n",
      "deploy/k8s-demo   3         3         3            3           3m\n",
      "deploy/my-nginx   2         2         2            2           58m\n",
      "\n",
      "NAME                     DESIRED   CURRENT   READY     AGE\n",
      "rs/k8s-demo-2293962343   0         0         0         3m\n",
      "rs/k8s-demo-469129740    3         3         3         10s\n",
      "rs/my-nginx-4293833666   2         2         2         58m\n"
     ]
    }
   ],
   "source": [
    "kubectl get --namespace default all"
   ]
  },
  {
   "cell_type": "code",
   "execution_count": 229,
   "metadata": {},
   "outputs": [
    {
     "name": "stdout",
     "output_type": "stream",
     "text": [
      "------------------------------------------------\n",
      "Access to pods directly using:\n",
      "minikube ssh curl 172.17.0.6:8080\n",
      "minikube ssh curl 172.17.0.9:8080\n",
      "minikube ssh curl 172.17.0.7:8080\n",
      "minikube ssh curl 172.17.0.4:8080\n",
      "minikube ssh curl 172.17.0.5:8080\n",
      "\n",
      "Access service by running command:\n",
      "    curl http://192.168.99.103:30404\n"
     ]
    }
   ],
   "source": [
    "show_access_ports"
   ]
  },
  {
   "cell_type": "code",
   "execution_count": 230,
   "metadata": {},
   "outputs": [
    {
     "name": "stdout",
     "output_type": "stream",
     "text": [
      "\u001b[1;31m\n",
      "                ./shhs:`                \n",
      "            .+ymmdyosydNms/`            \n",
      "        -+yNmhs+++++++++oydNmy/.        \n",
      "    .+hNmhs++++++++yy+++++++oydNmy+.    \n",
      "   +Mds++++++++++++md++++++++++++smM/   \n",
      "  `MN++++++++++oshhNNhys+++++++++++Nm   \n",
      "  oMy++++mmsohNMNddMMhdNMmy+ymm++++yM/  \n",
      "  NN++++++omMMmo++sMM+++sNMMdo++++++Nd  \n",
      " /Mh++++++yMNdMNhsyMMssdMMdNMs++++++hM- \n",
      " mMo++++++NMo+ohMMMNNMMNh++sMm++++++oMy \n",
      ":Md++++++oMNosydNMm++NMNhysoMM+++++++hM.\n",
      "hMo+++shhdMMNNmddMMNNMNddmNMMMdhyo+++oMs\n",
      "mMo+++syo+sMmo++sMMhdMNo++oNMy+oss+++oMh\n",
      "-mMy+++++++sNNysMMy++hMNohMNs+++++++yNh`\n",
      "  oMmo+++++++ymMMmhyyhNMMmy+++++++omm:  \n",
      "   .hMh+++++++hNyyhddhyymh+++++++hMo`   \n",
      "     /NNs++++yNo++++++++oNy++++sNd.     \n",
      "      `sMdo++++++++++++++++++odN/       \n",
      "        -dMhsssssssssssssssshNy`        \n",
      "          :shhhhhhhhhhhhhhhyo.          \n",
      "\u001b[0m\n",
      "\n",
      "Served from container \u001b[1;33mk8s-demo-469129740-4xwv1\u001b[0;0m\n"
     ]
    }
   ],
   "source": [
    "minikube ssh curl 172.17.0.6:8080"
   ]
  },
  {
   "cell_type": "code",
   "execution_count": 231,
   "metadata": {},
   "outputs": [
    {
     "name": "stdout",
     "output_type": "stream",
     "text": [
      "\u001b[1;31m\n",
      "                ./shhs:`                \n",
      "            .+ymmdyosydNms/`            \n",
      "        -+yNmhs+++++++++oydNmy/.        \n",
      "    .+hNmhs++++++++yy+++++++oydNmy+.    \n",
      "   +Mds++++++++++++md++++++++++++smM/   \n",
      "  `MN++++++++++oshhNNhys+++++++++++Nm   \n",
      "  oMy++++mmsohNMNddMMhdNMmy+ymm++++yM/  \n",
      "  NN++++++omMMmo++sMM+++sNMMdo++++++Nd  \n",
      " /Mh++++++yMNdMNhsyMMssdMMdNMs++++++hM- \n",
      " mMo++++++NMo+ohMMMNNMMNh++sMm++++++oMy \n",
      ":Md++++++oMNosydNMm++NMNhysoMM+++++++hM.\n",
      "hMo+++shhdMMNNmddMMNNMNddmNMMMdhyo+++oMs\n",
      "mMo+++syo+sMmo++sMMhdMNo++oNMy+oss+++oMh\n",
      "-mMy+++++++sNNysMMy++hMNohMNs+++++++yNh`\n",
      "  oMmo+++++++ymMMmhyyhNMMmy+++++++omm:  \n",
      "   .hMh+++++++hNyyhddhyymh+++++++hMo`   \n",
      "     /NNs++++yNo++++++++oNy++++sNd.     \n",
      "      `sMdo++++++++++++++++++odN/       \n",
      "        -dMhsssssssssssssssshNy`        \n",
      "          :shhhhhhhhhhhhhhhyo.          \n",
      "\u001b[0m\n",
      "\n",
      "Served from container \u001b[1;33mk8s-demo-469129740-lbg6h\u001b[0;0m\n"
     ]
    }
   ],
   "source": [
    "minikube ssh curl 172.17.0.9:8080"
   ]
  },
  {
   "cell_type": "code",
   "execution_count": 232,
   "metadata": {},
   "outputs": [
    {
     "name": "stdout",
     "output_type": "stream",
     "text": [
      "NAME               CLUSTER-IP   EXTERNAL-IP   PORT(S)          AGE\n",
      "k8s-demo-service   10.0.0.110   <pending>     8080:30404/TCP   2m\n"
     ]
    }
   ],
   "source": [
    "kubectl get  --selector \"owner=mike\" service"
   ]
  },
  {
   "cell_type": "markdown",
   "metadata": {},
   "source": [
    "# 3. Viewing Pods"
   ]
  },
  {
   "cell_type": "code",
   "execution_count": 233,
   "metadata": {},
   "outputs": [
    {
     "name": "stdout",
     "output_type": "stream",
     "text": [
      "NAME                        READY     STATUS    RESTARTS   AGE\n",
      "k8s-demo-469129740-4xwv1    1/1       Running   0          34s\n",
      "k8s-demo-469129740-lbg6h    1/1       Running   0          35s\n",
      "k8s-demo-469129740-xfslt    1/1       Running   0          35s\n",
      "my-nginx-4293833666-35b6s   1/1       Running   0          58m\n",
      "my-nginx-4293833666-vjwfm   1/1       Running   0          58m\n"
     ]
    }
   ],
   "source": [
    "kubectl get pods"
   ]
  },
  {
   "cell_type": "code",
   "execution_count": 234,
   "metadata": {},
   "outputs": [
    {
     "name": "stdout",
     "output_type": "stream",
     "text": [
      "Name:\t\tk8s-demo-469129740-4xwv1\n",
      "Namespace:\tdefault\n",
      "Node:\t\tminikube/192.168.99.103\n",
      "Start Time:\tWed, 25 Oct 2017 12:45:44 +0200\n",
      "Labels:\t\towner=mike\n",
      "\t\tpod-template-hash=469129740\n",
      "Annotations:\tkubernetes.io/created-by={\"kind\":\"SerializedReference\",\"apiVersion\":\"v1\",\"reference\":{\"kind\":\"ReplicaSet\",\"namespace\":\"default\",\"name\":\"k8s-demo-469129740\",\"uid\":\"a6bf836e-b971-11e7-bca7-080027969089\"...\n",
      "Status:\t\tRunning\n",
      "IP:\t\t172.17.0.6\n",
      "Controllers:\tReplicaSet/k8s-demo-469129740\n",
      "Containers:\n",
      "  k8s-demo:\n",
      "    Container ID:\tdocker://9c91c1f197cb346f63e4021899e9800cbbba3d5d55e1b66627a3141c87192817\n",
      "    Image:\t\tmjbright/k8s-demo:2\n",
      "    Image ID:\t\tdocker-pullable://mjbright/k8s-demo@sha256:71407e7912cc6cd02b2732e8e5586d78488776824dbbb68afe16f891f79a91ca\n",
      "    Port:\t\t8080/TCP\n",
      "    State:\t\tRunning\n",
      "      Started:\t\tWed, 25 Oct 2017 12:45:45 +0200\n",
      "    Ready:\t\tTrue\n",
      "    Restart Count:\t0\n",
      "    Environment:\t<none>\n",
      "    Mounts:\n",
      "      /var/run/secrets/kubernetes.io/serviceaccount from default-token-lrngt (ro)\n",
      "Conditions:\n",
      "  Type\t\tStatus\n",
      "  Initialized \tTrue \n",
      "  Ready \tTrue \n",
      "  PodScheduled \tTrue \n",
      "Volumes:\n",
      "  default-token-lrngt:\n",
      "    Type:\tSecret (a volume populated by a Secret)\n",
      "    SecretName:\tdefault-token-lrngt\n",
      "    Optional:\tfalse\n",
      "QoS Class:\tBestEffort\n",
      "Node-Selectors:\t<none>\n",
      "Tolerations:\t<none>\n",
      "Events:\n",
      "  FirstSeen\tLastSeen\tCount\tFrom\t\t\tSubObjectPath\t\t\tType\t\tReason\t\t\tMessage\n",
      "  ---------\t--------\t-----\t----\t\t\t-------------\t\t\t--------\t------\t\t\t-------\n",
      "  36s\t\t36s\t\t1\tdefault-scheduler\t\t\t\t\tNormal\t\tScheduled\t\tSuccessfully assigned k8s-demo-469129740-4xwv1 to minikube\n",
      "  35s\t\t35s\t\t1\tkubelet, minikube\t\t\t\t\tNormal\t\tSuccessfulMountVolume\tMountVolume.SetUp succeeded for volume \"default-token-lrngt\" \n",
      "  35s\t\t35s\t\t1\tkubelet, minikube\tspec.containers{k8s-demo}\tNormal\t\tPulled\t\t\tContainer image \"mjbright/k8s-demo:2\" already present on machine\n",
      "  35s\t\t35s\t\t1\tkubelet, minikube\tspec.containers{k8s-demo}\tNormal\t\tCreated\t\t\tCreated container\n",
      "  35s\t\t35s\t\t1\tkubelet, minikube\tspec.containers{k8s-demo}\tNormal\t\tStarted\t\t\tStarted container\n",
      "\n",
      "\n",
      "Name:\t\tk8s-demo-469129740-lbg6h\n",
      "Namespace:\tdefault\n",
      "Node:\t\tminikube/192.168.99.103\n",
      "Start Time:\tWed, 25 Oct 2017 12:45:43 +0200\n",
      "Labels:\t\towner=mike\n",
      "\t\tpod-template-hash=469129740\n",
      "Annotations:\tkubernetes.io/created-by={\"kind\":\"SerializedReference\",\"apiVersion\":\"v1\",\"reference\":{\"kind\":\"ReplicaSet\",\"namespace\":\"default\",\"name\":\"k8s-demo-469129740\",\"uid\":\"a6bf836e-b971-11e7-bca7-080027969089\"...\n",
      "Status:\t\tRunning\n",
      "IP:\t\t172.17.0.9\n",
      "Controllers:\tReplicaSet/k8s-demo-469129740\n",
      "Containers:\n",
      "  k8s-demo:\n",
      "    Container ID:\tdocker://6e4fb4889af1065853b041ade639387a115d3d9e82913b7763579ccc53dc2429\n",
      "    Image:\t\tmjbright/k8s-demo:2\n",
      "    Image ID:\t\tdocker-pullable://mjbright/k8s-demo@sha256:71407e7912cc6cd02b2732e8e5586d78488776824dbbb68afe16f891f79a91ca\n",
      "    Port:\t\t8080/TCP\n",
      "    State:\t\tRunning\n",
      "      Started:\t\tWed, 25 Oct 2017 12:45:44 +0200\n",
      "    Ready:\t\tTrue\n",
      "    Restart Count:\t0\n",
      "    Environment:\t<none>\n",
      "    Mounts:\n",
      "      /var/run/secrets/kubernetes.io/serviceaccount from default-token-lrngt (ro)\n",
      "Conditions:\n",
      "  Type\t\tStatus\n",
      "  Initialized \tTrue \n",
      "  Ready \tTrue \n",
      "  PodScheduled \tTrue \n",
      "Volumes:\n",
      "  default-token-lrngt:\n",
      "    Type:\tSecret (a volume populated by a Secret)\n",
      "    SecretName:\tdefault-token-lrngt\n",
      "    Optional:\tfalse\n",
      "QoS Class:\tBestEffort\n",
      "Node-Selectors:\t<none>\n",
      "Tolerations:\t<none>\n",
      "Events:\n",
      "  FirstSeen\tLastSeen\tCount\tFrom\t\t\tSubObjectPath\t\t\tType\t\tReason\t\t\tMessage\n",
      "  ---------\t--------\t-----\t----\t\t\t-------------\t\t\t--------\t------\t\t\t-------\n",
      "  37s\t\t37s\t\t1\tdefault-scheduler\t\t\t\t\tNormal\t\tScheduled\t\tSuccessfully assigned k8s-demo-469129740-lbg6h to minikube\n",
      "  36s\t\t36s\t\t1\tkubelet, minikube\t\t\t\t\tNormal\t\tSuccessfulMountVolume\tMountVolume.SetUp succeeded for volume \"default-token-lrngt\" \n",
      "  36s\t\t36s\t\t1\tkubelet, minikube\tspec.containers{k8s-demo}\tNormal\t\tPulled\t\t\tContainer image \"mjbright/k8s-demo:2\" already present on machine\n",
      "  36s\t\t36s\t\t1\tkubelet, minikube\tspec.containers{k8s-demo}\tNormal\t\tCreated\t\t\tCreated container\n",
      "  36s\t\t36s\t\t1\tkubelet, minikube\tspec.containers{k8s-demo}\tNormal\t\tStarted\t\t\tStarted container\n",
      "\n",
      "\n",
      "Name:\t\tk8s-demo-469129740-xfslt\n",
      "Namespace:\tdefault\n",
      "Node:\t\tminikube/192.168.99.103\n",
      "Start Time:\tWed, 25 Oct 2017 12:45:43 +0200\n",
      "Labels:\t\towner=mike\n",
      "\t\tpod-template-hash=469129740\n",
      "Annotations:\tkubernetes.io/created-by={\"kind\":\"SerializedReference\",\"apiVersion\":\"v1\",\"reference\":{\"kind\":\"ReplicaSet\",\"namespace\":\"default\",\"name\":\"k8s-demo-469129740\",\"uid\":\"a6bf836e-b971-11e7-bca7-080027969089\"...\n",
      "Status:\t\tRunning\n",
      "IP:\t\t172.17.0.7\n",
      "Controllers:\tReplicaSet/k8s-demo-469129740\n",
      "Containers:\n",
      "  k8s-demo:\n",
      "    Container ID:\tdocker://084bf9370998d814012046c23c818d79e2a30a7ecf9b7155df493cfbcc26c459\n",
      "    Image:\t\tmjbright/k8s-demo:2\n",
      "    Image ID:\t\tdocker-pullable://mjbright/k8s-demo@sha256:71407e7912cc6cd02b2732e8e5586d78488776824dbbb68afe16f891f79a91ca\n",
      "    Port:\t\t8080/TCP\n",
      "    State:\t\tRunning\n",
      "      Started:\t\tWed, 25 Oct 2017 12:45:44 +0200\n",
      "    Ready:\t\tTrue\n",
      "    Restart Count:\t0\n",
      "    Environment:\t<none>\n",
      "    Mounts:\n",
      "      /var/run/secrets/kubernetes.io/serviceaccount from default-token-lrngt (ro)\n",
      "Conditions:\n",
      "  Type\t\tStatus\n",
      "  Initialized \tTrue \n",
      "  Ready \tTrue \n",
      "  PodScheduled \tTrue \n",
      "Volumes:\n",
      "  default-token-lrngt:\n",
      "    Type:\tSecret (a volume populated by a Secret)\n",
      "    SecretName:\tdefault-token-lrngt\n",
      "    Optional:\tfalse\n",
      "QoS Class:\tBestEffort\n",
      "Node-Selectors:\t<none>\n",
      "Tolerations:\t<none>\n",
      "Events:\n",
      "  FirstSeen\tLastSeen\tCount\tFrom\t\t\tSubObjectPath\t\t\tType\t\tReason\t\t\tMessage\n",
      "  ---------\t--------\t-----\t----\t\t\t-------------\t\t\t--------\t------\t\t\t-------\n",
      "  37s\t\t37s\t\t1\tdefault-scheduler\t\t\t\t\tNormal\t\tScheduled\t\tSuccessfully assigned k8s-demo-469129740-xfslt to minikube\n",
      "  36s\t\t36s\t\t1\tkubelet, minikube\t\t\t\t\tNormal\t\tSuccessfulMountVolume\tMountVolume.SetUp succeeded for volume \"default-token-lrngt\" \n",
      "  36s\t\t36s\t\t1\tkubelet, minikube\tspec.containers{k8s-demo}\tNormal\t\tPulled\t\t\tContainer image \"mjbright/k8s-demo:2\" already present on machine\n",
      "  36s\t\t36s\t\t1\tkubelet, minikube\tspec.containers{k8s-demo}\tNormal\t\tCreated\t\t\tCreated container\n",
      "  36s\t\t36s\t\t1\tkubelet, minikube\tspec.containers{k8s-demo}\tNormal\t\tStarted\t\t\tStarted container\n",
      "\n",
      "\n",
      "Name:\t\tmy-nginx-4293833666-35b6s\n",
      "Namespace:\tdefault\n",
      "Node:\t\tminikube/192.168.99.103\n",
      "Start Time:\tWed, 25 Oct 2017 11:47:51 +0200\n",
      "Labels:\t\tpod-template-hash=4293833666\n",
      "\t\trun=my-nginx\n",
      "Annotations:\tkubernetes.io/created-by={\"kind\":\"SerializedReference\",\"apiVersion\":\"v1\",\"reference\":{\"kind\":\"ReplicaSet\",\"namespace\":\"default\",\"name\":\"my-nginx-4293833666\",\"uid\":\"90e1a4dd-b969-11e7-bca7-080027969089...\n",
      "Status:\t\tRunning\n",
      "IP:\t\t172.17.0.4\n",
      "Controllers:\tReplicaSet/my-nginx-4293833666\n",
      "Containers:\n",
      "  my-nginx:\n",
      "    Container ID:\tdocker://c040d8570e6ee05c9a500f653e8fdf077ecf6de4337965279bf133705c3fa773\n",
      "    Image:\t\tnginx\n",
      "    Image ID:\t\tdocker-pullable://nginx@sha256:004ac1d5e791e705f12a17c80d7bb1e8f7f01aa7dca7deee6e65a03465392072\n",
      "    Port:\t\t80/TCP\n",
      "    State:\t\tRunning\n",
      "      Started:\t\tWed, 25 Oct 2017 11:49:45 +0200\n",
      "    Ready:\t\tTrue\n",
      "    Restart Count:\t0\n",
      "    Environment:\t<none>\n",
      "    Mounts:\n",
      "      /var/run/secrets/kubernetes.io/serviceaccount from default-token-lrngt (ro)\n",
      "Conditions:\n",
      "  Type\t\tStatus\n",
      "  Initialized \tTrue \n",
      "  Ready \tTrue \n",
      "  PodScheduled \tTrue \n",
      "Volumes:\n",
      "  default-token-lrngt:\n",
      "    Type:\tSecret (a volume populated by a Secret)\n",
      "    SecretName:\tdefault-token-lrngt\n",
      "    Optional:\tfalse\n",
      "QoS Class:\tBestEffort\n",
      "Node-Selectors:\t<none>\n",
      "Tolerations:\t<none>\n",
      "Events:\n",
      "  FirstSeen\tLastSeen\tCount\tFrom\t\t\tSubObjectPath\t\t\tType\t\tReason\t\t\tMessage\n",
      "  ---------\t--------\t-----\t----\t\t\t-------------\t\t\t--------\t------\t\t\t-------\n",
      "  58m\t\t58m\t\t1\tdefault-scheduler\t\t\t\t\tNormal\t\tScheduled\t\tSuccessfully assigned my-nginx-4293833666-35b6s to minikube\n",
      "  58m\t\t58m\t\t1\tkubelet, minikube\t\t\t\t\tNormal\t\tSuccessfulMountVolume\tMountVolume.SetUp succeeded for volume \"default-token-lrngt\" \n",
      "  58m\t\t58m\t\t1\tkubelet, minikube\tspec.containers{my-nginx}\tNormal\t\tPulling\t\t\tpulling image \"nginx\"\n",
      "  56m\t\t56m\t\t1\tkubelet, minikube\tspec.containers{my-nginx}\tNormal\t\tPulled\t\t\tSuccessfully pulled image \"nginx\"\n",
      "  56m\t\t56m\t\t1\tkubelet, minikube\tspec.containers{my-nginx}\tNormal\t\tCreated\t\t\tCreated container\n",
      "  56m\t\t56m\t\t1\tkubelet, minikube\tspec.containers{my-nginx}\tNormal\t\tStarted\t\t\tStarted container\n",
      "\n",
      "\n",
      "Name:\t\tmy-nginx-4293833666-vjwfm\n",
      "Namespace:\tdefault\n",
      "Node:\t\tminikube/192.168.99.103\n",
      "Start Time:\tWed, 25 Oct 2017 11:47:51 +0200\n",
      "Labels:\t\tpod-template-hash=4293833666\n"
     ]
    },
    {
     "name": "stdout",
     "output_type": "stream",
     "text": [
      "\t\trun=my-nginx\n",
      "Annotations:\tkubernetes.io/created-by={\"kind\":\"SerializedReference\",\"apiVersion\":\"v1\",\"reference\":{\"kind\":\"ReplicaSet\",\"namespace\":\"default\",\"name\":\"my-nginx-4293833666\",\"uid\":\"90e1a4dd-b969-11e7-bca7-080027969089...\n",
      "Status:\t\tRunning\n",
      "IP:\t\t172.17.0.5\n",
      "Controllers:\tReplicaSet/my-nginx-4293833666\n",
      "Containers:\n",
      "  my-nginx:\n",
      "    Container ID:\tdocker://eba9986e2dc37161e85b486b9797e80875cf919824d3cd14a01a93c9705ab863\n",
      "    Image:\t\tnginx\n",
      "    Image ID:\t\tdocker-pullable://nginx@sha256:004ac1d5e791e705f12a17c80d7bb1e8f7f01aa7dca7deee6e65a03465392072\n",
      "    Port:\t\t80/TCP\n",
      "    State:\t\tRunning\n",
      "      Started:\t\tWed, 25 Oct 2017 11:49:41 +0200\n",
      "    Ready:\t\tTrue\n",
      "    Restart Count:\t0\n",
      "    Environment:\t<none>\n",
      "    Mounts:\n",
      "      /var/run/secrets/kubernetes.io/serviceaccount from default-token-lrngt (ro)\n",
      "Conditions:\n",
      "  Type\t\tStatus\n",
      "  Initialized \tTrue \n",
      "  Ready \tTrue \n",
      "  PodScheduled \tTrue \n",
      "Volumes:\n",
      "  default-token-lrngt:\n",
      "    Type:\tSecret (a volume populated by a Secret)\n",
      "    SecretName:\tdefault-token-lrngt\n",
      "    Optional:\tfalse\n",
      "QoS Class:\tBestEffort\n",
      "Node-Selectors:\t<none>\n",
      "Tolerations:\t<none>\n",
      "Events:\n",
      "  FirstSeen\tLastSeen\tCount\tFrom\t\t\tSubObjectPath\t\t\tType\t\tReason\t\t\tMessage\n",
      "  ---------\t--------\t-----\t----\t\t\t-------------\t\t\t--------\t------\t\t\t-------\n",
      "  58m\t\t58m\t\t1\tdefault-scheduler\t\t\t\t\tNormal\t\tScheduled\t\tSuccessfully assigned my-nginx-4293833666-vjwfm to minikube\n",
      "  58m\t\t58m\t\t1\tkubelet, minikube\t\t\t\t\tNormal\t\tSuccessfulMountVolume\tMountVolume.SetUp succeeded for volume \"default-token-lrngt\" \n",
      "  58m\t\t58m\t\t1\tkubelet, minikube\tspec.containers{my-nginx}\tNormal\t\tPulling\t\t\tpulling image \"nginx\"\n",
      "  56m\t\t56m\t\t1\tkubelet, minikube\tspec.containers{my-nginx}\tNormal\t\tPulled\t\t\tSuccessfully pulled image \"nginx\"\n",
      "  56m\t\t56m\t\t1\tkubelet, minikube\tspec.containers{my-nginx}\tNormal\t\tCreated\t\t\tCreated container\n",
      "  56m\t\t56m\t\t1\tkubelet, minikube\tspec.containers{my-nginx}\tNormal\t\tStarted\t\t\tStarted container\n"
     ]
    }
   ],
   "source": [
    "kubectl describe pods"
   ]
  },
  {
   "cell_type": "code",
   "execution_count": 235,
   "metadata": {},
   "outputs": [
    {
     "name": "stdout",
     "output_type": "stream",
     "text": [
      "NAME                        READY     STATUS    RESTARTS   AGE       NAME\n",
      "k8s-demo-469129740-4xwv1    1/1       Running   0          40s       <none>\n",
      "k8s-demo-469129740-lbg6h    1/1       Running   0          41s       <none>\n",
      "k8s-demo-469129740-xfslt    1/1       Running   0          41s       <none>\n",
      "my-nginx-4293833666-35b6s   1/1       Running   0          58m       <none>\n",
      "my-nginx-4293833666-vjwfm   1/1       Running   0          58m       <none>\n"
     ]
    }
   ],
   "source": [
    "kubectl get pods -L NAME"
   ]
  },
  {
   "cell_type": "code",
   "execution_count": 236,
   "metadata": {},
   "outputs": [
    {
     "name": "stdout",
     "output_type": "stream",
     "text": [
      "k8s-demo-469129740-4xwv1\n",
      "k8s-demo-469129740-lbg6h\n",
      "k8s-demo-469129740-xfslt\n",
      "my-nginx-4293833666-35b6s\n",
      "my-nginx-4293833666-vjwfm\n"
     ]
    }
   ],
   "source": [
    "kubectl get pods -o go-template --template '{{range .items}}{{.metadata.name}}{{\"\\n\"}}{{end}}'"
   ]
  },
  {
   "cell_type": "code",
   "execution_count": 237,
   "metadata": {
    "collapsed": true
   },
   "outputs": [],
   "source": [
    "POD_NAME=$(kubectl get pods -o go-template --template '{{range .items}}{{.metadata.name}}{{\"\\n\"}}{{end}}' | tail -1)"
   ]
  },
  {
   "cell_type": "code",
   "execution_count": 238,
   "metadata": {},
   "outputs": [
    {
     "name": "stdout",
     "output_type": "stream",
     "text": [
      "172.17.0.1 - - [25/Oct/2017:09:56:34 +0000] \"GET / HTTP/1.1\" 200 612 \"-\" \"curl/7.52.1\" \"127.0.0.1, 192.168.99.1\"\n",
      "172.17.0.1 - - [25/Oct/2017:09:56:49 +0000] \"GET / HTTP/1.1\" 200 612 \"-\" \"curl/7.52.1\" \"127.0.0.1, 192.168.99.1\"\n",
      "172.17.0.1 - - [25/Oct/2017:09:57:03 +0000] \"GET / HTTP/1.1\" 200 612 \"http://localhost:8888/notebooks/Orchestration-Kubernetes/Kubernetes.ipynb\" \"Mozilla/5.0 (X11; Fedora; Linux x86_64) AppleWebKit/537.36 (KHTML, like Gecko) Chrome/61.0.3163.100 Safari/537.36\" \"127.0.0.1, 192.168.99.1\"\n",
      "172.17.0.1 - - [25/Oct/2017:09:57:16 +0000] \"GET / HTTP/1.1\" 200 612 \"-\" \"curl/7.52.1\" \"127.0.0.1, 192.168.99.1\"\n"
     ]
    }
   ],
   "source": [
    "kubectl logs $POD_NAME"
   ]
  },
  {
   "cell_type": "code",
   "execution_count": 239,
   "metadata": {},
   "outputs": [
    {
     "name": "stdout",
     "output_type": "stream",
     "text": [
      "PATH=/usr/local/sbin:/usr/local/bin:/usr/sbin:/usr/bin:/sbin:/bin\n",
      "HOSTNAME=my-nginx-4293833666-vjwfm\n",
      "KUBERNETES_PORT=tcp://10.0.0.1:443\n",
      "KUBERNETES_PORT_443_TCP=tcp://10.0.0.1:443\n",
      "KUBERNETES_PORT_443_TCP_PROTO=tcp\n",
      "KUBERNETES_PORT_443_TCP_PORT=443\n",
      "KUBERNETES_PORT_443_TCP_ADDR=10.0.0.1\n",
      "KUBERNETES_SERVICE_HOST=10.0.0.1\n",
      "KUBERNETES_SERVICE_PORT=443\n",
      "KUBERNETES_SERVICE_PORT_HTTPS=443\n",
      "NGINX_VERSION=1.13.5-1~stretch\n",
      "NJS_VERSION=1.13.5.0.1.13-1~stretch\n",
      "HOME=/root\n"
     ]
    }
   ],
   "source": [
    "kubectl exec $POD_NAME env"
   ]
  },
  {
   "cell_type": "code",
   "execution_count": null,
   "metadata": {
    "collapsed": true
   },
   "outputs": [],
   "source": [
    "kubectl exec $POD_NAME hostname"
   ]
  },
  {
   "cell_type": "code",
   "execution_count": 245,
   "metadata": {},
   "outputs": [
    {
     "name": "stdout",
     "output_type": "stream",
     "text": [
      "agetty\n",
      "badblocks\n",
      "blkdiscard\n",
      "blkid\n",
      "blockdev\n",
      "cfdisk\n",
      "chcpu\n",
      "ctrlaltdel\n",
      "debugfs\n",
      "dumpe2fs\n",
      "e2fsck\n",
      "e2image\n",
      "e2label\n",
      "e2undo\n",
      "fdisk\n",
      "findfs\n",
      "fsck\n",
      "fsck.cramfs\n",
      "fsck.ext2\n",
      "fsck.ext3\n",
      "fsck.ext4\n",
      "fsck.minix\n",
      "fsfreeze\n",
      "fstab-decode\n",
      "fstrim\n",
      "getty\n",
      "hwclock\n",
      "initctl\n",
      "installkernel\n",
      "isosize\n",
      "killall5\n",
      "ldconfig\n",
      "logsave\n",
      "losetup\n",
      "mke2fs\n",
      "mkfs\n",
      "mkfs.bfs\n",
      "mkfs.cramfs\n",
      "mkfs.ext2\n",
      "mkfs.ext3\n",
      "mkfs.ext4\n",
      "mkfs.minix\n",
      "mkhomedir_helper\n",
      "mkswap\n",
      "pam_tally\n",
      "pam_tally2\n",
      "pivot_root\n",
      "raw\n",
      "resize2fs\n",
      "runuser\n",
      "sfdisk\n",
      "shadowconfig\n",
      "start-stop-daemon\n",
      "sulogin\n",
      "swaplabel\n",
      "swapoff\n",
      "swapon\n",
      "switch_root\n",
      "tune2fs\n",
      "unix_chkpwd\n",
      "unix_update\n",
      "wipefs\n",
      "zramctl\n"
     ]
    }
   ],
   "source": [
    "kubectl exec $POD_NAME ls /sbin"
   ]
  },
  {
   "cell_type": "markdown",
   "metadata": {},
   "source": [
    "We can see the ip address of a pod (same ip address for all containers in that pod):"
   ]
  },
  {
   "cell_type": "code",
   "execution_count": 253,
   "metadata": {},
   "outputs": [
    {
     "name": "stdout",
     "output_type": "stream",
     "text": [
      "172.17.0.5\n"
     ]
    }
   ],
   "source": [
    "kubectl exec $POD_NAME -- hostname -i"
   ]
  },
  {
   "cell_type": "code",
   "execution_count": 254,
   "metadata": {},
   "outputs": [
    {
     "name": "stdout",
     "output_type": "stream",
     "text": [
      "NAME                        READY     STATUS    RESTARTS   AGE\n",
      "my-nginx-4293833666-vjwfm   1/1       Running   0          1h\n"
     ]
    }
   ],
   "source": [
    "kubectl get pod $POD_NAME"
   ]
  },
  {
   "cell_type": "code",
   "execution_count": 255,
   "metadata": {},
   "outputs": [
    {
     "name": "stdout",
     "output_type": "stream",
     "text": [
      "apiVersion: v1\n",
      "kind: Pod\n",
      "metadata:\n",
      "  annotations:\n",
      "    kubernetes.io/created-by: |\n",
      "      {\"kind\":\"SerializedReference\",\"apiVersion\":\"v1\",\"reference\":{\"kind\":\"ReplicaSet\",\"namespace\":\"default\",\"name\":\"my-nginx-4293833666\",\"uid\":\"90e1a4dd-b969-11e7-bca7-080027969089\",\"apiVersion\":\"extensions\",\"resourceVersion\":\"999\"}}\n",
      "  creationTimestamp: 2017-10-25T09:47:51Z\n",
      "  generateName: my-nginx-4293833666-\n",
      "  labels:\n",
      "    pod-template-hash: \"4293833666\"\n",
      "    run: my-nginx\n",
      "  name: my-nginx-4293833666-vjwfm\n",
      "  namespace: default\n",
      "  ownerReferences:\n",
      "  - apiVersion: extensions/v1beta1\n",
      "    blockOwnerDeletion: true\n",
      "    controller: true\n",
      "    kind: ReplicaSet\n",
      "    name: my-nginx-4293833666\n",
      "    uid: 90e1a4dd-b969-11e7-bca7-080027969089\n",
      "  resourceVersion: \"1145\"\n",
      "  selfLink: /api/v1/namespaces/default/pods/my-nginx-4293833666-vjwfm\n",
      "  uid: 90e2d6ac-b969-11e7-bca7-080027969089\n",
      "spec:\n",
      "  containers:\n",
      "  - image: nginx\n",
      "    imagePullPolicy: Always\n",
      "    name: my-nginx\n",
      "    ports:\n",
      "    - containerPort: 80\n",
      "      protocol: TCP\n",
      "    resources: {}\n",
      "    terminationMessagePath: /dev/termination-log\n",
      "    terminationMessagePolicy: File\n",
      "    volumeMounts:\n",
      "    - mountPath: /var/run/secrets/kubernetes.io/serviceaccount\n",
      "      name: default-token-lrngt\n",
      "      readOnly: true\n",
      "  dnsPolicy: ClusterFirst\n",
      "  nodeName: minikube\n",
      "  restartPolicy: Always\n",
      "  schedulerName: default-scheduler\n",
      "  securityContext: {}\n",
      "  serviceAccount: default\n",
      "  serviceAccountName: default\n",
      "  terminationGracePeriodSeconds: 30\n",
      "  volumes:\n",
      "  - name: default-token-lrngt\n",
      "    secret:\n",
      "      defaultMode: 420\n",
      "      secretName: default-token-lrngt\n",
      "status:\n",
      "  conditions:\n",
      "  - lastProbeTime: null\n",
      "    lastTransitionTime: 2017-10-25T09:47:51Z\n",
      "    status: \"True\"\n",
      "    type: Initialized\n",
      "  - lastProbeTime: null\n",
      "    lastTransitionTime: 2017-10-25T09:49:41Z\n",
      "    status: \"True\"\n",
      "    type: Ready\n",
      "  - lastProbeTime: null\n",
      "    lastTransitionTime: 2017-10-25T09:47:51Z\n",
      "    status: \"True\"\n",
      "    type: PodScheduled\n",
      "  containerStatuses:\n",
      "  - containerID: docker://eba9986e2dc37161e85b486b9797e80875cf919824d3cd14a01a93c9705ab863\n",
      "    image: nginx:latest\n",
      "    imageID: docker-pullable://nginx@sha256:004ac1d5e791e705f12a17c80d7bb1e8f7f01aa7dca7deee6e65a03465392072\n",
      "    lastState: {}\n",
      "    name: my-nginx\n",
      "    ready: true\n",
      "    restartCount: 0\n",
      "    state:\n",
      "      running:\n",
      "        startedAt: 2017-10-25T09:49:41Z\n",
      "  hostIP: 192.168.99.103\n",
      "  phase: Running\n",
      "  podIP: 172.17.0.5\n",
      "  qosClass: BestEffort\n",
      "  startTime: 2017-10-25T09:47:51Z\n"
     ]
    }
   ],
   "source": [
    "kubectl get pod $POD_NAME -o yaml"
   ]
  },
  {
   "cell_type": "markdown",
   "metadata": {},
   "source": [
    "# 4. SKIP - Inspecting our service\n",
    "\n",
    "A Service provides load balancing of traffic across the contained set of Pods. This is useful when a service is created to group all Pods from a specific Deployment (our application will make use of this in the next module, when we'll have multiple instances running).\n",
    "\n",
    "Services are also responsible for service-discovery within the cluster (covered in Accessing the Service). This will for example allow a frontend service (like a web server) to receive traffic from a backend service (like a database) without worrying about Pods.\n",
    "\n",
    "Services match a set of Pods using Label Selectors, a grouping primitive that allows logical operation on Labels.\n",
    "\n",
    "Labels are key/value pairs that are attached to objects, such as Pods and you can think of them as hashtags from social media. They are used to organize related objects in a way meaningful to the users like:\n",
    "\n",
    "Production environment (production, test, dev)\n",
    "Application version (beta, v1.3)\n",
    "Type of service/server (frontend, backend, database)\n",
    "Labels are key/value pairs that are attached to objects\n"
   ]
  },
  {
   "cell_type": "markdown",
   "metadata": {},
   "source": [
    "We have a Service called kubernetes that is created by default when minikube starts the cluster. To create a new service and expose it to external traffic we’ll use the expose command with NodePort as parameter (minikube does not support the LoadBalancer option yet)"
   ]
  },
  {
   "cell_type": "code",
   "execution_count": 256,
   "metadata": {},
   "outputs": [
    {
     "name": "stdout",
     "output_type": "stream",
     "text": [
      "NAME               CLUSTER-IP   EXTERNAL-IP   PORT(S)          AGE\n",
      "k8s-demo-service   10.0.0.110   <pending>     8080:30404/TCP   6m\n",
      "kubernetes         10.0.0.1     <none>        443/TCP          1h\n",
      "my-nginx           10.0.0.64    <nodes>       80:32468/TCP     52m\n"
     ]
    }
   ],
   "source": [
    "kubectl get svc"
   ]
  },
  {
   "cell_type": "code",
   "execution_count": 257,
   "metadata": {},
   "outputs": [
    {
     "name": "stdout",
     "output_type": "stream",
     "text": [
      "NAME       CLUSTER-IP   EXTERNAL-IP   PORT(S)        AGE\n",
      "my-nginx   10.0.0.64    <nodes>       80:32468/TCP   52m\n"
     ]
    }
   ],
   "source": [
    "kubectl get services/my-nginx"
   ]
  },
  {
   "cell_type": "markdown",
   "metadata": {},
   "source": [
    "We can ssh into our minikube node to find it's eth1 ip address.\n",
    "This is the address we will use to access our service (the address used for $DOCKER_HOST):"
   ]
  },
  {
   "cell_type": "code",
   "execution_count": 258,
   "metadata": {},
   "outputs": [
    {
     "name": "stdout",
     "output_type": "stream",
     "text": [
      "3: eth1: <BROADCAST,MULTICAST,UP,LOWER_UP> mtu 1500 qdisc pfifo_fast state UP group default qlen 1000\n",
      "    link/ether 08:00:27:b6:d2:19 brd ff:ff:ff:ff:ff:ff\n",
      "    inet 192.168.99.103/24 brd 192.168.99.255 scope global dynamic eth1\n",
      "       valid_lft 863sec preferred_lft 863sec\n",
      "    inet6 fe80::a00:27ff:feb6:d219/64 scope link \n",
      "       valid_lft forever preferred_lft forever\n"
     ]
    }
   ],
   "source": [
    "minikube ssh ip a show dev eth1"
   ]
  },
  {
   "cell_type": "code",
   "execution_count": 61,
   "metadata": {},
   "outputs": [
    {
     "name": "stdout",
     "output_type": "stream",
     "text": [
      "tcp://192.168.99.100:2376\n"
     ]
    }
   ],
   "source": [
    "echo $DOCKER_HOST"
   ]
  },
  {
   "cell_type": "code",
   "execution_count": 62,
   "metadata": {},
   "outputs": [
    {
     "name": "stdout",
     "output_type": "stream",
     "text": [
      "HOST_IP=192.168.99.100\n"
     ]
    }
   ],
   "source": [
    "HOST_IP=$(echo $DOCKER_HOST | sed -e 's/.*:\\/\\///' -e 's/:.*//')\n",
    "echo HOST_IP=$HOST_IP"
   ]
  },
  {
   "cell_type": "markdown",
   "metadata": {},
   "source": [
    "We can then use the describe service command to see which port (NodePort) is to be used:"
   ]
  },
  {
   "cell_type": "code",
   "execution_count": 63,
   "metadata": {},
   "outputs": [
    {
     "name": "stdout",
     "output_type": "stream",
     "text": [
      "Name:\t\t\tmy-nginx\n",
      "Namespace:\t\tdefault\n",
      "Labels:\t\t\trun=my-nginx\n",
      "Annotations:\t\t<none>\n",
      "Selector:\t\trun=my-nginx\n",
      "Type:\t\t\tNodePort\n",
      "IP:\t\t\t10.0.0.235\n",
      "Port:\t\t\t<unset>\t80/TCP\n",
      "NodePort:\t\t<unset>\t32701/TCP\n",
      "Endpoints:\t\t172.17.0.4:80,172.17.0.5:80\n",
      "Session Affinity:\tNone\n",
      "Events:\t\t\t<none>\n"
     ]
    }
   ],
   "source": [
    "kubectl describe svc my-nginx"
   ]
  },
  {
   "cell_type": "markdown",
   "metadata": {},
   "source": [
    "So now we know on which port of our node we can access our service:\n",
    "\n",
    "Let's access the port automatically"
   ]
  },
  {
   "cell_type": "code",
   "execution_count": 64,
   "metadata": {},
   "outputs": [
    {
     "name": "stdout",
     "output_type": "stream",
     "text": [
      "NODE_PORT=32701\n"
     ]
    }
   ],
   "source": [
    "export NODE_PORT=$(kubectl get services/my-nginx -o go-template='{{(index .spec.ports 0).nodePort}}')\n",
    "echo NODE_PORT=$NODE_PORT\n",
    "\n",
    "#export NODE_IP=$(kubectl get services/my-nginx -o go-template='{{(index .spec.clusterIP)}}')\n",
    "#echo NODE_IP=$NODE_IP"
   ]
  },
  {
   "cell_type": "code",
   "execution_count": 65,
   "metadata": {},
   "outputs": [
    {
     "name": "stdout",
     "output_type": "stream",
     "text": [
      "curl http://192.168.99.100:32701\n",
      "<!DOCTYPE html>\n",
      "<html>\n",
      "<head>\n",
      "<title>Welcome to nginx!</title>\n",
      "<style>\n",
      "    body {\n",
      "        width: 35em;\n",
      "        margin: 0 auto;\n",
      "        font-family: Tahoma, Verdana, Arial, sans-serif;\n",
      "    }\n",
      "</style>\n",
      "</head>\n",
      "<body>\n",
      "<h1>Welcome to nginx!</h1>\n",
      "<p>If you see this page, the nginx web server is successfully installed and\n",
      "working. Further configuration is required.</p>\n",
      "\n",
      "<p>For online documentation and support please refer to\n",
      "<a href=\"http://nginx.org/\">nginx.org</a>.<br/>\n",
      "Commercial support is available at\n",
      "<a href=\"http://nginx.com/\">nginx.com</a>.</p>\n",
      "\n",
      "<p><em>Thank you for using nginx.</em></p>\n",
      "</body>\n",
      "</html>\n"
     ]
    }
   ],
   "source": [
    "echo curl http://${HOST_IP}:${NODE_PORT}\n",
    "curl http://${HOST_IP}:${NODE_PORT}"
   ]
  },
  {
   "cell_type": "code",
   "execution_count": 66,
   "metadata": {},
   "outputs": [
    {
     "name": "stdout",
     "output_type": "stream",
     "text": [
      "Name:\t\t\tmy-nginx\n",
      "Namespace:\t\tdefault\n",
      "CreationTimestamp:\tSat, 13 May 2017 16:41:26 +0200\n",
      "Labels:\t\t\trun=my-nginx\n",
      "Annotations:\t\tdeployment.kubernetes.io/revision=1\n",
      "Selector:\t\trun=my-nginx\n",
      "Replicas:\t\t2 desired | 2 updated | 2 total | 2 available | 0 unavailable\n",
      "StrategyType:\t\tRollingUpdate\n",
      "MinReadySeconds:\t0\n",
      "RollingUpdateStrategy:\t1 max unavailable, 1 max surge\n",
      "Pod Template:\n",
      "  Labels:\trun=my-nginx\n",
      "  Containers:\n",
      "   my-nginx:\n",
      "    Image:\t\tnginx\n",
      "    Port:\t\t80/TCP\n",
      "    Environment:\t<none>\n",
      "    Mounts:\t\t<none>\n",
      "  Volumes:\t\t<none>\n",
      "Conditions:\n",
      "  Type\t\tStatus\tReason\n",
      "  ----\t\t------\t------\n",
      "  Available \tTrue\tMinimumReplicasAvailable\n",
      "OldReplicaSets:\t<none>\n",
      "NewReplicaSet:\tmy-nginx-858393261 (2/2 replicas created)\n",
      "Events:\n",
      "  FirstSeen\tLastSeen\tCount\tFrom\t\t\tSubObjectPath\tType\t\tReason\t\t\tMessage\n",
      "  ---------\t--------\t-----\t----\t\t\t-------------\t--------\t------\t\t\t-------\n",
      "  1m\t\t1m\t\t1\tdeployment-controller\t\t\tNormal\t\tScalingReplicaSet\tScaled up replica set my-nginx-858393261 to 2\n"
     ]
    }
   ],
   "source": [
    "kubectl describe deploy"
   ]
  },
  {
   "cell_type": "markdown",
   "metadata": {},
   "source": [
    "# 5. Accessing objects using label selectors\n",
    "\n",
    "We saw above that all my-nginx pods have the label run=my-nginx.\n",
    "\n",
    "We can use this to select only those pods:"
   ]
  },
  {
   "cell_type": "code",
   "execution_count": 259,
   "metadata": {},
   "outputs": [
    {
     "name": "stdout",
     "output_type": "stream",
     "text": [
      "NAME                        READY     STATUS    RESTARTS   AGE\n",
      "my-nginx-4293833666-35b6s   1/1       Running   0          1h\n",
      "my-nginx-4293833666-vjwfm   1/1       Running   0          1h\n"
     ]
    }
   ],
   "source": [
    "kubectl get pods -l run=my-nginx"
   ]
  },
  {
   "cell_type": "markdown",
   "metadata": {},
   "source": [
    "#### Setting labels\n",
    "\n",
    "We can also set labels on any object.\n",
    "\n",
    "Let's set a label '*app=v1*' on just one of our nginx pods:\n"
   ]
  },
  {
   "cell_type": "code",
   "execution_count": 260,
   "metadata": {},
   "outputs": [
    {
     "name": "stdout",
     "output_type": "stream",
     "text": [
      "pod \"my-nginx-4293833666-vjwfm\" labeled\n"
     ]
    }
   ],
   "source": [
    "kubectl label pod $POD_NAME app=v1"
   ]
  },
  {
   "cell_type": "markdown",
   "metadata": {},
   "source": [
    "Now running describe pod, we see both pods but only one of them has the '*app=v1*' label:"
   ]
  },
  {
   "cell_type": "code",
   "execution_count": 261,
   "metadata": {},
   "outputs": [
    {
     "name": "stdout",
     "output_type": "stream",
     "text": [
      "Name:\t\tk8s-demo-469129740-4xwv1\n",
      "Namespace:\tdefault\n",
      "Node:\t\tminikube/192.168.99.103\n",
      "Start Time:\tWed, 25 Oct 2017 12:45:44 +0200\n",
      "Labels:\t\towner=mike\n",
      "\t\tpod-template-hash=469129740\n",
      "Annotations:\tkubernetes.io/created-by={\"kind\":\"SerializedReference\",\"apiVersion\":\"v1\",\"reference\":{\"kind\":\"ReplicaSet\",\"namespace\":\"default\",\"name\":\"k8s-demo-469129740\",\"uid\":\"a6bf836e-b971-11e7-bca7-080027969089\"...\n",
      "Status:\t\tRunning\n",
      "IP:\t\t172.17.0.6\n",
      "Controllers:\tReplicaSet/k8s-demo-469129740\n",
      "Containers:\n",
      "  k8s-demo:\n",
      "    Container ID:\tdocker://9c91c1f197cb346f63e4021899e9800cbbba3d5d55e1b66627a3141c87192817\n",
      "    Image:\t\tmjbright/k8s-demo:2\n",
      "    Image ID:\t\tdocker-pullable://mjbright/k8s-demo@sha256:71407e7912cc6cd02b2732e8e5586d78488776824dbbb68afe16f891f79a91ca\n",
      "    Port:\t\t8080/TCP\n",
      "    State:\t\tRunning\n",
      "      Started:\t\tWed, 25 Oct 2017 12:45:45 +0200\n",
      "    Ready:\t\tTrue\n",
      "    Restart Count:\t0\n",
      "    Environment:\t<none>\n",
      "    Mounts:\n",
      "      /var/run/secrets/kubernetes.io/serviceaccount from default-token-lrngt (ro)\n",
      "Conditions:\n",
      "  Type\t\tStatus\n",
      "  Initialized \tTrue \n",
      "  Ready \tTrue \n",
      "  PodScheduled \tTrue \n",
      "Volumes:\n",
      "  default-token-lrngt:\n",
      "    Type:\tSecret (a volume populated by a Secret)\n",
      "    SecretName:\tdefault-token-lrngt\n",
      "    Optional:\tfalse\n",
      "QoS Class:\tBestEffort\n",
      "Node-Selectors:\t<none>\n",
      "Tolerations:\t<none>\n",
      "Events:\n",
      "  FirstSeen\tLastSeen\tCount\tFrom\t\t\tSubObjectPath\t\t\tType\t\tReason\t\t\tMessage\n",
      "  ---------\t--------\t-----\t----\t\t\t-------------\t\t\t--------\t------\t\t\t-------\n",
      "  6m\t\t6m\t\t1\tdefault-scheduler\t\t\t\t\tNormal\t\tScheduled\t\tSuccessfully assigned k8s-demo-469129740-4xwv1 to minikube\n",
      "  6m\t\t6m\t\t1\tkubelet, minikube\t\t\t\t\tNormal\t\tSuccessfulMountVolume\tMountVolume.SetUp succeeded for volume \"default-token-lrngt\" \n",
      "  6m\t\t6m\t\t1\tkubelet, minikube\tspec.containers{k8s-demo}\tNormal\t\tPulled\t\t\tContainer image \"mjbright/k8s-demo:2\" already present on machine\n",
      "  6m\t\t6m\t\t1\tkubelet, minikube\tspec.containers{k8s-demo}\tNormal\t\tCreated\t\t\tCreated container\n",
      "  6m\t\t6m\t\t1\tkubelet, minikube\tspec.containers{k8s-demo}\tNormal\t\tStarted\t\t\tStarted container\n",
      "\n",
      "\n",
      "Name:\t\tk8s-demo-469129740-lbg6h\n",
      "Namespace:\tdefault\n",
      "Node:\t\tminikube/192.168.99.103\n",
      "Start Time:\tWed, 25 Oct 2017 12:45:43 +0200\n",
      "Labels:\t\towner=mike\n",
      "\t\tpod-template-hash=469129740\n",
      "Annotations:\tkubernetes.io/created-by={\"kind\":\"SerializedReference\",\"apiVersion\":\"v1\",\"reference\":{\"kind\":\"ReplicaSet\",\"namespace\":\"default\",\"name\":\"k8s-demo-469129740\",\"uid\":\"a6bf836e-b971-11e7-bca7-080027969089\"...\n",
      "Status:\t\tRunning\n",
      "IP:\t\t172.17.0.9\n",
      "Controllers:\tReplicaSet/k8s-demo-469129740\n",
      "Containers:\n",
      "  k8s-demo:\n",
      "    Container ID:\tdocker://6e4fb4889af1065853b041ade639387a115d3d9e82913b7763579ccc53dc2429\n",
      "    Image:\t\tmjbright/k8s-demo:2\n",
      "    Image ID:\t\tdocker-pullable://mjbright/k8s-demo@sha256:71407e7912cc6cd02b2732e8e5586d78488776824dbbb68afe16f891f79a91ca\n",
      "    Port:\t\t8080/TCP\n",
      "    State:\t\tRunning\n",
      "      Started:\t\tWed, 25 Oct 2017 12:45:44 +0200\n",
      "    Ready:\t\tTrue\n",
      "    Restart Count:\t0\n",
      "    Environment:\t<none>\n",
      "    Mounts:\n",
      "      /var/run/secrets/kubernetes.io/serviceaccount from default-token-lrngt (ro)\n",
      "Conditions:\n",
      "  Type\t\tStatus\n",
      "  Initialized \tTrue \n",
      "  Ready \tTrue \n",
      "  PodScheduled \tTrue \n",
      "Volumes:\n",
      "  default-token-lrngt:\n",
      "    Type:\tSecret (a volume populated by a Secret)\n",
      "    SecretName:\tdefault-token-lrngt\n",
      "    Optional:\tfalse\n",
      "QoS Class:\tBestEffort\n",
      "Node-Selectors:\t<none>\n",
      "Tolerations:\t<none>\n",
      "Events:\n",
      "  FirstSeen\tLastSeen\tCount\tFrom\t\t\tSubObjectPath\t\t\tType\t\tReason\t\t\tMessage\n",
      "  ---------\t--------\t-----\t----\t\t\t-------------\t\t\t--------\t------\t\t\t-------\n",
      "  6m\t\t6m\t\t1\tdefault-scheduler\t\t\t\t\tNormal\t\tScheduled\t\tSuccessfully assigned k8s-demo-469129740-lbg6h to minikube\n",
      "  6m\t\t6m\t\t1\tkubelet, minikube\t\t\t\t\tNormal\t\tSuccessfulMountVolume\tMountVolume.SetUp succeeded for volume \"default-token-lrngt\" \n",
      "  6m\t\t6m\t\t1\tkubelet, minikube\tspec.containers{k8s-demo}\tNormal\t\tPulled\t\t\tContainer image \"mjbright/k8s-demo:2\" already present on machine\n",
      "  6m\t\t6m\t\t1\tkubelet, minikube\tspec.containers{k8s-demo}\tNormal\t\tCreated\t\t\tCreated container\n",
      "  6m\t\t6m\t\t1\tkubelet, minikube\tspec.containers{k8s-demo}\tNormal\t\tStarted\t\t\tStarted container\n",
      "\n",
      "\n",
      "Name:\t\tk8s-demo-469129740-xfslt\n",
      "Namespace:\tdefault\n",
      "Node:\t\tminikube/192.168.99.103\n",
      "Start Time:\tWed, 25 Oct 2017 12:45:43 +0200\n",
      "Labels:\t\towner=mike\n",
      "\t\tpod-template-hash=469129740\n",
      "Annotations:\tkubernetes.io/created-by={\"kind\":\"SerializedReference\",\"apiVersion\":\"v1\",\"reference\":{\"kind\":\"ReplicaSet\",\"namespace\":\"default\",\"name\":\"k8s-demo-469129740\",\"uid\":\"a6bf836e-b971-11e7-bca7-080027969089\"...\n",
      "Status:\t\tRunning\n",
      "IP:\t\t172.17.0.7\n",
      "Controllers:\tReplicaSet/k8s-demo-469129740\n",
      "Containers:\n",
      "  k8s-demo:\n",
      "    Container ID:\tdocker://084bf9370998d814012046c23c818d79e2a30a7ecf9b7155df493cfbcc26c459\n",
      "    Image:\t\tmjbright/k8s-demo:2\n",
      "    Image ID:\t\tdocker-pullable://mjbright/k8s-demo@sha256:71407e7912cc6cd02b2732e8e5586d78488776824dbbb68afe16f891f79a91ca\n",
      "    Port:\t\t8080/TCP\n",
      "    State:\t\tRunning\n",
      "      Started:\t\tWed, 25 Oct 2017 12:45:44 +0200\n",
      "    Ready:\t\tTrue\n",
      "    Restart Count:\t0\n",
      "    Environment:\t<none>\n",
      "    Mounts:\n",
      "      /var/run/secrets/kubernetes.io/serviceaccount from default-token-lrngt (ro)\n",
      "Conditions:\n",
      "  Type\t\tStatus\n",
      "  Initialized \tTrue \n",
      "  Ready \tTrue \n",
      "  PodScheduled \tTrue \n",
      "Volumes:\n",
      "  default-token-lrngt:\n",
      "    Type:\tSecret (a volume populated by a Secret)\n",
      "    SecretName:\tdefault-token-lrngt\n",
      "    Optional:\tfalse\n",
      "QoS Class:\tBestEffort\n",
      "Node-Selectors:\t<none>\n",
      "Tolerations:\t<none>\n",
      "Events:\n",
      "  FirstSeen\tLastSeen\tCount\tFrom\t\t\tSubObjectPath\t\t\tType\t\tReason\t\t\tMessage\n",
      "  ---------\t--------\t-----\t----\t\t\t-------------\t\t\t--------\t------\t\t\t-------\n",
      "  6m\t\t6m\t\t1\tdefault-scheduler\t\t\t\t\tNormal\t\tScheduled\t\tSuccessfully assigned k8s-demo-469129740-xfslt to minikube\n",
      "  6m\t\t6m\t\t1\tkubelet, minikube\t\t\t\t\tNormal\t\tSuccessfulMountVolume\tMountVolume.SetUp succeeded for volume \"default-token-lrngt\" \n",
      "  6m\t\t6m\t\t1\tkubelet, minikube\tspec.containers{k8s-demo}\tNormal\t\tPulled\t\t\tContainer image \"mjbright/k8s-demo:2\" already present on machine\n",
      "  6m\t\t6m\t\t1\tkubelet, minikube\tspec.containers{k8s-demo}\tNormal\t\tCreated\t\t\tCreated container\n",
      "  6m\t\t6m\t\t1\tkubelet, minikube\tspec.containers{k8s-demo}\tNormal\t\tStarted\t\t\tStarted container\n",
      "\n",
      "\n",
      "Name:\t\tmy-nginx-4293833666-35b6s\n",
      "Namespace:\tdefault\n",
      "Node:\t\tminikube/192.168.99.103\n",
      "Start Time:\tWed, 25 Oct 2017 11:47:51 +0200\n",
      "Labels:\t\tpod-template-hash=4293833666\n",
      "\t\trun=my-nginx\n",
      "Annotations:\tkubernetes.io/created-by={\"kind\":\"SerializedReference\",\"apiVersion\":\"v1\",\"reference\":{\"kind\":\"ReplicaSet\",\"namespace\":\"default\",\"name\":\"my-nginx-4293833666\",\"uid\":\"90e1a4dd-b969-11e7-bca7-080027969089...\n",
      "Status:\t\tRunning\n",
      "IP:\t\t172.17.0.4\n",
      "Controllers:\tReplicaSet/my-nginx-4293833666\n",
      "Containers:\n",
      "  my-nginx:\n",
      "    Container ID:\tdocker://c040d8570e6ee05c9a500f653e8fdf077ecf6de4337965279bf133705c3fa773\n",
      "    Image:\t\tnginx\n",
      "    Image ID:\t\tdocker-pullable://nginx@sha256:004ac1d5e791e705f12a17c80d7bb1e8f7f01aa7dca7deee6e65a03465392072\n",
      "    Port:\t\t80/TCP\n",
      "    State:\t\tRunning\n",
      "      Started:\t\tWed, 25 Oct 2017 11:49:45 +0200\n",
      "    Ready:\t\tTrue\n",
      "    Restart Count:\t0\n",
      "    Environment:\t<none>\n",
      "    Mounts:\n",
      "      /var/run/secrets/kubernetes.io/serviceaccount from default-token-lrngt (ro)\n",
      "Conditions:\n",
      "  Type\t\tStatus\n",
      "  Initialized \tTrue \n",
      "  Ready \tTrue \n",
      "  PodScheduled \tTrue \n",
      "Volumes:\n",
      "  default-token-lrngt:\n",
      "    Type:\tSecret (a volume populated by a Secret)\n",
      "    SecretName:\tdefault-token-lrngt\n",
      "    Optional:\tfalse\n",
      "QoS Class:\tBestEffort\n",
      "Node-Selectors:\t<none>\n",
      "Tolerations:\t<none>\n",
      "Events:\t\t<none>\n",
      "\n",
      "\n",
      "Name:\t\tmy-nginx-4293833666-vjwfm\n",
      "Namespace:\tdefault\n",
      "Node:\t\tminikube/192.168.99.103\n",
      "Start Time:\tWed, 25 Oct 2017 11:47:51 +0200\n",
      "Labels:\t\tapp=v1\n",
      "\t\tpod-template-hash=4293833666\n",
      "\t\trun=my-nginx\n",
      "Annotations:\tkubernetes.io/created-by={\"kind\":\"SerializedReference\",\"apiVersion\":\"v1\",\"reference\":{\"kind\":\"ReplicaSet\",\"namespace\":\"default\",\"name\":\"my-nginx-4293833666\",\"uid\":\"90e1a4dd-b969-11e7-bca7-080027969089...\n",
      "Status:\t\tRunning\n",
      "IP:\t\t172.17.0.5\n",
      "Controllers:\tReplicaSet/my-nginx-4293833666\n",
      "Containers:\n",
      "  my-nginx:\n",
      "    Container ID:\tdocker://eba9986e2dc37161e85b486b9797e80875cf919824d3cd14a01a93c9705ab863\n",
      "    Image:\t\tnginx\n",
      "    Image ID:\t\tdocker-pullable://nginx@sha256:004ac1d5e791e705f12a17c80d7bb1e8f7f01aa7dca7deee6e65a03465392072\n",
      "    Port:\t\t80/TCP\n",
      "    State:\t\tRunning\n",
      "      Started:\t\tWed, 25 Oct 2017 11:49:41 +0200\n",
      "    Ready:\t\tTrue\n",
      "    Restart Count:\t0\n",
      "    Environment:\t<none>\n",
      "    Mounts:\n",
      "      /var/run/secrets/kubernetes.io/serviceaccount from default-token-lrngt (ro)\n"
     ]
    },
    {
     "name": "stdout",
     "output_type": "stream",
     "text": [
      "Conditions:\n",
      "  Type\t\tStatus\n",
      "  Initialized \tTrue \n",
      "  Ready \tTrue \n",
      "  PodScheduled \tTrue \n",
      "Volumes:\n",
      "  default-token-lrngt:\n",
      "    Type:\tSecret (a volume populated by a Secret)\n",
      "    SecretName:\tdefault-token-lrngt\n",
      "    Optional:\tfalse\n",
      "QoS Class:\tBestEffort\n",
      "Node-Selectors:\t<none>\n",
      "Tolerations:\t<none>\n",
      "Events:\t\t<none>\n"
     ]
    }
   ],
   "source": [
    "kubectl describe pod"
   ]
  },
  {
   "cell_type": "markdown",
   "metadata": {},
   "source": [
    "Now we can select just pods with '*app=v1*':"
   ]
  },
  {
   "cell_type": "code",
   "execution_count": 263,
   "metadata": {},
   "outputs": [
    {
     "name": "stdout",
     "output_type": "stream",
     "text": [
      "NAME                        READY     STATUS    RESTARTS   AGE\n",
      "my-nginx-4293833666-vjwfm   1/1       Running   0          1h\n"
     ]
    }
   ],
   "source": [
    "kubectl get pod -l app=v1"
   ]
  },
  {
   "cell_type": "markdown",
   "metadata": {},
   "source": [
    "### We will now delete the my-nginx service, we will re-create in the next chapter"
   ]
  },
  {
   "cell_type": "code",
   "execution_count": 272,
   "metadata": {
    "collapsed": true
   },
   "outputs": [],
   "source": [
    "kubectl delete service -l run=my-nginx"
   ]
  },
  {
   "cell_type": "code",
   "execution_count": 273,
   "metadata": {},
   "outputs": [
    {
     "name": "stdout",
     "output_type": "stream",
     "text": [
      "NAME               CLUSTER-IP   EXTERNAL-IP   PORT(S)          AGE\n",
      "k8s-demo-service   10.0.0.110   <pending>     8080:30404/TCP   10m\n",
      "kubernetes         10.0.0.1     <none>        443/TCP          1h\n"
     ]
    }
   ],
   "source": [
    "kubectl get service"
   ]
  },
  {
   "cell_type": "markdown",
   "metadata": {},
   "source": [
    "# 4. Scaling an app"
   ]
  },
  {
   "cell_type": "code",
   "execution_count": 274,
   "metadata": {},
   "outputs": [
    {
     "name": "stdout",
     "output_type": "stream",
     "text": [
      "deployment \"my-nginx\" scaled\n"
     ]
    }
   ],
   "source": [
    "kubectl scale deployments/my-nginx --replicas=4"
   ]
  },
  {
   "cell_type": "code",
   "execution_count": 275,
   "metadata": {},
   "outputs": [
    {
     "name": "stdout",
     "output_type": "stream",
     "text": [
      "NAME       DESIRED   CURRENT   UP-TO-DATE   AVAILABLE   AGE\n",
      "k8s-demo   3         3         3            3           11m\n",
      "my-nginx   4         4         4            4           1h\n"
     ]
    }
   ],
   "source": [
    "kubectl get deploy"
   ]
  },
  {
   "cell_type": "code",
   "execution_count": 276,
   "metadata": {},
   "outputs": [
    {
     "name": "stdout",
     "output_type": "stream",
     "text": [
      "NAME       DESIRED   CURRENT   UP-TO-DATE   AVAILABLE   AGE\n",
      "k8s-demo   3         3         3            3           11m\n",
      "my-nginx   4         4         4            4           1h\n"
     ]
    }
   ],
   "source": [
    "kubectl get deploy"
   ]
  },
  {
   "cell_type": "code",
   "execution_count": 277,
   "metadata": {},
   "outputs": [
    {
     "name": "stdout",
     "output_type": "stream",
     "text": [
      "NAME                        READY     STATUS    RESTARTS   AGE       IP            NODE\n",
      "k8s-demo-469129740-4xwv1    1/1       Running   0          8m        172.17.0.6    minikube\n",
      "k8s-demo-469129740-lbg6h    1/1       Running   0          8m        172.17.0.9    minikube\n",
      "k8s-demo-469129740-xfslt    1/1       Running   0          8m        172.17.0.7    minikube\n",
      "my-nginx-4293833666-35b6s   1/1       Running   0          1h        172.17.0.4    minikube\n",
      "my-nginx-4293833666-5xbhk   1/1       Running   0          1m        172.17.0.10   minikube\n",
      "my-nginx-4293833666-pxvj5   1/1       Running   0          1m        172.17.0.8    minikube\n",
      "my-nginx-4293833666-vjwfm   1/1       Running   0          1h        172.17.0.5    minikube\n"
     ]
    }
   ],
   "source": [
    "kubectl get pods -o wide"
   ]
  },
  {
   "cell_type": "code",
   "execution_count": 278,
   "metadata": {},
   "outputs": [
    {
     "name": "stdout",
     "output_type": "stream",
     "text": [
      "Name:\t\t\tmy-nginx\n",
      "Namespace:\t\tdefault\n",
      "CreationTimestamp:\tWed, 25 Oct 2017 11:47:51 +0200\n",
      "Labels:\t\t\trun=my-nginx\n",
      "Annotations:\t\tdeployment.kubernetes.io/revision=1\n",
      "Selector:\t\trun=my-nginx\n",
      "Replicas:\t\t4 desired | 4 updated | 4 total | 4 available | 0 unavailable\n",
      "StrategyType:\t\tRollingUpdate\n",
      "MinReadySeconds:\t0\n",
      "RollingUpdateStrategy:\t1 max unavailable, 1 max surge\n",
      "Pod Template:\n",
      "  Labels:\trun=my-nginx\n",
      "  Containers:\n",
      "   my-nginx:\n",
      "    Image:\t\tnginx\n",
      "    Port:\t\t80/TCP\n",
      "    Environment:\t<none>\n",
      "    Mounts:\t\t<none>\n",
      "  Volumes:\t\t<none>\n",
      "Conditions:\n",
      "  Type\t\tStatus\tReason\n",
      "  ----\t\t------\t------\n",
      "  Available \tTrue\tMinimumReplicasAvailable\n",
      "OldReplicaSets:\t<none>\n",
      "NewReplicaSet:\tmy-nginx-4293833666 (4/4 replicas created)\n",
      "Events:\n",
      "  FirstSeen\tLastSeen\tCount\tFrom\t\t\tSubObjectPath\tType\t\tReason\t\t\tMessage\n",
      "  ---------\t--------\t-----\t----\t\t\t-------------\t--------\t------\t\t\t-------\n",
      "  1m\t\t1m\t\t1\tdeployment-controller\t\t\tNormal\t\tScalingReplicaSet\tScaled up replica set my-nginx-4293833666 to 4\n"
     ]
    }
   ],
   "source": [
    "kubectl describe deploy/my-nginx"
   ]
  },
  {
   "cell_type": "code",
   "execution_count": 282,
   "metadata": {},
   "outputs": [
    {
     "name": "stdout",
     "output_type": "stream",
     "text": [
      "Name:\t\t\tmy-nginx\n",
      "Namespace:\t\tdefault\n",
      "Labels:\t\t\trun=my-nginx\n",
      "Annotations:\t\t<none>\n",
      "Selector:\t\trun=my-nginx\n",
      "Type:\t\t\tNodePort\n",
      "IP:\t\t\t10.0.0.15\n",
      "Port:\t\t\t<unset>\t80/TCP\n",
      "NodePort:\t\t<unset>\t30762/TCP\n",
      "Endpoints:\t\t172.17.0.10:80,172.17.0.4:80,172.17.0.5:80 + 1 more...\n",
      "Session Affinity:\tNone\n",
      "Events:\t\t\t<none>\n"
     ]
    }
   ],
   "source": [
    "kubectl describe services/my-nginx;\n",
    "\n",
    "NB_continue"
   ]
  },
  {
   "cell_type": "code",
   "execution_count": 280,
   "metadata": {},
   "outputs": [
    {
     "name": "stdout",
     "output_type": "stream",
     "text": [
      "service \"my-nginx\" exposed\n"
     ]
    }
   ],
   "source": [
    "kubectl expose deployment my-nginx --type=NodePort"
   ]
  },
  {
   "cell_type": "code",
   "execution_count": 281,
   "metadata": {},
   "outputs": [
    {
     "name": "stdout",
     "output_type": "stream",
     "text": [
      "Name:\t\t\tmy-nginx\n",
      "Namespace:\t\tdefault\n",
      "Labels:\t\t\trun=my-nginx\n",
      "Annotations:\t\t<none>\n",
      "Selector:\t\trun=my-nginx\n",
      "Type:\t\t\tNodePort\n",
      "IP:\t\t\t10.0.0.15\n",
      "Port:\t\t\t<unset>\t80/TCP\n",
      "NodePort:\t\t<unset>\t30762/TCP\n",
      "Endpoints:\t\t172.17.0.10:80,172.17.0.4:80,172.17.0.5:80 + 1 more...\n",
      "Session Affinity:\tNone\n",
      "Events:\t\t\t<none>\n"
     ]
    }
   ],
   "source": [
    "kubectl describe services/my-nginx"
   ]
  },
  {
   "cell_type": "code",
   "execution_count": 285,
   "metadata": {},
   "outputs": [
    {
     "name": "stdout",
     "output_type": "stream",
     "text": [
      "NODE_PORT=30762\n"
     ]
    }
   ],
   "source": [
    "export NODE_PORT=$(kubectl get services/my-nginx -o go-template='{{(index .spec.ports 0).nodePort}}')\n",
    "echo NODE_PORT=$NODE_PORT\n",
    "\n",
    "HOST_IP=$(echo $DOCKER_HOST | sed -e 's/.*:\\/\\///' -e 's/:.*//')"
   ]
  },
  {
   "cell_type": "code",
   "execution_count": 286,
   "metadata": {},
   "outputs": [
    {
     "name": "stdout",
     "output_type": "stream",
     "text": [
      "<!DOCTYPE html>\n",
      "<html>\n",
      "<head>\n",
      "<title>Welcome to nginx!</title>\n",
      "<style>\n",
      "    body {\n",
      "        width: 35em;\n",
      "        margin: 0 auto;\n",
      "        font-family: Tahoma, Verdana, Arial, sans-serif;\n",
      "    }\n",
      "</style>\n",
      "</head>\n",
      "<body>\n",
      "<h1>Welcome to nginx!</h1>\n",
      "<p>If you see this page, the nginx web server is successfully installed and\n",
      "working. Further configuration is required.</p>\n",
      "\n",
      "<p>For online documentation and support please refer to\n",
      "<a href=\"http://nginx.org/\">nginx.org</a>.<br/>\n",
      "Commercial support is available at\n",
      "<a href=\"http://nginx.com/\">nginx.com</a>.</p>\n",
      "\n",
      "<p><em>Thank you for using nginx.</em></p>\n",
      "</body>\n",
      "</html>\n"
     ]
    }
   ],
   "source": [
    "curl $HOST_IP:$NODE_PORT"
   ]
  },
  {
   "cell_type": "code",
   "execution_count": 287,
   "metadata": {},
   "outputs": [
    {
     "name": "stdout",
     "output_type": "stream",
     "text": [
      "deployment \"my-nginx\" scaled\n"
     ]
    }
   ],
   "source": [
    "kubectl scale deployments/my-nginx --replicas=2"
   ]
  },
  {
   "cell_type": "code",
   "execution_count": 288,
   "metadata": {},
   "outputs": [
    {
     "name": "stdout",
     "output_type": "stream",
     "text": [
      "NAME                        READY     STATUS        RESTARTS   AGE       IP           NODE\n",
      "k8s-demo-469129740-4xwv1    1/1       Running       0          9m        172.17.0.6   minikube\n",
      "k8s-demo-469129740-lbg6h    1/1       Running       0          9m        172.17.0.9   minikube\n",
      "k8s-demo-469129740-xfslt    1/1       Running       0          9m        172.17.0.7   minikube\n",
      "my-nginx-4293833666-35b6s   1/1       Running       0          1h        172.17.0.4   minikube\n",
      "my-nginx-4293833666-5xbhk   0/1       Terminating   0          2m        <none>       minikube\n",
      "my-nginx-4293833666-pxvj5   0/1       Terminating   0          2m        <none>       minikube\n",
      "my-nginx-4293833666-vjwfm   1/1       Running       0          1h        172.17.0.5   minikube\n"
     ]
    }
   ],
   "source": [
    "kubectl get pods -o wide"
   ]
  },
  {
   "cell_type": "code",
   "execution_count": 289,
   "metadata": {},
   "outputs": [
    {
     "name": "stdout",
     "output_type": "stream",
     "text": [
      "NAME                        READY     STATUS    RESTARTS   AGE       IP           NODE\n",
      "k8s-demo-469129740-4xwv1    1/1       Running   0          9m        172.17.0.6   minikube\n",
      "k8s-demo-469129740-lbg6h    1/1       Running   0          9m        172.17.0.9   minikube\n",
      "k8s-demo-469129740-xfslt    1/1       Running   0          9m        172.17.0.7   minikube\n",
      "my-nginx-4293833666-35b6s   1/1       Running   0          1h        172.17.0.4   minikube\n",
      "my-nginx-4293833666-vjwfm   1/1       Running   0          1h        172.17.0.5   minikube\n"
     ]
    }
   ],
   "source": [
    "sleep 10; kubectl get pods -o wide"
   ]
  },
  {
   "cell_type": "code",
   "execution_count": 290,
   "metadata": {},
   "outputs": [
    {
     "name": "stdout",
     "output_type": "stream",
     "text": [
      "NAME       DESIRED   CURRENT   UP-TO-DATE   AVAILABLE   AGE\n",
      "k8s-demo   3         3         3            3           13m\n",
      "my-nginx   2         2         2            2           1h\n"
     ]
    }
   ],
   "source": [
    "kubectl get deploy"
   ]
  },
  {
   "cell_type": "markdown",
   "metadata": {},
   "source": [
    "# 5. Performing a Rolling Update\n",
    "\n",
    "Updating an application\n",
    "Users expect applications to be available all the time and developers are expected to deploy new versions of them several times a day. In Kubernetes this is done with rolling updates. Rolling updates allow Deployments' update to take place with zero downtime by incrementally updating Pods instances with new ones. The new Pods will be scheduled on Nodes with available resources.\n",
    "\n",
    "In the previous module we scaled our application to run multiple instances. This is a requirement for performing updates without affecting application availability. By default, the maximum number of Pods that can be unavailable during the update and the maximum number of new Pods that can be created, is one. Both options can be configured to either numbers or percentages (of Pods). In Kubernetes, updates are versioned and any Deployment update can be reverted to previous (stable) version.\n",
    "\n",
    "Similar to application Scaling, If a Deployment is exposed publicly, the Service will load-balance the traffic only to available Pods during the update. An available Pod is an instance that is available to the users of the application.\n",
    "\n",
    "Rolling updates allow the following actions:\n",
    "\n",
    "- Promote an application from one environment to another (via container image updates)\n",
    "- Rollback to previous versions\n",
    "- Continuous Integration and Continuous Delivery of applications with zero downtime\n"
   ]
  },
  {
   "cell_type": "code",
   "execution_count": 291,
   "metadata": {},
   "outputs": [
    {
     "name": "stdout",
     "output_type": "stream",
     "text": [
      "deployment \"kubernetes-demo\" created\n",
      "\n",
      "NAME              DESIRED   CURRENT   UP-TO-DATE   AVAILABLE   AGE\n",
      "k8s-demo          3         3         3            3           15m\n",
      "kubernetes-demo   1         1         1            0           0s\n",
      "my-nginx          2         2         2            2           1h\n"
     ]
    }
   ],
   "source": [
    "kubectl run kubernetes-demo --image=docker.io/mjbright/k8s-demo:1 --port=8080\n",
    "\n",
    "echo;\n",
    "kubectl get deployments"
   ]
  },
  {
   "cell_type": "markdown",
   "metadata": {},
   "source": [
    "Wait until the pod is deployed - may need to download the *kubernetes-demo* image:"
   ]
  },
  {
   "cell_type": "code",
   "execution_count": 292,
   "metadata": {},
   "outputs": [
    {
     "name": "stdout",
     "output_type": "stream",
     "text": [
      "NAME                              READY     STATUS    RESTARTS   AGE\n",
      "k8s-demo-469129740-4xwv1          1/1       Running   0          11m\n",
      "k8s-demo-469129740-lbg6h          1/1       Running   0          11m\n",
      "k8s-demo-469129740-xfslt          1/1       Running   0          11m\n",
      "kubernetes-demo-989131256-wm93j   1/1       Running   0          8s\n",
      "my-nginx-4293833666-35b6s         1/1       Running   0          1h\n",
      "my-nginx-4293833666-vjwfm         1/1       Running   0          1h\n"
     ]
    }
   ],
   "source": [
    "kubectl get pods"
   ]
  },
  {
   "cell_type": "code",
   "execution_count": 293,
   "metadata": {},
   "outputs": [
    {
     "name": "stdout",
     "output_type": "stream",
     "text": [
      "NAME                              READY     \u001b[31mSTATUS\u001b[0m    RESTARTS   AGE\n",
      "k8s-demo-469129740-4xwv1          1/1       Running   0          12m\n",
      "k8s-demo-469129740-lbg6h          1/1       Running   0          12m\n",
      "k8s-demo-469129740-xfslt          1/1       Running   0          12m\n",
      "kubernetes-demo-989131256-wm93j   1/1       Running   0          13s\n",
      "my-nginx-4293833666-35b6s         1/1       Running   0          1h\n",
      "my-nginx-4293833666-vjwfm         1/1       Running   0          1h\n"
     ]
    }
   ],
   "source": [
    "NB_kube_loop_while_pods_creating"
   ]
  },
  {
   "cell_type": "code",
   "execution_count": 294,
   "metadata": {},
   "outputs": [
    {
     "name": "stdout",
     "output_type": "stream",
     "text": [
      "NAME                              READY     STATUS    RESTARTS   AGE\n",
      "k8s-demo-469129740-4xwv1          1/1       Running   0          12m\n",
      "k8s-demo-469129740-lbg6h          1/1       Running   0          12m\n",
      "k8s-demo-469129740-xfslt          1/1       Running   0          12m\n",
      "kubernetes-demo-989131256-wm93j   1/1       Running   0          16s\n",
      "my-nginx-4293833666-35b6s         1/1       Running   0          1h\n",
      "my-nginx-4293833666-vjwfm         1/1       Running   0          1h\n"
     ]
    }
   ],
   "source": [
    "kubectl get pods"
   ]
  },
  {
   "cell_type": "markdown",
   "metadata": {},
   "source": [
    "Now we can expose our deployment as a service"
   ]
  },
  {
   "cell_type": "code",
   "execution_count": 295,
   "metadata": {},
   "outputs": [
    {
     "name": "stdout",
     "output_type": "stream",
     "text": [
      "service \"kubernetes-demo\" exposed\n"
     ]
    }
   ],
   "source": [
    "kubectl expose deployment kubernetes-demo --type=NodePort --port=8080"
   ]
  },
  {
   "cell_type": "code",
   "execution_count": 296,
   "metadata": {},
   "outputs": [
    {
     "name": "stdout",
     "output_type": "stream",
     "text": [
      "Name:\t\t\tkubernetes-demo\n",
      "Namespace:\t\tdefault\n",
      "Labels:\t\t\trun=kubernetes-demo\n",
      "Annotations:\t\t<none>\n",
      "Selector:\t\trun=kubernetes-demo\n",
      "Type:\t\t\tNodePort\n",
      "IP:\t\t\t10.0.0.164\n",
      "Port:\t\t\t<unset>\t8080/TCP\n",
      "NodePort:\t\t<unset>\t32563/TCP\n",
      "Endpoints:\t\t172.17.0.8:8080\n",
      "Session Affinity:\tNone\n",
      "Events:\t\t\t<none>\n"
     ]
    }
   ],
   "source": [
    "kubectl describe services/kubernetes-demo"
   ]
  },
  {
   "cell_type": "markdown",
   "metadata": {},
   "source": [
    "Let's obtain the NODE_PORT so we can access the new '*docker-demo*' service:"
   ]
  },
  {
   "cell_type": "code",
   "execution_count": 297,
   "metadata": {},
   "outputs": [
    {
     "name": "stdout",
     "output_type": "stream",
     "text": [
      "32563"
     ]
    }
   ],
   "source": [
    "kubectl get services/kubernetes-demo -o go-template='{{(index .spec.ports 0).nodePort}}'\n",
    "\n",
    "#NB_pause"
   ]
  },
  {
   "cell_type": "code",
   "execution_count": 298,
   "metadata": {},
   "outputs": [
    {
     "name": "stdout",
     "output_type": "stream",
     "text": [
      "Looping until deploy kubernetes-demo becomes available ...\n",
      "kubectl get deploy kubernetes-demo\n",
      "NAME              DESIRED   CURRENT   UP-TO-DATE   \u001b[31mAVAILABLE\u001b[0m   AGE\n",
      "kubernetes-demo   1         1         1            1           36s\n",
      "Took 0 secs\n"
     ]
    }
   ],
   "source": [
    "NB_kube_loop_until_available deploy kubernetes-demo"
   ]
  },
  {
   "cell_type": "code",
   "execution_count": 299,
   "metadata": {},
   "outputs": [
    {
     "name": "stdout",
     "output_type": "stream",
     "text": [
      "Looping until services kubernetes-demo becomes available ...\n",
      "kubectl get services kubernetes-demo\n",
      "NAME              CLUSTER-IP   EXTERNAL-IP   PORT(S)          AGE\n",
      "kubernetes-demo   10.0.0.164   <nodes>       8080:32563/TCP   16s\n",
      "Took 0 secs\n"
     ]
    }
   ],
   "source": [
    "NB_kube_loop_until_available services kubernetes-demo"
   ]
  },
  {
   "cell_type": "code",
   "execution_count": 300,
   "metadata": {},
   "outputs": [
    {
     "name": "stdout",
     "output_type": "stream",
     "text": [
      "NODE_PORT=32563\n",
      "HOST_IP=192.168.99.103\n"
     ]
    }
   ],
   "source": [
    "export NODE_PORT=$(kubectl get services/kubernetes-demo -o go-template='{{(index .spec.ports 0).nodePort}}')\n",
    "echo NODE_PORT=$NODE_PORT\n",
    "\n",
    "HOST_IP=$(echo $DOCKER_HOST | sed -e 's/.*:\\/\\///' -e 's/:.*//')\n",
    "echo HOST_IP=$HOST_IP"
   ]
  },
  {
   "cell_type": "code",
   "execution_count": 302,
   "metadata": {},
   "outputs": [
    {
     "name": "stdout",
     "output_type": "stream",
     "text": [
      "curl http://192.168.99.103:32563\n",
      "\u001b[1;36m\n",
      "                ./shhs:`                \n",
      "            .+ymmdyosydNms/`            \n",
      "        -+yNmhs+++++++++oydNmy/.        \n",
      "    .+hNmhs++++++++yy+++++++oydNmy+.    \n",
      "   +Mds++++++++++++md++++++++++++smM/   \n",
      "  `MN++++++++++oshhNNhys+++++++++++Nm   \n",
      "  oMy++++mmsohNMNddMMhdNMmy+ymm++++yM/  \n",
      "  NN++++++omMMmo++sMM+++sNMMdo++++++Nd  \n",
      " /Mh++++++yMNdMNhsyMMssdMMdNMs++++++hM- \n",
      " mMo++++++NMo+ohMMMNNMMNh++sMm++++++oMy \n",
      ":Md++++++oMNosydNMm++NMNhysoMM+++++++hM.\n",
      "hMo+++shhdMMNNmddMMNNMNddmNMMMdhyo+++oMs\n",
      "mMo+++syo+sMmo++sMMhdMNo++oNMy+oss+++oMh\n",
      "-mMy+++++++sNNysMMy++hMNohMNs+++++++yNh`\n",
      "  oMmo+++++++ymMMmhyyhNMMmy+++++++omm:  \n",
      "   .hMh+++++++hNyyhddhyymh+++++++hMo`   \n",
      "     /NNs++++yNo++++++++oNy++++sNd.     \n",
      "      `sMdo++++++++++++++++++odN/       \n",
      "        -dMhsssssssssssssssshNy`        \n",
      "          :shhhhhhhhhhhhhhhyo.          \n",
      "\u001b[0m\n",
      "\n",
      "Served from container \u001b[1;33mkubernetes-demo-989131256-wm93j\u001b[0;0m\n"
     ]
    }
   ],
   "source": [
    "echo curl http://${HOST_IP}:${NODE_PORT}\n",
    "curl $HOST_IP:$NODE_PORT\n"
   ]
  },
  {
   "cell_type": "markdown",
   "metadata": {},
   "source": [
    "### Perform the rolling update from v1 to v2"
   ]
  },
  {
   "cell_type": "code",
   "execution_count": 303,
   "metadata": {},
   "outputs": [
    {
     "name": "stdout",
     "output_type": "stream",
     "text": [
      "deployment \"kubernetes-demo\" image updated\n"
     ]
    }
   ],
   "source": [
    "kubectl set image deployments/kubernetes-demo kubernetes-demo=mjbright/k8s-demo:2"
   ]
  },
  {
   "cell_type": "code",
   "execution_count": 304,
   "metadata": {},
   "outputs": [
    {
     "name": "stdout",
     "output_type": "stream",
     "text": [
      "deployment \"kubernetes-demo\" successfully rolled out\n"
     ]
    }
   ],
   "source": [
    "kubectl rollout status deployments/kubernetes-demo"
   ]
  },
  {
   "cell_type": "markdown",
   "metadata": {},
   "source": [
    "Using '*kubectl describe*' we can see that initially when we created the deployment (1st event below) that version of '*kubernetes-demo*' was scaled to 1.\n",
    "\n",
    "Then when we performed the rollout we see the new version of '*kubernetes-demo*' was scaled to 1 and once this was achieved, the old version was scaled back to 0, disabling the old version."
   ]
  },
  {
   "cell_type": "code",
   "execution_count": 305,
   "metadata": {},
   "outputs": [
    {
     "name": "stdout",
     "output_type": "stream",
     "text": [
      "Name:\t\t\tkubernetes-demo\n",
      "Namespace:\t\tdefault\n",
      "CreationTimestamp:\tWed, 25 Oct 2017 12:57:33 +0200\n",
      "Labels:\t\t\trun=kubernetes-demo\n",
      "Annotations:\t\tdeployment.kubernetes.io/revision=2\n",
      "Selector:\t\trun=kubernetes-demo\n",
      "Replicas:\t\t1 desired | 1 updated | 1 total | 1 available | 0 unavailable\n",
      "StrategyType:\t\tRollingUpdate\n",
      "MinReadySeconds:\t0\n",
      "RollingUpdateStrategy:\t1 max unavailable, 1 max surge\n",
      "Pod Template:\n",
      "  Labels:\trun=kubernetes-demo\n",
      "  Containers:\n",
      "   kubernetes-demo:\n",
      "    Image:\t\tmjbright/k8s-demo:2\n",
      "    Port:\t\t8080/TCP\n",
      "    Environment:\t<none>\n",
      "    Mounts:\t\t<none>\n",
      "  Volumes:\t\t<none>\n",
      "Conditions:\n",
      "  Type\t\tStatus\tReason\n",
      "  ----\t\t------\t------\n",
      "  Available \tTrue\tMinimumReplicasAvailable\n",
      "OldReplicaSets:\t<none>\n",
      "NewReplicaSet:\tkubernetes-demo-10873392 (1/1 replicas created)\n",
      "Events:\n",
      "  FirstSeen\tLastSeen\tCount\tFrom\t\t\tSubObjectPath\tType\t\tReason\t\t\tMessage\n",
      "  ---------\t--------\t-----\t----\t\t\t-------------\t--------\t------\t\t\t-------\n",
      "  1m\t\t1m\t\t1\tdeployment-controller\t\t\tNormal\t\tScalingReplicaSet\tScaled up replica set kubernetes-demo-989131256 to 1\n",
      "  18s\t\t18s\t\t1\tdeployment-controller\t\t\tNormal\t\tScalingReplicaSet\tScaled up replica set kubernetes-demo-10873392 to 1\n",
      "  18s\t\t18s\t\t1\tdeployment-controller\t\t\tNormal\t\tScalingReplicaSet\tScaled down replica set kubernetes-demo-989131256 to 0\n"
     ]
    }
   ],
   "source": [
    "kubectl describe deployments/kubernetes-demo"
   ]
  },
  {
   "cell_type": "code",
   "execution_count": 306,
   "metadata": {},
   "outputs": [
    {
     "name": "stdout",
     "output_type": "stream",
     "text": [
      "deployment \"kubernetes-demo\" successfully rolled out\n"
     ]
    }
   ],
   "source": [
    "kubectl rollout status deployments/kubernetes-demo"
   ]
  },
  {
   "cell_type": "code",
   "execution_count": 307,
   "metadata": {},
   "outputs": [
    {
     "name": "stdout",
     "output_type": "stream",
     "text": [
      "Name:\t\t\tkubernetes-demo\n",
      "Namespace:\t\tdefault\n",
      "CreationTimestamp:\tWed, 25 Oct 2017 12:57:33 +0200\n",
      "Labels:\t\t\trun=kubernetes-demo\n",
      "Annotations:\t\tdeployment.kubernetes.io/revision=2\n",
      "Selector:\t\trun=kubernetes-demo\n",
      "Replicas:\t\t1 desired | 1 updated | 1 total | 1 available | 0 unavailable\n",
      "StrategyType:\t\tRollingUpdate\n",
      "MinReadySeconds:\t0\n",
      "RollingUpdateStrategy:\t1 max unavailable, 1 max surge\n",
      "Pod Template:\n",
      "  Labels:\trun=kubernetes-demo\n",
      "  Containers:\n",
      "   kubernetes-demo:\n",
      "    Image:\t\tmjbright/k8s-demo:2\n",
      "    Port:\t\t8080/TCP\n",
      "    Environment:\t<none>\n",
      "    Mounts:\t\t<none>\n",
      "  Volumes:\t\t<none>\n",
      "Conditions:\n",
      "  Type\t\tStatus\tReason\n",
      "  ----\t\t------\t------\n",
      "  Available \tTrue\tMinimumReplicasAvailable\n",
      "OldReplicaSets:\t<none>\n",
      "NewReplicaSet:\tkubernetes-demo-10873392 (1/1 replicas created)\n",
      "Events:\n",
      "  FirstSeen\tLastSeen\tCount\tFrom\t\t\tSubObjectPath\tType\t\tReason\t\t\tMessage\n",
      "  ---------\t--------\t-----\t----\t\t\t-------------\t--------\t------\t\t\t-------\n",
      "  1m\t\t1m\t\t1\tdeployment-controller\t\t\tNormal\t\tScalingReplicaSet\tScaled up replica set kubernetes-demo-989131256 to 1\n",
      "  28s\t\t28s\t\t1\tdeployment-controller\t\t\tNormal\t\tScalingReplicaSet\tScaled up replica set kubernetes-demo-10873392 to 1\n",
      "  28s\t\t28s\t\t1\tdeployment-controller\t\t\tNormal\t\tScalingReplicaSet\tScaled down replica set kubernetes-demo-989131256 to 0\n"
     ]
    }
   ],
   "source": [
    "kubectl describe deployments/kubernetes-demo"
   ]
  },
  {
   "cell_type": "markdown",
   "metadata": {},
   "source": [
    "... now accessing the service we can see that the version (v=2) has changed"
   ]
  },
  {
   "cell_type": "code",
   "execution_count": 308,
   "metadata": {},
   "outputs": [
    {
     "name": "stdout",
     "output_type": "stream",
     "text": [
      "Looping until deploy kubernetes-demo becomes available ...\n",
      "kubectl get deploy kubernetes-demo\n",
      "NAME              DESIRED   CURRENT   UP-TO-DATE   \u001b[31mAVAILABLE\u001b[0m   AGE\n",
      "kubernetes-demo   1         1         1            1           1m\n",
      "Took 0 secs\n"
     ]
    }
   ],
   "source": [
    "NB_kube_loop_until_available deploy kubernetes-demo"
   ]
  },
  {
   "cell_type": "code",
   "execution_count": 309,
   "metadata": {},
   "outputs": [
    {
     "name": "stdout",
     "output_type": "stream",
     "text": [
      "curl http://192.168.99.103:32563\n",
      "\u001b[1;31m\n",
      "                ./shhs:`                \n",
      "            .+ymmdyosydNms/`            \n",
      "        -+yNmhs+++++++++oydNmy/.        \n",
      "    .+hNmhs++++++++yy+++++++oydNmy+.    \n",
      "   +Mds++++++++++++md++++++++++++smM/   \n",
      "  `MN++++++++++oshhNNhys+++++++++++Nm   \n",
      "  oMy++++mmsohNMNddMMhdNMmy+ymm++++yM/  \n",
      "  NN++++++omMMmo++sMM+++sNMMdo++++++Nd  \n",
      " /Mh++++++yMNdMNhsyMMssdMMdNMs++++++hM- \n",
      " mMo++++++NMo+ohMMMNNMMNh++sMm++++++oMy \n",
      ":Md++++++oMNosydNMm++NMNhysoMM+++++++hM.\n",
      "hMo+++shhdMMNNmddMMNNMNddmNMMMdhyo+++oMs\n",
      "mMo+++syo+sMmo++sMMhdMNo++oNMy+oss+++oMh\n",
      "-mMy+++++++sNNysMMy++hMNohMNs+++++++yNh`\n",
      "  oMmo+++++++ymMMmhyyhNMMmy+++++++omm:  \n",
      "   .hMh+++++++hNyyhddhyymh+++++++hMo`   \n",
      "     /NNs++++yNo++++++++oNy++++sNd.     \n",
      "      `sMdo++++++++++++++++++odN/       \n",
      "        -dMhsssssssssssssssshNy`        \n",
      "          :shhhhhhhhhhhhhhhyo.          \n",
      "\u001b[0m\n",
      "\n",
      "Served from container \u001b[1;33mkubernetes-demo-10873392-x4hfz\u001b[0;0m\n"
     ]
    }
   ],
   "source": [
    "\n",
    "NB_curl_until_OK http://$HOST_IP:$NODE_PORT"
   ]
  },
  {
   "cell_type": "code",
   "execution_count": 105,
   "metadata": {},
   "outputs": [
    {
     "name": "stdout",
     "output_type": "stream",
     "text": [
      "Started at Sat May 13 16:45:06 CEST 2017   [1494686235]\n",
      "Ended   at Sat May 13 16:45:06 CEST 2017   [1494686706]\n",
      "Took 471 secs [0h07m51]\n"
     ]
    }
   ],
   "source": [
    "NB_time_taken"
   ]
  }
 ],
 "metadata": {
  "anaconda-cloud": {},
  "kernelspec": {
   "display_name": "Bash",
   "language": "bash",
   "name": "bash"
  },
  "language_info": {
   "codemirror_mode": "shell",
   "file_extension": ".sh",
   "mimetype": "text/x-sh",
   "name": "bash"
  }
 },
 "nbformat": 4,
 "nbformat_minor": 1
}
