{
 "cells": [
  {
   "cell_type": "markdown",
   "metadata": {},
   "source": [
    "# Kubectl Basics\n",
    "\n",
    "\n",
    "Refer to the official Kubectl documentation, [Overview](https://kubernetes.io/docs/reference/kubectl/overview/) and [Cheat Sheet](https://kubernetes.io/docs/reference/kubectl/cheatsheet/)\n",
    "\n",
    "Kubectl commands are of the form\n",
    "\n",
    "```kubectl [command] [TYPE] [NAME] [flags]```\n",
    "\n",
    "For example\n",
    "\n",
    "#### ```kubectl version```\n",
    "will return the version of the kubectl client as well as the kubernetes API server to which it connects."
   ]
  },
  {
   "cell_type": "code",
   "execution_count": null,
   "metadata": {},
   "outputs": [],
   "source": [
    "kubectl version"
   ]
  },
  {
   "cell_type": "markdown",
   "metadata": {},
   "source": [
    "#### ```kubectl get nodes```\n",
    "will return a list of nodes in the current cluster"
   ]
  },
  {
   "cell_type": "code",
   "execution_count": null,
   "metadata": {},
   "outputs": [],
   "source": [
    "kubectl get nodes"
   ]
  },
  {
   "cell_type": "markdown",
   "metadata": {},
   "source": [
    "#### ```kubectl describe nodes```\n",
    "will describe the nodes in the current cluster, or we can select a specific node:"
   ]
  },
  {
   "cell_type": "code",
   "execution_count": null,
   "metadata": {},
   "outputs": [],
   "source": [
    "kubectl describe nodes kube-master"
   ]
  },
  {
   "cell_type": "markdown",
   "metadata": {},
   "source": [
    "#### ```kubectl describe pod <POD>```\n",
    "\n",
    "will describe a specific pod instance '<POD>'.\n",
    "\n",
    "But as we have not yet created any pods within the default namespace we will select one of the system pods in the 'kube-system' namespace.\n",
    "\n",
    "We first stock the name of that pod in variable $POD1."
   ]
  },
  {
   "cell_type": "code",
   "execution_count": null,
   "metadata": {},
   "outputs": [],
   "source": [
    "echo; echo \"First, here is a list of all pods running in all namespaces on our cluster:\"\n",
    "\n",
    "kubectl get pods --all-namespaces\n",
    "\n",
    "POD1=$(kubectl get pods --namespace kube-system --no-headers | awk '{print $1}' | head -1)\n",
    "\n",
    "echo; echo \"Let's investigate the first pod in the list: '$POD1'\"\n",
    "\n",
    "kubectl describe pod $POD1 --namespace kube-system"
   ]
  },
  {
   "cell_type": "markdown",
   "metadata": {},
   "source": [
    "## Kubectl help\n",
    "\n",
    "Typing partial commands will allow kubectl to propose potential completions, e.g. typing"
   ]
  },
  {
   "cell_type": "code",
   "execution_count": null,
   "metadata": {},
   "outputs": [],
   "source": [
    "kubectl"
   ]
  },
  {
   "cell_type": "markdown",
   "metadata": {},
   "source": [
    "#### kubectl get\n",
    "\n",
    "or to see what items we can apply get to:"
   ]
  },
  {
   "cell_type": "code",
   "execution_count": null,
   "metadata": {},
   "outputs": [],
   "source": [
    "kubectl get"
   ]
  },
  {
   "cell_type": "markdown",
   "metadata": {},
   "source": [
    "## Abbreviations\n",
    "\n",
    "Some resource nouns such as pods can also be abbreviated, e.g. as po, and combined with the actual resource.\n",
    "\n",
    "The following are all requivalent:\n",
    "\n",
    "kubectl get pods mypod\n",
    "\n",
    "kubectl get pod mypod\n",
    "\n",
    "kubectl get po mypod\n",
    "\n",
    "kubectl get po/mypod"
   ]
  },
  {
   "cell_type": "code",
   "execution_count": null,
   "metadata": {},
   "outputs": [],
   "source": [
    "kubectl get --namespace kube-system pods etcd-kube-master\n",
    "\n",
    "kubectl get --namespace kube-system pod etcd-kube-master\n",
    "\n",
    "kubectl get --namespace kube-system po etcd-kube-master\n",
    "\n",
    "kubectl get --namespace kube-system po/etcd-kube-master\n",
    "\n"
   ]
  },
  {
   "cell_type": "markdown",
   "metadata": {},
   "source": [
    "## kubectl get all\n",
    "\n",
    "get all is handy as it will show a list of the most common resources, below we see\n",
    "- daemon sets\n",
    "- deployments\n",
    "- replica sets\n",
    "- pods"
   ]
  },
  {
   "cell_type": "code",
   "execution_count": null,
   "metadata": {},
   "outputs": [],
   "source": [
    "kubectl get all --all-namespaces"
   ]
  },
  {
   "cell_type": "markdown",
   "metadata": {},
   "source": [
    "There are many options to kubectl, you're invited to play with different options or to refer to the cheat sheet.\n",
    "\n",
    "#### kubectl get all -o wide\n",
    "\n",
    "The wide option allows to display extra information all in one 'wide' line per pod.\n",
    "\n",
    "Here we see the ip address of the pod and the cluster node on which the pod is running."
   ]
  },
  {
   "cell_type": "code",
   "execution_count": null,
   "metadata": {},
   "outputs": [],
   "source": [
    "kubectl get pods --namespace kube-system $POD1\n",
    "\n",
    "kubectl get pods --namespace kube-system $POD1 -o wide"
   ]
  }
 ],
 "metadata": {
  "kernelspec": {
   "display_name": "Bash",
   "language": "bash",
   "name": "bash"
  },
  "language_info": {
   "codemirror_mode": "shell",
   "file_extension": ".sh",
   "mimetype": "text/x-sh",
   "name": "bash"
  }
 },
 "nbformat": 4,
 "nbformat_minor": 2
}
