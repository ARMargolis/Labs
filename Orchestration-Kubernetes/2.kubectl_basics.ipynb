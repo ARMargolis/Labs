{
 "cells": [
  {
   "cell_type": "markdown",
   "metadata": {
    "extensions": {
     "jupyter_dashboards": {
      "version": 1,
      "views": {
       "grid_default": {
        "col": 0,
        "height": 4,
        "hidden": false,
        "row": 0,
        "width": 4
       },
       "report_default": {
        "hidden": false
       }
      }
     }
    },
    "slideshow": {
     "slide_type": "skip"
    }
   },
   "source": [
    "[INDEX](Kubernetes.ipynb)  [NEXT](3.pods.ipynb)"
   ]
  },
  {
   "cell_type": "markdown",
   "metadata": {
    "extensions": {
     "jupyter_dashboards": {
      "version": 1,
      "views": {
       "grid_default": {
        "col": 0,
        "height": 18,
        "hidden": false,
        "row": 4,
        "width": 12
       },
       "report_default": {
        "hidden": false
       }
      }
     }
    },
    "slideshow": {
     "slide_type": "slide"
    }
   },
   "source": [
    "<img align=\"left\" src=\"https://avatars1.githubusercontent.com/u/13629408?s=400&v=4\" width=\"60\" />\n",
    "\n",
    "## 2. Kubectl Basics\n",
    "\n",
    "#### [LINK to [2.1 Kubectl Basics - DETAILED](2.1.kubectl_basics_DETAILED.ipynb)]\n",
    "<b><hr/></b>\n",
    "\n",
    "<pre style=\"align:center\" >\n",
    "For this section of the lab we will be working with a N worker-node cluster (Using AKS we do not see the master node as this is a \"*managed*\" Kubernetes Cluster).\n",
    "</pre>\n",
    "<img src=\"images/KubeNodes_1m_2w.svg.png\" width=\"400\" />\n",
    "    \n",
    "<br/><table align=\"right\" style='font-family:\"Courier New\", Courier, monospace; font-size:100%; bottom:0px;'>\n",
    "    <tr><td bgcolor=\"#ffffff\" color=\"#ffffff\"></td><td bgcolor=\"#ffffff\" color=\"#ffffff\"> <img src=\"http://www.icon100.com/up/3011/128/Twitter-alt.png\" width=\"40\"> </td><td bgcolor=\"#ffffff\" color=\"#ffffff\" > @mjbright </td></tr></table>"
   ]
  },
  {
   "cell_type": "markdown",
   "metadata": {
    "extensions": {
     "jupyter_dashboards": {
      "version": 1,
      "views": {
       "grid_default": {
        "col": 0,
        "height": 11,
        "hidden": false,
        "row": 22,
        "width": 12
       },
       "report_default": {
        "hidden": false
       }
      }
     }
    },
    "slideshow": {
     "slide_type": "slide"
    }
   },
   "source": [
    "# 2. Kubectl Basics - Inspecting the cluster\n",
    "\n",
    "<pre style=\"align:center\" >\n",
    "Kubectl is the standard CLI tool for working with a Kubernetes cluster.\n",
    "\n",
    "It connects to the cluster using the standard APIs.\n",
    "\n",
    "In this section we will see how we can interrogate different cluster resources (nodes, pods, deployments, ...) using actions (set, describe) and the different output choices available (text, json, yaml) for some commands.\n",
    "</pre>\n",
    "\n",
    "<br/><table align=\"right\" style='font-family:\"Courier New\", Courier, monospace; font-size:100%; bottom:0px;'>\n",
    "    <tr><td bgcolor=\"#ffffff\" color=\"#ffffff\"></td><td bgcolor=\"#ffffff\" color=\"#ffffff\"> <img src=\"http://www.icon100.com/up/3011/128/Twitter-alt.png\" width=\"40\"> </td><td bgcolor=\"#ffffff\" color=\"#ffffff\" > @mjbright </td></tr></table>"
   ]
  },
  {
   "cell_type": "markdown",
   "metadata": {
    "extensions": {
     "jupyter_dashboards": {
      "version": 1,
      "views": {
       "grid_default": {
        "col": 0,
        "height": 11,
        "hidden": false,
        "row": 33,
        "width": 12
       },
       "report_default": {
        "hidden": false
       }
      }
     }
    },
    "slideshow": {
     "slide_type": "slide"
    }
   },
   "source": [
    "Refer to the official Kubectl documentation, [Overview](https://kubernetes.io/docs/reference/kubectl/overview/) and [Cheat Sheet](https://kubernetes.io/docs/reference/kubectl/cheatsheet/)\n",
    "\n",
    "Kubectl commands are of the form\n",
    "\n",
    "```kubectl [command] [TYPE] [NAME] [flags]```\n",
    "\n",
    "For example\n",
    "\n",
    "#### ```kubectl version```\n",
    "will return the version of the kubectl client as well as the kubernetes API server to which it connects.\n",
    "\n",
    "<br/><table align=\"right\" style='font-family:\"Courier New\", Courier, monospace; font-size:100%; bottom:0px;'>\n",
    "    <tr><td bgcolor=\"#ffffff\" color=\"#ffffff\"></td><td bgcolor=\"#ffffff\" color=\"#ffffff\"> <img src=\"http://www.icon100.com/up/3011/128/Twitter-alt.png\" width=\"40\"> </td><td bgcolor=\"#ffffff\" color=\"#ffffff\" > @mjbright </td></tr></table>"
   ]
  },
  {
   "cell_type": "code",
   "execution_count": 1,
   "metadata": {
    "extensions": {
     "jupyter_dashboards": {
      "version": 1,
      "views": {
       "grid_default": {
        "col": 0,
        "height": 8,
        "hidden": false,
        "row": 44,
        "width": 4
       },
       "report_default": {
        "hidden": false
       }
      }
     }
    },
    "slideshow": {
     "slide_type": "slide"
    }
   },
   "outputs": [
    {
     "name": "stdout",
     "output_type": "stream",
     "text": [
      "Client Version: version.Info{Major:\"1\", Minor:\"10\", GitVersion:\"v1.10.1\", GitCommit:\"d4ab47518836c750f9949b9e0d387f20fb92260b\", GitTreeState:\"clean\", BuildDate:\"2018-04-12T14:26:04Z\", GoVersion:\"go1.9.3\", Compiler:\"gc\", Platform:\"linux/amd64\"}\n",
      "Server Version: version.Info{Major:\"1\", Minor:\"9\", GitVersion:\"v1.9.9\", GitCommit:\"57729ea3d9a1b75f3fc7bbbadc597ba707d47c8a\", GitTreeState:\"clean\", BuildDate:\"2018-06-29T01:07:01Z\", GoVersion:\"go1.9.3\", Compiler:\"gc\", Platform:\"linux/amd64\"}\n"
     ]
    }
   ],
   "source": [
    "kubectl version"
   ]
  },
  {
   "cell_type": "markdown",
   "metadata": {
    "extensions": {
     "jupyter_dashboards": {
      "version": 1,
      "views": {
       "grid_default": {
        "col": 0,
        "height": 7,
        "hidden": false,
        "row": 52,
        "width": 12
       },
       "report_default": {
        "hidden": false
       }
      }
     }
    },
    "slideshow": {
     "slide_type": "fragment"
    }
   },
   "source": [
    "However, this is not so readable.\n",
    "\n",
    "Note that we can also use the '-o' or '--output' option to specify the output format as 'json' or 'yaml':\n",
    "\n",
    "<br/><table align=\"right\" style='font-family:\"Courier New\", Courier, monospace; font-size:100%; bottom:0px;'>\n",
    "    <tr><td bgcolor=\"#ffffff\" color=\"#ffffff\"></td><td bgcolor=\"#ffffff\" color=\"#ffffff\"> <img src=\"http://www.icon100.com/up/3011/128/Twitter-alt.png\" width=\"40\"> </td><td bgcolor=\"#ffffff\" color=\"#ffffff\" > @mjbright </td></tr></table>"
   ]
  },
  {
   "cell_type": "code",
   "execution_count": 2,
   "metadata": {
    "extensions": {
     "jupyter_dashboards": {
      "version": 1,
      "views": {
       "grid_default": {
        "col": 0,
        "height": 16,
        "hidden": false,
        "row": 59,
        "width": 4
       },
       "report_default": {
        "hidden": false
       }
      }
     }
    }
   },
   "outputs": [
    {
     "name": "stdout",
     "output_type": "stream",
     "text": [
      "clientVersion:\n",
      "  buildDate: 2018-04-12T14:26:04Z\n",
      "  compiler: gc\n",
      "  gitCommit: d4ab47518836c750f9949b9e0d387f20fb92260b\n",
      "  gitTreeState: clean\n",
      "  gitVersion: v1.10.1\n",
      "  goVersion: go1.9.3\n",
      "  major: \"1\"\n",
      "  minor: \"10\"\n",
      "  platform: linux/amd64\n",
      "serverVersion:\n",
      "  buildDate: 2018-06-29T01:07:01Z\n",
      "  compiler: gc\n",
      "  gitCommit: 57729ea3d9a1b75f3fc7bbbadc597ba707d47c8a\n",
      "  gitTreeState: clean\n",
      "  gitVersion: v1.9.9\n",
      "  goVersion: go1.9.3\n",
      "  major: \"1\"\n",
      "  minor: \"9\"\n",
      "  platform: linux/amd64\n",
      "\n"
     ]
    }
   ],
   "source": [
    "kubectl version -o yaml"
   ]
  },
  {
   "cell_type": "markdown",
   "metadata": {
    "extensions": {
     "jupyter_dashboards": {
      "version": 1,
      "views": {
       "grid_default": {
        "col": 0,
        "height": 7,
        "hidden": false,
        "row": 75,
        "width": 12
       },
       "report_default": {
        "hidden": false
       }
      }
     }
    }
   },
   "source": [
    "The '-o' option can be applied to some other kubectl commands to obtain output in a '*parseable*' format.\n",
    "\n",
    "This will often provide much more detail than the same command without '-o'.\n",
    "\n",
    "Try it yourself on the following '*get*' commands.\n",
    "\n",
    "\n",
    "#### ```kubectl get nodes```\n",
    "will return a list of nodes in the current cluster"
   ]
  },
  {
   "cell_type": "code",
   "execution_count": 4,
   "metadata": {
    "extensions": {
     "jupyter_dashboards": {
      "version": 1,
      "views": {
       "grid_default": {
        "col": 4,
        "height": 6,
        "hidden": false,
        "row": 44,
        "width": 4
       },
       "report_default": {
        "hidden": false
       }
      }
     }
    }
   },
   "outputs": [
    {
     "name": "stdout",
     "output_type": "stream",
     "text": [
      "NAME                       STATUS    ROLES     AGE       VERSION\n",
      "aks-nodepool1-35637019-0   Ready     agent     15h       v1.9.9\n",
      "aks-nodepool1-35637019-1   Ready     agent     15h       v1.9.9\n",
      "aks-nodepool1-35637019-2   Ready     agent     15h       v1.9.9\n",
      "aks-nodepool1-35637019-3   Ready     agent     15h       v1.9.9\n",
      "aks-nodepool1-35637019-4   Ready     agent     15h       v1.9.9\n",
      "aks-nodepool1-35637019-5   Ready     agent     15h       v1.9.9\n",
      "aks-nodepool1-35637019-6   Ready     agent     15h       v1.9.9\n",
      "aks-nodepool1-35637019-7   Ready     agent     15h       v1.9.9\n",
      "aks-nodepool1-35637019-8   Ready     agent     15h       v1.9.9\n",
      "aks-nodepool1-35637019-9   Ready     agent     15h       v1.9.9\n"
     ]
    }
   ],
   "source": [
    "kubectl get nodes"
   ]
  },
  {
   "cell_type": "markdown",
   "metadata": {
    "extensions": {
     "jupyter_dashboards": {
      "version": 1,
      "views": {
       "grid_default": {
        "col": 4,
        "height": 6,
        "hidden": false,
        "row": 44,
        "width": 4
       },
       "report_default": {
        "hidden": false
       }
      }
     }
    }
   },
   "source": [
    "# Try the -o wide option also"
   ]
  },
  {
   "cell_type": "code",
   "execution_count": null,
   "metadata": {
    "extensions": {
     "jupyter_dashboards": {
      "version": 1,
      "views": {
       "grid_default": {
        "col": 4,
        "height": 6,
        "hidden": false,
        "row": 44,
        "width": 4
       },
       "report_default": {
        "hidden": false
       }
      }
     }
    }
   },
   "outputs": [],
   "source": [
    "kubectl get nodes -o wide"
   ]
  },
  {
   "cell_type": "markdown",
   "metadata": {
    "extensions": {
     "jupyter_dashboards": {
      "version": 1,
      "views": {
       "grid_default": {
        "col": 0,
        "height": 6,
        "hidden": false,
        "row": 82,
        "width": 12
       },
       "report_default": {
        "hidden": false
       }
      }
     }
    }
   },
   "source": [
    "#### ```kubectl describe nodes```\n",
    "will describe the nodes in the current cluster, or we can select a specific node.\n",
    "\n",
    "Describe gives us much information about the current state of an object, including status and running pods.\n",
    "\n",
    "<!-- Let's examine our Master node 'kube-master': -->\n",
    "Let's examine one of our worker nodes:"
   ]
  },
  {
   "cell_type": "code",
   "execution_count": 8,
   "metadata": {
    "extensions": {
     "jupyter_dashboards": {
      "version": 1,
      "views": {
       "grid_default": {
        "col": 0,
        "height": 76,
        "hidden": false,
        "row": 88,
        "width": 4
       },
       "report_default": {
        "hidden": false
       }
      }
     }
    }
   },
   "outputs": [],
   "source": [
    "# kubectl describe nodes $(kubectl get nodes --no-headers | head -1 | awk '{ print $1; }')\n",
    "\n",
    "# e.g. kubectl describe nodes aks-nodepool1-35637019-0"
   ]
  },
  {
   "cell_type": "markdown",
   "metadata": {
    "extensions": {
     "jupyter_dashboards": {
      "version": 1,
      "views": {
       "grid_default": {
        "col": 0,
        "height": 5,
        "hidden": false,
        "row": 164,
        "width": 12
       },
       "report_default": {
        "hidden": false
       }
      }
     }
    }
   },
   "source": [
    "#### ```kubectl describe pod <POD>```\n",
    "\n",
    "will describe a specific pod instance '<POD>'.\n",
    "\n",
    "But as we have not yet created any pods within the default namespace we will select one of the system pods in the 'kube-system' namespace."
   ]
  },
  {
   "cell_type": "code",
   "execution_count": 9,
   "metadata": {
    "extensions": {
     "jupyter_dashboards": {
      "version": 1,
      "views": {
       "grid_default": {
        "col": 4,
        "height": 4,
        "hidden": false,
        "row": 0,
        "width": 4
       },
       "report_default": {
        "hidden": false
       }
      }
     }
    }
   },
   "outputs": [
    {
     "name": "stdout",
     "output_type": "stream",
     "text": [
      "NAME          STATUS    AGE\n",
      "default       Active    15h\n",
      "kube-public   Active    15h\n",
      "kube-system   Active    15h\n",
      "user1         Active    15h\n",
      "user10        Active    15h\n",
      "user11        Active    15h\n",
      "user12        Active    15h\n",
      "user13        Active    15h\n",
      "user14        Active    15h\n",
      "user15        Active    15h\n",
      "user16        Active    15h\n",
      "user17        Active    15h\n",
      "user18        Active    15h\n"
     ]
    }
   ],
   "source": [
    "kubectl get namespaces"
   ]
  },
  {
   "cell_type": "markdown",
   "metadata": {
    "extensions": {
     "jupyter_dashboards": {
      "version": 1,
      "views": {
       "grid_default": {
        "col": 8,
        "height": 4,
        "hidden": false,
        "row": 0,
        "width": 4
       },
       "report_default": {
        "hidden": false
       }
      }
     }
    }
   },
   "source": [
    "We first stock the name of that pod in variable $POD1.\n",
    "\n",
    "First, here is a list of all pods running in all namespaces on our cluster:"
   ]
  },
  {
   "cell_type": "code",
   "execution_count": 10,
   "metadata": {
    "extensions": {
     "jupyter_dashboards": {
      "version": 1,
      "views": {
       "grid_default": {
        "col": 4,
        "height": 15,
        "hidden": false,
        "row": 59,
        "width": 4
       },
       "report_default": {
        "hidden": false
       }
      }
     }
    }
   },
   "outputs": [
    {
     "name": "stdout",
     "output_type": "stream",
     "text": [
      "NAMESPACE     NAME                                    READY     STATUS    RESTARTS   AGE\n",
      "kube-system   heapster-6f4d8b48bc-p8vms               2/2       Running   0          15h\n",
      "kube-system   kube-dns-v20-7d874cb9b6-4d2w4           3/3       Running   0          15h\n",
      "kube-system   kube-dns-v20-7d874cb9b6-c6tmh           3/3       Running   0          15h\n",
      "kube-system   kube-proxy-86pm7                        1/1       Running   0          15h\n",
      "kube-system   kube-proxy-dqnfs                        1/1       Running   0          15h\n",
      "kube-system   kube-proxy-dvxbr                        1/1       Running   0          15h\n",
      "kube-system   kube-proxy-gq6r4                        1/1       Running   0          15h\n",
      "kube-system   kube-proxy-kktx9                        1/1       Running   0          15h\n",
      "kube-system   kube-proxy-kmvrd                        1/1       Running   0          15h\n",
      "kube-system   kube-proxy-lsdps                        1/1       Running   0          15h\n",
      "kube-system   kube-proxy-n5zk2                        1/1       Running   0          15h\n",
      "kube-system   kube-proxy-p8f2d                        1/1       Running   0          15h\n",
      "kube-system   kube-proxy-zqw4p                        1/1       Running   0          15h\n",
      "kube-system   kube-svc-redirect-5w545                 2/2       Running   0          15h\n",
      "kube-system   kube-svc-redirect-7x9p2                 2/2       Running   0          15h\n",
      "kube-system   kube-svc-redirect-bztmz                 2/2       Running   0          15h\n",
      "kube-system   kube-svc-redirect-g5kr9                 2/2       Running   0          15h\n",
      "kube-system   kube-svc-redirect-nxcps                 2/2       Running   0          15h\n",
      "kube-system   kube-svc-redirect-pxdtq                 2/2       Running   0          15h\n",
      "kube-system   kube-svc-redirect-q5srq                 2/2       Running   0          15h\n",
      "kube-system   kube-svc-redirect-qtftw                 2/2       Running   0          15h\n",
      "kube-system   kube-svc-redirect-rq7jd                 2/2       Running   0          15h\n",
      "kube-system   kube-svc-redirect-s6hk2                 2/2       Running   0          15h\n",
      "kube-system   kubernetes-dashboard-68f8cc4d8c-wf9jm   1/1       Running   2          15h\n",
      "kube-system   tunnelfront-7fdd485494-bpnng            1/1       Running   0          15h\n",
      "user1         jupyter                                 1/1       Running   0          5h\n",
      "user10        jupyter                                 1/1       Running   0          14h\n",
      "user11        jupyter                                 1/1       Running   0          14h\n",
      "user12        jupyter                                 1/1       Running   0          14h\n",
      "user13        jupyter                                 1/1       Running   0          14h\n",
      "user14        jupyter                                 1/1       Running   0          14h\n",
      "user15        jupyter                                 1/1       Running   0          14h\n",
      "user16        jupyter                                 1/1       Running   0          14h\n",
      "user17        jupyter                                 1/1       Running   0          14h\n",
      "user18        jupyter                                 1/1       Running   0          14h\n"
     ]
    }
   ],
   "source": [
    "kubectl get pods --all-namespaces"
   ]
  },
  {
   "cell_type": "code",
   "execution_count": 11,
   "metadata": {
    "extensions": {
     "jupyter_dashboards": {
      "version": 1,
      "views": {
       "grid_default": {
        "col": 4,
        "height": 43,
        "hidden": false,
        "row": 88,
        "width": 4
       },
       "report_default": {
        "hidden": false
       }
      }
     }
    }
   },
   "outputs": [
    {
     "name": "stdout",
     "output_type": "stream",
     "text": [
      "\n",
      "Let's investigate the first pod in the list: 'heapster-6f4d8b48bc-p8vms'\n",
      "Name:           heapster-6f4d8b48bc-p8vms\n",
      "Namespace:      kube-system\n",
      "Node:           aks-nodepool1-35637019-7/10.240.0.4\n",
      "Start Time:     Fri, 05 Oct 2018 20:03:04 +0200\n",
      "Labels:         k8s-app=heapster\n",
      "                pod-template-hash=2908460467\n",
      "Annotations:    <none>\n",
      "Status:         Running\n",
      "IP:             10.244.9.2\n",
      "Controlled By:  ReplicaSet/heapster-6f4d8b48bc\n",
      "Containers:\n",
      "  heapster:\n",
      "    Container ID:  docker://ae58e17da40d0e0a475d16772bb54c5601cfd0ef579f87776e1c7d2087844b30\n",
      "    Image:         k8s.gcr.io/heapster-amd64:v1.5.1\n",
      "    Image ID:      docker-pullable://k8s.gcr.io/heapster-amd64@sha256:d4d10455d921802bdb004e7edfe423a2b2f88911319b48abf47e0af909f27f15\n",
      "    Port:          <none>\n",
      "    Host Port:     <none>\n",
      "    Command:\n",
      "      /heapster\n",
      "      --source=kubernetes.summary_api:\"\"\n",
      "    State:          Running\n",
      "      Started:      Fri, 05 Oct 2018 20:03:15 +0200\n",
      "    Ready:          True\n",
      "    Restart Count:  0\n",
      "    Limits:\n",
      "      cpu:     80m\n",
      "      memory:  140Mi\n",
      "    Requests:\n",
      "      cpu:        80m\n",
      "      memory:     140Mi\n",
      "    Liveness:     http-get http://:8082/healthz delay=180s timeout=5s period=10s #success=1 #failure=3\n",
      "    Environment:  <none>\n",
      "    Mounts:\n",
      "      /var/run/secrets/kubernetes.io/serviceaccount from heapster-token-z7tqt (ro)\n",
      "  heapster-nanny:\n",
      "    Container ID:  docker://7271274eb5512d45cc57ec2e2e286e40b796372da3578f68031a8c3439f84065\n",
      "    Image:         k8s.gcr.io/addon-resizer:1.8.1\n",
      "    Image ID:      docker-pullable://k8s.gcr.io/addon-resizer@sha256:507aa9845ecce1fdde4d61f530c802f4dc2974c700ce0db7730866e442db958d\n",
      "    Port:          <none>\n",
      "    Host Port:     <none>\n",
      "    Command:\n",
      "      /pod_nanny\n",
      "      --config-dir=/etc/config\n",
      "      --cpu=80m\n",
      "      --extra-cpu=0.5m\n",
      "      --memory=140Mi\n",
      "      --extra-memory=4Mi\n",
      "      --threshold=5\n",
      "      --deployment=heapster\n",
      "      --container=heapster\n",
      "      --poll-period=300000\n",
      "      --estimator=exponential\n",
      "    State:          Running\n",
      "      Started:      Fri, 05 Oct 2018 20:03:19 +0200\n",
      "    Ready:          True\n",
      "    Restart Count:  0\n",
      "    Limits:\n",
      "      cpu:     50m\n",
      "      memory:  90Mi\n",
      "    Requests:\n",
      "      cpu:     50m\n",
      "      memory:  90Mi\n",
      "    Environment:\n",
      "      MY_POD_NAME:       heapster-6f4d8b48bc-p8vms (v1:metadata.name)\n",
      "      MY_POD_NAMESPACE:  kube-system (v1:metadata.namespace)\n",
      "    Mounts:\n",
      "      /etc/config from heapster-config-volume (rw)\n",
      "      /var/run/secrets/kubernetes.io/serviceaccount from heapster-token-z7tqt (ro)\n",
      "Conditions:\n",
      "  Type           Status\n",
      "  Initialized    True \n",
      "  Ready          True \n",
      "  PodScheduled   True \n",
      "Volumes:\n",
      "  heapster-config-volume:\n",
      "    Type:      ConfigMap (a volume populated by a ConfigMap)\n",
      "    Name:      heapster-config\n",
      "    Optional:  false\n",
      "  heapster-token-z7tqt:\n",
      "    Type:        Secret (a volume populated by a Secret)\n",
      "    SecretName:  heapster-token-z7tqt\n",
      "    Optional:    false\n",
      "QoS Class:       Guaranteed\n",
      "Node-Selectors:  beta.kubernetes.io/os=linux\n",
      "Tolerations:     CriticalAddonsOnly\n",
      "                 node.kubernetes.io/not-ready:NoExecute for 300s\n",
      "                 node.kubernetes.io/unreachable:NoExecute for 300s\n",
      "Events:          <none>\n"
     ]
    }
   ],
   "source": [
    "POD1=$(kubectl get pods --namespace kube-system --no-headers | awk '{print $1}' | head -1)\n",
    "\n",
    "echo; echo \"Let's investigate the first pod in the list: '$POD1'\"\n",
    "\n",
    "kubectl describe pod $POD1 --namespace kube-system"
   ]
  },
  {
   "cell_type": "markdown",
   "metadata": {
    "extensions": {
     "jupyter_dashboards": {
      "version": 1,
      "views": {
       "grid_default": {
        "col": 8,
        "height": 4,
        "hidden": false,
        "row": 44,
        "width": 4
       },
       "report_default": {
        "hidden": false
       }
      }
     }
    }
   },
   "source": [
    "## Kubectl help\n",
    "\n",
    "Typing partial commands will allow kubectl to propose potential completions, e.g. typing"
   ]
  },
  {
   "cell_type": "code",
   "execution_count": 12,
   "metadata": {
    "extensions": {
     "jupyter_dashboards": {
      "version": 1,
      "views": {
       "grid_default": {
        "col": 8,
        "height": 61,
        "hidden": false,
        "row": 88,
        "width": 4
       },
       "report_default": {
        "hidden": false
       }
      }
     }
    }
   },
   "outputs": [
    {
     "name": "stdout",
     "output_type": "stream",
     "text": [
      "kubectl controls the Kubernetes cluster manager. \n",
      "\n",
      "Find more information at: https://kubernetes.io/docs/reference/kubectl/overview/\n",
      "\n",
      "Basic Commands (Beginner):\n",
      "  create         Create a resource from a file or from stdin.\n",
      "  expose         Take a replication controller, service, deployment or pod and\n",
      "expose it as a new Kubernetes Service\n",
      "  run            Run a particular image on the cluster\n",
      "  set            Set specific features on objects\n",
      "  run-container  Run a particular image on the cluster. This command is\n",
      "deprecated, use \"run\" instead\n",
      "\n",
      "Basic Commands (Intermediate):\n",
      "  get            Display one or many resources\n",
      "  explain        Documentation of resources\n",
      "  edit           Edit a resource on the server\n",
      "  delete         Delete resources by filenames, stdin, resources and names, or\n",
      "by resources and label selector\n",
      "\n",
      "Deploy Commands:\n",
      "  rollout        Manage the rollout of a resource\n",
      "  rolling-update Perform a rolling update of the given ReplicationController\n",
      "  scale          Set a new size for a Deployment, ReplicaSet, Replication\n",
      "Controller, or Job\n",
      "  autoscale      Auto-scale a Deployment, ReplicaSet, or ReplicationController\n",
      "\n",
      "Cluster Management Commands:\n",
      "  certificate    Modify certificate resources.\n",
      "  cluster-info   Display cluster info\n",
      "  top            Display Resource (CPU/Memory/Storage) usage.\n",
      "  cordon         Mark node as unschedulable\n",
      "  uncordon       Mark node as schedulable\n",
      "  drain          Drain node in preparation for maintenance\n",
      "  taint          Update the taints on one or more nodes\n",
      "\n",
      "Troubleshooting and Debugging Commands:\n",
      "  describe       Show details of a specific resource or group of resources\n",
      "  logs           Print the logs for a container in a pod\n",
      "  attach         Attach to a running container\n",
      "  exec           Execute a command in a container\n",
      "  port-forward   Forward one or more local ports to a pod\n",
      "  proxy          Run a proxy to the Kubernetes API server\n",
      "  cp             Copy files and directories to and from containers.\n",
      "  auth           Inspect authorization\n",
      "\n",
      "Advanced Commands:\n",
      "  apply          Apply a configuration to a resource by filename or stdin\n",
      "  patch          Update field(s) of a resource using strategic merge patch\n",
      "  replace        Replace a resource by filename or stdin\n",
      "  convert        Convert config files between different API versions\n",
      "\n",
      "Settings Commands:\n",
      "  label          Update the labels on a resource\n",
      "  annotate       Update the annotations on a resource\n",
      "  completion     Output shell completion code for the specified shell (bash or\n",
      "zsh)\n",
      "\n",
      "Other Commands:\n",
      "  api-versions   Print the supported API versions on the server, in the form of\n",
      "\"group/version\"\n",
      "  config         Modify kubeconfig files\n",
      "  help           Help about any command\n",
      "  plugin         Runs a command-line plugin\n",
      "  version        Print the client and server version information\n",
      "\n",
      "Usage:\n",
      "  kubectl [flags] [options]\n",
      "\n",
      "Use \"kubectl <command> --help\" for more information about a given command.\n",
      "Use \"kubectl options\" for a list of global command-line options (applies to all\n",
      "commands).\n"
     ]
    }
   ],
   "source": [
    "kubectl"
   ]
  },
  {
   "cell_type": "markdown",
   "metadata": {
    "extensions": {
     "jupyter_dashboards": {
      "version": 1,
      "views": {
       "grid_default": {
        "col": 8,
        "height": 4,
        "hidden": false,
        "row": 48,
        "width": 4
       },
       "report_default": {
        "hidden": false
       }
      }
     }
    }
   },
   "source": [
    "#### kubectl get\n",
    "\n",
    "or to see what items we can apply get to:"
   ]
  },
  {
   "cell_type": "code",
   "execution_count": 13,
   "metadata": {
    "extensions": {
     "jupyter_dashboards": {
      "version": 1,
      "views": {
       "grid_default": {
        "col": 4,
        "height": 27,
        "hidden": false,
        "row": 131,
        "width": 4
       },
       "report_default": {
        "hidden": false
       }
      }
     }
    }
   },
   "outputs": [
    {
     "name": "stdout",
     "output_type": "stream",
     "text": [
      "You must specify the type of resource to get. Valid resource types include: \n",
      "\n",
      "  * all  \n",
      "  * certificatesigningrequests (aka 'csr')  \n",
      "  * clusterrolebindings  \n",
      "  * clusterroles  \n",
      "  * componentstatuses (aka 'cs')  \n",
      "  * configmaps (aka 'cm')  \n",
      "  * controllerrevisions  \n",
      "  * cronjobs  \n",
      "  * customresourcedefinition (aka 'crd')  \n",
      "  * daemonsets (aka 'ds')  \n",
      "  * deployments (aka 'deploy')  \n",
      "  * endpoints (aka 'ep')  \n",
      "  * events (aka 'ev')  \n",
      "  * horizontalpodautoscalers (aka 'hpa')  \n",
      "  * ingresses (aka 'ing')  \n",
      "  * jobs  \n",
      "  * limitranges (aka 'limits')  \n",
      "  * namespaces (aka 'ns')  \n",
      "  * networkpolicies (aka 'netpol')  \n",
      "  * nodes (aka 'no')  \n",
      "  * persistentvolumeclaims (aka 'pvc')  \n",
      "  * persistentvolumes (aka 'pv')  \n",
      "  * poddisruptionbudgets (aka 'pdb')  \n",
      "  * podpreset  \n",
      "  * pods (aka 'po')  \n",
      "  * podsecuritypolicies (aka 'psp')  \n",
      "  * podtemplates  \n",
      "  * replicasets (aka 'rs')  \n",
      "  * replicationcontrollers (aka 'rc')  \n",
      "  * resourcequotas (aka 'quota')  \n",
      "  * rolebindings  \n",
      "  * roles  \n",
      "  * secrets  \n",
      "  * serviceaccounts (aka 'sa')  \n",
      "  * services (aka 'svc')  \n",
      "  * statefulsets (aka 'sts')  \n",
      "  * storageclasses (aka 'sc')error: Required resource not specified.\n",
      "Use \"kubectl explain <resource>\" for a detailed description of that resource (e.g. kubectl explain pods).\n",
      "See 'kubectl get -h' for help and examples.\n"
     ]
    },
    {
     "ename": "",
     "evalue": "1",
     "output_type": "error",
     "traceback": []
    }
   ],
   "source": [
    "kubectl get"
   ]
  },
  {
   "cell_type": "markdown",
   "metadata": {
    "extensions": {
     "jupyter_dashboards": {
      "version": 1,
      "views": {
       "grid_default": {
        "col": 0,
        "height": 9,
        "hidden": false,
        "row": 169,
        "width": 12
       },
       "report_default": {
        "hidden": false
       }
      }
     }
    }
   },
   "source": [
    "## Abbreviations\n",
    "\n",
    "Some resource nouns such as pods can also be abbreviated, e.g. as po, and combined with the actual resource.\n",
    "\n",
    "The following are all requivalent:\n",
    "\n",
    "kubectl get pods mypod\n",
    "\n",
    "kubectl get pod mypod\n",
    "\n",
    "kubectl get po mypod\n",
    "\n",
    "kubectl get po/mypod"
   ]
  },
  {
   "cell_type": "markdown",
   "metadata": {
    "extensions": {
     "jupyter_dashboards": {
      "version": 1,
      "views": {
       "grid_default": {
        "col": 0,
        "height": 7,
        "hidden": false,
        "row": 178,
        "width": 12
       },
       "report_default": {
        "hidden": false
       }
      }
     }
    }
   },
   "source": [
    "## kubectl get all\n",
    "\n",
    "get all is handy as it will show a list of the most common resources, below we see\n",
    "- daemon sets\n",
    "- deployments\n",
    "- replica sets\n",
    "- pods"
   ]
  },
  {
   "cell_type": "code",
   "execution_count": 14,
   "metadata": {
    "extensions": {
     "jupyter_dashboards": {
      "version": 1,
      "views": {
       "grid_default": {
        "col": 0,
        "height": 52,
        "hidden": false,
        "row": 185,
        "width": 4
       },
       "report_default": {
        "hidden": false
       }
      }
     }
    }
   },
   "outputs": [
    {
     "name": "stdout",
     "output_type": "stream",
     "text": [
      "NAMESPACE     NAME                                        READY     STATUS    RESTARTS   AGE\n",
      "kube-system   pod/heapster-6f4d8b48bc-p8vms               2/2       Running   0          15h\n",
      "kube-system   pod/kube-dns-v20-7d874cb9b6-4d2w4           3/3       Running   0          15h\n",
      "kube-system   pod/kube-dns-v20-7d874cb9b6-c6tmh           3/3       Running   0          15h\n",
      "kube-system   pod/kube-proxy-86pm7                        1/1       Running   0          15h\n",
      "kube-system   pod/kube-proxy-dqnfs                        1/1       Running   0          15h\n",
      "kube-system   pod/kube-proxy-dvxbr                        1/1       Running   0          15h\n",
      "kube-system   pod/kube-proxy-gq6r4                        1/1       Running   0          15h\n",
      "kube-system   pod/kube-proxy-kktx9                        1/1       Running   0          15h\n",
      "kube-system   pod/kube-proxy-kmvrd                        1/1       Running   0          15h\n",
      "kube-system   pod/kube-proxy-lsdps                        1/1       Running   0          15h\n",
      "kube-system   pod/kube-proxy-n5zk2                        1/1       Running   0          15h\n",
      "kube-system   pod/kube-proxy-p8f2d                        1/1       Running   0          15h\n",
      "kube-system   pod/kube-proxy-zqw4p                        1/1       Running   0          15h\n",
      "kube-system   pod/kube-svc-redirect-5w545                 2/2       Running   0          15h\n",
      "kube-system   pod/kube-svc-redirect-7x9p2                 2/2       Running   0          15h\n",
      "kube-system   pod/kube-svc-redirect-bztmz                 2/2       Running   0          15h\n",
      "kube-system   pod/kube-svc-redirect-g5kr9                 2/2       Running   0          15h\n",
      "kube-system   pod/kube-svc-redirect-nxcps                 2/2       Running   0          15h\n",
      "kube-system   pod/kube-svc-redirect-pxdtq                 2/2       Running   0          15h\n",
      "kube-system   pod/kube-svc-redirect-q5srq                 2/2       Running   0          15h\n",
      "kube-system   pod/kube-svc-redirect-qtftw                 2/2       Running   0          15h\n",
      "kube-system   pod/kube-svc-redirect-rq7jd                 2/2       Running   0          15h\n",
      "kube-system   pod/kube-svc-redirect-s6hk2                 2/2       Running   0          15h\n",
      "kube-system   pod/kubernetes-dashboard-68f8cc4d8c-wf9jm   1/1       Running   2          15h\n",
      "kube-system   pod/tunnelfront-7fdd485494-bpnng            1/1       Running   0          15h\n",
      "user1         pod/jupyter                                 1/1       Running   0          5h\n",
      "user10        pod/jupyter                                 1/1       Running   0          14h\n",
      "user11        pod/jupyter                                 1/1       Running   0          14h\n",
      "user12        pod/jupyter                                 1/1       Running   0          14h\n",
      "user13        pod/jupyter                                 1/1       Running   0          14h\n",
      "user14        pod/jupyter                                 1/1       Running   0          14h\n",
      "user15        pod/jupyter                                 1/1       Running   0          14h\n",
      "user16        pod/jupyter                                 1/1       Running   0          14h\n",
      "user17        pod/jupyter                                 1/1       Running   0          14h\n",
      "user18        pod/jupyter                                 1/1       Running   0          14h\n",
      "\n",
      "NAMESPACE     NAME                           TYPE           CLUSTER-IP     EXTERNAL-IP       PORT(S)          AGE\n",
      "default       service/kubernetes             ClusterIP      10.0.0.1       <none>            443/TCP          15h\n",
      "kube-system   service/heapster               ClusterIP      10.0.123.171   <none>            80/TCP           15h\n",
      "kube-system   service/kube-dns               ClusterIP      10.0.0.10      <none>            53/UDP,53/TCP    15h\n",
      "kube-system   service/kubernetes-dashboard   ClusterIP      10.0.61.42     <none>            80/TCP           15h\n",
      "user1         service/jupyter                LoadBalancer   10.0.49.144    104.214.218.153   8801:32273/TCP   14h\n",
      "user10        service/jupyter                LoadBalancer   10.0.158.54    40.118.18.91      8810:32012/TCP   14h\n",
      "user11        service/jupyter                LoadBalancer   10.0.101.215   13.81.244.157     8811:31998/TCP   14h\n",
      "user12        service/jupyter                LoadBalancer   10.0.232.65    40.115.41.43      8812:32030/TCP   14h\n",
      "user13        service/jupyter                LoadBalancer   10.0.232.140   13.73.150.6       8813:31410/TCP   14h\n",
      "user14        service/jupyter                LoadBalancer   10.0.114.100   13.73.138.253     8814:30666/TCP   14h\n",
      "user15        service/jupyter                LoadBalancer   10.0.196.243   13.81.249.231     8815:32142/TCP   14h\n",
      "user16        service/jupyter                LoadBalancer   10.0.11.70     13.81.252.54      8816:31922/TCP   14h\n",
      "user17        service/jupyter                LoadBalancer   10.0.227.95    13.69.124.40      8817:30961/TCP   14h\n",
      "user18        service/jupyter                LoadBalancer   10.0.61.173    13.69.121.202     8818:30814/TCP   14h\n",
      "\n",
      "NAMESPACE     NAME                                     DESIRED   CURRENT   READY     UP-TO-DATE   AVAILABLE   NODE SELECTOR                 AGE\n",
      "kube-system   daemonset.extensions/kube-proxy          10        10        10        10           10          beta.kubernetes.io/os=linux   15h\n",
      "kube-system   daemonset.extensions/kube-svc-redirect   10        10        10        10           10          beta.kubernetes.io/os=linux   15h\n",
      "\n",
      "NAMESPACE     NAME                                         DESIRED   CURRENT   UP-TO-DATE   AVAILABLE   AGE\n",
      "kube-system   deployment.extensions/heapster               1         1         1            1           15h\n",
      "kube-system   deployment.extensions/kube-dns-v20           2         2         2            2           15h\n",
      "kube-system   deployment.extensions/kubernetes-dashboard   1         1         1            1           15h\n",
      "kube-system   deployment.extensions/tunnelfront            1         1         1            1           15h\n",
      "\n",
      "NAMESPACE     NAME                                                    DESIRED   CURRENT   READY     AGE\n",
      "kube-system   replicaset.extensions/heapster-6f4d8b48bc               1         1         1         15h\n",
      "kube-system   replicaset.extensions/kube-dns-v20-7d874cb9b6           2         2         2         15h\n",
      "kube-system   replicaset.extensions/kubernetes-dashboard-68f8cc4d8c   1         1         1         15h\n",
      "kube-system   replicaset.extensions/tunnelfront-7fdd485494            1         1         1         15h\n",
      "\n",
      "NAMESPACE     NAME                               DESIRED   CURRENT   READY     UP-TO-DATE   AVAILABLE   NODE SELECTOR                 AGE\n",
      "kube-system   daemonset.apps/kube-proxy          10        10        10        10           10          beta.kubernetes.io/os=linux   15h\n",
      "kube-system   daemonset.apps/kube-svc-redirect   10        10        10        10           10          beta.kubernetes.io/os=linux   15h\n",
      "\n",
      "NAMESPACE     NAME                                   DESIRED   CURRENT   UP-TO-DATE   AVAILABLE   AGE\n",
      "kube-system   deployment.apps/heapster               1         1         1            1           15h\n",
      "kube-system   deployment.apps/kube-dns-v20           2         2         2            2           15h\n",
      "kube-system   deployment.apps/kubernetes-dashboard   1         1         1            1           15h\n",
      "kube-system   deployment.apps/tunnelfront            1         1         1            1           15h\n",
      "\n",
      "NAMESPACE     NAME                                              DESIRED   CURRENT   READY     AGE\n",
      "kube-system   replicaset.apps/heapster-6f4d8b48bc               1         1         1         15h\n",
      "kube-system   replicaset.apps/kube-dns-v20-7d874cb9b6           2         2         2         15h\n",
      "kube-system   replicaset.apps/kubernetes-dashboard-68f8cc4d8c   1         1         1         15h\n",
      "kube-system   replicaset.apps/tunnelfront-7fdd485494            1         1         1         15h\n"
     ]
    }
   ],
   "source": [
    "kubectl get all --all-namespaces"
   ]
  },
  {
   "cell_type": "markdown",
   "metadata": {
    "extensions": {
     "jupyter_dashboards": {
      "version": 1,
      "views": {
       "grid_default": {
        "col": 0,
        "height": 10,
        "hidden": false,
        "row": 237,
        "width": 12
       },
       "report_default": {
        "hidden": false
       }
      }
     }
    }
   },
   "source": [
    "In the above list we can see ds/kube-proxy, indicating that there is a **DaemonSet** called **kube-proxy** so that kube-proxy runs on every node - there are 3 instances (in general, there could be less if label constraints were used).\n",
    "\n",
    "We also see a list of **3 kube-proxy** pods which are the pods making up our DaemonSet.\n",
    "\n",
    "We see also **2 Deployments** which are **kube-dns** and **dashboard**, each having an associated **ReplicaSet**.\n",
    "\n",
    "\n",
    "\n",
    "There are many options to kubectl, you're invited to play with different options or to refer to the cheat sheet.\n",
    "\n",
    "#### kubectl get all -o wide\n",
    "\n",
    "The wide option allows to display extra information all in one 'wide' line per pod.\n",
    "\n",
    "Here we see the **ip address and the cluster node** on which the pod is running."
   ]
  },
  {
   "cell_type": "code",
   "execution_count": 15,
   "metadata": {
    "extensions": {
     "jupyter_dashboards": {
      "version": 1,
      "views": {
       "grid_default": {
        "col": 8,
        "height": 6,
        "hidden": false,
        "row": 59,
        "width": 4
       },
       "report_default": {
        "hidden": false
       }
      }
     }
    },
    "scrolled": true
   },
   "outputs": [
    {
     "name": "stdout",
     "output_type": "stream",
     "text": [
      "NAME                        READY     STATUS    RESTARTS   AGE\n",
      "heapster-6f4d8b48bc-p8vms   2/2       Running   0          15h\n",
      "\n",
      "NAME                        READY     STATUS    RESTARTS   AGE       IP           NODE\n",
      "heapster-6f4d8b48bc-p8vms   2/2       Running   0          15h       10.244.9.2   aks-nodepool1-35637019-7\n"
     ]
    }
   ],
   "source": [
    "kubectl get pods --namespace kube-system $POD1\n",
    "echo\n",
    "kubectl get pods --namespace kube-system $POD1 -o wide"
   ]
  },
  {
   "cell_type": "markdown",
   "metadata": {
    "extensions": {
     "jupyter_dashboards": {
      "version": 1,
      "views": {
       "grid_default": {
        "col": 8,
        "height": 4,
        "hidden": false,
        "row": 65,
        "width": 4
       },
       "report_default": {
        "hidden": false
       }
      }
     }
    },
    "slideshow": {
     "slide_type": "slide"
    }
   },
   "source": [
    "[INDEX](Kubernetes.ipynb)  [NEXT](3.pods.ipynb)\n",
    "\n",
    "<b><hr/></b>\n",
    "#### [LINK to [2.1 Kubectl Basics - DETAILED](2.1.kubectl_basics_DETAILED.ipynb)]"
   ]
  }
 ],
 "metadata": {
  "celltoolbar": "Slideshow",
  "extensions": {
   "jupyter_dashboards": {
    "activeView": "report_default",
    "version": 1,
    "views": {
     "grid_default": {
      "cellMargin": 10,
      "defaultCellHeight": 20,
      "maxColumns": 12,
      "name": "grid",
      "type": "grid"
     },
     "report_default": {
      "name": "report",
      "type": "report"
     }
    }
   }
  },
  "kernelspec": {
   "display_name": "Bash",
   "language": "bash",
   "name": "bash"
  },
  "language_info": {
   "codemirror_mode": "shell",
   "file_extension": ".sh",
   "mimetype": "text/x-sh",
   "name": "bash"
  }
 },
 "nbformat": 4,
 "nbformat_minor": 2
}
