{
 "cells": [
  {
   "cell_type": "markdown",
   "metadata": {},
   "source": [
    "# 2. Kubectl Basics\n",
    "\n",
    "#### [LINK to [2.1 Kubectl Basics - DETAILED](2.1.kubectl_basics_DETAILED.ipynb)]\n",
    "<b><hr/></b>\n",
    "\n",
    "Refer to the official Kubectl documentation, [Overview](https://kubernetes.io/docs/reference/kubectl/overview/) and [Cheat Sheet](https://kubernetes.io/docs/reference/kubectl/cheatsheet/)\n",
    "\n",
    "Kubectl commands are of the form\n",
    "\n",
    "```kubectl [command] [TYPE] [NAME] [flags]```\n",
    "\n",
    "For example\n",
    "\n",
    "#### ```kubectl version```\n",
    "will return the version of the kubectl client as well as the kubernetes API server to which it connects."
   ]
  },
  {
   "cell_type": "code",
   "execution_count": 1,
   "metadata": {},
   "outputs": [
    {
     "name": "stdout",
     "output_type": "stream",
     "text": [
      "Client Version: version.Info{Major:\"1\", Minor:\"9\", GitVersion:\"v1.9.3\", GitCommit:\"d2835416544f298c919e2ead3be3d0864b52323b\", GitTreeState:\"clean\", BuildDate:\"2018-02-07T12:22:21Z\", GoVersion:\"go1.9.2\", Compiler:\"gc\", Platform:\"linux/amd64\"}\n",
      "Server Version: version.Info{Major:\"1\", Minor:\"9\", GitVersion:\"v1.9.1\", GitCommit:\"3a1c9449a956b6026f075fa3134ff92f7d55f812\", GitTreeState:\"clean\", BuildDate:\"2018-01-04T11:40:06Z\", GoVersion:\"go1.9.2\", Compiler:\"gc\", Platform:\"linux/amd64\"}\n"
     ]
    }
   ],
   "source": [
    "kubectl version"
   ]
  },
  {
   "cell_type": "markdown",
   "metadata": {},
   "source": [
    "However, this is not so readable.\n",
    "\n",
    "Note that we can also use the '-o' or '--output' option to specify the output format as 'json' or 'yaml':"
   ]
  },
  {
   "cell_type": "code",
   "execution_count": 2,
   "metadata": {},
   "outputs": [
    {
     "name": "stdout",
     "output_type": "stream",
     "text": [
      "{\n",
      "  \"clientVersion\": {\n",
      "    \"major\": \"1\",\n",
      "    \"minor\": \"9\",\n",
      "    \"gitVersion\": \"v1.9.3\",\n",
      "    \"gitCommit\": \"d2835416544f298c919e2ead3be3d0864b52323b\",\n",
      "    \"gitTreeState\": \"clean\",\n",
      "    \"buildDate\": \"2018-02-07T12:22:21Z\",\n",
      "    \"goVersion\": \"go1.9.2\",\n",
      "    \"compiler\": \"gc\",\n",
      "    \"platform\": \"linux/amd64\"\n",
      "  },\n",
      "  \"serverVersion\": {\n",
      "    \"major\": \"1\",\n",
      "    \"minor\": \"9\",\n",
      "    \"gitVersion\": \"v1.9.1\",\n",
      "    \"gitCommit\": \"3a1c9449a956b6026f075fa3134ff92f7d55f812\",\n",
      "    \"gitTreeState\": \"clean\",\n",
      "    \"buildDate\": \"2018-01-04T11:40:06Z\",\n",
      "    \"goVersion\": \"go1.9.2\",\n",
      "    \"compiler\": \"gc\",\n",
      "    \"platform\": \"linux/amd64\"\n",
      "  }\n",
      "}\n"
     ]
    }
   ],
   "source": [
    "kubectl version -o json"
   ]
  },
  {
   "cell_type": "markdown",
   "metadata": {},
   "source": [
    "The '-o' option can be applied to some other kubectl commands to obtain output in a '*parseable*' format.\n",
    "\n",
    "This will often provide much more detail than the same command without '-o'.\n",
    "\n",
    "Try it yourself on the following '*get*' commands.\n",
    "\n",
    "\n",
    "#### ```kubectl get nodes```\n",
    "will return a list of nodes in the current cluster"
   ]
  },
  {
   "cell_type": "code",
   "execution_count": 3,
   "metadata": {},
   "outputs": [
    {
     "name": "stdout",
     "output_type": "stream",
     "text": [
      "NAME          STATUS    ROLES     AGE       VERSION\n",
      "kube-master   Ready     master    2d        v1.9.1\n",
      "kube-node-1   Ready     <none>    2d        v1.9.1\n",
      "kube-node-2   Ready     <none>    2d        v1.9.1\n"
     ]
    }
   ],
   "source": [
    "kubectl get nodes"
   ]
  },
  {
   "cell_type": "markdown",
   "metadata": {},
   "source": [
    "#### ```kubectl describe nodes```\n",
    "will describe the nodes in the current cluster, or we can select a specific node.\n",
    "\n",
    "Describe gives us much information about the current state of an object, including status and running pods.\n",
    "\n",
    "Let's examine our Master node 'kube-master':"
   ]
  },
  {
   "cell_type": "code",
   "execution_count": 4,
   "metadata": {},
   "outputs": [
    {
     "name": "stdout",
     "output_type": "stream",
     "text": [
      "Name:               kube-master\n",
      "Roles:              master\n",
      "Labels:             beta.kubernetes.io/arch=amd64\n",
      "                    beta.kubernetes.io/os=linux\n",
      "                    kubernetes.io/hostname=kube-master\n",
      "                    node-role.kubernetes.io/master=\n",
      "Annotations:        node.alpha.kubernetes.io/ttl=0\n",
      "                    volumes.kubernetes.io/controller-managed-attach-detach=true\n",
      "Taints:             node-role.kubernetes.io/master:NoSchedule\n",
      "CreationTimestamp:  Fri, 09 Mar 2018 21:12:17 +0000\n",
      "Conditions:\n",
      "  Type             Status  LastHeartbeatTime                 LastTransitionTime                Reason                       Message\n",
      "  ----             ------  -----------------                 ------------------                ------                       -------\n",
      "  OutOfDisk        False   Mon, 12 Mar 2018 06:41:44 +0000   Fri, 09 Mar 2018 21:12:10 +0000   KubeletHasSufficientDisk     kubelet has sufficient disk space available\n",
      "  MemoryPressure   False   Mon, 12 Mar 2018 06:41:44 +0000   Fri, 09 Mar 2018 21:12:10 +0000   KubeletHasSufficientMemory   kubelet has sufficient memory available\n",
      "  DiskPressure     False   Mon, 12 Mar 2018 06:41:44 +0000   Fri, 09 Mar 2018 21:12:10 +0000   KubeletHasNoDiskPressure     kubelet has no disk pressure\n",
      "  Ready            True    Mon, 12 Mar 2018 06:41:44 +0000   Fri, 09 Mar 2018 21:12:10 +0000   KubeletReady                 kubelet is posting ready status. AppArmor enabled\n",
      "Addresses:\n",
      "  InternalIP:  10.192.0.2\n",
      "  Hostname:    kube-master\n",
      "Capacity:\n",
      " cpu:     2\n",
      " memory:  2048112Ki\n",
      " pods:    110\n",
      "Allocatable:\n",
      " cpu:     2\n",
      " memory:  1945712Ki\n",
      " pods:    110\n",
      "System Info:\n",
      " Machine ID:                 5ed4548e6ad44ccbb3e2f1c6f9e9a2e6\n",
      " System UUID:                50A5DA3E-D0CF-4F59-B838-87850F7612E3\n",
      " Boot ID:                    566d1ae5-5623-406f-8555-c5a05315a4d4\n",
      " Kernel Version:             4.4.0-116-generic\n",
      " OS Image:                   Ubuntu 16.04.3 LTS\n",
      " Operating System:           linux\n",
      " Architecture:               amd64\n",
      " Container Runtime Version:  docker://1.12.6\n",
      " Kubelet Version:            v1.9.1\n",
      " Kube-Proxy Version:         v1.9.1\n",
      "ExternalID:                  kube-master\n",
      "Non-terminated Pods:         (5 in total)\n",
      "  Namespace                  Name                                   CPU Requests  CPU Limits  Memory Requests  Memory Limits\n",
      "  ---------                  ----                                   ------------  ----------  ---------------  -------------\n",
      "  kube-system                etcd-kube-master                       0 (0%)        0 (0%)      0 (0%)           0 (0%)\n",
      "  kube-system                kube-apiserver-kube-master             250m (12%)    0 (0%)      0 (0%)           0 (0%)\n",
      "  kube-system                kube-controller-manager-kube-master    200m (10%)    0 (0%)      0 (0%)           0 (0%)\n",
      "  kube-system                kube-proxy-d9q8k                       0 (0%)        0 (0%)      0 (0%)           0 (0%)\n",
      "  kube-system                kube-scheduler-kube-master             100m (5%)     0 (0%)      0 (0%)           0 (0%)\n",
      "Allocated resources:\n",
      "  (Total limits may be over 100 percent, i.e., overcommitted.)\n",
      "  CPU Requests  CPU Limits  Memory Requests  Memory Limits\n",
      "  ------------  ----------  ---------------  -------------\n",
      "  550m (27%)    0 (0%)      0 (0%)           0 (0%)\n",
      "Events:         <none>\n"
     ]
    }
   ],
   "source": [
    "kubectl describe nodes kube-master "
   ]
  },
  {
   "cell_type": "markdown",
   "metadata": {},
   "source": [
    "#### ```kubectl describe pod <POD>```\n",
    "\n",
    "will describe a specific pod instance '<POD>'.\n",
    "\n",
    "But as we have not yet created any pods within the default namespace we will select one of the system pods in the 'kube-system' namespace."
   ]
  },
  {
   "cell_type": "code",
   "execution_count": 5,
   "metadata": {},
   "outputs": [
    {
     "name": "stdout",
     "output_type": "stream",
     "text": [
      "NAME          STATUS    AGE\n",
      "default       Active    2d\n",
      "kube-public   Active    2d\n",
      "kube-system   Active    2d\n"
     ]
    }
   ],
   "source": [
    "kubectl get namespaces"
   ]
  },
  {
   "cell_type": "markdown",
   "metadata": {},
   "source": [
    "We first stock the name of that pod in variable $POD1.\n",
    "\n",
    "First, here is a list of all pods running in all namespaces on our cluster:"
   ]
  },
  {
   "cell_type": "code",
   "execution_count": 6,
   "metadata": {},
   "outputs": [
    {
     "name": "stdout",
     "output_type": "stream",
     "text": [
      "NAMESPACE     NAME                                    READY     STATUS    RESTARTS   AGE\n",
      "kube-system   etcd-kube-master                        1/1       Running   2          2d\n",
      "kube-system   kube-apiserver-kube-master              1/1       Running   2          2d\n",
      "kube-system   kube-controller-manager-kube-master     1/1       Running   2          2d\n",
      "kube-system   kube-dns-5d869f7dc9-jm6vq               3/3       Running   0          2d\n",
      "kube-system   kube-proxy-d9q8k                        1/1       Running   0          2d\n",
      "kube-system   kube-proxy-j4tk8                        1/1       Running   0          2d\n",
      "kube-system   kube-proxy-sk8vw                        1/1       Running   0          2d\n",
      "kube-system   kube-scheduler-kube-master              1/1       Running   2          2d\n",
      "kube-system   kubernetes-dashboard-5867bddc4c-m6sj4   1/1       Running   0          2d\n"
     ]
    }
   ],
   "source": [
    "kubectl get pods --all-namespaces"
   ]
  },
  {
   "cell_type": "code",
   "execution_count": 7,
   "metadata": {},
   "outputs": [
    {
     "name": "stdout",
     "output_type": "stream",
     "text": [
      "\n",
      "Let's investigate the first pod in the list: 'etcd-kube-master'\n",
      "Name:         etcd-kube-master\n",
      "Namespace:    kube-system\n",
      "Node:         kube-master/10.192.0.2\n",
      "Start Time:   Fri, 09 Mar 2018 21:15:55 +0000\n",
      "Labels:       component=etcd\n",
      "              tier=control-plane\n",
      "Annotations:  kubernetes.io/config.hash=408851a572c13f8177557fdb9151111c\n",
      "              kubernetes.io/config.mirror=408851a572c13f8177557fdb9151111c\n",
      "              kubernetes.io/config.seen=2018-03-09T21:11:57.552568536Z\n",
      "              kubernetes.io/config.source=file\n",
      "              scheduler.alpha.kubernetes.io/critical-pod=\n",
      "Status:       Running\n",
      "IP:           10.192.0.2\n",
      "Containers:\n",
      "  etcd:\n",
      "    Container ID:  docker://52dc295b67690f70533c17deeb31281a25fce0c52e671c625d9653fd0cf4f051\n",
      "    Image:         gcr.io/google_containers/etcd-amd64:3.1.10\n",
      "    Image ID:      docker-pullable://gcr.io/google_containers/etcd-amd64@sha256:28cf78933de29fd26d7a879e51ebd39784cd98109568fd3da61b141257fb85a6\n",
      "    Port:          <none>\n",
      "    Command:\n",
      "      etcd\n",
      "      --listen-client-urls=http://127.0.0.1:2379\n",
      "      --advertise-client-urls=http://127.0.0.1:2379\n",
      "      --data-dir=/var/lib/etcd\n",
      "    State:          Running\n",
      "      Started:      Fri, 09 Mar 2018 21:15:57 +0000\n",
      "    Last State:     Terminated\n",
      "      Reason:       Completed\n",
      "      Exit Code:    0\n",
      "      Started:      Fri, 09 Mar 2018 21:14:11 +0000\n",
      "      Finished:     Fri, 09 Mar 2018 21:15:46 +0000\n",
      "    Ready:          True\n",
      "    Restart Count:  2\n",
      "    Liveness:       http-get http://127.0.0.1:2379/health delay=15s timeout=15s period=10s #success=1 #failure=8\n",
      "    Environment:    <none>\n",
      "    Mounts:\n",
      "      /var/lib/etcd from etcd (rw)\n",
      "Conditions:\n",
      "  Type           Status\n",
      "  Initialized    True \n",
      "  Ready          True \n",
      "  PodScheduled   True \n",
      "Volumes:\n",
      "  etcd:\n",
      "    Type:          HostPath (bare host directory volume)\n",
      "    Path:          /var/lib/etcd\n",
      "    HostPathType:  DirectoryOrCreate\n",
      "QoS Class:         BestEffort\n",
      "Node-Selectors:    <none>\n",
      "Tolerations:       :NoExecute\n",
      "Events:            <none>\n"
     ]
    }
   ],
   "source": [
    "POD1=$(kubectl get pods --namespace kube-system --no-headers | awk '{print $1}' | head -1)\n",
    "\n",
    "echo; echo \"Let's investigate the first pod in the list: '$POD1'\"\n",
    "\n",
    "kubectl describe pod $POD1 --namespace kube-system"
   ]
  },
  {
   "cell_type": "markdown",
   "metadata": {},
   "source": [
    "## Kubectl help\n",
    "\n",
    "Typing partial commands will allow kubectl to propose potential completions, e.g. typing"
   ]
  },
  {
   "cell_type": "code",
   "execution_count": 8,
   "metadata": {},
   "outputs": [
    {
     "name": "stdout",
     "output_type": "stream",
     "text": [
      "kubectl controls the Kubernetes cluster manager. \n",
      "\n",
      "Find more information at https://github.com/kubernetes/kubernetes.\n",
      "\n",
      "Basic Commands (Beginner):\n",
      "  create         Create a resource from a file or from stdin.\n",
      "  expose         Take a replication controller, service, deployment or pod and\n",
      "expose it as a new Kubernetes Service\n",
      "  run            Run a particular image on the cluster\n",
      "  set            Set specific features on objects\n",
      "  run-container  Run a particular image on the cluster. This command is\n",
      "deprecated, use \"run\" instead\n",
      "\n",
      "Basic Commands (Intermediate):\n",
      "  get            Display one or many resources\n",
      "  explain        Documentation of resources\n",
      "  edit           Edit a resource on the server\n",
      "  delete         Delete resources by filenames, stdin, resources and names, or\n",
      "by resources and label selector\n",
      "\n",
      "Deploy Commands:\n",
      "  rollout        Manage the rollout of a resource\n",
      "  rolling-update Perform a rolling update of the given ReplicationController\n",
      "  scale          Set a new size for a Deployment, ReplicaSet, Replication\n",
      "Controller, or Job\n",
      "  autoscale      Auto-scale a Deployment, ReplicaSet, or ReplicationController\n",
      "\n",
      "Cluster Management Commands:\n",
      "  certificate    Modify certificate resources.\n",
      "  cluster-info   Display cluster info\n",
      "  top            Display Resource (CPU/Memory/Storage) usage.\n",
      "  cordon         Mark node as unschedulable\n",
      "  uncordon       Mark node as schedulable\n",
      "  drain          Drain node in preparation for maintenance\n",
      "  taint          Update the taints on one or more nodes\n",
      "\n",
      "Troubleshooting and Debugging Commands:\n",
      "  describe       Show details of a specific resource or group of resources\n",
      "  logs           Print the logs for a container in a pod\n",
      "  attach         Attach to a running container\n",
      "  exec           Execute a command in a container\n",
      "  port-forward   Forward one or more local ports to a pod\n",
      "  proxy          Run a proxy to the Kubernetes API server\n",
      "  cp             Copy files and directories to and from containers.\n",
      "  auth           Inspect authorization\n",
      "\n",
      "Advanced Commands:\n",
      "  apply          Apply a configuration to a resource by filename or stdin\n",
      "  patch          Update field(s) of a resource using strategic merge patch\n",
      "  replace        Replace a resource by filename or stdin\n",
      "  convert        Convert config files between different API versions\n",
      "\n",
      "Settings Commands:\n",
      "  label          Update the labels on a resource\n",
      "  annotate       Update the annotations on a resource\n",
      "  completion     Output shell completion code for the specified shell (bash or\n",
      "zsh)\n",
      "\n",
      "Other Commands:\n",
      "  api-versions   Print the supported API versions on the server, in the form of\n",
      "\"group/version\"\n",
      "  config         Modify kubeconfig files\n",
      "  help           Help about any command\n",
      "  plugin         Runs a command-line plugin\n",
      "  version        Print the client and server version information\n",
      "\n",
      "Use \"kubectl <command> --help\" for more information about a given command.\n",
      "Use \"kubectl options\" for a list of global command-line options (applies to all\n",
      "commands).\n"
     ]
    }
   ],
   "source": [
    "kubectl"
   ]
  },
  {
   "cell_type": "markdown",
   "metadata": {},
   "source": [
    "#### kubectl get\n",
    "\n",
    "or to see what items we can apply get to:"
   ]
  },
  {
   "cell_type": "code",
   "execution_count": 9,
   "metadata": {},
   "outputs": [
    {
     "name": "stdout",
     "output_type": "stream",
     "text": [
      "You must specify the type of resource to get. Valid resource types include: \n",
      "\n",
      "  * all  \n",
      "  * certificatesigningrequests (aka 'csr')  \n",
      "  * clusterrolebindings  \n",
      "  * clusterroles  \n",
      "  * componentstatuses (aka 'cs')  \n",
      "  * configmaps (aka 'cm')  \n",
      "  * controllerrevisions  \n",
      "  * cronjobs  \n",
      "  * customresourcedefinition (aka 'crd')  \n",
      "  * daemonsets (aka 'ds')  \n",
      "  * deployments (aka 'deploy')  \n",
      "  * endpoints (aka 'ep')  \n",
      "  * events (aka 'ev')  \n",
      "  * horizontalpodautoscalers (aka 'hpa')  \n",
      "  * ingresses (aka 'ing')  \n",
      "  * jobs  \n",
      "  * limitranges (aka 'limits')  \n",
      "  * namespaces (aka 'ns')  \n",
      "  * networkpolicies (aka 'netpol')  \n",
      "  * nodes (aka 'no')  \n",
      "  * persistentvolumeclaims (aka 'pvc')  \n",
      "  * persistentvolumes (aka 'pv')  \n",
      "  * poddisruptionbudgets (aka 'pdb')  \n",
      "  * podpreset  \n",
      "  * pods (aka 'po')  \n",
      "  * podsecuritypolicies (aka 'psp')  \n",
      "  * podtemplates  \n",
      "  * replicasets (aka 'rs')  \n",
      "  * replicationcontrollers (aka 'rc')  \n",
      "  * resourcequotas (aka 'quota')  \n",
      "  * rolebindings  \n",
      "  * roles  \n",
      "  * secrets  \n",
      "  * serviceaccounts (aka 'sa')  \n",
      "  * services (aka 'svc')  \n",
      "  * statefulsets (aka 'sts')  \n",
      "  * storageclasses (aka 'sc')error: Required resource not specified.\n",
      "Use \"kubectl explain <resource>\" for a detailed description of that resource (e.g. kubectl explain pods).\n",
      "See 'kubectl get -h' for help and examples.\n"
     ]
    },
    {
     "ename": "",
     "evalue": "1",
     "output_type": "error",
     "traceback": []
    }
   ],
   "source": [
    "kubectl get"
   ]
  },
  {
   "cell_type": "markdown",
   "metadata": {},
   "source": [
    "## Abbreviations\n",
    "\n",
    "Some resource nouns such as pods can also be abbreviated, e.g. as po, and combined with the actual resource.\n",
    "\n",
    "The following are all requivalent:\n",
    "\n",
    "kubectl get pods mypod\n",
    "\n",
    "kubectl get pod mypod\n",
    "\n",
    "kubectl get po mypod\n",
    "\n",
    "kubectl get po/mypod"
   ]
  },
  {
   "cell_type": "markdown",
   "metadata": {},
   "source": [
    "## kubectl get all\n",
    "\n",
    "get all is handy as it will show a list of the most common resources, below we see\n",
    "- daemon sets\n",
    "- deployments\n",
    "- replica sets\n",
    "- pods"
   ]
  },
  {
   "cell_type": "code",
   "execution_count": 10,
   "metadata": {},
   "outputs": [
    {
     "name": "stdout",
     "output_type": "stream",
     "text": [
      "NAMESPACE     NAME            DESIRED   CURRENT   READY     UP-TO-DATE   AVAILABLE   NODE SELECTOR   AGE\n",
      "kube-system   ds/kube-proxy   3         3         3         3            3           <none>          2d\n",
      "\n",
      "NAMESPACE     NAME                          DESIRED   CURRENT   UP-TO-DATE   AVAILABLE   AGE\n",
      "kube-system   deploy/kube-dns               1         1         1            1           2d\n",
      "kube-system   deploy/kubernetes-dashboard   1         1         1            1           2d\n",
      "\n",
      "NAMESPACE     NAME                                 DESIRED   CURRENT   READY     AGE\n",
      "kube-system   rs/kube-dns-5d869f7dc9               1         1         1         2d\n",
      "kube-system   rs/kube-dns-6f4fd4bdf                0         0         0         2d\n",
      "kube-system   rs/kubernetes-dashboard-5867bddc4c   1         1         1         2d\n",
      "\n",
      "NAMESPACE     NAME            DESIRED   CURRENT   READY     UP-TO-DATE   AVAILABLE   NODE SELECTOR   AGE\n",
      "kube-system   ds/kube-proxy   3         3         3         3            3           <none>          2d\n",
      "\n",
      "NAMESPACE     NAME                          DESIRED   CURRENT   UP-TO-DATE   AVAILABLE   AGE\n",
      "kube-system   deploy/kube-dns               1         1         1            1           2d\n",
      "kube-system   deploy/kubernetes-dashboard   1         1         1            1           2d\n",
      "\n",
      "NAMESPACE     NAME                                 DESIRED   CURRENT   READY     AGE\n",
      "kube-system   rs/kube-dns-5d869f7dc9               1         1         1         2d\n",
      "kube-system   rs/kube-dns-6f4fd4bdf                0         0         0         2d\n",
      "kube-system   rs/kubernetes-dashboard-5867bddc4c   1         1         1         2d\n",
      "\n",
      "NAMESPACE     NAME                                       READY     STATUS    RESTARTS   AGE\n",
      "kube-system   po/etcd-kube-master                        1/1       Running   2          2d\n",
      "kube-system   po/kube-apiserver-kube-master              1/1       Running   2          2d\n",
      "kube-system   po/kube-controller-manager-kube-master     1/1       Running   2          2d\n",
      "kube-system   po/kube-dns-5d869f7dc9-jm6vq               3/3       Running   0          2d\n",
      "kube-system   po/kube-proxy-d9q8k                        1/1       Running   0          2d\n",
      "kube-system   po/kube-proxy-j4tk8                        1/1       Running   0          2d\n",
      "kube-system   po/kube-proxy-sk8vw                        1/1       Running   0          2d\n",
      "kube-system   po/kube-scheduler-kube-master              1/1       Running   2          2d\n",
      "kube-system   po/kubernetes-dashboard-5867bddc4c-m6sj4   1/1       Running   0          2d\n",
      "\n",
      "NAMESPACE     NAME                       TYPE        CLUSTER-IP   EXTERNAL-IP   PORT(S)         AGE\n",
      "default       svc/kubernetes             ClusterIP   10.96.0.1    <none>        443/TCP         2d\n",
      "kube-system   svc/kube-dns               ClusterIP   10.96.0.10   <none>        53/UDP,53/TCP   2d\n",
      "kube-system   svc/kubernetes-dashboard   NodePort    10.98.1.26   <none>        80:30135/TCP    2d\n"
     ]
    }
   ],
   "source": [
    "kubectl get all --all-namespaces"
   ]
  },
  {
   "cell_type": "markdown",
   "metadata": {},
   "source": [
    "In the above list we can see ds/kube-proxy, indicating that there is a **DaemonSet** called **kube-proxy** so that kube-proxy runs on every node - there are 3 instances (in general, there could be less if label constraints were used).\n",
    "\n",
    "We also see a list of **3 kube-proxy** pods which are the pods making up our DaemonSet.\n",
    "\n",
    "We see also **2 Deployments** which are **kube-dns** and **dashboard**, each having an associated **ReplicaSet**.\n",
    "\n",
    "\n",
    "\n",
    "There are many options to kubectl, you're invited to play with different options or to refer to the cheat sheet.\n",
    "\n",
    "#### kubectl get all -o wide\n",
    "\n",
    "The wide option allows to display extra information all in one 'wide' line per pod.\n",
    "\n",
    "Here we see the **ip address and the cluster node** on which the pod is running."
   ]
  },
  {
   "cell_type": "code",
   "execution_count": 11,
   "metadata": {
    "scrolled": true
   },
   "outputs": [
    {
     "name": "stdout",
     "output_type": "stream",
     "text": [
      "NAME               READY     STATUS    RESTARTS   AGE\n",
      "etcd-kube-master   1/1       Running   2          2d\n",
      "NAME               READY     STATUS    RESTARTS   AGE       IP           NODE\n",
      "etcd-kube-master   1/1       Running   2          2d        10.192.0.2   kube-master\n"
     ]
    }
   ],
   "source": [
    "kubectl get pods --namespace kube-system $POD1\n",
    "\n",
    "kubectl get pods --namespace kube-system $POD1 -o wide"
   ]
  },
  {
   "cell_type": "markdown",
   "metadata": {},
   "source": [
    "<b><hr/></b>\n",
    "#### [LINK to [2.1 Kubectl Basics - DETAILED](2.1.kubectl_basics_DETAILED.ipynb)]"
   ]
  }
 ],
 "metadata": {
  "kernelspec": {
   "display_name": "Bash",
   "language": "bash",
   "name": "bash"
  },
  "language_info": {
   "codemirror_mode": "shell",
   "file_extension": ".sh",
   "mimetype": "text/x-sh",
   "name": "bash"
  }
 },
 "nbformat": 4,
 "nbformat_minor": 2
}
