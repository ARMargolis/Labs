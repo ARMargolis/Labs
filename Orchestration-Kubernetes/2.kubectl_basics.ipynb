{
 "cells": [
  {
   "cell_type": "markdown",
   "metadata": {
    "slideshow": {
     "slide_type": "skip"
    }
   },
   "source": [
    "[INDEX](Kubernetes.ipynb)  [NEXT](3.pods.ipynb)"
   ]
  },
  {
   "cell_type": "markdown",
   "metadata": {
    "slideshow": {
     "slide_type": "slide"
    }
   },
   "source": [
    "<img align=\"left\" src=\"https://avatars1.githubusercontent.com/u/13629408?s=400&v=4\" width=100 />\n",
    "# 2. Kubectl Basics\n",
    "\n",
    "#### [LINK to [2.1 Kubectl Basics - DETAILED](2.1.kubectl_basics_DETAILED.ipynb)]\n",
    "<b><hr/></b>\n",
    "\n",
    "<pre style=\"align:center\" >\n",
    "For this section of the lab we will be working with a 3-node cluster comprised of 1 Master and 2 Workers.\n",
    "</pre>\n",
    "<img src=\"images/KubeNodes_1m_2w.svg\" width=\"400\" />\n",
    "    \n",
    "<br/><table align=\"right\" style='font-family:\"Courier New\", Courier, monospace; font-size:100%; bottom:0px;'>\n",
    "    <tr><td bgcolor=\"#ffffff\" color=\"#ffffff\"></td><td bgcolor=\"#ffffff\" color=\"#ffffff\"> <img src=\"http://www.icon100.com/up/3011/128/Twitter-alt.png\" width=\"40\"> </td><td bgcolor=\"#ffffff\" color=\"#ffffff\" > @containous </td></tr></table>"
   ]
  },
  {
   "cell_type": "markdown",
   "metadata": {
    "slideshow": {
     "slide_type": "slide"
    }
   },
   "source": [
    "# 2. Kubectl Basics - Inspecting the cluster\n",
    "\n",
    "<pre style=\"align:center\" >\n",
    "Kubectl is the standard CLI tool for working with a Kubernetes cluster.\n",
    "\n",
    "It connects to the cluster using the standard APIs.\n",
    "\n",
    "In this section we will see how we can interrogate different cluster resources (nodes, pods, deployments, ...) using actions (set, describe) and the different output choices available (text, json, yaml) for some commands.\n",
    "</pre>\n",
    "\n",
    "<br/><table align=\"right\" style='font-family:\"Courier New\", Courier, monospace; font-size:100%; bottom:0px;'>\n",
    "    <tr><td bgcolor=\"#ffffff\" color=\"#ffffff\"></td><td bgcolor=\"#ffffff\" color=\"#ffffff\"> <img src=\"http://www.icon100.com/up/3011/128/Twitter-alt.png\" width=\"40\"> </td><td bgcolor=\"#ffffff\" color=\"#ffffff\" > @containous </td></tr></table>"
   ]
  },
  {
   "cell_type": "markdown",
   "metadata": {
    "slideshow": {
     "slide_type": "slide"
    }
   },
   "source": [
    "Refer to the official Kubectl documentation, [Overview](https://kubernetes.io/docs/reference/kubectl/overview/) and [Cheat Sheet](https://kubernetes.io/docs/reference/kubectl/cheatsheet/)\n",
    "\n",
    "Kubectl commands are of the form\n",
    "\n",
    "```kubectl [command] [TYPE] [NAME] [flags]```\n",
    "\n",
    "For example\n",
    "\n",
    "#### ```kubectl version```\n",
    "will return the version of the kubectl client as well as the kubernetes API server to which it connects.\n",
    "\n",
    "<br/><table align=\"right\" style='font-family:\"Courier New\", Courier, monospace; font-size:100%; bottom:0px;'>\n",
    "    <tr><td bgcolor=\"#ffffff\" color=\"#ffffff\"></td><td bgcolor=\"#ffffff\" color=\"#ffffff\"> <img src=\"http://www.icon100.com/up/3011/128/Twitter-alt.png\" width=\"40\"> </td><td bgcolor=\"#ffffff\" color=\"#ffffff\" > @containous </td></tr></table>"
   ]
  },
  {
   "cell_type": "code",
   "execution_count": 1,
   "metadata": {
    "slideshow": {
     "slide_type": "slide"
    }
   },
   "outputs": [
    {
     "name": "stdout",
     "output_type": "stream",
     "text": [
      "Client Version: version.Info{Major:\"1\", Minor:\"9\", GitVersion:\"v1.9.4\", GitCommit:\"bee2d1505c4fe820744d26d41ecd3fdd4a3d6546\", GitTreeState:\"clean\", BuildDate:\"2018-03-12T16:29:47Z\", GoVersion:\"go1.9.3\", Compiler:\"gc\", Platform:\"linux/amd64\"}\n",
      "Server Version: version.Info{Major:\"1\", Minor:\"9\", GitVersion:\"v1.9.1\", GitCommit:\"3a1c9449a956b6026f075fa3134ff92f7d55f812\", GitTreeState:\"clean\", BuildDate:\"2018-01-04T11:40:06Z\", GoVersion:\"go1.9.2\", Compiler:\"gc\", Platform:\"linux/amd64\"}\n"
     ]
    }
   ],
   "source": [
    "kubectl version"
   ]
  },
  {
   "cell_type": "markdown",
   "metadata": {
    "slideshow": {
     "slide_type": "fragment"
    }
   },
   "source": [
    "However, this is not so readable.\n",
    "\n",
    "Note that we can also use the '-o' or '--output' option to specify the output format as 'json' or 'yaml':\n",
    "\n",
    "<br/><table align=\"right\" style='font-family:\"Courier New\", Courier, monospace; font-size:100%; bottom:0px;'>\n",
    "    <tr><td bgcolor=\"#ffffff\" color=\"#ffffff\"></td><td bgcolor=\"#ffffff\" color=\"#ffffff\"> <img src=\"http://www.icon100.com/up/3011/128/Twitter-alt.png\" width=\"40\"> </td><td bgcolor=\"#ffffff\" color=\"#ffffff\" > @containous </td></tr></table>"
   ]
  },
  {
   "cell_type": "code",
   "execution_count": 2,
   "metadata": {},
   "outputs": [
    {
     "name": "stdout",
     "output_type": "stream",
     "text": [
      "{\n",
      "  \"clientVersion\": {\n",
      "    \"major\": \"1\",\n",
      "    \"minor\": \"9\",\n",
      "    \"gitVersion\": \"v1.9.4\",\n",
      "    \"gitCommit\": \"bee2d1505c4fe820744d26d41ecd3fdd4a3d6546\",\n",
      "    \"gitTreeState\": \"clean\",\n",
      "    \"buildDate\": \"2018-03-12T16:29:47Z\",\n",
      "    \"goVersion\": \"go1.9.3\",\n",
      "    \"compiler\": \"gc\",\n",
      "    \"platform\": \"linux/amd64\"\n",
      "  },\n",
      "  \"serverVersion\": {\n",
      "    \"major\": \"1\",\n",
      "    \"minor\": \"9\",\n",
      "    \"gitVersion\": \"v1.9.1\",\n",
      "    \"gitCommit\": \"3a1c9449a956b6026f075fa3134ff92f7d55f812\",\n",
      "    \"gitTreeState\": \"clean\",\n",
      "    \"buildDate\": \"2018-01-04T11:40:06Z\",\n",
      "    \"goVersion\": \"go1.9.2\",\n",
      "    \"compiler\": \"gc\",\n",
      "    \"platform\": \"linux/amd64\"\n",
      "  }\n",
      "}\n"
     ]
    }
   ],
   "source": [
    "kubectl version -o json"
   ]
  },
  {
   "cell_type": "markdown",
   "metadata": {},
   "source": [
    "The '-o' option can be applied to some other kubectl commands to obtain output in a '*parseable*' format.\n",
    "\n",
    "This will often provide much more detail than the same command without '-o'.\n",
    "\n",
    "Try it yourself on the following '*get*' commands.\n",
    "\n",
    "\n",
    "#### ```kubectl get nodes```\n",
    "will return a list of nodes in the current cluster"
   ]
  },
  {
   "cell_type": "code",
   "execution_count": 3,
   "metadata": {},
   "outputs": [
    {
     "name": "stdout",
     "output_type": "stream",
     "text": [
      "NAME          STATUS    ROLES     AGE       VERSION\n",
      "kube-master   Ready     master    9h        v1.9.1\n",
      "kube-node-1   Ready     <none>    9h        v1.9.1\n",
      "kube-node-2   Ready     <none>    9h        v1.9.1\n"
     ]
    }
   ],
   "source": [
    "kubectl get nodes"
   ]
  },
  {
   "cell_type": "markdown",
   "metadata": {},
   "source": [
    "#### ```kubectl describe nodes```\n",
    "will describe the nodes in the current cluster, or we can select a specific node.\n",
    "\n",
    "Describe gives us much information about the current state of an object, including status and running pods.\n",
    "\n",
    "Let's examine our Master node 'kube-master':"
   ]
  },
  {
   "cell_type": "code",
   "execution_count": 4,
   "metadata": {},
   "outputs": [
    {
     "name": "stdout",
     "output_type": "stream",
     "text": [
      "Name:               kube-master\n",
      "Roles:              master\n",
      "Labels:             beta.kubernetes.io/arch=amd64\n",
      "                    beta.kubernetes.io/os=linux\n",
      "                    kubernetes.io/hostname=kube-master\n",
      "                    node-role.kubernetes.io/master=\n",
      "Annotations:        node.alpha.kubernetes.io/ttl=0\n",
      "                    volumes.kubernetes.io/controller-managed-attach-detach=true\n",
      "Taints:             node-role.kubernetes.io/master:NoSchedule\n",
      "CreationTimestamp:  Sat, 17 Mar 2018 07:50:19 +0000\n",
      "Conditions:\n",
      "  Type             Status  LastHeartbeatTime                 LastTransitionTime                Reason                       Message\n",
      "  ----             ------  -----------------                 ------------------                ------                       -------\n",
      "  OutOfDisk        False   Sat, 17 Mar 2018 17:46:50 +0000   Sat, 17 Mar 2018 07:50:10 +0000   KubeletHasSufficientDisk     kubelet has sufficient disk space available\n",
      "  MemoryPressure   False   Sat, 17 Mar 2018 17:46:50 +0000   Sat, 17 Mar 2018 07:50:10 +0000   KubeletHasSufficientMemory   kubelet has sufficient memory available\n",
      "  DiskPressure     False   Sat, 17 Mar 2018 17:46:50 +0000   Sat, 17 Mar 2018 07:50:10 +0000   KubeletHasNoDiskPressure     kubelet has no disk pressure\n",
      "  Ready            True    Sat, 17 Mar 2018 17:46:50 +0000   Sat, 17 Mar 2018 07:50:10 +0000   KubeletReady                 kubelet is posting ready status. AppArmor enabled\n",
      "Addresses:\n",
      "  InternalIP:  10.192.0.2\n",
      "  Hostname:    kube-master\n",
      "Capacity:\n",
      " cpu:     2\n",
      " memory:  2048112Ki\n",
      " pods:    110\n",
      "Allocatable:\n",
      " cpu:     2\n",
      " memory:  1945712Ki\n",
      " pods:    110\n",
      "System Info:\n",
      " Machine ID:                 84e1f7a629954bab86370768775f6dee\n",
      " System UUID:                0CC2F3F3-3178-423D-A980-75C331264956\n",
      " Boot ID:                    0f7d670a-fdae-4039-99d2-ef6c798607f7\n",
      " Kernel Version:             4.4.0-116-generic\n",
      " OS Image:                   Ubuntu 16.04.4 LTS\n",
      " Operating System:           linux\n",
      " Architecture:               amd64\n",
      " Container Runtime Version:  docker://1.12.6\n",
      " Kubelet Version:            v1.9.1\n",
      " Kube-Proxy Version:         v1.9.1\n",
      "ExternalID:                  kube-master\n",
      "Non-terminated Pods:         (5 in total)\n",
      "  Namespace                  Name                                   CPU Requests  CPU Limits  Memory Requests  Memory Limits\n",
      "  ---------                  ----                                   ------------  ----------  ---------------  -------------\n",
      "  kube-system                etcd-kube-master                       0 (0%)        0 (0%)      0 (0%)           0 (0%)\n",
      "  kube-system                kube-apiserver-kube-master             250m (12%)    0 (0%)      0 (0%)           0 (0%)\n",
      "  kube-system                kube-controller-manager-kube-master    200m (10%)    0 (0%)      0 (0%)           0 (0%)\n",
      "  kube-system                kube-proxy-lj9cd                       0 (0%)        0 (0%)      0 (0%)           0 (0%)\n",
      "  kube-system                kube-scheduler-kube-master             100m (5%)     0 (0%)      0 (0%)           0 (0%)\n",
      "Allocated resources:\n",
      "  (Total limits may be over 100 percent, i.e., overcommitted.)\n",
      "  CPU Requests  CPU Limits  Memory Requests  Memory Limits\n",
      "  ------------  ----------  ---------------  -------------\n",
      "  550m (27%)    0 (0%)      0 (0%)           0 (0%)\n",
      "Events:\n",
      "  Type    Reason                   Age              From                     Message\n",
      "  ----    ------                   ----             ----                     -------\n",
      "  Normal  NodeHasSufficientDisk    9h (x8 over 9h)  kubelet, kube-master     Node kube-master status is now: NodeHasSufficientDisk\n",
      "  Normal  NodeHasSufficientMemory  9h (x8 over 9h)  kubelet, kube-master     Node kube-master status is now: NodeHasSufficientMemory\n",
      "  Normal  NodeHasNoDiskPressure    9h (x7 over 9h)  kubelet, kube-master     Node kube-master status is now: NodeHasNoDiskPressure\n",
      "  Normal  Starting                 9h               kube-proxy, kube-master  Starting kube-proxy.\n",
      "  Normal  Starting                 1m               kubelet, kube-master     Starting kubelet.\n",
      "  Normal  NodeAllocatableEnforced  1m               kubelet, kube-master     Updated Node Allocatable limit across pods\n",
      "  Normal  NodeHasSufficientDisk    1m (x8 over 1m)  kubelet, kube-master     Node kube-master status is now: NodeHasSufficientDisk\n",
      "  Normal  NodeHasSufficientMemory  1m (x8 over 1m)  kubelet, kube-master     Node kube-master status is now: NodeHasSufficientMemory\n",
      "  Normal  NodeHasNoDiskPressure    1m (x7 over 1m)  kubelet, kube-master     Node kube-master status is now: NodeHasNoDiskPressure\n"
     ]
    }
   ],
   "source": [
    "kubectl describe nodes kube-master "
   ]
  },
  {
   "cell_type": "markdown",
   "metadata": {},
   "source": [
    "#### ```kubectl describe pod <POD>```\n",
    "\n",
    "will describe a specific pod instance '<POD>'.\n",
    "\n",
    "But as we have not yet created any pods within the default namespace we will select one of the system pods in the 'kube-system' namespace."
   ]
  },
  {
   "cell_type": "code",
   "execution_count": 5,
   "metadata": {},
   "outputs": [
    {
     "name": "stdout",
     "output_type": "stream",
     "text": [
      "NAME          STATUS    AGE\n",
      "default       Active    9h\n",
      "kube-public   Active    9h\n",
      "kube-system   Active    9h\n"
     ]
    }
   ],
   "source": [
    "kubectl get namespaces"
   ]
  },
  {
   "cell_type": "markdown",
   "metadata": {},
   "source": [
    "We first stock the name of that pod in variable $POD1.\n",
    "\n",
    "First, here is a list of all pods running in all namespaces on our cluster:"
   ]
  },
  {
   "cell_type": "code",
   "execution_count": 6,
   "metadata": {},
   "outputs": [
    {
     "name": "stdout",
     "output_type": "stream",
     "text": [
      "NAMESPACE     NAME                                  READY     STATUS             RESTARTS   AGE\n",
      "kube-system   etcd-kube-master                      1/1       Running            1          31s\n",
      "kube-system   kube-apiserver-kube-master            1/1       Running            1          9h\n",
      "kube-system   kube-controller-manager-kube-master   1/1       Running            1          33s\n",
      "kube-system   kube-proxy-k2mzl                      0/1       CrashLoopBackOff   3          1m\n",
      "kube-system   kube-proxy-lj9cd                      0/1       CrashLoopBackOff   3          1m\n",
      "kube-system   kube-proxy-sdzhh                      0/1       CrashLoopBackOff   3          1m\n",
      "kube-system   kube-scheduler-kube-master            1/1       Running            1          9h\n"
     ]
    }
   ],
   "source": [
    "kubectl get pods --all-namespaces"
   ]
  },
  {
   "cell_type": "code",
   "execution_count": 7,
   "metadata": {},
   "outputs": [
    {
     "name": "stdout",
     "output_type": "stream",
     "text": [
      "\n",
      "Let's investigate the first pod in the list: 'etcd-kube-master'\n",
      "Name:         etcd-kube-master\n",
      "Namespace:    kube-system\n",
      "Node:         kube-master/10.192.0.2\n",
      "Start Time:   Sat, 17 Mar 2018 17:45:18 +0000\n",
      "Labels:       component=etcd\n",
      "              tier=control-plane\n",
      "Annotations:  kubernetes.io/config.hash=408851a572c13f8177557fdb9151111c\n",
      "              kubernetes.io/config.mirror=408851a572c13f8177557fdb9151111c\n",
      "              kubernetes.io/config.seen=2018-03-17T17:45:13.766067613Z\n",
      "              kubernetes.io/config.source=file\n",
      "              scheduler.alpha.kubernetes.io/critical-pod=\n",
      "Status:       Running\n",
      "IP:           10.192.0.2\n",
      "Containers:\n",
      "  etcd:\n",
      "    Container ID:  docker://dfb34e99fdaaf95f4994acb8da7d7106bd7ac211d295e7344593a81d7acb5e62\n",
      "    Image:         gcr.io/google_containers/etcd-amd64:3.1.10\n",
      "    Image ID:      docker-pullable://gcr.io/google_containers/etcd-amd64@sha256:28cf78933de29fd26d7a879e51ebd39784cd98109568fd3da61b141257fb85a6\n",
      "    Port:          <none>\n",
      "    Command:\n",
      "      etcd\n",
      "      --listen-client-urls=http://127.0.0.1:2379\n",
      "      --advertise-client-urls=http://127.0.0.1:2379\n",
      "      --data-dir=/var/lib/etcd\n",
      "    State:          Running\n",
      "      Started:      Sat, 17 Mar 2018 17:45:20 +0000\n",
      "    Last State:     Terminated\n",
      "      Reason:       Completed\n",
      "      Exit Code:    0\n",
      "      Started:      Sat, 17 Mar 2018 07:50:16 +0000\n",
      "      Finished:     Sat, 17 Mar 2018 07:51:33 +0000\n",
      "    Ready:          True\n",
      "    Restart Count:  1\n",
      "    Liveness:       http-get http://127.0.0.1:2379/health delay=15s timeout=15s period=10s #success=1 #failure=8\n",
      "    Environment:    <none>\n",
      "    Mounts:\n",
      "      /var/lib/etcd from etcd (rw)\n",
      "Conditions:\n",
      "  Type           Status\n",
      "  Initialized    True \n",
      "  Ready          True \n",
      "  PodScheduled   True \n",
      "Volumes:\n",
      "  etcd:\n",
      "    Type:          HostPath (bare host directory volume)\n",
      "    Path:          /var/lib/etcd\n",
      "    HostPathType:  DirectoryOrCreate\n",
      "QoS Class:         BestEffort\n",
      "Node-Selectors:    <none>\n",
      "Tolerations:       :NoExecute\n",
      "Events:            <none>\n"
     ]
    }
   ],
   "source": [
    "POD1=$(kubectl get pods --namespace kube-system --no-headers | awk '{print $1}' | head -1)\n",
    "\n",
    "echo; echo \"Let's investigate the first pod in the list: '$POD1'\"\n",
    "\n",
    "kubectl describe pod $POD1 --namespace kube-system"
   ]
  },
  {
   "cell_type": "markdown",
   "metadata": {},
   "source": [
    "## Kubectl help\n",
    "\n",
    "Typing partial commands will allow kubectl to propose potential completions, e.g. typing"
   ]
  },
  {
   "cell_type": "code",
   "execution_count": 8,
   "metadata": {},
   "outputs": [
    {
     "name": "stdout",
     "output_type": "stream",
     "text": [
      "kubectl controls the Kubernetes cluster manager. \n",
      "\n",
      "Find more information at https://github.com/kubernetes/kubernetes.\n",
      "\n",
      "Basic Commands (Beginner):\n",
      "  create         Create a resource from a file or from stdin.\n",
      "  expose         Take a replication controller, service, deployment or pod and\n",
      "expose it as a new Kubernetes Service\n",
      "  run            Run a particular image on the cluster\n",
      "  set            Set specific features on objects\n",
      "  run-container  Run a particular image on the cluster. This command is\n",
      "deprecated, use \"run\" instead\n",
      "\n",
      "Basic Commands (Intermediate):\n",
      "  get            Display one or many resources\n",
      "  explain        Documentation of resources\n",
      "  edit           Edit a resource on the server\n",
      "  delete         Delete resources by filenames, stdin, resources and names, or\n",
      "by resources and label selector\n",
      "\n",
      "Deploy Commands:\n",
      "  rollout        Manage the rollout of a resource\n",
      "  rolling-update Perform a rolling update of the given ReplicationController\n",
      "  scale          Set a new size for a Deployment, ReplicaSet, Replication\n",
      "Controller, or Job\n",
      "  autoscale      Auto-scale a Deployment, ReplicaSet, or ReplicationController\n",
      "\n",
      "Cluster Management Commands:\n",
      "  certificate    Modify certificate resources.\n",
      "  cluster-info   Display cluster info\n",
      "  top            Display Resource (CPU/Memory/Storage) usage.\n",
      "  cordon         Mark node as unschedulable\n",
      "  uncordon       Mark node as schedulable\n",
      "  drain          Drain node in preparation for maintenance\n",
      "  taint          Update the taints on one or more nodes\n",
      "\n",
      "Troubleshooting and Debugging Commands:\n",
      "  describe       Show details of a specific resource or group of resources\n",
      "  logs           Print the logs for a container in a pod\n",
      "  attach         Attach to a running container\n",
      "  exec           Execute a command in a container\n",
      "  port-forward   Forward one or more local ports to a pod\n",
      "  proxy          Run a proxy to the Kubernetes API server\n",
      "  cp             Copy files and directories to and from containers.\n",
      "  auth           Inspect authorization\n",
      "\n",
      "Advanced Commands:\n",
      "  apply          Apply a configuration to a resource by filename or stdin\n",
      "  patch          Update field(s) of a resource using strategic merge patch\n",
      "  replace        Replace a resource by filename or stdin\n",
      "  convert        Convert config files between different API versions\n",
      "\n",
      "Settings Commands:\n",
      "  label          Update the labels on a resource\n",
      "  annotate       Update the annotations on a resource\n",
      "  completion     Output shell completion code for the specified shell (bash or\n",
      "zsh)\n",
      "\n",
      "Other Commands:\n",
      "  api-versions   Print the supported API versions on the server, in the form of\n",
      "\"group/version\"\n",
      "  config         Modify kubeconfig files\n",
      "  help           Help about any command\n",
      "  plugin         Runs a command-line plugin\n",
      "  version        Print the client and server version information\n",
      "\n",
      "Use \"kubectl <command> --help\" for more information about a given command.\n",
      "Use \"kubectl options\" for a list of global command-line options (applies to all\n",
      "commands).\n"
     ]
    }
   ],
   "source": [
    "kubectl"
   ]
  },
  {
   "cell_type": "markdown",
   "metadata": {},
   "source": [
    "#### kubectl get\n",
    "\n",
    "or to see what items we can apply get to:"
   ]
  },
  {
   "cell_type": "code",
   "execution_count": 9,
   "metadata": {},
   "outputs": [
    {
     "name": "stdout",
     "output_type": "stream",
     "text": [
      "You must specify the type of resource to get. Valid resource types include: \n",
      "\n",
      "  * all  \n",
      "  * certificatesigningrequests (aka 'csr')  \n",
      "  * clusterrolebindings  \n",
      "  * clusterroles  \n",
      "  * componentstatuses (aka 'cs')  \n",
      "  * configmaps (aka 'cm')  \n",
      "  * controllerrevisions  \n",
      "  * cronjobs  \n",
      "  * customresourcedefinition (aka 'crd')  \n",
      "  * daemonsets (aka 'ds')  \n",
      "  * deployments (aka 'deploy')  \n",
      "  * endpoints (aka 'ep')  \n",
      "  * events (aka 'ev')  \n",
      "  * horizontalpodautoscalers (aka 'hpa')  \n",
      "  * ingresses (aka 'ing')  \n",
      "  * jobs  \n",
      "  * limitranges (aka 'limits')  \n",
      "  * namespaces (aka 'ns')  \n",
      "  * networkpolicies (aka 'netpol')  \n",
      "  * nodes (aka 'no')  \n",
      "  * persistentvolumeclaims (aka 'pvc')  \n",
      "  * persistentvolumes (aka 'pv')  \n",
      "  * poddisruptionbudgets (aka 'pdb')  \n",
      "  * podpreset  \n",
      "  * pods (aka 'po')  \n",
      "  * podsecuritypolicies (aka 'psp')  \n",
      "  * podtemplates  \n",
      "  * replicasets (aka 'rs')  \n",
      "  * replicationcontrollers (aka 'rc')  \n",
      "  * resourcequotas (aka 'quota')  \n",
      "  * rolebindings  \n",
      "  * roles  \n",
      "  * secrets  \n",
      "  * serviceaccounts (aka 'sa')  \n",
      "  * services (aka 'svc')  \n",
      "  * statefulsets (aka 'sts')  \n",
      "  * storageclasses (aka 'sc')error: Required resource not specified.\n",
      "Use \"kubectl explain <resource>\" for a detailed description of that resource (e.g. kubectl explain pods).\n",
      "See 'kubectl get -h' for help and examples.\n"
     ]
    },
    {
     "ename": "",
     "evalue": "1",
     "output_type": "error",
     "traceback": []
    }
   ],
   "source": [
    "kubectl get"
   ]
  },
  {
   "cell_type": "markdown",
   "metadata": {},
   "source": [
    "## Abbreviations\n",
    "\n",
    "Some resource nouns such as pods can also be abbreviated, e.g. as po, and combined with the actual resource.\n",
    "\n",
    "The following are all requivalent:\n",
    "\n",
    "kubectl get pods mypod\n",
    "\n",
    "kubectl get pod mypod\n",
    "\n",
    "kubectl get po mypod\n",
    "\n",
    "kubectl get po/mypod"
   ]
  },
  {
   "cell_type": "markdown",
   "metadata": {},
   "source": [
    "## kubectl get all\n",
    "\n",
    "get all is handy as it will show a list of the most common resources, below we see\n",
    "- daemon sets\n",
    "- deployments\n",
    "- replica sets\n",
    "- pods"
   ]
  },
  {
   "cell_type": "code",
   "execution_count": 10,
   "metadata": {},
   "outputs": [
    {
     "name": "stdout",
     "output_type": "stream",
     "text": [
      "NAMESPACE     NAME            DESIRED   CURRENT   READY     UP-TO-DATE   AVAILABLE   NODE SELECTOR   AGE\n",
      "kube-system   ds/kube-proxy   3         3         0         3            0           <none>          9h\n",
      "\n",
      "NAMESPACE     NAME                          DESIRED   CURRENT   UP-TO-DATE   AVAILABLE   AGE\n",
      "kube-system   deploy/kube-dns               0         0         0            0           9h\n",
      "kube-system   deploy/kubernetes-dashboard   0         0         0            0           9h\n",
      "\n",
      "NAMESPACE     NAME                                 DESIRED   CURRENT   READY     AGE\n",
      "kube-system   rs/kube-dns-5d869f7dc9               0         0         0         9h\n",
      "kube-system   rs/kube-dns-6f4fd4bdf                0         0         0         9h\n",
      "kube-system   rs/kubernetes-dashboard-5867bddc4c   0         0         0         9h\n",
      "\n",
      "NAMESPACE     NAME            DESIRED   CURRENT   READY     UP-TO-DATE   AVAILABLE   NODE SELECTOR   AGE\n",
      "kube-system   ds/kube-proxy   3         3         0         3            0           <none>          9h\n",
      "\n",
      "NAMESPACE     NAME                          DESIRED   CURRENT   UP-TO-DATE   AVAILABLE   AGE\n",
      "kube-system   deploy/kube-dns               0         0         0            0           9h\n",
      "kube-system   deploy/kubernetes-dashboard   0         0         0            0           9h\n",
      "\n",
      "NAMESPACE     NAME                                 DESIRED   CURRENT   READY     AGE\n",
      "kube-system   rs/kube-dns-5d869f7dc9               0         0         0         9h\n",
      "kube-system   rs/kube-dns-6f4fd4bdf                0         0         0         9h\n",
      "kube-system   rs/kubernetes-dashboard-5867bddc4c   0         0         0         9h\n",
      "\n",
      "NAMESPACE     NAME                                     READY     STATUS             RESTARTS   AGE\n",
      "kube-system   po/etcd-kube-master                      1/1       Running            1          1m\n",
      "kube-system   po/kube-apiserver-kube-master            1/1       Running            1          9h\n",
      "kube-system   po/kube-controller-manager-kube-master   1/1       Running            1          1m\n",
      "kube-system   po/kube-proxy-k2mzl                      0/1       CrashLoopBackOff   4          2m\n",
      "kube-system   po/kube-proxy-lj9cd                      0/1       CrashLoopBackOff   4          2m\n",
      "kube-system   po/kube-proxy-sdzhh                      0/1       CrashLoopBackOff   4          2m\n",
      "kube-system   po/kube-scheduler-kube-master            1/1       Running            1          9h\n",
      "\n",
      "NAMESPACE     NAME                       TYPE        CLUSTER-IP     EXTERNAL-IP   PORT(S)         AGE\n",
      "default       svc/kubernetes             ClusterIP   10.96.0.1      <none>        443/TCP         9h\n",
      "kube-system   svc/kube-dns               ClusterIP   10.96.0.10     <none>        53/UDP,53/TCP   9h\n",
      "kube-system   svc/kubernetes-dashboard   NodePort    10.98.20.246   <none>        80:31550/TCP    9h\n"
     ]
    }
   ],
   "source": [
    "kubectl get all --all-namespaces"
   ]
  },
  {
   "cell_type": "markdown",
   "metadata": {},
   "source": [
    "In the above list we can see ds/kube-proxy, indicating that there is a **DaemonSet** called **kube-proxy** so that kube-proxy runs on every node - there are 3 instances (in general, there could be less if label constraints were used).\n",
    "\n",
    "We also see a list of **3 kube-proxy** pods which are the pods making up our DaemonSet.\n",
    "\n",
    "We see also **2 Deployments** which are **kube-dns** and **dashboard**, each having an associated **ReplicaSet**.\n",
    "\n",
    "\n",
    "\n",
    "There are many options to kubectl, you're invited to play with different options or to refer to the cheat sheet.\n",
    "\n",
    "#### kubectl get all -o wide\n",
    "\n",
    "The wide option allows to display extra information all in one 'wide' line per pod.\n",
    "\n",
    "Here we see the **ip address and the cluster node** on which the pod is running."
   ]
  },
  {
   "cell_type": "code",
   "execution_count": 11,
   "metadata": {
    "scrolled": true
   },
   "outputs": [
    {
     "name": "stdout",
     "output_type": "stream",
     "text": [
      "NAME               READY     STATUS    RESTARTS   AGE\n",
      "etcd-kube-master   1/1       Running   1          1m\n",
      "NAME               READY     STATUS    RESTARTS   AGE       IP           NODE\n",
      "etcd-kube-master   1/1       Running   1          1m        10.192.0.2   kube-master\n"
     ]
    }
   ],
   "source": [
    "kubectl get pods --namespace kube-system $POD1\n",
    "\n",
    "kubectl get pods --namespace kube-system $POD1 -o wide"
   ]
  },
  {
   "cell_type": "markdown",
   "metadata": {
    "slideshow": {
     "slide_type": "slide"
    }
   },
   "source": [
    "[INDEX](Kubernetes.ipynb)  [NEXT](3.pods.ipynb)\n",
    "\n",
    "<b><hr/></b>\n",
    "#### [LINK to [2.1 Kubectl Basics - DETAILED](2.1.kubectl_basics_DETAILED.ipynb)]"
   ]
  }
 ],
 "metadata": {
  "celltoolbar": "Slideshow",
  "kernelspec": {
   "display_name": "Bash",
   "language": "bash",
   "name": "bash"
  },
  "language_info": {
   "codemirror_mode": "shell",
   "file_extension": ".sh",
   "mimetype": "text/x-sh",
   "name": "bash"
  }
 },
 "nbformat": 4,
 "nbformat_minor": 2
}
