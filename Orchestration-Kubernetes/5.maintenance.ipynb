{
 "cells": [
  {
   "cell_type": "markdown",
   "metadata": {
    "slideshow": {
     "slide_type": "skip"
    }
   },
   "source": [
    "[INDEX](Kubernetes.ipynb)  [NEXT](6.tools.ipynb)\n",
    "\n",
    "<br/><table align=\"right\" style='font-family:\"Courier New\", Courier, monospace; font-size:100%; bottom:0px;'>\n",
    "    <tr><td bgcolor=\"#ffffff\" color=\"#ffffff\"></td><td bgcolor=\"#ffffff\" color=\"#ffffff\"> <img src=\"images/containous.logo.png\" width=\"100\" /> </td></tr></table>"
   ]
  },
  {
   "cell_type": "markdown",
   "metadata": {
    "slideshow": {
     "slide_type": "slide"
    }
   },
   "source": [
    "<img align=\"left\" src=\"https://avatars1.githubusercontent.com/u/13629408?s=400&v=4\" width=\"60\" />\n",
    "## 4. Maintenance Operations\n",
    "<!-- <br/><br/><br/><br/> -->\n",
    "<!-- Upgrading the version of an application, how we can we be sure that the upgrade has been successful and how to rollback to the previous version if needed\n",
    "\n",
    "We will look at\n",
    "- Rolling upgrade\n",
    "- Readystatus and health checks\n",
    "- Rollback\n",
    "- Node cordoning-->\n",
    "\n",
    "<pre style=\"align:center\" >\n",
    "In this section we look at practical aspects of deploying applications to a cluster.\n",
    "We will look at how we can roll out a new version of our application.\n",
    "We will work with a 3-node cluster comprised of 1 Master and 2 Workers.\n",
    "</pre>\n",
    "<center><img src=\"images/KubeNodes_1m_2w.svg.png\" width=\"800\" /></center>\n",
    "    \n",
    "<br/><table align=\"right\" style='font-family:\"Courier New\", Courier, monospace; font-size:100%; bottom:0px;'>\n",
    "    <tr><td bgcolor=\"#ffffff\" color=\"#ffffff\"></td><td bgcolor=\"#ffffff\" color=\"#ffffff\"> <img src=\"images/containous.logo.png\" width=\"100\" /> </td></tr></table>"
   ]
  },
  {
   "cell_type": "markdown",
   "metadata": {
    "slideshow": {
     "slide_type": "skip"
    }
   },
   "source": [
    "\n",
    "\n",
    "<br/><table align=\"right\" style='font-family:\"Courier New\", Courier, monospace; font-size:100%; bottom:0px;'>\n",
    "    <tr><td bgcolor=\"#ffffff\" color=\"#ffffff\"></td><td bgcolor=\"#ffffff\" color=\"#ffffff\"> <img src=\"images/containous.logo.png\" width=\"100\" /> </td></tr></table>"
   ]
  },
  {
   "cell_type": "code",
   "execution_count": 1,
   "metadata": {
    "slideshow": {
     "slide_type": "skip"
    }
   },
   "outputs": [],
   "source": [
    ". .shell.functions"
   ]
  },
  {
   "cell_type": "markdown",
   "metadata": {
    "slideshow": {
     "slide_type": "slide"
    }
   },
   "source": [
    "#### Let's first review our current deployment '*k8s-demo*'"
   ]
  },
  {
   "cell_type": "code",
   "execution_count": 2,
   "metadata": {
    "slideshow": {
     "slide_type": "fragment"
    }
   },
   "outputs": [
    {
     "name": "stdout",
     "output_type": "stream",
     "text": [
      "deployment \"k8s-demo\" created\n",
      "NAME       DESIRED   CURRENT   UP-TO-DATE   AVAILABLE   AGE\n",
      "k8s-demo   2         2         2            0           1s\n"
     ]
    }
   ],
   "source": [
    "CLEANUP\n",
    "\n",
    "kubectl run k8s-demo -l \"app=k8s-demo\" --image=mjbright/k8s-demo:1 --replicas=2 --port=8080\n",
    "\n",
    "kubectl get deploy k8s-demo"
   ]
  },
  {
   "cell_type": "code",
   "execution_count": 3,
   "metadata": {},
   "outputs": [
    {
     "name": "stdout",
     "output_type": "stream",
     "text": [
      "Name:                   k8s-demo\n",
      "Namespace:              default\n",
      "CreationTimestamp:      Thu, 22 Mar 2018 12:07:06 +0000\n",
      "Labels:                 app=k8s-demo\n",
      "Annotations:            deployment.kubernetes.io/revision=1\n",
      "Selector:               app=k8s-demo\n",
      "Replicas:               2 desired | 2 updated | 2 total | 2 available | 0 unavailable\n",
      "StrategyType:           RollingUpdate\n",
      "MinReadySeconds:        0\n",
      "RollingUpdateStrategy:  1 max unavailable, 1 max surge\n",
      "Pod Template:\n",
      "  Labels:  app=k8s-demo\n",
      "  Containers:\n",
      "   k8s-demo:\n",
      "    Image:        mjbright/k8s-demo:1\n",
      "    Port:         8080/TCP\n",
      "    Environment:  <none>\n",
      "    Mounts:       <none>\n",
      "  Volumes:        <none>\n",
      "Conditions:\n",
      "  Type           Status  Reason\n",
      "  ----           ------  ------\n",
      "  Available      True    MinimumReplicasAvailable\n",
      "OldReplicaSets:  <none>\n",
      "NewReplicaSet:   k8s-demo-6b76bd84d7 (2/2 replicas created)\n",
      "Events:\n",
      "  Type    Reason             Age   From                   Message\n",
      "  ----    ------             ----  ----                   -------\n",
      "  Normal  ScalingReplicaSet  5s    deployment-controller  Scaled up replica set k8s-demo-6b76bd84d7 to 2\n"
     ]
    }
   ],
   "source": [
    "kubectl describe deploy k8s-demo"
   ]
  },
  {
   "cell_type": "markdown",
   "metadata": {},
   "source": [
    "We see above that we are running version 1 of our service."
   ]
  },
  {
   "cell_type": "code",
   "execution_count": 4,
   "metadata": {},
   "outputs": [
    {
     "name": "stdout",
     "output_type": "stream",
     "text": [
      "    Image:        mjbright/k8s-demo:1\n"
     ]
    }
   ],
   "source": [
    "kubectl describe deploy k8s-demo | grep Image:"
   ]
  },
  {
   "cell_type": "markdown",
   "metadata": {},
   "source": [
    "Once a new version is available to deploy we perform a rolling upgrade to roll out this new version:\n",
    "\n",
    "We set the image attribute of our deployment.\n",
    "\n",
    "We can perform a '*rollout status*' to see the upgrade as it processes"
   ]
  },
  {
   "cell_type": "code",
   "execution_count": 5,
   "metadata": {},
   "outputs": [
    {
     "name": "stdout",
     "output_type": "stream",
     "text": [
      "deployment \"k8s-demo\" image updated\n",
      "Waiting for rollout to finish: 1 old replicas are pending termination...\n",
      "Waiting for rollout to finish: 1 old replicas are pending termination...\n",
      "Waiting for rollout to finish: 1 of 2 updated replicas are available...\n",
      "Waiting for rollout to finish: 1 of 2 updated replicas are available...\n",
      "deployment \"k8s-demo\" successfully rolled out\n"
     ]
    }
   ],
   "source": [
    "kubectl set image deployment k8s-demo k8s-demo=mjbright/k8s-demo:2 --record\n",
    "\n",
    "kubectl rollout status deploy k8s-demo"
   ]
  },
  {
   "cell_type": "markdown",
   "metadata": {},
   "source": [
    "#### Get new pods info"
   ]
  },
  {
   "cell_type": "code",
   "execution_count": 6,
   "metadata": {},
   "outputs": [
    {
     "name": "stdout",
     "output_type": "stream",
     "text": [
      "NAME                        READY     STATUS    RESTARTS   AGE       IP            NODE\n",
      "k8s-demo-6f66d87f98-pd6xf   1/1       Running   0          12s       10.192.3.10   kube-node-2\n",
      "k8s-demo-6f66d87f98-thxkr   1/1       Running   0          12s       10.192.2.12   kube-node-1\n",
      "POD1_IP=10.192.3.10\n",
      "POD2_IP=10.192.2.12\n"
     ]
    }
   ],
   "source": [
    "kubectl get pods -o wide\n",
    "\n",
    "POD1=$(kubectl get pods -o wide --no-headers=true | grep k8s-demo | grep Running | head -1 | awk '{print $1;}')\n",
    "POD2=$(kubectl get pods -o wide --no-headers=true | grep k8s-demo | grep Running | tail -1 | awk '{print $1;}')\n",
    "POD1_IP=$(kubectl get pods -o wide --no-headers=true | grep k8s-demo | grep Running | head -1 | awk '{print $6;}')\n",
    "POD2_IP=$(kubectl get pods -o wide --no-headers=true | grep k8s-demo | grep Running | tail -1 | awk '{print $6;}')\n",
    "\n",
    "echo POD1_IP=$POD1_IP\n",
    "echo POD2_IP=$POD2_IP"
   ]
  },
  {
   "cell_type": "markdown",
   "metadata": {},
   "source": [
    "### Observing the new version\n",
    "\n",
    "We can now access our application to verify that the deployment has been upgraded."
   ]
  },
  {
   "cell_type": "code",
   "execution_count": 7,
   "metadata": {},
   "outputs": [
    {
     "name": "stdout",
     "output_type": "stream",
     "text": [
      "\n",
      "\u001b[1;32m\n",
      "\n",
      "                               \n",
      "                    (((((((((                  \n",
      "               .(((((((((((((((((.             \n",
      "           .((((((((((((&((((((((((((.         \n",
      "       /((((((((((((((((@((((((((((((((((/     \n",
      "      ((((((((((((((((((@((((((((((((((((((    \n",
      "     *(((((##((((((@@@@@@@@@@@((((((%#(((((*   \n",
      "     (((((((@@@(@@@@#((@@@((#@@@@(@@@(((((((   \n",
      "    *(((((((((@@@@(((((@@@(((((@@@@(((((((((,  \n",
      "    (((((((((@@@%@@@@((@@@((@@@@%@@@(((((((((  \n",
      "   .(((((((((@@((((@@@@@@@@@@@((((@@(((((((((. \n",
      "   (((((((((&@@(((((@@@(((@@@(((((@@&((((((((( \n",
      "   (((((((((&@@@@@@@@@@#(#@@@@@@@@@@&((((((((( \n",
      "  ((((((@@@@@@@@(((((@@@@@@@(((((&@@@@@@@((((((\n",
      "  (((((((((((%@@((((%@@@(@@@%((((@@&(((((((((((\n",
      "   ((((((((((((@@@((@@%(((%@@((@@@(((((((((((( \n",
      "     (((((((((((#@@@@%(((((&@@@@#(((((((((((   \n",
      "      /(((((((((((@@@@@@@@@@@@@(((((((((((/    \n",
      "        (((((((((@@(((((((((((@@(((((((((      \n",
      "          (((((((&(((((((((((((&(((((((        \n",
      "           /(((((((((((((((((((((((((/         \n",
      "             (((((((((((((((((((((((           \n",
      "\n",
      "\u001b[0m\n",
      "\n",
      "Served from container \u001b[1;33mk8s-demo-6f66d87f98-pd6xf\u001b[0;0m\n",
      "Using image mjbright/k8s-demo:2\n"
     ]
    }
   ],
   "source": [
    "curl $POD1_IP:8080"
   ]
  },
  {
   "cell_type": "code",
   "execution_count": 8,
   "metadata": {},
   "outputs": [
    {
     "name": "stdout",
     "output_type": "stream",
     "text": [
      "\n",
      "\u001b[1;32m\n",
      "\n",
      "                               \n",
      "                    (((((((((                  \n",
      "               .(((((((((((((((((.             \n",
      "           .((((((((((((&((((((((((((.         \n",
      "       /((((((((((((((((@((((((((((((((((/     \n",
      "      ((((((((((((((((((@((((((((((((((((((    \n",
      "     *(((((##((((((@@@@@@@@@@@((((((%#(((((*   \n",
      "     (((((((@@@(@@@@#((@@@((#@@@@(@@@(((((((   \n",
      "    *(((((((((@@@@(((((@@@(((((@@@@(((((((((,  \n",
      "    (((((((((@@@%@@@@((@@@((@@@@%@@@(((((((((  \n",
      "   .(((((((((@@((((@@@@@@@@@@@((((@@(((((((((. \n",
      "   (((((((((&@@(((((@@@(((@@@(((((@@&((((((((( \n",
      "   (((((((((&@@@@@@@@@@#(#@@@@@@@@@@&((((((((( \n",
      "  ((((((@@@@@@@@(((((@@@@@@@(((((&@@@@@@@((((((\n",
      "  (((((((((((%@@((((%@@@(@@@%((((@@&(((((((((((\n",
      "   ((((((((((((@@@((@@%(((%@@((@@@(((((((((((( \n",
      "     (((((((((((#@@@@%(((((&@@@@#(((((((((((   \n",
      "      /(((((((((((@@@@@@@@@@@@@(((((((((((/    \n",
      "        (((((((((@@(((((((((((@@(((((((((      \n",
      "          (((((((&(((((((((((((&(((((((        \n",
      "           /(((((((((((((((((((((((((/         \n",
      "             (((((((((((((((((((((((           \n",
      "\n",
      "\u001b[0m\n",
      "\n",
      "Served from container \u001b[1;33mk8s-demo-6f66d87f98-thxkr\u001b[0;0m\n",
      "Using image mjbright/k8s-demo:2\n"
     ]
    }
   ],
   "source": [
    "curl $POD2_IP:8080"
   ]
  },
  {
   "cell_type": "markdown",
   "metadata": {},
   "source": [
    "#### Blue-green upgrades\n",
    "\n",
    "Note that if we performed these tests during the upgrade we might see the old \"blue\" icon and the new \"red\" icon whilst some pods have been upgraded and others not.\n"
   ]
  },
  {
   "cell_type": "markdown",
   "metadata": {
    "slideshow": {
     "slide_type": "slide"
    }
   },
   "source": [
    "[INDEX](Kubernetes.ipynb)  [NEXT](6.tools.ipynb)\n",
    "\n",
    "<br/><table align=\"right\" style='font-family:\"Courier New\", Courier, monospace; font-size:100%; bottom:0px;'>\n",
    "    <tr><td bgcolor=\"#ffffff\" color=\"#ffffff\"></td><td bgcolor=\"#ffffff\" color=\"#ffffff\"> <img src=\"images/containous.logo.png\" width=\"100\" /> </td></tr></table>"
   ]
  }
 ],
 "metadata": {
  "celltoolbar": "Slideshow",
  "kernelspec": {
   "display_name": "Bash",
   "language": "bash",
   "name": "bash"
  },
  "language_info": {
   "codemirror_mode": "shell",
   "file_extension": ".sh",
   "mimetype": "text/x-sh",
   "name": "bash"
  }
 },
 "nbformat": 4,
 "nbformat_minor": 2
}
