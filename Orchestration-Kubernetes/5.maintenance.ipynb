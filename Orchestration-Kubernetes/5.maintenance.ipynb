{
 "cells": [
  {
   "cell_type": "markdown",
   "metadata": {
    "slideshow": {
     "slide_type": "skip"
    }
   },
   "source": [
    "[INDEX](Kubernetes.ipynb)  [NEXT](6.tools.ipynb)"
   ]
  },
  {
   "cell_type": "markdown",
   "metadata": {
    "slideshow": {
     "slide_type": "slide"
    }
   },
   "source": [
    "<img align=\"left\" src=\"https://avatars1.githubusercontent.com/u/13629408?s=400&v=4\" width=\"60\" />\n",
    "## 5. Maintenance Operations\n",
    "<!-- <br/><br/><br/><br/> -->\n",
    "<pre style=\"align:center\" >\n",
    "In this section we look at practical aspects of deploying applications to a Kubernetes cluster.\n",
    "\n",
    "What happens when we want to upgrade the current version of the application, how we can we be sure that the upgrade has been successful and how to rollback to the previous version if needed</pre>\n",
    "\n",
    "<br/><table align=\"right\" style='font-family:\"Courier New\", Courier, monospace; font-size:100%; bottom:0px;'>\n",
    "    <tr><td bgcolor=\"#ffffff\" color=\"#ffffff\"></td><td bgcolor=\"#ffffff\" color=\"#ffffff\"> <img src=\"http://www.icon100.com/up/3011/128/Twitter-alt.png\" width=\"40\"> </td><td bgcolor=\"#ffffff\" color=\"#ffffff\" > @containous </td></tr></table>\n",
    "    "
   ]
  },
  {
   "cell_type": "markdown",
   "metadata": {
    "slideshow": {
     "slide_type": "slide"
    }
   },
   "source": [
    "\n",
    "We will look at\n",
    "- Rolling upgrade\n",
    "- Readystatus and health checks\n",
    "- Rollback\n",
    "- Node cordoning\n",
    "\n",
    "<br/><table align=\"right\" style='font-family:\"Courier New\", Courier, monospace; font-size:100%; bottom:0px;'>\n",
    "    <tr><td bgcolor=\"#ffffff\" color=\"#ffffff\"></td><td bgcolor=\"#ffffff\" color=\"#ffffff\"> <img src=\"http://www.icon100.com/up/3011/128/Twitter-alt.png\" width=\"40\"> </td><td bgcolor=\"#ffffff\" color=\"#ffffff\" > @containous </td></tr></table>\n",
    "    "
   ]
  },
  {
   "cell_type": "code",
   "execution_count": 1,
   "metadata": {
    "slideshow": {
     "slide_type": "skip"
    }
   },
   "outputs": [
    {
     "name": "stdout",
     "output_type": "stream",
     "text": [
      "Loading bash helper functions, new functions added:\n",
      "-- checkPresent \n",
      "-- checkState \n",
      "-- cont \n",
      "-- untilNotPresent \n",
      "-- untilNotState \n",
      "-- untilPresent \n",
      "-- untilState \n"
     ]
    }
   ],
   "source": [
    ". .shell.functions"
   ]
  },
  {
   "cell_type": "markdown",
   "metadata": {
    "slideshow": {
     "slide_type": "slide"
    }
   },
   "source": [
    "#### Let's first review our current deployment '*k8s-demo*'"
   ]
  },
  {
   "cell_type": "code",
   "execution_count": 2,
   "metadata": {
    "slideshow": {
     "slide_type": "fragment"
    }
   },
   "outputs": [
    {
     "name": "stdout",
     "output_type": "stream",
     "text": [
      "NAME       DESIRED   CURRENT   UP-TO-DATE   AVAILABLE   AGE\n",
      "k8s-demo   3         3         3            3           50m\n"
     ]
    }
   ],
   "source": [
    "kubectl get deploy k8s-demo"
   ]
  },
  {
   "cell_type": "code",
   "execution_count": 3,
   "metadata": {},
   "outputs": [
    {
     "name": "stdout",
     "output_type": "stream",
     "text": [
      "Name:                   k8s-demo\n",
      "Namespace:              default\n",
      "CreationTimestamp:      Mon, 12 Mar 2018 11:11:19 +0000\n",
      "Labels:                 app=k8s-demo\n",
      "Annotations:            deployment.kubernetes.io/revision=1\n",
      "Selector:               app=k8s-demo\n",
      "Replicas:               3 desired | 3 updated | 3 total | 3 available | 0 unavailable\n",
      "StrategyType:           RollingUpdate\n",
      "MinReadySeconds:        0\n",
      "RollingUpdateStrategy:  1 max unavailable, 1 max surge\n",
      "Pod Template:\n",
      "  Labels:  app=k8s-demo\n",
      "  Containers:\n",
      "   k8s-demo:\n",
      "    Image:        mjbright/k8s-demo:1\n",
      "    Port:         8080/TCP\n",
      "    Environment:  <none>\n",
      "    Mounts:       <none>\n",
      "  Volumes:        <none>\n",
      "Conditions:\n",
      "  Type           Status  Reason\n",
      "  ----           ------  ------\n",
      "  Available      True    MinimumReplicasAvailable\n",
      "OldReplicaSets:  <none>\n",
      "NewReplicaSet:   k8s-demo-6b76bd84d7 (3/3 replicas created)\n",
      "Events:\n",
      "  Type    Reason             Age                From                   Message\n",
      "  ----    ------             ----               ----                   -------\n",
      "  Normal  ScalingReplicaSet  50m                deployment-controller  Scaled up replica set k8s-demo-6b76bd84d7 to 2\n",
      "  Normal  ScalingReplicaSet  49m                deployment-controller  Scaled down replica set k8s-demo-6b76bd84d7 to 2\n",
      "  Normal  ScalingReplicaSet  32m (x2 over 49m)  deployment-controller  Scaled up replica set k8s-demo-6b76bd84d7 to 3\n"
     ]
    }
   ],
   "source": [
    "kubectl describe deploy k8s-demo"
   ]
  },
  {
   "cell_type": "markdown",
   "metadata": {},
   "source": [
    "We see above that we are running version 1 of our service."
   ]
  },
  {
   "cell_type": "code",
   "execution_count": 4,
   "metadata": {},
   "outputs": [
    {
     "name": "stdout",
     "output_type": "stream",
     "text": [
      "    Image:        mjbright/k8s-demo:1\n"
     ]
    }
   ],
   "source": [
    "kubectl describe deploy k8s-demo | grep Image:"
   ]
  },
  {
   "cell_type": "markdown",
   "metadata": {},
   "source": [
    "Once a new version is available to deploy we perform a rolling upgrade to roll out this new version:\n",
    "\n",
    "We set the image attribute of our deployment.\n",
    "\n",
    "We can perform a '*rollout status*' to see the upgrade as it processes"
   ]
  },
  {
   "cell_type": "code",
   "execution_count": 5,
   "metadata": {},
   "outputs": [
    {
     "name": "stdout",
     "output_type": "stream",
     "text": [
      "deployment \"k8s-demo\" image updated\n",
      "Waiting for rollout to finish: 1 out of 3 new replicas have been updated...\n",
      "Waiting for rollout to finish: 1 out of 3 new replicas have been updated...\n",
      "Waiting for rollout to finish: 2 out of 3 new replicas have been updated...\n",
      "Waiting for rollout to finish: 2 out of 3 new replicas have been updated...\n",
      "Waiting for rollout to finish: 1 old replicas are pending termination...\n",
      "Waiting for rollout to finish: 1 old replicas are pending termination...\n",
      "Waiting for rollout to finish: 1 old replicas are pending termination...\n",
      "Waiting for rollout to finish: 1 old replicas are pending termination...\n",
      "Waiting for rollout to finish: 2 of 3 updated replicas are available...\n",
      "deployment \"k8s-demo\" successfully rolled out\n"
     ]
    }
   ],
   "source": [
    "kubectl set image deployment k8s-demo k8s-demo=mjbright/k8s-demo:2 --record\n",
    "\n",
    "kubectl rollout status deploy k8s-demo"
   ]
  },
  {
   "cell_type": "markdown",
   "metadata": {},
   "source": [
    "#### Get new pods info"
   ]
  },
  {
   "cell_type": "code",
   "execution_count": 9,
   "metadata": {},
   "outputs": [
    {
     "name": "stdout",
     "output_type": "stream",
     "text": [
      "NAME                        READY     STATUS    RESTARTS   AGE       IP            NODE\n",
      "k8s-demo-6f66d87f98-5475d   1/1       Running   0          1m        10.192.3.27   kube-node-2\n",
      "k8s-demo-6f66d87f98-m7t9s   1/1       Running   0          1m        10.192.3.28   kube-node-2\n",
      "k8s-demo-6f66d87f98-txnt8   1/1       Running   0          1m        10.192.2.20   kube-node-1\n",
      "POD1_IP=10.192.3.27\n",
      "POD2_IP=10.192.2.20\n"
     ]
    }
   ],
   "source": [
    "kubectl get pods -o wide\n",
    "\n",
    "POD1=$(kubectl get pods -o wide --no-headers=true | grep k8s-demo | grep Running | head -1 | awk '{print $1;}')\n",
    "POD2=$(kubectl get pods -o wide --no-headers=true | grep k8s-demo | grep Running | tail -1 | awk '{print $1;}')\n",
    "POD1_IP=$(kubectl get pods -o wide --no-headers=true | grep k8s-demo | grep Running | head -1 | awk '{print $6;}')\n",
    "POD2_IP=$(kubectl get pods -o wide --no-headers=true | grep k8s-demo | grep Running | tail -1 | awk '{print $6;}')\n",
    "\n",
    "echo POD1_IP=$POD1_IP\n",
    "echo POD2_IP=$POD2_IP"
   ]
  },
  {
   "cell_type": "markdown",
   "metadata": {},
   "source": [
    "### Observing the new version\n",
    "\n",
    "We can now access our application to verify that the deployment has been upgraded."
   ]
  },
  {
   "cell_type": "code",
   "execution_count": 10,
   "metadata": {},
   "outputs": [
    {
     "name": "stdout",
     "output_type": "stream",
     "text": [
      "\n",
      "\u001b[1;32m\n",
      "\n",
      "                               \n",
      "                    (((((((((                  \n",
      "               .(((((((((((((((((.             \n",
      "           .((((((((((((&((((((((((((.         \n",
      "       /((((((((((((((((@((((((((((((((((/     \n",
      "      ((((((((((((((((((@((((((((((((((((((    \n",
      "     *(((((##((((((@@@@@@@@@@@((((((%#(((((*   \n",
      "     (((((((@@@(@@@@#((@@@((#@@@@(@@@(((((((   \n",
      "    *(((((((((@@@@(((((@@@(((((@@@@(((((((((,  \n",
      "    (((((((((@@@%@@@@((@@@((@@@@%@@@(((((((((  \n",
      "   .(((((((((@@((((@@@@@@@@@@@((((@@(((((((((. \n",
      "   (((((((((&@@(((((@@@(((@@@(((((@@&((((((((( \n",
      "   (((((((((&@@@@@@@@@@#(#@@@@@@@@@@&((((((((( \n",
      "  ((((((@@@@@@@@(((((@@@@@@@(((((&@@@@@@@((((((\n",
      "  (((((((((((%@@((((%@@@(@@@%((((@@&(((((((((((\n",
      "   ((((((((((((@@@((@@%(((%@@((@@@(((((((((((( \n",
      "     (((((((((((#@@@@%(((((&@@@@#(((((((((((   \n",
      "      /(((((((((((@@@@@@@@@@@@@(((((((((((/    \n",
      "        (((((((((@@(((((((((((@@(((((((((      \n",
      "          (((((((&(((((((((((((&(((((((        \n",
      "           /(((((((((((((((((((((((((/         \n",
      "             (((((((((((((((((((((((           \n",
      "\n",
      "\u001b[0m\n",
      "\n",
      "Served from container \u001b[1;33mk8s-demo-6f66d87f98-5475d\u001b[0;0m\n",
      "Using image mjbright/k8s-demo:2\n"
     ]
    }
   ],
   "source": [
    "curl $POD1_IP:8080"
   ]
  },
  {
   "cell_type": "code",
   "execution_count": 11,
   "metadata": {},
   "outputs": [
    {
     "name": "stdout",
     "output_type": "stream",
     "text": [
      "\n",
      "\u001b[1;32m\n",
      "\n",
      "                               \n",
      "                    (((((((((                  \n",
      "               .(((((((((((((((((.             \n",
      "           .((((((((((((&((((((((((((.         \n",
      "       /((((((((((((((((@((((((((((((((((/     \n",
      "      ((((((((((((((((((@((((((((((((((((((    \n",
      "     *(((((##((((((@@@@@@@@@@@((((((%#(((((*   \n",
      "     (((((((@@@(@@@@#((@@@((#@@@@(@@@(((((((   \n",
      "    *(((((((((@@@@(((((@@@(((((@@@@(((((((((,  \n",
      "    (((((((((@@@%@@@@((@@@((@@@@%@@@(((((((((  \n",
      "   .(((((((((@@((((@@@@@@@@@@@((((@@(((((((((. \n",
      "   (((((((((&@@(((((@@@(((@@@(((((@@&((((((((( \n",
      "   (((((((((&@@@@@@@@@@#(#@@@@@@@@@@&((((((((( \n",
      "  ((((((@@@@@@@@(((((@@@@@@@(((((&@@@@@@@((((((\n",
      "  (((((((((((%@@((((%@@@(@@@%((((@@&(((((((((((\n",
      "   ((((((((((((@@@((@@%(((%@@((@@@(((((((((((( \n",
      "     (((((((((((#@@@@%(((((&@@@@#(((((((((((   \n",
      "      /(((((((((((@@@@@@@@@@@@@(((((((((((/    \n",
      "        (((((((((@@(((((((((((@@(((((((((      \n",
      "          (((((((&(((((((((((((&(((((((        \n",
      "           /(((((((((((((((((((((((((/         \n",
      "             (((((((((((((((((((((((           \n",
      "\n",
      "\u001b[0m\n",
      "\n",
      "Served from container \u001b[1;33mk8s-demo-6f66d87f98-txnt8\u001b[0;0m\n",
      "Using image mjbright/k8s-demo:2\n"
     ]
    }
   ],
   "source": [
    "curl $POD2_IP:8080"
   ]
  },
  {
   "cell_type": "markdown",
   "metadata": {},
   "source": [
    "#### Blue-green upgrades\n",
    "\n",
    "Note that if we performed these tests during the upgrade we might see the old \"blue\" icon and the new \"red\" icon whilst some pods have been upgraded and others not.\n"
   ]
  },
  {
   "cell_type": "markdown",
   "metadata": {
    "slideshow": {
     "slide_type": "slide"
    }
   },
   "source": [
    "[INDEX](Kubernetes.ipynb)  [NEXT](6.tools.ipynb)"
   ]
  }
 ],
 "metadata": {
  "celltoolbar": "Slideshow",
  "kernelspec": {
   "display_name": "Bash",
   "language": "bash",
   "name": "bash"
  },
  "language_info": {
   "codemirror_mode": "shell",
   "file_extension": ".sh",
   "mimetype": "text/x-sh",
   "name": "bash"
  }
 },
 "nbformat": 4,
 "nbformat_minor": 2
}
