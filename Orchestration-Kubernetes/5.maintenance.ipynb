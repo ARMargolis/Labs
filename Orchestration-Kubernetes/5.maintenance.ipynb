{
 "cells": [
  {
   "cell_type": "markdown",
   "metadata": {},
   "source": [
    "# Kubernetes Maintenance Operations\n",
    "\n",
    "## Rolling upgrade of our deployment\n",
    "\n",
    "What happens when we need to provide a new version of our application?\n",
    "\n",
    "We need the platform to handle such upgrades cluster wide automatically.\n",
    "\n",
    "For this we use the rolling upgrade capability\n",
    "\n",
    "#### Let's first review our current deployment '*k8s-demo*'"
   ]
  },
  {
   "cell_type": "code",
   "execution_count": null,
   "metadata": {},
   "outputs": [],
   "source": [
    "kubectl get deploy k8s-demo"
   ]
  },
  {
   "cell_type": "code",
   "execution_count": null,
   "metadata": {},
   "outputs": [],
   "source": [
    "kubectl describe deploy k8s-demo"
   ]
  },
  {
   "cell_type": "markdown",
   "metadata": {},
   "source": [
    "We see above that we are running version 1 of our service."
   ]
  },
  {
   "cell_type": "code",
   "execution_count": null,
   "metadata": {},
   "outputs": [],
   "source": [
    "kubectl describe deploy k8s-demo | grep Image:"
   ]
  },
  {
   "cell_type": "markdown",
   "metadata": {},
   "source": [
    "Once a new version is available to deploy we perform a rolling upgrade to roll out this new version:\n",
    "\n",
    "We set the image attribute of our deployment.\n",
    "\n",
    "We can perform a '*rollout status*' to see the upgrade as it processes"
   ]
  },
  {
   "cell_type": "code",
   "execution_count": null,
   "metadata": {},
   "outputs": [],
   "source": [
    "kubectl set image deployment k8s-demo k8s-demo=mjbright/k8s-demo:2 --record\n",
    "\n",
    "\n",
    "kubectl rollout status deploy k8s-demo"
   ]
  },
  {
   "cell_type": "markdown",
   "metadata": {},
   "source": [
    "#### Get new pods info"
   ]
  },
  {
   "cell_type": "code",
   "execution_count": null,
   "metadata": {},
   "outputs": [],
   "source": [
    "kubectl get pods -o wide\n",
    "\n",
    "POD1=$(kubectl get pods -o wide --no-headers=true | head -1 | awk '{print $1;}')\n",
    "POD2=$(kubectl get pods -o wide --no-headers=true | tail -1 | awk '{print $1;}')\n",
    "POD1_IP=$(kubectl get pods -o wide --no-headers=true | head -1 | awk '{print $6;}')\n",
    "POD2_IP=$(kubectl get pods -o wide --no-headers=true | tail -1 | awk '{print $6;}')\n",
    "\n",
    "echo POD1_IP=$POD1_IP\n",
    "echo POD2_IP=$POD2_IP"
   ]
  },
  {
   "cell_type": "markdown",
   "metadata": {},
   "source": [
    "### Observing the new version\n",
    "\n",
    "We can now access our application to verify that the deployment has been upgraded."
   ]
  },
  {
   "cell_type": "code",
   "execution_count": null,
   "metadata": {},
   "outputs": [],
   "source": [
    "curl $POD1_IP:8080"
   ]
  },
  {
   "cell_type": "code",
   "execution_count": null,
   "metadata": {},
   "outputs": [],
   "source": [
    "curl $POD2_IP:8080"
   ]
  },
  {
   "cell_type": "markdown",
   "metadata": {},
   "source": [
    "#### Blue-green upgrades\n",
    "\n",
    "Note that if we performed these tests during the upgrade we might see the old \"blue\" icon and the new \"red\" icon whilst some pods have been upgraded and others not.\n",
    "\n",
    "## TO ADD\n",
    "\n",
    "- Readystatus and health checks\n",
    "- Rollback\n",
    "- Node cordoning"
   ]
  }
 ],
 "metadata": {
  "kernelspec": {
   "display_name": "Bash",
   "language": "bash",
   "name": "bash"
  },
  "language_info": {
   "codemirror_mode": "shell",
   "file_extension": ".sh",
   "mimetype": "text/x-sh",
   "name": "bash"
  }
 },
 "nbformat": 4,
 "nbformat_minor": 2
}
