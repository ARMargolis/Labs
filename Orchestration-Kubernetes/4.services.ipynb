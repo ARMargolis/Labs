{
 "cells": [
  {
   "cell_type": "markdown",
   "metadata": {
    "slideshow": {
     "slide_type": "skip"
    }
   },
   "source": [
    "[INDEX](Kubernetes.ipynb)  [NEXT](4.5.Traefik.ipynb)     [BELOW - LoadBalancer](#LoadBalancer)\n",
    "\n",
    "<br/><table align=\"right\" style='font-family:\"Courier New\", Courier, monospace; font-size:100%; bottom:0px;'>\n",
    "    <tr><td bgcolor=\"#ffffff\" color=\"#ffffff\"></td><td bgcolor=\"#ffffff\" color=\"#ffffff\"> <img src=\"images/containous.logo.png\" width=\"100\" /> </td></tr></table>"
   ]
  },
  {
   "cell_type": "markdown",
   "metadata": {
    "slideshow": {
     "slide_type": "slide"
    }
   },
   "source": [
    "<img align=\"left\" src=\"https://avatars1.githubusercontent.com/u/13629408?s=400&v=4\" width=\"60\" />\n",
    "## 4. Kubernetes Services\n",
    "\n",
    "# Exposing applications as a Service\n",
    "<pre style=\"align:center\" >\n",
    "In this section we will work with a Minikube-based single-node cluster.\n",
    "</pre>\n",
    "<center><img src=\"images/KubeNodes_1mw_Minikube.svg.png\" width=\"600\" /></center>\n",
    "<pre style=\"align:center\" >\n",
    "Nevertheless the following architecture diagrams will depict the more general multi-node case.\n",
    "</pre>\n",
    "    \n",
    "<br/><table align=\"right\" style='font-family:\"Courier New\", Courier, monospace; font-size:100%; bottom:0px;'>\n",
    "    <tr><td bgcolor=\"#ffffff\" color=\"#ffffff\"></td><td bgcolor=\"#ffffff\" color=\"#ffffff\"> <img src=\"images/containous.logo.png\" width=\"100\" /> </td></tr></table>"
   ]
  },
  {
   "cell_type": "markdown",
   "metadata": {
    "slideshow": {
     "slide_type": "slide"
    }
   },
   "source": [
    "## Services allow to hide Pod location\n",
    "<img src=\"images/Service_Access.svg.png\" width=\"400\" />\n",
    "<pre>\n",
    "During their lifecycle the ip addresses of Pods change (due to scaling, failures ...).\n",
    "\n",
    "Exposing our application as a Service allows to access at a known stable address.\n",
    "\n",
    "It can also allow load-balancing across pods.\n",
    "</pre>\n",
    "\n",
    "<br/><table align=\"right\" style='font-family:\"Courier New\", Courier, monospace; font-size:100%; bottom:0px;'>\n",
    "    <tr><td bgcolor=\"#ffffff\" color=\"#ffffff\"></td><td bgcolor=\"#ffffff\" color=\"#ffffff\"> <img src=\"images/containous.logo.png\" width=\"100\" /> </td></tr></table>"
   ]
  },
  {
   "cell_type": "markdown",
   "metadata": {
    "slideshow": {
     "slide_type": "slide"
    }
   },
   "source": [
    "## Accessing application Pods via a Service\n",
    "\n",
    "<pre>\n",
    "There exist several types of Service which may be used to safely expose Pods for external (or internal to the Cluster).\n",
    "\n",
    "We will look at just 3 ways\n",
    "- NodePort\n",
    "- LoadBalancer (requires an external LoadBalancer)\n",
    "- Ingress Controller\n",
    "</pre>\n",
    "\n",
    "<br/><table align=\"right\" style='font-family:\"Courier New\", Courier, monospace; font-size:100%; bottom:0px;'>\n",
    "    <tr><td bgcolor=\"#ffffff\" color=\"#ffffff\"></td><td bgcolor=\"#ffffff\" color=\"#ffffff\"> <img src=\"images/containous.logo.png\" width=\"100\" /> </td></tr></table>"
   ]
  },
  {
   "cell_type": "markdown",
   "metadata": {
    "slideshow": {
     "slide_type": "slide"
    }
   },
   "source": [
    "### NodePort\n",
    "\n",
    "<img src=\"images/Service_Access_NodePort.svg.png\" width=\"800\" />\n",
    "\n",
    "<br/><table align=\"right\" style='font-family:\"Courier New\", Courier, monospace; font-size:100%; bottom:0px;'>\n",
    "    <tr><td bgcolor=\"#ffffff\" color=\"#ffffff\"></td><td bgcolor=\"#ffffff\" color=\"#ffffff\"> <img src=\"images/containous.logo.png\" width=\"100\" /> </td></tr></table>"
   ]
  },
  {
   "cell_type": "markdown",
   "metadata": {
    "slideshow": {
     "slide_type": "slide"
    }
   },
   "source": [
    "### LoadBalancer\n",
    "\n",
    "<img src=\"images/Service_Access_LoadBalancer.svg.png\" width=\"800\" />\n",
    "\n",
    "<br/><table align=\"right\" style='font-family:\"Courier New\", Courier, monospace; font-size:100%; bottom:0px;'>\n",
    "    <tr><td bgcolor=\"#ffffff\" color=\"#ffffff\"></td><td bgcolor=\"#ffffff\" color=\"#ffffff\"> <img src=\"images/containous.logo.png\" width=\"100\" /> </td></tr></table>"
   ]
  },
  {
   "cell_type": "markdown",
   "metadata": {
    "slideshow": {
     "slide_type": "slide"
    }
   },
   "source": [
    "### Ingress\n",
    "\n",
    "<img src=\"images/Service_Access_Ingress.svg.png\" width=\"800\" />\n",
    "\n",
    "<br/><table align=\"right\" style='font-family:\"Courier New\", Courier, monospace; font-size:100%; bottom:0px;'>\n",
    "    <tr><td bgcolor=\"#ffffff\" color=\"#ffffff\"></td><td bgcolor=\"#ffffff\" color=\"#ffffff\"> <img src=\"images/containous.logo.png\" width=\"100\" /> </td></tr></table>"
   ]
  },
  {
   "cell_type": "markdown",
   "metadata": {
    "slideshow": {
     "slide_type": "slide"
    }
   },
   "source": [
    "#### For more information about using LoadBalancer see [HERE](https://kubernetes.io/docs/tasks/access-application-cluster/load-balance-access-application-cluster/)\n",
    "\n",
    "\n",
    "[INDEX](Kubernetes.ipynb)  [NEXT](4.5.Traefik.ipynb)\n",
    "\n",
    "<br/><table align=\"right\" style='font-family:\"Courier New\", Courier, monospace; font-size:100%; bottom:0px;'>\n",
    "    <tr><td bgcolor=\"#ffffff\" color=\"#ffffff\"></td><td bgcolor=\"#ffffff\" color=\"#ffffff\"> <img src=\"images/containous.logo.png\" width=\"100\" /> </td></tr></table>"
   ]
  }
 ],
 "metadata": {
  "celltoolbar": "Slideshow",
  "kernelspec": {
   "display_name": "Bash",
   "language": "bash",
   "name": "bash"
  },
  "language_info": {
   "codemirror_mode": "shell",
   "file_extension": ".sh",
   "mimetype": "text/x-sh",
   "name": "bash"
  }
 },
 "nbformat": 4,
 "nbformat_minor": 2
}
