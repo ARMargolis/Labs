{
 "cells": [
  {
   "cell_type": "markdown",
   "metadata": {
    "slideshow": {
     "slide_type": "skip"
    }
   },
   "source": [
    "[INDEX](Kubernetes.ipynb)  [NEXT](4.5.Traefik.ipynb)     [BELOW - LoadBalancer](#LoadBalancer)"
   ]
  },
  {
   "cell_type": "markdown",
   "metadata": {
    "slideshow": {
     "slide_type": "slide"
    }
   },
   "source": [
    "<img align=\"left\" src=\"https://avatars1.githubusercontent.com/u/13629408?s=400&v=4\" width=100 />\n",
    "# 4. Kubernetes Services\n",
    "\n",
    "# Exposing applications as a Service\n",
    "<pre style=\"align:center\" >\n",
    "For this section of the lab we will continue to work with our 3-node cluster comprised of 1 Master and 2 Workers.\n",
    "</pre>\n",
    "<img src=\"images/KubeNodes_1m_2w.svg.png\" width=\"400\" />\n",
    "    \n",
    "<br/><table align=\"right\" style='font-family:\"Courier New\", Courier, monospace; font-size:100%; bottom:0px;'>\n",
    "    <tr><td bgcolor=\"#ffffff\" color=\"#ffffff\"></td><td bgcolor=\"#ffffff\" color=\"#ffffff\"> <img src=\"http://www.icon100.com/up/3011/128/Twitter-alt.png\" width=\"40\"> </td><td bgcolor=\"#ffffff\" color=\"#ffffff\" > @containous </td></tr></table>"
   ]
  },
  {
   "cell_type": "markdown",
   "metadata": {
    "slideshow": {
     "slide_type": "slide"
    }
   },
   "source": [
    "## Services allow to abstract away Pod details\n",
    "As mentioned earlier exposing our application as a Service allows to access the application at a single virtual ip address and port - without having to know the ip addresses of the individual pods which may change ip address as pods are scaled up/down or as pods or nodes fail or come on line.\n",
    "\n",
    "It can also allow load-balancing across pods.\n",
    "\n",
    "<br/><table align=\"right\" style='font-family:\"Courier New\", Courier, monospace; font-size:100%; bottom:0px;'>\n",
    "    <tr><td bgcolor=\"#ffffff\" color=\"#ffffff\"></td><td bgcolor=\"#ffffff\" color=\"#ffffff\"> <img src=\"http://www.icon100.com/up/3011/128/Twitter-alt.png\" width=\"40\"> </td><td bgcolor=\"#ffffff\" color=\"#ffffff\" > @containous </td></tr></table>"
   ]
  },
  {
   "cell_type": "code",
   "execution_count": 1,
   "metadata": {
    "slideshow": {
     "slide_type": "slide"
    }
   },
   "outputs": [
    {
     "name": "stdout",
     "output_type": "stream",
     "text": [
      "Loading bash helper functions, new functions added:\n",
      "-- checkPresent \n",
      "-- checkState \n",
      "-- cont \n",
      "-- untilNotPresent \n",
      "-- untilNotState \n",
      "-- untilPresent \n",
      "-- untilState \n"
     ]
    }
   ],
   "source": [
    ". ./.shell.functions"
   ]
  },
  {
   "cell_type": "markdown",
   "metadata": {
    "slideshow": {
     "slide_type": "slide"
    }
   },
   "source": [
    "    \n",
    "## Accessing our application - via a Service NodePort\n",
    "\n",
    "We can expose our service using different types.\n",
    "\n",
    "The first type we will consider is called NodePort and has the effect of exposing our Service on the same port on each Kubernetes node - and so with the ip address of that node.\n",
    "\n",
    "Let's try that with our service:"
   ]
  },
  {
   "cell_type": "code",
   "execution_count": 2,
   "metadata": {
    "slideshow": {
     "slide_type": "slide"
    }
   },
   "outputs": [
    {
     "name": "stdout",
     "output_type": "stream",
     "text": [
      "k8s-demo-service   NodePort    10.111.29.175   <none>        8080:32102/TCP   5m\n",
      "service \"k8s-demo-service\" deleted\n",
      "service \"k8s-demo-service\" exposed\n"
     ]
    }
   ],
   "source": [
    "checkPresent svc k8s-demo-service &&\n",
    "    kubectl delete svc/k8s-demo-service\n",
    "    \n",
    "kubectl expose deploy k8s-demo --type=NodePort --name=k8s-demo-service"
   ]
  },
  {
   "cell_type": "code",
   "execution_count": 3,
   "metadata": {
    "slideshow": {
     "slide_type": "slide"
    }
   },
   "outputs": [
    {
     "name": "stdout",
     "output_type": "stream",
     "text": [
      "NAME               TYPE       CLUSTER-IP    EXTERNAL-IP   PORT(S)          AGE       SELECTOR\n",
      "k8s-demo-service   NodePort   10.108.8.95   <none>        8080:31897/TCP   1m        app=k8s-demo\n",
      "\n",
      "----\n",
      "EXPOSED_PORT=31897\n",
      "CLUSTER_IP=10.108.8.95\n"
     ]
    }
   ],
   "source": [
    "kubectl get svc/k8s-demo-service -o wide\n",
    "\n",
    "EXPOSED_PORT=$(kubectl get --no-headers=true svc/k8s-demo-service | awk '{ FS=\":\"; $0=$5; FS=\"/\"; $0=$2; print $1;}')\n",
    "CLUSTER_IP=$(kubectl get --no-headers=true svc/k8s-demo-service | awk '{ print $3;}')\n",
    "\n",
    "echo; echo \"----\"\n",
    "echo EXPOSED_PORT=$EXPOSED_PORT\n",
    "echo CLUSTER_IP=$CLUSTER_IP"
   ]
  },
  {
   "cell_type": "code",
   "execution_count": 4,
   "metadata": {
    "slideshow": {
     "slide_type": "slide"
    }
   },
   "outputs": [
    {
     "name": "stdout",
     "output_type": "stream",
     "text": [
      "deployment \"k8s-demo\" scaled\n"
     ]
    }
   ],
   "source": [
    "kubectl scale --replicas=3 deploy/k8s-demo"
   ]
  },
  {
   "cell_type": "code",
   "execution_count": 5,
   "metadata": {
    "slideshow": {
     "slide_type": "slide"
    }
   },
   "outputs": [
    {
     "name": "stdout",
     "output_type": "stream",
     "text": [
      "NAME              DESIRED   CURRENT   UP-TO-DATE   AVAILABLE   AGE       CONTAINERS   IMAGES                SELECTOR\n",
      "deploy/k8s-demo   3         3         3            3           52m       k8s-demo     mjbright/k8s-demo:1   app=k8s-demo\n",
      "\n",
      "NAME                     DESIRED   CURRENT   READY     AGE       CONTAINERS   IMAGES                SELECTOR\n",
      "rs/k8s-demo-6b76bd84d7   3         3         3         52m       k8s-demo     mjbright/k8s-demo:1   app=k8s-demo,pod-template-hash=2632684083\n",
      "\n",
      "NAME              DESIRED   CURRENT   UP-TO-DATE   AVAILABLE   AGE       CONTAINERS   IMAGES                SELECTOR\n",
      "deploy/k8s-demo   3         3         3            3           52m       k8s-demo     mjbright/k8s-demo:1   app=k8s-demo\n",
      "\n",
      "NAME                     DESIRED   CURRENT   READY     AGE       CONTAINERS   IMAGES                SELECTOR\n",
      "rs/k8s-demo-6b76bd84d7   3         3         3         52m       k8s-demo     mjbright/k8s-demo:1   app=k8s-demo,pod-template-hash=2632684083\n",
      "\n",
      "NAME                           READY     STATUS    RESTARTS   AGE       IP           NODE\n",
      "po/k8s-demo-6b76bd84d7-4rfz5   1/1       Running   0          52m       10.192.2.3   kube-node-1\n",
      "po/k8s-demo-6b76bd84d7-7ljmj   1/1       Running   0          4m        10.192.3.4   kube-node-2\n",
      "po/k8s-demo-6b76bd84d7-bvsxh   1/1       Running   0          52m       10.192.3.2   kube-node-2\n",
      "\n",
      "NAME                   TYPE        CLUSTER-IP    EXTERNAL-IP   PORT(S)          AGE       SELECTOR\n",
      "svc/k8s-demo-service   NodePort    10.108.8.95   <none>        8080:31897/TCP   3s        app=k8s-demo\n",
      "svc/kubernetes         ClusterIP   10.96.0.1     <none>        443/TCP          11h       <none>\n"
     ]
    }
   ],
   "source": [
    "kubectl get all -o wide"
   ]
  },
  {
   "cell_type": "markdown",
   "metadata": {
    "slideshow": {
     "slide_type": "slide"
    }
   },
   "source": [
    "## NOTE: No pods are scheduled to the Master node\n",
    "\n",
    "We would need to have a \"tainted\" Master node to allow Pods to be scheduled there (Minikube which is a single-node cluster obviously allows this).\n",
    "\n",
    "Note below that the pods are deployed to Worker nodes kube-node-1 and kube-node-2."
   ]
  },
  {
   "cell_type": "code",
   "execution_count": 6,
   "metadata": {
    "slideshow": {
     "slide_type": "fragment"
    }
   },
   "outputs": [
    {
     "name": "stdout",
     "output_type": "stream",
     "text": [
      "NAME                        READY     STATUS    RESTARTS   AGE       IP           NODE\n",
      "k8s-demo-6b76bd84d7-4rfz5   1/1       Running   0          52m       10.192.2.3   kube-node-1\n",
      "k8s-demo-6b76bd84d7-7ljmj   1/1       Running   0          4m        10.192.3.4   kube-node-2\n",
      "k8s-demo-6b76bd84d7-bvsxh   1/1       Running   0          52m       10.192.3.2   kube-node-2\n"
     ]
    }
   ],
   "source": [
    "kubectl get pods -o wide"
   ]
  },
  {
   "cell_type": "markdown",
   "metadata": {
    "slideshow": {
     "slide_type": "slide"
    }
   },
   "source": [
    "Let's try to access the Pods directly on the Worker nodes:"
   ]
  },
  {
   "cell_type": "code",
   "execution_count": 1,
   "metadata": {
    "slideshow": {
     "slide_type": "fragment"
    }
   },
   "outputs": [
    {
     "name": "stdout",
     "output_type": "stream",
     "text": [
      "NODE1_IP=10.192.0.3\n",
      "NODE2_IP=10.192.0.4\n"
     ]
    }
   ],
   "source": [
    "NODE1_IP=$(kubectl describe node kube-node-1 | grep InternalIP: | sed 's/.*: *//')\n",
    "NODE2_IP=$(kubectl describe node kube-node-2 | grep InternalIP: | sed 's/.*: *//')\n",
    "\n",
    "echo \"NODE1_IP=$NODE1_IP\"\n",
    "echo \"NODE2_IP=$NODE2_IP\""
   ]
  },
  {
   "cell_type": "code",
   "execution_count": 8,
   "metadata": {},
   "outputs": [
    {
     "name": "stdout",
     "output_type": "stream",
     "text": [
      "\r\n"
     ]
    }
   ],
   "source": [
    "curl 10.111.29.175:32102"
   ]
  },
  {
   "cell_type": "code",
   "execution_count": null,
   "metadata": {},
   "outputs": [],
   "source": [
    "curl 10.111.29.175:8080"
   ]
  },
  {
   "cell_type": "code",
   "execution_count": 5,
   "metadata": {},
   "outputs": [
    {
     "name": "stdout",
     "output_type": "stream",
     "text": [
      "curl: (7) Failed to connect to 10.192.0.4 port 31897: Connection refused\n"
     ]
    },
    {
     "ename": "",
     "evalue": "7",
     "output_type": "error",
     "traceback": []
    }
   ],
   "source": [
    "curl $NODE2_IP:$EXPOSED_PORT"
   ]
  },
  {
   "cell_type": "code",
   "execution_count": 4,
   "metadata": {},
   "outputs": [
    {
     "name": "stdout",
     "output_type": "stream",
     "text": [
      "curl: (7) Failed to connect to 10.192.0.3 port 31897: Connection refused\n"
     ]
    },
    {
     "ename": "",
     "evalue": "7",
     "output_type": "error",
     "traceback": []
    }
   ],
   "source": [
    "curl $NODE1_IP:$EXPOSED_PORT"
   ]
  },
  {
   "cell_type": "code",
   "execution_count": null,
   "metadata": {},
   "outputs": [],
   "source": [
    "kubectl describe svc/k8s-demo-service"
   ]
  },
  {
   "cell_type": "markdown",
   "metadata": {},
   "source": [
    "#### For more information about using NodePort see [HERE](https://kubernetes.io/docs/tasks/access-application-cluster/service-access-application-cluster/)\n",
    "\n",
    "**Note**: Although there is a Cluster IP there is no Service IP assigned, because we are using NodePort\n",
    "\n",
    "So we can access our Pods by connecting to the hosting node but not to the Service ... so far ..."
   ]
  },
  {
   "cell_type": "markdown",
   "metadata": {},
   "source": [
    "<a name=\"LoadBalancer\"> </a>\n",
    "\n",
    "## Accessing our application - via a Service LoadBalancer\n"
   ]
  },
  {
   "cell_type": "code",
   "execution_count": null,
   "metadata": {},
   "outputs": [],
   "source": [
    "#kubectl delete svc/k8s-demo-service\n",
    "kubectl delete svc/k8s-demo-service-lb\n",
    "#kubectl expose deploy k8s-demo --type=LoadBalancer --name=k8s-demo-service-lb\n",
    "\n",
    "RS_K8SDEMO=$(kubectl get rs | grep k8s-demo | awk '{ print $1;}')\n",
    "\n",
    "#kubectl expose deploy k8s-demo --type=LoadBalancer --name=k8s-demo-service-lb\n",
    "\n",
    "kubectl expose rs $RS_K8SDEMO --type=\"LoadBalancer\" --name=\"k8s-demo-service-lb\""
   ]
  },
  {
   "cell_type": "code",
   "execution_count": null,
   "metadata": {},
   "outputs": [],
   "source": [
    "kubectl get svc -o wide"
   ]
  },
  {
   "cell_type": "markdown",
   "metadata": {},
   "source": [
    "### LoadBalancer not working with kubeadm/minikube\n",
    "\n",
    "As described [here](https://forums.manning.com/posts/list/42097.page) currently Kubernetes implementations created with kubeadm (which was used to prepare this cluster) and minikube do not yet implement tLoadBalancer Service."
   ]
  },
  {
   "cell_type": "code",
   "execution_count": null,
   "metadata": {},
   "outputs": [],
   "source": [
    "#untilNotState svc k8s-demo-service-lb pending"
   ]
  },
  {
   "cell_type": "code",
   "execution_count": null,
   "metadata": {},
   "outputs": [],
   "source": [
    "kubectl describe svc/k8s-demo-service-lb\n",
    "\n",
    "LB_EXPOSED_PORT=$(kubectl get --no-headers=true svc/k8s-demo-service-lb | awk '{ FS=\":\"; $0=$5; FS=\"/\"; $0=$2; print $1;}')\n",
    "LB_CLUSTER_IP=$(kubectl get --no-headers=true svc/k8s-demo-service-lb | awk '{ print $3;}')\n",
    "\n",
    "echo\n",
    "echo LB_EXPOSED_PORT=$LB_EXPOSED_PORT\n",
    "echo LB_CLUSTER_IP=$LB_CLUSTER_IP\n",
    "echo MASTER_IP=$MASTER_IP"
   ]
  },
  {
   "cell_type": "code",
   "execution_count": null,
   "metadata": {},
   "outputs": [],
   "source": [
    "curl ${LB_CLUSTER_IP}:$LB_EXPOSED_PORT"
   ]
  },
  {
   "cell_type": "code",
   "execution_count": null,
   "metadata": {},
   "outputs": [],
   "source": [
    "curl ${MASTER_IP}:$EXPOSED_PORT"
   ]
  },
  {
   "cell_type": "code",
   "execution_count": null,
   "metadata": {},
   "outputs": [],
   "source": [
    "kubectl describe no/kube-master | grep \"InternalIP:\"\n",
    "\n",
    "MASTER_IP=$(kubectl describe no/kube-master | grep \"InternalIP:\" | sed -e 's/.*: *//')\n",
    "echo MASTER_IP=$MASTER_IP\n",
    "WORKER1_IP=$(kubectl describe no/kube-node-1 | grep \"InternalIP:\" | sed -e 's/.*: *//')\n",
    "echo WORKER1_IP=$WORKER1_IP\n",
    "WORKER2_IP=$(kubectl describe no/kube-node-2 | grep \"InternalIP:\" | sed -e 's/.*: *//')\n",
    "echo WORKER2_IP=$WORKER2_IP\n",
    "\n",
    "#curl $MASTER_IP:8080\n",
    "curl $WORKER2_IP:8080\n",
    "curl $WORKER2_IP:$EXPOSED_PORT\n",
    "curl $WORKER1_IP:8080\n",
    "curl $WORKER1_IP:$EXPOSED_PORT\n",
    "curl $MASTER_IP:$EXPOSED_PORT"
   ]
  },
  {
   "cell_type": "markdown",
   "metadata": {
    "slideshow": {
     "slide_type": "slide"
    }
   },
   "source": [
    "#### For more information about using LoadBalancer see [HERE](https://kubernetes.io/docs/tasks/access-application-cluster/load-balance-access-application-cluster/)\n",
    "\n",
    "\n",
    "[INDEX](Kubernetes.ipynb)  [NEXT](4.5.Traefik.ipynb)\n"
   ]
  }
 ],
 "metadata": {
  "celltoolbar": "Slideshow",
  "kernelspec": {
   "display_name": "Bash",
   "language": "bash",
   "name": "bash"
  },
  "language_info": {
   "codemirror_mode": "shell",
   "file_extension": ".sh",
   "mimetype": "text/x-sh",
   "name": "bash"
  }
 },
 "nbformat": 4,
 "nbformat_minor": 2
}
