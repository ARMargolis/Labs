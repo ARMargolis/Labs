{
 "cells": [
  {
   "cell_type": "markdown",
   "metadata": {
    "slideshow": {
     "slide_type": "skip"
    }
   },
   "source": [
    "[INDEX](Kubernetes.ipynb)  [NEXT](4.5.Traefik.ipynb)     [BELOW - LoadBalancer](#LoadBalancer)"
   ]
  },
  {
   "cell_type": "markdown",
   "metadata": {
    "slideshow": {
     "slide_type": "slide"
    }
   },
   "source": [
    "<img align=\"left\" src=\"https://avatars1.githubusercontent.com/u/13629408?s=400&v=4\" width=100 />\n",
    "\n",
    "# 4. Kubernetes Services\n",
    "\n",
    "# Exposing applications as a Service\n",
    "<pre style=\"align:center\" >\n",
    "For this section of the lab we will continue to work with our N worker-node cluster.\n",
    "</pre>\n",
    "<img src=\"images/KubeNodes_1m_2w.svg.png\" width=\"400\" />\n",
    "    \n",
    "<br/><table align=\"right\" style='font-family:\"Courier New\", Courier, monospace; font-size:100%; bottom:0px;'>\n",
    "    <tr><td bgcolor=\"#ffffff\" color=\"#ffffff\"></td><td bgcolor=\"#ffffff\" color=\"#ffffff\"> <img src=\"http://www.icon100.com/up/3011/128/Twitter-alt.png\" width=\"40\"> </td><td bgcolor=\"#ffffff\" color=\"#ffffff\" > @mjbright </td></tr></table>"
   ]
  },
  {
   "cell_type": "markdown",
   "metadata": {
    "slideshow": {
     "slide_type": "slide"
    }
   },
   "source": [
    "## Services allow to abstract away Pod details\n",
    "As mentioned earlier exposing our application as a Service allows to access the application at a single virtual ip address and port - without having to know the ip addresses of the individual pods which may change ip address as pods are scaled up/down or as pods or nodes fail or come on line.\n",
    "\n",
    "It can also allow load-balancing across pods.\n",
    "\n",
    "<br/><table align=\"right\" style='font-family:\"Courier New\", Courier, monospace; font-size:100%; bottom:0px;'>\n",
    "    <tr><td bgcolor=\"#ffffff\" color=\"#ffffff\"></td><td bgcolor=\"#ffffff\" color=\"#ffffff\"> <img src=\"http://www.icon100.com/up/3011/128/Twitter-alt.png\" width=\"40\"> </td><td bgcolor=\"#ffffff\" color=\"#ffffff\" > @mjbright </td></tr></table>"
   ]
  },
  {
   "cell_type": "code",
   "execution_count": 2,
   "metadata": {
    "slideshow": {
     "slide_type": "slide"
    }
   },
   "outputs": [
    {
     "name": "stdout",
     "output_type": "stream",
     "text": [
      "NAME                        READY     STATUS    RESTARTS   AGE\n",
      "k8s-demo-6b76bd84d7-qmzrl   1/1       Running   0          9m\n",
      "k8s-demo-6b76bd84d7-vsnj9   1/1       Running   0          17m\n"
     ]
    }
   ],
   "source": [
    "kubectl get pods"
   ]
  },
  {
   "cell_type": "code",
   "execution_count": 7,
   "metadata": {
    "slideshow": {
     "slide_type": "slide"
    }
   },
   "outputs": [
    {
     "name": "stdout",
     "output_type": "stream",
     "text": [
      "deployment.extensions \"k8s-demo\" deleted\n"
     ]
    }
   ],
   "source": [
    "kubectl delete deploy -l app=k8s-demo"
   ]
  },
  {
   "cell_type": "code",
   "execution_count": 8,
   "metadata": {
    "slideshow": {
     "slide_type": "slide"
    }
   },
   "outputs": [
    {
     "name": "stdout",
     "output_type": "stream",
     "text": [
      "NAME                        READY     STATUS        RESTARTS   AGE\n",
      "k8s-demo-6b76bd84d7-6nxrw   0/1       Terminating   0          43s\n",
      "k8s-demo-6b76bd84d7-bqbzl   0/1       Terminating   0          44s\n"
     ]
    }
   ],
   "source": [
    "kubectl get pods"
   ]
  },
  {
   "cell_type": "code",
   "execution_count": 9,
   "metadata": {
    "slideshow": {
     "slide_type": "slide"
    }
   },
   "outputs": [
    {
     "name": "stdout",
     "output_type": "stream",
     "text": [
      "No resources found.\n"
     ]
    }
   ],
   "source": [
    "kubectl get pods"
   ]
  },
  {
   "cell_type": "code",
   "execution_count": 10,
   "metadata": {
    "slideshow": {
     "slide_type": "slide"
    }
   },
   "outputs": [
    {
     "name": "stdout",
     "output_type": "stream",
     "text": [
      "deployment.apps \"k8s-demo\" created\n"
     ]
    }
   ],
   "source": [
    "kubectl run k8s-demo -l \"app=k8s-demo\" --image=mjbright/k8s-demo:1 --replicas=2 --port=8080 "
   ]
  },
  {
   "cell_type": "code",
   "execution_count": 11,
   "metadata": {
    "slideshow": {
     "slide_type": "slide"
    }
   },
   "outputs": [
    {
     "name": "stdout",
     "output_type": "stream",
     "text": [
      "NAME                        READY     STATUS    RESTARTS   AGE\n",
      "k8s-demo-6b76bd84d7-gn9vs   1/1       Running   0          16s\n",
      "k8s-demo-6b76bd84d7-pk9mh   1/1       Running   0          16s\n"
     ]
    }
   ],
   "source": [
    "kubectl get pods"
   ]
  },
  {
   "cell_type": "markdown",
   "metadata": {
    "slideshow": {
     "slide_type": "slide"
    }
   },
   "source": [
    "    \n",
    "## Accessing our application - via a Service NodePort\n",
    "\n",
    "We can expose our service using different types.\n",
    "\n",
    "The first type we will consider is called NodePort and has the effect of exposing our Service on the same port on each Kubernetes node - and so with the ip address of that node.\n",
    "\n",
    "Let's try that with our service:"
   ]
  },
  {
   "cell_type": "code",
   "execution_count": 12,
   "metadata": {
    "slideshow": {
     "slide_type": "slide"
    }
   },
   "outputs": [
    {
     "name": "stdout",
     "output_type": "stream",
     "text": [
      "service \"k8s-demo-service\" exposed\n"
     ]
    }
   ],
   "source": [
    "kubectl expose deploy k8s-demo --type=NodePort --name=k8s-demo-service"
   ]
  },
  {
   "cell_type": "code",
   "execution_count": 13,
   "metadata": {
    "slideshow": {
     "slide_type": "slide"
    }
   },
   "outputs": [
    {
     "name": "stdout",
     "output_type": "stream",
     "text": [
      "NAME               TYPE       CLUSTER-IP     EXTERNAL-IP   PORT(S)          AGE       SELECTOR\n",
      "k8s-demo-service   NodePort   10.0.125.184   <none>        8080:31909/TCP   18s       app=k8s-demo\n",
      "\n",
      "----\n",
      "EXPOSED_PORT=31909\n",
      "CLUSTER_IP=10.0.125.184\n"
     ]
    }
   ],
   "source": [
    "kubectl get svc/k8s-demo-service -o wide\n",
    "\n",
    "EXPOSED_PORT=$(kubectl get --no-headers=true svc/k8s-demo-service | awk '{ FS=\":\"; $0=$5; FS=\"/\"; $0=$2; print $1;}')\n",
    "CLUSTER_IP=$(kubectl get --no-headers=true svc/k8s-demo-service | awk '{ print $3;}')\n",
    "\n",
    "echo; echo \"----\"\n",
    "echo EXPOSED_PORT=$EXPOSED_PORT\n",
    "echo CLUSTER_IP=$CLUSTER_IP"
   ]
  },
  {
   "cell_type": "markdown",
   "metadata": {
    "slideshow": {
     "slide_type": "slide"
    }
   },
   "source": [
    "If you are running inside a Pod on the AKS cluster you can already access the service using the CLUSTER-IP address and the internal port.\n",
    "\n",
    "This is not using the NodePort."
   ]
  },
  {
   "cell_type": "code",
   "execution_count": null,
   "metadata": {
    "slideshow": {
     "slide_type": "slide"
    }
   },
   "outputs": [],
   "source": [
    "curl $CLUSTER_IP:8080"
   ]
  },
  {
   "cell_type": "markdown",
   "metadata": {
    "slideshow": {
     "slide_type": "slide"
    }
   },
   "source": [
    "In AKS environment we do not know the Node ip addresses, if we did we could curl on\n",
    "\n",
    "NODE_IP:EXPOSED_PORT"
   ]
  },
  {
   "cell_type": "code",
   "execution_count": 15,
   "metadata": {
    "slideshow": {
     "slide_type": "slide"
    }
   },
   "outputs": [
    {
     "name": "stdout",
     "output_type": "stream",
     "text": [
      "deployment.extensions \"k8s-demo\" scaled\n"
     ]
    }
   ],
   "source": [
    "kubectl scale --replicas=3 deploy/k8s-demo"
   ]
  },
  {
   "cell_type": "code",
   "execution_count": 16,
   "metadata": {
    "slideshow": {
     "slide_type": "slide"
    }
   },
   "outputs": [
    {
     "name": "stdout",
     "output_type": "stream",
     "text": [
      "NAME                            READY     STATUS    RESTARTS   AGE       IP           NODE\n",
      "pod/k8s-demo-6b76bd84d7-d496w   1/1       Running   0          2m        10.244.8.8   aks-nodepool1-35637019-1\n",
      "pod/k8s-demo-6b76bd84d7-gn9vs   1/1       Running   0          3m        10.244.4.8   aks-nodepool1-35637019-9\n",
      "pod/k8s-demo-6b76bd84d7-pk9mh   1/1       Running   0          3m        10.244.6.8   aks-nodepool1-35637019-6\n",
      "\n",
      "NAME                       TYPE        CLUSTER-IP     EXTERNAL-IP   PORT(S)          AGE       SELECTOR\n",
      "service/k8s-demo-service   NodePort    10.0.125.184   <none>        8080:31909/TCP   3m        app=k8s-demo\n",
      "service/kubernetes         ClusterIP   10.0.0.1       <none>        443/TCP          16h       <none>\n",
      "\n",
      "NAME                             DESIRED   CURRENT   UP-TO-DATE   AVAILABLE   AGE       CONTAINERS   IMAGES                SELECTOR\n",
      "deployment.extensions/k8s-demo   3         3         3            3           3m        k8s-demo     mjbright/k8s-demo:1   app=k8s-demo\n",
      "\n",
      "NAME                                        DESIRED   CURRENT   READY     AGE       CONTAINERS   IMAGES                SELECTOR\n",
      "replicaset.extensions/k8s-demo-6b76bd84d7   3         3         3         3m        k8s-demo     mjbright/k8s-demo:1   app=k8s-demo,pod-template-hash=2632684083\n",
      "\n",
      "NAME                       DESIRED   CURRENT   UP-TO-DATE   AVAILABLE   AGE       CONTAINERS   IMAGES                SELECTOR\n",
      "deployment.apps/k8s-demo   3         3         3            3           3m        k8s-demo     mjbright/k8s-demo:1   app=k8s-demo\n",
      "\n",
      "NAME                                  DESIRED   CURRENT   READY     AGE       CONTAINERS   IMAGES                SELECTOR\n",
      "replicaset.apps/k8s-demo-6b76bd84d7   3         3         3         3m        k8s-demo     mjbright/k8s-demo:1   app=k8s-demo,pod-template-hash=2632684083\n"
     ]
    }
   ],
   "source": [
    "kubectl get all -o wide"
   ]
  },
  {
   "cell_type": "markdown",
   "metadata": {
    "slideshow": {
     "slide_type": "slide"
    }
   },
   "source": [
    "## NOTE: No pods are scheduled to the Master node\n",
    "\n",
    "We would need to have a \"tainted\" Master node to allow Pods to be scheduled there (Minikube which is a single-node cluster obviously allows this).\n",
    "\n",
    "Note below that the pods are deployed to Worker nodes kube-node-1 and kube-node-2."
   ]
  },
  {
   "cell_type": "code",
   "execution_count": 17,
   "metadata": {
    "slideshow": {
     "slide_type": "fragment"
    }
   },
   "outputs": [
    {
     "name": "stdout",
     "output_type": "stream",
     "text": [
      "NAME                        READY     STATUS    RESTARTS   AGE       IP           NODE\n",
      "k8s-demo-6b76bd84d7-d496w   1/1       Running   0          2m        10.244.8.8   aks-nodepool1-35637019-1\n",
      "k8s-demo-6b76bd84d7-gn9vs   1/1       Running   0          3m        10.244.4.8   aks-nodepool1-35637019-9\n",
      "k8s-demo-6b76bd84d7-pk9mh   1/1       Running   0          3m        10.244.6.8   aks-nodepool1-35637019-6\n"
     ]
    }
   ],
   "source": [
    "kubectl get pods -o wide"
   ]
  },
  {
   "cell_type": "markdown",
   "metadata": {
    "slideshow": {
     "slide_type": "slide"
    }
   },
   "source": [
    "Let's try to access the Pods directly on the Worker nodes:\n",
    "\n",
    "This will fail on AKS"
   ]
  },
  {
   "cell_type": "code",
   "execution_count": 21,
   "metadata": {
    "slideshow": {
     "slide_type": "fragment"
    }
   },
   "outputs": [
    {
     "name": "stdout",
     "output_type": "stream",
     "text": [
      "NODE1_IP=10.240.0.8\n",
      "NODE2_IP=10.240.0.11\n"
     ]
    }
   ],
   "source": [
    "NODE1_IP=$(kubectl describe node aks-nodepool1-35637019-1 | grep InternalIP: | sed 's/.*: *//')\n",
    "NODE2_IP=$(kubectl describe node aks-nodepool1-35637019-2 | grep InternalIP: | sed 's/.*: *//')\n",
    "\n",
    "echo \"NODE1_IP=$NODE1_IP\"\n",
    "echo \"NODE2_IP=$NODE2_IP\""
   ]
  },
  {
   "cell_type": "markdown",
   "metadata": {},
   "source": [
    "Again this will fail on AKS as we don't have access to the Node IPs:"
   ]
  },
  {
   "cell_type": "code",
   "execution_count": 26,
   "metadata": {},
   "outputs": [
    {
     "name": "stdout",
     "output_type": "stream",
     "text": [
      "\r\n"
     ]
    }
   ],
   "source": [
    "curl http://$NODE1_IP:$EXPOSED_PORT"
   ]
  },
  {
   "cell_type": "code",
   "execution_count": 27,
   "metadata": {},
   "outputs": [
    {
     "name": "stdout",
     "output_type": "stream",
     "text": [
      "\r\n"
     ]
    }
   ],
   "source": [
    "curl http://$NODE2_IP:$EXPOSED_PORT"
   ]
  },
  {
   "cell_type": "code",
   "execution_count": 28,
   "metadata": {},
   "outputs": [
    {
     "name": "stdout",
     "output_type": "stream",
     "text": [
      "Name:                     k8s-demo-service\n",
      "Namespace:                default\n",
      "Labels:                   app=k8s-demo\n",
      "Annotations:              <none>\n",
      "Selector:                 app=k8s-demo\n",
      "Type:                     NodePort\n",
      "IP:                       10.0.125.184\n",
      "Port:                     <unset>  8080/TCP\n",
      "TargetPort:               8080/TCP\n",
      "NodePort:                 <unset>  31909/TCP\n",
      "Endpoints:                10.244.4.8:8080,10.244.6.8:8080,10.244.8.8:8080\n",
      "Session Affinity:         None\n",
      "External Traffic Policy:  Cluster\n",
      "Events:                   <none>\n"
     ]
    }
   ],
   "source": [
    "kubectl describe svc/k8s-demo-service"
   ]
  },
  {
   "cell_type": "markdown",
   "metadata": {},
   "source": [
    "#### For more information about using NodePort see [HERE](https://kubernetes.io/docs/tasks/access-application-cluster/service-access-application-cluster/)\n",
    "\n",
    "**Note**: Although there is a Cluster IP there is no Service IP assigned, because we are using NodePort\n",
    "\n",
    "So we can access our Pods by connecting to the hosting node but not to the Service ... so far ..."
   ]
  },
  {
   "cell_type": "markdown",
   "metadata": {},
   "source": [
    "<a name=\"LoadBalancer\"> </a>\n",
    "\n",
    "## Accessing our application - via a Service LoadBalancer\n"
   ]
  },
  {
   "cell_type": "code",
   "execution_count": 29,
   "metadata": {},
   "outputs": [
    {
     "name": "stdout",
     "output_type": "stream",
     "text": [
      "service \"k8s-demo-service-lb\" exposed\n"
     ]
    }
   ],
   "source": [
    "#kubectl delete svc/k8s-demo-service\n",
    "kubectl get svc | grep k8s-demo-service-lb && kubectl delete svc/k8s-demo-service-lb\n",
    "#kubectl expose deploy k8s-demo --type=LoadBalancer --name=k8s-demo-service-lb\n",
    "\n",
    "#RS_K8SDEMO=$(kubectl get rs | grep k8s-demo | awk '{ print $1;}')\n",
    "#kubectl expose rs $RS_K8SDEMO --type=\"LoadBalancer\" --name=\"k8s-demo-service-lb\"\n",
    "\n",
    "K8SDEMO=$(kubectl get deploy | grep k8s-demo | awk '{ print $1;}')\n",
    "\n",
    "#kubectl expose deploy k8s-demo --type=LoadBalancer --name=k8s-demo-service-lb\n",
    "kubectl expose deploy $K8SDEMO --type=\"LoadBalancer\" --name=\"k8s-demo-service-lb\"\n"
   ]
  },
  {
   "cell_type": "code",
   "execution_count": null,
   "metadata": {},
   "outputs": [],
   "source": []
  },
  {
   "cell_type": "markdown",
   "metadata": {},
   "source": [
    "### LoadBalancer not working due to lack of External-ips\n",
    "\n",
    "We see below that on our cluster our EXTERNAL-IP remains un a pending state !!"
   ]
  },
  {
   "cell_type": "code",
   "execution_count": 30,
   "metadata": {},
   "outputs": [
    {
     "name": "stdout",
     "output_type": "stream",
     "text": [
      "NAME                  TYPE           CLUSTER-IP     EXTERNAL-IP   PORT(S)          AGE       SELECTOR\n",
      "k8s-demo-service      NodePort       10.0.125.184   <none>        8080:31909/TCP   9m        app=k8s-demo\n",
      "k8s-demo-service-lb   LoadBalancer   10.0.44.174    <pending>     8080:32531/TCP   4s        app=k8s-demo\n",
      "kubernetes            ClusterIP      10.0.0.1       <none>        443/TCP          16h       <none>\n"
     ]
    }
   ],
   "source": [
    "kubectl get svc -o wide"
   ]
  },
  {
   "cell_type": "code",
   "execution_count": 31,
   "metadata": {},
   "outputs": [
    {
     "name": "stdout",
     "output_type": "stream",
     "text": [
      "NAME                  TYPE           CLUSTER-IP     EXTERNAL-IP   PORT(S)          AGE       SELECTOR\n",
      "k8s-demo-service      NodePort       10.0.125.184   <none>        8080:31909/TCP   10m       app=k8s-demo\n",
      "k8s-demo-service-lb   LoadBalancer   10.0.44.174    <pending>     8080:32531/TCP   1m        app=k8s-demo\n",
      "kubernetes            ClusterIP      10.0.0.1       <none>        443/TCP          16h       <none>\n"
     ]
    }
   ],
   "source": [
    "kubectl get svc -o wide"
   ]
  },
  {
   "cell_type": "code",
   "execution_count": null,
   "metadata": {},
   "outputs": [],
   "source": [
    "kubectl describe svc/k8s-demo-service-lb\n",
    "\n",
    "LB_EXPOSED_PORT=$(kubectl get --no-headers=true svc/k8s-demo-service-lb | awk '{ FS=\":\"; $0=$5; FS=\"/\"; $0=$2; print $1;}')\n",
    "LB_CLUSTER_IP=$(kubectl get --no-headers=true svc/k8s-demo-service-lb | awk '{ print $3;}')\n",
    "\n",
    "echo\n",
    "echo LB_EXPOSED_PORT=$LB_EXPOSED_PORT\n",
    "echo LB_CLUSTER_IP=$LB_CLUSTER_IP\n",
    "echo MASTER_IP=$MASTER_IP"
   ]
  },
  {
   "cell_type": "code",
   "execution_count": null,
   "metadata": {},
   "outputs": [],
   "source": [
    "curl ${LB_CLUSTER_IP}:$LB_EXPOSED_PORT"
   ]
  },
  {
   "cell_type": "code",
   "execution_count": null,
   "metadata": {},
   "outputs": [],
   "source": [
    "curl ${MASTER_IP}:$EXPOSED_PORT"
   ]
  },
  {
   "cell_type": "code",
   "execution_count": null,
   "metadata": {},
   "outputs": [],
   "source": [
    "kubectl describe no/kube-master | grep \"InternalIP:\"\n",
    "\n",
    "MASTER_IP=$(kubectl describe no/kube-master | grep \"InternalIP:\" | sed -e 's/.*: *//')\n",
    "echo MASTER_IP=$MASTER_IP\n",
    "WORKER1_IP=$(kubectl describe no/kube-node-1 | grep \"InternalIP:\" | sed -e 's/.*: *//')\n",
    "echo WORKER1_IP=$WORKER1_IP\n",
    "WORKER2_IP=$(kubectl describe no/kube-node-2 | grep \"InternalIP:\" | sed -e 's/.*: *//')\n",
    "echo WORKER2_IP=$WORKER2_IP\n",
    "\n",
    "#curl $MASTER_IP:8080\n",
    "curl $WORKER2_IP:8080\n",
    "curl $WORKER2_IP:$EXPOSED_PORT\n",
    "curl $WORKER1_IP:8080\n",
    "curl $WORKER1_IP:$EXPOSED_PORT\n",
    "curl $MASTER_IP:$EXPOSED_PORT"
   ]
  },
  {
   "cell_type": "markdown",
   "metadata": {
    "slideshow": {
     "slide_type": "slide"
    }
   },
   "source": [
    "#### For more information about using LoadBalancer see [HERE](https://kubernetes.io/docs/tasks/access-application-cluster/load-balance-access-application-cluster/)\n",
    "\n",
    "\n",
    "[INDEX](Kubernetes.ipynb)  [NEXT](4.5.Traefik.ipynb)\n"
   ]
  }
 ],
 "metadata": {
  "celltoolbar": "Slideshow",
  "kernelspec": {
   "display_name": "Bash",
   "language": "bash",
   "name": "bash"
  },
  "language_info": {
   "codemirror_mode": "shell",
   "file_extension": ".sh",
   "mimetype": "text/x-sh",
   "name": "bash"
  }
 },
 "nbformat": 4,
 "nbformat_minor": 2
}
