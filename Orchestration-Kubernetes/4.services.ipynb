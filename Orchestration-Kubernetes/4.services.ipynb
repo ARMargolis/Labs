{
 "cells": [
  {
   "cell_type": "markdown",
   "metadata": {},
   "source": [
    "# Kubernetes Services\n",
    "\n",
    "# Exposing our application as a Service\n",
    "\n",
    "## Service abstracts pods details\n",
    "As mentioned earlier exposing our application as a Service allows to access the application at a single virtual ip address and port - without having to know the ip addresses of the individual pods which may change ip address as pods are scaled up/down or as pods or nodes fail or come on line.\n",
    "\n",
    "It can also allow load-balancing across pods.\n",
    "\n",
    "## Accessing our application - via a Service NodePort\n",
    "\n",
    "We can expose our service using different types.\n",
    "\n",
    "The first type we will consider is called NodePort and has the effect of exposing our Service on the same port on each Kubernetes node - and so with the ip address of that node.\n",
    "\n",
    "Let's try that with our service:"
   ]
  },
  {
   "cell_type": "code",
   "execution_count": 99,
   "metadata": {},
   "outputs": [
    {
     "name": "stdout",
     "output_type": "stream",
     "text": [
      "service \"k8s-demo-service\" deleted\n",
      "service \"k8s-demo-service\" exposed\n"
     ]
    }
   ],
   "source": [
    "kubectl delete svc/k8s-demo-service\n",
    "kubectl expose deploy k8s-demo --type=NodePort --name=k8s-demo-service"
   ]
  },
  {
   "cell_type": "code",
   "execution_count": 100,
   "metadata": {},
   "outputs": [
    {
     "name": "stdout",
     "output_type": "stream",
     "text": [
      "NAME               TYPE       CLUSTER-IP       EXTERNAL-IP   PORT(S)          AGE       SELECTOR\n",
      "k8s-demo-service   NodePort   10.101.126.101   <none>        8080:31092/TCP   4s        app=k8s-demo\n",
      "EXPOSED_PORT=31092\n",
      "CLUSTER_IP=10.101.126.101\n",
      "MASTER_IP=10.192.0.2\n"
     ]
    }
   ],
   "source": [
    "kubectl get svc/k8s-demo-service -o wide\n",
    "\n",
    "EXPOSED_PORT=$(kubectl get --no-headers=true svc/k8s-demo-service | awk '{ FS=\":\"; $0=$5; FS=\"/\"; $0=$2; print $1;}')\n",
    "CLUSTER_IP=$(kubectl get --no-headers=true svc/k8s-demo-service | awk '{ print $3;}')\n",
    "\n",
    "echo EXPOSED_PORT=$EXPOSED_PORT\n",
    "echo CLUSTER_IP=$CLUSTER_IP\n",
    "echo MASTER_IP=$MASTER_IP\n"
   ]
  },
  {
   "cell_type": "code",
   "execution_count": 101,
   "metadata": {},
   "outputs": [
    {
     "name": "stdout",
     "output_type": "stream",
     "text": [
      "curl: (7) Failed to connect to 10.192.0.2 port 31092: Connection refused\n"
     ]
    },
    {
     "ename": "",
     "evalue": "7",
     "output_type": "error",
     "traceback": []
    }
   ],
   "source": [
    "curl $MASTER_IP:$EXPOSED_PORT"
   ]
  },
  {
   "cell_type": "code",
   "execution_count": 102,
   "metadata": {},
   "outputs": [
    {
     "name": "stdout",
     "output_type": "stream",
     "text": [
      "  InternalIP:  10.192.0.2\n",
      "  InternalIP:  10.192.0.3\n",
      "  InternalIP:  10.192.0.4\n",
      "curl: (7) Failed to connect to 10.192.0.2 port 31092: Connection refused\n",
      "curl: (7) Failed to connect to 10.192.0.3 port 31092: Connection refused\n",
      "curl: (7) Failed to connect to 10.192.0.4 port 31092: Connection refused\n"
     ]
    },
    {
     "ename": "",
     "evalue": "7",
     "output_type": "error",
     "traceback": []
    }
   ],
   "source": [
    "#kubectl get svc/k8s-demo-service -o wide\n",
    "kubectl describe nodes | grep InternalIP:\n",
    "\n",
    "#echo $MASTER_IP\n",
    "#curl $MASTER_IP:$EXPOSED_PORT\n",
    "#curl 10.105.128.87:$EXPOSED_PORT\n",
    "\n",
    "curl 10.192.0.2:$EXPOSED_PORT\n",
    "curl 10.192.0.3:$EXPOSED_PORT\n",
    "curl 10.192.0.4:$EXPOSED_PORT"
   ]
  },
  {
   "cell_type": "code",
   "execution_count": 103,
   "metadata": {},
   "outputs": [
    {
     "name": "stdout",
     "output_type": "stream",
     "text": [
      "Name:                     k8s-demo-service\n",
      "Namespace:                default\n",
      "Labels:                   app=k8s-demo\n",
      "Annotations:              <none>\n",
      "Selector:                 app=k8s-demo\n",
      "Type:                     NodePort\n",
      "IP:                       10.101.126.101\n",
      "Port:                     <unset>  8080/TCP\n",
      "TargetPort:               8080/TCP\n",
      "NodePort:                 <unset>  31092/TCP\n",
      "Endpoints:                10.192.2.1:8080,10.192.3.1:8080\n",
      "Session Affinity:         None\n",
      "External Traffic Policy:  Cluster\n",
      "Events:                   <none>\n"
     ]
    }
   ],
   "source": [
    "kubectl describe svc/k8s-demo-service"
   ]
  },
  {
   "cell_type": "code",
   "execution_count": 104,
   "metadata": {},
   "outputs": [
    {
     "name": "stdout",
     "output_type": "stream",
     "text": [
      "\r\n"
     ]
    }
   ],
   "source": [
    "curl 10.101.126.101:32640"
   ]
  },
  {
   "cell_type": "markdown",
   "metadata": {},
   "source": [
    "## Accessing our application - via a Service LoadBalancer\n"
   ]
  },
  {
   "cell_type": "code",
   "execution_count": 105,
   "metadata": {},
   "outputs": [
    {
     "name": "stdout",
     "output_type": "stream",
     "text": [
      "service \"k8s-demo-service\" deleted\n",
      "service \"k8s-demo-service\" exposed\n"
     ]
    }
   ],
   "source": [
    "kubectl delete svc/k8s-demo-service\n",
    "kubectl expose deploy k8s-demo --type=LoadBalancer --name=k8s-demo-service"
   ]
  },
  {
   "cell_type": "code",
   "execution_count": 106,
   "metadata": {},
   "outputs": [
    {
     "name": "stdout",
     "output_type": "stream",
     "text": [
      "NAME               TYPE           CLUSTER-IP      EXTERNAL-IP   PORT(S)          AGE       SELECTOR\n",
      "k8s-demo-service   LoadBalancer   10.106.67.139   <pending>     8080:30298/TCP   12s       app=k8s-demo\n"
     ]
    }
   ],
   "source": [
    "kubectl get svc/k8s-demo-service -o wide"
   ]
  },
  {
   "cell_type": "code",
   "execution_count": 109,
   "metadata": {},
   "outputs": [
    {
     "name": "stdout",
     "output_type": "stream",
     "text": [
      "Name:                     k8s-demo-service\n",
      "Namespace:                default\n",
      "Labels:                   app=k8s-demo\n",
      "Annotations:              <none>\n",
      "Selector:                 app=k8s-demo\n",
      "Type:                     LoadBalancer\n",
      "IP:                       10.106.67.139\n",
      "Port:                     <unset>  8080/TCP\n",
      "TargetPort:               8080/TCP\n",
      "NodePort:                 <unset>  30298/TCP\n",
      "Endpoints:                10.192.2.1:8080,10.192.3.1:8080\n",
      "Session Affinity:         None\n",
      "External Traffic Policy:  Cluster\n",
      "Events:                   <none>\n",
      "\n",
      "EXPOSED_PORT=30298\n",
      "CLUSTER_IP=10.106.67.139\n",
      "MASTER_IP=10.192.0.2\n"
     ]
    }
   ],
   "source": [
    "kubectl describe svc/k8s-demo-service\n",
    "\n",
    "EXPOSED_PORT=$(kubectl get --no-headers=true svc/k8s-demo-service | awk '{ FS=\":\"; $0=$5; FS=\"/\"; $0=$2; print $1;}')\n",
    "CLUSTER_IP=$(kubectl get --no-headers=true svc/k8s-demo-service | awk '{ print $3;}')\n",
    "\n",
    "echo\n",
    "echo EXPOSED_PORT=$EXPOSED_PORT\n",
    "echo CLUSTER_IP=$CLUSTER_IP\n",
    "echo MASTER_IP=$MASTER_IP"
   ]
  },
  {
   "cell_type": "code",
   "execution_count": null,
   "metadata": {
    "collapsed": true
   },
   "outputs": [],
   "source": [
    "curl ${CLUSTER_IP}:$EXPOSED_PORT"
   ]
  },
  {
   "cell_type": "code",
   "execution_count": 111,
   "metadata": {},
   "outputs": [
    {
     "name": "stdout",
     "output_type": "stream",
     "text": [
      "curl: (7) Failed to connect to 10.192.0.2 port 30298: Connection refused\n"
     ]
    },
    {
     "ename": "",
     "evalue": "7",
     "output_type": "error",
     "traceback": []
    }
   ],
   "source": [
    "curl ${MASTER_IP}:$EXPOSED_PORT"
   ]
  },
  {
   "cell_type": "code",
   "execution_count": 112,
   "metadata": {},
   "outputs": [
    {
     "name": "stdout",
     "output_type": "stream",
     "text": [
      "  InternalIP:  10.192.0.2\n",
      "MASTER_IP=10.192.0.2\n",
      "WORKER1_IP=10.192.0.3\n",
      "WORKER2_IP=10.192.0.4\n",
      "curl: (7) Failed to connect to 10.192.0.4 port 8080: Connection refused\n",
      "curl: (7) Failed to connect to 10.192.0.4 port 30298: Connection refused\n",
      "curl: (7) Failed to connect to 10.192.0.3 port 8080: Connection refused\n",
      "curl: (7) Failed to connect to 10.192.0.3 port 30298: Connection refused\n",
      "curl: (7) Failed to connect to 10.192.0.2 port 30298: Connection refused\n"
     ]
    },
    {
     "ename": "",
     "evalue": "7",
     "output_type": "error",
     "traceback": []
    }
   ],
   "source": [
    "kubectl describe no/kube-master | grep \"InternalIP:\"\n",
    "\n",
    "MASTER_IP=$(kubectl describe no/kube-master | grep \"InternalIP:\" | sed -e 's/.*: *//')\n",
    "echo MASTER_IP=$MASTER_IP\n",
    "WORKER1_IP=$(kubectl describe no/kube-node-1 | grep \"InternalIP:\" | sed -e 's/.*: *//')\n",
    "echo WORKER1_IP=$WORKER1_IP\n",
    "WORKER2_IP=$(kubectl describe no/kube-node-2 | grep \"InternalIP:\" | sed -e 's/.*: *//')\n",
    "echo WORKER2_IP=$WORKER2_IP\n",
    "\n",
    "#curl $MASTER_IP:8080\n",
    "curl $WORKER2_IP:8080\n",
    "curl $WORKER2_IP:$EXPOSED_PORT\n",
    "curl $WORKER1_IP:8080\n",
    "curl $WORKER1_IP:$EXPOSED_PORT\n",
    "curl $MASTER_IP:$EXPOSED_PORT\n"
   ]
  }
 ],
 "metadata": {
  "kernelspec": {
   "display_name": "Bash",
   "language": "bash",
   "name": "bash"
  },
  "language_info": {
   "codemirror_mode": "shell",
   "file_extension": ".sh",
   "mimetype": "text/x-sh",
   "name": "bash"
  }
 },
 "nbformat": 4,
 "nbformat_minor": 2
}
