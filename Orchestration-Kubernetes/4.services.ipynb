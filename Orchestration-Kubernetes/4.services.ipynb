{
 "cells": [
  {
   "cell_type": "markdown",
   "metadata": {
    "slideshow": {
     "slide_type": "skip"
    }
   },
   "source": [
    "[INDEX](Kubernetes.ipynb)\n",
    "\n",
    "\n",
    "<br/><table align=\"right\" style='font-family:\"Courier New\", Courier, monospace; font-size:100%; bottom:0px;'>\n",
    "    <tr><td bgcolor=\"#ffffff\" color=\"#ffffff\"></td><td bgcolor=\"#ffffff\" color=\"#ffffff\"> <img src=\"images/containous.logo.png\" width=\"100\" /> </td></tr></table>"
   ]
  },
  {
   "cell_type": "markdown",
   "metadata": {
    "slideshow": {
     "slide_type": "slide"
    }
   },
   "source": [
    "<img align=\"left\" src=\"https://avatars1.githubusercontent.com/u/13629408?s=400&v=4\" width=\"60\" />\n",
    "## 5. Kubernetes Services\n",
    "\n",
    "# Exposing applications as a Service\n",
    "<pre style=\"align:center\" >\n",
    "In this section we will work with a Minikube-based single-node cluster.\n",
    "</pre>\n",
    "<center><img src=\"images/KubeNodes_1mw_Minikube.svg.png\" width=\"600\" /></center>\n",
    "<pre style=\"align:center\" >\n",
    "Nevertheless the following architecture diagrams will depict the more general multi-node case.\n",
    "</pre>\n",
    "    \n",
    "<br/><table align=\"right\" style='font-family:\"Courier New\", Courier, monospace; font-size:100%; bottom:0px;'>\n",
    "    <tr><td bgcolor=\"#ffffff\" color=\"#ffffff\"></td><td bgcolor=\"#ffffff\" color=\"#ffffff\"> <img src=\"images/containous.logo.png\" width=\"100\" /> </td></tr></table>"
   ]
  },
  {
   "cell_type": "markdown",
   "metadata": {
    "slideshow": {
     "slide_type": "slide"
    }
   },
   "source": [
    "## Services allow to hide Pod location\n",
    "<img src=\"images/Service_Access.svg.png\" width=\"800\" />\n",
    "<pre>\n",
    "During their lifecycle the ip addresses of Pods change (due to scaling, failures ...).\n",
    "\n",
    "Exposing our application as a Service allows to access at a known stable address.\n",
    "\n",
    "It can also allow load-balancing across pods.\n",
    "</pre>\n",
    "\n",
    "<br/><table align=\"right\" style='font-family:\"Courier New\", Courier, monospace; font-size:100%; bottom:0px;'>\n",
    "    <tr><td bgcolor=\"#ffffff\" color=\"#ffffff\"></td><td bgcolor=\"#ffffff\" color=\"#ffffff\"> <img src=\"images/containous.logo.png\" width=\"100\" /> </td></tr></table>"
   ]
  },
  {
   "cell_type": "markdown",
   "metadata": {
    "slideshow": {
     "slide_type": "slide"
    }
   },
   "source": [
    "## Accessing application Pods via a Service\n",
    "\n",
    "<pre>\n",
    "There exist several types of Service which may be used to safely expose Pods\n",
    "for external (or internal to the Cluster).\n",
    "\n",
    "We will look at just 3 ways\n",
    "- NodePort\n",
    "- LoadBalancer (requires an external LoadBalancer)\n",
    "- Ingress Controller\n",
    "</pre>\n",
    "\n",
    "<br/><table align=\"right\" style='font-family:\"Courier New\", Courier, monospace; font-size:100%; bottom:0px;'>\n",
    "    <tr><td bgcolor=\"#ffffff\" color=\"#ffffff\"></td><td bgcolor=\"#ffffff\" color=\"#ffffff\"> <img src=\"images/containous.logo.png\" width=\"100\" /> </td></tr></table>"
   ]
  },
  {
   "cell_type": "markdown",
   "metadata": {
    "slideshow": {
     "slide_type": "slide"
    }
   },
   "source": [
    "<a name=\"NodePort\"> </a><h4> NodePort </h4>\n",
    "<center><table align=\"center\" style='font-family:\"Courier New\", Courier, monospace; font-size:100%; bottom:0px;'>\n",
    "    <tr><td bgcolor=\"#ffffff\" color=\"#ffffff\"></td><td bgcolor=\"#ffffff\" color=\"#ffffff\"> <img src=\"images/Service_Access_NodePort.svg.png\" width=\"600\" /> </td>\n",
    "    <td bgcolor=\"#ffffff\" color=\"#ffffff\">\n",
    "        <pre style='align:normal; font-family:\"Courier New\", Courier, monospace; font-size:100%; bottom:0px;'>\n",
    "Simple, not recommended for production<br/>\n",
    "- Only one service per port\n",
    "- Limited to use ports 30000 - 32767\n",
    "- User must directly address Node IP</pre>\n",
    "    </td></tr>\n",
    "</table></center>\n",
    "\n",
    "<br/><table align=\"right\" style='font-family:\"Courier New\", Courier, monospace; font-size:100%; bottom:0px;'>\n",
    "    <tr><td bgcolor=\"#ffffff\" color=\"#ffffff\"></td><td bgcolor=\"#ffffff\" color=\"#ffffff\"> <img src=\"images/containous.logo.png\" width=\"100\" /> </td></tr></table>"
   ]
  },
  {
   "cell_type": "markdown",
   "metadata": {
    "slideshow": {
     "slide_type": "slide"
    }
   },
   "source": [
    "<a name=\"LoadBalancer\"> </a><h4> LoadBalancer </h4>\n",
    "<center><table align=\"center\" style='font-family:\"Courier New\", Courier, monospace; font-size:100%; bottom:0px;'>\n",
    "    <tr><td bgcolor=\"#ffffff\" color=\"#ffffff\"></td><td bgcolor=\"#ffffff\" color=\"#ffffff\"> <img src=\"images/Service_Access_LoadBalancer.svg.png\" width=\"600\" /> </td>\n",
    "    <td bgcolor=\"#ffffff\" color=\"#ffffff\">\n",
    "        <pre style='align:normal; font-family:\"Courier New\", Courier, monospace; font-size:90%; bottom:0px;'>\n",
    "Uses 'Infrastructure Provider' LoadBalancer\n",
    "<br/>\n",
    "OK for deployment, but\n",
    "- LoadBalancer and IP per service\n",
    "</pre>\n",
    "    </td></tr>\n",
    "</table></center>\n",
    "    \n",
    "<br/><table align=\"right\" style='font-family:\"Courier New\", Courier, monospace; font-size:100%; bottom:0px;'>\n",
    "    <tr><td bgcolor=\"#ffffff\" color=\"#ffffff\"></td><td bgcolor=\"#ffffff\" color=\"#ffffff\"> <img src=\"images/containous.logo.png\" width=\"100\" /> </td></tr></table>"
   ]
  },
  {
   "cell_type": "markdown",
   "metadata": {
    "slideshow": {
     "slide_type": "slide"
    }
   },
   "source": [
    "<a name=\"IngressController\"> </a><h4> Ingress Controller </h4>\n",
    "\n",
    "<center><table align=\"center\" style='font-family:\"Courier New\", Courier, monospace; font-size:100%; bottom:0px;'>\n",
    "    <tr><td bgcolor=\"#ffffff\" color=\"#ffffff\"></td><td bgcolor=\"#ffffff\" color=\"#ffffff\"> <img src=\"images/Service_Access_Ingress.svg.png\" width=\"600\" /> </td>\n",
    "    <td bgcolor=\"#ffffff\" color=\"#ffffff\">\n",
    "        <pre style='align:normal; font-family:\"Courier New\", Courier, monospace; font-size:90%; bottom:0px;'>\n",
    "Capabilities depend upon Ingress Controller\n",
    "<br/>\n",
    "- Kubernetes limited to http(s) currently\n",
    "- Generally, path-based routing is allowed\n",
    "to Services\n",
    "</pre>\n",
    "    </td></tr>\n",
    "</table></center>\n",
    "\n",
    "<br/><table align=\"right\" style='font-family:\"Courier New\", Courier, monospace; font-size:100%; bottom:0px;'>\n",
    "    <tr>\n",
    "    <td bgcolor=\"#ffffff\" color=\"#ffffff\"></td><td bgcolor=\"#ffffff\" color=\"#ffffff\"> <img src=\"images/traefik.logo.png\" width=\"60\" /> </td>\n",
    "    <td bgcolor=\"#ffffff\" color=\"#ffffff\"></td><td bgcolor=\"#ffffff\" color=\"#ffffff\"> <img src=\"images/containous.logo.png\" width=\"100\" /> </td>\n",
    "    </tr>\n",
    "    </table>"
   ]
  },
  {
   "cell_type": "markdown",
   "metadata": {
    "slideshow": {
     "slide_type": "slide"
    }
   },
   "source": [
    "<h4> Traefik - as an Ingress Controller </h4>\n",
    "\n",
    "<table align=\"left\" style='font-family:\"Courier New\", Courier, monospace; font-size:100%; bottom:0px;'>\n",
    "    <tr><td bgcolor=\"#ffffff\" color=\"#ffffff\"></td><td bgcolor=\"#ffffff\" color=\"#ffffff\"> <img src=\"images/Service_Access_Ingress.svg.png\" width=\"300\" /> </td>\n",
    "    <td bgcolor=\"#ffffff\" color=\"#ffffff\">\n",
    "        <p style='align:left; font-family:\"Courier New\", Courier, monospace; font-size:90%; bottom:0px;'>\n",
    "Let's look at the use of Traefik which allows\n",
    "<br/>\n",
    "- Extensive Host, Path, Port-based routing to Services<br/>\n",
    "- Hot configuration reloads<br/>\n",
    "- Let's Encrypt Support (Automated HTTPS with renewal)<br/>\n",
    "</p>\n",
    "    </td></tr>\n",
    "</table>\n",
    "\n",
    "<br/><table align=\"right\" style='font-family:\"Courier New\", Courier, monospace; font-size:100%; bottom:0px;'>\n",
    "    <tr>\n",
    "    <td bgcolor=\"#ffffff\" color=\"#ffffff\"></td><td bgcolor=\"#ffffff\" color=\"#ffffff\"> <img src=\"images/traefik.logo.png\" width=\"60\" /> </td>\n",
    "    <td bgcolor=\"#ffffff\" color=\"#ffffff\"></td><td bgcolor=\"#ffffff\" color=\"#ffffff\"> <img src=\"images/containous.logo.png\" width=\"100\" /> </td>\n",
    "    </tr>\n",
    "    </table>"
   ]
  },
  {
   "cell_type": "markdown",
   "metadata": {
    "slideshow": {
     "slide_type": "slide"
    }
   },
   "source": [
    "<!--\n",
    "#### For more information about using NodePort see [HERE](https://kubernetes.io/docs/tasks/access-application-cluster/service-access-application-cluster/)\n",
    "#### For more information about using LoadBalancer see [HERE](https://kubernetes.io/docs/tasks/access-application-cluster/load-balance-access-application-cluster/)\n",
    "-->\n",
    "\n",
    "<table style=\"font-family:Arial, Verdana, sans-serif; font-size: 20px;\">\n",
    "<tr>\n",
    "   <td bgcolor=\"#ffffff\" color=\"#ffffff\" style=\"float:left \"><img src=\"images/traefik.logo.png\" width=\"100\" /></td>\n",
    "    <td bgcolor=\"#ffffff\" color=\"#ffffff\" style='float:middle;font-family:\"Courier New\", Courier, monospace; font-size:100%;' ><b>Traefik</b> see [https://traefik.io](https://traefik.io/)</td>\n",
    "    </tr><tr>\n",
    "    <td bgcolor=\"#ffffff\" color=\"#ffffff\" style='float:middle;font-family:\"Courier New\", Courier, monospace; font-size:100%;' ><img src=\"images/containous.logo.png\" width=\"120\" style=\"float:left\" /></td>\n",
    "    <td bgcolor=\"#ffffff\" color=\"#ffffff\" style=\"float:left\" ><b>Containous</b>, the creators of Traefik, see [https://containo.us](https://containo.us)</td>\n",
    "  </tr>\n",
    "</table>\n",
    "\n",
    "[INDEX](Kubernetes.ipynb)  [NEXT](4.5.Traefik.ipynb)\n",
    "\n",
    "<img src=\"\" width=\"80\" style=\"float:left\" />\n",
    "<br/>\n",
    "\n",
    "<br/><table align=\"right\" style='font-family:\"Courier New\", Courier, monospace; font-size:100%; bottom:0px;'>\n",
    "    <tr><td bgcolor=\"#ffffff\" color=\"#ffffff\"></td><td bgcolor=\"#ffffff\" color=\"#ffffff\"> <img src=\"images/containous.logo.png\" width=\"100\" /> </td></tr></table>"
   ]
  }
 ],
 "metadata": {
  "celltoolbar": "Slideshow",
  "kernelspec": {
   "display_name": "Bash",
   "language": "bash",
   "name": "bash"
  },
  "language_info": {
   "codemirror_mode": "shell",
   "file_extension": ".sh",
   "mimetype": "text/x-sh",
   "name": "bash"
  }
 },
 "nbformat": 4,
 "nbformat_minor": 2
}
