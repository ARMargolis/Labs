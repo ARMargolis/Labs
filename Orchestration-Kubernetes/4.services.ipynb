{
 "cells": [
  {
   "cell_type": "markdown",
   "metadata": {},
   "source": [
    "# Kubernetes Services\n",
    "\n",
    "# Exposing our application as a Service\n",
    "\n",
    "## Service abstracts pods details\n",
    "As mentioned earlier exposing our application as a Service allows to access the application at a single virtual ip address and port - without having to know the ip addresses of the individual pods which may change ip address as pods are scaled up/down or as pods or nodes fail or come on line.\n",
    "\n",
    "It can also allow load-balancing across pods.\n",
    "\n",
    "## Accessing our application - via a Service NodePort\n",
    "\n",
    "We can expose our service using different types.\n",
    "\n",
    "The first type we will consider is called NodePort and has the effect of exposing our Service on the same port on each Kubernetes node - and so with the ip address of that node.\n",
    "\n",
    "Let's try that with our service:"
   ]
  },
  {
   "cell_type": "code",
   "execution_count": 1,
   "metadata": {},
   "outputs": [
    {
     "name": "stdout",
     "output_type": "stream",
     "text": [
      "Loading bash helper functions, new functions added:\n",
      "-- checkPresent \n",
      "-- checkState \n",
      "-- cont \n",
      "-- untilNotPresent \n",
      "-- untilNotState \n",
      "-- untilPresent \n",
      "-- untilState \n"
     ]
    }
   ],
   "source": [
    ". ./.shell.functions"
   ]
  },
  {
   "cell_type": "code",
   "execution_count": null,
   "metadata": {},
   "outputs": [],
   "source": [
    "checkPresent svc k8s-demo-service &&\n",
    "    kubectl delete svc/k8s-demo-service\n",
    "    \n",
    "kubectl expose deploy k8s-demo --type=NodePort --name=k8s-demo-service"
   ]
  },
  {
   "cell_type": "code",
   "execution_count": 22,
   "metadata": {},
   "outputs": [
    {
     "name": "stdout",
     "output_type": "stream",
     "text": [
      "NAME               TYPE       CLUSTER-IP       EXTERNAL-IP   PORT(S)          AGE       SELECTOR\n",
      "k8s-demo-service   NodePort   10.106.186.127   <none>        8080:31420/TCP   15m       app=k8s-demo\n",
      "\n",
      "----\n",
      "EXPOSED_PORT=31420\n",
      "CLUSTER_IP=10.106.186.127\n"
     ]
    }
   ],
   "source": [
    "kubectl get svc/k8s-demo-service -o wide\n",
    "\n",
    "EXPOSED_PORT=$(kubectl get --no-headers=true svc/k8s-demo-service | awk '{ FS=\":\"; $0=$5; FS=\"/\"; $0=$2; print $1;}')\n",
    "CLUSTER_IP=$(kubectl get --no-headers=true svc/k8s-demo-service | awk '{ print $3;}')\n",
    "\n",
    "echo; echo \"----\"\n",
    "echo EXPOSED_PORT=$EXPOSED_PORT\n",
    "echo CLUSTER_IP=$CLUSTER_IP"
   ]
  },
  {
   "cell_type": "code",
   "execution_count": 24,
   "metadata": {},
   "outputs": [
    {
     "name": "stdout",
     "output_type": "stream",
     "text": [
      "deployment \"k8s-demo\" scaled\n"
     ]
    }
   ],
   "source": [
    "kubectl scale --replicas=3 deploy/k8s-demo"
   ]
  },
  {
   "cell_type": "code",
   "execution_count": 25,
   "metadata": {},
   "outputs": [
    {
     "name": "stdout",
     "output_type": "stream",
     "text": [
      "NAME              DESIRED   CURRENT   UP-TO-DATE   AVAILABLE   AGE       CONTAINERS   IMAGES                SELECTOR\n",
      "deploy/k8s-demo   3         3         3            3           21m       k8s-demo     mjbright/k8s-demo:1   app=k8s-demo\n",
      "\n",
      "NAME                     DESIRED   CURRENT   READY     AGE       CONTAINERS   IMAGES                SELECTOR\n",
      "rs/k8s-demo-6b76bd84d7   3         3         3         21m       k8s-demo     mjbright/k8s-demo:1   app=k8s-demo,pod-template-hash=2632684083\n",
      "\n",
      "NAME              DESIRED   CURRENT   UP-TO-DATE   AVAILABLE   AGE       CONTAINERS   IMAGES                SELECTOR\n",
      "deploy/k8s-demo   3         3         3            3           21m       k8s-demo     mjbright/k8s-demo:1   app=k8s-demo\n",
      "\n",
      "NAME                     DESIRED   CURRENT   READY     AGE       CONTAINERS   IMAGES                SELECTOR\n",
      "rs/k8s-demo-6b76bd84d7   3         3         3         21m       k8s-demo     mjbright/k8s-demo:1   app=k8s-demo,pod-template-hash=2632684083\n",
      "\n",
      "NAME                           READY     STATUS    RESTARTS   AGE       IP            NODE\n",
      "po/k8s-demo-6b76bd84d7-9rfjc   1/1       Running   0          20m       10.192.3.25   kube-node-2\n",
      "po/k8s-demo-6b76bd84d7-bxdvj   1/1       Running   0          3m        10.192.3.26   kube-node-2\n",
      "po/k8s-demo-6b76bd84d7-lffj7   1/1       Running   0          21m       10.192.2.18   kube-node-1\n",
      "\n",
      "NAME                   TYPE        CLUSTER-IP       EXTERNAL-IP   PORT(S)          AGE       SELECTOR\n",
      "svc/k8s-demo-service   NodePort    10.106.186.127   <none>        8080:31420/TCP   17m       app=k8s-demo\n",
      "svc/kubernetes         ClusterIP   10.96.0.1        <none>        443/TCP          2d        <none>\n"
     ]
    }
   ],
   "source": [
    "kubectl get all -o wide"
   ]
  },
  {
   "cell_type": "code",
   "execution_count": 101,
   "metadata": {},
   "outputs": [
    {
     "name": "stdout",
     "output_type": "stream",
     "text": [
      "curl: (7) Failed to connect to 10.192.0.2 port 31092: Connection refused\n"
     ]
    },
    {
     "ename": "",
     "evalue": "7",
     "output_type": "error",
     "traceback": []
    }
   ],
   "source": [
    "curl $MASTER_IP:$EXPOSED_PORT"
   ]
  },
  {
   "cell_type": "markdown",
   "metadata": {},
   "source": [
    "**Note**: We can't connect to the NodePort on the Master because\n",
    "- No Pods are scheduled to the Master (we would need to taint our Master to allow this)"
   ]
  },
  {
   "cell_type": "code",
   "execution_count": 26,
   "metadata": {},
   "outputs": [
    {
     "name": "stdout",
     "output_type": "stream",
     "text": [
      "  InternalIP:  10.192.0.2\n",
      "  InternalIP:  10.192.0.3\n",
      "  InternalIP:  10.192.0.4\n",
      "MASTER_IP=10.192.0.2\n",
      "NODE1_IP=10.192.0.3\n",
      "NODE2_IP=10.192.0.4\n"
     ]
    }
   ],
   "source": [
    "kubectl describe nodes | grep InternalIP:\n",
    "\n",
    "MASTER_IP=$(kubectl describe node kube-master | grep InternalIP: | sed 's/.*: *//')\n",
    "NODE1_IP=$(kubectl describe node kube-node-1 | grep InternalIP: | sed 's/.*: *//')\n",
    "NODE2_IP=$(kubectl describe node kube-node-2 | grep InternalIP: | sed 's/.*: *//')\n",
    "\n",
    "echo \"MASTER_IP=$MASTER_IP\"\n",
    "echo \"NODE1_IP=$NODE1_IP\"\n",
    "echo \"NODE2_IP=$NODE2_IP\""
   ]
  },
  {
   "cell_type": "code",
   "execution_count": 31,
   "metadata": {},
   "outputs": [
    {
     "name": "stdout",
     "output_type": "stream",
     "text": [
      "\n",
      "\u001b[1;34m\n",
      "\n",
      "                               \n",
      "                    (((((((((                  \n",
      "               .(((((((((((((((((.             \n",
      "           .((((((((((((&((((((((((((.         \n",
      "       /((((((((((((((((@((((((((((((((((/     \n",
      "      ((((((((((((((((((@((((((((((((((((((    \n",
      "     *(((((##((((((@@@@@@@@@@@((((((%#(((((*   \n",
      "     (((((((@@@(@@@@#((@@@((#@@@@(@@@(((((((   \n",
      "    *(((((((((@@@@(((((@@@(((((@@@@(((((((((,  \n",
      "    (((((((((@@@%@@@@((@@@((@@@@%@@@(((((((((  \n",
      "   .(((((((((@@((((@@@@@@@@@@@((((@@(((((((((. \n",
      "   (((((((((&@@(((((@@@(((@@@(((((@@&((((((((( \n",
      "   (((((((((&@@@@@@@@@@#(#@@@@@@@@@@&((((((((( \n",
      "  ((((((@@@@@@@@(((((@@@@@@@(((((&@@@@@@@((((((\n",
      "  (((((((((((%@@((((%@@@(@@@%((((@@&(((((((((((\n",
      "   ((((((((((((@@@((@@%(((%@@((@@@(((((((((((( \n",
      "     (((((((((((#@@@@%(((((&@@@@#(((((((((((   \n",
      "      /(((((((((((@@@@@@@@@@@@@(((((((((((/    \n",
      "        (((((((((@@(((((((((((@@(((((((((      \n",
      "          (((((((&(((((((((((((&(((((((        \n",
      "           /(((((((((((((((((((((((((/         \n",
      "             (((((((((((((((((((((((           \n",
      "\n",
      "\u001b[0m\n",
      "\n",
      "Served from container \u001b[1;33mk8s-demo-6b76bd84d7-9rfjc\u001b[0;0m\n",
      "Using image mjbright/k8s-demo:1\n"
     ]
    }
   ],
   "source": [
    "curl $NODE2_IP:$EXPOSED_PORT"
   ]
  },
  {
   "cell_type": "code",
   "execution_count": 32,
   "metadata": {},
   "outputs": [
    {
     "name": "stdout",
     "output_type": "stream",
     "text": [
      "\n",
      "\u001b[1;34m\n",
      "\n",
      "                               \n",
      "                    (((((((((                  \n",
      "               .(((((((((((((((((.             \n",
      "           .((((((((((((&((((((((((((.         \n",
      "       /((((((((((((((((@((((((((((((((((/     \n",
      "      ((((((((((((((((((@((((((((((((((((((    \n",
      "     *(((((##((((((@@@@@@@@@@@((((((%#(((((*   \n",
      "     (((((((@@@(@@@@#((@@@((#@@@@(@@@(((((((   \n",
      "    *(((((((((@@@@(((((@@@(((((@@@@(((((((((,  \n",
      "    (((((((((@@@%@@@@((@@@((@@@@%@@@(((((((((  \n",
      "   .(((((((((@@((((@@@@@@@@@@@((((@@(((((((((. \n",
      "   (((((((((&@@(((((@@@(((@@@(((((@@&((((((((( \n",
      "   (((((((((&@@@@@@@@@@#(#@@@@@@@@@@&((((((((( \n",
      "  ((((((@@@@@@@@(((((@@@@@@@(((((&@@@@@@@((((((\n",
      "  (((((((((((%@@((((%@@@(@@@%((((@@&(((((((((((\n",
      "   ((((((((((((@@@((@@%(((%@@((@@@(((((((((((( \n",
      "     (((((((((((#@@@@%(((((&@@@@#(((((((((((   \n",
      "      /(((((((((((@@@@@@@@@@@@@(((((((((((/    \n",
      "        (((((((((@@(((((((((((@@(((((((((      \n",
      "          (((((((&(((((((((((((&(((((((        \n",
      "           /(((((((((((((((((((((((((/         \n",
      "             (((((((((((((((((((((((           \n",
      "\n",
      "\u001b[0m\n",
      "\n",
      "Served from container \u001b[1;33mk8s-demo-6b76bd84d7-lffj7\u001b[0;0m\n",
      "Using image mjbright/k8s-demo:1\n"
     ]
    }
   ],
   "source": [
    "curl $NODE1_IP:$EXPOSED_PORT"
   ]
  },
  {
   "cell_type": "code",
   "execution_count": 33,
   "metadata": {},
   "outputs": [
    {
     "name": "stdout",
     "output_type": "stream",
     "text": [
      "Name:                     k8s-demo-service\n",
      "Namespace:                default\n",
      "Labels:                   app=k8s-demo\n",
      "Annotations:              <none>\n",
      "Selector:                 app=k8s-demo\n",
      "Type:                     NodePort\n",
      "IP:                       10.106.186.127\n",
      "Port:                     <unset>  8080/TCP\n",
      "TargetPort:               8080/TCP\n",
      "NodePort:                 <unset>  31420/TCP\n",
      "Endpoints:                10.192.2.18:8080,10.192.3.25:8080,10.192.3.26:8080\n",
      "Session Affinity:         None\n",
      "External Traffic Policy:  Cluster\n",
      "Events:                   <none>\n"
     ]
    }
   ],
   "source": [
    "kubectl describe svc/k8s-demo-service"
   ]
  },
  {
   "cell_type": "markdown",
   "metadata": {},
   "source": [
    "#### For more information about using NodePort see [HERE](https://kubernetes.io/docs/tasks/access-application-cluster/service-access-application-cluster/)\n",
    "\n",
    "**Note**: Although there is a Cluster IP there is no Service IP assigned, because we are using NodePort\n",
    "\n",
    "So we can access our Pods by connecting to the hosting node but not to the Service ... so far ..."
   ]
  },
  {
   "cell_type": "markdown",
   "metadata": {},
   "source": [
    "## Accessing our application - via a Service LoadBalancer\n"
   ]
  },
  {
   "cell_type": "code",
   "execution_count": 55,
   "metadata": {},
   "outputs": [
    {
     "name": "stdout",
     "output_type": "stream",
     "text": [
      "service \"k8s-demo-service-lb\" deleted\n",
      "service \"k8s-demo-service-lb\" exposed\n"
     ]
    }
   ],
   "source": [
    "#kubectl delete svc/k8s-demo-service\n",
    "kubectl delete svc/k8s-demo-service-lb\n",
    "#kubectl expose deploy k8s-demo --type=LoadBalancer --name=k8s-demo-service-lb\n",
    "\n",
    "RS_K8SDEMO=$(kubectl get rs | grep k8s-demo | awk '{ print $1;}')\n",
    "\n",
    "#kubectl expose deploy k8s-demo --type=LoadBalancer --name=k8s-demo-service-lb\n",
    "\n",
    "kubectl expose rs $RS_K8SDEMO --type=\"LoadBalancer\" --name=\"k8s-demo-service-lb\""
   ]
  },
  {
   "cell_type": "code",
   "execution_count": 56,
   "metadata": {},
   "outputs": [
    {
     "name": "stdout",
     "output_type": "stream",
     "text": [
      "NAME                  TYPE           CLUSTER-IP       EXTERNAL-IP   PORT(S)          AGE       SELECTOR\n",
      "k8s-demo-service      NodePort       10.106.186.127   <none>        8080:31420/TCP   37m       app=k8s-demo\n",
      "k8s-demo-service-lb   LoadBalancer   10.101.53.45     <pending>     8080:31513/TCP   6s        app=k8s-demo,pod-template-hash=2632684083\n",
      "kubernetes            ClusterIP      10.96.0.1        <none>        443/TCP          2d        <none>\n"
     ]
    }
   ],
   "source": [
    "kubectl get svc -o wide"
   ]
  },
  {
   "cell_type": "markdown",
   "metadata": {},
   "source": [
    "### LoadBalancer not working with kubeadm/minikube\n",
    "\n",
    "As described [here](https://forums.manning.com/posts/list/42097.page) currently Kubernetes implementations created with kubeadm (which was used to prepare this cluster) and minikube do not yet implement tLoadBalancer Service."
   ]
  },
  {
   "cell_type": "code",
   "execution_count": 57,
   "metadata": {},
   "outputs": [
    {
     "name": "stdout",
     "output_type": "stream",
     "text": [
      "k8s-demo-service-lb   LoadBalancer   10.101.53.45     <pending>     8080:31513/TCP   8s\n",
      "k8s-demo-service-lb   LoadBalancer   10.101.53.45     <pending>     8080:31513/TCP   17s\n",
      "k8s-demo-service-lb   LoadBalancer   10.101.53.45     <pending>     8080:31513/TCP   26s\n",
      "k8s-demo-service-lb   LoadBalancer   10.101.53.45     <pending>     8080:31513/TCP   35s\n",
      "k8s-demo-service-lb   LoadBalancer   10.101.53.45     <pending>     8080:31513/TCP   43s\n",
      "k8s-demo-service-lb   LoadBalancer   10.101.53.45     <pending>     8080:31513/TCP   52s\n",
      "k8s-demo-service-lb   LoadBalancer   10.101.53.45     <pending>     8080:31513/TCP   1m\n",
      "k8s-demo-service-lb   LoadBalancer   10.101.53.45     <pending>     8080:31513/TCP   1m\n",
      "k8s-demo-service-lb   LoadBalancer   10.101.53.45     <pending>     8080:31513/TCP   1m\n",
      "k8s-demo-service-lb   LoadBalancer   10.101.53.45     <pending>     8080:31513/TCP   1m\n",
      "k8s-demo-service-lb   LoadBalancer   10.101.53.45     <pending>     8080:31513/TCP   1m\n",
      "k8s-demo-service-lb   LoadBalancer   10.101.53.45     <pending>     8080:31513/TCP   1m\n",
      "k8s-demo-service-lb   LoadBalancer   10.101.53.45     <pending>     8080:31513/TCP   1m\n",
      "k8s-demo-service-lb   LoadBalancer   10.101.53.45     <pending>     8080:31513/TCP   2m\n",
      "k8s-demo-service-lb   LoadBalancer   10.101.53.45     <pending>     8080:31513/TCP   2m\n",
      "k8s-demo-service-lb   LoadBalancer   10.101.53.45     <pending>     8080:31513/TCP   2m\n",
      "k8s-demo-service-lb   LoadBalancer   10.101.53.45     <pending>     8080:31513/TCP   2m\n",
      "k8s-demo-service-lb   LoadBalancer   10.101.53.45     <pending>     8080:31513/TCP   2m\n",
      "k8s-demo-service-lb   LoadBalancer   10.101.53.45     <pending>     8080:31513/TCP   2m\n",
      "k8s-demo-service-lb   LoadBalancer   10.101.53.45     <pending>     8080:31513/TCP   2m\n",
      "k8s-demo-service-lb   LoadBalancer   10.101.53.45     <pending>     8080:31513/TCP   3m\n",
      "\n"
     ]
    }
   ],
   "source": [
    "#untilNotState svc k8s-demo-service-lb pending"
   ]
  },
  {
   "cell_type": "code",
   "execution_count": 40,
   "metadata": {},
   "outputs": [
    {
     "name": "stdout",
     "output_type": "stream",
     "text": [
      "Name:                     k8s-demo-service-lb\n",
      "Namespace:                default\n",
      "Labels:                   app=k8s-demo\n",
      "Annotations:              <none>\n",
      "Selector:                 app=k8s-demo\n",
      "Type:                     LoadBalancer\n",
      "IP:                       10.101.118.236\n",
      "Port:                     <unset>  8080/TCP\n",
      "TargetPort:               8080/TCP\n",
      "NodePort:                 <unset>  30225/TCP\n",
      "Endpoints:                10.192.2.18:8080,10.192.3.25:8080,10.192.3.26:8080\n",
      "Session Affinity:         None\n",
      "External Traffic Policy:  Cluster\n",
      "Events:                   <none>\n",
      "\n",
      "LB_EXPOSED_PORT=30225\n",
      "LB_CLUSTER_IP=10.101.118.236\n",
      "MASTER_IP=10.192.0.2\n"
     ]
    }
   ],
   "source": [
    "kubectl describe svc/k8s-demo-service-lb\n",
    "\n",
    "LB_EXPOSED_PORT=$(kubectl get --no-headers=true svc/k8s-demo-service-lb | awk '{ FS=\":\"; $0=$5; FS=\"/\"; $0=$2; print $1;}')\n",
    "LB_CLUSTER_IP=$(kubectl get --no-headers=true svc/k8s-demo-service-lb | awk '{ print $3;}')\n",
    "\n",
    "echo\n",
    "echo LB_EXPOSED_PORT=$LB_EXPOSED_PORT\n",
    "echo LB_CLUSTER_IP=$LB_CLUSTER_IP\n",
    "echo MASTER_IP=$MASTER_IP"
   ]
  },
  {
   "cell_type": "code",
   "execution_count": 41,
   "metadata": {},
   "outputs": [
    {
     "name": "stdout",
     "output_type": "stream",
     "text": [
      "\r\n"
     ]
    }
   ],
   "source": [
    "curl ${LB_CLUSTER_IP}:$LB_EXPOSED_PORT"
   ]
  },
  {
   "cell_type": "code",
   "execution_count": 111,
   "metadata": {},
   "outputs": [
    {
     "name": "stdout",
     "output_type": "stream",
     "text": [
      "curl: (7) Failed to connect to 10.192.0.2 port 30298: Connection refused\n"
     ]
    },
    {
     "ename": "",
     "evalue": "7",
     "output_type": "error",
     "traceback": []
    }
   ],
   "source": [
    "curl ${MASTER_IP}:$EXPOSED_PORT"
   ]
  },
  {
   "cell_type": "code",
   "execution_count": null,
   "metadata": {},
   "outputs": [],
   "source": [
    "kubectl describe no/kube-master | grep \"InternalIP:\"\n",
    "\n",
    "MASTER_IP=$(kubectl describe no/kube-master | grep \"InternalIP:\" | sed -e 's/.*: *//')\n",
    "echo MASTER_IP=$MASTER_IP\n",
    "WORKER1_IP=$(kubectl describe no/kube-node-1 | grep \"InternalIP:\" | sed -e 's/.*: *//')\n",
    "echo WORKER1_IP=$WORKER1_IP\n",
    "WORKER2_IP=$(kubectl describe no/kube-node-2 | grep \"InternalIP:\" | sed -e 's/.*: *//')\n",
    "echo WORKER2_IP=$WORKER2_IP\n",
    "\n",
    "#curl $MASTER_IP:8080\n",
    "curl $WORKER2_IP:8080\n",
    "curl $WORKER2_IP:$EXPOSED_PORT\n",
    "curl $WORKER1_IP:8080\n",
    "curl $WORKER1_IP:$EXPOSED_PORT\n",
    "curl $MASTER_IP:$EXPOSED_PORT"
   ]
  },
  {
   "cell_type": "markdown",
   "metadata": {},
   "source": [
    "#### For more information about using LoadBalancer see [HERE](https://kubernetes.io/docs/tasks/access-application-cluster/load-balance-access-application-cluster/)\n"
   ]
  }
 ],
 "metadata": {
  "kernelspec": {
   "display_name": "Bash",
   "language": "bash",
   "name": "bash"
  },
  "language_info": {
   "codemirror_mode": "shell",
   "file_extension": ".sh",
   "mimetype": "text/x-sh",
   "name": "bash"
  }
 },
 "nbformat": 4,
 "nbformat_minor": 2
}
