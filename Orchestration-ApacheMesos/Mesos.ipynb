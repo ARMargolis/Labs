{
 "cells": [
  {
   "cell_type": "markdown",
   "metadata": {},
   "source": [
    "# Mesos Lab\n",
    "\n",
    "First move to the source directory where you already downloaded the git repo sources:\n",
    "\n",
    "git clone https://github.com/mjbright/LinuxConEU-ContainerOrchestration\n"
   ]
  },
  {
   "cell_type": "code",
   "execution_count": 1,
   "metadata": {},
   "outputs": [
    {
     "name": "stdout",
     "output_type": "stream",
     "text": [
      "/home/mjb/Dropbox/z/bin/DEMOS_TUTORIALS/2017-May-PyconUS/mesos-cli\n",
      "Notebook started at Mon May 15 10:02:00 CEST 2017   [1494835320]\n"
     ]
    }
   ],
   "source": [
    "pwd\n",
    "\n",
    ". ../NB_bash_functions.rc\n",
    "\n",
    "CLUSTER_OPTION=1\n",
    "#CLUSTER_OPTION=2\n",
    "\n",
    "SCRIPT_DIR=~/PYCONUS_DOWNLOADS/scripts\n",
    "export PATH=$SCRIPT_DIR:$PATH"
   ]
  },
  {
   "cell_type": "markdown",
   "metadata": {},
   "source": [
    "## Cleanup the Mesos Cluster"
   ]
  },
  {
   "cell_type": "code",
   "execution_count": 2,
   "metadata": {},
   "outputs": [
    {
     "name": "stdout",
     "output_type": "stream",
     "text": [
      "About to remove mesosmaster, mesosslave1, mesosslave2\n",
      "WARNING: This action will delete both local reference and remote instance.\n",
      "Successfully removed mesosmaster\n",
      "Error removing host \"mesosslave1\": Host does not exist: \"mesosslave1\"\n",
      "Can't remove \"mesosslave1\"\n",
      "Error removing host \"mesosslave2\": Host does not exist: \"mesosslave2\"\n",
      "Can't remove \"mesosslave2\"\n",
      "\n",
      "real\t0m3.299s\n",
      "user\t0m0.016s\n",
      "sys\t0m0.024s\n",
      "VBoxManage unregistervm {9e3747cd-afb7-488a-9896-5502a8f40987}\n"
     ]
    }
   ],
   "source": [
    "time docker-machine rm -f mesosmaster mesosslave1 mesosslave2\n",
    "\n",
    "NB_cleanup_virtualbox_inaccessible_VMs\n",
    "NB_cleanup_virtualbox_mesos_VMs"
   ]
  },
  {
   "cell_type": "markdown",
   "metadata": {},
   "source": [
    "## Create the Mesos Cluster\n",
    "\n",
    "We will now use docker-machine/virtualbox to create the Docker hosts to house Mesos.\n",
    "\n",
    "We can either\n",
    "- create 1 machine which runs Mesos Master and several Slaves, or\n",
    "- create 1 Master machine and several slave machines\n",
    "\n",
    "For this lab we recommend the first option - 1 single machine\n",
    "\n",
    "In either case we will first create a Docker host machine called mesosmaster"
   ]
  },
  {
   "cell_type": "code",
   "execution_count": 3,
   "metadata": {},
   "outputs": [
    {
     "name": "stdout",
     "output_type": "stream",
     "text": [
      "Running pre-create checks...\n",
      "Creating machine...\n",
      "(mesosmaster) Copying /home/mjb/.docker/machine/cache/boot2docker.iso to /home/mjb/.docker/machine/machines/mesosmaster/boot2docker.iso...\n",
      "(mesosmaster) Creating VirtualBox VM...\n",
      "(mesosmaster) Creating SSH key...\n",
      "(mesosmaster) Starting the VM...\n",
      "(mesosmaster) Check network to re-create if needed...\n",
      "(mesosmaster) Waiting for an IP...\n",
      "Waiting for machine to be running, this may take a few minutes...\n",
      "Detecting operating system of created instance...\n",
      "Waiting for SSH to be available...\n",
      "Detecting the provisioner...\n",
      "Provisioning with boot2docker...\n",
      "Copying certs to the local machine directory...\n",
      "Copying certs to the remote machine...\n",
      "Setting Docker configuration on the remote daemon...\n",
      "Checking connection to Docker...\n",
      "Docker is up and running!\n",
      "To see how to connect your Docker Client to the Docker Engine running on this virtual machine, run: docker-machine env mesosmaster\n",
      "\n",
      "real\t1m46.760s\n",
      "user\t0m13.120s\n",
      "sys\t0m32.464s\n"
     ]
    }
   ],
   "source": [
    "[ $CLUSTER_OPTION -eq 1 ] && time docker-machine create --driver virtualbox mesosmaster"
   ]
  },
  {
   "cell_type": "code",
   "execution_count": 4,
   "metadata": {},
   "outputs": [
    {
     "name": "stdout",
     "output_type": "stream",
     "text": [
      "NAME          ACTIVE   DRIVER       STATE     URL                         SWARM   DOCKER        ERRORS\n",
      "mesosmaster   -        virtualbox   Running   tcp://192.168.99.122:2376           v17.05.0-ce   \n",
      "swmaster1     -        virtualbox   Running   tcp://192.168.99.114:2376           v17.05.0-ce   \n",
      "swnode1       -        virtualbox   Running   tcp://192.168.99.115:2376           v17.05.0-ce   \n",
      "swnode2       -        virtualbox   Running   tcp://192.168.99.116:2376           v17.05.0-ce   \n"
     ]
    }
   ],
   "source": [
    "docker-machine ls"
   ]
  },
  {
   "cell_type": "markdown",
   "metadata": {},
   "source": [
    "### Start the Mesos Master - Option1: Single docker machine"
   ]
  },
  {
   "cell_type": "markdown",
   "metadata": {},
   "source": [
    "#### Upload images\n",
    "\n",
    "To save network bandwidth we will pre-load container images from a local directory"
   ]
  },
  {
   "cell_type": "code",
   "execution_count": 5,
   "metadata": {},
   "outputs": [
    {
     "name": "stdout",
     "output_type": "stream",
     "text": [
      "\n",
      "Loading images to machine <tcp://192.168.99.122:2376 / mesosmaster> ...\n",
      "/home/mjb/PYCONUS_DOWNLOADS/scripts/docker_load_save_images.sh: die - No such machine dir <23003UP_DOWN_DIR/mesosmaster>\n",
      "\n",
      "real\t0m0.790s\n",
      "user\t0m0.100s\n",
      "sys\t0m0.020s\n"
     ]
    },
    {
     "ename": "",
     "evalue": "1",
     "output_type": "error",
     "traceback": []
    }
   ],
   "source": [
    "[ $CLUSTER_OPTION -eq 1 ] && time docker_load_save_images.sh -m mesosmaster load"
   ]
  },
  {
   "cell_type": "markdown",
   "metadata": {},
   "source": [
    "We will now start the cluster (Mesos Master and 2 Slaves)"
   ]
  },
  {
   "cell_type": "code",
   "execution_count": 6,
   "metadata": {},
   "outputs": [
    {
     "name": "stdout",
     "output_type": "stream",
     "text": [
      "Pulling zookeeper (netflixoss/exhibitor:1.5.2)...\n",
      "1.5.2: Pulling from netflixoss/exhibitor\n",
      "\n",
      "\u001b[1B95caeb02: Pulling fs layer\n",
      "\u001b[1B6feb5ab2: Pulling fs layer\n",
      "\u001b[1B59aac4de: Pulling fs layer\n",
      "\u001b[1B535a7b44: Pulling fs layer\n",
      "\u001b[1B6096cff1: Pulling fs layer\n",
      "\u001b[1B64404a49: Pulling fs layer\n",
      "\u001b[1B1efe4d14: Pulling fs layer\n",
      "\u001b[1Bf8857f2e: Pulling fs layer\n",
      "\u001b[1B9ea3de0d: Pulling fs layer\n",
      "\u001b[1B74fd9d17: Pulling fs layer\n",
      "\u001b[1B2a885be7: Pulling fs layer\n",
      "Digest: sha256:9b384a431d2e231f0bd3fcda5eff20d5eabd5ba1e3361764a4834d3401fbc4d4    418B/418B4MBB\n",
      "Status: Downloaded newer image for netflixoss/exhibitor:1.5.2\n",
      "Pulling slave1 (mesosphere/mesos-slave:1.1.01.1.0-2.0.107.ubuntu1404)...\n",
      "1.1.01.1.0-2.0.107.ubuntu1404: Pulling from mesosphere/mesos-slave\n",
      "\n",
      "\u001b[1B46315322: Pulling fs layer\n",
      "\u001b[1Be0ac480c: Pulling fs layer\n",
      "\u001b[1B8b5b3097: Pulling fs layer\n",
      "\u001b[1B181810e7: Pulling fs layer\n",
      "\u001b[1Bc7e5c03e: Pulling fs layer\n",
      "\u001b[1B95caeb02: Pulling fs layer\n",
      "\u001b[1B62c74d96: Pulling fs layer\n",
      "Digest: sha256:bb75cc78c6880a2faa5307e3d8caa806105c673e9002429e60e3ae858d162999 146.5MB/146.5MBB\n",
      "Status: Downloaded newer image for mesosphere/mesos-slave:1.1.01.1.0-2.0.107.ubuntu1404\n",
      "Pulling marathon (mesosphere/marathon:v0.8.1)...\n",
      "v0.8.1: Pulling from mesosphere/marathon\n",
      "\n",
      "\u001b[1Bc4256df3: Pulling fs layer\n",
      "\u001b[1B09728ffd: Pulling fs layer\n",
      "\u001b[1B65bc0d9f: Pulling fs layer\n",
      "\u001b[1B95caeb02: Pulling fs layer\n",
      "\u001b[1B82105f88: Pulling fs layer\n",
      "\u001b[1B2dbbd5b4: Pulling fs layer\n",
      "\u001b[1B0c20c578: Pulling fs layer\n",
      "\u001b[1B98598d44: Pulling fs layer\n",
      "Digest: sha256:8950ecf5640eeb477ecbb5ffd4827a2401a0d458ab128c8554a6c6266a0613ec 274.2MB/274.2MBB\n",
      "Status: Downloaded newer image for mesosphere/marathon:v0.8.1\n",
      "Pulling slave3 (mesosphere/mesos-slave:0.28.0-2.0.16.ubuntu1404)...\n",
      "0.28.0-2.0.16.ubuntu1404: Pulling from mesosphere/mesos-slave\n",
      "\n",
      "\u001b[1Bf96fd5ab: Pulling fs layer\n",
      "\u001b[1B77506e98: Pulling fs layer\n",
      "\u001b[1B3fb8dcb6: Pulling fs layer\n",
      "\u001b[1B95caeb02: Pulling fs layer\n",
      "Digest: sha256:9e84523946177c9bd1139e500ba929f7e93f87fb38d01538a9cc76f157147a43 132.3MB/132.3MBB\n",
      "Status: Downloaded newer image for mesosphere/mesos-slave:0.28.0-2.0.16.ubuntu1404\n",
      "Pulling mesos1 (mesosphere/mesos-master:1.1.01.1.0-2.0.107.ubuntu1404)...\n",
      "1.1.01.1.0-2.0.107.ubuntu1404: Pulling from mesosphere/mesos-master\n",
      "\n",
      "\u001b[1B46315322: Already exists\n",
      "\u001b[1Be0ac480c: Already exists\n",
      "\u001b[1B8b5b3097: Already exists\n",
      "\u001b[1B181810e7: Already exists\n",
      "\u001b[1Bc7e5c03e: Already exists\n",
      "\u001b[1B95caeb02: Already exists\n",
      "\u001b[1B62c74d96: Already exists\n",
      "Digest: sha256:a011e002d641c6ba8361c542bd9429af721b7c7434598a9615cbd5b05511af7f     32B/32BB\n",
      "Status: Downloaded newer image for mesosphere/mesos-master:1.1.01.1.0-2.0.107.ubuntu1404\n",
      "Creating mesoscli_slave1_1 ... \n",
      "Creating mesoscli_marathon_1 ... \n",
      "Creating mesoscli_slave1_1\n",
      "Creating mesoscli_slave2_1 ... \n",
      "Creating mesoscli_zookeeper_1 ... \n",
      "Creating mesoscli_mesos1_1 ... \n",
      "Creating mesoscli_slave3_1 ... \n",
      "Creating mesoscli_slave2_1\n",
      "Creating mesoscli_marathon_1\n",
      "Creating mesoscli_mesos1_1\n",
      "Creating mesoscli_slave3_1\n",
      "Creating mesoscli_zookeeper_1\n",
      "\u001b[1B\u001b[0m mesoscli_zookeeper_1 ... \u001b[32mdone\u001b[0m\n",
      "real\t28m43.971s\n",
      "user\t0m8.264s\n",
      "sys\t0m1.140s\n"
     ]
    }
   ],
   "source": [
    "[ $CLUSTER_OPTION -eq 1 ] && time docker-compose $(docker-machine config mesosmaster) -f docker-compose.yml up -d"
   ]
  },
  {
   "cell_type": "markdown",
   "metadata": {},
   "source": [
    "### Start the Mesos Master - Option2: Separate docker machines house Master 2 Slaves\n",
    "\n",
    "#### Option2: Create the Slave machines\n",
    "\n",
    "In this scenario we will create separate machines for the Mesos Slaves.\n",
    "\n",
    "We will now use docker-compose to start the Mesos Master and both Mesos Slaves as containers within the mesosmaster machine which we will created."
   ]
  },
  {
   "cell_type": "code",
   "execution_count": 7,
   "metadata": {
    "collapsed": true
   },
   "outputs": [],
   "source": [
    "[ $CLUSTER_OPTION -eq 2 ] && time docker-machine create --driver virtualbox mesosslave1\n",
    "NB_continue"
   ]
  },
  {
   "cell_type": "code",
   "execution_count": 8,
   "metadata": {
    "collapsed": true
   },
   "outputs": [],
   "source": [
    "[ $CLUSTER_OPTION -eq 2 ] && time docker-machine create --driver virtualbox mesosslave2\n",
    "NB_continue"
   ]
  },
  {
   "cell_type": "markdown",
   "metadata": {},
   "source": [
    "#### Upload images\n",
    "\n",
    "To save network bandwidth we will pre-load container images from a local directory\n",
    "\n",
    "#### Note: need to no how to only load mesosmaster images to master node etc ..."
   ]
  },
  {
   "cell_type": "code",
   "execution_count": 9,
   "metadata": {
    "collapsed": true
   },
   "outputs": [],
   "source": [
    "[ $CLUSTER_OPTION -eq 2 ] &&  {\n",
    "    echo \"Uploading images to mesosmaster\"\n",
    "    time docker_load_save_images.sh -m mesosmaster load\n",
    "\n",
    "    echo \"Uploading images to mesosslave1\"\n",
    "    time docker_load_save_images.sh -m mesosslave1 load\n",
    "\n",
    "    echo \"Uploading images to mesosslave2\"\n",
    "    time docker_load_save_images.sh -m mesosslave2 load\n",
    "}\n",
    "NB_continue"
   ]
  },
  {
   "cell_type": "markdown",
   "metadata": {},
   "source": [
    "#### Option2: Start Mesos Master\n",
    "\n",
    "We will now use docker-compose to start the Mesos Master as a container within the mesosmaster machine which we created"
   ]
  },
  {
   "cell_type": "code",
   "execution_count": 10,
   "metadata": {},
   "outputs": [],
   "source": [
    "[ $CLUSTER_OPTION -eq 2 ] && time docker-compose $(docker-machine config mesosmaster) -f master/docker-compose.yml up -d\n",
    "NB_continue"
   ]
  },
  {
   "cell_type": "markdown",
   "metadata": {},
   "source": [
    "#### Option2: Start Mesos Slaves\n",
    "\n",
    "We will now use docker-compose to start the Mesos Slaves as container within the mesosslave machines which we just created"
   ]
  },
  {
   "cell_type": "code",
   "execution_count": 11,
   "metadata": {
    "collapsed": true
   },
   "outputs": [],
   "source": [
    "[ $CLUSTER_OPTION -eq 2 ] && time docker-compose $(docker-machine config mesosslave1) -f slave/docker-compose.yml up -d\n",
    "NB_continue"
   ]
  },
  {
   "cell_type": "code",
   "execution_count": 12,
   "metadata": {
    "collapsed": true
   },
   "outputs": [],
   "source": [
    "[ $CLUSTER_OPTION -eq 2 ] && time docker-compose $(docker-machine config mesosslave2) -f slave/docker-compose.yml up -d\n",
    "NB_continue"
   ]
  },
  {
   "cell_type": "markdown",
   "metadata": {},
   "source": [
    "### Setup the Mesos Slaves\n",
    "\n",
    "We will now use docker-machine/virtualbox to create new docker nodes to be used as the Mesos Slaves.\n"
   ]
  },
  {
   "cell_type": "markdown",
   "metadata": {},
   "source": [
    "## Access to the Marathon console from your laptop:\n",
    "\n",
    "Let's get the ip address of our 'mesosmaster' machine, using\n",
    "```bash\n",
    "docker-machine ip mesosmaster\n",
    "```"
   ]
  },
  {
   "cell_type": "code",
   "execution_count": 13,
   "metadata": {},
   "outputs": [
    {
     "name": "stdout",
     "output_type": "stream",
     "text": [
      "192.168.99.122\n",
      "From a terminal on your laptop\n",
      "    docker-machine ssh mesosmaster -Nv -L 9090:localhost:8080\n",
      "    \n",
      "Then connect to the Mesos dashboard at http://localhost:9090\n"
     ]
    },
    {
     "ename": "",
     "evalue": "2",
     "output_type": "error",
     "traceback": []
    }
   ],
   "source": [
    "docker-machine ip mesosmaster\n",
    "\n",
    "echo \"From a terminal on your laptop\n",
    "    docker-machine ssh mesosmaster -Nv -L 9090:localhost:8080\"\"\n",
    "    \n",
    "Then connect to the Mesos dashboard at http://localhost:9090\"\n",
    "\n",
    "NB_pause"
   ]
  },
  {
   "cell_type": "markdown",
   "metadata": {},
   "source": [
    "\n",
    "Then open your web browser at the page http://localhost:9090 and you should see the Marathon console, as shown here\n",
    "\n",
    "![](images/marathon_dashboard.png)"
   ]
  },
  {
   "cell_type": "code",
   "execution_count": 14,
   "metadata": {},
   "outputs": [
    {
     "name": "stdout",
     "output_type": "stream",
     "text": [
      "NAME          ACTIVE   DRIVER       STATE     URL                         SWARM   DOCKER        ERRORS\n",
      "mesosmaster   -        virtualbox   Running   tcp://192.168.99.122:2376           v17.05.0-ce   \n",
      "swmaster1     -        virtualbox   Running   tcp://192.168.99.114:2376           v17.05.0-ce   \n",
      "swnode1       -        virtualbox   Running   tcp://192.168.99.115:2376           v17.05.0-ce   \n",
      "swnode2       -        virtualbox   Running   tcp://192.168.99.116:2376           v17.05.0-ce   \n"
     ]
    }
   ],
   "source": [
    "docker-machine ls"
   ]
  },
  {
   "cell_type": "markdown",
   "metadata": {},
   "source": [
    "### Deploy applications on to the Mesos cluster\n",
    "\n",
    "Use the Marathon application descriptions nginx.json and pacman.json to deploy these apps on mesos/marathon\n",
    "\n",
    "Let's first obtain the ip address of our Mesos Master node:"
   ]
  },
  {
   "cell_type": "code",
   "execution_count": 15,
   "metadata": {},
   "outputs": [
    {
     "name": "stdout",
     "output_type": "stream",
     "text": [
      "192.168.99.122\n"
     ]
    }
   ],
   "source": [
    "MESOS_MASTERIP=$(docker-machine ip mesosmaster)\n",
    "echo $MESOS_MASTERIP"
   ]
  },
  {
   "cell_type": "markdown",
   "metadata": {},
   "source": [
    "Now let's launch the nginx application, by sending a POST request to the Mesos Master:"
   ]
  },
  {
   "cell_type": "code",
   "execution_count": 17,
   "metadata": {},
   "outputs": [
    {
     "name": "stdout",
     "output_type": "stream",
     "text": [
      "{\"id\":\"/nginx\",\"cmd\":null,\"args\":null,\"user\":null,\"env\":{},\"instances\":2,\"cpus\":0.1,\"mem\":64.0,\"disk\":0.0,\"executor\":\"\",\"constraints\":[],\"uris\":[],\"storeUrls\":[],\"ports\":[0],\"requirePorts\":false,\"backoffFactor\":1.15,\"container\":{\"type\":\"DOCKER\",\"volumes\":[],\"docker\":{\"image\":\"nginx\",\"network\":\"BRIDGE\",\"portMappings\":[{\"containerPort\":80,\"hostPort\":0,\"servicePort\":0,\"protocol\":\"tcp\"}],\"privileged\":false,\"parameters\":[]}},\"healthChecks\":[{\"path\":\"/\",\"protocol\":\"HTTP\",\"portIndex\":0,\"command\":null,\"gracePeriodSeconds\":5,\"intervalSeconds\":20,\"timeoutSeconds\":20,\"maxConsecutiveFailures\":3}],\"dependencies\":[],\"upgradeStrategy\":{\"minimumHealthCapacity\":1.0,\"maximumOverCapacity\":1.0},\"labels\":{},\"version\":\"2017-05-15T08:35:45.910Z\",\"deployments\":[{\"id\":\"5797d529-decd-4633-a485-76790384d0a0\"}],\"tasks\":[],\"tasksStaged\":0,\"tasksRunning\":0,\"tasksHealthy\":0,\"tasksUnhealthy\":0,\"backoffSeconds\":1,\"maxLaunchDelaySeconds\":3600}"
     ]
    }
   ],
   "source": [
    "curl -X POST -H \"Accept: application/json\" -H \"Content-Type: application/json\" http://$MESOS_MASTERIP:8080/v2/apps -d @nginx.json"
   ]
  },
  {
   "cell_type": "markdown",
   "metadata": {},
   "source": [
    "and let's launch the pacman application, by sending a POST request to the Mesos Master:"
   ]
  },
  {
   "cell_type": "code",
   "execution_count": 18,
   "metadata": {},
   "outputs": [
    {
     "name": "stdout",
     "output_type": "stream",
     "text": [
      "{\"id\":\"/pacman\",\"cmd\":null,\"args\":null,\"user\":null,\"env\":{},\"instances\":2,\"cpus\":0.1,\"mem\":64.0,\"disk\":0.0,\"executor\":\"\",\"constraints\":[],\"uris\":[],\"storeUrls\":[],\"ports\":[0],\"requirePorts\":false,\"backoffFactor\":1.15,\"container\":{\"type\":\"DOCKER\",\"volumes\":[],\"docker\":{\"image\":\"emilevauge/pacman\",\"network\":\"BRIDGE\",\"portMappings\":[{\"containerPort\":80,\"hostPort\":0,\"servicePort\":0,\"protocol\":\"tcp\"}],\"privileged\":false,\"parameters\":[]}},\"healthChecks\":[],\"dependencies\":[],\"upgradeStrategy\":{\"minimumHealthCapacity\":1.0,\"maximumOverCapacity\":1.0},\"labels\":{},\"version\":\"2017-05-15T08:35:50.726Z\",\"deployments\":[{\"id\":\"642104ba-83b6-4328-9161-c99353a6faae\"}],\"tasks\":[],\"tasksStaged\":0,\"tasksRunning\":0,\"tasksHealthy\":0,\"tasksUnhealthy\":0,\"backoffSeconds\":1,\"maxLaunchDelaySeconds\":3600}"
     ]
    }
   ],
   "source": [
    "curl -X POST -H \"Accept: application/json\" -H \"Content-Type: application/json\" http://$MESOS_MASTERIP:8080/v2/apps -d @pacman.json"
   ]
  },
  {
   "cell_type": "markdown",
   "metadata": {},
   "source": [
    "The Marathon console, at http://localhost:9090, should now show these 2 services to be running:\n",
    "\n",
    "![](images/marathon_dashboard_2services.png)"
   ]
  },
  {
   "cell_type": "markdown",
   "metadata": {},
   "source": [
    "Play with the Marathon console: scale applications, kill them etc...\n"
   ]
  },
  {
   "cell_type": "code",
   "execution_count": 19,
   "metadata": {},
   "outputs": [
    {
     "name": "stdout",
     "output_type": "stream",
     "text": [
      "Started at Mon May 15 10:35:51 CEST 2017   [1494835320]\n",
      "Ended   at Mon May 15 10:35:51 CEST 2017   [1494837351]\n",
      "Took 2031 secs [0h33m51]\n"
     ]
    }
   ],
   "source": [
    "NB_time_taken"
   ]
  }
 ],
 "metadata": {
  "anaconda-cloud": {},
  "kernelspec": {
   "display_name": "Bash",
   "language": "bash",
   "name": "bash"
  },
  "language_info": {
   "codemirror_mode": "shell",
   "file_extension": ".sh",
   "mimetype": "text/x-sh",
   "name": "bash"
  }
 },
 "nbformat": 4,
 "nbformat_minor": 1
}
