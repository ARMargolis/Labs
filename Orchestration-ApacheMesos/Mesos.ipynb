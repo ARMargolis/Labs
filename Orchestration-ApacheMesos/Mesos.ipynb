{
 "cells": [
  {
   "cell_type": "markdown",
   "metadata": {},
   "source": [
    "# Mesos Lab\n",
    "\n",
    "First move to the source directory where you already downloaded the git repo sources:\n",
    "\n",
    "git clone https://github.com/mjbright/LinuxConEU-ContainerOrchestration\n"
   ]
  },
  {
   "cell_type": "code",
   "execution_count": 1,
   "metadata": {},
   "outputs": [
    {
     "name": "stdout",
     "output_type": "stream",
     "text": [
      "/home/mjb/Dropbox/z/bin/DEMOS_TUTORIALS/2017-May-PyconUS/mesos-cli\n",
      "Notebook started at Mon May 15 11:08:49 CEST 2017   [1494839329]\n"
     ]
    }
   ],
   "source": [
    "pwd\n",
    "\n",
    ". ../NB_bash_functions.rc\n",
    "\n",
    "CLUSTER_OPTION=1\n",
    "#CLUSTER_OPTION=2\n",
    "\n",
    "SCRIPT_DIR=~/PYCONUS_DOWNLOADS/scripts\n",
    "export PATH=$SCRIPT_DIR:$PATH"
   ]
  },
  {
   "cell_type": "markdown",
   "metadata": {},
   "source": [
    "## Cleanup the Mesos Cluster"
   ]
  },
  {
   "cell_type": "code",
   "execution_count": 2,
   "metadata": {},
   "outputs": [
    {
     "name": "stdout",
     "output_type": "stream",
     "text": [
      "About to remove mesosmaster, mesosslave1, mesosslave2\n",
      "WARNING: This action will delete both local reference and remote instance.\n",
      "Successfully removed mesosmaster\n",
      "Error removing host \"mesosslave1\": Host does not exist: \"mesosslave1\"\n",
      "Can't remove \"mesosslave1\"\n",
      "Error removing host \"mesosslave2\": Host does not exist: \"mesosslave2\"\n",
      "Can't remove \"mesosslave2\"\n",
      "\n",
      "real\t0m2.656s\n",
      "user\t0m0.028s\n",
      "sys\t0m0.004s\n"
     ]
    }
   ],
   "source": [
    "time docker-machine rm -f mesosmaster mesosslave1 mesosslave2\n",
    "\n",
    "NB_cleanup_virtualbox_inaccessible_VMs\n",
    "NB_cleanup_virtualbox_mesos_VMs"
   ]
  },
  {
   "cell_type": "markdown",
   "metadata": {},
   "source": [
    "## Create the Mesos Cluster\n",
    "\n",
    "We will now use docker-machine/virtualbox to create the Docker hosts to house Mesos.\n",
    "\n",
    "We can either\n",
    "- create 1 machine which runs Mesos Master and several Slaves, or\n",
    "- create 1 Master machine and several slave machines\n",
    "\n",
    "For this lab we recommend the first option - 1 single machine\n",
    "\n",
    "In either case we will first create a Docker host machine called mesosmaster"
   ]
  },
  {
   "cell_type": "code",
   "execution_count": 3,
   "metadata": {},
   "outputs": [
    {
     "name": "stdout",
     "output_type": "stream",
     "text": [
      "Running pre-create checks...\n",
      "Creating machine...\n",
      "(mesosmaster) Copying /home/mjb/.docker/machine/cache/boot2docker.iso to /home/mjb/.docker/machine/machines/mesosmaster/boot2docker.iso...\n",
      "(mesosmaster) Creating VirtualBox VM...\n",
      "(mesosmaster) Creating SSH key...\n",
      "(mesosmaster) Starting the VM...\n",
      "(mesosmaster) Check network to re-create if needed...\n",
      "(mesosmaster) Waiting for an IP...\n",
      "Waiting for machine to be running, this may take a few minutes...\n",
      "Detecting operating system of created instance...\n",
      "Waiting for SSH to be available...\n",
      "Detecting the provisioner...\n",
      "Provisioning with boot2docker...\n",
      "Copying certs to the local machine directory...\n",
      "Copying certs to the remote machine...\n",
      "Setting Docker configuration on the remote daemon...\n",
      "Checking connection to Docker...\n",
      "Docker is up and running!\n",
      "To see how to connect your Docker Client to the Docker Engine running on this virtual machine, run: docker-machine env mesosmaster\n",
      "\n",
      "real\t1m48.302s\n",
      "user\t0m14.604s\n",
      "sys\t0m32.536s\n"
     ]
    }
   ],
   "source": [
    "[ $CLUSTER_OPTION -eq 1 ] && time docker-machine create --driver virtualbox mesosmaster"
   ]
  },
  {
   "cell_type": "code",
   "execution_count": 4,
   "metadata": {},
   "outputs": [
    {
     "name": "stdout",
     "output_type": "stream",
     "text": [
      "NAME          ACTIVE   DRIVER       STATE     URL                         SWARM   DOCKER        ERRORS\n",
      "mesosmaster   -        virtualbox   Running   tcp://192.168.99.123:2376           v17.05.0-ce   \n",
      "swmaster1     -        virtualbox   Running   tcp://192.168.99.114:2376           v17.05.0-ce   \n",
      "swnode1       -        virtualbox   Running   tcp://192.168.99.115:2376           v17.05.0-ce   \n",
      "swnode2       -        virtualbox   Running   tcp://192.168.99.116:2376           v17.05.0-ce   \n"
     ]
    }
   ],
   "source": [
    "docker-machine ls"
   ]
  },
  {
   "cell_type": "markdown",
   "metadata": {},
   "source": [
    "### Start the Mesos Master - Option1: Single docker machine"
   ]
  },
  {
   "cell_type": "markdown",
   "metadata": {},
   "source": [
    "#### Upload images\n",
    "\n",
    "To save network bandwidth we will pre-load container images from a local directory"
   ]
  },
  {
   "cell_type": "code",
   "execution_count": 5,
   "metadata": {},
   "outputs": [
    {
     "name": "stdout",
     "output_type": "stream",
     "text": [
      "\n",
      "Loading images to machine <tcp://192.168.99.123:2376 / mesosmaster> ...\n",
      "-rw------- 1 mjb mjb 1.1G May 15 10:49 /home/mjb/PYCONUS_DOWNLOADS/Docker-images/mesosmaster/mesosphere____marathon____v0.8.1\n",
      "IMAGE_FILE=mesosphere____marathon____v0.8.1\n",
      "REPO=mesosphere\n",
      "REST=marathon____v0.8.1\n",
      "IMAGE=marathon\n",
      "TAG=v0.8.1\n",
      "docker load -i /home/mjb/PYCONUS_DOWNLOADS/Docker-images/mesosmaster/mesosphere____marathon____v0.8.1\n",
      "\n",
      "\u001b[1Baca5ce76: Loading layer  197.2MB/197.2MB\n",
      "\u001b[1Bd576a927: Loading layer  208.9kB/208.9kB\n",
      "\u001b[1B2f49bc4c: Loading layer  4.608kB/4.608kB\n",
      "\u001b[1Bbf18a086: Loading layer  1.024kB/1.024kB\n",
      "\u001b[1Bb6655687: Loading layer  21.26MB/21.26MB\n",
      "\u001b[1B46db564b: Loading layer  485.4MB/485.4MB\n",
      "\u001b[1Bb10cef78: Loading layer  4.391MB/4.391MB\n",
      "\u001b[5Bbf18a086: Loading layer  1.024kB/1.024kB\n",
      "\u001b[6BLoaded image: mesosphere/marathon:v0.8.1\n",
      "Took 177 secs\n",
      "-rw------- 1 mjb mjb 719M May 15 10:39 /home/mjb/PYCONUS_DOWNLOADS/Docker-images/mesosmaster/mesosphere____mesos-master____1.1.01.1.0-2.0.107.ubuntu1404\n",
      "IMAGE_FILE=mesosphere____mesos-master____1.1.01.1.0-2.0.107.ubuntu1404\n",
      "REPO=mesosphere\n",
      "REST=mesos-master____1.1.01.1.0-2.0.107.ubuntu1404\n",
      "IMAGE=mesos-master\n",
      "TAG=1.1.01.1.0-2.0.107.ubuntu1404\n",
      "docker load -i /home/mjb/PYCONUS_DOWNLOADS/Docker-images/mesosmaster/mesosphere____mesos-master____1.1.01.1.0-2.0.107.ubuntu1404\n",
      "\n",
      "\u001b[1B35566a26: Loading layer  196.8MB/196.8MB\n",
      "\u001b[1B72983326: Loading layer  209.9kB/209.9kB\n",
      "\u001b[1B12e8aa56: Loading layer  7.168kB/7.168kB\n",
      "\u001b[1B5d8c6e56: Loading layer  4.608kB/4.608kB\n",
      "\u001b[1B2b7d2cf5: Loading layer  3.072kB/3.072kB\n",
      "\u001b[1Bbf18a086: Loading layer  1.024kB/1.024kB\n",
      "\u001b[1B7740600f: Loading layer  167.5MB/167.5MB\n",
      "\u001b[3BLoaded image: mesosphere/mesos-master:1.1.01.1.0-2.0.107.ubuntu1404\n",
      "Took 117 secs\n",
      "-rw------- 1 mjb mjb 503M May 15 10:44 /home/mjb/PYCONUS_DOWNLOADS/Docker-images/mesosmaster/mesosphere____mesos-slave____0.28.0-2.0.16.ubuntu1404\n",
      "IMAGE_FILE=mesosphere____mesos-slave____0.28.0-2.0.16.ubuntu1404\n",
      "REPO=mesosphere\n",
      "REST=mesos-slave____0.28.0-2.0.16.ubuntu1404\n",
      "IMAGE=mesos-slave\n",
      "TAG=0.28.0-2.0.16.ubuntu1404\n",
      "docker load -i /home/mjb/PYCONUS_DOWNLOADS/Docker-images/mesosmaster/mesosphere____mesos-slave____0.28.0-2.0.16.ubuntu1404\n",
      "\n",
      "\u001b[1Bb287e755: Loading layer  196.8MB/196.8MB\n",
      "\u001b[1Bbe1d9cc5: Loading layer  208.9kB/208.9kB\n",
      "\u001b[1B27795ce9: Loading layer  4.608kB/4.608kB\n",
      "\u001b[1Bbf18a086: Loading layer  1.024kB/1.024kB\n",
      "\u001b[2BLoaded image: mesosphere/mesos-slave:0.28.0-2.0.16.ubuntu1404\n",
      "Took 59 secs\n",
      "-rw------- 1 mjb mjb 719M May 15 10:42 /home/mjb/PYCONUS_DOWNLOADS/Docker-images/mesosmaster/mesosphere____mesos-slave____1.1.01.1.0-2.0.107.ubuntu1404\n",
      "IMAGE_FILE=mesosphere____mesos-slave____1.1.01.1.0-2.0.107.ubuntu1404\n",
      "REPO=mesosphere\n",
      "REST=mesos-slave____1.1.01.1.0-2.0.107.ubuntu1404\n",
      "IMAGE=mesos-slave\n",
      "TAG=1.1.01.1.0-2.0.107.ubuntu1404\n",
      "docker load -i /home/mjb/PYCONUS_DOWNLOADS/Docker-images/mesosmaster/mesosphere____mesos-slave____1.1.01.1.0-2.0.107.ubuntu1404\n",
      "Loaded image: mesosphere/mesos-slave:1.1.01.1.0-2.0.107.ubuntu1404\n",
      "Took 39 secs\n",
      "-rw------- 1 mjb mjb 690M May 15 10:52 /home/mjb/PYCONUS_DOWNLOADS/Docker-images/mesosmaster/netflixoss____exhibitor____1.5.2\n",
      "IMAGE_FILE=netflixoss____exhibitor____1.5.2\n",
      "REPO=netflixoss\n",
      "REST=exhibitor____1.5.2\n",
      "IMAGE=exhibitor\n",
      "TAG=1.5.2\n",
      "docker load -i /home/mjb/PYCONUS_DOWNLOADS/Docker-images/mesosmaster/netflixoss____exhibitor____1.5.2\n",
      "\n",
      "\u001b[1Bbf18a086: Loading layer  1.024kB/1.024kB\n",
      "\u001b[1B1e359484: Loading layer  201.6MB/201.6MB\n",
      "\u001b[1B001661c5: Loading layer  208.9kB/208.9kB\n",
      "\u001b[1B34b4a164: Loading layer  7.168kB/7.168kB\n",
      "\u001b[1Bf6185bdf: Loading layer  4.608kB/4.608kB\n",
      "\u001b[6Bbf18a086: Loading layer  1.024kB/1.024kB\n",
      "\u001b[7Bbf18a086: Loading layer  1.024kB/1.024kB\n",
      "\u001b[1B63b69d70: Loading layer  66.57MB/66.57MB\n",
      "\u001b[1B30f83a1c: Loading layer  95.57MB/95.57MB\n",
      "\u001b[1Bcc6beff7: Loading layer  3.584kB/3.584kB\n",
      "\u001b[1Babb63392: Loading layer  42.18MB/42.18MB\n",
      "\u001b[12BLoaded image: netflixoss/exhibitor:1.5.2\n",
      "Took 103 secs\n",
      "\n",
      "real\t8m15.180s\n",
      "user\t0m29.784s\n",
      "sys\t0m32.856s\n"
     ]
    }
   ],
   "source": [
    "[ $CLUSTER_OPTION -eq 1 ] && time docker_load_save_images.sh -m mesosmaster load"
   ]
  },
  {
   "cell_type": "markdown",
   "metadata": {},
   "source": [
    "We will now start the cluster (Mesos Master and 2 Slaves)"
   ]
  },
  {
   "cell_type": "code",
   "execution_count": 6,
   "metadata": {},
   "outputs": [
    {
     "name": "stdout",
     "output_type": "stream",
     "text": [
      "Creating mesoscli_slave2_1 ... \n",
      "Creating mesoscli_mesos1_1 ... \n",
      "Creating mesoscli_zookeeper_1 ... \n",
      "Creating mesoscli_marathon_1 ... \n",
      "Creating mesoscli_slave1_1 ... \n",
      "Creating mesoscli_slave2_1\n",
      "Creating mesoscli_zookeeper_1\n",
      "Creating mesoscli_slave3_1 ... \n",
      "Creating mesoscli_mesos1_1\n",
      "Creating mesoscli_slave1_1\n",
      "Creating mesoscli_marathon_1\n",
      "Creating mesoscli_slave3_1\n",
      "\u001b[1B\u001b[0m mesoscli_slave1_1 ... \u001b[32mdone\u001b[0m0mm\n",
      "real\t0m23.999s\n",
      "user\t0m4.392s\n",
      "sys\t0m0.580s\n"
     ]
    }
   ],
   "source": [
    "[ $CLUSTER_OPTION -eq 1 ] && time docker-compose $(docker-machine config mesosmaster) -f docker-compose.yml up -d"
   ]
  },
  {
   "cell_type": "markdown",
   "metadata": {},
   "source": [
    "### Start the Mesos Master - Option2: Separate docker machines house Master 2 Slaves\n",
    "\n",
    "#### Option2: Create the Slave machines\n",
    "\n",
    "In this scenario we will create separate machines for the Mesos Slaves.\n",
    "\n",
    "We will now use docker-compose to start the Mesos Master and both Mesos Slaves as containers within the mesosmaster machine which we will created."
   ]
  },
  {
   "cell_type": "code",
   "execution_count": 7,
   "metadata": {
    "collapsed": true
   },
   "outputs": [],
   "source": [
    "[ $CLUSTER_OPTION -eq 2 ] && time docker-machine create --driver virtualbox mesosslave1\n",
    "NB_continue"
   ]
  },
  {
   "cell_type": "code",
   "execution_count": 8,
   "metadata": {
    "collapsed": true
   },
   "outputs": [],
   "source": [
    "[ $CLUSTER_OPTION -eq 2 ] && time docker-machine create --driver virtualbox mesosslave2\n",
    "NB_continue"
   ]
  },
  {
   "cell_type": "markdown",
   "metadata": {},
   "source": [
    "#### Upload images\n",
    "\n",
    "To save network bandwidth we will pre-load container images from a local directory\n",
    "\n",
    "#### Note: need to no how to only load mesosmaster images to master node etc ..."
   ]
  },
  {
   "cell_type": "code",
   "execution_count": 9,
   "metadata": {
    "collapsed": true
   },
   "outputs": [],
   "source": [
    "[ $CLUSTER_OPTION -eq 2 ] &&  {\n",
    "    echo \"Uploading images to mesosmaster\"\n",
    "    time docker_load_save_images.sh -m mesosmaster load\n",
    "\n",
    "    echo \"Uploading images to mesosslave1\"\n",
    "    time docker_load_save_images.sh -m mesosslave1 load\n",
    "\n",
    "    echo \"Uploading images to mesosslave2\"\n",
    "    time docker_load_save_images.sh -m mesosslave2 load\n",
    "}\n",
    "NB_continue"
   ]
  },
  {
   "cell_type": "markdown",
   "metadata": {},
   "source": [
    "#### Option2: Start Mesos Master\n",
    "\n",
    "We will now use docker-compose to start the Mesos Master as a container within the mesosmaster machine which we created"
   ]
  },
  {
   "cell_type": "code",
   "execution_count": 10,
   "metadata": {},
   "outputs": [],
   "source": [
    "[ $CLUSTER_OPTION -eq 2 ] && time docker-compose $(docker-machine config mesosmaster) -f master/docker-compose.yml up -d\n",
    "NB_continue"
   ]
  },
  {
   "cell_type": "markdown",
   "metadata": {},
   "source": [
    "#### Option2: Start Mesos Slaves\n",
    "\n",
    "We will now use docker-compose to start the Mesos Slaves as container within the mesosslave machines which we just created"
   ]
  },
  {
   "cell_type": "code",
   "execution_count": 11,
   "metadata": {
    "collapsed": true
   },
   "outputs": [],
   "source": [
    "[ $CLUSTER_OPTION -eq 2 ] && time docker-compose $(docker-machine config mesosslave1) -f slave/docker-compose.yml up -d\n",
    "NB_continue"
   ]
  },
  {
   "cell_type": "code",
   "execution_count": 12,
   "metadata": {
    "collapsed": true
   },
   "outputs": [],
   "source": [
    "[ $CLUSTER_OPTION -eq 2 ] && time docker-compose $(docker-machine config mesosslave2) -f slave/docker-compose.yml up -d\n",
    "NB_continue"
   ]
  },
  {
   "cell_type": "markdown",
   "metadata": {},
   "source": [
    "### Setup the Mesos Slaves\n",
    "\n",
    "We will now use docker-machine/virtualbox to create new docker nodes to be used as the Mesos Slaves.\n"
   ]
  },
  {
   "cell_type": "markdown",
   "metadata": {},
   "source": [
    "## Access to the Marathon console from your laptop:\n",
    "\n",
    "Let's get the ip address of our 'mesosmaster' machine, using\n",
    "```bash\n",
    "docker-machine ip mesosmaster\n",
    "```"
   ]
  },
  {
   "cell_type": "code",
   "execution_count": 13,
   "metadata": {},
   "outputs": [
    {
     "name": "stdout",
     "output_type": "stream",
     "text": [
      "192.168.99.123\n",
      "From a terminal on your laptop\n",
      "    docker-machine ssh mesosmaster -Nv -L 9090:localhost:8080\n",
      "    \n",
      "Then connect to the Mesos dashboard at http://localhost:9090\n"
     ]
    },
    {
     "ename": "",
     "evalue": "2",
     "output_type": "error",
     "traceback": []
    }
   ],
   "source": [
    "docker-machine ip mesosmaster\n",
    "\n",
    "echo \"From a terminal on your laptop\n",
    "    docker-machine ssh mesosmaster -Nv -L 9090:localhost:8080\"\"\n",
    "    \n",
    "Then connect to the Mesos dashboard at http://localhost:9090\"\n",
    "\n",
    "NB_pause"
   ]
  },
  {
   "cell_type": "markdown",
   "metadata": {},
   "source": [
    "\n",
    "Then open your web browser at the page http://localhost:9090 and you should see the Marathon console, as shown here\n",
    "\n",
    "![](images/marathon_dashboard.png)"
   ]
  },
  {
   "cell_type": "code",
   "execution_count": 14,
   "metadata": {},
   "outputs": [
    {
     "name": "stdout",
     "output_type": "stream",
     "text": [
      "NAME          ACTIVE   DRIVER       STATE     URL                         SWARM   DOCKER        ERRORS\n",
      "mesosmaster   -        virtualbox   Running   tcp://192.168.99.123:2376           v17.05.0-ce   \n",
      "swmaster1     -        virtualbox   Running   tcp://192.168.99.114:2376           v17.05.0-ce   \n",
      "swnode1       -        virtualbox   Running   tcp://192.168.99.115:2376           v17.05.0-ce   \n",
      "swnode2       -        virtualbox   Running   tcp://192.168.99.116:2376           v17.05.0-ce   \n"
     ]
    }
   ],
   "source": [
    "docker-machine ls"
   ]
  },
  {
   "cell_type": "markdown",
   "metadata": {},
   "source": [
    "### Deploy applications on to the Mesos cluster\n",
    "\n",
    "Use the Marathon application descriptions nginx.json and pacman.json to deploy these apps on mesos/marathon\n",
    "\n",
    "Let's first obtain the ip address of our Mesos Master node:"
   ]
  },
  {
   "cell_type": "code",
   "execution_count": 15,
   "metadata": {},
   "outputs": [
    {
     "name": "stdout",
     "output_type": "stream",
     "text": [
      "192.168.99.123\n"
     ]
    }
   ],
   "source": [
    "MESOS_MASTERIP=$(docker-machine ip mesosmaster)\n",
    "echo $MESOS_MASTERIP"
   ]
  },
  {
   "cell_type": "markdown",
   "metadata": {},
   "source": [
    "Now let's launch the nginx application, by sending a POST request to the Mesos Master:"
   ]
  },
  {
   "cell_type": "code",
   "execution_count": 16,
   "metadata": {},
   "outputs": [
    {
     "name": "stdout",
     "output_type": "stream",
     "text": [
      "{\"id\":\"/nginx\",\"cmd\":null,\"args\":null,\"user\":null,\"env\":{},\"instances\":2,\"cpus\":0.1,\"mem\":64.0,\"disk\":0.0,\"executor\":\"\",\"constraints\":[],\"uris\":[],\"storeUrls\":[],\"ports\":[0],\"requirePorts\":false,\"backoffFactor\":1.15,\"container\":{\"type\":\"DOCKER\",\"volumes\":[],\"docker\":{\"image\":\"nginx\",\"network\":\"BRIDGE\",\"portMappings\":[{\"containerPort\":80,\"hostPort\":0,\"servicePort\":0,\"protocol\":\"tcp\"}],\"privileged\":false,\"parameters\":[]}},\"healthChecks\":[{\"path\":\"/\",\"protocol\":\"HTTP\",\"portIndex\":0,\"command\":null,\"gracePeriodSeconds\":5,\"intervalSeconds\":20,\"timeoutSeconds\":20,\"maxConsecutiveFailures\":3}],\"dependencies\":[],\"upgradeStrategy\":{\"minimumHealthCapacity\":1.0,\"maximumOverCapacity\":1.0},\"labels\":{},\"version\":\"2017-05-15T09:20:28.850Z\",\"tasks\":[],\"deployments\":[{\"id\":\"b3971878-c9b3-4bb2-8e0f-7e61c820cfe6\"}],\"tasksStaged\":0,\"tasksRunning\":0,\"tasksHealthy\":0,\"tasksUnhealthy\":0,\"backoffSeconds\":1,\"maxLaunchDelaySeconds\":3600}"
     ]
    }
   ],
   "source": [
    "curl -X POST -H \"Accept: application/json\" -H \"Content-Type: application/json\" http://$MESOS_MASTERIP:8080/v2/apps -d @nginx.json"
   ]
  },
  {
   "cell_type": "markdown",
   "metadata": {},
   "source": [
    "and let's launch the pacman application, by sending a POST request to the Mesos Master:"
   ]
  },
  {
   "cell_type": "code",
   "execution_count": 17,
   "metadata": {},
   "outputs": [
    {
     "name": "stdout",
     "output_type": "stream",
     "text": [
      "{\"id\":\"/pacman\",\"cmd\":null,\"args\":null,\"user\":null,\"env\":{},\"instances\":2,\"cpus\":0.1,\"mem\":64.0,\"disk\":0.0,\"executor\":\"\",\"constraints\":[],\"uris\":[],\"storeUrls\":[],\"ports\":[0],\"requirePorts\":false,\"backoffFactor\":1.15,\"container\":{\"type\":\"DOCKER\",\"volumes\":[],\"docker\":{\"image\":\"emilevauge/pacman\",\"network\":\"BRIDGE\",\"portMappings\":[{\"containerPort\":80,\"hostPort\":0,\"servicePort\":0,\"protocol\":\"tcp\"}],\"privileged\":false,\"parameters\":[]}},\"healthChecks\":[],\"dependencies\":[],\"upgradeStrategy\":{\"minimumHealthCapacity\":1.0,\"maximumOverCapacity\":1.0},\"labels\":{},\"version\":\"2017-05-15T09:20:32.882Z\",\"tasks\":[],\"deployments\":[{\"id\":\"18c20792-f692-4f36-a6fa-6ebf14aa6835\"}],\"tasksStaged\":0,\"tasksRunning\":0,\"tasksHealthy\":0,\"tasksUnhealthy\":0,\"backoffSeconds\":1,\"maxLaunchDelaySeconds\":3600}"
     ]
    }
   ],
   "source": [
    "curl -X POST -H \"Accept: application/json\" -H \"Content-Type: application/json\" http://$MESOS_MASTERIP:8080/v2/apps -d @pacman.json"
   ]
  },
  {
   "cell_type": "markdown",
   "metadata": {},
   "source": [
    "The Marathon console, at http://localhost:9090, should now show these 2 services to be running:\n",
    "\n",
    "![](images/marathon_dashboard_2services.png)"
   ]
  },
  {
   "cell_type": "markdown",
   "metadata": {},
   "source": [
    "Play with the Marathon console: scale applications, kill them etc...\n"
   ]
  },
  {
   "cell_type": "code",
   "execution_count": 18,
   "metadata": {},
   "outputs": [
    {
     "name": "stdout",
     "output_type": "stream",
     "text": [
      "Started at Mon May 15 11:20:33 CEST 2017   [1494839329]\n",
      "Ended   at Mon May 15 11:20:33 CEST 2017   [1494840033]\n",
      "Took 704 secs [0h11m44]\n"
     ]
    }
   ],
   "source": [
    "NB_time_taken"
   ]
  }
 ],
 "metadata": {
  "anaconda-cloud": {},
  "kernelspec": {
   "display_name": "Bash",
   "language": "bash",
   "name": "bash"
  },
  "language_info": {
   "codemirror_mode": "shell",
   "file_extension": ".sh",
   "mimetype": "text/x-sh",
   "name": "bash"
  }
 },
 "nbformat": 4,
 "nbformat_minor": 1
}
