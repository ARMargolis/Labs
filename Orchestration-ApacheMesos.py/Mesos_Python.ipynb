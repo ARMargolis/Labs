{
 "cells": [
  {
   "cell_type": "code",
   "execution_count": null,
   "metadata": {
    "collapsed": true
   },
   "outputs": [],
   "source": [
    "    import pprint\n",
    "    \n",
    "    pp = pprint.PrettyPrinter(indent=4)    "
   ]
  },
  {
   "cell_type": "markdown",
   "metadata": {},
   "source": [
    "# Mesos/Marathon Python\n",
    "\n",
    "## Deploying MiniMesos\n",
    "\n",
    "### Requirements\n",
    "\n",
    "* Docker\n",
    "* marathon-python (through pip install)\n",
    "\n",
    "#### For Fedora/RHEL/CentOS users\n",
    "\n",
    "MiniMesos is not compatible with the docker package provided by Red Hat. You'll have to use the packages provided by Docker, Inc.\n",
    "\n",
    "```sh\n",
    "sudo dnf config-manager \\\n",
    "    --add-repo \\\n",
    "    https://download.docker.com/linux/fedora/docker-ce.repo\n",
    "sudo dnf remove docker\n",
    "sudo dnf install docker-ce\n",
    "sudo systemctl restart docker\n",
    "```\n",
    "\n",
    "\n",
    "### Install MiniMesos\n",
    "\n",
    "```sh\n",
    "curl -sSL https://minimesos.org/install | sh # This installs MiniMesos in $HOME/.minimesos/bin\n",
    "export PATH=$PATH:$HOME/.minimesos/bin\n",
    "```\n",
    "\n",
    "## Now ready to play with MiniMesos\n",
    "First let's view our minimesos environment from the command-line"
   ]
  },
  {
   "cell_type": "code",
   "execution_count": 7,
   "metadata": {},
   "outputs": [
    {
     "name": "stdout",
     "output_type": "stream",
     "text": [
      "Initialized minimesosFile in this directory\r\n"
     ]
    }
   ],
   "source": [
    "! minimesos init"
   ]
  },
  {
   "cell_type": "code",
   "execution_count": 9,
   "metadata": {},
   "outputs": [
    {
     "name": "stdout",
     "output_type": "stream",
     "text": [
      "Initialized debug logging\n",
      "Executing up command\n",
      "Creating Mesos cluster\n",
      "Creating cluster processes\n",
      "Validating cluster processes\n",
      "Connecting cluster processes\n",
      "Writing cluster ID 2635860384 to /home/hguemar/Labs/Orchestration-ApacheMesos.py/.minimesos/minimesos.cluster\n",
      "Cluster 2635860384 - start\n",
      "Failed to run command 'up'. null\n"
     ]
    }
   ],
   "source": [
    "! minimesos --debug up"
   ]
  },
  {
   "cell_type": "code",
   "execution_count": 4,
   "metadata": {},
   "outputs": [
    {
     "name": "stdout",
     "output_type": "stream",
     "text": [
      "Minimesos cluster is running: 2969741956\n",
      "Mesos version: 1.0.0\n",
      "export MINIMESOS_NETWORK_GATEWAY=172.17.0.1\n",
      "export MINIMESOS_AGENT=http://172.17.0.6:5051; export MINIMESOS_AGENT_IP=172.17.0.6\n",
      "export MINIMESOS_ZOOKEEPER=zk://172.17.0.3:2181/mesos; export MINIMESOS_ZOOKEEPER_IP=172.17.0.3\n",
      "export MINIMESOS_MARATHON=http://172.17.0.5:8080; export MINIMESOS_MARATHON_IP=172.17.0.5\n",
      "export MINIMESOS_CONSUL=http://172.17.0.7:8500; export MINIMESOS_CONSUL_IP=172.17.0.7\n",
      "export MINIMESOS_MASTER=http://172.17.0.4:5050; export MINIMESOS_MASTER_IP=172.17.0.4\n"
     ]
    }
   ],
   "source": [
    "! minimesos info"
   ]
  },
  {
   "cell_type": "code",
   "execution_count": 5,
   "metadata": {},
   "outputs": [
    {
     "name": "stdout",
     "output_type": "stream",
     "text": [
      "{\r\n",
      "  \"git_sha\": \"c9b70582e9fccab8f6863b0bd3a812b5969a8c24\",\r\n",
      "  \"leader\": \"master@172.17.0.4:5050\",\r\n",
      "  \"cluster\": \"Change Cluster Name in minimesosFile file\",\r\n",
      "  \"slaves\": [{\r\n",
      "    \"used_resources\": {\r\n",
      "      \"disk\": 0,\r\n",
      "      \"mem\": 128,\r\n",
      "      \"cpus\": 1,\r\n",
      "      \"gpus\": 0,\r\n",
      "      \"ports\": \"[31443-31443]\"\r\n",
      "    },\r\n",
      "    \"hostname\": \"172.17.0.6\",\r\n",
      "    \"registered_time\": 1.49495118974121E9,\r\n",
      "    \"offered_resources\": {\r\n",
      "      \"disk\": 0,\r\n",
      "      \"mem\": 0,\r\n",
      "      \"cpus\": 0,\r\n",
      "      \"gpus\": 0\r\n",
      "    },\r\n",
      "    \"unreserved_resources\": {\r\n",
      "      \"disk\": 2000,\r\n",
      "      \"mem\": 1024,\r\n",
      "      \"cpus\": 4,\r\n",
      "      \"gpus\": 0,\r\n",
      "      \"ports\": \"[31000-32000]\"\r\n",
      "    },\r\n",
      "    \"resources\": {\r\n",
      "      \"disk\": 2000,\r\n",
      "      \"mem\": 1024,\r\n",
      "      \"cpus\": 4,\r\n",
      "      \"gpus\": 0,\r\n",
      "      \"ports\": \"[31000-32000]\"\r\n",
      "    },\r\n",
      "    \"active\": true,\r\n",
      "    \"pid\": \"slave(1)@172.17.0.6:5051\",\r\n",
      "    \"attributes\": {},\r\n",
      "    \"id\": \"87badae9-48f3-446e-b693-b4fcc0499322-S0\",\r\n",
      "    \"reserved_resources\": {},\r\n",
      "    \"version\": \"1.0.0\"\r\n",
      "  }],\r\n",
      "  \"unregistered_frameworks\": [],\r\n",
      "  \"activated_slaves\": 1,\r\n",
      "  \"frameworks\": [{\r\n",
      "    \"checkpoint\": true,\r\n",
      "    \"offers\": [],\r\n",
      "    \"capabilities\": [],\r\n",
      "    \"role\": \"*\",\r\n",
      "    \"offered_resources\": {\r\n",
      "      \"disk\": 0,\r\n",
      "      \"mem\": 0,\r\n",
      "      \"cpus\": 0,\r\n",
      "      \"gpus\": 0\r\n",
      "    },\r\n",
      "    \"active\": true,\r\n",
      "    \"resources\": {\r\n",
      "      \"disk\": 0,\r\n",
      "      \"mem\": 128,\r\n",
      "      \"cpus\": 1,\r\n",
      "      \"gpus\": 0,\r\n",
      "      \"ports\": \"[31443-31443]\"\r\n",
      "    },\r\n",
      "    \"pid\": \"scheduler-ae087b71-926d-4751-bda8-f0deabc68e30@172.17.0.5:39415\",\r\n",
      "    \"completed_tasks\": [],\r\n",
      "    \"used_resources\": {\r\n",
      "      \"disk\": 0,\r\n",
      "      \"mem\": 128,\r\n",
      "      \"cpus\": 1,\r\n",
      "      \"gpus\": 0,\r\n",
      "      \"ports\": \"[31443-31443]\"\r\n",
      "    },\r\n",
      "    \"hostname\": \"0620406528ce\",\r\n",
      "    \"registered_time\": 1.49495117413294E9,\r\n",
      "    \"failover_timeout\": 604800,\r\n",
      "    \"name\": \"marathon\",\r\n",
      "    \"executors\": [],\r\n",
      "    \"id\": \"87badae9-48f3-446e-b693-b4fcc0499322-0000\",\r\n",
      "    \"webui_url\": \"http://0620406528ce:8080\",\r\n",
      "    \"user\": \"root\",\r\n",
      "    \"tasks\": [{\r\n",
      "      \"container\": {\r\n",
      "        \"volumes\": [{\r\n",
      "          \"mode\": \"RW\",\r\n",
      "          \"host_path\": \"/var/run/docker.sock\",\r\n",
      "          \"container_path\": \"/var/run/docker.sock\"\r\n",
      "        }],\r\n",
      "        \"type\": \"DOCKER\",\r\n",
      "        \"docker\": {\r\n",
      "          \"privileged\": true,\r\n",
      "          \"image\": \"weaveworks/scope:0.13.1\",\r\n",
      "          \"force_pull_image\": false,\r\n",
      "          \"parameters\": [\r\n",
      "            {\r\n",
      "              \"value\": \"host\",\r\n",
      "              \"key\": \"pid\"\r\n",
      "            },\r\n",
      "            {\r\n",
      "              \"value\": \"weavescope\",\r\n",
      "              \"key\": \"name\"\r\n",
      "            }\r\n",
      "          ],\r\n",
      "          \"network\": \"HOST\"\r\n",
      "        }\r\n",
      "      },\r\n",
      "      \"discovery\": {\r\n",
      "        \"visibility\": \"FRAMEWORK\",\r\n",
      "        \"name\": \"weave-scope\",\r\n",
      "        \"ports\": {\"ports\": [{\r\n",
      "          \"number\": 31443,\r\n",
      "          \"protocol\": \"tcp\"\r\n",
      "        }]}\r\n",
      "      },\r\n",
      "      \"name\": \"weave-scope\",\r\n",
      "      \"framework_id\": \"87badae9-48f3-446e-b693-b4fcc0499322-0000\",\r\n",
      "      \"resources\": {\r\n",
      "        \"disk\": 0,\r\n",
      "        \"mem\": 128,\r\n",
      "        \"cpus\": 1,\r\n",
      "        \"gpus\": 0,\r\n",
      "        \"ports\": \"[31443-31443]\"\r\n",
      "      },\r\n",
      "      \"statuses\": [{\r\n",
      "        \"container_status\": {\"network_infos\": [{\"ip_addresses\": [{\"ip_address\": \"172.17.0.6\"}]}]},\r\n",
      "        \"state\": \"TASK_RUNNING\",\r\n",
      "        \"timestamp\": 1.49495127112128E9\r\n",
      "      }],\r\n",
      "      \"id\": \"weave-scope.abb3b606-3a52-11e7-9152-0242ac110005\",\r\n",
      "      \"state\": \"TASK_RUNNING\",\r\n",
      "      \"executor_id\": \"\",\r\n",
      "      \"slave_id\": \"87badae9-48f3-446e-b693-b4fcc0499322-S0\"\r\n",
      "    }],\r\n",
      "    \"unregistered_time\": 0\r\n",
      "  }],\r\n",
      "  \"build_time\": 1.469651E9,\r\n",
      "  \"flags\": {\r\n",
      "    \"agent_reregister_timeout\": \"10mins\",\r\n",
      "    \"hostname_lookup\": \"false\",\r\n",
      "    \"cluster\": \"Change Cluster Name in minimesosFile file\",\r\n",
      "    \"authenticate_agents\": \"false\",\r\n",
      "    \"authenticators\": \"crammd5\",\r\n",
      "    \"http_authenticators\": \"basic\",\r\n",
      "    \"zk_session_timeout\": \"10secs\",\r\n",
      "    \"authenticate_frameworks\": \"false\",\r\n",
      "    \"webui_dir\": \"/usr/share/mesos/webui\",\r\n",
      "    \"allocator\": \"HierarchicalDRF\",\r\n",
      "    \"max_agent_ping_timeouts\": \"5\",\r\n",
      "    \"recovery_agent_removal_limit\": \"100%\",\r\n",
      "    \"registry_store_timeout\": \"20secs\",\r\n",
      "    \"root_submissions\": \"true\",\r\n",
      "    \"framework_sorter\": \"drf\",\r\n",
      "    \"quiet\": \"false\",\r\n",
      "    \"initialize_driver_logging\": \"true\",\r\n",
      "    \"authenticate_http_readonly\": \"false\",\r\n",
      "    \"authenticate_http_readwrite\": \"false\",\r\n",
      "    \"registry\": \"in_memory\",\r\n",
      "    \"agent_ping_timeout\": \"15secs\",\r\n",
      "    \"registry_fetch_timeout\": \"1mins\",\r\n",
      "    \"quorum\": \"1\",\r\n",
      "    \"log_auto_initialize\": \"true\",\r\n",
      "    \"authenticate_http_frameworks\": \"false\",\r\n",
      "    \"logbufsecs\": \"0\",\r\n",
      "    \"version\": \"false\",\r\n",
      "    \"max_completed_frameworks\": \"50\",\r\n",
      "    \"max_completed_tasks_per_framework\": \"1000\",\r\n",
      "    \"help\": \"false\",\r\n",
      "    \"log_dir\": \"/var/log\",\r\n",
      "    \"registry_strict\": \"false\",\r\n",
      "    \"zk\": \"zk://172.17.0.3:2181/mesos\",\r\n",
      "    \"logging_level\": \"INFO\",\r\n",
      "    \"port\": \"5050\",\r\n",
      "    \"user_sorter\": \"drf\",\r\n",
      "    \"allocation_interval\": \"1secs\",\r\n",
      "    \"authorizers\": \"local\"\r\n",
      "  },\r\n",
      "  \"build_user\": \"ubuntu\",\r\n",
      "  \"pid\": \"master@172.17.0.4:5050\",\r\n",
      "  \"completed_frameworks\": [],\r\n",
      "  \"elected_time\": 1.49495079793454E9,\r\n",
      "  \"version\": \"1.0.0\",\r\n",
      "  \"orphan_tasks\": [],\r\n",
      "  \"build_date\": \"2016-07-27 20:23:20\",\r\n",
      "  \"start_time\": 1.49495079787352E9,\r\n",
      "  \"log_dir\": \"/var/log\",\r\n",
      "  \"hostname\": \"172.17.0.4\",\r\n",
      "  \"git_tag\": \"1.0.0\",\r\n",
      "  \"id\": \"87badae9-48f3-446e-b693-b4fcc0499322\",\r\n",
      "  \"deactivated_slaves\": 0\r\n",
      "}\r\n"
     ]
    }
   ],
   "source": [
    "! minimesos state"
   ]
  },
  {
   "cell_type": "code",
   "execution_count": 1,
   "metadata": {},
   "outputs": [
    {
     "name": "stdout",
     "output_type": "stream",
     "text": [
      "FRAMEWORK            TASK                 STATE                PORT                \n",
      "marathon             weave-scope          TASK_RUNNING         31443               \n"
     ]
    }
   ],
   "source": [
    "! minimesos ps"
   ]
  },
  {
   "cell_type": "markdown",
   "metadata": {},
   "source": [
    "# Play with marathon\n",
    "\n",
    "The following snippet will load minimesos configuration into python global scope as variables."
   ]
  },
  {
   "cell_type": "code",
   "execution_count": 54,
   "metadata": {
    "collapsed": true,
    "scrolled": false
   },
   "outputs": [],
   "source": [
    "import io\n",
    "import os\n",
    "import re\n",
    "import subprocess\n",
    "\n",
    "EXPATTERN = r'export (?P<var>\\w+)=(?P<val>[\\w\\.:/]+)'\n",
    "\n",
    "def load_info():\n",
    "    def parse_output(out):\n",
    "        return re.findall(EXPATTERN, out)\n",
    "                \n",
    "    out = subprocess.run(['minimesos', 'info'], \n",
    "                         stdout=subprocess.PIPE,\n",
    "                        encoding='utf8').stdout\n",
    "    res = parse_output(out)\n",
    "    g = globals()\n",
    "    for var, val in res:\n",
    "        g[var] = val\n",
    "\n",
    "load_info()"
   ]
  },
  {
   "cell_type": "code",
   "execution_count": 55,
   "metadata": {},
   "outputs": [
    {
     "name": "stdout",
     "output_type": "stream",
     "text": [
      "You can visit Marathon web UI at this URL: http://172.17.0.6:8080\n"
     ]
    }
   ],
   "source": [
    "print(\"You can visit Marathon web UI at this URL: {}\".format(MINIMESOS_MARATHON))"
   ]
  },
  {
   "cell_type": "markdown",
   "metadata": {},
   "source": [
    "# Experiments\n",
    "\n",
    "## Marathon-python\n",
    "\n",
    "Let's try to interact with Marathon using the python API\n"
   ]
  },
  {
   "cell_type": "code",
   "execution_count": 140,
   "metadata": {},
   "outputs": [
    {
     "data": {
      "text/plain": [
       "[MarathonApp::/weave-scope, MarathonApp::/sleepyapp]"
      ]
     },
     "execution_count": 140,
     "metadata": {},
     "output_type": "execute_result"
    }
   ],
   "source": [
    "from marathon import MarathonClient, MarathonApp\n",
    "from time import sleep\n",
    "\n",
    "m = MarathonClient(MINIMESOS_MARATHON)\n",
    "m.get_info()\n",
    "m.list_apps()\n"
   ]
  },
  {
   "cell_type": "code",
   "execution_count": 144,
   "metadata": {},
   "outputs": [
    {
     "data": {
      "text/plain": [
       "[MarathonTask::weave-scope.725ef4bf-3b1f-11e7-a27e-0242ac110006]"
      ]
     },
     "execution_count": 144,
     "metadata": {},
     "output_type": "execute_result"
    }
   ],
   "source": [
    "m.create_app('sleepyapp', MarathonApp(cmd='sleep 100', mem=16, cpus=1))\n",
    "app = m.get_app('sleepyapp')\n",
    "sleep(30)\n",
    "app.instances\n",
    "m.scale_app('sleepyapp', instances=2)\n",
    "sleep(30)\n",
    "app.instances\n",
    "m.list_tasks()\n",
    "sleep(30)\n",
    "m.delete_app('sleepyapp', force=True)\n",
    "sleep(30)\n",
    "m.list_tasks()"
   ]
  },
  {
   "cell_type": "code",
   "execution_count": 144,
   "metadata": {},
   "outputs": [
    {
     "data": {
      "text/plain": [
       "[MarathonTask::weave-scope.725ef4bf-3b1f-11e7-a27e-0242ac110006]"
      ]
     },
     "execution_count": 144,
     "metadata": {},
     "output_type": "execute_result"
    }
   ],
   "source": [
    "m.create_app('nginx', MarathonApp(cmd='sleep 100', mem=16, cpus=1))\n",
    "app = m.get_app('sleepyapp')\n",
    "sleep(30)\n",
    "app.instances\n",
    "m.scale_app('sleepyapp', instances=2)\n",
    "sleep(30)\n",
    "app.instances\n",
    "m.list_tasks()\n",
    "sleep(30)\n",
    "m.delete_app('sleepyapp', force=True)\n",
    "sleep(30)\n",
    "m.list_tasks()"
   ]
  },
  {
   "cell_type": "code",
   "execution_count": null,
   "metadata": {
    "collapsed": true
   },
   "outputs": [],
   "source": []
  },
  {
   "cell_type": "markdown",
   "metadata": {},
   "source": [
    "## REST API\n",
    "\n",
    "Let's deploy nginx using curl"
   ]
  },
  {
   "cell_type": "code",
   "execution_count": 67,
   "metadata": {},
   "outputs": [
    {
     "name": "stdout",
     "output_type": "stream",
     "text": [
      "  % Total    % Received % Xferd  Average Speed   Time    Time     Time  Current\n",
      "                                 Dload  Upload   Total   Spent    Left  Speed\n",
      "100  1040    0   887  100   153   6995   1206 --:--:-- --:--:-- --:--:--  7039\n",
      "\u001b[1;39m{\n",
      "  \u001b[0m\u001b[34;1m\"id\"\u001b[0m\u001b[1;39m: \u001b[0m\u001b[0;32m\"/nginx\"\u001b[0m\u001b[1;39m,\n",
      "  \u001b[0m\u001b[34;1m\"cmd\"\u001b[0m\u001b[1;39m: \u001b[0m\u001b[1;30mnull\u001b[0m\u001b[1;39m,\n",
      "  \u001b[0m\u001b[34;1m\"args\"\u001b[0m\u001b[1;39m: \u001b[0m\u001b[1;30mnull\u001b[0m\u001b[1;39m,\n",
      "  \u001b[0m\u001b[34;1m\"user\"\u001b[0m\u001b[1;39m: \u001b[0m\u001b[1;30mnull\u001b[0m\u001b[1;39m,\n",
      "  \u001b[0m\u001b[34;1m\"env\"\u001b[0m\u001b[1;39m: \u001b[0m\u001b[1;39m{}\u001b[0m\u001b[1;39m,\n",
      "  \u001b[0m\u001b[34;1m\"instances\"\u001b[0m\u001b[1;39m: \u001b[0m\u001b[0;39m1\u001b[0m\u001b[1;39m,\n",
      "  \u001b[0m\u001b[34;1m\"cpus\"\u001b[0m\u001b[1;39m: \u001b[0m\u001b[0;39m0.1\u001b[0m\u001b[1;39m,\n",
      "  \u001b[0m\u001b[34;1m\"mem\"\u001b[0m\u001b[1;39m: \u001b[0m\u001b[0;39m128\u001b[0m\u001b[1;39m,\n",
      "  \u001b[0m\u001b[34;1m\"disk\"\u001b[0m\u001b[1;39m: \u001b[0m\u001b[0;39m0\u001b[0m\u001b[1;39m,\n",
      "  \u001b[0m\u001b[34;1m\"gpus\"\u001b[0m\u001b[1;39m: \u001b[0m\u001b[0;39m0\u001b[0m\u001b[1;39m,\n",
      "  \u001b[0m\u001b[34;1m\"executor\"\u001b[0m\u001b[1;39m: \u001b[0m\u001b[0;32m\"\"\u001b[0m\u001b[1;39m,\n",
      "  \u001b[0m\u001b[34;1m\"constraints\"\u001b[0m\u001b[1;39m: \u001b[0m\u001b[1;39m[]\u001b[0m\u001b[1;39m,\n",
      "  \u001b[0m\u001b[34;1m\"uris\"\u001b[0m\u001b[1;39m: \u001b[0m\u001b[1;39m[]\u001b[0m\u001b[1;39m,\n",
      "  \u001b[0m\u001b[34;1m\"fetch\"\u001b[0m\u001b[1;39m: \u001b[0m\u001b[1;39m[]\u001b[0m\u001b[1;39m,\n",
      "  \u001b[0m\u001b[34;1m\"storeUrls\"\u001b[0m\u001b[1;39m: \u001b[0m\u001b[1;39m[]\u001b[0m\u001b[1;39m,\n",
      "  \u001b[0m\u001b[34;1m\"backoffSeconds\"\u001b[0m\u001b[1;39m: \u001b[0m\u001b[0;39m1\u001b[0m\u001b[1;39m,\n",
      "  \u001b[0m\u001b[34;1m\"backoffFactor\"\u001b[0m\u001b[1;39m: \u001b[0m\u001b[0;39m1.15\u001b[0m\u001b[1;39m,\n",
      "  \u001b[0m\u001b[34;1m\"maxLaunchDelaySeconds\"\u001b[0m\u001b[1;39m: \u001b[0m\u001b[0;39m3600\u001b[0m\u001b[1;39m,\n",
      "  \u001b[0m\u001b[34;1m\"container\"\u001b[0m\u001b[1;39m: \u001b[0m\u001b[1;39m{\n",
      "    \u001b[0m\u001b[34;1m\"type\"\u001b[0m\u001b[1;39m: \u001b[0m\u001b[0;32m\"MESOS\"\u001b[0m\u001b[1;39m,\n",
      "    \u001b[0m\u001b[34;1m\"volumes\"\u001b[0m\u001b[1;39m: \u001b[0m\u001b[1;39m[]\u001b[0m\u001b[1;39m,\n",
      "    \u001b[0m\u001b[34;1m\"docker\"\u001b[0m\u001b[1;39m: \u001b[0m\u001b[1;39m{\n",
      "      \u001b[0m\u001b[34;1m\"image\"\u001b[0m\u001b[1;39m: \u001b[0m\u001b[0;32m\"library/nginx\"\u001b[0m\u001b[1;39m,\n",
      "      \u001b[0m\u001b[34;1m\"credential\"\u001b[0m\u001b[1;39m: \u001b[0m\u001b[1;30mnull\u001b[0m\u001b[1;39m,\n",
      "      \u001b[0m\u001b[34;1m\"forcePullImage\"\u001b[0m\u001b[1;39m: \u001b[0m\u001b[0;39mfalse\u001b[0m\u001b[1;39m\n",
      "    \u001b[1;39m}\u001b[0m\u001b[1;39m\n",
      "  \u001b[1;39m}\u001b[0m\u001b[1;39m,\n",
      "  \u001b[0m\u001b[34;1m\"healthChecks\"\u001b[0m\u001b[1;39m: \u001b[0m\u001b[1;39m[]\u001b[0m\u001b[1;39m,\n",
      "  \u001b[0m\u001b[34;1m\"readinessChecks\"\u001b[0m\u001b[1;39m: \u001b[0m\u001b[1;39m[]\u001b[0m\u001b[1;39m,\n",
      "  \u001b[0m\u001b[34;1m\"dependencies\"\u001b[0m\u001b[1;39m: \u001b[0m\u001b[1;39m[]\u001b[0m\u001b[1;39m,\n",
      "  \u001b[0m\u001b[34;1m\"upgradeStrategy\"\u001b[0m\u001b[1;39m: \u001b[0m\u001b[1;39m{\n",
      "    \u001b[0m\u001b[34;1m\"minimumHealthCapacity\"\u001b[0m\u001b[1;39m: \u001b[0m\u001b[0;39m1\u001b[0m\u001b[1;39m,\n",
      "    \u001b[0m\u001b[34;1m\"maximumOverCapacity\"\u001b[0m\u001b[1;39m: \u001b[0m\u001b[0;39m1\u001b[0m\u001b[1;39m\n",
      "  \u001b[1;39m}\u001b[0m\u001b[1;39m,\n",
      "  \u001b[0m\u001b[34;1m\"labels\"\u001b[0m\u001b[1;39m: \u001b[0m\u001b[1;39m{}\u001b[0m\u001b[1;39m,\n",
      "  \u001b[0m\u001b[34;1m\"acceptedResourceRoles\"\u001b[0m\u001b[1;39m: \u001b[0m\u001b[1;30mnull\u001b[0m\u001b[1;39m,\n",
      "  \u001b[0m\u001b[34;1m\"ipAddress\"\u001b[0m\u001b[1;39m: \u001b[0m\u001b[1;30mnull\u001b[0m\u001b[1;39m,\n",
      "  \u001b[0m\u001b[34;1m\"version\"\u001b[0m\u001b[1;39m: \u001b[0m\u001b[0;32m\"2017-05-17T17:04:20.462Z\"\u001b[0m\u001b[1;39m,\n",
      "  \u001b[0m\u001b[34;1m\"residency\"\u001b[0m\u001b[1;39m: \u001b[0m\u001b[1;30mnull\u001b[0m\u001b[1;39m,\n",
      "  \u001b[0m\u001b[34;1m\"secrets\"\u001b[0m\u001b[1;39m: \u001b[0m\u001b[1;39m{}\u001b[0m\u001b[1;39m,\n",
      "  \u001b[0m\u001b[34;1m\"taskKillGracePeriodSeconds\"\u001b[0m\u001b[1;39m: \u001b[0m\u001b[1;30mnull\u001b[0m\u001b[1;39m,\n",
      "  \u001b[0m\u001b[34;1m\"ports\"\u001b[0m\u001b[1;39m: \u001b[0m\u001b[1;39m[\n",
      "    \u001b[0;39m0\u001b[0m\u001b[1;39m\n",
      "  \u001b[1;39m]\u001b[0m\u001b[1;39m,\n",
      "  \u001b[0m\u001b[34;1m\"portDefinitions\"\u001b[0m\u001b[1;39m: \u001b[0m\u001b[1;39m[\n",
      "    \u001b[1;39m{\n",
      "      \u001b[0m\u001b[34;1m\"port\"\u001b[0m\u001b[1;39m: \u001b[0m\u001b[0;39m0\u001b[0m\u001b[1;39m,\n",
      "      \u001b[0m\u001b[34;1m\"protocol\"\u001b[0m\u001b[1;39m: \u001b[0m\u001b[0;32m\"tcp\"\u001b[0m\u001b[1;39m,\n",
      "      \u001b[0m\u001b[34;1m\"labels\"\u001b[0m\u001b[1;39m: \u001b[0m\u001b[1;39m{}\u001b[0m\u001b[1;39m\n",
      "    \u001b[1;39m}\u001b[0m\u001b[1;39m\n",
      "  \u001b[1;39m]\u001b[0m\u001b[1;39m,\n",
      "  \u001b[0m\u001b[34;1m\"requirePorts\"\u001b[0m\u001b[1;39m: \u001b[0m\u001b[0;39mfalse\u001b[0m\u001b[1;39m,\n",
      "  \u001b[0m\u001b[34;1m\"tasksStaged\"\u001b[0m\u001b[1;39m: \u001b[0m\u001b[0;39m0\u001b[0m\u001b[1;39m,\n",
      "  \u001b[0m\u001b[34;1m\"tasksRunning\"\u001b[0m\u001b[1;39m: \u001b[0m\u001b[0;39m0\u001b[0m\u001b[1;39m,\n",
      "  \u001b[0m\u001b[34;1m\"tasksHealthy\"\u001b[0m\u001b[1;39m: \u001b[0m\u001b[0;39m0\u001b[0m\u001b[1;39m,\n",
      "  \u001b[0m\u001b[34;1m\"tasksUnhealthy\"\u001b[0m\u001b[1;39m: \u001b[0m\u001b[0;39m0\u001b[0m\u001b[1;39m,\n",
      "  \u001b[0m\u001b[34;1m\"deployments\"\u001b[0m\u001b[1;39m: \u001b[0m\u001b[1;39m[\n",
      "    \u001b[1;39m{\n",
      "      \u001b[0m\u001b[34;1m\"id\"\u001b[0m\u001b[1;39m: \u001b[0m\u001b[0;32m\"486d2dec-4fb0-46f6-88ba-9556a219a31a\"\u001b[0m\u001b[1;39m\n",
      "    \u001b[1;39m}\u001b[0m\u001b[1;39m\n",
      "  \u001b[1;39m]\u001b[0m\u001b[1;39m,\n",
      "  \u001b[0m\u001b[34;1m\"tasks\"\u001b[0m\u001b[1;39m: \u001b[0m\u001b[1;39m[]\u001b[0m\u001b[1;39m\n",
      "\u001b[1;39m}\u001b[0m\n"
     ]
    }
   ],
   "source": [
    "! curl -X POST $MINIMESOS_MARATHON/v2/apps -d @nginx.json -H \"Content-type: application/json\" | jq\n"
   ]
  },
  {
   "cell_type": "raw",
   "metadata": {},
   "source": [
    "Let's list all the applications running. We're using jq to display the json more nicely."
   ]
  },
  {
   "cell_type": "code",
   "execution_count": 58,
   "metadata": {},
   "outputs": [
    {
     "name": "stdout",
     "output_type": "stream",
     "text": [
      "  % Total    % Received % Xferd  Average Speed   Time    Time     Time  Current\n",
      "                                 Dload  Upload   Total   Spent    Left  Speed\n",
      "100  2187    0  2187    0     0   391k      0 --:--:-- --:--:-- --:--:--  427k\n",
      "\u001b[1;39m{\n",
      "  \u001b[0m\u001b[34;1m\"apps\"\u001b[0m\u001b[1;39m: \u001b[0m\u001b[1;39m[\n",
      "    \u001b[1;39m{\n",
      "      \u001b[0m\u001b[34;1m\"id\"\u001b[0m\u001b[1;39m: \u001b[0m\u001b[0;32m\"/weave-scope\"\u001b[0m\u001b[1;39m,\n",
      "      \u001b[0m\u001b[34;1m\"cmd\"\u001b[0m\u001b[1;39m: \u001b[0m\u001b[1;30mnull\u001b[0m\u001b[1;39m,\n",
      "      \u001b[0m\u001b[34;1m\"args\"\u001b[0m\u001b[1;39m: \u001b[0m\u001b[1;39m[\n",
      "        \u001b[0;32m\"--probe.docker\"\u001b[0m\u001b[1;39m,\n",
      "        \u001b[0;32m\"true\"\u001b[0m\u001b[1;39m\n",
      "      \u001b[1;39m]\u001b[0m\u001b[1;39m,\n",
      "      \u001b[0m\u001b[34;1m\"user\"\u001b[0m\u001b[1;39m: \u001b[0m\u001b[1;30mnull\u001b[0m\u001b[1;39m,\n",
      "      \u001b[0m\u001b[34;1m\"env\"\u001b[0m\u001b[1;39m: \u001b[0m\u001b[1;39m{\n",
      "        \u001b[0m\u001b[34;1m\"CHECKPOINT_DISABLE\"\u001b[0m\u001b[1;39m: \u001b[0m\u001b[0;32m\"\"\u001b[0m\u001b[1;39m\n",
      "      \u001b[1;39m}\u001b[0m\u001b[1;39m,\n",
      "      \u001b[0m\u001b[34;1m\"instances\"\u001b[0m\u001b[1;39m: \u001b[0m\u001b[0;39m1\u001b[0m\u001b[1;39m,\n",
      "      \u001b[0m\u001b[34;1m\"cpus\"\u001b[0m\u001b[1;39m: \u001b[0m\u001b[0;39m1\u001b[0m\u001b[1;39m,\n",
      "      \u001b[0m\u001b[34;1m\"mem\"\u001b[0m\u001b[1;39m: \u001b[0m\u001b[0;39m128\u001b[0m\u001b[1;39m,\n",
      "      \u001b[0m\u001b[34;1m\"disk\"\u001b[0m\u001b[1;39m: \u001b[0m\u001b[0;39m0\u001b[0m\u001b[1;39m,\n",
      "      \u001b[0m\u001b[34;1m\"gpus\"\u001b[0m\u001b[1;39m: \u001b[0m\u001b[0;39m0\u001b[0m\u001b[1;39m,\n",
      "      \u001b[0m\u001b[34;1m\"executor\"\u001b[0m\u001b[1;39m: \u001b[0m\u001b[0;32m\"\"\u001b[0m\u001b[1;39m,\n",
      "      \u001b[0m\u001b[34;1m\"constraints\"\u001b[0m\u001b[1;39m: \u001b[0m\u001b[1;39m[\n",
      "        \u001b[1;39m[\n",
      "          \u001b[0;32m\"hostname\"\u001b[0m\u001b[1;39m,\n",
      "          \u001b[0;32m\"UNIQUE\"\u001b[0m\u001b[1;39m\n",
      "        \u001b[1;39m]\u001b[0m\u001b[1;39m\n",
      "      \u001b[1;39m]\u001b[0m\u001b[1;39m,\n",
      "      \u001b[0m\u001b[34;1m\"uris\"\u001b[0m\u001b[1;39m: \u001b[0m\u001b[1;39m[]\u001b[0m\u001b[1;39m,\n",
      "      \u001b[0m\u001b[34;1m\"fetch\"\u001b[0m\u001b[1;39m: \u001b[0m\u001b[1;39m[]\u001b[0m\u001b[1;39m,\n",
      "      \u001b[0m\u001b[34;1m\"storeUrls\"\u001b[0m\u001b[1;39m: \u001b[0m\u001b[1;39m[]\u001b[0m\u001b[1;39m,\n",
      "      \u001b[0m\u001b[34;1m\"backoffSeconds\"\u001b[0m\u001b[1;39m: \u001b[0m\u001b[0;39m1\u001b[0m\u001b[1;39m,\n",
      "      \u001b[0m\u001b[34;1m\"backoffFactor\"\u001b[0m\u001b[1;39m: \u001b[0m\u001b[0;39m1.15\u001b[0m\u001b[1;39m,\n",
      "      \u001b[0m\u001b[34;1m\"maxLaunchDelaySeconds\"\u001b[0m\u001b[1;39m: \u001b[0m\u001b[0;39m3600\u001b[0m\u001b[1;39m,\n",
      "      \u001b[0m\u001b[34;1m\"container\"\u001b[0m\u001b[1;39m: \u001b[0m\u001b[1;39m{\n",
      "        \u001b[0m\u001b[34;1m\"type\"\u001b[0m\u001b[1;39m: \u001b[0m\u001b[0;32m\"DOCKER\"\u001b[0m\u001b[1;39m,\n",
      "        \u001b[0m\u001b[34;1m\"volumes\"\u001b[0m\u001b[1;39m: \u001b[0m\u001b[1;39m[\n",
      "          \u001b[1;39m{\n",
      "            \u001b[0m\u001b[34;1m\"containerPath\"\u001b[0m\u001b[1;39m: \u001b[0m\u001b[0;32m\"/var/run/docker.sock\"\u001b[0m\u001b[1;39m,\n",
      "            \u001b[0m\u001b[34;1m\"hostPath\"\u001b[0m\u001b[1;39m: \u001b[0m\u001b[0;32m\"/var/run/docker.sock\"\u001b[0m\u001b[1;39m,\n",
      "            \u001b[0m\u001b[34;1m\"mode\"\u001b[0m\u001b[1;39m: \u001b[0m\u001b[0;32m\"RW\"\u001b[0m\u001b[1;39m\n",
      "          \u001b[1;39m}\u001b[0m\u001b[1;39m\n",
      "        \u001b[1;39m]\u001b[0m\u001b[1;39m,\n",
      "        \u001b[0m\u001b[34;1m\"docker\"\u001b[0m\u001b[1;39m: \u001b[0m\u001b[1;39m{\n",
      "          \u001b[0m\u001b[34;1m\"image\"\u001b[0m\u001b[1;39m: \u001b[0m\u001b[0;32m\"weaveworks/scope:0.13.1\"\u001b[0m\u001b[1;39m,\n",
      "          \u001b[0m\u001b[34;1m\"network\"\u001b[0m\u001b[1;39m: \u001b[0m\u001b[0;32m\"HOST\"\u001b[0m\u001b[1;39m,\n",
      "          \u001b[0m\u001b[34;1m\"portMappings\"\u001b[0m\u001b[1;39m: \u001b[0m\u001b[1;30mnull\u001b[0m\u001b[1;39m,\n",
      "          \u001b[0m\u001b[34;1m\"privileged\"\u001b[0m\u001b[1;39m: \u001b[0m\u001b[0;39mtrue\u001b[0m\u001b[1;39m,\n",
      "          \u001b[0m\u001b[34;1m\"parameters\"\u001b[0m\u001b[1;39m: \u001b[0m\u001b[1;39m[\n",
      "            \u001b[1;39m{\n",
      "              \u001b[0m\u001b[34;1m\"key\"\u001b[0m\u001b[1;39m: \u001b[0m\u001b[0;32m\"pid\"\u001b[0m\u001b[1;39m,\n",
      "              \u001b[0m\u001b[34;1m\"value\"\u001b[0m\u001b[1;39m: \u001b[0m\u001b[0;32m\"host\"\u001b[0m\u001b[1;39m\n",
      "            \u001b[1;39m}\u001b[0m\u001b[1;39m,\n",
      "            \u001b[1;39m{\n",
      "              \u001b[0m\u001b[34;1m\"key\"\u001b[0m\u001b[1;39m: \u001b[0m\u001b[0;32m\"name\"\u001b[0m\u001b[1;39m,\n",
      "              \u001b[0m\u001b[34;1m\"value\"\u001b[0m\u001b[1;39m: \u001b[0m\u001b[0;32m\"weavescope\"\u001b[0m\u001b[1;39m\n",
      "            \u001b[1;39m}\u001b[0m\u001b[1;39m\n",
      "          \u001b[1;39m]\u001b[0m\u001b[1;39m,\n",
      "          \u001b[0m\u001b[34;1m\"forcePullImage\"\u001b[0m\u001b[1;39m: \u001b[0m\u001b[0;39mfalse\u001b[0m\u001b[1;39m\n",
      "        \u001b[1;39m}\u001b[0m\u001b[1;39m\n",
      "      \u001b[1;39m}\u001b[0m\u001b[1;39m,\n",
      "      \u001b[0m\u001b[34;1m\"healthChecks\"\u001b[0m\u001b[1;39m: \u001b[0m\u001b[1;39m[]\u001b[0m\u001b[1;39m,\n",
      "      \u001b[0m\u001b[34;1m\"readinessChecks\"\u001b[0m\u001b[1;39m: \u001b[0m\u001b[1;39m[]\u001b[0m\u001b[1;39m,\n",
      "      \u001b[0m\u001b[34;1m\"dependencies\"\u001b[0m\u001b[1;39m: \u001b[0m\u001b[1;39m[]\u001b[0m\u001b[1;39m,\n",
      "      \u001b[0m\u001b[34;1m\"upgradeStrategy\"\u001b[0m\u001b[1;39m: \u001b[0m\u001b[1;39m{\n",
      "        \u001b[0m\u001b[34;1m\"minimumHealthCapacity\"\u001b[0m\u001b[1;39m: \u001b[0m\u001b[0;39m1\u001b[0m\u001b[1;39m,\n",
      "        \u001b[0m\u001b[34;1m\"maximumOverCapacity\"\u001b[0m\u001b[1;39m: \u001b[0m\u001b[0;39m1\u001b[0m\u001b[1;39m\n",
      "      \u001b[1;39m}\u001b[0m\u001b[1;39m,\n",
      "      \u001b[0m\u001b[34;1m\"labels\"\u001b[0m\u001b[1;39m: \u001b[0m\u001b[1;39m{}\u001b[0m\u001b[1;39m,\n",
      "      \u001b[0m\u001b[34;1m\"acceptedResourceRoles\"\u001b[0m\u001b[1;39m: \u001b[0m\u001b[1;30mnull\u001b[0m\u001b[1;39m,\n",
      "      \u001b[0m\u001b[34;1m\"ipAddress\"\u001b[0m\u001b[1;39m: \u001b[0m\u001b[1;30mnull\u001b[0m\u001b[1;39m,\n",
      "      \u001b[0m\u001b[34;1m\"version\"\u001b[0m\u001b[1;39m: \u001b[0m\u001b[0;32m\"2017-05-17T16:39:50.307Z\"\u001b[0m\u001b[1;39m,\n",
      "      \u001b[0m\u001b[34;1m\"residency\"\u001b[0m\u001b[1;39m: \u001b[0m\u001b[1;30mnull\u001b[0m\u001b[1;39m,\n",
      "      \u001b[0m\u001b[34;1m\"secrets\"\u001b[0m\u001b[1;39m: \u001b[0m\u001b[1;39m{}\u001b[0m\u001b[1;39m,\n",
      "      \u001b[0m\u001b[34;1m\"taskKillGracePeriodSeconds\"\u001b[0m\u001b[1;39m: \u001b[0m\u001b[1;30mnull\u001b[0m\u001b[1;39m,\n",
      "      \u001b[0m\u001b[34;1m\"ports\"\u001b[0m\u001b[1;39m: \u001b[0m\u001b[1;39m[\n",
      "        \u001b[0;39m10000\u001b[0m\u001b[1;39m\n",
      "      \u001b[1;39m]\u001b[0m\u001b[1;39m,\n",
      "      \u001b[0m\u001b[34;1m\"portDefinitions\"\u001b[0m\u001b[1;39m: \u001b[0m\u001b[1;39m[\n",
      "        \u001b[1;39m{\n",
      "          \u001b[0m\u001b[34;1m\"port\"\u001b[0m\u001b[1;39m: \u001b[0m\u001b[0;39m10000\u001b[0m\u001b[1;39m,\n",
      "          \u001b[0m\u001b[34;1m\"protocol\"\u001b[0m\u001b[1;39m: \u001b[0m\u001b[0;32m\"tcp\"\u001b[0m\u001b[1;39m,\n",
      "          \u001b[0m\u001b[34;1m\"labels\"\u001b[0m\u001b[1;39m: \u001b[0m\u001b[1;39m{}\u001b[0m\u001b[1;39m\n",
      "        \u001b[1;39m}\u001b[0m\u001b[1;39m\n",
      "      \u001b[1;39m]\u001b[0m\u001b[1;39m,\n",
      "      \u001b[0m\u001b[34;1m\"requirePorts\"\u001b[0m\u001b[1;39m: \u001b[0m\u001b[0;39mfalse\u001b[0m\u001b[1;39m,\n",
      "      \u001b[0m\u001b[34;1m\"versionInfo\"\u001b[0m\u001b[1;39m: \u001b[0m\u001b[1;39m{\n",
      "        \u001b[0m\u001b[34;1m\"lastScalingAt\"\u001b[0m\u001b[1;39m: \u001b[0m\u001b[0;32m\"2017-05-17T16:39:50.307Z\"\u001b[0m\u001b[1;39m,\n",
      "        \u001b[0m\u001b[34;1m\"lastConfigChangeAt\"\u001b[0m\u001b[1;39m: \u001b[0m\u001b[0;32m\"2017-05-17T16:39:50.307Z\"\u001b[0m\u001b[1;39m\n",
      "      \u001b[1;39m}\u001b[0m\u001b[1;39m,\n",
      "      \u001b[0m\u001b[34;1m\"tasksStaged\"\u001b[0m\u001b[1;39m: \u001b[0m\u001b[0;39m0\u001b[0m\u001b[1;39m,\n",
      "      \u001b[0m\u001b[34;1m\"tasksRunning\"\u001b[0m\u001b[1;39m: \u001b[0m\u001b[0;39m1\u001b[0m\u001b[1;39m,\n",
      "      \u001b[0m\u001b[34;1m\"tasksHealthy\"\u001b[0m\u001b[1;39m: \u001b[0m\u001b[0;39m0\u001b[0m\u001b[1;39m,\n",
      "      \u001b[0m\u001b[34;1m\"tasksUnhealthy\"\u001b[0m\u001b[1;39m: \u001b[0m\u001b[0;39m0\u001b[0m\u001b[1;39m,\n",
      "      \u001b[0m\u001b[34;1m\"deployments\"\u001b[0m\u001b[1;39m: \u001b[0m\u001b[1;39m[]\u001b[0m\u001b[1;39m\n",
      "    \u001b[1;39m}\u001b[0m\u001b[1;39m,\n",
      "    \u001b[1;39m{\n",
      "      \u001b[0m\u001b[34;1m\"id\"\u001b[0m\u001b[1;39m: \u001b[0m\u001b[0;32m\"/nginx\"\u001b[0m\u001b[1;39m,\n",
      "      \u001b[0m\u001b[34;1m\"cmd\"\u001b[0m\u001b[1;39m: \u001b[0m\u001b[1;30mnull\u001b[0m\u001b[1;39m,\n",
      "      \u001b[0m\u001b[34;1m\"args\"\u001b[0m\u001b[1;39m: \u001b[0m\u001b[1;30mnull\u001b[0m\u001b[1;39m,\n",
      "      \u001b[0m\u001b[34;1m\"user\"\u001b[0m\u001b[1;39m: \u001b[0m\u001b[1;30mnull\u001b[0m\u001b[1;39m,\n",
      "      \u001b[0m\u001b[34;1m\"env\"\u001b[0m\u001b[1;39m: \u001b[0m\u001b[1;39m{}\u001b[0m\u001b[1;39m,\n",
      "      \u001b[0m\u001b[34;1m\"instances\"\u001b[0m\u001b[1;39m: \u001b[0m\u001b[0;39m1\u001b[0m\u001b[1;39m,\n",
      "      \u001b[0m\u001b[34;1m\"cpus\"\u001b[0m\u001b[1;39m: \u001b[0m\u001b[0;39m0.1\u001b[0m\u001b[1;39m,\n",
      "      \u001b[0m\u001b[34;1m\"mem\"\u001b[0m\u001b[1;39m: \u001b[0m\u001b[0;39m128\u001b[0m\u001b[1;39m,\n",
      "      \u001b[0m\u001b[34;1m\"disk\"\u001b[0m\u001b[1;39m: \u001b[0m\u001b[0;39m0\u001b[0m\u001b[1;39m,\n",
      "      \u001b[0m\u001b[34;1m\"gpus\"\u001b[0m\u001b[1;39m: \u001b[0m\u001b[0;39m0\u001b[0m\u001b[1;39m,\n",
      "      \u001b[0m\u001b[34;1m\"executor\"\u001b[0m\u001b[1;39m: \u001b[0m\u001b[0;32m\"\"\u001b[0m\u001b[1;39m,\n",
      "      \u001b[0m\u001b[34;1m\"constraints\"\u001b[0m\u001b[1;39m: \u001b[0m\u001b[1;39m[]\u001b[0m\u001b[1;39m,\n",
      "      \u001b[0m\u001b[34;1m\"uris\"\u001b[0m\u001b[1;39m: \u001b[0m\u001b[1;39m[]\u001b[0m\u001b[1;39m,\n",
      "      \u001b[0m\u001b[34;1m\"fetch\"\u001b[0m\u001b[1;39m: \u001b[0m\u001b[1;39m[]\u001b[0m\u001b[1;39m,\n",
      "      \u001b[0m\u001b[34;1m\"storeUrls\"\u001b[0m\u001b[1;39m: \u001b[0m\u001b[1;39m[]\u001b[0m\u001b[1;39m,\n",
      "      \u001b[0m\u001b[34;1m\"backoffSeconds\"\u001b[0m\u001b[1;39m: \u001b[0m\u001b[0;39m1\u001b[0m\u001b[1;39m,\n",
      "      \u001b[0m\u001b[34;1m\"backoffFactor\"\u001b[0m\u001b[1;39m: \u001b[0m\u001b[0;39m1.15\u001b[0m\u001b[1;39m,\n",
      "      \u001b[0m\u001b[34;1m\"maxLaunchDelaySeconds\"\u001b[0m\u001b[1;39m: \u001b[0m\u001b[0;39m3600\u001b[0m\u001b[1;39m,\n",
      "      \u001b[0m\u001b[34;1m\"container\"\u001b[0m\u001b[1;39m: \u001b[0m\u001b[1;39m{\n",
      "        \u001b[0m\u001b[34;1m\"type\"\u001b[0m\u001b[1;39m: \u001b[0m\u001b[0;32m\"MESOS\"\u001b[0m\u001b[1;39m,\n",
      "        \u001b[0m\u001b[34;1m\"volumes\"\u001b[0m\u001b[1;39m: \u001b[0m\u001b[1;39m[]\u001b[0m\u001b[1;39m,\n",
      "        \u001b[0m\u001b[34;1m\"docker\"\u001b[0m\u001b[1;39m: \u001b[0m\u001b[1;39m{\n",
      "          \u001b[0m\u001b[34;1m\"image\"\u001b[0m\u001b[1;39m: \u001b[0m\u001b[0;32m\"library/nginx\"\u001b[0m\u001b[1;39m,\n",
      "          \u001b[0m\u001b[34;1m\"credential\"\u001b[0m\u001b[1;39m: \u001b[0m\u001b[1;30mnull\u001b[0m\u001b[1;39m,\n",
      "          \u001b[0m\u001b[34;1m\"forcePullImage\"\u001b[0m\u001b[1;39m: \u001b[0m\u001b[0;39mfalse\u001b[0m\u001b[1;39m\n",
      "        \u001b[1;39m}\u001b[0m\u001b[1;39m\n",
      "      \u001b[1;39m}\u001b[0m\u001b[1;39m,\n",
      "      \u001b[0m\u001b[34;1m\"healthChecks\"\u001b[0m\u001b[1;39m: \u001b[0m\u001b[1;39m[]\u001b[0m\u001b[1;39m,\n",
      "      \u001b[0m\u001b[34;1m\"readinessChecks\"\u001b[0m\u001b[1;39m: \u001b[0m\u001b[1;39m[]\u001b[0m\u001b[1;39m,\n",
      "      \u001b[0m\u001b[34;1m\"dependencies\"\u001b[0m\u001b[1;39m: \u001b[0m\u001b[1;39m[]\u001b[0m\u001b[1;39m,\n",
      "      \u001b[0m\u001b[34;1m\"upgradeStrategy\"\u001b[0m\u001b[1;39m: \u001b[0m\u001b[1;39m{\n",
      "        \u001b[0m\u001b[34;1m\"minimumHealthCapacity\"\u001b[0m\u001b[1;39m: \u001b[0m\u001b[0;39m1\u001b[0m\u001b[1;39m,\n",
      "        \u001b[0m\u001b[34;1m\"maximumOverCapacity\"\u001b[0m\u001b[1;39m: \u001b[0m\u001b[0;39m1\u001b[0m\u001b[1;39m\n",
      "      \u001b[1;39m}\u001b[0m\u001b[1;39m,\n",
      "      \u001b[0m\u001b[34;1m\"labels\"\u001b[0m\u001b[1;39m: \u001b[0m\u001b[1;39m{}\u001b[0m\u001b[1;39m,\n",
      "      \u001b[0m\u001b[34;1m\"acceptedResourceRoles\"\u001b[0m\u001b[1;39m: \u001b[0m\u001b[1;30mnull\u001b[0m\u001b[1;39m,\n",
      "      \u001b[0m\u001b[34;1m\"ipAddress\"\u001b[0m\u001b[1;39m: \u001b[0m\u001b[1;30mnull\u001b[0m\u001b[1;39m,\n",
      "      \u001b[0m\u001b[34;1m\"version\"\u001b[0m\u001b[1;39m: \u001b[0m\u001b[0;32m\"2017-05-17T16:46:19.864Z\"\u001b[0m\u001b[1;39m,\n",
      "      \u001b[0m\u001b[34;1m\"residency\"\u001b[0m\u001b[1;39m: \u001b[0m\u001b[1;30mnull\u001b[0m\u001b[1;39m,\n",
      "      \u001b[0m\u001b[34;1m\"secrets\"\u001b[0m\u001b[1;39m: \u001b[0m\u001b[1;39m{}\u001b[0m\u001b[1;39m,\n",
      "      \u001b[0m\u001b[34;1m\"taskKillGracePeriodSeconds\"\u001b[0m\u001b[1;39m: \u001b[0m\u001b[1;30mnull\u001b[0m\u001b[1;39m,\n",
      "      \u001b[0m\u001b[34;1m\"ports\"\u001b[0m\u001b[1;39m: \u001b[0m\u001b[1;39m[\n",
      "        \u001b[0;39m10001\u001b[0m\u001b[1;39m\n",
      "      \u001b[1;39m]\u001b[0m\u001b[1;39m,\n",
      "      \u001b[0m\u001b[34;1m\"portDefinitions\"\u001b[0m\u001b[1;39m: \u001b[0m\u001b[1;39m[\n",
      "        \u001b[1;39m{\n",
      "          \u001b[0m\u001b[34;1m\"port\"\u001b[0m\u001b[1;39m: \u001b[0m\u001b[0;39m10001\u001b[0m\u001b[1;39m,\n",
      "          \u001b[0m\u001b[34;1m\"protocol\"\u001b[0m\u001b[1;39m: \u001b[0m\u001b[0;32m\"tcp\"\u001b[0m\u001b[1;39m,\n",
      "          \u001b[0m\u001b[34;1m\"labels\"\u001b[0m\u001b[1;39m: \u001b[0m\u001b[1;39m{}\u001b[0m\u001b[1;39m\n",
      "        \u001b[1;39m}\u001b[0m\u001b[1;39m\n",
      "      \u001b[1;39m]\u001b[0m\u001b[1;39m,\n",
      "      \u001b[0m\u001b[34;1m\"requirePorts\"\u001b[0m\u001b[1;39m: \u001b[0m\u001b[0;39mfalse\u001b[0m\u001b[1;39m,\n",
      "      \u001b[0m\u001b[34;1m\"versionInfo\"\u001b[0m\u001b[1;39m: \u001b[0m\u001b[1;39m{\n",
      "        \u001b[0m\u001b[34;1m\"lastScalingAt\"\u001b[0m\u001b[1;39m: \u001b[0m\u001b[0;32m\"2017-05-17T16:46:19.864Z\"\u001b[0m\u001b[1;39m,\n",
      "        \u001b[0m\u001b[34;1m\"lastConfigChangeAt\"\u001b[0m\u001b[1;39m: \u001b[0m\u001b[0;32m\"2017-05-17T16:46:19.864Z\"\u001b[0m\u001b[1;39m\n",
      "      \u001b[1;39m}\u001b[0m\u001b[1;39m,\n",
      "      \u001b[0m\u001b[34;1m\"tasksStaged\"\u001b[0m\u001b[1;39m: \u001b[0m\u001b[0;39m0\u001b[0m\u001b[1;39m,\n",
      "      \u001b[0m\u001b[34;1m\"tasksRunning\"\u001b[0m\u001b[1;39m: \u001b[0m\u001b[0;39m1\u001b[0m\u001b[1;39m,\n",
      "      \u001b[0m\u001b[34;1m\"tasksHealthy\"\u001b[0m\u001b[1;39m: \u001b[0m\u001b[0;39m0\u001b[0m\u001b[1;39m,\n",
      "      \u001b[0m\u001b[34;1m\"tasksUnhealthy\"\u001b[0m\u001b[1;39m: \u001b[0m\u001b[0;39m0\u001b[0m\u001b[1;39m,\n",
      "      \u001b[0m\u001b[34;1m\"deployments\"\u001b[0m\u001b[1;39m: \u001b[0m\u001b[1;39m[]\u001b[0m\u001b[1;39m\n",
      "    \u001b[1;39m}\u001b[0m\u001b[1;39m\n",
      "  \u001b[1;39m]\u001b[0m\u001b[1;39m\n",
      "\u001b[1;39m}\u001b[0m\n"
     ]
    }
   ],
   "source": [
    "! curl $MINIMESOS_MARATHON/v2/apps -H \"Content-type: application/json\" | jq\n"
   ]
  },
  {
   "cell_type": "code",
   "execution_count": 107,
   "metadata": {},
   "outputs": [
    {
     "name": "stdout",
     "output_type": "stream",
     "text": [
      "  % Total    % Received % Xferd  Average Speed   Time    Time     Time  Current\r\n",
      "                                 Dload  Upload   Total   Spent    Left  Speed\r\n",
      "\r",
      "  0     0    0     0    0     0      0      0 --:--:-- --:--:-- --:--:--     0\r",
      "100  1319    0  1319    0     0   255k      0 --:--:-- --:--:-- --:--:--  322k\r\n",
      "Your nginx runs at this url http://172.17.0.7\r\n"
     ]
    }
   ],
   "source": [
    "! echo \"Your nginx runs at this url http://\"$(curl $MINIMESOS_MARATHON/v2/apps/nginx -H \"Content-type: application/json\" | jq -r \".app.tasks[0].ipAddresses[0].ipAddress\")"
   ]
  },
  {
   "cell_type": "markdown",
   "metadata": {},
   "source": [
    "Let's try to scale out our nginx"
   ]
  },
  {
   "cell_type": "code",
   "execution_count": 108,
   "metadata": {},
   "outputs": [
    {
     "name": "stdout",
     "output_type": "stream",
     "text": [
      "{\"version\":\"2017-05-17T17:50:34.042Z\",\"deploymentId\":\"b526602e-f846-4859-a332-d76bbf347f60\"}"
     ]
    }
   ],
   "source": [
    "! curl -X PUT $MINIMESOS_MARATHON/v2/apps/nginx -d @nginx-scale-out.json -H \"Content-type: application/json\"\n"
   ]
  },
  {
   "cell_type": "markdown",
   "metadata": {},
   "source": [
    "Now scale down"
   ]
  },
  {
   "cell_type": "code",
   "execution_count": 109,
   "metadata": {},
   "outputs": [
    {
     "name": "stdout",
     "output_type": "stream",
     "text": [
      "{\"version\":\"2017-05-17T17:51:58.699Z\",\"deploymentId\":\"19d21d07-ae01-4323-b67e-dbbb330739b4\"}"
     ]
    }
   ],
   "source": [
    "! curl -X PUT $MINIMESOS_MARATHON/v2/apps/nginx -d @nginx-scale-down.json -H \"Content-type: application/json\"\n"
   ]
  },
  {
   "cell_type": "markdown",
   "metadata": {},
   "source": [
    "Destroy the app nginx now."
   ]
  },
  {
   "cell_type": "code",
   "execution_count": 110,
   "metadata": {},
   "outputs": [
    {
     "name": "stdout",
     "output_type": "stream",
     "text": [
      "{\"version\":\"2017-05-17T17:52:17.379Z\",\"deploymentId\":\"19f2f2ab-2145-4567-a0f2-3781f04f6226\"}"
     ]
    }
   ],
   "source": [
    "! curl -X DELETE $MINIMESOS_MARATHON/v2/apps/nginx -H \"Content-type: application/json\" \n"
   ]
  },
  {
   "cell_type": "markdown",
   "metadata": {},
   "source": [
    "Now, let's check if our application is deleted."
   ]
  }
 ],
 "metadata": {
  "kernelspec": {
   "display_name": "Python 3",
   "language": "python",
   "name": "python3"
  },
  "language_info": {
   "codemirror_mode": {
    "name": "ipython",
    "version": 3
   },
   "file_extension": ".py",
   "mimetype": "text/x-python",
   "name": "python",
   "nbconvert_exporter": "python",
   "pygments_lexer": "ipython3",
   "version": "3.6.1"
  }
 },
 "nbformat": 4,
 "nbformat_minor": 2
}
