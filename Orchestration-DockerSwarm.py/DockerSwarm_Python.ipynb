{
 "cells": [
  {
   "cell_type": "markdown",
   "metadata": {},
   "source": [
    "# Docker-Python \"Swarm Mode\" Lab\n",
    "\n",
    "Based on Mario's gist here: https://gist.github.com/l0rd/5186cc80f8f26dc7e9490abca4405830"
   ]
  },
  {
   "cell_type": "code",
   "execution_count": 1,
   "metadata": {
    "collapsed": true
   },
   "outputs": [],
   "source": [
    "import pprint\n",
    "\n",
    "pp = pprint.PrettyPrinter(indent=4)"
   ]
  },
  {
   "cell_type": "markdown",
   "metadata": {},
   "source": [
    "# Requirements\n",
    "- Docker >= 1.12 (docker-17.05-ce recommended)\n",
    "- Docker machine\n",
    "- Virtualbox\n",
    "\n",
    "# Setup\n",
    "\n",
    "## Install docker and docker-machine modules\n",
    "\n",
    "## NOTE:\n",
    "#### python-docker-machine installed from https://github.com/mjbright/python-docker-machine\n",
    "\n",
    "Simple modification to depend upon 'docker' not 'docker-py'.\n",
    "\n",
    "Installed using\n",
    "\n",
    "'''python setup.py install'''\n"
   ]
  },
  {
   "cell_type": "markdown",
   "metadata": {},
   "source": [
    "## Check that docker is installed, but not docker-py !!"
   ]
  },
  {
   "cell_type": "code",
   "execution_count": 2,
   "metadata": {},
   "outputs": [
    {
     "name": "stdout",
     "output_type": "stream",
     "text": [
      "/home/mjb/usr/anaconda3/bin/pip\n",
      "docker                             2.2.1      \n",
      "docker-pycreds                     0.2.1      \n",
      "python-docker-machine              0.2.2      \n",
      "docker-pycreds                     0.2.1      \n"
     ]
    }
   ],
   "source": [
    "!which pip\n",
    "!pip list --format=columns | grep -i docker\n",
    "\n",
    "!pip list --format=columns | grep docker-py || echo -e \"\\n\\n**** ERROR: you have Docker-py installed!!\""
   ]
  },
  {
   "cell_type": "code",
   "execution_count": 3,
   "metadata": {},
   "outputs": [
    {
     "name": "stdout",
     "output_type": "stream",
     "text": [
      "docker module version=2.2.1\n"
     ]
    }
   ],
   "source": [
    "from distutils.version import LooseVersion\n",
    "import docker\n",
    "\n",
    "EXPECT_DOCKER_VERSION='2.2.1'\n",
    "\n",
    "print(\"docker module version=\" + docker.version)\n",
    "\n",
    "if LooseVersion(docker.version) < LooseVersion(EXPECT_DOCKER_VERSION):\n",
    "    print(\"\\n\\nERROR: Bad docker.py version: {} < expected {}\".format(docker.version, EXPECT_DOCKER_VERSION))\n",
    "else:\n",
    "    print(\"\\n\\nSUCCESS: you're all set to continue this Lab!\")\n",
    "  "
   ]
  },
  {
   "cell_type": "markdown",
   "metadata": {},
   "source": [
    "# Creating a Docker client connection to the Docker engine\n",
    "\n",
    "During this lab we will use the installed Docker Client to talk to your Docker hosts.\n",
    "\n",
    "Those hosts may be running \n",
    "- locally      controlled via docker-machine\n",
    "- in the cloud controlled via docker-machine\n",
    "- under Docker Toolbox controlled via docker-machine (https://docs.docker.com/machine/get-started/#create-a-machine)\n",
    "- under Docker For Windows, controlled via docker-machine (https://docs.docker.com/docker-for-windows/#docker-settings)\n",
    "- Docker for Mac, where you will only be able to have a single-node swarm (unless bursting out to cloud)\n",
    "\n",
    "This notebook demonstrates the use of docker-machine to control the hosts.\n",
    "\n",
    "#### NOTE: The following command is specific to my environment as I have a special DOCKER_HOST value set:\n",
    "\n",
    "## Connection to a local Docker host\n",
    "\n",
    "#### NOTE: This is for information, in our lab we will obtain a client connection via the python-docker-machine module, see below."
   ]
  },
  {
   "cell_type": "code",
   "execution_count": 5,
   "metadata": {},
   "outputs": [],
   "source": [
    "# NOTE: specific to my environment\n",
    "#       if you have some special DOCKER_HOST setting, then check this and set in the Python code below\n",
    "#!. ~/.docker.rc; ! echo $DOCKER_HOST"
   ]
  },
  {
   "cell_type": "markdown",
   "metadata": {},
   "source": [
    "#### NOTE: You may comment the 'DOCKER_HOST' lines below if you have no special configuration:"
   ]
  },
  {
   "cell_type": "code",
   "execution_count": 6,
   "metadata": {
    "collapsed": true
   },
   "outputs": [],
   "source": [
    "import docker, os\n",
    "\n",
    "# Open a client connection to your local Docker host, set DOCKER_HOST if you have special settings to use:\n",
    "\n",
    "# Use your DOCKER_HOST value here:\n",
    "# DOCKER_HOST='tcp://127.0.0.1:2475'\n",
    "\n",
    "# os.environ['DOCKER_HOST']=DOCKER_HOST\n",
    "\n",
    "# auto: use same api version as docker daemon\n",
    "client = docker.from_env(version='auto') #, url='tcp://127.0.0.1:2475')"
   ]
  },
  {
   "cell_type": "markdown",
   "metadata": {},
   "source": [
    "# Using python-docker-machine wrapper module\n",
    "\n",
    "Here we will describe use of this Python module which provides Python access to the 'docker-machine' executable on your machine\n",
    "\n",
    "### Referencing the docker-machine executable"
   ]
  },
  {
   "cell_type": "code",
   "execution_count": 7,
   "metadata": {
    "collapsed": true
   },
   "outputs": [],
   "source": [
    "import machine\n",
    "import docker\n",
    "\n",
    "m = machine.Machine(path=\"/usr/local/bin/docker-machine\")"
   ]
  },
  {
   "cell_type": "code",
   "execution_count": 8,
   "metadata": {},
   "outputs": [
    {
     "name": "stdout",
     "output_type": "stream",
     "text": [
      "<machine.machine.Machine object at 0x7f1bbb979278>\n"
     ]
    }
   ],
   "source": [
    "print(m)"
   ]
  },
  {
   "cell_type": "markdown",
   "metadata": {},
   "source": [
    "### Cleanup:  Delete any existing machines"
   ]
  },
  {
   "cell_type": "code",
   "execution_count": 9,
   "metadata": {},
   "outputs": [
    {
     "name": "stdout",
     "output_type": "stream",
     "text": [
      "Deleting node swmaster1\n",
      "Deleting node swnode1\n",
      "Deleting node swnode2\n"
     ]
    },
    {
     "data": {
      "text/plain": [
       "[{'Name': ''}]"
      ]
     },
     "execution_count": 9,
     "metadata": {},
     "output_type": "execute_result"
    }
   ],
   "source": [
    "# If you want to delete existing machines:\n",
    "# !docker-machine rm -f swmaster swnode1 swnode2\n",
    "\n",
    "DELETE_MACHINES=True\n",
    "if DELETE_MACHINES:\n",
    "    for node in m.ls():\n",
    "        if node['Name'] != '':\n",
    "            print(\"Deleting node \" + node['Name'])\n",
    "            m.rm(machine=node['Name'],force=True)\n",
    "            \n",
    "m.ls()"
   ]
  },
  {
   "cell_type": "markdown",
   "metadata": {},
   "source": [
    "### Creating a new machine\n",
    "\n",
    "If creating a machine in some cloud provider you will need to first export some appropriate token or subscription id as\n",
    "an appropriately named environment variable, e.g.\n",
    "- DIGITALOCEAN_ACCESS_TOKEN for DigitalOcean\n",
    "- AZURE_SUBSCRIPTION_ID for Microsoft Azure\n",
    "\n",
    "Refer to https://docs.docker.com/machine/get-started-cloud/ for information,\n",
    "\n",
    "and to https://docs.docker.com/machine/drivers/gce/ (select cloud provider in left-hand sidebar) for specifics.\n",
    "\n",
    "**WARNING**: You may need to \"logon\" to the platform before using the python-docker-machine otherwise the python-docker-machine module will block asking you to validate - but **you will not see that message** !\n",
    "** This will not work with Azure ** because of the need to logon from the local terminal\n",
    "\n",
    "## Examples:\n",
    "\n",
    "### Digital Ocean:  \n",
    "Set DIGITALOCEAN_ACCESS_TOKEN as an environment variable \n",
    "\n",
    "e.g.\n",
    "```\n",
    "     os.environ['DIGITALOCEAN_ACCESS_TOKEN']='MY-TOKEN'\n",
    "     m.create('swmaster1', driver='digitalocean', blocking=True)\n",
    "```\n",
    "\n",
    "### Azure:\n",
    "Set AZURE_SUBSCRIPTION_ID as an environment variable \n",
    "\n",
    "e.g.\n",
    "```\n",
    "    os.environ['AZURE_SUBSCRIPTION_ID']='MY-ID'\n",
    "    m.create('swmaster1', driver='azure', blocking=True)\n",
    "```\n",
    "\n",
    "### Google Compute Engine:\n",
    "Use \"gcloud auth login\"\n",
    "\n",
    "e.g.\n",
    "```\n",
    "     m.create('swmaster1', driver='google', blocking=True)\n",
    "```\n",
    "\n",
    "## Example of local machine creation\n",
    "\n",
    "Below is an example of machine creation on a local machine, to be adapted as above to run in the cloud"
   ]
  },
  {
   "cell_type": "code",
   "execution_count": 10,
   "metadata": {},
   "outputs": [
    {
     "data": {
      "text/plain": [
       "[{'Active': '-',\n",
       "  'ActiveHost': 'false',\n",
       "  'ActiveSwarm': 'false',\n",
       "  'DockerVersion': 'v17.05.0-ce',\n",
       "  'DriverName': 'virtualbox',\n",
       "  'Error': '',\n",
       "  'Name': 'test-machine',\n",
       "  'ResponseTime': '696ms',\n",
       "  'State': 'Running',\n",
       "  'Swarm': '',\n",
       "  'URL': 'tcp://192.168.99.100:2376'},\n",
       " {'Name': ''}]"
      ]
     },
     "execution_count": 10,
     "metadata": {},
     "output_type": "execute_result"
    }
   ],
   "source": [
    "m.create('test-machine', driver='virtualbox', blocking=True)\n",
    "\n",
    "m.ls()"
   ]
  },
  {
   "cell_type": "markdown",
   "metadata": {},
   "source": [
    "## Deletion of a local machine"
   ]
  },
  {
   "cell_type": "code",
   "execution_count": 12,
   "metadata": {},
   "outputs": [
    {
     "name": "stdout",
     "output_type": "stream",
     "text": [
      "NAME   ACTIVE   DRIVER   STATE   URL   SWARM   DOCKER   ERRORS\r\n"
     ]
    }
   ],
   "source": [
    "!docker-machine ls"
   ]
  },
  {
   "cell_type": "code",
   "execution_count": 11,
   "metadata": {},
   "outputs": [
    {
     "data": {
      "text/plain": [
       "[{'Name': ''}]"
      ]
     },
     "execution_count": 11,
     "metadata": {},
     "output_type": "execute_result"
    }
   ],
   "source": [
    "m.rm(machine='test-machine')\n",
    "\n",
    "m.ls()"
   ]
  },
  {
   "cell_type": "code",
   "execution_count": 12,
   "metadata": {},
   "outputs": [
    {
     "name": "stdout",
     "output_type": "stream",
     "text": [
      "NAME   ACTIVE   DRIVER   STATE   URL   SWARM   DOCKER   ERRORS\r\n"
     ]
    }
   ],
   "source": [
    "!docker-machine ls"
   ]
  },
  {
   "cell_type": "markdown",
   "metadata": {},
   "source": [
    "# Create nodes for your swarm cluster (1 master and 2 worker nodes)\n",
    "\n",
    "We will create 3 nodes using docker-machine/virtualbox."
   ]
  },
  {
   "cell_type": "code",
   "execution_count": 13,
   "metadata": {
    "collapsed": true
   },
   "outputs": [],
   "source": [
    "#### If not already created, we can create our machines here:\n",
    "\n",
    "import datetime\n",
    "import time\n",
    "import os\n",
    "\n",
    "def createNodes(nodes):\n",
    "    for node in nodes:\n",
    "        NOW=datetime.datetime.now().strftime(\"%H:%M:%S\")\n",
    "        SECS_BEFORE=int(time.time())\n",
    "        print(\"{} Creating node {} <on {}> ...\".format(NOW, node, MACHINE_DRIVER))\n",
    "        m.create(node, driver=MACHINE_DRIVER, blocking=False)\n",
    "        SECS_AFTER=int(time.time())\n",
    "        print(\"... took {} secs\".format(SECS_AFTER-SECS_BEFORE))\n",
    "\n",
    "\n",
    "# FAILS on AZURE due to interactive validation required !\n",
    "#MACHINE_DRIVER='azure'\n",
    "#os.environ['AZURE_SUBSCRIPTION_ID']='azure-sub-id'\n",
    "\n",
    "# MACHINE_DRIVER='digitalocean'\n",
    "#os.environ['DIGITALOCEAN_ACCESS_TOKEN']='my-token'\n",
    "\n",
    "MACHINE_DRIVER='virtualbox'\n",
    "\n",
    "MASTER_NODES=['swmaster1']\n",
    "WORKER_NODES=['swnode1','swnode2']\n",
    "\n",
    "#MASTER_NODES=['swmaster1','swmaster2','swmaster3']\n",
    "#WORKER_NODES=['swnode1','swnode2']"
   ]
  },
  {
   "cell_type": "code",
   "execution_count": 15,
   "metadata": {},
   "outputs": [
    {
     "name": "stdout",
     "output_type": "stream",
     "text": [
      "13:31:41 Creating node swmaster1 <on virtualbox> ...\n",
      "... took 106 secs\n",
      "13:33:27 Creating node swnode1 <on virtualbox> ...\n",
      "... took 105 secs\n",
      "13:35:12 Creating node swnode2 <on virtualbox> ...\n",
      "... took 108 secs\n"
     ]
    }
   ],
   "source": [
    "CREATE_MACHINES=True\n",
    "\n",
    "if CREATE_MACHINES:\n",
    "    createNodes(MASTER_NODES + WORKER_NODES)"
   ]
  },
  {
   "cell_type": "markdown",
   "metadata": {},
   "source": [
    "#### NOTE: Temporary errors from \"*docker-machine ls*\"\n",
    "\n",
    "From the command-line you can see the progress of machine creation, using\n",
    "    ```$ docker-machine ls```\n",
    "    \n",
    "You may see errors during creation of machines before ssh connectivity is established and before docker host is started.\n",
    "\n",
    "![](images/docker-machine-errors.png)"
   ]
  },
  {
   "cell_type": "markdown",
   "metadata": {},
   "source": [
    "## Recovering from possible docker-machine/VirtualBox problems.\n",
    "\n",
    "It's possible that this machine creation fails, e.g. with error as below:\n",
    "\n",
    "```\n",
    "RuntimeError: cmd returned error 1: Error creating machine: Error in driver during machine creation: /usr/bin/VBoxManage modifyvm swmaster1 --natpf1 ssh,tcp,127.0.0.1,40886,,22 failed:\n",
    "VBoxManage: error: The machine 'swmaster1' is already locked for a session (or being unlocked)\n",
    "VBoxManage: error: Details: code VBOX_E_INVALID_OBJECT_STATE (0x80bb0007), component MachineWrap, interface IMachine, callee nsISupports\n",
    "VBoxManage: error: Context: \"LockMachine(a->session, LockType_Write)\" at line 493 of file VBoxManageModifyVM.cpp\n",
    "```\n",
    "\n",
    "To recover, list current VMs known by VirtualBox using\n",
    "```VBoxManage list vms```\n",
    "\n",
    "For any VMs which are marked as 'inaccessible', delete them using their ID, e.g.\n",
    "```VBoxManage unregistervm 576f28c7-796e-47d4-a1b1-55dada4bba14```\n",
    "\n",
    "If other machines are listed in error seen by\n",
    "```docker-machine ls```\n",
    "\n",
    "try to delete theme with\n",
    "```docker-machine rm -f <machine-name>```\n",
    "\n",
    "If this fails, perform a \"VBoxManage unregistervm\", of the VM id or it's name\n",
    "e.g.\n",
    "```VBoxManage unregistervm 576f28c7-796e-47d4-a1b1-55dada4bba14```\n",
    "or\n",
    "```VBoxManage unregistervm swmaster1```\n",
    "\n",
    "Then try to create machines again"
   ]
  },
  {
   "cell_type": "code",
   "execution_count": 16,
   "metadata": {},
   "outputs": [
    {
     "data": {
      "text/plain": [
       "[{'Active': '-',\n",
       "  'ActiveHost': 'false',\n",
       "  'ActiveSwarm': 'false',\n",
       "  'DockerVersion': 'v17.05.0-ce',\n",
       "  'DriverName': 'virtualbox',\n",
       "  'Error': '',\n",
       "  'Name': 'swmaster1',\n",
       "  'ResponseTime': '1.748s',\n",
       "  'State': 'Running',\n",
       "  'Swarm': '',\n",
       "  'URL': 'tcp://192.168.99.100:2376'},\n",
       " {'Active': '-',\n",
       "  'ActiveHost': 'false',\n",
       "  'ActiveSwarm': 'false',\n",
       "  'DockerVersion': 'v17.05.0-ce',\n",
       "  'DriverName': 'virtualbox',\n",
       "  'Error': '',\n",
       "  'Name': 'swnode1',\n",
       "  'ResponseTime': '1.793s',\n",
       "  'State': 'Running',\n",
       "  'Swarm': '',\n",
       "  'URL': 'tcp://192.168.99.101:2376'},\n",
       " {'Active': '-',\n",
       "  'ActiveHost': 'false',\n",
       "  'ActiveSwarm': 'false',\n",
       "  'DockerVersion': 'v17.05.0-ce',\n",
       "  'DriverName': 'virtualbox',\n",
       "  'Error': '',\n",
       "  'Name': 'swnode2',\n",
       "  'ResponseTime': '1.747s',\n",
       "  'State': 'Running',\n",
       "  'Swarm': '',\n",
       "  'URL': 'tcp://192.168.99.102:2376'},\n",
       " {'Name': ''}]"
      ]
     },
     "execution_count": 16,
     "metadata": {},
     "output_type": "execute_result"
    }
   ],
   "source": [
    "m.ls()"
   ]
  },
  {
   "cell_type": "markdown",
   "metadata": {},
   "source": [
    "We can obtain the \"config\" parameters (o/p of \"docker-machine config <machine name>\")"
   ]
  },
  {
   "cell_type": "code",
   "execution_count": 17,
   "metadata": {},
   "outputs": [
    {
     "data": {
      "text/plain": [
       "{'base_url': 'https://192.168.99.100:2376',\n",
       " 'tls': <docker.tls.TLSConfig at 0x7f1b9f61c0b8>}"
      ]
     },
     "execution_count": 17,
     "metadata": {},
     "output_type": "execute_result"
    }
   ],
   "source": [
    "m.config(machine='swmaster1')"
   ]
  },
  {
   "cell_type": "markdown",
   "metadata": {},
   "source": [
    "We can obtain the \"env\" parameters (o/p of \"docker-machine env <machine name>\")"
   ]
  },
  {
   "cell_type": "code",
   "execution_count": 20,
   "metadata": {},
   "outputs": [
    {
     "data": {
      "text/plain": [
       "['export',\n",
       " 'DOCKER_TLS_VERIFY=\"1\"',\n",
       " 'export',\n",
       " 'DOCKER_HOST=\"tcp://192.168.99.100:2376\"',\n",
       " 'export',\n",
       " 'DOCKER_CERT_PATH=\"/home/mjb/.docker/machine/machines/swmaster1\"',\n",
       " 'export',\n",
       " 'DOCKER_MACHINE_NAME=\"swmaster1\"',\n",
       " '#',\n",
       " 'Run',\n",
       " 'this',\n",
       " 'command',\n",
       " 'to',\n",
       " 'configure',\n",
       " 'your',\n",
       " 'shell:',\n",
       " '#',\n",
       " 'eval',\n",
       " '$(/usr/local/bin/docker-machine',\n",
       " 'env',\n",
       " 'swmaster1)']"
      ]
     },
     "execution_count": 20,
     "metadata": {},
     "output_type": "execute_result"
    }
   ],
   "source": [
    "m.env(machine='swmaster1')"
   ]
  },
  {
   "cell_type": "markdown",
   "metadata": {},
   "source": [
    "Now let's create docker-py client objects for each of our new nodes"
   ]
  },
  {
   "cell_type": "code",
   "execution_count": 21,
   "metadata": {},
   "outputs": [
    {
     "name": "stdout",
     "output_type": "stream",
     "text": [
      "{   'swmaster1': <docker.client.DockerClient object at 0x7f1b9f535160>,\n",
      "    'swnode1': <docker.client.DockerClient object at 0x7f1b9f601160>,\n",
      "    'swnode2': <docker.client.DockerClient object at 0x7f1b9f60f400>}\n"
     ]
    }
   ],
   "source": [
    "# Create Docker clients for each machine:\n",
    "\n",
    "nodes={}\n",
    "\n",
    "swmaster1 = docker.DockerClient(**m.config(machine='swmaster1'))\n",
    "nodes['swmaster1']=swmaster1\n",
    "\n",
    "# For rich people with more nodes ...\n",
    "# swmaster2 = docker.DockerClient(**m.config(machine='swmaster2'))\n",
    "# nodes['swmaster2']=swmaster2\n",
    "# \n",
    "# swmaster3 = docker.DockerClient(**m.config(machine='swmaster3'))\n",
    "# nodes['swmaster3']=swmaster3\n",
    "\n",
    "swnode1 = docker.DockerClient(**m.config(machine='swnode1'))\n",
    "nodes['swnode1']=swnode1\n",
    "\n",
    "swnode2 = docker.DockerClient(**m.config(machine='swnode2'))\n",
    "nodes['swnode2']=swnode2\n",
    "\n",
    "pp.pprint(nodes)"
   ]
  },
  {
   "cell_type": "code",
   "execution_count": 23,
   "metadata": {},
   "outputs": [
    {
     "name": "stdout",
     "output_type": "stream",
     "text": [
      "Checking that nodes are 'ping'able\n",
      "swmaster1: True\n",
      "swnode1: True\n",
      "swnode2: True\n"
     ]
    }
   ],
   "source": [
    "# Check connectivity to machines:\n",
    "\n",
    "print(\"Checking that nodes are 'ping'able\")\n",
    "\n",
    "for node in nodes.keys():\n",
    "    #print(node)\n",
    "    print(\"{}: {}\".format(node, nodes[node].ping()))\n",
    "\n",
    "#print(swmaster.ping(), swnode1.ping(), swnode2.ping())"
   ]
  },
  {
   "cell_type": "code",
   "execution_count": 24,
   "metadata": {},
   "outputs": [
    {
     "data": {
      "text/plain": [
       "[]"
      ]
     },
     "execution_count": 24,
     "metadata": {},
     "output_type": "execute_result"
    }
   ],
   "source": [
    "swmaster1.images.list()"
   ]
  },
  {
   "cell_type": "markdown",
   "metadata": {},
   "source": [
    "# swarm init\n",
    "\n",
    "Now that we have 3 nodes available, we will initialize our Swarm Cluster with 1 master node.\n"
   ]
  },
  {
   "cell_type": "markdown",
   "metadata": {},
   "source": [
    "Including these parameters on the docker command line will connect the client to the docker daemon running on node '*swmaster*'.\n",
    "\n",
    "### Networks before creation of swarm cluster\n",
    "Before going further let's look at the networks on your machine.\n",
    "\n",
    "Later, we'll see how a new network is created once the swarm cluster has been created."
   ]
  },
  {
   "cell_type": "code",
   "execution_count": 25,
   "metadata": {},
   "outputs": [
    {
     "name": "stdout",
     "output_type": "stream",
     "text": [
      "NETWORK ID     NAME                 DRIVER     SCOPE         \n",
      "8172ddeaf4     host                 host       local         \n",
      "ae1f4f5c92     none                 null       local         \n",
      "6b36ae0d67     bridge               bridge     local         \n"
     ]
    }
   ],
   "source": [
    "\n",
    "def show_networks(client):\n",
    "    FORMAT_STR=\"%-14s %-20s %-10s %-14s\"\n",
    "    print(FORMAT_STR % (\"NETWORK ID\", \"NAME\", \"DRIVER\", \"SCOPE\"))\n",
    "\n",
    "    for network in client.networks.list():\n",
    "        #print(dir(network))\n",
    "        print(FORMAT_STR % (network.short_id, network.name, network.attrs['Driver'], network.attrs['Scope']))\n",
    "        \n",
    "        \n",
    "# NETWORK ID          NAME                DRIVER              SCOPE\n",
    "# ab973c7b9062        bridge              bridge              local\n",
    "# e953fc8fe3f2        host                host                local\n",
    "# d45eb5315d7c        none                null                local\n",
    "\n",
    "show_networks(swmaster1)"
   ]
  },
  {
   "cell_type": "markdown",
   "metadata": {},
   "source": [
    "### Obtain ip addresses of nodes, esp. the 1st master node\n",
    "\n",
    "Now let's identify the ip address of our nodes.\n",
    "\n",
    "We need to note the ip address of the master node, so that when we initialize our swarm cluster, this node will advertise itself on this address so that other nodes can join the swarm cluster.\n",
    "\n",
    "We can see this through config or ip commands of docker-machine as shown below."
   ]
  },
  {
   "cell_type": "code",
   "execution_count": 26,
   "metadata": {},
   "outputs": [
    {
     "name": "stdout",
     "output_type": "stream",
     "text": [
      "swmaster1: 192.168.99.100\n",
      "swnode1: 192.168.99.101\n",
      "swnode2: 192.168.99.102\n"
     ]
    }
   ],
   "source": [
    "for node in nodes.keys():\n",
    "    ip = m.ip(machine=node)\n",
    "    print(\"{}: {}\".format(node, ip))\n",
    "\n",
    "    \n",
    "master1ip = m.ip(machine='swmaster1')"
   ]
  },
  {
   "cell_type": "markdown",
   "metadata": {},
   "source": [
    "We could then provide the above ip address as parameter to --advertise-addr when initializing the swarm.\n",
    "\n",
    "However, it is quite convenient to run the above commands embedded, as below, as arguments to the swarm init command.\n",
    "\n",
    "docker-machine config swmaster provides the parameters to use when connecting to the appropriate docker engine for our machine \"swmaster\".\n",
    "\n",
    "The following command will run swarm init to generate the cluster with 'swmaster' as the Master node.\n",
    "You should see output similar to the below:"
   ]
  },
  {
   "cell_type": "code",
   "execution_count": 27,
   "metadata": {},
   "outputs": [
    {
     "data": {
      "text/plain": [
       "{'Architecture': 'x86_64',\n",
       " 'BridgeNfIp6tables': True,\n",
       " 'BridgeNfIptables': True,\n",
       " 'CPUSet': True,\n",
       " 'CPUShares': True,\n",
       " 'CgroupDriver': 'cgroupfs',\n",
       " 'ClusterAdvertise': '',\n",
       " 'ClusterStore': '',\n",
       " 'ContainerdCommit': {'Expected': '9048e5e50717ea4497b757314bad98ea3763c145',\n",
       "  'ID': '9048e5e50717ea4497b757314bad98ea3763c145'},\n",
       " 'Containers': 0,\n",
       " 'ContainersPaused': 0,\n",
       " 'ContainersRunning': 0,\n",
       " 'ContainersStopped': 0,\n",
       " 'CpuCfsPeriod': True,\n",
       " 'CpuCfsQuota': True,\n",
       " 'Debug': True,\n",
       " 'DefaultRuntime': 'runc',\n",
       " 'DockerRootDir': '/mnt/sda1/var/lib/docker',\n",
       " 'Driver': 'aufs',\n",
       " 'DriverStatus': [['Root Dir', '/mnt/sda1/var/lib/docker/aufs'],\n",
       "  ['Backing Filesystem', 'extfs'],\n",
       "  ['Dirs', '0'],\n",
       "  ['Dirperm1 Supported', 'true']],\n",
       " 'ExperimentalBuild': False,\n",
       " 'HttpProxy': '',\n",
       " 'HttpsProxy': '',\n",
       " 'ID': 'JOQ2:PER3:G43N:FHNJ:BMI4:6JCE:CEG6:HDV6:PRBK:FBPB:ONJH:AIRY',\n",
       " 'IPv4Forwarding': True,\n",
       " 'Images': 0,\n",
       " 'IndexServerAddress': 'https://index.docker.io/v1/',\n",
       " 'InitBinary': 'docker-init',\n",
       " 'InitCommit': {'Expected': '949e6fa', 'ID': '949e6fa'},\n",
       " 'Isolation': '',\n",
       " 'KernelMemory': True,\n",
       " 'KernelVersion': '4.4.66-boot2docker',\n",
       " 'Labels': ['provider=virtualbox'],\n",
       " 'LiveRestoreEnabled': False,\n",
       " 'LoggingDriver': 'json-file',\n",
       " 'MemTotal': 1044131840,\n",
       " 'MemoryLimit': True,\n",
       " 'NCPU': 1,\n",
       " 'NEventsListener': 0,\n",
       " 'NFd': 15,\n",
       " 'NGoroutines': 22,\n",
       " 'Name': 'swmaster1',\n",
       " 'NoProxy': '',\n",
       " 'OSType': 'linux',\n",
       " 'OomKillDisable': True,\n",
       " 'OperatingSystem': 'Boot2Docker 17.05.0-ce (TCL 7.2); HEAD : 5ed2840 - Fri May  5 21:04:09 UTC 2017',\n",
       " 'Plugins': {'Authorization': [],\n",
       "  'Network': ['bridge', 'host', 'macvlan', 'null', 'overlay'],\n",
       "  'Volume': ['local']},\n",
       " 'RegistryConfig': {'IndexConfigs': {'docker.io': {'Mirrors': [],\n",
       "    'Name': 'docker.io',\n",
       "    'Official': True,\n",
       "    'Secure': True}},\n",
       "  'InsecureRegistryCIDRs': ['127.0.0.0/8'],\n",
       "  'Mirrors': []},\n",
       " 'RuncCommit': {'Expected': '9c2d8d184e5da67c95d601382adf14862e4f2228',\n",
       "  'ID': '9c2d8d184e5da67c95d601382adf14862e4f2228'},\n",
       " 'Runtimes': {'runc': {'path': 'docker-runc'}},\n",
       " 'SecurityOptions': ['name=seccomp,profile=default'],\n",
       " 'ServerVersion': '17.05.0-ce',\n",
       " 'SwapLimit': True,\n",
       " 'Swarm': {'ControlAvailable': False,\n",
       "  'Error': '',\n",
       "  'LocalNodeState': 'inactive',\n",
       "  'NodeAddr': '',\n",
       "  'NodeID': '',\n",
       "  'RemoteManagers': None},\n",
       " 'SystemStatus': None,\n",
       " 'SystemTime': '2017-05-11T11:41:55.540295182Z'}"
      ]
     },
     "execution_count": 27,
     "metadata": {},
     "output_type": "execute_result"
    }
   ],
   "source": [
    "swmaster1.info()"
   ]
  },
  {
   "cell_type": "code",
   "execution_count": 28,
   "metadata": {},
   "outputs": [
    {
     "data": {
      "text/plain": [
       "{'ControlAvailable': False,\n",
       " 'Error': '',\n",
       " 'LocalNodeState': 'inactive',\n",
       " 'NodeAddr': '',\n",
       " 'NodeID': '',\n",
       " 'RemoteManagers': None}"
      ]
     },
     "execution_count": 28,
     "metadata": {},
     "output_type": "execute_result"
    }
   ],
   "source": [
    "swmaster1.info()['Swarm']"
   ]
  },
  {
   "cell_type": "markdown",
   "metadata": {},
   "source": [
    "### Before creating the swarm cluster we have 0 nodes, and an inactive cluster"
   ]
  },
  {
   "cell_type": "code",
   "execution_count": 29,
   "metadata": {
    "collapsed": true
   },
   "outputs": [],
   "source": [
    "if 'Nodes' in swmaster1.info()['Swarm']:\n",
    "    swmaster1.info()['Swarm']['Nodes']"
   ]
  },
  {
   "cell_type": "code",
   "execution_count": 30,
   "metadata": {},
   "outputs": [
    {
     "data": {
      "text/plain": [
       "'inactive'"
      ]
     },
     "execution_count": 30,
     "metadata": {},
     "output_type": "execute_result"
    }
   ],
   "source": [
    "swmaster1.info()['Swarm']['LocalNodeState']"
   ]
  },
  {
   "cell_type": "code",
   "execution_count": 32,
   "metadata": {
    "collapsed": true
   },
   "outputs": [],
   "source": [
    "# Note: the following is specific to the Jupyter notebook environment allowing to introspect class/method/variable definitions:\n",
    "\n",
    "swmaster1.swarm.init?"
   ]
  },
  {
   "cell_type": "markdown",
   "metadata": {},
   "source": [
    "Now let's initialize our swarm mode.\n",
    "\n",
    "This make this node a 'Manager' node of the cluster and creates new overlay network to be used by services running in the cluster."
   ]
  },
  {
   "cell_type": "code",
   "execution_count": 33,
   "metadata": {
    "collapsed": true
   },
   "outputs": [],
   "source": [
    "swmaster1.swarm.init(advertise_addr=master1ip)"
   ]
  },
  {
   "cell_type": "code",
   "execution_count": 34,
   "metadata": {},
   "outputs": [
    {
     "name": "stdout",
     "output_type": "stream",
     "text": [
      "{   'Architecture': 'x86_64',\n",
      "    'BridgeNfIp6tables': True,\n",
      "    'BridgeNfIptables': True,\n",
      "    'CPUSet': True,\n",
      "    'CPUShares': True,\n",
      "    'CgroupDriver': 'cgroupfs',\n",
      "    'ClusterAdvertise': '',\n",
      "    'ClusterStore': '',\n",
      "    'ContainerdCommit': {   'Expected': '9048e5e50717ea4497b757314bad98ea3763c145',\n",
      "                            'ID': '9048e5e50717ea4497b757314bad98ea3763c145'},\n",
      "    'Containers': 0,\n",
      "    'ContainersPaused': 0,\n",
      "    'ContainersRunning': 0,\n",
      "    'ContainersStopped': 0,\n",
      "    'CpuCfsPeriod': True,\n",
      "    'CpuCfsQuota': True,\n",
      "    'Debug': True,\n",
      "    'DefaultRuntime': 'runc',\n",
      "    'DockerRootDir': '/mnt/sda1/var/lib/docker',\n",
      "    'Driver': 'aufs',\n",
      "    'DriverStatus': [   ['Root Dir', '/mnt/sda1/var/lib/docker/aufs'],\n",
      "                        ['Backing Filesystem', 'extfs'],\n",
      "                        ['Dirs', '0'],\n",
      "                        ['Dirperm1 Supported', 'true']],\n",
      "    'ExperimentalBuild': False,\n",
      "    'HttpProxy': '',\n",
      "    'HttpsProxy': '',\n",
      "    'ID': 'JOQ2:PER3:G43N:FHNJ:BMI4:6JCE:CEG6:HDV6:PRBK:FBPB:ONJH:AIRY',\n",
      "    'IPv4Forwarding': True,\n",
      "    'Images': 0,\n",
      "    'IndexServerAddress': 'https://index.docker.io/v1/',\n",
      "    'InitBinary': 'docker-init',\n",
      "    'InitCommit': {'Expected': '949e6fa', 'ID': '949e6fa'},\n",
      "    'Isolation': '',\n",
      "    'KernelMemory': True,\n",
      "    'KernelVersion': '4.4.66-boot2docker',\n",
      "    'Labels': ['provider=virtualbox'],\n",
      "    'LiveRestoreEnabled': False,\n",
      "    'LoggingDriver': 'json-file',\n",
      "    'MemTotal': 1044131840,\n",
      "    'MemoryLimit': True,\n",
      "    'NCPU': 1,\n",
      "    'NEventsListener': 0,\n",
      "    'NFd': 32,\n",
      "    'NGoroutines': 124,\n",
      "    'Name': 'swmaster1',\n",
      "    'NoProxy': '',\n",
      "    'OSType': 'linux',\n",
      "    'OomKillDisable': True,\n",
      "    'OperatingSystem': 'Boot2Docker 17.05.0-ce (TCL 7.2); HEAD : 5ed2840 - Fri '\n",
      "                       'May  5 21:04:09 UTC 2017',\n",
      "    'Plugins': {   'Authorization': [],\n",
      "                   'Network': ['bridge', 'host', 'macvlan', 'null', 'overlay'],\n",
      "                   'Volume': ['local']},\n",
      "    'RegistryConfig': {   'IndexConfigs': {   'docker.io': {   'Mirrors': [],\n",
      "                                                               'Name': 'docker.io',\n",
      "                                                               'Official': True,\n",
      "                                                               'Secure': True}},\n",
      "                          'InsecureRegistryCIDRs': ['127.0.0.0/8'],\n",
      "                          'Mirrors': []},\n",
      "    'RuncCommit': {   'Expected': '9c2d8d184e5da67c95d601382adf14862e4f2228',\n",
      "                      'ID': '9c2d8d184e5da67c95d601382adf14862e4f2228'},\n",
      "    'Runtimes': {'runc': {'path': 'docker-runc'}},\n",
      "    'SecurityOptions': ['name=seccomp,profile=default'],\n",
      "    'ServerVersion': '17.05.0-ce',\n",
      "    'SwapLimit': True,\n",
      "    'Swarm': {   'Cluster': {   'CreatedAt': '2017-05-11T11:43:05.297040351Z',\n",
      "                                'ID': 'p6xdvnj76fop1xqgox7qxys1z',\n",
      "                                'Spec': {   'CAConfig': {   'NodeCertExpiry': 7776000000000000},\n",
      "                                            'Dispatcher': {   'HeartbeatPeriod': 5000000000},\n",
      "                                            'EncryptionConfig': {   'AutoLockManagers': False},\n",
      "                                            'Labels': {},\n",
      "                                            'Name': 'default',\n",
      "                                            'Orchestration': {   'TaskHistoryRetentionLimit': 5},\n",
      "                                            'Raft': {   'ElectionTick': 3,\n",
      "                                                        'HeartbeatTick': 1,\n",
      "                                                        'KeepOldSnapshots': 0,\n",
      "                                                        'LogEntriesForSlowFollowers': 500,\n",
      "                                                        'SnapshotInterval': 10000},\n",
      "                                            'TaskDefaults': {}},\n",
      "                                'UpdatedAt': '2017-05-11T11:43:05.953367677Z',\n",
      "                                'Version': {'Index': 9}},\n",
      "                 'ControlAvailable': True,\n",
      "                 'Error': '',\n",
      "                 'LocalNodeState': 'active',\n",
      "                 'Managers': 1,\n",
      "                 'NodeAddr': '192.168.99.100',\n",
      "                 'NodeID': 'hyg7lucp604tvmgns77bo2a0i',\n",
      "                 'Nodes': 1,\n",
      "                 'RemoteManagers': [   {   'Addr': '192.168.99.100:2377',\n",
      "                                           'NodeID': 'hyg7lucp604tvmgns77bo2a0i'}]},\n",
      "    'SystemStatus': None,\n",
      "    'SystemTime': '2017-05-11T11:44:10.78478195Z'}\n"
     ]
    }
   ],
   "source": [
    "swarm_info = swmaster1.swarm.client.info()\n",
    "\n",
    "pp.pprint(swarm_info)"
   ]
  },
  {
   "cell_type": "markdown",
   "metadata": {},
   "source": [
    "### After creating the swarm cluster we have 1 nodes, and an active cluster"
   ]
  },
  {
   "cell_type": "code",
   "execution_count": 35,
   "metadata": {
    "scrolled": true
   },
   "outputs": [
    {
     "data": {
      "text/plain": [
       "1"
      ]
     },
     "execution_count": 35,
     "metadata": {},
     "output_type": "execute_result"
    }
   ],
   "source": [
    "swmaster1.info()['Swarm']['Nodes']"
   ]
  },
  {
   "cell_type": "markdown",
   "metadata": {},
   "source": [
    "A docker info should now show \"Swarm: active\" as below:"
   ]
  },
  {
   "cell_type": "code",
   "execution_count": 36,
   "metadata": {},
   "outputs": [
    {
     "data": {
      "text/plain": [
       "'active'"
      ]
     },
     "execution_count": 36,
     "metadata": {},
     "output_type": "execute_result"
    }
   ],
   "source": [
    "swmaster1.info()['Swarm']['LocalNodeState']"
   ]
  },
  {
   "cell_type": "code",
   "execution_count": 37,
   "metadata": {},
   "outputs": [
    {
     "name": "stdout",
     "output_type": "stream",
     "text": [
      "{   'CreatedAt': '2017-05-11T11:43:05.297040351Z',\n",
      "    'ID': 'p6xdvnj76fop1xqgox7qxys1z',\n",
      "    'JoinTokens': {   'Manager': 'SWMTKN-1-4x9d5aan2d32e9w86ao991b39b82gq65u82hcar1t2zd5ledfx-cu6udyyfxmsfuzgcnyhe2kyy6',\n",
      "                      'Worker': 'SWMTKN-1-4x9d5aan2d32e9w86ao991b39b82gq65u82hcar1t2zd5ledfx-9bscsxf5f4ek7v6737tuh9uzs'},\n",
      "    'Spec': {   'CAConfig': {'NodeCertExpiry': 7776000000000000},\n",
      "                'Dispatcher': {'HeartbeatPeriod': 5000000000},\n",
      "                'EncryptionConfig': {'AutoLockManagers': False},\n",
      "                'Labels': {},\n",
      "                'Name': 'default',\n",
      "                'Orchestration': {'TaskHistoryRetentionLimit': 5},\n",
      "                'Raft': {   'ElectionTick': 3,\n",
      "                            'HeartbeatTick': 1,\n",
      "                            'KeepOldSnapshots': 0,\n",
      "                            'LogEntriesForSlowFollowers': 500,\n",
      "                            'SnapshotInterval': 10000},\n",
      "                'TaskDefaults': {}},\n",
      "    'UpdatedAt': '2017-05-11T11:43:05.953367677Z',\n",
      "    'Version': {'Index': 9}}\n"
     ]
    }
   ],
   "source": [
    "pp.pprint(swmaster1.swarm.attrs)"
   ]
  },
  {
   "cell_type": "markdown",
   "metadata": {},
   "source": [
    "### We can obtain the join tokens allowing to join new nodes as manager or worker nodes"
   ]
  },
  {
   "cell_type": "code",
   "execution_count": 38,
   "metadata": {},
   "outputs": [
    {
     "name": "stdout",
     "output_type": "stream",
     "text": [
      "{   'Manager': 'SWMTKN-1-4x9d5aan2d32e9w86ao991b39b82gq65u82hcar1t2zd5ledfx-cu6udyyfxmsfuzgcnyhe2kyy6',\n",
      "    'Worker': 'SWMTKN-1-4x9d5aan2d32e9w86ao991b39b82gq65u82hcar1t2zd5ledfx-9bscsxf5f4ek7v6737tuh9uzs'}\n"
     ]
    }
   ],
   "source": [
    "join_tokens = swmaster1.swarm.attrs['JoinTokens']\n",
    "\n",
    "pp.pprint(join_tokens)\n",
    "\n",
    "manager_token = join_tokens['Manager']\n",
    "worker_token = join_tokens['Worker']"
   ]
  },
  {
   "cell_type": "markdown",
   "metadata": {},
   "source": [
    "If we look at the networks we should now see new networks such as '*ingress*' an overlay network and docker_gwbridge for the swarm cluster."
   ]
  },
  {
   "cell_type": "code",
   "execution_count": 40,
   "metadata": {},
   "outputs": [
    {
     "name": "stdout",
     "output_type": "stream",
     "text": [
      "NETWORK ID     NAME                 DRIVER     SCOPE         \n",
      "8fhgsmcv2i     ingress              overlay    swarm         \n",
      "8172ddeaf4     host                 host       local         \n",
      "ae1f4f5c92     none                 null       local         \n",
      "6b36ae0d67     bridge               bridge     local         \n",
      "4124e7c3a7     docker_gwbridge      bridge     local         \n"
     ]
    }
   ],
   "source": [
    "show_networks(swmaster1)\n",
    "#show_networks(swmaster2)"
   ]
  },
  {
   "cell_type": "markdown",
   "metadata": {},
   "source": [
    "# swarm join\n",
    "\n",
    "Now we wish to join Master and Worker nodes to our swarm cluster, to do this we need to obtain the token generated during the \"swarm init\"."
   ]
  },
  {
   "cell_type": "code",
   "execution_count": 42,
   "metadata": {},
   "outputs": [
    {
     "name": "stdout",
     "output_type": "stream",
     "text": [
      "SWMTKN-1-4x9d5aan2d32e9w86ao991b39b82gq65u82hcar1t2zd5ledfx-cu6udyyfxmsfuzgcnyhe2kyy6\n"
     ]
    }
   ],
   "source": [
    "print(manager_token)"
   ]
  },
  {
   "cell_type": "code",
   "execution_count": 43,
   "metadata": {},
   "outputs": [
    {
     "name": "stdout",
     "output_type": "stream",
     "text": [
      "{   'Cluster': {   'CreatedAt': '2017-05-11T11:43:05.297040351Z',\n",
      "                   'ID': 'p6xdvnj76fop1xqgox7qxys1z',\n",
      "                   'Spec': {   'CAConfig': {'NodeCertExpiry': 7776000000000000},\n",
      "                               'Dispatcher': {'HeartbeatPeriod': 5000000000},\n",
      "                               'EncryptionConfig': {'AutoLockManagers': False},\n",
      "                               'Labels': {},\n",
      "                               'Name': 'default',\n",
      "                               'Orchestration': {   'TaskHistoryRetentionLimit': 5},\n",
      "                               'Raft': {   'ElectionTick': 3,\n",
      "                                           'HeartbeatTick': 1,\n",
      "                                           'KeepOldSnapshots': 0,\n",
      "                                           'LogEntriesForSlowFollowers': 500,\n",
      "                                           'SnapshotInterval': 10000},\n",
      "                               'TaskDefaults': {}},\n",
      "                   'UpdatedAt': '2017-05-11T11:43:05.953367677Z',\n",
      "                   'Version': {'Index': 9}},\n",
      "    'ControlAvailable': True,\n",
      "    'Error': '',\n",
      "    'LocalNodeState': 'active',\n",
      "    'Managers': 1,\n",
      "    'NodeAddr': '192.168.99.100',\n",
      "    'NodeID': 'hyg7lucp604tvmgns77bo2a0i',\n",
      "    'Nodes': 1,\n",
      "    'RemoteManagers': [   {   'Addr': '192.168.99.100:2377',\n",
      "                              'NodeID': 'hyg7lucp604tvmgns77bo2a0i'}]}\n"
     ]
    }
   ],
   "source": [
    "pp.pprint(swmaster1.info()['Swarm'])"
   ]
  },
  {
   "cell_type": "code",
   "execution_count": null,
   "metadata": {
    "collapsed": true
   },
   "outputs": [],
   "source": [
    "print(master1ip)"
   ]
  },
  {
   "cell_type": "markdown",
   "metadata": {},
   "source": [
    "## Add 2nd, 2rd master nodes if present"
   ]
  },
  {
   "cell_type": "code",
   "execution_count": 44,
   "metadata": {
    "collapsed": true
   },
   "outputs": [],
   "source": [
    "#if swmaster2 != None:\n",
    "#    swmaster2.swarm.join(join_token=manager_token, remote_addrs=[master1ip+':2377'],\n",
    "#                  listen_addr='0.0.0.0:5000', advertise_addr='eth0:5000')"
   ]
  },
  {
   "cell_type": "code",
   "execution_count": 45,
   "metadata": {
    "collapsed": true
   },
   "outputs": [],
   "source": [
    "#if swmaster3 != None:\n",
    "#    swmaster3.swarm.join(join_token=manager_token, remote_addrs=[master1ip+':2377'],\n",
    "#                  listen_addr='0.0.0.0:5000', advertise_addr='eth0:5000')"
   ]
  },
  {
   "cell_type": "code",
   "execution_count": 46,
   "metadata": {},
   "outputs": [
    {
     "name": "stdout",
     "output_type": "stream",
     "text": [
      "/bin/sh: 1: .: Can't open /home/mjb/.docker.rc\r\n"
     ]
    }
   ],
   "source": [
    "!. ~/.docker.rc; docker $(docker-machine config swmaster1) node list"
   ]
  },
  {
   "cell_type": "code",
   "execution_count": 47,
   "metadata": {},
   "outputs": [
    {
     "name": "stdout",
     "output_type": "stream",
     "text": [
      "ID             HOSTNAME   STATE      AVAILABILITY   MANAGER STATUS\n",
      "hyg7lucp604t   swmaster1  ready      active         leader    \n"
     ]
    }
   ],
   "source": [
    "def show_nodes(client):\n",
    "    FORMAT_STR=\"%-14s %-10s %-10s %-14s %-10s\"\n",
    "    print(FORMAT_STR % (\"ID\", \"HOSTNAME\", \"STATE\", \"AVAILABILITY\", \"MANAGER STATUS\"))\n",
    "    \n",
    "    for node in client.nodes.list():\n",
    "        #pp.pprint(node.attrs)\n",
    "        nodeSwarmStatus=''\n",
    "        state = node.attrs['Status']['State']\n",
    "        if 'ManagerStatus' in node.attrs:\n",
    "            if 'Leader' in node.attrs['ManagerStatus'] and node.attrs['ManagerStatus']['Leader']:\n",
    "                nodeSwarmStatus='leader'\n",
    "            elif 'Reachability' in node.attrs['ManagerStatus']:\n",
    "                nodeSwarmStatus=node.attrs['ManagerStatus']['Reachability']\n",
    "        print(FORMAT_STR % (node.id[:12], node.attrs['Description']['Hostname'], state, node.attrs['Spec']['Availability'], nodeSwarmStatus))\n",
    "\n",
    "        \n",
    "show_nodes(swmaster1)"
   ]
  },
  {
   "cell_type": "markdown",
   "metadata": {},
   "source": [
    "## Add worker nodes"
   ]
  },
  {
   "cell_type": "code",
   "execution_count": 48,
   "metadata": {},
   "outputs": [
    {
     "name": "stdout",
     "output_type": "stream",
     "text": [
      "SWMTKN-1-4x9d5aan2d32e9w86ao991b39b82gq65u82hcar1t2zd5ledfx-9bscsxf5f4ek7v6737tuh9uzs\n"
     ]
    }
   ],
   "source": [
    "print(worker_token)"
   ]
  },
  {
   "cell_type": "markdown",
   "metadata": {},
   "source": [
    "Now we can use this token to join nodes as a worker to this cluster\n",
    "\n",
    "Note: we could also join nodes as Master, but we have only 3 nodes available.\n",
    "\n",
    "Let's join swnode1 as a worker node"
   ]
  },
  {
   "cell_type": "code",
   "execution_count": 49,
   "metadata": {},
   "outputs": [
    {
     "name": "stdout",
     "output_type": "stream",
     "text": [
      "'node swmaster1.attrs='\n",
      "{   'CreatedAt': '2017-05-11T11:43:05.297289966Z',\n",
      "    'Description': {   'Engine': {   'EngineVersion': '17.05.0-ce',\n",
      "                                     'Labels': {'provider': 'virtualbox'},\n",
      "                                     'Plugins': [   {   'Name': 'bridge',\n",
      "                                                        'Type': 'Network'},\n",
      "                                                    {   'Name': 'host',\n",
      "                                                        'Type': 'Network'},\n",
      "                                                    {   'Name': 'macvlan',\n",
      "                                                        'Type': 'Network'},\n",
      "                                                    {   'Name': 'null',\n",
      "                                                        'Type': 'Network'},\n",
      "                                                    {   'Name': 'overlay',\n",
      "                                                        'Type': 'Network'},\n",
      "                                                    {   'Name': 'local',\n",
      "                                                        'Type': 'Volume'}]},\n",
      "                       'Hostname': 'swmaster1',\n",
      "                       'Platform': {'Architecture': 'x86_64', 'OS': 'linux'},\n",
      "                       'Resources': {   'MemoryBytes': 1044131840,\n",
      "                                        'NanoCPUs': 1000000000}},\n",
      "    'ID': 'hyg7lucp604tvmgns77bo2a0i',\n",
      "    'ManagerStatus': {   'Addr': '192.168.99.100:2377',\n",
      "                         'Leader': True,\n",
      "                         'Reachability': 'reachable'},\n",
      "    'Spec': {'Availability': 'active', 'Labels': {}, 'Role': 'manager'},\n",
      "    'Status': {'Addr': '192.168.99.100', 'State': 'ready'},\n",
      "    'UpdatedAt': '2017-05-11T11:43:05.921277683Z',\n",
      "    'Version': {'Index': 8}}\n",
      "\n"
     ]
    }
   ],
   "source": [
    "#print( \"swmaster.nodes()=\" + str( swmaster.nodes() ))\n",
    "#print()\n",
    "\n",
    "import json\n",
    "\n",
    "json_nodes = swmaster1.nodes.list()\n",
    "\n",
    "#print(type(json_nodes))\n",
    "\n",
    "for node in json_nodes:\n",
    "    pp.pprint(\"node {}.attrs=\".format(node.attrs['Description']['Hostname']))\n",
    "    pp.pprint(node.attrs)\n",
    "    print()\n",
    "    "
   ]
  },
  {
   "cell_type": "code",
   "execution_count": 50,
   "metadata": {},
   "outputs": [
    {
     "name": "stdout",
     "output_type": "stream",
     "text": [
      "ID             HOSTNAME   STATE      AVAILABILITY   MANAGER STATUS\n",
      "hyg7lucp604t   swmaster1  ready      active         leader    \n"
     ]
    }
   ],
   "source": [
    "show_nodes(swmaster1)"
   ]
  },
  {
   "cell_type": "code",
   "execution_count": 51,
   "metadata": {},
   "outputs": [
    {
     "data": {
      "text/plain": [
       "[<Node: hyg7lucp60>]"
      ]
     },
     "execution_count": 51,
     "metadata": {},
     "output_type": "execute_result"
    }
   ],
   "source": [
    "swmaster1.nodes.list()"
   ]
  },
  {
   "cell_type": "code",
   "execution_count": 52,
   "metadata": {
    "collapsed": true
   },
   "outputs": [],
   "source": [
    "# Note: the following is specific to the Jupyter notebook environment allowing to introspect class/method/variable definitions:\n",
    "\n",
    "swnode1.swarm.join?"
   ]
  },
  {
   "cell_type": "code",
   "execution_count": 53,
   "metadata": {},
   "outputs": [
    {
     "data": {
      "text/plain": [
       "True"
      ]
     },
     "execution_count": 53,
     "metadata": {},
     "output_type": "execute_result"
    }
   ],
   "source": [
    "swnode1.swarm.join(join_token=worker_token, remote_addrs=[master1ip+':2377'],\n",
    "                  listen_addr='0.0.0.0:5000', advertise_addr='eth0:5000')"
   ]
  },
  {
   "cell_type": "code",
   "execution_count": 54,
   "metadata": {},
   "outputs": [
    {
     "data": {
      "text/plain": [
       "[<Node: hyg7lucp60>, <Node: i3m48j05r1>]"
      ]
     },
     "execution_count": 54,
     "metadata": {},
     "output_type": "execute_result"
    }
   ],
   "source": [
    "swmaster1.nodes.list()"
   ]
  },
  {
   "cell_type": "code",
   "execution_count": 55,
   "metadata": {},
   "outputs": [
    {
     "name": "stdout",
     "output_type": "stream",
     "text": [
      "NAME        ACTIVE   DRIVER       STATE     URL                         SWARM   DOCKER        ERRORS\r\n",
      "swmaster1   -        virtualbox   Running   tcp://192.168.99.100:2376           v17.05.0-ce   \r\n",
      "swnode1     -        virtualbox   Running   tcp://192.168.99.101:2376           v17.05.0-ce   \r\n",
      "swnode2     -        virtualbox   Running   tcp://192.168.99.102:2376           v17.05.0-ce   \r\n"
     ]
    }
   ],
   "source": [
    "!docker-machine ls"
   ]
  },
  {
   "cell_type": "code",
   "execution_count": 57,
   "metadata": {},
   "outputs": [
    {
     "name": "stdout",
     "output_type": "stream",
     "text": [
      "ID                           HOSTNAME   STATUS  AVAILABILITY  MANAGER STATUS\r\n",
      "hyg7lucp604tvmgns77bo2a0i *  swmaster1  Ready   Active        Leader\r\n",
      "i3m48j05r1hkyypm9nnrbdyaw    swnode1    Ready   Active        \r\n"
     ]
    }
   ],
   "source": [
    "!docker $(docker-machine config swmaster1) node ls"
   ]
  },
  {
   "cell_type": "code",
   "execution_count": 58,
   "metadata": {},
   "outputs": [
    {
     "name": "stdout",
     "output_type": "stream",
     "text": [
      "ID             HOSTNAME   STATE      AVAILABILITY   MANAGER STATUS\n",
      "hyg7lucp604t   swmaster1  ready      active         leader    \n",
      "i3m48j05r1hk   swnode1    ready      active                   \n"
     ]
    }
   ],
   "source": [
    "show_nodes(swmaster1)"
   ]
  },
  {
   "cell_type": "code",
   "execution_count": 59,
   "metadata": {},
   "outputs": [
    {
     "data": {
      "text/plain": [
       "True"
      ]
     },
     "execution_count": 59,
     "metadata": {},
     "output_type": "execute_result"
    }
   ],
   "source": [
    "swnode2.swarm.join(join_token=worker_token, remote_addrs=[master1ip+':2377'],\n",
    "                  listen_addr='0.0.0.0:5000', advertise_addr='eth0:5000')"
   ]
  },
  {
   "cell_type": "code",
   "execution_count": 61,
   "metadata": {},
   "outputs": [
    {
     "name": "stdout",
     "output_type": "stream",
     "text": [
      "ID             HOSTNAME   STATE      AVAILABILITY   MANAGER STATUS\n",
      "g3evkow9ylaq   swnode2    ready      active                   \n",
      "hyg7lucp604t   swmaster1  ready      active         leader    \n",
      "i3m48j05r1hk   swnode1    ready      active                   \n"
     ]
    }
   ],
   "source": [
    "show_nodes(swmaster1)"
   ]
  },
  {
   "cell_type": "code",
   "execution_count": 62,
   "metadata": {},
   "outputs": [
    {
     "name": "stdout",
     "output_type": "stream",
     "text": [
      "ID                           HOSTNAME   STATUS  AVAILABILITY  MANAGER STATUS\r\n",
      "g3evkow9ylaq10z45nyic8x06    swnode2    Ready   Active        \r\n",
      "hyg7lucp604tvmgns77bo2a0i *  swmaster1  Ready   Active        Leader\r\n",
      "i3m48j05r1hkyypm9nnrbdyaw    swnode1    Ready   Active        \r\n"
     ]
    }
   ],
   "source": [
    "!docker $(docker-machine config swmaster1) node ls"
   ]
  },
  {
   "cell_type": "markdown",
   "metadata": {},
   "source": [
    "### Need to force 'leave' to remove managers from cluster\n",
    "\n",
    "## NOTE: dont remove swarm master nodes, this seems to break cluster ... currently"
   ]
  },
  {
   "cell_type": "code",
   "execution_count": 63,
   "metadata": {},
   "outputs": [
    {
     "name": "stdout",
     "output_type": "stream",
     "text": [
      "{'Addr': '192.168.99.102', 'State': 'ready'}\n",
      "{'Addr': '192.168.99.100', 'State': 'ready'}\n",
      "{'Addr': '192.168.99.101', 'State': 'ready'}\n"
     ]
    }
   ],
   "source": [
    "for node in swmaster1.nodes.list():\n",
    "    pp.pprint(node.attrs['Status'])"
   ]
  },
  {
   "cell_type": "code",
   "execution_count": 64,
   "metadata": {
    "collapsed": true
   },
   "outputs": [],
   "source": [
    "# Just for info - DON'T DO THIS (will prevent service creation from working - bug)\n",
    "\n",
    "# swmaster2.swarm.leave(force=True)\n",
    "# swmaster3.swarm.leave(force=True)"
   ]
  },
  {
   "cell_type": "code",
   "execution_count": 65,
   "metadata": {},
   "outputs": [
    {
     "name": "stdout",
     "output_type": "stream",
     "text": [
      "ID             HOSTNAME   STATE      AVAILABILITY   MANAGER STATUS\n",
      "g3evkow9ylaq   swnode2    ready      active                   \n",
      "hyg7lucp604t   swmaster1  ready      active         leader    \n",
      "i3m48j05r1hk   swnode1    ready      active                   \n"
     ]
    }
   ],
   "source": [
    "show_nodes(swmaster1)"
   ]
  },
  {
   "cell_type": "code",
   "execution_count": 66,
   "metadata": {
    "collapsed": true
   },
   "outputs": [],
   "source": [
    "# Just for info - DON'T DO THIS (will prevent service creation from working - bug)\n",
    "\n",
    "# m.rm(machine='swmaster2',force=True)\n",
    "# m.rm(machine='swmaster3',force=True)"
   ]
  },
  {
   "cell_type": "markdown",
   "metadata": {},
   "source": [
    "### NOTE: incorrect status\n",
    "\n",
    "Our show_nodes method shows the managers are unreachable but still active and not necessarily down.\n",
    "\n",
    "See below, this seems to be a problem in the API, or docker module implementation:"
   ]
  },
  {
   "cell_type": "code",
   "execution_count": 67,
   "metadata": {},
   "outputs": [
    {
     "name": "stdout",
     "output_type": "stream",
     "text": [
      "{'Addr': '192.168.99.102', 'State': 'ready'}\n",
      "{'Addr': '192.168.99.100', 'State': 'ready'}\n",
      "{'Addr': '192.168.99.101', 'State': 'ready'}\n"
     ]
    }
   ],
   "source": [
    "for node in swmaster1.nodes.list():\n",
    "    pp.pprint(node.attrs['Status'])"
   ]
  },
  {
   "cell_type": "markdown",
   "metadata": {},
   "source": [
    "# start service\n",
    "\n",
    "First we check for any running services - there should be none in our newly initialized cluster:"
   ]
  },
  {
   "cell_type": "code",
   "execution_count": 68,
   "metadata": {},
   "outputs": [
    {
     "data": {
      "text/plain": [
       "[]"
      ]
     },
     "execution_count": 68,
     "metadata": {},
     "output_type": "execute_result"
    }
   ],
   "source": [
    "swmaster1.services.list()"
   ]
  },
  {
   "cell_type": "markdown",
   "metadata": {},
   "source": [
    "Now we will create a new service based on the docker image mariolet/docker-demo\n",
    "\n",
    "We will expose this service on port 8080\n"
   ]
  },
  {
   "cell_type": "code",
   "execution_count": 69,
   "metadata": {
    "collapsed": true
   },
   "outputs": [],
   "source": [
    "swmaster1.services.create??"
   ]
  },
  {
   "cell_type": "code",
   "execution_count": 70,
   "metadata": {
    "collapsed": true
   },
   "outputs": [],
   "source": [
    "docker.types.ContainerSpec?"
   ]
  },
  {
   "cell_type": "markdown",
   "metadata": {},
   "source": [
    "## Create a service\n",
    "\n",
    "Now let us use the Client API to create a new service\n",
    "\n",
    "Note how we create ContainerSpec and TaskTemplate types wich we pass to the Client.Services.create() method\n",
    "\n",
    "Here is a first version, which launches an alpine image which runs for 60 seconds:"
   ]
  },
  {
   "cell_type": "code",
   "execution_count": 71,
   "metadata": {
    "collapsed": true
   },
   "outputs": [],
   "source": [
    "IMAGE = 'alpine'\n",
    "\n",
    "container_spec = docker.types.ContainerSpec(\n",
    "    IMAGE, ['echo', 'hello']\n",
    ")\n",
    "\n",
    "\"\"\"\n",
    "endpoint_spec = docker.types.EndpointSpec(ports={\n",
    "    12357: (1990, 'udp'),\n",
    "    12562: (678,),\n",
    "    53243: 8080,\n",
    "})\n",
    "\"\"\"\n",
    "endpoint_spec = docker.types.EndpointSpec(ports={\n",
    "    8080: 8080,\n",
    "})\n",
    "\n",
    "task_tmpl = docker.types.TaskTemplate(container_spec)"
   ]
  },
  {
   "cell_type": "code",
   "execution_count": 72,
   "metadata": {
    "collapsed": true
   },
   "outputs": [],
   "source": [
    "swmaster1.services.create??"
   ]
  },
  {
   "cell_type": "code",
   "execution_count": 73,
   "metadata": {
    "collapsed": true
   },
   "outputs": [],
   "source": [
    "#swmaster1.services.create(task_tmpl, name='docker-demo', endpoint_spec=endpoint_spec)\n",
    "\n",
    "service = swmaster1.services.create(\n",
    "            # create arguments\n",
    "            name='alpine-test',\n",
    "            labels={'foo': 'bar'},\n",
    "            # ContainerSpec arguments\n",
    "            image=IMAGE,\n",
    "            command=\"sleep 60\",\n",
    "            container_labels={'container': 'label'}\n",
    "        )"
   ]
  },
  {
   "cell_type": "code",
   "execution_count": 75,
   "metadata": {},
   "outputs": [
    {
     "name": "stdout",
     "output_type": "stream",
     "text": [
      "Sleeping ...\r\n"
     ]
    }
   ],
   "source": [
    "print( swmaster1.services.list() )\n",
    "\n",
    "!echo \"Sleeping ...\"; sleep 70"
   ]
  },
  {
   "cell_type": "markdown",
   "metadata": {},
   "source": [
    "after 1 min ...\n",
    "\n",
    "We might expect that after 1 minute, the service is no longer running.\n",
    "\n",
    "But in fact adter 1 minute although the container running the sleep command stops the service is still running and recognizing that the container exited it will restart a new container (\"*task*\") for this service\n"
   ]
  },
  {
   "cell_type": "code",
   "execution_count": 76,
   "metadata": {},
   "outputs": [
    {
     "name": "stdout",
     "output_type": "stream",
     "text": [
      "[<Service: o14xis3t7o>]\n"
     ]
    }
   ],
   "source": [
    "print( swmaster1.services.list() )\n"
   ]
  },
  {
   "cell_type": "code",
   "execution_count": 80,
   "metadata": {},
   "outputs": [
    {
     "name": "stdout",
     "output_type": "stream",
     "text": [
      "Service=<Service: o14xis3t7o>\n",
      "\n",
      "Service attributes={'ID': 'o14xis3t7o1zll2dqetdmbbs8', 'Version': {'Index': 20}, 'CreatedAt': '2017-05-11T11:50:05.882172836Z', 'UpdatedAt': '2017-05-11T11:50:05.882172836Z', 'Spec': {'Name': 'alpine-test', 'Labels': {'foo': 'bar'}, 'TaskTemplate': {'ContainerSpec': {'Image': 'alpine:latest@sha256:c0537ff6a5218ef531ece93d4984efc99bbf3f7497c0a7726c88e2bb7584dc96', 'Labels': {'container': 'label'}, 'Command': ['sleep', '60']}, 'ForceUpdate': 0}, 'Mode': {'Replicated': {'Replicas': 1}}}, 'Endpoint': {'Spec': {}}}\n",
      "\n",
      "Tasks associated with the service:\n",
      "\n",
      "---- Task:\n",
      "{   'CreatedAt': '2017-05-11T11:53:26.064688844Z',\n",
      "    'DesiredState': 'shutdown',\n",
      "    'ID': '50w8m7oeqymga4zqstgltnd9u',\n",
      "    'Labels': {},\n",
      "    'NodeID': 'hyg7lucp604tvmgns77bo2a0i',\n",
      "    'ServiceID': 'o14xis3t7o1zll2dqetdmbbs8',\n",
      "    'Slot': 1,\n",
      "    'Spec': {   'ContainerSpec': {   'Command': ['sleep', '60'],\n",
      "                                     'Image': 'alpine:latest@sha256:c0537ff6a5218ef531ece93d4984efc99bbf3f7497c0a7726c88e2bb7584dc96',\n",
      "                                     'Labels': {'container': 'label'}},\n",
      "                'ForceUpdate': 0},\n",
      "    'Status': {   'ContainerStatus': {   'ContainerID': 'e03ccb57c12b412545ccf48a082431294a06a39b30e20b62d9bf7dd337956e4b'},\n",
      "                  'Message': 'finished',\n",
      "                  'PortStatus': {},\n",
      "                  'State': 'complete',\n",
      "                  'Timestamp': '2017-05-11T11:54:31.588096001Z'},\n",
      "    'UpdatedAt': '2017-05-11T11:54:31.890746992Z',\n",
      "    'Version': {'Index': 58}}\n",
      "\n",
      "---- Task:\n",
      "{   'CreatedAt': '2017-05-11T11:54:31.68681264Z',\n",
      "    'DesiredState': 'running',\n",
      "    'ID': 'be5hpa96rvxreigvc1jroiuc9',\n",
      "    'Labels': {},\n",
      "    'NodeID': 'hyg7lucp604tvmgns77bo2a0i',\n",
      "    'ServiceID': 'o14xis3t7o1zll2dqetdmbbs8',\n",
      "    'Slot': 1,\n",
      "    'Spec': {   'ContainerSpec': {   'Command': ['sleep', '60'],\n",
      "                                     'Image': 'alpine:latest@sha256:c0537ff6a5218ef531ece93d4984efc99bbf3f7497c0a7726c88e2bb7584dc96',\n",
      "                                     'Labels': {'container': 'label'}},\n",
      "                'ForceUpdate': 0},\n",
      "    'Status': {   'ContainerStatus': {   'ContainerID': '8294b0dba72239347beef7d7aeae6d4897e08f15a3c69f30ce69488961d7f21d',\n",
      "                                         'PID': 5515},\n",
      "                  'Message': 'started',\n",
      "                  'PortStatus': {},\n",
      "                  'State': 'running',\n",
      "                  'Timestamp': '2017-05-11T11:54:37.093117716Z'},\n",
      "    'UpdatedAt': '2017-05-11T11:54:37.142935132Z',\n",
      "    'Version': {'Index': 62}}\n",
      "\n",
      "---- Task:\n",
      "{   'CreatedAt': '2017-05-11T11:50:05.889092627Z',\n",
      "    'DesiredState': 'shutdown',\n",
      "    'ID': 'o7nang5he531a1hvlybwpsm47',\n",
      "    'Labels': {},\n",
      "    'NodeID': 'hyg7lucp604tvmgns77bo2a0i',\n",
      "    'ServiceID': 'o14xis3t7o1zll2dqetdmbbs8',\n",
      "    'Slot': 1,\n",
      "    'Spec': {   'ContainerSpec': {   'Command': ['sleep', '60'],\n",
      "                                     'Image': 'alpine:latest@sha256:c0537ff6a5218ef531ece93d4984efc99bbf3f7497c0a7726c88e2bb7584dc96',\n",
      "                                     'Labels': {'container': 'label'}},\n",
      "                'ForceUpdate': 0},\n",
      "    'Status': {   'ContainerStatus': {   'ContainerID': '5d4d31e3080a3e635ce81e8824a18443fcca7c0a9a141d47ee3afcaa5398345b'},\n",
      "                  'Message': 'finished',\n",
      "                  'PortStatus': {},\n",
      "                  'State': 'complete',\n",
      "                  'Timestamp': '2017-05-11T11:51:13.062302967Z'},\n",
      "    'UpdatedAt': '2017-05-11T11:51:13.339603562Z',\n",
      "    'Version': {'Index': 31}}\n",
      "\n",
      "---- Task:\n",
      "{   'CreatedAt': '2017-05-11T11:51:13.13758144Z',\n",
      "    'DesiredState': 'shutdown',\n",
      "    'ID': 'p4qsoj2n2uk2sit5h7gq8zzsj',\n",
      "    'Labels': {},\n",
      "    'NodeID': 'g3evkow9ylaq10z45nyic8x06',\n",
      "    'ServiceID': 'o14xis3t7o1zll2dqetdmbbs8',\n",
      "    'Slot': 1,\n",
      "    'Spec': {   'ContainerSpec': {   'Command': ['sleep', '60'],\n",
      "                                     'Image': 'alpine:latest@sha256:c0537ff6a5218ef531ece93d4984efc99bbf3f7497c0a7726c88e2bb7584dc96',\n",
      "                                     'Labels': {'container': 'label'}},\n",
      "                'ForceUpdate': 0},\n",
      "    'Status': {   'ContainerStatus': {   'ContainerID': '9e2e05756223203bf57d2edff135075df10bb62e59f68c58faf90876e4acf40e'},\n",
      "                  'Message': 'finished',\n",
      "                  'PortStatus': {},\n",
      "                  'State': 'complete',\n",
      "                  'Timestamp': '2017-05-11T11:52:20.411041821Z'},\n",
      "    'UpdatedAt': '2017-05-11T11:52:20.6240241Z',\n",
      "    'Version': {'Index': 40}}\n",
      "\n",
      "---- Task:\n",
      "{   'CreatedAt': '2017-05-11T11:52:20.410350865Z',\n",
      "    'DesiredState': 'shutdown',\n",
      "    'ID': 'uwmxeltxunmkmd9ddaexeyecz',\n",
      "    'Labels': {},\n",
      "    'NodeID': 'hyg7lucp604tvmgns77bo2a0i',\n",
      "    'ServiceID': 'o14xis3t7o1zll2dqetdmbbs8',\n",
      "    'Slot': 1,\n",
      "    'Spec': {   'ContainerSpec': {   'Command': ['sleep', '60'],\n",
      "                                     'Image': 'alpine:latest@sha256:c0537ff6a5218ef531ece93d4984efc99bbf3f7497c0a7726c88e2bb7584dc96',\n",
      "                                     'Labels': {'container': 'label'}},\n",
      "                'ForceUpdate': 0},\n",
      "    'Status': {   'ContainerStatus': {   'ContainerID': 'ded609c63654454e781c6c8033289e7eb7193123b7c1646f9008f669ef071179'},\n",
      "                  'Message': 'finished',\n",
      "                  'PortStatus': {},\n",
      "                  'State': 'complete',\n",
      "                  'Timestamp': '2017-05-11T11:53:25.994457342Z'},\n",
      "    'UpdatedAt': '2017-05-11T11:53:26.28008028Z',\n",
      "    'Version': {'Index': 49}}\n"
     ]
    }
   ],
   "source": [
    "service = swmaster1.services.list()[0]\n",
    "print(\"Service=\" + str(service) )\n",
    "service_id = service.id\n",
    "\n",
    "print(\"\\nService attributes=\" + str(service.attrs) )\n",
    "\n",
    "print(\"\\nTasks associated with the service:\")\n",
    "for task in service.tasks():\n",
    "    print(\"\\n---- Task:\")\n",
    "    pp.pprint(task)\n"
   ]
  },
  {
   "cell_type": "code",
   "execution_count": 81,
   "metadata": {},
   "outputs": [
    {
     "data": {
      "text/plain": [
       "[<Container: 8294b0dba7>]"
      ]
     },
     "execution_count": 81,
     "metadata": {},
     "output_type": "execute_result"
    }
   ],
   "source": [
    "swmaster1.containers.list()"
   ]
  },
  {
   "cell_type": "markdown",
   "metadata": {},
   "source": [
    "Now let's remove this service, before creating other services"
   ]
  },
  {
   "cell_type": "code",
   "execution_count": null,
   "metadata": {
    "collapsed": true
   },
   "outputs": [],
   "source": [
    "service.remove()"
   ]
  },
  {
   "cell_type": "code",
   "execution_count": 84,
   "metadata": {},
   "outputs": [
    {
     "name": "stdout",
     "output_type": "stream",
     "text": [
      "Running containers on master node:[]\n",
      "Running services on master node:[]\n"
     ]
    }
   ],
   "source": [
    "print(\"Running containers on master node:\" + str(swmaster1.containers.list()) )\n",
    "\n",
    "print(\"Running services on master node:\" + str(swmaster1.services.list()))\n",
    "\n",
    "#swmaster1.services.create(image=IMAGE, name='docker-demo', labels={'label1': 'label2'}, command=None)"
   ]
  },
  {
   "cell_type": "markdown",
   "metadata": {
    "collapsed": true
   },
   "source": [
    "# Launching \"*docker-demo*\" as a service"
   ]
  },
  {
   "cell_type": "code",
   "execution_count": 85,
   "metadata": {
    "collapsed": true
   },
   "outputs": [],
   "source": [
    "IMAGE = 'mariolet/docker-demo:20'\n",
    "IMAGE = 'mjbright/docker-demo:20'\n",
    "\n",
    "container_spec = docker.types.ContainerSpec(\n",
    "    IMAGE, ['echo', 'hello']\n",
    ")\n",
    "\n",
    "endpoint_spec = docker.types.EndpointSpec(ports={\n",
    "    8080: 8080,\n",
    "})\n",
    "\n",
    "\n",
    "task_tmpl = docker.types.TaskTemplate(container_spec)\n",
    "\n",
    "docker_demo_service = swmaster1.services.create(\n",
    "            # create arguments\n",
    "            name='docker-demo',\n",
    "            labels={'label1': 'value1'},\n",
    "            # ContainerSpec arguments\n",
    "            image=IMAGE,\n",
    "            #command=\"sleep 60\",\n",
    "            container_labels={'container': 'label'},\n",
    "    endpoint_spec=endpoint_spec\n",
    "        )\n"
   ]
  },
  {
   "cell_type": "code",
   "execution_count": null,
   "metadata": {
    "collapsed": true
   },
   "outputs": [],
   "source": [
    "#BUT PORTS NOT SHOWING:\n",
    "    \n",
    "#!. /home/mjb/.docker.rc; docker $(docker-machine config swmaster1) service ps docker-demo"
   ]
  },
  {
   "cell_type": "code",
   "execution_count": null,
   "metadata": {
    "collapsed": true
   },
   "outputs": [],
   "source": [
    "#!. /home/mjb/.docker.rc; docker $(docker-machine config swmaster1) service create --replicas 1 --name docker-demo-via-cli -p 9090:8080 mariolet/docker-demo:20"
   ]
  },
  {
   "cell_type": "code",
   "execution_count": null,
   "metadata": {
    "collapsed": true
   },
   "outputs": [],
   "source": [
    "#!. /home/mjb/.docker.rc; docker $(docker-machine config swmaster1) service ps docker-demo-via-cli\n",
    "#!. /home/mjb/.docker.rc; docker $(docker-machine config swmaster1) service rm docker-demo-via-cli"
   ]
  },
  {
   "cell_type": "markdown",
   "metadata": {},
   "source": [
    "Now we list services again and we should see our newly added docker-demo service"
   ]
  },
  {
   "cell_type": "code",
   "execution_count": 86,
   "metadata": {},
   "outputs": [
    {
     "data": {
      "text/plain": [
       "[<Service: njmzhx2jig>]"
      ]
     },
     "execution_count": 86,
     "metadata": {},
     "output_type": "execute_result"
    }
   ],
   "source": [
    "swmaster1.services.list()"
   ]
  },
  {
   "cell_type": "code",
   "execution_count": 88,
   "metadata": {},
   "outputs": [
    {
     "name": "stdout",
     "output_type": "stream",
     "text": [
      "<Service: njmzhx2jig>: docker-demo\n"
     ]
    }
   ],
   "source": [
    "def showServices(master):\n",
    "    for service in master.services.list():\n",
    "        print(\"{}: {}\".format(service, service.name))\n",
    "\n",
    "showServices(swmaster1)\n",
    "\n",
    "service = swmaster1.services.list()[0]\n",
    "service_id = service.id"
   ]
  },
  {
   "cell_type": "code",
   "execution_count": 89,
   "metadata": {
    "collapsed": true
   },
   "outputs": [],
   "source": [
    "#wmaster1.services.get(service_id=service_id).remove()\n",
    "#howServices(swmaster1)"
   ]
  },
  {
   "cell_type": "markdown",
   "metadata": {},
   "source": [
    "... and we can look at the service as seen by the cluster:"
   ]
  },
  {
   "cell_type": "code",
   "execution_count": 90,
   "metadata": {},
   "outputs": [
    {
     "name": "stdout",
     "output_type": "stream",
     "text": [
      "ID                  NAME                IMAGE                     NODE                DESIRED STATE       CURRENT STATE           ERROR               PORTS\r\n",
      "60ha6jldk92k        docker-demo.1       mjbright/docker-demo:20   swmaster1           Running             Running 2 minutes ago                       \r\n"
     ]
    }
   ],
   "source": [
    "!docker $(docker-machine config swmaster1) service ps docker-demo"
   ]
  },
  {
   "cell_type": "markdown",
   "metadata": {},
   "source": [
    "... and we can look at the service on the individual cluster nodes.\n",
    "\n",
    "Of course as we set replicas to 1 there is only 1 replica of the service for the moment, running on just 1 node of our cluster:"
   ]
  },
  {
   "cell_type": "code",
   "execution_count": 93,
   "metadata": {},
   "outputs": [
    {
     "data": {
      "text/plain": [
       "[{'CreatedAt': '2017-05-11T11:58:05.371512356Z',\n",
       "  'DesiredState': 'running',\n",
       "  'ID': '60ha6jldk92kfnchom2jqqksm',\n",
       "  'Labels': {},\n",
       "  'NetworksAttachments': [{'Addresses': ['10.255.0.6/16'],\n",
       "    'Network': {'CreatedAt': '2017-05-11T11:43:05.297479542Z',\n",
       "     'DriverState': {'Name': 'overlay',\n",
       "      'Options': {'com.docker.network.driver.overlay.vxlanid_list': '4096'}},\n",
       "     'ID': '8fhgsmcv2iy7bcipmkbz3isef',\n",
       "     'IPAMOptions': {'Configs': [{'Gateway': '10.255.0.1',\n",
       "        'Subnet': '10.255.0.0/16'}],\n",
       "      'Driver': {'Name': 'default'}},\n",
       "     'Spec': {'DriverConfiguration': {},\n",
       "      'IPAMOptions': {'Configs': [{'Gateway': '10.255.0.1',\n",
       "         'Subnet': '10.255.0.0/16'}],\n",
       "       'Driver': {}},\n",
       "      'Ingress': True,\n",
       "      'Labels': {},\n",
       "      'Name': 'ingress'},\n",
       "     'UpdatedAt': '2017-05-11T11:43:05.312000038Z',\n",
       "     'Version': {'Index': 6}}}],\n",
       "  'NodeID': 'hyg7lucp604tvmgns77bo2a0i',\n",
       "  'ServiceID': 'njmzhx2jigtzclppokkpya0ts',\n",
       "  'Slot': 1,\n",
       "  'Spec': {'ContainerSpec': {'Image': 'mjbright/docker-demo:20@sha256:fdfb575bdfda156d5b06c7994deb770aac0efdacc3c91f285a35da8582772487',\n",
       "    'Labels': {'container': 'label'}},\n",
       "   'ForceUpdate': 0},\n",
       "  'Status': {'ContainerStatus': {'ContainerID': 'a357132e3f55fe0d375811f36c299f75185298134e0c093ca78c662e8fa39464',\n",
       "    'PID': 6040},\n",
       "   'Message': 'started',\n",
       "   'PortStatus': {},\n",
       "   'State': 'running',\n",
       "   'Timestamp': '2017-05-11T11:58:13.896639037Z'},\n",
       "  'UpdatedAt': '2017-05-11T11:58:13.948900119Z',\n",
       "  'Version': {'Index': 82}}]"
      ]
     },
     "execution_count": 93,
     "metadata": {},
     "output_type": "execute_result"
    }
   ],
   "source": [
    "service = swmaster1.services.list()[0]\n",
    "\n",
    "service.tasks()"
   ]
  },
  {
   "cell_type": "code",
   "execution_count": 96,
   "metadata": {},
   "outputs": [
    {
     "name": "stdout",
     "output_type": "stream",
     "text": [
      "tasks(containers) running on node swmaster1:[<Container: a357132e3f>]\n",
      "tasks(containers) running on node swnode1:[]\n",
      "tasks(containers) running on node swnode2:[]\n"
     ]
    }
   ],
   "source": [
    "print(\"tasks(containers) running on node swmaster1:\" + str(swmaster1.containers.list()) )\n",
    "print(\"tasks(containers) running on node swnode1:\" + str(swnode1.containers.list()) )\n",
    "print(\"tasks(containers) running on node swnode2:\" + str(swnode2.containers.list()) )"
   ]
  },
  {
   "cell_type": "code",
   "execution_count": 97,
   "metadata": {},
   "outputs": [
    {
     "name": "stdout",
     "output_type": "stream",
     "text": [
      "CONTAINER ID        IMAGE               COMMAND             CREATED             STATUS              PORTS               NAMES\r\n"
     ]
    }
   ],
   "source": [
    "!docker $(docker-machine config swnode1) ps"
   ]
  },
  {
   "cell_type": "code",
   "execution_count": 98,
   "metadata": {},
   "outputs": [
    {
     "name": "stdout",
     "output_type": "stream",
     "text": [
      "CONTAINER ID        IMAGE               COMMAND             CREATED             STATUS              PORTS               NAMES\r\n"
     ]
    }
   ],
   "source": [
    "!docker $(docker-machine config swnode2) ps"
   ]
  },
  {
   "cell_type": "markdown",
   "metadata": {},
   "source": [
    "# Accessing the service\n",
    "\n",
    "As we are working remotely we need to create an ssh tunnel through to the swarm cluster to access our service, exposing the port 8080 on your local machine.\n",
    "\n",
    "We have the ip address of the swarm master node which we obtained from docker-machine:"
   ]
  },
  {
   "cell_type": "code",
   "execution_count": 100,
   "metadata": {},
   "outputs": [],
   "source": [
    "master1ip = m.ip(machine='swmaster1')"
   ]
  },
  {
   "cell_type": "markdown",
   "metadata": {},
   "source": [
    "Then open your web browser at the page http://<master1ip>:8080 (replace <master1ip>) and you should see a lovely blue whale, as below:\n",
    "\n",
    "![](images/docker.png)\n"
   ]
  },
  {
   "cell_type": "markdown",
   "metadata": {},
   "source": [
    "Alternatively we can obtain a textual representation on the command-line:"
   ]
  },
  {
   "cell_type": "code",
   "execution_count": 103,
   "metadata": {},
   "outputs": [
    {
     "name": "stdout",
     "output_type": "stream",
     "text": [
      "--2017-05-11 14:07:59--  http://192.168.99.100:8080/\r\n",
      "Connecting to 192.168.99.100:8080... connected.\r\n",
      "HTTP request sent, awaiting response... 200 OK\r\n",
      "Length: unspecified [text/txt]\r\n",
      "Saving to: ‘STDOUT’\r\n",
      "\r\n",
      "\r",
      "-                       [<=>                 ]       0  --.-KB/s               \r\n",
      "\r\n",
      "\u001b[1;36m\r\n",
      "                                                .---------.                                          \r\n",
      "                                               .///++++/:.                                          \r\n",
      "                                               .///+++//:.                                          \r\n",
      "                                               .///+++//:.                                          \r\n",
      "                             ``````````````````.:///////:.                       `                  \r\n",
      "                             .-///////:://+++//::///////-.                      .--.                \r\n",
      "                             .:::///:::///+++///:::///:::.                     .:ss+-`              \r\n",
      "                             .:::///:::///+++///:::///:::.                    `.ossss:.             \r\n",
      "                             .:///////:/+++oo++/:///////:.                    .-ssssss:.            \r\n",
      "                    .-:::::::--///////--:::::::--///////--:::::::-.           `-sssssso.........``  \r\n",
      "                    .::////:::://+++///:::///:::///+++//:/::////::.           `.+ssssss/++ooooo+/:.`\r\n",
      "                    .::////:::://+++///:::///:::///+++//:/::////::.            `.+sssooooooooooo/-` \r\n",
      "                    .::////:::://+++///:::///:::///+++//:/::////::.           ``.:osoooooooo+/:-.`  \r\n",
      "            ````````.-:::::::--///////--:::::::-:///////--:::::::-.``````...-:/+ssoo+:-----..``     \r\n",
      "            .-+++oooooooooooooooooooooooooooooooooooooooooooooooooooooooosssssssoooo-.              \r\n",
      "      `     .-ooossssssssssssssssssssssss+ssssssssssssssssossssssssssssssssssoooooo:.        `      \r\n",
      "    ``...```.-+++++/:--/+oosssssssoo++/:-.-:+oosssssso+/:..-:/+oossssssssoo+:--://-.`   ```...`     \r\n",
      " ````````````.-:::::::::::::::::::::::::::::::::::::::::::::::::::::::::::::::::-..```````````````  \r\n",
      "             .-////++++++++++++++++++++++++++++++++++++++++++++++++++//////////:.`                  \r\n",
      "             `.:////++++++++++++++++oss+++++++++++++++++++++++++++///////////:-.                    \r\n",
      "              `.:////++++++++++++++os.+h+++++++++++++++++++++++/////////////-.`                     \r\n",
      "               `.://///++++++++++//+soos+++++++++++++++++++///////////////-.`                       \r\n",
      "                `.--------:::://+o/+++++++++++++++++++/////////////////:-.`                         \r\n",
      "                  `-sdmmmmmmmNNNNNmo+++++++++++/////////////////////:-.``                           \r\n",
      "                    `-+hmmmmmmmmmmmms///////////////////////////::-.``                              \r\n",
      "                      ``-+ydmmmmmmmmmds////////////////////::--.``                                  \r\n",
      "                         ``.-/oshdmmmmmmho+////////::::--..```                                      \r\n",
      "                              ````..-:::///---.....````                                             \r\n",
      "\r\n",
      "\u001b[0m\r\n",
      "\r\n",
      "\u001b[1;33mServed from host a357132e3f55\u001b[0;0m\r\n",
      "\r",
      "-                       [ <=>                ]   2.82K  --.-KB/s    in 0s      \r\n",
      "\r\n",
      "2017-05-11 14:07:59 (13.3 MB/s) - written to stdout [2889]\r\n",
      "\r\n"
     ]
    }
   ],
   "source": [
    "!wget -O - http://$master1ip:8080"
   ]
  },
  {
   "cell_type": "markdown",
   "metadata": {},
   "source": [
    "# TODO: scale service\n",
    "\n",
    "Now we can scale the service to 3 replicas:"
   ]
  },
  {
   "cell_type": "code",
   "execution_count": null,
   "metadata": {
    "collapsed": true
   },
   "outputs": [],
   "source": [
    "docker $(docker-machine config swmaster) service scale docker-demo=3"
   ]
  },
  {
   "cell_type": "code",
   "execution_count": null,
   "metadata": {
    "collapsed": true
   },
   "outputs": [],
   "source": [
    "docker $(docker-machine config swmaster) service ps docker-demo"
   ]
  },
  {
   "cell_type": "markdown",
   "metadata": {},
   "source": [
    "# TODO: rolling-update\n",
    "\n",
    "Now we will see how we can perform a rolling update.\n",
    "\n",
    "We initially deployed version 20 of the service, now we will upgrade our whole cluster to version 20 \n"
   ]
  },
  {
   "cell_type": "code",
   "execution_count": null,
   "metadata": {
    "collapsed": true
   },
   "outputs": [],
   "source": [
    "docker $(docker-machine config swmaster) service ps docker-demo"
   ]
  },
  {
   "cell_type": "code",
   "execution_count": null,
   "metadata": {
    "collapsed": true
   },
   "outputs": [],
   "source": [
    "docker $(docker-machine config swmaster) service update --image mariolet/docker-demo:21 docker-demo"
   ]
  },
  {
   "cell_type": "code",
   "execution_count": null,
   "metadata": {
    "collapsed": true
   },
   "outputs": [],
   "source": [
    "docker $(docker-machine config swmaster) service ps docker-demo"
   ]
  },
  {
   "cell_type": "code",
   "execution_count": null,
   "metadata": {
    "collapsed": true
   },
   "outputs": [],
   "source": [
    "docker $(docker-machine config swmaster) service ps docker-demo"
   ]
  },
  {
   "cell_type": "markdown",
   "metadata": {},
   "source": [
    "### Verifying the service has been updated\n",
    "\n",
    "Then open your web browser at the page http://localhost:8080 and you should now see a lovely **red** whale.\n",
    "\n",
    "\n",
    "![](images/docker_red.png)\n",
    "\n"
   ]
  },
  {
   "cell_type": "markdown",
   "metadata": {},
   "source": [
    "# TODO:  drain a node\n",
    "\n",
    "We can drain a node effectively placing it in 'maintenance mode'.\n",
    "\n",
    "Draining a node means that it no longer has running tasks on it."
   ]
  },
  {
   "cell_type": "code",
   "execution_count": null,
   "metadata": {
    "collapsed": true
   },
   "outputs": [],
   "source": [
    "docker $(docker-machine config swmaster) node ls"
   ]
  },
  {
   "cell_type": "markdown",
   "metadata": {},
   "source": [
    "Let's drain swnode1"
   ]
  },
  {
   "cell_type": "code",
   "execution_count": null,
   "metadata": {
    "collapsed": true
   },
   "outputs": [],
   "source": [
    "docker $(docker-machine config swmaster) service ps docker-demo"
   ]
  },
  {
   "cell_type": "code",
   "execution_count": null,
   "metadata": {
    "collapsed": true
   },
   "outputs": [],
   "source": [
    "docker $(docker-machine config swmaster) node update --availability drain swnode1"
   ]
  },
  {
   "cell_type": "markdown",
   "metadata": {},
   "source": [
    "and now we see that all services on swnode1 are shutdown"
   ]
  },
  {
   "cell_type": "code",
   "execution_count": null,
   "metadata": {
    "collapsed": true
   },
   "outputs": [],
   "source": [
    "docker $(docker-machine config swmaster) service ps docker-demo"
   ]
  },
  {
   "cell_type": "code",
   "execution_count": null,
   "metadata": {
    "collapsed": true
   },
   "outputs": [],
   "source": [
    "docker $(docker-machine config swmaster) service ps docker-demo"
   ]
  },
  {
   "cell_type": "markdown",
   "metadata": {},
   "source": [
    "# TODO:  remove a service\n",
    "\n",
    "Now let's cleanup by removing our service"
   ]
  },
  {
   "cell_type": "code",
   "execution_count": null,
   "metadata": {
    "collapsed": true
   },
   "outputs": [],
   "source": [
    "docker $(docker-machine config swmaster) service rm docker-demo"
   ]
  },
  {
   "cell_type": "markdown",
   "metadata": {},
   "source": [
    "We can check that the service is no longer running:"
   ]
  },
  {
   "cell_type": "code",
   "execution_count": null,
   "metadata": {
    "collapsed": true
   },
   "outputs": [],
   "source": [
    "docker $(docker-machine config swmaster) service ps docker-demo"
   ]
  },
  {
   "cell_type": "code",
   "execution_count": null,
   "metadata": {
    "collapsed": true
   },
   "outputs": [],
   "source": [
    "docker $(docker-machine config swmaster) ps"
   ]
  },
  {
   "cell_type": "markdown",
   "metadata": {
    "collapsed": true
   },
   "source": [
    "# TODO: deploy a stack"
   ]
  },
  {
   "cell_type": "markdown",
   "metadata": {
    "collapsed": true
   },
   "source": [
    "# TODO: working with networks"
   ]
  },
  {
   "cell_type": "markdown",
   "metadata": {
    "collapsed": true
   },
   "source": [
    "# TODO: working with volumes"
   ]
  },
  {
   "cell_type": "markdown",
   "metadata": {
    "collapsed": true
   },
   "source": [
    "# TODO: deploy a stack"
   ]
  },
  {
   "cell_type": "code",
   "execution_count": null,
   "metadata": {
    "collapsed": true
   },
   "outputs": [],
   "source": []
  }
 ],
 "metadata": {
  "anaconda-cloud": {},
  "kernelspec": {
   "display_name": "Python 3",
   "language": "python",
   "name": "python3"
  },
  "language_info": {
   "codemirror_mode": {
    "name": "ipython",
    "version": 3
   },
   "file_extension": ".py",
   "mimetype": "text/x-python",
   "name": "python",
   "nbconvert_exporter": "python",
   "pygments_lexer": "ipython3",
   "version": "3.6.1"
  }
 },
 "nbformat": 4,
 "nbformat_minor": 1
}
