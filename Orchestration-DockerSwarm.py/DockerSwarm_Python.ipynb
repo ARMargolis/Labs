{
 "cells": [
  {
   "cell_type": "markdown",
   "metadata": {},
   "source": [
    "# Docker-Python \"Swarm Mode\" Lab\n",
    "\n",
    "Based on Mario's gist here: https://gist.github.com/l0rd/5186cc80f8f26dc7e9490abca4405830"
   ]
  },
  {
   "cell_type": "markdown",
   "metadata": {},
   "source": [
    "# Requirements\n",
    "- Docker >= 1.12 (docker-17.05-ce recommended)\n",
    "- Docker machine\n",
    "- Virtualbox\n",
    "\n",
    "# Setup\n",
    "\n",
    "## Install docker and docker-machine modules\n",
    "\n",
    "## NOTE:\n",
    "#### python-docker-machine installed from https://github.com/mjbright/python-docker-machine\n",
    "\n",
    "Simple modification to depend upon 'docker' not 'docker-py'.\n",
    "\n",
    "Installed using\n",
    "\n",
    "'''python setup.py install'''\n"
   ]
  },
  {
   "cell_type": "code",
   "execution_count": 139,
   "metadata": {
    "collapsed": true
   },
   "outputs": [],
   "source": [
    "import pprint\n",
    "\n",
    "pp = pprint.PrettyPrinter(indent=4)"
   ]
  },
  {
   "cell_type": "markdown",
   "metadata": {},
   "source": [
    "## Check that docker is installed, but not docker-py !!"
   ]
  },
  {
   "cell_type": "code",
   "execution_count": 138,
   "metadata": {},
   "outputs": [
    {
     "name": "stdout",
     "output_type": "stream",
     "text": [
      "/home/mjb/usr/anaconda3/bin/pip\n",
      "docker                             2.2.1      \n",
      "docker-pycreds                     0.2.1      \n",
      "python-docker-machine              0.2.2      \n",
      "docker-pycreds                     0.2.1      \n"
     ]
    }
   ],
   "source": [
    "!which pip\n",
    "!pip list --format=columns | grep -i docker\n",
    "\n",
    "!pip list --format=columns | grep docker-py || echo -e \"\\n\\n**** ERROR: you have Docker-py installed!!\""
   ]
  },
  {
   "cell_type": "code",
   "execution_count": 140,
   "metadata": {},
   "outputs": [
    {
     "name": "stdout",
     "output_type": "stream",
     "text": [
      "docker module version=2.2.1\n"
     ]
    }
   ],
   "source": [
    "import docker\n",
    "\n",
    "EXPECT_DOCKER_VERSION='2.2.1'\n",
    "\n",
    "print(\"docker module version=\" + docker.version)\n",
    "\n",
    "if docker.version != EXPECT_DOCKER_VERSION:\n",
    "    print(\"\\n\\nERROR: Bad docker.py version: {} != expected {}\".format(docker.version, EXPECT_DOCKER_VERSION))\n",
    "  "
   ]
  },
  {
   "cell_type": "markdown",
   "metadata": {},
   "source": [
    "# Creating a Docker client connection to the Docker engine\n",
    "\n",
    "During this lab we will use the installed Docker Client to talk to your Docker hosts.\n",
    "\n",
    "Those hosts may be running \n",
    "- locally      controlled via docker-machine\n",
    "- in the cloud controlled via docker-machine\n",
    "- under Docker Toolbox controlled via docker-machine (https://docs.docker.com/machine/get-started/#create-a-machine)\n",
    "- under Docker For Windows, controlled via docker-machine (https://docs.docker.com/docker-for-windows/#docker-settings)\n",
    "- Docker for Mac, where you will only be able to have a single-node swarm (unless bursting out to cloud)\n",
    "\n",
    "This notebook demonstrates the use of docker-machine to control the hosts.\n",
    "\n",
    "#### NOTE: The following command is specific to my environment as I have a special DOCKER_HOST value set:\n",
    "\n",
    "## Connection to a local Docker host\n",
    "\n",
    "#### NOTE: This is for information, in our lab we will obtain a client connection via the python-docker-machine module, see below."
   ]
  },
  {
   "cell_type": "code",
   "execution_count": 141,
   "metadata": {},
   "outputs": [
    {
     "name": "stdout",
     "output_type": "stream",
     "text": [
      "Setting up alias/DOCKER_HOST for 17.05.0-ce [/home/mjb/DOCKER/docker-17.05.0-ce]\r\n",
      "tcp://127.0.0.1:2475\r\n"
     ]
    }
   ],
   "source": [
    "!. ~/.docker.rc; ! echo $DOCKER_HOST"
   ]
  },
  {
   "cell_type": "markdown",
   "metadata": {},
   "source": [
    "#### NOTE: You may comment the 'DOCKER_HOST' lines below if you have no special configuration:"
   ]
  },
  {
   "cell_type": "code",
   "execution_count": 142,
   "metadata": {
    "collapsed": true
   },
   "outputs": [],
   "source": [
    "import docker, os\n",
    "\n",
    "# Use your DOCKER_HOST value here:\n",
    "DOCKER_HOST='tcp://127.0.0.1:2475'\n",
    "\n",
    "os.environ['DOCKER_HOST']=DOCKER_HOST\n",
    "\n",
    "# auto: use same api version as docker daemon\n",
    "client = docker.from_env(version='auto') #, url='tcp://127.0.0.1:2475')"
   ]
  },
  {
   "cell_type": "markdown",
   "metadata": {},
   "source": [
    "# Using python-docker-machine wrapper module\n",
    "\n",
    "Here we will describe use of this Python module which provides Python access to the 'docker-machine' executable on your machine\n",
    "\n",
    "### Referencing the docker-machine executable"
   ]
  },
  {
   "cell_type": "code",
   "execution_count": 143,
   "metadata": {
    "collapsed": true
   },
   "outputs": [],
   "source": [
    "import machine\n",
    "import docker\n",
    "\n",
    "m = machine.Machine(path=\"/usr/local/bin/docker-machine\")"
   ]
  },
  {
   "cell_type": "code",
   "execution_count": 144,
   "metadata": {},
   "outputs": [
    {
     "name": "stdout",
     "output_type": "stream",
     "text": [
      "<machine.machine.Machine object at 0x7f316a5ce080>\n"
     ]
    }
   ],
   "source": [
    "print(m)"
   ]
  },
  {
   "cell_type": "markdown",
   "metadata": {},
   "source": [
    "### Cleanup:  Delete any existing machines"
   ]
  },
  {
   "cell_type": "code",
   "execution_count": 145,
   "metadata": {},
   "outputs": [
    {
     "name": "stdout",
     "output_type": "stream",
     "text": [
      "Deleting node swmaster1\n",
      "Deleting node swnode1\n",
      "Deleting node swnode2\n"
     ]
    },
    {
     "data": {
      "text/plain": [
       "[{'Name': ''}]"
      ]
     },
     "execution_count": 145,
     "metadata": {},
     "output_type": "execute_result"
    }
   ],
   "source": [
    "# If you want to delete existing machines:\n",
    "# !docker-machine rm -f swmaster swnode1 swnode2\n",
    "\n",
    "DELETE_MACHINES=True\n",
    "if DELETE_MACHINES:\n",
    "    for node in m.ls():\n",
    "        if node['Name'] != '':\n",
    "            print(\"Deleting node \" + node['Name'])\n",
    "            m.rm(machine=node['Name'],force=True)\n",
    "            \n",
    "m.ls()"
   ]
  },
  {
   "cell_type": "markdown",
   "metadata": {},
   "source": [
    "### Creating a new machine\n",
    "\n",
    "If creating a machine in some cloud provider you will need to first export some appropriate token or subscription id as\n",
    "an appropriately named environment variable, e.g.\n",
    "- DIGITALOCEAN_ACCESS_TOKEN for DigitalOcean\n",
    "- AZURE_SUBSCRIPTION_ID for Microsoft Azure\n",
    "\n",
    "Refer to https://docs.docker.com/machine/get-started-cloud/ for information,\n",
    "\n",
    "and to https://docs.docker.com/machine/drivers/gce/ (select cloud provider in left-hand sidebar) for specifics.\n",
    "\n",
    "**WARNING**: You may need to \"logon\" to the platform before using the python-docker-machine otherwise the python-docker-machine module will block asking you to validate - but **you will not see that message** !\n",
    "\n",
    "## Examples:\n",
    "\n",
    "### Digital Ocean:  \n",
    "Set DIGITALOCEAN_ACCESS_TOKEN as an environment variable \n",
    "\n",
    "e.g.\n",
    "```\n",
    "     os.environ['DIGITALOCEAN_ACCESS_TOKEN']='MY-TOKEN'\n",
    "     m.create('swmaster1', driver='digitalocean', blocking=True)\n",
    "```\n",
    "\n",
    "### Azure:\n",
    "Set AZURE_SUBSCRIPTION_ID as an environment variable \n",
    "\n",
    "e.g.\n",
    "```\n",
    "    os.environ['AZURE_SUBSCRIPTION_ID']='MY-ID'\n",
    "    m.create('swmaster1', driver='azure', blocking=True)\n",
    "```\n",
    "\n",
    "### Google Compute Engine:\n",
    "Use \"gcloud auth login\"\n",
    "\n",
    "e.g.\n",
    "```\n",
    "     m.create('swmaster1', driver='google', blocking=True)\n",
    "```\n",
    "\n",
    "## Example of local machine creation\n",
    "\n",
    "Below is an example of machine creation on a local machine, to be adapted as above to run in the cloud"
   ]
  },
  {
   "cell_type": "code",
   "execution_count": 146,
   "metadata": {},
   "outputs": [
    {
     "data": {
      "text/plain": [
       "[{'Active': '-',\n",
       "  'ActiveHost': 'false',\n",
       "  'ActiveSwarm': 'false',\n",
       "  'DockerVersion': 'v17.05.0-ce',\n",
       "  'DriverName': 'virtualbox',\n",
       "  'Error': '',\n",
       "  'Name': 'test-machine',\n",
       "  'ResponseTime': '274ms',\n",
       "  'State': 'Running',\n",
       "  'Swarm': '',\n",
       "  'URL': 'tcp://192.168.99.100:2376'},\n",
       " {'Name': ''}]"
      ]
     },
     "execution_count": 146,
     "metadata": {},
     "output_type": "execute_result"
    }
   ],
   "source": [
    "m.create('test-machine', driver='virtualbox', blocking=True)\n",
    "\n",
    "m.ls()"
   ]
  },
  {
   "cell_type": "markdown",
   "metadata": {},
   "source": [
    "## Deletion of a local machine"
   ]
  },
  {
   "cell_type": "code",
   "execution_count": 147,
   "metadata": {},
   "outputs": [
    {
     "data": {
      "text/plain": [
       "[{'Name': ''}]"
      ]
     },
     "execution_count": 147,
     "metadata": {},
     "output_type": "execute_result"
    }
   ],
   "source": [
    "m.rm(machine='test-machine')\n",
    "\n",
    "m.ls()"
   ]
  },
  {
   "cell_type": "markdown",
   "metadata": {},
   "source": [
    "# Create nodes for your swarm cluster (1 master and 2 worker nodes)\n",
    "\n",
    "We will create 3 nodes using docker-machine/virtualbox."
   ]
  },
  {
   "cell_type": "code",
   "execution_count": 148,
   "metadata": {
    "collapsed": true
   },
   "outputs": [],
   "source": [
    "#### If not already created, we can create our machines here:\n",
    "\n",
    "import datetime\n",
    "import time\n",
    "import os\n",
    "\n",
    "# MACHINE_DRIVER='virtualbox'\n",
    "\n",
    "# FAILS on AZURE due to interactive validation required !\n",
    "#MACHINE_DRIVER='azure'\n",
    "#os.environ['AZURE_SUBSCRIPTION_ID']='azure-sub-id'\n",
    "\n",
    "MACHINE_DRIVER='digitalocean'\n",
    "#os.environ['DIGITALOCEAN_ACCESS_TOKEN']='my-token'\n",
    "\n",
    "#MASTER_NODES=['swmaster1']\n",
    "#WORKER_NODES=['swnode1','swnode2']\n",
    "\n",
    "MASTER_NODES=['swmaster1','swmaster2','swmaster3']\n",
    "WORKER_NODES=['swnode1','swnode2']"
   ]
  },
  {
   "cell_type": "code",
   "execution_count": 149,
   "metadata": {},
   "outputs": [
    {
     "name": "stdout",
     "output_type": "stream",
     "text": [
      "21:03:21 Creating node swmaster1 <on digitalocean> ...\n",
      "... took 135 secs\n",
      "21:05:36 Creating node swmaster2 <on digitalocean> ...\n",
      "... took 113 secs\n",
      "21:07:29 Creating node swmaster3 <on digitalocean> ...\n",
      "... took 139 secs\n",
      "21:09:48 Creating node swnode1 <on digitalocean> ...\n",
      "... took 113 secs\n",
      "21:11:41 Creating node swnode2 <on digitalocean> ...\n",
      "... took 139 secs\n"
     ]
    }
   ],
   "source": [
    "def createNodes(nodes):\n",
    "    for node in nodes:\n",
    "        NOW=datetime.datetime.now().strftime(\"%H:%M:%S\")\n",
    "        SECS_BEFORE=int(time.time())\n",
    "        print(\"{} Creating node {} <on {}> ...\".format(NOW, node, MACHINE_DRIVER))\n",
    "        m.create(node, driver=MACHINE_DRIVER, blocking=False)\n",
    "        SECS_AFTER=int(time.time())\n",
    "        print(\"... took {} secs\".format(SECS_AFTER-SECS_BEFORE))\n",
    "\n",
    "    \n",
    "CREATE_MACHINES=True\n",
    "if CREATE_MACHINES:\n",
    "    createNodes(MASTER_NODES + WORKER_NODES)"
   ]
  },
  {
   "cell_type": "markdown",
   "metadata": {},
   "source": [
    "#### NOTE:\n",
    "\n",
    "From the command-line you can see the progress of machine creation, using\n",
    "    ```$ docker-machine ls```\n",
    "    \n",
    "You may see errors during creation of machines before ssh connectivity is established and before docker host is started."
   ]
  },
  {
   "cell_type": "code",
   "execution_count": 150,
   "metadata": {},
   "outputs": [
    {
     "data": {
      "text/plain": [
       "[{'Active': '-',\n",
       "  'ActiveHost': 'false',\n",
       "  'ActiveSwarm': 'false',\n",
       "  'DockerVersion': 'v17.05.0-ce',\n",
       "  'DriverName': 'digitalocean',\n",
       "  'Error': '',\n",
       "  'Name': 'swmaster1',\n",
       "  'ResponseTime': '2.102s',\n",
       "  'State': 'Running',\n",
       "  'Swarm': '',\n",
       "  'URL': 'tcp://104.236.74.87:2376'},\n",
       " {'Active': '-',\n",
       "  'ActiveHost': 'false',\n",
       "  'ActiveSwarm': 'false',\n",
       "  'DockerVersion': 'v17.05.0-ce',\n",
       "  'DriverName': 'digitalocean',\n",
       "  'Error': '',\n",
       "  'Name': 'swmaster2',\n",
       "  'ResponseTime': '2.302s',\n",
       "  'State': 'Running',\n",
       "  'Swarm': '',\n",
       "  'URL': 'tcp://104.131.173.175:2376'},\n",
       " {'Active': '-',\n",
       "  'ActiveHost': 'false',\n",
       "  'ActiveSwarm': 'false',\n",
       "  'DockerVersion': 'v17.05.0-ce',\n",
       "  'DriverName': 'digitalocean',\n",
       "  'Error': '',\n",
       "  'Name': 'swmaster3',\n",
       "  'ResponseTime': '2.375s',\n",
       "  'State': 'Running',\n",
       "  'Swarm': '',\n",
       "  'URL': 'tcp://104.236.221.68:2376'},\n",
       " {'Active': '-',\n",
       "  'ActiveHost': 'false',\n",
       "  'ActiveSwarm': 'false',\n",
       "  'DockerVersion': 'v17.05.0-ce',\n",
       "  'DriverName': 'digitalocean',\n",
       "  'Error': '',\n",
       "  'Name': 'swnode1',\n",
       "  'ResponseTime': '2.228s',\n",
       "  'State': 'Running',\n",
       "  'Swarm': '',\n",
       "  'URL': 'tcp://104.236.29.189:2376'},\n",
       " {'Active': '-',\n",
       "  'ActiveHost': 'false',\n",
       "  'ActiveSwarm': 'false',\n",
       "  'DockerVersion': 'v17.05.0-ce',\n",
       "  'DriverName': 'digitalocean',\n",
       "  'Error': '',\n",
       "  'Name': 'swnode2',\n",
       "  'ResponseTime': '2.172s',\n",
       "  'State': 'Running',\n",
       "  'Swarm': '',\n",
       "  'URL': 'tcp://104.131.74.237:2376'},\n",
       " {'Name': ''}]"
      ]
     },
     "execution_count": 150,
     "metadata": {},
     "output_type": "execute_result"
    }
   ],
   "source": [
    "m.ls()"
   ]
  },
  {
   "cell_type": "markdown",
   "metadata": {},
   "source": [
    "We can obtain the \"config\" parameters (o/p of \"docker-machine config <machine name>\")"
   ]
  },
  {
   "cell_type": "code",
   "execution_count": 151,
   "metadata": {},
   "outputs": [
    {
     "data": {
      "text/plain": [
       "{'base_url': 'https://104.236.74.87:2376',\n",
       " 'tls': <docker.tls.TLSConfig at 0x7f316a4cdb00>}"
      ]
     },
     "execution_count": 151,
     "metadata": {},
     "output_type": "execute_result"
    }
   ],
   "source": [
    "m.config(machine='swmaster1')"
   ]
  },
  {
   "cell_type": "markdown",
   "metadata": {},
   "source": [
    "We can obtain the \"env\" parameters (o/p of \"docker-machine env <machine name>\")"
   ]
  },
  {
   "cell_type": "code",
   "execution_count": 152,
   "metadata": {},
   "outputs": [
    {
     "data": {
      "text/plain": [
       "['export',\n",
       " 'DOCKER_TLS_VERIFY=\"1\"',\n",
       " 'export',\n",
       " 'DOCKER_HOST=\"tcp://104.236.74.87:2376\"',\n",
       " 'export',\n",
       " 'DOCKER_CERT_PATH=\"/home/mjb/.docker/machine/machines/swmaster1\"',\n",
       " 'export',\n",
       " 'DOCKER_MACHINE_NAME=\"swmaster1\"',\n",
       " '#',\n",
       " 'Run',\n",
       " 'this',\n",
       " 'command',\n",
       " 'to',\n",
       " 'configure',\n",
       " 'your',\n",
       " 'shell:',\n",
       " '#',\n",
       " 'eval',\n",
       " '$(/usr/local/bin/docker-machine',\n",
       " 'env',\n",
       " 'swmaster1)']"
      ]
     },
     "execution_count": 152,
     "metadata": {},
     "output_type": "execute_result"
    }
   ],
   "source": [
    "m.env(machine='swmaster1')"
   ]
  },
  {
   "cell_type": "markdown",
   "metadata": {},
   "source": [
    "Now let's create docker-py client objects for each of our new nodes"
   ]
  },
  {
   "cell_type": "code",
   "execution_count": 153,
   "metadata": {},
   "outputs": [
    {
     "name": "stdout",
     "output_type": "stream",
     "text": [
      "{   'swmaster1': <docker.client.DockerClient object at 0x7f316a4cdc50>,\n",
      "    'swmaster2': <docker.client.DockerClient object at 0x7f316a4cd048>,\n",
      "    'swmaster3': <docker.client.DockerClient object at 0x7f316a4bc0b8>,\n",
      "    'swnode1': <docker.client.DockerClient object at 0x7f316a4bc630>,\n",
      "    'swnode2': <docker.client.DockerClient object at 0x7f316a879e10>}\n"
     ]
    }
   ],
   "source": [
    "# Create Docker clients for each machine:\n",
    "\n",
    "nodes={}\n",
    "\n",
    "swmaster1 = docker.DockerClient(**m.config(machine='swmaster1'))\n",
    "nodes['swmaster1']=swmaster1\n",
    "\n",
    "swmaster2 = docker.DockerClient(**m.config(machine='swmaster2'))\n",
    "nodes['swmaster2']=swmaster2\n",
    "\n",
    "swmaster3 = docker.DockerClient(**m.config(machine='swmaster3'))\n",
    "nodes['swmaster3']=swmaster3\n",
    "\n",
    "swnode1 = docker.DockerClient(**m.config(machine='swnode1'))\n",
    "nodes['swnode1']=swnode1\n",
    "\n",
    "swnode2 = docker.DockerClient(**m.config(machine='swnode2'))\n",
    "nodes['swnode2']=swnode2\n",
    "\n",
    "pp.pprint(nodes)"
   ]
  },
  {
   "cell_type": "code",
   "execution_count": 155,
   "metadata": {},
   "outputs": [
    {
     "name": "stdout",
     "output_type": "stream",
     "text": [
      "Checking that nodes are 'ping'able\n",
      "swmaster1: True\n",
      "swmaster2: True\n",
      "swmaster3: True\n",
      "swnode1: True\n",
      "swnode2: True\n"
     ]
    }
   ],
   "source": [
    "# Check connectivity to machines:\n",
    "\n",
    "print(\"Checking that nodes are 'ping'able\")\n",
    "\n",
    "#for node in MASTER_NODES + WORKER_NODES:\n",
    "for node in nodes.keys():\n",
    "    #print(node)\n",
    "    print(\"{}: {}\".format(node, nodes[node].ping()))\n",
    "\n",
    "#print(swmaster.ping(), swnode1.ping(), swnode2.ping())"
   ]
  },
  {
   "cell_type": "code",
   "execution_count": 156,
   "metadata": {},
   "outputs": [
    {
     "data": {
      "text/plain": [
       "[]"
      ]
     },
     "execution_count": 156,
     "metadata": {},
     "output_type": "execute_result"
    }
   ],
   "source": [
    "swmaster1.images.list()"
   ]
  },
  {
   "cell_type": "markdown",
   "metadata": {},
   "source": [
    "# swarm init\n",
    "\n",
    "Now that we have 3 nodes available, we will initialize our Swarm Cluster with 1 master node.\n"
   ]
  },
  {
   "cell_type": "markdown",
   "metadata": {},
   "source": [
    "Including these parameters on the docker command line will connect the client to the docker daemon running on node '*swmaster*'.\n",
    "\n",
    "### Networks before creation of swarm cluster\n",
    "Before going further let's look at the networks on your machine.\n",
    "\n",
    "Later, we'll see how a new network is created once the swarm cluster has been created."
   ]
  },
  {
   "cell_type": "code",
   "execution_count": 157,
   "metadata": {},
   "outputs": [
    {
     "name": "stdout",
     "output_type": "stream",
     "text": [
      "NETWORK ID     NAME                 DRIVER     SCOPE         \n",
      "1e5a827ec8     host                 host       local         \n",
      "90e461294d     bridge               bridge     local         \n",
      "fa6531249b     none                 null       local         \n"
     ]
    }
   ],
   "source": [
    "\n",
    "def show_networks(client):\n",
    "    FORMAT_STR=\"%-14s %-20s %-10s %-14s\"\n",
    "    print(FORMAT_STR % (\"NETWORK ID\", \"NAME\", \"DRIVER\", \"SCOPE\"))\n",
    "\n",
    "    for network in client.networks.list():\n",
    "        #print(dir(network))\n",
    "        print(FORMAT_STR % (network.short_id, network.name, network.attrs['Driver'], network.attrs['Scope']))\n",
    "        \n",
    "        \n",
    "# NETWORK ID          NAME                DRIVER              SCOPE\n",
    "# ab973c7b9062        bridge              bridge              local\n",
    "# e953fc8fe3f2        host                host                local\n",
    "# d45eb5315d7c        none                null                local\n",
    "\n",
    "show_networks(swmaster1)"
   ]
  },
  {
   "cell_type": "markdown",
   "metadata": {},
   "source": [
    "### Obtain ip addresses of nodes, esp. the 1st master node\n",
    "\n",
    "Now let's identify the ip address of our nodes.\n",
    "\n",
    "We need to note the ip address of the master node, so that when we initialize our swarm cluster, this node will advertise itself on this address so that other nodes can join the swarm cluster.\n",
    "\n",
    "We can see this through config or ip commands of docker-machine as shown below."
   ]
  },
  {
   "cell_type": "code",
   "execution_count": 158,
   "metadata": {},
   "outputs": [
    {
     "name": "stdout",
     "output_type": "stream",
     "text": [
      "swmaster1: 104.236.74.87\n",
      "swmaster2: 104.131.173.175\n",
      "swmaster3: 104.236.221.68\n",
      "swnode1: 104.236.29.189\n",
      "swnode2: 104.131.74.237\n"
     ]
    }
   ],
   "source": [
    "\n",
    "for node in nodes.keys():\n",
    "    ip = m.ip(machine=node)\n",
    "    print(\"{}: {}\".format(node, ip))\n",
    "\n",
    "    \n",
    "master1ip = m.ip(machine='swmaster1')"
   ]
  },
  {
   "cell_type": "markdown",
   "metadata": {},
   "source": [
    "We could then provide the above ip address as parameter to --advertise-addr when initializing the swarm.\n",
    "\n",
    "However, it is quite convenient to run the above commands embedded, as below, as arguments to the swarm init command.\n",
    "\n",
    "docker-machine config swmaster provides the parameters to use when connecting to the appropriate docker engine for our machine \"swmaster\".\n",
    "\n",
    "The following command will run swarm init to generate the cluster with 'swmaster' as the Master node.\n",
    "You should see output similar to the below:"
   ]
  },
  {
   "cell_type": "code",
   "execution_count": 159,
   "metadata": {},
   "outputs": [
    {
     "data": {
      "text/plain": [
       "{'Architecture': 'x86_64',\n",
       " 'BridgeNfIp6tables': True,\n",
       " 'BridgeNfIptables': True,\n",
       " 'CPUSet': True,\n",
       " 'CPUShares': True,\n",
       " 'CgroupDriver': 'cgroupfs',\n",
       " 'ClusterAdvertise': '',\n",
       " 'ClusterStore': '',\n",
       " 'ContainerdCommit': {'Expected': '9048e5e50717ea4497b757314bad98ea3763c145',\n",
       "  'ID': '9048e5e50717ea4497b757314bad98ea3763c145'},\n",
       " 'Containers': 0,\n",
       " 'ContainersPaused': 0,\n",
       " 'ContainersRunning': 0,\n",
       " 'ContainersStopped': 0,\n",
       " 'CpuCfsPeriod': True,\n",
       " 'CpuCfsQuota': True,\n",
       " 'Debug': False,\n",
       " 'DefaultRuntime': 'runc',\n",
       " 'DockerRootDir': '/var/lib/docker',\n",
       " 'Driver': 'aufs',\n",
       " 'DriverStatus': [['Root Dir', '/var/lib/docker/aufs'],\n",
       "  ['Backing Filesystem', 'extfs'],\n",
       "  ['Dirs', '0'],\n",
       "  ['Dirperm1 Supported', 'true']],\n",
       " 'ExperimentalBuild': False,\n",
       " 'HttpProxy': '',\n",
       " 'HttpsProxy': '',\n",
       " 'ID': '54LC:R7IH:2B2R:HOUM:IGYM:OSTZ:6NIG:ZP4J:MX6E:JLXM:VCYF:7YR3',\n",
       " 'IPv4Forwarding': True,\n",
       " 'Images': 0,\n",
       " 'IndexServerAddress': 'https://index.docker.io/v1/',\n",
       " 'InitBinary': 'docker-init',\n",
       " 'InitCommit': {'Expected': '949e6fa', 'ID': '949e6fa'},\n",
       " 'Isolation': '',\n",
       " 'KernelMemory': True,\n",
       " 'KernelVersion': '4.4.0-77-generic',\n",
       " 'Labels': ['provider=digitalocean'],\n",
       " 'LiveRestoreEnabled': False,\n",
       " 'LoggingDriver': 'json-file',\n",
       " 'MemTotal': 512102400,\n",
       " 'MemoryLimit': True,\n",
       " 'NCPU': 1,\n",
       " 'NEventsListener': 0,\n",
       " 'NFd': 16,\n",
       " 'NGoroutines': 22,\n",
       " 'Name': 'swmaster1',\n",
       " 'NoProxy': '',\n",
       " 'OSType': 'linux',\n",
       " 'OomKillDisable': True,\n",
       " 'OperatingSystem': 'Ubuntu 16.04.2 LTS',\n",
       " 'Plugins': {'Authorization': [],\n",
       "  'Network': ['bridge', 'host', 'macvlan', 'null', 'overlay'],\n",
       "  'Volume': ['local']},\n",
       " 'RegistryConfig': {'IndexConfigs': {'docker.io': {'Mirrors': [],\n",
       "    'Name': 'docker.io',\n",
       "    'Official': True,\n",
       "    'Secure': True}},\n",
       "  'InsecureRegistryCIDRs': ['127.0.0.0/8'],\n",
       "  'Mirrors': []},\n",
       " 'RuncCommit': {'Expected': '9c2d8d184e5da67c95d601382adf14862e4f2228',\n",
       "  'ID': '9c2d8d184e5da67c95d601382adf14862e4f2228'},\n",
       " 'Runtimes': {'runc': {'path': 'docker-runc'}},\n",
       " 'SecurityOptions': ['name=apparmor', 'name=seccomp,profile=default'],\n",
       " 'ServerVersion': '17.05.0-ce',\n",
       " 'SwapLimit': False,\n",
       " 'Swarm': {'ControlAvailable': False,\n",
       "  'Error': '',\n",
       "  'LocalNodeState': 'inactive',\n",
       "  'NodeAddr': '',\n",
       "  'NodeID': '',\n",
       "  'RemoteManagers': None},\n",
       " 'SystemStatus': None,\n",
       " 'SystemTime': '2017-05-08T19:22:05.551743347Z'}"
      ]
     },
     "execution_count": 159,
     "metadata": {},
     "output_type": "execute_result"
    }
   ],
   "source": [
    "swmaster1.info()"
   ]
  },
  {
   "cell_type": "code",
   "execution_count": 160,
   "metadata": {},
   "outputs": [
    {
     "data": {
      "text/plain": [
       "{'ControlAvailable': False,\n",
       " 'Error': '',\n",
       " 'LocalNodeState': 'inactive',\n",
       " 'NodeAddr': '',\n",
       " 'NodeID': '',\n",
       " 'RemoteManagers': None}"
      ]
     },
     "execution_count": 160,
     "metadata": {},
     "output_type": "execute_result"
    }
   ],
   "source": [
    "swmaster1.info()['Swarm']"
   ]
  },
  {
   "cell_type": "markdown",
   "metadata": {},
   "source": [
    "### Before creating the swarm cluster we have 0 nodes, and an inactive cluster"
   ]
  },
  {
   "cell_type": "code",
   "execution_count": 161,
   "metadata": {},
   "outputs": [],
   "source": [
    "if 'Nodes' in swmaster1.info()['Swarm']:\n",
    "    swmaster1.info()['Swarm']['Nodes']"
   ]
  },
  {
   "cell_type": "code",
   "execution_count": 162,
   "metadata": {},
   "outputs": [
    {
     "data": {
      "text/plain": [
       "'inactive'"
      ]
     },
     "execution_count": 162,
     "metadata": {},
     "output_type": "execute_result"
    }
   ],
   "source": [
    "swmaster1.info()['Swarm']['LocalNodeState']"
   ]
  },
  {
   "cell_type": "code",
   "execution_count": 163,
   "metadata": {
    "collapsed": true
   },
   "outputs": [],
   "source": [
    "swmaster1.swarm.init?"
   ]
  },
  {
   "cell_type": "code",
   "execution_count": 164,
   "metadata": {
    "collapsed": true
   },
   "outputs": [],
   "source": [
    "swmaster1.swarm.init(advertise_addr=master1ip)"
   ]
  },
  {
   "cell_type": "code",
   "execution_count": 165,
   "metadata": {},
   "outputs": [
    {
     "name": "stdout",
     "output_type": "stream",
     "text": [
      "{   'Architecture': 'x86_64',\n",
      "    'BridgeNfIp6tables': True,\n",
      "    'BridgeNfIptables': True,\n",
      "    'CPUSet': True,\n",
      "    'CPUShares': True,\n",
      "    'CgroupDriver': 'cgroupfs',\n",
      "    'ClusterAdvertise': '',\n",
      "    'ClusterStore': '',\n",
      "    'ContainerdCommit': {   'Expected': '9048e5e50717ea4497b757314bad98ea3763c145',\n",
      "                            'ID': '9048e5e50717ea4497b757314bad98ea3763c145'},\n",
      "    'Containers': 0,\n",
      "    'ContainersPaused': 0,\n",
      "    'ContainersRunning': 0,\n",
      "    'ContainersStopped': 0,\n",
      "    'CpuCfsPeriod': True,\n",
      "    'CpuCfsQuota': True,\n",
      "    'Debug': False,\n",
      "    'DefaultRuntime': 'runc',\n",
      "    'DockerRootDir': '/var/lib/docker',\n",
      "    'Driver': 'aufs',\n",
      "    'DriverStatus': [   ['Root Dir', '/var/lib/docker/aufs'],\n",
      "                        ['Backing Filesystem', 'extfs'],\n",
      "                        ['Dirs', '0'],\n",
      "                        ['Dirperm1 Supported', 'true']],\n",
      "    'ExperimentalBuild': False,\n",
      "    'HttpProxy': '',\n",
      "    'HttpsProxy': '',\n",
      "    'ID': '54LC:R7IH:2B2R:HOUM:IGYM:OSTZ:6NIG:ZP4J:MX6E:JLXM:VCYF:7YR3',\n",
      "    'IPv4Forwarding': True,\n",
      "    'Images': 0,\n",
      "    'IndexServerAddress': 'https://index.docker.io/v1/',\n",
      "    'InitBinary': 'docker-init',\n",
      "    'InitCommit': {'Expected': '949e6fa', 'ID': '949e6fa'},\n",
      "    'Isolation': '',\n",
      "    'KernelMemory': True,\n",
      "    'KernelVersion': '4.4.0-77-generic',\n",
      "    'Labels': ['provider=digitalocean'],\n",
      "    'LiveRestoreEnabled': False,\n",
      "    'LoggingDriver': 'json-file',\n",
      "    'MemTotal': 512102400,\n",
      "    'MemoryLimit': True,\n",
      "    'NCPU': 1,\n",
      "    'NEventsListener': 0,\n",
      "    'NFd': 33,\n",
      "    'NGoroutines': 124,\n",
      "    'Name': 'swmaster1',\n",
      "    'NoProxy': '',\n",
      "    'OSType': 'linux',\n",
      "    'OomKillDisable': True,\n",
      "    'OperatingSystem': 'Ubuntu 16.04.2 LTS',\n",
      "    'Plugins': {   'Authorization': [],\n",
      "                   'Network': ['bridge', 'host', 'macvlan', 'null', 'overlay'],\n",
      "                   'Volume': ['local']},\n",
      "    'RegistryConfig': {   'IndexConfigs': {   'docker.io': {   'Mirrors': [],\n",
      "                                                               'Name': 'docker.io',\n",
      "                                                               'Official': True,\n",
      "                                                               'Secure': True}},\n",
      "                          'InsecureRegistryCIDRs': ['127.0.0.0/8'],\n",
      "                          'Mirrors': []},\n",
      "    'RuncCommit': {   'Expected': '9c2d8d184e5da67c95d601382adf14862e4f2228',\n",
      "                      'ID': '9c2d8d184e5da67c95d601382adf14862e4f2228'},\n",
      "    'Runtimes': {'runc': {'path': 'docker-runc'}},\n",
      "    'SecurityOptions': ['name=apparmor', 'name=seccomp,profile=default'],\n",
      "    'ServerVersion': '17.05.0-ce',\n",
      "    'SwapLimit': False,\n",
      "    'Swarm': {   'Cluster': {   'CreatedAt': '2017-05-08T19:22:37.568616358Z',\n",
      "                                'ID': '6ki5b9ozkew372ffiu72g7hp0',\n",
      "                                'Spec': {   'CAConfig': {   'NodeCertExpiry': 7776000000000000},\n",
      "                                            'Dispatcher': {   'HeartbeatPeriod': 5000000000},\n",
      "                                            'EncryptionConfig': {   'AutoLockManagers': False},\n",
      "                                            'Labels': {},\n",
      "                                            'Name': 'default',\n",
      "                                            'Orchestration': {   'TaskHistoryRetentionLimit': 5},\n",
      "                                            'Raft': {   'ElectionTick': 3,\n",
      "                                                        'HeartbeatTick': 1,\n",
      "                                                        'KeepOldSnapshots': 0,\n",
      "                                                        'LogEntriesForSlowFollowers': 500,\n",
      "                                                        'SnapshotInterval': 10000},\n",
      "                                            'TaskDefaults': {}},\n",
      "                                'UpdatedAt': '2017-05-08T19:22:37.72028698Z',\n",
      "                                'Version': {'Index': 9}},\n",
      "                 'ControlAvailable': True,\n",
      "                 'Error': '',\n",
      "                 'LocalNodeState': 'active',\n",
      "                 'Managers': 1,\n",
      "                 'NodeAddr': '104.236.74.87',\n",
      "                 'NodeID': 'xqujlss033v27mu6loigt59oc',\n",
      "                 'Nodes': 1,\n",
      "                 'RemoteManagers': [   {   'Addr': '104.236.74.87:2377',\n",
      "                                           'NodeID': 'xqujlss033v27mu6loigt59oc'}]},\n",
      "    'SystemStatus': None,\n",
      "    'SystemTime': '2017-05-08T19:22:54.470857235Z'}\n"
     ]
    }
   ],
   "source": [
    "swarm_info = swmaster1.swarm.client.info()\n",
    "\n",
    "pp.pprint(swarm_info)"
   ]
  },
  {
   "cell_type": "markdown",
   "metadata": {},
   "source": [
    "### After creating the swarm cluster we have 1 nodes, and an active cluster"
   ]
  },
  {
   "cell_type": "code",
   "execution_count": 166,
   "metadata": {
    "scrolled": true
   },
   "outputs": [
    {
     "data": {
      "text/plain": [
       "1"
      ]
     },
     "execution_count": 166,
     "metadata": {},
     "output_type": "execute_result"
    }
   ],
   "source": [
    "swmaster1.info()['Swarm']['Nodes']"
   ]
  },
  {
   "cell_type": "code",
   "execution_count": 167,
   "metadata": {},
   "outputs": [
    {
     "data": {
      "text/plain": [
       "'active'"
      ]
     },
     "execution_count": 167,
     "metadata": {},
     "output_type": "execute_result"
    }
   ],
   "source": [
    "swmaster1.info()['Swarm']['LocalNodeState']"
   ]
  },
  {
   "cell_type": "code",
   "execution_count": 168,
   "metadata": {},
   "outputs": [
    {
     "name": "stdout",
     "output_type": "stream",
     "text": [
      "{   'CreatedAt': '2017-05-08T19:22:37.568616358Z',\n",
      "    'ID': '6ki5b9ozkew372ffiu72g7hp0',\n",
      "    'JoinTokens': {   'Manager': 'SWMTKN-1-1x74ye5k0foltrh8xloj7rkfny92iypebym859djza6t0xbgvz-cicn8a0efsrmqzf98mdfbreuj',\n",
      "                      'Worker': 'SWMTKN-1-1x74ye5k0foltrh8xloj7rkfny92iypebym859djza6t0xbgvz-16bbry01f31hf7xmrmvr3bh7y'},\n",
      "    'Spec': {   'CAConfig': {'NodeCertExpiry': 7776000000000000},\n",
      "                'Dispatcher': {'HeartbeatPeriod': 5000000000},\n",
      "                'EncryptionConfig': {'AutoLockManagers': False},\n",
      "                'Labels': {},\n",
      "                'Name': 'default',\n",
      "                'Orchestration': {'TaskHistoryRetentionLimit': 5},\n",
      "                'Raft': {   'ElectionTick': 3,\n",
      "                            'HeartbeatTick': 1,\n",
      "                            'KeepOldSnapshots': 0,\n",
      "                            'LogEntriesForSlowFollowers': 500,\n",
      "                            'SnapshotInterval': 10000},\n",
      "                'TaskDefaults': {}},\n",
      "    'UpdatedAt': '2017-05-08T19:22:37.72028698Z',\n",
      "    'Version': {'Index': 9}}\n"
     ]
    }
   ],
   "source": [
    "pp.pprint(swmaster1.swarm.attrs)"
   ]
  },
  {
   "cell_type": "markdown",
   "metadata": {},
   "source": [
    "### We can obtain the join tokens allowing to join new nodes as manager or worker nodes"
   ]
  },
  {
   "cell_type": "code",
   "execution_count": 169,
   "metadata": {},
   "outputs": [
    {
     "name": "stdout",
     "output_type": "stream",
     "text": [
      "{   'Manager': 'SWMTKN-1-1x74ye5k0foltrh8xloj7rkfny92iypebym859djza6t0xbgvz-cicn8a0efsrmqzf98mdfbreuj',\n",
      "    'Worker': 'SWMTKN-1-1x74ye5k0foltrh8xloj7rkfny92iypebym859djza6t0xbgvz-16bbry01f31hf7xmrmvr3bh7y'}\n"
     ]
    }
   ],
   "source": [
    "join_tokens = swmaster1.swarm.attrs['JoinTokens']\n",
    "\n",
    "pp.pprint(join_tokens)\n",
    "\n",
    "manager_token = join_tokens['Manager']\n",
    "worker_token = join_tokens['Worker']"
   ]
  },
  {
   "cell_type": "markdown",
   "metadata": {},
   "source": [
    "A docker info should now show \"Swarm: active\" as below:"
   ]
  },
  {
   "cell_type": "code",
   "execution_count": 171,
   "metadata": {},
   "outputs": [
    {
     "name": "stdout",
     "output_type": "stream",
     "text": [
      "{   'Architecture': 'x86_64',\n",
      "    'BridgeNfIp6tables': True,\n",
      "    'BridgeNfIptables': True,\n",
      "    'CPUSet': True,\n",
      "    'CPUShares': True,\n",
      "    'CgroupDriver': 'cgroupfs',\n",
      "    'ClusterAdvertise': '',\n",
      "    'ClusterStore': '',\n",
      "    'ContainerdCommit': {   'Expected': '9048e5e50717ea4497b757314bad98ea3763c145',\n",
      "                            'ID': '9048e5e50717ea4497b757314bad98ea3763c145'},\n",
      "    'Containers': 0,\n",
      "    'ContainersPaused': 0,\n",
      "    'ContainersRunning': 0,\n",
      "    'ContainersStopped': 0,\n",
      "    'CpuCfsPeriod': True,\n",
      "    'CpuCfsQuota': True,\n",
      "    'Debug': False,\n",
      "    'DefaultRuntime': 'runc',\n",
      "    'DockerRootDir': '/var/lib/docker',\n",
      "    'Driver': 'aufs',\n",
      "    'DriverStatus': [   ['Root Dir', '/var/lib/docker/aufs'],\n",
      "                        ['Backing Filesystem', 'extfs'],\n",
      "                        ['Dirs', '0'],\n",
      "                        ['Dirperm1 Supported', 'true']],\n",
      "    'ExperimentalBuild': False,\n",
      "    'HttpProxy': '',\n",
      "    'HttpsProxy': '',\n",
      "    'ID': '54LC:R7IH:2B2R:HOUM:IGYM:OSTZ:6NIG:ZP4J:MX6E:JLXM:VCYF:7YR3',\n",
      "    'IPv4Forwarding': True,\n",
      "    'Images': 0,\n",
      "    'IndexServerAddress': 'https://index.docker.io/v1/',\n",
      "    'InitBinary': 'docker-init',\n",
      "    'InitCommit': {'Expected': '949e6fa', 'ID': '949e6fa'},\n",
      "    'Isolation': '',\n",
      "    'KernelMemory': True,\n",
      "    'KernelVersion': '4.4.0-77-generic',\n",
      "    'Labels': ['provider=digitalocean'],\n",
      "    'LiveRestoreEnabled': False,\n",
      "    'LoggingDriver': 'json-file',\n",
      "    'MemTotal': 512102400,\n",
      "    'MemoryLimit': True,\n",
      "    'NCPU': 1,\n",
      "    'NEventsListener': 0,\n",
      "    'NFd': 33,\n",
      "    'NGoroutines': 124,\n",
      "    'Name': 'swmaster1',\n",
      "    'NoProxy': '',\n",
      "    'OSType': 'linux',\n",
      "    'OomKillDisable': True,\n",
      "    'OperatingSystem': 'Ubuntu 16.04.2 LTS',\n",
      "    'Plugins': {   'Authorization': [],\n",
      "                   'Network': ['bridge', 'host', 'macvlan', 'null', 'overlay'],\n",
      "                   'Volume': ['local']},\n",
      "    'RegistryConfig': {   'IndexConfigs': {   'docker.io': {   'Mirrors': [],\n",
      "                                                               'Name': 'docker.io',\n",
      "                                                               'Official': True,\n",
      "                                                               'Secure': True}},\n",
      "                          'InsecureRegistryCIDRs': ['127.0.0.0/8'],\n",
      "                          'Mirrors': []},\n",
      "    'RuncCommit': {   'Expected': '9c2d8d184e5da67c95d601382adf14862e4f2228',\n",
      "                      'ID': '9c2d8d184e5da67c95d601382adf14862e4f2228'},\n",
      "    'Runtimes': {'runc': {'path': 'docker-runc'}},\n",
      "    'SecurityOptions': ['name=apparmor', 'name=seccomp,profile=default'],\n",
      "    'ServerVersion': '17.05.0-ce',\n",
      "    'SwapLimit': False,\n",
      "    'Swarm': {   'Cluster': {   'CreatedAt': '2017-05-08T19:22:37.568616358Z',\n",
      "                                'ID': '6ki5b9ozkew372ffiu72g7hp0',\n",
      "                                'Spec': {   'CAConfig': {   'NodeCertExpiry': 7776000000000000},\n",
      "                                            'Dispatcher': {   'HeartbeatPeriod': 5000000000},\n",
      "                                            'EncryptionConfig': {   'AutoLockManagers': False},\n",
      "                                            'Labels': {},\n",
      "                                            'Name': 'default',\n",
      "                                            'Orchestration': {   'TaskHistoryRetentionLimit': 5},\n",
      "                                            'Raft': {   'ElectionTick': 3,\n",
      "                                                        'HeartbeatTick': 1,\n",
      "                                                        'KeepOldSnapshots': 0,\n",
      "                                                        'LogEntriesForSlowFollowers': 500,\n",
      "                                                        'SnapshotInterval': 10000},\n",
      "                                            'TaskDefaults': {}},\n",
      "                                'UpdatedAt': '2017-05-08T19:22:37.72028698Z',\n",
      "                                'Version': {'Index': 9}},\n",
      "                 'ControlAvailable': True,\n",
      "                 'Error': '',\n",
      "                 'LocalNodeState': 'active',\n",
      "                 'Managers': 1,\n",
      "                 'NodeAddr': '104.236.74.87',\n",
      "                 'NodeID': 'xqujlss033v27mu6loigt59oc',\n",
      "                 'Nodes': 1,\n",
      "                 'RemoteManagers': [   {   'Addr': '104.236.74.87:2377',\n",
      "                                           'NodeID': 'xqujlss033v27mu6loigt59oc'}]},\n",
      "    'SystemStatus': None,\n",
      "    'SystemTime': '2017-05-08T19:22:54.470857235Z'}\n"
     ]
    }
   ],
   "source": [
    "pp.pprint(swarm_info)"
   ]
  },
  {
   "cell_type": "markdown",
   "metadata": {},
   "source": [
    "If we look at the networks we should now see new networks such as '*ingress*' an overlay network and docker_gwbridge for the swarm cluster."
   ]
  },
  {
   "cell_type": "code",
   "execution_count": 172,
   "metadata": {},
   "outputs": [
    {
     "name": "stdout",
     "output_type": "stream",
     "text": [
      "NETWORK ID     NAME                 DRIVER     SCOPE         \n",
      "0pp3luxc8r     ingress              overlay    swarm         \n",
      "1e5a827ec8     host                 host       local         \n",
      "90e461294d     bridge               bridge     local         \n",
      "fa6531249b     none                 null       local         \n",
      "1510d57c25     docker_gwbridge      bridge     local         \n"
     ]
    }
   ],
   "source": [
    "show_networks(swmaster1)\n",
    "#show_networks(swmaster2)"
   ]
  },
  {
   "cell_type": "markdown",
   "metadata": {},
   "source": [
    "# swarm join\n",
    "\n",
    "Now we wish to join Master and Worker nodes to our swarm cluster, to do this we need to obtain the token generated during the \"swarm init\"."
   ]
  },
  {
   "cell_type": "code",
   "execution_count": 173,
   "metadata": {},
   "outputs": [
    {
     "name": "stdout",
     "output_type": "stream",
     "text": [
      "SWMTKN-1-1x74ye5k0foltrh8xloj7rkfny92iypebym859djza6t0xbgvz-cicn8a0efsrmqzf98mdfbreuj\n"
     ]
    }
   ],
   "source": [
    "print(manager_token)"
   ]
  },
  {
   "cell_type": "code",
   "execution_count": 174,
   "metadata": {},
   "outputs": [
    {
     "name": "stdout",
     "output_type": "stream",
     "text": [
      "{   'Cluster': {   'CreatedAt': '2017-05-08T19:22:37.568616358Z',\n",
      "                   'ID': '6ki5b9ozkew372ffiu72g7hp0',\n",
      "                   'Spec': {   'CAConfig': {'NodeCertExpiry': 7776000000000000},\n",
      "                               'Dispatcher': {'HeartbeatPeriod': 5000000000},\n",
      "                               'EncryptionConfig': {'AutoLockManagers': False},\n",
      "                               'Labels': {},\n",
      "                               'Name': 'default',\n",
      "                               'Orchestration': {   'TaskHistoryRetentionLimit': 5},\n",
      "                               'Raft': {   'ElectionTick': 3,\n",
      "                                           'HeartbeatTick': 1,\n",
      "                                           'KeepOldSnapshots': 0,\n",
      "                                           'LogEntriesForSlowFollowers': 500,\n",
      "                                           'SnapshotInterval': 10000},\n",
      "                               'TaskDefaults': {}},\n",
      "                   'UpdatedAt': '2017-05-08T19:22:37.72028698Z',\n",
      "                   'Version': {'Index': 9}},\n",
      "    'ControlAvailable': True,\n",
      "    'Error': '',\n",
      "    'LocalNodeState': 'active',\n",
      "    'Managers': 1,\n",
      "    'NodeAddr': '104.236.74.87',\n",
      "    'NodeID': 'xqujlss033v27mu6loigt59oc',\n",
      "    'Nodes': 1,\n",
      "    'RemoteManagers': [   {   'Addr': '104.236.74.87:2377',\n",
      "                              'NodeID': 'xqujlss033v27mu6loigt59oc'}]}\n"
     ]
    }
   ],
   "source": [
    "pp.pprint(swmaster1.info()['Swarm'])"
   ]
  },
  {
   "cell_type": "code",
   "execution_count": 175,
   "metadata": {},
   "outputs": [
    {
     "name": "stdout",
     "output_type": "stream",
     "text": [
      "104.236.74.87\n"
     ]
    }
   ],
   "source": [
    "print(master1ip)"
   ]
  },
  {
   "cell_type": "markdown",
   "metadata": {},
   "source": [
    "## Add 2nd, 2rd master nodes if present"
   ]
  },
  {
   "cell_type": "code",
   "execution_count": 176,
   "metadata": {},
   "outputs": [],
   "source": [
    "if swmaster2 != None:\n",
    "    swmaster2.swarm.join(join_token=manager_token, remote_addrs=[master1ip+':2377'],\n",
    "                  listen_addr='0.0.0.0:5000', advertise_addr='eth0:5000')"
   ]
  },
  {
   "cell_type": "code",
   "execution_count": 177,
   "metadata": {},
   "outputs": [],
   "source": [
    "if swmaster3 != None:\n",
    "    swmaster3.swarm.join(join_token=manager_token, remote_addrs=[master1ip+':2377'],\n",
    "                  listen_addr='0.0.0.0:5000', advertise_addr='eth0:5000')"
   ]
  },
  {
   "cell_type": "code",
   "execution_count": 178,
   "metadata": {},
   "outputs": [
    {
     "name": "stdout",
     "output_type": "stream",
     "text": [
      "Setting up alias/DOCKER_HOST for 17.05.0-ce [/home/mjb/DOCKER/docker-17.05.0-ce]\n",
      "ID                            HOSTNAME            STATUS              AVAILABILITY        MANAGER STATUS\n",
      "fuchgyw4eg2kax1cgqzd8vzzh     swmaster3           Ready               Active              Reachable\n",
      "ttx2b261g5lwi2j7fntrr3tdl     swmaster2           Ready               Active              Reachable\n",
      "xqujlss033v27mu6loigt59oc *   swmaster1           Ready               Active              Leader\n"
     ]
    }
   ],
   "source": [
    "!. ~/.docker.rc; docker $(docker-machine config swmaster1) node list"
   ]
  },
  {
   "cell_type": "code",
   "execution_count": 179,
   "metadata": {},
   "outputs": [
    {
     "name": "stdout",
     "output_type": "stream",
     "text": [
      "ID             HOSTNAME   STATE      AVAILABILITY   MANAGER STATUS\n",
      "fuchgyw4eg2k   swmaster3  ready      active         reachable \n",
      "ttx2b261g5lw   swmaster2  ready      active         reachable \n",
      "xqujlss033v2   swmaster1  ready      active         leader    \n"
     ]
    }
   ],
   "source": [
    "def show_nodes(client):\n",
    "    FORMAT_STR=\"%-14s %-10s %-10s %-14s %-10s\"\n",
    "    print(FORMAT_STR % (\"ID\", \"HOSTNAME\", \"STATE\", \"AVAILABILITY\", \"MANAGER STATUS\"))\n",
    "    \n",
    "    for node in client.nodes.list():\n",
    "        #pp.pprint(node.attrs)\n",
    "        nodeSwarmStatus=''\n",
    "        state = node.attrs['Status']['State']\n",
    "        if 'ManagerStatus' in node.attrs:\n",
    "            if 'Leader' in node.attrs['ManagerStatus'] and node.attrs['ManagerStatus']['Leader']:\n",
    "                nodeSwarmStatus='leader'\n",
    "            elif 'Reachability' in node.attrs['ManagerStatus']:\n",
    "                nodeSwarmStatus=node.attrs['ManagerStatus']['Reachability']\n",
    "        print(FORMAT_STR % (node.id[:12], node.attrs['Description']['Hostname'], state, node.attrs['Spec']['Availability'], nodeSwarmStatus))\n",
    "\n",
    "        \n",
    "show_nodes(swmaster1)"
   ]
  },
  {
   "cell_type": "markdown",
   "metadata": {},
   "source": [
    "## Add worker nodes"
   ]
  },
  {
   "cell_type": "code",
   "execution_count": 180,
   "metadata": {},
   "outputs": [
    {
     "name": "stdout",
     "output_type": "stream",
     "text": [
      "SWMTKN-1-1x74ye5k0foltrh8xloj7rkfny92iypebym859djza6t0xbgvz-16bbry01f31hf7xmrmvr3bh7y\n"
     ]
    }
   ],
   "source": [
    "print(worker_token)"
   ]
  },
  {
   "cell_type": "markdown",
   "metadata": {},
   "source": [
    "Now we can use this token to join nodes as a worker to this cluster\n",
    "\n",
    "Note: we could also join nodes as Master, but we have only 3 nodes available.\n",
    "\n",
    "Let's join swnode1 as a worker node"
   ]
  },
  {
   "cell_type": "code",
   "execution_count": 181,
   "metadata": {},
   "outputs": [
    {
     "name": "stdout",
     "output_type": "stream",
     "text": [
      "'node swmaster3.attrs='\n",
      "{   'CreatedAt': '2017-05-08T19:26:12.803403204Z',\n",
      "    'Description': {   'Engine': {   'EngineVersion': '17.05.0-ce',\n",
      "                                     'Labels': {'provider': 'digitalocean'},\n",
      "                                     'Plugins': [   {   'Name': 'bridge',\n",
      "                                                        'Type': 'Network'},\n",
      "                                                    {   'Name': 'host',\n",
      "                                                        'Type': 'Network'},\n",
      "                                                    {   'Name': 'macvlan',\n",
      "                                                        'Type': 'Network'},\n",
      "                                                    {   'Name': 'null',\n",
      "                                                        'Type': 'Network'},\n",
      "                                                    {   'Name': 'overlay',\n",
      "                                                        'Type': 'Network'},\n",
      "                                                    {   'Name': 'local',\n",
      "                                                        'Type': 'Volume'}]},\n",
      "                       'Hostname': 'swmaster3',\n",
      "                       'Platform': {'Architecture': 'x86_64', 'OS': 'linux'},\n",
      "                       'Resources': {   'MemoryBytes': 512102400,\n",
      "                                        'NanoCPUs': 1000000000}},\n",
      "    'ID': 'fuchgyw4eg2kax1cgqzd8vzzh',\n",
      "    'ManagerStatus': {   'Addr': '104.236.221.68:5000',\n",
      "                         'Reachability': 'reachable'},\n",
      "    'Spec': {'Availability': 'active', 'Labels': {}, 'Role': 'manager'},\n",
      "    'Status': {'Addr': '104.236.221.68', 'State': 'ready'},\n",
      "    'UpdatedAt': '2017-05-08T19:26:12.93817349Z',\n",
      "    'Version': {'Index': 21}}\n",
      "\n",
      "'node swmaster2.attrs='\n",
      "{   'CreatedAt': '2017-05-08T19:24:23.57236383Z',\n",
      "    'Description': {   'Engine': {   'EngineVersion': '17.05.0-ce',\n",
      "                                     'Labels': {'provider': 'digitalocean'},\n",
      "                                     'Plugins': [   {   'Name': 'bridge',\n",
      "                                                        'Type': 'Network'},\n",
      "                                                    {   'Name': 'host',\n",
      "                                                        'Type': 'Network'},\n",
      "                                                    {   'Name': 'macvlan',\n",
      "                                                        'Type': 'Network'},\n",
      "                                                    {   'Name': 'null',\n",
      "                                                        'Type': 'Network'},\n",
      "                                                    {   'Name': 'overlay',\n",
      "                                                        'Type': 'Network'},\n",
      "                                                    {   'Name': 'local',\n",
      "                                                        'Type': 'Volume'}]},\n",
      "                       'Hostname': 'swmaster2',\n",
      "                       'Platform': {'Architecture': 'x86_64', 'OS': 'linux'},\n",
      "                       'Resources': {   'MemoryBytes': 512102400,\n",
      "                                        'NanoCPUs': 1000000000}},\n",
      "    'ID': 'ttx2b261g5lwi2j7fntrr3tdl',\n",
      "    'ManagerStatus': {   'Addr': '104.131.173.175:5000',\n",
      "                         'Reachability': 'reachable'},\n",
      "    'Spec': {'Availability': 'active', 'Labels': {}, 'Role': 'manager'},\n",
      "    'Status': {'Addr': '104.131.173.175', 'State': 'ready'},\n",
      "    'UpdatedAt': '2017-05-08T19:24:23.636139548Z',\n",
      "    'Version': {'Index': 14}}\n",
      "\n",
      "'node swmaster1.attrs='\n",
      "{   'CreatedAt': '2017-05-08T19:22:37.568779951Z',\n",
      "    'Description': {   'Engine': {   'EngineVersion': '17.05.0-ce',\n",
      "                                     'Labels': {'provider': 'digitalocean'},\n",
      "                                     'Plugins': [   {   'Name': 'bridge',\n",
      "                                                        'Type': 'Network'},\n",
      "                                                    {   'Name': 'host',\n",
      "                                                        'Type': 'Network'},\n",
      "                                                    {   'Name': 'macvlan',\n",
      "                                                        'Type': 'Network'},\n",
      "                                                    {   'Name': 'null',\n",
      "                                                        'Type': 'Network'},\n",
      "                                                    {   'Name': 'overlay',\n",
      "                                                        'Type': 'Network'},\n",
      "                                                    {   'Name': 'local',\n",
      "                                                        'Type': 'Volume'}]},\n",
      "                       'Hostname': 'swmaster1',\n",
      "                       'Platform': {'Architecture': 'x86_64', 'OS': 'linux'},\n",
      "                       'Resources': {   'MemoryBytes': 512102400,\n",
      "                                        'NanoCPUs': 1000000000}},\n",
      "    'ID': 'xqujlss033v27mu6loigt59oc',\n",
      "    'ManagerStatus': {   'Addr': '104.236.74.87:2377',\n",
      "                         'Leader': True,\n",
      "                         'Reachability': 'reachable'},\n",
      "    'Spec': {'Availability': 'active', 'Labels': {}, 'Role': 'manager'},\n",
      "    'Status': {'Addr': '104.236.74.87', 'State': 'ready'},\n",
      "    'UpdatedAt': '2017-05-08T19:22:37.698997771Z',\n",
      "    'Version': {'Index': 8}}\n",
      "\n"
     ]
    }
   ],
   "source": [
    "#print( \"swmaster.nodes()=\" + str( swmaster.nodes() ))\n",
    "#print()\n",
    "\n",
    "import json\n",
    "\n",
    "json_nodes = swmaster1.nodes.list()\n",
    "\n",
    "#print(type(json_nodes))\n",
    "\n",
    "for node in json_nodes:\n",
    "    pp.pprint(\"node {}.attrs=\".format(node.attrs['Description']['Hostname']))\n",
    "    pp.pprint(node.attrs)\n",
    "    print()\n",
    "    "
   ]
  },
  {
   "cell_type": "code",
   "execution_count": 182,
   "metadata": {},
   "outputs": [
    {
     "name": "stdout",
     "output_type": "stream",
     "text": [
      "ID             HOSTNAME   STATE      AVAILABILITY   MANAGER STATUS\n",
      "fuchgyw4eg2k   swmaster3  ready      active         reachable \n",
      "ttx2b261g5lw   swmaster2  ready      active         reachable \n",
      "xqujlss033v2   swmaster1  ready      active         leader    \n"
     ]
    }
   ],
   "source": [
    "show_nodes(swmaster1)"
   ]
  },
  {
   "cell_type": "code",
   "execution_count": 183,
   "metadata": {},
   "outputs": [
    {
     "data": {
      "text/plain": [
       "[<Node: fuchgyw4eg>, <Node: ttx2b261g5>, <Node: xqujlss033>]"
      ]
     },
     "execution_count": 183,
     "metadata": {},
     "output_type": "execute_result"
    }
   ],
   "source": [
    "swmaster1.nodes.list()"
   ]
  },
  {
   "cell_type": "code",
   "execution_count": 184,
   "metadata": {
    "collapsed": true
   },
   "outputs": [],
   "source": [
    "swnode1.swarm.join?"
   ]
  },
  {
   "cell_type": "code",
   "execution_count": 185,
   "metadata": {},
   "outputs": [
    {
     "data": {
      "text/plain": [
       "True"
      ]
     },
     "execution_count": 185,
     "metadata": {},
     "output_type": "execute_result"
    }
   ],
   "source": [
    "swnode1.swarm.join(join_token=worker_token, remote_addrs=[master1ip+':2377'],\n",
    "                  listen_addr='0.0.0.0:5000', advertise_addr='eth0:5000')"
   ]
  },
  {
   "cell_type": "code",
   "execution_count": 186,
   "metadata": {},
   "outputs": [
    {
     "data": {
      "text/plain": [
       "[<Node: fuchgyw4eg>,\n",
       " <Node: h3vft22hw8>,\n",
       " <Node: ttx2b261g5>,\n",
       " <Node: xqujlss033>]"
      ]
     },
     "execution_count": 186,
     "metadata": {},
     "output_type": "execute_result"
    }
   ],
   "source": [
    "swmaster1.nodes.list()"
   ]
  },
  {
   "cell_type": "code",
   "execution_count": 187,
   "metadata": {},
   "outputs": [
    {
     "name": "stdout",
     "output_type": "stream",
     "text": [
      "ID             HOSTNAME   STATE      AVAILABILITY   MANAGER STATUS\n",
      "fuchgyw4eg2k   swmaster3  ready      active         reachable \n",
      "h3vft22hw8za   swnode1    ready      active                   \n",
      "ttx2b261g5lw   swmaster2  ready      active         reachable \n",
      "xqujlss033v2   swmaster1  ready      active         leader    \n"
     ]
    }
   ],
   "source": [
    "show_nodes(swmaster1)"
   ]
  },
  {
   "cell_type": "code",
   "execution_count": 188,
   "metadata": {},
   "outputs": [
    {
     "data": {
      "text/plain": [
       "True"
      ]
     },
     "execution_count": 188,
     "metadata": {},
     "output_type": "execute_result"
    }
   ],
   "source": [
    "swnode2.swarm.join(join_token=worker_token, remote_addrs=[master1ip+':2377'],\n",
    "                  listen_addr='0.0.0.0:5000', advertise_addr='eth0:5000')"
   ]
  },
  {
   "cell_type": "code",
   "execution_count": 189,
   "metadata": {},
   "outputs": [
    {
     "name": "stdout",
     "output_type": "stream",
     "text": [
      "ID             HOSTNAME   STATE      AVAILABILITY   MANAGER STATUS\n",
      "fuchgyw4eg2k   swmaster3  ready      active         reachable \n",
      "h3vft22hw8za   swnode1    ready      active                   \n",
      "i9126qign5e5   swnode2    ready      active                   \n",
      "ttx2b261g5lw   swmaster2  ready      active         reachable \n",
      "xqujlss033v2   swmaster1  ready      active         leader    \n"
     ]
    }
   ],
   "source": [
    "show_nodes(swmaster1)"
   ]
  },
  {
   "cell_type": "markdown",
   "metadata": {},
   "source": [
    "### Need to force 'leave' to remove managers from cluster\n",
    "\n",
    "## NOTE: dont remove swarm master nodes, this seems to break cluster ... currently"
   ]
  },
  {
   "cell_type": "code",
   "execution_count": 190,
   "metadata": {},
   "outputs": [
    {
     "name": "stdout",
     "output_type": "stream",
     "text": [
      "{'Addr': '104.236.221.68', 'State': 'ready'}\n",
      "{'Addr': '104.236.29.189', 'State': 'ready'}\n",
      "{'Addr': '104.131.74.237', 'State': 'ready'}\n",
      "{'Addr': '104.131.173.175', 'State': 'ready'}\n",
      "{'Addr': '104.236.74.87', 'State': 'ready'}\n"
     ]
    }
   ],
   "source": [
    "for node in swmaster1.nodes.list():\n",
    "    pp.pprint(node.attrs['Status'])"
   ]
  },
  {
   "cell_type": "code",
   "execution_count": 107,
   "metadata": {},
   "outputs": [
    {
     "data": {
      "text/plain": [
       "True"
      ]
     },
     "execution_count": 107,
     "metadata": {},
     "output_type": "execute_result"
    }
   ],
   "source": [
    "# Just for info - DON'T DO THIS (will prevent service creation from working - bug)\n",
    "\n",
    "# swmaster2.swarm.leave(force=True)\n",
    "# swmaster3.swarm.leave(force=True)"
   ]
  },
  {
   "cell_type": "code",
   "execution_count": 108,
   "metadata": {},
   "outputs": [
    {
     "name": "stdout",
     "output_type": "stream",
     "text": [
      "ID             HOSTNAME   STATUS     AVAILABILITY   MANAGER STATUS\n",
      "14es9c9bhcym   swmaster2  down       active         unreachable\n",
      "7sm2ij3pgadu   swmaster1  ready      active         leader    \n",
      "9u7l4zrewb5h   swnode2    ready      active                   \n",
      "wse9c8itne7y   swnode1    ready      active                   \n",
      "zotk91il0kuc   swmaster3  ready      active         unreachable\n"
     ]
    }
   ],
   "source": [
    "show_nodes(swmaster1)"
   ]
  },
  {
   "cell_type": "code",
   "execution_count": 109,
   "metadata": {},
   "outputs": [
    {
     "data": {
      "text/plain": [
       "True"
      ]
     },
     "execution_count": 109,
     "metadata": {},
     "output_type": "execute_result"
    }
   ],
   "source": [
    "# Just for info - DON'T DO THIS (will prevent service creation from working - bug)\n",
    "\n",
    "# m.rm(machine='swmaster2',force=True)\n",
    "# m.rm(machine='swmaster3',force=True)"
   ]
  },
  {
   "cell_type": "code",
   "execution_count": 115,
   "metadata": {},
   "outputs": [
    {
     "data": {
      "text/plain": [
       "True"
      ]
     },
     "execution_count": 115,
     "metadata": {},
     "output_type": "execute_result"
    }
   ],
   "source": [
    "m.rm(machine='swmaster3',force=True)"
   ]
  },
  {
   "cell_type": "code",
   "execution_count": 127,
   "metadata": {},
   "outputs": [
    {
     "name": "stdout",
     "output_type": "stream",
     "text": [
      "ID             HOSTNAME   STATE      AVAILABILITY   MANAGER STATUS\n",
      "14es9c9bhcym   swmaster2  down       active         unreachable\n",
      "7sm2ij3pgadu   swmaster1  ready      active         leader    \n",
      "9u7l4zrewb5h   swnode2    ready      active                   \n",
      "wse9c8itne7y   swnode1    ready      active                   \n",
      "zotk91il0kuc   swmaster3  ready      active         unreachable\n"
     ]
    }
   ],
   "source": [
    "show_nodes(swmaster1)"
   ]
  },
  {
   "cell_type": "markdown",
   "metadata": {},
   "source": [
    "### NOTE: incorrect status\n",
    "\n",
    "Our show_nodes method shows the managers are unreachable but still active and not necessarily down.\n",
    "\n",
    "See below, this seems to be a problem in the API, or docker module implementation:"
   ]
  },
  {
   "cell_type": "code",
   "execution_count": 130,
   "metadata": {},
   "outputs": [
    {
     "name": "stdout",
     "output_type": "stream",
     "text": [
      "{'Addr': '104.131.82.69', 'Message': 'heartbeat failure', 'State': 'down'}\n",
      "{'Addr': '104.131.42.152', 'State': 'ready'}\n",
      "{'Addr': '104.131.60.217', 'State': 'ready'}\n",
      "{'Addr': '104.131.36.193', 'State': 'ready'}\n",
      "{'Addr': '104.131.82.251', 'State': 'ready'}\n"
     ]
    }
   ],
   "source": [
    "for node in swmaster1.nodes.list():\n",
    "    pp.pprint(node.attrs['Status'])"
   ]
  },
  {
   "cell_type": "markdown",
   "metadata": {},
   "source": [
    "# start service\n",
    "\n",
    "First we check for any running services - there should be none in our newly initialized cluster:"
   ]
  },
  {
   "cell_type": "code",
   "execution_count": 191,
   "metadata": {},
   "outputs": [
    {
     "data": {
      "text/plain": [
       "[]"
      ]
     },
     "execution_count": 191,
     "metadata": {},
     "output_type": "execute_result"
    }
   ],
   "source": [
    "swmaster1.services.list()"
   ]
  },
  {
   "cell_type": "markdown",
   "metadata": {},
   "source": [
    "Now we will create a new service based on the docker image mariolet/docker-demo\n",
    "\n",
    "We will expose this service on port 8080\n"
   ]
  },
  {
   "cell_type": "code",
   "execution_count": 192,
   "metadata": {
    "collapsed": true
   },
   "outputs": [],
   "source": [
    "swmaster1.services.create??"
   ]
  },
  {
   "cell_type": "code",
   "execution_count": 193,
   "metadata": {
    "collapsed": true
   },
   "outputs": [],
   "source": [
    "docker.types.ContainerSpec?"
   ]
  },
  {
   "cell_type": "markdown",
   "metadata": {},
   "source": [
    "## Create a service\n",
    "\n",
    "Now let us use the Client API to create a new service\n",
    "\n",
    "Note how we create ContainerSpec and TaskTemplate types wich we pass to the Client.Services.create() method\n",
    "\n",
    "Here is a first version, which launches an alpine image which runs for 60 seconds:"
   ]
  },
  {
   "cell_type": "code",
   "execution_count": 135,
   "metadata": {
    "collapsed": true
   },
   "outputs": [],
   "source": [
    "IMAGE = 'alpine'\n",
    "\n",
    "container_spec = docker.types.ContainerSpec(\n",
    "    IMAGE, ['echo', 'hello']\n",
    ")\n",
    "\n",
    "\"\"\"\n",
    "endpoint_spec = docker.types.EndpointSpec(ports={\n",
    "    12357: (1990, 'udp'),\n",
    "    12562: (678,),\n",
    "    53243: 8080,\n",
    "})\n",
    "\"\"\"\n",
    "endpoint_spec = docker.types.EndpointSpec(ports={\n",
    "    8080: 8080,\n",
    "})\n",
    "\n",
    "task_tmpl = docker.types.TaskTemplate(container_spec)"
   ]
  },
  {
   "cell_type": "code",
   "execution_count": 194,
   "metadata": {
    "collapsed": true
   },
   "outputs": [],
   "source": [
    "swmaster1.services.create??"
   ]
  },
  {
   "cell_type": "code",
   "execution_count": 195,
   "metadata": {},
   "outputs": [],
   "source": [
    "#swmaster1.services.create(task_tmpl, name='docker-demo', endpoint_spec=endpoint_spec)\n",
    "\n",
    "service = swmaster1.services.create(\n",
    "            # create arguments\n",
    "            name='alpine-test',\n",
    "            labels={'foo': 'bar'},\n",
    "            # ContainerSpec arguments\n",
    "            image=IMAGE,\n",
    "            command=\"sleep 60\",\n",
    "            container_labels={'container': 'label'}\n",
    "        )"
   ]
  },
  {
   "cell_type": "code",
   "execution_count": 196,
   "metadata": {},
   "outputs": [
    {
     "data": {
      "text/plain": [
       "[<Service: tsvu8mr156>]"
      ]
     },
     "execution_count": 196,
     "metadata": {},
     "output_type": "execute_result"
    }
   ],
   "source": [
    "swmaster1.services.list()"
   ]
  },
  {
   "cell_type": "markdown",
   "metadata": {},
   "source": [
    "after 1 min ..."
   ]
  },
  {
   "cell_type": "code",
   "execution_count": 197,
   "metadata": {},
   "outputs": [
    {
     "data": {
      "text/plain": [
       "[<Service: tsvu8mr156>]"
      ]
     },
     "execution_count": 197,
     "metadata": {},
     "output_type": "execute_result"
    }
   ],
   "source": [
    "swmaster1.services.list()"
   ]
  },
  {
   "cell_type": "code",
   "execution_count": 1,
   "metadata": {},
   "outputs": [
    {
     "ename": "NameError",
     "evalue": "name 'swmaster1' is not defined",
     "output_type": "error",
     "traceback": [
      "\u001b[0;31m---------------------------------------------------------------------------\u001b[0m",
      "\u001b[0;31mNameError\u001b[0m                                 Traceback (most recent call last)",
      "\u001b[0;32m<ipython-input-1-72df0f0b6a6a>\u001b[0m in \u001b[0;36m<module>\u001b[0;34m()\u001b[0m\n\u001b[0;32m----> 1\u001b[0;31m \u001b[0mservice\u001b[0m \u001b[0;34m=\u001b[0m \u001b[0mswmaster1\u001b[0m\u001b[0;34m.\u001b[0m\u001b[0mservices\u001b[0m\u001b[0;34m.\u001b[0m\u001b[0mlist\u001b[0m\u001b[0;34m(\u001b[0m\u001b[0;34m)\u001b[0m\u001b[0;34m[\u001b[0m\u001b[0;36m0\u001b[0m\u001b[0;34m]\u001b[0m\u001b[0;34m\u001b[0m\u001b[0m\n\u001b[0m\u001b[1;32m      2\u001b[0m \u001b[0mprint\u001b[0m\u001b[0;34m(\u001b[0m\u001b[0mservice\u001b[0m\u001b[0;34m)\u001b[0m\u001b[0;34m\u001b[0m\u001b[0m\n\u001b[1;32m      3\u001b[0m \u001b[0mservice_id\u001b[0m \u001b[0;34m=\u001b[0m \u001b[0mservice\u001b[0m\u001b[0;34m.\u001b[0m\u001b[0mid\u001b[0m\u001b[0;34m\u001b[0m\u001b[0m\n\u001b[1;32m      4\u001b[0m \u001b[0;34m\u001b[0m\u001b[0m\n\u001b[1;32m      5\u001b[0m \u001b[0mprint\u001b[0m\u001b[0;34m(\u001b[0m\u001b[0mservice\u001b[0m\u001b[0;34m.\u001b[0m\u001b[0mattrs\u001b[0m\u001b[0;34m)\u001b[0m\u001b[0;34m\u001b[0m\u001b[0m\n",
      "\u001b[0;31mNameError\u001b[0m: name 'swmaster1' is not defined"
     ]
    }
   ],
   "source": [
    "service = swmaster1.services.list()[0]\n",
    "print(service)\n",
    "service_id = service.id\n",
    "\n",
    "print(service.attrs)\n",
    "\n",
    "for task in service.tasks():\n",
    "    pp.pprint(task)\n",
    "    break\n",
    "    #exit()\n",
    "#pp.pprint(service.tasks())\n"
   ]
  },
  {
   "cell_type": "code",
   "execution_count": 94,
   "metadata": {},
   "outputs": [
    {
     "data": {
      "text/plain": [
       "[]"
      ]
     },
     "execution_count": 94,
     "metadata": {},
     "output_type": "execute_result"
    }
   ],
   "source": [
    "swmaster1.containers.list()"
   ]
  },
  {
   "cell_type": "code",
   "execution_count": null,
   "metadata": {
    "collapsed": true
   },
   "outputs": [],
   "source": [
    "#swmaster1.services.create(image=IMAGE, name='docker-demo', labels={'label1': 'label2'}, command=None)"
   ]
  },
  {
   "cell_type": "code",
   "execution_count": null,
   "metadata": {
    "collapsed": true
   },
   "outputs": [],
   "source": [
    "NOW LAUNCH docker-demo"
   ]
  },
  {
   "cell_type": "code",
   "execution_count": 97,
   "metadata": {
    "collapsed": true
   },
   "outputs": [],
   "source": [
    "IMAGE = 'mariolet/docker-demo:20'\n",
    "IMAGE = 'mjbright/docker-demo:20'\n",
    "\n",
    "container_spec = docker.types.ContainerSpec(\n",
    "    IMAGE, ['echo', 'hello']\n",
    ")\n",
    "\n",
    "endpoint_spec = docker.types.EndpointSpec(ports={\n",
    "    8080: 8080,\n",
    "})\n",
    "\n",
    "\n",
    "task_tmpl = docker.types.TaskTemplate(container_spec)\n",
    "\n",
    "docker_demo_service = swmaster1.services.create(\n",
    "            # create arguments\n",
    "            name='docker-demo',\n",
    "            labels={'label1': 'value1'},\n",
    "            # ContainerSpec arguments\n",
    "            image=IMAGE,\n",
    "            #command=\"sleep 60\",\n",
    "            container_labels={'container': 'label'},\n",
    "    endpoint_spec=endpoint_spec\n",
    "        )\n"
   ]
  },
  {
   "cell_type": "code",
   "execution_count": 100,
   "metadata": {},
   "outputs": [
    {
     "name": "stdout",
     "output_type": "stream",
     "text": [
      "Setting up alias/DOCKER_HOST for 17.03.0-ce [/home/mjb/DOCKER/docker-17.03.0-ce]\n",
      "ID            NAME           IMAGE                    NODE     DESIRED STATE  CURRENT STATE          ERROR  PORTS\n",
      "xih50ozcc6bq  docker-demo.1  mjbright/docker-demo:20  swnode1  Running        Running 2 minutes ago         \n"
     ]
    }
   ],
   "source": [
    "#BUT PORTS NOT SHOWING:\n",
    "    \n",
    "#!. /home/mjb/.docker.rc; docker $(docker-machine config swmaster1) service ps docker-demo"
   ]
  },
  {
   "cell_type": "code",
   "execution_count": 107,
   "metadata": {},
   "outputs": [
    {
     "name": "stdout",
     "output_type": "stream",
     "text": [
      "Setting up alias/DOCKER_HOST for 17.03.0-ce [/home/mjb/DOCKER/docker-17.03.0-ce]\n",
      "bk8zos222khy87rzqxbha1qc4\n"
     ]
    }
   ],
   "source": [
    "#!. /home/mjb/.docker.rc; docker $(docker-machine config swmaster1) service create --replicas 1 --name docker-demo-via-cli -p 9090:8080 mariolet/docker-demo:20"
   ]
  },
  {
   "cell_type": "code",
   "execution_count": null,
   "metadata": {
    "collapsed": true
   },
   "outputs": [],
   "source": [
    "#!. /home/mjb/.docker.rc; docker $(docker-machine config swmaster1) service ps docker-demo-via-cli\n",
    "#!. /home/mjb/.docker.rc; docker $(docker-machine config swmaster1) service rm docker-demo-via-cli"
   ]
  },
  {
   "cell_type": "markdown",
   "metadata": {},
   "source": [
    "Now we list services again and we should see our newly added docker-demo service"
   ]
  },
  {
   "cell_type": "code",
   "execution_count": 113,
   "metadata": {},
   "outputs": [
    {
     "data": {
      "text/plain": [
       "[<Service: byxykanzxx>, <Service: nlyczl6x63>]"
      ]
     },
     "execution_count": 113,
     "metadata": {},
     "output_type": "execute_result"
    }
   ],
   "source": [
    "swmaster1.services.list()"
   ]
  },
  {
   "cell_type": "code",
   "execution_count": 121,
   "metadata": {},
   "outputs": [
    {
     "name": "stdout",
     "output_type": "stream",
     "text": [
      "<Service: byxykanzxx>: testname\n",
      "<Service: nlyczl6x63>: docker-demo\n"
     ]
    }
   ],
   "source": [
    "def showServices(master):\n",
    "    for service in master.services.list():\n",
    "        print(\"{}: {}\".format(service, service.name))\n",
    "\n",
    "showServices(swmaster1)"
   ]
  },
  {
   "cell_type": "code",
   "execution_count": 126,
   "metadata": {},
   "outputs": [
    {
     "name": "stdout",
     "output_type": "stream",
     "text": [
      "<Service: nlyczl6x63>: docker-demo\n"
     ]
    }
   ],
   "source": [
    "swmaster1.services.get(service_id='byxykanzxx').remove()\n",
    "\n",
    "showServices(swmaster1)"
   ]
  },
  {
   "cell_type": "markdown",
   "metadata": {},
   "source": [
    "... and we can look at the service as seen by the cluster:"
   ]
  },
  {
   "cell_type": "code",
   "execution_count": null,
   "metadata": {
    "collapsed": true
   },
   "outputs": [],
   "source": [
    "\n",
    "docker $(docker-machine config swmaster1) service ps docker-demo"
   ]
  },
  {
   "cell_type": "markdown",
   "metadata": {},
   "source": [
    "... and we can look at the service on the individual cluster nodes.\n",
    "\n",
    "Of course as we set replicas to 1 there is only 1 replica of the service for the moment, running on just 1 node of our cluster:"
   ]
  },
  {
   "cell_type": "code",
   "execution_count": 128,
   "metadata": {},
   "outputs": [
    {
     "data": {
      "text/plain": [
       "[{'CreatedAt': '2017-05-03T21:14:52.675436545Z',\n",
       "  'DesiredState': 'running',\n",
       "  'ID': 'xih50ozcc6bq663kpubk4aqby',\n",
       "  'Labels': {},\n",
       "  'NetworksAttachments': [{'Addresses': ['10.255.0.10/16'],\n",
       "    'Network': {'CreatedAt': '2017-05-03T20:47:10.978500208Z',\n",
       "     'DriverState': {'Name': 'overlay',\n",
       "      'Options': {'com.docker.network.driver.overlay.vxlanid_list': '4096'}},\n",
       "     'ID': 'b2nkmd57pjunz0n12f7rofdra',\n",
       "     'IPAMOptions': {'Configs': [{'Gateway': '10.255.0.1',\n",
       "        'Subnet': '10.255.0.0/16'}],\n",
       "      'Driver': {'Name': 'default'}},\n",
       "     'Spec': {'DriverConfiguration': {},\n",
       "      'IPAMOptions': {'Configs': [{'Gateway': '10.255.0.1',\n",
       "         'Subnet': '10.255.0.0/16'}],\n",
       "       'Driver': {}},\n",
       "      'Labels': {'com.docker.swarm.internal': 'true'},\n",
       "      'Name': 'ingress'},\n",
       "     'UpdatedAt': '2017-05-03T20:47:10.980143313Z',\n",
       "     'Version': {'Index': 7}}}],\n",
       "  'NodeID': 'n9xctssozkkuszohp7ikngdv9',\n",
       "  'ServiceID': 'nlyczl6x63dlwqk6iss7wsz7h',\n",
       "  'Slot': 1,\n",
       "  'Spec': {'ContainerSpec': {'Image': 'mjbright/docker-demo:20@sha256:fdfb575bdfda156d5b06c7994deb770aac0efdacc3c91f285a35da8582772487',\n",
       "    'Labels': {'container': 'label'}},\n",
       "   'ForceUpdate': 0},\n",
       "  'Status': {'ContainerStatus': {'ContainerID': '6b501248ccd9616dc19a469c194101124387bc66e88e3e4bb1888006a7a85225',\n",
       "    'PID': 4184},\n",
       "   'Message': 'started',\n",
       "   'PortStatus': {},\n",
       "   'State': 'running',\n",
       "   'Timestamp': '2017-05-03T21:15:02.425708677Z'},\n",
       "  'UpdatedAt': '2017-05-03T21:15:02.467603916Z',\n",
       "  'Version': {'Index': 65}}]"
      ]
     },
     "execution_count": 128,
     "metadata": {},
     "output_type": "execute_result"
    }
   ],
   "source": [
    "service = swmaster1.services.list()[0]\n",
    "\n",
    "service.tasks()\n"
   ]
  },
  {
   "cell_type": "code",
   "execution_count": null,
   "metadata": {
    "collapsed": true
   },
   "outputs": [],
   "source": [
    "service = swnode1.services.list()[0]\n",
    "\n",
    "service.tasks()"
   ]
  },
  {
   "cell_type": "code",
   "execution_count": 130,
   "metadata": {},
   "outputs": [
    {
     "ename": "ReadTimeout",
     "evalue": "HTTPSConnectionPool(host='192.168.99.103', port=2376): Read timed out. (read timeout=60)",
     "output_type": "error",
     "traceback": [
      "\u001b[0;31m---------------------------------------------------------------------------\u001b[0m",
      "\u001b[0;31mtimeout\u001b[0m                                   Traceback (most recent call last)",
      "\u001b[0;32m/home/mjb/usr/anaconda3/lib/python3.6/site-packages/requests/packages/urllib3/connectionpool.py\u001b[0m in \u001b[0;36m_make_request\u001b[0;34m(self, conn, method, url, timeout, chunked, **httplib_request_kw)\u001b[0m\n\u001b[1;32m    385\u001b[0m                     \u001b[0;31m# otherwise it looks like a programming error was the cause.\u001b[0m\u001b[0;34m\u001b[0m\u001b[0;34m\u001b[0m\u001b[0m\n\u001b[0;32m--> 386\u001b[0;31m                     \u001b[0msix\u001b[0m\u001b[0;34m.\u001b[0m\u001b[0mraise_from\u001b[0m\u001b[0;34m(\u001b[0m\u001b[0me\u001b[0m\u001b[0;34m,\u001b[0m \u001b[0;32mNone\u001b[0m\u001b[0;34m)\u001b[0m\u001b[0;34m\u001b[0m\u001b[0m\n\u001b[0m\u001b[1;32m    387\u001b[0m         \u001b[0;32mexcept\u001b[0m \u001b[0;34m(\u001b[0m\u001b[0mSocketTimeout\u001b[0m\u001b[0;34m,\u001b[0m \u001b[0mBaseSSLError\u001b[0m\u001b[0;34m,\u001b[0m \u001b[0mSocketError\u001b[0m\u001b[0;34m)\u001b[0m \u001b[0;32mas\u001b[0m \u001b[0me\u001b[0m\u001b[0;34m:\u001b[0m\u001b[0;34m\u001b[0m\u001b[0m\n",
      "\u001b[0;32m/home/mjb/usr/anaconda3/lib/python3.6/site-packages/requests/packages/urllib3/packages/six.py\u001b[0m in \u001b[0;36mraise_from\u001b[0;34m(value, from_value)\u001b[0m\n",
      "\u001b[0;32m/home/mjb/usr/anaconda3/lib/python3.6/site-packages/requests/packages/urllib3/connectionpool.py\u001b[0m in \u001b[0;36m_make_request\u001b[0;34m(self, conn, method, url, timeout, chunked, **httplib_request_kw)\u001b[0m\n\u001b[1;32m    381\u001b[0m                 \u001b[0;32mtry\u001b[0m\u001b[0;34m:\u001b[0m\u001b[0;34m\u001b[0m\u001b[0m\n\u001b[0;32m--> 382\u001b[0;31m                     \u001b[0mhttplib_response\u001b[0m \u001b[0;34m=\u001b[0m \u001b[0mconn\u001b[0m\u001b[0;34m.\u001b[0m\u001b[0mgetresponse\u001b[0m\u001b[0;34m(\u001b[0m\u001b[0;34m)\u001b[0m\u001b[0;34m\u001b[0m\u001b[0m\n\u001b[0m\u001b[1;32m    383\u001b[0m                 \u001b[0;32mexcept\u001b[0m \u001b[0mException\u001b[0m \u001b[0;32mas\u001b[0m \u001b[0me\u001b[0m\u001b[0;34m:\u001b[0m\u001b[0;34m\u001b[0m\u001b[0m\n",
      "\u001b[0;32m/home/mjb/usr/anaconda3/lib/python3.6/http/client.py\u001b[0m in \u001b[0;36mgetresponse\u001b[0;34m(self)\u001b[0m\n\u001b[1;32m   1330\u001b[0m             \u001b[0;32mtry\u001b[0m\u001b[0;34m:\u001b[0m\u001b[0;34m\u001b[0m\u001b[0m\n\u001b[0;32m-> 1331\u001b[0;31m                 \u001b[0mresponse\u001b[0m\u001b[0;34m.\u001b[0m\u001b[0mbegin\u001b[0m\u001b[0;34m(\u001b[0m\u001b[0;34m)\u001b[0m\u001b[0;34m\u001b[0m\u001b[0m\n\u001b[0m\u001b[1;32m   1332\u001b[0m             \u001b[0;32mexcept\u001b[0m \u001b[0mConnectionError\u001b[0m\u001b[0;34m:\u001b[0m\u001b[0;34m\u001b[0m\u001b[0m\n",
      "\u001b[0;32m/home/mjb/usr/anaconda3/lib/python3.6/http/client.py\u001b[0m in \u001b[0;36mbegin\u001b[0;34m(self)\u001b[0m\n\u001b[1;32m    296\u001b[0m         \u001b[0;32mwhile\u001b[0m \u001b[0;32mTrue\u001b[0m\u001b[0;34m:\u001b[0m\u001b[0;34m\u001b[0m\u001b[0m\n\u001b[0;32m--> 297\u001b[0;31m             \u001b[0mversion\u001b[0m\u001b[0;34m,\u001b[0m \u001b[0mstatus\u001b[0m\u001b[0;34m,\u001b[0m \u001b[0mreason\u001b[0m \u001b[0;34m=\u001b[0m \u001b[0mself\u001b[0m\u001b[0;34m.\u001b[0m\u001b[0m_read_status\u001b[0m\u001b[0;34m(\u001b[0m\u001b[0;34m)\u001b[0m\u001b[0;34m\u001b[0m\u001b[0m\n\u001b[0m\u001b[1;32m    298\u001b[0m             \u001b[0;32mif\u001b[0m \u001b[0mstatus\u001b[0m \u001b[0;34m!=\u001b[0m \u001b[0mCONTINUE\u001b[0m\u001b[0;34m:\u001b[0m\u001b[0;34m\u001b[0m\u001b[0m\n",
      "\u001b[0;32m/home/mjb/usr/anaconda3/lib/python3.6/http/client.py\u001b[0m in \u001b[0;36m_read_status\u001b[0;34m(self)\u001b[0m\n\u001b[1;32m    257\u001b[0m     \u001b[0;32mdef\u001b[0m \u001b[0m_read_status\u001b[0m\u001b[0;34m(\u001b[0m\u001b[0mself\u001b[0m\u001b[0;34m)\u001b[0m\u001b[0;34m:\u001b[0m\u001b[0;34m\u001b[0m\u001b[0m\n\u001b[0;32m--> 258\u001b[0;31m         \u001b[0mline\u001b[0m \u001b[0;34m=\u001b[0m \u001b[0mstr\u001b[0m\u001b[0;34m(\u001b[0m\u001b[0mself\u001b[0m\u001b[0;34m.\u001b[0m\u001b[0mfp\u001b[0m\u001b[0;34m.\u001b[0m\u001b[0mreadline\u001b[0m\u001b[0;34m(\u001b[0m\u001b[0m_MAXLINE\u001b[0m \u001b[0;34m+\u001b[0m \u001b[0;36m1\u001b[0m\u001b[0;34m)\u001b[0m\u001b[0;34m,\u001b[0m \u001b[0;34m\"iso-8859-1\"\u001b[0m\u001b[0;34m)\u001b[0m\u001b[0;34m\u001b[0m\u001b[0m\n\u001b[0m\u001b[1;32m    259\u001b[0m         \u001b[0;32mif\u001b[0m \u001b[0mlen\u001b[0m\u001b[0;34m(\u001b[0m\u001b[0mline\u001b[0m\u001b[0;34m)\u001b[0m \u001b[0;34m>\u001b[0m \u001b[0m_MAXLINE\u001b[0m\u001b[0;34m:\u001b[0m\u001b[0;34m\u001b[0m\u001b[0m\n",
      "\u001b[0;32m/home/mjb/usr/anaconda3/lib/python3.6/socket.py\u001b[0m in \u001b[0;36mreadinto\u001b[0;34m(self, b)\u001b[0m\n\u001b[1;32m    585\u001b[0m             \u001b[0;32mtry\u001b[0m\u001b[0;34m:\u001b[0m\u001b[0;34m\u001b[0m\u001b[0m\n\u001b[0;32m--> 586\u001b[0;31m                 \u001b[0;32mreturn\u001b[0m \u001b[0mself\u001b[0m\u001b[0;34m.\u001b[0m\u001b[0m_sock\u001b[0m\u001b[0;34m.\u001b[0m\u001b[0mrecv_into\u001b[0m\u001b[0;34m(\u001b[0m\u001b[0mb\u001b[0m\u001b[0;34m)\u001b[0m\u001b[0;34m\u001b[0m\u001b[0m\n\u001b[0m\u001b[1;32m    587\u001b[0m             \u001b[0;32mexcept\u001b[0m \u001b[0mtimeout\u001b[0m\u001b[0;34m:\u001b[0m\u001b[0;34m\u001b[0m\u001b[0m\n",
      "\u001b[0;32m/home/mjb/usr/anaconda3/lib/python3.6/site-packages/requests/packages/urllib3/contrib/pyopenssl.py\u001b[0m in \u001b[0;36mrecv_into\u001b[0;34m(self, *args, **kwargs)\u001b[0m\n\u001b[1;32m    290\u001b[0m             \u001b[0;32mif\u001b[0m \u001b[0;32mnot\u001b[0m \u001b[0mrd\u001b[0m\u001b[0;34m:\u001b[0m\u001b[0;34m\u001b[0m\u001b[0m\n\u001b[0;32m--> 291\u001b[0;31m                 \u001b[0;32mraise\u001b[0m \u001b[0mtimeout\u001b[0m\u001b[0;34m(\u001b[0m\u001b[0;34m'The read operation timed out'\u001b[0m\u001b[0;34m)\u001b[0m\u001b[0;34m\u001b[0m\u001b[0m\n\u001b[0m\u001b[1;32m    292\u001b[0m             \u001b[0;32melse\u001b[0m\u001b[0;34m:\u001b[0m\u001b[0;34m\u001b[0m\u001b[0m\n",
      "\u001b[0;31mtimeout\u001b[0m: The read operation timed out",
      "\nDuring handling of the above exception, another exception occurred:\n",
      "\u001b[0;31mReadTimeoutError\u001b[0m                          Traceback (most recent call last)",
      "\u001b[0;32m/home/mjb/usr/anaconda3/lib/python3.6/site-packages/requests/adapters.py\u001b[0m in \u001b[0;36msend\u001b[0;34m(self, request, stream, timeout, verify, cert, proxies)\u001b[0m\n\u001b[1;32m    422\u001b[0m                     \u001b[0mretries\u001b[0m\u001b[0;34m=\u001b[0m\u001b[0mself\u001b[0m\u001b[0;34m.\u001b[0m\u001b[0mmax_retries\u001b[0m\u001b[0;34m,\u001b[0m\u001b[0;34m\u001b[0m\u001b[0m\n\u001b[0;32m--> 423\u001b[0;31m                     \u001b[0mtimeout\u001b[0m\u001b[0;34m=\u001b[0m\u001b[0mtimeout\u001b[0m\u001b[0;34m\u001b[0m\u001b[0m\n\u001b[0m\u001b[1;32m    424\u001b[0m                 )\n",
      "\u001b[0;32m/home/mjb/usr/anaconda3/lib/python3.6/site-packages/requests/packages/urllib3/connectionpool.py\u001b[0m in \u001b[0;36murlopen\u001b[0;34m(self, method, url, body, headers, retries, redirect, assert_same_host, timeout, pool_timeout, release_conn, chunked, body_pos, **response_kw)\u001b[0m\n\u001b[1;32m    648\u001b[0m             retries = retries.increment(method, url, error=e, _pool=self,\n\u001b[0;32m--> 649\u001b[0;31m                                         _stacktrace=sys.exc_info()[2])\n\u001b[0m\u001b[1;32m    650\u001b[0m             \u001b[0mretries\u001b[0m\u001b[0;34m.\u001b[0m\u001b[0msleep\u001b[0m\u001b[0;34m(\u001b[0m\u001b[0;34m)\u001b[0m\u001b[0;34m\u001b[0m\u001b[0m\n",
      "\u001b[0;32m/home/mjb/usr/anaconda3/lib/python3.6/site-packages/requests/packages/urllib3/util/retry.py\u001b[0m in \u001b[0;36mincrement\u001b[0;34m(self, method, url, response, error, _pool, _stacktrace)\u001b[0m\n\u001b[1;32m    346\u001b[0m             \u001b[0;32mif\u001b[0m \u001b[0mread\u001b[0m \u001b[0;32mis\u001b[0m \u001b[0;32mFalse\u001b[0m \u001b[0;32mor\u001b[0m \u001b[0;32mnot\u001b[0m \u001b[0mself\u001b[0m\u001b[0;34m.\u001b[0m\u001b[0m_is_method_retryable\u001b[0m\u001b[0;34m(\u001b[0m\u001b[0mmethod\u001b[0m\u001b[0;34m)\u001b[0m\u001b[0;34m:\u001b[0m\u001b[0;34m\u001b[0m\u001b[0m\n\u001b[0;32m--> 347\u001b[0;31m                 \u001b[0;32mraise\u001b[0m \u001b[0msix\u001b[0m\u001b[0;34m.\u001b[0m\u001b[0mreraise\u001b[0m\u001b[0;34m(\u001b[0m\u001b[0mtype\u001b[0m\u001b[0;34m(\u001b[0m\u001b[0merror\u001b[0m\u001b[0;34m)\u001b[0m\u001b[0;34m,\u001b[0m \u001b[0merror\u001b[0m\u001b[0;34m,\u001b[0m \u001b[0m_stacktrace\u001b[0m\u001b[0;34m)\u001b[0m\u001b[0;34m\u001b[0m\u001b[0m\n\u001b[0m\u001b[1;32m    348\u001b[0m             \u001b[0;32melif\u001b[0m \u001b[0mread\u001b[0m \u001b[0;32mis\u001b[0m \u001b[0;32mnot\u001b[0m \u001b[0;32mNone\u001b[0m\u001b[0;34m:\u001b[0m\u001b[0;34m\u001b[0m\u001b[0m\n",
      "\u001b[0;32m/home/mjb/usr/anaconda3/lib/python3.6/site-packages/requests/packages/urllib3/packages/six.py\u001b[0m in \u001b[0;36mreraise\u001b[0;34m(tp, value, tb)\u001b[0m\n\u001b[1;32m    685\u001b[0m             \u001b[0;32mraise\u001b[0m \u001b[0mvalue\u001b[0m\u001b[0;34m.\u001b[0m\u001b[0mwith_traceback\u001b[0m\u001b[0;34m(\u001b[0m\u001b[0mtb\u001b[0m\u001b[0;34m)\u001b[0m\u001b[0;34m\u001b[0m\u001b[0m\n\u001b[0;32m--> 686\u001b[0;31m         \u001b[0;32mraise\u001b[0m \u001b[0mvalue\u001b[0m\u001b[0;34m\u001b[0m\u001b[0m\n\u001b[0m\u001b[1;32m    687\u001b[0m \u001b[0;34m\u001b[0m\u001b[0m\n",
      "\u001b[0;32m/home/mjb/usr/anaconda3/lib/python3.6/site-packages/requests/packages/urllib3/connectionpool.py\u001b[0m in \u001b[0;36murlopen\u001b[0;34m(self, method, url, body, headers, retries, redirect, assert_same_host, timeout, pool_timeout, release_conn, chunked, body_pos, **response_kw)\u001b[0m\n\u001b[1;32m    599\u001b[0m                                                   \u001b[0mbody\u001b[0m\u001b[0;34m=\u001b[0m\u001b[0mbody\u001b[0m\u001b[0;34m,\u001b[0m \u001b[0mheaders\u001b[0m\u001b[0;34m=\u001b[0m\u001b[0mheaders\u001b[0m\u001b[0;34m,\u001b[0m\u001b[0;34m\u001b[0m\u001b[0m\n\u001b[0;32m--> 600\u001b[0;31m                                                   chunked=chunked)\n\u001b[0m\u001b[1;32m    601\u001b[0m \u001b[0;34m\u001b[0m\u001b[0m\n",
      "\u001b[0;32m/home/mjb/usr/anaconda3/lib/python3.6/site-packages/requests/packages/urllib3/connectionpool.py\u001b[0m in \u001b[0;36m_make_request\u001b[0;34m(self, conn, method, url, timeout, chunked, **httplib_request_kw)\u001b[0m\n\u001b[1;32m    387\u001b[0m         \u001b[0;32mexcept\u001b[0m \u001b[0;34m(\u001b[0m\u001b[0mSocketTimeout\u001b[0m\u001b[0;34m,\u001b[0m \u001b[0mBaseSSLError\u001b[0m\u001b[0;34m,\u001b[0m \u001b[0mSocketError\u001b[0m\u001b[0;34m)\u001b[0m \u001b[0;32mas\u001b[0m \u001b[0me\u001b[0m\u001b[0;34m:\u001b[0m\u001b[0;34m\u001b[0m\u001b[0m\n\u001b[0;32m--> 388\u001b[0;31m             \u001b[0mself\u001b[0m\u001b[0;34m.\u001b[0m\u001b[0m_raise_timeout\u001b[0m\u001b[0;34m(\u001b[0m\u001b[0merr\u001b[0m\u001b[0;34m=\u001b[0m\u001b[0me\u001b[0m\u001b[0;34m,\u001b[0m \u001b[0murl\u001b[0m\u001b[0;34m=\u001b[0m\u001b[0murl\u001b[0m\u001b[0;34m,\u001b[0m \u001b[0mtimeout_value\u001b[0m\u001b[0;34m=\u001b[0m\u001b[0mread_timeout\u001b[0m\u001b[0;34m)\u001b[0m\u001b[0;34m\u001b[0m\u001b[0m\n\u001b[0m\u001b[1;32m    389\u001b[0m             \u001b[0;32mraise\u001b[0m\u001b[0;34m\u001b[0m\u001b[0m\n",
      "\u001b[0;32m/home/mjb/usr/anaconda3/lib/python3.6/site-packages/requests/packages/urllib3/connectionpool.py\u001b[0m in \u001b[0;36m_raise_timeout\u001b[0;34m(self, err, url, timeout_value)\u001b[0m\n\u001b[1;32m    307\u001b[0m         \u001b[0;32mif\u001b[0m \u001b[0misinstance\u001b[0m\u001b[0;34m(\u001b[0m\u001b[0merr\u001b[0m\u001b[0;34m,\u001b[0m \u001b[0mSocketTimeout\u001b[0m\u001b[0;34m)\u001b[0m\u001b[0;34m:\u001b[0m\u001b[0;34m\u001b[0m\u001b[0m\n\u001b[0;32m--> 308\u001b[0;31m             \u001b[0;32mraise\u001b[0m \u001b[0mReadTimeoutError\u001b[0m\u001b[0;34m(\u001b[0m\u001b[0mself\u001b[0m\u001b[0;34m,\u001b[0m \u001b[0murl\u001b[0m\u001b[0;34m,\u001b[0m \u001b[0;34m\"Read timed out. (read timeout=%s)\"\u001b[0m \u001b[0;34m%\u001b[0m \u001b[0mtimeout_value\u001b[0m\u001b[0;34m)\u001b[0m\u001b[0;34m\u001b[0m\u001b[0m\n\u001b[0m\u001b[1;32m    309\u001b[0m \u001b[0;34m\u001b[0m\u001b[0m\n",
      "\u001b[0;31mReadTimeoutError\u001b[0m: HTTPSConnectionPool(host='192.168.99.103', port=2376): Read timed out. (read timeout=60)",
      "\nDuring handling of the above exception, another exception occurred:\n",
      "\u001b[0;31mReadTimeout\u001b[0m                               Traceback (most recent call last)",
      "\u001b[0;32m<ipython-input-130-c1359952062c>\u001b[0m in \u001b[0;36m<module>\u001b[0;34m()\u001b[0m\n\u001b[0;32m----> 1\u001b[0;31m \u001b[0mservice\u001b[0m \u001b[0;34m=\u001b[0m \u001b[0mswnode1\u001b[0m\u001b[0;34m.\u001b[0m\u001b[0mservices\u001b[0m\u001b[0;34m.\u001b[0m\u001b[0mlist\u001b[0m\u001b[0;34m(\u001b[0m\u001b[0;34m)\u001b[0m\u001b[0;34m[\u001b[0m\u001b[0;36m0\u001b[0m\u001b[0;34m]\u001b[0m\u001b[0;34m\u001b[0m\u001b[0m\n\u001b[0m\u001b[1;32m      2\u001b[0m \u001b[0;34m\u001b[0m\u001b[0m\n\u001b[1;32m      3\u001b[0m \u001b[0mservice\u001b[0m\u001b[0;34m.\u001b[0m\u001b[0mtasks\u001b[0m\u001b[0;34m(\u001b[0m\u001b[0;34m)\u001b[0m\u001b[0;34m\u001b[0m\u001b[0m\n",
      "\u001b[0;32m/home/mjb/usr/anaconda3/lib/python3.6/site-packages/docker/models/services.py\u001b[0m in \u001b[0;36mlist\u001b[0;34m(self, **kwargs)\u001b[0m\n\u001b[1;32m    196\u001b[0m         return [\n\u001b[1;32m    197\u001b[0m             \u001b[0mself\u001b[0m\u001b[0;34m.\u001b[0m\u001b[0mprepare_model\u001b[0m\u001b[0;34m(\u001b[0m\u001b[0ms\u001b[0m\u001b[0;34m)\u001b[0m\u001b[0;34m\u001b[0m\u001b[0m\n\u001b[0;32m--> 198\u001b[0;31m             \u001b[0;32mfor\u001b[0m \u001b[0ms\u001b[0m \u001b[0;32min\u001b[0m \u001b[0mself\u001b[0m\u001b[0;34m.\u001b[0m\u001b[0mclient\u001b[0m\u001b[0;34m.\u001b[0m\u001b[0mapi\u001b[0m\u001b[0;34m.\u001b[0m\u001b[0mservices\u001b[0m\u001b[0;34m(\u001b[0m\u001b[0;34m**\u001b[0m\u001b[0mkwargs\u001b[0m\u001b[0;34m)\u001b[0m\u001b[0;34m\u001b[0m\u001b[0m\n\u001b[0m\u001b[1;32m    199\u001b[0m         ]\n\u001b[1;32m    200\u001b[0m \u001b[0;34m\u001b[0m\u001b[0m\n",
      "\u001b[0;32m/home/mjb/usr/anaconda3/lib/python3.6/site-packages/docker/utils/decorators.py\u001b[0m in \u001b[0;36mwrapper\u001b[0;34m(self, *args, **kwargs)\u001b[0m\n\u001b[1;32m     33\u001b[0m                     )\n\u001b[1;32m     34\u001b[0m                 )\n\u001b[0;32m---> 35\u001b[0;31m             \u001b[0;32mreturn\u001b[0m \u001b[0mf\u001b[0m\u001b[0;34m(\u001b[0m\u001b[0mself\u001b[0m\u001b[0;34m,\u001b[0m \u001b[0;34m*\u001b[0m\u001b[0margs\u001b[0m\u001b[0;34m,\u001b[0m \u001b[0;34m**\u001b[0m\u001b[0mkwargs\u001b[0m\u001b[0;34m)\u001b[0m\u001b[0;34m\u001b[0m\u001b[0m\n\u001b[0m\u001b[1;32m     36\u001b[0m         \u001b[0;32mreturn\u001b[0m \u001b[0mwrapper\u001b[0m\u001b[0;34m\u001b[0m\u001b[0m\n\u001b[1;32m     37\u001b[0m     \u001b[0;32mreturn\u001b[0m \u001b[0mdecorator\u001b[0m\u001b[0;34m\u001b[0m\u001b[0m\n",
      "\u001b[0;32m/home/mjb/usr/anaconda3/lib/python3.6/site-packages/docker/api/service.py\u001b[0m in \u001b[0;36mservices\u001b[0;34m(self, filters)\u001b[0m\n\u001b[1;32m    165\u001b[0m         }\n\u001b[1;32m    166\u001b[0m         \u001b[0murl\u001b[0m \u001b[0;34m=\u001b[0m \u001b[0mself\u001b[0m\u001b[0;34m.\u001b[0m\u001b[0m_url\u001b[0m\u001b[0;34m(\u001b[0m\u001b[0;34m'/services'\u001b[0m\u001b[0;34m)\u001b[0m\u001b[0;34m\u001b[0m\u001b[0m\n\u001b[0;32m--> 167\u001b[0;31m         \u001b[0;32mreturn\u001b[0m \u001b[0mself\u001b[0m\u001b[0;34m.\u001b[0m\u001b[0m_result\u001b[0m\u001b[0;34m(\u001b[0m\u001b[0mself\u001b[0m\u001b[0;34m.\u001b[0m\u001b[0m_get\u001b[0m\u001b[0;34m(\u001b[0m\u001b[0murl\u001b[0m\u001b[0;34m,\u001b[0m \u001b[0mparams\u001b[0m\u001b[0;34m=\u001b[0m\u001b[0mparams\u001b[0m\u001b[0;34m)\u001b[0m\u001b[0;34m,\u001b[0m \u001b[0;32mTrue\u001b[0m\u001b[0;34m)\u001b[0m\u001b[0;34m\u001b[0m\u001b[0m\n\u001b[0m\u001b[1;32m    168\u001b[0m \u001b[0;34m\u001b[0m\u001b[0m\n\u001b[1;32m    169\u001b[0m     \u001b[0;34m@\u001b[0m\u001b[0mutils\u001b[0m\u001b[0;34m.\u001b[0m\u001b[0mminimum_version\u001b[0m\u001b[0;34m(\u001b[0m\u001b[0;34m'1.25'\u001b[0m\u001b[0;34m)\u001b[0m\u001b[0;34m\u001b[0m\u001b[0m\n",
      "\u001b[0;32m/home/mjb/usr/anaconda3/lib/python3.6/site-packages/docker/utils/decorators.py\u001b[0m in \u001b[0;36minner\u001b[0;34m(self, *args, **kwargs)\u001b[0m\n\u001b[1;32m     45\u001b[0m             \u001b[0;32melse\u001b[0m\u001b[0;34m:\u001b[0m\u001b[0;34m\u001b[0m\u001b[0m\n\u001b[1;32m     46\u001b[0m                 \u001b[0mkwargs\u001b[0m\u001b[0;34m[\u001b[0m\u001b[0;34m'headers'\u001b[0m\u001b[0;34m]\u001b[0m\u001b[0;34m.\u001b[0m\u001b[0mupdate\u001b[0m\u001b[0;34m(\u001b[0m\u001b[0mself\u001b[0m\u001b[0;34m.\u001b[0m\u001b[0m_auth_configs\u001b[0m\u001b[0;34m[\u001b[0m\u001b[0;34m'HttpHeaders'\u001b[0m\u001b[0;34m]\u001b[0m\u001b[0;34m)\u001b[0m\u001b[0;34m\u001b[0m\u001b[0m\n\u001b[0;32m---> 47\u001b[0;31m         \u001b[0;32mreturn\u001b[0m \u001b[0mf\u001b[0m\u001b[0;34m(\u001b[0m\u001b[0mself\u001b[0m\u001b[0;34m,\u001b[0m \u001b[0;34m*\u001b[0m\u001b[0margs\u001b[0m\u001b[0;34m,\u001b[0m \u001b[0;34m**\u001b[0m\u001b[0mkwargs\u001b[0m\u001b[0;34m)\u001b[0m\u001b[0;34m\u001b[0m\u001b[0m\n\u001b[0m\u001b[1;32m     48\u001b[0m     \u001b[0;32mreturn\u001b[0m \u001b[0minner\u001b[0m\u001b[0;34m\u001b[0m\u001b[0m\n",
      "\u001b[0;32m/home/mjb/usr/anaconda3/lib/python3.6/site-packages/docker/api/client.py\u001b[0m in \u001b[0;36m_get\u001b[0;34m(self, url, **kwargs)\u001b[0m\n\u001b[1;32m    181\u001b[0m     \u001b[0;34m@\u001b[0m\u001b[0mupdate_headers\u001b[0m\u001b[0;34m\u001b[0m\u001b[0m\n\u001b[1;32m    182\u001b[0m     \u001b[0;32mdef\u001b[0m \u001b[0m_get\u001b[0m\u001b[0;34m(\u001b[0m\u001b[0mself\u001b[0m\u001b[0;34m,\u001b[0m \u001b[0murl\u001b[0m\u001b[0;34m,\u001b[0m \u001b[0;34m**\u001b[0m\u001b[0mkwargs\u001b[0m\u001b[0;34m)\u001b[0m\u001b[0;34m:\u001b[0m\u001b[0;34m\u001b[0m\u001b[0m\n\u001b[0;32m--> 183\u001b[0;31m         \u001b[0;32mreturn\u001b[0m \u001b[0mself\u001b[0m\u001b[0;34m.\u001b[0m\u001b[0mget\u001b[0m\u001b[0;34m(\u001b[0m\u001b[0murl\u001b[0m\u001b[0;34m,\u001b[0m \u001b[0;34m**\u001b[0m\u001b[0mself\u001b[0m\u001b[0;34m.\u001b[0m\u001b[0m_set_request_timeout\u001b[0m\u001b[0;34m(\u001b[0m\u001b[0mkwargs\u001b[0m\u001b[0;34m)\u001b[0m\u001b[0;34m)\u001b[0m\u001b[0;34m\u001b[0m\u001b[0m\n\u001b[0m\u001b[1;32m    184\u001b[0m \u001b[0;34m\u001b[0m\u001b[0m\n\u001b[1;32m    185\u001b[0m     \u001b[0;34m@\u001b[0m\u001b[0mupdate_headers\u001b[0m\u001b[0;34m\u001b[0m\u001b[0m\n",
      "\u001b[0;32m/home/mjb/usr/anaconda3/lib/python3.6/site-packages/requests/sessions.py\u001b[0m in \u001b[0;36mget\u001b[0;34m(self, url, **kwargs)\u001b[0m\n\u001b[1;32m    499\u001b[0m \u001b[0;34m\u001b[0m\u001b[0m\n\u001b[1;32m    500\u001b[0m         \u001b[0mkwargs\u001b[0m\u001b[0;34m.\u001b[0m\u001b[0msetdefault\u001b[0m\u001b[0;34m(\u001b[0m\u001b[0;34m'allow_redirects'\u001b[0m\u001b[0;34m,\u001b[0m \u001b[0;32mTrue\u001b[0m\u001b[0;34m)\u001b[0m\u001b[0;34m\u001b[0m\u001b[0m\n\u001b[0;32m--> 501\u001b[0;31m         \u001b[0;32mreturn\u001b[0m \u001b[0mself\u001b[0m\u001b[0;34m.\u001b[0m\u001b[0mrequest\u001b[0m\u001b[0;34m(\u001b[0m\u001b[0;34m'GET'\u001b[0m\u001b[0;34m,\u001b[0m \u001b[0murl\u001b[0m\u001b[0;34m,\u001b[0m \u001b[0;34m**\u001b[0m\u001b[0mkwargs\u001b[0m\u001b[0;34m)\u001b[0m\u001b[0;34m\u001b[0m\u001b[0m\n\u001b[0m\u001b[1;32m    502\u001b[0m \u001b[0;34m\u001b[0m\u001b[0m\n\u001b[1;32m    503\u001b[0m     \u001b[0;32mdef\u001b[0m \u001b[0moptions\u001b[0m\u001b[0;34m(\u001b[0m\u001b[0mself\u001b[0m\u001b[0;34m,\u001b[0m \u001b[0murl\u001b[0m\u001b[0;34m,\u001b[0m \u001b[0;34m**\u001b[0m\u001b[0mkwargs\u001b[0m\u001b[0;34m)\u001b[0m\u001b[0;34m:\u001b[0m\u001b[0;34m\u001b[0m\u001b[0m\n",
      "\u001b[0;32m/home/mjb/usr/anaconda3/lib/python3.6/site-packages/requests/sessions.py\u001b[0m in \u001b[0;36mrequest\u001b[0;34m(self, method, url, params, data, headers, cookies, files, auth, timeout, allow_redirects, proxies, hooks, stream, verify, cert, json)\u001b[0m\n\u001b[1;32m    486\u001b[0m         }\n\u001b[1;32m    487\u001b[0m         \u001b[0msend_kwargs\u001b[0m\u001b[0;34m.\u001b[0m\u001b[0mupdate\u001b[0m\u001b[0;34m(\u001b[0m\u001b[0msettings\u001b[0m\u001b[0;34m)\u001b[0m\u001b[0;34m\u001b[0m\u001b[0m\n\u001b[0;32m--> 488\u001b[0;31m         \u001b[0mresp\u001b[0m \u001b[0;34m=\u001b[0m \u001b[0mself\u001b[0m\u001b[0;34m.\u001b[0m\u001b[0msend\u001b[0m\u001b[0;34m(\u001b[0m\u001b[0mprep\u001b[0m\u001b[0;34m,\u001b[0m \u001b[0;34m**\u001b[0m\u001b[0msend_kwargs\u001b[0m\u001b[0;34m)\u001b[0m\u001b[0;34m\u001b[0m\u001b[0m\n\u001b[0m\u001b[1;32m    489\u001b[0m \u001b[0;34m\u001b[0m\u001b[0m\n\u001b[1;32m    490\u001b[0m         \u001b[0;32mreturn\u001b[0m \u001b[0mresp\u001b[0m\u001b[0;34m\u001b[0m\u001b[0m\n",
      "\u001b[0;32m/home/mjb/usr/anaconda3/lib/python3.6/site-packages/requests/sessions.py\u001b[0m in \u001b[0;36msend\u001b[0;34m(self, request, **kwargs)\u001b[0m\n\u001b[1;32m    607\u001b[0m \u001b[0;34m\u001b[0m\u001b[0m\n\u001b[1;32m    608\u001b[0m         \u001b[0;31m# Send the request\u001b[0m\u001b[0;34m\u001b[0m\u001b[0;34m\u001b[0m\u001b[0m\n\u001b[0;32m--> 609\u001b[0;31m         \u001b[0mr\u001b[0m \u001b[0;34m=\u001b[0m \u001b[0madapter\u001b[0m\u001b[0;34m.\u001b[0m\u001b[0msend\u001b[0m\u001b[0;34m(\u001b[0m\u001b[0mrequest\u001b[0m\u001b[0;34m,\u001b[0m \u001b[0;34m**\u001b[0m\u001b[0mkwargs\u001b[0m\u001b[0;34m)\u001b[0m\u001b[0;34m\u001b[0m\u001b[0m\n\u001b[0m\u001b[1;32m    610\u001b[0m \u001b[0;34m\u001b[0m\u001b[0m\n\u001b[1;32m    611\u001b[0m         \u001b[0;31m# Total elapsed time of the request (approximately)\u001b[0m\u001b[0;34m\u001b[0m\u001b[0;34m\u001b[0m\u001b[0m\n",
      "\u001b[0;32m/home/mjb/usr/anaconda3/lib/python3.6/site-packages/requests/adapters.py\u001b[0m in \u001b[0;36msend\u001b[0;34m(self, request, stream, timeout, verify, cert, proxies)\u001b[0m\n\u001b[1;32m    497\u001b[0m                 \u001b[0;32mraise\u001b[0m \u001b[0mSSLError\u001b[0m\u001b[0;34m(\u001b[0m\u001b[0me\u001b[0m\u001b[0;34m,\u001b[0m \u001b[0mrequest\u001b[0m\u001b[0;34m=\u001b[0m\u001b[0mrequest\u001b[0m\u001b[0;34m)\u001b[0m\u001b[0;34m\u001b[0m\u001b[0m\n\u001b[1;32m    498\u001b[0m             \u001b[0;32melif\u001b[0m \u001b[0misinstance\u001b[0m\u001b[0;34m(\u001b[0m\u001b[0me\u001b[0m\u001b[0;34m,\u001b[0m \u001b[0mReadTimeoutError\u001b[0m\u001b[0;34m)\u001b[0m\u001b[0;34m:\u001b[0m\u001b[0;34m\u001b[0m\u001b[0m\n\u001b[0;32m--> 499\u001b[0;31m                 \u001b[0;32mraise\u001b[0m \u001b[0mReadTimeout\u001b[0m\u001b[0;34m(\u001b[0m\u001b[0me\u001b[0m\u001b[0;34m,\u001b[0m \u001b[0mrequest\u001b[0m\u001b[0;34m=\u001b[0m\u001b[0mrequest\u001b[0m\u001b[0;34m)\u001b[0m\u001b[0;34m\u001b[0m\u001b[0m\n\u001b[0m\u001b[1;32m    500\u001b[0m             \u001b[0;32melse\u001b[0m\u001b[0;34m:\u001b[0m\u001b[0;34m\u001b[0m\u001b[0m\n\u001b[1;32m    501\u001b[0m                 \u001b[0;32mraise\u001b[0m\u001b[0;34m\u001b[0m\u001b[0m\n",
      "\u001b[0;31mReadTimeout\u001b[0m: HTTPSConnectionPool(host='192.168.99.103', port=2376): Read timed out. (read timeout=60)"
     ]
    }
   ],
   "source": [
    "service = swnode2.services.list()[0]\n",
    "\n",
    "service.tasks()"
   ]
  },
  {
   "cell_type": "code",
   "execution_count": null,
   "metadata": {
    "collapsed": true
   },
   "outputs": [],
   "source": [
    "docker $(docker-machine config swnode1) ps"
   ]
  },
  {
   "cell_type": "code",
   "execution_count": null,
   "metadata": {
    "collapsed": true
   },
   "outputs": [],
   "source": [
    "docker $(docker-machine config swnode2) ps"
   ]
  },
  {
   "cell_type": "markdown",
   "metadata": {},
   "source": [
    "# Accessing the service\n",
    "\n",
    "As we are working remotely we need to create an ssh tunnel through to the swarm cluster to access our service, exposing the port 8080 on your local machine.\n",
    "\n",
    "We can obtain the ip address of the swarm master node as follows."
   ]
  },
  {
   "cell_type": "code",
   "execution_count": null,
   "metadata": {
    "collapsed": true
   },
   "outputs": [],
   "source": [
    "docker-machine ip swmaster"
   ]
  },
  {
   "cell_type": "markdown",
   "metadata": {},
   "source": [
    "So from a terminal on your laptop open the ssh tunnel to **YOUR USER@YOUR SERVER**"
   ]
  },
  {
   "cell_type": "markdown",
   "metadata": {},
   "source": [
    "MYSERVER=10.3.222.32\n",
    "MYUSER=group20\n",
    "\n",
    "e.g. ssh group20@10.3.222.32 -L 8080:192.168.99.114:8080 -Nv"
   ]
  },
  {
   "cell_type": "code",
   "execution_count": null,
   "metadata": {
    "collapsed": true
   },
   "outputs": [],
   "source": [
    "MYSERVER=10.3.222.32\n",
    "MYUSER=group20\n",
    "ssh ${MYUSER}@${MYSERVER} -L 8080:$(docker-machine ip swmaster):8080 -Nv"
   ]
  },
  {
   "cell_type": "markdown",
   "metadata": {},
   "source": [
    "Then open your web browser at the page http://localhost:8080 and you should see a lovely blue whale, as below:\n",
    "\n",
    "![](images/docker.png)\n"
   ]
  },
  {
   "cell_type": "markdown",
   "metadata": {},
   "source": [
    "# scale service\n",
    "\n",
    "Now we can scale the service to 3 replicas:"
   ]
  },
  {
   "cell_type": "code",
   "execution_count": null,
   "metadata": {
    "collapsed": true
   },
   "outputs": [],
   "source": [
    "docker $(docker-machine config swmaster) service scale docker-demo=3"
   ]
  },
  {
   "cell_type": "code",
   "execution_count": null,
   "metadata": {
    "collapsed": true
   },
   "outputs": [],
   "source": [
    "docker $(docker-machine config swmaster) service ps docker-demo"
   ]
  },
  {
   "cell_type": "markdown",
   "metadata": {},
   "source": [
    "# rolling-update\n",
    "\n",
    "Now we will see how we can perform a rolling update.\n",
    "\n",
    "We initially deployed version 20 of the service, now we will upgrade our whole cluster to version 20 \n"
   ]
  },
  {
   "cell_type": "code",
   "execution_count": null,
   "metadata": {
    "collapsed": true
   },
   "outputs": [],
   "source": [
    "docker $(docker-machine config swmaster) service ps docker-demo"
   ]
  },
  {
   "cell_type": "code",
   "execution_count": null,
   "metadata": {
    "collapsed": true
   },
   "outputs": [],
   "source": [
    "docker $(docker-machine config swmaster) service update --image mariolet/docker-demo:21 docker-demo"
   ]
  },
  {
   "cell_type": "code",
   "execution_count": null,
   "metadata": {
    "collapsed": true
   },
   "outputs": [],
   "source": [
    "docker $(docker-machine config swmaster) service ps docker-demo"
   ]
  },
  {
   "cell_type": "code",
   "execution_count": null,
   "metadata": {
    "collapsed": true
   },
   "outputs": [],
   "source": [
    "docker $(docker-machine config swmaster) service ps docker-demo"
   ]
  },
  {
   "cell_type": "markdown",
   "metadata": {},
   "source": [
    "### Verifying the service has been updated\n",
    "\n",
    "Then open your web browser at the page http://localhost:8080 and you should now see a lovely **red** whale.\n",
    "\n",
    "\n",
    "![](images/docker_red.png)\n",
    "\n"
   ]
  },
  {
   "cell_type": "markdown",
   "metadata": {},
   "source": [
    "# drain a node\n",
    "\n",
    "We can drain a node effectively placing it in 'maintenance mode'.\n",
    "\n",
    "Draining a node means that it no longer has running tasks on it."
   ]
  },
  {
   "cell_type": "code",
   "execution_count": null,
   "metadata": {
    "collapsed": true
   },
   "outputs": [],
   "source": [
    "docker $(docker-machine config swmaster) node ls"
   ]
  },
  {
   "cell_type": "markdown",
   "metadata": {},
   "source": [
    "Let's drain swnode1"
   ]
  },
  {
   "cell_type": "code",
   "execution_count": null,
   "metadata": {
    "collapsed": true
   },
   "outputs": [],
   "source": [
    "docker $(docker-machine config swmaster) service ps docker-demo"
   ]
  },
  {
   "cell_type": "code",
   "execution_count": null,
   "metadata": {
    "collapsed": true
   },
   "outputs": [],
   "source": [
    "docker $(docker-machine config swmaster) node update --availability drain swnode1"
   ]
  },
  {
   "cell_type": "markdown",
   "metadata": {},
   "source": [
    "and now we see that all services on swnode1 are shutdown"
   ]
  },
  {
   "cell_type": "code",
   "execution_count": null,
   "metadata": {
    "collapsed": true
   },
   "outputs": [],
   "source": [
    "docker $(docker-machine config swmaster) service ps docker-demo"
   ]
  },
  {
   "cell_type": "code",
   "execution_count": null,
   "metadata": {
    "collapsed": true
   },
   "outputs": [],
   "source": [
    "docker $(docker-machine config swmaster) service ps docker-demo"
   ]
  },
  {
   "cell_type": "markdown",
   "metadata": {},
   "source": [
    "# remove a service\n",
    "\n",
    "Now let's cleanup by removing our service"
   ]
  },
  {
   "cell_type": "code",
   "execution_count": null,
   "metadata": {
    "collapsed": true
   },
   "outputs": [],
   "source": [
    "docker $(docker-machine config swmaster) service rm docker-demo"
   ]
  },
  {
   "cell_type": "markdown",
   "metadata": {},
   "source": [
    "We can check that the service is no longer running:"
   ]
  },
  {
   "cell_type": "code",
   "execution_count": null,
   "metadata": {
    "collapsed": true
   },
   "outputs": [],
   "source": [
    "docker $(docker-machine config swmaster) service ps docker-demo"
   ]
  },
  {
   "cell_type": "code",
   "execution_count": null,
   "metadata": {
    "collapsed": true
   },
   "outputs": [],
   "source": [
    "docker $(docker-machine config swmaster) ps"
   ]
  },
  {
   "cell_type": "code",
   "execution_count": null,
   "metadata": {
    "collapsed": true
   },
   "outputs": [],
   "source": []
  }
 ],
 "metadata": {
  "anaconda-cloud": {},
  "kernelspec": {
   "display_name": "Python 3",
   "language": "python",
   "name": "python3"
  },
  "language_info": {
   "codemirror_mode": {
    "name": "ipython",
    "version": 3
   },
   "file_extension": ".py",
   "mimetype": "text/x-python",
   "name": "python",
   "nbconvert_exporter": "python",
   "pygments_lexer": "ipython3",
   "version": "3.6.1"
  }
 },
 "nbformat": 4,
 "nbformat_minor": 1
}
